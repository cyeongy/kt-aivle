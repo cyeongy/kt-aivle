{
 "cells": [
  {
   "cell_type": "markdown",
   "id": "e666a34a",
   "metadata": {
    "id": "e666a34a",
    "pycharm": {
     "name": "#%% md\n"
    }
   },
   "source": [
    "# 안녕하세요^^ \n",
    "# AIVLE 미니 프로젝트3차 팀 미션입니다. \n",
    "# 주어진 문제를 잘 읽고 해결하시길 바랍니다.\n"
   ]
  },
  {
   "cell_type": "markdown",
   "source": [
    "## 올레TV 예능 콘텐츠 중 하나인 프로그램 \"코미디빅리그\"의 영상을 분석하고 코너를 분류하는 AI 모델을 만들어 보세요.\n",
    "\n",
    "\"코미디빅리그\" 는 tvN에서 방영 중인 서바이벌 형식의 공개 코미디 프로그램으로 3개월 단위로 인기 코너를 선정하는 방식인 쿼제를 도입하고 있다. \n",
    "이번 과제는 2022년 1쿼터(1~3월) 방영분 중 2월 방영한 3편을 학습 데이터로 하여 3월 방송의 코너 구간을 추출해내는 것입니다.\n",
    "\n",
    "아래의 조건들을 참고하여 문제를 해결하세요.\n",
    "> - 주어진 데이터 ( Train 데이터 :  2월 방영분 3편 / Test 데이터 : 3월 방영분 1편 )\n",
    "> - 제출 파일은 <font color=\"red\">.ipynb 파일</font>과  조에서 각 과정마다 문제 해결을 위해 진행한 방법을 정리한 <font color=\"red\">발표자료(.pptx)</font>를 포함히여 제출합니다.<br> \n",
    "①데이터 분석 및 학습데이터 생성, ②데이터 전처리, ③AI 모델링(아키텍처, 성능비교), ④분류 결과 <br> \n",
    "※ 각 과정은 문제 해결 방법에 따라 변경 가능<br><br>\n",
    "> <b>제출 파일( 압축파일명 : [팀]미니프로젝트3차_AI 0반_00조.zip) </b> <br>\n",
    ">> ① 코드 : [팀]미니프로젝트3차_AI 0반_00조.ipynb <br>\n",
    ">> ② 발표자료 : [팀]미니프로젝트3차_AI 0반 00조.pptx <br>\n",
    "\n",
    "\n"
   ],
   "metadata": {
    "id": "vgM-ARIZMs-P",
    "pycharm": {
     "name": "#%% md\n"
    }
   },
   "id": "vgM-ARIZMs-P"
  },
  {
   "cell_type": "markdown",
   "source": [
    "---"
   ],
   "metadata": {
    "id": "1xS7YAWi-fjE",
    "pycharm": {
     "name": "#%% md\n"
    }
   },
   "id": "1xS7YAWi-fjE"
  },
  {
   "cell_type": "markdown",
   "metadata": {
    "id": "bmJTTGUePbmU",
    "pycharm": {
     "name": "#%% md\n"
    }
   },
   "source": [
    "# 0. 환경 설정하기"
   ],
   "id": "bmJTTGUePbmU"
  },
  {
   "cell_type": "markdown",
   "source": [
    "### 1) 구글 드라이브 연결하기"
   ],
   "metadata": {
    "id": "hdnPPzGpfwSU",
    "pycharm": {
     "name": "#%% md\n"
    }
   },
   "id": "hdnPPzGpfwSU"
  },
  {
   "cell_type": "code",
   "source": [
    "# 코랩 사용 시 구글 드라이브 연결\n",
    "from google.colab import drive\n",
    "drive.mount('/content/drive')"
   ],
   "metadata": {
    "id": "0yJHSX-HG6zY",
    "colab": {
     "base_uri": "https://localhost:8080/"
    },
    "executionInfo": {
     "status": "ok",
     "timestamp": 1664327157229,
     "user_tz": -540,
     "elapsed": 21817,
     "user": {
      "displayName": "YeongYun Choe",
      "userId": "06153248345011854310"
     }
    },
    "outputId": "8e6c9098-3c39-440a-af6f-04aa27172ac1",
    "pycharm": {
     "name": "#%%\n"
    }
   },
   "execution_count": 1,
   "outputs": [
    {
     "output_type": "stream",
     "name": "stdout",
     "text": [
      "Mounted at /content/drive\n"
     ]
    }
   ],
   "id": "0yJHSX-HG6zY"
  },
  {
   "cell_type": "markdown",
   "source": [
    "### 2) 경로 확인하기"
   ],
   "metadata": {
    "id": "usTpsab1PeyX",
    "pycharm": {
     "name": "#%% md\n"
    }
   },
   "id": "usTpsab1PeyX"
  },
  {
   "cell_type": "code",
   "source": [
    "# ROOT_PATH 확인 \n",
    "import os\n",
    "\n",
    "if os.getcwd() == '/content' :\n",
    "  # 구글 드라이브 사용 시 \n",
    "  ROOT_PATH = \"/content/drive/MyDrive/AIVLE_3rd[Team]\"\n",
    "else :\n",
    "  ROOT_PATH = os.path.abspath('..')\n",
    "\n",
    "# 비디오 파일이 저장되어 있는 폴더\n",
    "VIDEO_PATH = os.path.join(ROOT_PATH, 'video')\n",
    "\n",
    "# 모델 학습을 위한 데이터 \n",
    "TRAIN_PATH =  os.path.join(ROOT_PATH, \"train\")\n",
    "# 모델 예측을 위한 test 데이터\n",
    "TEST_PATH =  os.path.join(ROOT_PATH, \"test\")"
   ],
   "metadata": {
    "id": "OO4KjSIPBUse",
    "executionInfo": {
     "status": "ok",
     "timestamp": 1664327157230,
     "user_tz": -540,
     "elapsed": 3,
     "user": {
      "displayName": "YeongYun Choe",
      "userId": "06153248345011854310"
     }
    },
    "pycharm": {
     "name": "#%%\n"
    }
   },
   "execution_count": 2,
   "outputs": [],
   "id": "OO4KjSIPBUse"
  },
  {
   "cell_type": "code",
   "execution_count": 17,
   "outputs": [
    {
     "ename": "AttributeError",
     "evalue": "'str' object has no attribute 'isInstance'",
     "output_type": "error",
     "traceback": [
      "\u001B[1;31m---------------------------------------------------------------------------\u001B[0m",
      "\u001B[1;31mAttributeError\u001B[0m                            Traceback (most recent call last)",
      "Input \u001B[1;32mIn [17]\u001B[0m, in \u001B[0;36m<cell line: 1>\u001B[1;34m()\u001B[0m\n\u001B[1;32m----> 1\u001B[0m \u001B[43mVIDEO_PATH\u001B[49m\u001B[38;5;241;43m.\u001B[39;49m\u001B[43misInstance\u001B[49m(os\u001B[38;5;241m.\u001B[39mpath)\n",
      "\u001B[1;31mAttributeError\u001B[0m: 'str' object has no attribute 'isInstance'"
     ]
    }
   ],
   "source": [],
   "metadata": {
    "collapsed": false,
    "pycharm": {
     "name": "#%%\n"
    }
   }
  },
  {
   "cell_type": "markdown",
   "source": [
    "### 3) 영상 데이터 다운로드하기\n",
    "아래 코드를 실행하세요."
   ],
   "metadata": {
    "id": "Yymw4IglPpS_",
    "pycharm": {
     "name": "#%% md\n"
    }
   },
   "id": "Yymw4IglPpS_"
  },
  {
   "cell_type": "code",
   "source": [
    "# test data 다운로드\n",
    "!pip install gdown\n",
    "\n",
    "import gdown\n",
    "import shutil\n",
    "\n",
    "google_path = 'https://drive.google.com/uc?id='\n",
    "file_id = \"1p4up6pPd0NqUIaf6mlc2mq12r6NYGDOI\"\n",
    "output_name = 'video.zip'\n",
    "\n",
    "gdown.download(google_path+file_id,output_name,quiet=False)\n",
    "\n",
    "shutil.move(\"./\" + output_name, ROOT_PATH)\n",
    "\n",
    "import zipfile\n",
    "\n",
    "with zipfile.ZipFile(ROOT_PATH + \"/video.zip\") as z:\n",
    "    z.extractall(ROOT_PATH)\n"
   ],
   "metadata": {
    "id": "iCIYLidiPojw",
    "colab": {
     "base_uri": "https://localhost:8080/",
     "height": 914
    },
    "executionInfo": {
     "status": "error",
     "timestamp": 1664327217301,
     "user_tz": -540,
     "elapsed": 5913,
     "user": {
      "displayName": "YeongYun Choe",
      "userId": "06153248345011854310"
     }
    },
    "outputId": "df8ef936-343e-4a21-c0d5-569a6a769afe",
    "pycharm": {
     "name": "#%%\n"
    }
   },
   "id": "iCIYLidiPojw",
   "execution_count": 5,
   "outputs": [
    {
     "output_type": "stream",
     "name": "stdout",
     "text": [
      "Looking in indexes: https://pypi.org/simple, https://us-python.pkg.dev/colab-wheels/public/simple/\n",
      "Requirement already satisfied: gdown in /usr/local/lib/python3.7/dist-packages (4.4.0)\n",
      "Requirement already satisfied: requests[socks] in /usr/local/lib/python3.7/dist-packages (from gdown) (2.23.0)\n",
      "Requirement already satisfied: beautifulsoup4 in /usr/local/lib/python3.7/dist-packages (from gdown) (4.6.3)\n",
      "Requirement already satisfied: six in /usr/local/lib/python3.7/dist-packages (from gdown) (1.15.0)\n",
      "Requirement already satisfied: filelock in /usr/local/lib/python3.7/dist-packages (from gdown) (3.8.0)\n",
      "Requirement already satisfied: tqdm in /usr/local/lib/python3.7/dist-packages (from gdown) (4.64.1)\n",
      "Requirement already satisfied: chardet<4,>=3.0.2 in /usr/local/lib/python3.7/dist-packages (from requests[socks]->gdown) (3.0.4)\n",
      "Requirement already satisfied: idna<3,>=2.5 in /usr/local/lib/python3.7/dist-packages (from requests[socks]->gdown) (2.10)\n",
      "Requirement already satisfied: certifi>=2017.4.17 in /usr/local/lib/python3.7/dist-packages (from requests[socks]->gdown) (2022.6.15)\n",
      "Requirement already satisfied: urllib3!=1.25.0,!=1.25.1,<1.26,>=1.21.1 in /usr/local/lib/python3.7/dist-packages (from requests[socks]->gdown) (1.24.3)\n",
      "Requirement already satisfied: PySocks!=1.5.7,>=1.5.6 in /usr/local/lib/python3.7/dist-packages (from requests[socks]->gdown) (1.7.1)\n",
      "Access denied with the following error:\n"
     ]
    },
    {
     "output_type": "stream",
     "name": "stderr",
     "text": [
      "\n",
      " \tToo many users have viewed or downloaded this file recently. Please\n",
      "\ttry accessing the file again later. If the file you are trying to\n",
      "\taccess is particularly large or is shared with many people, it may\n",
      "\ttake up to 24 hours to be able to view or download the file. If you\n",
      "\tstill can't access a file after 24 hours, contact your domain\n",
      "\tadministrator. \n",
      "\n",
      "You may still be able to access the file from the browser:\n",
      "\n",
      "\t https://drive.google.com/uc?id=1p4up6pPd0NqUIaf6mlc2mq12r6NYGDOI \n",
      "\n"
     ]
    },
    {
     "output_type": "error",
     "ename": "FileNotFoundError",
     "evalue": "ignored",
     "traceback": [
      "\u001B[0;31m---------------------------------------------------------------------------\u001B[0m",
      "\u001B[0;31mOSError\u001B[0m                                   Traceback (most recent call last)",
      "\u001B[0;32m/usr/lib/python3.7/shutil.py\u001B[0m in \u001B[0;36mmove\u001B[0;34m(src, dst, copy_function)\u001B[0m\n\u001B[1;32m    565\u001B[0m     \u001B[0;32mtry\u001B[0m\u001B[0;34m:\u001B[0m\u001B[0;34m\u001B[0m\u001B[0;34m\u001B[0m\u001B[0m\n\u001B[0;32m--> 566\u001B[0;31m         \u001B[0mos\u001B[0m\u001B[0;34m.\u001B[0m\u001B[0mrename\u001B[0m\u001B[0;34m(\u001B[0m\u001B[0msrc\u001B[0m\u001B[0;34m,\u001B[0m \u001B[0mreal_dst\u001B[0m\u001B[0;34m)\u001B[0m\u001B[0;34m\u001B[0m\u001B[0;34m\u001B[0m\u001B[0m\n\u001B[0m\u001B[1;32m    567\u001B[0m     \u001B[0;32mexcept\u001B[0m \u001B[0mOSError\u001B[0m\u001B[0;34m:\u001B[0m\u001B[0;34m\u001B[0m\u001B[0;34m\u001B[0m\u001B[0m\n",
      "\u001B[0;31mOSError\u001B[0m: [Errno 18] Invalid cross-device link: './video.zip' -> '/content/drive/MyDrive/AIVLE_3rd[Team]'",
      "\nDuring handling of the above exception, another exception occurred:\n",
      "\u001B[0;31mFileNotFoundError\u001B[0m                         Traceback (most recent call last)",
      "\u001B[0;32m<ipython-input-5-f636af116c29>\u001B[0m in \u001B[0;36m<module>\u001B[0;34m\u001B[0m\n\u001B[1;32m     11\u001B[0m \u001B[0mgdown\u001B[0m\u001B[0;34m.\u001B[0m\u001B[0mdownload\u001B[0m\u001B[0;34m(\u001B[0m\u001B[0mgoogle_path\u001B[0m\u001B[0;34m+\u001B[0m\u001B[0mfile_id\u001B[0m\u001B[0;34m,\u001B[0m\u001B[0moutput_name\u001B[0m\u001B[0;34m,\u001B[0m\u001B[0mquiet\u001B[0m\u001B[0;34m=\u001B[0m\u001B[0;32mFalse\u001B[0m\u001B[0;34m)\u001B[0m\u001B[0;34m\u001B[0m\u001B[0;34m\u001B[0m\u001B[0m\n\u001B[1;32m     12\u001B[0m \u001B[0;34m\u001B[0m\u001B[0m\n\u001B[0;32m---> 13\u001B[0;31m \u001B[0mshutil\u001B[0m\u001B[0;34m.\u001B[0m\u001B[0mmove\u001B[0m\u001B[0;34m(\u001B[0m\u001B[0;34m\"./\"\u001B[0m \u001B[0;34m+\u001B[0m \u001B[0moutput_name\u001B[0m\u001B[0;34m,\u001B[0m \u001B[0mROOT_PATH\u001B[0m\u001B[0;34m)\u001B[0m\u001B[0;34m\u001B[0m\u001B[0;34m\u001B[0m\u001B[0m\n\u001B[0m\u001B[1;32m     14\u001B[0m \u001B[0;34m\u001B[0m\u001B[0m\n\u001B[1;32m     15\u001B[0m \u001B[0;32mimport\u001B[0m \u001B[0mzipfile\u001B[0m\u001B[0;34m\u001B[0m\u001B[0;34m\u001B[0m\u001B[0m\n",
      "\u001B[0;32m/usr/lib/python3.7/shutil.py\u001B[0m in \u001B[0;36mmove\u001B[0;34m(src, dst, copy_function)\u001B[0m\n\u001B[1;32m    578\u001B[0m             \u001B[0mrmtree\u001B[0m\u001B[0;34m(\u001B[0m\u001B[0msrc\u001B[0m\u001B[0;34m)\u001B[0m\u001B[0;34m\u001B[0m\u001B[0;34m\u001B[0m\u001B[0m\n\u001B[1;32m    579\u001B[0m         \u001B[0;32melse\u001B[0m\u001B[0;34m:\u001B[0m\u001B[0;34m\u001B[0m\u001B[0;34m\u001B[0m\u001B[0m\n\u001B[0;32m--> 580\u001B[0;31m             \u001B[0mcopy_function\u001B[0m\u001B[0;34m(\u001B[0m\u001B[0msrc\u001B[0m\u001B[0;34m,\u001B[0m \u001B[0mreal_dst\u001B[0m\u001B[0;34m)\u001B[0m\u001B[0;34m\u001B[0m\u001B[0;34m\u001B[0m\u001B[0m\n\u001B[0m\u001B[1;32m    581\u001B[0m             \u001B[0mos\u001B[0m\u001B[0;34m.\u001B[0m\u001B[0munlink\u001B[0m\u001B[0;34m(\u001B[0m\u001B[0msrc\u001B[0m\u001B[0;34m)\u001B[0m\u001B[0;34m\u001B[0m\u001B[0;34m\u001B[0m\u001B[0m\n\u001B[1;32m    582\u001B[0m     \u001B[0;32mreturn\u001B[0m \u001B[0mreal_dst\u001B[0m\u001B[0;34m\u001B[0m\u001B[0;34m\u001B[0m\u001B[0m\n",
      "\u001B[0;32m/usr/lib/python3.7/shutil.py\u001B[0m in \u001B[0;36mcopy2\u001B[0;34m(src, dst, follow_symlinks)\u001B[0m\n\u001B[1;32m    264\u001B[0m     \u001B[0;32mif\u001B[0m \u001B[0mos\u001B[0m\u001B[0;34m.\u001B[0m\u001B[0mpath\u001B[0m\u001B[0;34m.\u001B[0m\u001B[0misdir\u001B[0m\u001B[0;34m(\u001B[0m\u001B[0mdst\u001B[0m\u001B[0;34m)\u001B[0m\u001B[0;34m:\u001B[0m\u001B[0;34m\u001B[0m\u001B[0;34m\u001B[0m\u001B[0m\n\u001B[1;32m    265\u001B[0m         \u001B[0mdst\u001B[0m \u001B[0;34m=\u001B[0m \u001B[0mos\u001B[0m\u001B[0;34m.\u001B[0m\u001B[0mpath\u001B[0m\u001B[0;34m.\u001B[0m\u001B[0mjoin\u001B[0m\u001B[0;34m(\u001B[0m\u001B[0mdst\u001B[0m\u001B[0;34m,\u001B[0m \u001B[0mos\u001B[0m\u001B[0;34m.\u001B[0m\u001B[0mpath\u001B[0m\u001B[0;34m.\u001B[0m\u001B[0mbasename\u001B[0m\u001B[0;34m(\u001B[0m\u001B[0msrc\u001B[0m\u001B[0;34m)\u001B[0m\u001B[0;34m)\u001B[0m\u001B[0;34m\u001B[0m\u001B[0;34m\u001B[0m\u001B[0m\n\u001B[0;32m--> 266\u001B[0;31m     \u001B[0mcopyfile\u001B[0m\u001B[0;34m(\u001B[0m\u001B[0msrc\u001B[0m\u001B[0;34m,\u001B[0m \u001B[0mdst\u001B[0m\u001B[0;34m,\u001B[0m \u001B[0mfollow_symlinks\u001B[0m\u001B[0;34m=\u001B[0m\u001B[0mfollow_symlinks\u001B[0m\u001B[0;34m)\u001B[0m\u001B[0;34m\u001B[0m\u001B[0;34m\u001B[0m\u001B[0m\n\u001B[0m\u001B[1;32m    267\u001B[0m     \u001B[0mcopystat\u001B[0m\u001B[0;34m(\u001B[0m\u001B[0msrc\u001B[0m\u001B[0;34m,\u001B[0m \u001B[0mdst\u001B[0m\u001B[0;34m,\u001B[0m \u001B[0mfollow_symlinks\u001B[0m\u001B[0;34m=\u001B[0m\u001B[0mfollow_symlinks\u001B[0m\u001B[0;34m)\u001B[0m\u001B[0;34m\u001B[0m\u001B[0;34m\u001B[0m\u001B[0m\n\u001B[1;32m    268\u001B[0m     \u001B[0;32mreturn\u001B[0m \u001B[0mdst\u001B[0m\u001B[0;34m\u001B[0m\u001B[0;34m\u001B[0m\u001B[0m\n",
      "\u001B[0;32m/usr/lib/python3.7/shutil.py\u001B[0m in \u001B[0;36mcopyfile\u001B[0;34m(src, dst, follow_symlinks)\u001B[0m\n\u001B[1;32m    118\u001B[0m         \u001B[0mos\u001B[0m\u001B[0;34m.\u001B[0m\u001B[0msymlink\u001B[0m\u001B[0;34m(\u001B[0m\u001B[0mos\u001B[0m\u001B[0;34m.\u001B[0m\u001B[0mreadlink\u001B[0m\u001B[0;34m(\u001B[0m\u001B[0msrc\u001B[0m\u001B[0;34m)\u001B[0m\u001B[0;34m,\u001B[0m \u001B[0mdst\u001B[0m\u001B[0;34m)\u001B[0m\u001B[0;34m\u001B[0m\u001B[0;34m\u001B[0m\u001B[0m\n\u001B[1;32m    119\u001B[0m     \u001B[0;32melse\u001B[0m\u001B[0;34m:\u001B[0m\u001B[0;34m\u001B[0m\u001B[0;34m\u001B[0m\u001B[0m\n\u001B[0;32m--> 120\u001B[0;31m         \u001B[0;32mwith\u001B[0m \u001B[0mopen\u001B[0m\u001B[0;34m(\u001B[0m\u001B[0msrc\u001B[0m\u001B[0;34m,\u001B[0m \u001B[0;34m'rb'\u001B[0m\u001B[0;34m)\u001B[0m \u001B[0;32mas\u001B[0m \u001B[0mfsrc\u001B[0m\u001B[0;34m:\u001B[0m\u001B[0;34m\u001B[0m\u001B[0;34m\u001B[0m\u001B[0m\n\u001B[0m\u001B[1;32m    121\u001B[0m             \u001B[0;32mwith\u001B[0m \u001B[0mopen\u001B[0m\u001B[0;34m(\u001B[0m\u001B[0mdst\u001B[0m\u001B[0;34m,\u001B[0m \u001B[0;34m'wb'\u001B[0m\u001B[0;34m)\u001B[0m \u001B[0;32mas\u001B[0m \u001B[0mfdst\u001B[0m\u001B[0;34m:\u001B[0m\u001B[0;34m\u001B[0m\u001B[0;34m\u001B[0m\u001B[0m\n\u001B[1;32m    122\u001B[0m                 \u001B[0mcopyfileobj\u001B[0m\u001B[0;34m(\u001B[0m\u001B[0mfsrc\u001B[0m\u001B[0;34m,\u001B[0m \u001B[0mfdst\u001B[0m\u001B[0;34m)\u001B[0m\u001B[0;34m\u001B[0m\u001B[0;34m\u001B[0m\u001B[0m\n",
      "\u001B[0;31mFileNotFoundError\u001B[0m: [Errno 2] No such file or directory: './video.zip'"
     ]
    }
   ]
  },
  {
   "cell_type": "markdown",
   "source": [
    "# 미니프로젝트 3차 팀 미션 지금부터 시작하세요!"
   ],
   "metadata": {
    "id": "_AHEzMDVBd7K",
    "pycharm": {
     "name": "#%% md\n"
    }
   },
   "id": "_AHEzMDVBd7K"
  },
  {
   "cell_type": "code",
   "source": [
    "# 여기에서부터 입력하세요.\n",
    "\n",
    "import cv2\n",
    "\n",
    "def Load_image(image_path):\n",
    "    \"\"\"\n",
    "    이미지를 불러오는 함수, 이미지(확장자 존재 .jpg, .png)를 입력\n",
    "    :param image_path: 이미지  경로\n",
    "    :return: 이미지\n",
    "    \"\"\"\n",
    "    import cv2\n",
    "    image = cv2.imread(image_path, cv2.IMREAD_UNCHANGED)\n",
    "    return image\n",
    "\n",
    "def Cropping_image(image, title = True):\n",
    "    \"\"\"\n",
    "    이미지를 크롭하는 함수\n",
    "    :param image: 원본 이미지\n",
    "    :param title: 코미디빅리그 타이틀 포함 유무, 기본은 포함\n",
    "    :return: image: 크롭 된 이미지:cv2(BGR)\n",
    "    \"\"\"\n",
    "    if title:\n",
    "        _image = image[0:120, 0:200]\n",
    "        pass\n",
    "    else:\n",
    "        _image = image[58:58+17, 50:50+95]\n",
    "        pass\n",
    "    return _image"
   ],
   "metadata": {
    "id": "yjhDnP89VLjW",
    "pycharm": {
     "name": "#%%\n"
    }
   },
   "execution_count": 28,
   "outputs": [],
   "id": "yjhDnP89VLjW"
  },
  {
   "cell_type": "code",
   "execution_count": 10,
   "outputs": [],
   "source": [
    "import cv2\n",
    "import numpy as np\n",
    "import matplotlib.pyplot as plt\n",
    "%matplotlib inline\n",
    "\n",
    "train_path = os.path.join(VIDEO_PATH, 'train')\n",
    "video = cv2.VideoCapture(os.path.join(train_path, '220206.mp4'))\n",
    "\n",
    "count = 0\n",
    "while video.isOpened():\n",
    "    ret, img = video.read()\n",
    "    if ret:\n",
    "        if (video.get(cv2.CAP_PROP_POS_MSEC) / 1000).is_integer():\n",
    "            cv2.imwrite(os.path.join(TRAIN_PATH, f'{count}.jpg'), img)\n",
    "            count += 1\n",
    "    else:\n",
    "        break\n",
    "video.release()"
   ],
   "metadata": {
    "collapsed": false,
    "pycharm": {
     "name": "#%%\n"
    }
   }
  },
  {
   "cell_type": "code",
   "execution_count": 14,
   "outputs": [
    {
     "data": {
      "text/plain": "'C:\\\\Users\\\\allsa\\\\kt-aivle\\\\mini_project3\\\\train'"
     },
     "execution_count": 14,
     "metadata": {},
     "output_type": "execute_result"
    }
   ],
   "source": [
    "TRAIN_PATH"
   ],
   "metadata": {
    "collapsed": false,
    "pycharm": {
     "name": "#%%\n"
    }
   }
  },
  {
   "cell_type": "code",
   "execution_count": 55,
   "outputs": [
    {
     "data": {
      "text/plain": "'C:\\\\Users\\\\allsa\\\\kt-aivle\\\\미니프로젝트3\\\\train\\\\8.jpg'"
     },
     "execution_count": 55,
     "metadata": {},
     "output_type": "execute_result"
    }
   ],
   "source": [
    "count +=1\n",
    "os.path.join(TRAIN_PATH, f'{count}.jpg')"
   ],
   "metadata": {
    "collapsed": false,
    "pycharm": {
     "name": "#%%\n"
    }
   }
  },
  {
   "cell_type": "code",
   "execution_count": 13,
   "outputs": [
    {
     "data": {
      "text/plain": "True"
     },
     "execution_count": 13,
     "metadata": {},
     "output_type": "execute_result"
    }
   ],
   "source": [
    "import glob\n",
    "\n",
    "os.path.isdir(os.path.join(TRAIN_PATH))"
   ],
   "metadata": {
    "collapsed": false,
    "pycharm": {
     "name": "#%%\n"
    }
   }
  },
  {
   "cell_type": "code",
   "execution_count": 30,
   "outputs": [
    {
     "ename": "error",
     "evalue": "OpenCV(4.6.0) :-1: error: (-5:Bad argument) in function 'imdecode'\n> Overload resolution failed:\n>  - buf is not a numpy array, neither a scalar\n>  - Expected Ptr<cv::UMat> for argument 'buf'\n",
     "output_type": "error",
     "traceback": [
      "\u001B[1;31m---------------------------------------------------------------------------\u001B[0m",
      "\u001B[1;31merror\u001B[0m                                     Traceback (most recent call last)",
      "Input \u001B[1;32mIn [30]\u001B[0m, in \u001B[0;36m<cell line: 2>\u001B[1;34m()\u001B[0m\n\u001B[0;32m      1\u001B[0m \u001B[38;5;28;01mimport\u001B[39;00m \u001B[38;5;21;01mos\u001B[39;00m\u001B[38;5;241m,\u001B[39m \u001B[38;5;21;01mnumpy\u001B[39;00m \u001B[38;5;28;01mas\u001B[39;00m \u001B[38;5;21;01mnp\u001B[39;00m\u001B[38;5;241m,\u001B[39m \u001B[38;5;21;01mcv2\u001B[39;00m\n\u001B[1;32m----> 2\u001B[0m image \u001B[38;5;241m=\u001B[39m \u001B[43mLoad_image\u001B[49m\u001B[43m(\u001B[49m\u001B[43mos\u001B[49m\u001B[38;5;241;43m.\u001B[39;49m\u001B[43mpath\u001B[49m\u001B[38;5;241;43m.\u001B[39;49m\u001B[43mjoin\u001B[49m\u001B[43m(\u001B[49m\u001B[43mTRAIN_PATH\u001B[49m\u001B[43m,\u001B[49m\u001B[43m \u001B[49m\u001B[38;5;124;43m'\u001B[39;49m\u001B[38;5;124;43m121.jpg\u001B[39;49m\u001B[38;5;124;43m'\u001B[39;49m\u001B[43m)\u001B[49m\u001B[43m)\u001B[49m\n",
      "Input \u001B[1;32mIn [28]\u001B[0m, in \u001B[0;36mLoad_image\u001B[1;34m(image_path)\u001B[0m\n\u001B[0;32m      6\u001B[0m \u001B[38;5;124;03m\"\"\"\u001B[39;00m\n\u001B[0;32m      7\u001B[0m \u001B[38;5;124;03m이미지를 불러오는 함수, 이미지(확장자 존재 .jpg, .png)를 입력\u001B[39;00m\n\u001B[0;32m      8\u001B[0m \u001B[38;5;124;03m:param image_path: 이미지  경로\u001B[39;00m\n\u001B[0;32m      9\u001B[0m \u001B[38;5;124;03m:return: 이미지\u001B[39;00m\n\u001B[0;32m     10\u001B[0m \u001B[38;5;124;03m\"\"\"\u001B[39;00m\n\u001B[0;32m     11\u001B[0m \u001B[38;5;28;01mimport\u001B[39;00m \u001B[38;5;21;01mcv2\u001B[39;00m\n\u001B[1;32m---> 12\u001B[0m image \u001B[38;5;241m=\u001B[39m \u001B[43mcv2\u001B[49m\u001B[38;5;241;43m.\u001B[39;49m\u001B[43mimdecode\u001B[49m\u001B[43m(\u001B[49m\u001B[43mimage_path\u001B[49m\u001B[43m,\u001B[49m\u001B[43m \u001B[49m\u001B[43mcv2\u001B[49m\u001B[38;5;241;43m.\u001B[39;49m\u001B[43mIMREAD_UNCHANGED\u001B[49m\u001B[43m)\u001B[49m\n\u001B[0;32m     13\u001B[0m \u001B[38;5;28;01mreturn\u001B[39;00m image\n",
      "\u001B[1;31merror\u001B[0m: OpenCV(4.6.0) :-1: error: (-5:Bad argument) in function 'imdecode'\n> Overload resolution failed:\n>  - buf is not a numpy array, neither a scalar\n>  - Expected Ptr<cv::UMat> for argument 'buf'\n"
     ]
    }
   ],
   "source": [
    "import os, numpy as np, cv2\n",
    "image = Load_image(os.path.join(TRAIN_PATH, '121.jpg'))"
   ],
   "metadata": {
    "collapsed": false,
    "pycharm": {
     "name": "#%%\n"
    }
   }
  },
  {
   "cell_type": "code",
   "execution_count": 31,
   "outputs": [],
   "source": [
    "cv2.imshow('test', Cropping_image(image, True))\n",
    "cv2.waitKey(0)\n",
    "cv2.destroyAllWindows()"
   ],
   "metadata": {
    "collapsed": false,
    "pycharm": {
     "name": "#%%\n"
    }
   }
  },
  {
   "cell_type": "code",
   "execution_count": 20,
   "outputs": [
    {
     "data": {
      "text/plain": "['C:\\\\Users\\\\allsa\\\\kt-aivle\\\\mini_project3\\\\train\\\\121.jpg']"
     },
     "execution_count": 20,
     "metadata": {},
     "output_type": "execute_result"
    }
   ],
   "source": [
    "images = glob.glob(os.path.join(TRAIN_PATH, '121.jpg'))"
   ],
   "metadata": {
    "collapsed": false,
    "pycharm": {
     "name": "#%%\n"
    }
   }
  },
  {
   "cell_type": "code",
   "execution_count": null,
   "outputs": [],
   "source": [],
   "metadata": {
    "collapsed": false,
    "pycharm": {
     "name": "#%%\n"
    }
   }
  }
 ],
 "metadata": {
  "kernelspec": {
   "display_name": "Python 3",
   "language": "python",
   "name": "python3"
  },
  "language_info": {
   "codemirror_mode": {
    "name": "ipython",
    "version": 3
   },
   "file_extension": ".py",
   "mimetype": "text/x-python",
   "name": "python",
   "nbconvert_exporter": "python",
   "pygments_lexer": "ipython3",
   "version": "3.8.8"
  },
  "colab": {
   "provenance": [],
   "collapsed_sections": []
  },
  "gpuClass": "standard"
 },
 "nbformat": 4,
 "nbformat_minor": 5
}