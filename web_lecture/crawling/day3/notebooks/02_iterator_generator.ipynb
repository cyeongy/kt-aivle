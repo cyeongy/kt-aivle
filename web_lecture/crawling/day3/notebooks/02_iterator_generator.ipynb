{
 "cells": [
  {
   "cell_type": "markdown",
   "id": "e60ed53e",
   "metadata": {},
   "source": [
    "- iterable : 순서가 있는 데이터 집합\n",
    "- iterator : next 함수를 실행시켜서 값을 생성하는 값 생성기\n",
    "- generator : iterator를 간단하게 구현한 문법"
   ]
  },
  {
   "cell_type": "code",
   "execution_count": 22,
   "id": "26c305dc",
   "metadata": {},
   "outputs": [],
   "source": [
    "# 이터레이터 만들기"
   ]
  },
  {
   "cell_type": "code",
   "execution_count": 23,
   "id": "9975032c",
   "metadata": {},
   "outputs": [],
   "source": [
    "iterator = iter([1, 2, 3])"
   ]
  },
  {
   "cell_type": "code",
   "execution_count": 24,
   "id": "51467bd9",
   "metadata": {},
   "outputs": [
    {
     "data": {
      "text/plain": "list_iterator"
     },
     "execution_count": 24,
     "metadata": {},
     "output_type": "execute_result"
    }
   ],
   "source": [
    "type(iterator)"
   ]
  },
  {
   "cell_type": "code",
   "execution_count": 25,
   "id": "df37f169",
   "metadata": {},
   "outputs": [
    {
     "data": {
      "text/plain": "1"
     },
     "execution_count": 25,
     "metadata": {},
     "output_type": "execute_result"
    }
   ],
   "source": [
    "next(iterator)"
   ]
  },
  {
   "cell_type": "code",
   "execution_count": 26,
   "id": "9b0561eb",
   "metadata": {},
   "outputs": [],
   "source": [
    "# 클래스로 이터레이터 만들기 : 피보나치 수열"
   ]
  },
  {
   "cell_type": "code",
   "execution_count": 27,
   "id": "f6a14eb3",
   "metadata": {},
   "outputs": [],
   "source": [
    "class Fib:\n",
    "    \n",
    "    def __init__(self):\n",
    "        self.prev = 0\n",
    "        self.curr = 1\n",
    "        \n",
    "    def __iter__(self):\n",
    "        return self\n",
    "    \n",
    "    def __next__(self):\n",
    "        value = self.curr\n",
    "        self.curr += self.prev\n",
    "        self.prev = value\n",
    "        return value"
   ]
  },
  {
   "cell_type": "code",
   "execution_count": 28,
   "id": "c6f09863",
   "metadata": {},
   "outputs": [],
   "source": [
    "# 0 1 1 2 3 5 8 13 .."
   ]
  },
  {
   "cell_type": "code",
   "execution_count": 29,
   "id": "56acf18f",
   "metadata": {},
   "outputs": [],
   "source": [
    "fib = Fib()"
   ]
  },
  {
   "cell_type": "code",
   "execution_count": 30,
   "id": "e034039a",
   "metadata": {},
   "outputs": [
    {
     "data": {
      "text/plain": "1"
     },
     "execution_count": 30,
     "metadata": {},
     "output_type": "execute_result"
    }
   ],
   "source": [
    "next(fib)"
   ]
  },
  {
   "cell_type": "code",
   "execution_count": 31,
   "id": "b32b9a6a",
   "metadata": {},
   "outputs": [],
   "source": [
    "# yield : 일반 함수를 제너레이터로 만들어주는 예약어"
   ]
  },
  {
   "cell_type": "code",
   "execution_count": 57,
   "id": "6b4e3adc",
   "metadata": {},
   "outputs": [],
   "source": [
    "def fib():\n",
    "    prev, curr = 0, 1\n",
    "    while True:\n",
    "        yield curr\n",
    "        prev, curr = curr, prev + curr"
   ]
  },
  {
   "cell_type": "code",
   "execution_count": 58,
   "id": "9942f2e9",
   "metadata": {},
   "outputs": [],
   "source": [
    "f = fib()"
   ]
  },
  {
   "cell_type": "code",
   "execution_count": 34,
   "id": "7cd7dd08",
   "metadata": {},
   "outputs": [
    {
     "data": {
      "text/plain": "1"
     },
     "execution_count": 34,
     "metadata": {},
     "output_type": "execute_result"
    }
   ],
   "source": [
    "next(f)"
   ]
  },
  {
   "cell_type": "code",
   "execution_count": 54,
   "id": "f4987f6d",
   "metadata": {},
   "outputs": [],
   "source": [
    "import time\n",
    "\n",
    "def test():\n",
    "    while True:\n",
    "        print(\"wait!\")\n",
    "        time.sleep(3)\n",
    "        print(\"start!\")\n",
    "        yield None"
   ]
  },
  {
   "cell_type": "code",
   "execution_count": 55,
   "id": "263148f6",
   "metadata": {},
   "outputs": [],
   "source": [
    "t = test()"
   ]
  },
  {
   "cell_type": "code",
   "execution_count": 56,
   "id": "6bc91abd",
   "metadata": {
    "pycharm": {
     "name": "#%%\n"
    }
   },
   "outputs": [
    {
     "name": "stdout",
     "output_type": "stream",
     "text": [
      "wait!\n",
      "start!\n",
      "wait!\n",
      "start!\n",
      "wait!\n",
      "start!\n",
      "wait!\n",
      "start!\n",
      "wait!\n",
      "start!\n"
     ]
    }
   ],
   "source": [
    "for _ in range(5):\n",
    "    next(test())\n",
    "\n",
    "\n"
   ]
  }
 ],
 "metadata": {
  "kernelspec": {
   "display_name": "Python 3 (ipykernel)",
   "language": "python",
   "name": "python3"
  },
  "language_info": {
   "codemirror_mode": {
    "name": "ipython",
    "version": 3
   },
   "file_extension": ".py",
   "mimetype": "text/x-python",
   "name": "python",
   "nbconvert_exporter": "python",
   "pygments_lexer": "ipython3",
   "version": "3.9.12"
  },
  "toc": {
   "base_numbering": 1,
   "nav_menu": {},
   "number_sections": false,
   "sideBar": true,
   "skip_h1_title": false,
   "title_cell": "Table of Contents",
   "title_sidebar": "Contents",
   "toc_cell": false,
   "toc_position": {},
   "toc_section_display": true,
   "toc_window_display": false
  }
 },
 "nbformat": 4,
 "nbformat_minor": 5
}