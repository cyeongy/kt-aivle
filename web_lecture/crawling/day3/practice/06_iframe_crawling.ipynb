{
 "cells": [
  {
   "cell_type": "code",
   "execution_count": 75,
   "metadata": {
    "collapsed": true
   },
   "outputs": [],
   "source": [
    "import pandas as pd\n",
    "from selenium import webdriver"
   ]
  },
  {
   "cell_type": "code",
   "execution_count": 76,
   "outputs": [],
   "source": [
    "url = 'https://cafe.naver.com/joonggonara.cafe'"
   ],
   "metadata": {
    "collapsed": false,
    "pycharm": {
     "name": "#%%\n"
    }
   }
  },
  {
   "cell_type": "markdown",
   "source": [
    "### 목표\n",
    "\n",
    "1. 웹브라우저 열기 및 페이지 이동\n",
    "2. 검색창에 \"맥북\" 입력 후 검색 버튼 클릭\n",
    "3. 게시글 목록 데이터 수집\n",
    "4. 웹브라우저 종료"
   ],
   "metadata": {
    "collapsed": false,
    "pycharm": {
     "name": "#%% md\n"
    }
   }
  },
  {
   "cell_type": "code",
   "execution_count": 77,
   "outputs": [],
   "source": [
    "# 1. 웹브라우저 열기 및 페이지 이동\n",
    "\n",
    "driver = webdriver.Chrome()\n",
    "driver.get(url)"
   ],
   "metadata": {
    "collapsed": false,
    "pycharm": {
     "name": "#%%\n"
    }
   }
  },
  {
   "cell_type": "code",
   "execution_count": 78,
   "outputs": [],
   "source": [
    "# 2. 검색창에 \"맥북\" 입력 후 검색 버튼 클릭\n",
    "\n",
    "keyword = \"맥북\"\n",
    "driver.find_element_by_id('topLayerQueryInput').clear()\n",
    "driver.find_element_by_id('topLayerQueryInput').send_keys(keyword)\n",
    "driver.execute_script('searchBoard();')"
   ],
   "metadata": {
    "collapsed": false,
    "pycharm": {
     "name": "#%%\n"
    }
   }
  },
  {
   "cell_type": "code",
   "execution_count": 79,
   "outputs": [
    {
     "data": {
      "text/plain": "0"
     },
     "execution_count": 79,
     "metadata": {},
     "output_type": "execute_result"
    }
   ],
   "source": [
    "# 3. 게시글 목록 데이터 수집\n",
    "\n",
    "\n",
    "elements = driver.find_elements_by_css_selector('.article-board > table > tbody > tr')\n",
    "len(elements)\n",
    "#%"
   ],
   "metadata": {
    "collapsed": false,
    "pycharm": {
     "name": "#%%\n"
    }
   }
  },
  {
   "cell_type": "code",
   "execution_count": 80,
   "outputs": [
    {
     "name": "stderr",
     "output_type": "stream",
     "text": [
      "/var/folders/r2/n1xdjd4n1s71yv30fr4vn6th0000gn/T/ipykernel_9237/477249727.py:4: DeprecationWarning: use driver.switch_to.frame instead\n",
      "  driver.switch_to_frame(iframe)\n"
     ]
    }
   ],
   "source": [
    "# 3-1. iframe 으로 driver 이동\n",
    "\n",
    "iframe = driver.find_element_by_id(\"cafe_main\")\n",
    "driver.switch_to_frame(iframe)"
   ],
   "metadata": {
    "collapsed": false,
    "pycharm": {
     "name": "#%%\n"
    }
   }
  },
  {
   "cell_type": "code",
   "execution_count": 81,
   "outputs": [
    {
     "data": {
      "text/plain": "15"
     },
     "execution_count": 81,
     "metadata": {},
     "output_type": "execute_result"
    }
   ],
   "source": [
    "# 3-2. 게시글 목록 데이터 수집\n",
    "elements = driver.find_elements_by_css_selector('.article-board > table > tbody > tr')\n",
    "len(elements)"
   ],
   "metadata": {
    "collapsed": false,
    "pycharm": {
     "name": "#%%\n"
    }
   }
  },
  {
   "cell_type": "code",
   "execution_count": 82,
   "outputs": [
    {
     "name": "stderr",
     "output_type": "stream",
     "text": [
      "/var/folders/r2/n1xdjd4n1s71yv30fr4vn6th0000gn/T/ipykernel_9237/3055108178.py:3: DeprecationWarning: use driver.switch_to.default_content instead\n",
      "  driver.switch_to_default_content()\n"
     ]
    },
    {
     "data": {
      "text/plain": "0"
     },
     "execution_count": 82,
     "metadata": {},
     "output_type": "execute_result"
    }
   ],
   "source": [
    "# 3-3. 원본 페이지로 driver 이동\n",
    "\n",
    "driver.switch_to_default_content()\n",
    "elements = driver.find_elements_by_css_selector('.article-board > table > tbody > tr')\n",
    "len(elements)"
   ],
   "metadata": {
    "collapsed": false,
    "pycharm": {
     "name": "#%%\n"
    }
   }
  },
  {
   "cell_type": "code",
   "execution_count": 83,
   "outputs": [
    {
     "name": "stderr",
     "output_type": "stream",
     "text": [
      "/var/folders/r2/n1xdjd4n1s71yv30fr4vn6th0000gn/T/ipykernel_9237/1246275037.py:1: DeprecationWarning: use driver.switch_to.frame instead\n",
      "  driver.switch_to_frame(iframe)\n"
     ]
    },
    {
     "data": {
      "text/plain": "                                        title       writer\n0      미개봉/새제품- 맥북 프로 16인치 max cto 모델 판매 합니다.     SSOOOOOZ\n1  2021 맥북프로 레티나 엠원 m1pro m1max 프로 맥스 14인치 판매  topontopcom\n2              맥북프로 13인치 20년형 / i7 / 32G / 1T       GM앵그리군\n3                      맥북프로 2016 부품용 으로 판매합니다     90735023\n4       [매입]고장난 맥북, 노트북, 컴퓨터 선입매입(개인.기업 대량매입)       다사요컴닥터",
      "text/html": "<div>\n<style scoped>\n    .dataframe tbody tr th:only-of-type {\n        vertical-align: middle;\n    }\n\n    .dataframe tbody tr th {\n        vertical-align: top;\n    }\n\n    .dataframe thead th {\n        text-align: right;\n    }\n</style>\n<table border=\"1\" class=\"dataframe\">\n  <thead>\n    <tr style=\"text-align: right;\">\n      <th></th>\n      <th>title</th>\n      <th>writer</th>\n    </tr>\n  </thead>\n  <tbody>\n    <tr>\n      <th>0</th>\n      <td>미개봉/새제품- 맥북 프로 16인치 max cto 모델 판매 합니다.</td>\n      <td>SSOOOOOZ</td>\n    </tr>\n    <tr>\n      <th>1</th>\n      <td>2021 맥북프로 레티나 엠원 m1pro m1max 프로 맥스 14인치 판매</td>\n      <td>topontopcom</td>\n    </tr>\n    <tr>\n      <th>2</th>\n      <td>맥북프로 13인치 20년형 / i7 / 32G / 1T</td>\n      <td>GM앵그리군</td>\n    </tr>\n    <tr>\n      <th>3</th>\n      <td>맥북프로 2016 부품용 으로 판매합니다</td>\n      <td>90735023</td>\n    </tr>\n    <tr>\n      <th>4</th>\n      <td>[매입]고장난 맥북, 노트북, 컴퓨터 선입매입(개인.기업 대량매입)</td>\n      <td>다사요컴닥터</td>\n    </tr>\n  </tbody>\n</table>\n</div>"
     },
     "execution_count": 83,
     "metadata": {},
     "output_type": "execute_result"
    }
   ],
   "source": [
    "driver.switch_to_frame(iframe)\n",
    "elements = driver.find_elements_by_css_selector('.article-board > table > tbody > tr')\n",
    "\n",
    "data = []\n",
    "for element in elements:\n",
    "    data.append({\n",
    "        \"title\": element.find_element_by_class_name('article').text,\n",
    "        \"writer\": element.find_element_by_class_name('p-nick').text,\n",
    "    })\n",
    "\n",
    "df = pd.DataFrame(data)\n",
    "df.head()"
   ],
   "metadata": {
    "collapsed": false,
    "pycharm": {
     "name": "#%%\n"
    }
   }
  },
  {
   "cell_type": "code",
   "execution_count": 84,
   "outputs": [],
   "source": [
    "driver.quit()"
   ],
   "metadata": {
    "collapsed": false,
    "pycharm": {
     "name": "#%%\n"
    }
   }
  },
  {
   "cell_type": "code",
   "execution_count": 87,
   "outputs": [
    {
     "name": "stderr",
     "output_type": "stream",
     "text": [
      "/var/folders/r2/n1xdjd4n1s71yv30fr4vn6th0000gn/T/ipykernel_9237/788844308.py:10: DeprecationWarning: use driver.switch_to.frame instead\n",
      "  driver.switch_to_frame(iframe)\n"
     ]
    },
    {
     "data": {
      "text/plain": "                                          title             writer\n0        미개봉/새제품- 맥북 프로 16인치 max cto 모델 판매 합니다.           SSOOOOOZ\n1    2021 맥북프로 레티나 엠원 m1pro m1max 프로 맥스 14인치 판매        topontopcom\n2                맥북프로 13인치 20년형 / i7 / 32G / 1T             GM앵그리군\n3                        맥북프로 2016 부품용 으로 판매합니다           90735023\n4         [매입]고장난 맥북, 노트북, 컴퓨터 선입매입(개인.기업 대량매입)             다사요컴닥터\n5   2021년 애플 맥북프로 16형 m1 pro 실버 판매 / 신용확실 (미개봉)          firstpray\n6          16인치 2021 맥북프로 레티나 m1MAX M1PRO S급 판매           FRANKCOM\n7        [매입] 5분내칼답장 24시간 이온2 플렉스북2 맥북 삼성 lg삽니다  다사요24 01058355451\n8        [판/교] 맥북프로 2009년 A1286 mid를 11\" 맥북 에어로                서글퍼\n9          [판매]맥북프로 2019 16인치 i7/16GB/512GB 풀박스              리퍼노트북\n10        [매입]고장난 맥북, 노트북, 컴퓨터 선입매입(개인.기업 대량매입)             다사요컴닥터\n11          [풀박] 애플 맥북프로 2019 인텔 16인치 2.3Ghz i9              낯선그림자\n12                      맥북프로 A1278 부품용 팝니다 2010               민규만세\n13          [매입]방송출연 전국 노트북 맥북 게이밍 아이맥 등 매입 삽니다               전자마켓\n14        14인치 M1PRO M1MAX 엠원프로 엠원맥스 맥북프로 애플노트북        topontopcom",
      "text/html": "<div>\n<style scoped>\n    .dataframe tbody tr th:only-of-type {\n        vertical-align: middle;\n    }\n\n    .dataframe tbody tr th {\n        vertical-align: top;\n    }\n\n    .dataframe thead th {\n        text-align: right;\n    }\n</style>\n<table border=\"1\" class=\"dataframe\">\n  <thead>\n    <tr style=\"text-align: right;\">\n      <th></th>\n      <th>title</th>\n      <th>writer</th>\n    </tr>\n  </thead>\n  <tbody>\n    <tr>\n      <th>0</th>\n      <td>미개봉/새제품- 맥북 프로 16인치 max cto 모델 판매 합니다.</td>\n      <td>SSOOOOOZ</td>\n    </tr>\n    <tr>\n      <th>1</th>\n      <td>2021 맥북프로 레티나 엠원 m1pro m1max 프로 맥스 14인치 판매</td>\n      <td>topontopcom</td>\n    </tr>\n    <tr>\n      <th>2</th>\n      <td>맥북프로 13인치 20년형 / i7 / 32G / 1T</td>\n      <td>GM앵그리군</td>\n    </tr>\n    <tr>\n      <th>3</th>\n      <td>맥북프로 2016 부품용 으로 판매합니다</td>\n      <td>90735023</td>\n    </tr>\n    <tr>\n      <th>4</th>\n      <td>[매입]고장난 맥북, 노트북, 컴퓨터 선입매입(개인.기업 대량매입)</td>\n      <td>다사요컴닥터</td>\n    </tr>\n    <tr>\n      <th>5</th>\n      <td>2021년 애플 맥북프로 16형 m1 pro 실버 판매 / 신용확실 (미개봉)</td>\n      <td>firstpray</td>\n    </tr>\n    <tr>\n      <th>6</th>\n      <td>16인치 2021 맥북프로 레티나 m1MAX M1PRO S급 판매</td>\n      <td>FRANKCOM</td>\n    </tr>\n    <tr>\n      <th>7</th>\n      <td>[매입] 5분내칼답장 24시간 이온2 플렉스북2 맥북 삼성 lg삽니다</td>\n      <td>다사요24 01058355451</td>\n    </tr>\n    <tr>\n      <th>8</th>\n      <td>[판/교] 맥북프로 2009년 A1286 mid를 11\" 맥북 에어로</td>\n      <td>서글퍼</td>\n    </tr>\n    <tr>\n      <th>9</th>\n      <td>[판매]맥북프로 2019 16인치 i7/16GB/512GB 풀박스</td>\n      <td>리퍼노트북</td>\n    </tr>\n    <tr>\n      <th>10</th>\n      <td>[매입]고장난 맥북, 노트북, 컴퓨터 선입매입(개인.기업 대량매입)</td>\n      <td>다사요컴닥터</td>\n    </tr>\n    <tr>\n      <th>11</th>\n      <td>[풀박] 애플 맥북프로 2019 인텔 16인치 2.3Ghz i9</td>\n      <td>낯선그림자</td>\n    </tr>\n    <tr>\n      <th>12</th>\n      <td>맥북프로 A1278 부품용 팝니다 2010</td>\n      <td>민규만세</td>\n    </tr>\n    <tr>\n      <th>13</th>\n      <td>[매입]방송출연 전국 노트북 맥북 게이밍 아이맥 등 매입 삽니다</td>\n      <td>전자마켓</td>\n    </tr>\n    <tr>\n      <th>14</th>\n      <td>14인치 M1PRO M1MAX 엠원프로 엠원맥스 맥북프로 애플노트북</td>\n      <td>topontopcom</td>\n    </tr>\n  </tbody>\n</table>\n</div>"
     },
     "execution_count": 87,
     "metadata": {},
     "output_type": "execute_result"
    }
   ],
   "source": [
    "with webdriver.Chrome() as driver:\n",
    "\n",
    "    driver.get(url)\n",
    "\n",
    "    driver.find_element_by_id('topLayerQueryInput').clear()\n",
    "    driver.find_element_by_id('topLayerQueryInput').send_keys(keyword)\n",
    "    driver.execute_script('searchBoard();')\n",
    "\n",
    "    iframe = driver.find_element_by_id(\"cafe_main\")\n",
    "    driver.switch_to_frame(iframe)\n",
    "\n",
    "    elements = driver.find_elements_by_css_selector('.article-board > table > tbody > tr')\n",
    "\n",
    "    data = []\n",
    "    for element in elements:\n",
    "        data.append({\n",
    "            \"title\": element.find_element_by_class_name('article').text,\n",
    "            \"writer\": element.find_element_by_class_name('p-nick').text,\n",
    "        })\n",
    "\n",
    "    new_df = pd.DataFrame(data)\n",
    "\n",
    "new_df\n"
   ],
   "metadata": {
    "collapsed": false,
    "pycharm": {
     "name": "#%%\n"
    }
   }
  },
  {
   "cell_type": "code",
   "execution_count": 85,
   "outputs": [],
   "source": [],
   "metadata": {
    "collapsed": false,
    "pycharm": {
     "name": "#%%\n"
    }
   }
  }
 ],
 "metadata": {
  "kernelspec": {
   "display_name": "Python 3",
   "language": "python",
   "name": "python3"
  },
  "language_info": {
   "codemirror_mode": {
    "name": "ipython",
    "version": 2
   },
   "file_extension": ".py",
   "mimetype": "text/x-python",
   "name": "python",
   "nbconvert_exporter": "python",
   "pygments_lexer": "ipython2",
   "version": "2.7.6"
  }
 },
 "nbformat": 4,
 "nbformat_minor": 0
}