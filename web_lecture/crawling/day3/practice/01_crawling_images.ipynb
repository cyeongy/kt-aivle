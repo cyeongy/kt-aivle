{
 "cells": [
  {
   "cell_type": "code",
   "execution_count": 1,
   "metadata": {
    "collapsed": true
   },
   "outputs": [],
   "source": [
    "import pandas as pd\n",
    "import requests, os"
   ]
  },
  {
   "cell_type": "code",
   "execution_count": 3,
   "outputs": [
    {
     "data": {
      "text/plain": "                                     title  o_price  s_price  \\\n0         3900원 균일가 시즌오프 블라우스/티셔츠/원피스/팬츠 外  13,000원   3,900원   \n1                           청정우 양지 300gX3팩  31,800원  15,900원   \n2           [한상궁김치]한상궁김치 국산 겉절이 2kg 출고당일생산      NaN  15,900원   \n3    [키스포]12%쿠폰 아동 주니어 여름 클리어런스+가을 프리뷰 모음전  22,000원   6,600원   \n4          DCOVERS/디커버스/반팔티/티셔츠/여성/남자/빅사이즈  26,300원   7,900원   \n..                                     ...      ...      ...   \n195        [게스]누구나 22% 게스 여름 티셔츠/데님 파이널 세일  56,000원  17,000원   \n196                      [스파클]스파클생수 2L 30병      NaN  15,900원   \n197  [G7]베트남 G7 블랙 2g x 200입 (무료배송+랜덤 사은품)  19,900원  13,500원   \n198       [미래생활]순수PURE천연펄프 25m 30롤 x 3팩 휴지  31,900원  28,900원   \n199                 탑모델 여름신상 BEST 특가+10%쿠폰  32,900원   9,900원   \n\n                                                   img  \n0    http://gdimg.gmarket.co.kr/2266434001/still/30...  \n1    http://gdimg.gmarket.co.kr/1587075039/still/30...  \n2    http://gdimg.gmarket.co.kr/1798110680/still/30...  \n3    http://gdimg.gmarket.co.kr/336394693/still/300...  \n4    http://gdimg.gmarket.co.kr/2514963907/still/30...  \n..                                                 ...  \n195  http://gdimg.gmarket.co.kr/1829738400/still/30...  \n196  http://gdimg.gmarket.co.kr/2007982106/still/30...  \n197  http://gdimg.gmarket.co.kr/1692723853/still/30...  \n198  http://gdimg.gmarket.co.kr/1899274105/still/30...  \n199  http://gdimg.gmarket.co.kr/1787483503/still/30...  \n\n[200 rows x 4 columns]",
      "text/html": "<div>\n<style scoped>\n    .dataframe tbody tr th:only-of-type {\n        vertical-align: middle;\n    }\n\n    .dataframe tbody tr th {\n        vertical-align: top;\n    }\n\n    .dataframe thead th {\n        text-align: right;\n    }\n</style>\n<table border=\"1\" class=\"dataframe\">\n  <thead>\n    <tr style=\"text-align: right;\">\n      <th></th>\n      <th>title</th>\n      <th>o_price</th>\n      <th>s_price</th>\n      <th>img</th>\n    </tr>\n  </thead>\n  <tbody>\n    <tr>\n      <th>0</th>\n      <td>3900원 균일가 시즌오프 블라우스/티셔츠/원피스/팬츠 外</td>\n      <td>13,000원</td>\n      <td>3,900원</td>\n      <td>http://gdimg.gmarket.co.kr/2266434001/still/30...</td>\n    </tr>\n    <tr>\n      <th>1</th>\n      <td>청정우 양지 300gX3팩</td>\n      <td>31,800원</td>\n      <td>15,900원</td>\n      <td>http://gdimg.gmarket.co.kr/1587075039/still/30...</td>\n    </tr>\n    <tr>\n      <th>2</th>\n      <td>[한상궁김치]한상궁김치 국산 겉절이 2kg 출고당일생산</td>\n      <td>NaN</td>\n      <td>15,900원</td>\n      <td>http://gdimg.gmarket.co.kr/1798110680/still/30...</td>\n    </tr>\n    <tr>\n      <th>3</th>\n      <td>[키스포]12%쿠폰 아동 주니어 여름 클리어런스+가을 프리뷰 모음전</td>\n      <td>22,000원</td>\n      <td>6,600원</td>\n      <td>http://gdimg.gmarket.co.kr/336394693/still/300...</td>\n    </tr>\n    <tr>\n      <th>4</th>\n      <td>DCOVERS/디커버스/반팔티/티셔츠/여성/남자/빅사이즈</td>\n      <td>26,300원</td>\n      <td>7,900원</td>\n      <td>http://gdimg.gmarket.co.kr/2514963907/still/30...</td>\n    </tr>\n    <tr>\n      <th>...</th>\n      <td>...</td>\n      <td>...</td>\n      <td>...</td>\n      <td>...</td>\n    </tr>\n    <tr>\n      <th>195</th>\n      <td>[게스]누구나 22% 게스 여름 티셔츠/데님 파이널 세일</td>\n      <td>56,000원</td>\n      <td>17,000원</td>\n      <td>http://gdimg.gmarket.co.kr/1829738400/still/30...</td>\n    </tr>\n    <tr>\n      <th>196</th>\n      <td>[스파클]스파클생수 2L 30병</td>\n      <td>NaN</td>\n      <td>15,900원</td>\n      <td>http://gdimg.gmarket.co.kr/2007982106/still/30...</td>\n    </tr>\n    <tr>\n      <th>197</th>\n      <td>[G7]베트남 G7 블랙 2g x 200입 (무료배송+랜덤 사은품)</td>\n      <td>19,900원</td>\n      <td>13,500원</td>\n      <td>http://gdimg.gmarket.co.kr/1692723853/still/30...</td>\n    </tr>\n    <tr>\n      <th>198</th>\n      <td>[미래생활]순수PURE천연펄프 25m 30롤 x 3팩 휴지</td>\n      <td>31,900원</td>\n      <td>28,900원</td>\n      <td>http://gdimg.gmarket.co.kr/1899274105/still/30...</td>\n    </tr>\n    <tr>\n      <th>199</th>\n      <td>탑모델 여름신상 BEST 특가+10%쿠폰</td>\n      <td>32,900원</td>\n      <td>9,900원</td>\n      <td>http://gdimg.gmarket.co.kr/1787483503/still/30...</td>\n    </tr>\n  </tbody>\n</table>\n<p>200 rows × 4 columns</p>\n</div>"
     },
     "execution_count": 3,
     "metadata": {},
     "output_type": "execute_result"
    }
   ],
   "source": [
    "root = '/Users/cyeongy/PycharmProjects/pythonProject'\n",
    "df = pd.read_csv(f'{root}/web_crawling/data/gmarket.csv')\n",
    "df"
   ],
   "metadata": {
    "collapsed": false,
    "pycharm": {
     "name": "#%%\n"
    }
   }
  },
  {
   "cell_type": "code",
   "execution_count": 6,
   "outputs": [
    {
     "data": {
      "text/plain": "'http://gdimg.gmarket.co.kr/2266434001/still/300?ver=2022080509'"
     },
     "execution_count": 6,
     "metadata": {},
     "output_type": "execute_result"
    }
   ],
   "source": [
    "img_link = df.loc[0, 'img']\n",
    "img_link"
   ],
   "metadata": {
    "collapsed": false,
    "pycharm": {
     "name": "#%%\n"
    }
   }
  },
  {
   "cell_type": "code",
   "execution_count": 7,
   "outputs": [
    {
     "data": {
      "text/plain": "<Response [200]>"
     },
     "execution_count": 7,
     "metadata": {},
     "output_type": "execute_result"
    }
   ],
   "source": [
    "response = requests.get(img_link)\n",
    "response"
   ],
   "metadata": {
    "collapsed": false,
    "pycharm": {
     "name": "#%%\n"
    }
   }
  },
  {
   "cell_type": "code",
   "execution_count": 23,
   "outputs": [
    {
     "name": "stdout",
     "output_type": "stream",
     "text": [
      "./data\n"
     ]
    }
   ],
   "source": [
    "path = \"./data\"\n",
    "if os.path.isdir(path):\n",
    "    print(path)\n",
    "    # os.mkdir(path)\n",
    "with open(f'{path}/test.png', 'wb') as f:\n",
    "    f.write(response.content)"
   ],
   "metadata": {
    "collapsed": false,
    "pycharm": {
     "name": "#%%\n"
    }
   }
  },
  {
   "cell_type": "code",
   "execution_count": 25,
   "outputs": [
    {
     "name": "stdout",
     "output_type": "stream",
     "text": [
      "0 000.png http://gdimg.gmarket.co.kr/2266434001/still/300?ver=2022080509\n",
      "1 001.png http://gdimg.gmarket.co.kr/1587075039/still/300?ver=2022080509\n",
      "2 002.png http://gdimg.gmarket.co.kr/1798110680/still/300?ver=2022080509\n",
      "3 003.png http://gdimg.gmarket.co.kr/336394693/still/300?ver=2022080509\n",
      "4 004.png http://gdimg.gmarket.co.kr/2514963907/still/300?ver=2022080509\n"
     ]
    }
   ],
   "source": [
    "for idx, data in df[:5].iterrows():\n",
    "    filename =\"0\" * (3 - len(str(idx))) + str(idx) + '.png'\n",
    "    print(idx, filename, data['img'])\n",
    "    response = requests.get(data['img'])\n",
    "    with open(f'{path}/{filename}', 'wb') as f:\n",
    "        f.write(response.content)"
   ],
   "metadata": {
    "collapsed": false,
    "pycharm": {
     "name": "#%%\n"
    }
   }
  },
  {
   "cell_type": "code",
   "execution_count": null,
   "outputs": [],
   "source": [],
   "metadata": {
    "collapsed": false,
    "pycharm": {
     "name": "#%%\n"
    }
   }
  }
 ],
 "metadata": {
  "kernelspec": {
   "display_name": "Python 3",
   "language": "python",
   "name": "python3"
  },
  "language_info": {
   "codemirror_mode": {
    "name": "ipython",
    "version": 2
   },
   "file_extension": ".py",
   "mimetype": "text/x-python",
   "name": "python",
   "nbconvert_exporter": "python",
   "pygments_lexer": "ipython2",
   "version": "2.7.6"
  }
 },
 "nbformat": 4,
 "nbformat_minor": 0
}