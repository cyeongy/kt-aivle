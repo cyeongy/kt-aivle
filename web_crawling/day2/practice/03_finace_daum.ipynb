{
 "cells": [
  {
   "cell_type": "code",
   "execution_count": 1,
   "metadata": {
    "collapsed": true
   },
   "outputs": [],
   "source": [
    "import pandas as pd\n",
    "import requests\n",
    "import json"
   ]
  },
  {
   "cell_type": "code",
   "execution_count": 2,
   "outputs": [
    {
     "data": {
      "text/plain": "<Response [403]>"
     },
     "execution_count": 2,
     "metadata": {},
     "output_type": "execute_result"
    }
   ],
   "source": [
    "\n",
    "url = \"https://finance.daum.net/api/exchanges/summaries\"\n",
    "\n",
    "response = requests.get(url)\n",
    "response"
   ],
   "metadata": {
    "collapsed": false,
    "pycharm": {
     "name": "#%%\n"
    }
   }
  },
  {
   "cell_type": "code",
   "execution_count": 9,
   "outputs": [],
   "source": [
    "headers = {\n",
    "    'user-agent': 'Mozilla/5.0 (Macintosh; Intel Mac OS X 10_15_7) AppleWebKit/537.36 (KHTML, like Gecko) Chrome/103.0.0.0 Safari/537.36',\n",
    "    'referer': 'https://finance.daum.net/exchanges',\n",
    "}"
   ],
   "metadata": {
    "collapsed": false,
    "pycharm": {
     "name": "#%%\n"
    }
   }
  },
  {
   "cell_type": "code",
   "execution_count": 8,
   "outputs": [
    {
     "data": {
      "text/plain": "<Response [200]>"
     },
     "execution_count": 8,
     "metadata": {},
     "output_type": "execute_result"
    }
   ],
   "source": [
    "response = requests.get(url, headers=headers)\n",
    "response"
   ],
   "metadata": {
    "collapsed": false,
    "pycharm": {
     "name": "#%%\n"
    }
   }
  },
  {
   "cell_type": "code",
   "execution_count": 14,
   "outputs": [
    {
     "data": {
      "text/plain": "   symbolCode currencyCode  basePrice\n0  FRX.KRWUSD          USD    1310.70\n1  FRX.KRWJPY          JPY     980.37\n2  FRX.KRWCNY          CNY     193.86\n3  FRX.KRWEUR          EUR    1332.06\n4  FRX.KRWGBP          GBP    1593.22",
      "text/html": "<div>\n<style scoped>\n    .dataframe tbody tr th:only-of-type {\n        vertical-align: middle;\n    }\n\n    .dataframe tbody tr th {\n        vertical-align: top;\n    }\n\n    .dataframe thead th {\n        text-align: right;\n    }\n</style>\n<table border=\"1\" class=\"dataframe\">\n  <thead>\n    <tr style=\"text-align: right;\">\n      <th></th>\n      <th>symbolCode</th>\n      <th>currencyCode</th>\n      <th>basePrice</th>\n    </tr>\n  </thead>\n  <tbody>\n    <tr>\n      <th>0</th>\n      <td>FRX.KRWUSD</td>\n      <td>USD</td>\n      <td>1310.70</td>\n    </tr>\n    <tr>\n      <th>1</th>\n      <td>FRX.KRWJPY</td>\n      <td>JPY</td>\n      <td>980.37</td>\n    </tr>\n    <tr>\n      <th>2</th>\n      <td>FRX.KRWCNY</td>\n      <td>CNY</td>\n      <td>193.86</td>\n    </tr>\n    <tr>\n      <th>3</th>\n      <td>FRX.KRWEUR</td>\n      <td>EUR</td>\n      <td>1332.06</td>\n    </tr>\n    <tr>\n      <th>4</th>\n      <td>FRX.KRWGBP</td>\n      <td>GBP</td>\n      <td>1593.22</td>\n    </tr>\n  </tbody>\n</table>\n</div>"
     },
     "execution_count": 14,
     "metadata": {},
     "output_type": "execute_result"
    }
   ],
   "source": [
    "data = response.json()['data']\n",
    "df = pd.DataFrame(data)[['symbolCode', 'currencyCode', 'basePrice']]\n",
    "df.head()"
   ],
   "metadata": {
    "collapsed": false,
    "pycharm": {
     "name": "#%%\n"
    }
   }
  },
  {
   "cell_type": "code",
   "execution_count": null,
   "outputs": [],
   "source": [],
   "metadata": {
    "collapsed": false,
    "pycharm": {
     "name": "#%%\n"
    }
   }
  }
 ],
 "metadata": {
  "kernelspec": {
   "display_name": "Python 3",
   "language": "python",
   "name": "python3"
  },
  "language_info": {
   "codemirror_mode": {
    "name": "ipython",
    "version": 2
   },
   "file_extension": ".py",
   "mimetype": "text/x-python",
   "name": "python",
   "nbconvert_exporter": "python",
   "pygments_lexer": "ipython2",
   "version": "2.7.6"
  }
 },
 "nbformat": 4,
 "nbformat_minor": 0
}