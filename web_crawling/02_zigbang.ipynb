{
 "cells": [
  {
   "cell_type": "code",
   "execution_count": 14,
   "metadata": {
    "collapsed": true
   },
   "outputs": [],
   "source": [
    "import pandas as pd\n",
    "import requests\n",
    "import json\n",
    "import geohash2"
   ]
  },
  {
   "cell_type": "markdown",
   "source": [
    "# 직방의 원룸 매물정보 수집\n",
    "- 절차\n",
    "    - 동이름 > 위도, 경도\n",
    "    - 위도, 경도 > geohash(영역) 변환\n",
    "    - geohash(영역) > 매물아이디\n",
    "    - 매물아이디 > 매물정보\n"
   ],
   "metadata": {
    "collapsed": false,
    "pycharm": {
     "name": "#%% md\n"
    }
   }
  },
  {
   "cell_type": "markdown",
   "source": [
    "## 1. 동이름 > 위도, 경도"
   ],
   "metadata": {
    "collapsed": false,
    "pycharm": {
     "name": "#%% md\n"
    }
   }
  },
  {
   "cell_type": "code",
   "execution_count": 100,
   "outputs": [],
   "source": [
    "address = '강남구 역삼동'\n",
    "serviceType = '원룸'\n",
    "url = f'https://apis.zigbang.com/v2/search?leaseYn=N&q={address}&serviceType={serviceType}'"
   ],
   "metadata": {
    "collapsed": false,
    "pycharm": {
     "name": "#%%\n"
    }
   }
  },
  {
   "cell_type": "code",
   "execution_count": 101,
   "outputs": [
    {
     "data": {
      "text/plain": "<Response [200]>"
     },
     "execution_count": 101,
     "metadata": {},
     "output_type": "execute_result"
    }
   ],
   "source": [
    "response = requests.get(url)\n",
    "response"
   ],
   "metadata": {
    "collapsed": false,
    "pycharm": {
     "name": "#%%\n"
    }
   }
  },
  {
   "cell_type": "code",
   "execution_count": 102,
   "outputs": [
    {
     "data": {
      "text/plain": "(37.495365142822266, 127.03306579589844)"
     },
     "execution_count": 102,
     "metadata": {},
     "output_type": "execute_result"
    }
   ],
   "source": [
    "data = response.json()['items'][0]\n",
    "lat, lng = data['lat'], data['lng']\n",
    "lat, lng"
   ],
   "metadata": {
    "collapsed": false,
    "pycharm": {
     "name": "#%%\n"
    }
   }
  },
  {
   "cell_type": "markdown",
   "source": [
    "## 2. 위도, 경도 > geohash"
   ],
   "metadata": {
    "collapsed": false,
    "pycharm": {
     "name": "#%% md\n"
    }
   }
  },
  {
   "cell_type": "code",
   "execution_count": 103,
   "outputs": [
    {
     "data": {
      "text/plain": "'wydm6'"
     },
     "execution_count": 103,
     "metadata": {},
     "output_type": "execute_result"
    }
   ],
   "source": [
    "# precision이 커질수록 영역이 작아짐\n",
    "geohash = geohash2.encode(lat, lng, precision=5)\n",
    "geohash"
   ],
   "metadata": {
    "collapsed": false,
    "pycharm": {
     "name": "#%%\n"
    }
   }
  },
  {
   "cell_type": "markdown",
   "source": [
    "## 3. geohash > 매물 아이디"
   ],
   "metadata": {
    "collapsed": false,
    "pycharm": {
     "name": "#%% md\n"
    }
   }
  },
  {
   "cell_type": "code",
   "execution_count": 116,
   "outputs": [
    {
     "name": "stdout",
     "output_type": "stream",
     "text": [
      "https://apis.zigbang.com/v2/items?deposit_gteq=0&domain=zigbang&geohash=wydm6&needHasNoFiltered=true&rent_gteq=0&sales_type_in=전세|월세&service_type_eq=원룸\n"
     ]
    }
   ],
   "source": [
    "item_list_url = 'https://apis.zigbang.com/v2/items?domain=zigbang'\\\n",
    "f'&geohash={geohash}&needHasNoFiltered=true&new_villa=true&sales_type_in=전세|월세&zoom=16'\n",
    "\n",
    "item_list_url = 'https://apis.zigbang.com/v2/items?deposit_gteq=0&domain=zigbang'\\\n",
    "f'&geohash={geohash}&needHasNoFiltered=true&rent_gteq=0&sales_type_in=전세|월세&service_type_eq=원룸'\n",
    "\n",
    "print(item_list_url)"
   ],
   "metadata": {
    "collapsed": false,
    "pycharm": {
     "name": "#%%\n"
    }
   }
  },
  {
   "cell_type": "code",
   "execution_count": 117,
   "outputs": [
    {
     "data": {
      "text/plain": "<Response [200]>"
     },
     "execution_count": 117,
     "metadata": {},
     "output_type": "execute_result"
    }
   ],
   "source": [
    "response = requests.get(item_list_url)\n",
    "response"
   ],
   "metadata": {
    "collapsed": false,
    "pycharm": {
     "name": "#%%\n"
    }
   }
  },
  {
   "cell_type": "code",
   "execution_count": 118,
   "outputs": [],
   "source": [
    "items = response.json()['items']"
   ],
   "metadata": {
    "collapsed": false,
    "pycharm": {
     "name": "#%%\n"
    }
   }
  },
  {
   "cell_type": "code",
   "execution_count": 119,
   "outputs": [
    {
     "data": {
      "text/plain": "2336"
     },
     "execution_count": 119,
     "metadata": {},
     "output_type": "execute_result"
    }
   ],
   "source": [
    "len(items)"
   ],
   "metadata": {
    "collapsed": false,
    "pycharm": {
     "name": "#%%\n"
    }
   }
  },
  {
   "cell_type": "code",
   "execution_count": 120,
   "outputs": [
    {
     "data": {
      "text/plain": "[32819635, 32838798, 32872608, 32838700, 32767020]"
     },
     "execution_count": 120,
     "metadata": {},
     "output_type": "execute_result"
    }
   ],
   "source": [
    "ids = [item['item_id'] for item in items]\n",
    "ids[:5]"
   ],
   "metadata": {
    "collapsed": false,
    "pycharm": {
     "name": "#%%\n"
    }
   }
  },
  {
   "cell_type": "markdown",
   "source": [
    "## 4. 매물 아이디 > 매물 정보"
   ],
   "metadata": {
    "collapsed": false,
    "pycharm": {
     "name": "#%% md\n"
    }
   }
  },
  {
   "cell_type": "code",
   "execution_count": 127,
   "outputs": [
    {
     "data": {
      "text/plain": "<Response [200]>"
     },
     "execution_count": 127,
     "metadata": {},
     "output_type": "execute_result"
    }
   ],
   "source": [
    "get_item_list = 'https://apis.zigbang.com/v2/items/list'\n",
    "params = {\"domain\": \"zigbang\",\n",
    "          \"withCoalition\": 'true',\n",
    "          \"item_ids\": ids[:900]\n",
    "          }\n",
    "\n",
    "response = requests.post(get_item_list, data=params)\n",
    "response"
   ],
   "metadata": {
    "collapsed": false,
    "pycharm": {
     "name": "#%%\n"
    }
   }
  },
  {
   "cell_type": "code",
   "execution_count": 128,
   "outputs": [],
   "source": [
    "items = response.json()['items']\n",
    "df = pd.DataFrame(items)\n",
    "columns = ['item_id', 'sales_type']"
   ],
   "metadata": {
    "collapsed": false,
    "pycharm": {
     "name": "#%%\n"
    }
   }
  },
  {
   "cell_type": "code",
   "execution_count": 123,
   "outputs": [
    {
     "data": {
      "text/plain": "    section_type   item_id                                images_thumbnail  \\\n0           None  32819635  https://ic.zigbang.com/ic/items/32819635/1.jpg   \n1           None  32838798  https://ic.zigbang.com/ic/items/32838798/1.jpg   \n2           None  32872608  https://ic.zigbang.com/ic/items/32872608/1.jpg   \n3           None  32838700  https://ic.zigbang.com/ic/items/32838700/1.jpg   \n4           None  32767020  https://ic.zigbang.com/ic/items/32767020/1.jpg   \n..           ...       ...                                             ...   \n895         None  32850137  https://ic.zigbang.com/ic/items/32850137/1.jpg   \n896         None  32852414  https://ic.zigbang.com/ic/items/32852414/1.jpg   \n897         None  32809154  https://ic.zigbang.com/ic/items/32809154/1.jpg   \n898         None  32844154  https://ic.zigbang.com/ic/items/32844154/1.jpg   \n899         None  32656329  https://ic.zigbang.com/ic/items/32656329/1.jpg   \n\n    sales_type sales_title  deposit  rent  size_m2  \\\n0           전세          전세    16500     0    39.89   \n1           월세          월세     1000    68    37.56   \n2           월세          월세     1000    70    37.56   \n3           전세          전세    50400     0    66.12   \n4           월세          월세    20000    90    60.12   \n..         ...         ...      ...   ...      ...   \n895         월세          월세      300   260    32.91   \n896         월세          월세      130   250    33.44   \n897         월세          월세      120    70    19.83   \n898         월세          월세      100   100    29.75   \n899         전세          전세    24000     0    59.50   \n\n                           공급면적                        전용면적  ... is_zzim  \\\n0    {'m2': 39.89, 'p': '12.1'}   {'m2': 20.82, 'p': '6.3'}  ...   False   \n1    {'m2': 37.56, 'p': '11.4'}    {'m2': 19.6, 'p': '5.9'}  ...   False   \n2    {'m2': 37.56, 'p': '11.4'}    {'m2': 19.6, 'p': '5.9'}  ...   False   \n3      {'m2': 66.12, 'p': '20'}  {'m2': 52.56, 'p': '15.9'}  ...   False   \n4    {'m2': 60.12, 'p': '18.2'}    {'m2': 59.61, 'p': '18'}  ...   False   \n..                          ...                         ...  ...     ...   \n895    {'m2': 32.91, 'p': '10'}   {'m2': 27.22, 'p': '8.2'}  ...   False   \n896  {'m2': 33.44, 'p': '10.1'}   {'m2': 27.65, 'p': '8.4'}  ...   False   \n897     {'m2': 19.83, 'p': '6'}     {'m2': 19.83, 'p': '6'}  ...   False   \n898     {'m2': 29.75, 'p': '9'}     {'m2': 29.75, 'p': '9'}  ...   False   \n899     {'m2': 59.5, 'p': '18'}  {'m2': 34.71, 'p': '10.5'}  ...   False   \n\n    status service_type  tags     address1 address2 address3 manage_cost  \\\n0     True         오피스텔    []  서울시 서초구 서초동     None     None         7.5   \n1     True         오피스텔  [추천]  서울시 서초구 서초동     None     None         7.5   \n2     True         오피스텔  [추천]  서울시 서초구 서초동     None     None         7.5   \n3     True           빌라  [추천]  서울시 서초구 서초동     None     None           9   \n4     True           빌라    []  서울시 서초구 서초동     None     None           5   \n..     ...          ...   ...          ...      ...      ...         ...   \n895   True           빌라  [추천]  서울시 강남구 역삼동     None     None          10   \n896   True           빌라  [추천]  서울시 강남구 역삼동     None     None          10   \n897   True           원룸  [추천]  서울시 강남구 역삼동     None     None           9   \n898   True           원룸  [추천]  서울시 강남구 역삼동     None     None           9   \n899   True         오피스텔  [추천]  서울시 강남구 역삼동     None     None          10   \n\n                      reg_date is_new  \n0    2022-07-30T13:43:13+09:00  False  \n1    2022-08-03T14:37:56+09:00   True  \n2    2022-08-03T19:08:33+09:00   True  \n3    2022-08-01T15:05:10+09:00  False  \n4    2022-08-03T17:05:14+09:00   True  \n..                         ...    ...  \n895  2022-08-02T11:59:56+09:00  False  \n896  2022-08-02T15:04:01+09:00   True  \n897  2022-07-29T15:01:31+09:00  False  \n898  2022-08-01T18:43:35+09:00  False  \n899  2022-07-18T13:23:18+09:00  False  \n\n[900 rows x 30 columns]",
      "text/html": "<div>\n<style scoped>\n    .dataframe tbody tr th:only-of-type {\n        vertical-align: middle;\n    }\n\n    .dataframe tbody tr th {\n        vertical-align: top;\n    }\n\n    .dataframe thead th {\n        text-align: right;\n    }\n</style>\n<table border=\"1\" class=\"dataframe\">\n  <thead>\n    <tr style=\"text-align: right;\">\n      <th></th>\n      <th>section_type</th>\n      <th>item_id</th>\n      <th>images_thumbnail</th>\n      <th>sales_type</th>\n      <th>sales_title</th>\n      <th>deposit</th>\n      <th>rent</th>\n      <th>size_m2</th>\n      <th>공급면적</th>\n      <th>전용면적</th>\n      <th>...</th>\n      <th>is_zzim</th>\n      <th>status</th>\n      <th>service_type</th>\n      <th>tags</th>\n      <th>address1</th>\n      <th>address2</th>\n      <th>address3</th>\n      <th>manage_cost</th>\n      <th>reg_date</th>\n      <th>is_new</th>\n    </tr>\n  </thead>\n  <tbody>\n    <tr>\n      <th>0</th>\n      <td>None</td>\n      <td>32819635</td>\n      <td>https://ic.zigbang.com/ic/items/32819635/1.jpg</td>\n      <td>전세</td>\n      <td>전세</td>\n      <td>16500</td>\n      <td>0</td>\n      <td>39.89</td>\n      <td>{'m2': 39.89, 'p': '12.1'}</td>\n      <td>{'m2': 20.82, 'p': '6.3'}</td>\n      <td>...</td>\n      <td>False</td>\n      <td>True</td>\n      <td>오피스텔</td>\n      <td>[]</td>\n      <td>서울시 서초구 서초동</td>\n      <td>None</td>\n      <td>None</td>\n      <td>7.5</td>\n      <td>2022-07-30T13:43:13+09:00</td>\n      <td>False</td>\n    </tr>\n    <tr>\n      <th>1</th>\n      <td>None</td>\n      <td>32838798</td>\n      <td>https://ic.zigbang.com/ic/items/32838798/1.jpg</td>\n      <td>월세</td>\n      <td>월세</td>\n      <td>1000</td>\n      <td>68</td>\n      <td>37.56</td>\n      <td>{'m2': 37.56, 'p': '11.4'}</td>\n      <td>{'m2': 19.6, 'p': '5.9'}</td>\n      <td>...</td>\n      <td>False</td>\n      <td>True</td>\n      <td>오피스텔</td>\n      <td>[추천]</td>\n      <td>서울시 서초구 서초동</td>\n      <td>None</td>\n      <td>None</td>\n      <td>7.5</td>\n      <td>2022-08-03T14:37:56+09:00</td>\n      <td>True</td>\n    </tr>\n    <tr>\n      <th>2</th>\n      <td>None</td>\n      <td>32872608</td>\n      <td>https://ic.zigbang.com/ic/items/32872608/1.jpg</td>\n      <td>월세</td>\n      <td>월세</td>\n      <td>1000</td>\n      <td>70</td>\n      <td>37.56</td>\n      <td>{'m2': 37.56, 'p': '11.4'}</td>\n      <td>{'m2': 19.6, 'p': '5.9'}</td>\n      <td>...</td>\n      <td>False</td>\n      <td>True</td>\n      <td>오피스텔</td>\n      <td>[추천]</td>\n      <td>서울시 서초구 서초동</td>\n      <td>None</td>\n      <td>None</td>\n      <td>7.5</td>\n      <td>2022-08-03T19:08:33+09:00</td>\n      <td>True</td>\n    </tr>\n    <tr>\n      <th>3</th>\n      <td>None</td>\n      <td>32838700</td>\n      <td>https://ic.zigbang.com/ic/items/32838700/1.jpg</td>\n      <td>전세</td>\n      <td>전세</td>\n      <td>50400</td>\n      <td>0</td>\n      <td>66.12</td>\n      <td>{'m2': 66.12, 'p': '20'}</td>\n      <td>{'m2': 52.56, 'p': '15.9'}</td>\n      <td>...</td>\n      <td>False</td>\n      <td>True</td>\n      <td>빌라</td>\n      <td>[추천]</td>\n      <td>서울시 서초구 서초동</td>\n      <td>None</td>\n      <td>None</td>\n      <td>9</td>\n      <td>2022-08-01T15:05:10+09:00</td>\n      <td>False</td>\n    </tr>\n    <tr>\n      <th>4</th>\n      <td>None</td>\n      <td>32767020</td>\n      <td>https://ic.zigbang.com/ic/items/32767020/1.jpg</td>\n      <td>월세</td>\n      <td>월세</td>\n      <td>20000</td>\n      <td>90</td>\n      <td>60.12</td>\n      <td>{'m2': 60.12, 'p': '18.2'}</td>\n      <td>{'m2': 59.61, 'p': '18'}</td>\n      <td>...</td>\n      <td>False</td>\n      <td>True</td>\n      <td>빌라</td>\n      <td>[]</td>\n      <td>서울시 서초구 서초동</td>\n      <td>None</td>\n      <td>None</td>\n      <td>5</td>\n      <td>2022-08-03T17:05:14+09:00</td>\n      <td>True</td>\n    </tr>\n    <tr>\n      <th>...</th>\n      <td>...</td>\n      <td>...</td>\n      <td>...</td>\n      <td>...</td>\n      <td>...</td>\n      <td>...</td>\n      <td>...</td>\n      <td>...</td>\n      <td>...</td>\n      <td>...</td>\n      <td>...</td>\n      <td>...</td>\n      <td>...</td>\n      <td>...</td>\n      <td>...</td>\n      <td>...</td>\n      <td>...</td>\n      <td>...</td>\n      <td>...</td>\n      <td>...</td>\n      <td>...</td>\n    </tr>\n    <tr>\n      <th>895</th>\n      <td>None</td>\n      <td>32850137</td>\n      <td>https://ic.zigbang.com/ic/items/32850137/1.jpg</td>\n      <td>월세</td>\n      <td>월세</td>\n      <td>300</td>\n      <td>260</td>\n      <td>32.91</td>\n      <td>{'m2': 32.91, 'p': '10'}</td>\n      <td>{'m2': 27.22, 'p': '8.2'}</td>\n      <td>...</td>\n      <td>False</td>\n      <td>True</td>\n      <td>빌라</td>\n      <td>[추천]</td>\n      <td>서울시 강남구 역삼동</td>\n      <td>None</td>\n      <td>None</td>\n      <td>10</td>\n      <td>2022-08-02T11:59:56+09:00</td>\n      <td>False</td>\n    </tr>\n    <tr>\n      <th>896</th>\n      <td>None</td>\n      <td>32852414</td>\n      <td>https://ic.zigbang.com/ic/items/32852414/1.jpg</td>\n      <td>월세</td>\n      <td>월세</td>\n      <td>130</td>\n      <td>250</td>\n      <td>33.44</td>\n      <td>{'m2': 33.44, 'p': '10.1'}</td>\n      <td>{'m2': 27.65, 'p': '8.4'}</td>\n      <td>...</td>\n      <td>False</td>\n      <td>True</td>\n      <td>빌라</td>\n      <td>[추천]</td>\n      <td>서울시 강남구 역삼동</td>\n      <td>None</td>\n      <td>None</td>\n      <td>10</td>\n      <td>2022-08-02T15:04:01+09:00</td>\n      <td>True</td>\n    </tr>\n    <tr>\n      <th>897</th>\n      <td>None</td>\n      <td>32809154</td>\n      <td>https://ic.zigbang.com/ic/items/32809154/1.jpg</td>\n      <td>월세</td>\n      <td>월세</td>\n      <td>120</td>\n      <td>70</td>\n      <td>19.83</td>\n      <td>{'m2': 19.83, 'p': '6'}</td>\n      <td>{'m2': 19.83, 'p': '6'}</td>\n      <td>...</td>\n      <td>False</td>\n      <td>True</td>\n      <td>원룸</td>\n      <td>[추천]</td>\n      <td>서울시 강남구 역삼동</td>\n      <td>None</td>\n      <td>None</td>\n      <td>9</td>\n      <td>2022-07-29T15:01:31+09:00</td>\n      <td>False</td>\n    </tr>\n    <tr>\n      <th>898</th>\n      <td>None</td>\n      <td>32844154</td>\n      <td>https://ic.zigbang.com/ic/items/32844154/1.jpg</td>\n      <td>월세</td>\n      <td>월세</td>\n      <td>100</td>\n      <td>100</td>\n      <td>29.75</td>\n      <td>{'m2': 29.75, 'p': '9'}</td>\n      <td>{'m2': 29.75, 'p': '9'}</td>\n      <td>...</td>\n      <td>False</td>\n      <td>True</td>\n      <td>원룸</td>\n      <td>[추천]</td>\n      <td>서울시 강남구 역삼동</td>\n      <td>None</td>\n      <td>None</td>\n      <td>9</td>\n      <td>2022-08-01T18:43:35+09:00</td>\n      <td>False</td>\n    </tr>\n    <tr>\n      <th>899</th>\n      <td>None</td>\n      <td>32656329</td>\n      <td>https://ic.zigbang.com/ic/items/32656329/1.jpg</td>\n      <td>전세</td>\n      <td>전세</td>\n      <td>24000</td>\n      <td>0</td>\n      <td>59.50</td>\n      <td>{'m2': 59.5, 'p': '18'}</td>\n      <td>{'m2': 34.71, 'p': '10.5'}</td>\n      <td>...</td>\n      <td>False</td>\n      <td>True</td>\n      <td>오피스텔</td>\n      <td>[추천]</td>\n      <td>서울시 강남구 역삼동</td>\n      <td>None</td>\n      <td>None</td>\n      <td>10</td>\n      <td>2022-07-18T13:23:18+09:00</td>\n      <td>False</td>\n    </tr>\n  </tbody>\n</table>\n<p>900 rows × 30 columns</p>\n</div>"
     },
     "execution_count": 123,
     "metadata": {},
     "output_type": "execute_result"
    }
   ],
   "source": [
    "df"
   ],
   "metadata": {
    "collapsed": false,
    "pycharm": {
     "name": "#%%\n"
    }
   }
  },
  {
   "cell_type": "code",
   "execution_count": 124,
   "outputs": [
    {
     "data": {
      "text/plain": "      item_id sales_type\n0    32819635         전세\n1    32838798         월세\n2    32872608         월세\n3    32838700         전세\n4    32767020         월세\n..        ...        ...\n895  32850137         월세\n896  32852414         월세\n897  32809154         월세\n898  32844154         월세\n899  32656329         전세\n\n[900 rows x 2 columns]",
      "text/html": "<div>\n<style scoped>\n    .dataframe tbody tr th:only-of-type {\n        vertical-align: middle;\n    }\n\n    .dataframe tbody tr th {\n        vertical-align: top;\n    }\n\n    .dataframe thead th {\n        text-align: right;\n    }\n</style>\n<table border=\"1\" class=\"dataframe\">\n  <thead>\n    <tr style=\"text-align: right;\">\n      <th></th>\n      <th>item_id</th>\n      <th>sales_type</th>\n    </tr>\n  </thead>\n  <tbody>\n    <tr>\n      <th>0</th>\n      <td>32819635</td>\n      <td>전세</td>\n    </tr>\n    <tr>\n      <th>1</th>\n      <td>32838798</td>\n      <td>월세</td>\n    </tr>\n    <tr>\n      <th>2</th>\n      <td>32872608</td>\n      <td>월세</td>\n    </tr>\n    <tr>\n      <th>3</th>\n      <td>32838700</td>\n      <td>전세</td>\n    </tr>\n    <tr>\n      <th>4</th>\n      <td>32767020</td>\n      <td>월세</td>\n    </tr>\n    <tr>\n      <th>...</th>\n      <td>...</td>\n      <td>...</td>\n    </tr>\n    <tr>\n      <th>895</th>\n      <td>32850137</td>\n      <td>월세</td>\n    </tr>\n    <tr>\n      <th>896</th>\n      <td>32852414</td>\n      <td>월세</td>\n    </tr>\n    <tr>\n      <th>897</th>\n      <td>32809154</td>\n      <td>월세</td>\n    </tr>\n    <tr>\n      <th>898</th>\n      <td>32844154</td>\n      <td>월세</td>\n    </tr>\n    <tr>\n      <th>899</th>\n      <td>32656329</td>\n      <td>전세</td>\n    </tr>\n  </tbody>\n</table>\n<p>900 rows × 2 columns</p>\n</div>"
     },
     "execution_count": 124,
     "metadata": {},
     "output_type": "execute_result"
    }
   ],
   "source": [
    "df[['item_id', 'sales_type']]"
   ],
   "metadata": {
    "collapsed": false,
    "pycharm": {
     "name": "#%%\n"
    }
   }
  },
  {
   "cell_type": "code",
   "execution_count": 124,
   "outputs": [],
   "source": [],
   "metadata": {
    "collapsed": false,
    "pycharm": {
     "name": "#%%\n"
    }
   }
  },
  {
   "cell_type": "code",
   "execution_count": null,
   "outputs": [],
   "source": [],
   "metadata": {
    "collapsed": false,
    "pycharm": {
     "name": "#%%\n"
    }
   }
  }
 ],
 "metadata": {
  "kernelspec": {
   "display_name": "Python 3",
   "language": "python",
   "name": "python3"
  },
  "language_info": {
   "codemirror_mode": {
    "name": "ipython",
    "version": 2
   },
   "file_extension": ".py",
   "mimetype": "text/x-python",
   "name": "python",
   "nbconvert_exporter": "python",
   "pygments_lexer": "ipython2",
   "version": "2.7.6"
  }
 },
 "nbformat": 4,
 "nbformat_minor": 0
}