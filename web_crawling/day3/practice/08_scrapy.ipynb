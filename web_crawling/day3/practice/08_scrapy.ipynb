{
 "cells": [
  {
   "cell_type": "code",
   "execution_count": 8,
   "metadata": {
    "collapsed": true
   },
   "outputs": [],
   "source": [
    "import scrapy, requests\n",
    "from scrapy.http import TextResponse"
   ]
  },
  {
   "cell_type": "markdown",
   "source": [
    "### scrapy\n",
    "\n",
    "- 비동기 방식으로 데이터를 수집 > 데이터 수집 속도가 빠름\n",
    "- 예제: Gmarket 베스트 200 상품 데이터 수집\n",
    "        1. 스크래피 프로젝트 생성\n",
    "        2. xpath 찾기 : 링크, 상세 페이지의 데이터\n",
    "        3. items.py : 코드 작성 : model(데이터의 구조: 수집할 데이터의 컬럼을 정의)\n",
    "        4. spider.py : 코드 작성 : 크롤링 절차 정의\n",
    "        5. 스크래피 프로젝트 실행"
   ],
   "metadata": {
    "collapsed": false,
    "pycharm": {
     "name": "#%% md\n"
    }
   }
  },
  {
   "cell_type": "code",
   "execution_count": 9,
   "outputs": [
    {
     "name": "stdout",
     "output_type": "stream",
     "text": [
      "Error: scrapy.cfg already exists in /Users/cyeongy/PycharmProjects/pythonProject/web_crawling/day3/practice/gmarket\r\n"
     ]
    }
   ],
   "source": [
    "# 1. 스크래피 프로젝트 생성\n",
    "!scrapy startproject gmarket"
   ],
   "metadata": {
    "collapsed": false,
    "pycharm": {
     "name": "#%%\n"
    }
   }
  },
  {
   "cell_type": "code",
   "execution_count": 10,
   "outputs": [
    {
     "name": "stdout",
     "output_type": "stream",
     "text": [
      "gmaket  [error opening dir]\r\n",
      "/f  [error opening dir]\r\n",
      "\r\n",
      "0 directories, 0 files\r\n"
     ]
    },
    {
     "data": {
      "text/plain": "'\\nitems.py : 수집할 데이터의 구조 정의\\nmiddlewares.py : 데이터를 수집할 때 headers 정보와 같은 내용을 설정\\npipelines.py : 데이터를 수집한 후의 코드 실행 정의\\nsettings.py : 크롤링 설정 : 크롤링 절차 정의\\nspiders : 디렉토리 : 크롤링 절차 정의\\n'"
     },
     "execution_count": 10,
     "metadata": {},
     "output_type": "execute_result"
    }
   ],
   "source": [
    "!tree gmaket / f\n",
    "\n",
    "\"\"\"\n",
    "items.py : 수집할 데이터의 구조 정의\n",
    "middlewares.py : 데이터를 수집할 때 headers 정보와 같은 내용을 설정\n",
    "pipelines.py : 데이터를 수집한 후의 코드 실행 정의\n",
    "settings.py : 크롤링 설정 : 크롤링 절차 정의\n",
    "spiders : 디렉토리 : 크롤링 절차 정의\n",
    "\"\"\""
   ],
   "metadata": {
    "collapsed": false,
    "pycharm": {
     "name": "#%%\n"
    }
   }
  },
  {
   "cell_type": "code",
   "execution_count": 11,
   "outputs": [],
   "source": [
    "# 2.xpath 찾기 : 링크, 상세 페이지의 데이터\n",
    "# 링크 데이터 수집\n",
    "\n",
    "url = 'http://corners.gmarket.co.kr/Bestsellers'"
   ],
   "metadata": {
    "collapsed": false,
    "pycharm": {
     "name": "#%%\n"
    }
   }
  },
  {
   "cell_type": "code",
   "execution_count": 12,
   "outputs": [],
   "source": [
    "request = requests.get(url)\n",
    "response = TextResponse(request.url, body=request.text, encoding='utf-8')"
   ],
   "metadata": {
    "collapsed": false,
    "pycharm": {
     "name": "#%%\n"
    }
   }
  },
  {
   "cell_type": "code",
   "execution_count": 21,
   "outputs": [
    {
     "data": {
      "text/plain": "['http://item.gmarket.co.kr/Item?goodscode=2519604129&ver=637953126611765204',\n 'http://item.gmarket.co.kr/Item?goodscode=2520466046&ver=637953126611765204']"
     },
     "execution_count": 21,
     "metadata": {},
     "output_type": "execute_result"
    }
   ],
   "source": [
    "links = response.xpath('//*[@id=\"gBestWrap\"]/div/div[3]/div/ul/li/a/@href').extract()\n",
    "links[:2]"
   ],
   "metadata": {
    "collapsed": false,
    "pycharm": {
     "name": "#%%\n"
    }
   }
  },
  {
   "cell_type": "code",
   "execution_count": 23,
   "outputs": [],
   "source": [
    "# 상세 페이지 데이터 수집\n",
    "\n",
    "link = links[0]\n",
    "request = requests.get(link)\n",
    "response = TextResponse(request.url, body=request.text, encoding='utf-8')"
   ],
   "metadata": {
    "collapsed": false,
    "pycharm": {
     "name": "#%%\n"
    }
   }
  },
  {
   "cell_type": "code",
   "execution_count": 25,
   "outputs": [
    {
     "data": {
      "text/plain": "(['브라운 면도기 세정액 CCR5+1 '], ['25,030'])"
     },
     "execution_count": 25,
     "metadata": {},
     "output_type": "execute_result"
    }
   ],
   "source": [
    "title = response.xpath('//*[@id=\"itemcase_basic\"]/div/h1/text()').extract()\n",
    "price = response.xpath('//*[@id=\"itemcase_basic\"]/div/p/span/strong/text()').extract()\n",
    "title, price"
   ],
   "metadata": {
    "collapsed": false,
    "pycharm": {
     "name": "#%%\n"
    }
   }
  },
  {
   "cell_type": "code",
   "execution_count": 27,
   "outputs": [],
   "source": [
    "# 3. items.py : 코드 작성 : model(데이터의 구조: 수집할 데이터의 컬럼을 정의)\n"
   ],
   "metadata": {
    "collapsed": false,
    "pycharm": {
     "name": "#%%\n"
    }
   }
  },
  {
   "cell_type": "code",
   "execution_count": 49,
   "outputs": [
    {
     "name": "stdout",
     "output_type": "stream",
     "text": [
      "Overwriting gmarket/gmarket/items.py\n"
     ]
    }
   ],
   "source": [
    "%%writefile gmarket/gmarket/items.py\n",
    "import scrapy\n",
    "\n",
    "\n",
    "class GmarketItem(scrapy.Item):\n",
    "    title = scrapy.Field()\n",
    "    price = scrapy.Field()\n",
    "    link = scrapy.Field()"
   ],
   "metadata": {
    "collapsed": false,
    "pycharm": {
     "name": "#%%\n"
    }
   }
  },
  {
   "cell_type": "code",
   "execution_count": 40,
   "outputs": [],
   "source": [
    "# 4. spider.py : 코드 작성 : 크롤링 절차 정의"
   ],
   "metadata": {
    "collapsed": false,
    "pycharm": {
     "name": "#%%\n"
    }
   }
  },
  {
   "cell_type": "code",
   "execution_count": 52,
   "outputs": [
    {
     "name": "stdout",
     "output_type": "stream",
     "text": [
      "Overwriting gmarket/gmarket/spiders/spider.py\n"
     ]
    }
   ],
   "source": [
    "%%writefile gmarket/gmarket/spiders/spider.py\n",
    "\n",
    "import scrapy\n",
    "from gmarket.items import GmarketItem\n",
    "\n",
    "\n",
    "class GMSpider(scrapy.Spider):\n",
    "    name = \"GMB\"\n",
    "    allow_domain = [\"gmarket.co.kr\"]\n",
    "    start_urls = ['http://corners.gmarket.co.kr/Bestsellers']\n",
    "\n",
    "    def parse_content(self, response):\n",
    "            item = GmarketItem()\n",
    "            item['title'] = response.xpath('//*[@id=\"itemcase_basic\"]/div/h1/text()').extract()\n",
    "            item['price'] = response.xpath('//*[@id=\"itemcase_basic\"]/div/p/span/strong/text()').extract()\n",
    "            item['link'] = response.url\n",
    "            yield item\n",
    "\n",
    "    def parse(self, response):\n",
    "        links = response.xpath('//*[@id=\"gBestWrap\"]/div/div[3]/div/ul/li/a/@href').extract()\n",
    "        for link in links[:20]:\n",
    "            yield scrapy.Request(link, callback=self.parse_content)\n"
   ],
   "metadata": {
    "collapsed": false,
    "pycharm": {
     "name": "#%%\n"
    }
   }
  },
  {
   "cell_type": "code",
   "execution_count": 42,
   "outputs": [],
   "source": [
    "g# 5. 스크래피 프로젝트 실행\n",
    "# gmarket 디렉토리\n",
    "# scrapy crawl GMB -o items.csv"
   ],
   "metadata": {
    "collapsed": false,
    "pycharm": {
     "name": "#%%\n"
    }
   }
  },
  {
   "cell_type": "code",
   "execution_count": 43,
   "outputs": [
    {
     "name": "stdout",
     "output_type": "stream",
     "text": [
      "Scrapy 2.6.2 - no active project\r\n",
      "\r\n",
      "Unknown command: crawl\r\n",
      "\r\n",
      "Use \"scrapy\" to see available commands\r\n"
     ]
    }
   ],
   "source": [
    "!scrapy crawl GMB -o items.csv"
   ],
   "metadata": {
    "collapsed": false,
    "pycharm": {
     "name": "#%%\n"
    }
   }
  },
  {
   "cell_type": "code",
   "execution_count": null,
   "outputs": [],
   "source": [],
   "metadata": {
    "collapsed": false,
    "pycharm": {
     "name": "#%%\n"
    }
   }
  }
 ],
 "metadata": {
  "kernelspec": {
   "display_name": "Python 3",
   "language": "python",
   "name": "python3"
  },
  "language_info": {
   "codemirror_mode": {
    "name": "ipython",
    "version": 2
   },
   "file_extension": ".py",
   "mimetype": "text/x-python",
   "name": "python",
   "nbconvert_exporter": "python",
   "pygments_lexer": "ipython2",
   "version": "2.7.6"
  }
 },
 "nbformat": 4,
 "nbformat_minor": 0
}