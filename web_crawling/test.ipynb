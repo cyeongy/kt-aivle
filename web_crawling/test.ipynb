{
 "cells": [
  {
   "cell_type": "code",
   "execution_count": 182,
   "outputs": [],
   "source": [
    "import pandas as pd\n",
    "import numpy as np\n",
    "import requests, json\n",
    "import os\n",
    "\n",
    "CLIENT_ID, CLIENT_SECRET = \"NbbzBdO8W9JH9hGaX0ww\", \"WwGJnqh8Wv\""
   ],
   "metadata": {
    "collapsed": false,
    "pycharm": {
     "name": "#%%\n"
    }
   }
  },
  {
   "cell_type": "code",
   "execution_count": 108,
   "outputs": [],
   "source": [
    "url = \"https://openapi.naver.com/v1/papago/n2mt\""
   ],
   "metadata": {
    "collapsed": false,
    "pycharm": {
     "name": "#%%\n"
    }
   }
  },
  {
   "cell_type": "code",
   "execution_count": 141,
   "outputs": [
    {
     "data": {
      "text/plain": "<Response [200]>"
     },
     "execution_count": 141,
     "metadata": {},
     "output_type": "execute_result"
    }
   ],
   "source": [
    "msg = \"러브\"\n",
    "params = {\"source\": \"ko\", \"target\": \"en\", \"text\": msg}\n",
    "headers = {\n",
    "    \"Content-Type\": \"application/json; charset=UTF-8\",\n",
    "    \"X-Naver-Client-Id\": CLIENT_ID,\n",
    "    \"X-Naver-Client-Secret\": CLIENT_SECRET,\n",
    "}\n",
    "\n",
    "response = requests.post(url, json.dumps(params), headers=headers)\n",
    "response"
   ],
   "metadata": {
    "collapsed": false,
    "pycharm": {
     "name": "#%%\n"
    }
   }
  },
  {
   "cell_type": "code",
   "execution_count": 142,
   "outputs": [
    {
     "data": {
      "text/plain": "{'message': {'result': {'srcLangType': 'ko',\n   'tarLangType': 'en',\n   'translatedText': 'Love',\n   'engineType': 'PRETRANS',\n   'pivot': None,\n   'dict': None,\n   'tarDict': None},\n  '@type': 'response',\n  '@service': 'naverservice.nmt.proxy',\n  '@version': '1.0.0'}}"
     },
     "execution_count": 142,
     "metadata": {},
     "output_type": "execute_result"
    }
   ],
   "source": [
    "response.json()"
   ],
   "metadata": {
    "collapsed": false,
    "pycharm": {
     "name": "#%%\n"
    }
   }
  },
  {
   "cell_type": "code",
   "execution_count": 143,
   "outputs": [
    {
     "name": "stdout",
     "output_type": "stream",
     "text": [
      "srcLangType\n",
      "tarLangType\n",
      "translatedText\n",
      "engineType\n",
      "pivot\n",
      "dict\n",
      "tarDict\n"
     ]
    }
   ],
   "source": [
    "for i in response.json()['message']['result']:\n",
    "    print(i)"
   ],
   "metadata": {
    "collapsed": false,
    "pycharm": {
     "name": "#%%\n"
    }
   }
  },
  {
   "cell_type": "code",
   "execution_count": 161,
   "outputs": [],
   "source": [
    "def translate(txt):\n",
    "    \"\"\"\n",
    "    한/영 번역기\n",
    "    :param str: txt: 번역하려는 문장\n",
    "    :return: str: txt: 번역 된 문장\n",
    "    \"\"\"\n",
    "    params = {\"source\": \"ko\", \"target\": \"en\", \"text\": txt}\n",
    "    header = {\n",
    "        \"Content-Type\": \"application/json\",\n",
    "        \"X-Naver-Client-Id\": CLIENT_ID,\n",
    "        \"X-Naver-Client-Secret\": CLIENT_SECRET,\n",
    "    }\n",
    "    response = requests.post(url, data=json.dumps(params), headers=headers)\n",
    "    if response.status_code == 200:\n",
    "        return response.json()[\"message\"][\"result\"][\"translatedText\"]\n",
    "    return response"
   ],
   "metadata": {
    "collapsed": false,
    "pycharm": {
     "name": "#%%\n"
    }
   }
  },
  {
   "cell_type": "code",
   "execution_count": 162,
   "outputs": [],
   "source": [
    "ret = translate(\"민족놀이\")"
   ],
   "metadata": {
    "collapsed": false,
    "pycharm": {
     "name": "#%%\n"
    }
   }
  },
  {
   "cell_type": "code",
   "execution_count": 163,
   "outputs": [
    {
     "data": {
      "text/plain": "'ethnic games'"
     },
     "execution_count": 163,
     "metadata": {},
     "output_type": "execute_result"
    }
   ],
   "source": [
    "ret"
   ],
   "metadata": {
    "collapsed": false,
    "pycharm": {
     "name": "#%%\n"
    }
   }
  },
  {
   "cell_type": "code",
   "execution_count": 175,
   "outputs": [
    {
     "name": "stdout",
     "output_type": "stream",
     "text": [
      "02_web.pdf    \u001B[1m\u001B[36mdata\u001B[m\u001B[m/         files.txt\r\n",
      "03_Oauth.pdf  \u001B[1m\u001B[36mday1\u001B[m\u001B[m/         test.ipynb\r\n"
     ]
    }
   ],
   "source": [
    "%ls"
   ],
   "metadata": {
    "collapsed": false,
    "pycharm": {
     "name": "#%%\n"
    }
   }
  },
  {
   "cell_type": "code",
   "execution_count": 197,
   "outputs": [
    {
     "name": "stdout",
     "output_type": "stream",
     "text": [
      "['files.txt', '02_web.pdf', '03_Oauth.pdf', 'day1', '.ipynb_checkpoints', 'data', 'test.ipynb']\n"
     ]
    }
   ],
   "source": [
    "print(os.listdir(os.curdir))\n",
    "df = pd.read_excel('data/covid.xlsx')"
   ],
   "metadata": {
    "collapsed": false,
    "pycharm": {
     "name": "#%%\n"
    }
   }
  },
  {
   "cell_type": "code",
   "execution_count": 198,
   "outputs": [
    {
     "data": {
      "text/plain": "   category                                               link  \\\n0       101  https://news.naver.com/main/read.nhn?mode=LSD&...   \n1       102  https://news.naver.com/main/read.nhn?mode=LSD&...   \n2       103  https://news.naver.com/main/read.nhn?mode=LSD&...   \n3       103  https://news.naver.com/main/read.nhn?mode=LSD&...   \n4       104  https://news.naver.com/main/read.nhn?mode=LSD&...   \n5       104  https://news.naver.com/main/read.nhn?mode=LSD&...   \n\n                                 title  \\\n0    SK바이오사이언스, 코로나19 백신 임상 3상 시험계획 제출   \n1             고양시 노래연습장 코로나19 누적확진 41명   \n2        코로나19 신규 감염, 28일 오후 9시까지 542명   \n3            프로야구 수도권 구단서 코로나19 확진자 발생   \n4    \"코로나 확진자 '0명'인 날은 절대 오지 않는다\" 美전문가   \n5  올림픽 다가오는데 도쿄 코로나 확산 빨라져...일주일새 25％↑   \n\n                                             content  \n0    SK바이오사이언스가 코로나19 백신 후보물질(GBP510)의 임상 3상 시험계획...  \n1      【파이낸셜뉴스 고양=강근주 기자】 고양시는 28일 16시 기준 29명이 코로...  \n2    [스포츠경향] 28일 서울 중구 서울역 광장에 마련된 코로나19 임시 선별검사소...  \n3    [이데일리 김지완 기자] 복수의 프로야구 수도권 구단에서 코로나19 확진자가 발...  \n4  \"주기적 발병…미국서 항상 어느 정도의 확산 있을 것\"\"팬데믹 초기와는 다를 것…백...  \n5    올림픽 개막이 다가오는 가운데 개최지 일본 도쿄에서 코로나19 확산 속도가 빨라...  ",
      "text/html": "<div>\n<style scoped>\n    .dataframe tbody tr th:only-of-type {\n        vertical-align: middle;\n    }\n\n    .dataframe tbody tr th {\n        vertical-align: top;\n    }\n\n    .dataframe thead th {\n        text-align: right;\n    }\n</style>\n<table border=\"1\" class=\"dataframe\">\n  <thead>\n    <tr style=\"text-align: right;\">\n      <th></th>\n      <th>category</th>\n      <th>link</th>\n      <th>title</th>\n      <th>content</th>\n    </tr>\n  </thead>\n  <tbody>\n    <tr>\n      <th>0</th>\n      <td>101</td>\n      <td>https://news.naver.com/main/read.nhn?mode=LSD&amp;...</td>\n      <td>SK바이오사이언스, 코로나19 백신 임상 3상 시험계획 제출</td>\n      <td>SK바이오사이언스가 코로나19 백신 후보물질(GBP510)의 임상 3상 시험계획...</td>\n    </tr>\n    <tr>\n      <th>1</th>\n      <td>102</td>\n      <td>https://news.naver.com/main/read.nhn?mode=LSD&amp;...</td>\n      <td>고양시 노래연습장 코로나19 누적확진 41명</td>\n      <td>【파이낸셜뉴스 고양=강근주 기자】 고양시는 28일 16시 기준 29명이 코로...</td>\n    </tr>\n    <tr>\n      <th>2</th>\n      <td>103</td>\n      <td>https://news.naver.com/main/read.nhn?mode=LSD&amp;...</td>\n      <td>코로나19 신규 감염, 28일 오후 9시까지 542명</td>\n      <td>[스포츠경향] 28일 서울 중구 서울역 광장에 마련된 코로나19 임시 선별검사소...</td>\n    </tr>\n    <tr>\n      <th>3</th>\n      <td>103</td>\n      <td>https://news.naver.com/main/read.nhn?mode=LSD&amp;...</td>\n      <td>프로야구 수도권 구단서 코로나19 확진자 발생</td>\n      <td>[이데일리 김지완 기자] 복수의 프로야구 수도권 구단에서 코로나19 확진자가 발...</td>\n    </tr>\n    <tr>\n      <th>4</th>\n      <td>104</td>\n      <td>https://news.naver.com/main/read.nhn?mode=LSD&amp;...</td>\n      <td>\"코로나 확진자 '0명'인 날은 절대 오지 않는다\" 美전문가</td>\n      <td>\"주기적 발병…미국서 항상 어느 정도의 확산 있을 것\"\"팬데믹 초기와는 다를 것…백...</td>\n    </tr>\n    <tr>\n      <th>5</th>\n      <td>104</td>\n      <td>https://news.naver.com/main/read.nhn?mode=LSD&amp;...</td>\n      <td>올림픽 다가오는데 도쿄 코로나 확산 빨라져...일주일새 25％↑</td>\n      <td>올림픽 개막이 다가오는 가운데 개최지 일본 도쿄에서 코로나19 확산 속도가 빨라...</td>\n    </tr>\n  </tbody>\n</table>\n</div>"
     },
     "execution_count": 198,
     "metadata": {},
     "output_type": "execute_result"
    }
   ],
   "source": [
    "df"
   ],
   "metadata": {
    "collapsed": false,
    "pycharm": {
     "name": "#%%\n"
    }
   }
  },
  {
   "cell_type": "code",
   "execution_count": 199,
   "outputs": [
    {
     "data": {
      "text/plain": "                                 title  \\\n0    SK바이오사이언스, 코로나19 백신 임상 3상 시험계획 제출   \n1             고양시 노래연습장 코로나19 누적확진 41명   \n2        코로나19 신규 감염, 28일 오후 9시까지 542명   \n3            프로야구 수도권 구단서 코로나19 확진자 발생   \n4    \"코로나 확진자 '0명'인 날은 절대 오지 않는다\" 美전문가   \n5  올림픽 다가오는데 도쿄 코로나 확산 빨라져...일주일새 25％↑   \n\n                                             content  \n0    SK바이오사이언스가 코로나19 백신 후보물질(GBP510)의 임상 3상 시험계획...  \n1      【파이낸셜뉴스 고양=강근주 기자】 고양시는 28일 16시 기준 29명이 코로...  \n2    [스포츠경향] 28일 서울 중구 서울역 광장에 마련된 코로나19 임시 선별검사소...  \n3    [이데일리 김지완 기자] 복수의 프로야구 수도권 구단에서 코로나19 확진자가 발...  \n4  \"주기적 발병…미국서 항상 어느 정도의 확산 있을 것\"\"팬데믹 초기와는 다를 것…백...  \n5    올림픽 개막이 다가오는 가운데 개최지 일본 도쿄에서 코로나19 확산 속도가 빨라...  ",
      "text/html": "<div>\n<style scoped>\n    .dataframe tbody tr th:only-of-type {\n        vertical-align: middle;\n    }\n\n    .dataframe tbody tr th {\n        vertical-align: top;\n    }\n\n    .dataframe thead th {\n        text-align: right;\n    }\n</style>\n<table border=\"1\" class=\"dataframe\">\n  <thead>\n    <tr style=\"text-align: right;\">\n      <th></th>\n      <th>title</th>\n      <th>content</th>\n    </tr>\n  </thead>\n  <tbody>\n    <tr>\n      <th>0</th>\n      <td>SK바이오사이언스, 코로나19 백신 임상 3상 시험계획 제출</td>\n      <td>SK바이오사이언스가 코로나19 백신 후보물질(GBP510)의 임상 3상 시험계획...</td>\n    </tr>\n    <tr>\n      <th>1</th>\n      <td>고양시 노래연습장 코로나19 누적확진 41명</td>\n      <td>【파이낸셜뉴스 고양=강근주 기자】 고양시는 28일 16시 기준 29명이 코로...</td>\n    </tr>\n    <tr>\n      <th>2</th>\n      <td>코로나19 신규 감염, 28일 오후 9시까지 542명</td>\n      <td>[스포츠경향] 28일 서울 중구 서울역 광장에 마련된 코로나19 임시 선별검사소...</td>\n    </tr>\n    <tr>\n      <th>3</th>\n      <td>프로야구 수도권 구단서 코로나19 확진자 발생</td>\n      <td>[이데일리 김지완 기자] 복수의 프로야구 수도권 구단에서 코로나19 확진자가 발...</td>\n    </tr>\n    <tr>\n      <th>4</th>\n      <td>\"코로나 확진자 '0명'인 날은 절대 오지 않는다\" 美전문가</td>\n      <td>\"주기적 발병…미국서 항상 어느 정도의 확산 있을 것\"\"팬데믹 초기와는 다를 것…백...</td>\n    </tr>\n    <tr>\n      <th>5</th>\n      <td>올림픽 다가오는데 도쿄 코로나 확산 빨라져...일주일새 25％↑</td>\n      <td>올림픽 개막이 다가오는 가운데 개최지 일본 도쿄에서 코로나19 확산 속도가 빨라...</td>\n    </tr>\n  </tbody>\n</table>\n</div>"
     },
     "execution_count": 199,
     "metadata": {},
     "output_type": "execute_result"
    }
   ],
   "source": [
    "df[['title', 'content']]"
   ],
   "metadata": {
    "collapsed": false,
    "pycharm": {
     "name": "#%%\n"
    }
   }
  },
  {
   "cell_type": "code",
   "execution_count": 217,
   "outputs": [
    {
     "name": "stdout",
     "output_type": "stream",
     "text": [
      "inner: 100\n",
      "outer: 100\n",
      "main: 0\n"
     ]
    }
   ],
   "source": [
    "val = 0\n",
    "\n",
    "def outer():\n",
    "    val = 10\n",
    "    def inner():\n",
    "        nonlocal val\n",
    "        val = 100\n",
    "        print(f'inner: {val}')\n",
    "    inner()\n",
    "    print(f'outer: {val}')\n",
    "\n",
    "outer()\n",
    "print(f'main: {val}')"
   ],
   "metadata": {
    "collapsed": false,
    "pycharm": {
     "name": "#%%\n"
    }
   }
  },
  {
   "cell_type": "code",
   "execution_count": null,
   "outputs": [],
   "source": [],
   "metadata": {
    "collapsed": false,
    "pycharm": {
     "name": "#%%\n"
    }
   }
  }
 ],
 "metadata": {
  "kernelspec": {
   "display_name": "Python 3",
   "language": "python",
   "name": "python3"
  },
  "language_info": {
   "codemirror_mode": {
    "name": "ipython",
    "version": 2
   },
   "file_extension": ".py",
   "mimetype": "text/x-python",
   "name": "python",
   "nbconvert_exporter": "python",
   "pygments_lexer": "ipython2",
   "version": "2.7.6"
  },
  "pycharm": {
   "stem_cell": {
    "cell_type": "raw",
    "source": [
     "import pandas as pd\n",
     "import numpy as np\n",
     "import requests, json"
    ],
    "metadata": {
     "collapsed": false
    }
   }
  }
 },
 "nbformat": 4,
 "nbformat_minor": 0
}