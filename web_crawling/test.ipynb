{
 "cells": [
  {
   "cell_type": "code",
   "execution_count": 1,
   "metadata": {
    "collapsed": true
   },
   "outputs": [],
   "source": [
    "import pandas as pd\n",
    "import requests"
   ]
  },
  {
   "cell_type": "code",
   "execution_count": 10,
   "outputs": [],
   "source": [
    "def stock_price(url):\n",
    "    response = requests.get(url)\n",
    "    data = pd.DataFrame(response.json())\n",
    "    return data[['localTradedAt', 'closePrice']]"
   ],
   "metadata": {
    "collapsed": false,
    "pycharm": {
     "name": "#%%\n"
    }
   }
  },
  {
   "cell_type": "code",
   "execution_count": 15,
   "outputs": [],
   "source": [
    "page = 1\n",
    "page_size = 60\n",
    "usd_url = f'https://api.stock.naver.com/marketindex/exchange/FX_USDKRW/prices?page={page}&pageSize={page_size}'\n",
    "\n",
    "df = stock_price(usd_url)"
   ],
   "metadata": {
    "collapsed": false,
    "pycharm": {
     "name": "#%%\n"
    }
   }
  },
  {
   "cell_type": "code",
   "execution_count": 16,
   "outputs": [
    {
     "data": {
      "text/plain": "  localTradedAt closePrice\n0    2022-08-03   1,309.40\n1    2022-08-02   1,312.00\n2    2022-08-01   1,305.00\n3    2022-07-29   1,304.50\n4    2022-07-28   1,302.00",
      "text/html": "<div>\n<style scoped>\n    .dataframe tbody tr th:only-of-type {\n        vertical-align: middle;\n    }\n\n    .dataframe tbody tr th {\n        vertical-align: top;\n    }\n\n    .dataframe thead th {\n        text-align: right;\n    }\n</style>\n<table border=\"1\" class=\"dataframe\">\n  <thead>\n    <tr style=\"text-align: right;\">\n      <th></th>\n      <th>localTradedAt</th>\n      <th>closePrice</th>\n    </tr>\n  </thead>\n  <tbody>\n    <tr>\n      <th>0</th>\n      <td>2022-08-03</td>\n      <td>1,309.40</td>\n    </tr>\n    <tr>\n      <th>1</th>\n      <td>2022-08-02</td>\n      <td>1,312.00</td>\n    </tr>\n    <tr>\n      <th>2</th>\n      <td>2022-08-01</td>\n      <td>1,305.00</td>\n    </tr>\n    <tr>\n      <th>3</th>\n      <td>2022-07-29</td>\n      <td>1,304.50</td>\n    </tr>\n    <tr>\n      <th>4</th>\n      <td>2022-07-28</td>\n      <td>1,302.00</td>\n    </tr>\n  </tbody>\n</table>\n</div>"
     },
     "execution_count": 16,
     "metadata": {},
     "output_type": "execute_result"
    }
   ],
   "source": [
    "df.head()"
   ],
   "metadata": {
    "collapsed": false,
    "pycharm": {
     "name": "#%%\n"
    }
   }
  },
  {
   "cell_type": "code",
   "execution_count": 17,
   "outputs": [],
   "source": [
    "kospi_url = f'https://m.stock.naver.com/api/index/KOSPI/price?pageSize={page_size}&page={page}'"
   ],
   "metadata": {
    "collapsed": false,
    "pycharm": {
     "name": "#%%\n"
    }
   }
  },
  {
   "cell_type": "code",
   "execution_count": 18,
   "outputs": [],
   "source": [
    "kospi = stock_price(kospi_url)\n",
    "usd = stock_price(usd_url)"
   ],
   "metadata": {
    "collapsed": false,
    "pycharm": {
     "name": "#%%\n"
    }
   }
  },
  {
   "cell_type": "code",
   "execution_count": 51,
   "outputs": [],
   "source": [
    "def stock_price(code=\"KOSPI\", page=1, page_size=60):\n",
    "    \"\"\" This function is crwaling stock price from naver stock web page\n",
    "    parameters :\n",
    "        code : str : KOSPI or KOSDAQ\n",
    "        page : int : page number\n",
    "        page_size : int : one page size\n",
    "    return :\n",
    "        type : DataFame of pandas\"\"\"\n",
    "    url = f'https://m.stock.naver.com/api/index/{code}/price?pageSize={page_size}&page={page}'\n",
    "    response = requests.get(url)\n",
    "    columns = [\"localTradedAt\", \"closePrice\"]\n",
    "    datas = response.json()\n",
    "    return pd.DataFrame(datas)[columns]"
   ],
   "metadata": {
    "collapsed": false,
    "pycharm": {
     "name": "#%%\n"
    }
   }
  },
  {
   "cell_type": "code",
   "execution_count": 52,
   "outputs": [],
   "source": [
    "def exchage_rate(code=\"FX_USDKRW\", page=1, page_size=60):\n",
    "    url = f'https://api.stock.naver.com/marketindex/exchange/{code}/prices?page={page}\\\n",
    "&pageSize={page_size}'\n",
    "    response = requests.get(url)\n",
    "    columns = [\"localTradedAt\", \"closePrice\"]\n",
    "    datas = response.json()\n",
    "    return pd.DataFrame(datas)[columns]"
   ],
   "metadata": {
    "collapsed": false,
    "pycharm": {
     "name": "#%%\n"
    }
   }
  },
  {
   "cell_type": "code",
   "execution_count": 53,
   "outputs": [],
   "source": [
    "df = kospi.copy()"
   ],
   "metadata": {
    "collapsed": false,
    "pycharm": {
     "name": "#%%\n"
    }
   }
  },
  {
   "cell_type": "code",
   "execution_count": 54,
   "outputs": [],
   "source": [
    "kosdaq = stock_price(\"KOSDAQ\")"
   ],
   "metadata": {
    "collapsed": false,
    "pycharm": {
     "name": "#%%\n"
    }
   }
  },
  {
   "cell_type": "code",
   "execution_count": 55,
   "outputs": [
    {
     "data": {
      "text/plain": "   localTradedAt closePrice\n0     2022-08-03   2,455.25\n1     2022-08-02   2,439.62\n2     2022-08-01   2,452.25\n3     2022-07-29   2,451.50\n4     2022-07-28   2,435.27\n5     2022-07-27   2,415.53\n6     2022-07-26   2,412.96\n7     2022-07-25   2,403.69\n8     2022-07-22   2,393.14\n9     2022-07-21   2,409.16\n10    2022-07-20   2,386.85\n11    2022-07-19   2,370.97\n12    2022-07-18   2,375.25\n13    2022-07-15   2,330.98\n14    2022-07-14   2,322.32\n15    2022-07-13   2,328.61\n16    2022-07-12   2,317.76\n17    2022-07-11   2,340.27\n18    2022-07-08   2,350.61\n19    2022-07-07   2,334.27\n20    2022-07-06   2,292.01\n21    2022-07-05   2,341.78\n22    2022-07-04   2,300.34\n23    2022-07-01   2,305.42\n24    2022-06-30   2,332.64\n25    2022-06-29   2,377.99\n26    2022-06-28   2,422.09\n27    2022-06-27   2,401.92\n28    2022-06-24   2,366.60\n29    2022-06-23   2,314.32\n30    2022-06-22   2,342.81\n31    2022-06-21   2,408.93\n32    2022-06-20   2,391.03\n33    2022-06-17   2,440.93\n34    2022-06-16   2,451.41\n35    2022-06-15   2,447.38\n36    2022-06-14   2,492.97\n37    2022-06-13   2,504.51\n38    2022-06-10   2,595.87\n39    2022-06-09   2,625.44\n40    2022-06-08   2,626.15\n41    2022-06-07   2,626.34\n42    2022-06-03   2,670.65\n43    2022-06-02   2,658.99\n44    2022-05-31   2,685.90\n45    2022-05-30   2,669.66\n46    2022-05-27   2,638.05\n47    2022-05-26   2,612.45\n48    2022-05-25   2,617.22\n49    2022-05-24   2,605.87\n50    2022-05-23   2,647.38\n51    2022-05-20   2,639.29\n52    2022-05-19   2,592.34\n53    2022-05-18   2,625.98\n54    2022-05-17   2,620.44\n55    2022-05-16   2,596.58\n56    2022-05-13   2,604.24\n57    2022-05-12   2,550.08\n58    2022-05-11   2,592.27\n59    2022-05-10   2,596.56",
      "text/html": "<div>\n<style scoped>\n    .dataframe tbody tr th:only-of-type {\n        vertical-align: middle;\n    }\n\n    .dataframe tbody tr th {\n        vertical-align: top;\n    }\n\n    .dataframe thead th {\n        text-align: right;\n    }\n</style>\n<table border=\"1\" class=\"dataframe\">\n  <thead>\n    <tr style=\"text-align: right;\">\n      <th></th>\n      <th>localTradedAt</th>\n      <th>closePrice</th>\n    </tr>\n  </thead>\n  <tbody>\n    <tr>\n      <th>0</th>\n      <td>2022-08-03</td>\n      <td>2,455.25</td>\n    </tr>\n    <tr>\n      <th>1</th>\n      <td>2022-08-02</td>\n      <td>2,439.62</td>\n    </tr>\n    <tr>\n      <th>2</th>\n      <td>2022-08-01</td>\n      <td>2,452.25</td>\n    </tr>\n    <tr>\n      <th>3</th>\n      <td>2022-07-29</td>\n      <td>2,451.50</td>\n    </tr>\n    <tr>\n      <th>4</th>\n      <td>2022-07-28</td>\n      <td>2,435.27</td>\n    </tr>\n    <tr>\n      <th>5</th>\n      <td>2022-07-27</td>\n      <td>2,415.53</td>\n    </tr>\n    <tr>\n      <th>6</th>\n      <td>2022-07-26</td>\n      <td>2,412.96</td>\n    </tr>\n    <tr>\n      <th>7</th>\n      <td>2022-07-25</td>\n      <td>2,403.69</td>\n    </tr>\n    <tr>\n      <th>8</th>\n      <td>2022-07-22</td>\n      <td>2,393.14</td>\n    </tr>\n    <tr>\n      <th>9</th>\n      <td>2022-07-21</td>\n      <td>2,409.16</td>\n    </tr>\n    <tr>\n      <th>10</th>\n      <td>2022-07-20</td>\n      <td>2,386.85</td>\n    </tr>\n    <tr>\n      <th>11</th>\n      <td>2022-07-19</td>\n      <td>2,370.97</td>\n    </tr>\n    <tr>\n      <th>12</th>\n      <td>2022-07-18</td>\n      <td>2,375.25</td>\n    </tr>\n    <tr>\n      <th>13</th>\n      <td>2022-07-15</td>\n      <td>2,330.98</td>\n    </tr>\n    <tr>\n      <th>14</th>\n      <td>2022-07-14</td>\n      <td>2,322.32</td>\n    </tr>\n    <tr>\n      <th>15</th>\n      <td>2022-07-13</td>\n      <td>2,328.61</td>\n    </tr>\n    <tr>\n      <th>16</th>\n      <td>2022-07-12</td>\n      <td>2,317.76</td>\n    </tr>\n    <tr>\n      <th>17</th>\n      <td>2022-07-11</td>\n      <td>2,340.27</td>\n    </tr>\n    <tr>\n      <th>18</th>\n      <td>2022-07-08</td>\n      <td>2,350.61</td>\n    </tr>\n    <tr>\n      <th>19</th>\n      <td>2022-07-07</td>\n      <td>2,334.27</td>\n    </tr>\n    <tr>\n      <th>20</th>\n      <td>2022-07-06</td>\n      <td>2,292.01</td>\n    </tr>\n    <tr>\n      <th>21</th>\n      <td>2022-07-05</td>\n      <td>2,341.78</td>\n    </tr>\n    <tr>\n      <th>22</th>\n      <td>2022-07-04</td>\n      <td>2,300.34</td>\n    </tr>\n    <tr>\n      <th>23</th>\n      <td>2022-07-01</td>\n      <td>2,305.42</td>\n    </tr>\n    <tr>\n      <th>24</th>\n      <td>2022-06-30</td>\n      <td>2,332.64</td>\n    </tr>\n    <tr>\n      <th>25</th>\n      <td>2022-06-29</td>\n      <td>2,377.99</td>\n    </tr>\n    <tr>\n      <th>26</th>\n      <td>2022-06-28</td>\n      <td>2,422.09</td>\n    </tr>\n    <tr>\n      <th>27</th>\n      <td>2022-06-27</td>\n      <td>2,401.92</td>\n    </tr>\n    <tr>\n      <th>28</th>\n      <td>2022-06-24</td>\n      <td>2,366.60</td>\n    </tr>\n    <tr>\n      <th>29</th>\n      <td>2022-06-23</td>\n      <td>2,314.32</td>\n    </tr>\n    <tr>\n      <th>30</th>\n      <td>2022-06-22</td>\n      <td>2,342.81</td>\n    </tr>\n    <tr>\n      <th>31</th>\n      <td>2022-06-21</td>\n      <td>2,408.93</td>\n    </tr>\n    <tr>\n      <th>32</th>\n      <td>2022-06-20</td>\n      <td>2,391.03</td>\n    </tr>\n    <tr>\n      <th>33</th>\n      <td>2022-06-17</td>\n      <td>2,440.93</td>\n    </tr>\n    <tr>\n      <th>34</th>\n      <td>2022-06-16</td>\n      <td>2,451.41</td>\n    </tr>\n    <tr>\n      <th>35</th>\n      <td>2022-06-15</td>\n      <td>2,447.38</td>\n    </tr>\n    <tr>\n      <th>36</th>\n      <td>2022-06-14</td>\n      <td>2,492.97</td>\n    </tr>\n    <tr>\n      <th>37</th>\n      <td>2022-06-13</td>\n      <td>2,504.51</td>\n    </tr>\n    <tr>\n      <th>38</th>\n      <td>2022-06-10</td>\n      <td>2,595.87</td>\n    </tr>\n    <tr>\n      <th>39</th>\n      <td>2022-06-09</td>\n      <td>2,625.44</td>\n    </tr>\n    <tr>\n      <th>40</th>\n      <td>2022-06-08</td>\n      <td>2,626.15</td>\n    </tr>\n    <tr>\n      <th>41</th>\n      <td>2022-06-07</td>\n      <td>2,626.34</td>\n    </tr>\n    <tr>\n      <th>42</th>\n      <td>2022-06-03</td>\n      <td>2,670.65</td>\n    </tr>\n    <tr>\n      <th>43</th>\n      <td>2022-06-02</td>\n      <td>2,658.99</td>\n    </tr>\n    <tr>\n      <th>44</th>\n      <td>2022-05-31</td>\n      <td>2,685.90</td>\n    </tr>\n    <tr>\n      <th>45</th>\n      <td>2022-05-30</td>\n      <td>2,669.66</td>\n    </tr>\n    <tr>\n      <th>46</th>\n      <td>2022-05-27</td>\n      <td>2,638.05</td>\n    </tr>\n    <tr>\n      <th>47</th>\n      <td>2022-05-26</td>\n      <td>2,612.45</td>\n    </tr>\n    <tr>\n      <th>48</th>\n      <td>2022-05-25</td>\n      <td>2,617.22</td>\n    </tr>\n    <tr>\n      <th>49</th>\n      <td>2022-05-24</td>\n      <td>2,605.87</td>\n    </tr>\n    <tr>\n      <th>50</th>\n      <td>2022-05-23</td>\n      <td>2,647.38</td>\n    </tr>\n    <tr>\n      <th>51</th>\n      <td>2022-05-20</td>\n      <td>2,639.29</td>\n    </tr>\n    <tr>\n      <th>52</th>\n      <td>2022-05-19</td>\n      <td>2,592.34</td>\n    </tr>\n    <tr>\n      <th>53</th>\n      <td>2022-05-18</td>\n      <td>2,625.98</td>\n    </tr>\n    <tr>\n      <th>54</th>\n      <td>2022-05-17</td>\n      <td>2,620.44</td>\n    </tr>\n    <tr>\n      <th>55</th>\n      <td>2022-05-16</td>\n      <td>2,596.58</td>\n    </tr>\n    <tr>\n      <th>56</th>\n      <td>2022-05-13</td>\n      <td>2,604.24</td>\n    </tr>\n    <tr>\n      <th>57</th>\n      <td>2022-05-12</td>\n      <td>2,550.08</td>\n    </tr>\n    <tr>\n      <th>58</th>\n      <td>2022-05-11</td>\n      <td>2,592.27</td>\n    </tr>\n    <tr>\n      <th>59</th>\n      <td>2022-05-10</td>\n      <td>2,596.56</td>\n    </tr>\n  </tbody>\n</table>\n</div>"
     },
     "execution_count": 55,
     "metadata": {},
     "output_type": "execute_result"
    }
   ],
   "source": [
    "df"
   ],
   "metadata": {
    "collapsed": false,
    "pycharm": {
     "name": "#%%\n"
    }
   }
  },
  {
   "cell_type": "code",
   "execution_count": 56,
   "outputs": [
    {
     "data": {
      "text/plain": "   localTradedAt closePrice\n0     2022-08-03     813.35\n1     2022-08-02     804.34\n2     2022-08-01     807.61\n3     2022-07-29     803.62\n4     2022-07-28     798.32\n5     2022-07-27     795.70\n6     2022-07-26     789.93\n7     2022-07-25     789.69\n8     2022-07-22     789.75\n9     2022-07-21     795.15\n10    2022-07-20     790.72\n11    2022-07-19     782.33\n12    2022-07-18     776.72\n13    2022-07-15     762.39\n14    2022-07-14     766.08\n15    2022-07-13     763.18\n16    2022-07-12     750.78\n17    2022-07-11     767.04\n18    2022-07-08     766.48\n19    2022-07-07     757.97\n20    2022-07-06     744.63\n21    2022-07-05     750.95\n22    2022-07-04     722.73\n23    2022-07-01     729.48\n24    2022-06-30     745.44\n25    2022-06-29     762.35\n26    2022-06-28     769.51\n27    2022-06-27     770.60\n28    2022-06-24     750.30\n29    2022-06-23     714.38\n30    2022-06-22     746.96\n31    2022-06-21     778.30\n32    2022-06-20     769.92\n33    2022-06-17     798.69\n34    2022-06-16     802.15\n35    2022-06-15     799.41\n36    2022-06-14     823.58\n37    2022-06-13     828.77\n38    2022-06-10     869.86\n39    2022-06-09     877.18\n40    2022-06-08     874.95\n41    2022-06-07     873.78\n42    2022-06-03     891.51\n43    2022-06-02     891.14\n44    2022-05-31     893.36\n45    2022-05-30     886.44\n46    2022-05-27     873.97\n47    2022-05-26     871.43\n48    2022-05-25     872.69\n49    2022-05-24     865.07\n50    2022-05-23     883.59\n51    2022-05-20     879.88\n52    2022-05-19     863.80\n53    2022-05-18     871.57\n54    2022-05-17     865.98\n55    2022-05-16     856.25\n56    2022-05-13     853.08\n57    2022-05-12     833.66\n58    2022-05-11     866.34\n59    2022-05-10     856.14",
      "text/html": "<div>\n<style scoped>\n    .dataframe tbody tr th:only-of-type {\n        vertical-align: middle;\n    }\n\n    .dataframe tbody tr th {\n        vertical-align: top;\n    }\n\n    .dataframe thead th {\n        text-align: right;\n    }\n</style>\n<table border=\"1\" class=\"dataframe\">\n  <thead>\n    <tr style=\"text-align: right;\">\n      <th></th>\n      <th>localTradedAt</th>\n      <th>closePrice</th>\n    </tr>\n  </thead>\n  <tbody>\n    <tr>\n      <th>0</th>\n      <td>2022-08-03</td>\n      <td>813.35</td>\n    </tr>\n    <tr>\n      <th>1</th>\n      <td>2022-08-02</td>\n      <td>804.34</td>\n    </tr>\n    <tr>\n      <th>2</th>\n      <td>2022-08-01</td>\n      <td>807.61</td>\n    </tr>\n    <tr>\n      <th>3</th>\n      <td>2022-07-29</td>\n      <td>803.62</td>\n    </tr>\n    <tr>\n      <th>4</th>\n      <td>2022-07-28</td>\n      <td>798.32</td>\n    </tr>\n    <tr>\n      <th>5</th>\n      <td>2022-07-27</td>\n      <td>795.70</td>\n    </tr>\n    <tr>\n      <th>6</th>\n      <td>2022-07-26</td>\n      <td>789.93</td>\n    </tr>\n    <tr>\n      <th>7</th>\n      <td>2022-07-25</td>\n      <td>789.69</td>\n    </tr>\n    <tr>\n      <th>8</th>\n      <td>2022-07-22</td>\n      <td>789.75</td>\n    </tr>\n    <tr>\n      <th>9</th>\n      <td>2022-07-21</td>\n      <td>795.15</td>\n    </tr>\n    <tr>\n      <th>10</th>\n      <td>2022-07-20</td>\n      <td>790.72</td>\n    </tr>\n    <tr>\n      <th>11</th>\n      <td>2022-07-19</td>\n      <td>782.33</td>\n    </tr>\n    <tr>\n      <th>12</th>\n      <td>2022-07-18</td>\n      <td>776.72</td>\n    </tr>\n    <tr>\n      <th>13</th>\n      <td>2022-07-15</td>\n      <td>762.39</td>\n    </tr>\n    <tr>\n      <th>14</th>\n      <td>2022-07-14</td>\n      <td>766.08</td>\n    </tr>\n    <tr>\n      <th>15</th>\n      <td>2022-07-13</td>\n      <td>763.18</td>\n    </tr>\n    <tr>\n      <th>16</th>\n      <td>2022-07-12</td>\n      <td>750.78</td>\n    </tr>\n    <tr>\n      <th>17</th>\n      <td>2022-07-11</td>\n      <td>767.04</td>\n    </tr>\n    <tr>\n      <th>18</th>\n      <td>2022-07-08</td>\n      <td>766.48</td>\n    </tr>\n    <tr>\n      <th>19</th>\n      <td>2022-07-07</td>\n      <td>757.97</td>\n    </tr>\n    <tr>\n      <th>20</th>\n      <td>2022-07-06</td>\n      <td>744.63</td>\n    </tr>\n    <tr>\n      <th>21</th>\n      <td>2022-07-05</td>\n      <td>750.95</td>\n    </tr>\n    <tr>\n      <th>22</th>\n      <td>2022-07-04</td>\n      <td>722.73</td>\n    </tr>\n    <tr>\n      <th>23</th>\n      <td>2022-07-01</td>\n      <td>729.48</td>\n    </tr>\n    <tr>\n      <th>24</th>\n      <td>2022-06-30</td>\n      <td>745.44</td>\n    </tr>\n    <tr>\n      <th>25</th>\n      <td>2022-06-29</td>\n      <td>762.35</td>\n    </tr>\n    <tr>\n      <th>26</th>\n      <td>2022-06-28</td>\n      <td>769.51</td>\n    </tr>\n    <tr>\n      <th>27</th>\n      <td>2022-06-27</td>\n      <td>770.60</td>\n    </tr>\n    <tr>\n      <th>28</th>\n      <td>2022-06-24</td>\n      <td>750.30</td>\n    </tr>\n    <tr>\n      <th>29</th>\n      <td>2022-06-23</td>\n      <td>714.38</td>\n    </tr>\n    <tr>\n      <th>30</th>\n      <td>2022-06-22</td>\n      <td>746.96</td>\n    </tr>\n    <tr>\n      <th>31</th>\n      <td>2022-06-21</td>\n      <td>778.30</td>\n    </tr>\n    <tr>\n      <th>32</th>\n      <td>2022-06-20</td>\n      <td>769.92</td>\n    </tr>\n    <tr>\n      <th>33</th>\n      <td>2022-06-17</td>\n      <td>798.69</td>\n    </tr>\n    <tr>\n      <th>34</th>\n      <td>2022-06-16</td>\n      <td>802.15</td>\n    </tr>\n    <tr>\n      <th>35</th>\n      <td>2022-06-15</td>\n      <td>799.41</td>\n    </tr>\n    <tr>\n      <th>36</th>\n      <td>2022-06-14</td>\n      <td>823.58</td>\n    </tr>\n    <tr>\n      <th>37</th>\n      <td>2022-06-13</td>\n      <td>828.77</td>\n    </tr>\n    <tr>\n      <th>38</th>\n      <td>2022-06-10</td>\n      <td>869.86</td>\n    </tr>\n    <tr>\n      <th>39</th>\n      <td>2022-06-09</td>\n      <td>877.18</td>\n    </tr>\n    <tr>\n      <th>40</th>\n      <td>2022-06-08</td>\n      <td>874.95</td>\n    </tr>\n    <tr>\n      <th>41</th>\n      <td>2022-06-07</td>\n      <td>873.78</td>\n    </tr>\n    <tr>\n      <th>42</th>\n      <td>2022-06-03</td>\n      <td>891.51</td>\n    </tr>\n    <tr>\n      <th>43</th>\n      <td>2022-06-02</td>\n      <td>891.14</td>\n    </tr>\n    <tr>\n      <th>44</th>\n      <td>2022-05-31</td>\n      <td>893.36</td>\n    </tr>\n    <tr>\n      <th>45</th>\n      <td>2022-05-30</td>\n      <td>886.44</td>\n    </tr>\n    <tr>\n      <th>46</th>\n      <td>2022-05-27</td>\n      <td>873.97</td>\n    </tr>\n    <tr>\n      <th>47</th>\n      <td>2022-05-26</td>\n      <td>871.43</td>\n    </tr>\n    <tr>\n      <th>48</th>\n      <td>2022-05-25</td>\n      <td>872.69</td>\n    </tr>\n    <tr>\n      <th>49</th>\n      <td>2022-05-24</td>\n      <td>865.07</td>\n    </tr>\n    <tr>\n      <th>50</th>\n      <td>2022-05-23</td>\n      <td>883.59</td>\n    </tr>\n    <tr>\n      <th>51</th>\n      <td>2022-05-20</td>\n      <td>879.88</td>\n    </tr>\n    <tr>\n      <th>52</th>\n      <td>2022-05-19</td>\n      <td>863.80</td>\n    </tr>\n    <tr>\n      <th>53</th>\n      <td>2022-05-18</td>\n      <td>871.57</td>\n    </tr>\n    <tr>\n      <th>54</th>\n      <td>2022-05-17</td>\n      <td>865.98</td>\n    </tr>\n    <tr>\n      <th>55</th>\n      <td>2022-05-16</td>\n      <td>856.25</td>\n    </tr>\n    <tr>\n      <th>56</th>\n      <td>2022-05-13</td>\n      <td>853.08</td>\n    </tr>\n    <tr>\n      <th>57</th>\n      <td>2022-05-12</td>\n      <td>833.66</td>\n    </tr>\n    <tr>\n      <th>58</th>\n      <td>2022-05-11</td>\n      <td>866.34</td>\n    </tr>\n    <tr>\n      <th>59</th>\n      <td>2022-05-10</td>\n      <td>856.14</td>\n    </tr>\n  </tbody>\n</table>\n</div>"
     },
     "execution_count": 56,
     "metadata": {},
     "output_type": "execute_result"
    }
   ],
   "source": [
    "kosdaq"
   ],
   "metadata": {
    "collapsed": false,
    "pycharm": {
     "name": "#%%\n"
    }
   }
  },
  {
   "cell_type": "code",
   "execution_count": 57,
   "outputs": [],
   "source": [
    "df['kosdaq'] = kosdaq['closePrice']\n",
    "df['usd'] = usd['closePrice']"
   ],
   "metadata": {
    "collapsed": false,
    "pycharm": {
     "name": "#%%\n"
    }
   }
  },
  {
   "cell_type": "code",
   "execution_count": 58,
   "outputs": [
    {
     "data": {
      "text/plain": "   localTradedAt closePrice  kosdaq       usd\n0     2022-08-03   2,455.25  813.35  1,309.40\n1     2022-08-02   2,439.62  804.34  1,312.00\n2     2022-08-01   2,452.25  807.61  1,305.00\n3     2022-07-29   2,451.50  803.62  1,304.50\n4     2022-07-28   2,435.27  798.32  1,302.00\n5     2022-07-27   2,415.53  795.70  1,314.00\n6     2022-07-26   2,412.96  789.93  1,311.00\n7     2022-07-25   2,403.69  789.69  1,312.00\n8     2022-07-22   2,393.14  789.75  1,310.00\n9     2022-07-21   2,409.16  795.15  1,315.00\n10    2022-07-20   2,386.85  790.72  1,312.00\n11    2022-07-19   2,370.97  782.33  1,309.00\n12    2022-07-18   2,375.25  776.72  1,315.50\n13    2022-07-15   2,330.98  762.39  1,325.00\n14    2022-07-14   2,322.32  766.08  1,324.00\n15    2022-07-13   2,328.61  763.18  1,305.00\n16    2022-07-12   2,317.76  750.78  1,309.00\n17    2022-07-11   2,340.27  767.04  1,314.00\n18    2022-07-08   2,350.61  766.48  1,300.00\n19    2022-07-07   2,334.27  757.97  1,300.50\n20    2022-07-06   2,292.01  744.63  1,306.00\n21    2022-07-05   2,341.78  750.95  1,311.50\n22    2022-07-04   2,300.34  722.73  1,295.50\n23    2022-07-01   2,305.42  729.48  1,298.00\n24    2022-06-30   2,332.64  745.44  1,301.50\n25    2022-06-29   2,377.99  762.35  1,297.50\n26    2022-06-28   2,422.09  769.51  1,291.00\n27    2022-06-27   2,401.92  770.60  1,285.00\n28    2022-06-24   2,366.60  750.30  1,296.00\n29    2022-06-23   2,314.32  714.38  1,303.50\n30    2022-06-22   2,342.81  746.96  1,302.50\n31    2022-06-21   2,408.93  778.30  1,293.50\n32    2022-06-20   2,391.03  769.92  1,293.00\n33    2022-06-17   2,440.93  798.69  1,295.00\n34    2022-06-16   2,451.41  802.15  1,293.50\n35    2022-06-15   2,447.38  799.41  1,291.50\n36    2022-06-14   2,492.97  823.58  1,289.50\n37    2022-06-13   2,504.51  828.77  1,288.00\n38    2022-06-10   2,595.87  869.86  1,280.00\n39    2022-06-09   2,625.44  877.18  1,256.00\n40    2022-06-08   2,626.15  874.95  1,257.50\n41    2022-06-07   2,626.34  873.78  1,257.50\n42    2022-06-03   2,670.65  891.51  1,252.00\n43    2022-06-02   2,658.99  891.14  1,250.50\n44    2022-05-31   2,685.90  893.36  1,248.00\n45    2022-05-30   2,669.66  886.44  1,238.50\n46    2022-05-27   2,638.05  873.97  1,256.00\n47    2022-05-26   2,612.45  871.43  1,265.50\n48    2022-05-25   2,617.22  872.69  1,271.00\n49    2022-05-24   2,605.87  865.07  1,265.00\n50    2022-05-23   2,647.38  883.59  1,264.50\n51    2022-05-20   2,639.29  879.88  1,273.00\n52    2022-05-19   2,592.34  863.80  1,278.00\n53    2022-05-18   2,625.98  871.57  1,267.50\n54    2022-05-17   2,620.44  865.98  1,270.50\n55    2022-05-16   2,596.58  856.25  1,285.00\n56    2022-05-13   2,604.24  853.08  1,284.00\n57    2022-05-12   2,550.08  833.66  1,290.50\n58    2022-05-11   2,592.27  866.34  1,274.50\n59    2022-05-10   2,596.56  856.14  1,276.00",
      "text/html": "<div>\n<style scoped>\n    .dataframe tbody tr th:only-of-type {\n        vertical-align: middle;\n    }\n\n    .dataframe tbody tr th {\n        vertical-align: top;\n    }\n\n    .dataframe thead th {\n        text-align: right;\n    }\n</style>\n<table border=\"1\" class=\"dataframe\">\n  <thead>\n    <tr style=\"text-align: right;\">\n      <th></th>\n      <th>localTradedAt</th>\n      <th>closePrice</th>\n      <th>kosdaq</th>\n      <th>usd</th>\n    </tr>\n  </thead>\n  <tbody>\n    <tr>\n      <th>0</th>\n      <td>2022-08-03</td>\n      <td>2,455.25</td>\n      <td>813.35</td>\n      <td>1,309.40</td>\n    </tr>\n    <tr>\n      <th>1</th>\n      <td>2022-08-02</td>\n      <td>2,439.62</td>\n      <td>804.34</td>\n      <td>1,312.00</td>\n    </tr>\n    <tr>\n      <th>2</th>\n      <td>2022-08-01</td>\n      <td>2,452.25</td>\n      <td>807.61</td>\n      <td>1,305.00</td>\n    </tr>\n    <tr>\n      <th>3</th>\n      <td>2022-07-29</td>\n      <td>2,451.50</td>\n      <td>803.62</td>\n      <td>1,304.50</td>\n    </tr>\n    <tr>\n      <th>4</th>\n      <td>2022-07-28</td>\n      <td>2,435.27</td>\n      <td>798.32</td>\n      <td>1,302.00</td>\n    </tr>\n    <tr>\n      <th>5</th>\n      <td>2022-07-27</td>\n      <td>2,415.53</td>\n      <td>795.70</td>\n      <td>1,314.00</td>\n    </tr>\n    <tr>\n      <th>6</th>\n      <td>2022-07-26</td>\n      <td>2,412.96</td>\n      <td>789.93</td>\n      <td>1,311.00</td>\n    </tr>\n    <tr>\n      <th>7</th>\n      <td>2022-07-25</td>\n      <td>2,403.69</td>\n      <td>789.69</td>\n      <td>1,312.00</td>\n    </tr>\n    <tr>\n      <th>8</th>\n      <td>2022-07-22</td>\n      <td>2,393.14</td>\n      <td>789.75</td>\n      <td>1,310.00</td>\n    </tr>\n    <tr>\n      <th>9</th>\n      <td>2022-07-21</td>\n      <td>2,409.16</td>\n      <td>795.15</td>\n      <td>1,315.00</td>\n    </tr>\n    <tr>\n      <th>10</th>\n      <td>2022-07-20</td>\n      <td>2,386.85</td>\n      <td>790.72</td>\n      <td>1,312.00</td>\n    </tr>\n    <tr>\n      <th>11</th>\n      <td>2022-07-19</td>\n      <td>2,370.97</td>\n      <td>782.33</td>\n      <td>1,309.00</td>\n    </tr>\n    <tr>\n      <th>12</th>\n      <td>2022-07-18</td>\n      <td>2,375.25</td>\n      <td>776.72</td>\n      <td>1,315.50</td>\n    </tr>\n    <tr>\n      <th>13</th>\n      <td>2022-07-15</td>\n      <td>2,330.98</td>\n      <td>762.39</td>\n      <td>1,325.00</td>\n    </tr>\n    <tr>\n      <th>14</th>\n      <td>2022-07-14</td>\n      <td>2,322.32</td>\n      <td>766.08</td>\n      <td>1,324.00</td>\n    </tr>\n    <tr>\n      <th>15</th>\n      <td>2022-07-13</td>\n      <td>2,328.61</td>\n      <td>763.18</td>\n      <td>1,305.00</td>\n    </tr>\n    <tr>\n      <th>16</th>\n      <td>2022-07-12</td>\n      <td>2,317.76</td>\n      <td>750.78</td>\n      <td>1,309.00</td>\n    </tr>\n    <tr>\n      <th>17</th>\n      <td>2022-07-11</td>\n      <td>2,340.27</td>\n      <td>767.04</td>\n      <td>1,314.00</td>\n    </tr>\n    <tr>\n      <th>18</th>\n      <td>2022-07-08</td>\n      <td>2,350.61</td>\n      <td>766.48</td>\n      <td>1,300.00</td>\n    </tr>\n    <tr>\n      <th>19</th>\n      <td>2022-07-07</td>\n      <td>2,334.27</td>\n      <td>757.97</td>\n      <td>1,300.50</td>\n    </tr>\n    <tr>\n      <th>20</th>\n      <td>2022-07-06</td>\n      <td>2,292.01</td>\n      <td>744.63</td>\n      <td>1,306.00</td>\n    </tr>\n    <tr>\n      <th>21</th>\n      <td>2022-07-05</td>\n      <td>2,341.78</td>\n      <td>750.95</td>\n      <td>1,311.50</td>\n    </tr>\n    <tr>\n      <th>22</th>\n      <td>2022-07-04</td>\n      <td>2,300.34</td>\n      <td>722.73</td>\n      <td>1,295.50</td>\n    </tr>\n    <tr>\n      <th>23</th>\n      <td>2022-07-01</td>\n      <td>2,305.42</td>\n      <td>729.48</td>\n      <td>1,298.00</td>\n    </tr>\n    <tr>\n      <th>24</th>\n      <td>2022-06-30</td>\n      <td>2,332.64</td>\n      <td>745.44</td>\n      <td>1,301.50</td>\n    </tr>\n    <tr>\n      <th>25</th>\n      <td>2022-06-29</td>\n      <td>2,377.99</td>\n      <td>762.35</td>\n      <td>1,297.50</td>\n    </tr>\n    <tr>\n      <th>26</th>\n      <td>2022-06-28</td>\n      <td>2,422.09</td>\n      <td>769.51</td>\n      <td>1,291.00</td>\n    </tr>\n    <tr>\n      <th>27</th>\n      <td>2022-06-27</td>\n      <td>2,401.92</td>\n      <td>770.60</td>\n      <td>1,285.00</td>\n    </tr>\n    <tr>\n      <th>28</th>\n      <td>2022-06-24</td>\n      <td>2,366.60</td>\n      <td>750.30</td>\n      <td>1,296.00</td>\n    </tr>\n    <tr>\n      <th>29</th>\n      <td>2022-06-23</td>\n      <td>2,314.32</td>\n      <td>714.38</td>\n      <td>1,303.50</td>\n    </tr>\n    <tr>\n      <th>30</th>\n      <td>2022-06-22</td>\n      <td>2,342.81</td>\n      <td>746.96</td>\n      <td>1,302.50</td>\n    </tr>\n    <tr>\n      <th>31</th>\n      <td>2022-06-21</td>\n      <td>2,408.93</td>\n      <td>778.30</td>\n      <td>1,293.50</td>\n    </tr>\n    <tr>\n      <th>32</th>\n      <td>2022-06-20</td>\n      <td>2,391.03</td>\n      <td>769.92</td>\n      <td>1,293.00</td>\n    </tr>\n    <tr>\n      <th>33</th>\n      <td>2022-06-17</td>\n      <td>2,440.93</td>\n      <td>798.69</td>\n      <td>1,295.00</td>\n    </tr>\n    <tr>\n      <th>34</th>\n      <td>2022-06-16</td>\n      <td>2,451.41</td>\n      <td>802.15</td>\n      <td>1,293.50</td>\n    </tr>\n    <tr>\n      <th>35</th>\n      <td>2022-06-15</td>\n      <td>2,447.38</td>\n      <td>799.41</td>\n      <td>1,291.50</td>\n    </tr>\n    <tr>\n      <th>36</th>\n      <td>2022-06-14</td>\n      <td>2,492.97</td>\n      <td>823.58</td>\n      <td>1,289.50</td>\n    </tr>\n    <tr>\n      <th>37</th>\n      <td>2022-06-13</td>\n      <td>2,504.51</td>\n      <td>828.77</td>\n      <td>1,288.00</td>\n    </tr>\n    <tr>\n      <th>38</th>\n      <td>2022-06-10</td>\n      <td>2,595.87</td>\n      <td>869.86</td>\n      <td>1,280.00</td>\n    </tr>\n    <tr>\n      <th>39</th>\n      <td>2022-06-09</td>\n      <td>2,625.44</td>\n      <td>877.18</td>\n      <td>1,256.00</td>\n    </tr>\n    <tr>\n      <th>40</th>\n      <td>2022-06-08</td>\n      <td>2,626.15</td>\n      <td>874.95</td>\n      <td>1,257.50</td>\n    </tr>\n    <tr>\n      <th>41</th>\n      <td>2022-06-07</td>\n      <td>2,626.34</td>\n      <td>873.78</td>\n      <td>1,257.50</td>\n    </tr>\n    <tr>\n      <th>42</th>\n      <td>2022-06-03</td>\n      <td>2,670.65</td>\n      <td>891.51</td>\n      <td>1,252.00</td>\n    </tr>\n    <tr>\n      <th>43</th>\n      <td>2022-06-02</td>\n      <td>2,658.99</td>\n      <td>891.14</td>\n      <td>1,250.50</td>\n    </tr>\n    <tr>\n      <th>44</th>\n      <td>2022-05-31</td>\n      <td>2,685.90</td>\n      <td>893.36</td>\n      <td>1,248.00</td>\n    </tr>\n    <tr>\n      <th>45</th>\n      <td>2022-05-30</td>\n      <td>2,669.66</td>\n      <td>886.44</td>\n      <td>1,238.50</td>\n    </tr>\n    <tr>\n      <th>46</th>\n      <td>2022-05-27</td>\n      <td>2,638.05</td>\n      <td>873.97</td>\n      <td>1,256.00</td>\n    </tr>\n    <tr>\n      <th>47</th>\n      <td>2022-05-26</td>\n      <td>2,612.45</td>\n      <td>871.43</td>\n      <td>1,265.50</td>\n    </tr>\n    <tr>\n      <th>48</th>\n      <td>2022-05-25</td>\n      <td>2,617.22</td>\n      <td>872.69</td>\n      <td>1,271.00</td>\n    </tr>\n    <tr>\n      <th>49</th>\n      <td>2022-05-24</td>\n      <td>2,605.87</td>\n      <td>865.07</td>\n      <td>1,265.00</td>\n    </tr>\n    <tr>\n      <th>50</th>\n      <td>2022-05-23</td>\n      <td>2,647.38</td>\n      <td>883.59</td>\n      <td>1,264.50</td>\n    </tr>\n    <tr>\n      <th>51</th>\n      <td>2022-05-20</td>\n      <td>2,639.29</td>\n      <td>879.88</td>\n      <td>1,273.00</td>\n    </tr>\n    <tr>\n      <th>52</th>\n      <td>2022-05-19</td>\n      <td>2,592.34</td>\n      <td>863.80</td>\n      <td>1,278.00</td>\n    </tr>\n    <tr>\n      <th>53</th>\n      <td>2022-05-18</td>\n      <td>2,625.98</td>\n      <td>871.57</td>\n      <td>1,267.50</td>\n    </tr>\n    <tr>\n      <th>54</th>\n      <td>2022-05-17</td>\n      <td>2,620.44</td>\n      <td>865.98</td>\n      <td>1,270.50</td>\n    </tr>\n    <tr>\n      <th>55</th>\n      <td>2022-05-16</td>\n      <td>2,596.58</td>\n      <td>856.25</td>\n      <td>1,285.00</td>\n    </tr>\n    <tr>\n      <th>56</th>\n      <td>2022-05-13</td>\n      <td>2,604.24</td>\n      <td>853.08</td>\n      <td>1,284.00</td>\n    </tr>\n    <tr>\n      <th>57</th>\n      <td>2022-05-12</td>\n      <td>2,550.08</td>\n      <td>833.66</td>\n      <td>1,290.50</td>\n    </tr>\n    <tr>\n      <th>58</th>\n      <td>2022-05-11</td>\n      <td>2,592.27</td>\n      <td>866.34</td>\n      <td>1,274.50</td>\n    </tr>\n    <tr>\n      <th>59</th>\n      <td>2022-05-10</td>\n      <td>2,596.56</td>\n      <td>856.14</td>\n      <td>1,276.00</td>\n    </tr>\n  </tbody>\n</table>\n</div>"
     },
     "execution_count": 58,
     "metadata": {},
     "output_type": "execute_result"
    }
   ],
   "source": [
    "df"
   ],
   "metadata": {
    "collapsed": false,
    "pycharm": {
     "name": "#%%\n"
    }
   }
  },
  {
   "cell_type": "code",
   "execution_count": 59,
   "outputs": [
    {
     "data": {
      "text/plain": "  localTradedAt closePrice  kosdaq       usd\n0    2022-08-03   2,455.25  813.35  1,309.40\n1    2022-08-02   2,439.62  804.34  1,312.00\n2    2022-08-01   2,452.25  807.61  1,305.00\n3    2022-07-29   2,451.50  803.62  1,304.50\n4    2022-07-28   2,435.27  798.32  1,302.00\n5    2022-07-27   2,415.53  795.70  1,314.00\n6    2022-07-26   2,412.96  789.93  1,311.00\n7    2022-07-25   2,403.69  789.69  1,312.00\n8    2022-07-22   2,393.14  789.75  1,310.00\n9    2022-07-21   2,409.16  795.15  1,315.00",
      "text/html": "<div>\n<style scoped>\n    .dataframe tbody tr th:only-of-type {\n        vertical-align: middle;\n    }\n\n    .dataframe tbody tr th {\n        vertical-align: top;\n    }\n\n    .dataframe thead th {\n        text-align: right;\n    }\n</style>\n<table border=\"1\" class=\"dataframe\">\n  <thead>\n    <tr style=\"text-align: right;\">\n      <th></th>\n      <th>localTradedAt</th>\n      <th>closePrice</th>\n      <th>kosdaq</th>\n      <th>usd</th>\n    </tr>\n  </thead>\n  <tbody>\n    <tr>\n      <th>0</th>\n      <td>2022-08-03</td>\n      <td>2,455.25</td>\n      <td>813.35</td>\n      <td>1,309.40</td>\n    </tr>\n    <tr>\n      <th>1</th>\n      <td>2022-08-02</td>\n      <td>2,439.62</td>\n      <td>804.34</td>\n      <td>1,312.00</td>\n    </tr>\n    <tr>\n      <th>2</th>\n      <td>2022-08-01</td>\n      <td>2,452.25</td>\n      <td>807.61</td>\n      <td>1,305.00</td>\n    </tr>\n    <tr>\n      <th>3</th>\n      <td>2022-07-29</td>\n      <td>2,451.50</td>\n      <td>803.62</td>\n      <td>1,304.50</td>\n    </tr>\n    <tr>\n      <th>4</th>\n      <td>2022-07-28</td>\n      <td>2,435.27</td>\n      <td>798.32</td>\n      <td>1,302.00</td>\n    </tr>\n    <tr>\n      <th>5</th>\n      <td>2022-07-27</td>\n      <td>2,415.53</td>\n      <td>795.70</td>\n      <td>1,314.00</td>\n    </tr>\n    <tr>\n      <th>6</th>\n      <td>2022-07-26</td>\n      <td>2,412.96</td>\n      <td>789.93</td>\n      <td>1,311.00</td>\n    </tr>\n    <tr>\n      <th>7</th>\n      <td>2022-07-25</td>\n      <td>2,403.69</td>\n      <td>789.69</td>\n      <td>1,312.00</td>\n    </tr>\n    <tr>\n      <th>8</th>\n      <td>2022-07-22</td>\n      <td>2,393.14</td>\n      <td>789.75</td>\n      <td>1,310.00</td>\n    </tr>\n    <tr>\n      <th>9</th>\n      <td>2022-07-21</td>\n      <td>2,409.16</td>\n      <td>795.15</td>\n      <td>1,315.00</td>\n    </tr>\n  </tbody>\n</table>\n</div>"
     },
     "execution_count": 59,
     "metadata": {},
     "output_type": "execute_result"
    }
   ],
   "source": [
    "df.head(10)"
   ],
   "metadata": {
    "collapsed": false,
    "pycharm": {
     "name": "#%%\n"
    }
   }
  },
  {
   "cell_type": "code",
   "execution_count": 60,
   "outputs": [
    {
     "data": {
      "text/plain": "pandas.core.frame.DataFrame"
     },
     "execution_count": 60,
     "metadata": {},
     "output_type": "execute_result"
    }
   ],
   "source": [
    "\n",
    "type(df)"
   ],
   "metadata": {
    "collapsed": false,
    "pycharm": {
     "name": "#%%\n"
    }
   }
  },
  {
   "cell_type": "code",
   "execution_count": 61,
   "outputs": [],
   "source": [
    "df.rename(columns={'closePrice': 'kospi'}, inplace=True)"
   ],
   "metadata": {
    "collapsed": false,
    "pycharm": {
     "name": "#%%\n"
    }
   }
  },
  {
   "cell_type": "code",
   "execution_count": 66,
   "outputs": [],
   "source": [
    "for col in df.columns[1:]:\n",
    "    df[col] = df[col].apply(lambda data: float(data.replace(\",\", \"\")))"
   ],
   "metadata": {
    "collapsed": false,
    "pycharm": {
     "name": "#%%\n"
    }
   }
  },
  {
   "cell_type": "code",
   "execution_count": 67,
   "outputs": [
    {
     "data": {
      "text/plain": "           kospi    kosdaq       usd\nkospi   1.000000  0.984043 -0.878546\nkosdaq  0.984043  1.000000 -0.821555\nusd    -0.878546 -0.821555  1.000000",
      "text/html": "<div>\n<style scoped>\n    .dataframe tbody tr th:only-of-type {\n        vertical-align: middle;\n    }\n\n    .dataframe tbody tr th {\n        vertical-align: top;\n    }\n\n    .dataframe thead th {\n        text-align: right;\n    }\n</style>\n<table border=\"1\" class=\"dataframe\">\n  <thead>\n    <tr style=\"text-align: right;\">\n      <th></th>\n      <th>kospi</th>\n      <th>kosdaq</th>\n      <th>usd</th>\n    </tr>\n  </thead>\n  <tbody>\n    <tr>\n      <th>kospi</th>\n      <td>1.000000</td>\n      <td>0.984043</td>\n      <td>-0.878546</td>\n    </tr>\n    <tr>\n      <th>kosdaq</th>\n      <td>0.984043</td>\n      <td>1.000000</td>\n      <td>-0.821555</td>\n    </tr>\n    <tr>\n      <th>usd</th>\n      <td>-0.878546</td>\n      <td>-0.821555</td>\n      <td>1.000000</td>\n    </tr>\n  </tbody>\n</table>\n</div>"
     },
     "execution_count": 67,
     "metadata": {},
     "output_type": "execute_result"
    }
   ],
   "source": [
    "df.corr()"
   ],
   "metadata": {
    "collapsed": false,
    "pycharm": {
     "name": "#%%\n"
    }
   }
  },
  {
   "cell_type": "code",
   "execution_count": 68,
   "outputs": [
    {
     "data": {
      "text/plain": "Index(['localTradedAt', 'kospi', 'kosdaq', 'usd'], dtype='object')"
     },
     "execution_count": 68,
     "metadata": {},
     "output_type": "execute_result"
    }
   ],
   "source": [
    "df.columns"
   ],
   "metadata": {
    "collapsed": false,
    "pycharm": {
     "name": "#%%\n"
    }
   }
  },
  {
   "cell_type": "code",
   "execution_count": 69,
   "outputs": [
    {
     "data": {
      "text/plain": "localTradedAt     object\nkospi            float64\nkosdaq           float64\nusd              float64\ndtype: object"
     },
     "execution_count": 69,
     "metadata": {},
     "output_type": "execute_result"
    }
   ],
   "source": [
    "df.dtypes"
   ],
   "metadata": {
    "collapsed": false,
    "pycharm": {
     "name": "#%%\n"
    }
   }
  },
  {
   "cell_type": "code",
   "execution_count": null,
   "outputs": [],
   "source": [],
   "metadata": {
    "collapsed": false,
    "pycharm": {
     "name": "#%%\n"
    }
   }
  }
 ],
 "metadata": {
  "kernelspec": {
   "display_name": "Python 3",
   "language": "python",
   "name": "python3"
  },
  "language_info": {
   "codemirror_mode": {
    "name": "ipython",
    "version": 2
   },
   "file_extension": ".py",
   "mimetype": "text/x-python",
   "name": "python",
   "nbconvert_exporter": "python",
   "pygments_lexer": "ipython2",
   "version": "2.7.6"
  }
 },
 "nbformat": 4,
 "nbformat_minor": 0
}