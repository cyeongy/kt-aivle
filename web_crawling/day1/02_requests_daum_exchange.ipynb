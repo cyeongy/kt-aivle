{
 "cells": [
  {
   "cell_type": "markdown",
   "id": "ce44dd79",
   "metadata": {},
   "source": [
    "### Daum Exchange\n",
    "- `https://finance.daum.net`"
   ]
  },
  {
   "cell_type": "code",
   "execution_count": 7,
   "id": "6d270adb",
   "metadata": {},
   "outputs": [],
   "source": [
    "import pandas as pd\n",
    "import requests"
   ]
  },
  {
   "cell_type": "code",
   "execution_count": 8,
   "id": "b9c4cf25",
   "metadata": {},
   "outputs": [
    {
     "data": {
      "text/plain": "<Response [200]>"
     },
     "execution_count": 8,
     "metadata": {},
     "output_type": "execute_result"
    }
   ],
   "source": [
    "url = \"https://finance.daum.net/api/exchanges/summaries\"\n",
    "headers = {\n",
    "    \"user-agent\": \"user-agent: Mozilla/5.0 (Macintosh; Intel Mac OS X 10_15_7) AppleWebKit/537.36 (KHTML, like Gecko) Chrome/103.0.0.0 Safari/537.36\",\n",
    "    \"referer\": \"https://finance.daum.net/exchanges\",\n",
    "}\n",
    "response = requests.get(url, headers=headers)\n",
    "response"
   ]
  },
  {
   "cell_type": "code",
   "execution_count": 9,
   "id": "bd0d22e7",
   "metadata": {},
   "outputs": [
    {
     "data": {
      "text/plain": "   symbolCode                 date currencyCode currencyName  currencyUnit  \\\n0  FRX.KRWUSD  2022-08-03 15:31:21          USD           달러             1   \n\n  country                                     region          name  \\\n0      미국  {'korName': '아메리카', 'engName': 'America'}  미국 (KRW/USD)   \n\n   recurrenceCount  basePrice  ... changeRate  cashBuyingPrice  \\\n0              405     1310.5  ...   0.001143          1333.43   \n\n   cashSellingPrice  ttBuyingPrice  ttSellingPrice  tcBuyingPrice  \\\n0           1287.57         1297.7          1323.3           None   \n\n   fcSellingPrice exchangeCommission usDollarRate  \\\n0            None             4.1352          1.0   \n\n                                       chartImageUrl  \n0  {'day': 'https://t1.daumcdn.net/finance/chart/...  \n\n[1 rows x 22 columns]",
      "text/html": "<div>\n<style scoped>\n    .dataframe tbody tr th:only-of-type {\n        vertical-align: middle;\n    }\n\n    .dataframe tbody tr th {\n        vertical-align: top;\n    }\n\n    .dataframe thead th {\n        text-align: right;\n    }\n</style>\n<table border=\"1\" class=\"dataframe\">\n  <thead>\n    <tr style=\"text-align: right;\">\n      <th></th>\n      <th>symbolCode</th>\n      <th>date</th>\n      <th>currencyCode</th>\n      <th>currencyName</th>\n      <th>currencyUnit</th>\n      <th>country</th>\n      <th>region</th>\n      <th>name</th>\n      <th>recurrenceCount</th>\n      <th>basePrice</th>\n      <th>...</th>\n      <th>changeRate</th>\n      <th>cashBuyingPrice</th>\n      <th>cashSellingPrice</th>\n      <th>ttBuyingPrice</th>\n      <th>ttSellingPrice</th>\n      <th>tcBuyingPrice</th>\n      <th>fcSellingPrice</th>\n      <th>exchangeCommission</th>\n      <th>usDollarRate</th>\n      <th>chartImageUrl</th>\n    </tr>\n  </thead>\n  <tbody>\n    <tr>\n      <th>0</th>\n      <td>FRX.KRWUSD</td>\n      <td>2022-08-03 15:31:21</td>\n      <td>USD</td>\n      <td>달러</td>\n      <td>1</td>\n      <td>미국</td>\n      <td>{'korName': '아메리카', 'engName': 'America'}</td>\n      <td>미국 (KRW/USD)</td>\n      <td>405</td>\n      <td>1310.5</td>\n      <td>...</td>\n      <td>0.001143</td>\n      <td>1333.43</td>\n      <td>1287.57</td>\n      <td>1297.7</td>\n      <td>1323.3</td>\n      <td>None</td>\n      <td>None</td>\n      <td>4.1352</td>\n      <td>1.0</td>\n      <td>{'day': 'https://t1.daumcdn.net/finance/chart/...</td>\n    </tr>\n  </tbody>\n</table>\n<p>1 rows × 22 columns</p>\n</div>"
     },
     "execution_count": 9,
     "metadata": {},
     "output_type": "execute_result"
    }
   ],
   "source": [
    "datas = response.json()[\"data\"]\n",
    "df = pd.DataFrame(datas)\n",
    "df.head(1)"
   ]
  },
  {
   "cell_type": "code",
   "execution_count": 10,
   "id": "194f175f",
   "metadata": {
    "pycharm": {
     "name": "#%%\n"
    }
   },
   "outputs": [
    {
     "data": {
      "text/plain": "                  date currencyCode currencyName country             name  \\\n0  2022-08-03 15:31:21          USD           달러      미국     미국 (KRW/USD)   \n1  2022-08-03 15:31:19          JPY            엔      일본  일본 (KRW/JPY100)   \n2  2022-08-03 15:31:19          CNY           위안      중국     중국 (KRW/CNY)   \n3  2022-08-03 15:31:19          EUR           유로      유로     유로 (KRW/EUR)   \n4  2022-08-03 15:31:19          GBP          파운드      영국     영국 (KRW/GBP)   \n\n   basePrice  \n0    1310.50  \n1     983.60  \n2     193.82  \n3    1333.17  \n4    1594.62  ",
      "text/html": "<div>\n<style scoped>\n    .dataframe tbody tr th:only-of-type {\n        vertical-align: middle;\n    }\n\n    .dataframe tbody tr th {\n        vertical-align: top;\n    }\n\n    .dataframe thead th {\n        text-align: right;\n    }\n</style>\n<table border=\"1\" class=\"dataframe\">\n  <thead>\n    <tr style=\"text-align: right;\">\n      <th></th>\n      <th>date</th>\n      <th>currencyCode</th>\n      <th>currencyName</th>\n      <th>country</th>\n      <th>name</th>\n      <th>basePrice</th>\n    </tr>\n  </thead>\n  <tbody>\n    <tr>\n      <th>0</th>\n      <td>2022-08-03 15:31:21</td>\n      <td>USD</td>\n      <td>달러</td>\n      <td>미국</td>\n      <td>미국 (KRW/USD)</td>\n      <td>1310.50</td>\n    </tr>\n    <tr>\n      <th>1</th>\n      <td>2022-08-03 15:31:19</td>\n      <td>JPY</td>\n      <td>엔</td>\n      <td>일본</td>\n      <td>일본 (KRW/JPY100)</td>\n      <td>983.60</td>\n    </tr>\n    <tr>\n      <th>2</th>\n      <td>2022-08-03 15:31:19</td>\n      <td>CNY</td>\n      <td>위안</td>\n      <td>중국</td>\n      <td>중국 (KRW/CNY)</td>\n      <td>193.82</td>\n    </tr>\n    <tr>\n      <th>3</th>\n      <td>2022-08-03 15:31:19</td>\n      <td>EUR</td>\n      <td>유로</td>\n      <td>유로</td>\n      <td>유로 (KRW/EUR)</td>\n      <td>1333.17</td>\n    </tr>\n    <tr>\n      <th>4</th>\n      <td>2022-08-03 15:31:19</td>\n      <td>GBP</td>\n      <td>파운드</td>\n      <td>영국</td>\n      <td>영국 (KRW/GBP)</td>\n      <td>1594.62</td>\n    </tr>\n  </tbody>\n</table>\n</div>"
     },
     "execution_count": 10,
     "metadata": {},
     "output_type": "execute_result"
    }
   ],
   "source": [
    "columns = [\"date\", \"currencyCode\", \"currencyName\", \"country\", \"name\", \"basePrice\"]\n",
    "df[columns].head()"
   ]
  }
 ],
 "metadata": {
  "kernelspec": {
   "display_name": "Python 3 (ipykernel)",
   "language": "python",
   "name": "python3"
  },
  "language_info": {
   "codemirror_mode": {
    "name": "ipython",
    "version": 3
   },
   "file_extension": ".py",
   "mimetype": "text/x-python",
   "name": "python",
   "nbconvert_exporter": "python",
   "pygments_lexer": "ipython3",
   "version": "3.9.12"
  }
 },
 "nbformat": 4,
 "nbformat_minor": 5
}