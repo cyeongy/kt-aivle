{
 "cells": [
  {
   "cell_type": "code",
   "execution_count": 440,
   "metadata": {
    "collapsed": true,
    "pycharm": {
     "name": "#%%\n"
    }
   },
   "outputs": [],
   "source": [
    "import pandas as pd\n",
    "import numpy as np\n",
    "\n",
    "from sklearn.metrics import *\n",
    "from sklearn.model_selection import *\n",
    "from sklearn.pipeline import make_pipeline\n",
    "from sklearn.preprocessing import *\n",
    "\n",
    "from sklearn.linear_model import *\n",
    "from sklearn.ensemble import RandomForestClassifier\n",
    "from xgboost import XGBClassifier, XGBRegressor\n",
    "from sklearn.neighbors import *\n",
    "\n",
    "from matplotlib import pyplot as plt\n",
    "import seaborn as sns"
   ]
  },
  {
   "cell_type": "code",
   "execution_count": 524,
   "outputs": [],
   "source": [
    "data = pd.read_csv('train_dataset.csv', index_col='Unnamed: 0')\n",
    "test = pd.read_csv('test_dataset_v01.csv', index_col='Unnamed: 0')"
   ],
   "metadata": {
    "collapsed": false,
    "pycharm": {
     "name": "#%%\n"
    }
   }
  },
  {
   "cell_type": "code",
   "execution_count": 525,
   "outputs": [],
   "source": [
    "data = data.loc[:, data.nunique() != 1]\n",
    "test = test.loc[:, test.nunique() != 1]"
   ],
   "metadata": {
    "collapsed": false,
    "pycharm": {
     "name": "#%%\n"
    }
   }
  },
  {
   "cell_type": "code",
   "execution_count": 526,
   "outputs": [],
   "source": [
    "data.dropna(inplace=True)"
   ],
   "metadata": {
    "collapsed": false,
    "pycharm": {
     "name": "#%%\n"
    }
   }
  },
  {
   "cell_type": "code",
   "execution_count": 527,
   "outputs": [],
   "source": [
    "data['Result_v1'].replace({'benign': 1, 'malicious': -1, 1: 1, -1: -1}, inplace=True)"
   ],
   "metadata": {
    "collapsed": false,
    "pycharm": {
     "name": "#%%\n"
    }
   }
  },
  {
   "cell_type": "code",
   "execution_count": 528,
   "outputs": [
    {
     "data": {
      "text/plain": "url_len                      0\nurl_num_hyphens_dom          0\nurl_path_len               466\nurl_domain_len             466\nurl_hostname_len           463\nurl_num_dots                 0\nurl_num_underscores          0\nurl_query_len                0\nurl_num_query_para           0\nurl_ip_present               0\nurl_entropy                  0\nurl_port                     0\nhtml_num_tags('iframe')      0\nhtml_num_tags('script')    467\nhtml_num_tags('embed')       0\nhtml_num_tags('object')      0\nhtml_num_tags('div')         0\nhtml_num_tags('head')        0\nhtml_num_tags('body')        0\nhtml_num_tags('form')      467\nhtml_num_tags('a')         461\ndtype: int64"
     },
     "execution_count": 528,
     "metadata": {},
     "output_type": "execute_result"
    }
   ],
   "source": [
    "test.isna().sum()"
   ],
   "metadata": {
    "collapsed": false,
    "pycharm": {
     "name": "#%%\n"
    }
   }
  },
  {
   "cell_type": "markdown",
   "source": [
    "url_path_len\n",
    "url_domain_len\n",
    "url_hostname_len\n",
    "html_num_tags('script')\n",
    "html_num_tags('form')\n",
    "html_num_tags('a')"
   ],
   "metadata": {
    "collapsed": false,
    "pycharm": {
     "name": "#%% md\n"
    }
   }
  },
  {
   "cell_type": "code",
   "execution_count": 529,
   "outputs": [
    {
     "data": {
      "text/plain": "      url_len  url_num_hyphens_dom  url_path_len  url_domain_len  \\\n0        23.0                  0.0           8.0            15.0   \n1        75.0                  0.0          58.0            17.0   \n2        20.0                  0.0           4.0            16.0   \n3        27.0                  0.0          13.0            14.0   \n4        39.0                  2.0          12.0            27.0   \n...       ...                  ...           ...             ...   \n3659     68.0                  3.0          16.0            52.0   \n3660     66.0                  0.0          48.0            18.0   \n3661     90.0                  1.0          64.0            26.0   \n3662     46.0                  0.0          33.0            13.0   \n3663     18.0                  0.0           0.0            18.0   \n\n      url_hostname_len  url_num_dots  url_num_underscores  url_query_len  \\\n0                 15.0           2.0                  0.0            0.0   \n1                 17.0           6.0                  0.0            0.0   \n2                 16.0           2.0                  0.0            0.0   \n3                 14.0           3.0                  0.0            0.0   \n4                 27.0           2.0                  0.0            0.0   \n...                ...           ...                  ...            ...   \n3659              52.0           2.0                  0.0            0.0   \n3660              18.0           2.0                  0.0            0.0   \n3661              26.0           4.0                  0.0            0.0   \n3662              13.0           3.0                  0.0            0.0   \n3663              18.0           2.0                  0.0            0.0   \n\n      url_num_query_para  url_ip_present  ...  html_num_tags('iframe')  \\\n0                    0.0             0.0  ...                      0.0   \n1                    0.0             0.0  ...                      0.0   \n2                    0.0             0.0  ...                      1.0   \n3                    0.0             0.0  ...                      0.0   \n4                    0.0             0.0  ...                      0.0   \n...                  ...             ...  ...                      ...   \n3659                 0.0             0.0  ...                      0.0   \n3660                 0.0             0.0  ...                      1.0   \n3661                 0.0             0.0  ...                      0.0   \n3662                 0.0             0.0  ...                      0.0   \n3663                 0.0             0.0  ...                      0.0   \n\n      html_num_tags('script')  html_num_tags('embed')  \\\n0                         7.0                     0.0   \n1                        18.0                     0.0   \n2                        33.0                     0.0   \n3                        15.0                     0.0   \n4                        10.0                     0.0   \n...                       ...                     ...   \n3659                      0.0                     0.0   \n3660                     14.0                     0.0   \n3661                     13.0                     0.0   \n3662                      0.0                     0.0   \n3663                      3.0                     0.0   \n\n      html_num_tags('object')  html_num_tags('div')  html_num_tags('head')  \\\n0                         0.0                   0.0                    1.0   \n1                         0.0                  20.0                    1.0   \n2                         0.0                 101.0                    1.0   \n3                         0.0                 151.0                    1.0   \n4                         0.0                 332.0                    1.0   \n...                       ...                   ...                    ...   \n3659                      0.0                  11.0                    1.0   \n3660                      0.0                 212.0                    1.0   \n3661                      0.0                  75.0                    1.0   \n3662                      0.0                   4.0                    1.0   \n3663                      0.0                 282.0                    1.0   \n\n      html_num_tags('body')  html_num_tags('form')  html_num_tags('a')  \\\n0                       1.0                    0.0                 0.0   \n1                       1.0                    0.0                21.0   \n2                       1.0                    3.0                70.0   \n3                       1.0                    1.0                55.0   \n4                       1.0                    0.0               321.0   \n...                     ...                    ...                 ...   \n3659                    1.0                    0.0                 3.0   \n3660                    1.0                    3.0               475.0   \n3661                    1.0                    2.0               103.0   \n3662                    1.0                    0.0                 3.0   \n3663                    1.0                    2.0                46.0   \n\n      Result_v1  \n0            -1  \n1             1  \n2             1  \n3             1  \n4             1  \n...         ...  \n3659         -1  \n3660          1  \n3661         -1  \n3662          1  \n3663          1  \n\n[3662 rows x 22 columns]",
      "text/html": "<div>\n<style scoped>\n    .dataframe tbody tr th:only-of-type {\n        vertical-align: middle;\n    }\n\n    .dataframe tbody tr th {\n        vertical-align: top;\n    }\n\n    .dataframe thead th {\n        text-align: right;\n    }\n</style>\n<table border=\"1\" class=\"dataframe\">\n  <thead>\n    <tr style=\"text-align: right;\">\n      <th></th>\n      <th>url_len</th>\n      <th>url_num_hyphens_dom</th>\n      <th>url_path_len</th>\n      <th>url_domain_len</th>\n      <th>url_hostname_len</th>\n      <th>url_num_dots</th>\n      <th>url_num_underscores</th>\n      <th>url_query_len</th>\n      <th>url_num_query_para</th>\n      <th>url_ip_present</th>\n      <th>...</th>\n      <th>html_num_tags('iframe')</th>\n      <th>html_num_tags('script')</th>\n      <th>html_num_tags('embed')</th>\n      <th>html_num_tags('object')</th>\n      <th>html_num_tags('div')</th>\n      <th>html_num_tags('head')</th>\n      <th>html_num_tags('body')</th>\n      <th>html_num_tags('form')</th>\n      <th>html_num_tags('a')</th>\n      <th>Result_v1</th>\n    </tr>\n  </thead>\n  <tbody>\n    <tr>\n      <th>0</th>\n      <td>23.0</td>\n      <td>0.0</td>\n      <td>8.0</td>\n      <td>15.0</td>\n      <td>15.0</td>\n      <td>2.0</td>\n      <td>0.0</td>\n      <td>0.0</td>\n      <td>0.0</td>\n      <td>0.0</td>\n      <td>...</td>\n      <td>0.0</td>\n      <td>7.0</td>\n      <td>0.0</td>\n      <td>0.0</td>\n      <td>0.0</td>\n      <td>1.0</td>\n      <td>1.0</td>\n      <td>0.0</td>\n      <td>0.0</td>\n      <td>-1</td>\n    </tr>\n    <tr>\n      <th>1</th>\n      <td>75.0</td>\n      <td>0.0</td>\n      <td>58.0</td>\n      <td>17.0</td>\n      <td>17.0</td>\n      <td>6.0</td>\n      <td>0.0</td>\n      <td>0.0</td>\n      <td>0.0</td>\n      <td>0.0</td>\n      <td>...</td>\n      <td>0.0</td>\n      <td>18.0</td>\n      <td>0.0</td>\n      <td>0.0</td>\n      <td>20.0</td>\n      <td>1.0</td>\n      <td>1.0</td>\n      <td>0.0</td>\n      <td>21.0</td>\n      <td>1</td>\n    </tr>\n    <tr>\n      <th>2</th>\n      <td>20.0</td>\n      <td>0.0</td>\n      <td>4.0</td>\n      <td>16.0</td>\n      <td>16.0</td>\n      <td>2.0</td>\n      <td>0.0</td>\n      <td>0.0</td>\n      <td>0.0</td>\n      <td>0.0</td>\n      <td>...</td>\n      <td>1.0</td>\n      <td>33.0</td>\n      <td>0.0</td>\n      <td>0.0</td>\n      <td>101.0</td>\n      <td>1.0</td>\n      <td>1.0</td>\n      <td>3.0</td>\n      <td>70.0</td>\n      <td>1</td>\n    </tr>\n    <tr>\n      <th>3</th>\n      <td>27.0</td>\n      <td>0.0</td>\n      <td>13.0</td>\n      <td>14.0</td>\n      <td>14.0</td>\n      <td>3.0</td>\n      <td>0.0</td>\n      <td>0.0</td>\n      <td>0.0</td>\n      <td>0.0</td>\n      <td>...</td>\n      <td>0.0</td>\n      <td>15.0</td>\n      <td>0.0</td>\n      <td>0.0</td>\n      <td>151.0</td>\n      <td>1.0</td>\n      <td>1.0</td>\n      <td>1.0</td>\n      <td>55.0</td>\n      <td>1</td>\n    </tr>\n    <tr>\n      <th>4</th>\n      <td>39.0</td>\n      <td>2.0</td>\n      <td>12.0</td>\n      <td>27.0</td>\n      <td>27.0</td>\n      <td>2.0</td>\n      <td>0.0</td>\n      <td>0.0</td>\n      <td>0.0</td>\n      <td>0.0</td>\n      <td>...</td>\n      <td>0.0</td>\n      <td>10.0</td>\n      <td>0.0</td>\n      <td>0.0</td>\n      <td>332.0</td>\n      <td>1.0</td>\n      <td>1.0</td>\n      <td>0.0</td>\n      <td>321.0</td>\n      <td>1</td>\n    </tr>\n    <tr>\n      <th>...</th>\n      <td>...</td>\n      <td>...</td>\n      <td>...</td>\n      <td>...</td>\n      <td>...</td>\n      <td>...</td>\n      <td>...</td>\n      <td>...</td>\n      <td>...</td>\n      <td>...</td>\n      <td>...</td>\n      <td>...</td>\n      <td>...</td>\n      <td>...</td>\n      <td>...</td>\n      <td>...</td>\n      <td>...</td>\n      <td>...</td>\n      <td>...</td>\n      <td>...</td>\n      <td>...</td>\n    </tr>\n    <tr>\n      <th>3659</th>\n      <td>68.0</td>\n      <td>3.0</td>\n      <td>16.0</td>\n      <td>52.0</td>\n      <td>52.0</td>\n      <td>2.0</td>\n      <td>0.0</td>\n      <td>0.0</td>\n      <td>0.0</td>\n      <td>0.0</td>\n      <td>...</td>\n      <td>0.0</td>\n      <td>0.0</td>\n      <td>0.0</td>\n      <td>0.0</td>\n      <td>11.0</td>\n      <td>1.0</td>\n      <td>1.0</td>\n      <td>0.0</td>\n      <td>3.0</td>\n      <td>-1</td>\n    </tr>\n    <tr>\n      <th>3660</th>\n      <td>66.0</td>\n      <td>0.0</td>\n      <td>48.0</td>\n      <td>18.0</td>\n      <td>18.0</td>\n      <td>2.0</td>\n      <td>0.0</td>\n      <td>0.0</td>\n      <td>0.0</td>\n      <td>0.0</td>\n      <td>...</td>\n      <td>1.0</td>\n      <td>14.0</td>\n      <td>0.0</td>\n      <td>0.0</td>\n      <td>212.0</td>\n      <td>1.0</td>\n      <td>1.0</td>\n      <td>3.0</td>\n      <td>475.0</td>\n      <td>1</td>\n    </tr>\n    <tr>\n      <th>3661</th>\n      <td>90.0</td>\n      <td>1.0</td>\n      <td>64.0</td>\n      <td>26.0</td>\n      <td>26.0</td>\n      <td>4.0</td>\n      <td>0.0</td>\n      <td>0.0</td>\n      <td>0.0</td>\n      <td>0.0</td>\n      <td>...</td>\n      <td>0.0</td>\n      <td>13.0</td>\n      <td>0.0</td>\n      <td>0.0</td>\n      <td>75.0</td>\n      <td>1.0</td>\n      <td>1.0</td>\n      <td>2.0</td>\n      <td>103.0</td>\n      <td>-1</td>\n    </tr>\n    <tr>\n      <th>3662</th>\n      <td>46.0</td>\n      <td>0.0</td>\n      <td>33.0</td>\n      <td>13.0</td>\n      <td>13.0</td>\n      <td>3.0</td>\n      <td>0.0</td>\n      <td>0.0</td>\n      <td>0.0</td>\n      <td>0.0</td>\n      <td>...</td>\n      <td>0.0</td>\n      <td>0.0</td>\n      <td>0.0</td>\n      <td>0.0</td>\n      <td>4.0</td>\n      <td>1.0</td>\n      <td>1.0</td>\n      <td>0.0</td>\n      <td>3.0</td>\n      <td>1</td>\n    </tr>\n    <tr>\n      <th>3663</th>\n      <td>18.0</td>\n      <td>0.0</td>\n      <td>0.0</td>\n      <td>18.0</td>\n      <td>18.0</td>\n      <td>2.0</td>\n      <td>0.0</td>\n      <td>0.0</td>\n      <td>0.0</td>\n      <td>0.0</td>\n      <td>...</td>\n      <td>0.0</td>\n      <td>3.0</td>\n      <td>0.0</td>\n      <td>0.0</td>\n      <td>282.0</td>\n      <td>1.0</td>\n      <td>1.0</td>\n      <td>2.0</td>\n      <td>46.0</td>\n      <td>1</td>\n    </tr>\n  </tbody>\n</table>\n<p>3662 rows × 22 columns</p>\n</div>"
     },
     "execution_count": 529,
     "metadata": {},
     "output_type": "execute_result"
    }
   ],
   "source": [
    "data"
   ],
   "metadata": {
    "collapsed": false,
    "pycharm": {
     "name": "#%%\n"
    }
   }
  },
  {
   "cell_type": "code",
   "execution_count": 530,
   "outputs": [],
   "source": [
    "# domain_len, hostname_len는 거의 정비례하므로 각각 대입해줌\n",
    "test.loc[test.url_hostname_len.isna(),'url_hostname_len'] = test.loc[test.url_hostname_len.isna(), 'url_domain_len']\n",
    "test.loc[test.url_domain_len.isna(),'url_domain_len'] = test.loc[test.url_domain_len.isna(), 'url_hostname_len']"
   ],
   "metadata": {
    "collapsed": false,
    "pycharm": {
     "name": "#%%\n"
    }
   }
  },
  {
   "cell_type": "code",
   "execution_count": 531,
   "outputs": [],
   "source": [
    "# url_path_len 은 먼저 선형 회귀를 통해 집어 넣는다.\n",
    "\n",
    "tx = data.drop(['Result_v1', 'url_path_len'], axis=1).loc[:, ['url_len', 'url_num_dots', 'url_num_underscores', 'url_domain_len', 'url_hostname_len']]\n",
    "ty = data.loc[: , 'url_path_len']\n",
    "\n",
    "model = LinearRegression().fit(tx, ty)\n",
    "\n",
    "pred = model.predict(test.loc[(~test.url_domain_len.isna() & ~test.url_hostname_len.isna() & test.url_path_len.isna()), ['url_len', 'url_num_dots', 'url_num_underscores', 'url_domain_len', 'url_hostname_len']])\n",
    "test.loc[(test.url_path_len.isna() & ~test.url_domain_len.isna() & ~test.url_hostname_len.isna()), 'url_path_len'] = pred"
   ],
   "metadata": {
    "collapsed": false,
    "pycharm": {
     "name": "#%%\n"
    }
   }
  },
  {
   "cell_type": "code",
   "execution_count": 532,
   "outputs": [
    {
     "data": {
      "text/plain": "0"
     },
     "execution_count": 532,
     "metadata": {},
     "output_type": "execute_result"
    }
   ],
   "source": [
    "# 나머지 url_path_len은 url_len을 기준으로 소팅 후 ffill 한다\n",
    "test.url_path_len = test.sort_values(by='url_len')['url_path_len'].fillna(method='ffill')\n",
    "test.url_path_len.isna().sum()"
   ],
   "metadata": {
    "collapsed": false,
    "pycharm": {
     "name": "#%%\n"
    }
   }
  },
  {
   "cell_type": "code",
   "execution_count": 533,
   "outputs": [],
   "source": [
    "\n",
    "\n",
    "test.loc[(~test.url_domain_len.isna() & ~test.url_hostname_len.isna()), \"url_path_len\"] = test.sort_values(by=[\"url_len\"]).loc[: , \"url_path_len\"].fillna(method='ffill')"
   ],
   "metadata": {
    "collapsed": false,
    "pycharm": {
     "name": "#%%\n"
    }
   }
  },
  {
   "cell_type": "code",
   "execution_count": 534,
   "outputs": [],
   "source": [
    "# html_num_tags('a') 은 html_num_tags('div') 기준으로 소팅시켜 ffill을 한다.# html_num_tags('a') 은 html_num_tags('div') 기준으로 소팅시켜 ffill을 한다.\n",
    "test[\"html_num_tags('a')\"] = test.sort_values(by=[\"html_num_tags('div')\"]).loc[: , \"html_num_tags('a')\"].fillna(method='ffill')"
   ],
   "metadata": {
    "collapsed": false,
    "pycharm": {
     "name": "#%%\n"
    }
   }
  },
  {
   "cell_type": "code",
   "execution_count": 535,
   "outputs": [],
   "source": [
    "# 남은 url_domian_len과 url_hostname_len은 결측치가 존재하는 컬럼을 제외하고 모두 로지스틱 회귀에 넣는다.\n",
    "\n",
    "tx = data.drop(['Result_v1', 'url_domain_len'], axis=1).loc[:, test.isna().sum() == 0]\n",
    "ty = data.loc[:, 'url_domain_len']\n",
    "\n",
    "model = LinearRegression().fit(tx, ty)\n",
    "\n"
   ],
   "metadata": {
    "collapsed": false,
    "pycharm": {
     "name": "#%%\n"
    }
   }
  },
  {
   "cell_type": "code",
   "execution_count": 536,
   "outputs": [],
   "source": [
    "pred =  model.predict(test.loc[test['url_domain_len'].isna(), test.isna().sum() == 0])\n",
    "test.loc[test.url_domain_len.isna(), 'url_domain_len'] = pred\n",
    "test.loc[test.url_hostname_len.isna(), 'url_hostname_len'] = pred"
   ],
   "metadata": {
    "collapsed": false,
    "pycharm": {
     "name": "#%%\n"
    }
   }
  },
  {
   "cell_type": "code",
   "execution_count": 537,
   "outputs": [],
   "source": [
    "test.loc[test[\"html_num_tags('script')\"].isna(), \"html_num_tags(\\'script\\')\"] = data[\"html_num_tags('script')\"].mode()[0]"
   ],
   "metadata": {
    "collapsed": false,
    "pycharm": {
     "name": "#%%\n"
    }
   }
  },
  {
   "cell_type": "code",
   "execution_count": 538,
   "outputs": [],
   "source": [
    "test.loc[test[\"html_num_tags('form')\"].isna(), \"html_num_tags(\\'form\\')\"] = data[\"html_num_tags('form')\"].mode()[0]"
   ],
   "metadata": {
    "collapsed": false,
    "pycharm": {
     "name": "#%%\n"
    }
   }
  },
  {
   "cell_type": "code",
   "execution_count": 539,
   "outputs": [
    {
     "data": {
      "text/plain": "0    1.0\nName: html_num_tags('form'), dtype: float64"
     },
     "execution_count": 539,
     "metadata": {},
     "output_type": "execute_result"
    }
   ],
   "source": [
    "data[\"html_num_tags('form')\"].mode()"
   ],
   "metadata": {
    "collapsed": false,
    "pycharm": {
     "name": "#%%\n"
    }
   }
  },
  {
   "cell_type": "code",
   "execution_count": 540,
   "outputs": [
    {
     "data": {
      "text/plain": "0    1.0\nName: html_num_tags('form'), dtype: float64"
     },
     "execution_count": 540,
     "metadata": {},
     "output_type": "execute_result"
    }
   ],
   "source": [
    "test[\"html_num_tags('form')\"].mode()"
   ],
   "metadata": {
    "collapsed": false,
    "pycharm": {
     "name": "#%%\n"
    }
   }
  },
  {
   "cell_type": "code",
   "execution_count": 541,
   "outputs": [
    {
     "data": {
      "text/plain": "Empty DataFrame\nColumns: [url_len, url_num_hyphens_dom, url_path_len, url_domain_len, url_hostname_len, url_num_dots, url_num_underscores, url_query_len, url_num_query_para, url_ip_present, url_entropy, url_port, html_num_tags('iframe'), html_num_tags('script'), html_num_tags('embed'), html_num_tags('object'), html_num_tags('div'), html_num_tags('head'), html_num_tags('body'), html_num_tags('form'), html_num_tags('a')]\nIndex: []\n\n[0 rows x 21 columns]",
      "text/html": "<div>\n<style scoped>\n    .dataframe tbody tr th:only-of-type {\n        vertical-align: middle;\n    }\n\n    .dataframe tbody tr th {\n        vertical-align: top;\n    }\n\n    .dataframe thead th {\n        text-align: right;\n    }\n</style>\n<table border=\"1\" class=\"dataframe\">\n  <thead>\n    <tr style=\"text-align: right;\">\n      <th></th>\n      <th>url_len</th>\n      <th>url_num_hyphens_dom</th>\n      <th>url_path_len</th>\n      <th>url_domain_len</th>\n      <th>url_hostname_len</th>\n      <th>url_num_dots</th>\n      <th>url_num_underscores</th>\n      <th>url_query_len</th>\n      <th>url_num_query_para</th>\n      <th>url_ip_present</th>\n      <th>...</th>\n      <th>url_port</th>\n      <th>html_num_tags('iframe')</th>\n      <th>html_num_tags('script')</th>\n      <th>html_num_tags('embed')</th>\n      <th>html_num_tags('object')</th>\n      <th>html_num_tags('div')</th>\n      <th>html_num_tags('head')</th>\n      <th>html_num_tags('body')</th>\n      <th>html_num_tags('form')</th>\n      <th>html_num_tags('a')</th>\n    </tr>\n  </thead>\n  <tbody>\n  </tbody>\n</table>\n<p>0 rows × 21 columns</p>\n</div>"
     },
     "execution_count": 541,
     "metadata": {},
     "output_type": "execute_result"
    }
   ],
   "source": [
    "test.loc[test.url_domain_len.isna() | test.url_hostname_len.isna() & test[\"html_num_tags('script')\"].isna()]"
   ],
   "metadata": {
    "collapsed": false,
    "pycharm": {
     "name": "#%%\n"
    }
   }
  },
  {
   "cell_type": "code",
   "execution_count": 542,
   "outputs": [
    {
     "data": {
      "text/plain": "url_len                    0\nurl_num_hyphens_dom        0\nurl_path_len               0\nurl_domain_len             0\nurl_hostname_len           0\nurl_num_dots               0\nurl_num_underscores        0\nurl_query_len              0\nurl_num_query_para         0\nurl_ip_present             0\nurl_entropy                0\nurl_port                   0\nhtml_num_tags('iframe')    0\nhtml_num_tags('script')    0\nhtml_num_tags('embed')     0\nhtml_num_tags('object')    0\nhtml_num_tags('div')       0\nhtml_num_tags('head')      0\nhtml_num_tags('body')      0\nhtml_num_tags('form')      0\nhtml_num_tags('a')         0\ndtype: int64"
     },
     "execution_count": 542,
     "metadata": {},
     "output_type": "execute_result"
    }
   ],
   "source": [
    "test.isna().sum()"
   ],
   "metadata": {
    "collapsed": false,
    "pycharm": {
     "name": "#%%\n"
    }
   }
  },
  {
   "cell_type": "code",
   "execution_count": 543,
   "outputs": [],
   "source": [
    "tx = data.drop(['Result_v1', 'url_domain_len'], axis=1).loc[:, test.isna().sum() == 0]\n",
    "ty = data.loc[:, 'url_domain_len']"
   ],
   "metadata": {
    "collapsed": false,
    "pycharm": {
     "name": "#%%\n"
    }
   }
  },
  {
   "cell_type": "code",
   "execution_count": 544,
   "outputs": [],
   "source": [
    "tx_train, tx_val, ty_train, ty_val = train_test_split(tx, ty, test_size=.3)"
   ],
   "metadata": {
    "collapsed": false,
    "pycharm": {
     "name": "#%%\n"
    }
   }
  },
  {
   "cell_type": "code",
   "execution_count": 545,
   "outputs": [],
   "source": [
    "model = LinearRegression().fit(tx_train, ty_train)"
   ],
   "metadata": {
    "collapsed": false,
    "pycharm": {
     "name": "#%%\n"
    }
   }
  },
  {
   "cell_type": "code",
   "execution_count": 546,
   "outputs": [],
   "source": [
    "pred = model.predict(tx_val)"
   ],
   "metadata": {
    "collapsed": false,
    "pycharm": {
     "name": "#%%\n"
    }
   }
  },
  {
   "cell_type": "code",
   "execution_count": 547,
   "outputs": [
    {
     "data": {
      "text/plain": "0.9987140131643593"
     },
     "execution_count": 547,
     "metadata": {},
     "output_type": "execute_result"
    }
   ],
   "source": [
    "r2_score(ty_val, pred)"
   ],
   "metadata": {
    "collapsed": false,
    "pycharm": {
     "name": "#%%\n"
    }
   }
  },
  {
   "cell_type": "code",
   "execution_count": 548,
   "outputs": [
    {
     "name": "stdout",
     "output_type": "stream",
     "text": [
      "0.005972570654480278\n"
     ]
    }
   ],
   "source": [
    "print(mean_absolute_percentage_error(ty_val, pred))"
   ],
   "metadata": {
    "collapsed": false,
    "pycharm": {
     "name": "#%%\n"
    }
   }
  },
  {
   "cell_type": "code",
   "execution_count": 549,
   "outputs": [
    {
     "name": "stdout",
     "output_type": "stream",
     "text": [
      "Fitting 5 folds for each of 5600 candidates, totalling 28000 fits\n"
     ]
    },
    {
     "name": "stderr",
     "output_type": "stream",
     "text": [
      "C:\\Users\\allsa\\anaconda3\\envs\\kt-aivle\\lib\\site-packages\\xgboost\\data.py:250: FutureWarning: pandas.Int64Index is deprecated and will be removed from pandas in a future version. Use pandas.Index with the appropriate dtype instead.\n",
      "  elif isinstance(data.columns, (pd.Int64Index, pd.RangeIndex)):\n"
     ]
    }
   ],
   "source": [
    "# params = {'max_depth': range(2, 9), 'n_estimators': [100], 'learning_rate': list(np.linspace(0.0001, 0.01, 100))} #, 'tree_method':'gpu_hist', 'gpu_id':0}\n",
    "xgb_model = GridSearchCV(estimator=XGBRegressor(), param_grid=params, n_jobs=-1, cv=5, verbose=3).fit(tx_train, ty_train)\n"
   ],
   "metadata": {
    "collapsed": false,
    "pycharm": {
     "name": "#%%\n"
    }
   }
  },
  {
   "cell_type": "code",
   "execution_count": 550,
   "outputs": [
    {
     "data": {
      "text/plain": "0.9989425434452474"
     },
     "execution_count": 550,
     "metadata": {},
     "output_type": "execute_result"
    }
   ],
   "source": [
    "xgb_model.score(tx_val, ty_val)"
   ],
   "metadata": {
    "collapsed": false,
    "pycharm": {
     "name": "#%%\n"
    }
   }
  },
  {
   "cell_type": "code",
   "execution_count": 551,
   "outputs": [
    {
     "data": {
      "text/plain": "0.9989425434452474"
     },
     "execution_count": 551,
     "metadata": {},
     "output_type": "execute_result"
    }
   ],
   "source": [
    "pred = xgb_model.predict(tx_val)\n",
    "r2_score(ty_val, pred)"
   ],
   "metadata": {
    "collapsed": false,
    "pycharm": {
     "name": "#%%\n"
    }
   }
  },
  {
   "cell_type": "code",
   "execution_count": 552,
   "outputs": [
    {
     "name": "stdout",
     "output_type": "stream",
     "text": [
      "2014    11.0\n",
      "3331    11.0\n",
      "3185    13.0\n",
      "2091    28.0\n",
      "1368    33.0\n",
      "        ... \n",
      "1394    20.0\n",
      "2374    34.0\n",
      "657     17.0\n",
      "2697    15.0\n",
      "2131    18.0\n",
      "Name: url_domain_len, Length: 1099, dtype: float64 [10.94652  11.019709 13.071234 ... 16.439556 15.017884 17.993496]\n"
     ]
    }
   ],
   "source": [
    "print(ty_val, pred)"
   ],
   "metadata": {
    "collapsed": false,
    "pycharm": {
     "name": "#%%\n"
    }
   }
  },
  {
   "cell_type": "code",
   "execution_count": 553,
   "outputs": [
    {
     "data": {
      "text/plain": "0.002693819695870061"
     },
     "execution_count": 553,
     "metadata": {},
     "output_type": "execute_result"
    }
   ],
   "source": [
    "mean_absolute_percentage_error(ty_val, pred)"
   ],
   "metadata": {
    "collapsed": false,
    "pycharm": {
     "name": "#%%\n"
    }
   }
  },
  {
   "cell_type": "markdown",
   "source": [
    "### XGB 모델"
   ],
   "metadata": {
    "collapsed": false,
    "pycharm": {
     "name": "#%% md\n"
    }
   }
  },
  {
   "cell_type": "code",
   "execution_count": 554,
   "outputs": [],
   "source": [
    "params = {'max_depth': range(2, 9), 'n_estimators': [20, 30, 50, 100], 'learning_rate': list(np.linspace(0.001, 0.1, 200))}"
   ],
   "metadata": {
    "collapsed": false,
    "pycharm": {
     "name": "#%%\n"
    }
   }
  },
  {
   "cell_type": "code",
   "execution_count": 555,
   "outputs": [],
   "source": [
    "X = data.drop(['Result_v1'], axis=1)\n",
    "y = data.loc[:, 'Result_v1']"
   ],
   "metadata": {
    "collapsed": false,
    "pycharm": {
     "name": "#%%\n"
    }
   }
  },
  {
   "cell_type": "code",
   "execution_count": 556,
   "outputs": [],
   "source": [
    "X_train, X_val, y_train, y_val = train_test_split(X, y, test_size=.3)"
   ],
   "metadata": {
    "collapsed": false,
    "pycharm": {
     "name": "#%%\n"
    }
   }
  },
  {
   "cell_type": "code",
   "execution_count": 557,
   "outputs": [],
   "source": [
    "params = {'max_depth': range(2, 9), 'n_estimators': [20, 30, 50, 100], 'learning_rate': list(np.linspace(0.001, 0.1, 200))}"
   ],
   "metadata": {
    "collapsed": false,
    "pycharm": {
     "name": "#%%\n"
    }
   }
  },
  {
   "cell_type": "code",
   "execution_count": 558,
   "outputs": [
    {
     "name": "stdout",
     "output_type": "stream",
     "text": [
      "Fitting 5 folds for each of 5600 candidates, totalling 28000 fits\n",
      "[15:53:50] WARNING: C:\\Windows\\Temp\\abs_557yfx631l\\croots\\recipe\\xgboost-split_1659548953302\\work\\src\\learner.cc:1115: Starting in XGBoost 1.3.0, the default evaluation metric used with the objective 'binary:logistic' was changed from 'error' to 'logloss'. Explicitly set eval_metric if you'd like to restore the old behavior.\n"
     ]
    },
    {
     "name": "stderr",
     "output_type": "stream",
     "text": [
      "C:\\Users\\allsa\\anaconda3\\envs\\kt-aivle\\lib\\site-packages\\xgboost\\sklearn.py:1224: UserWarning: The use of label encoder in XGBClassifier is deprecated and will be removed in a future release. To remove this warning, do the following: 1) Pass option use_label_encoder=False when constructing XGBClassifier object; and 2) Encode your labels (y) as integers starting with 0, i.e. 0, 1, 2, ..., [num_class - 1].\n",
      "  warnings.warn(label_encoder_deprecation_msg, UserWarning)\n",
      "C:\\Users\\allsa\\anaconda3\\envs\\kt-aivle\\lib\\site-packages\\xgboost\\data.py:250: FutureWarning: pandas.Int64Index is deprecated and will be removed from pandas in a future version. Use pandas.Index with the appropriate dtype instead.\n",
      "  elif isinstance(data.columns, (pd.Int64Index, pd.RangeIndex)):\n"
     ]
    }
   ],
   "source": [
    "xgb_model = GridSearchCV(estimator=XGBClassifier(), param_grid=params, n_jobs=-1, cv=5, verbose=2).fit(X_train, y_train)"
   ],
   "metadata": {
    "collapsed": false,
    "pycharm": {
     "name": "#%%\n"
    }
   }
  },
  {
   "cell_type": "code",
   "execution_count": 559,
   "outputs": [
    {
     "data": {
      "text/plain": "array([[523,  23],\n       [ 19, 534]], dtype=int64)"
     },
     "execution_count": 559,
     "metadata": {},
     "output_type": "execute_result"
    }
   ],
   "source": [
    "confusion_matrix(y_val, xgb_model.predict(X_val))"
   ],
   "metadata": {
    "collapsed": false,
    "pycharm": {
     "name": "#%%\n"
    }
   }
  },
  {
   "cell_type": "code",
   "execution_count": 560,
   "outputs": [
    {
     "name": "stdout",
     "output_type": "stream",
     "text": [
      "              precision    recall  f1-score   support\n",
      "\n",
      "          -1       0.96      0.96      0.96       546\n",
      "           1       0.96      0.97      0.96       553\n",
      "\n",
      "    accuracy                           0.96      1099\n",
      "   macro avg       0.96      0.96      0.96      1099\n",
      "weighted avg       0.96      0.96      0.96      1099\n",
      "\n"
     ]
    }
   ],
   "source": [
    "print(classification_report(y_val, xgb_model.predict(X_val)))"
   ],
   "metadata": {
    "collapsed": false,
    "pycharm": {
     "name": "#%%\n"
    }
   }
  },
  {
   "cell_type": "code",
   "execution_count": 561,
   "outputs": [],
   "source": [
    "pred = xgb_model.predict(test)"
   ],
   "metadata": {
    "collapsed": false,
    "pycharm": {
     "name": "#%%\n"
    }
   }
  },
  {
   "cell_type": "code",
   "execution_count": 562,
   "outputs": [
    {
     "data": {
      "text/plain": "array([ 1,  1,  1, ...,  1, -1, -1], dtype=int64)"
     },
     "execution_count": 562,
     "metadata": {},
     "output_type": "execute_result"
    }
   ],
   "source": [
    "pred"
   ],
   "metadata": {
    "collapsed": false,
    "pycharm": {
     "name": "#%%\n"
    }
   }
  },
  {
   "cell_type": "code",
   "execution_count": 563,
   "outputs": [],
   "source": [
    "submit = pd.DataFrame({'id':range(len(pred)), 'expected': pred})\n",
    "submit.to_csv('submit2.csv', index=False)"
   ],
   "metadata": {
    "collapsed": false,
    "pycharm": {
     "name": "#%%\n"
    }
   }
  },
  {
   "cell_type": "code",
   "execution_count": 564,
   "outputs": [],
   "source": [
    "X = data.drop(['Result_v1', \"html_num_tags('form')\", \"html_num_tags('script')\"], axis=1)\n",
    "y = data.loc[:, 'Result_v1']"
   ],
   "metadata": {
    "collapsed": false,
    "pycharm": {
     "name": "#%%\n"
    }
   }
  },
  {
   "cell_type": "code",
   "execution_count": 565,
   "outputs": [],
   "source": [
    "X_train, X_val, y_train, y_val = train_test_split(X, y, test_size=.3)"
   ],
   "metadata": {
    "collapsed": false,
    "pycharm": {
     "name": "#%%\n"
    }
   }
  },
  {
   "cell_type": "code",
   "execution_count": 566,
   "outputs": [
    {
     "name": "stdout",
     "output_type": "stream",
     "text": [
      "Fitting 5 folds for each of 5600 candidates, totalling 28000 fits\n",
      "[16:01:01] WARNING: C:\\Windows\\Temp\\abs_557yfx631l\\croots\\recipe\\xgboost-split_1659548953302\\work\\src\\learner.cc:1115: Starting in XGBoost 1.3.0, the default evaluation metric used with the objective 'binary:logistic' was changed from 'error' to 'logloss'. Explicitly set eval_metric if you'd like to restore the old behavior.\n"
     ]
    },
    {
     "name": "stderr",
     "output_type": "stream",
     "text": [
      "C:\\Users\\allsa\\anaconda3\\envs\\kt-aivle\\lib\\site-packages\\xgboost\\sklearn.py:1224: UserWarning: The use of label encoder in XGBClassifier is deprecated and will be removed in a future release. To remove this warning, do the following: 1) Pass option use_label_encoder=False when constructing XGBClassifier object; and 2) Encode your labels (y) as integers starting with 0, i.e. 0, 1, 2, ..., [num_class - 1].\n",
      "  warnings.warn(label_encoder_deprecation_msg, UserWarning)\n",
      "C:\\Users\\allsa\\anaconda3\\envs\\kt-aivle\\lib\\site-packages\\xgboost\\data.py:250: FutureWarning: pandas.Int64Index is deprecated and will be removed from pandas in a future version. Use pandas.Index with the appropriate dtype instead.\n",
      "  elif isinstance(data.columns, (pd.Int64Index, pd.RangeIndex)):\n"
     ]
    }
   ],
   "source": [
    "xgb_model = GridSearchCV(estimator=XGBClassifier(), param_grid=params, n_jobs=-1, cv=5, verbose=3).fit(X_train, y_train)"
   ],
   "metadata": {
    "collapsed": false,
    "pycharm": {
     "name": "#%%\n"
    }
   }
  },
  {
   "cell_type": "code",
   "execution_count": 567,
   "outputs": [
    {
     "data": {
      "text/plain": "array([[521,  29],\n       [ 28, 521]], dtype=int64)"
     },
     "execution_count": 567,
     "metadata": {},
     "output_type": "execute_result"
    }
   ],
   "source": [
    "confusion_matrix(y_val, xgb_model.predict(X_val))"
   ],
   "metadata": {
    "collapsed": false,
    "pycharm": {
     "name": "#%%\n"
    }
   }
  },
  {
   "cell_type": "code",
   "execution_count": 568,
   "outputs": [
    {
     "name": "stdout",
     "output_type": "stream",
     "text": [
      "              precision    recall  f1-score   support\n",
      "\n",
      "          -1       0.95      0.95      0.95       550\n",
      "           1       0.95      0.95      0.95       549\n",
      "\n",
      "    accuracy                           0.95      1099\n",
      "   macro avg       0.95      0.95      0.95      1099\n",
      "weighted avg       0.95      0.95      0.95      1099\n",
      "\n"
     ]
    }
   ],
   "source": [
    "print(classification_report(y_val, xgb_model.predict(X_val)))"
   ],
   "metadata": {
    "collapsed": false,
    "pycharm": {
     "name": "#%%\n"
    }
   }
  },
  {
   "cell_type": "code",
   "execution_count": 569,
   "outputs": [],
   "source": [
    "pred = xgb_model.predict(test.drop([\"html_num_tags('form')\", \"html_num_tags('script')\"], axis=1))"
   ],
   "metadata": {
    "collapsed": false,
    "pycharm": {
     "name": "#%%\n"
    }
   }
  },
  {
   "cell_type": "code",
   "execution_count": 570,
   "outputs": [
    {
     "data": {
      "text/plain": "array([ 1,  1,  1, ...,  1, -1, -1], dtype=int64)"
     },
     "execution_count": 570,
     "metadata": {},
     "output_type": "execute_result"
    }
   ],
   "source": [
    "pred"
   ],
   "metadata": {
    "collapsed": false,
    "pycharm": {
     "name": "#%%\n"
    }
   }
  },
  {
   "cell_type": "code",
   "execution_count": 571,
   "outputs": [],
   "source": [
    "submit = pd.DataFrame({'id':range(len(pred)), 'expected': pred})\n",
    "submit.to_csv('submit3.csv', index=False)"
   ],
   "metadata": {
    "collapsed": false,
    "pycharm": {
     "name": "#%%\n"
    }
   }
  },
  {
   "cell_type": "code",
   "execution_count": 572,
   "outputs": [
    {
     "data": {
      "text/plain": "{'learning_rate': 0.09801005025125628, 'max_depth': 7, 'n_estimators': 100}"
     },
     "execution_count": 572,
     "metadata": {},
     "output_type": "execute_result"
    }
   ],
   "source": [
    "xgb_model.best_params_"
   ],
   "metadata": {
    "collapsed": false,
    "pycharm": {
     "name": "#%%\n"
    }
   }
  },
  {
   "cell_type": "markdown",
   "source": [
    "### Random Forest"
   ],
   "metadata": {
    "collapsed": false,
    "pycharm": {
     "name": "#%% md\n"
    }
   }
  },
  {
   "cell_type": "code",
   "execution_count": 573,
   "outputs": [],
   "source": [
    "X = data.drop(['Result_v1'], axis=1)\n",
    "y = data.loc[:, 'Result_v1']"
   ],
   "metadata": {
    "collapsed": false,
    "pycharm": {
     "name": "#%%\n"
    }
   }
  },
  {
   "cell_type": "code",
   "execution_count": 574,
   "outputs": [],
   "source": [
    "X_train, X_val, y_train, y_val = train_test_split(X, y, test_size=.3)"
   ],
   "metadata": {
    "collapsed": false,
    "pycharm": {
     "name": "#%%\n"
    }
   }
  },
  {
   "cell_type": "code",
   "execution_count": 575,
   "outputs": [],
   "source": [
    "model = RandomForestClassifier(n_jobs=-1).fit(X_train, y_train)"
   ],
   "metadata": {
    "collapsed": false,
    "pycharm": {
     "name": "#%%\n"
    }
   }
  },
  {
   "cell_type": "code",
   "execution_count": 576,
   "outputs": [
    {
     "data": {
      "text/plain": "array([[521,  19],\n       [ 14, 545]], dtype=int64)"
     },
     "execution_count": 576,
     "metadata": {},
     "output_type": "execute_result"
    }
   ],
   "source": [
    "confusion_matrix(y_val, model.predict(X_val))"
   ],
   "metadata": {
    "collapsed": false,
    "pycharm": {
     "name": "#%%\n"
    }
   }
  },
  {
   "cell_type": "code",
   "execution_count": 577,
   "outputs": [
    {
     "name": "stdout",
     "output_type": "stream",
     "text": [
      "              precision    recall  f1-score   support\n",
      "\n",
      "          -1       0.97      0.96      0.97       540\n",
      "           1       0.97      0.97      0.97       559\n",
      "\n",
      "    accuracy                           0.97      1099\n",
      "   macro avg       0.97      0.97      0.97      1099\n",
      "weighted avg       0.97      0.97      0.97      1099\n",
      "\n"
     ]
    }
   ],
   "source": [
    "print(classification_report(y_val, model.predict(X_val)))"
   ],
   "metadata": {
    "collapsed": false,
    "pycharm": {
     "name": "#%%\n"
    }
   }
  },
  {
   "cell_type": "code",
   "execution_count": 578,
   "outputs": [],
   "source": [
    "pred = model.predict(test)"
   ],
   "metadata": {
    "collapsed": false,
    "pycharm": {
     "name": "#%%\n"
    }
   }
  },
  {
   "cell_type": "code",
   "execution_count": 579,
   "outputs": [],
   "source": [
    "submit = pd.DataFrame({'id':range(len(pred)), 'expected': pred})\n",
    "submit.to_csv('submit4.csv', index=False)"
   ],
   "metadata": {
    "collapsed": false,
    "pycharm": {
     "name": "#%%\n"
    }
   }
  },
  {
   "cell_type": "markdown",
   "source": [
    "#### drop columns"
   ],
   "metadata": {
    "collapsed": false,
    "pycharm": {
     "name": "#%% md\n"
    }
   }
  },
  {
   "cell_type": "code",
   "execution_count": 580,
   "outputs": [],
   "source": [
    "X = data.drop(['Result_v1', \"html_num_tags('form')\", \"html_num_tags('script')\"], axis=1)\n",
    "y = data.loc[:, 'Result_v1']"
   ],
   "metadata": {
    "collapsed": false,
    "pycharm": {
     "name": "#%%\n"
    }
   }
  },
  {
   "cell_type": "code",
   "execution_count": 581,
   "outputs": [],
   "source": [
    "X_train, X_val, y_train, y_val = train_test_split(X, y, test_size=.3)"
   ],
   "metadata": {
    "collapsed": false,
    "pycharm": {
     "name": "#%%\n"
    }
   }
  },
  {
   "cell_type": "code",
   "execution_count": 582,
   "outputs": [],
   "source": [
    "model = RandomForestClassifier(n_jobs=-1).fit(X_train, y_train)"
   ],
   "metadata": {
    "collapsed": false,
    "pycharm": {
     "name": "#%%\n"
    }
   }
  },
  {
   "cell_type": "code",
   "execution_count": 583,
   "outputs": [
    {
     "data": {
      "text/plain": "array([[485,  34],\n       [ 31, 549]], dtype=int64)"
     },
     "execution_count": 583,
     "metadata": {},
     "output_type": "execute_result"
    }
   ],
   "source": [
    "confusion_matrix(y_val, model.predict(X_val))"
   ],
   "metadata": {
    "collapsed": false,
    "pycharm": {
     "name": "#%%\n"
    }
   }
  },
  {
   "cell_type": "code",
   "execution_count": 584,
   "outputs": [
    {
     "name": "stdout",
     "output_type": "stream",
     "text": [
      "              precision    recall  f1-score   support\n",
      "\n",
      "          -1       0.94      0.93      0.94       519\n",
      "           1       0.94      0.95      0.94       580\n",
      "\n",
      "    accuracy                           0.94      1099\n",
      "   macro avg       0.94      0.94      0.94      1099\n",
      "weighted avg       0.94      0.94      0.94      1099\n",
      "\n"
     ]
    }
   ],
   "source": [
    "print(classification_report(y_val, model.predict(X_val)))"
   ],
   "metadata": {
    "collapsed": false,
    "pycharm": {
     "name": "#%%\n"
    }
   }
  },
  {
   "cell_type": "code",
   "execution_count": 585,
   "outputs": [],
   "source": [
    "pred = model.predict(test.drop([\"html_num_tags('form')\", \"html_num_tags('script')\"], axis=1))"
   ],
   "metadata": {
    "collapsed": false,
    "pycharm": {
     "name": "#%%\n"
    }
   }
  },
  {
   "cell_type": "code",
   "execution_count": 586,
   "outputs": [],
   "source": [
    "submit = pd.DataFrame({'id':range(len(pred)), 'expected': pred})\n",
    "submit.to_csv('submit5.csv', index=False)"
   ],
   "metadata": {
    "collapsed": false,
    "pycharm": {
     "name": "#%%\n"
    }
   }
  },
  {
   "cell_type": "markdown",
   "source": [
    "#### 추가 제거 테스트"
   ],
   "metadata": {
    "collapsed": false,
    "pycharm": {
     "name": "#%% md\n"
    }
   }
  },
  {
   "cell_type": "code",
   "execution_count": 587,
   "outputs": [],
   "source": [
    "X = data.drop(['Result_v1', \"html_num_tags('form')\", \"html_num_tags('script')\", \"html_num_tags('a')\"], axis=1)\n",
    "y = data.loc[:, 'Result_v1']"
   ],
   "metadata": {
    "collapsed": false,
    "pycharm": {
     "name": "#%%\n"
    }
   }
  },
  {
   "cell_type": "code",
   "execution_count": 588,
   "outputs": [],
   "source": [
    "X_train, X_val, y_train, y_val = train_test_split(X, y, test_size=.3)"
   ],
   "metadata": {
    "collapsed": false,
    "pycharm": {
     "name": "#%%\n"
    }
   }
  },
  {
   "cell_type": "code",
   "execution_count": 589,
   "outputs": [],
   "source": [
    "model = RandomForestClassifier(n_jobs=-1).fit(X_train, y_train)"
   ],
   "metadata": {
    "collapsed": false,
    "pycharm": {
     "name": "#%%\n"
    }
   }
  },
  {
   "cell_type": "code",
   "execution_count": 590,
   "outputs": [
    {
     "data": {
      "text/plain": "array([[508,  47],\n       [ 34, 510]], dtype=int64)"
     },
     "execution_count": 590,
     "metadata": {},
     "output_type": "execute_result"
    }
   ],
   "source": [
    "confusion_matrix(y_val, model.predict(X_val))"
   ],
   "metadata": {
    "collapsed": false,
    "pycharm": {
     "name": "#%%\n"
    }
   }
  },
  {
   "cell_type": "code",
   "execution_count": 591,
   "outputs": [
    {
     "name": "stdout",
     "output_type": "stream",
     "text": [
      "              precision    recall  f1-score   support\n",
      "\n",
      "          -1       0.94      0.92      0.93       555\n",
      "           1       0.92      0.94      0.93       544\n",
      "\n",
      "    accuracy                           0.93      1099\n",
      "   macro avg       0.93      0.93      0.93      1099\n",
      "weighted avg       0.93      0.93      0.93      1099\n",
      "\n"
     ]
    }
   ],
   "source": [
    "print(classification_report(y_val, model.predict(X_val)))"
   ],
   "metadata": {
    "collapsed": false,
    "pycharm": {
     "name": "#%%\n"
    }
   }
  },
  {
   "cell_type": "code",
   "execution_count": 592,
   "outputs": [],
   "source": [
    "pred = model.predict(test.drop([\"html_num_tags('form')\", \"html_num_tags('script')\", \"html_num_tags('a')\"], axis=1))"
   ],
   "metadata": {
    "collapsed": false,
    "pycharm": {
     "name": "#%%\n"
    }
   }
  },
  {
   "cell_type": "code",
   "execution_count": 593,
   "outputs": [],
   "source": [
    "submit = pd.DataFrame({'id':range(len(pred)), 'expected': pred})\n",
    "submit.to_csv('submit8.csv', index=False)"
   ],
   "metadata": {
    "collapsed": false,
    "pycharm": {
     "name": "#%%\n"
    }
   }
  },
  {
   "cell_type": "markdown",
   "source": [
    "### KNN"
   ],
   "metadata": {
    "collapsed": false,
    "pycharm": {
     "name": "#%% md\n"
    }
   }
  },
  {
   "cell_type": "code",
   "execution_count": 594,
   "outputs": [],
   "source": [
    "# pipeline 정의\n",
    "pipe = make_pipeline(StandardScaler(), KNeighborsClassifier())\n",
    "param = {'kneighborsclassifier__n_neighbors': [3, 4, 5, 7, 10], 'kneighborsclassifier__metric': ['minkowski', 'cityblock', 'chevyshev']}"
   ],
   "metadata": {
    "collapsed": false,
    "pycharm": {
     "name": "#%%\n"
    }
   }
  },
  {
   "cell_type": "code",
   "execution_count": 595,
   "outputs": [],
   "source": [
    "X = data.drop(['Result_v1'], axis=1)\n",
    "y = data.loc[:, 'Result_v1']"
   ],
   "metadata": {
    "collapsed": false,
    "pycharm": {
     "name": "#%%\n"
    }
   }
  },
  {
   "cell_type": "code",
   "execution_count": 596,
   "outputs": [],
   "source": [
    "X_train, X_val, y_train, y_val = train_test_split(X, y, test_size=.3)"
   ],
   "metadata": {
    "collapsed": false,
    "pycharm": {
     "name": "#%%\n"
    }
   }
  },
  {
   "cell_type": "code",
   "execution_count": 597,
   "outputs": [
    {
     "name": "stderr",
     "output_type": "stream",
     "text": [
      "C:\\Users\\allsa\\anaconda3\\envs\\kt-aivle\\lib\\site-packages\\sklearn\\model_selection\\_validation.py:378: FitFailedWarning: \n",
      "25 fits failed out of a total of 75.\n",
      "The score on these train-test partitions for these parameters will be set to nan.\n",
      "If these failures are not expected, you can try to debug them by setting error_score='raise'.\n",
      "\n",
      "Below are more details about the failures:\n",
      "--------------------------------------------------------------------------------\n",
      "25 fits failed with the following error:\n",
      "Traceback (most recent call last):\n",
      "  File \"C:\\Users\\allsa\\anaconda3\\envs\\kt-aivle\\lib\\site-packages\\sklearn\\model_selection\\_validation.py\", line 686, in _fit_and_score\n",
      "    estimator.fit(X_train, y_train, **fit_params)\n",
      "  File \"C:\\Users\\allsa\\anaconda3\\envs\\kt-aivle\\lib\\site-packages\\sklearn\\pipeline.py\", line 382, in fit\n",
      "    self._final_estimator.fit(Xt, y, **fit_params_last_step)\n",
      "  File \"C:\\Users\\allsa\\anaconda3\\envs\\kt-aivle\\lib\\site-packages\\sklearn\\neighbors\\_classification.py\", line 200, in fit\n",
      "    return self._fit(X, y)\n",
      "  File \"C:\\Users\\allsa\\anaconda3\\envs\\kt-aivle\\lib\\site-packages\\sklearn\\neighbors\\_base.py\", line 446, in _fit\n",
      "    self._check_algorithm_metric()\n",
      "  File \"C:\\Users\\allsa\\anaconda3\\envs\\kt-aivle\\lib\\site-packages\\sklearn\\neighbors\\_base.py\", line 381, in _check_algorithm_metric\n",
      "    raise ValueError(\n",
      "ValueError: Metric 'chevyshev' not valid. Use sorted(sklearn.neighbors.VALID_METRICS['brute']) to get valid options. Metric can also be a callable function.\n",
      "\n",
      "  warnings.warn(some_fits_failed_message, FitFailedWarning)\n",
      "C:\\Users\\allsa\\anaconda3\\envs\\kt-aivle\\lib\\site-packages\\sklearn\\model_selection\\_search.py:953: UserWarning: One or more of the test scores are non-finite: [0.88294499 0.87319231 0.8770978  0.87631807 0.87592973 0.88841222\n",
      " 0.87670641 0.8852994  0.88686495 0.88608446        nan        nan\n",
      "        nan        nan        nan]\n",
      "  warnings.warn(\n"
     ]
    }
   ],
   "source": [
    "model = GridSearchCV(pipe, param_grid=param, cv=5, n_jobs=-1, ).fit(X_train, y_train)"
   ],
   "metadata": {
    "collapsed": false,
    "pycharm": {
     "name": "#%%\n"
    }
   }
  },
  {
   "cell_type": "code",
   "execution_count": 598,
   "outputs": [
    {
     "data": {
      "text/plain": "array([[500,  54],\n       [ 62, 483]], dtype=int64)"
     },
     "execution_count": 598,
     "metadata": {},
     "output_type": "execute_result"
    }
   ],
   "source": [
    "confusion_matrix(y_val, model.predict(X_val))"
   ],
   "metadata": {
    "collapsed": false,
    "pycharm": {
     "name": "#%%\n"
    }
   }
  },
  {
   "cell_type": "code",
   "execution_count": 599,
   "outputs": [
    {
     "name": "stdout",
     "output_type": "stream",
     "text": [
      "              precision    recall  f1-score   support\n",
      "\n",
      "          -1       0.89      0.90      0.90       554\n",
      "           1       0.90      0.89      0.89       545\n",
      "\n",
      "    accuracy                           0.89      1099\n",
      "   macro avg       0.89      0.89      0.89      1099\n",
      "weighted avg       0.89      0.89      0.89      1099\n",
      "\n"
     ]
    }
   ],
   "source": [
    "print(classification_report(y_val, model.predict(X_val)))"
   ],
   "metadata": {
    "collapsed": false,
    "pycharm": {
     "name": "#%%\n"
    }
   }
  },
  {
   "cell_type": "code",
   "execution_count": 600,
   "outputs": [],
   "source": [
    "pred = model.predict(test)"
   ],
   "metadata": {
    "collapsed": false,
    "pycharm": {
     "name": "#%%\n"
    }
   }
  },
  {
   "cell_type": "code",
   "execution_count": 601,
   "outputs": [],
   "source": [
    "submit = pd.DataFrame({'id':range(len(pred)), 'expected': pred})\n",
    "submit.to_csv('submit6.csv', index=False)"
   ],
   "metadata": {
    "collapsed": false,
    "pycharm": {
     "name": "#%%\n"
    }
   }
  },
  {
   "cell_type": "code",
   "execution_count": 602,
   "outputs": [],
   "source": [
    "#### drop columns"
   ],
   "metadata": {
    "collapsed": false,
    "pycharm": {
     "name": "#%%\n"
    }
   }
  },
  {
   "cell_type": "code",
   "execution_count": 603,
   "outputs": [],
   "source": [
    "X = data.drop(['Result_v1', \"html_num_tags('form')\", \"html_num_tags('script')\"], axis=1)\n",
    "y = data.loc[:, 'Result_v1']"
   ],
   "metadata": {
    "collapsed": false,
    "pycharm": {
     "name": "#%%\n"
    }
   }
  },
  {
   "cell_type": "code",
   "execution_count": 604,
   "outputs": [],
   "source": [
    "X_train, X_val, y_train, y_val = train_test_split(X, y, test_size=.3)"
   ],
   "metadata": {
    "collapsed": false,
    "pycharm": {
     "name": "#%%\n"
    }
   }
  },
  {
   "cell_type": "code",
   "execution_count": 605,
   "outputs": [
    {
     "name": "stderr",
     "output_type": "stream",
     "text": [
      "C:\\Users\\allsa\\anaconda3\\envs\\kt-aivle\\lib\\site-packages\\sklearn\\model_selection\\_validation.py:378: FitFailedWarning: \n",
      "25 fits failed out of a total of 75.\n",
      "The score on these train-test partitions for these parameters will be set to nan.\n",
      "If these failures are not expected, you can try to debug them by setting error_score='raise'.\n",
      "\n",
      "Below are more details about the failures:\n",
      "--------------------------------------------------------------------------------\n",
      "25 fits failed with the following error:\n",
      "Traceback (most recent call last):\n",
      "  File \"C:\\Users\\allsa\\anaconda3\\envs\\kt-aivle\\lib\\site-packages\\sklearn\\model_selection\\_validation.py\", line 686, in _fit_and_score\n",
      "    estimator.fit(X_train, y_train, **fit_params)\n",
      "  File \"C:\\Users\\allsa\\anaconda3\\envs\\kt-aivle\\lib\\site-packages\\sklearn\\pipeline.py\", line 382, in fit\n",
      "    self._final_estimator.fit(Xt, y, **fit_params_last_step)\n",
      "  File \"C:\\Users\\allsa\\anaconda3\\envs\\kt-aivle\\lib\\site-packages\\sklearn\\neighbors\\_classification.py\", line 200, in fit\n",
      "    return self._fit(X, y)\n",
      "  File \"C:\\Users\\allsa\\anaconda3\\envs\\kt-aivle\\lib\\site-packages\\sklearn\\neighbors\\_base.py\", line 446, in _fit\n",
      "    self._check_algorithm_metric()\n",
      "  File \"C:\\Users\\allsa\\anaconda3\\envs\\kt-aivle\\lib\\site-packages\\sklearn\\neighbors\\_base.py\", line 381, in _check_algorithm_metric\n",
      "    raise ValueError(\n",
      "ValueError: Metric 'chevyshev' not valid. Use sorted(sklearn.neighbors.VALID_METRICS['brute']) to get valid options. Metric can also be a callable function.\n",
      "\n",
      "  warnings.warn(some_fits_failed_message, FitFailedWarning)\n",
      "C:\\Users\\allsa\\anaconda3\\envs\\kt-aivle\\lib\\site-packages\\sklearn\\model_selection\\_search.py:953: UserWarning: One or more of the test scores are non-finite: [0.85836988 0.84978908 0.85252193 0.84861644 0.84626508 0.86383635\n",
      " 0.85174068 0.85875975 0.85680662 0.85446439        nan        nan\n",
      "        nan        nan        nan]\n",
      "  warnings.warn(\n"
     ]
    }
   ],
   "source": [
    "model = GridSearchCV(pipe, param_grid=param, cv=5, n_jobs=-1, ).fit(X_train, y_train)"
   ],
   "metadata": {
    "collapsed": false,
    "pycharm": {
     "name": "#%%\n"
    }
   }
  },
  {
   "cell_type": "code",
   "execution_count": 606,
   "outputs": [
    {
     "data": {
      "text/plain": "array([[479,  65],\n       [ 78, 477]], dtype=int64)"
     },
     "execution_count": 606,
     "metadata": {},
     "output_type": "execute_result"
    }
   ],
   "source": [
    "confusion_matrix(y_val, model.predict(X_val))"
   ],
   "metadata": {
    "collapsed": false,
    "pycharm": {
     "name": "#%%\n"
    }
   }
  },
  {
   "cell_type": "code",
   "execution_count": 607,
   "outputs": [
    {
     "name": "stdout",
     "output_type": "stream",
     "text": [
      "              precision    recall  f1-score   support\n",
      "\n",
      "          -1       0.86      0.88      0.87       544\n",
      "           1       0.88      0.86      0.87       555\n",
      "\n",
      "    accuracy                           0.87      1099\n",
      "   macro avg       0.87      0.87      0.87      1099\n",
      "weighted avg       0.87      0.87      0.87      1099\n",
      "\n"
     ]
    }
   ],
   "source": [
    "print(classification_report(y_val, model.predict(X_val)))"
   ],
   "metadata": {
    "collapsed": false,
    "pycharm": {
     "name": "#%%\n"
    }
   }
  },
  {
   "cell_type": "code",
   "execution_count": 608,
   "outputs": [],
   "source": [
    "pred = model.predict(test.drop([\"html_num_tags('form')\", \"html_num_tags('script')\"], axis=1))"
   ],
   "metadata": {
    "collapsed": false,
    "pycharm": {
     "name": "#%%\n"
    }
   }
  },
  {
   "cell_type": "code",
   "execution_count": 609,
   "outputs": [],
   "source": [
    "submit = pd.DataFrame({'id':range(len(pred)), 'expected': pred})\n",
    "submit.to_csv('submit7.csv', index=False)"
   ],
   "metadata": {
    "collapsed": false,
    "pycharm": {
     "name": "#%%\n"
    }
   }
  },
  {
   "cell_type": "code",
   "execution_count": 610,
   "outputs": [
    {
     "data": {
      "text/plain": "url_len                    0\nurl_num_hyphens_dom        0\nurl_path_len               0\nurl_domain_len             0\nurl_hostname_len           0\nurl_num_dots               0\nurl_num_underscores        0\nurl_query_len              0\nurl_num_query_para         0\nurl_ip_present             0\nurl_entropy                0\nurl_port                   0\nhtml_num_tags('iframe')    0\nhtml_num_tags('script')    0\nhtml_num_tags('embed')     0\nhtml_num_tags('object')    0\nhtml_num_tags('div')       0\nhtml_num_tags('head')      0\nhtml_num_tags('body')      0\nhtml_num_tags('form')      0\nhtml_num_tags('a')         0\ndtype: int64"
     },
     "execution_count": 610,
     "metadata": {},
     "output_type": "execute_result"
    }
   ],
   "source": [
    "test.isna().sum()"
   ],
   "metadata": {
    "collapsed": false,
    "pycharm": {
     "name": "#%%\n"
    }
   }
  }
 ],
 "metadata": {
  "kernelspec": {
   "display_name": "Python 3",
   "language": "python",
   "name": "python3"
  },
  "language_info": {
   "codemirror_mode": {
    "name": "ipython",
    "version": 2
   },
   "file_extension": ".py",
   "mimetype": "text/x-python",
   "name": "python",
   "nbconvert_exporter": "python",
   "pygments_lexer": "ipython2",
   "version": "2.7.6"
  }
 },
 "nbformat": 4,
 "nbformat_minor": 0
}