{
 "cells": [
  {
   "cell_type": "code",
   "execution_count": 1,
   "metadata": {
    "collapsed": true,
    "pycharm": {
     "name": "#%%\n"
    }
   },
   "outputs": [],
   "source": [
    "import pandas as pd\n",
    "from preprocess_mini02 import *"
   ]
  },
  {
   "cell_type": "code",
   "execution_count": 26,
   "outputs": [],
   "source": [
    "air21_knn = pd.read_csv('air21_knn.csv')\n",
    "air22_knn = pd.read_csv('air22_knn.csv')\n",
    "\n",
    "weather21 = pd.read_csv('weather_2021.csv', encoding='cp949')\n",
    "weather22 = pd.read_csv('weather_2022.csv', encoding='cp949')"
   ],
   "metadata": {
    "collapsed": false,
    "pycharm": {
     "name": "#%%\n"
    }
   }
  },
  {
   "cell_type": "code",
   "execution_count": 27,
   "outputs": [],
   "source": [
    "air21_knn.rename(columns={'time': '일시'}, inplace=True)\n",
    "air22_knn.rename(columns={'time': '일시'}, inplace=True)"
   ],
   "metadata": {
    "collapsed": false,
    "pycharm": {
     "name": "#%%\n"
    }
   }
  },
  {
   "cell_type": "code",
   "execution_count": 28,
   "outputs": [],
   "source": [
    "trans_datetime(air21_knn)\n",
    "trans_datetime(air22_knn)"
   ],
   "metadata": {
    "collapsed": false,
    "pycharm": {
     "name": "#%%\n"
    }
   }
  },
  {
   "cell_type": "code",
   "execution_count": 29,
   "outputs": [],
   "source": [
    "fill_weather(weather21)\n",
    "fill_weather(weather22)"
   ],
   "metadata": {
    "collapsed": false,
    "pycharm": {
     "name": "#%%\n"
    }
   }
  },
  {
   "cell_type": "code",
   "execution_count": 30,
   "outputs": [
    {
     "data": {
      "text/plain": "        SO2   CO     O3    NO2  PM10  PM25                  일시\n0     0.003  0.4  0.026  0.016  23.0  12.0 2022-01-01 01:00:00\n1     0.003  0.4  0.022  0.020  20.0   9.0 2022-01-01 02:00:00\n2     0.003  0.5  0.014  0.028  20.0   9.0 2022-01-01 03:00:00\n3     0.003  0.5  0.016  0.027  19.0  10.0 2022-01-01 04:00:00\n4     0.003  0.5  0.005  0.040  24.0  11.0 2022-01-01 05:00:00\n...     ...  ...    ...    ...   ...   ...                 ...\n2155  0.002  0.4  0.036  0.017  11.0   8.0 2022-03-31 20:00:00\n2156  0.002  0.4  0.032  0.018  10.0   7.0 2022-03-31 21:00:00\n2157  0.003  0.3  0.038  0.013  11.0   5.0 2022-03-31 22:00:00\n2158  0.003  0.3  0.036  0.015  11.0   5.0 2022-03-31 23:00:00\n2159  0.002  0.4  0.033  0.017   9.0   5.0 2022-04-01 00:00:00\n\n[2160 rows x 7 columns]",
      "text/html": "<div>\n<style scoped>\n    .dataframe tbody tr th:only-of-type {\n        vertical-align: middle;\n    }\n\n    .dataframe tbody tr th {\n        vertical-align: top;\n    }\n\n    .dataframe thead th {\n        text-align: right;\n    }\n</style>\n<table border=\"1\" class=\"dataframe\">\n  <thead>\n    <tr style=\"text-align: right;\">\n      <th></th>\n      <th>SO2</th>\n      <th>CO</th>\n      <th>O3</th>\n      <th>NO2</th>\n      <th>PM10</th>\n      <th>PM25</th>\n      <th>일시</th>\n    </tr>\n  </thead>\n  <tbody>\n    <tr>\n      <th>0</th>\n      <td>0.003</td>\n      <td>0.4</td>\n      <td>0.026</td>\n      <td>0.016</td>\n      <td>23.0</td>\n      <td>12.0</td>\n      <td>2022-01-01 01:00:00</td>\n    </tr>\n    <tr>\n      <th>1</th>\n      <td>0.003</td>\n      <td>0.4</td>\n      <td>0.022</td>\n      <td>0.020</td>\n      <td>20.0</td>\n      <td>9.0</td>\n      <td>2022-01-01 02:00:00</td>\n    </tr>\n    <tr>\n      <th>2</th>\n      <td>0.003</td>\n      <td>0.5</td>\n      <td>0.014</td>\n      <td>0.028</td>\n      <td>20.0</td>\n      <td>9.0</td>\n      <td>2022-01-01 03:00:00</td>\n    </tr>\n    <tr>\n      <th>3</th>\n      <td>0.003</td>\n      <td>0.5</td>\n      <td>0.016</td>\n      <td>0.027</td>\n      <td>19.0</td>\n      <td>10.0</td>\n      <td>2022-01-01 04:00:00</td>\n    </tr>\n    <tr>\n      <th>4</th>\n      <td>0.003</td>\n      <td>0.5</td>\n      <td>0.005</td>\n      <td>0.040</td>\n      <td>24.0</td>\n      <td>11.0</td>\n      <td>2022-01-01 05:00:00</td>\n    </tr>\n    <tr>\n      <th>...</th>\n      <td>...</td>\n      <td>...</td>\n      <td>...</td>\n      <td>...</td>\n      <td>...</td>\n      <td>...</td>\n      <td>...</td>\n    </tr>\n    <tr>\n      <th>2155</th>\n      <td>0.002</td>\n      <td>0.4</td>\n      <td>0.036</td>\n      <td>0.017</td>\n      <td>11.0</td>\n      <td>8.0</td>\n      <td>2022-03-31 20:00:00</td>\n    </tr>\n    <tr>\n      <th>2156</th>\n      <td>0.002</td>\n      <td>0.4</td>\n      <td>0.032</td>\n      <td>0.018</td>\n      <td>10.0</td>\n      <td>7.0</td>\n      <td>2022-03-31 21:00:00</td>\n    </tr>\n    <tr>\n      <th>2157</th>\n      <td>0.003</td>\n      <td>0.3</td>\n      <td>0.038</td>\n      <td>0.013</td>\n      <td>11.0</td>\n      <td>5.0</td>\n      <td>2022-03-31 22:00:00</td>\n    </tr>\n    <tr>\n      <th>2158</th>\n      <td>0.003</td>\n      <td>0.3</td>\n      <td>0.036</td>\n      <td>0.015</td>\n      <td>11.0</td>\n      <td>5.0</td>\n      <td>2022-03-31 23:00:00</td>\n    </tr>\n    <tr>\n      <th>2159</th>\n      <td>0.002</td>\n      <td>0.4</td>\n      <td>0.033</td>\n      <td>0.017</td>\n      <td>9.0</td>\n      <td>5.0</td>\n      <td>2022-04-01 00:00:00</td>\n    </tr>\n  </tbody>\n</table>\n<p>2160 rows × 7 columns</p>\n</div>"
     },
     "execution_count": 30,
     "metadata": {},
     "output_type": "execute_result"
    }
   ],
   "source": [
    "air22_knn"
   ],
   "metadata": {
    "collapsed": false,
    "pycharm": {
     "name": "#%%\n"
    }
   }
  },
  {
   "cell_type": "code",
   "execution_count": 31,
   "outputs": [
    {
     "data": {
      "text/plain": "                      일시  기온(°C)  강수량(mm)  풍속(m/s)  풍향(16방위)  습도(%)  증기압(hPa)  \\\n0    2022-01-01 00:00:00    -8.5      0.0      1.9       320     41       1.3   \n1    2022-01-01 01:00:00    -9.2      0.0      1.8       270     42       1.3   \n2    2022-01-01 02:00:00    -9.5      0.0      1.2       270     43       1.3   \n3    2022-01-01 03:00:00    -9.3      0.0      1.4       290     46       1.4   \n4    2022-01-01 04:00:00    -9.6      0.0      1.7       340     48       1.4   \n...                  ...     ...      ...      ...       ...    ...       ...   \n2155 2022-03-31 19:00:00    12.3      0.0      2.9       340     47       6.7   \n2156 2022-03-31 20:00:00    11.6      0.0      2.7       340     48       6.5   \n2157 2022-03-31 21:00:00    10.5      0.0      3.5       320     51       6.4   \n2158 2022-03-31 22:00:00     9.3      0.0      1.9        50     58       6.8   \n2159 2022-03-31 23:00:00     8.4      0.0      1.2       360     61       6.7   \n\n      이슬점온도(°C)  현지기압(hPa)  해면기압(hPa)  ...  운형(Ci)  운형(Cc)  운형(Cs)  운형(Ac)  \\\n0         -19.4     1021.9     1033.2  ...       0       0       0       0   \n1         -19.7     1022.2     1033.6  ...       0       0       0       0   \n2         -19.7     1022.3     1033.7  ...       0       0       0       0   \n3         -18.8     1022.6     1034.0  ...       0       0       0       0   \n4         -18.5     1021.9     1033.3  ...       0       0       0       0   \n...         ...        ...        ...  ...     ...     ...     ...     ...   \n2155        1.2     1013.4     1023.8  ...       0       0       0       0   \n2156        0.9     1014.6     1025.0  ...       0       0       0       0   \n2157        0.7     1015.4     1025.9  ...       0       0       0       0   \n2158        1.4     1016.4     1026.9  ...       0       0       0       0   \n2159        1.3     1016.9     1027.4  ...       0       0       0       0   \n\n      운형(As)  운형(Ns)  운형(Sc)  운형(St)  운형(Cu)  운형(Cb)  \n0          0       0       0       0       0       0  \n1          0       0       0       0       0       0  \n2          0       0       0       0       0       0  \n3          0       0       0       0       0       0  \n4          0       0       0       0       0       0  \n...      ...     ...     ...     ...     ...     ...  \n2155       0       0       0       0       0       0  \n2156       0       0       0       0       0       0  \n2157       0       0       1       0       0       0  \n2158       0       0       0       0       0       0  \n2159       0       0       0       0       0       0  \n\n[2160 rows x 45 columns]",
      "text/html": "<div>\n<style scoped>\n    .dataframe tbody tr th:only-of-type {\n        vertical-align: middle;\n    }\n\n    .dataframe tbody tr th {\n        vertical-align: top;\n    }\n\n    .dataframe thead th {\n        text-align: right;\n    }\n</style>\n<table border=\"1\" class=\"dataframe\">\n  <thead>\n    <tr style=\"text-align: right;\">\n      <th></th>\n      <th>일시</th>\n      <th>기온(°C)</th>\n      <th>강수량(mm)</th>\n      <th>풍속(m/s)</th>\n      <th>풍향(16방위)</th>\n      <th>습도(%)</th>\n      <th>증기압(hPa)</th>\n      <th>이슬점온도(°C)</th>\n      <th>현지기압(hPa)</th>\n      <th>해면기압(hPa)</th>\n      <th>...</th>\n      <th>운형(Ci)</th>\n      <th>운형(Cc)</th>\n      <th>운형(Cs)</th>\n      <th>운형(Ac)</th>\n      <th>운형(As)</th>\n      <th>운형(Ns)</th>\n      <th>운형(Sc)</th>\n      <th>운형(St)</th>\n      <th>운형(Cu)</th>\n      <th>운형(Cb)</th>\n    </tr>\n  </thead>\n  <tbody>\n    <tr>\n      <th>0</th>\n      <td>2022-01-01 00:00:00</td>\n      <td>-8.5</td>\n      <td>0.0</td>\n      <td>1.9</td>\n      <td>320</td>\n      <td>41</td>\n      <td>1.3</td>\n      <td>-19.4</td>\n      <td>1021.9</td>\n      <td>1033.2</td>\n      <td>...</td>\n      <td>0</td>\n      <td>0</td>\n      <td>0</td>\n      <td>0</td>\n      <td>0</td>\n      <td>0</td>\n      <td>0</td>\n      <td>0</td>\n      <td>0</td>\n      <td>0</td>\n    </tr>\n    <tr>\n      <th>1</th>\n      <td>2022-01-01 01:00:00</td>\n      <td>-9.2</td>\n      <td>0.0</td>\n      <td>1.8</td>\n      <td>270</td>\n      <td>42</td>\n      <td>1.3</td>\n      <td>-19.7</td>\n      <td>1022.2</td>\n      <td>1033.6</td>\n      <td>...</td>\n      <td>0</td>\n      <td>0</td>\n      <td>0</td>\n      <td>0</td>\n      <td>0</td>\n      <td>0</td>\n      <td>0</td>\n      <td>0</td>\n      <td>0</td>\n      <td>0</td>\n    </tr>\n    <tr>\n      <th>2</th>\n      <td>2022-01-01 02:00:00</td>\n      <td>-9.5</td>\n      <td>0.0</td>\n      <td>1.2</td>\n      <td>270</td>\n      <td>43</td>\n      <td>1.3</td>\n      <td>-19.7</td>\n      <td>1022.3</td>\n      <td>1033.7</td>\n      <td>...</td>\n      <td>0</td>\n      <td>0</td>\n      <td>0</td>\n      <td>0</td>\n      <td>0</td>\n      <td>0</td>\n      <td>0</td>\n      <td>0</td>\n      <td>0</td>\n      <td>0</td>\n    </tr>\n    <tr>\n      <th>3</th>\n      <td>2022-01-01 03:00:00</td>\n      <td>-9.3</td>\n      <td>0.0</td>\n      <td>1.4</td>\n      <td>290</td>\n      <td>46</td>\n      <td>1.4</td>\n      <td>-18.8</td>\n      <td>1022.6</td>\n      <td>1034.0</td>\n      <td>...</td>\n      <td>0</td>\n      <td>0</td>\n      <td>0</td>\n      <td>0</td>\n      <td>0</td>\n      <td>0</td>\n      <td>0</td>\n      <td>0</td>\n      <td>0</td>\n      <td>0</td>\n    </tr>\n    <tr>\n      <th>4</th>\n      <td>2022-01-01 04:00:00</td>\n      <td>-9.6</td>\n      <td>0.0</td>\n      <td>1.7</td>\n      <td>340</td>\n      <td>48</td>\n      <td>1.4</td>\n      <td>-18.5</td>\n      <td>1021.9</td>\n      <td>1033.3</td>\n      <td>...</td>\n      <td>0</td>\n      <td>0</td>\n      <td>0</td>\n      <td>0</td>\n      <td>0</td>\n      <td>0</td>\n      <td>0</td>\n      <td>0</td>\n      <td>0</td>\n      <td>0</td>\n    </tr>\n    <tr>\n      <th>...</th>\n      <td>...</td>\n      <td>...</td>\n      <td>...</td>\n      <td>...</td>\n      <td>...</td>\n      <td>...</td>\n      <td>...</td>\n      <td>...</td>\n      <td>...</td>\n      <td>...</td>\n      <td>...</td>\n      <td>...</td>\n      <td>...</td>\n      <td>...</td>\n      <td>...</td>\n      <td>...</td>\n      <td>...</td>\n      <td>...</td>\n      <td>...</td>\n      <td>...</td>\n      <td>...</td>\n    </tr>\n    <tr>\n      <th>2155</th>\n      <td>2022-03-31 19:00:00</td>\n      <td>12.3</td>\n      <td>0.0</td>\n      <td>2.9</td>\n      <td>340</td>\n      <td>47</td>\n      <td>6.7</td>\n      <td>1.2</td>\n      <td>1013.4</td>\n      <td>1023.8</td>\n      <td>...</td>\n      <td>0</td>\n      <td>0</td>\n      <td>0</td>\n      <td>0</td>\n      <td>0</td>\n      <td>0</td>\n      <td>0</td>\n      <td>0</td>\n      <td>0</td>\n      <td>0</td>\n    </tr>\n    <tr>\n      <th>2156</th>\n      <td>2022-03-31 20:00:00</td>\n      <td>11.6</td>\n      <td>0.0</td>\n      <td>2.7</td>\n      <td>340</td>\n      <td>48</td>\n      <td>6.5</td>\n      <td>0.9</td>\n      <td>1014.6</td>\n      <td>1025.0</td>\n      <td>...</td>\n      <td>0</td>\n      <td>0</td>\n      <td>0</td>\n      <td>0</td>\n      <td>0</td>\n      <td>0</td>\n      <td>0</td>\n      <td>0</td>\n      <td>0</td>\n      <td>0</td>\n    </tr>\n    <tr>\n      <th>2157</th>\n      <td>2022-03-31 21:00:00</td>\n      <td>10.5</td>\n      <td>0.0</td>\n      <td>3.5</td>\n      <td>320</td>\n      <td>51</td>\n      <td>6.4</td>\n      <td>0.7</td>\n      <td>1015.4</td>\n      <td>1025.9</td>\n      <td>...</td>\n      <td>0</td>\n      <td>0</td>\n      <td>0</td>\n      <td>0</td>\n      <td>0</td>\n      <td>0</td>\n      <td>1</td>\n      <td>0</td>\n      <td>0</td>\n      <td>0</td>\n    </tr>\n    <tr>\n      <th>2158</th>\n      <td>2022-03-31 22:00:00</td>\n      <td>9.3</td>\n      <td>0.0</td>\n      <td>1.9</td>\n      <td>50</td>\n      <td>58</td>\n      <td>6.8</td>\n      <td>1.4</td>\n      <td>1016.4</td>\n      <td>1026.9</td>\n      <td>...</td>\n      <td>0</td>\n      <td>0</td>\n      <td>0</td>\n      <td>0</td>\n      <td>0</td>\n      <td>0</td>\n      <td>0</td>\n      <td>0</td>\n      <td>0</td>\n      <td>0</td>\n    </tr>\n    <tr>\n      <th>2159</th>\n      <td>2022-03-31 23:00:00</td>\n      <td>8.4</td>\n      <td>0.0</td>\n      <td>1.2</td>\n      <td>360</td>\n      <td>61</td>\n      <td>6.7</td>\n      <td>1.3</td>\n      <td>1016.9</td>\n      <td>1027.4</td>\n      <td>...</td>\n      <td>0</td>\n      <td>0</td>\n      <td>0</td>\n      <td>0</td>\n      <td>0</td>\n      <td>0</td>\n      <td>0</td>\n      <td>0</td>\n      <td>0</td>\n      <td>0</td>\n    </tr>\n  </tbody>\n</table>\n<p>2160 rows × 45 columns</p>\n</div>"
     },
     "execution_count": 31,
     "metadata": {},
     "output_type": "execute_result"
    }
   ],
   "source": [
    "weather22"
   ],
   "metadata": {
    "collapsed": false,
    "pycharm": {
     "name": "#%%\n"
    }
   }
  },
  {
   "cell_type": "code",
   "execution_count": 32,
   "outputs": [],
   "source": [
    "preprocess_data_21 = pd.merge(air21_knn, weather21)\n",
    "preprocess_data_22 = pd.merge(air22_knn, weather22)"
   ],
   "metadata": {
    "collapsed": false,
    "pycharm": {
     "name": "#%%\n"
    }
   }
  },
  {
   "cell_type": "code",
   "execution_count": 33,
   "outputs": [
    {
     "data": {
      "text/plain": "        SO2   CO     O3    NO2  PM10  PM25                  일시  기온(°C)  \\\n0     0.003  0.4  0.026  0.016  23.0  12.0 2022-01-01 01:00:00    -9.2   \n1     0.003  0.4  0.022  0.020  20.0   9.0 2022-01-01 02:00:00    -9.5   \n2     0.003  0.5  0.014  0.028  20.0   9.0 2022-01-01 03:00:00    -9.3   \n3     0.003  0.5  0.016  0.027  19.0  10.0 2022-01-01 04:00:00    -9.6   \n4     0.003  0.5  0.005  0.040  24.0  11.0 2022-01-01 05:00:00    -9.7   \n...     ...  ...    ...    ...   ...   ...                 ...     ...   \n2154  0.002  0.4  0.044  0.010  10.0   9.0 2022-03-31 19:00:00    12.3   \n2155  0.002  0.4  0.036  0.017  11.0   8.0 2022-03-31 20:00:00    11.6   \n2156  0.002  0.4  0.032  0.018  10.0   7.0 2022-03-31 21:00:00    10.5   \n2157  0.003  0.3  0.038  0.013  11.0   5.0 2022-03-31 22:00:00     9.3   \n2158  0.003  0.3  0.036  0.015  11.0   5.0 2022-03-31 23:00:00     8.4   \n\n      강수량(mm)  풍속(m/s)  ...  운형(Ci)  운형(Cc)  운형(Cs)  운형(Ac)  운형(As)  운형(Ns)  \\\n0         0.0      1.8  ...       0       0       0       0       0       0   \n1         0.0      1.2  ...       0       0       0       0       0       0   \n2         0.0      1.4  ...       0       0       0       0       0       0   \n3         0.0      1.7  ...       0       0       0       0       0       0   \n4         0.0      0.8  ...       0       0       0       0       0       0   \n...       ...      ...  ...     ...     ...     ...     ...     ...     ...   \n2154      0.0      2.9  ...       0       0       0       0       0       0   \n2155      0.0      2.7  ...       0       0       0       0       0       0   \n2156      0.0      3.5  ...       0       0       0       0       0       0   \n2157      0.0      1.9  ...       0       0       0       0       0       0   \n2158      0.0      1.2  ...       0       0       0       0       0       0   \n\n      운형(Sc)  운형(St)  운형(Cu)  운형(Cb)  \n0          0       0       0       0  \n1          0       0       0       0  \n2          0       0       0       0  \n3          0       0       0       0  \n4          0       0       0       0  \n...      ...     ...     ...     ...  \n2154       0       0       0       0  \n2155       0       0       0       0  \n2156       1       0       0       0  \n2157       0       0       0       0  \n2158       0       0       0       0  \n\n[2159 rows x 51 columns]",
      "text/html": "<div>\n<style scoped>\n    .dataframe tbody tr th:only-of-type {\n        vertical-align: middle;\n    }\n\n    .dataframe tbody tr th {\n        vertical-align: top;\n    }\n\n    .dataframe thead th {\n        text-align: right;\n    }\n</style>\n<table border=\"1\" class=\"dataframe\">\n  <thead>\n    <tr style=\"text-align: right;\">\n      <th></th>\n      <th>SO2</th>\n      <th>CO</th>\n      <th>O3</th>\n      <th>NO2</th>\n      <th>PM10</th>\n      <th>PM25</th>\n      <th>일시</th>\n      <th>기온(°C)</th>\n      <th>강수량(mm)</th>\n      <th>풍속(m/s)</th>\n      <th>...</th>\n      <th>운형(Ci)</th>\n      <th>운형(Cc)</th>\n      <th>운형(Cs)</th>\n      <th>운형(Ac)</th>\n      <th>운형(As)</th>\n      <th>운형(Ns)</th>\n      <th>운형(Sc)</th>\n      <th>운형(St)</th>\n      <th>운형(Cu)</th>\n      <th>운형(Cb)</th>\n    </tr>\n  </thead>\n  <tbody>\n    <tr>\n      <th>0</th>\n      <td>0.003</td>\n      <td>0.4</td>\n      <td>0.026</td>\n      <td>0.016</td>\n      <td>23.0</td>\n      <td>12.0</td>\n      <td>2022-01-01 01:00:00</td>\n      <td>-9.2</td>\n      <td>0.0</td>\n      <td>1.8</td>\n      <td>...</td>\n      <td>0</td>\n      <td>0</td>\n      <td>0</td>\n      <td>0</td>\n      <td>0</td>\n      <td>0</td>\n      <td>0</td>\n      <td>0</td>\n      <td>0</td>\n      <td>0</td>\n    </tr>\n    <tr>\n      <th>1</th>\n      <td>0.003</td>\n      <td>0.4</td>\n      <td>0.022</td>\n      <td>0.020</td>\n      <td>20.0</td>\n      <td>9.0</td>\n      <td>2022-01-01 02:00:00</td>\n      <td>-9.5</td>\n      <td>0.0</td>\n      <td>1.2</td>\n      <td>...</td>\n      <td>0</td>\n      <td>0</td>\n      <td>0</td>\n      <td>0</td>\n      <td>0</td>\n      <td>0</td>\n      <td>0</td>\n      <td>0</td>\n      <td>0</td>\n      <td>0</td>\n    </tr>\n    <tr>\n      <th>2</th>\n      <td>0.003</td>\n      <td>0.5</td>\n      <td>0.014</td>\n      <td>0.028</td>\n      <td>20.0</td>\n      <td>9.0</td>\n      <td>2022-01-01 03:00:00</td>\n      <td>-9.3</td>\n      <td>0.0</td>\n      <td>1.4</td>\n      <td>...</td>\n      <td>0</td>\n      <td>0</td>\n      <td>0</td>\n      <td>0</td>\n      <td>0</td>\n      <td>0</td>\n      <td>0</td>\n      <td>0</td>\n      <td>0</td>\n      <td>0</td>\n    </tr>\n    <tr>\n      <th>3</th>\n      <td>0.003</td>\n      <td>0.5</td>\n      <td>0.016</td>\n      <td>0.027</td>\n      <td>19.0</td>\n      <td>10.0</td>\n      <td>2022-01-01 04:00:00</td>\n      <td>-9.6</td>\n      <td>0.0</td>\n      <td>1.7</td>\n      <td>...</td>\n      <td>0</td>\n      <td>0</td>\n      <td>0</td>\n      <td>0</td>\n      <td>0</td>\n      <td>0</td>\n      <td>0</td>\n      <td>0</td>\n      <td>0</td>\n      <td>0</td>\n    </tr>\n    <tr>\n      <th>4</th>\n      <td>0.003</td>\n      <td>0.5</td>\n      <td>0.005</td>\n      <td>0.040</td>\n      <td>24.0</td>\n      <td>11.0</td>\n      <td>2022-01-01 05:00:00</td>\n      <td>-9.7</td>\n      <td>0.0</td>\n      <td>0.8</td>\n      <td>...</td>\n      <td>0</td>\n      <td>0</td>\n      <td>0</td>\n      <td>0</td>\n      <td>0</td>\n      <td>0</td>\n      <td>0</td>\n      <td>0</td>\n      <td>0</td>\n      <td>0</td>\n    </tr>\n    <tr>\n      <th>...</th>\n      <td>...</td>\n      <td>...</td>\n      <td>...</td>\n      <td>...</td>\n      <td>...</td>\n      <td>...</td>\n      <td>...</td>\n      <td>...</td>\n      <td>...</td>\n      <td>...</td>\n      <td>...</td>\n      <td>...</td>\n      <td>...</td>\n      <td>...</td>\n      <td>...</td>\n      <td>...</td>\n      <td>...</td>\n      <td>...</td>\n      <td>...</td>\n      <td>...</td>\n      <td>...</td>\n    </tr>\n    <tr>\n      <th>2154</th>\n      <td>0.002</td>\n      <td>0.4</td>\n      <td>0.044</td>\n      <td>0.010</td>\n      <td>10.0</td>\n      <td>9.0</td>\n      <td>2022-03-31 19:00:00</td>\n      <td>12.3</td>\n      <td>0.0</td>\n      <td>2.9</td>\n      <td>...</td>\n      <td>0</td>\n      <td>0</td>\n      <td>0</td>\n      <td>0</td>\n      <td>0</td>\n      <td>0</td>\n      <td>0</td>\n      <td>0</td>\n      <td>0</td>\n      <td>0</td>\n    </tr>\n    <tr>\n      <th>2155</th>\n      <td>0.002</td>\n      <td>0.4</td>\n      <td>0.036</td>\n      <td>0.017</td>\n      <td>11.0</td>\n      <td>8.0</td>\n      <td>2022-03-31 20:00:00</td>\n      <td>11.6</td>\n      <td>0.0</td>\n      <td>2.7</td>\n      <td>...</td>\n      <td>0</td>\n      <td>0</td>\n      <td>0</td>\n      <td>0</td>\n      <td>0</td>\n      <td>0</td>\n      <td>0</td>\n      <td>0</td>\n      <td>0</td>\n      <td>0</td>\n    </tr>\n    <tr>\n      <th>2156</th>\n      <td>0.002</td>\n      <td>0.4</td>\n      <td>0.032</td>\n      <td>0.018</td>\n      <td>10.0</td>\n      <td>7.0</td>\n      <td>2022-03-31 21:00:00</td>\n      <td>10.5</td>\n      <td>0.0</td>\n      <td>3.5</td>\n      <td>...</td>\n      <td>0</td>\n      <td>0</td>\n      <td>0</td>\n      <td>0</td>\n      <td>0</td>\n      <td>0</td>\n      <td>1</td>\n      <td>0</td>\n      <td>0</td>\n      <td>0</td>\n    </tr>\n    <tr>\n      <th>2157</th>\n      <td>0.003</td>\n      <td>0.3</td>\n      <td>0.038</td>\n      <td>0.013</td>\n      <td>11.0</td>\n      <td>5.0</td>\n      <td>2022-03-31 22:00:00</td>\n      <td>9.3</td>\n      <td>0.0</td>\n      <td>1.9</td>\n      <td>...</td>\n      <td>0</td>\n      <td>0</td>\n      <td>0</td>\n      <td>0</td>\n      <td>0</td>\n      <td>0</td>\n      <td>0</td>\n      <td>0</td>\n      <td>0</td>\n      <td>0</td>\n    </tr>\n    <tr>\n      <th>2158</th>\n      <td>0.003</td>\n      <td>0.3</td>\n      <td>0.036</td>\n      <td>0.015</td>\n      <td>11.0</td>\n      <td>5.0</td>\n      <td>2022-03-31 23:00:00</td>\n      <td>8.4</td>\n      <td>0.0</td>\n      <td>1.2</td>\n      <td>...</td>\n      <td>0</td>\n      <td>0</td>\n      <td>0</td>\n      <td>0</td>\n      <td>0</td>\n      <td>0</td>\n      <td>0</td>\n      <td>0</td>\n      <td>0</td>\n      <td>0</td>\n    </tr>\n  </tbody>\n</table>\n<p>2159 rows × 51 columns</p>\n</div>"
     },
     "execution_count": 33,
     "metadata": {},
     "output_type": "execute_result"
    }
   ],
   "source": [
    "preprocess_data_22"
   ],
   "metadata": {
    "collapsed": false,
    "pycharm": {
     "name": "#%%\n"
    }
   }
  },
  {
   "cell_type": "code",
   "execution_count": 34,
   "outputs": [],
   "source": [
    "preprocess_data_21.to_csv('pre_data_21_v1.csv', index=False, encoding='utf-8')\n",
    "preprocess_data_22.to_csv('pre_data_22_v1.csv', index=False, encoding='utf-8')"
   ],
   "metadata": {
    "collapsed": false,
    "pycharm": {
     "name": "#%%\n"
    }
   }
  },
  {
   "cell_type": "code",
   "execution_count": null,
   "outputs": [],
   "source": [],
   "metadata": {
    "collapsed": false,
    "pycharm": {
     "name": "#%%\n",
     "is_executing": true
    }
   }
  },
  {
   "cell_type": "code",
   "execution_count": 40,
   "outputs": [],
   "source": [
    "air = pd.read_csv('air_2021.csv', index_col=0)\n",
    "weather = pd.read_csv('weather_2021.csv', encoding='cp949')"
   ],
   "metadata": {
    "collapsed": false,
    "pycharm": {
     "name": "#%%\n"
    }
   }
  },
  {
   "cell_type": "code",
   "execution_count": 41,
   "outputs": [
    {
     "data": {
      "text/plain": "지점                  0\n지점명                 0\n일시                  0\n기온(°C)              0\n기온 QC플래그         8759\n강수량(mm)          7810\n강수량 QC플래그        6996\n풍속(m/s)             2\n풍속 QC플래그         8757\n풍향(16방위)            2\n풍향 QC플래그         8757\n습도(%)               0\n습도 QC플래그         8759\n증기압(hPa)            0\n이슬점온도(°C)           0\n현지기압(hPa)           0\n현지기압 QC플래그       8759\n해면기압(hPa)           0\n해면기압 QC플래그       8759\n일조(hr)           3968\n일조 QC플래그         4791\n일사(MJ/m2)        3968\n일사 QC플래그         4791\n적설(cm)           8380\n3시간신적설(cm)       8730\n전운량(10분위)           2\n중하층운량(10분위)         0\n운형(운형약어)         3812\n최저운고(100m )      4212\n시정(10m)             0\n지면상태(지면상태코드)     8759\n현상번호(국내식)        6634\n지면온도(°C)            5\n지면온도 QC플래그       8735\n5cm 지중온도(°C)        5\n10cm 지중온도(°C)       5\n20cm 지중온도(°C)       5\n30cm 지중온도(°C)       5\ndtype: int64"
     },
     "execution_count": 41,
     "metadata": {},
     "output_type": "execute_result"
    }
   ],
   "source": [
    "weather.isna().sum()"
   ],
   "metadata": {
    "collapsed": false,
    "pycharm": {
     "name": "#%%\n"
    }
   }
  },
  {
   "cell_type": "code",
   "execution_count": 42,
   "outputs": [
    {
     "data": {
      "text/plain": "(8759, 38)"
     },
     "execution_count": 42,
     "metadata": {},
     "output_type": "execute_result"
    }
   ],
   "source": [
    "weather.shape"
   ],
   "metadata": {
    "collapsed": false,
    "pycharm": {
     "name": "#%%\n"
    }
   }
  },
  {
   "cell_type": "code",
   "execution_count": 66,
   "outputs": [
    {
     "data": {
      "text/plain": "                    일시  적설(cm)  3시간신적설(cm)\n94    2021-01-04 23:00     0.0         NaN\n95    2021-01-05 00:00     0.0         0.0\n96    2021-01-05 01:00     0.0         NaN\n97    2021-01-05 02:00     0.0         NaN\n98    2021-01-05 03:00     0.0         0.0\n...                ...     ...         ...\n8693  2021-12-29 06:00     0.3         0.3\n8694  2021-12-29 07:00     0.2         NaN\n8695  2021-12-29 08:00     0.2         NaN\n8696  2021-12-29 09:00     0.1         NaN\n8697  2021-12-29 10:00     0.1         NaN\n\n[379 rows x 3 columns]",
      "text/html": "<div>\n<style scoped>\n    .dataframe tbody tr th:only-of-type {\n        vertical-align: middle;\n    }\n\n    .dataframe tbody tr th {\n        vertical-align: top;\n    }\n\n    .dataframe thead th {\n        text-align: right;\n    }\n</style>\n<table border=\"1\" class=\"dataframe\">\n  <thead>\n    <tr style=\"text-align: right;\">\n      <th></th>\n      <th>일시</th>\n      <th>적설(cm)</th>\n      <th>3시간신적설(cm)</th>\n    </tr>\n  </thead>\n  <tbody>\n    <tr>\n      <th>94</th>\n      <td>2021-01-04 23:00</td>\n      <td>0.0</td>\n      <td>NaN</td>\n    </tr>\n    <tr>\n      <th>95</th>\n      <td>2021-01-05 00:00</td>\n      <td>0.0</td>\n      <td>0.0</td>\n    </tr>\n    <tr>\n      <th>96</th>\n      <td>2021-01-05 01:00</td>\n      <td>0.0</td>\n      <td>NaN</td>\n    </tr>\n    <tr>\n      <th>97</th>\n      <td>2021-01-05 02:00</td>\n      <td>0.0</td>\n      <td>NaN</td>\n    </tr>\n    <tr>\n      <th>98</th>\n      <td>2021-01-05 03:00</td>\n      <td>0.0</td>\n      <td>0.0</td>\n    </tr>\n    <tr>\n      <th>...</th>\n      <td>...</td>\n      <td>...</td>\n      <td>...</td>\n    </tr>\n    <tr>\n      <th>8693</th>\n      <td>2021-12-29 06:00</td>\n      <td>0.3</td>\n      <td>0.3</td>\n    </tr>\n    <tr>\n      <th>8694</th>\n      <td>2021-12-29 07:00</td>\n      <td>0.2</td>\n      <td>NaN</td>\n    </tr>\n    <tr>\n      <th>8695</th>\n      <td>2021-12-29 08:00</td>\n      <td>0.2</td>\n      <td>NaN</td>\n    </tr>\n    <tr>\n      <th>8696</th>\n      <td>2021-12-29 09:00</td>\n      <td>0.1</td>\n      <td>NaN</td>\n    </tr>\n    <tr>\n      <th>8697</th>\n      <td>2021-12-29 10:00</td>\n      <td>0.1</td>\n      <td>NaN</td>\n    </tr>\n  </tbody>\n</table>\n<p>379 rows × 3 columns</p>\n</div>"
     },
     "execution_count": 66,
     "metadata": {},
     "output_type": "execute_result"
    }
   ],
   "source": [
    "weather.loc[weather['적설(cm)'].notnull(), ['일시', '적설(cm)', '3시간신적설(cm)']]"
   ],
   "metadata": {
    "collapsed": false,
    "pycharm": {
     "name": "#%%\n"
    }
   }
  },
  {
   "cell_type": "code",
   "execution_count": 44,
   "outputs": [
    {
     "data": {
      "text/plain": "Index(['지점', '지점명', '일시', '기온(°C)', '기온 QC플래그', '강수량(mm)', '강수량 QC플래그',\n       '풍속(m/s)', '풍속 QC플래그', '풍향(16방위)', '풍향 QC플래그', '습도(%)', '습도 QC플래그',\n       '증기압(hPa)', '이슬점온도(°C)', '현지기압(hPa)', '현지기압 QC플래그', '해면기압(hPa)',\n       '해면기압 QC플래그', '일조(hr)', '일조 QC플래그', '일사(MJ/m2)', '일사 QC플래그', '적설(cm)',\n       '3시간신적설(cm)', '전운량(10분위)', '중하층운량(10분위)', '운형(운형약어)', '최저운고(100m )',\n       '시정(10m)', '지면상태(지면상태코드)', '현상번호(국내식)', '지면온도(°C)', '지면온도 QC플래그',\n       '5cm 지중온도(°C)', '10cm 지중온도(°C)', '20cm 지중온도(°C)', '30cm 지중온도(°C)'],\n      dtype='object')"
     },
     "execution_count": 44,
     "metadata": {},
     "output_type": "execute_result"
    }
   ],
   "source": [
    "weather.columns"
   ],
   "metadata": {
    "collapsed": false,
    "pycharm": {
     "name": "#%%\n"
    }
   }
  },
  {
   "cell_type": "code",
   "execution_count": 70,
   "outputs": [],
   "source": [
    "target1 = '현상번호(국내식)'\n",
    "target2 = '운형(운형약어)'"
   ],
   "metadata": {
    "collapsed": false,
    "pycharm": {
     "name": "#%%\n"
    }
   }
  },
  {
   "cell_type": "code",
   "execution_count": 71,
   "outputs": [
    {
     "data": {
      "text/plain": "현상번호(국내식)   운형(운형약어)\n1901.0      StNs        321\n1.0         ScAs        303\n19.0        Sc          153\n            Ci           75\n1901.0      ScAs         72\n                       ... \n4.0         CbScNs        1\n1905.0      ScAs          1\n4.0         CbScCs        1\n1906.0      Sc            1\n19160201.0  StNs          1\nLength: 131, dtype: int64"
     },
     "execution_count": 71,
     "metadata": {},
     "output_type": "execute_result"
    }
   ],
   "source": [
    "weather.loc[weather[target1].notnull(), [target1, target2]].value_counts()"
   ],
   "metadata": {
    "collapsed": false,
    "pycharm": {
     "name": "#%%\n"
    }
   }
  },
  {
   "cell_type": "code",
   "execution_count": null,
   "outputs": [],
   "source": [],
   "metadata": {
    "collapsed": false,
    "pycharm": {
     "name": "#%%\n"
    }
   }
  }
 ],
 "metadata": {
  "kernelspec": {
   "display_name": "Python 3",
   "language": "python",
   "name": "python3"
  },
  "language_info": {
   "codemirror_mode": {
    "name": "ipython",
    "version": 2
   },
   "file_extension": ".py",
   "mimetype": "text/x-python",
   "name": "python",
   "nbconvert_exporter": "python",
   "pygments_lexer": "ipython2",
   "version": "2.7.6"
  }
 },
 "nbformat": 4,
 "nbformat_minor": 0
}