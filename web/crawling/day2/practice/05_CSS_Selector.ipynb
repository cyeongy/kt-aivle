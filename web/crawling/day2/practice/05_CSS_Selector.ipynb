{
 "cells": [
  {
   "cell_type": "markdown",
   "metadata": {
    "collapsed": true,
    "pycharm": {
     "name": "#%% md\n"
    }
   },
   "source": [
    "## CSS Selector\n",
    "\n",
    "- CSS 스타일을 적용 시킬 HTML 엘리먼트를 선택하는 방법\n",
    "\n",
    "    1. id : #{id}\n",
    "    2. class : .{class}\n",
    "    3. attr : [value={value}]\n",
    "\n",
    "## NOT Selector\n",
    "\n",
    "```\n",
    "css selector : .{selected_class}:not(.{not_selected_class})\n",
    "```\n",
    "\n",
    "## N번째 엘리먼트 선택\n",
    "\n",
    "```\n",
    "css selector : .{class-name}:nth-child(n)\n",
    "2번째 엘리먼트 중에서 .py 클래스를 갖는 엘리먼트 선택\n",
    "```\n",
    "\n",
    "## 계층적 엘리먼트 선택\n",
    "\n",
    "```\n",
    ".wrap > p : inner 1 선택\n",
    ".wrap p : inner 1, inner 2 선택\n",
    "\n",
    "<div class=\"wrap\">\n",
    "    <p>inner 1</p>\n",
    "    <div>\n",
    "        <p>inner 2</p>\n",
    "    </div>\n",
    "</div>\n",
    "```\n",
    "\n",
    "## 여러 개의 엘리먼트 선택\n",
    "\n",
    "```\n",
    ".py1, .py2 : python1, python2 선택\n",
    "\n",
    "<p> class=\"py1\">python 1</p>\n",
    "<p> class=\"py2\">python 2</p>\n",
    "<p> class=\"py3\">python 3</p>\n",
    "```"
   ]
  },
  {
   "cell_type": "markdown",
   "metadata": {
    "pycharm": {
     "name": "#%% md\n"
    }
   },
   "source": [
    "#### 1. Element Tag 이름으로 선택\n",
    "##### css selector : span : python3 선택\n",
    "\n",
    "#kt > div {\n",
    "    color: red;\n",
    "}\n"
   ]
  },
  {
   "cell_type": "code",
   "execution_count": 2,
   "metadata": {
    "pycharm": {
     "name": "#%%\n"
    }
   },
   "outputs": [
    {
     "data": {
      "text/html": [
       "<div id=\"kt\">\n",
       "    <div class=\"kt1\">python 1</div>\n",
       "    <p id=\"kt2\" class=\"kt2\">python 2</p>\n",
       "    <span class=\"kt3\">python 3</span>\n",
       "</div>\n"
      ],
      "text/plain": [
       "<IPython.core.display.HTML object>"
      ]
     },
     "metadata": {},
     "output_type": "display_data"
    }
   ],
   "source": [
    "%%html\n",
    "<div id=\"kt\">\n",
    "    <div class=\"py kt1\">python 1</div>\n",
    "    <p id=\"kt2\" class=\"py kt2\">python 2</p>\n",
    "    <span class=\"py kt3\">python 3</span>\n",
    "</div>\n"
   ]
  },
  {
   "cell_type": "markdown",
   "metadata": {
    "pycharm": {
     "name": "#%% md\n"
    }
   },
   "source": [
    "#### 2. Tag의 id 값으로 선택\n",
    "##### css selector : #kt2 : python2 선택\n",
    "\n",
    "#kt2 {\n",
    "    color: blue;\n",
    "}\n"
   ]
  }
 ],
 "metadata": {
  "kernelspec": {
   "display_name": "Python 3 (ipykernel)",
   "language": "python",
   "name": "python3"
  },
  "language_info": {
   "codemirror_mode": {
    "name": "ipython",
    "version": 3
   },
   "file_extension": ".py",
   "mimetype": "text/x-python",
   "name": "python",
   "nbconvert_exporter": "python",
   "pygments_lexer": "ipython3",
   "version": "3.8.13"
  }
 },
 "nbformat": 4,
 "nbformat_minor": 1
}