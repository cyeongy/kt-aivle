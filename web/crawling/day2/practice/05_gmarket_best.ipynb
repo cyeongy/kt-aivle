{
 "cells": [
  {
   "cell_type": "code",
   "execution_count": 1,
   "metadata": {
    "collapsed": true
   },
   "outputs": [],
   "source": [
    "import pandas as pd\n",
    "import requests\n",
    "from bs4 import BeautifulSoup"
   ]
  },
  {
   "cell_type": "code",
   "execution_count": 2,
   "outputs": [
    {
     "data": {
      "text/plain": "<Response [200]>"
     },
     "execution_count": 2,
     "metadata": {},
     "output_type": "execute_result"
    }
   ],
   "source": [
    "url = 'http://corners.gmarket.co.kr/Bestsellers'\n",
    "\n",
    "response = requests.get(url)\n",
    "response"
   ],
   "metadata": {
    "collapsed": false,
    "pycharm": {
     "name": "#%%\n"
    }
   }
  },
  {
   "cell_type": "code",
   "execution_count": 5,
   "outputs": [
    {
     "data": {
      "text/plain": "bs4.BeautifulSoup"
     },
     "execution_count": 5,
     "metadata": {},
     "output_type": "execute_result"
    }
   ],
   "source": [
    "doc = BeautifulSoup(response.text)\n",
    "type(doc)"
   ],
   "metadata": {
    "collapsed": false,
    "pycharm": {
     "name": "#%%\n"
    }
   }
  },
  {
   "cell_type": "code",
   "execution_count": 14,
   "outputs": [
    {
     "data": {
      "text/plain": "200"
     },
     "execution_count": 14,
     "metadata": {},
     "output_type": "execute_result"
    }
   ],
   "source": [
    "elements = doc.select(\"#gBestWrap > div > div:nth-child(5) > div > ul > li\")\n",
    "elements = doc.select(\".best-list > ul > li\")\n",
    "len(elements)"
   ],
   "metadata": {
    "collapsed": false,
    "pycharm": {
     "name": "#%%\n"
    }
   }
  },
  {
   "cell_type": "code",
   "execution_count": 16,
   "outputs": [],
   "source": [
    "element = elements[0]"
   ],
   "metadata": {
    "collapsed": false,
    "pycharm": {
     "name": "#%%\n"
    }
   }
  },
  {
   "cell_type": "code",
   "execution_count": 37,
   "outputs": [],
   "source": [
    "def get_item(element):\n",
    "    data = {\n",
    "        \"title\": element.select_one(\".itemname\").text,\n",
    "        \"o_price\": element.select_one(\".o-price\").text,\n",
    "        \"s_price\": element.select_one(\".s-price > strong\").text,\n",
    "        \"img\": element.select_one(\"img\").get(\"data-original\"),\n",
    "    }\n",
    "    return data"
   ],
   "metadata": {
    "collapsed": false,
    "pycharm": {
     "name": "#%%\n"
    }
   }
  },
  {
   "cell_type": "code",
   "execution_count": 38,
   "outputs": [],
   "source": [
    "items = []\n",
    "\n",
    "items = [get_item(element) for element in elements]"
   ],
   "metadata": {
    "collapsed": false,
    "pycharm": {
     "name": "#%%\n"
    }
   }
  },
  {
   "cell_type": "code",
   "execution_count": 40,
   "outputs": [
    {
     "data": {
      "text/plain": "200"
     },
     "execution_count": 40,
     "metadata": {},
     "output_type": "execute_result"
    }
   ],
   "source": [
    "len(items)"
   ],
   "metadata": {
    "collapsed": false,
    "pycharm": {
     "name": "#%%\n"
    }
   }
  },
  {
   "cell_type": "code",
   "execution_count": 42,
   "outputs": [
    {
     "data": {
      "text/plain": "[{'title': '[한상궁김치]한상궁김치 국산 겉절이 2kg 출고당일생산',\n  'o_price': '23,400원',\n  's_price': '11,000원',\n  'img': '//gdimg.gmarket.co.kr/1798110680/still/300?ver=2022080416'},\n {'title': '[광동]아이스웨일 레몬라임 탄산수 500ml 40pet/음료/음료수',\n  'o_price': '17,300원',\n  's_price': '13,900원',\n  'img': '//gdimg.gmarket.co.kr/2355814801/still/300?ver=2022080416'},\n {'title': '[바디스토리]남성 누디5매 냉감 쿨 드로즈 남자 아이스 사각 팬티 / 무료반품+10%+15%할인',\n  'o_price': '39,600원',\n  's_price': '11,900원',\n  'img': '//gdimg.gmarket.co.kr/2520900839/still/300?ver=2022080416'},\n {'title': '(쌀가게) (광주신세계)[주문폭증으로 순차적 출고 예정] [2021년 햅쌀] 쌀가게  수향미 (특등급 )10KG',\n  'o_price': '33,900원',\n  's_price': '28,140원',\n  'img': '//gdimg.gmarket.co.kr/2443817026/still/300?ver=2022080416'},\n {'title': '[이지바이](무료반품)균일6900원/남녀 쿨론티셔츠/반바지/추리닝',\n  'o_price': '23,000원',\n  's_price': '6,900원',\n  'img': '//gdimg.gmarket.co.kr/1494979529/still/300?ver=2022080416'}]"
     },
     "execution_count": 42,
     "metadata": {},
     "output_type": "execute_result"
    }
   ],
   "source": [
    "items[:5]"
   ],
   "metadata": {
    "collapsed": false,
    "pycharm": {
     "name": "#%%\n"
    }
   }
  },
  {
   "cell_type": "code",
   "execution_count": null,
   "outputs": [],
   "source": [],
   "metadata": {
    "collapsed": false,
    "pycharm": {
     "name": "#%%\n"
    }
   }
  }
 ],
 "metadata": {
  "kernelspec": {
   "display_name": "Python 3",
   "language": "python",
   "name": "python3"
  },
  "language_info": {
   "codemirror_mode": {
    "name": "ipython",
    "version": 2
   },
   "file_extension": ".py",
   "mimetype": "text/x-python",
   "name": "python",
   "nbconvert_exporter": "python",
   "pygments_lexer": "ipython2",
   "version": "2.7.6"
  }
 },
 "nbformat": 4,
 "nbformat_minor": 0
}