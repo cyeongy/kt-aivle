{
 "cells": [
  {
   "cell_type": "code",
   "execution_count": 1,
   "metadata": {
    "collapsed": true
   },
   "outputs": [],
   "source": [
    "from bs4 import BeautifulSoup\n",
    "import pandas as pd\n",
    "import requests"
   ]
  },
  {
   "cell_type": "code",
   "execution_count": 2,
   "outputs": [
    {
     "data": {
      "text/plain": "<Response [200]>"
     },
     "execution_count": 2,
     "metadata": {},
     "output_type": "execute_result"
    }
   ],
   "source": [
    "\n",
    "url = 'https://search.naver.com/search.naver?ie=UTF-8&query=kt&sm=chr_hty'\n",
    "\n",
    "response = requests.get(url)\n",
    "response"
   ],
   "metadata": {
    "collapsed": false,
    "pycharm": {
     "name": "#%%\n"
    }
   }
  },
  {
   "cell_type": "code",
   "execution_count": 3,
   "outputs": [
    {
     "data": {
      "text/plain": "bs4.BeautifulSoup"
     },
     "execution_count": 3,
     "metadata": {},
     "output_type": "execute_result"
    }
   ],
   "source": [
    "# HTML(stR) > BeautifulSoup Object > BS(CSS Selector) > data\n",
    "\n",
    "dom = BeautifulSoup(response.text)\n",
    "type(dom)"
   ],
   "metadata": {
    "collapsed": false,
    "pycharm": {
     "name": "#%%\n"
    }
   }
  },
  {
   "cell_type": "code",
   "execution_count": 23,
   "outputs": [
    {
     "data": {
      "text/plain": "[<li class=\"item\"> <a class=\"keyword\" href=\"?where=nexearch&amp;query=%EC%82%BC%EC%84%B1%EC%A0%84%EC%9E%90&amp;ie=utf8&amp;sm=tab_she&amp;qdt=0\" onclick=\"return goOtherCR(this, 'a=rsk_btm*q.list1&amp;r=1&amp;u=' + urlencode(this.href))\"> <div class=\"tit\">삼성전자</div> </a> </li>,\n <li class=\"item\"> <a class=\"keyword\" href=\"?where=nexearch&amp;query=kt+%EA%B3%A0%EA%B0%9D%EC%84%BC%ED%84%B0&amp;ie=utf8&amp;sm=tab_she&amp;qdt=0\" onclick=\"return goOtherCR(this, 'a=rsk_btm*q.list1&amp;r=2&amp;u=' + urlencode(this.href))\"> <div class=\"tit\">kt 고객센터</div> </a> </li>,\n <li class=\"item\"> <a class=\"keyword\" href=\"?where=nexearch&amp;query=kt+%EC%9D%B8%ED%84%B0%EB%84%B7&amp;ie=utf8&amp;sm=tab_she&amp;qdt=0\" onclick=\"return goOtherCR(this, 'a=rsk_btm*q.list1&amp;r=3&amp;u=' + urlencode(this.href))\"> <div class=\"tit\">kt 인터넷</div> </a> </li>,\n <li class=\"item\"> <a class=\"keyword\" href=\"?where=nexearch&amp;query=ky&amp;ie=utf8&amp;sm=tab_she&amp;qdt=0\" onclick=\"return goOtherCR(this, 'a=rsk_btm*q.list1&amp;r=4&amp;u=' + urlencode(this.href))\"> <div class=\"tit\">ky</div> </a> </li>,\n <li class=\"item\"> <a class=\"keyword\" href=\"?where=nexearch&amp;query=%ED%99%98%EC%9C%A8&amp;ie=utf8&amp;sm=tab_she&amp;qdt=0\" onclick=\"return goOtherCR(this, 'a=rsk_btm*q.list1&amp;r=5&amp;u=' + urlencode(this.href))\"> <div class=\"tit\">환율</div> </a> </li>,\n <li class=\"item\"> <a class=\"keyword\" href=\"?where=nexearch&amp;query=kr&amp;ie=utf8&amp;sm=tab_she&amp;qdt=0\" onclick=\"return goOtherCR(this, 'a=rsk_btm*q.list1&amp;r=6&amp;u=' + urlencode(this.href))\"> <div class=\"tit\">kr</div> </a> </li>,\n <li class=\"item\"> <a class=\"keyword\" href=\"?where=nexearch&amp;query=%EB%82%A0%EC%94%A8&amp;ie=utf8&amp;sm=tab_she&amp;qdt=0\" onclick=\"return goOtherCR(this, 'a=rsk_btm*q.list1&amp;r=7&amp;u=' + urlencode(this.href))\"> <div class=\"tit\">날씨</div> </a> </li>,\n <li class=\"item\"> <a class=\"keyword\" href=\"?where=nexearch&amp;query=kt+%EB%8C%80%EB%A6%AC%EC%A0%90&amp;ie=utf8&amp;sm=tab_she&amp;qdt=0\" onclick=\"return goOtherCR(this, 'a=rsk_btm*q.list1&amp;r=8&amp;u=' + urlencode(this.href))\"> <div class=\"tit\">kt 대리점</div> </a> </li>,\n <li class=\"item\"> <a class=\"keyword\" href=\"?where=nexearch&amp;query=SKT&amp;ie=utf8&amp;sm=tab_she&amp;qdt=0\" onclick=\"return goOtherCR(this, 'a=rsk_btm*q.list1&amp;r=9&amp;u=' + urlencode(this.href))\"> <div class=\"tit\">SKT</div> </a> </li>,\n <li class=\"item\"> <a class=\"keyword\" href=\"?where=nexearch&amp;query=kt+%EA%B3%A0%EA%B0%9D%EC%84%BC%ED%84%B0+%EC%A0%84%ED%99%94%EB%B2%88%ED%98%B8&amp;ie=utf8&amp;sm=tab_she&amp;qdt=0\" onclick=\"return goOtherCR(this, 'a=rsk_btm*q.list1&amp;r=10&amp;u=' + urlencode(this.href))\"> <div class=\"tit\">kt 고객센터 전화번호</div> </a> </li>]"
     },
     "execution_count": 23,
     "metadata": {},
     "output_type": "execute_result"
    }
   ],
   "source": [
    "# select() : 엘리먼트 여러개 선택\n",
    "# select_one() : 엘리먼트 한 개 선택\n",
    "\n",
    "elements = dom.select(\".lst_related_srch > .item\")\n",
    "elements"
   ],
   "metadata": {
    "collapsed": false,
    "pycharm": {
     "name": "#%%\n"
    }
   }
  },
  {
   "cell_type": "code",
   "execution_count": 24,
   "outputs": [
    {
     "data": {
      "text/plain": "['삼성전자',\n 'kt 고객센터',\n 'kt 인터넷',\n 'ky',\n '환율',\n 'kr',\n '날씨',\n 'kt 대리점',\n 'SKT',\n 'kt 고객센터 전화번호']"
     },
     "execution_count": 24,
     "metadata": {},
     "output_type": "execute_result"
    }
   ],
   "source": [
    "#nx_footer_related_keywords > div > div.related_srch > ul > li:nth-child(1)\n",
    "keywords = [element.select_one(\".tit\").text for element in elements]\n",
    "keywords"
   ],
   "metadata": {
    "collapsed": false,
    "pycharm": {
     "name": "#%%\n"
    }
   }
  },
  {
   "cell_type": "code",
   "execution_count": null,
   "outputs": [],
   "source": [],
   "metadata": {
    "collapsed": false,
    "pycharm": {
     "name": "#%%\n"
    }
   }
  }
 ],
 "metadata": {
  "kernelspec": {
   "display_name": "Python 3",
   "language": "python",
   "name": "python3"
  },
  "language_info": {
   "codemirror_mode": {
    "name": "ipython",
    "version": 2
   },
   "file_extension": ".py",
   "mimetype": "text/x-python",
   "name": "python",
   "nbconvert_exporter": "python",
   "pygments_lexer": "ipython2",
   "version": "2.7.6"
  }
 },
 "nbformat": 4,
 "nbformat_minor": 0
}