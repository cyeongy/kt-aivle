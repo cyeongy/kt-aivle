{
 "cells": [
  {
   "cell_type": "code",
   "execution_count": 12,
   "metadata": {
    "collapsed": true,
    "pycharm": {
     "name": "#%%\n"
    }
   },
   "outputs": [],
   "source": [
    "import pandas as pd\n",
    "import numpy as np\n",
    "import matplotlib.pyplot as plt\n",
    "import seaborn as sns\n",
    "\n",
    "from xgboost import XGBClassifier, plot_tree\n",
    "from sklearn.model_selection import train_test_split"
   ]
  },
  {
   "cell_type": "code",
   "execution_count": 2,
   "outputs": [
    {
     "data": {
      "text/plain": "   defeat             datetime    v021    v087    v088       v089    v114  \\\n0  normal  19/07/2008 11:55:00  1.4026  2.3895  0.9690  1747.6049  0.9460   \n1  normal  19/07/2008 12:32:00  1.3825  2.3754  0.9894  1931.6464  0.9425   \n2  defeat  19/07/2008 13:17:00  1.4123  2.4532  0.9880  1685.8514  0.9231   \n3  normal  19/07/2008 14:43:00  1.4011  2.4004  0.9904  1752.0968  0.9564   \n4  normal  19/07/2008 15:22:00  1.3888  2.4530  0.9902  1828.3846  0.9424   \n\n   v115      v116    v117  ...    v527    v528      v571    v572   v573  \\\n0   0.0  748.6115  0.9908  ...  0.5064  6.6926  533.8500  2.1113   8.95   \n1   0.0  731.2517  0.9902  ...  0.8832  8.8370  535.0164  2.4335   5.92   \n2   0.0  718.5777  0.9899  ...  0.6451  6.4568  535.0245  2.0293  11.21   \n3   0.0  709.0867  0.9906  ...  0.7404  6.4865  530.5682  2.0253   9.33   \n4   0.0  796.5950  0.9908  ...  2.2181  6.3745  532.0155  2.0275   8.83   \n\n     v574    v575    v576    v577     v578  \n0  0.3157  3.0624  0.1026  1.6765  14.9509  \n1  0.2653  2.0111  0.0772  1.1065  10.9003  \n2  0.1882  4.0923  0.0640  2.0952   9.2721  \n3  0.1738  2.8971  0.0525  1.7585   8.5831  \n4  0.2224  3.1776  0.0706  1.6597  10.9698  \n\n[5 rows x 54 columns]",
      "text/html": "<div>\n<style scoped>\n    .dataframe tbody tr th:only-of-type {\n        vertical-align: middle;\n    }\n\n    .dataframe tbody tr th {\n        vertical-align: top;\n    }\n\n    .dataframe thead th {\n        text-align: right;\n    }\n</style>\n<table border=\"1\" class=\"dataframe\">\n  <thead>\n    <tr style=\"text-align: right;\">\n      <th></th>\n      <th>defeat</th>\n      <th>datetime</th>\n      <th>v021</th>\n      <th>v087</th>\n      <th>v088</th>\n      <th>v089</th>\n      <th>v114</th>\n      <th>v115</th>\n      <th>v116</th>\n      <th>v117</th>\n      <th>...</th>\n      <th>v527</th>\n      <th>v528</th>\n      <th>v571</th>\n      <th>v572</th>\n      <th>v573</th>\n      <th>v574</th>\n      <th>v575</th>\n      <th>v576</th>\n      <th>v577</th>\n      <th>v578</th>\n    </tr>\n  </thead>\n  <tbody>\n    <tr>\n      <th>0</th>\n      <td>normal</td>\n      <td>19/07/2008 11:55:00</td>\n      <td>1.4026</td>\n      <td>2.3895</td>\n      <td>0.9690</td>\n      <td>1747.6049</td>\n      <td>0.9460</td>\n      <td>0.0</td>\n      <td>748.6115</td>\n      <td>0.9908</td>\n      <td>...</td>\n      <td>0.5064</td>\n      <td>6.6926</td>\n      <td>533.8500</td>\n      <td>2.1113</td>\n      <td>8.95</td>\n      <td>0.3157</td>\n      <td>3.0624</td>\n      <td>0.1026</td>\n      <td>1.6765</td>\n      <td>14.9509</td>\n    </tr>\n    <tr>\n      <th>1</th>\n      <td>normal</td>\n      <td>19/07/2008 12:32:00</td>\n      <td>1.3825</td>\n      <td>2.3754</td>\n      <td>0.9894</td>\n      <td>1931.6464</td>\n      <td>0.9425</td>\n      <td>0.0</td>\n      <td>731.2517</td>\n      <td>0.9902</td>\n      <td>...</td>\n      <td>0.8832</td>\n      <td>8.8370</td>\n      <td>535.0164</td>\n      <td>2.4335</td>\n      <td>5.92</td>\n      <td>0.2653</td>\n      <td>2.0111</td>\n      <td>0.0772</td>\n      <td>1.1065</td>\n      <td>10.9003</td>\n    </tr>\n    <tr>\n      <th>2</th>\n      <td>defeat</td>\n      <td>19/07/2008 13:17:00</td>\n      <td>1.4123</td>\n      <td>2.4532</td>\n      <td>0.9880</td>\n      <td>1685.8514</td>\n      <td>0.9231</td>\n      <td>0.0</td>\n      <td>718.5777</td>\n      <td>0.9899</td>\n      <td>...</td>\n      <td>0.6451</td>\n      <td>6.4568</td>\n      <td>535.0245</td>\n      <td>2.0293</td>\n      <td>11.21</td>\n      <td>0.1882</td>\n      <td>4.0923</td>\n      <td>0.0640</td>\n      <td>2.0952</td>\n      <td>9.2721</td>\n    </tr>\n    <tr>\n      <th>3</th>\n      <td>normal</td>\n      <td>19/07/2008 14:43:00</td>\n      <td>1.4011</td>\n      <td>2.4004</td>\n      <td>0.9904</td>\n      <td>1752.0968</td>\n      <td>0.9564</td>\n      <td>0.0</td>\n      <td>709.0867</td>\n      <td>0.9906</td>\n      <td>...</td>\n      <td>0.7404</td>\n      <td>6.4865</td>\n      <td>530.5682</td>\n      <td>2.0253</td>\n      <td>9.33</td>\n      <td>0.1738</td>\n      <td>2.8971</td>\n      <td>0.0525</td>\n      <td>1.7585</td>\n      <td>8.5831</td>\n    </tr>\n    <tr>\n      <th>4</th>\n      <td>normal</td>\n      <td>19/07/2008 15:22:00</td>\n      <td>1.3888</td>\n      <td>2.4530</td>\n      <td>0.9902</td>\n      <td>1828.3846</td>\n      <td>0.9424</td>\n      <td>0.0</td>\n      <td>796.5950</td>\n      <td>0.9908</td>\n      <td>...</td>\n      <td>2.2181</td>\n      <td>6.3745</td>\n      <td>532.0155</td>\n      <td>2.0275</td>\n      <td>8.83</td>\n      <td>0.2224</td>\n      <td>3.1776</td>\n      <td>0.0706</td>\n      <td>1.6597</td>\n      <td>10.9698</td>\n    </tr>\n  </tbody>\n</table>\n<p>5 rows × 54 columns</p>\n</div>"
     },
     "execution_count": 2,
     "metadata": {},
     "output_type": "execute_result"
    }
   ],
   "source": [
    "data = pd.read_csv(\"https://bit.ly/3EZKMUU\")\n",
    "data.head()"
   ],
   "metadata": {
    "collapsed": false,
    "pycharm": {
     "name": "#%%\n"
    }
   }
  },
  {
   "cell_type": "code",
   "execution_count": 3,
   "outputs": [
    {
     "name": "stdout",
     "output_type": "stream",
     "text": [
      "<class 'pandas.core.frame.DataFrame'>\n",
      "RangeIndex: 1567 entries, 0 to 1566\n",
      "Data columns (total 54 columns):\n",
      " #   Column    Non-Null Count  Dtype  \n",
      "---  ------    --------------  -----  \n",
      " 0   defeat    1567 non-null   object \n",
      " 1   datetime  1567 non-null   object \n",
      " 2   v021      1567 non-null   float64\n",
      " 3   v087      1567 non-null   float64\n",
      " 4   v088      1567 non-null   float64\n",
      " 5   v089      1567 non-null   float64\n",
      " 6   v114      1567 non-null   float64\n",
      " 7   v115      1567 non-null   float64\n",
      " 8   v116      1567 non-null   float64\n",
      " 9   v117      1567 non-null   float64\n",
      " 10  v118      1567 non-null   float64\n",
      " 11  v120      1567 non-null   float64\n",
      " 12  v121      1567 non-null   float64\n",
      " 13  v157      1567 non-null   float64\n",
      " 14  v222      1567 non-null   float64\n",
      " 15  v223      1567 non-null   float64\n",
      " 16  v224      1567 non-null   float64\n",
      " 17  v249      1567 non-null   float64\n",
      " 18  v250      1567 non-null   float64\n",
      " 19  v251      1567 non-null   float64\n",
      " 20  v252      1567 non-null   float64\n",
      " 21  v253      1567 non-null   float64\n",
      " 22  v255      1567 non-null   float64\n",
      " 23  v256      1567 non-null   float64\n",
      " 24  v292      1567 non-null   float64\n",
      " 25  v360      1567 non-null   float64\n",
      " 26  v361      1567 non-null   float64\n",
      " 27  v362      1567 non-null   float64\n",
      " 28  v387      1567 non-null   float64\n",
      " 29  v388      1567 non-null   float64\n",
      " 30  v389      1567 non-null   float64\n",
      " 31  v390      1567 non-null   float64\n",
      " 32  v391      1567 non-null   float64\n",
      " 33  v393      1567 non-null   float64\n",
      " 34  v394      1567 non-null   float64\n",
      " 35  v430      1567 non-null   float64\n",
      " 36  v494      1567 non-null   float64\n",
      " 37  v495      1567 non-null   float64\n",
      " 38  v496      1567 non-null   float64\n",
      " 39  v521      1567 non-null   float64\n",
      " 40  v522      1567 non-null   float64\n",
      " 41  v523      1567 non-null   float64\n",
      " 42  v524      1567 non-null   float64\n",
      " 43  v525      1567 non-null   float64\n",
      " 44  v527      1567 non-null   float64\n",
      " 45  v528      1567 non-null   float64\n",
      " 46  v571      1567 non-null   float64\n",
      " 47  v572      1567 non-null   float64\n",
      " 48  v573      1567 non-null   float64\n",
      " 49  v574      1567 non-null   float64\n",
      " 50  v575      1567 non-null   float64\n",
      " 51  v576      1567 non-null   float64\n",
      " 52  v577      1567 non-null   float64\n",
      " 53  v578      1567 non-null   float64\n",
      "dtypes: float64(52), object(2)\n",
      "memory usage: 661.2+ KB\n"
     ]
    }
   ],
   "source": [
    "data.info()"
   ],
   "metadata": {
    "collapsed": false,
    "pycharm": {
     "name": "#%%\n"
    }
   }
  },
  {
   "cell_type": "code",
   "execution_count": 7,
   "outputs": [],
   "source": [
    "target = 'defeat'\n",
    "\n",
    "data.drop('datetime', axis=1, inplace=True)\n",
    "x = data.drop(target, axis=1)\n",
    "y = data.loc[:, target]\n",
    "\n",
    "x_train, x_val, y_train, y_val = train_test_split(x, y, test_size=.3, random_state=2022)"
   ],
   "metadata": {
    "collapsed": false,
    "pycharm": {
     "name": "#%%\n"
    }
   }
  },
  {
   "cell_type": "code",
   "execution_count": 8,
   "outputs": [],
   "source": [
    "model = XGBClassifier(max_depth = 4, n_estimators=50, learning_rate=0.1)"
   ],
   "metadata": {
    "collapsed": false,
    "pycharm": {
     "name": "#%%\n"
    }
   }
  },
  {
   "cell_type": "code",
   "execution_count": 9,
   "outputs": [
    {
     "name": "stdout",
     "output_type": "stream",
     "text": [
      "[17:03:12] WARNING: C:\\Windows\\Temp\\abs_557yfx631l\\croots\\recipe\\xgboost-split_1659548953302\\work\\src\\learner.cc:1115: Starting in XGBoost 1.3.0, the default evaluation metric used with the objective 'binary:logistic' was changed from 'error' to 'logloss'. Explicitly set eval_metric if you'd like to restore the old behavior.\n"
     ]
    },
    {
     "name": "stderr",
     "output_type": "stream",
     "text": [
      "C:\\Users\\allsa\\anaconda3\\envs\\kt-aivle\\lib\\site-packages\\xgboost\\sklearn.py:1224: UserWarning: The use of label encoder in XGBClassifier is deprecated and will be removed in a future release. To remove this warning, do the following: 1) Pass option use_label_encoder=False when constructing XGBClassifier object; and 2) Encode your labels (y) as integers starting with 0, i.e. 0, 1, 2, ..., [num_class - 1].\n",
      "  warnings.warn(label_encoder_deprecation_msg, UserWarning)\n",
      "C:\\Users\\allsa\\anaconda3\\envs\\kt-aivle\\lib\\site-packages\\xgboost\\data.py:250: FutureWarning: pandas.Int64Index is deprecated and will be removed from pandas in a future version. Use pandas.Index with the appropriate dtype instead.\n",
      "  elif isinstance(data.columns, (pd.Int64Index, pd.RangeIndex)):\n"
     ]
    },
    {
     "data": {
      "text/plain": "XGBClassifier(base_score=0.5, booster='gbtree', colsample_bylevel=1,\n              colsample_bynode=1, colsample_bytree=1, enable_categorical=False,\n              gamma=0, gpu_id=-1, importance_type=None,\n              interaction_constraints='', learning_rate=0.1, max_delta_step=0,\n              max_depth=4, min_child_weight=1, missing=nan,\n              monotone_constraints='()', n_estimators=50, n_jobs=16,\n              num_parallel_tree=1, predictor='auto', random_state=0,\n              reg_alpha=0, reg_lambda=1, scale_pos_weight=1, subsample=1,\n              tree_method='exact', validate_parameters=1, verbosity=None)",
      "text/html": "<style>#sk-container-id-1 {color: black;background-color: white;}#sk-container-id-1 pre{padding: 0;}#sk-container-id-1 div.sk-toggleable {background-color: white;}#sk-container-id-1 label.sk-toggleable__label {cursor: pointer;display: block;width: 100%;margin-bottom: 0;padding: 0.3em;box-sizing: border-box;text-align: center;}#sk-container-id-1 label.sk-toggleable__label-arrow:before {content: \"▸\";float: left;margin-right: 0.25em;color: #696969;}#sk-container-id-1 label.sk-toggleable__label-arrow:hover:before {color: black;}#sk-container-id-1 div.sk-estimator:hover label.sk-toggleable__label-arrow:before {color: black;}#sk-container-id-1 div.sk-toggleable__content {max-height: 0;max-width: 0;overflow: hidden;text-align: left;background-color: #f0f8ff;}#sk-container-id-1 div.sk-toggleable__content pre {margin: 0.2em;color: black;border-radius: 0.25em;background-color: #f0f8ff;}#sk-container-id-1 input.sk-toggleable__control:checked~div.sk-toggleable__content {max-height: 200px;max-width: 100%;overflow: auto;}#sk-container-id-1 input.sk-toggleable__control:checked~label.sk-toggleable__label-arrow:before {content: \"▾\";}#sk-container-id-1 div.sk-estimator input.sk-toggleable__control:checked~label.sk-toggleable__label {background-color: #d4ebff;}#sk-container-id-1 div.sk-label input.sk-toggleable__control:checked~label.sk-toggleable__label {background-color: #d4ebff;}#sk-container-id-1 input.sk-hidden--visually {border: 0;clip: rect(1px 1px 1px 1px);clip: rect(1px, 1px, 1px, 1px);height: 1px;margin: -1px;overflow: hidden;padding: 0;position: absolute;width: 1px;}#sk-container-id-1 div.sk-estimator {font-family: monospace;background-color: #f0f8ff;border: 1px dotted black;border-radius: 0.25em;box-sizing: border-box;margin-bottom: 0.5em;}#sk-container-id-1 div.sk-estimator:hover {background-color: #d4ebff;}#sk-container-id-1 div.sk-parallel-item::after {content: \"\";width: 100%;border-bottom: 1px solid gray;flex-grow: 1;}#sk-container-id-1 div.sk-label:hover label.sk-toggleable__label {background-color: #d4ebff;}#sk-container-id-1 div.sk-serial::before {content: \"\";position: absolute;border-left: 1px solid gray;box-sizing: border-box;top: 0;bottom: 0;left: 50%;z-index: 0;}#sk-container-id-1 div.sk-serial {display: flex;flex-direction: column;align-items: center;background-color: white;padding-right: 0.2em;padding-left: 0.2em;position: relative;}#sk-container-id-1 div.sk-item {position: relative;z-index: 1;}#sk-container-id-1 div.sk-parallel {display: flex;align-items: stretch;justify-content: center;background-color: white;position: relative;}#sk-container-id-1 div.sk-item::before, #sk-container-id-1 div.sk-parallel-item::before {content: \"\";position: absolute;border-left: 1px solid gray;box-sizing: border-box;top: 0;bottom: 0;left: 50%;z-index: -1;}#sk-container-id-1 div.sk-parallel-item {display: flex;flex-direction: column;z-index: 1;position: relative;background-color: white;}#sk-container-id-1 div.sk-parallel-item:first-child::after {align-self: flex-end;width: 50%;}#sk-container-id-1 div.sk-parallel-item:last-child::after {align-self: flex-start;width: 50%;}#sk-container-id-1 div.sk-parallel-item:only-child::after {width: 0;}#sk-container-id-1 div.sk-dashed-wrapped {border: 1px dashed gray;margin: 0 0.4em 0.5em 0.4em;box-sizing: border-box;padding-bottom: 0.4em;background-color: white;}#sk-container-id-1 div.sk-label label {font-family: monospace;font-weight: bold;display: inline-block;line-height: 1.2em;}#sk-container-id-1 div.sk-label-container {text-align: center;}#sk-container-id-1 div.sk-container {/* jupyter's `normalize.less` sets `[hidden] { display: none; }` but bootstrap.min.css set `[hidden] { display: none !important; }` so we also need the `!important` here to be able to override the default hidden behavior on the sphinx rendered scikit-learn.org. See: https://github.com/scikit-learn/scikit-learn/issues/21755 */display: inline-block !important;position: relative;}#sk-container-id-1 div.sk-text-repr-fallback {display: none;}</style><div id=\"sk-container-id-1\" class=\"sk-top-container\"><div class=\"sk-text-repr-fallback\"><pre>XGBClassifier(base_score=0.5, booster=&#x27;gbtree&#x27;, colsample_bylevel=1,\n              colsample_bynode=1, colsample_bytree=1, enable_categorical=False,\n              gamma=0, gpu_id=-1, importance_type=None,\n              interaction_constraints=&#x27;&#x27;, learning_rate=0.1, max_delta_step=0,\n              max_depth=4, min_child_weight=1, missing=nan,\n              monotone_constraints=&#x27;()&#x27;, n_estimators=50, n_jobs=16,\n              num_parallel_tree=1, predictor=&#x27;auto&#x27;, random_state=0,\n              reg_alpha=0, reg_lambda=1, scale_pos_weight=1, subsample=1,\n              tree_method=&#x27;exact&#x27;, validate_parameters=1, verbosity=None)</pre><b>In a Jupyter environment, please rerun this cell to show the HTML representation or trust the notebook. <br />On GitHub, the HTML representation is unable to render, please try loading this page with nbviewer.org.</b></div><div class=\"sk-container\" hidden><div class=\"sk-item\"><div class=\"sk-estimator sk-toggleable\"><input class=\"sk-toggleable__control sk-hidden--visually\" id=\"sk-estimator-id-1\" type=\"checkbox\" checked><label for=\"sk-estimator-id-1\" class=\"sk-toggleable__label sk-toggleable__label-arrow\">XGBClassifier</label><div class=\"sk-toggleable__content\"><pre>XGBClassifier(base_score=0.5, booster=&#x27;gbtree&#x27;, colsample_bylevel=1,\n              colsample_bynode=1, colsample_bytree=1, enable_categorical=False,\n              gamma=0, gpu_id=-1, importance_type=None,\n              interaction_constraints=&#x27;&#x27;, learning_rate=0.1, max_delta_step=0,\n              max_depth=4, min_child_weight=1, missing=nan,\n              monotone_constraints=&#x27;()&#x27;, n_estimators=50, n_jobs=16,\n              num_parallel_tree=1, predictor=&#x27;auto&#x27;, random_state=0,\n              reg_alpha=0, reg_lambda=1, scale_pos_weight=1, subsample=1,\n              tree_method=&#x27;exact&#x27;, validate_parameters=1, verbosity=None)</pre></div></div></div></div></div>"
     },
     "execution_count": 9,
     "metadata": {},
     "output_type": "execute_result"
    }
   ],
   "source": [
    "model.fit(x_train, y_train)"
   ],
   "metadata": {
    "collapsed": false,
    "pycharm": {
     "name": "#%%\n"
    }
   }
  },
  {
   "cell_type": "code",
   "execution_count": 10,
   "outputs": [
    {
     "data": {
      "text/plain": "array([0.01739737, 0.01957975, 0.01428715, 0.0162514 , 0.02670237,\n       0.01759297, 0.02342662, 0.02406211, 0.01735195, 0.02224962,\n       0.01645445, 0.02001547, 0.02174352, 0.02194449, 0.01132895,\n       0.02792332, 0.        , 0.01154135, 0.01689753, 0.02435671,\n       0.02060857, 0.01849868, 0.02222427, 0.01647287, 0.02847588,\n       0.03316666, 0.02999183, 0.        , 0.025023  , 0.        ,\n       0.02384351, 0.01272227, 0.01452579, 0.02475785, 0.02021942,\n       0.01621609, 0.02489281, 0.0105055 , 0.        , 0.03287369,\n       0.0181737 , 0.01956094, 0.01819862, 0.02065217, 0.02490119,\n       0.02617865, 0.02214654, 0.02419339, 0.01611208, 0.0239689 ,\n       0.01852826, 0.02125984], dtype=float32)"
     },
     "execution_count": 10,
     "metadata": {},
     "output_type": "execute_result"
    }
   ],
   "source": [
    "\n",
    "model.feature_importances_"
   ],
   "metadata": {
    "collapsed": false,
    "pycharm": {
     "name": "#%%\n"
    }
   }
  },
  {
   "cell_type": "code",
   "execution_count": 13,
   "outputs": [],
   "source": [
    "def plot_feature_importance(importance, names):\n",
    "    feature_importance = np.array(importance)\n",
    "    feature_names = np.array(names)\n",
    "\n",
    "    data={'feature_names':feature_names,'feature_importance':feature_importance}\n",
    "    fi_df = pd.DataFrame(data)\n",
    "\n",
    "    fi_df.sort_values(by=['feature_importance'], ascending=False,inplace=True)\n",
    "    fi_df.reset_index(drop=True, inplace = True)\n",
    "\n",
    "    plt.figure(figsize=(10,8))\n",
    "    sns.barplot(x='feature_importance', y='feature_names', data = fi_df)\n",
    "\n",
    "    plt.xlabel('FEATURE IMPORTANCE')\n",
    "    plt.ylabel('FEATURE NAMES')\n",
    "    plt.grid()\n",
    "\n",
    "    return fi_df"
   ],
   "metadata": {
    "collapsed": false,
    "pycharm": {
     "name": "#%%\n"
    }
   }
  },
  {
   "cell_type": "code",
   "execution_count": 14,
   "outputs": [
    {
     "data": {
      "text/plain": "   feature_names  feature_importance\n0           v362            0.033167\n1           v523            0.032874\n2           v387            0.029992\n3           v361            0.028476\n4           v249            0.027923\n5           v114            0.026702\n6           v572            0.026179\n7           v389            0.025023\n8           v571            0.024901\n9           v496            0.024893\n10          v430            0.024758\n11          v253            0.024357\n12          v574            0.024193\n13          v117            0.024062\n14          v576            0.023969\n15          v391            0.023844\n16          v116            0.023427\n17          v120            0.022250\n18          v292            0.022224\n19          v573            0.022147\n20          v223            0.021944\n21          v222            0.021744\n22          v578            0.021260\n23          v528            0.020652\n24          v255            0.020609\n25          v494            0.020219\n26          v157            0.020015\n27          v087            0.019580\n28          v525            0.019561\n29          v577            0.018528\n30          v256            0.018499\n31          v527            0.018199\n32          v524            0.018174\n33          v115            0.017593\n34          v021            0.017397\n35          v118            0.017352\n36          v252            0.016898\n37          v360            0.016473\n38          v121            0.016454\n39          v089            0.016251\n40          v495            0.016216\n41          v575            0.016112\n42          v394            0.014526\n43          v088            0.014287\n44          v393            0.012722\n45          v251            0.011541\n46          v224            0.011329\n47          v521            0.010506\n48          v522            0.000000\n49          v250            0.000000\n50          v390            0.000000\n51          v388            0.000000",
      "text/html": "<div>\n<style scoped>\n    .dataframe tbody tr th:only-of-type {\n        vertical-align: middle;\n    }\n\n    .dataframe tbody tr th {\n        vertical-align: top;\n    }\n\n    .dataframe thead th {\n        text-align: right;\n    }\n</style>\n<table border=\"1\" class=\"dataframe\">\n  <thead>\n    <tr style=\"text-align: right;\">\n      <th></th>\n      <th>feature_names</th>\n      <th>feature_importance</th>\n    </tr>\n  </thead>\n  <tbody>\n    <tr>\n      <th>0</th>\n      <td>v362</td>\n      <td>0.033167</td>\n    </tr>\n    <tr>\n      <th>1</th>\n      <td>v523</td>\n      <td>0.032874</td>\n    </tr>\n    <tr>\n      <th>2</th>\n      <td>v387</td>\n      <td>0.029992</td>\n    </tr>\n    <tr>\n      <th>3</th>\n      <td>v361</td>\n      <td>0.028476</td>\n    </tr>\n    <tr>\n      <th>4</th>\n      <td>v249</td>\n      <td>0.027923</td>\n    </tr>\n    <tr>\n      <th>5</th>\n      <td>v114</td>\n      <td>0.026702</td>\n    </tr>\n    <tr>\n      <th>6</th>\n      <td>v572</td>\n      <td>0.026179</td>\n    </tr>\n    <tr>\n      <th>7</th>\n      <td>v389</td>\n      <td>0.025023</td>\n    </tr>\n    <tr>\n      <th>8</th>\n      <td>v571</td>\n      <td>0.024901</td>\n    </tr>\n    <tr>\n      <th>9</th>\n      <td>v496</td>\n      <td>0.024893</td>\n    </tr>\n    <tr>\n      <th>10</th>\n      <td>v430</td>\n      <td>0.024758</td>\n    </tr>\n    <tr>\n      <th>11</th>\n      <td>v253</td>\n      <td>0.024357</td>\n    </tr>\n    <tr>\n      <th>12</th>\n      <td>v574</td>\n      <td>0.024193</td>\n    </tr>\n    <tr>\n      <th>13</th>\n      <td>v117</td>\n      <td>0.024062</td>\n    </tr>\n    <tr>\n      <th>14</th>\n      <td>v576</td>\n      <td>0.023969</td>\n    </tr>\n    <tr>\n      <th>15</th>\n      <td>v391</td>\n      <td>0.023844</td>\n    </tr>\n    <tr>\n      <th>16</th>\n      <td>v116</td>\n      <td>0.023427</td>\n    </tr>\n    <tr>\n      <th>17</th>\n      <td>v120</td>\n      <td>0.022250</td>\n    </tr>\n    <tr>\n      <th>18</th>\n      <td>v292</td>\n      <td>0.022224</td>\n    </tr>\n    <tr>\n      <th>19</th>\n      <td>v573</td>\n      <td>0.022147</td>\n    </tr>\n    <tr>\n      <th>20</th>\n      <td>v223</td>\n      <td>0.021944</td>\n    </tr>\n    <tr>\n      <th>21</th>\n      <td>v222</td>\n      <td>0.021744</td>\n    </tr>\n    <tr>\n      <th>22</th>\n      <td>v578</td>\n      <td>0.021260</td>\n    </tr>\n    <tr>\n      <th>23</th>\n      <td>v528</td>\n      <td>0.020652</td>\n    </tr>\n    <tr>\n      <th>24</th>\n      <td>v255</td>\n      <td>0.020609</td>\n    </tr>\n    <tr>\n      <th>25</th>\n      <td>v494</td>\n      <td>0.020219</td>\n    </tr>\n    <tr>\n      <th>26</th>\n      <td>v157</td>\n      <td>0.020015</td>\n    </tr>\n    <tr>\n      <th>27</th>\n      <td>v087</td>\n      <td>0.019580</td>\n    </tr>\n    <tr>\n      <th>28</th>\n      <td>v525</td>\n      <td>0.019561</td>\n    </tr>\n    <tr>\n      <th>29</th>\n      <td>v577</td>\n      <td>0.018528</td>\n    </tr>\n    <tr>\n      <th>30</th>\n      <td>v256</td>\n      <td>0.018499</td>\n    </tr>\n    <tr>\n      <th>31</th>\n      <td>v527</td>\n      <td>0.018199</td>\n    </tr>\n    <tr>\n      <th>32</th>\n      <td>v524</td>\n      <td>0.018174</td>\n    </tr>\n    <tr>\n      <th>33</th>\n      <td>v115</td>\n      <td>0.017593</td>\n    </tr>\n    <tr>\n      <th>34</th>\n      <td>v021</td>\n      <td>0.017397</td>\n    </tr>\n    <tr>\n      <th>35</th>\n      <td>v118</td>\n      <td>0.017352</td>\n    </tr>\n    <tr>\n      <th>36</th>\n      <td>v252</td>\n      <td>0.016898</td>\n    </tr>\n    <tr>\n      <th>37</th>\n      <td>v360</td>\n      <td>0.016473</td>\n    </tr>\n    <tr>\n      <th>38</th>\n      <td>v121</td>\n      <td>0.016454</td>\n    </tr>\n    <tr>\n      <th>39</th>\n      <td>v089</td>\n      <td>0.016251</td>\n    </tr>\n    <tr>\n      <th>40</th>\n      <td>v495</td>\n      <td>0.016216</td>\n    </tr>\n    <tr>\n      <th>41</th>\n      <td>v575</td>\n      <td>0.016112</td>\n    </tr>\n    <tr>\n      <th>42</th>\n      <td>v394</td>\n      <td>0.014526</td>\n    </tr>\n    <tr>\n      <th>43</th>\n      <td>v088</td>\n      <td>0.014287</td>\n    </tr>\n    <tr>\n      <th>44</th>\n      <td>v393</td>\n      <td>0.012722</td>\n    </tr>\n    <tr>\n      <th>45</th>\n      <td>v251</td>\n      <td>0.011541</td>\n    </tr>\n    <tr>\n      <th>46</th>\n      <td>v224</td>\n      <td>0.011329</td>\n    </tr>\n    <tr>\n      <th>47</th>\n      <td>v521</td>\n      <td>0.010506</td>\n    </tr>\n    <tr>\n      <th>48</th>\n      <td>v522</td>\n      <td>0.000000</td>\n    </tr>\n    <tr>\n      <th>49</th>\n      <td>v250</td>\n      <td>0.000000</td>\n    </tr>\n    <tr>\n      <th>50</th>\n      <td>v390</td>\n      <td>0.000000</td>\n    </tr>\n    <tr>\n      <th>51</th>\n      <td>v388</td>\n      <td>0.000000</td>\n    </tr>\n  </tbody>\n</table>\n</div>"
     },
     "execution_count": 14,
     "metadata": {},
     "output_type": "execute_result"
    },
    {
     "data": {
      "text/plain": "<Figure size 720x576 with 1 Axes>",
      "image/png": "[encoded data removed]"
     },
     "metadata": {
      "needs_background": "light"
     },
     "output_type": "display_data"
    }
   ],
   "source": [
    "plot_feature_importance(model.feature_importances_, x.columns)"
   ],
   "metadata": {
    "collapsed": false,
    "pycharm": {
     "name": "#%%\n"
    }
   }
  },
  {
   "cell_type": "code",
   "execution_count": null,
   "outputs": [],
   "source": [],
   "metadata": {
    "collapsed": false,
    "pycharm": {
     "name": "#%%\n"
    }
   }
  }
 ],
 "metadata": {
  "kernelspec": {
   "display_name": "Python 3",
   "language": "python",
   "name": "python3"
  },
  "language_info": {
   "codemirror_mode": {
    "name": "ipython",
    "version": 2
   },
   "file_extension": ".py",
   "mimetype": "text/x-python",
   "name": "python",
   "nbconvert_exporter": "python",
   "pygments_lexer": "ipython2",
   "version": "2.7.6"
  }
 },
 "nbformat": 4,
 "nbformat_minor": 0
}