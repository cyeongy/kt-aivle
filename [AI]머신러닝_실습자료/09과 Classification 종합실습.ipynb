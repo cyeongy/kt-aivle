{
 "cells": [
  {
   "cell_type": "markdown",
   "metadata": {
    "id": "cVB9pY-v8uv5"
   },
   "source": [
    "# Classification 종합실습"
   ]
  },
  {
   "cell_type": "markdown",
   "metadata": {
    "id": "H2PiE6pYmBv7"
   },
   "source": [
    " ## 신용대출 심사\n",
    "\n",
    "* 고객사는 ## 은행입니다. 신용평가 업무를 인공지능으로 전환하고자 여러분에게 모델링을 의뢰하였습니다.\n",
    "* 대출업무는\n",
    "    * 은행 창구에서 신청을 받고\n",
    "    * 본사의 심사부서에서는 신용평가를 통해 대출 신청에 대한 승인 여부를 결정해 왔습니다.\n",
    "\n",
    "* 현장의 요구\n",
    "    * 경쟁사의 공격적인 대출상품 판매로, 본사에서는 자사 은행의 대출 실적이 줄어들고 있는 것에 부담을 느끼고 있습니다.\n",
    "    * 그런데, 자사 은행에서는 신용평가 결과의 정확성에 의문을 품고 있으며, 신용평가 기준을 완화하여 가급적 대출승인 범위를 더 확대해 주기를 요구합니다. \n",
    "\n",
    "* 신용평가 업무를 인공지능으로 전환\n",
    "    * 현장의 요구를 감안하여, 과거 사람이 하던 평가방식을 개선하고자 인공지능에 의한 예측 모델을 만들고, 정확도를 높이고자 합니다.\n",
    "    * 최적의 모델을 생성해 봅시다.\n"
   ]
  },
  {
   "cell_type": "markdown",
   "metadata": {
    "id": "O1uL0UIEzBPw"
   },
   "source": [
    "## 1.환경준비"
   ]
  },
  {
   "cell_type": "markdown",
   "metadata": {
    "id": "vNt997De17qz"
   },
   "source": [
    "### (1) import"
   ]
  },
  {
   "cell_type": "code",
   "execution_count": 2,
   "metadata": {
    "id": "GugpCLBiVHzd"
   },
   "outputs": [],
   "source": [
    "#라이브러리들을 불러오자.\n",
    "import numpy as np\n",
    "import pandas as pd\n",
    "import matplotlib.pyplot as plt\n",
    "import seaborn as sns\n",
    "\n",
    "# 전처리\n",
    "from sklearn.model_selection import train_test_split\n",
    "from sklearn.preprocessing import MinMaxScaler\n",
    "\n",
    "# 모델링\n",
    "from sklearn.linear_model import LogisticRegression\n",
    "from sklearn.tree import DecisionTreeClassifier, plot_tree\n",
    "from sklearn.neighbors import KNeighborsClassifier\n",
    "from sklearn.svm import SVC\n",
    "from sklearn.metrics import * \n",
    "from sklearn.model_selection import RandomizedSearchCV, GridSearchCV\n",
    "\n",
    "import warnings    # 경고메시지 제외\n",
    "warnings.filterwarnings(action='ignore')"
   ]
  },
  {
   "cell_type": "markdown",
   "metadata": {
    "id": "CG-FeAY4f25C"
   },
   "source": [
    "### (2) 데이터 준비"
   ]
  },
  {
   "cell_type": "code",
   "execution_count": 3,
   "metadata": {
    "id": "FAAhTtVxiIqH"
   },
   "outputs": [
    {
     "data": {
      "text/plain": "   Creditability  AccountBalance  Duration  Payment  Purpose  CreditAmount  \\\n0              1               3        24        2        0          1249   \n1              1               2         9        2        0           276   \n2              1               1        18        3        2          1049   \n3              1               1        24        3        1          6419   \n4              1               3        12        2        2          1424   \n\n   Employment  SexMarital  CurrentAddress  MostValuableAsset  Age  Apartment  \\\n0           2           4               2                  1   28          2   \n1           3           4               4                  1   22          1   \n2           2           2               4                  2   21          1   \n3           5           2               4                  4   44          3   \n4           5           2               4                  1   55          2   \n\n   CreditCount  Occupation  Dependents  Telephone  ForeignWorker  \n0            1           3           1          1              1  \n1            1           2           1          1              1  \n2            1           3           1          1              1  \n3            2           4           2          2              1  \n4            1           4           1          2              1  ",
      "text/html": "<div>\n<style scoped>\n    .dataframe tbody tr th:only-of-type {\n        vertical-align: middle;\n    }\n\n    .dataframe tbody tr th {\n        vertical-align: top;\n    }\n\n    .dataframe thead th {\n        text-align: right;\n    }\n</style>\n<table border=\"1\" class=\"dataframe\">\n  <thead>\n    <tr style=\"text-align: right;\">\n      <th></th>\n      <th>Creditability</th>\n      <th>AccountBalance</th>\n      <th>Duration</th>\n      <th>Payment</th>\n      <th>Purpose</th>\n      <th>CreditAmount</th>\n      <th>Employment</th>\n      <th>SexMarital</th>\n      <th>CurrentAddress</th>\n      <th>MostValuableAsset</th>\n      <th>Age</th>\n      <th>Apartment</th>\n      <th>CreditCount</th>\n      <th>Occupation</th>\n      <th>Dependents</th>\n      <th>Telephone</th>\n      <th>ForeignWorker</th>\n    </tr>\n  </thead>\n  <tbody>\n    <tr>\n      <th>0</th>\n      <td>1</td>\n      <td>3</td>\n      <td>24</td>\n      <td>2</td>\n      <td>0</td>\n      <td>1249</td>\n      <td>2</td>\n      <td>4</td>\n      <td>2</td>\n      <td>1</td>\n      <td>28</td>\n      <td>2</td>\n      <td>1</td>\n      <td>3</td>\n      <td>1</td>\n      <td>1</td>\n      <td>1</td>\n    </tr>\n    <tr>\n      <th>1</th>\n      <td>1</td>\n      <td>2</td>\n      <td>9</td>\n      <td>2</td>\n      <td>0</td>\n      <td>276</td>\n      <td>3</td>\n      <td>4</td>\n      <td>4</td>\n      <td>1</td>\n      <td>22</td>\n      <td>1</td>\n      <td>1</td>\n      <td>2</td>\n      <td>1</td>\n      <td>1</td>\n      <td>1</td>\n    </tr>\n    <tr>\n      <th>2</th>\n      <td>1</td>\n      <td>1</td>\n      <td>18</td>\n      <td>3</td>\n      <td>2</td>\n      <td>1049</td>\n      <td>2</td>\n      <td>2</td>\n      <td>4</td>\n      <td>2</td>\n      <td>21</td>\n      <td>1</td>\n      <td>1</td>\n      <td>3</td>\n      <td>1</td>\n      <td>1</td>\n      <td>1</td>\n    </tr>\n    <tr>\n      <th>3</th>\n      <td>1</td>\n      <td>1</td>\n      <td>24</td>\n      <td>3</td>\n      <td>1</td>\n      <td>6419</td>\n      <td>5</td>\n      <td>2</td>\n      <td>4</td>\n      <td>4</td>\n      <td>44</td>\n      <td>3</td>\n      <td>2</td>\n      <td>4</td>\n      <td>2</td>\n      <td>2</td>\n      <td>1</td>\n    </tr>\n    <tr>\n      <th>4</th>\n      <td>1</td>\n      <td>3</td>\n      <td>12</td>\n      <td>2</td>\n      <td>2</td>\n      <td>1424</td>\n      <td>5</td>\n      <td>2</td>\n      <td>4</td>\n      <td>1</td>\n      <td>55</td>\n      <td>2</td>\n      <td>1</td>\n      <td>4</td>\n      <td>1</td>\n      <td>2</td>\n      <td>1</td>\n    </tr>\n  </tbody>\n</table>\n</div>"
     },
     "execution_count": 3,
     "metadata": {},
     "output_type": "execute_result"
    }
   ],
   "source": [
    "path = 'https://raw.githubusercontent.com/DA4BAM/dataset/master/credit_all.csv'\n",
    "data = pd.read_csv(path)\n",
    "data.loc[data['Payment'] == 4, 'Payment'] = 3\n",
    "data.head()"
   ]
  },
  {
   "cell_type": "markdown",
   "metadata": {
    "id": "9Rdsa2RD0qth"
   },
   "source": [
    "|\t칼럼명\t|\t설명\t|\t \t|\t값 의미\t|\n",
    "|\t-----\t|\t-----\t|\t-----\t|\t-----\t|\n",
    "|\tCreditability\t|\tCreditability(Target)\t|\t향후 신용도\t|\t0 : Bad, 1 : Good\t|\n",
    "|\tAccountBalance\t|\tAccount Balance\t|\t은행잔고\t|\t1: No account, 2 : None (No balance), 3 : Some Balance\t|\n",
    "|\tCreditDuration\t|\tDuration of Credit (month)\t|\t신청한 대출기간(월)\t|\t숫자\t|\n",
    "|\tPayment\t|\tPayment Status of Previous Credit\t|\t과거 대출 납입 상태\t|\t0 : 연체, 1 : 기타신용, 2 : 완납, 3 : 정상 대출상환 중 |\n",
    "|\tPurpose\t|\tPurpose\t|\t신청한 대출목적\t|\t1 : New Car , 2 : Used Car , 3 : Furniture , 4 : TV , 5 : Appliances , 6 : Repair , 8 : Vacation , 9 :Retraining , 10 : Business , 0 : Other\t|\n",
    "|\tCreditAmount\t|\tCredit Amount($)\t|\t신청한 대출금액\t|\t\t|\n",
    "|\tEmployment\t|\tLength of current employment(Month)\t|\t현 직업 근무 기간\t|\t1: Unemployed,  2: <1 Year,  3: [1, 4),  4: [4, 7),  5: Above 7\t|\n",
    "|\tSexMarital\t|\tSex & Marital Status\t|\t성별 & 결혼상태\t|\t1: Male, Divorced, 2: Male, Single , 3: Male, Married/Widowed , 4: Female\t|\n",
    "|\tCurrentAddress\t|\tDuration in Current address\t|\t현 거주지 거주기간\t|\t1: <1 Year , 2: [1, 4) , 3: [4, 7) , 4: Above 7\t|\n",
    "|\tMostValuable\t|\tMost valuable available asset\t|\t가장 가치있는 자산\t|\t1: None , 2: Car , 3: Life Insurance , 4: Real Estate\t|\n",
    "|\tAge\t|\tAge (years)\t|\t나이\t|\t\t|\n",
    "|\tAppartmentType\t|\tType of apartment\t|\t주거환경\t|\t1: free apartment, 2: Rented, 3: Owned\t|\n",
    "|\tNoCredits\t|\tNo of Credits at this Bank\t|\t현재 총 대출 건수\t|\t1 : one, 2 : 2 ~ 3, 3 : 4 ~ 5, 4 : 6 ~\t|\n",
    "|\tOccupation\t|\tOccupation\t|\t직업\t|\t1: Unemployed, unskilled, 2: Unskilled Permanent Resident, 3: Skilled, 4: Executive\t|\n",
    "|\tTelephone\t|\tTelephone\t|\t전화기 소유 여부\t|\t2: Yes , 1: No\t|\n",
    "|\tForeignWorker\t|\tForeign Worker\t|\t외국인 근로자 여부\t|\t2: Yes , 1: No\t|\n"
   ]
  },
  {
   "cell_type": "markdown",
   "metadata": {
    "id": "Tz_aGM49GZcT"
   },
   "source": [
    "## 2.데이터 준비"
   ]
  },
  {
   "cell_type": "markdown",
   "metadata": {
    "id": "hxdlCzfTGZcU"
   },
   "source": [
    "### (1) 데이터 정리"
   ]
  },
  {
   "cell_type": "markdown",
   "metadata": {
    "id": "QVq97z09GZcU"
   },
   "source": [
    "### (2) 데이터분할1 : x, y 나누기"
   ]
  },
  {
   "cell_type": "code",
   "execution_count": 4,
   "metadata": {
    "id": "Scb7JpQYGZcU"
   },
   "outputs": [],
   "source": [
    "target = 'Creditability'\n",
    "x = data.drop(target, axis = 1)\n",
    "y = data.loc[:, target]"
   ]
  },
  {
   "cell_type": "markdown",
   "metadata": {
    "id": "O7E-HG8PGZcU"
   },
   "source": [
    "### (3) NA 조치"
   ]
  },
  {
   "cell_type": "markdown",
   "metadata": {
    "id": "3JNE5joEGZcU"
   },
   "source": [
    "### (4) 가변수화"
   ]
  },
  {
   "cell_type": "code",
   "execution_count": 5,
   "metadata": {
    "id": "kXLOXy_gGZcU"
   },
   "outputs": [
    {
     "data": {
      "text/plain": "   Duration  CreditAmount  Age  Employment_2  Employment_3  Employment_4  \\\n0        24          1249   28             1             0             0   \n1         9           276   22             0             1             0   \n2        18          1049   21             1             0             0   \n3        24          6419   44             0             0             0   \n4        12          1424   55             0             0             0   \n\n   Employment_5  CurrentAddress_2  CurrentAddress_3  CurrentAddress_4  ...  \\\n0             0                 1                 0                 0  ...   \n1             0                 0                 0                 1  ...   \n2             0                 0                 0                 1  ...   \n3             1                 0                 0                 1  ...   \n4             1                 0                 0                 1  ...   \n\n   SexMarital_4  MostValuableAsset_2  MostValuableAsset_3  \\\n0             1                    0                    0   \n1             1                    0                    0   \n2             0                    1                    0   \n3             0                    0                    0   \n4             0                    0                    0   \n\n   MostValuableAsset_4  Apartment_2  Apartment_3  Occupation_2  Occupation_3  \\\n0                    0            1            0             0             1   \n1                    0            0            0             1             0   \n2                    0            0            0             0             1   \n3                    1            0            1             0             0   \n4                    0            1            0             0             0   \n\n   Occupation_4  ForeignWorker_2  \n0             0                0  \n1             0                0  \n2             0                0  \n3             1                0  \n4             1                0  \n\n[5 rows x 41 columns]",
      "text/html": "<div>\n<style scoped>\n    .dataframe tbody tr th:only-of-type {\n        vertical-align: middle;\n    }\n\n    .dataframe tbody tr th {\n        vertical-align: top;\n    }\n\n    .dataframe thead th {\n        text-align: right;\n    }\n</style>\n<table border=\"1\" class=\"dataframe\">\n  <thead>\n    <tr style=\"text-align: right;\">\n      <th></th>\n      <th>Duration</th>\n      <th>CreditAmount</th>\n      <th>Age</th>\n      <th>Employment_2</th>\n      <th>Employment_3</th>\n      <th>Employment_4</th>\n      <th>Employment_5</th>\n      <th>CurrentAddress_2</th>\n      <th>CurrentAddress_3</th>\n      <th>CurrentAddress_4</th>\n      <th>...</th>\n      <th>SexMarital_4</th>\n      <th>MostValuableAsset_2</th>\n      <th>MostValuableAsset_3</th>\n      <th>MostValuableAsset_4</th>\n      <th>Apartment_2</th>\n      <th>Apartment_3</th>\n      <th>Occupation_2</th>\n      <th>Occupation_3</th>\n      <th>Occupation_4</th>\n      <th>ForeignWorker_2</th>\n    </tr>\n  </thead>\n  <tbody>\n    <tr>\n      <th>0</th>\n      <td>24</td>\n      <td>1249</td>\n      <td>28</td>\n      <td>1</td>\n      <td>0</td>\n      <td>0</td>\n      <td>0</td>\n      <td>1</td>\n      <td>0</td>\n      <td>0</td>\n      <td>...</td>\n      <td>1</td>\n      <td>0</td>\n      <td>0</td>\n      <td>0</td>\n      <td>1</td>\n      <td>0</td>\n      <td>0</td>\n      <td>1</td>\n      <td>0</td>\n      <td>0</td>\n    </tr>\n    <tr>\n      <th>1</th>\n      <td>9</td>\n      <td>276</td>\n      <td>22</td>\n      <td>0</td>\n      <td>1</td>\n      <td>0</td>\n      <td>0</td>\n      <td>0</td>\n      <td>0</td>\n      <td>1</td>\n      <td>...</td>\n      <td>1</td>\n      <td>0</td>\n      <td>0</td>\n      <td>0</td>\n      <td>0</td>\n      <td>0</td>\n      <td>1</td>\n      <td>0</td>\n      <td>0</td>\n      <td>0</td>\n    </tr>\n    <tr>\n      <th>2</th>\n      <td>18</td>\n      <td>1049</td>\n      <td>21</td>\n      <td>1</td>\n      <td>0</td>\n      <td>0</td>\n      <td>0</td>\n      <td>0</td>\n      <td>0</td>\n      <td>1</td>\n      <td>...</td>\n      <td>0</td>\n      <td>1</td>\n      <td>0</td>\n      <td>0</td>\n      <td>0</td>\n      <td>0</td>\n      <td>0</td>\n      <td>1</td>\n      <td>0</td>\n      <td>0</td>\n    </tr>\n    <tr>\n      <th>3</th>\n      <td>24</td>\n      <td>6419</td>\n      <td>44</td>\n      <td>0</td>\n      <td>0</td>\n      <td>0</td>\n      <td>1</td>\n      <td>0</td>\n      <td>0</td>\n      <td>1</td>\n      <td>...</td>\n      <td>0</td>\n      <td>0</td>\n      <td>0</td>\n      <td>1</td>\n      <td>0</td>\n      <td>1</td>\n      <td>0</td>\n      <td>0</td>\n      <td>1</td>\n      <td>0</td>\n    </tr>\n    <tr>\n      <th>4</th>\n      <td>12</td>\n      <td>1424</td>\n      <td>55</td>\n      <td>0</td>\n      <td>0</td>\n      <td>0</td>\n      <td>1</td>\n      <td>0</td>\n      <td>0</td>\n      <td>1</td>\n      <td>...</td>\n      <td>0</td>\n      <td>0</td>\n      <td>0</td>\n      <td>0</td>\n      <td>1</td>\n      <td>0</td>\n      <td>0</td>\n      <td>0</td>\n      <td>1</td>\n      <td>0</td>\n    </tr>\n  </tbody>\n</table>\n<p>5 rows × 41 columns</p>\n</div>"
     },
     "execution_count": 5,
     "metadata": {},
     "output_type": "execute_result"
    }
   ],
   "source": [
    "dummy_vars = ['Employment', 'CurrentAddress', 'CreditCount', 'Dependents', 'Telephone', 'AccountBalance', 'Payment', 'Purpose', 'SexMarital', 'MostValuableAsset', 'Apartment','Occupation','ForeignWorker']\n",
    "x = pd.get_dummies(x, columns = dummy_vars, drop_first = True)\n",
    "x.head()"
   ]
  },
  {
   "cell_type": "markdown",
   "metadata": {
    "id": "s2CRgGERGZcV"
   },
   "source": [
    "### (5) 데이터분할2 : train : validation 나누기"
   ]
  },
  {
   "cell_type": "code",
   "execution_count": 6,
   "metadata": {
    "id": "_QLWEKxvGZcV"
   },
   "outputs": [],
   "source": [
    "x_train, x_val, y_train, y_val = train_test_split(x, y, test_size = .3, random_state = 2022)"
   ]
  },
  {
   "cell_type": "markdown",
   "metadata": {},
   "source": []
  },
  {
   "cell_type": "markdown",
   "metadata": {
    "id": "_StloW7yGZcV"
   },
   "source": [
    "### (6) Scaling"
   ]
  },
  {
   "cell_type": "code",
   "execution_count": 7,
   "metadata": {
    "id": "GeaLcLWvGZcV"
   },
   "outputs": [],
   "source": [
    "scaler = MinMaxScaler()\n",
    "x_train_s = scaler.fit_transform(x_train)\n",
    "x_val_s = scaler.transform(x_val)"
   ]
  },
  {
   "cell_type": "markdown",
   "metadata": {
    "id": "Db2kkXxgf25E"
   },
   "source": [
    "## 3.모델링\n",
    "\n",
    "* 사용 알고리즘 : LogisticRegression, DecisionTreeClassifier, KNeighborsClassifier, SVC\n",
    "* 3가지의 알고리즘을 선정하고 성능을 튜닝해 봅시다."
   ]
  },
  {
   "cell_type": "markdown",
   "metadata": {
    "id": "ZRBExuvRpolI"
   },
   "source": [
    "### (1) 로지스틱 회귀"
   ]
  },
  {
   "cell_type": "markdown",
   "metadata": {
    "id": "3fRPkSPJpu5M"
   },
   "source": [
    "* 함수 생성"
   ]
  },
  {
   "cell_type": "code",
   "execution_count": 23,
   "metadata": {
    "id": "W9PZBh8opolI"
   },
   "outputs": [],
   "source": [
    "# 아래 함수는 로지스틱 회귀를 위한 전진선택법 함수 입니다.\n",
    "import statsmodels.api as sm\n",
    "\n",
    "def forward_stepwise_logistic(x_train, y_train):\n",
    "\n",
    "    # 변수목록, 선택된 변수 목록, 단계별 모델과 AIC 저장소 정의\n",
    "    features = list(x_train)\n",
    "    selected = []\n",
    "    step_df = pd.DataFrame({ 'step':[], 'feature':[],'aic':[]})\n",
    "\n",
    "    # \n",
    "    for s in range(0, len(features)) :\n",
    "        result =  { 'step':[], 'feature':[],'aic':[]}\n",
    "\n",
    "        # 변수 목록에서 변수 한개씩 뽑아서 모델에 추가\n",
    "        for f in features :\n",
    "            vars = selected + [f]\n",
    "            x_tr = x_train[vars]\n",
    "            model = sm.Logit(y_train, x_tr).fit(disp=False)\n",
    "            result['step'].append(s+1)\n",
    "            result['feature'].append(vars)\n",
    "            result['aic'].append(model.aic)\n",
    "        \n",
    "        # 모델별 aic 집계\n",
    "        temp = pd.DataFrame(result).sort_values('aic').reset_index(drop = True)\n",
    "\n",
    "        # 만약 이전 aic보다 새로운 aic 가 크다면 멈추기\n",
    "        if step_df['aic'].min() < temp['aic'].min() :\n",
    "            break\n",
    "        step_df = pd.concat([step_df, temp], axis = 0).reset_index(drop = True)\n",
    "\n",
    "        # 선택된 변수 제거\n",
    "        v = temp.loc[0,'feature'][s]\n",
    "        features.remove(v)\n",
    "        selected.append(v)\n",
    "    \n",
    "    # 선택된 변수와 step_df 결과 반환\n",
    "    return selected, step_df"
   ]
  },
  {
   "cell_type": "markdown",
   "metadata": {
    "id": "Aw3LyhR0polI"
   },
   "source": [
    "* 전진선택법 수행"
   ]
  },
  {
   "cell_type": "code",
   "execution_count": 24,
   "metadata": {
    "id": "PbWqEjAIpolJ"
   },
   "outputs": [],
   "source": [
    "selected, step_df = forward_stepwise_logistic(x_train, y_train)"
   ]
  },
  {
   "cell_type": "markdown",
   "metadata": {
    "id": "l-tXl6u6polJ"
   },
   "source": [
    "* 선택된 변수"
   ]
  },
  {
   "cell_type": "code",
   "execution_count": 33,
   "metadata": {
    "id": "EMlGg2xHpolJ"
   },
   "outputs": [
    {
     "data": {
      "text/plain": "['AccountBalance_3',\n 'Payment_3',\n 'Purpose_1',\n 'CreditAmount',\n 'Payment_2',\n 'Duration',\n 'Employment_2',\n 'AccountBalance_2',\n 'ForeignWorker_2',\n 'Purpose_3',\n 'SexMarital_3',\n 'CreditCount_2',\n 'CurrentAddress_2',\n 'MostValuableAsset_4',\n 'Telephone_2',\n 'Occupation_4']"
     },
     "execution_count": 33,
     "metadata": {},
     "output_type": "execute_result"
    }
   ],
   "source": [
    "selected"
   ]
  },
  {
   "cell_type": "code",
   "execution_count": 26,
   "outputs": [
    {
     "data": {
      "text/plain": "     step                                            feature         aic\n0     1.0                                 [AccountBalance_3]  766.998784\n1     1.0                                              [Age]  830.197635\n2     1.0                                      [Apartment_2]  844.952933\n3     1.0                                        [Payment_3]  861.716743\n4     1.0                                     [SexMarital_3]  866.666531\n..    ...                                                ...         ...\n531  16.0  [AccountBalance_3, Payment_3, Purpose_1, Credi...  686.277690\n532  16.0  [AccountBalance_3, Payment_3, Purpose_1, Credi...  686.292828\n533  16.0  [AccountBalance_3, Payment_3, Purpose_1, Credi...  686.295740\n534  16.0  [AccountBalance_3, Payment_3, Purpose_1, Credi...  686.306342\n535  16.0  [AccountBalance_3, Payment_3, Purpose_1, Credi...  686.307405\n\n[536 rows x 3 columns]",
      "text/html": "<div>\n<style scoped>\n    .dataframe tbody tr th:only-of-type {\n        vertical-align: middle;\n    }\n\n    .dataframe tbody tr th {\n        vertical-align: top;\n    }\n\n    .dataframe thead th {\n        text-align: right;\n    }\n</style>\n<table border=\"1\" class=\"dataframe\">\n  <thead>\n    <tr style=\"text-align: right;\">\n      <th></th>\n      <th>step</th>\n      <th>feature</th>\n      <th>aic</th>\n    </tr>\n  </thead>\n  <tbody>\n    <tr>\n      <th>0</th>\n      <td>1.0</td>\n      <td>[AccountBalance_3]</td>\n      <td>766.998784</td>\n    </tr>\n    <tr>\n      <th>1</th>\n      <td>1.0</td>\n      <td>[Age]</td>\n      <td>830.197635</td>\n    </tr>\n    <tr>\n      <th>2</th>\n      <td>1.0</td>\n      <td>[Apartment_2]</td>\n      <td>844.952933</td>\n    </tr>\n    <tr>\n      <th>3</th>\n      <td>1.0</td>\n      <td>[Payment_3]</td>\n      <td>861.716743</td>\n    </tr>\n    <tr>\n      <th>4</th>\n      <td>1.0</td>\n      <td>[SexMarital_3]</td>\n      <td>866.666531</td>\n    </tr>\n    <tr>\n      <th>...</th>\n      <td>...</td>\n      <td>...</td>\n      <td>...</td>\n    </tr>\n    <tr>\n      <th>531</th>\n      <td>16.0</td>\n      <td>[AccountBalance_3, Payment_3, Purpose_1, Credi...</td>\n      <td>686.277690</td>\n    </tr>\n    <tr>\n      <th>532</th>\n      <td>16.0</td>\n      <td>[AccountBalance_3, Payment_3, Purpose_1, Credi...</td>\n      <td>686.292828</td>\n    </tr>\n    <tr>\n      <th>533</th>\n      <td>16.0</td>\n      <td>[AccountBalance_3, Payment_3, Purpose_1, Credi...</td>\n      <td>686.295740</td>\n    </tr>\n    <tr>\n      <th>534</th>\n      <td>16.0</td>\n      <td>[AccountBalance_3, Payment_3, Purpose_1, Credi...</td>\n      <td>686.306342</td>\n    </tr>\n    <tr>\n      <th>535</th>\n      <td>16.0</td>\n      <td>[AccountBalance_3, Payment_3, Purpose_1, Credi...</td>\n      <td>686.307405</td>\n    </tr>\n  </tbody>\n</table>\n<p>536 rows × 3 columns</p>\n</div>"
     },
     "execution_count": 26,
     "metadata": {},
     "output_type": "execute_result"
    }
   ],
   "source": [
    "step_df"
   ],
   "metadata": {
    "collapsed": false,
    "pycharm": {
     "name": "#%%\n"
    }
   }
  },
  {
   "cell_type": "markdown",
   "metadata": {
    "id": "QOVQ0FvrpolJ"
   },
   "source": [
    "* 전체 변수로 모델링"
   ]
  },
  {
   "cell_type": "code",
   "execution_count": 35,
   "metadata": {
    "id": "36KFTpn-polJ"
   },
   "outputs": [
    {
     "name": "stdout",
     "output_type": "stream",
     "text": [
      "              precision    recall  f1-score   support\n",
      "\n",
      "           0       0.59      0.46      0.52        97\n",
      "           1       0.77      0.85      0.81       203\n",
      "\n",
      "    accuracy                           0.72       300\n",
      "   macro avg       0.68      0.66      0.66       300\n",
      "weighted avg       0.71      0.72      0.71       300\n",
      "\n"
     ]
    }
   ],
   "source": [
    "model_total = LogisticRegression().fit(x_train, y_train)\n",
    "pred_total = model_total.predict(x_val)\n",
    "\n",
    "print(classification_report(y_val, pred_total))"
   ]
  },
  {
   "cell_type": "markdown",
   "metadata": {
    "id": "nZv9tJA1polK"
   },
   "source": [
    "* 전진선택법 변수로 모델링"
   ]
  },
  {
   "cell_type": "code",
   "execution_count": 36,
   "metadata": {
    "id": "fwXZurW3polK"
   },
   "outputs": [
    {
     "name": "stdout",
     "output_type": "stream",
     "text": [
      "              precision    recall  f1-score   support\n",
      "\n",
      "           0       0.62      0.46      0.53        97\n",
      "           1       0.77      0.86      0.81       203\n",
      "\n",
      "    accuracy                           0.73       300\n",
      "   macro avg       0.69      0.66      0.67       300\n",
      "weighted avg       0.72      0.73      0.72       300\n",
      "\n"
     ]
    }
   ],
   "source": [
    "model_forwards = LogisticRegression().fit(x_train[selected], y_train)\n",
    "pred_forwards = model_forwards.predict(x_val[selected])\n",
    "\n",
    "print(classification_report(y_val, pred_forwards))"
   ]
  },
  {
   "cell_type": "markdown",
   "metadata": {
    "id": "1oysBm-eqJzb"
   },
   "source": [
    "### (2) 의사결정나무"
   ]
  },
  {
   "cell_type": "code",
   "execution_count": 38,
   "metadata": {
    "id": "8nxYiVOrqPuZ"
   },
   "outputs": [],
   "source": [
    "model_rs = RandomizedSearchCV(estimator=DecisionTreeClassifier(),\n",
    "                              param_distributions={'max_depth': range(1, 11),\n",
    "                                                   'min_samples_leaf': range(20, 300, 20)},\n",
    "                              cv=5,).fit(x_train, y_train)"
   ]
  },
  {
   "cell_type": "code",
   "execution_count": 39,
   "metadata": {
    "id": "2vuG2xwOqPua"
   },
   "outputs": [
    {
     "data": {
      "text/plain": "{'min_samples_leaf': 80, 'max_depth': 8}"
     },
     "execution_count": 39,
     "metadata": {},
     "output_type": "execute_result"
    }
   ],
   "source": [
    "model_rs.best_params_"
   ]
  },
  {
   "cell_type": "code",
   "execution_count": 40,
   "metadata": {
    "id": "XMg4hFAn75qG"
   },
   "outputs": [
    {
     "data": {
      "text/plain": "0.7428571428571429"
     },
     "execution_count": 40,
     "metadata": {},
     "output_type": "execute_result"
    }
   ],
   "source": [
    "model_rs.best_score_"
   ]
  },
  {
   "cell_type": "code",
   "execution_count": 42,
   "metadata": {
    "id": "-Gl99_Ny75nL"
   },
   "outputs": [
    {
     "data": {
      "text/plain": "{'mean_fit_time': array([0.0028368 , 0.00161057, 0.0008564 , 0.00101833, 0.00103502,\n        0.00118561, 0.00142031, 0.00102816, 0.00125604, 0.00080051]),\n 'std_fit_time': array([3.42760590e-03, 4.81386498e-04, 1.93557125e-05, 1.63905794e-05,\n        2.16073011e-05, 1.70180262e-04, 9.36563283e-04, 6.97928355e-05,\n        4.63569108e-05, 1.06609102e-05]),\n 'mean_score_time': array([0.00070205, 0.0006855 , 0.00048466, 0.00048838, 0.00046573,\n        0.00048103, 0.00051608, 0.00050025, 0.00054979, 0.0004591 ]),\n 'std_score_time': array([2.74431595e-04, 3.24986804e-04, 1.31233348e-05, 1.32124340e-05,\n        6.78819188e-06, 2.00535963e-05, 3.73660867e-05, 4.13633629e-05,\n        1.17377222e-04, 8.55999069e-06]),\n 'param_min_samples_leaf': masked_array(data=[140, 60, 260, 100, 80, 60, 200, 100, 40, 260],\n              mask=[False, False, False, False, False, False, False, False,\n                    False, False],\n        fill_value='?',\n             dtype=object),\n 'param_max_depth': masked_array(data=[3, 10, 4, 3, 8, 3, 1, 6, 7, 5],\n              mask=[False, False, False, False, False, False, False, False,\n                    False, False],\n        fill_value='?',\n             dtype=object),\n 'params': [{'min_samples_leaf': 140, 'max_depth': 3},\n  {'min_samples_leaf': 60, 'max_depth': 10},\n  {'min_samples_leaf': 260, 'max_depth': 4},\n  {'min_samples_leaf': 100, 'max_depth': 3},\n  {'min_samples_leaf': 80, 'max_depth': 8},\n  {'min_samples_leaf': 60, 'max_depth': 3},\n  {'min_samples_leaf': 200, 'max_depth': 1},\n  {'min_samples_leaf': 100, 'max_depth': 6},\n  {'min_samples_leaf': 40, 'max_depth': 7},\n  {'min_samples_leaf': 260, 'max_depth': 5}],\n 'split0_test_score': array([0.70714286, 0.75714286, 0.70714286, 0.75714286, 0.75714286,\n        0.75714286, 0.70714286, 0.75714286, 0.76428571, 0.70714286]),\n 'split1_test_score': array([0.7       , 0.71428571, 0.70714286, 0.67857143, 0.71428571,\n        0.71428571, 0.70714286, 0.67857143, 0.7       , 0.70714286]),\n 'split2_test_score': array([0.70714286, 0.68571429, 0.70714286, 0.71428571, 0.71428571,\n        0.71428571, 0.70714286, 0.71428571, 0.68571429, 0.70714286]),\n 'split3_test_score': array([0.61428571, 0.72142857, 0.71428571, 0.62142857, 0.73571429,\n        0.72142857, 0.71428571, 0.62142857, 0.72142857, 0.71428571]),\n 'split4_test_score': array([0.74285714, 0.75714286, 0.71428571, 0.79285714, 0.79285714,\n        0.75714286, 0.71428571, 0.79285714, 0.75714286, 0.71428571]),\n 'mean_test_score': array([0.69428571, 0.72714286, 0.71      , 0.71285714, 0.74285714,\n        0.73285714, 0.71      , 0.71285714, 0.72571429, 0.71      ]),\n 'std_test_score': array([0.04271405, 0.02725541, 0.00349927, 0.05982969, 0.02962349,\n        0.02      , 0.00349927, 0.05982969, 0.03083862, 0.00349927]),\n 'rank_test_score': array([10,  3,  7,  5,  1,  2,  7,  5,  4,  7], dtype=int32)}"
     },
     "execution_count": 42,
     "metadata": {},
     "output_type": "execute_result"
    }
   ],
   "source": [
    "model_rs.cv_results_"
   ]
  },
  {
   "cell_type": "code",
   "execution_count": 43,
   "metadata": {
    "id": "xWhMnjkJ75kA"
   },
   "outputs": [
    {
     "name": "stdout",
     "output_type": "stream",
     "text": [
      "              precision    recall  f1-score   support\n",
      "\n",
      "           0       0.55      0.46      0.50        97\n",
      "           1       0.76      0.82      0.79       203\n",
      "\n",
      "    accuracy                           0.70       300\n",
      "   macro avg       0.66      0.64      0.65       300\n",
      "weighted avg       0.69      0.70      0.70       300\n",
      "\n"
     ]
    }
   ],
   "source": [
    "pred_rs = model_rs.predict(x_val)\n",
    "print(classification_report(y_val, pred_rs))"
   ]
  },
  {
   "cell_type": "markdown",
   "metadata": {
    "id": "eWCffPTWqeuE"
   },
   "source": [
    "### (3) KNN"
   ]
  },
  {
   "cell_type": "code",
   "execution_count": 47,
   "metadata": {
    "id": "WkBq8xtc77BC"
   },
   "outputs": [],
   "source": [
    "KNN_rs = RandomizedSearchCV(estimator=KNeighborsClassifier(),\n",
    "                            param_distributions={'n_neighbors': [3, 5, 10, 15],\n",
    "                                                 'metric': ['minkowski', 'euclidean', 'cityblock', 'chevyshev']},\n",
    "                            cv=5,\n",
    "                            n_iter=20).fit(x_train_s, y_train)"
   ]
  },
  {
   "cell_type": "code",
   "execution_count": 48,
   "outputs": [
    {
     "data": {
      "text/plain": "{'n_neighbors': 5, 'metric': 'minkowski'}"
     },
     "execution_count": 48,
     "metadata": {},
     "output_type": "execute_result"
    }
   ],
   "source": [
    "KNN_rs.best_params_"
   ],
   "metadata": {
    "collapsed": false,
    "pycharm": {
     "name": "#%%\n"
    }
   }
  },
  {
   "cell_type": "code",
   "execution_count": 49,
   "metadata": {
    "id": "wgy-Q6m6765E"
   },
   "outputs": [
    {
     "data": {
      "text/plain": "0.7214285714285715"
     },
     "execution_count": 49,
     "metadata": {},
     "output_type": "execute_result"
    }
   ],
   "source": [
    "KNN_rs.best_score_"
   ]
  },
  {
   "cell_type": "code",
   "execution_count": 51,
   "metadata": {
    "id": "ucvx-Z6Z762K"
   },
   "outputs": [
    {
     "data": {
      "text/plain": "{'mean_fit_time': array([0.0005836 , 0.00019879, 0.00020838, 0.0001966 , 0.00018239,\n        0.00018592, 0.00020385, 0.00019865, 0.00022397, 0.0001852 ,\n        0.00019393, 0.00024738, 0.0002039 , 0.00016971, 0.00016227,\n        0.00015545]),\n 'std_fit_time': array([6.12178698e-04, 1.73776890e-05, 1.74003099e-05, 1.13569358e-05,\n        7.02586827e-06, 1.02972540e-05, 4.00787234e-05, 7.41692571e-06,\n        3.55985686e-05, 1.26378940e-05, 8.55733404e-06, 3.40314775e-05,\n        3.20438118e-05, 2.74088056e-06, 3.29190361e-06, 9.41677936e-07]),\n 'mean_score_time': array([0.01222262, 0.00267863, 0.00295849, 0.00285544, 0.00277405,\n        0.00309787, 0.00343633, 0.00394716, 0.00352068, 0.00385618,\n        0.00414844, 0.00438046, 0.        , 0.        , 0.        ,\n        0.        ]),\n 'std_score_time': array([1.67179902e-02, 1.10331195e-04, 1.89966526e-04, 1.48904312e-04,\n        6.33966434e-05, 5.67019065e-04, 7.00889231e-04, 8.31001021e-04,\n        3.25520436e-04, 1.14136002e-03, 4.29763874e-04, 3.81582273e-04,\n        0.00000000e+00, 0.00000000e+00, 0.00000000e+00, 0.00000000e+00]),\n 'param_n_neighbors': masked_array(data=[3, 5, 10, 15, 3, 5, 10, 15, 3, 5, 10, 15, 3, 5, 10, 15],\n              mask=[False, False, False, False, False, False, False, False,\n                    False, False, False, False, False, False, False, False],\n        fill_value='?',\n             dtype=object),\n 'param_metric': masked_array(data=['minkowski', 'minkowski', 'minkowski', 'minkowski',\n                    'euclidean', 'euclidean', 'euclidean', 'euclidean',\n                    'cityblock', 'cityblock', 'cityblock', 'cityblock',\n                    'chevyshev', 'chevyshev', 'chevyshev', 'chevyshev'],\n              mask=[False, False, False, False, False, False, False, False,\n                    False, False, False, False, False, False, False, False],\n        fill_value='?',\n             dtype=object),\n 'params': [{'n_neighbors': 3, 'metric': 'minkowski'},\n  {'n_neighbors': 5, 'metric': 'minkowski'},\n  {'n_neighbors': 10, 'metric': 'minkowski'},\n  {'n_neighbors': 15, 'metric': 'minkowski'},\n  {'n_neighbors': 3, 'metric': 'euclidean'},\n  {'n_neighbors': 5, 'metric': 'euclidean'},\n  {'n_neighbors': 10, 'metric': 'euclidean'},\n  {'n_neighbors': 15, 'metric': 'euclidean'},\n  {'n_neighbors': 3, 'metric': 'cityblock'},\n  {'n_neighbors': 5, 'metric': 'cityblock'},\n  {'n_neighbors': 10, 'metric': 'cityblock'},\n  {'n_neighbors': 15, 'metric': 'cityblock'},\n  {'n_neighbors': 3, 'metric': 'chevyshev'},\n  {'n_neighbors': 5, 'metric': 'chevyshev'},\n  {'n_neighbors': 10, 'metric': 'chevyshev'},\n  {'n_neighbors': 15, 'metric': 'chevyshev'}],\n 'split0_test_score': array([0.70714286, 0.74285714, 0.75714286, 0.75      , 0.70714286,\n        0.74285714, 0.75714286, 0.75      , 0.71428571, 0.74285714,\n        0.74285714, 0.74285714,        nan,        nan,        nan,\n               nan]),\n 'split1_test_score': array([0.68571429, 0.68571429, 0.68571429, 0.67142857, 0.68571429,\n        0.68571429, 0.68571429, 0.67142857, 0.69285714, 0.67857143,\n        0.68571429, 0.66428571,        nan,        nan,        nan,\n               nan]),\n 'split2_test_score': array([0.67857143, 0.73571429, 0.73571429, 0.69285714, 0.67857143,\n        0.73571429, 0.73571429, 0.69285714, 0.67857143, 0.74285714,\n        0.72857143, 0.69285714,        nan,        nan,        nan,\n               nan]),\n 'split3_test_score': array([0.70714286, 0.7       , 0.68571429, 0.73571429, 0.70714286,\n        0.7       , 0.68571429, 0.73571429, 0.72142857, 0.70714286,\n        0.67857143, 0.73571429,        nan,        nan,        nan,\n               nan]),\n 'split4_test_score': array([0.71428571, 0.74285714, 0.73571429, 0.72142857, 0.71428571,\n        0.74285714, 0.73571429, 0.72142857, 0.72857143, 0.73571429,\n        0.73571429, 0.72142857,        nan,        nan,        nan,\n               nan]),\n 'mean_test_score': array([0.69857143, 0.72142857, 0.72      , 0.71428571, 0.69857143,\n        0.72142857, 0.72      , 0.71428571, 0.70714286, 0.72142857,\n        0.71428571, 0.71142857,        nan,        nan,        nan,\n               nan]),\n 'std_test_score': array([0.01385051, 0.02390457, 0.02906713, 0.02857143, 0.01385051,\n        0.02390457, 0.02906713, 0.02857143, 0.01862629, 0.0251526 ,\n        0.02672612, 0.02913725,        nan,        nan,        nan,\n               nan]),\n 'rank_test_score': array([11,  1,  4,  6, 11,  1,  4,  6, 10,  1,  6,  9, 13, 14, 15, 16],\n       dtype=int32)}"
     },
     "execution_count": 51,
     "metadata": {},
     "output_type": "execute_result"
    }
   ],
   "source": [
    "KNN_rs.cv_results_"
   ]
  },
  {
   "cell_type": "code",
   "execution_count": 52,
   "metadata": {
    "id": "S4gQFQoQ76y3"
   },
   "outputs": [
    {
     "name": "stdout",
     "output_type": "stream",
     "text": [
      "              precision    recall  f1-score   support\n",
      "\n",
      "           0       0.49      0.29      0.36        97\n",
      "           1       0.72      0.86      0.78       203\n",
      "\n",
      "    accuracy                           0.67       300\n",
      "   macro avg       0.60      0.57      0.57       300\n",
      "weighted avg       0.64      0.67      0.65       300\n",
      "\n"
     ]
    }
   ],
   "source": [
    "pred_KNN_rs = KNN_rs.predict(x_val_s)\n",
    "print(classification_report(y_val, pred_KNN_rs))"
   ]
  },
  {
   "cell_type": "markdown",
   "metadata": {
    "id": "5X62z1Gqq4Yt"
   },
   "source": [
    "### (4) SVM"
   ]
  },
  {
   "cell_type": "code",
   "execution_count": 59,
   "metadata": {
    "id": "GBNYrfjM78tj"
   },
   "outputs": [
    {
     "data": {
      "text/plain": "array([ True,  True,  True,  True,  True,  True,  True,  True,  True,\n        True,  True,  True,  True,  True,  True,  True,  True,  True,\n        True,  True,  True,  True,  True,  True,  True,  True,  True,\n        True,  True,  True,  True,  True,  True,  True,  True,  True,\n        True,  True,  True,  True,  True,  True,  True,  True,  True,\n        True,  True,  True,  True,  True,  True,  True,  True,  True,\n        True,  True,  True,  True,  True,  True,  True,  True,  True,\n        True,  True,  True,  True,  True,  True,  True,  True,  True,\n        True,  True,  True,  True,  True,  True,  True,  True,  True,\n        True,  True,  True,  True,  True,  True,  True,  True,  True,\n        True,  True,  True,  True,  True,  True,  True,  True,  True,\n        True,  True,  True,  True,  True,  True,  True,  True,  True,\n        True,  True,  True,  True,  True,  True,  True,  True,  True,\n        True,  True,  True,  True,  True,  True,  True,  True,  True,\n        True,  True,  True,  True,  True,  True,  True,  True,  True,\n        True,  True,  True,  True,  True,  True,  True,  True,  True,\n        True,  True,  True,  True,  True,  True,  True,  True,  True,\n        True,  True,  True,  True,  True,  True,  True,  True,  True,\n        True,  True,  True,  True,  True,  True,  True,  True,  True,\n        True,  True,  True,  True,  True,  True,  True,  True,  True,\n        True,  True,  True,  True,  True,  True,  True,  True,  True,\n        True,  True,  True,  True,  True,  True,  True,  True,  True,\n        True,  True,  True,  True,  True,  True,  True,  True,  True,\n        True,  True,  True,  True,  True,  True,  True,  True,  True,\n        True,  True,  True,  True,  True,  True,  True,  True,  True,\n        True,  True,  True,  True,  True,  True,  True,  True,  True,\n        True,  True,  True,  True,  True,  True,  True,  True,  True,\n        True,  True,  True,  True,  True,  True,  True,  True,  True,\n        True,  True,  True,  True,  True,  True,  True,  True,  True,\n        True,  True,  True,  True,  True,  True,  True,  True,  True,\n        True,  True,  True,  True,  True,  True,  True,  True,  True,\n        True,  True,  True,  True,  True,  True,  True,  True,  True,\n        True,  True,  True,  True,  True,  True,  True,  True,  True,\n        True,  True,  True])"
     },
     "execution_count": 59,
     "metadata": {},
     "output_type": "execute_result"
    }
   ],
   "source": [
    "pred_KNN_rs == KNN_rs.best_estimator_.predict(x_val_s)"
   ]
  },
  {
   "cell_type": "code",
   "execution_count": null,
   "metadata": {
    "id": "UHJo9gqE78qw"
   },
   "outputs": [],
   "source": []
  },
  {
   "cell_type": "code",
   "execution_count": null,
   "metadata": {
    "id": "xhrmHYQH78nx"
   },
   "outputs": [],
   "source": []
  },
  {
   "cell_type": "code",
   "execution_count": null,
   "metadata": {
    "id": "1S8fBuC-78ky"
   },
   "outputs": [],
   "source": []
  },
  {
   "cell_type": "code",
   "execution_count": null,
   "metadata": {
    "id": "ThX-WFwDrq20"
   },
   "outputs": [],
   "source": []
  }
 ],
 "metadata": {
  "colab": {
   "authorship_tag": "ABX9TyPUs9gDO9O6iSddn5XcOahJ",
   "collapsed_sections": [],
   "name": "09과 Classification 종합실습.ipynb",
   "provenance": [],
   "toc_visible": true
  },
  "kernelspec": {
   "name": "python3",
   "language": "python",
   "display_name": "Python 3 (ipykernel)"
  },
  "language_info": {
   "name": "python"
  }
 },
 "nbformat": 4,
 "nbformat_minor": 0
}