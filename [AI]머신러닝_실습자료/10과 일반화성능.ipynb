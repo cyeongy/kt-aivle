{
 "nbformat": 4,
 "nbformat_minor": 0,
 "metadata": {
  "colab": {
   "name": "10과 일반화성능.ipynb",
   "provenance": [],
   "collapsed_sections": [],
   "toc_visible": true
  },
  "kernelspec": {
   "display_name": "Python 3",
   "language": "python",
   "name": "python3"
  },
  "language_info": {
   "codemirror_mode": {
    "name": "ipython",
    "version": 3
   },
   "file_extension": ".py",
   "mimetype": "text/x-python",
   "name": "python",
   "nbconvert_exporter": "python",
   "pygments_lexer": "ipython3",
   "version": "3.6.5"
  }
 },
 "cells": [
  {
   "cell_type": "markdown",
   "metadata": {
    "id": "cVB9pY-v8uv5"
   },
   "source": [
    "# 일반화 성능"
   ]
  },
  {
   "cell_type": "markdown",
   "metadata": {
    "id": "O1uL0UIEzBPw"
   },
   "source": [
    "## 1.환경준비"
   ]
  },
  {
   "cell_type": "markdown",
   "source": [
    "### (1) import"
   ],
   "metadata": {
    "id": "vNt997De17qz"
   }
  },
  {
   "cell_type": "code",
   "metadata": {
    "id": "GugpCLBiVHzd"
   },
   "source": [
    "#라이브러리들을 불러오자.\n",
    "import numpy as np\n",
    "import pandas as pd\n",
    "import matplotlib.pyplot as plt\n",
    "import seaborn as sns\n",
    "\n",
    "# 전처리\n",
    "from sklearn.model_selection import train_test_split\n",
    "from sklearn.preprocessing import MinMaxScaler\n",
    "\n",
    "# 모델링\n",
    "from sklearn.linear_model import LogisticRegression\n",
    "from sklearn.tree import DecisionTreeClassifier, plot_tree\n",
    "from sklearn.neighbors import KNeighborsClassifier\n",
    "from sklearn.svm import SVC\n",
    "from sklearn.metrics import * \n",
    "from sklearn.model_selection import RandomizedSearchCV, GridSearchCV\n",
    "\n",
    "import warnings    # 경고메시지 제외\n",
    "warnings.filterwarnings(action='ignore')"
   ],
   "execution_count": 1,
   "outputs": [
    {
     "name": "stderr",
     "output_type": "stream",
     "text": [
      "/Users/cyeongy/opt/anaconda3/envs/kt-aivle/lib/python3.8/site-packages/scipy/__init__.py:146: UserWarning: A NumPy version >=1.16.5 and <1.23.0 is required for this version of SciPy (detected version 1.23.1\n",
      "  warnings.warn(f\"A NumPy version >={np_minversion} and <{np_maxversion}\"\n"
     ]
    }
   ]
  },
  {
   "cell_type": "markdown",
   "metadata": {
    "id": "CG-FeAY4f25C"
   },
   "source": [
    "### (2) 데이터 준비"
   ]
  },
  {
   "cell_type": "markdown",
   "source": [
    "* 변수설명\n",
    "    * COLLEGE : 대학 졸업여부\n",
    "    * INCOME : 연수입\n",
    "    * OVERAGE : 월평균 초과사용 시간(분)\n",
    "    * LEFTOVER : 월평균 잔여시간비율(%)\n",
    "    * HOUSE : 집값\n",
    "    * HANDSET_PRICE : 스마트폰 가격\n",
    "    * OVER_15MINS_CALLS_PER_MONTH : 월평균 장기통화(15분이상) 횟수\n",
    "    * AVERAGE_CALL_DURATION : 평균 통화 시간\n",
    "    * REPORTED_SATISFACTION : 만족도 설문조사 결과\n",
    "    * REPORTED_USAGE_LEVEL : 사용도 자가진단 결과\n",
    "    * CONSIDERING_CHANGE_OF_PLAN : 향후 변경계획 설문조사 결과\n",
    "    * CHURN : 이탈(번호이동) 여부 (1-이탈, 0-잔류, Target 변수)\n"
   ],
   "metadata": {
    "id": "LGBEnPENs4Fs"
   }
  },
  {
   "cell_type": "code",
   "metadata": {
    "id": "8omLhiDis4Fs"
   },
   "source": [
    "# 데이터를 불러옵시다.\n",
    "path = 'https://raw.githubusercontent.com/DA4BAM/dataset/master/mobile_cust_churn.csv'\n",
    "data = pd.read_csv(path)\n",
    "data = data.sample(1000, random_state = 2022)\n",
    "data['CHURN'] = data['CHURN'].map({'LEAVE':1, 'STAY':0})\n",
    "data.head()"
   ],
   "execution_count": 2,
   "outputs": [
    {
     "data": {
      "text/plain": "          id  COLLEGE  INCOME  OVERAGE  LEFTOVER   HOUSE  HANDSET_PRICE  \\\n3178    3179        0  119512       51        31  248566            229   \n14926  14927        1  142144      192        15  774317            581   \n15116  15117        1  142308        0        79  306426            497   \n12733  12734        1  113385        0         0  333599            819   \n14032  14033        1   90348      209        10  637286            360   \n\n       OVER_15MINS_CALLS_PER_MONTH  AVERAGE_CALL_DURATION  \\\n3178                             5                      2   \n14926                           29                      4   \n15116                            1                      1   \n12733                            1                      6   \n14032                           26                      4   \n\n      REPORTED_SATISFACTION REPORTED_USAGE_LEVEL CONSIDERING_CHANGE_OF_PLAN  \\\n3178               very_sat            very_high                considering   \n14926                 unsat          very_little              never_thought   \n15116                   sat               little                considering   \n12733            very_unsat            very_high                considering   \n14032                 unsat               little   actively_looking_into_it   \n\n       CHURN  \n3178       1  \n14926      1  \n15116      0  \n12733      1  \n14032      0  ",
      "text/html": "<div>\n<style scoped>\n    .dataframe tbody tr th:only-of-type {\n        vertical-align: middle;\n    }\n\n    .dataframe tbody tr th {\n        vertical-align: top;\n    }\n\n    .dataframe thead th {\n        text-align: right;\n    }\n</style>\n<table border=\"1\" class=\"dataframe\">\n  <thead>\n    <tr style=\"text-align: right;\">\n      <th></th>\n      <th>id</th>\n      <th>COLLEGE</th>\n      <th>INCOME</th>\n      <th>OVERAGE</th>\n      <th>LEFTOVER</th>\n      <th>HOUSE</th>\n      <th>HANDSET_PRICE</th>\n      <th>OVER_15MINS_CALLS_PER_MONTH</th>\n      <th>AVERAGE_CALL_DURATION</th>\n      <th>REPORTED_SATISFACTION</th>\n      <th>REPORTED_USAGE_LEVEL</th>\n      <th>CONSIDERING_CHANGE_OF_PLAN</th>\n      <th>CHURN</th>\n    </tr>\n  </thead>\n  <tbody>\n    <tr>\n      <th>3178</th>\n      <td>3179</td>\n      <td>0</td>\n      <td>119512</td>\n      <td>51</td>\n      <td>31</td>\n      <td>248566</td>\n      <td>229</td>\n      <td>5</td>\n      <td>2</td>\n      <td>very_sat</td>\n      <td>very_high</td>\n      <td>considering</td>\n      <td>1</td>\n    </tr>\n    <tr>\n      <th>14926</th>\n      <td>14927</td>\n      <td>1</td>\n      <td>142144</td>\n      <td>192</td>\n      <td>15</td>\n      <td>774317</td>\n      <td>581</td>\n      <td>29</td>\n      <td>4</td>\n      <td>unsat</td>\n      <td>very_little</td>\n      <td>never_thought</td>\n      <td>1</td>\n    </tr>\n    <tr>\n      <th>15116</th>\n      <td>15117</td>\n      <td>1</td>\n      <td>142308</td>\n      <td>0</td>\n      <td>79</td>\n      <td>306426</td>\n      <td>497</td>\n      <td>1</td>\n      <td>1</td>\n      <td>sat</td>\n      <td>little</td>\n      <td>considering</td>\n      <td>0</td>\n    </tr>\n    <tr>\n      <th>12733</th>\n      <td>12734</td>\n      <td>1</td>\n      <td>113385</td>\n      <td>0</td>\n      <td>0</td>\n      <td>333599</td>\n      <td>819</td>\n      <td>1</td>\n      <td>6</td>\n      <td>very_unsat</td>\n      <td>very_high</td>\n      <td>considering</td>\n      <td>1</td>\n    </tr>\n    <tr>\n      <th>14032</th>\n      <td>14033</td>\n      <td>1</td>\n      <td>90348</td>\n      <td>209</td>\n      <td>10</td>\n      <td>637286</td>\n      <td>360</td>\n      <td>26</td>\n      <td>4</td>\n      <td>unsat</td>\n      <td>little</td>\n      <td>actively_looking_into_it</td>\n      <td>0</td>\n    </tr>\n  </tbody>\n</table>\n</div>"
     },
     "execution_count": 2,
     "metadata": {},
     "output_type": "execute_result"
    }
   ]
  },
  {
   "cell_type": "markdown",
   "metadata": {
    "id": "wW0d0eGmCYJM"
   },
   "source": [
    "## 2.데이터 준비"
   ]
  },
  {
   "cell_type": "markdown",
   "metadata": {
    "id": "y9Q6jR6OZjUk"
   },
   "source": [
    "### (1) 데이터 정리"
   ]
  },
  {
   "cell_type": "code",
   "source": [
    "drop_cols = ['id']\n",
    "data.drop(drop_cols, axis = 1, inplace = True )"
   ],
   "metadata": {
    "id": "Dhi6-3jgrEgQ"
   },
   "execution_count": 3,
   "outputs": []
  },
  {
   "cell_type": "markdown",
   "metadata": {
    "id": "WpJEGpUuuVWm"
   },
   "source": [
    "### (2) 데이터분할1 : x, y 나누기"
   ]
  },
  {
   "cell_type": "code",
   "metadata": {
    "id": "3u8-Ovu4ADVn"
   },
   "source": [
    "target = 'CHURN'\n",
    "x = data.drop(target, axis = 1)\n",
    "y = data.loc[:, target]"
   ],
   "execution_count": 4,
   "outputs": []
  },
  {
   "cell_type": "markdown",
   "metadata": {
    "id": "mp_5volyuaA1"
   },
   "source": [
    "### (3) NA 조치"
   ]
  },
  {
   "cell_type": "markdown",
   "metadata": {
    "id": "nOF9fSLQugGf"
   },
   "source": [
    "### (4) 가변수화"
   ]
  },
  {
   "cell_type": "code",
   "source": [
    "dumm_cols = ['REPORTED_SATISFACTION','REPORTED_USAGE_LEVEL','CONSIDERING_CHANGE_OF_PLAN']\n",
    "x = pd.get_dummies(x, columns = dumm_cols, drop_first = True)"
   ],
   "metadata": {
    "id": "CZgBC2QSoKc8"
   },
   "execution_count": 5,
   "outputs": []
  },
  {
   "cell_type": "markdown",
   "metadata": {
    "id": "KkU_Yo1q4SDm"
   },
   "source": [
    "## 3.Random Sampling\n",
    "\n",
    "* 데이터를 랜덤에서 분할하여 모델링 & 예측을 여러번 반복적으로 수행합니다.\n"
   ]
  },
  {
   "cell_type": "markdown",
   "metadata": {
    "id": "j21PsRN_VtIp"
   },
   "source": [
    "### (1) 아래 셀을 반복 실행해 봅시다.\n"
   ]
  },
  {
   "cell_type": "code",
   "metadata": {
    "id": "joxeAbTW55OM"
   },
   "source": [
    "# 데이터 분할\n",
    "x_train, x_val, y_train, y_val = train_test_split(x, y, test_size=.2)\n",
    "\n",
    "# DecisionTree 모델링\n",
    "model = DecisionTreeClassifier(max_depth = 3)\n",
    "model.fit(x_train, y_train)\n",
    "pred = model.predict(x_val)\n",
    "accuracy_score(y_val, pred)"
   ],
   "execution_count": 24,
   "outputs": [
    {
     "data": {
      "text/plain": "0.7"
     },
     "execution_count": 24,
     "metadata": {},
     "output_type": "execute_result"
    }
   ]
  },
  {
   "cell_type": "markdown",
   "metadata": {
    "id": "ntIV7Zb65Bo9"
   },
   "source": [
    "정분류율은 몇 인가요?  \n",
    "값이 달라지나요? 값이 달라지는 원인은 무엇인가요?   \n",
    "값이 달라진다면 모델의 성능을 어떻게 믿을 수 있을까요?  "
   ]
  },
  {
   "cell_type": "code",
   "metadata": {
    "id": "i27qYefNVtIt"
   },
   "source": [],
   "execution_count": 6,
   "outputs": []
  },
  {
   "cell_type": "markdown",
   "metadata": {
    "id": "g5oXx34xVtIw"
   },
   "source": [
    "### (2) 여러번 반복해서 평균을 계산해 봅시다."
   ]
  },
  {
   "cell_type": "code",
   "metadata": {
    "id": "aNh52PbFVtIw"
   },
   "source": [
    "# 100번 반복 실행하여 결과를 담아 냅시다.\n",
    "\n",
    "result = []\n",
    "for i in range(100):\n",
    "    x_train, x_val, y_train, y_val = train_test_split(x, y, test_size=.2)\n",
    "\n",
    "    model = DecisionTreeClassifier(max_depth = 3)\n",
    "    model.fit(x_train, y_train)\n",
    "    pred = model.predict(x_val)\n",
    "    result.append(accuracy_score(y_val, pred))"
   ],
   "execution_count": 7,
   "outputs": []
  },
  {
   "cell_type": "markdown",
   "metadata": {
    "id": "O3uR6_DaVtIy"
   },
   "source": [
    "평균과 표준편차를 구해 봅시다."
   ]
  },
  {
   "cell_type": "code",
   "metadata": {
    "id": "V8VeYQ3AVtIy"
   },
   "source": [
    "np.mean(result), np.std(result)"
   ],
   "execution_count": 25,
   "outputs": [
    {
     "data": {
      "text/plain": "(0.6816499999999999, 0.03171005361080298)"
     },
     "execution_count": 25,
     "metadata": {},
     "output_type": "execute_result"
    }
   ]
  },
  {
   "cell_type": "code",
   "source": [],
   "metadata": {
    "id": "EY51IWjf3FAA"
   },
   "execution_count": null,
   "outputs": []
  },
  {
   "cell_type": "markdown",
   "metadata": {
    "id": "lkHBHw03VtI0"
   },
   "source": [
    "값의 분포를 살짝 살펴보면"
   ]
  },
  {
   "cell_type": "code",
   "metadata": {
    "id": "cz6-yOEhVtI1"
   },
   "source": [
    "print('mean:', np.mean(result), ',  std:', np.std(result))\n",
    "sns.kdeplot(result)\n",
    "plt.axvline(np.mean(result), color = 'r')\n",
    "plt.grid()\n",
    "plt.show()"
   ],
   "execution_count": 26,
   "outputs": [
    {
     "name": "stdout",
     "output_type": "stream",
     "text": [
      "mean: 0.6816499999999999 ,  std: 0.03171005361080298\n"
     ]
    },
    {
     "data": {
      "text/plain": "<Figure size 432x288 with 1 Axes>",
      "image/png": "[encoded data removed]"
     },
     "metadata": {
      "needs_background": "light"
     },
     "output_type": "display_data"
    }
   ]
  },
  {
   "cell_type": "markdown",
   "metadata": {
    "id": "UBPTMq5HrdkA"
   },
   "source": [
    "### (3) 실습 : knn 알고리즘으로 실습해 봅시다.\n",
    "\n",
    "k를 지정하지 말고(default)로 100회 수행한 후 결과를 담고 평균으로 일반화 성능을 얻어 봅시다."
   ]
  },
  {
   "cell_type": "code",
   "metadata": {
    "id": "Lr3rMhq-rh_V"
   },
   "source": [],
   "execution_count": null,
   "outputs": []
  },
  {
   "cell_type": "code",
   "metadata": {
    "id": "sPUp6dQ4r7bb"
   },
   "source": [
    "# 100번 반복 실행하여 결과를 담아 냅시다.\n"
   ],
   "execution_count": null,
   "outputs": []
  },
  {
   "cell_type": "code",
   "metadata": {
    "id": "vR5GrTaEr7Up"
   },
   "source": [],
   "execution_count": null,
   "outputs": []
  },
  {
   "cell_type": "code",
   "source": [],
   "metadata": {
    "id": "cmeaLV6i4qMF"
   },
   "execution_count": null,
   "outputs": []
  },
  {
   "cell_type": "markdown",
   "metadata": {
    "id": "O4AFcGL6rzQt"
   },
   "source": [
    "## 4.k-fold Cross Validation\n",
    "\n",
    "계획적으로 분할, 학습, 검증하는 방식을 사용해 봅시다!\n"
   ]
  },
  {
   "cell_type": "markdown",
   "source": [
    "### (1) cross_val_score 함수 불러오기"
   ],
   "metadata": {
    "id": "DyND6wN2vJag"
   }
  },
  {
   "cell_type": "markdown",
   "metadata": {
    "id": "MuJJNyk9VtJx"
   },
   "source": [
    "* cross validation 함수를 이용하여 모델을 검증합니다."
   ]
  },
  {
   "cell_type": "code",
   "metadata": {
    "id": "ayrREkKg6zUv"
   },
   "source": [
    "# 필요한 패키지, 함수 로딩\n",
    "from sklearn.model_selection import cross_val_score"
   ],
   "execution_count": 27,
   "outputs": []
  },
  {
   "cell_type": "markdown",
   "source": [
    "### (2) 모델링 및 검증"
   ],
   "metadata": {
    "id": "l8kRhQQLvNlU"
   }
  },
  {
   "cell_type": "code",
   "source": [
    "# 모델 선언 \n",
    "model = DecisionTreeClassifier(max_depth = 3)"
   ],
   "metadata": {
    "id": "4LGqoZ2hannB"
   },
   "execution_count": 28,
   "outputs": []
  },
  {
   "cell_type": "markdown",
   "source": [
    "* cross_val_score(모델, x, y, cv)\n",
    "    * 여기에서 x, y는 train + val "
   ],
   "metadata": {
    "id": "5k41UpHtapNN"
   }
  },
  {
   "cell_type": "code",
   "source": [
    "# train + validation set을 이용하여 학습, 예측, 평가를 한번에. (여기서는 .fit 이 아님!)\n",
    "dt_result = cross_val_score(model, x, y, cv=10)\n",
    "print(dt_result)\n",
    "print(dt_result.mean(), dt_result.std())"
   ],
   "metadata": {
    "id": "ErMB4izCamRY"
   },
   "execution_count": 29,
   "outputs": [
    {
     "name": "stdout",
     "output_type": "stream",
     "text": [
      "[0.66 0.73 0.64 0.68 0.66 0.72 0.63 0.69 0.61 0.73]\n",
      "0.675 0.040311288741492736\n"
     ]
    }
   ]
  },
  {
   "cell_type": "markdown",
   "metadata": {
    "id": "8z8pzgX9gcmN"
   },
   "source": [
    "### (3) 실습 : knn알고리즘을 이용하여 k-fold cv 수행\n",
    "knn알고리즘으로 10-fold cv를 수행해 봅시다."
   ]
  },
  {
   "cell_type": "code",
   "source": [
    "scaler = MinMaxScaler()\n",
    "\n",
    "x_s = scaler.fit_transform(x)"
   ],
   "metadata": {
    "id": "PvB69igk8PYY"
   },
   "execution_count": 30,
   "outputs": []
  },
  {
   "cell_type": "code",
   "source": [
    "knn_result = cross_val_score(estimator=KNeighborsClassifier(), X=x, y=y, cv=10)\n",
    "\n",
    "print(knn_result)\n",
    "print(knn_result.mean(), knn_result.std())"
   ],
   "metadata": {
    "id": "_PXgWTfj8PWH"
   },
   "execution_count": 32,
   "outputs": [
    {
     "name": "stdout",
     "output_type": "stream",
     "text": [
      "[0.57 0.61 0.58 0.64 0.55 0.58 0.62 0.64 0.63 0.56]\n",
      "0.5979999999999999 0.03218695387886216\n"
     ]
    }
   ]
  },
  {
   "cell_type": "code",
   "source": [
    ""
   ],
   "metadata": {
    "id": "zmaM9Y688PTE"
   },
   "execution_count": null,
   "outputs": []
  },
  {
   "cell_type": "code",
   "source": [
    ""
   ],
   "metadata": {
    "id": "9hrXQRuD8PQI"
   },
   "execution_count": null,
   "outputs": []
  },
  {
   "cell_type": "markdown",
   "source": [
    "## 5.데이터 늘리기(Learning Curve)"
   ],
   "metadata": {
    "id": "z6X3VnLfvpJZ"
   }
  },
  {
   "cell_type": "markdown",
   "source": [
    "### (1) 데이터 준비\n",
    "데이터의 양을 조금 늘려 놓고 수행하겠습니다."
   ],
   "metadata": {
    "id": "yT2s9drSyTp8"
   }
  },
  {
   "cell_type": "code",
   "metadata": {
    "id": "Ei3dJ8CryYuF"
   },
   "source": [
    "# 데이터를 불러옵시다.\n",
    "path = 'https://raw.githubusercontent.com/DA4BAM/dataset/master/mobile_cust_churn.csv'\n",
    "data = pd.read_csv(path)\n",
    "data = data.sample(4000, random_state = 2022)\n",
    "data['CHURN'] = data['CHURN'].map({'LEAVE':1, 'STAY':0})"
   ],
   "execution_count": 33,
   "outputs": []
  },
  {
   "cell_type": "code",
   "source": [
    "drop_cols = ['id']\n",
    "data.drop(drop_cols, axis = 1, inplace = True )\n",
    "\n",
    "target = 'CHURN'\n",
    "x = data.drop(target, axis = 1)\n",
    "y = data.loc[:, target]\n",
    "\n",
    "dumm_cols = ['REPORTED_SATISFACTION','REPORTED_USAGE_LEVEL','CONSIDERING_CHANGE_OF_PLAN']\n",
    "x = pd.get_dummies(x, columns = dumm_cols, drop_first = True)"
   ],
   "metadata": {
    "id": "SeVHtwYiyYuG"
   },
   "execution_count": 34,
   "outputs": []
  },
  {
   "cell_type": "markdown",
   "source": [
    "### (2) learning_curve 함수 불러오기"
   ],
   "metadata": {
    "id": "woZvFE38xjJi"
   }
  },
  {
   "cell_type": "code",
   "metadata": {
    "id": "wVV0c1HWpP9k"
   },
   "source": [
    "from sklearn.model_selection import learning_curve"
   ],
   "execution_count": 35,
   "outputs": []
  },
  {
   "cell_type": "markdown",
   "source": [
    "### (3) 데이터 양에 따른 성능 측정"
   ],
   "metadata": {
    "id": "mCcPem-Zx5vH"
   }
  },
  {
   "cell_type": "code",
   "metadata": {
    "id": "sS18c0eOuh1I"
   },
   "source": [
    "model = DecisionTreeClassifier(max_depth = 3)"
   ],
   "execution_count": 36,
   "outputs": []
  },
  {
   "cell_type": "code",
   "metadata": {
    "id": "r9tzzWf_pyRF"
   },
   "source": [
    "x.shape[0]"
   ],
   "execution_count": 37,
   "outputs": [
    {
     "data": {
      "text/plain": "4000"
     },
     "execution_count": 37,
     "metadata": {},
     "output_type": "execute_result"
    }
   ]
  },
  {
   "cell_type": "markdown",
   "metadata": {
    "id": "XrpZPM4qQ1dj"
   },
   "source": [
    "**learning_curve 함수**\n",
    "* Input\n",
    "    * 모델, x, y\n",
    "    * train_sizes = 순차적으로 학습시킬 데이터 사이즈 리스트(최대 크기 =  전체크기 - (전체크기/cv) )\n",
    "    * cv = cross validation 설정\n",
    "* Output\n",
    "    * tr_size : Input에서 지정한 값리스트(train_sizes)\n",
    "    * tr_scores : 학습용 데이터에서의 성능\n",
    "    * val_scores : validation 성능"
   ]
  },
  {
   "cell_type": "code",
   "metadata": {
    "id": "DA19DnxgpP6v"
   },
   "source": [
    "# 데이터 양이 많을 수록 시간이 오래 걸립니다.\n",
    "tr_size, tr_scores, val_scores = learning_curve(model, x, y\n",
    "                                                , train_sizes = range(5, 3200, 10)\n",
    "                                                , cv = 10)"
   ],
   "execution_count": 38,
   "outputs": []
  },
  {
   "cell_type": "code",
   "metadata": {
    "id": "cF7eALao8lrz"
   },
   "source": [
    "val_scores[:5]"
   ],
   "execution_count": 39,
   "outputs": [
    {
     "data": {
      "text/plain": "array([[0.4875, 0.5175, 0.495 , 0.4575, 0.5125, 0.4775, 0.4825, 0.49  ,\n        0.5225, 0.4975],\n       [0.5975, 0.4775, 0.505 , 0.47  , 0.475 , 0.4   , 0.46  , 0.485 ,\n        0.4425, 0.4725],\n       [0.5175, 0.5825, 0.54  , 0.5075, 0.575 , 0.545 , 0.5475, 0.5875,\n        0.58  , 0.545 ],\n       [0.5575, 0.565 , 0.58  , 0.5075, 0.525 , 0.5825, 0.56  , 0.57  ,\n        0.585 , 0.5975],\n       [0.6075, 0.6175, 0.5425, 0.5275, 0.5325, 0.5925, 0.605 , 0.555 ,\n        0.605 , 0.56  ]])"
     },
     "execution_count": 39,
     "metadata": {},
     "output_type": "execute_result"
    }
   ]
  },
  {
   "cell_type": "code",
   "metadata": {
    "id": "PBAuV7c1rXMH"
   },
   "source": [
    "# cv한 결과를 평균으로 집계 합시다.\n",
    "val_scores_mean = val_scores.mean(axis = 1)\n",
    "val_scores_std = val_scores.std(axis = 1)"
   ],
   "execution_count": 40,
   "outputs": []
  },
  {
   "cell_type": "markdown",
   "source": [
    "### (4) 성능 평가 : Bias가 줄어드는가?"
   ],
   "metadata": {
    "id": "pjanI2k-zBZd"
   }
  },
  {
   "cell_type": "code",
   "metadata": {
    "id": "9XLFW2mtqPd_"
   },
   "source": [
    "# 이제 그림을 그려봅시다.\n",
    "# Bias가 줄어드는가? (성능이 향상되는가?)\n",
    "plt.figure(figsize = (10,6))\n",
    "plt.plot(tr_size, val_scores_mean)\n",
    "\n",
    "plt.ylabel('val_accuracy')\n",
    "plt.xlabel('train_size')\n",
    "plt.grid()\n",
    "plt.show()"
   ],
   "execution_count": 41,
   "outputs": [
    {
     "data": {
      "text/plain": "<Figure size 720x432 with 1 Axes>",
      "image/png": "[encoded data removed]"
     },
     "metadata": {
      "needs_background": "light"
     },
     "output_type": "display_data"
    }
   ]
  },
  {
   "cell_type": "markdown",
   "source": [
    "### (5) 성능 평가 : Variance가 줄어드는가?"
   ],
   "metadata": {
    "id": "CI83CReCzPP6"
   }
  },
  {
   "cell_type": "code",
   "metadata": {
    "id": "7wrk-iEjTIH8"
   },
   "source": [
    "# Variance가 줄어드는가?(성능의 편차가 줄어드는가?)\n",
    "plt.figure(figsize = (10,6))\n",
    "plt.plot(tr_size, val_scores_std)\n",
    "\n",
    "plt.ylabel('Variance(val_accuracy)')\n",
    "plt.xlabel('train_size')\n",
    "plt.grid()\n",
    "plt.show()"
   ],
   "execution_count": 42,
   "outputs": [
    {
     "data": {
      "text/plain": "<Figure size 720x432 with 1 Axes>",
      "image/png": "[encoded data removed]"
     },
     "metadata": {
      "needs_background": "light"
     },
     "output_type": "display_data"
    }
   ]
  },
  {
   "cell_type": "code",
   "metadata": {
    "id": "LOjUGLsPqP8f"
   },
   "source": [
    "# 어느 정도 데이터이면 학습하는데 충분할까요?\n"
   ],
   "execution_count": null,
   "outputs": []
  }
 ]
}