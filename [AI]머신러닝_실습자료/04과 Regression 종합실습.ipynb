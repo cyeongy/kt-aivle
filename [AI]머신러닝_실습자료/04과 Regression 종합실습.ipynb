{
 "nbformat": 4,
 "nbformat_minor": 0,
 "metadata": {
  "colab": {
   "name": "04과 Regression 종합실습.ipynb",
   "provenance": [],
   "collapsed_sections": []
  },
  "kernelspec": {
   "name": "python3",
   "display_name": "Python 3"
  }
 },
 "cells": [
  {
   "cell_type": "markdown",
   "metadata": {
    "id": "cVB9pY-v8uv5",
    "pycharm": {
     "name": "#%% md\n"
    }
   },
   "source": [
    "# Regression 종합실습 : Car seat sales\n",
    "유아용 카시트 매출액을 예측해 봅시다."
   ]
  },
  {
   "cell_type": "markdown",
   "metadata": {
    "id": "QB2bBgnB8NM7",
    "pycharm": {
     "name": "#%% md\n"
    }
   },
   "source": [
    "* 카시트에 대해서 지역 매장 별 매출액을 예측하고자 합니다."
   ]
  },
  {
   "cell_type": "markdown",
   "source": [
    "![](https://cdn.images.express.co.uk/img/dynamic/24/590x/child-car-seat-986556.jpg?r=1532946857754)"
   ],
   "metadata": {
    "id": "7usNzsAVsGbi",
    "pycharm": {
     "name": "#%% md\n"
    }
   }
  },
  {
   "cell_type": "markdown",
   "metadata": {
    "id": "jnCv9u_Wy9e1",
    "pycharm": {
     "name": "#%% md\n"
    }
   },
   "source": [
    "## 1.환경준비"
   ]
  },
  {
   "cell_type": "markdown",
   "metadata": {
    "id": "O1uL0UIEzBPw",
    "pycharm": {
     "name": "#%% md\n"
    }
   },
   "source": [
    "### (1) Import"
   ]
  },
  {
   "cell_type": "code",
   "metadata": {
    "id": "GVvCef6A8uv6",
    "pycharm": {
     "name": "#%%\n"
    }
   },
   "source": [
    "#라이브러리들을 불러오자.\n",
    "import numpy as np\n",
    "import pandas as pd\n",
    "import matplotlib.pyplot as plt\n",
    "\n",
    "from sklearn.model_selection import train_test_split\n",
    "\n",
    "import warnings  # 경고메시지 제외\n",
    "\n",
    "warnings.filterwarnings(action='ignore')"
   ],
   "execution_count": 1,
   "outputs": []
  },
  {
   "cell_type": "markdown",
   "metadata": {
    "id": "VHy5s1OOzItm",
    "pycharm": {
     "name": "#%% md\n"
    }
   },
   "source": [
    "### (2) Data Loading"
   ]
  },
  {
   "cell_type": "code",
   "metadata": {
    "id": "3GgFpOB4zQ7h",
    "pycharm": {
     "name": "#%%\n"
    }
   },
   "source": [
    "data_path = 'https://raw.githubusercontent.com/DA4BAM/dataset/master/Carseats.csv'\n",
    "data = pd.read_csv(data_path)"
   ],
   "execution_count": 10,
   "outputs": []
  },
  {
   "cell_type": "markdown",
   "metadata": {
    "id": "xMx9y0a0MBZ2",
    "pycharm": {
     "name": "#%% md\n"
    }
   },
   "source": [
    "**변수설명**\n",
    "> * Sales - 각 지역 판매량(단위 : 1000개) <== Target\n",
    "* CompPrice - 각 지역 경쟁사 가격\n",
    "* Income - 각 지역 평균 소득수준(단위 : 1000달러)\n",
    "* Advertising - 각 지역, 회사의 광고 예산(단위 : 1000달러)\n",
    "* Population - 지역 인구수(단위 : 1000명)\n",
    "* Price - 자사 지역별 판매가격\n",
    "* ShelveLoc - 진열상태\n",
    "* Age - 지역 인구의 평균 연령\n",
    "* Education - 각 지역 교육수준 레벨\n",
    "* Urban - 매장 도시 지역 여부\n",
    "* US - 매장이 미국에 있는지 여부"
   ]
  },
  {
   "cell_type": "markdown",
   "metadata": {
    "id": "ZJOddHq2zfcU",
    "pycharm": {
     "name": "#%% md\n"
    }
   },
   "source": [
    "## 2.데이터 이해"
   ]
  },
  {
   "cell_type": "markdown",
   "metadata": {
    "id": "Vqr7zY5r8uwC",
    "pycharm": {
     "name": "#%% md\n"
    }
   },
   "source": [
    "* 둘러보기"
   ]
  },
  {
   "cell_type": "code",
   "metadata": {
    "id": "E64acu1xPqLU",
    "pycharm": {
     "name": "#%%\n"
    }
   },
   "source": [
    "data.head()"
   ],
   "execution_count": 11,
   "outputs": [
    {
     "data": {
      "text/plain": "   Sales  CompPrice  Income  Advertising  Population  Price ShelveLoc  Age  \\\n0   9.50        138      73           11         276    120       Bad   42   \n1  11.22        111      48           16         260     83      Good   65   \n2  10.06        113      35           10         269     80    Medium   59   \n3   7.40        117     100            4         466     97    Medium   55   \n4   4.15        141      64            3         340    128       Bad   38   \n\n   Education Urban   US  \n0         17   Yes  Yes  \n1         10   Yes  Yes  \n2         12   Yes  Yes  \n3         14   Yes  Yes  \n4         13   Yes   No  ",
      "text/html": "<div>\n<style scoped>\n    .dataframe tbody tr th:only-of-type {\n        vertical-align: middle;\n    }\n\n    .dataframe tbody tr th {\n        vertical-align: top;\n    }\n\n    .dataframe thead th {\n        text-align: right;\n    }\n</style>\n<table border=\"1\" class=\"dataframe\">\n  <thead>\n    <tr style=\"text-align: right;\">\n      <th></th>\n      <th>Sales</th>\n      <th>CompPrice</th>\n      <th>Income</th>\n      <th>Advertising</th>\n      <th>Population</th>\n      <th>Price</th>\n      <th>ShelveLoc</th>\n      <th>Age</th>\n      <th>Education</th>\n      <th>Urban</th>\n      <th>US</th>\n    </tr>\n  </thead>\n  <tbody>\n    <tr>\n      <th>0</th>\n      <td>9.50</td>\n      <td>138</td>\n      <td>73</td>\n      <td>11</td>\n      <td>276</td>\n      <td>120</td>\n      <td>Bad</td>\n      <td>42</td>\n      <td>17</td>\n      <td>Yes</td>\n      <td>Yes</td>\n    </tr>\n    <tr>\n      <th>1</th>\n      <td>11.22</td>\n      <td>111</td>\n      <td>48</td>\n      <td>16</td>\n      <td>260</td>\n      <td>83</td>\n      <td>Good</td>\n      <td>65</td>\n      <td>10</td>\n      <td>Yes</td>\n      <td>Yes</td>\n    </tr>\n    <tr>\n      <th>2</th>\n      <td>10.06</td>\n      <td>113</td>\n      <td>35</td>\n      <td>10</td>\n      <td>269</td>\n      <td>80</td>\n      <td>Medium</td>\n      <td>59</td>\n      <td>12</td>\n      <td>Yes</td>\n      <td>Yes</td>\n    </tr>\n    <tr>\n      <th>3</th>\n      <td>7.40</td>\n      <td>117</td>\n      <td>100</td>\n      <td>4</td>\n      <td>466</td>\n      <td>97</td>\n      <td>Medium</td>\n      <td>55</td>\n      <td>14</td>\n      <td>Yes</td>\n      <td>Yes</td>\n    </tr>\n    <tr>\n      <th>4</th>\n      <td>4.15</td>\n      <td>141</td>\n      <td>64</td>\n      <td>3</td>\n      <td>340</td>\n      <td>128</td>\n      <td>Bad</td>\n      <td>38</td>\n      <td>13</td>\n      <td>Yes</td>\n      <td>No</td>\n    </tr>\n  </tbody>\n</table>\n</div>"
     },
     "execution_count": 11,
     "metadata": {},
     "output_type": "execute_result"
    }
   ]
  },
  {
   "cell_type": "code",
   "execution_count": 108,
   "outputs": [
    {
     "data": {
      "text/plain": "Empty DataFrame\nColumns: [model_desc, RMSE, MAE, MAPE]\nIndex: []",
      "text/html": "<div>\n<style scoped>\n    .dataframe tbody tr th:only-of-type {\n        vertical-align: middle;\n    }\n\n    .dataframe tbody tr th {\n        vertical-align: top;\n    }\n\n    .dataframe thead th {\n        text-align: right;\n    }\n</style>\n<table border=\"1\" class=\"dataframe\">\n  <thead>\n    <tr style=\"text-align: right;\">\n      <th></th>\n      <th>model_desc</th>\n      <th>RMSE</th>\n      <th>MAE</th>\n      <th>MAPE</th>\n    </tr>\n  </thead>\n  <tbody>\n  </tbody>\n</table>\n</div>"
     },
     "execution_count": 108,
     "metadata": {},
     "output_type": "execute_result"
    }
   ],
   "source": [
    "result = pd.DataFrame(columns=['model_desc', 'RMSE', 'MAE', 'MAPE'])\n",
    "result"
   ],
   "metadata": {
    "collapsed": false,
    "pycharm": {
     "name": "#%%\n"
    }
   }
  },
  {
   "cell_type": "markdown",
   "metadata": {
    "id": "wW0d0eGmCYJM",
    "pycharm": {
     "name": "#%% md\n"
    }
   },
   "source": [
    "## 3.데이터 준비"
   ]
  },
  {
   "cell_type": "markdown",
   "metadata": {
    "id": "y9Q6jR6OZjUk",
    "pycharm": {
     "name": "#%% md\n"
    }
   },
   "source": [
    "### (1) 데이터 정리"
   ]
  },
  {
   "cell_type": "code",
   "execution_count": 95,
   "outputs": [],
   "source": [
    "target = 'Sales'"
   ],
   "metadata": {
    "collapsed": false,
    "pycharm": {
     "name": "#%%\n"
    }
   }
  },
  {
   "cell_type": "markdown",
   "metadata": {
    "id": "WpJEGpUuuVWm",
    "pycharm": {
     "name": "#%% md\n"
    }
   },
   "source": [
    "### (2) 데이터분할1 : x, y 나누기"
   ]
  },
  {
   "cell_type": "code",
   "source": [
    "x = data.drop(target, axis=1)\n",
    "y = data.loc[:, target]"
   ],
   "metadata": {
    "id": "N-4Msv8VsQ3R",
    "pycharm": {
     "name": "#%%\n"
    }
   },
   "execution_count": 96,
   "outputs": []
  },
  {
   "cell_type": "markdown",
   "metadata": {
    "id": "mp_5volyuaA1",
    "pycharm": {
     "name": "#%% md\n"
    }
   },
   "source": [
    "### (3) NA 조치"
   ]
  },
  {
   "cell_type": "code",
   "execution_count": 97,
   "outputs": [
    {
     "data": {
      "text/plain": "CompPrice      0\nIncome         0\nAdvertising    0\nPopulation     0\nPrice          0\nShelveLoc      0\nAge            0\nEducation      0\nUrban          0\nUS             0\ndtype: int64"
     },
     "execution_count": 97,
     "metadata": {},
     "output_type": "execute_result"
    }
   ],
   "source": [
    "x.isna().sum()"
   ],
   "metadata": {
    "collapsed": false,
    "pycharm": {
     "name": "#%%\n"
    }
   }
  },
  {
   "cell_type": "markdown",
   "metadata": {
    "id": "nOF9fSLQugGf",
    "pycharm": {
     "name": "#%% md\n"
    }
   },
   "source": [
    "### (4) 가변수화"
   ]
  },
  {
   "cell_type": "code",
   "source": [
    "x.info()"
   ],
   "metadata": {
    "id": "CZgBC2QSoKc8",
    "pycharm": {
     "name": "#%%\n"
    }
   },
   "execution_count": 98,
   "outputs": [
    {
     "name": "stdout",
     "output_type": "stream",
     "text": [
      "<class 'pandas.core.frame.DataFrame'>\n",
      "RangeIndex: 400 entries, 0 to 399\n",
      "Data columns (total 10 columns):\n",
      " #   Column       Non-Null Count  Dtype \n",
      "---  ------       --------------  ----- \n",
      " 0   CompPrice    400 non-null    int64 \n",
      " 1   Income       400 non-null    int64 \n",
      " 2   Advertising  400 non-null    int64 \n",
      " 3   Population   400 non-null    int64 \n",
      " 4   Price        400 non-null    int64 \n",
      " 5   ShelveLoc    400 non-null    object\n",
      " 6   Age          400 non-null    int64 \n",
      " 7   Education    400 non-null    int64 \n",
      " 8   Urban        400 non-null    object\n",
      " 9   US           400 non-null    object\n",
      "dtypes: int64(7), object(3)\n",
      "memory usage: 31.4+ KB\n"
     ]
    }
   ]
  },
  {
   "cell_type": "code",
   "execution_count": 99,
   "outputs": [
    {
     "data": {
      "text/plain": "     CompPrice  Income  Advertising  Population  Price  Age  Education  \\\n0          138      73           11         276    120   42         17   \n1          111      48           16         260     83   65         10   \n2          113      35           10         269     80   59         12   \n3          117     100            4         466     97   55         14   \n4          141      64            3         340    128   38         13   \n..         ...     ...          ...         ...    ...  ...        ...   \n395        138     108           17         203    128   33         14   \n396        139      23            3          37    120   55         11   \n397        162      26           12         368    159   40         18   \n398        100      79            7         284     95   50         12   \n399        134      37            0          27    120   49         16   \n\n     ShelveLoc_Good  ShelveLoc_Medium  Urban_Yes  US_Yes  \n0                 0                 0          1       1  \n1                 1                 0          1       1  \n2                 0                 1          1       1  \n3                 0                 1          1       1  \n4                 0                 0          1       0  \n..              ...               ...        ...     ...  \n395               1                 0          1       1  \n396               0                 1          0       1  \n397               0                 1          1       1  \n398               0                 0          1       1  \n399               1                 0          1       1  \n\n[400 rows x 11 columns]",
      "text/html": "<div>\n<style scoped>\n    .dataframe tbody tr th:only-of-type {\n        vertical-align: middle;\n    }\n\n    .dataframe tbody tr th {\n        vertical-align: top;\n    }\n\n    .dataframe thead th {\n        text-align: right;\n    }\n</style>\n<table border=\"1\" class=\"dataframe\">\n  <thead>\n    <tr style=\"text-align: right;\">\n      <th></th>\n      <th>CompPrice</th>\n      <th>Income</th>\n      <th>Advertising</th>\n      <th>Population</th>\n      <th>Price</th>\n      <th>Age</th>\n      <th>Education</th>\n      <th>ShelveLoc_Good</th>\n      <th>ShelveLoc_Medium</th>\n      <th>Urban_Yes</th>\n      <th>US_Yes</th>\n    </tr>\n  </thead>\n  <tbody>\n    <tr>\n      <th>0</th>\n      <td>138</td>\n      <td>73</td>\n      <td>11</td>\n      <td>276</td>\n      <td>120</td>\n      <td>42</td>\n      <td>17</td>\n      <td>0</td>\n      <td>0</td>\n      <td>1</td>\n      <td>1</td>\n    </tr>\n    <tr>\n      <th>1</th>\n      <td>111</td>\n      <td>48</td>\n      <td>16</td>\n      <td>260</td>\n      <td>83</td>\n      <td>65</td>\n      <td>10</td>\n      <td>1</td>\n      <td>0</td>\n      <td>1</td>\n      <td>1</td>\n    </tr>\n    <tr>\n      <th>2</th>\n      <td>113</td>\n      <td>35</td>\n      <td>10</td>\n      <td>269</td>\n      <td>80</td>\n      <td>59</td>\n      <td>12</td>\n      <td>0</td>\n      <td>1</td>\n      <td>1</td>\n      <td>1</td>\n    </tr>\n    <tr>\n      <th>3</th>\n      <td>117</td>\n      <td>100</td>\n      <td>4</td>\n      <td>466</td>\n      <td>97</td>\n      <td>55</td>\n      <td>14</td>\n      <td>0</td>\n      <td>1</td>\n      <td>1</td>\n      <td>1</td>\n    </tr>\n    <tr>\n      <th>4</th>\n      <td>141</td>\n      <td>64</td>\n      <td>3</td>\n      <td>340</td>\n      <td>128</td>\n      <td>38</td>\n      <td>13</td>\n      <td>0</td>\n      <td>0</td>\n      <td>1</td>\n      <td>0</td>\n    </tr>\n    <tr>\n      <th>...</th>\n      <td>...</td>\n      <td>...</td>\n      <td>...</td>\n      <td>...</td>\n      <td>...</td>\n      <td>...</td>\n      <td>...</td>\n      <td>...</td>\n      <td>...</td>\n      <td>...</td>\n      <td>...</td>\n    </tr>\n    <tr>\n      <th>395</th>\n      <td>138</td>\n      <td>108</td>\n      <td>17</td>\n      <td>203</td>\n      <td>128</td>\n      <td>33</td>\n      <td>14</td>\n      <td>1</td>\n      <td>0</td>\n      <td>1</td>\n      <td>1</td>\n    </tr>\n    <tr>\n      <th>396</th>\n      <td>139</td>\n      <td>23</td>\n      <td>3</td>\n      <td>37</td>\n      <td>120</td>\n      <td>55</td>\n      <td>11</td>\n      <td>0</td>\n      <td>1</td>\n      <td>0</td>\n      <td>1</td>\n    </tr>\n    <tr>\n      <th>397</th>\n      <td>162</td>\n      <td>26</td>\n      <td>12</td>\n      <td>368</td>\n      <td>159</td>\n      <td>40</td>\n      <td>18</td>\n      <td>0</td>\n      <td>1</td>\n      <td>1</td>\n      <td>1</td>\n    </tr>\n    <tr>\n      <th>398</th>\n      <td>100</td>\n      <td>79</td>\n      <td>7</td>\n      <td>284</td>\n      <td>95</td>\n      <td>50</td>\n      <td>12</td>\n      <td>0</td>\n      <td>0</td>\n      <td>1</td>\n      <td>1</td>\n    </tr>\n    <tr>\n      <th>399</th>\n      <td>134</td>\n      <td>37</td>\n      <td>0</td>\n      <td>27</td>\n      <td>120</td>\n      <td>49</td>\n      <td>16</td>\n      <td>1</td>\n      <td>0</td>\n      <td>1</td>\n      <td>1</td>\n    </tr>\n  </tbody>\n</table>\n<p>400 rows × 11 columns</p>\n</div>"
     },
     "execution_count": 99,
     "metadata": {},
     "output_type": "execute_result"
    }
   ],
   "source": [
    "x = pd.get_dummies(x, columns=['ShelveLoc', 'Urban', 'US'], drop_first=True)\n",
    "x"
   ],
   "metadata": {
    "collapsed": false,
    "pycharm": {
     "name": "#%%\n"
    }
   }
  },
  {
   "cell_type": "markdown",
   "source": [
    "### (5) 데이터분할2 : train : validation 나누기"
   ],
   "metadata": {
    "id": "VBwpOKgkf5Am",
    "pycharm": {
     "name": "#%% md\n"
    }
   }
  },
  {
   "cell_type": "code",
   "source": [
    "x_train, x_val, y_train, y_val = train_test_split(x, y, test_size=.3, random_state=2022)"
   ],
   "metadata": {
    "id": "1iHmTnHCgBw5",
    "pycharm": {
     "name": "#%%\n"
    }
   },
   "execution_count": 100,
   "outputs": []
  },
  {
   "cell_type": "markdown",
   "metadata": {
    "id": "59bBv0a8heYh",
    "pycharm": {
     "name": "#%% md\n"
    }
   },
   "source": [
    "### (6) Scaling\n",
    "KNN 알고리즘을 적용하기 위해서는 스케일링을 해야 합니다."
   ]
  },
  {
   "cell_type": "code",
   "source": [
    "from sklearn.preprocessing import MinMaxScaler, StandardScaler\n",
    "\n",
    "x_train_mm = MinMaxScaler().fit_transform(x_train)\n",
    "x_val_mm = MinMaxScaler().fit_transform(x_val)\n",
    "\n",
    "x_train_std = StandardScaler().fit_transform(x_train)\n",
    "x_val_std = StandardScaler().fit_transform(x_val)"
   ],
   "metadata": {
    "id": "RuDcjwhwSo5y",
    "pycharm": {
     "name": "#%%\n"
    }
   },
   "execution_count": 101,
   "outputs": []
  },
  {
   "cell_type": "markdown",
   "metadata": {
    "id": "BYr1vtpd8uw4",
    "pycharm": {
     "name": "#%% md\n"
    }
   },
   "source": [
    "## 4.모델링 : 선형회귀\n",
    "\n",
    "* 변수를 조절하며 최소 2개 이상의 모델을 생성하고 예측하고 평가해 봅시다."
   ]
  },
  {
   "cell_type": "code",
   "source": [
    "from sklearn.linear_model import LinearRegression\n",
    "\n",
    "linear_model1 = LinearRegression()\n",
    "linear_model2 = LinearRegression()"
   ],
   "metadata": {
    "id": "xUOc59LAxzsg",
    "pycharm": {
     "name": "#%%\n"
    }
   },
   "execution_count": 102,
   "outputs": []
  },
  {
   "cell_type": "markdown",
   "source": [
    "* 모델1"
   ],
   "metadata": {
    "id": "3j0e0Ob5xEiE",
    "pycharm": {
     "name": "#%% md\n"
    }
   }
  },
  {
   "cell_type": "code",
   "source": [
    "linear_model1.fit(x_train.loc[:, ['Price', 'Age']], y_train)\n",
    "linear_model1.coef_, linear_model1.intercept_"
   ],
   "metadata": {
    "id": "MULDXKsLUEXB",
    "pycharm": {
     "name": "#%%\n"
    }
   },
   "execution_count": 103,
   "outputs": [
    {
     "data": {
      "text/plain": "(array([-0.0497863 , -0.04566617]), 15.792236203712687)"
     },
     "execution_count": 103,
     "metadata": {},
     "output_type": "execute_result"
    }
   ]
  },
  {
   "cell_type": "code",
   "source": [
    "pred = linear_model1.predict(x_val.loc[:, ['Price', 'Age']])"
   ],
   "metadata": {
    "id": "1EmPtOkQUEWE",
    "pycharm": {
     "name": "#%%\n"
    }
   },
   "execution_count": 104,
   "outputs": []
  },
  {
   "cell_type": "code",
   "execution_count": 105,
   "outputs": [],
   "source": [
    "from sklearn.metrics import r2_score, mean_squared_error, mean_absolute_error, mean_absolute_percentage_error"
   ],
   "metadata": {
    "collapsed": false,
    "pycharm": {
     "name": "#%%\n"
    }
   }
  },
  {
   "cell_type": "code",
   "execution_count": 147,
   "outputs": [
    {
     "name": "stdout",
     "output_type": "stream",
     "text": [
      "RMSE: 2.4263766319620563\n",
      "MAE: 1.9553406487514418\n",
      "MAPE: 0.6900786058635068\n",
      "정확도: 0.3099213941364932\n"
     ]
    }
   ],
   "source": [
    "print(f'RMSE: {mean_squared_error(y_val, pred, squared=False)}')\n",
    "print(f'MAE: {mean_absolute_error(y_val, pred)}')\n",
    "print(f'MAPE: {mean_absolute_percentage_error(y_val, pred)}')\n",
    "print(f'정확도: {1 - mean_absolute_percentage_error(y_val, pred)}')\n",
    "\n",
    "# pd.DataFrame(data=['linear_1', mean_squared_error(y_val, pred, squared=False), mean_absolute_error(y_val, pred), mean_absolute_percentage_error(y_val, pred)], columns=['model_desc', 'RMSE', 'MAE', 'MAPE'])\n",
    "result = pd.DataFrame(data={'model_desc': 'linear_1',\n",
    "                       'RMSE': mean_squared_error(y_val, pred, squared=False),\n",
    "                       'MAE': mean_absolute_error(y_val, pred),\n",
    "                       'MAPE': mean_absolute_percentage_error(y_val, pred),\n",
    "                       }, index=[0])"
   ],
   "metadata": {
    "collapsed": false,
    "pycharm": {
     "name": "#%%\n"
    }
   }
  },
  {
   "cell_type": "code",
   "execution_count": 148,
   "outputs": [
    {
     "data": {
      "text/plain": "  model_desc      RMSE       MAE      MAPE\n0   linear_1  2.426377  1.955341  0.690079",
      "text/html": "<div>\n<style scoped>\n    .dataframe tbody tr th:only-of-type {\n        vertical-align: middle;\n    }\n\n    .dataframe tbody tr th {\n        vertical-align: top;\n    }\n\n    .dataframe thead th {\n        text-align: right;\n    }\n</style>\n<table border=\"1\" class=\"dataframe\">\n  <thead>\n    <tr style=\"text-align: right;\">\n      <th></th>\n      <th>model_desc</th>\n      <th>RMSE</th>\n      <th>MAE</th>\n      <th>MAPE</th>\n    </tr>\n  </thead>\n  <tbody>\n    <tr>\n      <th>0</th>\n      <td>linear_1</td>\n      <td>2.426377</td>\n      <td>1.955341</td>\n      <td>0.690079</td>\n    </tr>\n  </tbody>\n</table>\n</div>"
     },
     "execution_count": 148,
     "metadata": {},
     "output_type": "execute_result"
    }
   ],
   "source": [
    "result"
   ],
   "metadata": {
    "collapsed": false,
    "pycharm": {
     "name": "#%%\n"
    }
   }
  },
  {
   "cell_type": "markdown",
   "source": [
    "* 모델2"
   ],
   "metadata": {
    "id": "ULNsiVUzyQkM",
    "pycharm": {
     "name": "#%% md\n"
    }
   }
  },
  {
   "cell_type": "code",
   "source": [
    "linear_model2.fit(x_train.loc[:, ['CompPrice', 'Advertising']], y_train)\n",
    "linear_model2.coef_, linear_model2.intercept_"
   ],
   "metadata": {
    "id": "Dmi0ACVTyQkN",
    "pycharm": {
     "name": "#%%\n"
    }
   },
   "execution_count": 67,
   "outputs": [
    {
     "data": {
      "text/plain": "(array([0.01217338, 0.12446636]), 5.314485348699607)"
     },
     "execution_count": 67,
     "metadata": {},
     "output_type": "execute_result"
    }
   ]
  },
  {
   "cell_type": "code",
   "source": [
    "pred = linear_model2.predict(x_val.loc[:, ['CompPrice', 'Advertising']])"
   ],
   "metadata": {
    "id": "AAt9EslX5L9E",
    "pycharm": {
     "name": "#%%\n"
    }
   },
   "execution_count": 68,
   "outputs": []
  },
  {
   "cell_type": "code",
   "execution_count": 69,
   "outputs": [
    {
     "name": "stdout",
     "output_type": "stream",
     "text": [
      "RMSE: 2.9228326675965715\n",
      "MAE: 2.3760174445177022\n",
      "MAPE: 0.8205617379566562\n",
      "정확도: 0.1794382620433438\n"
     ]
    }
   ],
   "source": [
    "print(f'RMSE: {mean_squared_error(y_val, pred, squared=False)}')\n",
    "print(f'MAE: {mean_absolute_error(y_val, pred)}')\n",
    "print(f'MAPE: {mean_absolute_percentage_error(y_val, pred)}')\n",
    "print(f'정확도: {1 - mean_absolute_percentage_error(y_val, pred)}')\n",
    "result.append(['linear_2', mean_squared_error(y_val, pred, squared=False), mean_absolute_error(y_val, pred),\n",
    "               mean_absolute_percentage_error(y_val, pred)])"
   ],
   "metadata": {
    "collapsed": false,
    "pycharm": {
     "name": "#%%\n"
    }
   }
  },
  {
   "cell_type": "markdown",
   "metadata": {
    "id": "LaZoO6TuoZ_U",
    "pycharm": {
     "name": "#%% md\n"
    }
   },
   "source": [
    "## 5.모델링 : KNN\n",
    "\n",
    "* 하이퍼파라미터를 조절하며 모델을 최소 3가지 이상 생성하시오."
   ]
  },
  {
   "cell_type": "markdown",
   "source": [
    "* 모델3"
   ],
   "metadata": {
    "id": "fbgtJTZdoZ_c",
    "pycharm": {
     "name": "#%% md\n"
    }
   }
  },
  {
   "cell_type": "code",
   "source": [
    "from sklearn.neighbors import KNeighborsRegressor\n",
    "\n",
    "model = KNeighborsRegressor()"
   ],
   "metadata": {
    "id": "IKx6tsNToZ_c",
    "pycharm": {
     "name": "#%%\n"
    }
   },
   "execution_count": 70,
   "outputs": []
  },
  {
   "cell_type": "code",
   "execution_count": 71,
   "outputs": [],
   "source": [
    "model.fit(x_train_mm, y_train)\n",
    "pred = model.predict(x_val_mm)"
   ],
   "metadata": {
    "collapsed": false,
    "pycharm": {
     "name": "#%%\n"
    }
   }
  },
  {
   "cell_type": "code",
   "execution_count": 72,
   "outputs": [
    {
     "name": "stdout",
     "output_type": "stream",
     "text": [
      "RMSE: 2.4402738849017203\n",
      "MAE: 2.0449166666666665\n",
      "MAPE: 0.6981789974010878\n",
      "정확도: 0.3018210025989122\n"
     ]
    }
   ],
   "source": [
    "print(f'RMSE: {mean_squared_error(y_val, pred, squared=False)}')\n",
    "print(f'MAE: {mean_absolute_error(y_val, pred)}')\n",
    "print(f'MAPE: {mean_absolute_percentage_error(y_val, pred)}')\n",
    "print(f'정확도: {1 - mean_absolute_percentage_error(y_val, pred)}')\n",
    "result.append(['knn_1_mm', mean_squared_error(y_val, pred, squared=False), mean_absolute_error(y_val, pred),\n",
    "               mean_absolute_percentage_error(y_val, pred)])"
   ],
   "metadata": {
    "collapsed": false,
    "pycharm": {
     "name": "#%%\n"
    }
   }
  },
  {
   "cell_type": "code",
   "execution_count": 73,
   "outputs": [],
   "source": [
    "model.fit(x_train_std, y_train)\n",
    "pred = model.predict(x_val_std)"
   ],
   "metadata": {
    "collapsed": false,
    "pycharm": {
     "name": "#%%\n"
    }
   }
  },
  {
   "cell_type": "code",
   "execution_count": 74,
   "outputs": [
    {
     "name": "stdout",
     "output_type": "stream",
     "text": [
      "RMSE: 2.1716287742920826\n",
      "MAE: 1.7692333333333332\n",
      "MAPE: 0.6745314074828028\n",
      "정확도: 0.3254685925171972\n"
     ]
    }
   ],
   "source": [
    "print(f'RMSE: {mean_squared_error(y_val, pred, squared=False)}')\n",
    "print(f'MAE: {mean_absolute_error(y_val, pred)}')\n",
    "print(f'MAPE: {mean_absolute_percentage_error(y_val, pred)}')\n",
    "print(f'정확도: {1 - mean_absolute_percentage_error(y_val, pred)}')\n",
    "result.append(['knn_1_std', mean_squared_error(y_val, pred, squared=False), mean_absolute_error(y_val, pred),\n",
    "               mean_absolute_percentage_error(y_val, pred)])"
   ],
   "metadata": {
    "collapsed": false,
    "pycharm": {
     "name": "#%%\n"
    }
   }
  },
  {
   "cell_type": "markdown",
   "source": [
    "* 모델4"
   ],
   "metadata": {
    "id": "QzpEvFJ_oZ_d",
    "pycharm": {
     "name": "#%% md\n"
    }
   }
  },
  {
   "cell_type": "code",
   "execution_count": 75,
   "outputs": [],
   "source": [
    "model = KNeighborsRegressor(n_neighbors=15)"
   ],
   "metadata": {
    "collapsed": false,
    "pycharm": {
     "name": "#%%\n"
    }
   }
  },
  {
   "cell_type": "code",
   "source": [
    "model.fit(x_train_mm, y_train)\n",
    "pred = model.predict(x_val_mm)"
   ],
   "metadata": {
    "id": "TL0rUqdxoZ_d",
    "pycharm": {
     "name": "#%%\n"
    }
   },
   "execution_count": 76,
   "outputs": []
  },
  {
   "cell_type": "code",
   "execution_count": 77,
   "outputs": [
    {
     "name": "stdout",
     "output_type": "stream",
     "text": [
      "RMSE: 2.343396474572119\n",
      "MAE: 1.9071333333333333\n",
      "MAPE: 0.7180356811919384\n",
      "정확도: 0.2819643188080616\n"
     ]
    }
   ],
   "source": [
    "print(f'RMSE: {mean_squared_error(y_val, pred, squared=False)}')\n",
    "print(f'MAE: {mean_absolute_error(y_val, pred)}')\n",
    "print(f'MAPE: {mean_absolute_percentage_error(y_val, pred)}')\n",
    "print(f'정확도: {1 - mean_absolute_percentage_error(y_val, pred)}')\n",
    "result.append(['knn_2_mm', mean_squared_error(y_val, pred, squared=False), mean_absolute_error(y_val, pred),\n",
    "               mean_absolute_percentage_error(y_val, pred)])"
   ],
   "metadata": {
    "collapsed": false,
    "pycharm": {
     "name": "#%%\n"
    }
   }
  },
  {
   "cell_type": "code",
   "execution_count": 78,
   "outputs": [],
   "source": [
    "model.fit(x_train_std, y_train)\n",
    "pred = model.predict(x_val_std)"
   ],
   "metadata": {
    "collapsed": false,
    "pycharm": {
     "name": "#%%\n"
    }
   }
  },
  {
   "cell_type": "code",
   "execution_count": 79,
   "outputs": [
    {
     "name": "stdout",
     "output_type": "stream",
     "text": [
      "RMSE: 2.210137762590746\n",
      "MAE: 1.7941055555555556\n",
      "MAPE: 0.6252516995072744\n",
      "정확도: 0.37474830049272556\n"
     ]
    }
   ],
   "source": [
    "print(f'RMSE: {mean_squared_error(y_val, pred, squared=False)}')\n",
    "print(f'MAE: {mean_absolute_error(y_val, pred)}')\n",
    "print(f'MAPE: {mean_absolute_percentage_error(y_val, pred)}')\n",
    "print(f'정확도: {1 - mean_absolute_percentage_error(y_val, pred)}')\n",
    "result.append(['knn_2_std', mean_squared_error(y_val, pred, squared=False), mean_absolute_error(y_val, pred),\n",
    "               mean_absolute_percentage_error(y_val, pred)])"
   ],
   "metadata": {
    "collapsed": false,
    "pycharm": {
     "name": "#%%\n"
    }
   }
  },
  {
   "cell_type": "markdown",
   "source": [
    "* 모델5"
   ],
   "metadata": {
    "id": "_F0myWK9Ttkl",
    "pycharm": {
     "name": "#%% md\n"
    }
   }
  },
  {
   "cell_type": "code",
   "source": [],
   "metadata": {
    "id": "ITLSy_VIpzyZ",
    "pycharm": {
     "name": "#%%\n"
    }
   },
   "execution_count": 79,
   "outputs": []
  },
  {
   "cell_type": "markdown",
   "source": [
    "## 6.성능비교"
   ],
   "metadata": {
    "id": "kF7l1ytHpOwc",
    "pycharm": {
     "name": "#%% md\n"
    }
   }
  },
  {
   "cell_type": "code",
   "source": [],
   "metadata": {
    "id": "kSHKaXKVpQCh",
    "pycharm": {
     "name": "#%%\n"
    }
   },
   "execution_count": null,
   "outputs": []
  },
  {
   "cell_type": "code",
   "source": [],
   "metadata": {
    "id": "TqJCSGkqp7X7",
    "pycharm": {
     "name": "#%%\n"
    }
   },
   "execution_count": null,
   "outputs": []
  }
 ]
}