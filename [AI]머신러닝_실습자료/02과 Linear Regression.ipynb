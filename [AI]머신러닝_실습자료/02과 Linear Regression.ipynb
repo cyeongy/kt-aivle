{
 "nbformat": 4,
 "nbformat_minor": 0,
 "metadata": {
  "colab": {
   "name": "02과 Linear Regression.ipynb",
   "provenance": [],
   "collapsed_sections": [],
   "toc_visible": true
  },
  "kernelspec": {
   "name": "python3",
   "display_name": "Python 3"
  }
 },
 "cells": [
  {
   "cell_type": "markdown",
   "metadata": {
    "id": "cVB9pY-v8uv5",
    "pycharm": {
     "name": "#%% md\n"
    }
   },
   "source": [
    "# Linear Regression\n",
    "다음의 항목들에 대해서 학습합니다.\n",
    "\n",
    "* 선형회귀(Linear Regression)\n",
    "* 회귀모델 평가\n"
   ]
  },
  {
   "cell_type": "markdown",
   "metadata": {
    "id": "jnCv9u_Wy9e1",
    "pycharm": {
     "name": "#%% md\n"
    }
   },
   "source": [
    "## 1.환경준비"
   ]
  },
  {
   "cell_type": "markdown",
   "metadata": {
    "id": "O1uL0UIEzBPw",
    "pycharm": {
     "name": "#%% md\n"
    }
   },
   "source": [
    "### (1) Import"
   ]
  },
  {
   "cell_type": "code",
   "metadata": {
    "id": "GVvCef6A8uv6",
    "pycharm": {
     "name": "#%%\n"
    }
   },
   "source": [
    "#라이브러리들을 불러오자.\n",
    "import numpy as np\n",
    "import pandas as pd\n",
    "import matplotlib.pyplot as plt\n",
    "\n",
    "from sklearn.model_selection import train_test_split\n",
    "\n",
    "import warnings  # 경고메시지 제외\n",
    "\n",
    "warnings.filterwarnings(action='ignore')"
   ],
   "execution_count": 88,
   "outputs": []
  },
  {
   "cell_type": "markdown",
   "metadata": {
    "id": "VHy5s1OOzItm",
    "pycharm": {
     "name": "#%% md\n"
    }
   },
   "source": [
    "### (2) data loading"
   ]
  },
  {
   "cell_type": "code",
   "metadata": {
    "id": "petnBApUBvYf",
    "pycharm": {
     "name": "#%%\n"
    }
   },
   "source": [
    "path = 'https://raw.githubusercontent.com/DA4BAM/dataset/master/boston.csv'\n",
    "data = pd.read_csv(path)"
   ],
   "execution_count": 89,
   "outputs": []
  },
  {
   "cell_type": "markdown",
   "source": [
    "|\t변수\t|\t설명\t|\n",
    "|\t----\t|\t----\t|\n",
    "|\t**medv**\t|\t**타운별 집값(중위수), target**\t|\n",
    "|\tcrim\t|\t범죄율\t|\n",
    "|\tzn\t|\t25,000 평방피트를 초과 거주지역 비율\t|\n",
    "|\tindus\t|\t비소매상업지역 면적 비율, 편의시설(관공서, 주요 시설)\t|\n",
    "|\tchas\t|\t찰스강변 위치(범주 : 강변1, 아니면 0)\t|\n",
    "|\tnox\t|\t일산화질소 농도\t|\n",
    "|\trm\t|\t주택당 방 수\t|\n",
    "|\tage\t|\t1940년 이전에 건축된 주택의 비율\t|\n",
    "|\tdis\t|\t직업센터의 거리\t|\n",
    "|\trad\t|\t방사형 고속도로까지의 거리\t|\n",
    "|\ttax\t|\t재산세율\t|\n",
    "|\tptratio\t|\t학생/교사 비율\t|\n",
    "|\tblack\t|\t인구 중 흑인 비율\t|\n",
    "|\tlstat\t|\t인구 중 하위 계층 비율\t|\n"
   ],
   "metadata": {
    "id": "W07fwF8zeix4",
    "pycharm": {
     "name": "#%% md\n"
    }
   }
  },
  {
   "cell_type": "markdown",
   "metadata": {
    "id": "ZJOddHq2zfcU",
    "pycharm": {
     "name": "#%% md\n"
    }
   },
   "source": [
    "## 2.데이터 이해"
   ]
  },
  {
   "cell_type": "markdown",
   "metadata": {
    "id": "Vqr7zY5r8uwC",
    "pycharm": {
     "name": "#%% md\n"
    }
   },
   "source": [
    "### (1) 둘러보기"
   ]
  },
  {
   "cell_type": "code",
   "metadata": {
    "id": "Wzs1nS348uwE",
    "pycharm": {
     "name": "#%%\n"
    }
   },
   "source": [
    "# 상/하위 몇개 행을 살펴 봅시다.\n",
    "data.head()"
   ],
   "execution_count": 90,
   "outputs": [
    {
     "data": {
      "text/plain": "      crim    zn  indus  chas    nox     rm   age     dis  rad  tax  ptratio  \\\n0  0.00632  18.0   2.31     0  0.538  6.575  65.2  4.0900    1  296     15.3   \n1  0.02731   0.0   7.07     0  0.469  6.421  78.9  4.9671    2  242     17.8   \n2  0.02729   0.0   7.07     0  0.469  7.185  61.1  4.9671    2  242     17.8   \n3  0.03237   0.0   2.18     0  0.458  6.998  45.8  6.0622    3  222     18.7   \n4  0.06905   0.0   2.18     0  0.458  7.147  54.2  6.0622    3  222     18.7   \n\n    black  lstat  medv  \n0  396.90   4.98  24.0  \n1  396.90   9.14  21.6  \n2  392.83   4.03  34.7  \n3  394.63   2.94  33.4  \n4  396.90   5.33  36.2  ",
      "text/html": "<div>\n<style scoped>\n    .dataframe tbody tr th:only-of-type {\n        vertical-align: middle;\n    }\n\n    .dataframe tbody tr th {\n        vertical-align: top;\n    }\n\n    .dataframe thead th {\n        text-align: right;\n    }\n</style>\n<table border=\"1\" class=\"dataframe\">\n  <thead>\n    <tr style=\"text-align: right;\">\n      <th></th>\n      <th>crim</th>\n      <th>zn</th>\n      <th>indus</th>\n      <th>chas</th>\n      <th>nox</th>\n      <th>rm</th>\n      <th>age</th>\n      <th>dis</th>\n      <th>rad</th>\n      <th>tax</th>\n      <th>ptratio</th>\n      <th>black</th>\n      <th>lstat</th>\n      <th>medv</th>\n    </tr>\n  </thead>\n  <tbody>\n    <tr>\n      <th>0</th>\n      <td>0.00632</td>\n      <td>18.0</td>\n      <td>2.31</td>\n      <td>0</td>\n      <td>0.538</td>\n      <td>6.575</td>\n      <td>65.2</td>\n      <td>4.0900</td>\n      <td>1</td>\n      <td>296</td>\n      <td>15.3</td>\n      <td>396.90</td>\n      <td>4.98</td>\n      <td>24.0</td>\n    </tr>\n    <tr>\n      <th>1</th>\n      <td>0.02731</td>\n      <td>0.0</td>\n      <td>7.07</td>\n      <td>0</td>\n      <td>0.469</td>\n      <td>6.421</td>\n      <td>78.9</td>\n      <td>4.9671</td>\n      <td>2</td>\n      <td>242</td>\n      <td>17.8</td>\n      <td>396.90</td>\n      <td>9.14</td>\n      <td>21.6</td>\n    </tr>\n    <tr>\n      <th>2</th>\n      <td>0.02729</td>\n      <td>0.0</td>\n      <td>7.07</td>\n      <td>0</td>\n      <td>0.469</td>\n      <td>7.185</td>\n      <td>61.1</td>\n      <td>4.9671</td>\n      <td>2</td>\n      <td>242</td>\n      <td>17.8</td>\n      <td>392.83</td>\n      <td>4.03</td>\n      <td>34.7</td>\n    </tr>\n    <tr>\n      <th>3</th>\n      <td>0.03237</td>\n      <td>0.0</td>\n      <td>2.18</td>\n      <td>0</td>\n      <td>0.458</td>\n      <td>6.998</td>\n      <td>45.8</td>\n      <td>6.0622</td>\n      <td>3</td>\n      <td>222</td>\n      <td>18.7</td>\n      <td>394.63</td>\n      <td>2.94</td>\n      <td>33.4</td>\n    </tr>\n    <tr>\n      <th>4</th>\n      <td>0.06905</td>\n      <td>0.0</td>\n      <td>2.18</td>\n      <td>0</td>\n      <td>0.458</td>\n      <td>7.147</td>\n      <td>54.2</td>\n      <td>6.0622</td>\n      <td>3</td>\n      <td>222</td>\n      <td>18.7</td>\n      <td>396.90</td>\n      <td>5.33</td>\n      <td>36.2</td>\n    </tr>\n  </tbody>\n</table>\n</div>"
     },
     "execution_count": 90,
     "metadata": {},
     "output_type": "execute_result"
    }
   ]
  },
  {
   "cell_type": "code",
   "metadata": {
    "id": "1ZsXdcfp8uwI",
    "pycharm": {
     "name": "#%%\n"
    }
   },
   "source": [
    "# 각 칼럼의 타입을 살펴 봅시다.\n",
    "data.info()"
   ],
   "execution_count": 91,
   "outputs": [
    {
     "name": "stdout",
     "output_type": "stream",
     "text": [
      "<class 'pandas.core.frame.DataFrame'>\n",
      "RangeIndex: 506 entries, 0 to 505\n",
      "Data columns (total 14 columns):\n",
      " #   Column   Non-Null Count  Dtype  \n",
      "---  ------   --------------  -----  \n",
      " 0   crim     506 non-null    float64\n",
      " 1   zn       506 non-null    float64\n",
      " 2   indus    506 non-null    float64\n",
      " 3   chas     506 non-null    int64  \n",
      " 4   nox      506 non-null    float64\n",
      " 5   rm       506 non-null    float64\n",
      " 6   age      506 non-null    float64\n",
      " 7   dis      506 non-null    float64\n",
      " 8   rad      506 non-null    int64  \n",
      " 9   tax      506 non-null    int64  \n",
      " 10  ptratio  506 non-null    float64\n",
      " 11  black    506 non-null    float64\n",
      " 12  lstat    506 non-null    float64\n",
      " 13  medv     506 non-null    float64\n",
      "dtypes: float64(11), int64(3)\n",
      "memory usage: 55.5 KB\n"
     ]
    }
   ]
  },
  {
   "cell_type": "markdown",
   "metadata": {
    "id": "wW0d0eGmCYJM",
    "pycharm": {
     "name": "#%% md\n"
    }
   },
   "source": [
    "## 3.데이터 준비"
   ]
  },
  {
   "cell_type": "markdown",
   "metadata": {
    "id": "y9Q6jR6OZjUk",
    "pycharm": {
     "name": "#%% md\n"
    }
   },
   "source": [
    "### (1) 데이터 정리"
   ]
  },
  {
   "cell_type": "code",
   "metadata": {
    "id": "xkc_d-sFCMBo",
    "pycharm": {
     "name": "#%%\n"
    }
   },
   "source": [
    "data.head()"
   ],
   "execution_count": 92,
   "outputs": [
    {
     "data": {
      "text/plain": "      crim    zn  indus  chas    nox     rm   age     dis  rad  tax  ptratio  \\\n0  0.00632  18.0   2.31     0  0.538  6.575  65.2  4.0900    1  296     15.3   \n1  0.02731   0.0   7.07     0  0.469  6.421  78.9  4.9671    2  242     17.8   \n2  0.02729   0.0   7.07     0  0.469  7.185  61.1  4.9671    2  242     17.8   \n3  0.03237   0.0   2.18     0  0.458  6.998  45.8  6.0622    3  222     18.7   \n4  0.06905   0.0   2.18     0  0.458  7.147  54.2  6.0622    3  222     18.7   \n\n    black  lstat  medv  \n0  396.90   4.98  24.0  \n1  396.90   9.14  21.6  \n2  392.83   4.03  34.7  \n3  394.63   2.94  33.4  \n4  396.90   5.33  36.2  ",
      "text/html": "<div>\n<style scoped>\n    .dataframe tbody tr th:only-of-type {\n        vertical-align: middle;\n    }\n\n    .dataframe tbody tr th {\n        vertical-align: top;\n    }\n\n    .dataframe thead th {\n        text-align: right;\n    }\n</style>\n<table border=\"1\" class=\"dataframe\">\n  <thead>\n    <tr style=\"text-align: right;\">\n      <th></th>\n      <th>crim</th>\n      <th>zn</th>\n      <th>indus</th>\n      <th>chas</th>\n      <th>nox</th>\n      <th>rm</th>\n      <th>age</th>\n      <th>dis</th>\n      <th>rad</th>\n      <th>tax</th>\n      <th>ptratio</th>\n      <th>black</th>\n      <th>lstat</th>\n      <th>medv</th>\n    </tr>\n  </thead>\n  <tbody>\n    <tr>\n      <th>0</th>\n      <td>0.00632</td>\n      <td>18.0</td>\n      <td>2.31</td>\n      <td>0</td>\n      <td>0.538</td>\n      <td>6.575</td>\n      <td>65.2</td>\n      <td>4.0900</td>\n      <td>1</td>\n      <td>296</td>\n      <td>15.3</td>\n      <td>396.90</td>\n      <td>4.98</td>\n      <td>24.0</td>\n    </tr>\n    <tr>\n      <th>1</th>\n      <td>0.02731</td>\n      <td>0.0</td>\n      <td>7.07</td>\n      <td>0</td>\n      <td>0.469</td>\n      <td>6.421</td>\n      <td>78.9</td>\n      <td>4.9671</td>\n      <td>2</td>\n      <td>242</td>\n      <td>17.8</td>\n      <td>396.90</td>\n      <td>9.14</td>\n      <td>21.6</td>\n    </tr>\n    <tr>\n      <th>2</th>\n      <td>0.02729</td>\n      <td>0.0</td>\n      <td>7.07</td>\n      <td>0</td>\n      <td>0.469</td>\n      <td>7.185</td>\n      <td>61.1</td>\n      <td>4.9671</td>\n      <td>2</td>\n      <td>242</td>\n      <td>17.8</td>\n      <td>392.83</td>\n      <td>4.03</td>\n      <td>34.7</td>\n    </tr>\n    <tr>\n      <th>3</th>\n      <td>0.03237</td>\n      <td>0.0</td>\n      <td>2.18</td>\n      <td>0</td>\n      <td>0.458</td>\n      <td>6.998</td>\n      <td>45.8</td>\n      <td>6.0622</td>\n      <td>3</td>\n      <td>222</td>\n      <td>18.7</td>\n      <td>394.63</td>\n      <td>2.94</td>\n      <td>33.4</td>\n    </tr>\n    <tr>\n      <th>4</th>\n      <td>0.06905</td>\n      <td>0.0</td>\n      <td>2.18</td>\n      <td>0</td>\n      <td>0.458</td>\n      <td>7.147</td>\n      <td>54.2</td>\n      <td>6.0622</td>\n      <td>3</td>\n      <td>222</td>\n      <td>18.7</td>\n      <td>396.90</td>\n      <td>5.33</td>\n      <td>36.2</td>\n    </tr>\n  </tbody>\n</table>\n</div>"
     },
     "execution_count": 92,
     "metadata": {},
     "output_type": "execute_result"
    }
   ]
  },
  {
   "cell_type": "code",
   "source": [
    "data.drop(['black'], axis=1, inplace=True)"
   ],
   "metadata": {
    "id": "5iTdsYqWsjoG",
    "pycharm": {
     "name": "#%%\n"
    }
   },
   "execution_count": 93,
   "outputs": []
  },
  {
   "cell_type": "markdown",
   "metadata": {
    "id": "WpJEGpUuuVWm",
    "pycharm": {
     "name": "#%% md\n"
    }
   },
   "source": [
    "### (2) 데이터분할1 : x, y 나누기"
   ]
  },
  {
   "cell_type": "code",
   "source": [
    "target = 'medv'\n",
    "x = data.drop(target, axis=1)\n",
    "y = data.loc[:, target]"
   ],
   "metadata": {
    "id": "N-4Msv8VsQ3R",
    "pycharm": {
     "name": "#%%\n"
    }
   },
   "execution_count": 94,
   "outputs": []
  },
  {
   "cell_type": "markdown",
   "metadata": {
    "id": "mp_5volyuaA1",
    "pycharm": {
     "name": "#%% md\n"
    }
   },
   "source": [
    "### (3) NA 조치"
   ]
  },
  {
   "cell_type": "markdown",
   "metadata": {
    "id": "nOF9fSLQugGf",
    "pycharm": {
     "name": "#%% md\n"
    }
   },
   "source": [
    "### (4) 가변수화"
   ]
  },
  {
   "cell_type": "markdown",
   "source": [
    "### (5) 데이터분할2 : train : validation 나누기"
   ],
   "metadata": {
    "id": "VBwpOKgkf5Am",
    "pycharm": {
     "name": "#%% md\n"
    }
   }
  },
  {
   "cell_type": "code",
   "source": [
    "x_train, x_val, y_train, y_val = train_test_split(x, y, test_size=.3, random_state=2022)"
   ],
   "metadata": {
    "id": "1iHmTnHCgBw5",
    "pycharm": {
     "name": "#%%\n"
    }
   },
   "execution_count": 95,
   "outputs": []
  },
  {
   "cell_type": "markdown",
   "metadata": {
    "id": "MXUC5Yi3um81",
    "pycharm": {
     "name": "#%% md\n"
    }
   },
   "source": [
    "### (6) Scaling"
   ]
  },
  {
   "cell_type": "markdown",
   "metadata": {
    "id": "BYr1vtpd8uw4",
    "pycharm": {
     "name": "#%% md\n"
    }
   },
   "source": [
    "## 4.모델링 : 단순회귀"
   ]
  },
  {
   "cell_type": "markdown",
   "source": [
    "### (1)학습할 데이터 준비"
   ],
   "metadata": {
    "id": "UYfHl4megf06",
    "pycharm": {
     "name": "#%% md\n"
    }
   }
  },
  {
   "cell_type": "markdown",
   "source": [
    "* 모델링을 시작하기 전에...\n",
    "    * 데이터를 살펴보면서, 어떤 변수가 집값을 예측하는데 가장 중요할까요?"
   ],
   "metadata": {
    "id": "T8eEIRzCSHsT",
    "pycharm": {
     "name": "#%% md\n"
    }
   }
  },
  {
   "cell_type": "markdown",
   "source": [
    "tax 혹은 lstat"
   ],
   "metadata": {
    "collapsed": false,
    "pycharm": {
     "name": "#%% md\n"
    }
   }
  },
  {
   "cell_type": "markdown",
   "source": [
    "* lstat(하위계층 비율)로만 집값(medv)을 예측하는 모델을 만들어 봅시다."
   ],
   "metadata": {
    "id": "4HrWfOGyDd8y",
    "pycharm": {
     "name": "#%% md\n"
    }
   }
  },
  {
   "cell_type": "code",
   "source": [
    "# 학습에 사용할 변수를 지정합니다.\n",
    "features = ['lstat']\n",
    "\n",
    "# 지정된 변수로 데이터셋을 만듭니다. \n",
    "# 학습과 검증시 아래 데이터셋 이름을 사용합니다.\n",
    "x_train1 = x_train[features]\n",
    "x_val1 = x_val[features]"
   ],
   "metadata": {
    "id": "2XS3E6xADnqD",
    "pycharm": {
     "name": "#%%\n"
    }
   },
   "execution_count": 96,
   "outputs": []
  },
  {
   "cell_type": "code",
   "source": [
    "x_train1.head()"
   ],
   "metadata": {
    "id": "LYh2Xut7jp3p",
    "pycharm": {
     "name": "#%%\n"
    }
   },
   "execution_count": 97,
   "outputs": [
    {
     "data": {
      "text/plain": "     lstat\n257   5.12\n371   9.53\n253   3.54\n332   7.83\n454  18.71",
      "text/html": "<div>\n<style scoped>\n    .dataframe tbody tr th:only-of-type {\n        vertical-align: middle;\n    }\n\n    .dataframe tbody tr th {\n        vertical-align: top;\n    }\n\n    .dataframe thead th {\n        text-align: right;\n    }\n</style>\n<table border=\"1\" class=\"dataframe\">\n  <thead>\n    <tr style=\"text-align: right;\">\n      <th></th>\n      <th>lstat</th>\n    </tr>\n  </thead>\n  <tbody>\n    <tr>\n      <th>257</th>\n      <td>5.12</td>\n    </tr>\n    <tr>\n      <th>371</th>\n      <td>9.53</td>\n    </tr>\n    <tr>\n      <th>253</th>\n      <td>3.54</td>\n    </tr>\n    <tr>\n      <th>332</th>\n      <td>7.83</td>\n    </tr>\n    <tr>\n      <th>454</th>\n      <td>18.71</td>\n    </tr>\n  </tbody>\n</table>\n</div>"
     },
     "execution_count": 97,
     "metadata": {},
     "output_type": "execute_result"
    }
   ]
  },
  {
   "cell_type": "markdown",
   "metadata": {
    "id": "Z31_h2AHGsjB",
    "pycharm": {
     "name": "#%% md\n"
    }
   },
   "source": [
    "### (2) 필요한 함수 불러오기\n",
    "이 부분은 파일의 제일 첫 부분에서 한꺼번에 수행해도 좋습니다."
   ]
  },
  {
   "cell_type": "code",
   "metadata": {
    "id": "oRB84_HE8uw5",
    "pycharm": {
     "name": "#%%\n"
    }
   },
   "source": [
    "# 모델링용\n",
    "from sklearn.linear_model import LinearRegression\n",
    "\n",
    "# 회귀모델 평가용\n",
    "from sklearn.metrics import r2_score, mean_squared_error, mean_absolute_error, mean_absolute_percentage_error"
   ],
   "execution_count": 98,
   "outputs": []
  },
  {
   "cell_type": "markdown",
   "metadata": {
    "id": "AvxoQdSTG1aV",
    "pycharm": {
     "name": "#%% md\n"
    }
   },
   "source": [
    "### (3) 모델선언"
   ]
  },
  {
   "cell_type": "code",
   "metadata": {
    "id": "UCEKvUAu8uw7",
    "pycharm": {
     "name": "#%%\n"
    }
   },
   "source": [
    "model1 = LinearRegression()"
   ],
   "execution_count": 99,
   "outputs": []
  },
  {
   "cell_type": "markdown",
   "source": [
    "### (4) 모델링(학습)\n"
   ],
   "metadata": {
    "collapsed": false,
    "pycharm": {
     "name": "#%% md\n"
    }
   }
  },
  {
   "cell_type": "code",
   "execution_count": 111,
   "outputs": [
    {
     "data": {
      "text/plain": "LinearRegression()"
     },
     "execution_count": 111,
     "metadata": {},
     "output_type": "execute_result"
    }
   ],
   "source": [
    "model1.fit(x_train1, y_train)"
   ],
   "metadata": {
    "collapsed": false,
    "pycharm": {
     "name": "#%%\n"
    }
   }
  },
  {
   "cell_type": "markdown",
   "source": [
    "* 회귀계수 확인하기"
   ],
   "metadata": {
    "id": "U3O7R-OnELWO",
    "pycharm": {
     "name": "#%% md\n"
    }
   }
  },
  {
   "cell_type": "code",
   "source": [
    "print('회귀계수 : ', model1.coef_)\n",
    "print('절편 : ', model1.intercept_)"
   ],
   "metadata": {
    "id": "5qEJH2JKENcf",
    "pycharm": {
     "name": "#%%\n"
    }
   },
   "execution_count": 112,
   "outputs": [
    {
     "name": "stdout",
     "output_type": "stream",
     "text": [
      "회귀계수 :  [-0.9568563]\n",
      "절편 :  34.676249051494665\n"
     ]
    }
   ]
  },
  {
   "cell_type": "markdown",
   "metadata": {
    "id": "p1wxcuSHHC9N",
    "pycharm": {
     "name": "#%% md\n"
    }
   },
   "source": [
    "### (5) 검증 : 예측"
   ]
  },
  {
   "cell_type": "code",
   "metadata": {
    "id": "UgX-l3rgHDI7",
    "pycharm": {
     "name": "#%%\n"
    }
   },
   "source": [
    "pred1 = model1.predict(x_val1)"
   ],
   "execution_count": 113,
   "outputs": []
  },
  {
   "cell_type": "markdown",
   "metadata": {
    "id": "iiGs0Vn1HJdj",
    "pycharm": {
     "name": "#%% md\n"
    }
   },
   "source": [
    "### (6) 검증 : 평가\n",
    "\n",
    "* 평가용 함수들은 대부분 (실제값, 예측값)"
   ]
  },
  {
   "cell_type": "code",
   "source": [
    "# 평균오차:\n",
    "mean_absolute_error(y_val, pred1)"
   ],
   "metadata": {
    "id": "artgABU2hbUR",
    "pycharm": {
     "name": "#%%\n"
    }
   },
   "execution_count": 114,
   "outputs": [
    {
     "data": {
      "text/plain": "4.138380487348265"
     },
     "execution_count": 114,
     "metadata": {},
     "output_type": "execute_result"
    }
   ]
  },
  {
   "cell_type": "markdown",
   "source": [
    "## 5.평가"
   ],
   "metadata": {
    "id": "YBfaWD22hrZ2",
    "pycharm": {
     "name": "#%% md\n"
    }
   }
  },
  {
   "cell_type": "markdown",
   "source": [
    "### (1) 오차의 비로 평가하기 : R2 Score\n",
    "\n",
    "* 평균 모델의 오차와 회귀모델 오차\n",
    "    * 평균 모델과 실제 값 과의 차이(SST)\n",
    "    * 평균 모델과 회귀모델 과의 차이(SSR)\n",
    "    * 실제 값과 회귀모델 과의 차이(SSE)\n"
   ],
   "metadata": {
    "id": "z1kNNMuNh-PI",
    "pycharm": {
     "name": "#%% md\n"
    }
   }
  },
  {
   "cell_type": "code",
   "source": [
    "# 실제와 예측 데이터 5건씩 저장\n",
    "tmp_y = y_val[:5]\n",
    "tmp_p = pred1[:5]\n",
    "\n",
    "# 실제값의 평균오차 저장\n",
    "tmp_y_mean = tmp_y.mean()"
   ],
   "metadata": {
    "id": "dkKi4wIXiXSo",
    "pycharm": {
     "name": "#%%\n"
    }
   },
   "execution_count": 115,
   "outputs": []
  },
  {
   "cell_type": "code",
   "source": [
    "# SST\n",
    "sst = np.sum(np.power(tmp_y - tmp_y_mean, 2))\n",
    "sst"
   ],
   "metadata": {
    "id": "j3AAKUUbicFw",
    "pycharm": {
     "name": "#%%\n"
    }
   },
   "execution_count": 116,
   "outputs": [
    {
     "data": {
      "text/plain": "232.14800000000005"
     },
     "execution_count": 116,
     "metadata": {},
     "output_type": "execute_result"
    }
   ]
  },
  {
   "cell_type": "code",
   "source": [
    "# SSE\n",
    "sse = np.sum(np.power(tmp_y - tmp_p, 2))\n",
    "sse"
   ],
   "metadata": {
    "id": "01lwgnO-icCv",
    "pycharm": {
     "name": "#%%\n"
    }
   },
   "execution_count": 117,
   "outputs": [
    {
     "data": {
      "text/plain": "36.39837929489292"
     },
     "execution_count": 117,
     "metadata": {},
     "output_type": "execute_result"
    }
   ]
  },
  {
   "cell_type": "code",
   "source": [
    "# R2 Score = 1- SSE/SST\n",
    "1 - (sse / sst)"
   ],
   "metadata": {
    "id": "_2kiQ_HQib-6",
    "pycharm": {
     "name": "#%%\n"
    }
   },
   "execution_count": 118,
   "outputs": [
    {
     "data": {
      "text/plain": "0.8432104549903815"
     },
     "execution_count": 118,
     "metadata": {},
     "output_type": "execute_result"
    }
   ]
  },
  {
   "cell_type": "code",
   "source": [
    "# 제공된 함수와 비교해 봅시다.\n",
    "r2_score(tmp_y, tmp_p)\n"
   ],
   "metadata": {
    "id": "FuP4e_eqja-j",
    "pycharm": {
     "name": "#%%\n"
    }
   },
   "execution_count": 119,
   "outputs": [
    {
     "data": {
      "text/plain": "0.8432104549903815"
     },
     "execution_count": 119,
     "metadata": {},
     "output_type": "execute_result"
    }
   ]
  },
  {
   "cell_type": "markdown",
   "source": [
    "### (2)오차의 양과 율로 평가하기"
   ],
   "metadata": {
    "id": "gjQUhBi2juub",
    "pycharm": {
     "name": "#%% md\n"
    }
   }
  },
  {
   "cell_type": "code",
   "metadata": {
    "id": "0ZRwQJXY8uw9",
    "pycharm": {
     "name": "#%%\n"
    }
   },
   "source": [
    "# MSE\n",
    "mean_squared_error(y_val, pred1)"
   ],
   "execution_count": 120,
   "outputs": [
    {
     "data": {
      "text/plain": "31.563327757446412"
     },
     "execution_count": 120,
     "metadata": {},
     "output_type": "execute_result"
    }
   ]
  },
  {
   "cell_type": "code",
   "metadata": {
    "id": "jpOB4fla6HH7",
    "pycharm": {
     "name": "#%%\n"
    }
   },
   "source": [
    "# RMSE\n",
    "mean_squared_error(y_val, pred1, squared=False)"
   ],
   "execution_count": 121,
   "outputs": [
    {
     "data": {
      "text/plain": "5.618124932523877"
     },
     "execution_count": 121,
     "metadata": {},
     "output_type": "execute_result"
    }
   ]
  },
  {
   "cell_type": "code",
   "source": [
    "# MAE (평균 오차)\n",
    "mean_absolute_error(y_val, pred1)"
   ],
   "metadata": {
    "id": "8n3pKTe8FcZ0",
    "pycharm": {
     "name": "#%%\n"
    }
   },
   "execution_count": 122,
   "outputs": [
    {
     "data": {
      "text/plain": "4.138380487348265"
     },
     "execution_count": 122,
     "metadata": {},
     "output_type": "execute_result"
    }
   ]
  },
  {
   "cell_type": "code",
   "source": [
    "# MAPE (평균 오차율): 원래 개념은 100(%)을 곱해야 한다. 그렇지만 sklearn 함수는 100을 곱하지 않고 결과를 제공한다.\n",
    "mean_absolute_percentage_error(y_val, pred1)"
   ],
   "metadata": {
    "id": "A2gcrt2UqmkG",
    "pycharm": {
     "name": "#%%\n"
    }
   },
   "execution_count": 123,
   "outputs": [
    {
     "data": {
      "text/plain": "0.22398686231166276"
     },
     "execution_count": 123,
     "metadata": {},
     "output_type": "execute_result"
    }
   ]
  },
  {
   "cell_type": "code",
   "source": [
    "# 1 - MAPE : 회귀모델의 정확도\n",
    "1 - mean_absolute_percentage_error(y_val, pred1)"
   ],
   "metadata": {
    "id": "h5ltiOpyq9QG",
    "pycharm": {
     "name": "#%%\n"
    }
   },
   "execution_count": 124,
   "outputs": [
    {
     "data": {
      "text/plain": "0.7760131376883372"
     },
     "execution_count": 124,
     "metadata": {},
     "output_type": "execute_result"
    }
   ]
  },
  {
   "cell_type": "markdown",
   "source": [
    "## 6.연습문제\n",
    "* 모델을 2개 더 만들어 봅시다. 여러분이 중요하다고 생각한 변수로 모델2, 모델3을 만들어 봅시다.\n",
    "    * model2 : 중요하다고 생각한 변수1  --> medv\n",
    "    * model3 : 중요하다고 생각한 변수2  --> medv\n",
    "* 모델1,2,3의 성능을 비교해 봅시다.\n",
    "* 평가는 RMSE, MAE, MAPE로 사용"
   ],
   "metadata": {
    "id": "z7r3eKmJSCvv",
    "pycharm": {
     "name": "#%% md\n"
    }
   }
  },
  {
   "cell_type": "markdown",
   "source": [
    "### (1) 모델2"
   ],
   "metadata": {
    "id": "U2b_7nwZSm0a",
    "pycharm": {
     "name": "#%% md\n"
    }
   }
  },
  {
   "cell_type": "code",
   "source": [
    "# 학습에 사용할 변수를 지정합니다.\n",
    "features = ['tax']\n",
    "x_train2 = x_train[features]\n",
    "x_val2 = x_val[features]"
   ],
   "metadata": {
    "id": "NRAS1FkOSkGM",
    "pycharm": {
     "name": "#%%\n"
    }
   },
   "execution_count": 125,
   "outputs": []
  },
  {
   "cell_type": "code",
   "source": [
    "# 선형 모델 선언\n",
    "\n",
    "model2 = LinearRegression()"
   ],
   "metadata": {
    "id": "Rn1EJxWLSkDg",
    "pycharm": {
     "name": "#%%\n"
    }
   },
   "execution_count": 126,
   "outputs": []
  },
  {
   "cell_type": "code",
   "source": [
    "# 모델 학습 및 예측\n",
    "\n",
    "model2.fit(x_train2, y_train)\n",
    "pred2 = model2.predict(x_val2)"
   ],
   "metadata": {
    "id": "1ktlHkk4SkAs",
    "pycharm": {
     "name": "#%%\n"
    }
   },
   "execution_count": 127,
   "outputs": []
  },
  {
   "cell_type": "code",
   "execution_count": 128,
   "outputs": [
    {
     "data": {
      "text/plain": "(array([-0.0221842]), 31.895014835450446)"
     },
     "execution_count": 128,
     "metadata": {},
     "output_type": "execute_result"
    }
   ],
   "source": [
    "model2.coef_, model2.intercept_"
   ],
   "metadata": {
    "collapsed": false,
    "pycharm": {
     "name": "#%%\n"
    }
   }
  },
  {
   "cell_type": "code",
   "source": [
    "# R2\n",
    "\n",
    "r2_score(y_val, pred2)"
   ],
   "metadata": {
    "id": "Zjgfs8ybSj99",
    "pycharm": {
     "name": "#%%\n"
    }
   },
   "execution_count": 129,
   "outputs": [
    {
     "data": {
      "text/plain": "0.31934696191444245"
     },
     "execution_count": 129,
     "metadata": {},
     "output_type": "execute_result"
    }
   ]
  },
  {
   "cell_type": "code",
   "execution_count": 130,
   "outputs": [
    {
     "data": {
      "text/plain": "58.306685690912424"
     },
     "execution_count": 130,
     "metadata": {},
     "output_type": "execute_result"
    }
   ],
   "source": [
    "# MSE\n",
    "\n",
    "mean_squared_error(y_val, pred2)"
   ],
   "metadata": {
    "collapsed": false,
    "pycharm": {
     "name": "#%%\n"
    }
   }
  },
  {
   "cell_type": "code",
   "execution_count": 131,
   "outputs": [
    {
     "data": {
      "text/plain": "7.635881461292627"
     },
     "execution_count": 131,
     "metadata": {},
     "output_type": "execute_result"
    }
   ],
   "source": [
    "# RMSE\n",
    "\n",
    "mean_squared_error(y_val, pred2, squared=False)"
   ],
   "metadata": {
    "collapsed": false,
    "pycharm": {
     "name": "#%%\n"
    }
   }
  },
  {
   "cell_type": "code",
   "execution_count": 132,
   "outputs": [
    {
     "data": {
      "text/plain": "5.933090483161751"
     },
     "execution_count": 132,
     "metadata": {},
     "output_type": "execute_result"
    }
   ],
   "source": [
    "# MAE\n",
    "\n",
    "mean_absolute_error(y_val, pred2)"
   ],
   "metadata": {
    "collapsed": false,
    "pycharm": {
     "name": "#%%\n"
    }
   }
  },
  {
   "cell_type": "code",
   "execution_count": 133,
   "outputs": [
    {
     "data": {
      "text/plain": "0.3612013541991554"
     },
     "execution_count": 133,
     "metadata": {},
     "output_type": "execute_result"
    }
   ],
   "source": [
    "# MAPE\n",
    "\n",
    "mean_absolute_percentage_error(y_val, pred2)"
   ],
   "metadata": {
    "collapsed": false,
    "pycharm": {
     "name": "#%%\n"
    }
   }
  },
  {
   "cell_type": "code",
   "execution_count": 134,
   "outputs": [
    {
     "data": {
      "text/plain": "0.6387986458008446"
     },
     "execution_count": 134,
     "metadata": {},
     "output_type": "execute_result"
    }
   ],
   "source": [
    "# 회귀모델의 정확도\n",
    "\n",
    "1 - mean_absolute_percentage_error(y_val, pred2)"
   ],
   "metadata": {
    "collapsed": false,
    "pycharm": {
     "name": "#%%\n"
    }
   }
  },
  {
   "cell_type": "markdown",
   "source": [
    "### (2) 모델3"
   ],
   "metadata": {
    "id": "pEyC2NYcSu7E",
    "pycharm": {
     "name": "#%% md\n"
    }
   }
  },
  {
   "cell_type": "code",
   "source": [
    "# 학습에 사용할 변수를 지정합니다.\n",
    "features = ['crim']\n",
    "x_train3 = x_train[features]\n",
    "x_val3 = x_val[features]"
   ],
   "metadata": {
    "id": "bibeY57cSu7E",
    "pycharm": {
     "name": "#%%\n"
    }
   },
   "execution_count": 135,
   "outputs": []
  },
  {
   "cell_type": "code",
   "source": [
    "model3 = LinearRegression()"
   ],
   "metadata": {
    "id": "cxLTjKzzzRrF",
    "pycharm": {
     "name": "#%%\n"
    }
   },
   "execution_count": 136,
   "outputs": []
  },
  {
   "cell_type": "code",
   "source": [
    "model3.fit(x_train3, y_train)\n",
    "pred3 = model3.predict(x_val3)"
   ],
   "metadata": {
    "id": "EBw0zD_pzRrI",
    "pycharm": {
     "name": "#%%\n"
    }
   },
   "execution_count": 137,
   "outputs": []
  },
  {
   "cell_type": "code",
   "execution_count": 138,
   "outputs": [
    {
     "data": {
      "text/plain": "(array([-0.3570669]), 24.214633238567504)"
     },
     "execution_count": 138,
     "metadata": {},
     "output_type": "execute_result"
    }
   ],
   "source": [
    "model3.coef_, model3.intercept_"
   ],
   "metadata": {
    "collapsed": false,
    "pycharm": {
     "name": "#%%\n"
    }
   }
  },
  {
   "cell_type": "code",
   "source": [
    "# R2 score\n",
    "\n",
    "r2_score(y_val, pred3)"
   ],
   "metadata": {
    "id": "UAPgRjOIzRrI",
    "pycharm": {
     "name": "#%%\n"
    }
   },
   "execution_count": 139,
   "outputs": [
    {
     "data": {
      "text/plain": "0.19988423690315305"
     },
     "execution_count": 139,
     "metadata": {},
     "output_type": "execute_result"
    }
   ]
  },
  {
   "cell_type": "code",
   "execution_count": 140,
   "outputs": [
    {
     "data": {
      "text/plain": "68.54020434030336"
     },
     "execution_count": 140,
     "metadata": {},
     "output_type": "execute_result"
    }
   ],
   "source": [
    "# MSE\n",
    "\n",
    "mean_squared_error(y_val, pred3)"
   ],
   "metadata": {
    "collapsed": false,
    "pycharm": {
     "name": "#%%\n"
    }
   }
  },
  {
   "cell_type": "code",
   "execution_count": 141,
   "outputs": [
    {
     "data": {
      "text/plain": "8.278901155364965"
     },
     "execution_count": 141,
     "metadata": {},
     "output_type": "execute_result"
    }
   ],
   "source": [
    "# RMSE\n",
    "\n",
    "mean_squared_error(y_val, pred3, squared=False)"
   ],
   "metadata": {
    "collapsed": false,
    "pycharm": {
     "name": "#%%\n"
    }
   }
  },
  {
   "cell_type": "code",
   "execution_count": 142,
   "outputs": [
    {
     "data": {
      "text/plain": "68.54020434030336"
     },
     "execution_count": 142,
     "metadata": {},
     "output_type": "execute_result"
    }
   ],
   "source": [
    "# MAE\n",
    "\n",
    "mean_squared_error(y_val, pred3)"
   ],
   "metadata": {
    "collapsed": false,
    "pycharm": {
     "name": "#%%\n"
    }
   }
  },
  {
   "cell_type": "code",
   "execution_count": 143,
   "outputs": [
    {
     "data": {
      "text/plain": "0.40490343077615576"
     },
     "execution_count": 143,
     "metadata": {},
     "output_type": "execute_result"
    }
   ],
   "source": [
    "# MAPE\n",
    "\n",
    "mean_absolute_percentage_error(y_val, pred3)"
   ],
   "metadata": {
    "collapsed": false,
    "pycharm": {
     "name": "#%%\n"
    }
   }
  },
  {
   "cell_type": "code",
   "execution_count": 144,
   "outputs": [
    {
     "data": {
      "text/plain": "0.5950965692238442"
     },
     "execution_count": 144,
     "metadata": {},
     "output_type": "execute_result"
    }
   ],
   "source": [
    "# 회귀모델의 정확도\n",
    "\n",
    "1 - mean_absolute_percentage_error(y_val, pred3)"
   ],
   "metadata": {
    "collapsed": false,
    "pycharm": {
     "name": "#%%\n"
    }
   }
  },
  {
   "cell_type": "markdown",
   "metadata": {
    "id": "u4OoYOUkEjDZ",
    "pycharm": {
     "name": "#%% md\n"
    }
   },
   "source": [
    "## 7.모델링2 : 다중회귀"
   ]
  },
  {
   "cell_type": "markdown",
   "source": [
    "* 이번에는 다음의 변수로 예측하는 모델을 각각 만들어 봅시다.\n",
    "    * model4 : lstat + ptratio \n",
    "    * model5 : lstat + ptratio + crim\n",
    "    * model6 : 전체 변수"
   ],
   "metadata": {
    "id": "hTfqENr-EjDa",
    "pycharm": {
     "name": "#%% md\n"
    }
   }
  },
  {
   "cell_type": "markdown",
   "source": [
    "### (1) 모델4 "
   ],
   "metadata": {
    "id": "07jIXeRogp4R",
    "pycharm": {
     "name": "#%% md\n"
    }
   }
  },
  {
   "cell_type": "code",
   "source": [
    "target = ['lstat', 'ptratio']\n",
    "\n",
    "x_train4 = x_train.loc[:, target]\n",
    "x_val4 = x_val.loc[:, target]"
   ],
   "metadata": {
    "id": "HPqQUSO40xZJ",
    "pycharm": {
     "name": "#%%\n"
    }
   },
   "execution_count": 145,
   "outputs": []
  },
  {
   "cell_type": "code",
   "source": [
    "model4 = LinearRegression()\n",
    "\n",
    "model4.fit(x_train4, y_train)\n",
    "pred4 = model4.predict(x_val4)\n",
    "\n",
    "print(x_train4.columns.tolist())\n",
    "print(model4.coef_)\n",
    "print(model4.intercept_)\n"
   ],
   "metadata": {
    "id": "FuV6Z_Ej0xZR",
    "pycharm": {
     "name": "#%%\n"
    }
   },
   "execution_count": 146,
   "outputs": [
    {
     "name": "stdout",
     "output_type": "stream",
     "text": [
      "['lstat', 'ptratio']\n",
      "[-0.82877003 -1.25776375]\n",
      "56.23176330467861\n"
     ]
    }
   ]
  },
  {
   "cell_type": "code",
   "source": [
    "#r2 score\n",
    "\n",
    "r2_score(y_val, pred4)"
   ],
   "metadata": {
    "id": "RDtLhKbh1yvB",
    "pycharm": {
     "name": "#%%\n"
    }
   },
   "execution_count": 147,
   "outputs": [
    {
     "data": {
      "text/plain": "0.6480829901967096"
     },
     "execution_count": 147,
     "metadata": {},
     "output_type": "execute_result"
    }
   ]
  },
  {
   "cell_type": "code",
   "source": [
    "# MSE\n",
    "\n",
    "mean_squared_error(y_val, pred4)"
   ],
   "metadata": {
    "id": "VdxIoh2E0xZR",
    "pycharm": {
     "name": "#%%\n"
    }
   },
   "execution_count": 148,
   "outputs": [
    {
     "data": {
      "text/plain": "30.146217429072816"
     },
     "execution_count": 148,
     "metadata": {},
     "output_type": "execute_result"
    }
   ]
  },
  {
   "cell_type": "code",
   "source": [
    "# RMSE\n",
    "\n",
    "mean_squared_error(y_val, pred4, squared=False)"
   ],
   "metadata": {
    "id": "xHf4K9_R0xZS",
    "pycharm": {
     "name": "#%%\n"
    }
   },
   "execution_count": 149,
   "outputs": [
    {
     "data": {
      "text/plain": "5.4905571146353465"
     },
     "execution_count": 149,
     "metadata": {},
     "output_type": "execute_result"
    }
   ]
  },
  {
   "cell_type": "code",
   "execution_count": 150,
   "outputs": [
    {
     "data": {
      "text/plain": "4.039846424031538"
     },
     "execution_count": 150,
     "metadata": {},
     "output_type": "execute_result"
    }
   ],
   "source": [
    "# MAE\n",
    "\n",
    "mean_absolute_error(y_val, pred4)"
   ],
   "metadata": {
    "collapsed": false,
    "pycharm": {
     "name": "#%%\n"
    }
   }
  },
  {
   "cell_type": "code",
   "execution_count": 151,
   "outputs": [
    {
     "data": {
      "text/plain": "0.21174387997152605"
     },
     "execution_count": 151,
     "metadata": {},
     "output_type": "execute_result"
    }
   ],
   "source": [
    "# MAPE\n",
    "\n",
    "mean_absolute_percentage_error(y_val, pred4)"
   ],
   "metadata": {
    "collapsed": false,
    "pycharm": {
     "name": "#%%\n"
    }
   }
  },
  {
   "cell_type": "code",
   "execution_count": 152,
   "outputs": [
    {
     "data": {
      "text/plain": "0.7882561200284739"
     },
     "execution_count": 152,
     "metadata": {},
     "output_type": "execute_result"
    }
   ],
   "source": [
    "# 정확도\n",
    "\n",
    "1 - mean_absolute_percentage_error(y_val, pred4)"
   ],
   "metadata": {
    "collapsed": false,
    "pycharm": {
     "name": "#%%\n"
    }
   }
  },
  {
   "cell_type": "markdown",
   "source": [
    "### (2) 모델5 "
   ],
   "metadata": {
    "id": "ubvVpbWDjDpQ",
    "pycharm": {
     "name": "#%% md\n"
    }
   }
  },
  {
   "cell_type": "code",
   "source": [
    "target = ['lstat', 'ptratio', 'crim']\n",
    "\n",
    "x_train5 = x_train.loc[:, target]\n",
    "x_val5 = x_val.loc[:, target]"
   ],
   "metadata": {
    "id": "smUk2b5A3tU9",
    "pycharm": {
     "name": "#%%\n"
    }
   },
   "execution_count": 153,
   "outputs": []
  },
  {
   "cell_type": "code",
   "source": [
    "model5 = LinearRegression()\n",
    "\n",
    "model5.fit(x_train5, y_train)\n",
    "pred5 = model4.predict(x_val4)\n",
    "\n",
    "print(x_train5.columns.tolist())\n",
    "print(model5.coef_)\n",
    "print(model5.intercept_)"
   ],
   "metadata": {
    "id": "kDu4Y03X3tU-",
    "pycharm": {
     "name": "#%%\n"
    }
   },
   "execution_count": 154,
   "outputs": [
    {
     "name": "stdout",
     "output_type": "stream",
     "text": [
      "['lstat', 'ptratio', 'crim']\n",
      "[-0.82488373 -1.252952   -0.00844337]\n",
      "56.12327702981513\n"
     ]
    }
   ]
  },
  {
   "cell_type": "code",
   "source": [
    "#r2 score\n",
    "\n",
    "r2_score(y_val, pred5)"
   ],
   "metadata": {
    "id": "dm3STzFq3tU-",
    "pycharm": {
     "name": "#%%\n"
    }
   },
   "execution_count": 155,
   "outputs": [
    {
     "data": {
      "text/plain": "0.6480829901967096"
     },
     "execution_count": 155,
     "metadata": {},
     "output_type": "execute_result"
    }
   ]
  },
  {
   "cell_type": "code",
   "source": [
    "# MSE\n",
    "\n",
    "mean_squared_error(y_val, pred5)"
   ],
   "metadata": {
    "id": "tcoZmOfg3tU-",
    "pycharm": {
     "name": "#%%\n"
    }
   },
   "execution_count": 156,
   "outputs": [
    {
     "data": {
      "text/plain": "30.146217429072816"
     },
     "execution_count": 156,
     "metadata": {},
     "output_type": "execute_result"
    }
   ]
  },
  {
   "cell_type": "code",
   "source": [
    "# RMSE\n",
    "\n",
    "mean_squared_error(y_val, pred5, squared=False)"
   ],
   "metadata": {
    "id": "9ZD1diq_3tU_",
    "pycharm": {
     "name": "#%%\n"
    }
   },
   "execution_count": 157,
   "outputs": [
    {
     "data": {
      "text/plain": "5.4905571146353465"
     },
     "execution_count": 157,
     "metadata": {},
     "output_type": "execute_result"
    }
   ]
  },
  {
   "cell_type": "code",
   "execution_count": 158,
   "outputs": [
    {
     "data": {
      "text/plain": "4.039846424031538"
     },
     "execution_count": 158,
     "metadata": {},
     "output_type": "execute_result"
    }
   ],
   "source": [
    "# MAE\n",
    "\n",
    "mean_absolute_error(y_val, pred5)"
   ],
   "metadata": {
    "collapsed": false,
    "pycharm": {
     "name": "#%%\n"
    }
   }
  },
  {
   "cell_type": "code",
   "execution_count": 159,
   "outputs": [
    {
     "data": {
      "text/plain": "0.21174387997152605"
     },
     "execution_count": 159,
     "metadata": {},
     "output_type": "execute_result"
    }
   ],
   "source": [
    "# MAPE\n",
    "\n",
    "mean_absolute_percentage_error(y_val, pred5)"
   ],
   "metadata": {
    "collapsed": false,
    "pycharm": {
     "name": "#%%\n"
    }
   }
  },
  {
   "cell_type": "code",
   "execution_count": 160,
   "outputs": [
    {
     "data": {
      "text/plain": "0.7882561200284739"
     },
     "execution_count": 160,
     "metadata": {},
     "output_type": "execute_result"
    }
   ],
   "source": [
    "# 정확도\n",
    "\n",
    "1 - mean_absolute_percentage_error(y_val, pred5)"
   ],
   "metadata": {
    "collapsed": false,
    "pycharm": {
     "name": "#%%\n"
    }
   }
  },
  {
   "cell_type": "markdown",
   "source": [
    "### (3) 모델6"
   ],
   "metadata": {
    "id": "WwwyRbzEkWid",
    "pycharm": {
     "name": "#%% md\n"
    }
   }
  },
  {
   "cell_type": "code",
   "source": [
    "# 전체 데이터 사용\n",
    "\n",
    "model6 = LinearRegression()\n",
    "\n",
    "model6.fit(x_train, y_train)\n",
    "pred6 = model6.predict(x_val)\n",
    "\n",
    "print(x_train.columns.to_list())\n",
    "print(model6.coef_)\n",
    "print(model6.intercept_)"
   ],
   "metadata": {
    "id": "gi0XKU6L3vAd",
    "pycharm": {
     "name": "#%%\n"
    }
   },
   "execution_count": 161,
   "outputs": [
    {
     "name": "stdout",
     "output_type": "stream",
     "text": [
      "['crim', 'zn', 'indus', 'chas', 'nox', 'rm', 'age', 'dis', 'rad', 'tax', 'ptratio', 'lstat']\n",
      "[-1.22425848e-01  3.82348308e-02  4.22856876e-02  3.20133717e+00\n",
      " -1.41572526e+01  4.39944607e+00 -5.77366256e-03 -1.33095603e+00\n",
      "  2.89257050e-01 -1.22428947e-02 -9.32466444e-01 -5.53256396e-01]\n",
      "34.03070580007187\n"
     ]
    }
   ]
  },
  {
   "cell_type": "code",
   "source": [
    "# r2 score\n",
    "\n",
    "r2_score(y_val, pred6)"
   ],
   "metadata": {
    "id": "JfNZmZFX3vAd",
    "pycharm": {
     "name": "#%%\n"
    }
   },
   "execution_count": 162,
   "outputs": [
    {
     "data": {
      "text/plain": "0.7311699031280621"
     },
     "execution_count": 162,
     "metadata": {},
     "output_type": "execute_result"
    }
   ]
  },
  {
   "cell_type": "code",
   "source": [
    "# MSE\n",
    "\n",
    "mean_squared_error(y_val, pred6)"
   ],
   "metadata": {
    "id": "lM8myCn_3vAe",
    "pycharm": {
     "name": "#%%\n"
    }
   },
   "execution_count": 163,
   "outputs": [
    {
     "data": {
      "text/plain": "23.028754865558007"
     },
     "execution_count": 163,
     "metadata": {},
     "output_type": "execute_result"
    }
   ]
  },
  {
   "cell_type": "code",
   "source": [
    "# RMSE\n",
    "\n",
    "mean_squared_error(y_val, pred6, squared=False)"
   ],
   "metadata": {
    "id": "ShbseUsk3vAe",
    "pycharm": {
     "name": "#%%\n"
    }
   },
   "execution_count": 164,
   "outputs": [
    {
     "data": {
      "text/plain": "4.798828488866633"
     },
     "execution_count": 164,
     "metadata": {},
     "output_type": "execute_result"
    }
   ]
  },
  {
   "cell_type": "code",
   "source": [
    "# MAE\n",
    "\n",
    "mean_absolute_error(y_val, pred6)"
   ],
   "metadata": {
    "id": "D9-CbCgr3vAe",
    "pycharm": {
     "name": "#%%\n"
    }
   },
   "execution_count": 165,
   "outputs": [
    {
     "data": {
      "text/plain": "3.5665143686000085"
     },
     "execution_count": 165,
     "metadata": {},
     "output_type": "execute_result"
    }
   ]
  },
  {
   "cell_type": "code",
   "execution_count": 166,
   "outputs": [
    {
     "data": {
      "text/plain": "0.21138270282541866"
     },
     "execution_count": 166,
     "metadata": {},
     "output_type": "execute_result"
    }
   ],
   "source": [
    "# MAPE\n",
    "\n",
    "mean_absolute_percentage_error(y_val, pred6)"
   ],
   "metadata": {
    "collapsed": false,
    "pycharm": {
     "name": "#%%\n"
    }
   }
  },
  {
   "cell_type": "code",
   "execution_count": 167,
   "outputs": [
    {
     "data": {
      "text/plain": "0.7886172971745813"
     },
     "execution_count": 167,
     "metadata": {},
     "output_type": "execute_result"
    }
   ],
   "source": [
    "# 정확도\n",
    "\n",
    "1 - mean_absolute_percentage_error(y_val, pred6)"
   ],
   "metadata": {
    "collapsed": false,
    "pycharm": {
     "name": "#%%\n"
    }
   }
  },
  {
   "cell_type": "markdown",
   "metadata": {
    "id": "CkOq7trbEjDb",
    "pycharm": {
     "name": "#%% md\n"
    }
   },
   "source": [
    "### (4) 성능 비교 평가\n",
    "지금까지 모델들에 대해서 성능 비교를 해 봅시다."
   ]
  },
  {
   "cell_type": "markdown",
   "source": [
    "* 결과를 하나의 데이터프레임으로 저장해서 비교해 봅시다."
   ],
   "metadata": {
    "id": "fjqVB3nrl22H",
    "pycharm": {
     "name": "#%% md\n"
    }
   }
  },
  {
   "cell_type": "code",
   "source": [
    "model_no, rmse, mae, mape = [], [], [], []\n",
    "pred = [pred1, pred2, pred3, pred4, pred5, pred6]\n",
    "\n",
    "for i, p in enumerate(pred):\n",
    "    model_no.append(i+1)\n",
    "    rmse.append(mean_squared_error(y_val, p, squared=False))\n",
    "    mae.append(mean_absolute_error(y_val, p))\n",
    "    mape.append(mean_absolute_percentage_error(y_val, p))"
   ],
   "metadata": {
    "id": "IiGtEgyjl-Zz",
    "pycharm": {
     "name": "#%%\n"
    }
   },
   "execution_count": 168,
   "outputs": []
  },
  {
   "cell_type": "code",
   "source": [
    "result = pd.DataFrame({'model_no': model_no, 'RMSE': rmse, 'MAE': mae, 'MAPE': mape,},)\n",
    "result"
   ],
   "metadata": {
    "id": "zdpFkJ5n3yyD",
    "pycharm": {
     "name": "#%%\n"
    }
   },
   "execution_count": 174,
   "outputs": [
    {
     "data": {
      "text/plain": "   model_no      RMSE       MAE      MAPE\n0         1  5.618125  4.138380  0.223987\n1         2  7.635881  5.933090  0.361201\n2         3  8.278901  6.480427  0.404903\n3         4  5.490557  4.039846  0.211744\n4         5  5.490557  4.039846  0.211744\n5         6  4.798828  3.566514  0.211383",
      "text/html": "<div>\n<style scoped>\n    .dataframe tbody tr th:only-of-type {\n        vertical-align: middle;\n    }\n\n    .dataframe tbody tr th {\n        vertical-align: top;\n    }\n\n    .dataframe thead th {\n        text-align: right;\n    }\n</style>\n<table border=\"1\" class=\"dataframe\">\n  <thead>\n    <tr style=\"text-align: right;\">\n      <th></th>\n      <th>model_no</th>\n      <th>RMSE</th>\n      <th>MAE</th>\n      <th>MAPE</th>\n    </tr>\n  </thead>\n  <tbody>\n    <tr>\n      <th>0</th>\n      <td>1</td>\n      <td>5.618125</td>\n      <td>4.138380</td>\n      <td>0.223987</td>\n    </tr>\n    <tr>\n      <th>1</th>\n      <td>2</td>\n      <td>7.635881</td>\n      <td>5.933090</td>\n      <td>0.361201</td>\n    </tr>\n    <tr>\n      <th>2</th>\n      <td>3</td>\n      <td>8.278901</td>\n      <td>6.480427</td>\n      <td>0.404903</td>\n    </tr>\n    <tr>\n      <th>3</th>\n      <td>4</td>\n      <td>5.490557</td>\n      <td>4.039846</td>\n      <td>0.211744</td>\n    </tr>\n    <tr>\n      <th>4</th>\n      <td>5</td>\n      <td>5.490557</td>\n      <td>4.039846</td>\n      <td>0.211744</td>\n    </tr>\n    <tr>\n      <th>5</th>\n      <td>6</td>\n      <td>4.798828</td>\n      <td>3.566514</td>\n      <td>0.211383</td>\n    </tr>\n  </tbody>\n</table>\n</div>"
     },
     "execution_count": 174,
     "metadata": {},
     "output_type": "execute_result"
    }
   ]
  },
  {
   "cell_type": "code",
   "execution_count": 175,
   "outputs": [],
   "source": [
    "import seaborn as sns"
   ],
   "metadata": {
    "collapsed": false,
    "pycharm": {
     "name": "#%%\n"
    }
   }
  },
  {
   "cell_type": "code",
   "execution_count": 188,
   "outputs": [],
   "source": [
    "def plot_feature_importance(importance, names):\n",
    "    feature_importance = np.array(importance)\n",
    "    feature_names = np.array(names)\n",
    "\n",
    "    data = {'feature_names': feature_names, 'feature_importance':feature_importance}\n",
    "    fi_df = pd.DataFrame(data)\n",
    "\n",
    "    fi_df.sort_values(by = ['feature_importance'], ascending=False, inplace=True)\n",
    "    fi_df.reset_index(drop=True, inplace=True)\n",
    "\n",
    "    plt.figure(figsize=(10, 8))\n",
    "    r = sns.barplot(y = 'feature_names', x = 'feature_importance', data=fi_df)\n",
    "\n",
    "    plt.grid()\n",
    "    plt.show()\n",
    "    return r\n"
   ],
   "metadata": {
    "collapsed": false,
    "pycharm": {
     "name": "#%%\n"
    }
   }
  },
  {
   "cell_type": "code",
   "execution_count": 186,
   "outputs": [
    {
     "data": {
      "text/plain": "<Figure size 720x576 with 1 Axes>",
      "image/png": "[encoded data removed]"
     },
     "metadata": {
      "needs_background": "light"
     },
     "output_type": "display_data"
    }
   ],
   "source": [
    "plot_feature_importance(model6.coef_, list(x_train))"
   ],
   "metadata": {
    "collapsed": false,
    "pycharm": {
     "name": "#%%\n"
    }
   }
  },
  {
   "cell_type": "code",
   "execution_count": 187,
   "outputs": [
    {
     "data": {
      "text/plain": "<Figure size 720x576 with 1 Axes>",
      "image/png": "[encoded data removed]"
     },
     "metadata": {
      "needs_background": "light"
     },
     "output_type": "display_data"
    }
   ],
   "source": [
    "from sklearn.preprocessing import MinMaxScaler\n",
    "\n",
    "scaler = MinMaxScaler()\n",
    "\n",
    "x_train_s = scaler.fit_transform(x_train)\n",
    "\n",
    "model7 = LinearRegression()\n",
    "model7.fit(x_train_s, y_train)\n",
    "\n",
    "r = plot_feature_importance(model7.coef_, list(x_train))"
   ],
   "metadata": {
    "collapsed": false,
    "pycharm": {
     "name": "#%%\n"
    }
   }
  },
  {
   "cell_type": "code",
   "execution_count": null,
   "outputs": [],
   "source": [],
   "metadata": {
    "collapsed": false,
    "pycharm": {
     "name": "#%%\n"
    }
   }
  }
 ]
}