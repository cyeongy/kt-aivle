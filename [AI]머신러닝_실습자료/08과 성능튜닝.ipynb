{
 "nbformat": 4,
 "nbformat_minor": 0,
 "metadata": {
  "colab": {
   "name": "08과 성능튜닝.ipynb",
   "provenance": [],
   "collapsed_sections": [],
   "toc_visible": true,
   "authorship_tag": "ABX9TyN6Prk/6koXd+7LqYkAnr0v"
  },
  "kernelspec": {
   "name": "python3",
   "language": "python",
   "display_name": "Python 3 (ipykernel)"
  },
  "language_info": {
   "name": "python"
  }
 },
 "cells": [
  {
   "cell_type": "markdown",
   "metadata": {
    "id": "cVB9pY-v8uv5",
    "pycharm": {
     "name": "#%% md\n"
    }
   },
   "source": [
    "# 성능튜닝"
   ]
  },
  {
   "cell_type": "markdown",
   "metadata": {
    "id": "O1uL0UIEzBPw",
    "pycharm": {
     "name": "#%% md\n"
    }
   },
   "source": [
    "## 1.환경준비"
   ]
  },
  {
   "cell_type": "markdown",
   "source": [
    "### (1) import"
   ],
   "metadata": {
    "id": "vNt997De17qz",
    "pycharm": {
     "name": "#%% md\n"
    }
   }
  },
  {
   "cell_type": "code",
   "metadata": {
    "id": "GugpCLBiVHzd",
    "pycharm": {
     "name": "#%%\n"
    }
   },
   "source": [
    "#라이브러리들을 불러오자.\n",
    "\n",
    "import numpy as np\n",
    "import pandas as pd\n",
    "import matplotlib.pyplot as plt\n",
    "import seaborn as sns\n",
    "\n",
    "# 전처리\n",
    "from sklearn.model_selection import train_test_split\n",
    "from sklearn.preprocessing import MinMaxScaler\n",
    "\n",
    "# 모델링\n",
    "from sklearn.linear_model import LogisticRegression\n",
    "from sklearn.tree import DecisionTreeClassifier, plot_tree\n",
    "from sklearn.neighbors import KNeighborsClassifier\n",
    "from sklearn.svm import SVC\n",
    "from sklearn.metrics import *\n",
    "\n",
    "import warnings  # 경고메시지 제외\n",
    "\n",
    "warnings.filterwarnings(action='ignore')"
   ],
   "execution_count": 1,
   "outputs": [
    {
     "name": "stderr",
     "output_type": "stream",
     "text": [
      "/Users/cyeongy/opt/anaconda3/envs/kt-aivle/lib/python3.8/site-packages/scipy/__init__.py:146: UserWarning: A NumPy version >=1.16.5 and <1.23.0 is required for this version of SciPy (detected version 1.23.1\n",
      "  warnings.warn(f\"A NumPy version >={np_minversion} and <{np_maxversion}\"\n"
     ]
    }
   ]
  },
  {
   "cell_type": "markdown",
   "metadata": {
    "id": "CG-FeAY4f25C",
    "pycharm": {
     "name": "#%% md\n"
    }
   },
   "source": [
    "### (2) 데이터 준비"
   ]
  },
  {
   "cell_type": "markdown",
   "source": [
    "* 변수설명\n",
    "    * COLLEGE : 대학 졸업여부\n",
    "    * INCOME : 연수입\n",
    "    * OVERAGE : 월평균 초과사용 시간(분)\n",
    "    * LEFTOVER : 월평균 잔여시간비율(%)\n",
    "    * HOUSE : 집값\n",
    "    * HANDSET_PRICE : 스마트폰 가격\n",
    "    * OVER_15MINS_CALLS_PER_MONTH : 월평균 장기통화(15분이상) 횟수\n",
    "    * AVERAGE_CALL_DURATION : 평균 통화 시간\n",
    "    * REPORTED_SATISFACTION : 만족도 설문조사 결과\n",
    "    * REPORTED_USAGE_LEVEL : 사용도 자가진단 결과\n",
    "    * CONSIDERING_CHANGE_OF_PLAN : 향후 변경계획 설문조사 결과\n",
    "    * CHURN : 이탈(번호이동) 여부 (1-이탈, 0-잔류, Target 변수)\n"
   ],
   "metadata": {
    "id": "LBOR4ttK_6JA",
    "pycharm": {
     "name": "#%% md\n"
    }
   }
  },
  {
   "cell_type": "code",
   "metadata": {
    "id": "pl1Ar13F_6JB",
    "pycharm": {
     "name": "#%%\n"
    }
   },
   "source": [
    "# 데이터를 불러옵시다.\n",
    "path = 'https://raw.githubusercontent.com/DA4BAM/dataset/master/mobile_cust_churn.csv'\n",
    "data = pd.read_csv(path)\n",
    "data = data.sample(5000, random_state=2022)\n",
    "\n",
    "# sklearn에서는 'CHURN'을 가변수화 할 필요가 없다\n",
    "# statsmodels, tensorflow(keras)에서는 가변수화가 필요하다.\n",
    "# 전진선택법 함수에서 statsmodels.sm.Logit()을 사용했기 떄문에 가변수화를 진행\n",
    "data['CHURN'] = data['CHURN'].map({'LEAVE': 1, 'STAY': 0})\n",
    "data.head()"
   ],
   "execution_count": 2,
   "outputs": [
    {
     "data": {
      "text/plain": "          id  COLLEGE  INCOME  OVERAGE  LEFTOVER   HOUSE  HANDSET_PRICE  \\\n3178    3179        0  119512       51        31  248566            229   \n14926  14927        1  142144      192        15  774317            581   \n15116  15117        1  142308        0        79  306426            497   \n12733  12734        1  113385        0         0  333599            819   \n14032  14033        1   90348      209        10  637286            360   \n\n       OVER_15MINS_CALLS_PER_MONTH  AVERAGE_CALL_DURATION  \\\n3178                             5                      2   \n14926                           29                      4   \n15116                            1                      1   \n12733                            1                      6   \n14032                           26                      4   \n\n      REPORTED_SATISFACTION REPORTED_USAGE_LEVEL CONSIDERING_CHANGE_OF_PLAN  \\\n3178               very_sat            very_high                considering   \n14926                 unsat          very_little              never_thought   \n15116                   sat               little                considering   \n12733            very_unsat            very_high                considering   \n14032                 unsat               little   actively_looking_into_it   \n\n       CHURN  \n3178       1  \n14926      1  \n15116      0  \n12733      1  \n14032      0  ",
      "text/html": "<div>\n<style scoped>\n    .dataframe tbody tr th:only-of-type {\n        vertical-align: middle;\n    }\n\n    .dataframe tbody tr th {\n        vertical-align: top;\n    }\n\n    .dataframe thead th {\n        text-align: right;\n    }\n</style>\n<table border=\"1\" class=\"dataframe\">\n  <thead>\n    <tr style=\"text-align: right;\">\n      <th></th>\n      <th>id</th>\n      <th>COLLEGE</th>\n      <th>INCOME</th>\n      <th>OVERAGE</th>\n      <th>LEFTOVER</th>\n      <th>HOUSE</th>\n      <th>HANDSET_PRICE</th>\n      <th>OVER_15MINS_CALLS_PER_MONTH</th>\n      <th>AVERAGE_CALL_DURATION</th>\n      <th>REPORTED_SATISFACTION</th>\n      <th>REPORTED_USAGE_LEVEL</th>\n      <th>CONSIDERING_CHANGE_OF_PLAN</th>\n      <th>CHURN</th>\n    </tr>\n  </thead>\n  <tbody>\n    <tr>\n      <th>3178</th>\n      <td>3179</td>\n      <td>0</td>\n      <td>119512</td>\n      <td>51</td>\n      <td>31</td>\n      <td>248566</td>\n      <td>229</td>\n      <td>5</td>\n      <td>2</td>\n      <td>very_sat</td>\n      <td>very_high</td>\n      <td>considering</td>\n      <td>1</td>\n    </tr>\n    <tr>\n      <th>14926</th>\n      <td>14927</td>\n      <td>1</td>\n      <td>142144</td>\n      <td>192</td>\n      <td>15</td>\n      <td>774317</td>\n      <td>581</td>\n      <td>29</td>\n      <td>4</td>\n      <td>unsat</td>\n      <td>very_little</td>\n      <td>never_thought</td>\n      <td>1</td>\n    </tr>\n    <tr>\n      <th>15116</th>\n      <td>15117</td>\n      <td>1</td>\n      <td>142308</td>\n      <td>0</td>\n      <td>79</td>\n      <td>306426</td>\n      <td>497</td>\n      <td>1</td>\n      <td>1</td>\n      <td>sat</td>\n      <td>little</td>\n      <td>considering</td>\n      <td>0</td>\n    </tr>\n    <tr>\n      <th>12733</th>\n      <td>12734</td>\n      <td>1</td>\n      <td>113385</td>\n      <td>0</td>\n      <td>0</td>\n      <td>333599</td>\n      <td>819</td>\n      <td>1</td>\n      <td>6</td>\n      <td>very_unsat</td>\n      <td>very_high</td>\n      <td>considering</td>\n      <td>1</td>\n    </tr>\n    <tr>\n      <th>14032</th>\n      <td>14033</td>\n      <td>1</td>\n      <td>90348</td>\n      <td>209</td>\n      <td>10</td>\n      <td>637286</td>\n      <td>360</td>\n      <td>26</td>\n      <td>4</td>\n      <td>unsat</td>\n      <td>little</td>\n      <td>actively_looking_into_it</td>\n      <td>0</td>\n    </tr>\n  </tbody>\n</table>\n</div>"
     },
     "execution_count": 2,
     "metadata": {},
     "output_type": "execute_result"
    }
   ]
  },
  {
   "cell_type": "markdown",
   "metadata": {
    "id": "wW0d0eGmCYJM",
    "pycharm": {
     "name": "#%% md\n"
    }
   },
   "source": [
    "## 2.데이터 준비"
   ]
  },
  {
   "cell_type": "markdown",
   "metadata": {
    "id": "y9Q6jR6OZjUk",
    "pycharm": {
     "name": "#%% md\n"
    }
   },
   "source": [
    "### (1) 데이터 정리"
   ]
  },
  {
   "cell_type": "code",
   "source": [
    "drop_cols = ['id']\n",
    "data.drop(drop_cols, axis=1, inplace=True)"
   ],
   "metadata": {
    "id": "Dhi6-3jgrEgQ",
    "pycharm": {
     "name": "#%%\n"
    }
   },
   "execution_count": 3,
   "outputs": []
  },
  {
   "cell_type": "markdown",
   "metadata": {
    "id": "WpJEGpUuuVWm",
    "pycharm": {
     "name": "#%% md\n"
    }
   },
   "source": [
    "### (2) 데이터분할1 : x, y 나누기"
   ]
  },
  {
   "cell_type": "code",
   "metadata": {
    "id": "3u8-Ovu4ADVn",
    "pycharm": {
     "name": "#%%\n"
    }
   },
   "source": [
    "target = 'CHURN'\n",
    "x = data.drop(target, axis=1)\n",
    "y = data.loc[:, target]"
   ],
   "execution_count": 4,
   "outputs": []
  },
  {
   "cell_type": "markdown",
   "metadata": {
    "id": "mp_5volyuaA1",
    "pycharm": {
     "name": "#%% md\n"
    }
   },
   "source": [
    "### (3) NA 조치"
   ]
  },
  {
   "cell_type": "markdown",
   "metadata": {
    "id": "nOF9fSLQugGf",
    "pycharm": {
     "name": "#%% md\n"
    }
   },
   "source": [
    "### (4) 가변수화"
   ]
  },
  {
   "cell_type": "code",
   "source": [
    "dumm_cols = ['REPORTED_SATISFACTION', 'REPORTED_USAGE_LEVEL', 'CONSIDERING_CHANGE_OF_PLAN']\n",
    "x = pd.get_dummies(x, columns=dumm_cols, drop_first=True)"
   ],
   "metadata": {
    "id": "CZgBC2QSoKc8",
    "pycharm": {
     "name": "#%%\n"
    }
   },
   "execution_count": 5,
   "outputs": []
  },
  {
   "cell_type": "markdown",
   "source": [
    "### (5) 데이터분할2 : train : validation 나누기"
   ],
   "metadata": {
    "id": "VBwpOKgkf5Am",
    "pycharm": {
     "name": "#%% md\n"
    }
   }
  },
  {
   "cell_type": "code",
   "source": [
    "x_train, x_val, y_train, y_val = train_test_split(x, y, test_size=.3, random_state=20)"
   ],
   "metadata": {
    "id": "1iHmTnHCgBw5",
    "pycharm": {
     "name": "#%%\n"
    }
   },
   "execution_count": 6,
   "outputs": []
  },
  {
   "cell_type": "markdown",
   "metadata": {
    "id": "59bBv0a8heYh",
    "pycharm": {
     "name": "#%% md\n"
    }
   },
   "source": [
    "### (6) Scaling"
   ]
  },
  {
   "cell_type": "code",
   "source": [
    "scaler = MinMaxScaler()\n",
    "x_train_s = scaler.fit_transform(x_train)\n",
    "x_val_s = scaler.transform(x_val)"
   ],
   "metadata": {
    "id": "vA28buJg9GpV",
    "pycharm": {
     "name": "#%%\n"
    }
   },
   "execution_count": 7,
   "outputs": []
  },
  {
   "cell_type": "markdown",
   "metadata": {
    "id": "Db2kkXxgf25E",
    "pycharm": {
     "name": "#%% md\n"
    }
   },
   "source": [
    "## 3.선형모델 튜닝\n",
    "\n",
    "Logistic Regression : 전진선택법\n",
    "* 변수를 하나씩 늘려가면서\n",
    "* AIC를 가장 낮추는 모델 찾기"
   ]
  },
  {
   "cell_type": "markdown",
   "source": [
    "### (1) 전진선택을 수행할 함수 만들기( **로지스틱 회귀** 용)"
   ],
   "metadata": {
    "id": "IUfTRB1AZnKM",
    "pycharm": {
     "name": "#%% md\n"
    }
   }
  },
  {
   "cell_type": "code",
   "source": [
    "# 아래 함수는 로지스틱 회귀를 위한 전진선택법 함수 입니다.\n",
    "import statsmodels.api as sm\n",
    "\n",
    "\n",
    "def forward_stepwise_logistic(x_train, y_train):\n",
    "    # 변수목록, 선택된 변수 목록, 단계별 모델과 AIC 저장소 정의\n",
    "    features = list(x_train)\n",
    "    selected = []\n",
    "    step_df = pd.DataFrame({'step': [], 'feature': [], 'aic': []})\n",
    "\n",
    "    # \n",
    "    for s in range(0, len(features)):\n",
    "        result = {'step': [], 'feature': [], 'aic': []}\n",
    "\n",
    "        # 변수 목록에서 변수 한개씩 뽑아서 모델에 추가\n",
    "        for f in features:\n",
    "            vars = selected + [f]\n",
    "            x_tr = x_train[vars]\n",
    "            model = sm.Logit(y_train, x_tr).fit()\n",
    "            result['step'].append(s + 1)\n",
    "            result['feature'].append(vars)\n",
    "            result['aic'].append(model.aic)\n",
    "\n",
    "        # 모델별 aic 집계\n",
    "        temp = pd.DataFrame(result).sort_values('aic').reset_index(drop=True)\n",
    "\n",
    "        # 만약 이전 aic보다 새로운 aic 가 크다면 멈추기\n",
    "        if step_df['aic'].min() < temp['aic'].min():\n",
    "            break\n",
    "        step_df = pd.concat([step_df, temp], axis=0).reset_index(drop=True)\n",
    "\n",
    "        # 선택된 변수 제거\n",
    "        v = temp.loc[0, 'feature'][s]\n",
    "        features.remove(v)\n",
    "\n",
    "        selected.append(v)\n",
    "\n",
    "    # 선택된 변수와 step_df 결과 반환\n",
    "    return selected, step_df"
   ],
   "metadata": {
    "id": "JtuIPRybXPKE",
    "pycharm": {
     "name": "#%%\n"
    }
   },
   "execution_count": 8,
   "outputs": []
  },
  {
   "cell_type": "markdown",
   "source": [
    "### (2) 전진선택법 수행"
   ],
   "metadata": {
    "id": "vp6_CDIvaJ8I",
    "pycharm": {
     "name": "#%% md\n"
    }
   }
  },
  {
   "cell_type": "code",
   "metadata": {
    "id": "X2_UhsQ0f25E",
    "pycharm": {
     "name": "#%%\n"
    }
   },
   "source": [
    "vars, result = forward_stepwise_logistic(x_train, y_train)"
   ],
   "execution_count": 9,
   "outputs": [
    {
     "name": "stdout",
     "output_type": "stream",
     "text": [
      "Optimization terminated successfully.\n",
      "         Current function value: 0.693075\n",
      "         Iterations 3\n",
      "Optimization terminated successfully.\n",
      "         Current function value: 0.693062\n",
      "         Iterations 2\n",
      "Optimization terminated successfully.\n",
      "         Current function value: 0.683528\n",
      "         Iterations 4\n",
      "Optimization terminated successfully.\n",
      "         Current function value: 0.693007\n",
      "         Iterations 3\n",
      "Optimization terminated successfully.\n",
      "         Current function value: 0.684909\n",
      "         Iterations 2\n",
      "Optimization terminated successfully.\n",
      "         Current function value: 0.693042\n",
      "         Iterations 2\n",
      "Optimization terminated successfully.\n",
      "         Current function value: 0.686899\n",
      "         Iterations 4\n",
      "Optimization terminated successfully.\n",
      "         Current function value: 0.692565\n",
      "         Iterations 3\n",
      "Optimization terminated successfully.\n",
      "         Current function value: 0.692806\n",
      "         Iterations 4\n",
      "Optimization terminated successfully.\n",
      "         Current function value: 0.693137\n",
      "         Iterations 3\n",
      "Optimization terminated successfully.\n",
      "         Current function value: 0.691866\n",
      "         Iterations 4\n",
      "Optimization terminated successfully.\n",
      "         Current function value: 0.693146\n",
      "         Iterations 2\n",
      "Optimization terminated successfully.\n",
      "         Current function value: 0.693147\n",
      "         Iterations 1\n",
      "Optimization terminated successfully.\n",
      "         Current function value: 0.693015\n",
      "         Iterations 3\n",
      "Optimization terminated successfully.\n",
      "         Current function value: 0.692965\n",
      "         Iterations 3\n",
      "Optimization terminated successfully.\n",
      "         Current function value: 0.692882\n",
      "         Iterations 3\n",
      "Optimization terminated successfully.\n",
      "         Current function value: 0.692579\n",
      "         Iterations 3\n",
      "Optimization terminated successfully.\n",
      "         Current function value: 0.693046\n",
      "         Iterations 3\n",
      "Optimization terminated successfully.\n",
      "         Current function value: 0.693080\n",
      "         Iterations 3\n",
      "Optimization terminated successfully.\n",
      "         Current function value: 0.693058\n",
      "         Iterations 3\n",
      "Optimization terminated successfully.\n",
      "         Current function value: 0.679039\n",
      "         Iterations 4\n",
      "Optimization terminated successfully.\n",
      "         Current function value: 0.679064\n",
      "         Iterations 4\n",
      "Optimization terminated successfully.\n",
      "         Current function value: 0.682035\n",
      "         Iterations 4\n",
      "Optimization terminated successfully.\n",
      "         Current function value: 0.643056\n",
      "         Iterations 4\n",
      "Optimization terminated successfully.\n",
      "         Current function value: 0.679443\n",
      "         Iterations 4\n",
      "Optimization terminated successfully.\n",
      "         Current function value: 0.683317\n",
      "         Iterations 4\n",
      "Optimization terminated successfully.\n",
      "         Current function value: 0.674460\n",
      "         Iterations 4\n",
      "Optimization terminated successfully.\n",
      "         Current function value: 0.682313\n",
      "         Iterations 4\n",
      "Optimization terminated successfully.\n",
      "         Current function value: 0.682292\n",
      "         Iterations 4\n",
      "Optimization terminated successfully.\n",
      "         Current function value: 0.678103\n",
      "         Iterations 4\n",
      "Optimization terminated successfully.\n",
      "         Current function value: 0.680840\n",
      "         Iterations 4\n",
      "Optimization terminated successfully.\n",
      "         Current function value: 0.683068\n",
      "         Iterations 4\n",
      "Optimization terminated successfully.\n",
      "         Current function value: 0.679251\n",
      "         Iterations 4\n",
      "Optimization terminated successfully.\n",
      "         Current function value: 0.680933\n",
      "         Iterations 4\n",
      "Optimization terminated successfully.\n",
      "         Current function value: 0.681200\n",
      "         Iterations 4\n",
      "Optimization terminated successfully.\n",
      "         Current function value: 0.677933\n",
      "         Iterations 4\n",
      "Optimization terminated successfully.\n",
      "         Current function value: 0.682371\n",
      "         Iterations 4\n",
      "Optimization terminated successfully.\n",
      "         Current function value: 0.682062\n",
      "         Iterations 4\n",
      "Optimization terminated successfully.\n",
      "         Current function value: 0.682863\n",
      "         Iterations 4\n",
      "Optimization terminated successfully.\n",
      "         Current function value: 0.642039\n",
      "         Iterations 5\n",
      "Optimization terminated successfully.\n",
      "         Current function value: 0.635596\n",
      "         Iterations 4\n",
      "Optimization terminated successfully.\n",
      "         Current function value: 0.639711\n",
      "         Iterations 4\n",
      "Optimization terminated successfully.\n",
      "         Current function value: 0.635522\n",
      "         Iterations 4\n",
      "Optimization terminated successfully.\n",
      "         Current function value: 0.642894\n",
      "         Iterations 4\n",
      "Optimization terminated successfully.\n",
      "         Current function value: 0.642569\n",
      "         Iterations 5\n",
      "Optimization terminated successfully.\n",
      "         Current function value: 0.642966\n",
      "         Iterations 5\n",
      "Optimization terminated successfully.\n",
      "         Current function value: 0.642830\n",
      "         Iterations 5\n",
      "Optimization terminated successfully.\n",
      "         Current function value: 0.642966\n",
      "         Iterations 5\n",
      "Optimization terminated successfully.\n",
      "         Current function value: 0.641766\n",
      "         Iterations 5\n",
      "Optimization terminated successfully.\n",
      "         Current function value: 0.642866\n",
      "         Iterations 5\n",
      "Optimization terminated successfully.\n",
      "         Current function value: 0.642929\n",
      "         Iterations 5\n",
      "Optimization terminated successfully.\n",
      "         Current function value: 0.642750\n",
      "         Iterations 5\n",
      "Optimization terminated successfully.\n",
      "         Current function value: 0.642940\n",
      "         Iterations 5\n",
      "Optimization terminated successfully.\n",
      "         Current function value: 0.643014\n",
      "         Iterations 5\n",
      "Optimization terminated successfully.\n",
      "         Current function value: 0.643051\n",
      "         Iterations 5\n",
      "Optimization terminated successfully.\n",
      "         Current function value: 0.642672\n",
      "         Iterations 5\n",
      "Optimization terminated successfully.\n",
      "         Current function value: 0.643053\n",
      "         Iterations 5\n",
      "Optimization terminated successfully.\n",
      "         Current function value: 0.635399\n",
      "         Iterations 5\n",
      "Optimization terminated successfully.\n",
      "         Current function value: 0.634914\n",
      "         Iterations 4\n",
      "Optimization terminated successfully.\n",
      "         Current function value: 0.633893\n",
      "         Iterations 5\n",
      "Optimization terminated successfully.\n",
      "         Current function value: 0.635419\n",
      "         Iterations 4\n",
      "Optimization terminated successfully.\n",
      "         Current function value: 0.635464\n",
      "         Iterations 4\n",
      "Optimization terminated successfully.\n",
      "         Current function value: 0.635187\n",
      "         Iterations 5\n",
      "Optimization terminated successfully.\n",
      "         Current function value: 0.635504\n",
      "         Iterations 5\n",
      "Optimization terminated successfully.\n",
      "         Current function value: 0.634933\n",
      "         Iterations 5\n",
      "Optimization terminated successfully.\n",
      "         Current function value: 0.635116\n",
      "         Iterations 5\n",
      "Optimization terminated successfully.\n",
      "         Current function value: 0.635470\n",
      "         Iterations 4\n",
      "Optimization terminated successfully.\n",
      "         Current function value: 0.635439\n",
      "         Iterations 5\n",
      "Optimization terminated successfully.\n",
      "         Current function value: 0.635494\n",
      "         Iterations 5\n",
      "Optimization terminated successfully.\n",
      "         Current function value: 0.635521\n",
      "         Iterations 5\n",
      "Optimization terminated successfully.\n",
      "         Current function value: 0.635391\n",
      "         Iterations 5\n",
      "Optimization terminated successfully.\n",
      "         Current function value: 0.635503\n",
      "         Iterations 5\n",
      "Optimization terminated successfully.\n",
      "         Current function value: 0.635451\n",
      "         Iterations 5\n",
      "Optimization terminated successfully.\n",
      "         Current function value: 0.635483\n",
      "         Iterations 5\n",
      "Optimization terminated successfully.\n",
      "         Current function value: 0.633842\n",
      "         Iterations 5\n",
      "Optimization terminated successfully.\n",
      "         Current function value: 0.633406\n",
      "         Iterations 5\n",
      "Optimization terminated successfully.\n",
      "         Current function value: 0.633794\n",
      "         Iterations 5\n",
      "Optimization terminated successfully.\n",
      "         Current function value: 0.633753\n",
      "         Iterations 5\n",
      "Optimization terminated successfully.\n",
      "         Current function value: 0.633538\n",
      "         Iterations 5\n",
      "Optimization terminated successfully.\n",
      "         Current function value: 0.633890\n",
      "         Iterations 5\n",
      "Optimization terminated successfully.\n",
      "         Current function value: 0.633194\n",
      "         Iterations 5\n",
      "Optimization terminated successfully.\n",
      "         Current function value: 0.633579\n",
      "         Iterations 5\n",
      "Optimization terminated successfully.\n",
      "         Current function value: 0.633861\n",
      "         Iterations 5\n",
      "Optimization terminated successfully.\n",
      "         Current function value: 0.633765\n",
      "         Iterations 5\n",
      "Optimization terminated successfully.\n",
      "         Current function value: 0.633884\n",
      "         Iterations 5\n",
      "Optimization terminated successfully.\n",
      "         Current function value: 0.633888\n",
      "         Iterations 5\n",
      "Optimization terminated successfully.\n",
      "         Current function value: 0.633674\n",
      "         Iterations 5\n",
      "Optimization terminated successfully.\n",
      "         Current function value: 0.633874\n",
      "         Iterations 5\n",
      "Optimization terminated successfully.\n",
      "         Current function value: 0.633866\n",
      "         Iterations 5\n",
      "Optimization terminated successfully.\n",
      "         Current function value: 0.633847\n",
      "         Iterations 5\n",
      "Optimization terminated successfully.\n",
      "         Current function value: 0.633112\n",
      "         Iterations 5\n",
      "Optimization terminated successfully.\n",
      "         Current function value: 0.632641\n",
      "         Iterations 5\n",
      "Optimization terminated successfully.\n",
      "         Current function value: 0.633102\n",
      "         Iterations 5\n",
      "Optimization terminated successfully.\n",
      "         Current function value: 0.632954\n",
      "         Iterations 5\n",
      "Optimization terminated successfully.\n",
      "         Current function value: 0.632697\n",
      "         Iterations 5\n",
      "Optimization terminated successfully.\n",
      "         Current function value: 0.633174\n",
      "         Iterations 5\n",
      "Optimization terminated successfully.\n",
      "         Current function value: 0.633137\n",
      "         Iterations 5\n",
      "Optimization terminated successfully.\n",
      "         Current function value: 0.633162\n",
      "         Iterations 5\n",
      "Optimization terminated successfully.\n",
      "         Current function value: 0.633092\n",
      "         Iterations 5\n",
      "Optimization terminated successfully.\n",
      "         Current function value: 0.633175\n",
      "         Iterations 5\n",
      "Optimization terminated successfully.\n",
      "         Current function value: 0.633193\n",
      "         Iterations 5\n",
      "Optimization terminated successfully.\n",
      "         Current function value: 0.633016\n",
      "         Iterations 5\n",
      "Optimization terminated successfully.\n",
      "         Current function value: 0.633178\n",
      "         Iterations 5\n",
      "Optimization terminated successfully.\n",
      "         Current function value: 0.633151\n",
      "         Iterations 5\n",
      "Optimization terminated successfully.\n",
      "         Current function value: 0.633158\n",
      "         Iterations 5\n",
      "Optimization terminated successfully.\n",
      "         Current function value: 0.632593\n",
      "         Iterations 5\n",
      "Optimization terminated successfully.\n",
      "         Current function value: 0.632566\n",
      "         Iterations 5\n",
      "Optimization terminated successfully.\n",
      "         Current function value: 0.632521\n",
      "         Iterations 5\n",
      "Optimization terminated successfully.\n",
      "         Current function value: 0.632098\n",
      "         Iterations 5\n",
      "Optimization terminated successfully.\n",
      "         Current function value: 0.632599\n",
      "         Iterations 5\n",
      "Optimization terminated successfully.\n",
      "         Current function value: 0.632616\n",
      "         Iterations 5\n",
      "Optimization terminated successfully.\n",
      "         Current function value: 0.632617\n",
      "         Iterations 5\n",
      "Optimization terminated successfully.\n",
      "         Current function value: 0.632520\n",
      "         Iterations 5\n",
      "Optimization terminated successfully.\n",
      "         Current function value: 0.632636\n",
      "         Iterations 5\n",
      "Optimization terminated successfully.\n",
      "         Current function value: 0.632635\n",
      "         Iterations 5\n",
      "Optimization terminated successfully.\n",
      "         Current function value: 0.632427\n",
      "         Iterations 5\n",
      "Optimization terminated successfully.\n",
      "         Current function value: 0.632616\n",
      "         Iterations 5\n",
      "Optimization terminated successfully.\n",
      "         Current function value: 0.632613\n",
      "         Iterations 5\n",
      "Optimization terminated successfully.\n",
      "         Current function value: 0.632591\n",
      "         Iterations 5\n",
      "Optimization terminated successfully.\n",
      "         Current function value: 0.632043\n",
      "         Iterations 5\n",
      "Optimization terminated successfully.\n",
      "         Current function value: 0.632027\n",
      "         Iterations 5\n",
      "Optimization terminated successfully.\n",
      "         Current function value: 0.631949\n",
      "         Iterations 5\n",
      "Optimization terminated successfully.\n",
      "         Current function value: 0.632002\n",
      "         Iterations 5\n",
      "Optimization terminated successfully.\n",
      "         Current function value: 0.632098\n",
      "         Iterations 5\n",
      "Optimization terminated successfully.\n",
      "         Current function value: 0.632072\n",
      "         Iterations 5\n",
      "Optimization terminated successfully.\n",
      "         Current function value: 0.631997\n",
      "         Iterations 5\n",
      "Optimization terminated successfully.\n",
      "         Current function value: 0.632093\n",
      "         Iterations 5\n",
      "Optimization terminated successfully.\n",
      "         Current function value: 0.632092\n",
      "         Iterations 5\n",
      "Optimization terminated successfully.\n",
      "         Current function value: 0.631906\n",
      "         Iterations 5\n",
      "Optimization terminated successfully.\n",
      "         Current function value: 0.632075\n",
      "         Iterations 5\n",
      "Optimization terminated successfully.\n",
      "         Current function value: 0.632062\n",
      "         Iterations 5\n",
      "Optimization terminated successfully.\n",
      "         Current function value: 0.632051\n",
      "         Iterations 5\n"
     ]
    }
   ]
  },
  {
   "cell_type": "markdown",
   "source": [
    "* 선택된 변수"
   ],
   "metadata": {
    "id": "b8831TsJaHFq",
    "pycharm": {
     "name": "#%% md\n"
    }
   }
  },
  {
   "cell_type": "code",
   "source": [
    "vars"
   ],
   "metadata": {
    "id": "ReDkDZMmaB8l",
    "pycharm": {
     "name": "#%%\n"
    }
   },
   "execution_count": 10,
   "outputs": [
    {
     "data": {
      "text/plain": "['OVERAGE',\n 'HOUSE',\n 'HANDSET_PRICE',\n 'LEFTOVER',\n 'REPORTED_SATISFACTION_very_sat',\n 'INCOME',\n 'REPORTED_SATISFACTION_sat']"
     },
     "execution_count": 10,
     "metadata": {},
     "output_type": "execute_result"
    }
   ]
  },
  {
   "cell_type": "code",
   "execution_count": 11,
   "outputs": [
    {
     "data": {
      "text/plain": "     step                                            feature          aic\n0     1.0                                          [OVERAGE]  4786.699456\n1     1.0                                            [HOUSE]  4796.363859\n2     1.0                      [OVER_15MINS_CALLS_PER_MONTH]  4810.294604\n3     1.0                   [REPORTED_SATISFACTION_very_sat]  4845.064834\n4     1.0                            [AVERAGE_CALL_DURATION]  4849.951663\n..    ...                                                ...          ...\n114   7.0  [OVERAGE, HOUSE, HANDSET_PRICE, LEFTOVER, REPO...  4442.309949\n115   7.0  [OVERAGE, HOUSE, HANDSET_PRICE, LEFTOVER, REPO...  4442.315315\n116   7.0  [OVERAGE, HOUSE, HANDSET_PRICE, LEFTOVER, REPO...  4442.316816\n117   7.0  [OVERAGE, HOUSE, HANDSET_PRICE, LEFTOVER, REPO...  4442.448187\n118   7.0  [OVERAGE, HOUSE, HANDSET_PRICE, LEFTOVER, REPO...  4442.451017\n\n[119 rows x 3 columns]",
      "text/html": "<div>\n<style scoped>\n    .dataframe tbody tr th:only-of-type {\n        vertical-align: middle;\n    }\n\n    .dataframe tbody tr th {\n        vertical-align: top;\n    }\n\n    .dataframe thead th {\n        text-align: right;\n    }\n</style>\n<table border=\"1\" class=\"dataframe\">\n  <thead>\n    <tr style=\"text-align: right;\">\n      <th></th>\n      <th>step</th>\n      <th>feature</th>\n      <th>aic</th>\n    </tr>\n  </thead>\n  <tbody>\n    <tr>\n      <th>0</th>\n      <td>1.0</td>\n      <td>[OVERAGE]</td>\n      <td>4786.699456</td>\n    </tr>\n    <tr>\n      <th>1</th>\n      <td>1.0</td>\n      <td>[HOUSE]</td>\n      <td>4796.363859</td>\n    </tr>\n    <tr>\n      <th>2</th>\n      <td>1.0</td>\n      <td>[OVER_15MINS_CALLS_PER_MONTH]</td>\n      <td>4810.294604</td>\n    </tr>\n    <tr>\n      <th>3</th>\n      <td>1.0</td>\n      <td>[REPORTED_SATISFACTION_very_sat]</td>\n      <td>4845.064834</td>\n    </tr>\n    <tr>\n      <th>4</th>\n      <td>1.0</td>\n      <td>[AVERAGE_CALL_DURATION]</td>\n      <td>4849.951663</td>\n    </tr>\n    <tr>\n      <th>...</th>\n      <td>...</td>\n      <td>...</td>\n      <td>...</td>\n    </tr>\n    <tr>\n      <th>114</th>\n      <td>7.0</td>\n      <td>[OVERAGE, HOUSE, HANDSET_PRICE, LEFTOVER, REPO...</td>\n      <td>4442.309949</td>\n    </tr>\n    <tr>\n      <th>115</th>\n      <td>7.0</td>\n      <td>[OVERAGE, HOUSE, HANDSET_PRICE, LEFTOVER, REPO...</td>\n      <td>4442.315315</td>\n    </tr>\n    <tr>\n      <th>116</th>\n      <td>7.0</td>\n      <td>[OVERAGE, HOUSE, HANDSET_PRICE, LEFTOVER, REPO...</td>\n      <td>4442.316816</td>\n    </tr>\n    <tr>\n      <th>117</th>\n      <td>7.0</td>\n      <td>[OVERAGE, HOUSE, HANDSET_PRICE, LEFTOVER, REPO...</td>\n      <td>4442.448187</td>\n    </tr>\n    <tr>\n      <th>118</th>\n      <td>7.0</td>\n      <td>[OVERAGE, HOUSE, HANDSET_PRICE, LEFTOVER, REPO...</td>\n      <td>4442.451017</td>\n    </tr>\n  </tbody>\n</table>\n<p>119 rows × 3 columns</p>\n</div>"
     },
     "execution_count": 11,
     "metadata": {},
     "output_type": "execute_result"
    }
   ],
   "source": [
    "result"
   ],
   "metadata": {
    "collapsed": false,
    "pycharm": {
     "name": "#%%\n"
    }
   }
  },
  {
   "cell_type": "code",
   "source": [
    "pd.set_option('display.width', None)\n",
    "pd.set_option('display.max_colwidth', -1)"
   ],
   "metadata": {
    "id": "cOmUN6lwcgPS",
    "pycharm": {
     "name": "#%%\n"
    }
   },
   "execution_count": 12,
   "outputs": []
  },
  {
   "cell_type": "markdown",
   "source": [
    "### (3) 모델링"
   ],
   "metadata": {
    "id": "F4Z39MGUaZtQ",
    "pycharm": {
     "name": "#%% md\n"
    }
   }
  },
  {
   "cell_type": "markdown",
   "source": [
    "* 전체 변수 "
   ],
   "metadata": {
    "id": "mB26yCqEabkL",
    "pycharm": {
     "name": "#%% md\n"
    }
   }
  },
  {
   "cell_type": "code",
   "source": [
    "m1 = LogisticRegression()\n",
    "m1.fit(x_train, y_train)\n",
    "p1 = m1.predict(x_val)\n",
    "\n",
    "print(accuracy_score(y_val, p1))\n",
    "print(classification_report(y_val, p1))"
   ],
   "metadata": {
    "id": "zqk4Me37aesP",
    "pycharm": {
     "name": "#%%\n"
    }
   },
   "execution_count": 13,
   "outputs": [
    {
     "name": "stdout",
     "output_type": "stream",
     "text": [
      "0.6333333333333333\n",
      "              precision    recall  f1-score   support\n",
      "\n",
      "           0       0.62      0.68      0.65       738\n",
      "           1       0.65      0.59      0.62       762\n",
      "\n",
      "    accuracy                           0.63      1500\n",
      "   macro avg       0.63      0.63      0.63      1500\n",
      "weighted avg       0.64      0.63      0.63      1500\n",
      "\n"
     ]
    }
   ]
  },
  {
   "cell_type": "markdown",
   "source": [
    "* 전진선택법 변수"
   ],
   "metadata": {
    "id": "m_1EE72zatBw",
    "pycharm": {
     "name": "#%% md\n"
    }
   }
  },
  {
   "cell_type": "code",
   "source": [
    "m2 = LogisticRegression()\n",
    "m2.fit(x_train[vars], y_train)\n",
    "p2 = m2.predict(x_val[vars])\n",
    "\n",
    "print(accuracy_score(y_val, p2))\n",
    "print(classification_report(y_val, p2))"
   ],
   "metadata": {
    "id": "0rKoLRi1atBx",
    "pycharm": {
     "name": "#%%\n"
    }
   },
   "execution_count": 14,
   "outputs": [
    {
     "name": "stdout",
     "output_type": "stream",
     "text": [
      "0.634\n",
      "              precision    recall  f1-score   support\n",
      "\n",
      "           0       0.62      0.68      0.65       738\n",
      "           1       0.66      0.59      0.62       762\n",
      "\n",
      "    accuracy                           0.63      1500\n",
      "   macro avg       0.64      0.63      0.63      1500\n",
      "weighted avg       0.64      0.63      0.63      1500\n",
      "\n"
     ]
    }
   ]
  },
  {
   "cell_type": "markdown",
   "source": [
    "## 4.하이퍼파라미터 튜닝"
   ],
   "metadata": {
    "id": "fFre1mi8dhcK",
    "pycharm": {
     "name": "#%% md\n"
    }
   }
  },
  {
   "cell_type": "markdown",
   "source": [
    "### (1) 필요한 함수 불러오기 "
   ],
   "metadata": {
    "id": "lqqbcYcleEa7",
    "pycharm": {
     "name": "#%% md\n"
    }
   }
  },
  {
   "cell_type": "code",
   "source": [
    "from sklearn.model_selection import RandomizedSearchCV, GridSearchCV"
   ],
   "metadata": {
    "id": "b4VHDaqBeGa7",
    "pycharm": {
     "name": "#%%\n"
    }
   },
   "execution_count": 15,
   "outputs": []
  },
  {
   "cell_type": "markdown",
   "source": [
    "### (2) Random Search\n",
    "\n",
    "① 값의 범위를 지정한다.  \n",
    "② 모델 선언(시도 횟수 지정)  \n",
    "③ 모델링(값의 범위 내에서 시도 횟수만큼 랜덤하게 선택해서 시도한다.)  \n",
    "④ 가장 성능이 좋은 값을 선정\n"
   ],
   "metadata": {
    "id": "4QhAEJoKeUph",
    "pycharm": {
     "name": "#%% md\n"
    }
   }
  },
  {
   "cell_type": "markdown",
   "source": [
    "#### ① 값의 범위를 지정한다."
   ],
   "metadata": {
    "id": "0QV5WwTsefwR",
    "pycharm": {
     "name": "#%% md\n"
    }
   }
  },
  {
   "cell_type": "code",
   "metadata": {
    "id": "uw_0xzoRqSWa",
    "pycharm": {
     "name": "#%%\n"
    }
   },
   "source": [
    "# dictionary형태로 선언\n",
    "params = {'n_neighbors': range(1, 51), 'metric': ['euclidean', 'manhattan']}\n",
    "params"
   ],
   "execution_count": 16,
   "outputs": [
    {
     "data": {
      "text/plain": "{'n_neighbors': range(1, 51), 'metric': ['euclidean', 'manhattan']}"
     },
     "execution_count": 16,
     "metadata": {},
     "output_type": "execute_result"
    }
   ]
  },
  {
   "cell_type": "markdown",
   "source": [
    "#### ② 모델 선언"
   ],
   "metadata": {
    "id": "smGb7riKe7Fj",
    "pycharm": {
     "name": "#%% md\n"
    }
   }
  },
  {
   "cell_type": "code",
   "metadata": {
    "id": "aycGcFmIq2aq",
    "pycharm": {
     "name": "#%%\n"
    }
   },
   "source": [
    "# 기본모델\n",
    "model = KNeighborsClassifier()\n",
    "\n",
    "# Random Search 설정.\n",
    "model_rs = RandomizedSearchCV(model\n",
    "                              , params  # hyperparameter 범위 지정.\n",
    "                              , cv=5  # k-fold Cross Validation\n",
    "                              , n_iter=5  # Random하게 시도할 횟수\n",
    "                              )"
   ],
   "execution_count": 17,
   "outputs": []
  },
  {
   "cell_type": "markdown",
   "source": [
    "#### ③ 모델링"
   ],
   "metadata": {
    "id": "o7YpDODPfW-Y",
    "pycharm": {
     "name": "#%% md\n"
    }
   }
  },
  {
   "cell_type": "code",
   "metadata": {
    "id": "LzX7OxZnoatr",
    "pycharm": {
     "name": "#%%\n"
    }
   },
   "source": [
    "# 학습 : model이 아니라 model_rs\n",
    "model_rs.fit(x_train_s, y_train)"
   ],
   "execution_count": 18,
   "outputs": [
    {
     "data": {
      "text/plain": "RandomizedSearchCV(cv=5, estimator=KNeighborsClassifier(), n_iter=5,\n                   param_distributions={'metric': ['euclidean', 'manhattan'],\n                                        'n_neighbors': range(1, 51)})",
      "text/html": "<style>#sk-container-id-1 {color: black;background-color: white;}#sk-container-id-1 pre{padding: 0;}#sk-container-id-1 div.sk-toggleable {background-color: white;}#sk-container-id-1 label.sk-toggleable__label {cursor: pointer;display: block;width: 100%;margin-bottom: 0;padding: 0.3em;box-sizing: border-box;text-align: center;}#sk-container-id-1 label.sk-toggleable__label-arrow:before {content: \"▸\";float: left;margin-right: 0.25em;color: #696969;}#sk-container-id-1 label.sk-toggleable__label-arrow:hover:before {color: black;}#sk-container-id-1 div.sk-estimator:hover label.sk-toggleable__label-arrow:before {color: black;}#sk-container-id-1 div.sk-toggleable__content {max-height: 0;max-width: 0;overflow: hidden;text-align: left;background-color: #f0f8ff;}#sk-container-id-1 div.sk-toggleable__content pre {margin: 0.2em;color: black;border-radius: 0.25em;background-color: #f0f8ff;}#sk-container-id-1 input.sk-toggleable__control:checked~div.sk-toggleable__content {max-height: 200px;max-width: 100%;overflow: auto;}#sk-container-id-1 input.sk-toggleable__control:checked~label.sk-toggleable__label-arrow:before {content: \"▾\";}#sk-container-id-1 div.sk-estimator input.sk-toggleable__control:checked~label.sk-toggleable__label {background-color: #d4ebff;}#sk-container-id-1 div.sk-label input.sk-toggleable__control:checked~label.sk-toggleable__label {background-color: #d4ebff;}#sk-container-id-1 input.sk-hidden--visually {border: 0;clip: rect(1px 1px 1px 1px);clip: rect(1px, 1px, 1px, 1px);height: 1px;margin: -1px;overflow: hidden;padding: 0;position: absolute;width: 1px;}#sk-container-id-1 div.sk-estimator {font-family: monospace;background-color: #f0f8ff;border: 1px dotted black;border-radius: 0.25em;box-sizing: border-box;margin-bottom: 0.5em;}#sk-container-id-1 div.sk-estimator:hover {background-color: #d4ebff;}#sk-container-id-1 div.sk-parallel-item::after {content: \"\";width: 100%;border-bottom: 1px solid gray;flex-grow: 1;}#sk-container-id-1 div.sk-label:hover label.sk-toggleable__label {background-color: #d4ebff;}#sk-container-id-1 div.sk-serial::before {content: \"\";position: absolute;border-left: 1px solid gray;box-sizing: border-box;top: 0;bottom: 0;left: 50%;z-index: 0;}#sk-container-id-1 div.sk-serial {display: flex;flex-direction: column;align-items: center;background-color: white;padding-right: 0.2em;padding-left: 0.2em;position: relative;}#sk-container-id-1 div.sk-item {position: relative;z-index: 1;}#sk-container-id-1 div.sk-parallel {display: flex;align-items: stretch;justify-content: center;background-color: white;position: relative;}#sk-container-id-1 div.sk-item::before, #sk-container-id-1 div.sk-parallel-item::before {content: \"\";position: absolute;border-left: 1px solid gray;box-sizing: border-box;top: 0;bottom: 0;left: 50%;z-index: -1;}#sk-container-id-1 div.sk-parallel-item {display: flex;flex-direction: column;z-index: 1;position: relative;background-color: white;}#sk-container-id-1 div.sk-parallel-item:first-child::after {align-self: flex-end;width: 50%;}#sk-container-id-1 div.sk-parallel-item:last-child::after {align-self: flex-start;width: 50%;}#sk-container-id-1 div.sk-parallel-item:only-child::after {width: 0;}#sk-container-id-1 div.sk-dashed-wrapped {border: 1px dashed gray;margin: 0 0.4em 0.5em 0.4em;box-sizing: border-box;padding-bottom: 0.4em;background-color: white;}#sk-container-id-1 div.sk-label label {font-family: monospace;font-weight: bold;display: inline-block;line-height: 1.2em;}#sk-container-id-1 div.sk-label-container {text-align: center;}#sk-container-id-1 div.sk-container {/* jupyter's `normalize.less` sets `[hidden] { display: none; }` but bootstrap.min.css set `[hidden] { display: none !important; }` so we also need the `!important` here to be able to override the default hidden behavior on the sphinx rendered scikit-learn.org. See: https://github.com/scikit-learn/scikit-learn/issues/21755 */display: inline-block !important;position: relative;}#sk-container-id-1 div.sk-text-repr-fallback {display: none;}</style><div id=\"sk-container-id-1\" class=\"sk-top-container\"><div class=\"sk-text-repr-fallback\"><pre>RandomizedSearchCV(cv=5, estimator=KNeighborsClassifier(), n_iter=5,\n                   param_distributions={&#x27;metric&#x27;: [&#x27;euclidean&#x27;, &#x27;manhattan&#x27;],\n                                        &#x27;n_neighbors&#x27;: range(1, 51)})</pre><b>In a Jupyter environment, please rerun this cell to show the HTML representation or trust the notebook. <br />On GitHub, the HTML representation is unable to render, please try loading this page with nbviewer.org.</b></div><div class=\"sk-container\" hidden><div class=\"sk-item sk-dashed-wrapped\"><div class=\"sk-label-container\"><div class=\"sk-label sk-toggleable\"><input class=\"sk-toggleable__control sk-hidden--visually\" id=\"sk-estimator-id-1\" type=\"checkbox\" ><label for=\"sk-estimator-id-1\" class=\"sk-toggleable__label sk-toggleable__label-arrow\">RandomizedSearchCV</label><div class=\"sk-toggleable__content\"><pre>RandomizedSearchCV(cv=5, estimator=KNeighborsClassifier(), n_iter=5,\n                   param_distributions={&#x27;metric&#x27;: [&#x27;euclidean&#x27;, &#x27;manhattan&#x27;],\n                                        &#x27;n_neighbors&#x27;: range(1, 51)})</pre></div></div></div><div class=\"sk-parallel\"><div class=\"sk-parallel-item\"><div class=\"sk-item\"><div class=\"sk-label-container\"><div class=\"sk-label sk-toggleable\"><input class=\"sk-toggleable__control sk-hidden--visually\" id=\"sk-estimator-id-2\" type=\"checkbox\" ><label for=\"sk-estimator-id-2\" class=\"sk-toggleable__label sk-toggleable__label-arrow\">estimator: KNeighborsClassifier</label><div class=\"sk-toggleable__content\"><pre>KNeighborsClassifier()</pre></div></div></div><div class=\"sk-serial\"><div class=\"sk-item\"><div class=\"sk-estimator sk-toggleable\"><input class=\"sk-toggleable__control sk-hidden--visually\" id=\"sk-estimator-id-3\" type=\"checkbox\" ><label for=\"sk-estimator-id-3\" class=\"sk-toggleable__label sk-toggleable__label-arrow\">KNeighborsClassifier</label><div class=\"sk-toggleable__content\"><pre>KNeighborsClassifier()</pre></div></div></div></div></div></div></div></div></div></div>"
     },
     "execution_count": 18,
     "metadata": {},
     "output_type": "execute_result"
    }
   ]
  },
  {
   "cell_type": "code",
   "metadata": {
    "id": "DkUVXP_Loatt",
    "pycharm": {
     "name": "#%%\n"
    }
   },
   "source": [
    "# 튜닝 결과\n",
    "model_rs.cv_results_"
   ],
   "execution_count": 19,
   "outputs": [
    {
     "data": {
      "text/plain": "{'mean_fit_time': array([0.00077181, 0.00041528, 0.00069017, 0.00046916, 0.00056648]),\n 'std_fit_time': array([7.45577027e-04, 5.24391679e-05, 2.94397593e-04, 2.31486638e-05,\n        1.70200209e-04]),\n 'mean_score_time': array([0.0466146 , 0.02658696, 0.03275561, 0.02083049, 0.01533813]),\n 'std_score_time': array([0.02117038, 0.01969321, 0.01504738, 0.00117126, 0.00036243]),\n 'param_n_neighbors': masked_array(data=[5, 3, 9, 48, 14],\n              mask=[False, False, False, False, False],\n        fill_value='?',\n             dtype=object),\n 'param_metric': masked_array(data=['manhattan', 'manhattan', 'manhattan', 'euclidean',\n                    'euclidean'],\n              mask=[False, False, False, False, False],\n        fill_value='?',\n             dtype=object),\n 'params': [{'n_neighbors': 5, 'metric': 'manhattan'},\n  {'n_neighbors': 3, 'metric': 'manhattan'},\n  {'n_neighbors': 9, 'metric': 'manhattan'},\n  {'n_neighbors': 48, 'metric': 'euclidean'},\n  {'n_neighbors': 14, 'metric': 'euclidean'}],\n 'split0_test_score': array([0.60428571, 0.57714286, 0.59571429, 0.60714286, 0.56857143]),\n 'split1_test_score': array([0.59285714, 0.58142857, 0.59714286, 0.57571429, 0.59857143]),\n 'split2_test_score': array([0.57714286, 0.54857143, 0.57428571, 0.61571429, 0.55428571]),\n 'split3_test_score': array([0.58285714, 0.59      , 0.61142857, 0.58714286, 0.57571429]),\n 'split4_test_score': array([0.6       , 0.56857143, 0.57857143, 0.58571429, 0.56571429]),\n 'mean_test_score': array([0.59142857, 0.57314286, 0.59142857, 0.59428571, 0.57257143]),\n 'std_test_score': array([0.01018202, 0.01409588, 0.01349225, 0.01479106, 0.01471914]),\n 'rank_test_score': array([3, 4, 2, 1, 5], dtype=int32)}"
     },
     "execution_count": 19,
     "metadata": {},
     "output_type": "execute_result"
    }
   ]
  },
  {
   "cell_type": "code",
   "execution_count": 20,
   "outputs": [
    {
     "name": "stdout",
     "output_type": "stream",
     "text": [
      "{'mean_fit_time': array([0.00077181, 0.00041528, 0.00069017, 0.00046916, 0.00056648]), 'std_fit_time': array([7.45577027e-04, 5.24391679e-05, 2.94397593e-04, 2.31486638e-05,\n",
      "       1.70200209e-04]), 'mean_score_time': array([0.0466146 , 0.02658696, 0.03275561, 0.02083049, 0.01533813]), 'std_score_time': array([0.02117038, 0.01969321, 0.01504738, 0.00117126, 0.00036243]), 'param_n_neighbors': masked_array(data=[5, 3, 9, 48, 14],\n",
      "             mask=[False, False, False, False, False],\n",
      "       fill_value='?',\n",
      "            dtype=object), 'param_metric': masked_array(data=['manhattan', 'manhattan', 'manhattan', 'euclidean',\n",
      "                   'euclidean'],\n",
      "             mask=[False, False, False, False, False],\n",
      "       fill_value='?',\n",
      "            dtype=object), 'params': [{'n_neighbors': 5, 'metric': 'manhattan'}, {'n_neighbors': 3, 'metric': 'manhattan'}, {'n_neighbors': 9, 'metric': 'manhattan'}, {'n_neighbors': 48, 'metric': 'euclidean'}, {'n_neighbors': 14, 'metric': 'euclidean'}], 'split0_test_score': array([0.60428571, 0.57714286, 0.59571429, 0.60714286, 0.56857143]), 'split1_test_score': array([0.59285714, 0.58142857, 0.59714286, 0.57571429, 0.59857143]), 'split2_test_score': array([0.57714286, 0.54857143, 0.57428571, 0.61571429, 0.55428571]), 'split3_test_score': array([0.58285714, 0.59      , 0.61142857, 0.58714286, 0.57571429]), 'split4_test_score': array([0.6       , 0.56857143, 0.57857143, 0.58571429, 0.56571429]), 'mean_test_score': array([0.59142857, 0.57314286, 0.59142857, 0.59428571, 0.57257143]), 'std_test_score': array([0.01018202, 0.01409588, 0.01349225, 0.01479106, 0.01471914]), 'rank_test_score': array([3, 4, 2, 1, 5], dtype=int32)}\n"
     ]
    }
   ],
   "source": [
    "print(model_rs.cv_results_)"
   ],
   "metadata": {
    "collapsed": false,
    "pycharm": {
     "name": "#%%\n"
    }
   }
  },
  {
   "cell_type": "code",
   "source": [
    "model_rs.cv_results_['params']"
   ],
   "metadata": {
    "id": "ygL2UHJE4inW",
    "pycharm": {
     "name": "#%%\n"
    }
   },
   "execution_count": 21,
   "outputs": [
    {
     "data": {
      "text/plain": "[{'n_neighbors': 5, 'metric': 'manhattan'},\n {'n_neighbors': 3, 'metric': 'manhattan'},\n {'n_neighbors': 9, 'metric': 'manhattan'},\n {'n_neighbors': 48, 'metric': 'euclidean'},\n {'n_neighbors': 14, 'metric': 'euclidean'}]"
     },
     "execution_count": 21,
     "metadata": {},
     "output_type": "execute_result"
    }
   ]
  },
  {
   "cell_type": "code",
   "source": [
    "model_rs.cv_results_['mean_test_score']"
   ],
   "metadata": {
    "id": "Ev8QMOLM4qM3",
    "pycharm": {
     "name": "#%%\n"
    }
   },
   "execution_count": 22,
   "outputs": [
    {
     "data": {
      "text/plain": "array([0.59142857, 0.57314286, 0.59142857, 0.59428571, 0.57257143])"
     },
     "execution_count": 22,
     "metadata": {},
     "output_type": "execute_result"
    }
   ]
  },
  {
   "cell_type": "code",
   "metadata": {
    "id": "WibiA2j9sRo_",
    "pycharm": {
     "name": "#%%\n"
    }
   },
   "source": [
    "# 최적의 파라미터\n",
    "model_rs.best_params_"
   ],
   "execution_count": 23,
   "outputs": [
    {
     "data": {
      "text/plain": "{'n_neighbors': 48, 'metric': 'euclidean'}"
     },
     "execution_count": 23,
     "metadata": {},
     "output_type": "execute_result"
    }
   ]
  },
  {
   "cell_type": "code",
   "metadata": {
    "id": "tPwtq5L3vUmo",
    "pycharm": {
     "name": "#%%\n"
    }
   },
   "source": [
    "# 그때의 성능\n",
    "model_rs.best_score_"
   ],
   "execution_count": 24,
   "outputs": [
    {
     "data": {
      "text/plain": "0.5942857142857143"
     },
     "execution_count": 24,
     "metadata": {},
     "output_type": "execute_result"
    }
   ]
  },
  {
   "cell_type": "code",
   "metadata": {
    "id": "99n6iBAGoatw",
    "pycharm": {
     "name": "#%%\n"
    }
   },
   "source": [
    "# best 모델로 예측 및 평가\n",
    "pred = model_rs.predict(x_val_s)\n",
    "print(classification_report(y_val, pred))"
   ],
   "execution_count": 25,
   "outputs": [
    {
     "name": "stdout",
     "output_type": "stream",
     "text": [
      "              precision    recall  f1-score   support\n",
      "\n",
      "           0       0.57      0.75      0.65       738\n",
      "           1       0.65      0.45      0.53       762\n",
      "\n",
      "    accuracy                           0.60      1500\n",
      "   macro avg       0.61      0.60      0.59      1500\n",
      "weighted avg       0.61      0.60      0.59      1500\n",
      "\n"
     ]
    }
   ]
  },
  {
   "cell_type": "markdown",
   "source": [
    "### (3) 실습 : Random Search\n",
    "\n",
    "* decision tree로 튜닝을 시도해 봅시다.\n",
    "    * max_depth : 1~10\n",
    "    * min_samples_leaf : 10 ~ 100"
   ],
   "metadata": {
    "id": "1WRLq_4tf-ve",
    "pycharm": {
     "name": "#%% md\n"
    }
   }
  },
  {
   "cell_type": "markdown",
   "source": [
    "#### ① 값의 범위를 지정한다."
   ],
   "metadata": {
    "id": "-lJcU4Xlf-ve",
    "pycharm": {
     "name": "#%% md\n"
    }
   }
  },
  {
   "cell_type": "code",
   "metadata": {
    "id": "5vbadH6Cf-ve",
    "pycharm": {
     "name": "#%%\n"
    }
   },
   "source": [
    "model = DecisionTreeClassifier()\n",
    "\n",
    "params = {'max_depth': range(1, 11), 'min_samples_leaf': range(10, 101, 10)}"
   ],
   "execution_count": 26,
   "outputs": []
  },
  {
   "cell_type": "markdown",
   "source": [
    "#### ② 모델 선언"
   ],
   "metadata": {
    "id": "VlSVAR-7f-vf",
    "pycharm": {
     "name": "#%% md\n"
    }
   }
  },
  {
   "cell_type": "code",
   "metadata": {
    "id": "i0S0er2Af-vf",
    "pycharm": {
     "name": "#%%\n"
    }
   },
   "source": [
    "model_rs = RandomizedSearchCV(estimator=model, param_distributions=params)"
   ],
   "execution_count": 27,
   "outputs": []
  },
  {
   "cell_type": "markdown",
   "source": [
    "#### ③ 모델링"
   ],
   "metadata": {
    "id": "1oTmve_lf-vf",
    "pycharm": {
     "name": "#%% md\n"
    }
   }
  },
  {
   "cell_type": "code",
   "metadata": {
    "id": "O121oftOf-vf",
    "pycharm": {
     "name": "#%%\n"
    }
   },
   "source": [
    "model_rs.fit(x_train, y_train)"
   ],
   "execution_count": 28,
   "outputs": [
    {
     "data": {
      "text/plain": "RandomizedSearchCV(estimator=DecisionTreeClassifier(),\n                   param_distributions={'max_depth': range(1, 11),\n                                        'min_samples_leaf': range(10, 101, 10)})",
      "text/html": "<style>#sk-container-id-2 {color: black;background-color: white;}#sk-container-id-2 pre{padding: 0;}#sk-container-id-2 div.sk-toggleable {background-color: white;}#sk-container-id-2 label.sk-toggleable__label {cursor: pointer;display: block;width: 100%;margin-bottom: 0;padding: 0.3em;box-sizing: border-box;text-align: center;}#sk-container-id-2 label.sk-toggleable__label-arrow:before {content: \"▸\";float: left;margin-right: 0.25em;color: #696969;}#sk-container-id-2 label.sk-toggleable__label-arrow:hover:before {color: black;}#sk-container-id-2 div.sk-estimator:hover label.sk-toggleable__label-arrow:before {color: black;}#sk-container-id-2 div.sk-toggleable__content {max-height: 0;max-width: 0;overflow: hidden;text-align: left;background-color: #f0f8ff;}#sk-container-id-2 div.sk-toggleable__content pre {margin: 0.2em;color: black;border-radius: 0.25em;background-color: #f0f8ff;}#sk-container-id-2 input.sk-toggleable__control:checked~div.sk-toggleable__content {max-height: 200px;max-width: 100%;overflow: auto;}#sk-container-id-2 input.sk-toggleable__control:checked~label.sk-toggleable__label-arrow:before {content: \"▾\";}#sk-container-id-2 div.sk-estimator input.sk-toggleable__control:checked~label.sk-toggleable__label {background-color: #d4ebff;}#sk-container-id-2 div.sk-label input.sk-toggleable__control:checked~label.sk-toggleable__label {background-color: #d4ebff;}#sk-container-id-2 input.sk-hidden--visually {border: 0;clip: rect(1px 1px 1px 1px);clip: rect(1px, 1px, 1px, 1px);height: 1px;margin: -1px;overflow: hidden;padding: 0;position: absolute;width: 1px;}#sk-container-id-2 div.sk-estimator {font-family: monospace;background-color: #f0f8ff;border: 1px dotted black;border-radius: 0.25em;box-sizing: border-box;margin-bottom: 0.5em;}#sk-container-id-2 div.sk-estimator:hover {background-color: #d4ebff;}#sk-container-id-2 div.sk-parallel-item::after {content: \"\";width: 100%;border-bottom: 1px solid gray;flex-grow: 1;}#sk-container-id-2 div.sk-label:hover label.sk-toggleable__label {background-color: #d4ebff;}#sk-container-id-2 div.sk-serial::before {content: \"\";position: absolute;border-left: 1px solid gray;box-sizing: border-box;top: 0;bottom: 0;left: 50%;z-index: 0;}#sk-container-id-2 div.sk-serial {display: flex;flex-direction: column;align-items: center;background-color: white;padding-right: 0.2em;padding-left: 0.2em;position: relative;}#sk-container-id-2 div.sk-item {position: relative;z-index: 1;}#sk-container-id-2 div.sk-parallel {display: flex;align-items: stretch;justify-content: center;background-color: white;position: relative;}#sk-container-id-2 div.sk-item::before, #sk-container-id-2 div.sk-parallel-item::before {content: \"\";position: absolute;border-left: 1px solid gray;box-sizing: border-box;top: 0;bottom: 0;left: 50%;z-index: -1;}#sk-container-id-2 div.sk-parallel-item {display: flex;flex-direction: column;z-index: 1;position: relative;background-color: white;}#sk-container-id-2 div.sk-parallel-item:first-child::after {align-self: flex-end;width: 50%;}#sk-container-id-2 div.sk-parallel-item:last-child::after {align-self: flex-start;width: 50%;}#sk-container-id-2 div.sk-parallel-item:only-child::after {width: 0;}#sk-container-id-2 div.sk-dashed-wrapped {border: 1px dashed gray;margin: 0 0.4em 0.5em 0.4em;box-sizing: border-box;padding-bottom: 0.4em;background-color: white;}#sk-container-id-2 div.sk-label label {font-family: monospace;font-weight: bold;display: inline-block;line-height: 1.2em;}#sk-container-id-2 div.sk-label-container {text-align: center;}#sk-container-id-2 div.sk-container {/* jupyter's `normalize.less` sets `[hidden] { display: none; }` but bootstrap.min.css set `[hidden] { display: none !important; }` so we also need the `!important` here to be able to override the default hidden behavior on the sphinx rendered scikit-learn.org. See: https://github.com/scikit-learn/scikit-learn/issues/21755 */display: inline-block !important;position: relative;}#sk-container-id-2 div.sk-text-repr-fallback {display: none;}</style><div id=\"sk-container-id-2\" class=\"sk-top-container\"><div class=\"sk-text-repr-fallback\"><pre>RandomizedSearchCV(estimator=DecisionTreeClassifier(),\n                   param_distributions={&#x27;max_depth&#x27;: range(1, 11),\n                                        &#x27;min_samples_leaf&#x27;: range(10, 101, 10)})</pre><b>In a Jupyter environment, please rerun this cell to show the HTML representation or trust the notebook. <br />On GitHub, the HTML representation is unable to render, please try loading this page with nbviewer.org.</b></div><div class=\"sk-container\" hidden><div class=\"sk-item sk-dashed-wrapped\"><div class=\"sk-label-container\"><div class=\"sk-label sk-toggleable\"><input class=\"sk-toggleable__control sk-hidden--visually\" id=\"sk-estimator-id-4\" type=\"checkbox\" ><label for=\"sk-estimator-id-4\" class=\"sk-toggleable__label sk-toggleable__label-arrow\">RandomizedSearchCV</label><div class=\"sk-toggleable__content\"><pre>RandomizedSearchCV(estimator=DecisionTreeClassifier(),\n                   param_distributions={&#x27;max_depth&#x27;: range(1, 11),\n                                        &#x27;min_samples_leaf&#x27;: range(10, 101, 10)})</pre></div></div></div><div class=\"sk-parallel\"><div class=\"sk-parallel-item\"><div class=\"sk-item\"><div class=\"sk-label-container\"><div class=\"sk-label sk-toggleable\"><input class=\"sk-toggleable__control sk-hidden--visually\" id=\"sk-estimator-id-5\" type=\"checkbox\" ><label for=\"sk-estimator-id-5\" class=\"sk-toggleable__label sk-toggleable__label-arrow\">estimator: DecisionTreeClassifier</label><div class=\"sk-toggleable__content\"><pre>DecisionTreeClassifier()</pre></div></div></div><div class=\"sk-serial\"><div class=\"sk-item\"><div class=\"sk-estimator sk-toggleable\"><input class=\"sk-toggleable__control sk-hidden--visually\" id=\"sk-estimator-id-6\" type=\"checkbox\" ><label for=\"sk-estimator-id-6\" class=\"sk-toggleable__label sk-toggleable__label-arrow\">DecisionTreeClassifier</label><div class=\"sk-toggleable__content\"><pre>DecisionTreeClassifier()</pre></div></div></div></div></div></div></div></div></div></div>"
     },
     "execution_count": 28,
     "metadata": {},
     "output_type": "execute_result"
    }
   ]
  },
  {
   "cell_type": "code",
   "metadata": {
    "id": "mzVCpqpCf-vf",
    "pycharm": {
     "name": "#%%\n"
    }
   },
   "source": [
    "model_rs.best_params_"
   ],
   "execution_count": 29,
   "outputs": [
    {
     "data": {
      "text/plain": "{'min_samples_leaf': 40, 'max_depth': 8}"
     },
     "execution_count": 29,
     "metadata": {},
     "output_type": "execute_result"
    }
   ]
  },
  {
   "cell_type": "code",
   "source": [
    "model_rs.best_score_"
   ],
   "metadata": {
    "id": "CkkdSVR6f-vf",
    "pycharm": {
     "name": "#%%\n"
    }
   },
   "execution_count": 30,
   "outputs": [
    {
     "data": {
      "text/plain": "0.694"
     },
     "execution_count": 30,
     "metadata": {},
     "output_type": "execute_result"
    }
   ]
  },
  {
   "cell_type": "code",
   "source": [
    "pred = model_rs.predict(x_val)\n",
    "print(classification_report(y_val, pred))"
   ],
   "metadata": {
    "id": "IgR9dSA_d6f6",
    "pycharm": {
     "name": "#%%\n"
    }
   },
   "execution_count": 31,
   "outputs": [
    {
     "name": "stdout",
     "output_type": "stream",
     "text": [
      "              precision    recall  f1-score   support\n",
      "\n",
      "           0       0.68      0.69      0.69       738\n",
      "           1       0.70      0.69      0.69       762\n",
      "\n",
      "    accuracy                           0.69      1500\n",
      "   macro avg       0.69      0.69      0.69      1500\n",
      "weighted avg       0.69      0.69      0.69      1500\n",
      "\n"
     ]
    }
   ]
  },
  {
   "cell_type": "markdown",
   "source": [
    "### (4) Grid Search\n",
    "\n",
    "① 값의 범위를 지정한다.  \n",
    "② 모델링(값의 범위 내에서 모든 조합을 다 시도한다.)  \n",
    "③ 가장 성능이 좋은 값을 선정\n"
   ],
   "metadata": {
    "id": "wzN7zbnJhmAt",
    "pycharm": {
     "name": "#%% md\n"
    }
   }
  },
  {
   "cell_type": "markdown",
   "source": [
    "#### ① 값의 범위를 지정한다."
   ],
   "metadata": {
    "id": "E7AOo0wxhmA0",
    "pycharm": {
     "name": "#%% md\n"
    }
   }
  },
  {
   "cell_type": "code",
   "metadata": {
    "id": "CkVVoyWFhmA0",
    "pycharm": {
     "name": "#%%\n"
    }
   },
   "source": [
    "# dictionary형태로 선언\n",
    "params = {'n_neighbors': range(3, 31, 2), 'metric': ['euclidean', 'manhattan']}\n",
    "params"
   ],
   "execution_count": 32,
   "outputs": [
    {
     "data": {
      "text/plain": "{'n_neighbors': range(3, 31, 2), 'metric': ['euclidean', 'manhattan']}"
     },
     "execution_count": 32,
     "metadata": {},
     "output_type": "execute_result"
    }
   ]
  },
  {
   "cell_type": "markdown",
   "source": [
    "#### ② 모델 선언"
   ],
   "metadata": {
    "id": "qA_g34P3hmA1",
    "pycharm": {
     "name": "#%% md\n"
    }
   }
  },
  {
   "cell_type": "code",
   "metadata": {
    "id": "A0Zceq-LhmA1",
    "pycharm": {
     "name": "#%%\n"
    }
   },
   "source": [
    "# 기본모델\n",
    "model = KNeighborsClassifier()\n",
    "\n",
    "# Random Search 설정.\n",
    "model_gs = GridSearchCV(model, params, cv=5)"
   ],
   "execution_count": 33,
   "outputs": []
  },
  {
   "cell_type": "markdown",
   "source": [
    "#### ③ 모델링"
   ],
   "metadata": {
    "id": "lu2BRGzQhmA1",
    "pycharm": {
     "name": "#%% md\n"
    }
   }
  },
  {
   "cell_type": "code",
   "metadata": {
    "id": "XtI3d8uZhmA1",
    "pycharm": {
     "name": "#%%\n"
    }
   },
   "source": [
    "# 학습 : model이 아니라 model_rs\n",
    "model_gs.fit(x_train_s, y_train)"
   ],
   "execution_count": 34,
   "outputs": [
    {
     "data": {
      "text/plain": "GridSearchCV(cv=5, estimator=KNeighborsClassifier(),\n             param_grid={'metric': ['euclidean', 'manhattan'],\n                         'n_neighbors': range(3, 31, 2)})",
      "text/html": "<style>#sk-container-id-3 {color: black;background-color: white;}#sk-container-id-3 pre{padding: 0;}#sk-container-id-3 div.sk-toggleable {background-color: white;}#sk-container-id-3 label.sk-toggleable__label {cursor: pointer;display: block;width: 100%;margin-bottom: 0;padding: 0.3em;box-sizing: border-box;text-align: center;}#sk-container-id-3 label.sk-toggleable__label-arrow:before {content: \"▸\";float: left;margin-right: 0.25em;color: #696969;}#sk-container-id-3 label.sk-toggleable__label-arrow:hover:before {color: black;}#sk-container-id-3 div.sk-estimator:hover label.sk-toggleable__label-arrow:before {color: black;}#sk-container-id-3 div.sk-toggleable__content {max-height: 0;max-width: 0;overflow: hidden;text-align: left;background-color: #f0f8ff;}#sk-container-id-3 div.sk-toggleable__content pre {margin: 0.2em;color: black;border-radius: 0.25em;background-color: #f0f8ff;}#sk-container-id-3 input.sk-toggleable__control:checked~div.sk-toggleable__content {max-height: 200px;max-width: 100%;overflow: auto;}#sk-container-id-3 input.sk-toggleable__control:checked~label.sk-toggleable__label-arrow:before {content: \"▾\";}#sk-container-id-3 div.sk-estimator input.sk-toggleable__control:checked~label.sk-toggleable__label {background-color: #d4ebff;}#sk-container-id-3 div.sk-label input.sk-toggleable__control:checked~label.sk-toggleable__label {background-color: #d4ebff;}#sk-container-id-3 input.sk-hidden--visually {border: 0;clip: rect(1px 1px 1px 1px);clip: rect(1px, 1px, 1px, 1px);height: 1px;margin: -1px;overflow: hidden;padding: 0;position: absolute;width: 1px;}#sk-container-id-3 div.sk-estimator {font-family: monospace;background-color: #f0f8ff;border: 1px dotted black;border-radius: 0.25em;box-sizing: border-box;margin-bottom: 0.5em;}#sk-container-id-3 div.sk-estimator:hover {background-color: #d4ebff;}#sk-container-id-3 div.sk-parallel-item::after {content: \"\";width: 100%;border-bottom: 1px solid gray;flex-grow: 1;}#sk-container-id-3 div.sk-label:hover label.sk-toggleable__label {background-color: #d4ebff;}#sk-container-id-3 div.sk-serial::before {content: \"\";position: absolute;border-left: 1px solid gray;box-sizing: border-box;top: 0;bottom: 0;left: 50%;z-index: 0;}#sk-container-id-3 div.sk-serial {display: flex;flex-direction: column;align-items: center;background-color: white;padding-right: 0.2em;padding-left: 0.2em;position: relative;}#sk-container-id-3 div.sk-item {position: relative;z-index: 1;}#sk-container-id-3 div.sk-parallel {display: flex;align-items: stretch;justify-content: center;background-color: white;position: relative;}#sk-container-id-3 div.sk-item::before, #sk-container-id-3 div.sk-parallel-item::before {content: \"\";position: absolute;border-left: 1px solid gray;box-sizing: border-box;top: 0;bottom: 0;left: 50%;z-index: -1;}#sk-container-id-3 div.sk-parallel-item {display: flex;flex-direction: column;z-index: 1;position: relative;background-color: white;}#sk-container-id-3 div.sk-parallel-item:first-child::after {align-self: flex-end;width: 50%;}#sk-container-id-3 div.sk-parallel-item:last-child::after {align-self: flex-start;width: 50%;}#sk-container-id-3 div.sk-parallel-item:only-child::after {width: 0;}#sk-container-id-3 div.sk-dashed-wrapped {border: 1px dashed gray;margin: 0 0.4em 0.5em 0.4em;box-sizing: border-box;padding-bottom: 0.4em;background-color: white;}#sk-container-id-3 div.sk-label label {font-family: monospace;font-weight: bold;display: inline-block;line-height: 1.2em;}#sk-container-id-3 div.sk-label-container {text-align: center;}#sk-container-id-3 div.sk-container {/* jupyter's `normalize.less` sets `[hidden] { display: none; }` but bootstrap.min.css set `[hidden] { display: none !important; }` so we also need the `!important` here to be able to override the default hidden behavior on the sphinx rendered scikit-learn.org. See: https://github.com/scikit-learn/scikit-learn/issues/21755 */display: inline-block !important;position: relative;}#sk-container-id-3 div.sk-text-repr-fallback {display: none;}</style><div id=\"sk-container-id-3\" class=\"sk-top-container\"><div class=\"sk-text-repr-fallback\"><pre>GridSearchCV(cv=5, estimator=KNeighborsClassifier(),\n             param_grid={&#x27;metric&#x27;: [&#x27;euclidean&#x27;, &#x27;manhattan&#x27;],\n                         &#x27;n_neighbors&#x27;: range(3, 31, 2)})</pre><b>In a Jupyter environment, please rerun this cell to show the HTML representation or trust the notebook. <br />On GitHub, the HTML representation is unable to render, please try loading this page with nbviewer.org.</b></div><div class=\"sk-container\" hidden><div class=\"sk-item sk-dashed-wrapped\"><div class=\"sk-label-container\"><div class=\"sk-label sk-toggleable\"><input class=\"sk-toggleable__control sk-hidden--visually\" id=\"sk-estimator-id-7\" type=\"checkbox\" ><label for=\"sk-estimator-id-7\" class=\"sk-toggleable__label sk-toggleable__label-arrow\">GridSearchCV</label><div class=\"sk-toggleable__content\"><pre>GridSearchCV(cv=5, estimator=KNeighborsClassifier(),\n             param_grid={&#x27;metric&#x27;: [&#x27;euclidean&#x27;, &#x27;manhattan&#x27;],\n                         &#x27;n_neighbors&#x27;: range(3, 31, 2)})</pre></div></div></div><div class=\"sk-parallel\"><div class=\"sk-parallel-item\"><div class=\"sk-item\"><div class=\"sk-label-container\"><div class=\"sk-label sk-toggleable\"><input class=\"sk-toggleable__control sk-hidden--visually\" id=\"sk-estimator-id-8\" type=\"checkbox\" ><label for=\"sk-estimator-id-8\" class=\"sk-toggleable__label sk-toggleable__label-arrow\">estimator: KNeighborsClassifier</label><div class=\"sk-toggleable__content\"><pre>KNeighborsClassifier()</pre></div></div></div><div class=\"sk-serial\"><div class=\"sk-item\"><div class=\"sk-estimator sk-toggleable\"><input class=\"sk-toggleable__control sk-hidden--visually\" id=\"sk-estimator-id-9\" type=\"checkbox\" ><label for=\"sk-estimator-id-9\" class=\"sk-toggleable__label sk-toggleable__label-arrow\">KNeighborsClassifier</label><div class=\"sk-toggleable__content\"><pre>KNeighborsClassifier()</pre></div></div></div></div></div></div></div></div></div></div>"
     },
     "execution_count": 34,
     "metadata": {},
     "output_type": "execute_result"
    }
   ]
  },
  {
   "cell_type": "code",
   "metadata": {
    "id": "RnrtbCidhmA1",
    "pycharm": {
     "name": "#%%\n"
    }
   },
   "source": [
    "# 튜닝 결과\n",
    "model_gs.cv_results_"
   ],
   "execution_count": 35,
   "outputs": [
    {
     "data": {
      "text/plain": "{'mean_fit_time': array([0.00043397, 0.00040808, 0.0004868 , 0.00047164, 0.00043921,\n        0.00049419, 0.00049596, 0.00044079, 0.0004921 , 0.00056024,\n        0.00038538, 0.00050325, 0.00037942, 0.00039077, 0.00044384,\n        0.00040112, 0.00036945, 0.00042238, 0.0004674 , 0.00054674,\n        0.00042014, 0.00043287, 0.00048199, 0.00045004, 0.0004508 ,\n        0.00049262, 0.00040026, 0.00046039]),\n 'std_fit_time': array([2.01197030e-05, 9.07946032e-06, 1.24173322e-04, 5.82513531e-05,\n        1.90886199e-05, 1.03722155e-04, 1.93944884e-04, 3.12397127e-05,\n        7.59905505e-05, 1.46816403e-04, 1.49209654e-05, 2.09973357e-04,\n        6.01004011e-06, 1.18309439e-05, 2.15652735e-05, 2.61777086e-05,\n        1.65851614e-05, 3.13375262e-05, 1.51650710e-05, 1.05097268e-04,\n        1.83259383e-05, 3.97049907e-05, 2.73388670e-05, 1.35924521e-05,\n        1.97294219e-05, 1.11947453e-04, 2.31004843e-05, 4.50766249e-05]),\n 'mean_score_time': array([0.01125765, 0.01195235, 0.01242838, 0.01290641, 0.01610146,\n        0.01356483, 0.01297936, 0.01532578, 0.01532617, 0.01550217,\n        0.01338458, 0.01414924, 0.01409936, 0.01475735, 0.01807084,\n        0.01752906, 0.01731915, 0.01906176, 0.02479463, 0.0226006 ,\n        0.0210597 , 0.0214222 , 0.03690915, 0.02201757, 0.02251887,\n        0.02333555, 0.02035704, 0.03246613]),\n 'std_score_time': array([0.00040331, 0.00079834, 0.00081061, 0.00073114, 0.00499523,\n        0.00083774, 0.00102726, 0.00089554, 0.00122481, 0.00098388,\n        0.00072231, 0.00079586, 0.00050686, 0.00082192, 0.001432  ,\n        0.00192173, 0.00102551, 0.00131377, 0.00527513, 0.00242733,\n        0.00091413, 0.0025241 , 0.0144194 , 0.00185751, 0.00193464,\n        0.00169887, 0.00065718, 0.00415198]),\n 'param_metric': masked_array(data=['euclidean', 'euclidean', 'euclidean', 'euclidean',\n                    'euclidean', 'euclidean', 'euclidean', 'euclidean',\n                    'euclidean', 'euclidean', 'euclidean', 'euclidean',\n                    'euclidean', 'euclidean', 'manhattan', 'manhattan',\n                    'manhattan', 'manhattan', 'manhattan', 'manhattan',\n                    'manhattan', 'manhattan', 'manhattan', 'manhattan',\n                    'manhattan', 'manhattan', 'manhattan', 'manhattan'],\n              mask=[False, False, False, False, False, False, False, False,\n                    False, False, False, False, False, False, False, False,\n                    False, False, False, False, False, False, False, False,\n                    False, False, False, False],\n        fill_value='?',\n             dtype=object),\n 'param_n_neighbors': masked_array(data=[3, 5, 7, 9, 11, 13, 15, 17, 19, 21, 23, 25, 27, 29, 3,\n                    5, 7, 9, 11, 13, 15, 17, 19, 21, 23, 25, 27, 29],\n              mask=[False, False, False, False, False, False, False, False,\n                    False, False, False, False, False, False, False, False,\n                    False, False, False, False, False, False, False, False,\n                    False, False, False, False],\n        fill_value='?',\n             dtype=object),\n 'params': [{'metric': 'euclidean', 'n_neighbors': 3},\n  {'metric': 'euclidean', 'n_neighbors': 5},\n  {'metric': 'euclidean', 'n_neighbors': 7},\n  {'metric': 'euclidean', 'n_neighbors': 9},\n  {'metric': 'euclidean', 'n_neighbors': 11},\n  {'metric': 'euclidean', 'n_neighbors': 13},\n  {'metric': 'euclidean', 'n_neighbors': 15},\n  {'metric': 'euclidean', 'n_neighbors': 17},\n  {'metric': 'euclidean', 'n_neighbors': 19},\n  {'metric': 'euclidean', 'n_neighbors': 21},\n  {'metric': 'euclidean', 'n_neighbors': 23},\n  {'metric': 'euclidean', 'n_neighbors': 25},\n  {'metric': 'euclidean', 'n_neighbors': 27},\n  {'metric': 'euclidean', 'n_neighbors': 29},\n  {'metric': 'manhattan', 'n_neighbors': 3},\n  {'metric': 'manhattan', 'n_neighbors': 5},\n  {'metric': 'manhattan', 'n_neighbors': 7},\n  {'metric': 'manhattan', 'n_neighbors': 9},\n  {'metric': 'manhattan', 'n_neighbors': 11},\n  {'metric': 'manhattan', 'n_neighbors': 13},\n  {'metric': 'manhattan', 'n_neighbors': 15},\n  {'metric': 'manhattan', 'n_neighbors': 17},\n  {'metric': 'manhattan', 'n_neighbors': 19},\n  {'metric': 'manhattan', 'n_neighbors': 21},\n  {'metric': 'manhattan', 'n_neighbors': 23},\n  {'metric': 'manhattan', 'n_neighbors': 25},\n  {'metric': 'manhattan', 'n_neighbors': 27},\n  {'metric': 'manhattan', 'n_neighbors': 29}],\n 'split0_test_score': array([0.58285714, 0.57857143, 0.58142857, 0.58285714, 0.57142857,\n        0.57857143, 0.57428571, 0.59      , 0.59142857, 0.59      ,\n        0.59857143, 0.58857143, 0.59142857, 0.58285714, 0.57714286,\n        0.60428571, 0.58285714, 0.59571429, 0.60428571, 0.61285714,\n        0.60571429, 0.60857143, 0.60571429, 0.61571429, 0.62714286,\n        0.63285714, 0.63      , 0.62857143]),\n 'split1_test_score': array([0.57714286, 0.59857143, 0.57857143, 0.57714286, 0.57857143,\n        0.58714286, 0.59428571, 0.59285714, 0.6       , 0.59142857,\n        0.60142857, 0.60571429, 0.58571429, 0.58571429, 0.58142857,\n        0.59285714, 0.59714286, 0.59714286, 0.60428571, 0.58857143,\n        0.59857143, 0.60428571, 0.61      , 0.62285714, 0.61428571,\n        0.62      , 0.61571429, 0.62142857]),\n 'split2_test_score': array([0.55428571, 0.56857143, 0.56857143, 0.55714286, 0.54428571,\n        0.56285714, 0.57714286, 0.56714286, 0.56857143, 0.57857143,\n        0.59      , 0.58142857, 0.58428571, 0.59142857, 0.54857143,\n        0.57714286, 0.58      , 0.57428571, 0.59714286, 0.59      ,\n        0.59428571, 0.60571429, 0.60714286, 0.62      , 0.61571429,\n        0.61285714, 0.62857143, 0.63142857]),\n 'split3_test_score': array([0.6       , 0.57857143, 0.58      , 0.57857143, 0.58142857,\n        0.58285714, 0.59285714, 0.6       , 0.57857143, 0.57857143,\n        0.57714286, 0.57571429, 0.56857143, 0.56857143, 0.59      ,\n        0.58285714, 0.61      , 0.61142857, 0.60857143, 0.60571429,\n        0.60571429, 0.59428571, 0.59428571, 0.60857143, 0.61285714,\n        0.60714286, 0.61571429, 0.61428571]),\n 'split4_test_score': array([0.58      , 0.57285714, 0.57714286, 0.57142857, 0.56428571,\n        0.56142857, 0.56571429, 0.56285714, 0.55714286, 0.56428571,\n        0.56285714, 0.57142857, 0.56857143, 0.57285714, 0.56857143,\n        0.6       , 0.58857143, 0.57857143, 0.57714286, 0.59142857,\n        0.59285714, 0.59428571, 0.59142857, 0.58571429, 0.58      ,\n        0.58428571, 0.60285714, 0.59428571]),\n 'mean_test_score': array([0.57885714, 0.57942857, 0.57714286, 0.57342857, 0.568     ,\n        0.57457143, 0.58085714, 0.58257143, 0.57914286, 0.58057143,\n        0.586     , 0.58457143, 0.57971429, 0.58028571, 0.57314286,\n        0.59142857, 0.59171429, 0.59142857, 0.59828571, 0.59771429,\n        0.59942857, 0.60142857, 0.60171429, 0.61057143, 0.61      ,\n        0.61142857, 0.61857143, 0.618     ]),\n 'std_test_score': array([0.01463571, 0.01028571, 0.00451754, 0.008926  , 0.0132665 ,\n        0.01051335, 0.0110509 , 0.0147745 , 0.01537557, 0.00979796,\n        0.01432566, 0.01203397, 0.0094069 , 0.00839825, 0.01409588,\n        0.01018202, 0.01085714, 0.01349225, 0.01119037, 0.00975621,\n        0.00546604, 0.00599319, 0.00741757, 0.01332789, 0.01583074,\n        0.01606111, 0.00993859, 0.0132665 ]),\n 'rank_test_score': array([23, 21, 24, 26, 28, 25, 17, 16, 22, 18, 14, 15, 20, 19, 27, 13, 11,\n        12,  9, 10,  8,  7,  6,  4,  5,  3,  1,  2], dtype=int32)}"
     },
     "execution_count": 35,
     "metadata": {},
     "output_type": "execute_result"
    }
   ]
  },
  {
   "cell_type": "code",
   "source": [
    "model_gs.cv_results_['params']"
   ],
   "metadata": {
    "id": "B7KakeYkhmA1",
    "pycharm": {
     "name": "#%%\n"
    }
   },
   "execution_count": 36,
   "outputs": [
    {
     "data": {
      "text/plain": "[{'metric': 'euclidean', 'n_neighbors': 3},\n {'metric': 'euclidean', 'n_neighbors': 5},\n {'metric': 'euclidean', 'n_neighbors': 7},\n {'metric': 'euclidean', 'n_neighbors': 9},\n {'metric': 'euclidean', 'n_neighbors': 11},\n {'metric': 'euclidean', 'n_neighbors': 13},\n {'metric': 'euclidean', 'n_neighbors': 15},\n {'metric': 'euclidean', 'n_neighbors': 17},\n {'metric': 'euclidean', 'n_neighbors': 19},\n {'metric': 'euclidean', 'n_neighbors': 21},\n {'metric': 'euclidean', 'n_neighbors': 23},\n {'metric': 'euclidean', 'n_neighbors': 25},\n {'metric': 'euclidean', 'n_neighbors': 27},\n {'metric': 'euclidean', 'n_neighbors': 29},\n {'metric': 'manhattan', 'n_neighbors': 3},\n {'metric': 'manhattan', 'n_neighbors': 5},\n {'metric': 'manhattan', 'n_neighbors': 7},\n {'metric': 'manhattan', 'n_neighbors': 9},\n {'metric': 'manhattan', 'n_neighbors': 11},\n {'metric': 'manhattan', 'n_neighbors': 13},\n {'metric': 'manhattan', 'n_neighbors': 15},\n {'metric': 'manhattan', 'n_neighbors': 17},\n {'metric': 'manhattan', 'n_neighbors': 19},\n {'metric': 'manhattan', 'n_neighbors': 21},\n {'metric': 'manhattan', 'n_neighbors': 23},\n {'metric': 'manhattan', 'n_neighbors': 25},\n {'metric': 'manhattan', 'n_neighbors': 27},\n {'metric': 'manhattan', 'n_neighbors': 29}]"
     },
     "execution_count": 36,
     "metadata": {},
     "output_type": "execute_result"
    }
   ]
  },
  {
   "cell_type": "code",
   "source": [
    "model_gs.cv_results_['mean_test_score']"
   ],
   "metadata": {
    "id": "bweqbwp4hmA2",
    "pycharm": {
     "name": "#%%\n"
    }
   },
   "execution_count": 37,
   "outputs": [
    {
     "data": {
      "text/plain": "array([0.57885714, 0.57942857, 0.57714286, 0.57342857, 0.568     ,\n       0.57457143, 0.58085714, 0.58257143, 0.57914286, 0.58057143,\n       0.586     , 0.58457143, 0.57971429, 0.58028571, 0.57314286,\n       0.59142857, 0.59171429, 0.59142857, 0.59828571, 0.59771429,\n       0.59942857, 0.60142857, 0.60171429, 0.61057143, 0.61      ,\n       0.61142857, 0.61857143, 0.618     ])"
     },
     "execution_count": 37,
     "metadata": {},
     "output_type": "execute_result"
    }
   ]
  },
  {
   "cell_type": "code",
   "metadata": {
    "id": "6m0F5W3IhmA2",
    "pycharm": {
     "name": "#%%\n"
    }
   },
   "source": [
    "# 최적의 파라미터\n",
    "model_gs.best_params_"
   ],
   "execution_count": 38,
   "outputs": [
    {
     "data": {
      "text/plain": "{'metric': 'manhattan', 'n_neighbors': 27}"
     },
     "execution_count": 38,
     "metadata": {},
     "output_type": "execute_result"
    }
   ]
  },
  {
   "cell_type": "code",
   "metadata": {
    "id": "1aaAI6PshmA2",
    "pycharm": {
     "name": "#%%\n"
    }
   },
   "source": [
    "# 그때의 성능\n",
    "model_gs.best_score_"
   ],
   "execution_count": 39,
   "outputs": [
    {
     "data": {
      "text/plain": "0.6185714285714285"
     },
     "execution_count": 39,
     "metadata": {},
     "output_type": "execute_result"
    }
   ]
  },
  {
   "cell_type": "code",
   "metadata": {
    "id": "aW3lOKgKhmA2",
    "pycharm": {
     "name": "#%%\n"
    }
   },
   "source": [
    "# best 모델로 예측 및 평가\n",
    "pred = model_gs.predict(x_val_s)\n",
    "print(classification_report(y_val, pred))"
   ],
   "execution_count": 40,
   "outputs": [
    {
     "name": "stdout",
     "output_type": "stream",
     "text": [
      "              precision    recall  f1-score   support\n",
      "\n",
      "           0       0.59      0.72      0.65       738\n",
      "           1       0.65      0.51      0.57       762\n",
      "\n",
      "    accuracy                           0.61      1500\n",
      "   macro avg       0.62      0.61      0.61      1500\n",
      "weighted avg       0.62      0.61      0.61      1500\n",
      "\n"
     ]
    }
   ]
  },
  {
   "cell_type": "markdown",
   "source": [
    "### (5) 실습 : Grid Search\n",
    "\n",
    "* decision tree로 튜닝을 시도해 봅시다.\n",
    "    * max_depth : 1~10\n",
    "    * min_samples_leaf : 10 ~ 100"
   ],
   "metadata": {
    "id": "DobFs64hhmA2",
    "pycharm": {
     "name": "#%% md\n"
    }
   }
  },
  {
   "cell_type": "markdown",
   "source": [
    "#### ① 값의 범위를 지정한다."
   ],
   "metadata": {
    "id": "vHvcEIqJhmA3",
    "pycharm": {
     "name": "#%% md\n"
    }
   }
  },
  {
   "cell_type": "code",
   "metadata": {
    "id": "A0fCwubihmA5",
    "pycharm": {
     "name": "#%%\n"
    }
   },
   "source": [
    "params = {'max_depth': range(1, 11),\n",
    "          'min_samples_leaf': range(10, 101, 10)}"
   ],
   "execution_count": 41,
   "outputs": []
  },
  {
   "cell_type": "markdown",
   "source": [
    "#### ② 모델 선언"
   ],
   "metadata": {
    "id": "tKoDEEbzhmA5",
    "pycharm": {
     "name": "#%% md\n"
    }
   }
  },
  {
   "cell_type": "code",
   "metadata": {
    "id": "26SqSRbLhmA5",
    "pycharm": {
     "name": "#%%\n"
    }
   },
   "source": [
    "practice_gs = GridSearchCV(estimator=DecisionTreeClassifier(), param_grid=params, cv=5)"
   ],
   "execution_count": 45,
   "outputs": []
  },
  {
   "cell_type": "markdown",
   "source": [
    "#### ③ 모델링"
   ],
   "metadata": {
    "id": "YT-krLWkhmA5",
    "pycharm": {
     "name": "#%% md\n"
    }
   }
  },
  {
   "cell_type": "code",
   "execution_count": 46,
   "outputs": [
    {
     "data": {
      "text/plain": "GridSearchCV(cv=5, estimator=DecisionTreeClassifier(),\n             param_grid={'max_depth': range(1, 11),\n                         'min_samples_leaf': range(10, 101, 10)})",
      "text/html": "<style>#sk-container-id-4 {color: black;background-color: white;}#sk-container-id-4 pre{padding: 0;}#sk-container-id-4 div.sk-toggleable {background-color: white;}#sk-container-id-4 label.sk-toggleable__label {cursor: pointer;display: block;width: 100%;margin-bottom: 0;padding: 0.3em;box-sizing: border-box;text-align: center;}#sk-container-id-4 label.sk-toggleable__label-arrow:before {content: \"▸\";float: left;margin-right: 0.25em;color: #696969;}#sk-container-id-4 label.sk-toggleable__label-arrow:hover:before {color: black;}#sk-container-id-4 div.sk-estimator:hover label.sk-toggleable__label-arrow:before {color: black;}#sk-container-id-4 div.sk-toggleable__content {max-height: 0;max-width: 0;overflow: hidden;text-align: left;background-color: #f0f8ff;}#sk-container-id-4 div.sk-toggleable__content pre {margin: 0.2em;color: black;border-radius: 0.25em;background-color: #f0f8ff;}#sk-container-id-4 input.sk-toggleable__control:checked~div.sk-toggleable__content {max-height: 200px;max-width: 100%;overflow: auto;}#sk-container-id-4 input.sk-toggleable__control:checked~label.sk-toggleable__label-arrow:before {content: \"▾\";}#sk-container-id-4 div.sk-estimator input.sk-toggleable__control:checked~label.sk-toggleable__label {background-color: #d4ebff;}#sk-container-id-4 div.sk-label input.sk-toggleable__control:checked~label.sk-toggleable__label {background-color: #d4ebff;}#sk-container-id-4 input.sk-hidden--visually {border: 0;clip: rect(1px 1px 1px 1px);clip: rect(1px, 1px, 1px, 1px);height: 1px;margin: -1px;overflow: hidden;padding: 0;position: absolute;width: 1px;}#sk-container-id-4 div.sk-estimator {font-family: monospace;background-color: #f0f8ff;border: 1px dotted black;border-radius: 0.25em;box-sizing: border-box;margin-bottom: 0.5em;}#sk-container-id-4 div.sk-estimator:hover {background-color: #d4ebff;}#sk-container-id-4 div.sk-parallel-item::after {content: \"\";width: 100%;border-bottom: 1px solid gray;flex-grow: 1;}#sk-container-id-4 div.sk-label:hover label.sk-toggleable__label {background-color: #d4ebff;}#sk-container-id-4 div.sk-serial::before {content: \"\";position: absolute;border-left: 1px solid gray;box-sizing: border-box;top: 0;bottom: 0;left: 50%;z-index: 0;}#sk-container-id-4 div.sk-serial {display: flex;flex-direction: column;align-items: center;background-color: white;padding-right: 0.2em;padding-left: 0.2em;position: relative;}#sk-container-id-4 div.sk-item {position: relative;z-index: 1;}#sk-container-id-4 div.sk-parallel {display: flex;align-items: stretch;justify-content: center;background-color: white;position: relative;}#sk-container-id-4 div.sk-item::before, #sk-container-id-4 div.sk-parallel-item::before {content: \"\";position: absolute;border-left: 1px solid gray;box-sizing: border-box;top: 0;bottom: 0;left: 50%;z-index: -1;}#sk-container-id-4 div.sk-parallel-item {display: flex;flex-direction: column;z-index: 1;position: relative;background-color: white;}#sk-container-id-4 div.sk-parallel-item:first-child::after {align-self: flex-end;width: 50%;}#sk-container-id-4 div.sk-parallel-item:last-child::after {align-self: flex-start;width: 50%;}#sk-container-id-4 div.sk-parallel-item:only-child::after {width: 0;}#sk-container-id-4 div.sk-dashed-wrapped {border: 1px dashed gray;margin: 0 0.4em 0.5em 0.4em;box-sizing: border-box;padding-bottom: 0.4em;background-color: white;}#sk-container-id-4 div.sk-label label {font-family: monospace;font-weight: bold;display: inline-block;line-height: 1.2em;}#sk-container-id-4 div.sk-label-container {text-align: center;}#sk-container-id-4 div.sk-container {/* jupyter's `normalize.less` sets `[hidden] { display: none; }` but bootstrap.min.css set `[hidden] { display: none !important; }` so we also need the `!important` here to be able to override the default hidden behavior on the sphinx rendered scikit-learn.org. See: https://github.com/scikit-learn/scikit-learn/issues/21755 */display: inline-block !important;position: relative;}#sk-container-id-4 div.sk-text-repr-fallback {display: none;}</style><div id=\"sk-container-id-4\" class=\"sk-top-container\"><div class=\"sk-text-repr-fallback\"><pre>GridSearchCV(cv=5, estimator=DecisionTreeClassifier(),\n             param_grid={&#x27;max_depth&#x27;: range(1, 11),\n                         &#x27;min_samples_leaf&#x27;: range(10, 101, 10)})</pre><b>In a Jupyter environment, please rerun this cell to show the HTML representation or trust the notebook. <br />On GitHub, the HTML representation is unable to render, please try loading this page with nbviewer.org.</b></div><div class=\"sk-container\" hidden><div class=\"sk-item sk-dashed-wrapped\"><div class=\"sk-label-container\"><div class=\"sk-label sk-toggleable\"><input class=\"sk-toggleable__control sk-hidden--visually\" id=\"sk-estimator-id-10\" type=\"checkbox\" ><label for=\"sk-estimator-id-10\" class=\"sk-toggleable__label sk-toggleable__label-arrow\">GridSearchCV</label><div class=\"sk-toggleable__content\"><pre>GridSearchCV(cv=5, estimator=DecisionTreeClassifier(),\n             param_grid={&#x27;max_depth&#x27;: range(1, 11),\n                         &#x27;min_samples_leaf&#x27;: range(10, 101, 10)})</pre></div></div></div><div class=\"sk-parallel\"><div class=\"sk-parallel-item\"><div class=\"sk-item\"><div class=\"sk-label-container\"><div class=\"sk-label sk-toggleable\"><input class=\"sk-toggleable__control sk-hidden--visually\" id=\"sk-estimator-id-11\" type=\"checkbox\" ><label for=\"sk-estimator-id-11\" class=\"sk-toggleable__label sk-toggleable__label-arrow\">estimator: DecisionTreeClassifier</label><div class=\"sk-toggleable__content\"><pre>DecisionTreeClassifier()</pre></div></div></div><div class=\"sk-serial\"><div class=\"sk-item\"><div class=\"sk-estimator sk-toggleable\"><input class=\"sk-toggleable__control sk-hidden--visually\" id=\"sk-estimator-id-12\" type=\"checkbox\" ><label for=\"sk-estimator-id-12\" class=\"sk-toggleable__label sk-toggleable__label-arrow\">DecisionTreeClassifier</label><div class=\"sk-toggleable__content\"><pre>DecisionTreeClassifier()</pre></div></div></div></div></div></div></div></div></div></div>"
     },
     "execution_count": 46,
     "metadata": {},
     "output_type": "execute_result"
    }
   ],
   "source": [
    "practice_gs.fit(x_train_s, y_train)"
   ],
   "metadata": {
    "collapsed": false,
    "pycharm": {
     "name": "#%%\n"
    }
   }
  },
  {
   "cell_type": "code",
   "execution_count": 49,
   "outputs": [
    {
     "name": "stdout",
     "output_type": "stream",
     "text": [
      "              precision    recall  f1-score   support\n",
      "\n",
      "           0       0.66      0.70      0.68       738\n",
      "           1       0.69      0.66      0.68       762\n",
      "\n",
      "    accuracy                           0.68      1500\n",
      "   macro avg       0.68      0.68      0.68      1500\n",
      "weighted avg       0.68      0.68      0.68      1500\n",
      "\n"
     ]
    }
   ],
   "source": [
    "pred = practice_gs.predict(x_val_s)\n",
    "print(classification_report(y_val, pred))"
   ],
   "metadata": {
    "collapsed": false,
    "pycharm": {
     "name": "#%%\n"
    }
   }
  },
  {
   "cell_type": "code",
   "execution_count": 51,
   "outputs": [
    {
     "data": {
      "text/plain": "{'mean_fit_time': array([0.007231  , 0.00225768, 0.00215907, 0.00262957, 0.00176463,\n        0.0021492 , 0.001999  , 0.00184603, 0.00156384, 0.00156546,\n        0.00259619, 0.00257649, 0.00269861, 0.00251861, 0.00266523,\n        0.00254335, 0.00245595, 0.00249391, 0.00263419, 0.00263004,\n        0.00351763, 0.00353341, 0.00352716, 0.00350637, 0.00363345,\n        0.00348792, 0.00348396, 0.00348282, 0.00346575, 0.00353141,\n        0.00441542, 0.00438366, 0.00435491, 0.00435567, 0.0043272 ,\n        0.00433612, 0.00428829, 0.00427518, 0.00437722, 0.00419745,\n        0.0053504 , 0.00530057, 0.00522771, 0.00519819, 0.00510845,\n        0.00504603, 0.00499644, 0.00489602, 0.00477405, 0.00462756,\n        0.00621295, 0.00610118, 0.0059464 , 0.00585799, 0.00582199,\n        0.00555072, 0.00538731, 0.00542469, 0.00519257, 0.0050385 ,\n        0.00708156, 0.00686555, 0.00662618, 0.0064158 , 0.00612535,\n        0.00578809, 0.00551581, 0.00528808, 0.00537033, 0.00481963,\n        0.00767245, 0.00730829, 0.00685101, 0.0065856 , 0.00619416,\n        0.00576434, 0.0054646 , 0.00526605, 0.00509372, 0.00483918,\n        0.00823288, 0.00756559, 0.00702214, 0.00655022, 0.00622649,\n        0.00585179, 0.00550194, 0.00532904, 0.00511694, 0.00492415,\n        0.00872455, 0.00779452, 0.00713663, 0.00658727, 0.00626125,\n        0.00575857, 0.00551887, 0.00530863, 0.00506954, 0.00490289]),\n 'std_fit_time': array([1.07520667e-02, 5.99186078e-04, 1.11612490e-03, 1.46887081e-03,\n        3.66252367e-04, 8.40828509e-04, 8.22084320e-04, 3.99130373e-04,\n        2.79047126e-05, 1.60397417e-05, 3.23682177e-05, 1.49191717e-04,\n        8.55296738e-05, 6.28402631e-05, 2.22251718e-04, 7.59514332e-05,\n        5.69996946e-05, 5.66488565e-05, 9.24298865e-05, 1.20870592e-04,\n        4.57659352e-05, 3.42020240e-05, 1.23019274e-04, 7.91922160e-05,\n        1.25810970e-04, 6.48657345e-05, 5.08625458e-05, 9.56163734e-05,\n        8.95769538e-05, 8.12040380e-05, 1.76266001e-05, 1.56563873e-05,\n        1.72384382e-05, 6.08598157e-06, 1.94550729e-05, 8.78517306e-05,\n        1.60281135e-05, 2.04499219e-05, 1.60732505e-04, 4.73133486e-05,\n        1.64162229e-05, 1.81463950e-05, 7.36030243e-06, 5.03948075e-05,\n        2.20000284e-05, 3.64191228e-05, 5.75757125e-05, 3.80307454e-05,\n        6.36229080e-05, 4.69711468e-05, 5.06534846e-05, 3.36578811e-05,\n        2.74179293e-05, 7.66886100e-05, 9.74241914e-05, 8.67700303e-05,\n        8.30196636e-05, 1.59374530e-04, 1.88860830e-04, 8.16589724e-05,\n        4.39690403e-05, 5.32692203e-05, 9.10441108e-05, 1.12921080e-04,\n        8.93410885e-05, 1.30307565e-04, 1.06116143e-04, 9.11170058e-05,\n        2.10056288e-04, 8.01604251e-05, 2.41924261e-05, 1.41269026e-04,\n        9.53571076e-05, 1.68794966e-04, 2.55004916e-05, 1.20419331e-04,\n        1.08054015e-04, 7.55317584e-05, 1.57856911e-04, 8.03145816e-05,\n        2.95405911e-05, 7.18444392e-05, 1.50457274e-04, 1.52186268e-04,\n        9.16598855e-05, 1.48029977e-04, 1.29666605e-04, 7.72903760e-05,\n        1.20605400e-04, 1.04467676e-04, 1.17719458e-04, 1.87633974e-04,\n        1.33840079e-04, 1.47057306e-04, 7.53355327e-05, 1.05531335e-04,\n        1.08795014e-04, 6.88358660e-05, 1.39790357e-04, 1.19944252e-04]),\n 'mean_score_time': array([0.00057559, 0.00042357, 0.00021896, 0.00038157, 0.00031548,\n        0.00035644, 0.00037117, 0.0004498 , 0.00018697, 0.00019541,\n        0.0001792 , 0.00021338, 0.00022697, 0.00021138, 0.00025749,\n        0.00020561, 0.00016179, 0.00015807, 0.00019264, 0.00024405,\n        0.00016561, 0.00018268, 0.00018001, 0.00018983, 0.00023737,\n        0.00018034, 0.00017943, 0.00017495, 0.00017838, 0.00017781,\n        0.00015655, 0.00015578, 0.0001555 , 0.00015516, 0.00015559,\n        0.00015645, 0.00015225, 0.00015764, 0.00020428, 0.0001586 ,\n        0.00016341, 0.00016208, 0.00016389, 0.00016918, 0.00016613,\n        0.00016227, 0.00017123, 0.00016384, 0.00016036, 0.00016079,\n        0.00019302, 0.0001688 , 0.00016732, 0.00017905, 0.00017724,\n        0.00016699, 0.00016541, 0.00028586, 0.00020914, 0.0002142 ,\n        0.0002089 , 0.00020099, 0.00019646, 0.00020938, 0.00018897,\n        0.00019083, 0.00021615, 0.00017967, 0.0003046 , 0.00017381,\n        0.00018477, 0.00022216, 0.00017986, 0.00021925, 0.00020323,\n        0.00017276, 0.00016961, 0.00017614, 0.00016761, 0.00016575,\n        0.00018082, 0.00019631, 0.00019526, 0.00018816, 0.00020132,\n        0.00018134, 0.00020213, 0.00017948, 0.00019956, 0.00018883,\n        0.00021591, 0.00021009, 0.000212  , 0.00019631, 0.00022645,\n        0.00017028, 0.00018811, 0.00019131, 0.0001956 , 0.00018716]),\n 'std_score_time': array([5.88095378e-04, 2.07868112e-04, 7.42489201e-06, 3.12656332e-04,\n        2.33267714e-04, 1.87614426e-04, 3.56085612e-04, 4.63018962e-04,\n        1.57532449e-05, 9.31066526e-06, 1.56098454e-05, 1.27327933e-04,\n        4.62647551e-05, 9.51992698e-05, 1.09597367e-04, 5.64609427e-05,\n        2.12781603e-05, 1.44143701e-05, 2.61013361e-05, 8.39867948e-05,\n        1.94316846e-05, 3.18630710e-05, 3.59751436e-05, 2.95913477e-05,\n        7.55302533e-05, 4.05414232e-05, 3.38771240e-05, 1.34544148e-05,\n        3.42249517e-05, 2.63369556e-05, 1.57139369e-06, 1.21195460e-06,\n        2.85067276e-06, 4.34262278e-06, 2.47128649e-06, 1.15232906e-06,\n        2.69992593e-06, 1.56994606e-06, 5.97384667e-05, 3.91877762e-06,\n        3.76852223e-06, 1.74159836e-06, 3.44050484e-06, 1.64544060e-05,\n        4.70210763e-06, 3.92805010e-06, 1.26747227e-05, 1.39347450e-06,\n        2.82342364e-06, 1.16410786e-06, 2.89077390e-05, 1.11828226e-06,\n        1.54806929e-06, 2.31081604e-05, 7.45545228e-06, 3.54787354e-06,\n        2.79021050e-06, 9.86131063e-05, 4.53455340e-05, 2.65464287e-05,\n        1.75696214e-05, 1.79559425e-05, 2.11287831e-05, 1.83402010e-05,\n        1.27963052e-05, 1.45185757e-05, 2.92089909e-05, 8.38962424e-06,\n        8.01488798e-05, 5.45973340e-06, 5.20823190e-06, 4.28820587e-05,\n        5.32394613e-06, 6.74259544e-05, 4.18726019e-05, 1.45102730e-06,\n        1.64214853e-06, 1.35125925e-05, 2.97020178e-06, 2.06421478e-06,\n        3.54787354e-06, 3.02791971e-05, 2.34631017e-05, 1.31259334e-05,\n        1.79942701e-05, 5.79038187e-06, 2.92551935e-05, 8.51978710e-06,\n        5.90899177e-05, 1.63375016e-05, 1.23882257e-05, 1.43728243e-05,\n        2.39001515e-05, 1.07066667e-05, 6.69645427e-05, 1.66824872e-06,\n        2.02905277e-05, 1.73096486e-05, 3.27978012e-05, 1.64076333e-05]),\n 'param_max_depth': masked_array(data=[1, 1, 1, 1, 1, 1, 1, 1, 1, 1, 2, 2, 2, 2, 2, 2, 2, 2,\n                    2, 2, 3, 3, 3, 3, 3, 3, 3, 3, 3, 3, 4, 4, 4, 4, 4, 4,\n                    4, 4, 4, 4, 5, 5, 5, 5, 5, 5, 5, 5, 5, 5, 6, 6, 6, 6,\n                    6, 6, 6, 6, 6, 6, 7, 7, 7, 7, 7, 7, 7, 7, 7, 7, 8, 8,\n                    8, 8, 8, 8, 8, 8, 8, 8, 9, 9, 9, 9, 9, 9, 9, 9, 9, 9,\n                    10, 10, 10, 10, 10, 10, 10, 10, 10, 10],\n              mask=[False, False, False, False, False, False, False, False,\n                    False, False, False, False, False, False, False, False,\n                    False, False, False, False, False, False, False, False,\n                    False, False, False, False, False, False, False, False,\n                    False, False, False, False, False, False, False, False,\n                    False, False, False, False, False, False, False, False,\n                    False, False, False, False, False, False, False, False,\n                    False, False, False, False, False, False, False, False,\n                    False, False, False, False, False, False, False, False,\n                    False, False, False, False, False, False, False, False,\n                    False, False, False, False, False, False, False, False,\n                    False, False, False, False, False, False, False, False,\n                    False, False, False, False],\n        fill_value='?',\n             dtype=object),\n 'param_min_samples_leaf': masked_array(data=[10, 20, 30, 40, 50, 60, 70, 80, 90, 100, 10, 20, 30,\n                    40, 50, 60, 70, 80, 90, 100, 10, 20, 30, 40, 50, 60,\n                    70, 80, 90, 100, 10, 20, 30, 40, 50, 60, 70, 80, 90,\n                    100, 10, 20, 30, 40, 50, 60, 70, 80, 90, 100, 10, 20,\n                    30, 40, 50, 60, 70, 80, 90, 100, 10, 20, 30, 40, 50,\n                    60, 70, 80, 90, 100, 10, 20, 30, 40, 50, 60, 70, 80,\n                    90, 100, 10, 20, 30, 40, 50, 60, 70, 80, 90, 100, 10,\n                    20, 30, 40, 50, 60, 70, 80, 90, 100],\n              mask=[False, False, False, False, False, False, False, False,\n                    False, False, False, False, False, False, False, False,\n                    False, False, False, False, False, False, False, False,\n                    False, False, False, False, False, False, False, False,\n                    False, False, False, False, False, False, False, False,\n                    False, False, False, False, False, False, False, False,\n                    False, False, False, False, False, False, False, False,\n                    False, False, False, False, False, False, False, False,\n                    False, False, False, False, False, False, False, False,\n                    False, False, False, False, False, False, False, False,\n                    False, False, False, False, False, False, False, False,\n                    False, False, False, False, False, False, False, False,\n                    False, False, False, False],\n        fill_value='?',\n             dtype=object),\n 'params': [{'max_depth': 1, 'min_samples_leaf': 10},\n  {'max_depth': 1, 'min_samples_leaf': 20},\n  {'max_depth': 1, 'min_samples_leaf': 30},\n  {'max_depth': 1, 'min_samples_leaf': 40},\n  {'max_depth': 1, 'min_samples_leaf': 50},\n  {'max_depth': 1, 'min_samples_leaf': 60},\n  {'max_depth': 1, 'min_samples_leaf': 70},\n  {'max_depth': 1, 'min_samples_leaf': 80},\n  {'max_depth': 1, 'min_samples_leaf': 90},\n  {'max_depth': 1, 'min_samples_leaf': 100},\n  {'max_depth': 2, 'min_samples_leaf': 10},\n  {'max_depth': 2, 'min_samples_leaf': 20},\n  {'max_depth': 2, 'min_samples_leaf': 30},\n  {'max_depth': 2, 'min_samples_leaf': 40},\n  {'max_depth': 2, 'min_samples_leaf': 50},\n  {'max_depth': 2, 'min_samples_leaf': 60},\n  {'max_depth': 2, 'min_samples_leaf': 70},\n  {'max_depth': 2, 'min_samples_leaf': 80},\n  {'max_depth': 2, 'min_samples_leaf': 90},\n  {'max_depth': 2, 'min_samples_leaf': 100},\n  {'max_depth': 3, 'min_samples_leaf': 10},\n  {'max_depth': 3, 'min_samples_leaf': 20},\n  {'max_depth': 3, 'min_samples_leaf': 30},\n  {'max_depth': 3, 'min_samples_leaf': 40},\n  {'max_depth': 3, 'min_samples_leaf': 50},\n  {'max_depth': 3, 'min_samples_leaf': 60},\n  {'max_depth': 3, 'min_samples_leaf': 70},\n  {'max_depth': 3, 'min_samples_leaf': 80},\n  {'max_depth': 3, 'min_samples_leaf': 90},\n  {'max_depth': 3, 'min_samples_leaf': 100},\n  {'max_depth': 4, 'min_samples_leaf': 10},\n  {'max_depth': 4, 'min_samples_leaf': 20},\n  {'max_depth': 4, 'min_samples_leaf': 30},\n  {'max_depth': 4, 'min_samples_leaf': 40},\n  {'max_depth': 4, 'min_samples_leaf': 50},\n  {'max_depth': 4, 'min_samples_leaf': 60},\n  {'max_depth': 4, 'min_samples_leaf': 70},\n  {'max_depth': 4, 'min_samples_leaf': 80},\n  {'max_depth': 4, 'min_samples_leaf': 90},\n  {'max_depth': 4, 'min_samples_leaf': 100},\n  {'max_depth': 5, 'min_samples_leaf': 10},\n  {'max_depth': 5, 'min_samples_leaf': 20},\n  {'max_depth': 5, 'min_samples_leaf': 30},\n  {'max_depth': 5, 'min_samples_leaf': 40},\n  {'max_depth': 5, 'min_samples_leaf': 50},\n  {'max_depth': 5, 'min_samples_leaf': 60},\n  {'max_depth': 5, 'min_samples_leaf': 70},\n  {'max_depth': 5, 'min_samples_leaf': 80},\n  {'max_depth': 5, 'min_samples_leaf': 90},\n  {'max_depth': 5, 'min_samples_leaf': 100},\n  {'max_depth': 6, 'min_samples_leaf': 10},\n  {'max_depth': 6, 'min_samples_leaf': 20},\n  {'max_depth': 6, 'min_samples_leaf': 30},\n  {'max_depth': 6, 'min_samples_leaf': 40},\n  {'max_depth': 6, 'min_samples_leaf': 50},\n  {'max_depth': 6, 'min_samples_leaf': 60},\n  {'max_depth': 6, 'min_samples_leaf': 70},\n  {'max_depth': 6, 'min_samples_leaf': 80},\n  {'max_depth': 6, 'min_samples_leaf': 90},\n  {'max_depth': 6, 'min_samples_leaf': 100},\n  {'max_depth': 7, 'min_samples_leaf': 10},\n  {'max_depth': 7, 'min_samples_leaf': 20},\n  {'max_depth': 7, 'min_samples_leaf': 30},\n  {'max_depth': 7, 'min_samples_leaf': 40},\n  {'max_depth': 7, 'min_samples_leaf': 50},\n  {'max_depth': 7, 'min_samples_leaf': 60},\n  {'max_depth': 7, 'min_samples_leaf': 70},\n  {'max_depth': 7, 'min_samples_leaf': 80},\n  {'max_depth': 7, 'min_samples_leaf': 90},\n  {'max_depth': 7, 'min_samples_leaf': 100},\n  {'max_depth': 8, 'min_samples_leaf': 10},\n  {'max_depth': 8, 'min_samples_leaf': 20},\n  {'max_depth': 8, 'min_samples_leaf': 30},\n  {'max_depth': 8, 'min_samples_leaf': 40},\n  {'max_depth': 8, 'min_samples_leaf': 50},\n  {'max_depth': 8, 'min_samples_leaf': 60},\n  {'max_depth': 8, 'min_samples_leaf': 70},\n  {'max_depth': 8, 'min_samples_leaf': 80},\n  {'max_depth': 8, 'min_samples_leaf': 90},\n  {'max_depth': 8, 'min_samples_leaf': 100},\n  {'max_depth': 9, 'min_samples_leaf': 10},\n  {'max_depth': 9, 'min_samples_leaf': 20},\n  {'max_depth': 9, 'min_samples_leaf': 30},\n  {'max_depth': 9, 'min_samples_leaf': 40},\n  {'max_depth': 9, 'min_samples_leaf': 50},\n  {'max_depth': 9, 'min_samples_leaf': 60},\n  {'max_depth': 9, 'min_samples_leaf': 70},\n  {'max_depth': 9, 'min_samples_leaf': 80},\n  {'max_depth': 9, 'min_samples_leaf': 90},\n  {'max_depth': 9, 'min_samples_leaf': 100},\n  {'max_depth': 10, 'min_samples_leaf': 10},\n  {'max_depth': 10, 'min_samples_leaf': 20},\n  {'max_depth': 10, 'min_samples_leaf': 30},\n  {'max_depth': 10, 'min_samples_leaf': 40},\n  {'max_depth': 10, 'min_samples_leaf': 50},\n  {'max_depth': 10, 'min_samples_leaf': 60},\n  {'max_depth': 10, 'min_samples_leaf': 70},\n  {'max_depth': 10, 'min_samples_leaf': 80},\n  {'max_depth': 10, 'min_samples_leaf': 90},\n  {'max_depth': 10, 'min_samples_leaf': 100}],\n 'split0_test_score': array([0.64285714, 0.64285714, 0.64285714, 0.64285714, 0.64285714,\n        0.64285714, 0.64285714, 0.64285714, 0.64285714, 0.64285714,\n        0.66571429, 0.66571429, 0.66571429, 0.66571429, 0.66571429,\n        0.66571429, 0.66571429, 0.66571429, 0.66571429, 0.66571429,\n        0.70285714, 0.70285714, 0.70285714, 0.70285714, 0.70285714,\n        0.70285714, 0.70285714, 0.70285714, 0.70285714, 0.70285714,\n        0.70571429, 0.7       , 0.70285714, 0.70285714, 0.70285714,\n        0.70285714, 0.70285714, 0.70285714, 0.70285714, 0.70285714,\n        0.70428571, 0.71857143, 0.72714286, 0.72142857, 0.72142857,\n        0.72142857, 0.72142857, 0.72142857, 0.72142857, 0.72142857,\n        0.72142857, 0.71857143, 0.72857143, 0.70857143, 0.70857143,\n        0.70857143, 0.70857143, 0.72142857, 0.72142857, 0.72142857,\n        0.71142857, 0.71428571, 0.73428571, 0.71428571, 0.70857143,\n        0.70857143, 0.71571429, 0.72857143, 0.72142857, 0.72142857,\n        0.70428571, 0.72142857, 0.73142857, 0.71285714, 0.70714286,\n        0.70857143, 0.71571429, 0.72857143, 0.72142857, 0.72142857,\n        0.68      , 0.71      , 0.73428571, 0.71285714, 0.70714286,\n        0.70857143, 0.71571429, 0.72857143, 0.72142857, 0.72142857,\n        0.66571429, 0.71428571, 0.73428571, 0.71285714, 0.70714286,\n        0.70857143, 0.71571429, 0.72857143, 0.72142857, 0.72142857]),\n 'split1_test_score': array([0.61571429, 0.61571429, 0.61571429, 0.61571429, 0.61571429,\n        0.61571429, 0.61571429, 0.61571429, 0.61571429, 0.61571429,\n        0.65857143, 0.65857143, 0.65857143, 0.65857143, 0.65857143,\n        0.65857143, 0.65857143, 0.65857143, 0.65857143, 0.65857143,\n        0.69285714, 0.69714286, 0.69714286, 0.69714286, 0.69714286,\n        0.69714286, 0.69714286, 0.69714286, 0.69714286, 0.69714286,\n        0.69      , 0.69285714, 0.69285714, 0.69285714, 0.69142857,\n        0.69142857, 0.69142857, 0.69142857, 0.70285714, 0.69428571,\n        0.68571429, 0.68      , 0.68571429, 0.69142857, 0.68285714,\n        0.68      , 0.68      , 0.68      , 0.69142857, 0.68285714,\n        0.67428571, 0.68142857, 0.69142857, 0.69142857, 0.67571429,\n        0.67571429, 0.67571429, 0.67571429, 0.68428571, 0.67857143,\n        0.68      , 0.67857143, 0.70571429, 0.70428571, 0.68      ,\n        0.67571429, 0.67571429, 0.67571429, 0.68428571, 0.67857143,\n        0.66571429, 0.67428571, 0.69142857, 0.69571429, 0.68      ,\n        0.67571429, 0.67571429, 0.67571429, 0.68428571, 0.67857143,\n        0.66857143, 0.67142857, 0.69142857, 0.69571429, 0.68      ,\n        0.67571429, 0.67571429, 0.67571429, 0.68428571, 0.67857143,\n        0.66142857, 0.67857143, 0.69      , 0.69571429, 0.68      ,\n        0.67571429, 0.67571429, 0.67571429, 0.68428571, 0.67857143]),\n 'split2_test_score': array([0.60142857, 0.60142857, 0.60142857, 0.60142857, 0.60142857,\n        0.60142857, 0.60142857, 0.60142857, 0.60142857, 0.60142857,\n        0.65428571, 0.65428571, 0.65428571, 0.65428571, 0.65428571,\n        0.65428571, 0.65428571, 0.65428571, 0.65428571, 0.65428571,\n        0.68      , 0.68      , 0.68      , 0.68      , 0.68      ,\n        0.68      , 0.68      , 0.68      , 0.68      , 0.69      ,\n        0.67428571, 0.67285714, 0.67142857, 0.67142857, 0.67142857,\n        0.67142857, 0.67571429, 0.67142857, 0.68      , 0.67714286,\n        0.66714286, 0.67571429, 0.67857143, 0.67285714, 0.67285714,\n        0.68      , 0.67285714, 0.66857143, 0.67714286, 0.67428571,\n        0.67285714, 0.67428571, 0.67571429, 0.67285714, 0.67857143,\n        0.68428571, 0.67857143, 0.67428571, 0.69      , 0.68142857,\n        0.65714286, 0.67571429, 0.67714286, 0.67714286, 0.68142857,\n        0.68714286, 0.67857143, 0.67428571, 0.69      , 0.68142857,\n        0.65428571, 0.67571429, 0.67285714, 0.68428571, 0.69285714,\n        0.68714286, 0.67857143, 0.67428571, 0.69      , 0.68142857,\n        0.65571429, 0.68428571, 0.68142857, 0.67714286, 0.68714286,\n        0.68714286, 0.67857143, 0.67428571, 0.69      , 0.68142857,\n        0.65714286, 0.67428571, 0.67285714, 0.67714286, 0.68714286,\n        0.68714286, 0.67857143, 0.67428571, 0.69      , 0.68142857]),\n 'split3_test_score': array([0.59714286, 0.59714286, 0.59714286, 0.59714286, 0.59714286,\n        0.59714286, 0.59714286, 0.59714286, 0.59714286, 0.59714286,\n        0.67285714, 0.67285714, 0.67285714, 0.67285714, 0.67285714,\n        0.67285714, 0.67285714, 0.67285714, 0.67285714, 0.67285714,\n        0.69428571, 0.69428571, 0.69428571, 0.69428571, 0.69428571,\n        0.69428571, 0.69428571, 0.69428571, 0.69428571, 0.69428571,\n        0.68857143, 0.68714286, 0.69      , 0.68857143, 0.68857143,\n        0.68714286, 0.70142857, 0.70857143, 0.70857143, 0.70142857,\n        0.68142857, 0.69285714, 0.69571429, 0.69428571, 0.68571429,\n        0.67857143, 0.69857143, 0.70428571, 0.70428571, 0.69714286,\n        0.65285714, 0.65857143, 0.67      , 0.67571429, 0.69285714,\n        0.68571429, 0.70571429, 0.70428571, 0.70428571, 0.69714286,\n        0.66714286, 0.69571429, 0.71      , 0.69857143, 0.68571429,\n        0.67571429, 0.69571429, 0.7       , 0.70285714, 0.69714286,\n        0.66285714, 0.69142857, 0.7       , 0.69142857, 0.68571429,\n        0.67571429, 0.69571429, 0.7       , 0.70285714, 0.69714286,\n        0.66857143, 0.69142857, 0.71142857, 0.68714286, 0.68571429,\n        0.67571429, 0.69571429, 0.7       , 0.70285714, 0.69714286,\n        0.66285714, 0.69285714, 0.71428571, 0.68142857, 0.68571429,\n        0.67571429, 0.69571429, 0.7       , 0.70285714, 0.69714286]),\n 'split4_test_score': array([0.61285714, 0.61285714, 0.61285714, 0.61285714, 0.61285714,\n        0.61285714, 0.61285714, 0.61285714, 0.61285714, 0.61285714,\n        0.65571429, 0.65571429, 0.65571429, 0.65571429, 0.65571429,\n        0.65571429, 0.65571429, 0.65571429, 0.65571429, 0.65571429,\n        0.69      , 0.69142857, 0.69142857, 0.69142857, 0.69142857,\n        0.69142857, 0.69142857, 0.69142857, 0.69142857, 0.69142857,\n        0.68857143, 0.69      , 0.69      , 0.69285714, 0.69285714,\n        0.69285714, 0.69285714, 0.69285714, 0.69285714, 0.69      ,\n        0.69142857, 0.69714286, 0.68857143, 0.68571429, 0.68      ,\n        0.68      , 0.68      , 0.68      , 0.69428571, 0.69142857,\n        0.67285714, 0.68714286, 0.67      , 0.68428571, 0.7       ,\n        0.68285714, 0.68857143, 0.67285714, 0.67857143, 0.68285714,\n        0.65285714, 0.67714286, 0.67571429, 0.68857143, 0.69428571,\n        0.68285714, 0.68428571, 0.67714286, 0.67857143, 0.68285714,\n        0.64571429, 0.67714286, 0.67428571, 0.68714286, 0.69714286,\n        0.68571429, 0.68428571, 0.67285714, 0.67857143, 0.68285714,\n        0.64857143, 0.67428571, 0.67142857, 0.68714286, 0.69714286,\n        0.68571429, 0.68428571, 0.67285714, 0.67857143, 0.68285714,\n        0.63428571, 0.66571429, 0.67142857, 0.68714286, 0.69714286,\n        0.68571429, 0.68428571, 0.67285714, 0.67857143, 0.68285714]),\n 'mean_test_score': array([0.614     , 0.614     , 0.614     , 0.614     , 0.614     ,\n        0.614     , 0.614     , 0.614     , 0.614     , 0.614     ,\n        0.66142857, 0.66142857, 0.66142857, 0.66142857, 0.66142857,\n        0.66142857, 0.66142857, 0.66142857, 0.66142857, 0.66142857,\n        0.692     , 0.69314286, 0.69314286, 0.69314286, 0.69314286,\n        0.69314286, 0.69314286, 0.69314286, 0.69314286, 0.69514286,\n        0.68942857, 0.68857143, 0.68942857, 0.68971429, 0.68942857,\n        0.68914286, 0.69285714, 0.69342857, 0.69742857, 0.69314286,\n        0.686     , 0.69285714, 0.69514286, 0.69314286, 0.68857143,\n        0.688     , 0.69057143, 0.69085714, 0.69771429, 0.69342857,\n        0.67885714, 0.684     , 0.68714286, 0.68657143, 0.69114286,\n        0.68742857, 0.69142857, 0.68971429, 0.69571429, 0.69228571,\n        0.67371429, 0.68828571, 0.70057143, 0.69657143, 0.69      ,\n        0.686     , 0.69      , 0.69114286, 0.69542857, 0.69228571,\n        0.66657143, 0.688     , 0.694     , 0.69428571, 0.69257143,\n        0.68657143, 0.69      , 0.69028571, 0.69542857, 0.69228571,\n        0.66428571, 0.68628571, 0.698     , 0.692     , 0.69142857,\n        0.68657143, 0.69      , 0.69028571, 0.69542857, 0.69228571,\n        0.65628571, 0.68514286, 0.69657143, 0.69085714, 0.69142857,\n        0.68657143, 0.69      , 0.69028571, 0.69542857, 0.69228571]),\n 'std_test_score': array([0.0159949 , 0.0159949 , 0.0159949 , 0.0159949 , 0.0159949 ,\n        0.0159949 , 0.0159949 , 0.0159949 , 0.0159949 , 0.0159949 ,\n        0.00693998, 0.00693998, 0.00693998, 0.00693998, 0.00693998,\n        0.00693998, 0.00693998, 0.00693998, 0.00693998, 0.00693998,\n        0.00737342, 0.00758086, 0.00758086, 0.00758086, 0.00758086,\n        0.00758086, 0.00758086, 0.00758086, 0.00758086, 0.00457143,\n        0.0099632 , 0.00894427, 0.01016597, 0.01027777, 0.01020604,\n        0.01024595, 0.00968904, 0.01270063, 0.01007725, 0.00927582,\n        0.01216888, 0.01509156, 0.01691757, 0.01594378, 0.01697537,\n        0.01672344, 0.01762651, 0.01922159, 0.01469694, 0.016     ,\n        0.02272102, 0.01976185, 0.02214977, 0.01279668, 0.0124998 ,\n        0.01111719, 0.01355262, 0.01967906, 0.01543915, 0.01592329,\n        0.02104611, 0.01488459, 0.02199443, 0.01279668, 0.01053662,\n        0.01210161, 0.01456863, 0.0209645 , 0.01529039, 0.01592329,\n        0.02011396, 0.0178108 , 0.02135033, 0.01006104, 0.00936341,\n        0.0120068 , 0.01456863, 0.02159743, 0.01529039, 0.01592329,\n        0.01099165, 0.01383872, 0.02245358, 0.01197276, 0.00960442,\n        0.0120068 , 0.01456863, 0.02159743, 0.01529039, 0.01592329,\n        0.01134253, 0.0170138 , 0.02438802, 0.0126362 , 0.00960442,\n        0.0120068 , 0.01456863, 0.02159743, 0.01529039, 0.01592329]),\n 'rank_test_score': array([91, 91, 91, 91, 91, 91, 91, 91, 91, 91, 80, 80, 80, 80, 80, 80, 80,\n        80, 80, 80, 37, 18, 18, 18, 18, 18, 18, 18, 18, 13, 56, 61, 56, 54,\n        58, 59, 28, 16,  4, 18, 72, 28, 12, 27, 60, 63, 45, 43,  3, 16, 76,\n        75, 66, 67, 41, 65, 38, 54,  7, 31, 77, 62,  1,  5, 53, 72, 49, 42,\n         8, 31, 78, 63, 15, 14, 30, 67, 49, 46,  8, 31, 79, 71,  2, 36, 39,\n        67, 49, 46,  8, 31, 90, 74,  6, 43, 39, 67, 49, 46,  8, 31],\n       dtype=int32)}"
     },
     "execution_count": 51,
     "metadata": {},
     "output_type": "execute_result"
    }
   ],
   "source": [
    "# 튜닝 결과\n",
    "practice_gs.cv_results_"
   ],
   "metadata": {
    "collapsed": false,
    "pycharm": {
     "name": "#%%\n"
    }
   }
  },
  {
   "cell_type": "code",
   "execution_count": 52,
   "outputs": [
    {
     "data": {
      "text/plain": "[{'max_depth': 1, 'min_samples_leaf': 10},\n {'max_depth': 1, 'min_samples_leaf': 20},\n {'max_depth': 1, 'min_samples_leaf': 30},\n {'max_depth': 1, 'min_samples_leaf': 40},\n {'max_depth': 1, 'min_samples_leaf': 50},\n {'max_depth': 1, 'min_samples_leaf': 60},\n {'max_depth': 1, 'min_samples_leaf': 70},\n {'max_depth': 1, 'min_samples_leaf': 80},\n {'max_depth': 1, 'min_samples_leaf': 90},\n {'max_depth': 1, 'min_samples_leaf': 100},\n {'max_depth': 2, 'min_samples_leaf': 10},\n {'max_depth': 2, 'min_samples_leaf': 20},\n {'max_depth': 2, 'min_samples_leaf': 30},\n {'max_depth': 2, 'min_samples_leaf': 40},\n {'max_depth': 2, 'min_samples_leaf': 50},\n {'max_depth': 2, 'min_samples_leaf': 60},\n {'max_depth': 2, 'min_samples_leaf': 70},\n {'max_depth': 2, 'min_samples_leaf': 80},\n {'max_depth': 2, 'min_samples_leaf': 90},\n {'max_depth': 2, 'min_samples_leaf': 100},\n {'max_depth': 3, 'min_samples_leaf': 10},\n {'max_depth': 3, 'min_samples_leaf': 20},\n {'max_depth': 3, 'min_samples_leaf': 30},\n {'max_depth': 3, 'min_samples_leaf': 40},\n {'max_depth': 3, 'min_samples_leaf': 50},\n {'max_depth': 3, 'min_samples_leaf': 60},\n {'max_depth': 3, 'min_samples_leaf': 70},\n {'max_depth': 3, 'min_samples_leaf': 80},\n {'max_depth': 3, 'min_samples_leaf': 90},\n {'max_depth': 3, 'min_samples_leaf': 100},\n {'max_depth': 4, 'min_samples_leaf': 10},\n {'max_depth': 4, 'min_samples_leaf': 20},\n {'max_depth': 4, 'min_samples_leaf': 30},\n {'max_depth': 4, 'min_samples_leaf': 40},\n {'max_depth': 4, 'min_samples_leaf': 50},\n {'max_depth': 4, 'min_samples_leaf': 60},\n {'max_depth': 4, 'min_samples_leaf': 70},\n {'max_depth': 4, 'min_samples_leaf': 80},\n {'max_depth': 4, 'min_samples_leaf': 90},\n {'max_depth': 4, 'min_samples_leaf': 100},\n {'max_depth': 5, 'min_samples_leaf': 10},\n {'max_depth': 5, 'min_samples_leaf': 20},\n {'max_depth': 5, 'min_samples_leaf': 30},\n {'max_depth': 5, 'min_samples_leaf': 40},\n {'max_depth': 5, 'min_samples_leaf': 50},\n {'max_depth': 5, 'min_samples_leaf': 60},\n {'max_depth': 5, 'min_samples_leaf': 70},\n {'max_depth': 5, 'min_samples_leaf': 80},\n {'max_depth': 5, 'min_samples_leaf': 90},\n {'max_depth': 5, 'min_samples_leaf': 100},\n {'max_depth': 6, 'min_samples_leaf': 10},\n {'max_depth': 6, 'min_samples_leaf': 20},\n {'max_depth': 6, 'min_samples_leaf': 30},\n {'max_depth': 6, 'min_samples_leaf': 40},\n {'max_depth': 6, 'min_samples_leaf': 50},\n {'max_depth': 6, 'min_samples_leaf': 60},\n {'max_depth': 6, 'min_samples_leaf': 70},\n {'max_depth': 6, 'min_samples_leaf': 80},\n {'max_depth': 6, 'min_samples_leaf': 90},\n {'max_depth': 6, 'min_samples_leaf': 100},\n {'max_depth': 7, 'min_samples_leaf': 10},\n {'max_depth': 7, 'min_samples_leaf': 20},\n {'max_depth': 7, 'min_samples_leaf': 30},\n {'max_depth': 7, 'min_samples_leaf': 40},\n {'max_depth': 7, 'min_samples_leaf': 50},\n {'max_depth': 7, 'min_samples_leaf': 60},\n {'max_depth': 7, 'min_samples_leaf': 70},\n {'max_depth': 7, 'min_samples_leaf': 80},\n {'max_depth': 7, 'min_samples_leaf': 90},\n {'max_depth': 7, 'min_samples_leaf': 100},\n {'max_depth': 8, 'min_samples_leaf': 10},\n {'max_depth': 8, 'min_samples_leaf': 20},\n {'max_depth': 8, 'min_samples_leaf': 30},\n {'max_depth': 8, 'min_samples_leaf': 40},\n {'max_depth': 8, 'min_samples_leaf': 50},\n {'max_depth': 8, 'min_samples_leaf': 60},\n {'max_depth': 8, 'min_samples_leaf': 70},\n {'max_depth': 8, 'min_samples_leaf': 80},\n {'max_depth': 8, 'min_samples_leaf': 90},\n {'max_depth': 8, 'min_samples_leaf': 100},\n {'max_depth': 9, 'min_samples_leaf': 10},\n {'max_depth': 9, 'min_samples_leaf': 20},\n {'max_depth': 9, 'min_samples_leaf': 30},\n {'max_depth': 9, 'min_samples_leaf': 40},\n {'max_depth': 9, 'min_samples_leaf': 50},\n {'max_depth': 9, 'min_samples_leaf': 60},\n {'max_depth': 9, 'min_samples_leaf': 70},\n {'max_depth': 9, 'min_samples_leaf': 80},\n {'max_depth': 9, 'min_samples_leaf': 90},\n {'max_depth': 9, 'min_samples_leaf': 100},\n {'max_depth': 10, 'min_samples_leaf': 10},\n {'max_depth': 10, 'min_samples_leaf': 20},\n {'max_depth': 10, 'min_samples_leaf': 30},\n {'max_depth': 10, 'min_samples_leaf': 40},\n {'max_depth': 10, 'min_samples_leaf': 50},\n {'max_depth': 10, 'min_samples_leaf': 60},\n {'max_depth': 10, 'min_samples_leaf': 70},\n {'max_depth': 10, 'min_samples_leaf': 80},\n {'max_depth': 10, 'min_samples_leaf': 90},\n {'max_depth': 10, 'min_samples_leaf': 100}]"
     },
     "execution_count": 52,
     "metadata": {},
     "output_type": "execute_result"
    }
   ],
   "source": [
    "practice_gs.cv_results_['params']"
   ],
   "metadata": {
    "collapsed": false,
    "pycharm": {
     "name": "#%%\n"
    }
   }
  },
  {
   "cell_type": "code",
   "execution_count": 53,
   "outputs": [
    {
     "data": {
      "text/plain": "array([0.614     , 0.614     , 0.614     , 0.614     , 0.614     ,\n       0.614     , 0.614     , 0.614     , 0.614     , 0.614     ,\n       0.66142857, 0.66142857, 0.66142857, 0.66142857, 0.66142857,\n       0.66142857, 0.66142857, 0.66142857, 0.66142857, 0.66142857,\n       0.692     , 0.69314286, 0.69314286, 0.69314286, 0.69314286,\n       0.69314286, 0.69314286, 0.69314286, 0.69314286, 0.69514286,\n       0.68942857, 0.68857143, 0.68942857, 0.68971429, 0.68942857,\n       0.68914286, 0.69285714, 0.69342857, 0.69742857, 0.69314286,\n       0.686     , 0.69285714, 0.69514286, 0.69314286, 0.68857143,\n       0.688     , 0.69057143, 0.69085714, 0.69771429, 0.69342857,\n       0.67885714, 0.684     , 0.68714286, 0.68657143, 0.69114286,\n       0.68742857, 0.69142857, 0.68971429, 0.69571429, 0.69228571,\n       0.67371429, 0.68828571, 0.70057143, 0.69657143, 0.69      ,\n       0.686     , 0.69      , 0.69114286, 0.69542857, 0.69228571,\n       0.66657143, 0.688     , 0.694     , 0.69428571, 0.69257143,\n       0.68657143, 0.69      , 0.69028571, 0.69542857, 0.69228571,\n       0.66428571, 0.68628571, 0.698     , 0.692     , 0.69142857,\n       0.68657143, 0.69      , 0.69028571, 0.69542857, 0.69228571,\n       0.65628571, 0.68514286, 0.69657143, 0.69085714, 0.69142857,\n       0.68657143, 0.69      , 0.69028571, 0.69542857, 0.69228571])"
     },
     "execution_count": 53,
     "metadata": {},
     "output_type": "execute_result"
    }
   ],
   "source": [
    "practice_gs.cv_results_['mean_test_score']"
   ],
   "metadata": {
    "collapsed": false,
    "pycharm": {
     "name": "#%%\n"
    }
   }
  },
  {
   "cell_type": "code",
   "execution_count": 54,
   "outputs": [
    {
     "data": {
      "text/plain": "{'max_depth': 7, 'min_samples_leaf': 30}"
     },
     "execution_count": 54,
     "metadata": {},
     "output_type": "execute_result"
    }
   ],
   "source": [
    "# 최적의 파라미터\n",
    "practice_gs.best_params_"
   ],
   "metadata": {
    "collapsed": false,
    "pycharm": {
     "name": "#%%\n"
    }
   }
  },
  {
   "cell_type": "code",
   "execution_count": 55,
   "outputs": [
    {
     "data": {
      "text/plain": "0.7005714285714285"
     },
     "execution_count": 55,
     "metadata": {},
     "output_type": "execute_result"
    }
   ],
   "source": [
    "# 그때의 성능\n",
    "practice_gs.best_score_"
   ],
   "metadata": {
    "collapsed": false,
    "pycharm": {
     "name": "#%%\n"
    }
   }
  },
  {
   "cell_type": "code",
   "execution_count": null,
   "outputs": [],
   "source": [],
   "metadata": {
    "collapsed": false,
    "pycharm": {
     "name": "#%%\n"
    }
   }
  }
 ]
}