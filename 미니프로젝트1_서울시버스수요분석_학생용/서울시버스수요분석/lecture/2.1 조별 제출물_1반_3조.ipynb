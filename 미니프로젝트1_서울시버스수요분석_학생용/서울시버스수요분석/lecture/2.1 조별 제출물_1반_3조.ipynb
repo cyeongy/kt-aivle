{
 "cells": [
  {
   "cell_type": "markdown",
   "id": "boxed-jamaica",
   "metadata": {
    "id": "boxed-jamaica",
    "pycharm": {
     "name": "#%% md\n"
    }
   },
   "source": [
    "# 안녕하세요:)\n",
    "\n",
    "## AIVLE 1차 미니프로젝트 '서울시 생활정보 기반 대중교통 수요 분석 ' 과정에 오신 여러분을 환영합니다.\n",
    "* 본 과정에서는 서울시 생활정보 데이터를 기반으로 데이터 분석을 시도하고 주어진 문제를 해결할 것입니다.\n",
    "\n",
    "\n",
    "* 우리는 공공 데이터를 활용해 버스노선 관련 인사이트를 도출하여 유용한 정책을 세우는데 도움을 주고자 합니다"
   ]
  },
  {
   "cell_type": "markdown",
   "id": "46fa690c",
   "metadata": {
    "id": "46fa690c",
    "pycharm": {
     "name": "#%% md\n"
    }
   },
   "source": [
    "## ▣ 우리가 풀어야 하는 문제는 무엇인가요?\n",
    "\n",
    "* 제공 데이터\n",
    "    - 구 별 유동인구 데이터\n",
    "    - 구 별 주민 등록 데이터\n",
    "    - 구 별 업종 등록 정보\n",
    "    - 버스 승하차 및 운행 노선 데이터 \n",
    "\n",
    "### 위 제공 데이터를 분석하여 버스 노선 추가 필요 대상 지역(구 단위)을 선정합니다"
   ]
  },
  {
   "cell_type": "markdown",
   "id": "22a4bba9",
   "metadata": {
    "pycharm": {
     "name": "#%% md\n"
    }
   },
   "source": [
    "# 이 4개의 데이터들을 어떻게 합칠까요?"
   ]
  },
  {
   "cell_type": "code",
   "execution_count": 1,
   "id": "ce78669f",
   "metadata": {
    "pycharm": {
     "name": "#%%\n"
    }
   },
   "outputs": [],
   "source": [
    "import pandas as pd\n",
    "import scipy.stats as spst\n",
    "import seaborn as sns\n",
    "import matplotlib.pyplot as plt"
   ]
  },
  {
   "cell_type": "code",
   "execution_count": 2,
   "id": "d91f797e",
   "metadata": {
    "pycharm": {
     "name": "#%%\n"
    }
   },
   "outputs": [],
   "source": [
    "standard = pd.DataFrame({'도착 시군구 코드': [11010, 11020, 11030, 11040, 11050, 11060, 11070, 11080, 11090, 11100, 11110, 11120, 11130, 11140, 11150, 11160, 11170, 11180, 11190, 11200, 11210, 11220, 11230, 11240, 11250],\n",
    "                         '자치구' :['종로구','중구','용산구','성동구','광진구','동대문구','중랑구','성북구','강북구','도봉구','노원구','은평구','서대문구','마포구','양천구','강서구','구로구','금천구','영등포구','동작구','관악구','서초구','강남구','송파구','강동구']})"
   ]
  },
  {
   "cell_type": "code",
   "execution_count": 3,
   "id": "823d3b41",
   "metadata": {
    "pycharm": {
     "name": "#%%\n"
    }
   },
   "outputs": [
    {
     "data": {
      "text/html": [
       "<div>\n",
       "<style scoped>\n",
       "    .dataframe tbody tr th:only-of-type {\n",
       "        vertical-align: middle;\n",
       "    }\n",
       "\n",
       "    .dataframe tbody tr th {\n",
       "        vertical-align: top;\n",
       "    }\n",
       "\n",
       "    .dataframe thead th {\n",
       "        text-align: right;\n",
       "    }\n",
       "</style>\n",
       "<table border=\"1\" class=\"dataframe\">\n",
       "  <thead>\n",
       "    <tr style=\"text-align: right;\">\n",
       "      <th></th>\n",
       "      <th>도착 시군구 코드</th>\n",
       "      <th>자치구</th>\n",
       "    </tr>\n",
       "  </thead>\n",
       "  <tbody>\n",
       "    <tr>\n",
       "      <th>0</th>\n",
       "      <td>11010</td>\n",
       "      <td>종로구</td>\n",
       "    </tr>\n",
       "    <tr>\n",
       "      <th>1</th>\n",
       "      <td>11020</td>\n",
       "      <td>중구</td>\n",
       "    </tr>\n",
       "    <tr>\n",
       "      <th>2</th>\n",
       "      <td>11030</td>\n",
       "      <td>용산구</td>\n",
       "    </tr>\n",
       "    <tr>\n",
       "      <th>3</th>\n",
       "      <td>11040</td>\n",
       "      <td>성동구</td>\n",
       "    </tr>\n",
       "    <tr>\n",
       "      <th>4</th>\n",
       "      <td>11050</td>\n",
       "      <td>광진구</td>\n",
       "    </tr>\n",
       "    <tr>\n",
       "      <th>5</th>\n",
       "      <td>11060</td>\n",
       "      <td>동대문구</td>\n",
       "    </tr>\n",
       "    <tr>\n",
       "      <th>6</th>\n",
       "      <td>11070</td>\n",
       "      <td>중랑구</td>\n",
       "    </tr>\n",
       "    <tr>\n",
       "      <th>7</th>\n",
       "      <td>11080</td>\n",
       "      <td>성북구</td>\n",
       "    </tr>\n",
       "    <tr>\n",
       "      <th>8</th>\n",
       "      <td>11090</td>\n",
       "      <td>강북구</td>\n",
       "    </tr>\n",
       "    <tr>\n",
       "      <th>9</th>\n",
       "      <td>11100</td>\n",
       "      <td>도봉구</td>\n",
       "    </tr>\n",
       "    <tr>\n",
       "      <th>10</th>\n",
       "      <td>11110</td>\n",
       "      <td>노원구</td>\n",
       "    </tr>\n",
       "    <tr>\n",
       "      <th>11</th>\n",
       "      <td>11120</td>\n",
       "      <td>은평구</td>\n",
       "    </tr>\n",
       "    <tr>\n",
       "      <th>12</th>\n",
       "      <td>11130</td>\n",
       "      <td>서대문구</td>\n",
       "    </tr>\n",
       "    <tr>\n",
       "      <th>13</th>\n",
       "      <td>11140</td>\n",
       "      <td>마포구</td>\n",
       "    </tr>\n",
       "    <tr>\n",
       "      <th>14</th>\n",
       "      <td>11150</td>\n",
       "      <td>양천구</td>\n",
       "    </tr>\n",
       "    <tr>\n",
       "      <th>15</th>\n",
       "      <td>11160</td>\n",
       "      <td>강서구</td>\n",
       "    </tr>\n",
       "    <tr>\n",
       "      <th>16</th>\n",
       "      <td>11170</td>\n",
       "      <td>구로구</td>\n",
       "    </tr>\n",
       "    <tr>\n",
       "      <th>17</th>\n",
       "      <td>11180</td>\n",
       "      <td>금천구</td>\n",
       "    </tr>\n",
       "    <tr>\n",
       "      <th>18</th>\n",
       "      <td>11190</td>\n",
       "      <td>영등포구</td>\n",
       "    </tr>\n",
       "    <tr>\n",
       "      <th>19</th>\n",
       "      <td>11200</td>\n",
       "      <td>동작구</td>\n",
       "    </tr>\n",
       "    <tr>\n",
       "      <th>20</th>\n",
       "      <td>11210</td>\n",
       "      <td>관악구</td>\n",
       "    </tr>\n",
       "    <tr>\n",
       "      <th>21</th>\n",
       "      <td>11220</td>\n",
       "      <td>서초구</td>\n",
       "    </tr>\n",
       "    <tr>\n",
       "      <th>22</th>\n",
       "      <td>11230</td>\n",
       "      <td>강남구</td>\n",
       "    </tr>\n",
       "    <tr>\n",
       "      <th>23</th>\n",
       "      <td>11240</td>\n",
       "      <td>송파구</td>\n",
       "    </tr>\n",
       "    <tr>\n",
       "      <th>24</th>\n",
       "      <td>11250</td>\n",
       "      <td>강동구</td>\n",
       "    </tr>\n",
       "  </tbody>\n",
       "</table>\n",
       "</div>"
      ],
      "text/plain": [
       "    도착 시군구 코드   자치구\n",
       "0       11010   종로구\n",
       "1       11020    중구\n",
       "2       11030   용산구\n",
       "3       11040   성동구\n",
       "4       11050   광진구\n",
       "5       11060  동대문구\n",
       "6       11070   중랑구\n",
       "7       11080   성북구\n",
       "8       11090   강북구\n",
       "9       11100   도봉구\n",
       "10      11110   노원구\n",
       "11      11120   은평구\n",
       "12      11130  서대문구\n",
       "13      11140   마포구\n",
       "14      11150   양천구\n",
       "15      11160   강서구\n",
       "16      11170   구로구\n",
       "17      11180   금천구\n",
       "18      11190  영등포구\n",
       "19      11200   동작구\n",
       "20      11210   관악구\n",
       "21      11220   서초구\n",
       "22      11230   강남구\n",
       "23      11240   송파구\n",
       "24      11250   강동구"
      ]
     },
     "execution_count": 3,
     "metadata": {},
     "output_type": "execute_result"
    }
   ],
   "source": [
    "standard"
   ]
  },
  {
   "cell_type": "code",
   "execution_count": 57,
   "metadata": {
    "collapsed": false,
    "pycharm": {
     "name": "#%%\n"
    }
   },
   "outputs": [],
   "source": [
    "#데이터 전처리\n",
    "\n",
    "bus_station = pd.read_csv('1.1 BUS_STATION_BOARDING_MONTH_202204.csv', sep=\",\", encoding = \"cp949\")\n",
    "seoul_moving = pd.read_csv('1.2 seoul_moving_month_4.csv', sep=\",\", index_col=0, encoding='UTF-8')"
   ]
  },
  {
   "cell_type": "code",
   "execution_count": 58,
   "metadata": {
    "collapsed": false,
    "pycharm": {
     "name": "#%%\n"
    }
   },
   "outputs": [],
   "source": [
    "# 서울 내 이동만 포함\n",
    "seoul_moving = seoul_moving[(seoul_moving[\"출발 시군구 코드\"] < 20000) & (seoul_moving[\"도착 시군구 코드\"] < 20000)]"
   ]
  },
  {
   "cell_type": "code",
   "execution_count": 6,
   "metadata": {
    "collapsed": false,
    "pycharm": {
     "name": "#%%\n"
    }
   },
   "outputs": [
    {
     "data": {
      "text/plain": [
       "0          06\n",
       "1          06\n",
       "2          06\n",
       "3          06\n",
       "4          11\n",
       "           ..\n",
       "1169873    12\n",
       "1169874    06\n",
       "1169875    16\n",
       "1169876    25\n",
       "1169877    06\n",
       "Name: 자치구, Length: 1169878, dtype: object"
      ]
     },
     "execution_count": 6,
     "metadata": {},
     "output_type": "execute_result"
    }
   ],
   "source": [
    "# 자치구 추가\n",
    "bus_station['자치구'] = bus_station[\"버스정류장ARS번호\"].str.slice(start=0, stop=2)\n",
    "bus_station['자치구']\n",
    "\n",
    "# 가상 지점, NaN제거"
   ]
  },
  {
   "cell_type": "code",
   "execution_count": 7,
   "metadata": {
    "collapsed": false,
    "pycharm": {
     "name": "#%%\n"
    }
   },
   "outputs": [],
   "source": [
    "# bus_station = bus_station.dropna()\n",
    "# bus_station = bus_station.astype({\"버스정류장ARS번호\":'int'})"
   ]
  },
  {
   "cell_type": "code",
   "execution_count": 59,
   "metadata": {
    "collapsed": false,
    "pycharm": {
     "name": "#%%\n"
    }
   },
   "outputs": [],
   "source": [
    "seoul_moving['이동인구(합)'].replace(\"*\", \"1.5\", inplace=True)\n",
    "seoul_moving = seoul_moving.astype({'이동인구(합)': float})\n"
   ]
  },
  {
   "cell_type": "code",
   "execution_count": 60,
   "id": "5ee007e0",
   "metadata": {
    "pycharm": {
     "name": "#%%\n"
    }
   },
   "outputs": [],
   "source": [
    "# 버스 정류장 데이터 - df_seoul_bus_station\n",
    "# 유동인구 데이터 - df_seoul_moving\n",
    "# 구별 상권 데이터 - df_seoul_business\n",
    "# 구별 등록 인구 데이터 - df_seoul_people"
   ]
  },
  {
   "cell_type": "code",
   "execution_count": 10,
   "id": "d8f6cfe8",
   "metadata": {
    "pycharm": {
     "name": "#%%\n"
    }
   },
   "outputs": [
    {
     "data": {
      "text/html": [
       "<div>\n",
       "<style scoped>\n",
       "    .dataframe tbody tr th:only-of-type {\n",
       "        vertical-align: middle;\n",
       "    }\n",
       "\n",
       "    .dataframe tbody tr th {\n",
       "        vertical-align: top;\n",
       "    }\n",
       "\n",
       "    .dataframe thead th {\n",
       "        text-align: right;\n",
       "    }\n",
       "</style>\n",
       "<table border=\"1\" class=\"dataframe\">\n",
       "  <thead>\n",
       "    <tr style=\"text-align: right;\">\n",
       "      <th></th>\n",
       "      <th>자치구</th>\n",
       "      <th>정류장수</th>\n",
       "      <th>노선수</th>\n",
       "      <th>승차총승객수</th>\n",
       "      <th>하차총승객수</th>\n",
       "      <th>승차평균승객수</th>\n",
       "      <th>하차평균승객수</th>\n",
       "    </tr>\n",
       "  </thead>\n",
       "  <tbody>\n",
       "    <tr>\n",
       "      <th>0</th>\n",
       "      <td>강남구</td>\n",
       "      <td>499</td>\n",
       "      <td>91</td>\n",
       "      <td>8030483</td>\n",
       "      <td>7569213</td>\n",
       "      <td>128.767927</td>\n",
       "      <td>121.371512</td>\n",
       "    </tr>\n",
       "    <tr>\n",
       "      <th>1</th>\n",
       "      <td>강동구</td>\n",
       "      <td>369</td>\n",
       "      <td>21</td>\n",
       "      <td>2890053</td>\n",
       "      <td>2830506</td>\n",
       "      <td>99.161194</td>\n",
       "      <td>97.118065</td>\n",
       "    </tr>\n",
       "    <tr>\n",
       "      <th>2</th>\n",
       "      <td>강북구</td>\n",
       "      <td>413</td>\n",
       "      <td>67</td>\n",
       "      <td>4825181</td>\n",
       "      <td>4671783</td>\n",
       "      <td>133.020373</td>\n",
       "      <td>128.791504</td>\n",
       "    </tr>\n",
       "    <tr>\n",
       "      <th>3</th>\n",
       "      <td>강서구</td>\n",
       "      <td>566</td>\n",
       "      <td>49</td>\n",
       "      <td>4681083</td>\n",
       "      <td>4652828</td>\n",
       "      <td>88.119480</td>\n",
       "      <td>87.587591</td>\n",
       "    </tr>\n",
       "    <tr>\n",
       "      <th>4</th>\n",
       "      <td>관악구</td>\n",
       "      <td>466</td>\n",
       "      <td>86</td>\n",
       "      <td>7655819</td>\n",
       "      <td>7792476</td>\n",
       "      <td>154.753674</td>\n",
       "      <td>157.516040</td>\n",
       "    </tr>\n",
       "  </tbody>\n",
       "</table>\n",
       "</div>"
      ],
      "text/plain": [
       "   자치구  정류장수  노선수   승차총승객수   하차총승객수     승차평균승객수     하차평균승객수\n",
       "0  강남구   499   91  8030483  7569213  128.767927  121.371512\n",
       "1  강동구   369   21  2890053  2830506   99.161194   97.118065\n",
       "2  강북구   413   67  4825181  4671783  133.020373  128.791504\n",
       "3  강서구   566   49  4681083  4652828   88.119480   87.587591\n",
       "4  관악구   466   86  7655819  7792476  154.753674  157.516040"
      ]
     },
     "execution_count": 10,
     "metadata": {},
     "output_type": "execute_result"
    }
   ],
   "source": [
    "df_seoul_bus_station = pd.read_csv('df_seoul_bus_station.csv', sep=\",\", encoding = 'UTF-8')\n",
    "df_seoul_bus_station.head()"
   ]
  },
  {
   "cell_type": "code",
   "execution_count": 11,
   "id": "7770cc4c",
   "metadata": {
    "pycharm": {
     "name": "#%%\n"
    }
   },
   "outputs": [
    {
     "data": {
      "text/html": [
       "<div>\n",
       "<style scoped>\n",
       "    .dataframe tbody tr th:only-of-type {\n",
       "        vertical-align: middle;\n",
       "    }\n",
       "\n",
       "    .dataframe tbody tr th {\n",
       "        vertical-align: top;\n",
       "    }\n",
       "\n",
       "    .dataframe thead th {\n",
       "        text-align: right;\n",
       "    }\n",
       "</style>\n",
       "<table border=\"1\" class=\"dataframe\">\n",
       "  <thead>\n",
       "    <tr style=\"text-align: right;\">\n",
       "      <th></th>\n",
       "      <th>도착 시군구 코드</th>\n",
       "      <th>평균 이동 시간(분)</th>\n",
       "      <th>이동인구(합)</th>\n",
       "      <th>총 이동 시간</th>\n",
       "      <th>총 이동인구</th>\n",
       "    </tr>\n",
       "  </thead>\n",
       "  <tbody>\n",
       "    <tr>\n",
       "      <th>0</th>\n",
       "      <td>11010</td>\n",
       "      <td>21.867754</td>\n",
       "      <td>46.046219</td>\n",
       "      <td>5471640</td>\n",
       "      <td>11521454.69</td>\n",
       "    </tr>\n",
       "    <tr>\n",
       "      <th>1</th>\n",
       "      <td>11020</td>\n",
       "      <td>21.524817</td>\n",
       "      <td>46.214336</td>\n",
       "      <td>5368440</td>\n",
       "      <td>11526178.91</td>\n",
       "    </tr>\n",
       "    <tr>\n",
       "      <th>2</th>\n",
       "      <td>11030</td>\n",
       "      <td>21.820458</td>\n",
       "      <td>38.412082</td>\n",
       "      <td>4959790</td>\n",
       "      <td>8731066.25</td>\n",
       "    </tr>\n",
       "    <tr>\n",
       "      <th>3</th>\n",
       "      <td>11040</td>\n",
       "      <td>22.150334</td>\n",
       "      <td>44.717847</td>\n",
       "      <td>5139830</td>\n",
       "      <td>10376463.41</td>\n",
       "    </tr>\n",
       "    <tr>\n",
       "      <th>4</th>\n",
       "      <td>11050</td>\n",
       "      <td>22.810568</td>\n",
       "      <td>50.043326</td>\n",
       "      <td>5020720</td>\n",
       "      <td>11014786.16</td>\n",
       "    </tr>\n",
       "  </tbody>\n",
       "</table>\n",
       "</div>"
      ],
      "text/plain": [
       "   도착 시군구 코드  평균 이동 시간(분)    이동인구(합)  총 이동 시간       총 이동인구\n",
       "0      11010    21.867754  46.046219  5471640  11521454.69\n",
       "1      11020    21.524817  46.214336  5368440  11526178.91\n",
       "2      11030    21.820458  38.412082  4959790   8731066.25\n",
       "3      11040    22.150334  44.717847  5139830  10376463.41\n",
       "4      11050    22.810568  50.043326  5020720  11014786.16"
      ]
     },
     "execution_count": 11,
     "metadata": {},
     "output_type": "execute_result"
    }
   ],
   "source": [
    "df_seoul_moving = pd.read_csv('df_seoul_moving.csv', sep=\",\", encoding = 'UTF-8')\n",
    "df_seoul_moving.head()"
   ]
  },
  {
   "cell_type": "code",
   "execution_count": 12,
   "id": "22e16caa",
   "metadata": {
    "pycharm": {
     "name": "#%%\n"
    }
   },
   "outputs": [],
   "source": [
    "# df_seoul_business = pd.read_csv('df_seoul_business.csv', sep=\",\", encoding = 'UTF-8')\n",
    "# df_seoul_business.head()"
   ]
  },
  {
   "cell_type": "code",
   "execution_count": 13,
   "id": "b144c7e9",
   "metadata": {
    "pycharm": {
     "name": "#%%\n"
    }
   },
   "outputs": [],
   "source": [
    "# df_seoul_people = pd.read_csv('df_seoul_people.csv', sep=\",\", encoding = 'UTF-8')\n",
    "# df_seoul_people.head()"
   ]
  },
  {
   "cell_type": "code",
   "execution_count": 14,
   "id": "24951c98",
   "metadata": {
    "pycharm": {
     "name": "#%%\n"
    }
   },
   "outputs": [],
   "source": [
    "df = pd.merge(standard,df_seoul_bus_station,how='inner', on='자치구')"
   ]
  },
  {
   "cell_type": "code",
   "execution_count": 15,
   "id": "6a6559c8",
   "metadata": {
    "pycharm": {
     "name": "#%%\n"
    }
   },
   "outputs": [],
   "source": [
    "df = pd.merge(df,df_seoul_moving,how='inner', on='도착 시군구 코드')"
   ]
  },
  {
   "cell_type": "code",
   "execution_count": 16,
   "id": "8b831c84",
   "metadata": {
    "pycharm": {
     "name": "#%%\n"
    }
   },
   "outputs": [],
   "source": [
    "# df = pd.merge(df,df_seoul_business,how='inner', on='자치구')"
   ]
  },
  {
   "cell_type": "code",
   "execution_count": 17,
   "id": "10144b50",
   "metadata": {
    "pycharm": {
     "name": "#%%\n"
    }
   },
   "outputs": [],
   "source": [
    "# df = pd.merge(df,df_seoul_people,how='inner', on='자치구')"
   ]
  },
  {
   "cell_type": "code",
   "execution_count": 18,
   "id": "2aab60fa",
   "metadata": {
    "pycharm": {
     "name": "#%%\n"
    }
   },
   "outputs": [
    {
     "data": {
      "text/html": [
       "<div>\n",
       "<style scoped>\n",
       "    .dataframe tbody tr th:only-of-type {\n",
       "        vertical-align: middle;\n",
       "    }\n",
       "\n",
       "    .dataframe tbody tr th {\n",
       "        vertical-align: top;\n",
       "    }\n",
       "\n",
       "    .dataframe thead th {\n",
       "        text-align: right;\n",
       "    }\n",
       "</style>\n",
       "<table border=\"1\" class=\"dataframe\">\n",
       "  <thead>\n",
       "    <tr style=\"text-align: right;\">\n",
       "      <th></th>\n",
       "      <th>도착 시군구 코드</th>\n",
       "      <th>자치구</th>\n",
       "      <th>정류장수</th>\n",
       "      <th>노선수</th>\n",
       "      <th>승차총승객수</th>\n",
       "      <th>하차총승객수</th>\n",
       "      <th>승차평균승객수</th>\n",
       "      <th>하차평균승객수</th>\n",
       "      <th>평균 이동 시간(분)</th>\n",
       "      <th>이동인구(합)</th>\n",
       "      <th>총 이동 시간</th>\n",
       "      <th>총 이동인구</th>\n",
       "    </tr>\n",
       "  </thead>\n",
       "  <tbody>\n",
       "    <tr>\n",
       "      <th>0</th>\n",
       "      <td>11010</td>\n",
       "      <td>종로구</td>\n",
       "      <td>349</td>\n",
       "      <td>106</td>\n",
       "      <td>5468935</td>\n",
       "      <td>5205394</td>\n",
       "      <td>131.889620</td>\n",
       "      <td>125.534028</td>\n",
       "      <td>21.867754</td>\n",
       "      <td>46.046219</td>\n",
       "      <td>5471640</td>\n",
       "      <td>11521454.69</td>\n",
       "    </tr>\n",
       "    <tr>\n",
       "      <th>1</th>\n",
       "      <td>11020</td>\n",
       "      <td>중구</td>\n",
       "      <td>178</td>\n",
       "      <td>103</td>\n",
       "      <td>3776675</td>\n",
       "      <td>3598932</td>\n",
       "      <td>121.020124</td>\n",
       "      <td>115.324511</td>\n",
       "      <td>21.524817</td>\n",
       "      <td>46.214336</td>\n",
       "      <td>5368440</td>\n",
       "      <td>11526178.91</td>\n",
       "    </tr>\n",
       "    <tr>\n",
       "      <th>2</th>\n",
       "      <td>11030</td>\n",
       "      <td>용산구</td>\n",
       "      <td>323</td>\n",
       "      <td>67</td>\n",
       "      <td>4189977</td>\n",
       "      <td>4086474</td>\n",
       "      <td>137.891694</td>\n",
       "      <td>134.485421</td>\n",
       "      <td>21.820458</td>\n",
       "      <td>38.412082</td>\n",
       "      <td>4959790</td>\n",
       "      <td>8731066.25</td>\n",
       "    </tr>\n",
       "    <tr>\n",
       "      <th>3</th>\n",
       "      <td>11040</td>\n",
       "      <td>성동구</td>\n",
       "      <td>435</td>\n",
       "      <td>58</td>\n",
       "      <td>2807280</td>\n",
       "      <td>2746738</td>\n",
       "      <td>96.377369</td>\n",
       "      <td>94.298888</td>\n",
       "      <td>22.150334</td>\n",
       "      <td>44.717847</td>\n",
       "      <td>5139830</td>\n",
       "      <td>10376463.41</td>\n",
       "    </tr>\n",
       "    <tr>\n",
       "      <th>4</th>\n",
       "      <td>11050</td>\n",
       "      <td>광진구</td>\n",
       "      <td>269</td>\n",
       "      <td>41</td>\n",
       "      <td>2749448</td>\n",
       "      <td>2753411</td>\n",
       "      <td>118.352546</td>\n",
       "      <td>118.523137</td>\n",
       "      <td>22.810568</td>\n",
       "      <td>50.043326</td>\n",
       "      <td>5020720</td>\n",
       "      <td>11014786.16</td>\n",
       "    </tr>\n",
       "  </tbody>\n",
       "</table>\n",
       "</div>"
      ],
      "text/plain": [
       "   도착 시군구 코드  자치구  정류장수  노선수   승차총승객수   하차총승객수     승차평균승객수     하차평균승객수  \\\n",
       "0      11010  종로구   349  106  5468935  5205394  131.889620  125.534028   \n",
       "1      11020   중구   178  103  3776675  3598932  121.020124  115.324511   \n",
       "2      11030  용산구   323   67  4189977  4086474  137.891694  134.485421   \n",
       "3      11040  성동구   435   58  2807280  2746738   96.377369   94.298888   \n",
       "4      11050  광진구   269   41  2749448  2753411  118.352546  118.523137   \n",
       "\n",
       "   평균 이동 시간(분)    이동인구(합)  총 이동 시간       총 이동인구  \n",
       "0    21.867754  46.046219  5471640  11521454.69  \n",
       "1    21.524817  46.214336  5368440  11526178.91  \n",
       "2    21.820458  38.412082  4959790   8731066.25  \n",
       "3    22.150334  44.717847  5139830  10376463.41  \n",
       "4    22.810568  50.043326  5020720  11014786.16  "
      ]
     },
     "execution_count": 18,
     "metadata": {},
     "output_type": "execute_result"
    }
   ],
   "source": [
    "df.head()"
   ]
  },
  {
   "cell_type": "code",
   "execution_count": 19,
   "id": "f30d1f52",
   "metadata": {
    "pycharm": {
     "name": "#%%\n"
    }
   },
   "outputs": [
    {
     "data": {
      "text/html": [
       "<div>\n",
       "<style scoped>\n",
       "    .dataframe tbody tr th:only-of-type {\n",
       "        vertical-align: middle;\n",
       "    }\n",
       "\n",
       "    .dataframe tbody tr th {\n",
       "        vertical-align: top;\n",
       "    }\n",
       "\n",
       "    .dataframe thead th {\n",
       "        text-align: right;\n",
       "    }\n",
       "</style>\n",
       "<table border=\"1\" class=\"dataframe\">\n",
       "  <thead>\n",
       "    <tr style=\"text-align: right;\">\n",
       "      <th></th>\n",
       "      <th>도착 시군구 코드</th>\n",
       "      <th>정류장수</th>\n",
       "      <th>노선수</th>\n",
       "      <th>승차총승객수</th>\n",
       "      <th>하차총승객수</th>\n",
       "      <th>승차평균승객수</th>\n",
       "      <th>하차평균승객수</th>\n",
       "      <th>평균 이동 시간(분)</th>\n",
       "      <th>이동인구(합)</th>\n",
       "      <th>총 이동 시간</th>\n",
       "      <th>총 이동인구</th>\n",
       "    </tr>\n",
       "  </thead>\n",
       "  <tbody>\n",
       "    <tr>\n",
       "      <th>도착 시군구 코드</th>\n",
       "      <td>1.000000</td>\n",
       "      <td>0.447511</td>\n",
       "      <td>-0.069435</td>\n",
       "      <td>0.440756</td>\n",
       "      <td>0.441705</td>\n",
       "      <td>0.017980</td>\n",
       "      <td>0.029956</td>\n",
       "      <td>0.457965</td>\n",
       "      <td>0.639658</td>\n",
       "      <td>0.276925</td>\n",
       "      <td>0.531874</td>\n",
       "    </tr>\n",
       "    <tr>\n",
       "      <th>정류장수</th>\n",
       "      <td>0.447511</td>\n",
       "      <td>1.000000</td>\n",
       "      <td>0.258798</td>\n",
       "      <td>0.566681</td>\n",
       "      <td>0.578479</td>\n",
       "      <td>-0.135318</td>\n",
       "      <td>-0.099146</td>\n",
       "      <td>0.199466</td>\n",
       "      <td>0.387141</td>\n",
       "      <td>0.359348</td>\n",
       "      <td>0.370605</td>\n",
       "    </tr>\n",
       "    <tr>\n",
       "      <th>노선수</th>\n",
       "      <td>-0.069435</td>\n",
       "      <td>0.258798</td>\n",
       "      <td>1.000000</td>\n",
       "      <td>0.665488</td>\n",
       "      <td>0.652642</td>\n",
       "      <td>0.493541</td>\n",
       "      <td>0.470440</td>\n",
       "      <td>-0.693565</td>\n",
       "      <td>-0.013633</td>\n",
       "      <td>0.360500</td>\n",
       "      <td>0.188197</td>\n",
       "    </tr>\n",
       "    <tr>\n",
       "      <th>승차총승객수</th>\n",
       "      <td>0.440756</td>\n",
       "      <td>0.566681</td>\n",
       "      <td>0.665488</td>\n",
       "      <td>1.000000</td>\n",
       "      <td>0.996610</td>\n",
       "      <td>0.538720</td>\n",
       "      <td>0.547384</td>\n",
       "      <td>-0.146534</td>\n",
       "      <td>0.472734</td>\n",
       "      <td>0.572455</td>\n",
       "      <td>0.568742</td>\n",
       "    </tr>\n",
       "    <tr>\n",
       "      <th>하차총승객수</th>\n",
       "      <td>0.441705</td>\n",
       "      <td>0.578479</td>\n",
       "      <td>0.652642</td>\n",
       "      <td>0.996610</td>\n",
       "      <td>1.000000</td>\n",
       "      <td>0.534826</td>\n",
       "      <td>0.555137</td>\n",
       "      <td>-0.135064</td>\n",
       "      <td>0.460952</td>\n",
       "      <td>0.564608</td>\n",
       "      <td>0.550686</td>\n",
       "    </tr>\n",
       "    <tr>\n",
       "      <th>승차평균승객수</th>\n",
       "      <td>0.017980</td>\n",
       "      <td>-0.135318</td>\n",
       "      <td>0.493541</td>\n",
       "      <td>0.538720</td>\n",
       "      <td>0.534826</td>\n",
       "      <td>1.000000</td>\n",
       "      <td>0.989288</td>\n",
       "      <td>-0.410118</td>\n",
       "      <td>-0.080959</td>\n",
       "      <td>0.124998</td>\n",
       "      <td>0.051692</td>\n",
       "    </tr>\n",
       "    <tr>\n",
       "      <th>하차평균승객수</th>\n",
       "      <td>0.029956</td>\n",
       "      <td>-0.099146</td>\n",
       "      <td>0.470440</td>\n",
       "      <td>0.547384</td>\n",
       "      <td>0.555137</td>\n",
       "      <td>0.989288</td>\n",
       "      <td>1.000000</td>\n",
       "      <td>-0.387490</td>\n",
       "      <td>-0.076575</td>\n",
       "      <td>0.133859</td>\n",
       "      <td>0.045831</td>\n",
       "    </tr>\n",
       "    <tr>\n",
       "      <th>평균 이동 시간(분)</th>\n",
       "      <td>0.457965</td>\n",
       "      <td>0.199466</td>\n",
       "      <td>-0.693565</td>\n",
       "      <td>-0.146534</td>\n",
       "      <td>-0.135064</td>\n",
       "      <td>-0.410118</td>\n",
       "      <td>-0.387490</td>\n",
       "      <td>1.000000</td>\n",
       "      <td>0.360419</td>\n",
       "      <td>-0.125621</td>\n",
       "      <td>0.120281</td>\n",
       "    </tr>\n",
       "    <tr>\n",
       "      <th>이동인구(합)</th>\n",
       "      <td>0.639658</td>\n",
       "      <td>0.387141</td>\n",
       "      <td>-0.013633</td>\n",
       "      <td>0.472734</td>\n",
       "      <td>0.460952</td>\n",
       "      <td>-0.080959</td>\n",
       "      <td>-0.076575</td>\n",
       "      <td>0.360419</td>\n",
       "      <td>1.000000</td>\n",
       "      <td>0.812646</td>\n",
       "      <td>0.963787</td>\n",
       "    </tr>\n",
       "    <tr>\n",
       "      <th>총 이동 시간</th>\n",
       "      <td>0.276925</td>\n",
       "      <td>0.359348</td>\n",
       "      <td>0.360500</td>\n",
       "      <td>0.572455</td>\n",
       "      <td>0.564608</td>\n",
       "      <td>0.124998</td>\n",
       "      <td>0.133859</td>\n",
       "      <td>-0.125621</td>\n",
       "      <td>0.812646</td>\n",
       "      <td>1.000000</td>\n",
       "      <td>0.908128</td>\n",
       "    </tr>\n",
       "    <tr>\n",
       "      <th>총 이동인구</th>\n",
       "      <td>0.531874</td>\n",
       "      <td>0.370605</td>\n",
       "      <td>0.188197</td>\n",
       "      <td>0.568742</td>\n",
       "      <td>0.550686</td>\n",
       "      <td>0.051692</td>\n",
       "      <td>0.045831</td>\n",
       "      <td>0.120281</td>\n",
       "      <td>0.963787</td>\n",
       "      <td>0.908128</td>\n",
       "      <td>1.000000</td>\n",
       "    </tr>\n",
       "  </tbody>\n",
       "</table>\n",
       "</div>"
      ],
      "text/plain": [
       "             도착 시군구 코드      정류장수       노선수    승차총승객수    하차총승객수   승차평균승객수  \\\n",
       "도착 시군구 코드     1.000000  0.447511 -0.069435  0.440756  0.441705  0.017980   \n",
       "정류장수          0.447511  1.000000  0.258798  0.566681  0.578479 -0.135318   \n",
       "노선수          -0.069435  0.258798  1.000000  0.665488  0.652642  0.493541   \n",
       "승차총승객수        0.440756  0.566681  0.665488  1.000000  0.996610  0.538720   \n",
       "하차총승객수        0.441705  0.578479  0.652642  0.996610  1.000000  0.534826   \n",
       "승차평균승객수       0.017980 -0.135318  0.493541  0.538720  0.534826  1.000000   \n",
       "하차평균승객수       0.029956 -0.099146  0.470440  0.547384  0.555137  0.989288   \n",
       "평균 이동 시간(분)   0.457965  0.199466 -0.693565 -0.146534 -0.135064 -0.410118   \n",
       "이동인구(합)       0.639658  0.387141 -0.013633  0.472734  0.460952 -0.080959   \n",
       "총 이동 시간       0.276925  0.359348  0.360500  0.572455  0.564608  0.124998   \n",
       "총 이동인구        0.531874  0.370605  0.188197  0.568742  0.550686  0.051692   \n",
       "\n",
       "              하차평균승객수  평균 이동 시간(분)   이동인구(합)   총 이동 시간    총 이동인구  \n",
       "도착 시군구 코드    0.029956     0.457965  0.639658  0.276925  0.531874  \n",
       "정류장수        -0.099146     0.199466  0.387141  0.359348  0.370605  \n",
       "노선수          0.470440    -0.693565 -0.013633  0.360500  0.188197  \n",
       "승차총승객수       0.547384    -0.146534  0.472734  0.572455  0.568742  \n",
       "하차총승객수       0.555137    -0.135064  0.460952  0.564608  0.550686  \n",
       "승차평균승객수      0.989288    -0.410118 -0.080959  0.124998  0.051692  \n",
       "하차평균승객수      1.000000    -0.387490 -0.076575  0.133859  0.045831  \n",
       "평균 이동 시간(분) -0.387490     1.000000  0.360419 -0.125621  0.120281  \n",
       "이동인구(합)     -0.076575     0.360419  1.000000  0.812646  0.963787  \n",
       "총 이동 시간      0.133859    -0.125621  0.812646  1.000000  0.908128  \n",
       "총 이동인구       0.045831     0.120281  0.963787  0.908128  1.000000  "
      ]
     },
     "execution_count": 19,
     "metadata": {},
     "output_type": "execute_result"
    }
   ],
   "source": [
    "df.corr()"
   ]
  },
  {
   "cell_type": "code",
   "execution_count": 20,
   "id": "9acdfa2e",
   "metadata": {
    "pycharm": {
     "name": "#%%\n"
    }
   },
   "outputs": [
    {
     "data": {
      "text/plain": [
       "(0.5666813370974585, 0.003141977397117322)"
      ]
     },
     "execution_count": 20,
     "metadata": {},
     "output_type": "execute_result"
    }
   ],
   "source": [
    "# (예시1) 정류장 수와 승차 총 승객수는 관계가 있다.\n",
    "\n",
    "# H0 : 정류장 수와 승차 총 승객수는 연관이 없다.\n",
    "\n",
    "# H1 : 정류장 수와 승차 총 승객수는 연관이 있다.\n",
    "\n",
    "spst.pearsonr(df['정류장수'],df['승차총승객수'])\n",
    "\n",
    "# 강한 양의 상관관계\n",
    "# p-value 0.05 기준  작으면 -> 귀무가설 기각,  크면 -> 대립가설 기각 \n",
    "# 정류장수와 승차총승객수는 상관관계가 있다?\n"
   ]
  },
  {
   "cell_type": "code",
   "execution_count": 21,
   "id": "9956d836",
   "metadata": {
    "pycharm": {
     "name": "#%%\n"
    }
   },
   "outputs": [
    {
     "data": {
      "text/html": [
       "<div>\n",
       "<style scoped>\n",
       "    .dataframe tbody tr th:only-of-type {\n",
       "        vertical-align: middle;\n",
       "    }\n",
       "\n",
       "    .dataframe tbody tr th {\n",
       "        vertical-align: top;\n",
       "    }\n",
       "\n",
       "    .dataframe thead th {\n",
       "        text-align: right;\n",
       "    }\n",
       "</style>\n",
       "<table border=\"1\" class=\"dataframe\">\n",
       "  <thead>\n",
       "    <tr style=\"text-align: right;\">\n",
       "      <th></th>\n",
       "      <th>도착 시군구 코드</th>\n",
       "      <th>자치구</th>\n",
       "      <th>정류장수</th>\n",
       "      <th>노선수</th>\n",
       "      <th>승차총승객수</th>\n",
       "      <th>하차총승객수</th>\n",
       "      <th>승차평균승객수</th>\n",
       "      <th>하차평균승객수</th>\n",
       "      <th>평균 이동 시간(분)</th>\n",
       "      <th>이동인구(합)</th>\n",
       "      <th>총 이동 시간</th>\n",
       "      <th>총 이동인구</th>\n",
       "      <th>비율1</th>\n",
       "    </tr>\n",
       "  </thead>\n",
       "  <tbody>\n",
       "    <tr>\n",
       "      <th>1</th>\n",
       "      <td>11020</td>\n",
       "      <td>중구</td>\n",
       "      <td>178</td>\n",
       "      <td>103</td>\n",
       "      <td>3776675</td>\n",
       "      <td>3598932</td>\n",
       "      <td>121.020124</td>\n",
       "      <td>115.324511</td>\n",
       "      <td>21.524817</td>\n",
       "      <td>46.214336</td>\n",
       "      <td>5368440</td>\n",
       "      <td>11526178.91</td>\n",
       "      <td>0.471314</td>\n",
       "    </tr>\n",
       "    <tr>\n",
       "      <th>5</th>\n",
       "      <td>11060</td>\n",
       "      <td>동대문구</td>\n",
       "      <td>306</td>\n",
       "      <td>73</td>\n",
       "      <td>5240565</td>\n",
       "      <td>5115379</td>\n",
       "      <td>131.841430</td>\n",
       "      <td>128.692017</td>\n",
       "      <td>22.149241</td>\n",
       "      <td>41.037280</td>\n",
       "      <td>5132710</td>\n",
       "      <td>9509691.96</td>\n",
       "      <td>0.583907</td>\n",
       "    </tr>\n",
       "    <tr>\n",
       "      <th>20</th>\n",
       "      <td>11210</td>\n",
       "      <td>관악구</td>\n",
       "      <td>466</td>\n",
       "      <td>86</td>\n",
       "      <td>7655819</td>\n",
       "      <td>7792476</td>\n",
       "      <td>154.753674</td>\n",
       "      <td>157.516040</td>\n",
       "      <td>23.480725</td>\n",
       "      <td>53.024888</td>\n",
       "      <td>5150450</td>\n",
       "      <td>11630903.18</td>\n",
       "      <td>0.608687</td>\n",
       "    </tr>\n",
       "    <tr>\n",
       "      <th>22</th>\n",
       "      <td>11230</td>\n",
       "      <td>강남구</td>\n",
       "      <td>499</td>\n",
       "      <td>91</td>\n",
       "      <td>8030483</td>\n",
       "      <td>7569213</td>\n",
       "      <td>128.767927</td>\n",
       "      <td>121.371512</td>\n",
       "      <td>23.418794</td>\n",
       "      <td>104.437297</td>\n",
       "      <td>6543820</td>\n",
       "      <td>29182496.02</td>\n",
       "      <td>0.621382</td>\n",
       "    </tr>\n",
       "    <tr>\n",
       "      <th>0</th>\n",
       "      <td>11010</td>\n",
       "      <td>종로구</td>\n",
       "      <td>349</td>\n",
       "      <td>106</td>\n",
       "      <td>5468935</td>\n",
       "      <td>5205394</td>\n",
       "      <td>131.889620</td>\n",
       "      <td>125.534028</td>\n",
       "      <td>21.867754</td>\n",
       "      <td>46.046219</td>\n",
       "      <td>5471640</td>\n",
       "      <td>11521454.69</td>\n",
       "      <td>0.638150</td>\n",
       "    </tr>\n",
       "    <tr>\n",
       "      <th>23</th>\n",
       "      <td>11240</td>\n",
       "      <td>송파구</td>\n",
       "      <td>415</td>\n",
       "      <td>55</td>\n",
       "      <td>5641742</td>\n",
       "      <td>5603488</td>\n",
       "      <td>114.270072</td>\n",
       "      <td>113.495260</td>\n",
       "      <td>25.735699</td>\n",
       "      <td>94.938240</td>\n",
       "      <td>6234190</td>\n",
       "      <td>22997744.29</td>\n",
       "      <td>0.735588</td>\n",
       "    </tr>\n",
       "    <tr>\n",
       "      <th>2</th>\n",
       "      <td>11030</td>\n",
       "      <td>용산구</td>\n",
       "      <td>323</td>\n",
       "      <td>67</td>\n",
       "      <td>4189977</td>\n",
       "      <td>4086474</td>\n",
       "      <td>137.891694</td>\n",
       "      <td>134.485421</td>\n",
       "      <td>21.820458</td>\n",
       "      <td>38.412082</td>\n",
       "      <td>4959790</td>\n",
       "      <td>8731066.25</td>\n",
       "      <td>0.770887</td>\n",
       "    </tr>\n",
       "    <tr>\n",
       "      <th>12</th>\n",
       "      <td>11130</td>\n",
       "      <td>서대문구</td>\n",
       "      <td>456</td>\n",
       "      <td>107</td>\n",
       "      <td>5863499</td>\n",
       "      <td>5796960</td>\n",
       "      <td>109.914502</td>\n",
       "      <td>108.667192</td>\n",
       "      <td>22.411314</td>\n",
       "      <td>46.134844</td>\n",
       "      <td>4952990</td>\n",
       "      <td>10195984.99</td>\n",
       "      <td>0.777693</td>\n",
       "    </tr>\n",
       "    <tr>\n",
       "      <th>14</th>\n",
       "      <td>11150</td>\n",
       "      <td>양천구</td>\n",
       "      <td>319</td>\n",
       "      <td>56</td>\n",
       "      <td>4009172</td>\n",
       "      <td>3851173</td>\n",
       "      <td>97.627526</td>\n",
       "      <td>93.780086</td>\n",
       "      <td>23.209394</td>\n",
       "      <td>49.140477</td>\n",
       "      <td>4383860</td>\n",
       "      <td>9281800.65</td>\n",
       "      <td>0.795676</td>\n",
       "    </tr>\n",
       "    <tr>\n",
       "      <th>18</th>\n",
       "      <td>11190</td>\n",
       "      <td>영등포구</td>\n",
       "      <td>465</td>\n",
       "      <td>101</td>\n",
       "      <td>5739875</td>\n",
       "      <td>5783211</td>\n",
       "      <td>120.337855</td>\n",
       "      <td>121.246404</td>\n",
       "      <td>21.745571</td>\n",
       "      <td>61.736901</td>\n",
       "      <td>5525180</td>\n",
       "      <td>15686297.00</td>\n",
       "      <td>0.810122</td>\n",
       "    </tr>\n",
       "    <tr>\n",
       "      <th>19</th>\n",
       "      <td>11200</td>\n",
       "      <td>동작구</td>\n",
       "      <td>438</td>\n",
       "      <td>94</td>\n",
       "      <td>5314274</td>\n",
       "      <td>5112276</td>\n",
       "      <td>124.295965</td>\n",
       "      <td>119.571419</td>\n",
       "      <td>22.059056</td>\n",
       "      <td>45.116262</td>\n",
       "      <td>4944030</td>\n",
       "      <td>10111772.37</td>\n",
       "      <td>0.824195</td>\n",
       "    </tr>\n",
       "    <tr>\n",
       "      <th>21</th>\n",
       "      <td>11220</td>\n",
       "      <td>서초구</td>\n",
       "      <td>600</td>\n",
       "      <td>93</td>\n",
       "      <td>7221330</td>\n",
       "      <td>6977950</td>\n",
       "      <td>126.687777</td>\n",
       "      <td>122.418028</td>\n",
       "      <td>23.119681</td>\n",
       "      <td>72.512790</td>\n",
       "      <td>5944440</td>\n",
       "      <td>18644198.64</td>\n",
       "      <td>0.830872</td>\n",
       "    </tr>\n",
       "    <tr>\n",
       "      <th>8</th>\n",
       "      <td>11090</td>\n",
       "      <td>강북구</td>\n",
       "      <td>413</td>\n",
       "      <td>67</td>\n",
       "      <td>4825181</td>\n",
       "      <td>4671783</td>\n",
       "      <td>133.020373</td>\n",
       "      <td>128.791504</td>\n",
       "      <td>24.355289</td>\n",
       "      <td>42.216319</td>\n",
       "      <td>4458260</td>\n",
       "      <td>7727739.40</td>\n",
       "      <td>0.855926</td>\n",
       "    </tr>\n",
       "    <tr>\n",
       "      <th>17</th>\n",
       "      <td>11180</td>\n",
       "      <td>금천구</td>\n",
       "      <td>345</td>\n",
       "      <td>58</td>\n",
       "      <td>3776658</td>\n",
       "      <td>3581930</td>\n",
       "      <td>123.098370</td>\n",
       "      <td>116.751304</td>\n",
       "      <td>24.283819</td>\n",
       "      <td>32.821422</td>\n",
       "      <td>3789660</td>\n",
       "      <td>5122012.58</td>\n",
       "      <td>0.913506</td>\n",
       "    </tr>\n",
       "    <tr>\n",
       "      <th>11</th>\n",
       "      <td>11120</td>\n",
       "      <td>은평구</td>\n",
       "      <td>501</td>\n",
       "      <td>71</td>\n",
       "      <td>5201660</td>\n",
       "      <td>5122499</td>\n",
       "      <td>106.395173</td>\n",
       "      <td>104.776007</td>\n",
       "      <td>24.993078</td>\n",
       "      <td>55.018153</td>\n",
       "      <td>4748160</td>\n",
       "      <td>10452293.76</td>\n",
       "      <td>0.963154</td>\n",
       "    </tr>\n",
       "    <tr>\n",
       "      <th>7</th>\n",
       "      <td>11080</td>\n",
       "      <td>성북구</td>\n",
       "      <td>602</td>\n",
       "      <td>99</td>\n",
       "      <td>6236424</td>\n",
       "      <td>6231238</td>\n",
       "      <td>123.251922</td>\n",
       "      <td>123.149430</td>\n",
       "      <td>22.716321</td>\n",
       "      <td>48.931749</td>\n",
       "      <td>5232500</td>\n",
       "      <td>11270988.10</td>\n",
       "      <td>0.965297</td>\n",
       "    </tr>\n",
       "    <tr>\n",
       "      <th>4</th>\n",
       "      <td>11050</td>\n",
       "      <td>광진구</td>\n",
       "      <td>269</td>\n",
       "      <td>41</td>\n",
       "      <td>2749448</td>\n",
       "      <td>2753411</td>\n",
       "      <td>118.352546</td>\n",
       "      <td>118.523137</td>\n",
       "      <td>22.810568</td>\n",
       "      <td>50.043326</td>\n",
       "      <td>5020720</td>\n",
       "      <td>11014786.16</td>\n",
       "      <td>0.978378</td>\n",
       "    </tr>\n",
       "    <tr>\n",
       "      <th>16</th>\n",
       "      <td>11170</td>\n",
       "      <td>구로구</td>\n",
       "      <td>486</td>\n",
       "      <td>79</td>\n",
       "      <td>4942197</td>\n",
       "      <td>4730992</td>\n",
       "      <td>119.235615</td>\n",
       "      <td>114.140076</td>\n",
       "      <td>23.162536</td>\n",
       "      <td>45.008292</td>\n",
       "      <td>4717560</td>\n",
       "      <td>9166928.80</td>\n",
       "      <td>0.983368</td>\n",
       "    </tr>\n",
       "    <tr>\n",
       "      <th>6</th>\n",
       "      <td>11070</td>\n",
       "      <td>중랑구</td>\n",
       "      <td>380</td>\n",
       "      <td>48</td>\n",
       "      <td>3792541</td>\n",
       "      <td>3740923</td>\n",
       "      <td>87.403863</td>\n",
       "      <td>86.214261</td>\n",
       "      <td>23.887741</td>\n",
       "      <td>43.639157</td>\n",
       "      <td>4635870</td>\n",
       "      <td>8469007.57</td>\n",
       "      <td>1.001967</td>\n",
       "    </tr>\n",
       "    <tr>\n",
       "      <th>9</th>\n",
       "      <td>11100</td>\n",
       "      <td>도봉구</td>\n",
       "      <td>359</td>\n",
       "      <td>46</td>\n",
       "      <td>3304305</td>\n",
       "      <td>3211421</td>\n",
       "      <td>106.859356</td>\n",
       "      <td>103.855540</td>\n",
       "      <td>25.138206</td>\n",
       "      <td>40.194257</td>\n",
       "      <td>4086140</td>\n",
       "      <td>6533455.94</td>\n",
       "      <td>1.086461</td>\n",
       "    </tr>\n",
       "    <tr>\n",
       "      <th>13</th>\n",
       "      <td>11140</td>\n",
       "      <td>마포구</td>\n",
       "      <td>562</td>\n",
       "      <td>97</td>\n",
       "      <td>5088461</td>\n",
       "      <td>4957596</td>\n",
       "      <td>103.907639</td>\n",
       "      <td>101.235343</td>\n",
       "      <td>22.307964</td>\n",
       "      <td>60.518839</td>\n",
       "      <td>5557360</td>\n",
       "      <td>15076453.22</td>\n",
       "      <td>1.104460</td>\n",
       "    </tr>\n",
       "    <tr>\n",
       "      <th>10</th>\n",
       "      <td>11110</td>\n",
       "      <td>노원구</td>\n",
       "      <td>514</td>\n",
       "      <td>57</td>\n",
       "      <td>4353295</td>\n",
       "      <td>4292724</td>\n",
       "      <td>88.476211</td>\n",
       "      <td>87.245168</td>\n",
       "      <td>24.662041</td>\n",
       "      <td>59.026631</td>\n",
       "      <td>5235480</td>\n",
       "      <td>12530704.48</td>\n",
       "      <td>1.180715</td>\n",
       "    </tr>\n",
       "    <tr>\n",
       "      <th>15</th>\n",
       "      <td>11160</td>\n",
       "      <td>강서구</td>\n",
       "      <td>566</td>\n",
       "      <td>49</td>\n",
       "      <td>4681083</td>\n",
       "      <td>4652828</td>\n",
       "      <td>88.119480</td>\n",
       "      <td>87.587591</td>\n",
       "      <td>25.520396</td>\n",
       "      <td>65.157973</td>\n",
       "      <td>5486630</td>\n",
       "      <td>14008312.51</td>\n",
       "      <td>1.209122</td>\n",
       "    </tr>\n",
       "    <tr>\n",
       "      <th>24</th>\n",
       "      <td>11250</td>\n",
       "      <td>강동구</td>\n",
       "      <td>369</td>\n",
       "      <td>21</td>\n",
       "      <td>2890053</td>\n",
       "      <td>2830506</td>\n",
       "      <td>99.161194</td>\n",
       "      <td>97.118065</td>\n",
       "      <td>25.931701</td>\n",
       "      <td>73.450836</td>\n",
       "      <td>5082380</td>\n",
       "      <td>14395702.78</td>\n",
       "      <td>1.276793</td>\n",
       "    </tr>\n",
       "    <tr>\n",
       "      <th>3</th>\n",
       "      <td>11040</td>\n",
       "      <td>성동구</td>\n",
       "      <td>435</td>\n",
       "      <td>58</td>\n",
       "      <td>2807280</td>\n",
       "      <td>2746738</td>\n",
       "      <td>96.377369</td>\n",
       "      <td>94.298888</td>\n",
       "      <td>22.150334</td>\n",
       "      <td>44.717847</td>\n",
       "      <td>5139830</td>\n",
       "      <td>10376463.41</td>\n",
       "      <td>1.549543</td>\n",
       "    </tr>\n",
       "  </tbody>\n",
       "</table>\n",
       "</div>"
      ],
      "text/plain": [
       "    도착 시군구 코드   자치구  정류장수  노선수   승차총승객수   하차총승객수     승차평균승객수     하차평균승객수  \\\n",
       "1       11020    중구   178  103  3776675  3598932  121.020124  115.324511   \n",
       "5       11060  동대문구   306   73  5240565  5115379  131.841430  128.692017   \n",
       "20      11210   관악구   466   86  7655819  7792476  154.753674  157.516040   \n",
       "22      11230   강남구   499   91  8030483  7569213  128.767927  121.371512   \n",
       "0       11010   종로구   349  106  5468935  5205394  131.889620  125.534028   \n",
       "23      11240   송파구   415   55  5641742  5603488  114.270072  113.495260   \n",
       "2       11030   용산구   323   67  4189977  4086474  137.891694  134.485421   \n",
       "12      11130  서대문구   456  107  5863499  5796960  109.914502  108.667192   \n",
       "14      11150   양천구   319   56  4009172  3851173   97.627526   93.780086   \n",
       "18      11190  영등포구   465  101  5739875  5783211  120.337855  121.246404   \n",
       "19      11200   동작구   438   94  5314274  5112276  124.295965  119.571419   \n",
       "21      11220   서초구   600   93  7221330  6977950  126.687777  122.418028   \n",
       "8       11090   강북구   413   67  4825181  4671783  133.020373  128.791504   \n",
       "17      11180   금천구   345   58  3776658  3581930  123.098370  116.751304   \n",
       "11      11120   은평구   501   71  5201660  5122499  106.395173  104.776007   \n",
       "7       11080   성북구   602   99  6236424  6231238  123.251922  123.149430   \n",
       "4       11050   광진구   269   41  2749448  2753411  118.352546  118.523137   \n",
       "16      11170   구로구   486   79  4942197  4730992  119.235615  114.140076   \n",
       "6       11070   중랑구   380   48  3792541  3740923   87.403863   86.214261   \n",
       "9       11100   도봉구   359   46  3304305  3211421  106.859356  103.855540   \n",
       "13      11140   마포구   562   97  5088461  4957596  103.907639  101.235343   \n",
       "10      11110   노원구   514   57  4353295  4292724   88.476211   87.245168   \n",
       "15      11160   강서구   566   49  4681083  4652828   88.119480   87.587591   \n",
       "24      11250   강동구   369   21  2890053  2830506   99.161194   97.118065   \n",
       "3       11040   성동구   435   58  2807280  2746738   96.377369   94.298888   \n",
       "\n",
       "    평균 이동 시간(분)     이동인구(합)  총 이동 시간       총 이동인구       비율1  \n",
       "1     21.524817   46.214336  5368440  11526178.91  0.471314  \n",
       "5     22.149241   41.037280  5132710   9509691.96  0.583907  \n",
       "20    23.480725   53.024888  5150450  11630903.18  0.608687  \n",
       "22    23.418794  104.437297  6543820  29182496.02  0.621382  \n",
       "0     21.867754   46.046219  5471640  11521454.69  0.638150  \n",
       "23    25.735699   94.938240  6234190  22997744.29  0.735588  \n",
       "2     21.820458   38.412082  4959790   8731066.25  0.770887  \n",
       "12    22.411314   46.134844  4952990  10195984.99  0.777693  \n",
       "14    23.209394   49.140477  4383860   9281800.65  0.795676  \n",
       "18    21.745571   61.736901  5525180  15686297.00  0.810122  \n",
       "19    22.059056   45.116262  4944030  10111772.37  0.824195  \n",
       "21    23.119681   72.512790  5944440  18644198.64  0.830872  \n",
       "8     24.355289   42.216319  4458260   7727739.40  0.855926  \n",
       "17    24.283819   32.821422  3789660   5122012.58  0.913506  \n",
       "11    24.993078   55.018153  4748160  10452293.76  0.963154  \n",
       "7     22.716321   48.931749  5232500  11270988.10  0.965297  \n",
       "4     22.810568   50.043326  5020720  11014786.16  0.978378  \n",
       "16    23.162536   45.008292  4717560   9166928.80  0.983368  \n",
       "6     23.887741   43.639157  4635870   8469007.57  1.001967  \n",
       "9     25.138206   40.194257  4086140   6533455.94  1.086461  \n",
       "13    22.307964   60.518839  5557360  15076453.22  1.104460  \n",
       "10    24.662041   59.026631  5235480  12530704.48  1.180715  \n",
       "15    25.520396   65.157973  5486630  14008312.51  1.209122  \n",
       "24    25.931701   73.450836  5082380  14395702.78  1.276793  \n",
       "3     22.150334   44.717847  5139830  10376463.41  1.549543  "
      ]
     },
     "execution_count": 21,
     "metadata": {},
     "output_type": "execute_result"
    }
   ],
   "source": [
    "df['비율1'] = df['정류장수'] / df['승차총승객수'] * 10000\n",
    "df.sort_values(by=['비율1'])"
   ]
  },
  {
   "cell_type": "code",
   "execution_count": 22,
   "id": "3c3634ff",
   "metadata": {
    "pycharm": {
     "name": "#%%\n"
    }
   },
   "outputs": [
    {
     "data": {
      "text/plain": [
       "(0.3605000532735534, 0.07667781622760951)"
      ]
     },
     "execution_count": 22,
     "metadata": {},
     "output_type": "execute_result"
    }
   ],
   "source": [
    "# (예시2) 노선 수와 총 이동시간은 관계가 있다.\n",
    "\n",
    "# H0 : 노선 수와 총 이동시간은 연관이 없다.\n",
    "\n",
    "# H1 : 노선 수와 총 이동시간은 연관이 있다.\n",
    "\n",
    "spst.pearsonr(df['노선수'],df['총 이동 시간'])\n",
    "\n",
    "# 중간 양의 상관관계\n",
    "# p-value 0.05 기준  작으면 -> 귀무가설 기각,  크면 -> 대립가설 기각 \n",
    "# 노선수와 총 이동 시간은 상관관계가 있다?"
   ]
  },
  {
   "cell_type": "markdown",
   "id": "b2edf769",
   "metadata": {
    "pycharm": {
     "name": "#%% md\n"
    }
   },
   "source": [
    "## 1.가설 수립 \n",
    "+ 어떤 데이터를 label 데이터로 하실 건가요?\n",
    "\n",
    "    ? 정해진게 없나요? - 네 라벨을 조별로 고민하셔서 라벨데이터를 설정하시면 되겠습니다\n",
    "\n",
    "\n",
    "    ? 가설마다 라벨데이터가 달라도 상관없나요? 네 그렇습니다\n",
    "\n",
    "\n",
    "    ? 가설은 3개만 해야하나요? 그 이상 하셔도 무방합니다\n",
    "\n",
    "## 가설을 설정해 봅시다 (조당 최소 3개) \n",
    "- 미니프로젝트 진행의 편의상 가설은 이변량 분석을 염두에 두고 설정해 주세요"
   ]
  },
  {
   "cell_type": "markdown",
   "id": "b3d42e07",
   "metadata": {
    "pycharm": {
     "name": "#%% md\n"
    }
   },
   "source": [
    "* 가설 1\n",
    "\n",
    "노선 수가 적을 수록 평균 이동 시간(분)이 길 것이다."
   ]
  },
  {
   "cell_type": "markdown",
   "id": "4fd1db81",
   "metadata": {
    "pycharm": {
     "name": "#%% md\n"
    }
   },
   "source": [
    "* 가설 2\n",
    "\n",
    "step1. 총 이동인구와 총하차인원을 통해 이동수단으로서의 버스 수요를 알 수 있지 않을까.\n",
    "\n",
    "step2. 버스 수요가 충분하다면(하차인원이 많다면) 그 만큼 버스 인프라(정류장, 노선(버스종류))가 갖춰져 있지 않을까.\n",
    "\n",
    "수요는 많은데 그만한 인프라가 안 갖춰져있는 자치구 찾기\n"
   ]
  },
  {
   "cell_type": "markdown",
   "id": "e527bc75",
   "metadata": {
    "pycharm": {
     "name": "#%% md\n"
    }
   },
   "source": [
    "* 가설 3\n",
    "\n",
    "출근(HW), 퇴근(WH) 시간대에는 승, 하차 평균 수 증가할 것이다."
   ]
  },
  {
   "cell_type": "markdown",
   "id": "6aa7b930",
   "metadata": {
    "pycharm": {
     "name": "#%% md\n"
    }
   },
   "source": [
    "## 2.단변량 분석 \n",
    "(조별로 3개 정도의 변수만 진행해주세요)\n",
    "\n",
    "+ 변수의 의미  \n",
    "\n",
    "+ 숫자? 범주?\n",
    "\n",
    "+ 전처리 사항\n",
    "   - NaN 존재 여부 및 조치 방안  \n",
    "   - 가변수화 대상여부  \n",
    "   \n",
    "+ 기초통계량\n",
    "\n",
    "+ 분포  \n",
    "\n",
    "+ 위 정보로부터 파악한 내용 정리  \n",
    "\n",
    "+ 추가 분석해볼 사항 도출"
   ]
  },
  {
   "cell_type": "code",
   "execution_count": 23,
   "id": "b62009a9",
   "metadata": {
    "pycharm": {
     "name": "#%%\n"
    }
   },
   "outputs": [],
   "source": [
    "# 시각화 한글폰트 설정\n",
    "import seaborn as sns\n",
    "import matplotlib.pyplot as plt\n",
    "\n",
    "# 로컬에서 사용하신다면 맑은 고딕\n",
    "\n",
    "plt.rc('font', family='NanumGothicCoding')\n",
    "sns.set(font=\"NanumGothicCoding\",#\"NanumGothicCoding\",\n",
    "        rc={\"axes.unicode_minus\":False}, # 마이너스 부호 깨짐 현상 해결\n",
    "        style='darkgrid')\n",
    "\n",
    "# AIDU에서 사용하신다면 나눔 고딕\n",
    "\n",
    "# plt.rc('font', family='nanum')\n",
    "# sns.set(font=\"NanumGothicCoding\",#\"NanumGothicCoding\",\n",
    "#         rc={\"axes.unicode_minus\":False}, # 마이너스 부호 깨짐 현상 해결\n",
    "#         style='darkgrid')\n",
    "\n",
    "# scipy\n",
    "import scipy.stats as spst"
   ]
  },
  {
   "cell_type": "code",
   "execution_count": 24,
   "id": "39ef5d0f",
   "metadata": {
    "pycharm": {
     "name": "#%%\n"
    }
   },
   "outputs": [
    {
     "data": {
      "text/plain": [
       "<matplotlib.collections.PathCollection at 0x12df791e2b0>"
      ]
     },
     "execution_count": 24,
     "metadata": {},
     "output_type": "execute_result"
    },
    {
     "data": {
      "image/png": "[encoded data removed]",
      "text/plain": [
       "<Figure size 432x288 with 1 Axes>"
      ]
     },
     "metadata": {},
     "output_type": "display_data"
    }
   ],
   "source": [
    "# plt.figure(figsize=(20,16))\n",
    "plt.scatter('평균 이동 시간(분)', '노선수', data = df)"
   ]
  },
  {
   "cell_type": "markdown",
   "id": "a4e3ec6e",
   "metadata": {
    "pycharm": {
     "name": "#%% md\n"
    }
   },
   "source": [
    "### 1)\n",
    "대립가설 : 평균이동시간이 늘어날 수록 노선 수가 줄어든다\n",
    "귀무가설 : 평균 이동시간이 길어질수록 노선 수는 증가한다"
   ]
  },
  {
   "cell_type": "code",
   "execution_count": 25,
   "metadata": {
    "collapsed": false,
    "pycharm": {
     "name": "#%%\n"
    }
   },
   "outputs": [
    {
     "data": {
      "text/plain": [
       "(-0.6935652960828838, 0.00012083974762338667)"
      ]
     },
     "execution_count": 25,
     "metadata": {},
     "output_type": "execute_result"
    }
   ],
   "source": [
    "spst.pearsonr(df['노선수'],df['평균 이동 시간(분)'])"
   ]
  },
  {
   "cell_type": "markdown",
   "metadata": {
    "collapsed": false,
    "pycharm": {
     "name": "#%% md\n"
    }
   },
   "source": [
    "### 2)\n",
    "노선수와 평균 이동시간(분)은 피어슨 상관계수값이 -0.69로 절댒갑이 0.5 이상임으로 두 변수는 강한 상관관계를 가짐을 알 수 있다\n",
    "p-value 가 0.00012으로 0에 가까워 귀무 가설이 맞다고 받아질 확률이 적음으로 대립가설이 맞을 확률이 높다\n",
    "\n",
    ">> 평균 이동시간이 길어질수록 노선 수는 줄어든다\n",
    ">> 즉 평균 이동시간이 가장 긴 강동구의 노선수를 증가시켜야한다"
   ]
  },
  {
   "cell_type": "code",
   "execution_count": 26,
   "metadata": {
    "collapsed": false,
    "pycharm": {
     "name": "#%%\n"
    }
   },
   "outputs": [
    {
     "name": "stderr",
     "output_type": "stream",
     "text": [
      "c:\\Users\\allsa\\anaconda3\\lib\\site-packages\\seaborn\\_decorators.py:36: FutureWarning: Pass the following variables as keyword args: x, y. From version 0.12, the only valid positional argument will be `data`, and passing other arguments without an explicit keyword will result in an error or misinterpretation.\n",
      "  warnings.warn(\n"
     ]
    },
    {
     "data": {
      "text/plain": [
       "<AxesSubplot:xlabel='자치구', ylabel='평균 이동 시간(분)'>"
      ]
     },
     "execution_count": 26,
     "metadata": {},
     "output_type": "execute_result"
    },
    {
     "data": {
      "image/png": "[encoded data removed]",
      "text/plain": [
       "<Figure size 1440x288 with 1 Axes>"
      ]
     },
     "metadata": {},
     "output_type": "display_data"
    }
   ],
   "source": [
    "plt.figure(figsize=(20,4))\n",
    "\n",
    "sns.barplot('자치구', '평균 이동 시간(분)', data = df)"
   ]
  },
  {
   "cell_type": "code",
   "execution_count": 27,
   "metadata": {
    "collapsed": false,
    "pycharm": {
     "name": "#%%\n"
    }
   },
   "outputs": [
    {
     "data": {
      "text/html": [
       "<div>\n",
       "<style scoped>\n",
       "    .dataframe tbody tr th:only-of-type {\n",
       "        vertical-align: middle;\n",
       "    }\n",
       "\n",
       "    .dataframe tbody tr th {\n",
       "        vertical-align: top;\n",
       "    }\n",
       "\n",
       "    .dataframe thead th {\n",
       "        text-align: right;\n",
       "    }\n",
       "</style>\n",
       "<table border=\"1\" class=\"dataframe\">\n",
       "  <thead>\n",
       "    <tr style=\"text-align: right;\">\n",
       "      <th></th>\n",
       "      <th>평균 이동 시간(분)</th>\n",
       "      <th>자치구</th>\n",
       "    </tr>\n",
       "  </thead>\n",
       "  <tbody>\n",
       "    <tr>\n",
       "      <th>24</th>\n",
       "      <td>25.931701</td>\n",
       "      <td>강동구</td>\n",
       "    </tr>\n",
       "  </tbody>\n",
       "</table>\n",
       "</div>"
      ],
      "text/plain": [
       "    평균 이동 시간(분)  자치구\n",
       "24    25.931701  강동구"
      ]
     },
     "execution_count": 27,
     "metadata": {},
     "output_type": "execute_result"
    }
   ],
   "source": [
    "df[['평균 이동 시간(분)','자치구']].sort_values(by='평균 이동 시간(분)', ascending=False).head(1)"
   ]
  },
  {
   "cell_type": "markdown",
   "id": "a7193abc",
   "metadata": {
    "pycharm": {
     "name": "#%% md\n"
    }
   },
   "source": [
    "\n",
    "### 3)"
   ]
  },
  {
   "cell_type": "markdown",
   "id": "ac81d719",
   "metadata": {
    "pycharm": {
     "name": "#%% md\n"
    }
   },
   "source": [
    "## 3.이변량 분석\n",
    "\n",
    "* 자료의 종류에 맞게 X --> Y 에 대해서 그래프(시각화)와 가설검정(수치화)를 수행하고 결과를 평가합니다.\n",
    "\n",
    "* 가설검정시 다음의 항목을 참조하여 수행합니다.\n",
    "    * 유의수준 : 5%\n",
    "    * 숫자 --> 숫자 : 상관분석\n",
    "    * 범주 --> 범주 : 카이제곱검정\n",
    "    * 범주 --> 숫자 : t검정, 분산분석\n",
    "    * 숫자 --> 범주 : 로지스틱 회귀모형을 통해, 회귀계수의 P.value로 검정을 수행합니다.\n"
   ]
  },
  {
   "cell_type": "markdown",
   "id": "a1ef2391",
   "metadata": {
    "pycharm": {
     "name": "#%% md\n"
    }
   },
   "source": [
    "### 1)"
   ]
  },
  {
   "cell_type": "markdown",
   "id": "9a7f6c08",
   "metadata": {
    "pycharm": {
     "name": "#%% md\n"
    }
   },
   "source": [
    "### 2)"
   ]
  },
  {
   "cell_type": "markdown",
   "id": "3e09f869",
   "metadata": {
    "pycharm": {
     "name": "#%% md\n"
    }
   },
   "source": [
    "\n",
    "## Seoul_Moving"
   ]
  },
  {
   "cell_type": "code",
   "execution_count": 28,
   "metadata": {
    "collapsed": false,
    "pycharm": {
     "name": "#%%\n"
    }
   },
   "outputs": [],
   "source": [
    "seoul_moving = pd.read_csv('1.2 seoul_moving_month_4.csv',sep=\",\", index_col = 0, encoding = 'UTF-8')\n",
    "seoul_moving.replace(\"*\",\"1.5\", inplace= True)\n",
    "seoul_moving = seoul_moving.astype({'이동인구(합)':'float'})\n",
    "seoul_moving = seoul_moving[(seoul_moving[\"출발 시군구 코드\"] < 20000) & (seoul_moving[\"도착 시군구 코드\"] < 20000)]\n",
    "\n",
    "index = seoul_moving[seoul_moving['도착시간'] <=4].index\n",
    "seoul_moving.drop(index, inplace=True)\n",
    "seoul_moving.reset_index(drop=True, inplace=True)\n",
    "\n",
    "df_time_mean = seoul_moving.groupby(by=['도착 시군구 코드', '요일'], as_index=False)['평균 이동 시간(분)'].mean()\n",
    "df_pop_sum = seoul_moving.groupby(by=['도착 시군구 코드', '요일'], as_index=False)['이동인구(합)'].sum()\n",
    "df_pop_sum.rename(columns={'이동인구(합)':'총 이동인구'},inplace=True)\n",
    "\n",
    "df_seoul_moving = pd.merge(df_time_mean,df_pop_sum,how='inner', on=['도착 시군구 코드', '요일'])\n",
    "df_seoul_moving.to_csv(\"df_seoul_moving_jong.csv\", index = False)"
   ]
  },
  {
   "cell_type": "markdown",
   "metadata": {
    "collapsed": false,
    "pycharm": {
     "name": "#%% md\n"
    }
   },
   "source": [
    "## Seoul_Bus_Station"
   ]
  },
  {
   "cell_type": "code",
   "execution_count": 29,
   "metadata": {
    "collapsed": false,
    "pycharm": {
     "name": "#%%\n"
    }
   },
   "outputs": [],
   "source": [
    "bus_station = pd.read_csv('1.1 BUS_STATION_BOARDING_MONTH_202204.csv', sep=\",\", encoding = \"cp949\")\n",
    "bus_station['자치구'] = bus_station[\"버스정류장ARS번호\"].str.slice(start=0, stop=2)\n",
    "bus_station['자치구'] = bus_station['자치구'].map({'01': '종로구',\n",
    "    '02': '중구',\n",
    "    '03': '용산구',\n",
    "    '04': '성동구',\n",
    "    '05': '광진구',\n",
    "    '06': '동대문구',\n",
    "    '07': '중랑구',\n",
    "    '08': '성북구',\n",
    "    '09': '강북구',\n",
    "    '10': '도봉구',\n",
    "    '11': '노원구',\n",
    "    '12': '은평구',\n",
    "    '13': '서대문구',\n",
    "    '14': '마포구',\n",
    "    '15': '양천구',\n",
    "    '16': '강서구',\n",
    "    '17': '구로구',\n",
    "    '18': '금천구',\n",
    "    '19': '영등포구',\n",
    "    '20': '동작구',\n",
    "    '21': '관악구',\n",
    "    '22': '서초구',\n",
    "    '23': '강남구',\n",
    "    '24': '송파구',\n",
    "    '25': '강동구'})\n",
    "\n",
    "bus_station = bus_station.dropna()\n",
    "bus_station = bus_station.astype({\"버스정류장ARS번호\":'int'})\n",
    "bus_station_count = bus_station.groupby(\"자치구\")[\"버스정류장ARS번호\"].nunique()\n",
    "only_seoul = pd.read_csv('1.1 bus_station.csv', sep=\",\", encoding = \"UTF-8\")\n",
    "only_seoul.rename(columns={'ARS-ID':'버스정류장ARS번호'}, inplace=True)\n",
    "df = pd.merge(only_seoul,bus_station,how='inner', on='버스정류장ARS번호')\n",
    "\n",
    "seoul_bus_station_ARS = df.groupby(by=[\"자치구\"], as_index=False)[\"버스정류장ARS번호\"].nunique()\n",
    "seoul_bus_station_line = df.groupby(by=[\"자치구\"], as_index=False)[\"노선번호\"].nunique()\n",
    "seoul_bus_station_sum = df.groupby(by=[\"자치구\", \"사용일자\"], as_index=False)[\"하차총승객수\"].sum()\n",
    "a = pd.merge(seoul_bus_station_ARS,seoul_bus_station_line,how='inner', on='자치구')\n",
    "seoul_bus_station = pd.merge(a,seoul_bus_station_sum,how='inner', on='자치구')\n",
    "seoul_bus_station.rename(columns={'버스정류장ARS번호':'정류장수','노선번호':'노선수'}, inplace=True)\n",
    "\n",
    "seoul_bus_station['요일'] = ''\n",
    "\n",
    "for i in range(20220401, 20220431):\n",
    "    if (i - 20220401)%7==0:\n",
    "        seoul_bus_station.loc[seoul_bus_station['사용일자']==i, '요일'] = '금'\n",
    "    if (i - 20220401)%7==1:\n",
    "        seoul_bus_station.loc[seoul_bus_station['사용일자']==i, '요일'] = '토'\n",
    "    if (i - 20220401)%7==2:\n",
    "        seoul_bus_station.loc[seoul_bus_station['사용일자']==i, '요일'] = '일'\n",
    "    if (i - 20220401)%7==3:\n",
    "        seoul_bus_station.loc[seoul_bus_station['사용일자']==i, '요일'] = '월'\n",
    "    if (i - 20220401)%7==4:\n",
    "        seoul_bus_station.loc[seoul_bus_station['사용일자']==i, '요일'] = '화'\n",
    "    if (i - 20220401)%7==5:\n",
    "        seoul_bus_station.loc[seoul_bus_station['사용일자']==i, '요일'] = '수'\n",
    "    if (i - 20220401)%7==6:\n",
    "        seoul_bus_station.loc[seoul_bus_station['사용일자']==i, '요일'] = '목'\n",
    "\n",
    "seoul_bus_station.to_csv(\"df_seoul_bus_station_jong.csv\", index = False)"
   ]
  },
  {
   "cell_type": "markdown",
   "metadata": {
    "collapsed": false,
    "pycharm": {
     "name": "#%% md\n"
    }
   },
   "source": [
    "## STEP 1 : 구에 유입하는 인구 와 버스에서 내리는 인구\n",
    "총 이동인구와 하차총승객수는 관계가 있을 것이다. 관계가 있다면, 자치구 유입 시 이동수단으로서 버스의 수요를 알 수 있다."
   ]
  },
  {
   "cell_type": "code",
   "execution_count": 30,
   "metadata": {
    "collapsed": false,
    "pycharm": {
     "name": "#%%\n"
    }
   },
   "outputs": [
    {
     "data": {
      "image/png": "[encoded data removed]",
      "text/plain": [
       "<Figure size 432x432 with 3 Axes>"
      ]
     },
     "metadata": {},
     "output_type": "display_data"
    }
   ],
   "source": [
    "import pandas as pd\n",
    "import numpy as np\n",
    "\n",
    "import matplotlib.pyplot as plt\n",
    "import seaborn as sns\n",
    "import scipy.stats as spst\n",
    "\n",
    "standard = pd.DataFrame({'도착 시군구 코드': [11010, 11020, 11030, 11040, 11050, 11060, 11070, 11080, 11090, 11100, 11110, 11120, 11130, 11140, 11150, 11160, 11170, 11180, 11190, 11200, 11210, 11220, 11230, 11240, 11250],\n",
    "                         '자치구' :['종로구','중구','용산구','성동구','광진구','동대문구','중랑구','성북구','강북구','도봉구','노원구','은평구','서대문구','마포구','양천구','강서구','구로구','금천구','영등포구','동작구','관악구','서초구','강남구','송파구','강동구']})\n",
    "\n",
    "df_seoul_bus_station = pd.read_csv('df_seoul_bus_station_jong.csv', sep=\",\", encoding = 'UTF-8')\n",
    "df_seoul_moving = pd.read_csv('df_seoul_moving_jong.csv', sep=\",\", encoding = 'UTF-8')\n",
    "df = pd.merge(standard,df_seoul_bus_station,how='inner', on='자치구')\n",
    "df = pd.merge(df,df_seoul_moving,how='inner', on=['도착 시군구 코드', '요일'])\n",
    "\n",
    "# 시각화 한글폰트 설정\n",
    "import seaborn as sns\n",
    "import matplotlib.pyplot as plt\n",
    "\n",
    "plt.rc('font', family='NanumGothicCoding')\n",
    "plt.rcParams['axes.unicode_minus'] = False\n",
    "\n",
    "target = '하차총승객수'\n",
    "var = '총 이동인구'\n",
    "sns.jointplot(x = var, y = target, data = df, hue = '자치구')\n",
    "\n",
    "plt.show()"
   ]
  },
  {
   "cell_type": "code",
   "execution_count": 31,
   "metadata": {
    "collapsed": false,
    "pycharm": {
     "name": "#%%\n"
    }
   },
   "outputs": [
    {
     "name": "stdout",
     "output_type": "stream",
     "text": [
      "(0.28937117589726613, 0.12090165050566178)\n",
      "(0.44843156859195943, 0.012941503621852774)\n",
      "(0.3847691870231388, 0.03577150013333688)\n",
      "(0.35632323196396765, 0.05327208196310409)\n",
      "(0.34204689721830517, 0.06429739877473162)\n",
      "(0.30323481231197136, 0.10332855853993292)\n",
      "(0.2661425579329157, 0.15515109495394783)\n",
      "(0.2880489242236923, 0.12268641944515181)\n",
      "(0.3562158198468749, 0.05334905639785096)\n",
      "(0.2884430279365101, 0.12215243780483925)\n",
      "(0.25645075492087277, 0.17132511019192748)\n",
      "(0.3413785967759142, 0.06485405801732207)\n",
      "(0.3497572698075033, 0.05814108859146259)\n",
      "(0.31669920825787323, 0.08816964032310733)\n",
      "(0.2685589577384677, 0.1512952309587894)\n",
      "(0.37395227961900446, 0.041778572403748576)\n",
      "(0.33242987218408593, 0.07267549750550868)\n",
      "(0.3998425108085004, 0.028581442246007803)\n",
      "(0.34067236477085683, 0.06544638799582338)\n",
      "(0.32006957219336474, 0.0846549281666337)\n",
      "(0.3481865227480207, 0.05935611552581268)\n",
      "(0.4037559310456076, 0.02692125865143313)\n",
      "(0.41974276016704304, 0.02093536524753341)\n",
      "(0.39425979410433687, 0.031093066936618386)\n",
      "(0.4231880185396708, 0.019801018738510017)\n"
     ]
    }
   ],
   "source": [
    "# 상관분석(가설검정) ~ 자치구별\n",
    "\n",
    "for i in standard['도착 시군구 코드']:\n",
    "    df_i = df[df['도착 시군구 코드'] == i]\n",
    "    print(spst.pearsonr(df_i['하차총승객수'], df_i['총 이동인구']))\n",
    "\n"
   ]
  },
  {
   "cell_type": "markdown",
   "metadata": {
    "collapsed": false,
    "pycharm": {
     "name": "#%% md\n"
    }
   },
   "source": [
    "# STEP 2 : 버스에서 내리는 유입인구 -- 버스 현황 (상관관계 없..)"
   ]
  },
  {
   "cell_type": "code",
   "execution_count": 32,
   "metadata": {
    "collapsed": false,
    "pycharm": {
     "name": "#%%\n"
    }
   },
   "outputs": [
    {
     "data": {
      "image/png": "[encoded data removed]",
      "text/plain": [
       "<Figure size 432x432 with 3 Axes>"
      ]
     },
     "metadata": {},
     "output_type": "display_data"
    }
   ],
   "source": [
    "var = '정류장수'\n",
    "sns.jointplot(x = var, y = target, data = df)\n",
    "\n",
    "plt.show()"
   ]
  },
  {
   "cell_type": "code",
   "execution_count": 33,
   "metadata": {
    "collapsed": false,
    "pycharm": {
     "name": "#%%\n"
    }
   },
   "outputs": [
    {
     "name": "stdout",
     "output_type": "stream",
     "text": [
      "(0.4762917437910825, 9.882393094086411e-44)\n",
      "(0.18212463980224194, 5.128987890559089e-07)\n",
      "(0.5373541957233882, 2.452494613951806e-57)\n",
      "(0.09404721854514214, 0.009965994820502653)\n"
     ]
    }
   ],
   "source": [
    "print(spst.pearsonr(df['정류장수'], df['하차총승객수']))\n",
    "print(spst.pearsonr(df['정류장수'], df['총 이동인구']))\n",
    "print(spst.pearsonr(df['노선수'], df['하차총승객수']))\n",
    "print(spst.pearsonr(df['노선수'], df['총 이동인구']))"
   ]
  },
  {
   "cell_type": "code",
   "execution_count": 34,
   "metadata": {
    "collapsed": false,
    "pycharm": {
     "name": "#%%\n"
    }
   },
   "outputs": [
    {
     "data": {
      "text/html": [
       "<div>\n",
       "<style scoped>\n",
       "    .dataframe tbody tr th:only-of-type {\n",
       "        vertical-align: middle;\n",
       "    }\n",
       "\n",
       "    .dataframe tbody tr th {\n",
       "        vertical-align: top;\n",
       "    }\n",
       "\n",
       "    .dataframe thead th {\n",
       "        text-align: right;\n",
       "    }\n",
       "</style>\n",
       "<table border=\"1\" class=\"dataframe\">\n",
       "  <thead>\n",
       "    <tr style=\"text-align: right;\">\n",
       "      <th></th>\n",
       "      <th>도착 시군구 코드</th>\n",
       "      <th>자치구</th>\n",
       "      <th>하차총승객수</th>\n",
       "      <th>정류장수</th>\n",
       "      <th>노선수</th>\n",
       "      <th>0</th>\n",
       "      <th>1</th>\n",
       "    </tr>\n",
       "  </thead>\n",
       "  <tbody>\n",
       "    <tr>\n",
       "      <th>1</th>\n",
       "      <td>11020</td>\n",
       "      <td>중구</td>\n",
       "      <td>119964.400000</td>\n",
       "      <td>178.0</td>\n",
       "      <td>103.0</td>\n",
       "      <td>0.448432</td>\n",
       "      <td>0.012942</td>\n",
       "    </tr>\n",
       "    <tr>\n",
       "      <th>2</th>\n",
       "      <td>11030</td>\n",
       "      <td>용산구</td>\n",
       "      <td>136215.800000</td>\n",
       "      <td>323.0</td>\n",
       "      <td>67.0</td>\n",
       "      <td>0.384769</td>\n",
       "      <td>0.035772</td>\n",
       "    </tr>\n",
       "    <tr>\n",
       "      <th>15</th>\n",
       "      <td>11160</td>\n",
       "      <td>강서구</td>\n",
       "      <td>155094.266667</td>\n",
       "      <td>566.0</td>\n",
       "      <td>49.0</td>\n",
       "      <td>0.373952</td>\n",
       "      <td>0.041779</td>\n",
       "    </tr>\n",
       "    <tr>\n",
       "      <th>17</th>\n",
       "      <td>11180</td>\n",
       "      <td>금천구</td>\n",
       "      <td>119397.666667</td>\n",
       "      <td>345.0</td>\n",
       "      <td>58.0</td>\n",
       "      <td>0.399843</td>\n",
       "      <td>0.028581</td>\n",
       "    </tr>\n",
       "    <tr>\n",
       "      <th>21</th>\n",
       "      <td>11220</td>\n",
       "      <td>서초구</td>\n",
       "      <td>232598.333333</td>\n",
       "      <td>600.0</td>\n",
       "      <td>93.0</td>\n",
       "      <td>0.403756</td>\n",
       "      <td>0.026921</td>\n",
       "    </tr>\n",
       "    <tr>\n",
       "      <th>22</th>\n",
       "      <td>11230</td>\n",
       "      <td>강남구</td>\n",
       "      <td>252307.100000</td>\n",
       "      <td>499.0</td>\n",
       "      <td>91.0</td>\n",
       "      <td>0.419743</td>\n",
       "      <td>0.020935</td>\n",
       "    </tr>\n",
       "    <tr>\n",
       "      <th>23</th>\n",
       "      <td>11240</td>\n",
       "      <td>송파구</td>\n",
       "      <td>186782.933333</td>\n",
       "      <td>415.0</td>\n",
       "      <td>55.0</td>\n",
       "      <td>0.394260</td>\n",
       "      <td>0.031093</td>\n",
       "    </tr>\n",
       "    <tr>\n",
       "      <th>24</th>\n",
       "      <td>11250</td>\n",
       "      <td>강동구</td>\n",
       "      <td>94350.200000</td>\n",
       "      <td>369.0</td>\n",
       "      <td>21.0</td>\n",
       "      <td>0.423188</td>\n",
       "      <td>0.019801</td>\n",
       "    </tr>\n",
       "  </tbody>\n",
       "</table>\n",
       "</div>"
      ],
      "text/plain": [
       "    도착 시군구 코드  자치구         하차총승객수   정류장수    노선수         0         1\n",
       "1       11020   중구  119964.400000  178.0  103.0  0.448432  0.012942\n",
       "2       11030  용산구  136215.800000  323.0   67.0  0.384769  0.035772\n",
       "15      11160  강서구  155094.266667  566.0   49.0  0.373952  0.041779\n",
       "17      11180  금천구  119397.666667  345.0   58.0  0.399843  0.028581\n",
       "21      11220  서초구  232598.333333  600.0   93.0  0.403756  0.026921\n",
       "22      11230  강남구  252307.100000  499.0   91.0  0.419743  0.020935\n",
       "23      11240  송파구  186782.933333  415.0   55.0  0.394260  0.031093\n",
       "24      11250  강동구   94350.200000  369.0   21.0  0.423188  0.019801"
      ]
     },
     "execution_count": 34,
     "metadata": {},
     "output_type": "execute_result"
    }
   ],
   "source": [
    "df_off = df.groupby(by=['도착 시군구 코드', '자치구'], as_index=False)[['하차총승객수', '정류장수', '노선수']].mean()\n",
    "\n",
    "a = []\n",
    "for i in standard['도착 시군구 코드']:\n",
    "    df_i = df[df['도착 시군구 코드'] == i]\n",
    "    a.append(spst.pearsonr(df_i['하차총승객수'], df_i['총 이동인구']))\n",
    "\n",
    "df_a = pd.DataFrame(a)\n",
    "b = pd.concat([df_off, df_a], axis = 1)\n",
    "\n",
    "#상관관계 중간이상 + p-value 0.05이하\n",
    "candidate = b[(b[0]>0.3)&(b[1]<0.05)]\n",
    "candidate"
   ]
  },
  {
   "cell_type": "code",
   "execution_count": 35,
   "metadata": {
    "collapsed": false,
    "pycharm": {
     "name": "#%%\n"
    }
   },
   "outputs": [
    {
     "name": "stderr",
     "output_type": "stream",
     "text": [
      "C:\\Users\\allsa\\AppData\\Local\\Temp\\ipykernel_6376\\652428498.py:1: SettingWithCopyWarning: \n",
      "A value is trying to be set on a copy of a slice from a DataFrame.\n",
      "Try using .loc[row_indexer,col_indexer] = value instead\n",
      "\n",
      "See the caveats in the documentation: https://pandas.pydata.org/pandas-docs/stable/user_guide/indexing.html#returning-a-view-versus-a-copy\n",
      "  candidate['지표'] =( candidate['정류장수']*candidate['노선수'])/candidate['하차총승객수']\n"
     ]
    },
    {
     "data": {
      "text/html": [
       "<div>\n",
       "<style scoped>\n",
       "    .dataframe tbody tr th:only-of-type {\n",
       "        vertical-align: middle;\n",
       "    }\n",
       "\n",
       "    .dataframe tbody tr th {\n",
       "        vertical-align: top;\n",
       "    }\n",
       "\n",
       "    .dataframe thead th {\n",
       "        text-align: right;\n",
       "    }\n",
       "</style>\n",
       "<table border=\"1\" class=\"dataframe\">\n",
       "  <thead>\n",
       "    <tr style=\"text-align: right;\">\n",
       "      <th></th>\n",
       "      <th>도착 시군구 코드</th>\n",
       "      <th>자치구</th>\n",
       "      <th>하차총승객수</th>\n",
       "      <th>정류장수</th>\n",
       "      <th>노선수</th>\n",
       "      <th>0</th>\n",
       "      <th>1</th>\n",
       "      <th>지표</th>\n",
       "    </tr>\n",
       "  </thead>\n",
       "  <tbody>\n",
       "    <tr>\n",
       "      <th>21</th>\n",
       "      <td>11220</td>\n",
       "      <td>서초구</td>\n",
       "      <td>232598.333333</td>\n",
       "      <td>600.0</td>\n",
       "      <td>93.0</td>\n",
       "      <td>0.403756</td>\n",
       "      <td>0.026921</td>\n",
       "      <td>0.239899</td>\n",
       "    </tr>\n",
       "    <tr>\n",
       "      <th>22</th>\n",
       "      <td>11230</td>\n",
       "      <td>강남구</td>\n",
       "      <td>252307.100000</td>\n",
       "      <td>499.0</td>\n",
       "      <td>91.0</td>\n",
       "      <td>0.419743</td>\n",
       "      <td>0.020935</td>\n",
       "      <td>0.179975</td>\n",
       "    </tr>\n",
       "    <tr>\n",
       "      <th>15</th>\n",
       "      <td>11160</td>\n",
       "      <td>강서구</td>\n",
       "      <td>155094.266667</td>\n",
       "      <td>566.0</td>\n",
       "      <td>49.0</td>\n",
       "      <td>0.373952</td>\n",
       "      <td>0.041779</td>\n",
       "      <td>0.178820</td>\n",
       "    </tr>\n",
       "    <tr>\n",
       "      <th>17</th>\n",
       "      <td>11180</td>\n",
       "      <td>금천구</td>\n",
       "      <td>119397.666667</td>\n",
       "      <td>345.0</td>\n",
       "      <td>58.0</td>\n",
       "      <td>0.399843</td>\n",
       "      <td>0.028581</td>\n",
       "      <td>0.167591</td>\n",
       "    </tr>\n",
       "    <tr>\n",
       "      <th>2</th>\n",
       "      <td>11030</td>\n",
       "      <td>용산구</td>\n",
       "      <td>136215.800000</td>\n",
       "      <td>323.0</td>\n",
       "      <td>67.0</td>\n",
       "      <td>0.384769</td>\n",
       "      <td>0.035772</td>\n",
       "      <td>0.158873</td>\n",
       "    </tr>\n",
       "    <tr>\n",
       "      <th>1</th>\n",
       "      <td>11020</td>\n",
       "      <td>중구</td>\n",
       "      <td>119964.400000</td>\n",
       "      <td>178.0</td>\n",
       "      <td>103.0</td>\n",
       "      <td>0.448432</td>\n",
       "      <td>0.012942</td>\n",
       "      <td>0.152829</td>\n",
       "    </tr>\n",
       "    <tr>\n",
       "      <th>23</th>\n",
       "      <td>11240</td>\n",
       "      <td>송파구</td>\n",
       "      <td>186782.933333</td>\n",
       "      <td>415.0</td>\n",
       "      <td>55.0</td>\n",
       "      <td>0.394260</td>\n",
       "      <td>0.031093</td>\n",
       "      <td>0.122201</td>\n",
       "    </tr>\n",
       "    <tr>\n",
       "      <th>24</th>\n",
       "      <td>11250</td>\n",
       "      <td>강동구</td>\n",
       "      <td>94350.200000</td>\n",
       "      <td>369.0</td>\n",
       "      <td>21.0</td>\n",
       "      <td>0.423188</td>\n",
       "      <td>0.019801</td>\n",
       "      <td>0.082130</td>\n",
       "    </tr>\n",
       "  </tbody>\n",
       "</table>\n",
       "</div>"
      ],
      "text/plain": [
       "    도착 시군구 코드  자치구         하차총승객수   정류장수    노선수         0         1        지표\n",
       "21      11220  서초구  232598.333333  600.0   93.0  0.403756  0.026921  0.239899\n",
       "22      11230  강남구  252307.100000  499.0   91.0  0.419743  0.020935  0.179975\n",
       "15      11160  강서구  155094.266667  566.0   49.0  0.373952  0.041779  0.178820\n",
       "17      11180  금천구  119397.666667  345.0   58.0  0.399843  0.028581  0.167591\n",
       "2       11030  용산구  136215.800000  323.0   67.0  0.384769  0.035772  0.158873\n",
       "1       11020   중구  119964.400000  178.0  103.0  0.448432  0.012942  0.152829\n",
       "23      11240  송파구  186782.933333  415.0   55.0  0.394260  0.031093  0.122201\n",
       "24      11250  강동구   94350.200000  369.0   21.0  0.423188  0.019801  0.082130"
      ]
     },
     "execution_count": 35,
     "metadata": {},
     "output_type": "execute_result"
    }
   ],
   "source": [
    "candidate['지표'] =( candidate['정류장수']*candidate['노선수'])/candidate['하차총승객수']\n",
    "candidate.sort_values(['지표'], ascending=[False])"
   ]
  },
  {
   "cell_type": "code",
   "execution_count": 36,
   "metadata": {
    "collapsed": false,
    "pycharm": {
     "name": "#%%\n"
    }
   },
   "outputs": [],
   "source": [
    "# (상관관계 중간이상 + p-value 0.05이하)으로 버스수요가 있는 자치구 중 지표를 통해 강동구가 가장 정류장 추가설치가 필요함을 알 수 있다."
   ]
  },
  {
   "cell_type": "markdown",
   "metadata": {
    "collapsed": false,
    "pycharm": {
     "name": "#%% md\n"
    }
   },
   "source": [
    "### 3)"
   ]
  },
  {
   "cell_type": "code",
   "execution_count": 37,
   "metadata": {
    "collapsed": false,
    "pycharm": {
     "name": "#%%\n"
    }
   },
   "outputs": [
    {
     "data": {
      "text/html": [
       "<div>\n",
       "<style scoped>\n",
       "    .dataframe tbody tr th:only-of-type {\n",
       "        vertical-align: middle;\n",
       "    }\n",
       "\n",
       "    .dataframe tbody tr th {\n",
       "        vertical-align: top;\n",
       "    }\n",
       "\n",
       "    .dataframe thead th {\n",
       "        text-align: right;\n",
       "    }\n",
       "</style>\n",
       "<table border=\"1\" class=\"dataframe\">\n",
       "  <thead>\n",
       "    <tr style=\"text-align: right;\">\n",
       "      <th></th>\n",
       "      <th>대상연월</th>\n",
       "      <th>요일</th>\n",
       "      <th>도착시간</th>\n",
       "      <th>출발 시군구 코드</th>\n",
       "      <th>도착 시군구 코드</th>\n",
       "      <th>성별</th>\n",
       "      <th>나이</th>\n",
       "      <th>이동유형</th>\n",
       "      <th>평균 이동 시간(분)</th>\n",
       "      <th>이동인구(합)</th>\n",
       "      <th>rush_hour</th>\n",
       "    </tr>\n",
       "  </thead>\n",
       "  <tbody>\n",
       "    <tr>\n",
       "      <th>0</th>\n",
       "      <td>202204</td>\n",
       "      <td>일</td>\n",
       "      <td>5</td>\n",
       "      <td>11110</td>\n",
       "      <td>11080</td>\n",
       "      <td>F</td>\n",
       "      <td>65</td>\n",
       "      <td>EW</td>\n",
       "      <td>10</td>\n",
       "      <td>4.68</td>\n",
       "      <td>False</td>\n",
       "    </tr>\n",
       "    <tr>\n",
       "      <th>1</th>\n",
       "      <td>202204</td>\n",
       "      <td>일</td>\n",
       "      <td>5</td>\n",
       "      <td>11110</td>\n",
       "      <td>11080</td>\n",
       "      <td>F</td>\n",
       "      <td>65</td>\n",
       "      <td>WH</td>\n",
       "      <td>10</td>\n",
       "      <td>9.44</td>\n",
       "      <td>False</td>\n",
       "    </tr>\n",
       "    <tr>\n",
       "      <th>2</th>\n",
       "      <td>202204</td>\n",
       "      <td>일</td>\n",
       "      <td>5</td>\n",
       "      <td>11110</td>\n",
       "      <td>11080</td>\n",
       "      <td>F</td>\n",
       "      <td>70</td>\n",
       "      <td>HW</td>\n",
       "      <td>10</td>\n",
       "      <td>5.69</td>\n",
       "      <td>False</td>\n",
       "    </tr>\n",
       "    <tr>\n",
       "      <th>3</th>\n",
       "      <td>202204</td>\n",
       "      <td>일</td>\n",
       "      <td>5</td>\n",
       "      <td>11110</td>\n",
       "      <td>11080</td>\n",
       "      <td>F</td>\n",
       "      <td>70</td>\n",
       "      <td>HE</td>\n",
       "      <td>10</td>\n",
       "      <td>5.68</td>\n",
       "      <td>False</td>\n",
       "    </tr>\n",
       "    <tr>\n",
       "      <th>4</th>\n",
       "      <td>202204</td>\n",
       "      <td>일</td>\n",
       "      <td>5</td>\n",
       "      <td>11110</td>\n",
       "      <td>11080</td>\n",
       "      <td>F</td>\n",
       "      <td>70</td>\n",
       "      <td>EH</td>\n",
       "      <td>20</td>\n",
       "      <td>5.73</td>\n",
       "      <td>False</td>\n",
       "    </tr>\n",
       "    <tr>\n",
       "      <th>...</th>\n",
       "      <td>...</td>\n",
       "      <td>...</td>\n",
       "      <td>...</td>\n",
       "      <td>...</td>\n",
       "      <td>...</td>\n",
       "      <td>...</td>\n",
       "      <td>...</td>\n",
       "      <td>...</td>\n",
       "      <td>...</td>\n",
       "      <td>...</td>\n",
       "      <td>...</td>\n",
       "    </tr>\n",
       "    <tr>\n",
       "      <th>5489130</th>\n",
       "      <td>202204</td>\n",
       "      <td>토</td>\n",
       "      <td>23</td>\n",
       "      <td>11250</td>\n",
       "      <td>11250</td>\n",
       "      <td>M</td>\n",
       "      <td>80</td>\n",
       "      <td>WH</td>\n",
       "      <td>10</td>\n",
       "      <td>85.10</td>\n",
       "      <td>False</td>\n",
       "    </tr>\n",
       "    <tr>\n",
       "      <th>5489131</th>\n",
       "      <td>202204</td>\n",
       "      <td>토</td>\n",
       "      <td>23</td>\n",
       "      <td>11250</td>\n",
       "      <td>11250</td>\n",
       "      <td>M</td>\n",
       "      <td>80</td>\n",
       "      <td>EH</td>\n",
       "      <td>10</td>\n",
       "      <td>28.36</td>\n",
       "      <td>False</td>\n",
       "    </tr>\n",
       "    <tr>\n",
       "      <th>5489132</th>\n",
       "      <td>202204</td>\n",
       "      <td>토</td>\n",
       "      <td>23</td>\n",
       "      <td>11250</td>\n",
       "      <td>11250</td>\n",
       "      <td>M</td>\n",
       "      <td>80</td>\n",
       "      <td>EE</td>\n",
       "      <td>20</td>\n",
       "      <td>37.99</td>\n",
       "      <td>False</td>\n",
       "    </tr>\n",
       "    <tr>\n",
       "      <th>5489133</th>\n",
       "      <td>202204</td>\n",
       "      <td>토</td>\n",
       "      <td>23</td>\n",
       "      <td>11250</td>\n",
       "      <td>11250</td>\n",
       "      <td>M</td>\n",
       "      <td>80</td>\n",
       "      <td>HE</td>\n",
       "      <td>10</td>\n",
       "      <td>9.42</td>\n",
       "      <td>False</td>\n",
       "    </tr>\n",
       "    <tr>\n",
       "      <th>5489134</th>\n",
       "      <td>202204</td>\n",
       "      <td>토</td>\n",
       "      <td>23</td>\n",
       "      <td>11250</td>\n",
       "      <td>11250</td>\n",
       "      <td>M</td>\n",
       "      <td>80</td>\n",
       "      <td>WE</td>\n",
       "      <td>10</td>\n",
       "      <td>9.51</td>\n",
       "      <td>False</td>\n",
       "    </tr>\n",
       "  </tbody>\n",
       "</table>\n",
       "<p>5489135 rows × 11 columns</p>\n",
       "</div>"
      ],
      "text/plain": [
       "           대상연월 요일  도착시간  출발 시군구 코드  도착 시군구 코드 성별  나이 이동유형  평균 이동 시간(분)  \\\n",
       "0        202204  일     5      11110      11080  F  65   EW           10   \n",
       "1        202204  일     5      11110      11080  F  65   WH           10   \n",
       "2        202204  일     5      11110      11080  F  70   HW           10   \n",
       "3        202204  일     5      11110      11080  F  70   HE           10   \n",
       "4        202204  일     5      11110      11080  F  70   EH           20   \n",
       "...         ... ..   ...        ...        ... ..  ..  ...          ...   \n",
       "5489130  202204  토    23      11250      11250  M  80   WH           10   \n",
       "5489131  202204  토    23      11250      11250  M  80   EH           10   \n",
       "5489132  202204  토    23      11250      11250  M  80   EE           20   \n",
       "5489133  202204  토    23      11250      11250  M  80   HE           10   \n",
       "5489134  202204  토    23      11250      11250  M  80   WE           10   \n",
       "\n",
       "         이동인구(합)  rush_hour  \n",
       "0           4.68      False  \n",
       "1           9.44      False  \n",
       "2           5.69      False  \n",
       "3           5.68      False  \n",
       "4           5.73      False  \n",
       "...          ...        ...  \n",
       "5489130    85.10      False  \n",
       "5489131    28.36      False  \n",
       "5489132    37.99      False  \n",
       "5489133     9.42      False  \n",
       "5489134     9.51      False  \n",
       "\n",
       "[5489135 rows x 11 columns]"
      ]
     },
     "execution_count": 37,
     "metadata": {},
     "output_type": "execute_result"
    }
   ],
   "source": [
    "seoul_moving['rush_hour'] = seoul_moving['도착시간'].isin([7, 8, 9, 10, 17, 18, 19, 20])\n",
    "seoul_moving"
   ]
  },
  {
   "cell_type": "markdown",
   "metadata": {
    "pycharm": {
     "name": "#%% md\n"
    }
   },
   "source": []
  },
  {
   "cell_type": "code",
   "execution_count": 38,
   "id": "d5c6c7f6",
   "metadata": {
    "pycharm": {
     "name": "#%%\n"
    }
   },
   "outputs": [],
   "source": [
    "# 심야시간 제거\n",
    "\n",
    "index = seoul_moving[seoul_moving['도착시간'] <=4].index\n",
    "seoul_moving.drop(index, inplace=True)\n",
    "seoul_moving.reset_index(drop=True, inplace=True)"
   ]
  },
  {
   "cell_type": "code",
   "execution_count": 39,
   "metadata": {
    "collapsed": false,
    "pycharm": {
     "name": "#%%\n"
    }
   },
   "outputs": [
    {
     "data": {
      "text/html": [
       "<div>\n",
       "<style scoped>\n",
       "    .dataframe tbody tr th:only-of-type {\n",
       "        vertical-align: middle;\n",
       "    }\n",
       "\n",
       "    .dataframe tbody tr th {\n",
       "        vertical-align: top;\n",
       "    }\n",
       "\n",
       "    .dataframe thead th {\n",
       "        text-align: right;\n",
       "    }\n",
       "</style>\n",
       "<table border=\"1\" class=\"dataframe\">\n",
       "  <thead>\n",
       "    <tr style=\"text-align: right;\">\n",
       "      <th></th>\n",
       "      <th>sum</th>\n",
       "      <th>mean</th>\n",
       "    </tr>\n",
       "    <tr>\n",
       "      <th>rush_hour</th>\n",
       "      <th></th>\n",
       "      <th></th>\n",
       "    </tr>\n",
       "  </thead>\n",
       "  <tbody>\n",
       "    <tr>\n",
       "      <th>False</th>\n",
       "      <td>1.582742e+08</td>\n",
       "      <td>53.328672</td>\n",
       "    </tr>\n",
       "    <tr>\n",
       "      <th>True</th>\n",
       "      <td>1.468902e+08</td>\n",
       "      <td>58.261240</td>\n",
       "    </tr>\n",
       "  </tbody>\n",
       "</table>\n",
       "</div>"
      ],
      "text/plain": [
       "                    sum       mean\n",
       "rush_hour                         \n",
       "False      1.582742e+08  53.328672\n",
       "True       1.468902e+08  58.261240"
      ]
     },
     "execution_count": 39,
     "metadata": {},
     "output_type": "execute_result"
    }
   ],
   "source": [
    "temp = seoul_moving.groupby('rush_hour', as_index=False)\n",
    "temp['이동인구(합)'].agg(['sum', 'mean'])"
   ]
  },
  {
   "cell_type": "code",
   "execution_count": 40,
   "metadata": {
    "collapsed": false,
    "pycharm": {
     "name": "#%%\n"
    }
   },
   "outputs": [
    {
     "data": {
      "image/png": "[encoded data removed]",
      "text/plain": [
       "<Figure size 432x288 with 1 Axes>"
      ]
     },
     "metadata": {},
     "output_type": "display_data"
    }
   ],
   "source": [
    "sns.barplot(x='rush_hour', y='이동인구(합)', data=seoul_moving)\n",
    "plt.show()"
   ]
  },
  {
   "cell_type": "code",
   "execution_count": 41,
   "metadata": {
    "collapsed": false,
    "pycharm": {
     "name": "#%%\n"
    }
   },
   "outputs": [
    {
     "data": {
      "text/plain": [
       "Ttest_indResult(statistic=31.14763125863835, pvalue=5.7004904923718925e-213)"
      ]
     },
     "execution_count": 41,
     "metadata": {},
     "output_type": "execute_result"
    }
   ],
   "source": [
    "rush_t = seoul_moving.loc[seoul_moving['rush_hour'] == True, '이동인구(합)']\n",
    "not_rush_t = seoul_moving.loc[seoul_moving['rush_hour'] == False, '이동인구(합)']\n",
    "\n",
    "spst.ttest_ind(rush_t, not_rush_t)"
   ]
  },
  {
   "cell_type": "code",
   "execution_count": 42,
   "id": "03cbf983",
   "metadata": {
    "pycharm": {
     "name": "#%%\n"
    }
   },
   "outputs": [
    {
     "data": {
      "text/html": [
       "<div>\n",
       "<style scoped>\n",
       "    .dataframe tbody tr th:only-of-type {\n",
       "        vertical-align: middle;\n",
       "    }\n",
       "\n",
       "    .dataframe tbody tr th {\n",
       "        vertical-align: top;\n",
       "    }\n",
       "\n",
       "    .dataframe thead th {\n",
       "        text-align: right;\n",
       "    }\n",
       "</style>\n",
       "<table border=\"1\" class=\"dataframe\">\n",
       "  <thead>\n",
       "    <tr style=\"text-align: right;\">\n",
       "      <th></th>\n",
       "      <th>대상연월</th>\n",
       "      <th>요일</th>\n",
       "      <th>도착시간</th>\n",
       "      <th>출발 시군구 코드</th>\n",
       "      <th>도착 시군구 코드</th>\n",
       "      <th>성별</th>\n",
       "      <th>나이</th>\n",
       "      <th>이동유형</th>\n",
       "      <th>평균 이동 시간(분)</th>\n",
       "      <th>이동인구(합)</th>\n",
       "      <th>rush_hour</th>\n",
       "      <th>rush_hour(평일)</th>\n",
       "    </tr>\n",
       "  </thead>\n",
       "  <tbody>\n",
       "    <tr>\n",
       "      <th>0</th>\n",
       "      <td>202204</td>\n",
       "      <td>일</td>\n",
       "      <td>5</td>\n",
       "      <td>11110</td>\n",
       "      <td>11080</td>\n",
       "      <td>F</td>\n",
       "      <td>65</td>\n",
       "      <td>EW</td>\n",
       "      <td>10</td>\n",
       "      <td>4.68</td>\n",
       "      <td>False</td>\n",
       "      <td>False</td>\n",
       "    </tr>\n",
       "    <tr>\n",
       "      <th>1</th>\n",
       "      <td>202204</td>\n",
       "      <td>일</td>\n",
       "      <td>5</td>\n",
       "      <td>11110</td>\n",
       "      <td>11080</td>\n",
       "      <td>F</td>\n",
       "      <td>65</td>\n",
       "      <td>WH</td>\n",
       "      <td>10</td>\n",
       "      <td>9.44</td>\n",
       "      <td>False</td>\n",
       "      <td>False</td>\n",
       "    </tr>\n",
       "    <tr>\n",
       "      <th>2</th>\n",
       "      <td>202204</td>\n",
       "      <td>일</td>\n",
       "      <td>5</td>\n",
       "      <td>11110</td>\n",
       "      <td>11080</td>\n",
       "      <td>F</td>\n",
       "      <td>70</td>\n",
       "      <td>HW</td>\n",
       "      <td>10</td>\n",
       "      <td>5.69</td>\n",
       "      <td>False</td>\n",
       "      <td>False</td>\n",
       "    </tr>\n",
       "    <tr>\n",
       "      <th>3</th>\n",
       "      <td>202204</td>\n",
       "      <td>일</td>\n",
       "      <td>5</td>\n",
       "      <td>11110</td>\n",
       "      <td>11080</td>\n",
       "      <td>F</td>\n",
       "      <td>70</td>\n",
       "      <td>HE</td>\n",
       "      <td>10</td>\n",
       "      <td>5.68</td>\n",
       "      <td>False</td>\n",
       "      <td>False</td>\n",
       "    </tr>\n",
       "    <tr>\n",
       "      <th>4</th>\n",
       "      <td>202204</td>\n",
       "      <td>일</td>\n",
       "      <td>5</td>\n",
       "      <td>11110</td>\n",
       "      <td>11080</td>\n",
       "      <td>F</td>\n",
       "      <td>70</td>\n",
       "      <td>EH</td>\n",
       "      <td>20</td>\n",
       "      <td>5.73</td>\n",
       "      <td>False</td>\n",
       "      <td>False</td>\n",
       "    </tr>\n",
       "    <tr>\n",
       "      <th>...</th>\n",
       "      <td>...</td>\n",
       "      <td>...</td>\n",
       "      <td>...</td>\n",
       "      <td>...</td>\n",
       "      <td>...</td>\n",
       "      <td>...</td>\n",
       "      <td>...</td>\n",
       "      <td>...</td>\n",
       "      <td>...</td>\n",
       "      <td>...</td>\n",
       "      <td>...</td>\n",
       "      <td>...</td>\n",
       "    </tr>\n",
       "    <tr>\n",
       "      <th>5489130</th>\n",
       "      <td>202204</td>\n",
       "      <td>토</td>\n",
       "      <td>23</td>\n",
       "      <td>11250</td>\n",
       "      <td>11250</td>\n",
       "      <td>M</td>\n",
       "      <td>80</td>\n",
       "      <td>WH</td>\n",
       "      <td>10</td>\n",
       "      <td>85.10</td>\n",
       "      <td>False</td>\n",
       "      <td>False</td>\n",
       "    </tr>\n",
       "    <tr>\n",
       "      <th>5489131</th>\n",
       "      <td>202204</td>\n",
       "      <td>토</td>\n",
       "      <td>23</td>\n",
       "      <td>11250</td>\n",
       "      <td>11250</td>\n",
       "      <td>M</td>\n",
       "      <td>80</td>\n",
       "      <td>EH</td>\n",
       "      <td>10</td>\n",
       "      <td>28.36</td>\n",
       "      <td>False</td>\n",
       "      <td>False</td>\n",
       "    </tr>\n",
       "    <tr>\n",
       "      <th>5489132</th>\n",
       "      <td>202204</td>\n",
       "      <td>토</td>\n",
       "      <td>23</td>\n",
       "      <td>11250</td>\n",
       "      <td>11250</td>\n",
       "      <td>M</td>\n",
       "      <td>80</td>\n",
       "      <td>EE</td>\n",
       "      <td>20</td>\n",
       "      <td>37.99</td>\n",
       "      <td>False</td>\n",
       "      <td>False</td>\n",
       "    </tr>\n",
       "    <tr>\n",
       "      <th>5489133</th>\n",
       "      <td>202204</td>\n",
       "      <td>토</td>\n",
       "      <td>23</td>\n",
       "      <td>11250</td>\n",
       "      <td>11250</td>\n",
       "      <td>M</td>\n",
       "      <td>80</td>\n",
       "      <td>HE</td>\n",
       "      <td>10</td>\n",
       "      <td>9.42</td>\n",
       "      <td>False</td>\n",
       "      <td>False</td>\n",
       "    </tr>\n",
       "    <tr>\n",
       "      <th>5489134</th>\n",
       "      <td>202204</td>\n",
       "      <td>토</td>\n",
       "      <td>23</td>\n",
       "      <td>11250</td>\n",
       "      <td>11250</td>\n",
       "      <td>M</td>\n",
       "      <td>80</td>\n",
       "      <td>WE</td>\n",
       "      <td>10</td>\n",
       "      <td>9.51</td>\n",
       "      <td>False</td>\n",
       "      <td>False</td>\n",
       "    </tr>\n",
       "  </tbody>\n",
       "</table>\n",
       "<p>5489135 rows × 12 columns</p>\n",
       "</div>"
      ],
      "text/plain": [
       "           대상연월 요일  도착시간  출발 시군구 코드  도착 시군구 코드 성별  나이 이동유형  평균 이동 시간(분)  \\\n",
       "0        202204  일     5      11110      11080  F  65   EW           10   \n",
       "1        202204  일     5      11110      11080  F  65   WH           10   \n",
       "2        202204  일     5      11110      11080  F  70   HW           10   \n",
       "3        202204  일     5      11110      11080  F  70   HE           10   \n",
       "4        202204  일     5      11110      11080  F  70   EH           20   \n",
       "...         ... ..   ...        ...        ... ..  ..  ...          ...   \n",
       "5489130  202204  토    23      11250      11250  M  80   WH           10   \n",
       "5489131  202204  토    23      11250      11250  M  80   EH           10   \n",
       "5489132  202204  토    23      11250      11250  M  80   EE           20   \n",
       "5489133  202204  토    23      11250      11250  M  80   HE           10   \n",
       "5489134  202204  토    23      11250      11250  M  80   WE           10   \n",
       "\n",
       "         이동인구(합)  rush_hour  rush_hour(평일)  \n",
       "0           4.68      False          False  \n",
       "1           9.44      False          False  \n",
       "2           5.69      False          False  \n",
       "3           5.68      False          False  \n",
       "4           5.73      False          False  \n",
       "...          ...        ...            ...  \n",
       "5489130    85.10      False          False  \n",
       "5489131    28.36      False          False  \n",
       "5489132    37.99      False          False  \n",
       "5489133     9.42      False          False  \n",
       "5489134     9.51      False          False  \n",
       "\n",
       "[5489135 rows x 12 columns]"
      ]
     },
     "execution_count": 42,
     "metadata": {},
     "output_type": "execute_result"
    }
   ],
   "source": [
    "seoul_moving['rush_hour(평일)'] = seoul_moving['rush_hour']\n",
    "seoul_moving.loc[(seoul_moving['rush_hour']) & seoul_moving['요일'].isin(['토', '일']), 'rush_hour(평일)'] = False\n",
    "# seoul_moving.loc[(seoul_moving['rush_hour']) & ~seoul_moving['요일'].isin(['토', '일'])]\n",
    "seoul_moving"
   ]
  },
  {
   "cell_type": "code",
   "execution_count": 43,
   "id": "f7fd141d",
   "metadata": {
    "pycharm": {
     "name": "#%%\n"
    }
   },
   "outputs": [
    {
     "data": {
      "text/plain": [
       "금    638579\n",
       "목    554848\n",
       "수    438760\n",
       "화    223709\n",
       "월     41091\n",
       "Name: 요일, dtype: int64"
      ]
     },
     "execution_count": 43,
     "metadata": {},
     "output_type": "execute_result"
    }
   ],
   "source": [
    "seoul_moving.loc[seoul_moving['rush_hour(평일)'], '요일'].value_counts()"
   ]
  },
  {
   "cell_type": "code",
   "execution_count": 44,
   "id": "7336b300",
   "metadata": {
    "pycharm": {
     "name": "#%%\n"
    }
   },
   "outputs": [
    {
     "name": "stderr",
     "output_type": "stream",
     "text": [
      "c:\\Users\\allsa\\anaconda3\\lib\\site-packages\\seaborn\\_decorators.py:36: FutureWarning: Pass the following variables as keyword args: x, y. From version 0.12, the only valid positional argument will be `data`, and passing other arguments without an explicit keyword will result in an error or misinterpretation.\n",
      "  warnings.warn(\n"
     ]
    },
    {
     "data": {
      "image/png": "[encoded data removed]",
      "text/plain": [
       "<Figure size 432x288 with 1 Axes>"
      ]
     },
     "metadata": {},
     "output_type": "display_data"
    }
   ],
   "source": [
    "sns.barplot('rush_hour(평일)', '이동인구(합)', data=seoul_moving)\n",
    "plt.show()"
   ]
  },
  {
   "cell_type": "code",
   "execution_count": 45,
   "id": "0b8aad49",
   "metadata": {
    "pycharm": {
     "name": "#%%\n"
    }
   },
   "outputs": [
    {
     "data": {
      "text/plain": [
       "Ttest_indResult(statistic=45.0892245411753, pvalue=0.0)"
      ]
     },
     "execution_count": 45,
     "metadata": {},
     "output_type": "execute_result"
    }
   ],
   "source": [
    "rush_t = seoul_moving.loc[seoul_moving['rush_hour(평일)'] == True, '이동인구(합)']\n",
    "not_rush_t = seoul_moving.loc[seoul_moving['rush_hour(평일)'] == False, '이동인구(합)']\n",
    "\n",
    "spst.ttest_ind(rush_t, not_rush_t)"
   ]
  },
  {
   "cell_type": "code",
   "execution_count": 46,
   "id": "27109e78",
   "metadata": {
    "pycharm": {
     "name": "#%%\n"
    }
   },
   "outputs": [
    {
     "data": {
      "text/plain": [
       "count    1.896987e+06\n",
       "mean     6.049038e+01\n",
       "std      1.903167e+02\n",
       "min      1.500000e+00\n",
       "25%      5.980000e+00\n",
       "50%      1.372000e+01\n",
       "75%      4.162000e+01\n",
       "max      1.466546e+04\n",
       "Name: 이동인구(합), dtype: float64"
      ]
     },
     "execution_count": 46,
     "metadata": {},
     "output_type": "execute_result"
    }
   ],
   "source": [
    "seoul_moving.loc[seoul_moving['rush_hour(평일)'], '이동인구(합)'].describe()"
   ]
  },
  {
   "cell_type": "code",
   "execution_count": 47,
   "id": "67cf0dfa",
   "metadata": {
    "pycharm": {
     "name": "#%%\n"
    }
   },
   "outputs": [
    {
     "data": {
      "text/plain": [
       "count    3.592148e+06\n",
       "mean     5.300867e+01\n",
       "std      1.819404e+02\n",
       "min      1.500000e+00\n",
       "25%      5.420000e+00\n",
       "50%      1.224000e+01\n",
       "75%      3.501000e+01\n",
       "max      1.403011e+04\n",
       "Name: 이동인구(합), dtype: float64"
      ]
     },
     "execution_count": 47,
     "metadata": {},
     "output_type": "execute_result"
    }
   ],
   "source": [
    "seoul_moving.loc[~seoul_moving['rush_hour(평일)'], '이동인구(합)'].describe()"
   ]
  },
  {
   "cell_type": "code",
   "execution_count": 62,
   "id": "4e8049fa",
   "metadata": {
    "pycharm": {
     "name": "#%%\n"
    }
   },
   "outputs": [
    {
     "data": {
      "image/png": "[encoded data removed]",
      "text/plain": [
       "<Figure size 432x288 with 1 Axes>"
      ]
     },
     "metadata": {},
     "output_type": "display_data"
    }
   ],
   "source": [
    "plt.hist('도착시간', data=seoul_moving, bins=24)\n",
    "plt.title('도착시간')\n",
    "plt.show()"
   ]
  },
  {
   "cell_type": "markdown",
   "id": "20e08293",
   "metadata": {
    "pycharm": {
     "name": "#%% md\n"
    }
   },
   "source": [
    "## 4.관계 정리"
   ]
  },
  {
   "cell_type": "markdown",
   "id": "b11433ac",
   "metadata": {
    "pycharm": {
     "name": "#%% md\n"
    }
   },
   "source": [
    "### 1) 강한 관계의 변수"
   ]
  },
  {
   "cell_type": "markdown",
   "id": "ae622498",
   "metadata": {
    "pycharm": {
     "name": "#%% md\n"
    }
   },
   "source": [
    "* "
   ]
  },
  {
   "cell_type": "markdown",
   "id": "3101b64b",
   "metadata": {
    "pycharm": {
     "name": "#%% md\n"
    }
   },
   "source": [
    "### 2) 약한 관계의 변수"
   ]
  },
  {
   "cell_type": "markdown",
   "id": "7a7f579d",
   "metadata": {
    "pycharm": {
     "name": "#%% md\n"
    }
   },
   "source": [
    "*"
   ]
  },
  {
   "cell_type": "markdown",
   "id": "644198b7",
   "metadata": {
    "pycharm": {
     "name": "#%% md\n"
    }
   },
   "source": [
    "## 5.솔루션 도출\n",
    "\n",
    "### 어느 구에 버스 노선 또는 정류장이 제일 필요한가요? 그 이유는?"
   ]
  },
  {
   "cell_type": "markdown",
   "id": "783e8346",
   "metadata": {
    "pycharm": {
     "name": "#%% md\n"
    }
   },
   "source": [
    "강동구\n",
    "\n",
    ">> 평균 이동시간이 길어질수록 노선 수는 줄어든다.\n",
    ">> 즉 평균 이동시간이 가장 긴 강동구의 노선수를 증가시켜야한다"
   ]
  },
  {
   "cell_type": "markdown",
   "id": "f0ed6809",
   "metadata": {
    "pycharm": {
     "name": "#%% md\n"
    }
   },
   "source": []
  },
  {
   "cell_type": "code",
   "execution_count": 49,
   "id": "59dd90d2",
   "metadata": {
    "pycharm": {
     "name": "#%%\n"
    }
   },
   "outputs": [
    {
     "data": {
      "text/plain": [
       "RangeIndex(start=0, stop=5489135, step=1)"
      ]
     },
     "execution_count": 49,
     "metadata": {},
     "output_type": "execute_result"
    }
   ],
   "source": [
    "seoul_moving.index"
   ]
  },
  {
   "cell_type": "code",
   "execution_count": null,
   "id": "7e0cc38e",
   "metadata": {
    "pycharm": {
     "name": "#%%\n"
    }
   },
   "outputs": [],
   "source": []
  }
 ],
 "metadata": {
  "colab": {
   "collapsed_sections": [],
   "name": "서울버스수요분석 데이터 분석(EDA)_ver0.1.ipynb",
   "provenance": [],
   "toc_visible": true
  },
  "kernelspec": {
   "display_name": "Python 3.9.12 ('base')",
   "language": "python",
   "name": "python3"
  },
  "language_info": {
   "codemirror_mode": {
    "name": "ipython",
    "version": 3
   },
   "file_extension": ".py",
   "mimetype": "text/x-python",
   "name": "python",
   "nbconvert_exporter": "python",
   "pygments_lexer": "ipython3",
   "version": "3.9.12"
  },
  "vscode": {
   "interpreter": {
    "hash": "c1a5d491894dc282fec25dd5af2406c29d3c555ab4aaa9a102946485975ed006"
   }
  }
 },
 "nbformat": 4,
 "nbformat_minor": 5
}