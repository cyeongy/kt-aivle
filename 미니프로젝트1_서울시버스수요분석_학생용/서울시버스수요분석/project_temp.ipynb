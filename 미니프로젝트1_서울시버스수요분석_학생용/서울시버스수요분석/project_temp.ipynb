{
 "cells": [
  {
   "cell_type": "code",
   "execution_count": 1,
   "metadata": {
    "collapsed": true
   },
   "outputs": [],
   "source": [
    "import pandas as pd\n",
    "import numpy as np\n",
    "import scipy.stats as spst\n",
    "\n",
    "import seaborn as sns\n",
    "from matplotlib import pyplot as plt"
   ]
  },
  {
   "cell_type": "code",
   "execution_count": 2,
   "outputs": [],
   "source": [
    "bus_station = pd.read_csv('1.1 BUS_STATION_BOARDING_MONTH_202204.csv', sep=\",\", encoding = \"cp949\")\n",
    "seoul_moving = pd.read_csv('1.2 seoul_moving_month_4.csv', sep=\",\", index_col=0, encoding='UTF-8')"
   ],
   "metadata": {
    "collapsed": false,
    "pycharm": {
     "name": "#%%\n"
    }
   }
  },
  {
   "cell_type": "code",
   "execution_count": 3,
   "outputs": [],
   "source": [
    "# 서울 내 이동만 포함\n",
    "seoul_moving = seoul_moving[(seoul_moving[\"출발 시군구 코드\"] < 20000) & (seoul_moving[\"도착 시군구 코드\"] < 20000)]"
   ],
   "metadata": {
    "collapsed": false,
    "pycharm": {
     "name": "#%%\n"
    }
   }
  },
  {
   "cell_type": "code",
   "execution_count": 13,
   "outputs": [
    {
     "name": "stdout",
     "output_type": "stream",
     "text": [
      "<class 'pandas.core.frame.DataFrame'>\n",
      "Int64Index: 10655895 entries, 0 to 920414\n",
      "Data columns (total 10 columns):\n",
      " #   Column       Dtype  \n",
      "---  ------       -----  \n",
      " 0   대상연월         int64  \n",
      " 1   요일           object \n",
      " 2   도착시간         int64  \n",
      " 3   출발 시군구 코드    int64  \n",
      " 4   도착 시군구 코드    int64  \n",
      " 5   성별           object \n",
      " 6   나이           int64  \n",
      " 7   이동유형         object \n",
      " 8   평균 이동 시간(분)  int64  \n",
      " 9   이동인구(합)      float64\n",
      "dtypes: float64(1), int64(6), object(3)\n",
      "memory usage: 894.3+ MB\n"
     ]
    }
   ],
   "source": [
    "seoul_moving['이동인구(합)'].replace(\"*\", \"2\", inplace=True)\n",
    "seoul_moving = seoul_moving.astype({'이동인구(합)': float})\n",
    "\n",
    "seoul_moving.info()"
   ],
   "metadata": {
    "collapsed": false,
    "pycharm": {
     "name": "#%%\n"
    }
   }
  },
  {
   "cell_type": "code",
   "execution_count": 14,
   "outputs": [
    {
     "data": {
      "text/plain": "       사용일자  노선번호             노선명 버스정류장ARS번호           역명  승차총승객수  하차총승객수  \\\n0  20220401  2112  2112번(면목동~성북동)      06243  장안동삼성쉐르빌아파트      31     156   \n1  20220401  2112  2112번(면목동~성북동)      06242        새서울병원      46     153   \n2  20220401  2112  2112번(면목동~성북동)      06238      장안동근린공원      11      80   \n3  20220401  2112  2112번(면목동~성북동)      06309  휘경공고휘경주공아파트      56      65   \n4  20220401   100  100번(하계동~용산구청)      11428       한성여객종점       9       5   \n\n       등록일자  \n0  20220404  \n1  20220404  \n2  20220404  \n3  20220404  \n4  20220404  ",
      "text/html": "<div>\n<style scoped>\n    .dataframe tbody tr th:only-of-type {\n        vertical-align: middle;\n    }\n\n    .dataframe tbody tr th {\n        vertical-align: top;\n    }\n\n    .dataframe thead th {\n        text-align: right;\n    }\n</style>\n<table border=\"1\" class=\"dataframe\">\n  <thead>\n    <tr style=\"text-align: right;\">\n      <th></th>\n      <th>사용일자</th>\n      <th>노선번호</th>\n      <th>노선명</th>\n      <th>버스정류장ARS번호</th>\n      <th>역명</th>\n      <th>승차총승객수</th>\n      <th>하차총승객수</th>\n      <th>등록일자</th>\n    </tr>\n  </thead>\n  <tbody>\n    <tr>\n      <th>0</th>\n      <td>20220401</td>\n      <td>2112</td>\n      <td>2112번(면목동~성북동)</td>\n      <td>06243</td>\n      <td>장안동삼성쉐르빌아파트</td>\n      <td>31</td>\n      <td>156</td>\n      <td>20220404</td>\n    </tr>\n    <tr>\n      <th>1</th>\n      <td>20220401</td>\n      <td>2112</td>\n      <td>2112번(면목동~성북동)</td>\n      <td>06242</td>\n      <td>새서울병원</td>\n      <td>46</td>\n      <td>153</td>\n      <td>20220404</td>\n    </tr>\n    <tr>\n      <th>2</th>\n      <td>20220401</td>\n      <td>2112</td>\n      <td>2112번(면목동~성북동)</td>\n      <td>06238</td>\n      <td>장안동근린공원</td>\n      <td>11</td>\n      <td>80</td>\n      <td>20220404</td>\n    </tr>\n    <tr>\n      <th>3</th>\n      <td>20220401</td>\n      <td>2112</td>\n      <td>2112번(면목동~성북동)</td>\n      <td>06309</td>\n      <td>휘경공고휘경주공아파트</td>\n      <td>56</td>\n      <td>65</td>\n      <td>20220404</td>\n    </tr>\n    <tr>\n      <th>4</th>\n      <td>20220401</td>\n      <td>100</td>\n      <td>100번(하계동~용산구청)</td>\n      <td>11428</td>\n      <td>한성여객종점</td>\n      <td>9</td>\n      <td>5</td>\n      <td>20220404</td>\n    </tr>\n  </tbody>\n</table>\n</div>"
     },
     "execution_count": 14,
     "metadata": {},
     "output_type": "execute_result"
    }
   ],
   "source": [
    "bus_station.head()"
   ],
   "metadata": {
    "collapsed": false,
    "pycharm": {
     "name": "#%%\n"
    }
   }
  },
  {
   "cell_type": "code",
   "execution_count": 15,
   "outputs": [
    {
     "data": {
      "text/plain": "     대상연월 요일  도착시간  출발 시군구 코드  도착 시군구 코드 성별  나이 이동유형  평균 이동 시간(분)  이동인구(합)\n0  202204  일     0      11010      11010  F   0   EE           10    28.02\n1  202204  일     0      11010      11010  F   0   EH           10    27.52\n2  202204  일     0      11010      11010  F   0   HE           10    27.83\n3  202204  일     0      11010      11010  F  10   HW           10     6.05\n4  202204  일     0      11010      11010  F  10   EH           90     5.95",
      "text/html": "<div>\n<style scoped>\n    .dataframe tbody tr th:only-of-type {\n        vertical-align: middle;\n    }\n\n    .dataframe tbody tr th {\n        vertical-align: top;\n    }\n\n    .dataframe thead th {\n        text-align: right;\n    }\n</style>\n<table border=\"1\" class=\"dataframe\">\n  <thead>\n    <tr style=\"text-align: right;\">\n      <th></th>\n      <th>대상연월</th>\n      <th>요일</th>\n      <th>도착시간</th>\n      <th>출발 시군구 코드</th>\n      <th>도착 시군구 코드</th>\n      <th>성별</th>\n      <th>나이</th>\n      <th>이동유형</th>\n      <th>평균 이동 시간(분)</th>\n      <th>이동인구(합)</th>\n    </tr>\n  </thead>\n  <tbody>\n    <tr>\n      <th>0</th>\n      <td>202204</td>\n      <td>일</td>\n      <td>0</td>\n      <td>11010</td>\n      <td>11010</td>\n      <td>F</td>\n      <td>0</td>\n      <td>EE</td>\n      <td>10</td>\n      <td>28.02</td>\n    </tr>\n    <tr>\n      <th>1</th>\n      <td>202204</td>\n      <td>일</td>\n      <td>0</td>\n      <td>11010</td>\n      <td>11010</td>\n      <td>F</td>\n      <td>0</td>\n      <td>EH</td>\n      <td>10</td>\n      <td>27.52</td>\n    </tr>\n    <tr>\n      <th>2</th>\n      <td>202204</td>\n      <td>일</td>\n      <td>0</td>\n      <td>11010</td>\n      <td>11010</td>\n      <td>F</td>\n      <td>0</td>\n      <td>HE</td>\n      <td>10</td>\n      <td>27.83</td>\n    </tr>\n    <tr>\n      <th>3</th>\n      <td>202204</td>\n      <td>일</td>\n      <td>0</td>\n      <td>11010</td>\n      <td>11010</td>\n      <td>F</td>\n      <td>10</td>\n      <td>HW</td>\n      <td>10</td>\n      <td>6.05</td>\n    </tr>\n    <tr>\n      <th>4</th>\n      <td>202204</td>\n      <td>일</td>\n      <td>0</td>\n      <td>11010</td>\n      <td>11010</td>\n      <td>F</td>\n      <td>10</td>\n      <td>EH</td>\n      <td>90</td>\n      <td>5.95</td>\n    </tr>\n  </tbody>\n</table>\n</div>"
     },
     "execution_count": 15,
     "metadata": {},
     "output_type": "execute_result"
    }
   ],
   "source": [
    "seoul_moving.head()"
   ],
   "metadata": {
    "collapsed": false,
    "pycharm": {
     "name": "#%%\n"
    }
   }
  },
  {
   "cell_type": "code",
   "execution_count": 16,
   "outputs": [
    {
     "data": {
      "text/plain": "           대상연월 요일  도착시간  출발 시군구 코드  도착 시군구 코드 성별  나이 이동유형  평균 이동 시간(분)  \\\n0        202204  일     7      11010      11010  F  10   EE           10   \n1        202204  일     7      11010      11010  F  10   EH           10   \n2        202204  일     7      11010      11010  F  15   WH           10   \n3        202204  일     7      11010      11010  F  15   EH           10   \n4        202204  일     7      11010      11010  F  15   EE           10   \n...         ... ..   ...        ...        ... ..  ..  ...          ...   \n1466239  202204  토    20      11250      11250  M  80   WW           20   \n1466240  202204  토    20      11250      11250  M  80   WH           10   \n1466241  202204  토    20      11250      11250  M  80   HW           50   \n1466242  202204  토    20      11250      11250  M  80   HE           10   \n1466243  202204  토    20      11250      11250  M  80   HH           10   \n\n         이동인구(합)  \n0           6.02  \n1           5.96  \n2           6.05  \n3          10.05  \n4           8.13  \n...          ...  \n1466239     9.52  \n1466240   113.32  \n1466241     9.48  \n1466242    56.84  \n1466243    47.47  \n\n[4199534 rows x 10 columns]",
      "text/html": "<div>\n<style scoped>\n    .dataframe tbody tr th:only-of-type {\n        vertical-align: middle;\n    }\n\n    .dataframe tbody tr th {\n        vertical-align: top;\n    }\n\n    .dataframe thead th {\n        text-align: right;\n    }\n</style>\n<table border=\"1\" class=\"dataframe\">\n  <thead>\n    <tr style=\"text-align: right;\">\n      <th></th>\n      <th>대상연월</th>\n      <th>요일</th>\n      <th>도착시간</th>\n      <th>출발 시군구 코드</th>\n      <th>도착 시군구 코드</th>\n      <th>성별</th>\n      <th>나이</th>\n      <th>이동유형</th>\n      <th>평균 이동 시간(분)</th>\n      <th>이동인구(합)</th>\n    </tr>\n  </thead>\n  <tbody>\n    <tr>\n      <th>0</th>\n      <td>202204</td>\n      <td>일</td>\n      <td>7</td>\n      <td>11010</td>\n      <td>11010</td>\n      <td>F</td>\n      <td>10</td>\n      <td>EE</td>\n      <td>10</td>\n      <td>6.02</td>\n    </tr>\n    <tr>\n      <th>1</th>\n      <td>202204</td>\n      <td>일</td>\n      <td>7</td>\n      <td>11010</td>\n      <td>11010</td>\n      <td>F</td>\n      <td>10</td>\n      <td>EH</td>\n      <td>10</td>\n      <td>5.96</td>\n    </tr>\n    <tr>\n      <th>2</th>\n      <td>202204</td>\n      <td>일</td>\n      <td>7</td>\n      <td>11010</td>\n      <td>11010</td>\n      <td>F</td>\n      <td>15</td>\n      <td>WH</td>\n      <td>10</td>\n      <td>6.05</td>\n    </tr>\n    <tr>\n      <th>3</th>\n      <td>202204</td>\n      <td>일</td>\n      <td>7</td>\n      <td>11010</td>\n      <td>11010</td>\n      <td>F</td>\n      <td>15</td>\n      <td>EH</td>\n      <td>10</td>\n      <td>10.05</td>\n    </tr>\n    <tr>\n      <th>4</th>\n      <td>202204</td>\n      <td>일</td>\n      <td>7</td>\n      <td>11010</td>\n      <td>11010</td>\n      <td>F</td>\n      <td>15</td>\n      <td>EE</td>\n      <td>10</td>\n      <td>8.13</td>\n    </tr>\n    <tr>\n      <th>...</th>\n      <td>...</td>\n      <td>...</td>\n      <td>...</td>\n      <td>...</td>\n      <td>...</td>\n      <td>...</td>\n      <td>...</td>\n      <td>...</td>\n      <td>...</td>\n      <td>...</td>\n    </tr>\n    <tr>\n      <th>1466239</th>\n      <td>202204</td>\n      <td>토</td>\n      <td>20</td>\n      <td>11250</td>\n      <td>11250</td>\n      <td>M</td>\n      <td>80</td>\n      <td>WW</td>\n      <td>20</td>\n      <td>9.52</td>\n    </tr>\n    <tr>\n      <th>1466240</th>\n      <td>202204</td>\n      <td>토</td>\n      <td>20</td>\n      <td>11250</td>\n      <td>11250</td>\n      <td>M</td>\n      <td>80</td>\n      <td>WH</td>\n      <td>10</td>\n      <td>113.32</td>\n    </tr>\n    <tr>\n      <th>1466241</th>\n      <td>202204</td>\n      <td>토</td>\n      <td>20</td>\n      <td>11250</td>\n      <td>11250</td>\n      <td>M</td>\n      <td>80</td>\n      <td>HW</td>\n      <td>50</td>\n      <td>9.48</td>\n    </tr>\n    <tr>\n      <th>1466242</th>\n      <td>202204</td>\n      <td>토</td>\n      <td>20</td>\n      <td>11250</td>\n      <td>11250</td>\n      <td>M</td>\n      <td>80</td>\n      <td>HE</td>\n      <td>10</td>\n      <td>56.84</td>\n    </tr>\n    <tr>\n      <th>1466243</th>\n      <td>202204</td>\n      <td>토</td>\n      <td>20</td>\n      <td>11250</td>\n      <td>11250</td>\n      <td>M</td>\n      <td>80</td>\n      <td>HH</td>\n      <td>10</td>\n      <td>47.47</td>\n    </tr>\n  </tbody>\n</table>\n<p>4199534 rows × 10 columns</p>\n</div>"
     },
     "execution_count": 16,
     "metadata": {},
     "output_type": "execute_result"
    }
   ],
   "source": [],
   "metadata": {
    "collapsed": false,
    "pycharm": {
     "name": "#%%\n"
    }
   }
  },
  {
   "cell_type": "code",
   "execution_count": 18,
   "outputs": [
    {
     "data": {
      "text/plain": "          대상연월 요일  도착시간  출발 시군구 코드  도착 시군구 코드 성별  나이 이동유형  평균 이동 시간(분)  \\\n0       202204  일     0      11010      11010  F   0   EE           10   \n1       202204  일     0      11010      11010  F   0   EH           10   \n2       202204  일     0      11010      11010  F   0   HE           10   \n3       202204  일     0      11010      11010  F  10   HW           10   \n4       202204  일     0      11010      11010  F  10   EH           90   \n...        ... ..   ...        ...        ... ..  ..  ...          ...   \n920410  202204  토    23      11250      11250  M  80   WH           10   \n920411  202204  토    23      11250      11250  M  80   EH           10   \n920412  202204  토    23      11250      11250  M  80   EE           20   \n920413  202204  토    23      11250      11250  M  80   HE           10   \n920414  202204  토    23      11250      11250  M  80   WE           10   \n\n        이동인구(합)  rush_hour  \n0         28.02      False  \n1         27.52      False  \n2         27.83      False  \n3          6.05      False  \n4          5.95      False  \n...         ...        ...  \n920410    85.10      False  \n920411    28.36      False  \n920412    37.99      False  \n920413     9.42      False  \n920414     9.51      False  \n\n[10655895 rows x 11 columns]",
      "text/html": "<div>\n<style scoped>\n    .dataframe tbody tr th:only-of-type {\n        vertical-align: middle;\n    }\n\n    .dataframe tbody tr th {\n        vertical-align: top;\n    }\n\n    .dataframe thead th {\n        text-align: right;\n    }\n</style>\n<table border=\"1\" class=\"dataframe\">\n  <thead>\n    <tr style=\"text-align: right;\">\n      <th></th>\n      <th>대상연월</th>\n      <th>요일</th>\n      <th>도착시간</th>\n      <th>출발 시군구 코드</th>\n      <th>도착 시군구 코드</th>\n      <th>성별</th>\n      <th>나이</th>\n      <th>이동유형</th>\n      <th>평균 이동 시간(분)</th>\n      <th>이동인구(합)</th>\n      <th>rush_hour</th>\n    </tr>\n  </thead>\n  <tbody>\n    <tr>\n      <th>0</th>\n      <td>202204</td>\n      <td>일</td>\n      <td>0</td>\n      <td>11010</td>\n      <td>11010</td>\n      <td>F</td>\n      <td>0</td>\n      <td>EE</td>\n      <td>10</td>\n      <td>28.02</td>\n      <td>False</td>\n    </tr>\n    <tr>\n      <th>1</th>\n      <td>202204</td>\n      <td>일</td>\n      <td>0</td>\n      <td>11010</td>\n      <td>11010</td>\n      <td>F</td>\n      <td>0</td>\n      <td>EH</td>\n      <td>10</td>\n      <td>27.52</td>\n      <td>False</td>\n    </tr>\n    <tr>\n      <th>2</th>\n      <td>202204</td>\n      <td>일</td>\n      <td>0</td>\n      <td>11010</td>\n      <td>11010</td>\n      <td>F</td>\n      <td>0</td>\n      <td>HE</td>\n      <td>10</td>\n      <td>27.83</td>\n      <td>False</td>\n    </tr>\n    <tr>\n      <th>3</th>\n      <td>202204</td>\n      <td>일</td>\n      <td>0</td>\n      <td>11010</td>\n      <td>11010</td>\n      <td>F</td>\n      <td>10</td>\n      <td>HW</td>\n      <td>10</td>\n      <td>6.05</td>\n      <td>False</td>\n    </tr>\n    <tr>\n      <th>4</th>\n      <td>202204</td>\n      <td>일</td>\n      <td>0</td>\n      <td>11010</td>\n      <td>11010</td>\n      <td>F</td>\n      <td>10</td>\n      <td>EH</td>\n      <td>90</td>\n      <td>5.95</td>\n      <td>False</td>\n    </tr>\n    <tr>\n      <th>...</th>\n      <td>...</td>\n      <td>...</td>\n      <td>...</td>\n      <td>...</td>\n      <td>...</td>\n      <td>...</td>\n      <td>...</td>\n      <td>...</td>\n      <td>...</td>\n      <td>...</td>\n      <td>...</td>\n    </tr>\n    <tr>\n      <th>920410</th>\n      <td>202204</td>\n      <td>토</td>\n      <td>23</td>\n      <td>11250</td>\n      <td>11250</td>\n      <td>M</td>\n      <td>80</td>\n      <td>WH</td>\n      <td>10</td>\n      <td>85.10</td>\n      <td>False</td>\n    </tr>\n    <tr>\n      <th>920411</th>\n      <td>202204</td>\n      <td>토</td>\n      <td>23</td>\n      <td>11250</td>\n      <td>11250</td>\n      <td>M</td>\n      <td>80</td>\n      <td>EH</td>\n      <td>10</td>\n      <td>28.36</td>\n      <td>False</td>\n    </tr>\n    <tr>\n      <th>920412</th>\n      <td>202204</td>\n      <td>토</td>\n      <td>23</td>\n      <td>11250</td>\n      <td>11250</td>\n      <td>M</td>\n      <td>80</td>\n      <td>EE</td>\n      <td>20</td>\n      <td>37.99</td>\n      <td>False</td>\n    </tr>\n    <tr>\n      <th>920413</th>\n      <td>202204</td>\n      <td>토</td>\n      <td>23</td>\n      <td>11250</td>\n      <td>11250</td>\n      <td>M</td>\n      <td>80</td>\n      <td>HE</td>\n      <td>10</td>\n      <td>9.42</td>\n      <td>False</td>\n    </tr>\n    <tr>\n      <th>920414</th>\n      <td>202204</td>\n      <td>토</td>\n      <td>23</td>\n      <td>11250</td>\n      <td>11250</td>\n      <td>M</td>\n      <td>80</td>\n      <td>WE</td>\n      <td>10</td>\n      <td>9.51</td>\n      <td>False</td>\n    </tr>\n  </tbody>\n</table>\n<p>10655895 rows × 11 columns</p>\n</div>"
     },
     "execution_count": 18,
     "metadata": {},
     "output_type": "execute_result"
    }
   ],
   "source": [
    "seoul_moving['rush_hour'] = seoul_moving['도착시간'].isin([7, 8, 9, 10, 17, 18, 19, 20])\n",
    "seoul_moving"
   ],
   "metadata": {
    "collapsed": false,
    "pycharm": {
     "name": "#%%\n"
    }
   }
  },
  {
   "cell_type": "code",
   "execution_count": 23,
   "outputs": [
    {
     "data": {
      "text/plain": "                    sum       mean\nrush_hour                         \nFalse      2.725258e+08  42.210429\nTrue       2.333259e+08  55.559958",
      "text/html": "<div>\n<style scoped>\n    .dataframe tbody tr th:only-of-type {\n        vertical-align: middle;\n    }\n\n    .dataframe tbody tr th {\n        vertical-align: top;\n    }\n\n    .dataframe thead th {\n        text-align: right;\n    }\n</style>\n<table border=\"1\" class=\"dataframe\">\n  <thead>\n    <tr style=\"text-align: right;\">\n      <th></th>\n      <th>sum</th>\n      <th>mean</th>\n    </tr>\n    <tr>\n      <th>rush_hour</th>\n      <th></th>\n      <th></th>\n    </tr>\n  </thead>\n  <tbody>\n    <tr>\n      <th>False</th>\n      <td>2.725258e+08</td>\n      <td>42.210429</td>\n    </tr>\n    <tr>\n      <th>True</th>\n      <td>2.333259e+08</td>\n      <td>55.559958</td>\n    </tr>\n  </tbody>\n</table>\n</div>"
     },
     "execution_count": 23,
     "metadata": {},
     "output_type": "execute_result"
    }
   ],
   "source": [
    "temp = seoul_moving.groupby('rush_hour', as_index=False)\n",
    "temp['이동인구(합)'].agg(['sum', 'mean'])"
   ],
   "metadata": {
    "collapsed": false,
    "pycharm": {
     "name": "#%%\n"
    }
   }
  },
  {
   "cell_type": "code",
   "execution_count": 25,
   "outputs": [
    {
     "name": "stderr",
     "output_type": "stream",
     "text": [
      "/Users/cyeongy/opt/anaconda3/envs/kt-aivle/lib/python3.8/site-packages/seaborn/_decorators.py:36: FutureWarning: Pass the following variables as keyword args: x, y. From version 0.12, the only valid positional argument will be `data`, and passing other arguments without an explicit keyword will result in an error or misinterpretation.\n",
      "  warnings.warn(\n",
      "/Users/cyeongy/opt/anaconda3/envs/kt-aivle/lib/python3.8/site-packages/IPython/core/pylabtools.py:151: UserWarning: Glyph 51060 (\\N{HANGUL SYLLABLE I}) missing from current font.\n",
      "  fig.canvas.print_figure(bytes_io, **kw)\n",
      "/Users/cyeongy/opt/anaconda3/envs/kt-aivle/lib/python3.8/site-packages/IPython/core/pylabtools.py:151: UserWarning: Glyph 46041 (\\N{HANGUL SYLLABLE DONG}) missing from current font.\n",
      "  fig.canvas.print_figure(bytes_io, **kw)\n",
      "/Users/cyeongy/opt/anaconda3/envs/kt-aivle/lib/python3.8/site-packages/IPython/core/pylabtools.py:151: UserWarning: Glyph 51064 (\\N{HANGUL SYLLABLE IN}) missing from current font.\n",
      "  fig.canvas.print_figure(bytes_io, **kw)\n",
      "/Users/cyeongy/opt/anaconda3/envs/kt-aivle/lib/python3.8/site-packages/IPython/core/pylabtools.py:151: UserWarning: Glyph 44396 (\\N{HANGUL SYLLABLE GU}) missing from current font.\n",
      "  fig.canvas.print_figure(bytes_io, **kw)\n",
      "/Users/cyeongy/opt/anaconda3/envs/kt-aivle/lib/python3.8/site-packages/IPython/core/pylabtools.py:151: UserWarning: Glyph 54633 (\\N{HANGUL SYLLABLE HAB}) missing from current font.\n",
      "  fig.canvas.print_figure(bytes_io, **kw)\n"
     ]
    },
    {
     "data": {
      "text/plain": "<Figure size 432x288 with 1 Axes>",
      "image/png": "[encoded data removed]"
     },
     "metadata": {
      "needs_background": "light"
     },
     "output_type": "display_data"
    }
   ],
   "source": [
    "sns.barplot('rush_hour', '이동인구(합)', data=seoul_moving)\n",
    "plt.show()"
   ],
   "metadata": {
    "collapsed": false,
    "pycharm": {
     "name": "#%%\n"
    }
   }
  },
  {
   "cell_type": "code",
   "execution_count": 27,
   "outputs": [
    {
     "data": {
      "text/plain": "Ttest_indResult(statistic=130.5787528066596, pvalue=0.0)"
     },
     "execution_count": 27,
     "metadata": {},
     "output_type": "execute_result"
    }
   ],
   "source": [
    "rush_t = seoul_moving.loc[seoul_moving['rush_hour'] == True, '이동인구(합)']\n",
    "not_rush_t = seoul_moving.loc[seoul_moving['rush_hour'] == False, '이동인구(합)']\n",
    "\n",
    "spst.ttest_ind(rush_t, not_rush_t)"
   ],
   "metadata": {
    "collapsed": false,
    "pycharm": {
     "name": "#%%\n"
    }
   }
  },
  {
   "cell_type": "code",
   "execution_count": null,
   "outputs": [],
   "source": [],
   "metadata": {
    "collapsed": false,
    "pycharm": {
     "name": "#%%\n"
    }
   }
  }
 ],
 "metadata": {
  "kernelspec": {
   "display_name": "Python 3",
   "language": "python",
   "name": "python3"
  },
  "language_info": {
   "codemirror_mode": {
    "name": "ipython",
    "version": 2
   },
   "file_extension": ".py",
   "mimetype": "text/x-python",
   "name": "python",
   "nbconvert_exporter": "python",
   "pygments_lexer": "ipython2",
   "version": "2.7.6"
  }
 },
 "nbformat": 4,
 "nbformat_minor": 0
}