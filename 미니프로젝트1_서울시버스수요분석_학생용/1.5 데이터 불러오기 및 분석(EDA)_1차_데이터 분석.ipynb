{
 "cells": [
  {
   "cell_type": "markdown",
   "id": "boxed-jamaica",
   "metadata": {
    "id": "boxed-jamaica"
   },
   "source": [
    "# 안녕하세요:)\n",
    "\n",
    "## AIVLE 1차 미니프로젝트 '서울시 생활정보 기반 대중교통 수요 분석 ' 과정에 오신 여러분을 환영합니다.\n",
    "* 본 과정에서는 서울시 생활정보 데이터를 기반으로 데이터 분석을 시도하고 주어진 문제를 해결할 것입니다.\n",
    "\n",
    "\n",
    "* 우리는 공공 데이터를 활용해 버스노선 관련 인사이트를 도출하여 유용한 정책을 세우는데 도움을 주고자 합니다"
   ]
  },
  {
   "cell_type": "markdown",
   "id": "46fa690c",
   "metadata": {
    "id": "46fa690c"
   },
   "source": [
    "## ▣ 우리가 풀어야 하는 문제는 무엇인가요?\n",
    "\n",
    "* 제공 데이터\n",
    "    - 구 별 유동인구 데이터\n",
    "    - 구 별 주민 등록 데이터\n",
    "    - 구 별 업종 등록 정보\n",
    "    - 버스 승하차 및 운행 노선 데이터 \n",
    "\n",
    "### 위 제공 데이터를 분석하여 버스 노선 추가 필요 대상 지역(구 단위)을 선정합니다"
   ]
  },
  {
   "cell_type": "markdown",
   "id": "22a4bba9",
   "metadata": {},
   "source": [
    "# 이 4개의 데이터들을 어떻게 합칠까요?"
   ]
  },
  {
   "cell_type": "code",
   "execution_count": 1,
   "id": "ce78669f",
   "metadata": {},
   "outputs": [],
   "source": [
    "import pandas as pd"
   ]
  },
  {
   "cell_type": "code",
   "execution_count": 2,
   "id": "d91f797e",
   "metadata": {},
   "outputs": [],
   "source": [
    "standard = pd.DataFrame({'도착 시군구 코드': [11010, 11020, 11030, 11040, 11050, 11060, 11070, 11080, 11090, 11100, 11110, 11120, 11130, 11140, 11150, 11160, 11170, 11180, 11190, 11200, 11210, 11220, 11230, 11240, 11250],\n",
    "                         '자치구' :['종로구','중구','용산구','성동구','광진구','동대문구','중랑구','성북구','강북구','도봉구','노원구','은평구','서대문구','마포구','양천구','강서구','구로구','금천구','영등포구','동작구','관악구','서초구','강남구','송파구','강동구']})"
   ]
  },
  {
   "cell_type": "code",
   "execution_count": 3,
   "id": "823d3b41",
   "metadata": {},
   "outputs": [
    {
     "data": {
      "text/plain": "    도착 시군구 코드   자치구\n0       11010   종로구\n1       11020    중구\n2       11030   용산구\n3       11040   성동구\n4       11050   광진구\n5       11060  동대문구\n6       11070   중랑구\n7       11080   성북구\n8       11090   강북구\n9       11100   도봉구\n10      11110   노원구\n11      11120   은평구\n12      11130  서대문구\n13      11140   마포구\n14      11150   양천구\n15      11160   강서구\n16      11170   구로구\n17      11180   금천구\n18      11190  영등포구\n19      11200   동작구\n20      11210   관악구\n21      11220   서초구\n22      11230   강남구\n23      11240   송파구\n24      11250   강동구",
      "text/html": "<div>\n<style scoped>\n    .dataframe tbody tr th:only-of-type {\n        vertical-align: middle;\n    }\n\n    .dataframe tbody tr th {\n        vertical-align: top;\n    }\n\n    .dataframe thead th {\n        text-align: right;\n    }\n</style>\n<table border=\"1\" class=\"dataframe\">\n  <thead>\n    <tr style=\"text-align: right;\">\n      <th></th>\n      <th>도착 시군구 코드</th>\n      <th>자치구</th>\n    </tr>\n  </thead>\n  <tbody>\n    <tr>\n      <th>0</th>\n      <td>11010</td>\n      <td>종로구</td>\n    </tr>\n    <tr>\n      <th>1</th>\n      <td>11020</td>\n      <td>중구</td>\n    </tr>\n    <tr>\n      <th>2</th>\n      <td>11030</td>\n      <td>용산구</td>\n    </tr>\n    <tr>\n      <th>3</th>\n      <td>11040</td>\n      <td>성동구</td>\n    </tr>\n    <tr>\n      <th>4</th>\n      <td>11050</td>\n      <td>광진구</td>\n    </tr>\n    <tr>\n      <th>5</th>\n      <td>11060</td>\n      <td>동대문구</td>\n    </tr>\n    <tr>\n      <th>6</th>\n      <td>11070</td>\n      <td>중랑구</td>\n    </tr>\n    <tr>\n      <th>7</th>\n      <td>11080</td>\n      <td>성북구</td>\n    </tr>\n    <tr>\n      <th>8</th>\n      <td>11090</td>\n      <td>강북구</td>\n    </tr>\n    <tr>\n      <th>9</th>\n      <td>11100</td>\n      <td>도봉구</td>\n    </tr>\n    <tr>\n      <th>10</th>\n      <td>11110</td>\n      <td>노원구</td>\n    </tr>\n    <tr>\n      <th>11</th>\n      <td>11120</td>\n      <td>은평구</td>\n    </tr>\n    <tr>\n      <th>12</th>\n      <td>11130</td>\n      <td>서대문구</td>\n    </tr>\n    <tr>\n      <th>13</th>\n      <td>11140</td>\n      <td>마포구</td>\n    </tr>\n    <tr>\n      <th>14</th>\n      <td>11150</td>\n      <td>양천구</td>\n    </tr>\n    <tr>\n      <th>15</th>\n      <td>11160</td>\n      <td>강서구</td>\n    </tr>\n    <tr>\n      <th>16</th>\n      <td>11170</td>\n      <td>구로구</td>\n    </tr>\n    <tr>\n      <th>17</th>\n      <td>11180</td>\n      <td>금천구</td>\n    </tr>\n    <tr>\n      <th>18</th>\n      <td>11190</td>\n      <td>영등포구</td>\n    </tr>\n    <tr>\n      <th>19</th>\n      <td>11200</td>\n      <td>동작구</td>\n    </tr>\n    <tr>\n      <th>20</th>\n      <td>11210</td>\n      <td>관악구</td>\n    </tr>\n    <tr>\n      <th>21</th>\n      <td>11220</td>\n      <td>서초구</td>\n    </tr>\n    <tr>\n      <th>22</th>\n      <td>11230</td>\n      <td>강남구</td>\n    </tr>\n    <tr>\n      <th>23</th>\n      <td>11240</td>\n      <td>송파구</td>\n    </tr>\n    <tr>\n      <th>24</th>\n      <td>11250</td>\n      <td>강동구</td>\n    </tr>\n  </tbody>\n</table>\n</div>"
     },
     "execution_count": 3,
     "metadata": {},
     "output_type": "execute_result"
    }
   ],
   "source": [
    "standard"
   ]
  },
  {
   "cell_type": "code",
   "execution_count": 4,
   "id": "5ee007e0",
   "metadata": {},
   "outputs": [],
   "source": [
    "# 버스 정류장 데이터 - df_seoul_bus_station\n",
    "# 유동인구 데이터 - df_seoul_moving\n",
    "# 구별 상권 데이터 - df_seoul_business\n",
    "# 구별 등록 인구 데이터 - df_seoul_people"
   ]
  },
  {
   "cell_type": "code",
   "execution_count": 5,
   "id": "d8f6cfe8",
   "metadata": {},
   "outputs": [],
   "source": [
    "df_seoul_bus_station = pd.read_csv('df_seoul_bus_station.csv', sep=\",\", encoding = 'UTF-8')"
   ]
  },
  {
   "cell_type": "code",
   "execution_count": 6,
   "id": "22e16caa",
   "metadata": {},
   "outputs": [
    {
     "data": {
      "text/plain": "   자치구  정류장수  노선수   승차총승객수   하차총승객수     승차평균승객수     하차평균승객수\n0  강남구   499   91  8030483  7569213  128.767927  121.371512\n1  강동구   369   21  2890053  2830506   99.161194   97.118065\n2  강북구   413   67  4825181  4671783  133.020373  128.791504\n3  강서구   566   49  4681083  4652828   88.119480   87.587591\n4  관악구   466   86  7655819  7792476  154.753674  157.516040",
      "text/html": "<div>\n<style scoped>\n    .dataframe tbody tr th:only-of-type {\n        vertical-align: middle;\n    }\n\n    .dataframe tbody tr th {\n        vertical-align: top;\n    }\n\n    .dataframe thead th {\n        text-align: right;\n    }\n</style>\n<table border=\"1\" class=\"dataframe\">\n  <thead>\n    <tr style=\"text-align: right;\">\n      <th></th>\n      <th>자치구</th>\n      <th>정류장수</th>\n      <th>노선수</th>\n      <th>승차총승객수</th>\n      <th>하차총승객수</th>\n      <th>승차평균승객수</th>\n      <th>하차평균승객수</th>\n    </tr>\n  </thead>\n  <tbody>\n    <tr>\n      <th>0</th>\n      <td>강남구</td>\n      <td>499</td>\n      <td>91</td>\n      <td>8030483</td>\n      <td>7569213</td>\n      <td>128.767927</td>\n      <td>121.371512</td>\n    </tr>\n    <tr>\n      <th>1</th>\n      <td>강동구</td>\n      <td>369</td>\n      <td>21</td>\n      <td>2890053</td>\n      <td>2830506</td>\n      <td>99.161194</td>\n      <td>97.118065</td>\n    </tr>\n    <tr>\n      <th>2</th>\n      <td>강북구</td>\n      <td>413</td>\n      <td>67</td>\n      <td>4825181</td>\n      <td>4671783</td>\n      <td>133.020373</td>\n      <td>128.791504</td>\n    </tr>\n    <tr>\n      <th>3</th>\n      <td>강서구</td>\n      <td>566</td>\n      <td>49</td>\n      <td>4681083</td>\n      <td>4652828</td>\n      <td>88.119480</td>\n      <td>87.587591</td>\n    </tr>\n    <tr>\n      <th>4</th>\n      <td>관악구</td>\n      <td>466</td>\n      <td>86</td>\n      <td>7655819</td>\n      <td>7792476</td>\n      <td>154.753674</td>\n      <td>157.516040</td>\n    </tr>\n  </tbody>\n</table>\n</div>"
     },
     "execution_count": 6,
     "metadata": {},
     "output_type": "execute_result"
    }
   ],
   "source": [
    "df_seoul_bus_station.head()"
   ]
  },
  {
   "cell_type": "code",
   "execution_count": 13,
   "id": "7770cc4c",
   "metadata": {},
   "outputs": [],
   "source": [
    "df_seoul_moving = pd.read_csv('df_seoul_moving.csv', sep=\",\", encoding = 'UTF-8')"
   ]
  },
  {
   "cell_type": "code",
   "execution_count": 14,
   "id": "b144c7e9",
   "metadata": {},
   "outputs": [
    {
     "data": {
      "text/plain": "   도착 시군구 코드  평균 이동 시간(분)   이동인구(평균)  총 이동 시간(분)      이동인구(합)\n0      11010    21.443330  41.523063    10239340  19827553.13\n1      11020    21.166269  41.760859    10285410  20293021.43\n2      11030    21.553622  34.676168     9488120  15264795.74\n3      11040    21.950757  39.907793     9952210  18093714.50\n4      11050    22.779081  43.712430     9761770  18732568.44",
      "text/html": "<div>\n<style scoped>\n    .dataframe tbody tr th:only-of-type {\n        vertical-align: middle;\n    }\n\n    .dataframe tbody tr th {\n        vertical-align: top;\n    }\n\n    .dataframe thead th {\n        text-align: right;\n    }\n</style>\n<table border=\"1\" class=\"dataframe\">\n  <thead>\n    <tr style=\"text-align: right;\">\n      <th></th>\n      <th>도착 시군구 코드</th>\n      <th>평균 이동 시간(분)</th>\n      <th>이동인구(평균)</th>\n      <th>총 이동 시간(분)</th>\n      <th>이동인구(합)</th>\n    </tr>\n  </thead>\n  <tbody>\n    <tr>\n      <th>0</th>\n      <td>11010</td>\n      <td>21.443330</td>\n      <td>41.523063</td>\n      <td>10239340</td>\n      <td>19827553.13</td>\n    </tr>\n    <tr>\n      <th>1</th>\n      <td>11020</td>\n      <td>21.166269</td>\n      <td>41.760859</td>\n      <td>10285410</td>\n      <td>20293021.43</td>\n    </tr>\n    <tr>\n      <th>2</th>\n      <td>11030</td>\n      <td>21.553622</td>\n      <td>34.676168</td>\n      <td>9488120</td>\n      <td>15264795.74</td>\n    </tr>\n    <tr>\n      <th>3</th>\n      <td>11040</td>\n      <td>21.950757</td>\n      <td>39.907793</td>\n      <td>9952210</td>\n      <td>18093714.50</td>\n    </tr>\n    <tr>\n      <th>4</th>\n      <td>11050</td>\n      <td>22.779081</td>\n      <td>43.712430</td>\n      <td>9761770</td>\n      <td>18732568.44</td>\n    </tr>\n  </tbody>\n</table>\n</div>"
     },
     "execution_count": 14,
     "metadata": {},
     "output_type": "execute_result"
    }
   ],
   "source": [
    "df_seoul_moving.head()"
   ]
  },
  {
   "cell_type": "code",
   "execution_count": 15,
   "id": "24951c98",
   "metadata": {},
   "outputs": [],
   "source": [
    "df = pd.merge(standard,df_seoul_bus_station,how='inner', on='자치구')"
   ]
  },
  {
   "cell_type": "code",
   "execution_count": 16,
   "id": "6a6559c8",
   "metadata": {},
   "outputs": [],
   "source": [
    "df = pd.merge(df,df_seoul_moving,how='inner', on='도착 시군구 코드')"
   ]
  },
  {
   "cell_type": "code",
   "execution_count": 17,
   "id": "2aab60fa",
   "metadata": {},
   "outputs": [
    {
     "data": {
      "text/plain": "    도착 시군구 코드   자치구  정류장수  노선수   승차총승객수   하차총승객수     승차평균승객수     하차평균승객수  \\\n0       11010   종로구   349  106  5468935  5205394  131.889620  125.534028   \n1       11020    중구   178  103  3776675  3598932  121.020124  115.324511   \n2       11030   용산구   323   67  4189977  4086474  137.891694  134.485421   \n3       11040   성동구   435   58  2807280  2746738   96.377369   94.298888   \n4       11050   광진구   269   41  2749448  2753411  118.352546  118.523137   \n5       11060  동대문구   306   73  5240565  5115379  131.841430  128.692017   \n6       11070   중랑구   380   48  3792541  3740923   87.403863   86.214261   \n7       11080   성북구   602   99  6236424  6231238  123.251922  123.149430   \n8       11090   강북구   413   67  4825181  4671783  133.020373  128.791504   \n9       11100   도봉구   359   46  3304305  3211421  106.859356  103.855540   \n10      11110   노원구   514   57  4353295  4292724   88.476211   87.245168   \n11      11120   은평구   501   71  5201660  5122499  106.395173  104.776007   \n12      11130  서대문구   456  107  5863499  5796960  109.914502  108.667192   \n13      11140   마포구   562   97  5088461  4957596  103.907639  101.235343   \n14      11150   양천구   319   56  4009172  3851173   97.627526   93.780086   \n15      11160   강서구   566   49  4681083  4652828   88.119480   87.587591   \n16      11170   구로구   486   79  4942197  4730992  119.235615  114.140076   \n17      11180   금천구   345   58  3776658  3581930  123.098370  116.751304   \n18      11190  영등포구   465  101  5739875  5783211  120.337855  121.246404   \n19      11200   동작구   438   94  5314274  5112276  124.295965  119.571419   \n20      11210   관악구   466   86  7655819  7792476  154.753674  157.516040   \n21      11220   서초구   600   93  7221330  6977950  126.687777  122.418028   \n22      11230   강남구   499   91  8030483  7569213  128.767927  121.371512   \n23      11240   송파구   415   55  5641742  5603488  114.270072  113.495260   \n24      11250   강동구   369   21  2890053  2830506   99.161194   97.118065   \n\n    평균 이동 시간(분)   이동인구(평균)  총 이동 시간(분)      이동인구(합)  \n0     21.443330  41.523063    10239340  19827553.13  \n1     21.166269  41.760859    10285410  20293021.43  \n2     21.553622  34.676168     9488120  15264795.74  \n3     21.950757  39.907793     9952210  18093714.50  \n4     22.779081  43.712430     9761770  18732568.44  \n5     21.985940  37.394532     9998260  17005424.97  \n6     23.849072  38.086766     9102380  14536423.71  \n7     22.508757  42.648641    10314120  19542758.96  \n8     24.282441  36.281421     8765160  13096395.71  \n9     25.102882  35.099543     8053130  11260109.02  \n10    24.497542  51.091182    10256190  21389936.36  \n11    25.066142  46.712972     9222310  17186589.93  \n12    22.328288  39.908331     9470030  16926200.89  \n13    22.322323  51.123170    10722260  24556401.25  \n14    23.233772  43.124416     8445360  15675509.46  \n15    25.496986  54.208682    10718780  22789004.72  \n16    23.480408  38.895596     9072360  15028480.32  \n17    24.394485  28.730583     7190250   8468310.47  \n18    21.877909  52.142928    10842320  25841148.91  \n19    22.215130  38.417589     9528980  16478879.02  \n20    23.842468  46.586809    10091730  19718658.80  \n21    22.959344  59.509766    11489820  29781186.30  \n22    23.284573  83.309306    12904380  46170267.40  \n23    25.605607  77.326264    11978610  36174154.00  \n24    26.108477  59.889404     9596980  22014206.89  ",
      "text/html": "<div>\n<style scoped>\n    .dataframe tbody tr th:only-of-type {\n        vertical-align: middle;\n    }\n\n    .dataframe tbody tr th {\n        vertical-align: top;\n    }\n\n    .dataframe thead th {\n        text-align: right;\n    }\n</style>\n<table border=\"1\" class=\"dataframe\">\n  <thead>\n    <tr style=\"text-align: right;\">\n      <th></th>\n      <th>도착 시군구 코드</th>\n      <th>자치구</th>\n      <th>정류장수</th>\n      <th>노선수</th>\n      <th>승차총승객수</th>\n      <th>하차총승객수</th>\n      <th>승차평균승객수</th>\n      <th>하차평균승객수</th>\n      <th>평균 이동 시간(분)</th>\n      <th>이동인구(평균)</th>\n      <th>총 이동 시간(분)</th>\n      <th>이동인구(합)</th>\n    </tr>\n  </thead>\n  <tbody>\n    <tr>\n      <th>0</th>\n      <td>11010</td>\n      <td>종로구</td>\n      <td>349</td>\n      <td>106</td>\n      <td>5468935</td>\n      <td>5205394</td>\n      <td>131.889620</td>\n      <td>125.534028</td>\n      <td>21.443330</td>\n      <td>41.523063</td>\n      <td>10239340</td>\n      <td>19827553.13</td>\n    </tr>\n    <tr>\n      <th>1</th>\n      <td>11020</td>\n      <td>중구</td>\n      <td>178</td>\n      <td>103</td>\n      <td>3776675</td>\n      <td>3598932</td>\n      <td>121.020124</td>\n      <td>115.324511</td>\n      <td>21.166269</td>\n      <td>41.760859</td>\n      <td>10285410</td>\n      <td>20293021.43</td>\n    </tr>\n    <tr>\n      <th>2</th>\n      <td>11030</td>\n      <td>용산구</td>\n      <td>323</td>\n      <td>67</td>\n      <td>4189977</td>\n      <td>4086474</td>\n      <td>137.891694</td>\n      <td>134.485421</td>\n      <td>21.553622</td>\n      <td>34.676168</td>\n      <td>9488120</td>\n      <td>15264795.74</td>\n    </tr>\n    <tr>\n      <th>3</th>\n      <td>11040</td>\n      <td>성동구</td>\n      <td>435</td>\n      <td>58</td>\n      <td>2807280</td>\n      <td>2746738</td>\n      <td>96.377369</td>\n      <td>94.298888</td>\n      <td>21.950757</td>\n      <td>39.907793</td>\n      <td>9952210</td>\n      <td>18093714.50</td>\n    </tr>\n    <tr>\n      <th>4</th>\n      <td>11050</td>\n      <td>광진구</td>\n      <td>269</td>\n      <td>41</td>\n      <td>2749448</td>\n      <td>2753411</td>\n      <td>118.352546</td>\n      <td>118.523137</td>\n      <td>22.779081</td>\n      <td>43.712430</td>\n      <td>9761770</td>\n      <td>18732568.44</td>\n    </tr>\n    <tr>\n      <th>5</th>\n      <td>11060</td>\n      <td>동대문구</td>\n      <td>306</td>\n      <td>73</td>\n      <td>5240565</td>\n      <td>5115379</td>\n      <td>131.841430</td>\n      <td>128.692017</td>\n      <td>21.985940</td>\n      <td>37.394532</td>\n      <td>9998260</td>\n      <td>17005424.97</td>\n    </tr>\n    <tr>\n      <th>6</th>\n      <td>11070</td>\n      <td>중랑구</td>\n      <td>380</td>\n      <td>48</td>\n      <td>3792541</td>\n      <td>3740923</td>\n      <td>87.403863</td>\n      <td>86.214261</td>\n      <td>23.849072</td>\n      <td>38.086766</td>\n      <td>9102380</td>\n      <td>14536423.71</td>\n    </tr>\n    <tr>\n      <th>7</th>\n      <td>11080</td>\n      <td>성북구</td>\n      <td>602</td>\n      <td>99</td>\n      <td>6236424</td>\n      <td>6231238</td>\n      <td>123.251922</td>\n      <td>123.149430</td>\n      <td>22.508757</td>\n      <td>42.648641</td>\n      <td>10314120</td>\n      <td>19542758.96</td>\n    </tr>\n    <tr>\n      <th>8</th>\n      <td>11090</td>\n      <td>강북구</td>\n      <td>413</td>\n      <td>67</td>\n      <td>4825181</td>\n      <td>4671783</td>\n      <td>133.020373</td>\n      <td>128.791504</td>\n      <td>24.282441</td>\n      <td>36.281421</td>\n      <td>8765160</td>\n      <td>13096395.71</td>\n    </tr>\n    <tr>\n      <th>9</th>\n      <td>11100</td>\n      <td>도봉구</td>\n      <td>359</td>\n      <td>46</td>\n      <td>3304305</td>\n      <td>3211421</td>\n      <td>106.859356</td>\n      <td>103.855540</td>\n      <td>25.102882</td>\n      <td>35.099543</td>\n      <td>8053130</td>\n      <td>11260109.02</td>\n    </tr>\n    <tr>\n      <th>10</th>\n      <td>11110</td>\n      <td>노원구</td>\n      <td>514</td>\n      <td>57</td>\n      <td>4353295</td>\n      <td>4292724</td>\n      <td>88.476211</td>\n      <td>87.245168</td>\n      <td>24.497542</td>\n      <td>51.091182</td>\n      <td>10256190</td>\n      <td>21389936.36</td>\n    </tr>\n    <tr>\n      <th>11</th>\n      <td>11120</td>\n      <td>은평구</td>\n      <td>501</td>\n      <td>71</td>\n      <td>5201660</td>\n      <td>5122499</td>\n      <td>106.395173</td>\n      <td>104.776007</td>\n      <td>25.066142</td>\n      <td>46.712972</td>\n      <td>9222310</td>\n      <td>17186589.93</td>\n    </tr>\n    <tr>\n      <th>12</th>\n      <td>11130</td>\n      <td>서대문구</td>\n      <td>456</td>\n      <td>107</td>\n      <td>5863499</td>\n      <td>5796960</td>\n      <td>109.914502</td>\n      <td>108.667192</td>\n      <td>22.328288</td>\n      <td>39.908331</td>\n      <td>9470030</td>\n      <td>16926200.89</td>\n    </tr>\n    <tr>\n      <th>13</th>\n      <td>11140</td>\n      <td>마포구</td>\n      <td>562</td>\n      <td>97</td>\n      <td>5088461</td>\n      <td>4957596</td>\n      <td>103.907639</td>\n      <td>101.235343</td>\n      <td>22.322323</td>\n      <td>51.123170</td>\n      <td>10722260</td>\n      <td>24556401.25</td>\n    </tr>\n    <tr>\n      <th>14</th>\n      <td>11150</td>\n      <td>양천구</td>\n      <td>319</td>\n      <td>56</td>\n      <td>4009172</td>\n      <td>3851173</td>\n      <td>97.627526</td>\n      <td>93.780086</td>\n      <td>23.233772</td>\n      <td>43.124416</td>\n      <td>8445360</td>\n      <td>15675509.46</td>\n    </tr>\n    <tr>\n      <th>15</th>\n      <td>11160</td>\n      <td>강서구</td>\n      <td>566</td>\n      <td>49</td>\n      <td>4681083</td>\n      <td>4652828</td>\n      <td>88.119480</td>\n      <td>87.587591</td>\n      <td>25.496986</td>\n      <td>54.208682</td>\n      <td>10718780</td>\n      <td>22789004.72</td>\n    </tr>\n    <tr>\n      <th>16</th>\n      <td>11170</td>\n      <td>구로구</td>\n      <td>486</td>\n      <td>79</td>\n      <td>4942197</td>\n      <td>4730992</td>\n      <td>119.235615</td>\n      <td>114.140076</td>\n      <td>23.480408</td>\n      <td>38.895596</td>\n      <td>9072360</td>\n      <td>15028480.32</td>\n    </tr>\n    <tr>\n      <th>17</th>\n      <td>11180</td>\n      <td>금천구</td>\n      <td>345</td>\n      <td>58</td>\n      <td>3776658</td>\n      <td>3581930</td>\n      <td>123.098370</td>\n      <td>116.751304</td>\n      <td>24.394485</td>\n      <td>28.730583</td>\n      <td>7190250</td>\n      <td>8468310.47</td>\n    </tr>\n    <tr>\n      <th>18</th>\n      <td>11190</td>\n      <td>영등포구</td>\n      <td>465</td>\n      <td>101</td>\n      <td>5739875</td>\n      <td>5783211</td>\n      <td>120.337855</td>\n      <td>121.246404</td>\n      <td>21.877909</td>\n      <td>52.142928</td>\n      <td>10842320</td>\n      <td>25841148.91</td>\n    </tr>\n    <tr>\n      <th>19</th>\n      <td>11200</td>\n      <td>동작구</td>\n      <td>438</td>\n      <td>94</td>\n      <td>5314274</td>\n      <td>5112276</td>\n      <td>124.295965</td>\n      <td>119.571419</td>\n      <td>22.215130</td>\n      <td>38.417589</td>\n      <td>9528980</td>\n      <td>16478879.02</td>\n    </tr>\n    <tr>\n      <th>20</th>\n      <td>11210</td>\n      <td>관악구</td>\n      <td>466</td>\n      <td>86</td>\n      <td>7655819</td>\n      <td>7792476</td>\n      <td>154.753674</td>\n      <td>157.516040</td>\n      <td>23.842468</td>\n      <td>46.586809</td>\n      <td>10091730</td>\n      <td>19718658.80</td>\n    </tr>\n    <tr>\n      <th>21</th>\n      <td>11220</td>\n      <td>서초구</td>\n      <td>600</td>\n      <td>93</td>\n      <td>7221330</td>\n      <td>6977950</td>\n      <td>126.687777</td>\n      <td>122.418028</td>\n      <td>22.959344</td>\n      <td>59.509766</td>\n      <td>11489820</td>\n      <td>29781186.30</td>\n    </tr>\n    <tr>\n      <th>22</th>\n      <td>11230</td>\n      <td>강남구</td>\n      <td>499</td>\n      <td>91</td>\n      <td>8030483</td>\n      <td>7569213</td>\n      <td>128.767927</td>\n      <td>121.371512</td>\n      <td>23.284573</td>\n      <td>83.309306</td>\n      <td>12904380</td>\n      <td>46170267.40</td>\n    </tr>\n    <tr>\n      <th>23</th>\n      <td>11240</td>\n      <td>송파구</td>\n      <td>415</td>\n      <td>55</td>\n      <td>5641742</td>\n      <td>5603488</td>\n      <td>114.270072</td>\n      <td>113.495260</td>\n      <td>25.605607</td>\n      <td>77.326264</td>\n      <td>11978610</td>\n      <td>36174154.00</td>\n    </tr>\n    <tr>\n      <th>24</th>\n      <td>11250</td>\n      <td>강동구</td>\n      <td>369</td>\n      <td>21</td>\n      <td>2890053</td>\n      <td>2830506</td>\n      <td>99.161194</td>\n      <td>97.118065</td>\n      <td>26.108477</td>\n      <td>59.889404</td>\n      <td>9596980</td>\n      <td>22014206.89</td>\n    </tr>\n  </tbody>\n</table>\n</div>"
     },
     "execution_count": 17,
     "metadata": {},
     "output_type": "execute_result"
    }
   ],
   "source": [
    "df.sort_values(by=['승차총승객수'])"
   ]
  },
  {
   "cell_type": "markdown",
   "id": "b2edf769",
   "metadata": {},
   "source": [
    "## 1.가설 수립 \n",
    "+ 어떤 데이터를 label 데이터로 하실 건가요?\n",
    "\n",
    "? 정해진게 없나요? - 네 라벨을 개인및 조별로 고민하셔서 라벨데이터를 설정하시면 되겠습니다\n",
    "? 가설마다 라벨데이터가 달라도 상관없나요? 네 그렇습니다\n",
    "? 가설은 3개만 해야하나요? 그 이상 하셔도 무방합니다\n",
    "\n",
    "## 가설을 설정해 봅시다 (인당 최소 3개) - 미니프로젝트 진행의 편의상 가설은 이변량 분석을 염두에 두고 설정해 주세요"
   ]
  },
  {
   "cell_type": "markdown",
   "id": "b3d42e07",
   "metadata": {},
   "source": [
    "* 가설 1\n",
    "    - H : 야간 상주지 (집)\n",
    "    - W : 주간 상주지 (직장)\n",
    "\n",
    "HW, WH의 전체 평균 이동 시간이 길 수록 거리가"
   ]
  },
  {
   "cell_type": "markdown",
   "id": "4fd1db81",
   "metadata": {},
   "source": [
    "* 가설 2"
   ]
  },
  {
   "cell_type": "markdown",
   "id": "e527bc75",
   "metadata": {},
   "source": [
    "* 가설 3"
   ]
  },
  {
   "cell_type": "markdown",
   "id": "6aa7b930",
   "metadata": {},
   "source": [
    "## 2.단변량 분석\n",
    "\n",
    "+ 변수의 비즈니스 의미  \n",
    "\n",
    "+ 숫자? 범주?  \n",
    "\n",
    "+ 전처리 사항\n",
    "   - NaN 존재 여부 및 조치 방안  \n",
    "   - 가변수화 대상여부  \n",
    "   \n",
    "+ 기초통계량\n",
    "\n",
    "+ 분포  \n",
    "\n",
    "+ 위 정보로부터 파악한 내용(비즈니스!) 정리  \n",
    "\n",
    "+ 추가 분석해볼 사항 도출"
   ]
  },
  {
   "cell_type": "code",
   "execution_count": null,
   "id": "b62009a9",
   "metadata": {},
   "outputs": [],
   "source": [
    "# 시각화 한글폰트 설정\n",
    "import seaborn as sns\n",
    "import matplotlib.pyplot as plt\n",
    "\n",
    "plt.rc('font', family='Malgun Gothic')\n",
    "sns.set(font=\"Malgun Gothic\",#\"NanumGothicCoding\", \n",
    "        rc={\"axes.unicode_minus\":False}, # 마이너스 부호 깨짐 현상 해결\n",
    "        style='darkgrid')        "
   ]
  },
  {
   "cell_type": "markdown",
   "id": "39ef5d0f",
   "metadata": {},
   "source": [
    "### 1)\n"
   ]
  },
  {
   "cell_type": "markdown",
   "id": "a4e3ec6e",
   "metadata": {},
   "source": [
    "### 2)"
   ]
  },
  {
   "cell_type": "markdown",
   "id": "a7193abc",
   "metadata": {},
   "source": [
    "### 3)"
   ]
  },
  {
   "cell_type": "markdown",
   "id": "ac81d719",
   "metadata": {},
   "source": [
    "## 3.이변량 분석\n",
    "\n",
    "* 자료의 종류에 맞게 X --> Y 에 대해서 그래프(시각화)와 가설검정(수치화)를 수행하고 결과를 평가합니다.\n",
    "\n",
    "* 가설검정시 다음의 항목을 참조하여 수행합니다.\n",
    "    * 유의수준 : 5%\n",
    "    * 숫자 --> 숫자 : 상관분석\n",
    "    * 범주 --> 범주 : 카이제곱검정\n",
    "    * 범주 --> 숫자 : t검정, 분산분석\n",
    "    * 숫자 --> 범주 : 로지스틱 회귀모형을 통해, 회귀계수의 P.value로 검정을 수행합니다.\n"
   ]
  },
  {
   "cell_type": "code",
   "execution_count": null,
   "id": "d4c9ece2",
   "metadata": {},
   "outputs": [],
   "source": [
    "target = "
   ]
  },
  {
   "cell_type": "markdown",
   "id": "a1ef2391",
   "metadata": {},
   "source": [
    "### 1)"
   ]
  },
  {
   "cell_type": "markdown",
   "id": "9a7f6c08",
   "metadata": {},
   "source": [
    "### 2)"
   ]
  },
  {
   "cell_type": "markdown",
   "id": "3e09f869",
   "metadata": {},
   "source": [
    "### 3)"
   ]
  },
  {
   "cell_type": "markdown",
   "id": "20e08293",
   "metadata": {},
   "source": [
    "## 4.관계 정리"
   ]
  },
  {
   "cell_type": "markdown",
   "id": "b11433ac",
   "metadata": {},
   "source": [
    "### 1) 강한 관계의 변수"
   ]
  },
  {
   "cell_type": "markdown",
   "id": "ae622498",
   "metadata": {},
   "source": []
  },
  {
   "cell_type": "markdown",
   "id": "3101b64b",
   "metadata": {},
   "source": [
    "### 2) 약한 관계의 변수"
   ]
  },
  {
   "cell_type": "markdown",
   "id": "7a7f579d",
   "metadata": {},
   "source": []
  },
  {
   "cell_type": "markdown",
   "id": "644198b7",
   "metadata": {},
   "source": [
    "## 5.솔루션 도출\n",
    "\n",
    "### 어느 구에 버스 노선 또는 정류장이 제일 필요한가요? 그 이유는?"
   ]
  },
  {
   "cell_type": "markdown",
   "id": "783e8346",
   "metadata": {},
   "source": []
  }
 ],
 "metadata": {
  "colab": {
   "collapsed_sections": [],
   "name": "서울버스수요분석 데이터 분석(EDA)_ver0.1.ipynb",
   "provenance": [],
   "toc_visible": true
  },
  "kernelspec": {
   "display_name": "Python 3.8.8 ('base')",
   "language": "python",
   "name": "python3"
  },
  "language_info": {
   "codemirror_mode": {
    "name": "ipython",
    "version": 3
   },
   "file_extension": ".py",
   "mimetype": "text/x-python",
   "name": "python",
   "nbconvert_exporter": "python",
   "pygments_lexer": "ipython3",
   "version": "3.8.8"
  },
  "vscode": {
   "interpreter": {
    "hash": "f08154012ddadd8e950e6e9e035c7a7b32c136e7647e9b7c77e02eb723a8bedb"
   }
  }
 },
 "nbformat": 4,
 "nbformat_minor": 5
}