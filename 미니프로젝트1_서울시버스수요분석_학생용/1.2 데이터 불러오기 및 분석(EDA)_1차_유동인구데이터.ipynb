{
 "cells": [
  {
   "cell_type": "markdown",
   "id": "boxed-jamaica",
   "metadata": {},
   "source": [
    "# 안녕하세요^^ \n",
    "## AIVLE 1차 미니프로젝트 '서울시 생활정보 기반 대중교통 수요 분석 ' 과정에 오신 여러분을 환영합니다.\n",
    "* 본 과정에서는 실제 사례와 데이터를 기반으로 문제를 해결하는 전체 과정을 자기 주도형 실습으로 진행해볼 예정입니다.\n",
    "* 앞선 교육과정을 정리하는 마음과 지금까지 배운 내용을 바탕으로 문제 해결을 해볼게요!\n",
    "* 미니 프로젝트를 통한 문제 해결 과정 'A에서 Z까지', 지금부터 시작합니다!"
   ]
  },
  {
   "cell_type": "markdown",
   "id": "ef575059",
   "metadata": {},
   "source": [
    "---"
   ]
  },
  {
   "cell_type": "markdown",
   "id": "f2bc4fa5",
   "metadata": {},
   "source": [
    "# 데이터 분석부터 먼저 시작해보겠습니다.\n",
    "## \"구 별 유동인구 데이터\" 를 확인해 보도록 하겠습니다"
   ]
  },
  {
   "cell_type": "code",
   "execution_count": null,
   "id": "4c6ced42",
   "metadata": {},
   "outputs": [],
   "source": [
    "# 필요 라이브러리부터 설치합니다.\n",
    "%pip install pandas seaborn"
   ]
  },
  {
   "cell_type": "markdown",
   "id": "revolutionary-farmer",
   "metadata": {},
   "source": [
    "## 기본전제\n",
    "* 처음에 제공되는 기본/추가 데이터는 'raw_data' 폴더에 있습니다.\n",
    "\n",
    "[기본 데이터]\n",
    "* 1.2 seoul_moving_month_4.csv\n",
    "\n",
    "[데이터 소개]\n",
    "* 서울 시 구별 이동 2022년 4월 데이터\n",
    "\n",
    "[변수 소개]\n",
    "* 도착시간 : 0 -> \"0:00~0:59\"를 의미 \n",
    "* 출발 자치구 : 자치구 코드\n",
    "* 성별 : F(여성), M(남성)\n",
    "* 나이 : 10 ~ 79세 (5세 단위), 0 ~ 10세, 80세 이상으로 구분\n",
    "* 유형 : H(야간상주지), W(주간상주지), E(기타)\n",
    "* 평균 이동 시간 : 동일 열 내 이동인구의 월 단위 평균 이동 시간 (10분단위)\n",
    "* 이동인구 : 추정 합산값으로 소수점 표출, 개인정보 비식별화를 위해 3명 미만의 경우 * 처리"
   ]
  },
  {
   "cell_type": "markdown",
   "id": "matched-broad",
   "metadata": {},
   "source": [
    "---"
   ]
  },
  {
   "cell_type": "markdown",
   "id": "warming-gentleman",
   "metadata": {},
   "source": [
    "# 1.데이터 불러오기\n",
    "## 모든 미니 프로젝트의 시작은 '데이터 불러오기' 부터라고 할 수 있습니다.\n",
    "+ KeyPoint : 불러오고자 하는 데이터에 따라 자유롭게 변수로 지정할 수 있다."
   ]
  },
  {
   "cell_type": "markdown",
   "id": "measured-administration",
   "metadata": {},
   "source": [
    "###  데이터 프레임을 불러오고 변수로 저장(여기서는 CSV 기준으로 진행)\n",
    "* csv : pd.read_csv(\"파일이름. csv\")\n",
    "* txt : pd.read_csv(\"파일이름. csv\", sep=\"구분자\")\n",
    "* xlsx : pd.read_excel('파일이름.xlsx')\n",
    "* pickle : pd.read_pickle(\"파일이름.pkl\") <br>\n",
    " [참고] pickle은 파이썬의 모든 객체를 파일로 저장할 수 있는 방법으로 DataFrame,List,Dict 등 모든 객체 저장 가능(특히 sklearn라이브러리를 통해 모델을 학습시키고, 저장할 때 많이 사용)"
   ]
  },
  {
   "cell_type": "markdown",
   "id": "vocational-animal",
   "metadata": {},
   "source": [
    "#### [실습문제1] 데이터 로딩\n",
    "* Pandas 라이브러리를 활용해서 'seoul_moving_month_4_step1.csv' 데이터를 확인하세요.\n",
    "    * 아래에 'Pandas'를 Import하고 'seoul_moving_month_4_step1.csv'파일을 'seoul_moving'에 불러오고,  Shape을 확인하는 소스코드를 작성하고 실행해보세요.\n",
    "    * 데이터 파일 로딩시 참고 사항 \n",
    "        * 구분자(sep)는 ',' 입니다\n",
    "        * UTF-8 인코더를 사용해 주세요\n",
    "        * index column은 0번 열 입니다"
   ]
  },
  {
   "cell_type": "code",
   "execution_count": 2,
   "id": "saving-slope",
   "metadata": {},
   "outputs": [],
   "source": [
    "# 아래에 실습코드를 작성하고 결과를 확인합니다.\n",
    "import pandas as pd\n",
    "\n",
    "seoul_moving = pd.read_csv('1.2 seoul_moving_month_4.csv',sep=\",\", index_col = 0, encoding = 'UTF-8')"
   ]
  },
  {
   "cell_type": "code",
   "execution_count": 3,
   "id": "funny-subcommittee",
   "metadata": {},
   "outputs": [
    {
     "data": {
      "text/plain": "(28923054, 10)"
     },
     "execution_count": 3,
     "metadata": {},
     "output_type": "execute_result"
    }
   ],
   "source": [
    "# 데이터 프레임의 Shape을 확인합니다.\n",
    "seoul_moving.shape"
   ]
  },
  {
   "cell_type": "markdown",
   "id": "73396b42",
   "metadata": {},
   "source": [
    "---"
   ]
  },
  {
   "cell_type": "markdown",
   "id": "annoying-trout",
   "metadata": {},
   "source": [
    "# 2.기본 정보 확인 및 클렌징\n",
    "\n",
    "+ 데이터 클렌징 : 결측치, 이상치 등을 제거하여 데이터 분석 결과가 왜곡 되는 문제를 방지하기 위한 정제 과정"
   ]
  },
  {
   "cell_type": "markdown",
   "id": "romantic-johnson",
   "metadata": {},
   "source": [
    "#### [실습문제2] 기본 정보 확인하기\n",
    "* 'seoul_moving' 데이터의 정보를 확인해보세요.\n",
    "* 'describe', 'info', 'head' 등 전부 활용해 보겠습니다."
   ]
  },
  {
   "cell_type": "code",
   "execution_count": 4,
   "id": "demographic-battery",
   "metadata": {},
   "outputs": [
    {
     "data": {
      "text/plain": "             대상연월          도착시간     출발 시군구 코드     도착 시군구 코드            나이  \\\ncount  28923054.0  2.892305e+07  2.892305e+07  2.892305e+07  2.892305e+07   \nmean     202204.0  1.365597e+01  1.712362e+04  1.719750e+04  4.279614e+01   \nstd           0.0  5.849675e+00  9.046478e+03  9.063818e+03  1.777485e+01   \nmin      202204.0  0.000000e+00  1.101000e+04  1.101000e+04  0.000000e+00   \n25%      202204.0  1.000000e+01  1.110000e+04  1.111000e+04  3.000000e+01   \n50%      202204.0  1.400000e+01  1.120000e+04  1.120000e+04  4.500000e+01   \n75%      202204.0  1.800000e+01  3.101400e+04  3.102100e+04  5.500000e+01   \nmax      202204.0  2.300000e+01  3.900000e+04  3.900000e+04  8.000000e+01   \n\n        평균 이동 시간(분)  \ncount  2.892305e+07  \nmean   3.279829e+01  \nstd    2.584213e+01  \nmin    1.000000e+01  \n25%    2.000000e+01  \n50%    3.000000e+01  \n75%    4.000000e+01  \nmax    7.700000e+02  ",
      "text/html": "<div>\n<style scoped>\n    .dataframe tbody tr th:only-of-type {\n        vertical-align: middle;\n    }\n\n    .dataframe tbody tr th {\n        vertical-align: top;\n    }\n\n    .dataframe thead th {\n        text-align: right;\n    }\n</style>\n<table border=\"1\" class=\"dataframe\">\n  <thead>\n    <tr style=\"text-align: right;\">\n      <th></th>\n      <th>대상연월</th>\n      <th>도착시간</th>\n      <th>출발 시군구 코드</th>\n      <th>도착 시군구 코드</th>\n      <th>나이</th>\n      <th>평균 이동 시간(분)</th>\n    </tr>\n  </thead>\n  <tbody>\n    <tr>\n      <th>count</th>\n      <td>28923054.0</td>\n      <td>2.892305e+07</td>\n      <td>2.892305e+07</td>\n      <td>2.892305e+07</td>\n      <td>2.892305e+07</td>\n      <td>2.892305e+07</td>\n    </tr>\n    <tr>\n      <th>mean</th>\n      <td>202204.0</td>\n      <td>1.365597e+01</td>\n      <td>1.712362e+04</td>\n      <td>1.719750e+04</td>\n      <td>4.279614e+01</td>\n      <td>3.279829e+01</td>\n    </tr>\n    <tr>\n      <th>std</th>\n      <td>0.0</td>\n      <td>5.849675e+00</td>\n      <td>9.046478e+03</td>\n      <td>9.063818e+03</td>\n      <td>1.777485e+01</td>\n      <td>2.584213e+01</td>\n    </tr>\n    <tr>\n      <th>min</th>\n      <td>202204.0</td>\n      <td>0.000000e+00</td>\n      <td>1.101000e+04</td>\n      <td>1.101000e+04</td>\n      <td>0.000000e+00</td>\n      <td>1.000000e+01</td>\n    </tr>\n    <tr>\n      <th>25%</th>\n      <td>202204.0</td>\n      <td>1.000000e+01</td>\n      <td>1.110000e+04</td>\n      <td>1.111000e+04</td>\n      <td>3.000000e+01</td>\n      <td>2.000000e+01</td>\n    </tr>\n    <tr>\n      <th>50%</th>\n      <td>202204.0</td>\n      <td>1.400000e+01</td>\n      <td>1.120000e+04</td>\n      <td>1.120000e+04</td>\n      <td>4.500000e+01</td>\n      <td>3.000000e+01</td>\n    </tr>\n    <tr>\n      <th>75%</th>\n      <td>202204.0</td>\n      <td>1.800000e+01</td>\n      <td>3.101400e+04</td>\n      <td>3.102100e+04</td>\n      <td>5.500000e+01</td>\n      <td>4.000000e+01</td>\n    </tr>\n    <tr>\n      <th>max</th>\n      <td>202204.0</td>\n      <td>2.300000e+01</td>\n      <td>3.900000e+04</td>\n      <td>3.900000e+04</td>\n      <td>8.000000e+01</td>\n      <td>7.700000e+02</td>\n    </tr>\n  </tbody>\n</table>\n</div>"
     },
     "execution_count": 4,
     "metadata": {},
     "output_type": "execute_result"
    }
   ],
   "source": [
    "# 아래에 실습코드를 작성하고 결과를 확인합니다.\n",
    "\n",
    "seoul_moving.describe()"
   ]
  },
  {
   "cell_type": "code",
   "execution_count": 5,
   "id": "940a114a",
   "metadata": {},
   "outputs": [
    {
     "name": "stdout",
     "output_type": "stream",
     "text": [
      "<class 'pandas.core.frame.DataFrame'>\n",
      "Int64Index: 28923054 entries, 0 to 968462\n",
      "Data columns (total 10 columns):\n",
      " #   Column       Dtype \n",
      "---  ------       ----- \n",
      " 0   대상연월         int64 \n",
      " 1   요일           object\n",
      " 2   도착시간         int64 \n",
      " 3   출발 시군구 코드    int64 \n",
      " 4   도착 시군구 코드    int64 \n",
      " 5   성별           object\n",
      " 6   나이           int64 \n",
      " 7   이동유형         object\n",
      " 8   평균 이동 시간(분)  int64 \n",
      " 9   이동인구(합)      object\n",
      "dtypes: int64(6), object(4)\n",
      "memory usage: 2.4+ GB\n"
     ]
    }
   ],
   "source": [
    "# 아래에 실습코드를 작성하고 결과를 확인합니다.\n",
    "seoul_moving.info()"
   ]
  },
  {
   "cell_type": "code",
   "execution_count": 6,
   "id": "7343fadf",
   "metadata": {},
   "outputs": [
    {
     "data": {
      "text/plain": "     대상연월 요일  도착시간  출발 시군구 코드  도착 시군구 코드 성별  나이 이동유형  평균 이동 시간(분) 이동인구(합)\n0  202204  일     0      11010      11010  F   0   EE           10   28.02\n1  202204  일     0      11010      11010  F   0   EH           10   27.52\n2  202204  일     0      11010      11010  F   0   HE           10   27.83\n3  202204  일     0      11010      11010  F  10   HW           10    6.05\n4  202204  일     0      11010      11010  F  10   EH           90    5.95",
      "text/html": "<div>\n<style scoped>\n    .dataframe tbody tr th:only-of-type {\n        vertical-align: middle;\n    }\n\n    .dataframe tbody tr th {\n        vertical-align: top;\n    }\n\n    .dataframe thead th {\n        text-align: right;\n    }\n</style>\n<table border=\"1\" class=\"dataframe\">\n  <thead>\n    <tr style=\"text-align: right;\">\n      <th></th>\n      <th>대상연월</th>\n      <th>요일</th>\n      <th>도착시간</th>\n      <th>출발 시군구 코드</th>\n      <th>도착 시군구 코드</th>\n      <th>성별</th>\n      <th>나이</th>\n      <th>이동유형</th>\n      <th>평균 이동 시간(분)</th>\n      <th>이동인구(합)</th>\n    </tr>\n  </thead>\n  <tbody>\n    <tr>\n      <th>0</th>\n      <td>202204</td>\n      <td>일</td>\n      <td>0</td>\n      <td>11010</td>\n      <td>11010</td>\n      <td>F</td>\n      <td>0</td>\n      <td>EE</td>\n      <td>10</td>\n      <td>28.02</td>\n    </tr>\n    <tr>\n      <th>1</th>\n      <td>202204</td>\n      <td>일</td>\n      <td>0</td>\n      <td>11010</td>\n      <td>11010</td>\n      <td>F</td>\n      <td>0</td>\n      <td>EH</td>\n      <td>10</td>\n      <td>27.52</td>\n    </tr>\n    <tr>\n      <th>2</th>\n      <td>202204</td>\n      <td>일</td>\n      <td>0</td>\n      <td>11010</td>\n      <td>11010</td>\n      <td>F</td>\n      <td>0</td>\n      <td>HE</td>\n      <td>10</td>\n      <td>27.83</td>\n    </tr>\n    <tr>\n      <th>3</th>\n      <td>202204</td>\n      <td>일</td>\n      <td>0</td>\n      <td>11010</td>\n      <td>11010</td>\n      <td>F</td>\n      <td>10</td>\n      <td>HW</td>\n      <td>10</td>\n      <td>6.05</td>\n    </tr>\n    <tr>\n      <th>4</th>\n      <td>202204</td>\n      <td>일</td>\n      <td>0</td>\n      <td>11010</td>\n      <td>11010</td>\n      <td>F</td>\n      <td>10</td>\n      <td>EH</td>\n      <td>90</td>\n      <td>5.95</td>\n    </tr>\n  </tbody>\n</table>\n</div>"
     },
     "execution_count": 6,
     "metadata": {},
     "output_type": "execute_result"
    }
   ],
   "source": [
    "# 아래에 실습코드를 작성하고 결과를 확인합니다.\n",
    "seoul_moving.head()"
   ]
  },
  {
   "cell_type": "markdown",
   "id": "b90fd066",
   "metadata": {},
   "source": [
    "* 1번 열의 의미\n",
    "    * \" 2022년 1월 일요일에 11010(종로구)에서 11010(종로구)으로 이동하여 0시 ~ 0시 59분 사이에 도착했고, E(기타)에서 H(야간상주지(집))으로 이동한 0 ~ 10세 여성은 총 27.52명이며 이들의 평균 이동시간은 10분이다"
   ]
  },
  {
   "cell_type": "markdown",
   "id": "003322b3",
   "metadata": {},
   "source": [
    "#### [실습문제3] 결측치 처리 ( NaN이 아닌 결측치를 처리 해봅시다)\n",
    "\n",
    "* '인구이동(합)' column은 이동 인구의 합산인데 object 타입입니다. \n",
    "\n",
    "    - 왜 일까요? \n",
    "\n",
    "    - Tip! (이동인구 : 추정 합산값으로 소수점 표출, 개인정보 비식별화를 위해 3명 미만의 경우 * 처리)\n",
    "\n",
    "    - 해당 값을 나름의 기준으로 변경하세요\n",
    "\n",
    "    - '인구이동(합)' 컬럼의 데이터 타입을 수치형으로 변경하세요 "
   ]
  },
  {
   "cell_type": "code",
   "execution_count": 7,
   "id": "64977ed3",
   "metadata": {},
   "outputs": [
    {
     "data": {
      "text/plain": "*          3842041\n3.3         399374\n6.05        366830\n3.29        289731\n3.31        232069\n            ...   \n2352.37          1\n1617.99          1\n3141.86          1\n1485.54          1\n979.87           1\nName: 이동인구(합), Length: 135812, dtype: int64"
     },
     "execution_count": 7,
     "metadata": {},
     "output_type": "execute_result"
    }
   ],
   "source": [
    "# 아래에 실습코드를 작성하고 결과를 확인합니다.\n",
    "seoul_moving['이동인구(합)'].value_counts()"
   ]
  },
  {
   "cell_type": "code",
   "execution_count": 8,
   "id": "703fc8b7",
   "metadata": {},
   "outputs": [],
   "source": [
    "# 최빈값과 평균값을 알 수 없는 상황이라 중위값으로 대체\n",
    "seoul_moving['이동인구(합)'].replace(\"*\", \"2\", inplace=True)"
   ]
  },
  {
   "cell_type": "code",
   "execution_count": 9,
   "id": "eefe243e",
   "metadata": {},
   "outputs": [
    {
     "data": {
      "text/plain": "2          3842041\n3.3         399374\n6.05        366830\n3.29        289731\n3.31        232069\n            ...   \n2352.37          1\n1617.99          1\n3141.86          1\n1485.54          1\n979.87           1\nName: 이동인구(합), Length: 135812, dtype: int64"
     },
     "execution_count": 9,
     "metadata": {},
     "output_type": "execute_result"
    }
   ],
   "source": [
    "# 아래에 실습코드를 작성하고 결과를 확인합니다.\n",
    "seoul_moving['이동인구(합)'].value_counts()"
   ]
  },
  {
   "cell_type": "code",
   "execution_count": 10,
   "id": "3ec3c54b",
   "metadata": {},
   "outputs": [],
   "source": [
    "# 이동인구(합) column의 데이터 타입을 바꿔주세요\n",
    "seoul_moving = seoul_moving.astype({'이동인구(합)': float})"
   ]
  },
  {
   "cell_type": "code",
   "execution_count": 11,
   "outputs": [
    {
     "name": "stdout",
     "output_type": "stream",
     "text": [
      "<class 'pandas.core.frame.DataFrame'>\n",
      "Int64Index: 28923054 entries, 0 to 968462\n",
      "Data columns (total 10 columns):\n",
      " #   Column       Dtype  \n",
      "---  ------       -----  \n",
      " 0   대상연월         int64  \n",
      " 1   요일           object \n",
      " 2   도착시간         int64  \n",
      " 3   출발 시군구 코드    int64  \n",
      " 4   도착 시군구 코드    int64  \n",
      " 5   성별           object \n",
      " 6   나이           int64  \n",
      " 7   이동유형         object \n",
      " 8   평균 이동 시간(분)  int64  \n",
      " 9   이동인구(합)      float64\n",
      "dtypes: float64(1), int64(6), object(3)\n",
      "memory usage: 2.4+ GB\n"
     ]
    }
   ],
   "source": [
    "seoul_moving.info()"
   ],
   "metadata": {
    "collapsed": false,
    "pycharm": {
     "name": "#%%\n"
    }
   }
  },
  {
   "cell_type": "markdown",
   "id": "3666e46c",
   "metadata": {},
   "source": [
    "#### [실습문제4] 이동유형, 요일, 성별 변수의 value수를 파악\n",
    "\n",
    "* 역시나 value_counts()를 활용해 봅시다."
   ]
  },
  {
   "cell_type": "code",
   "execution_count": 12,
   "id": "3cd0103e",
   "metadata": {},
   "outputs": [
    {
     "data": {
      "text/plain": "EH    5757073\nHE    5520005\nEE    5085099\nWH    3108026\nWE    2809148\nHW    2695189\nEW    2304535\nWW    1026134\nHH     617845\nName: 이동유형, dtype: int64"
     },
     "execution_count": 12,
     "metadata": {},
     "output_type": "execute_result"
    }
   ],
   "source": [
    "# 아래에 실습코드를 작성하고 결과를 확인합니다.\n",
    "seoul_moving['이동유형'].value_counts()"
   ]
  },
  {
   "cell_type": "code",
   "execution_count": 15,
   "id": "1cdd246f",
   "metadata": {},
   "outputs": [
    {
     "data": {
      "text/plain": "토    4690806\n금    4641881\n목    4011291\n수    3955646\n화    3926876\n월    3906272\n일    3790282\nName: 요일, dtype: int64"
     },
     "execution_count": 15,
     "metadata": {},
     "output_type": "execute_result"
    }
   ],
   "source": [
    "# 아래에 실습코드를 작성하고 결과를 확인합니다.\n",
    "temp = seoul_moving['요일'].value_counts()\n",
    "temp"
   ]
  },
  {
   "cell_type": "markdown",
   "id": "ba257395",
   "metadata": {},
   "source": [
    "* 4월의 요일 수를 알려드릴게요\n",
    "    * 일 : 4, 월 : 4, 화 : 4, 수 : 4, 목 : 4, 금 : 5, 토 : 5"
   ]
  },
  {
   "cell_type": "code",
   "execution_count": 14,
   "id": "c3f440b9",
   "metadata": {},
   "outputs": [
    {
     "data": {
      "text/plain": "M    16355029\nF    12568025\nName: 성별, dtype: int64"
     },
     "execution_count": 14,
     "metadata": {},
     "output_type": "execute_result"
    }
   ],
   "source": [
    "# 아래에 실습코드를 작성하고 결과를 확인합니다.\n",
    "seoul_moving['성별'].value_counts()\n"
   ]
  },
  {
   "cell_type": "markdown",
   "id": "6356b00c",
   "metadata": {},
   "source": [
    "#### [실습문제5] 어느 요일의 심야 이동이 가장 많을까요?"
   ]
  },
  {
   "cell_type": "code",
   "execution_count": 15,
   "id": "470c3d5d",
   "metadata": {},
   "outputs": [
    {
     "data": {
      "text/plain": "          대상연월 요일  도착시간  출발 시군구 코드  도착 시군구 코드 성별  나이 이동유형  평균 이동 시간(분)  \\\n0       202204  일     0      11010      11010  F   0   EE           10   \n1       202204  일     0      11010      11010  F   0   EH           10   \n2       202204  일     0      11010      11010  F   0   HE           10   \n3       202204  일     0      11010      11010  F  10   HW           10   \n4       202204  일     0      11010      11010  F  10   EH           90   \n...        ... ..   ...        ...        ... ..  ..  ...          ...   \n320268  202204  토     4      38000      11240  M  60   HE           90   \n320269  202204  토     4      38000      11250  F  55   EH          100   \n320270  202204  토     4      39000      11010  M  45   HE          410   \n320271  202204  토     4      39000      11190  M  50   EE          140   \n320272  202204  토     4      39000      11230  M  55   EE          310   \n\n        이동인구(합)  \n0         28.02  \n1         27.52  \n2         27.83  \n3          6.05  \n4          5.95  \n...         ...  \n320268     3.56  \n320269     3.25  \n320270     3.15  \n320271     3.28  \n320272     3.30  \n\n[2292255 rows x 10 columns]",
      "text/html": "<div>\n<style scoped>\n    .dataframe tbody tr th:only-of-type {\n        vertical-align: middle;\n    }\n\n    .dataframe tbody tr th {\n        vertical-align: top;\n    }\n\n    .dataframe thead th {\n        text-align: right;\n    }\n</style>\n<table border=\"1\" class=\"dataframe\">\n  <thead>\n    <tr style=\"text-align: right;\">\n      <th></th>\n      <th>대상연월</th>\n      <th>요일</th>\n      <th>도착시간</th>\n      <th>출발 시군구 코드</th>\n      <th>도착 시군구 코드</th>\n      <th>성별</th>\n      <th>나이</th>\n      <th>이동유형</th>\n      <th>평균 이동 시간(분)</th>\n      <th>이동인구(합)</th>\n    </tr>\n  </thead>\n  <tbody>\n    <tr>\n      <th>0</th>\n      <td>202204</td>\n      <td>일</td>\n      <td>0</td>\n      <td>11010</td>\n      <td>11010</td>\n      <td>F</td>\n      <td>0</td>\n      <td>EE</td>\n      <td>10</td>\n      <td>28.02</td>\n    </tr>\n    <tr>\n      <th>1</th>\n      <td>202204</td>\n      <td>일</td>\n      <td>0</td>\n      <td>11010</td>\n      <td>11010</td>\n      <td>F</td>\n      <td>0</td>\n      <td>EH</td>\n      <td>10</td>\n      <td>27.52</td>\n    </tr>\n    <tr>\n      <th>2</th>\n      <td>202204</td>\n      <td>일</td>\n      <td>0</td>\n      <td>11010</td>\n      <td>11010</td>\n      <td>F</td>\n      <td>0</td>\n      <td>HE</td>\n      <td>10</td>\n      <td>27.83</td>\n    </tr>\n    <tr>\n      <th>3</th>\n      <td>202204</td>\n      <td>일</td>\n      <td>0</td>\n      <td>11010</td>\n      <td>11010</td>\n      <td>F</td>\n      <td>10</td>\n      <td>HW</td>\n      <td>10</td>\n      <td>6.05</td>\n    </tr>\n    <tr>\n      <th>4</th>\n      <td>202204</td>\n      <td>일</td>\n      <td>0</td>\n      <td>11010</td>\n      <td>11010</td>\n      <td>F</td>\n      <td>10</td>\n      <td>EH</td>\n      <td>90</td>\n      <td>5.95</td>\n    </tr>\n    <tr>\n      <th>...</th>\n      <td>...</td>\n      <td>...</td>\n      <td>...</td>\n      <td>...</td>\n      <td>...</td>\n      <td>...</td>\n      <td>...</td>\n      <td>...</td>\n      <td>...</td>\n      <td>...</td>\n    </tr>\n    <tr>\n      <th>320268</th>\n      <td>202204</td>\n      <td>토</td>\n      <td>4</td>\n      <td>38000</td>\n      <td>11240</td>\n      <td>M</td>\n      <td>60</td>\n      <td>HE</td>\n      <td>90</td>\n      <td>3.56</td>\n    </tr>\n    <tr>\n      <th>320269</th>\n      <td>202204</td>\n      <td>토</td>\n      <td>4</td>\n      <td>38000</td>\n      <td>11250</td>\n      <td>F</td>\n      <td>55</td>\n      <td>EH</td>\n      <td>100</td>\n      <td>3.25</td>\n    </tr>\n    <tr>\n      <th>320270</th>\n      <td>202204</td>\n      <td>토</td>\n      <td>4</td>\n      <td>39000</td>\n      <td>11010</td>\n      <td>M</td>\n      <td>45</td>\n      <td>HE</td>\n      <td>410</td>\n      <td>3.15</td>\n    </tr>\n    <tr>\n      <th>320271</th>\n      <td>202204</td>\n      <td>토</td>\n      <td>4</td>\n      <td>39000</td>\n      <td>11190</td>\n      <td>M</td>\n      <td>50</td>\n      <td>EE</td>\n      <td>140</td>\n      <td>3.28</td>\n    </tr>\n    <tr>\n      <th>320272</th>\n      <td>202204</td>\n      <td>토</td>\n      <td>4</td>\n      <td>39000</td>\n      <td>11230</td>\n      <td>M</td>\n      <td>55</td>\n      <td>EE</td>\n      <td>310</td>\n      <td>3.30</td>\n    </tr>\n  </tbody>\n</table>\n<p>2292255 rows × 10 columns</p>\n</div>"
     },
     "execution_count": 15,
     "metadata": {},
     "output_type": "execute_result"
    }
   ],
   "source": [
    "# 아래에 실습코드를 작성하고 결과를 확인합니다.\n",
    "night_moving = seoul_moving[seoul_moving['도착시간'].isin(range(5))]\n",
    "night_moving"
   ]
  },
  {
   "cell_type": "code",
   "execution_count": 16,
   "outputs": [
    {
     "data": {
      "text/plain": "토    423995\n금    359012\n일    331392\n목    308651\n수    303357\n화    292786\n월    273062\nName: 요일, dtype: int64"
     },
     "execution_count": 16,
     "metadata": {},
     "output_type": "execute_result"
    }
   ],
   "source": [
    "night_moving['요일'].value_counts()\n"
   ],
   "metadata": {
    "collapsed": false,
    "pycharm": {
     "name": "#%%\n"
    }
   }
  },
  {
   "cell_type": "markdown",
   "id": "45594fc1",
   "metadata": {},
   "source": [
    "#### [실습문제6] 서울 지역의 데이터만 골라 보도록 하겠습니다.\n",
    "\n",
    "* 우리는 서울시의 데이터만 필요합니다!\n",
    "\n",
    "* 출발과 도착이 모두 서울인 데이터만 추출해 주세요."
   ]
  },
  {
   "cell_type": "code",
   "execution_count": 18,
   "id": "fab14a50",
   "metadata": {},
   "outputs": [
    {
     "data": {
      "text/plain": "          대상연월 요일  도착시간  출발 시군구 코드  도착 시군구 코드 성별  나이 이동유형  평균 이동 시간(분)  \\\n0       202204  일     0      11010      11010  F   0   EE           10   \n1       202204  일     0      11010      11010  F   0   EH           10   \n2       202204  일     0      11010      11010  F   0   HE           10   \n3       202204  일     0      11010      11010  F  10   HW           10   \n4       202204  일     0      11010      11010  F  10   EH           90   \n...        ... ..   ...        ...        ... ..  ..  ...          ...   \n920410  202204  토    23      11250      11250  M  80   WH           10   \n920411  202204  토    23      11250      11250  M  80   EH           10   \n920412  202204  토    23      11250      11250  M  80   EE           20   \n920413  202204  토    23      11250      11250  M  80   HE           10   \n920414  202204  토    23      11250      11250  M  80   WE           10   \n\n        이동인구(합)  \n0         28.02  \n1         27.52  \n2         27.83  \n3          6.05  \n4          5.95  \n...         ...  \n920410    85.10  \n920411    28.36  \n920412    37.99  \n920413     9.42  \n920414     9.51  \n\n[10655895 rows x 10 columns]",
      "text/html": "<div>\n<style scoped>\n    .dataframe tbody tr th:only-of-type {\n        vertical-align: middle;\n    }\n\n    .dataframe tbody tr th {\n        vertical-align: top;\n    }\n\n    .dataframe thead th {\n        text-align: right;\n    }\n</style>\n<table border=\"1\" class=\"dataframe\">\n  <thead>\n    <tr style=\"text-align: right;\">\n      <th></th>\n      <th>대상연월</th>\n      <th>요일</th>\n      <th>도착시간</th>\n      <th>출발 시군구 코드</th>\n      <th>도착 시군구 코드</th>\n      <th>성별</th>\n      <th>나이</th>\n      <th>이동유형</th>\n      <th>평균 이동 시간(분)</th>\n      <th>이동인구(합)</th>\n    </tr>\n  </thead>\n  <tbody>\n    <tr>\n      <th>0</th>\n      <td>202204</td>\n      <td>일</td>\n      <td>0</td>\n      <td>11010</td>\n      <td>11010</td>\n      <td>F</td>\n      <td>0</td>\n      <td>EE</td>\n      <td>10</td>\n      <td>28.02</td>\n    </tr>\n    <tr>\n      <th>1</th>\n      <td>202204</td>\n      <td>일</td>\n      <td>0</td>\n      <td>11010</td>\n      <td>11010</td>\n      <td>F</td>\n      <td>0</td>\n      <td>EH</td>\n      <td>10</td>\n      <td>27.52</td>\n    </tr>\n    <tr>\n      <th>2</th>\n      <td>202204</td>\n      <td>일</td>\n      <td>0</td>\n      <td>11010</td>\n      <td>11010</td>\n      <td>F</td>\n      <td>0</td>\n      <td>HE</td>\n      <td>10</td>\n      <td>27.83</td>\n    </tr>\n    <tr>\n      <th>3</th>\n      <td>202204</td>\n      <td>일</td>\n      <td>0</td>\n      <td>11010</td>\n      <td>11010</td>\n      <td>F</td>\n      <td>10</td>\n      <td>HW</td>\n      <td>10</td>\n      <td>6.05</td>\n    </tr>\n    <tr>\n      <th>4</th>\n      <td>202204</td>\n      <td>일</td>\n      <td>0</td>\n      <td>11010</td>\n      <td>11010</td>\n      <td>F</td>\n      <td>10</td>\n      <td>EH</td>\n      <td>90</td>\n      <td>5.95</td>\n    </tr>\n    <tr>\n      <th>...</th>\n      <td>...</td>\n      <td>...</td>\n      <td>...</td>\n      <td>...</td>\n      <td>...</td>\n      <td>...</td>\n      <td>...</td>\n      <td>...</td>\n      <td>...</td>\n      <td>...</td>\n    </tr>\n    <tr>\n      <th>920410</th>\n      <td>202204</td>\n      <td>토</td>\n      <td>23</td>\n      <td>11250</td>\n      <td>11250</td>\n      <td>M</td>\n      <td>80</td>\n      <td>WH</td>\n      <td>10</td>\n      <td>85.10</td>\n    </tr>\n    <tr>\n      <th>920411</th>\n      <td>202204</td>\n      <td>토</td>\n      <td>23</td>\n      <td>11250</td>\n      <td>11250</td>\n      <td>M</td>\n      <td>80</td>\n      <td>EH</td>\n      <td>10</td>\n      <td>28.36</td>\n    </tr>\n    <tr>\n      <th>920412</th>\n      <td>202204</td>\n      <td>토</td>\n      <td>23</td>\n      <td>11250</td>\n      <td>11250</td>\n      <td>M</td>\n      <td>80</td>\n      <td>EE</td>\n      <td>20</td>\n      <td>37.99</td>\n    </tr>\n    <tr>\n      <th>920413</th>\n      <td>202204</td>\n      <td>토</td>\n      <td>23</td>\n      <td>11250</td>\n      <td>11250</td>\n      <td>M</td>\n      <td>80</td>\n      <td>HE</td>\n      <td>10</td>\n      <td>9.42</td>\n    </tr>\n    <tr>\n      <th>920414</th>\n      <td>202204</td>\n      <td>토</td>\n      <td>23</td>\n      <td>11250</td>\n      <td>11250</td>\n      <td>M</td>\n      <td>80</td>\n      <td>WE</td>\n      <td>10</td>\n      <td>9.51</td>\n    </tr>\n  </tbody>\n</table>\n<p>10655895 rows × 10 columns</p>\n</div>"
     },
     "execution_count": 18,
     "metadata": {},
     "output_type": "execute_result"
    }
   ],
   "source": [
    "# 아래에 실습코드를 작성하고 결과를 확인합니다.\n",
    "circle_of_seoul = seoul_moving.loc[(seoul_moving['출발 시군구 코드']//1000 == 11) & (seoul_moving['도착 시군구 코드']//1000 == 11), : ]\n",
    "circle_of_seoul"
   ]
  },
  {
   "cell_type": "code",
   "execution_count": 19,
   "id": "2b5bdcde",
   "metadata": {},
   "outputs": [],
   "source": [
    "# 아래에 실습코드를 작성하고 결과를 확인합니다."
   ]
  },
  {
   "cell_type": "markdown",
   "id": "e968a0ae",
   "metadata": {},
   "source": [
    "#### [실습문제7] 서울지역의 구 별로 groupby하여 데이터를 확인하겠습니다 (유동인구 기준)\n",
    "\n",
    "* 유출이 제일 많은 구는?\n",
    "\n",
    "* 유입이 제일 많은 구는?\n",
    "\n",
    "* 유출이 제일 적은 구는?\n",
    "\n",
    "* 유입이 제일 적은 구는?"
   ]
  },
  {
   "cell_type": "markdown",
   "id": "ab98b422",
   "metadata": {},
   "source": [
    "* 참고자료 서울 구별 코드\n",
    "    * 11010\t종로구\n",
    "    * 11020\t중구\n",
    "    * 11030\t용산구\n",
    "    * 11040\t성동구\n",
    "    * 11050\t광진구\n",
    "    * 11060\t동대문구\n",
    "    * 11070\t중랑구\n",
    "    * 11080\t성북구\n",
    "    * 11090\t강북구\n",
    "    * 11100\t도봉구\n",
    "    * 11110\t노원구\n",
    "    * 11120\t은평구\n",
    "    * 11130\t서대문구\n",
    "    * 11140\t마포구\n",
    "    * 11150\t양천구\n",
    "    * 11160\t강서구\n",
    "    * 11170\t구로구\n",
    "    * 11180\t금천구\n",
    "    * 11190\t영등포구\n",
    "    * 11200\t동작구\n",
    "    * 11210\t관악구\n",
    "    * 11220\t서초구\n",
    "    * 11230\t강남구\n",
    "    * 11240\t송파구\n",
    "    * 11250\t강동구"
   ]
  },
  {
   "cell_type": "code",
   "execution_count": 20,
   "outputs": [],
   "source": [
    "region_code = {\n",
    "        11010:\t'종로구',\n",
    "        11020: '중구',\n",
    "        11030: '용산구',\n",
    "        11040: '성동구',\n",
    "        11050: '광진구',\n",
    "        11060: '동대문구',\n",
    "        11070: '중랑구',\n",
    "        11080: '성북구',\n",
    "        11090: '강북구',\n",
    "        11100: '도봉구',\n",
    "        11110: '노원구',\n",
    "        11120: '은평구',\n",
    "        11130: '서대문구',\n",
    "        11140: '마포구',\n",
    "        11150: '양천구',\n",
    "        11160: '강서구',\n",
    "        11170: '구로구',\n",
    "        11180: '금천구',\n",
    "        11190: '영등포구',\n",
    "        11200: '동작구',\n",
    "        11210: '관악구',\n",
    "        11220: '서초구',\n",
    "        11230: '강남구',\n",
    "        11240: '송파구',\n",
    "        11250: '강동구',\n",
    "}"
   ],
   "metadata": {
    "collapsed": false,
    "pycharm": {
     "name": "#%%\n"
    }
   }
  },
  {
   "cell_type": "code",
   "execution_count": 21,
   "outputs": [],
   "source": [
    "# for _ in ('출발', '도착'):\n",
    "#         circle_of_seoul[f'{_} 시군구 코드'] = circle_of_seoul[f'{_} 시군구 코드'].map(region_code)\n",
    "# circle_of_seoul[['출발 시군구 코드', '도착 시군구 코드']]"
   ],
   "metadata": {
    "collapsed": false,
    "pycharm": {
     "name": "#%%\n"
    }
   }
  },
  {
   "cell_type": "code",
   "execution_count": 22,
   "id": "38564819",
   "metadata": {},
   "outputs": [
    {
     "data": {
      "text/plain": "    출발 시군구 코드                                                             \\\n        count     mean  std      min      25%      50%      75%      max   \n0     32339.0  11010.0  0.0  11010.0  11010.0  11010.0  11010.0  11010.0   \n1     20650.0  11010.0  0.0  11010.0  11010.0  11010.0  11010.0  11010.0   \n2     21134.0  11010.0  0.0  11010.0  11010.0  11010.0  11010.0  11010.0   \n3     16077.0  11010.0  0.0  11010.0  11010.0  11010.0  11010.0  11010.0   \n4     25037.0  11010.0  0.0  11010.0  11010.0  11010.0  11010.0  11010.0   \n..        ...      ...  ...      ...      ...      ...      ...      ...   \n595   10003.0  11250.0  0.0  11250.0  11250.0  11250.0  11250.0  11250.0   \n596    9852.0  11250.0  0.0  11250.0  11250.0  11250.0  11250.0  11250.0   \n597   17011.0  11250.0  0.0  11250.0  11250.0  11250.0  11250.0  11250.0   \n598   23983.0  11250.0  0.0  11250.0  11250.0  11250.0  11250.0  11250.0   \n599   35766.0  11250.0  0.0  11250.0  11250.0  11250.0  11250.0  11250.0   \n\n    도착 시군구 코드           ...                    이동인구(합)                         \\\n        count     mean  ...      75%      max    count       mean         std   \n0     32339.0  11020.0  ...  11020.0  11020.0  32339.0  58.582770  107.252420   \n1     20650.0  11030.0  ...  11030.0  11030.0  20650.0  25.837625   33.476767   \n2     21134.0  11040.0  ...  11040.0  11040.0  21134.0  22.973341   30.919508   \n3     16077.0  11050.0  ...  11050.0  11050.0  16077.0  17.378458   23.627653   \n4     25037.0  11060.0  ...  11060.0  11060.0  25037.0  29.134242   41.237936   \n..        ...      ...  ...      ...      ...      ...        ...         ...   \n595   10003.0  11200.0  ...  11200.0  11200.0  10003.0   8.726142    9.504373   \n596    9852.0  11210.0  ...  11210.0  11210.0   9852.0   8.316260    8.781152   \n597   17011.0  11220.0  ...  11220.0  11220.0  17011.0  20.972111   50.079031   \n598   23983.0  11230.0  ...  11230.0  11230.0  23983.0  37.577850  106.897797   \n599   35766.0  11240.0  ...  11240.0  11240.0  35766.0  73.830280  133.649448   \n\n                                         \n     min   25%    50%      75%      max  \n0    2.0  8.76  23.21  60.6900  2208.77  \n1    2.0  5.96  13.24  32.6475   554.71  \n2    2.0  5.73  12.21  28.0200   528.25  \n3    2.0  4.51   9.30  20.2500   287.63  \n4    2.0  6.05  14.15  35.2900   503.72  \n..   ...   ...    ...      ...      ...  \n595  2.0  3.28   5.95  10.3100   143.16  \n596  2.0  3.27   5.45   9.6225   110.44  \n597  2.0  4.37   9.28  19.6000   811.62  \n598  2.0  5.97  13.97  35.1850  2149.68  \n599  2.0  9.47  27.88  86.1975  2952.78  \n\n[600 rows x 24 columns]",
      "text/html": "<div>\n<style scoped>\n    .dataframe tbody tr th:only-of-type {\n        vertical-align: middle;\n    }\n\n    .dataframe tbody tr th {\n        vertical-align: top;\n    }\n\n    .dataframe thead tr th {\n        text-align: left;\n    }\n</style>\n<table border=\"1\" class=\"dataframe\">\n  <thead>\n    <tr>\n      <th></th>\n      <th colspan=\"8\" halign=\"left\">출발 시군구 코드</th>\n      <th colspan=\"5\" halign=\"left\">도착 시군구 코드</th>\n      <th colspan=\"8\" halign=\"left\">이동인구(합)</th>\n    </tr>\n    <tr>\n      <th></th>\n      <th>count</th>\n      <th>mean</th>\n      <th>std</th>\n      <th>min</th>\n      <th>25%</th>\n      <th>50%</th>\n      <th>75%</th>\n      <th>max</th>\n      <th>count</th>\n      <th>mean</th>\n      <th>...</th>\n      <th>75%</th>\n      <th>max</th>\n      <th>count</th>\n      <th>mean</th>\n      <th>std</th>\n      <th>min</th>\n      <th>25%</th>\n      <th>50%</th>\n      <th>75%</th>\n      <th>max</th>\n    </tr>\n  </thead>\n  <tbody>\n    <tr>\n      <th>0</th>\n      <td>32339.0</td>\n      <td>11010.0</td>\n      <td>0.0</td>\n      <td>11010.0</td>\n      <td>11010.0</td>\n      <td>11010.0</td>\n      <td>11010.0</td>\n      <td>11010.0</td>\n      <td>32339.0</td>\n      <td>11020.0</td>\n      <td>...</td>\n      <td>11020.0</td>\n      <td>11020.0</td>\n      <td>32339.0</td>\n      <td>58.582770</td>\n      <td>107.252420</td>\n      <td>2.0</td>\n      <td>8.76</td>\n      <td>23.21</td>\n      <td>60.6900</td>\n      <td>2208.77</td>\n    </tr>\n    <tr>\n      <th>1</th>\n      <td>20650.0</td>\n      <td>11010.0</td>\n      <td>0.0</td>\n      <td>11010.0</td>\n      <td>11010.0</td>\n      <td>11010.0</td>\n      <td>11010.0</td>\n      <td>11010.0</td>\n      <td>20650.0</td>\n      <td>11030.0</td>\n      <td>...</td>\n      <td>11030.0</td>\n      <td>11030.0</td>\n      <td>20650.0</td>\n      <td>25.837625</td>\n      <td>33.476767</td>\n      <td>2.0</td>\n      <td>5.96</td>\n      <td>13.24</td>\n      <td>32.6475</td>\n      <td>554.71</td>\n    </tr>\n    <tr>\n      <th>2</th>\n      <td>21134.0</td>\n      <td>11010.0</td>\n      <td>0.0</td>\n      <td>11010.0</td>\n      <td>11010.0</td>\n      <td>11010.0</td>\n      <td>11010.0</td>\n      <td>11010.0</td>\n      <td>21134.0</td>\n      <td>11040.0</td>\n      <td>...</td>\n      <td>11040.0</td>\n      <td>11040.0</td>\n      <td>21134.0</td>\n      <td>22.973341</td>\n      <td>30.919508</td>\n      <td>2.0</td>\n      <td>5.73</td>\n      <td>12.21</td>\n      <td>28.0200</td>\n      <td>528.25</td>\n    </tr>\n    <tr>\n      <th>3</th>\n      <td>16077.0</td>\n      <td>11010.0</td>\n      <td>0.0</td>\n      <td>11010.0</td>\n      <td>11010.0</td>\n      <td>11010.0</td>\n      <td>11010.0</td>\n      <td>11010.0</td>\n      <td>16077.0</td>\n      <td>11050.0</td>\n      <td>...</td>\n      <td>11050.0</td>\n      <td>11050.0</td>\n      <td>16077.0</td>\n      <td>17.378458</td>\n      <td>23.627653</td>\n      <td>2.0</td>\n      <td>4.51</td>\n      <td>9.30</td>\n      <td>20.2500</td>\n      <td>287.63</td>\n    </tr>\n    <tr>\n      <th>4</th>\n      <td>25037.0</td>\n      <td>11010.0</td>\n      <td>0.0</td>\n      <td>11010.0</td>\n      <td>11010.0</td>\n      <td>11010.0</td>\n      <td>11010.0</td>\n      <td>11010.0</td>\n      <td>25037.0</td>\n      <td>11060.0</td>\n      <td>...</td>\n      <td>11060.0</td>\n      <td>11060.0</td>\n      <td>25037.0</td>\n      <td>29.134242</td>\n      <td>41.237936</td>\n      <td>2.0</td>\n      <td>6.05</td>\n      <td>14.15</td>\n      <td>35.2900</td>\n      <td>503.72</td>\n    </tr>\n    <tr>\n      <th>...</th>\n      <td>...</td>\n      <td>...</td>\n      <td>...</td>\n      <td>...</td>\n      <td>...</td>\n      <td>...</td>\n      <td>...</td>\n      <td>...</td>\n      <td>...</td>\n      <td>...</td>\n      <td>...</td>\n      <td>...</td>\n      <td>...</td>\n      <td>...</td>\n      <td>...</td>\n      <td>...</td>\n      <td>...</td>\n      <td>...</td>\n      <td>...</td>\n      <td>...</td>\n      <td>...</td>\n    </tr>\n    <tr>\n      <th>595</th>\n      <td>10003.0</td>\n      <td>11250.0</td>\n      <td>0.0</td>\n      <td>11250.0</td>\n      <td>11250.0</td>\n      <td>11250.0</td>\n      <td>11250.0</td>\n      <td>11250.0</td>\n      <td>10003.0</td>\n      <td>11200.0</td>\n      <td>...</td>\n      <td>11200.0</td>\n      <td>11200.0</td>\n      <td>10003.0</td>\n      <td>8.726142</td>\n      <td>9.504373</td>\n      <td>2.0</td>\n      <td>3.28</td>\n      <td>5.95</td>\n      <td>10.3100</td>\n      <td>143.16</td>\n    </tr>\n    <tr>\n      <th>596</th>\n      <td>9852.0</td>\n      <td>11250.0</td>\n      <td>0.0</td>\n      <td>11250.0</td>\n      <td>11250.0</td>\n      <td>11250.0</td>\n      <td>11250.0</td>\n      <td>11250.0</td>\n      <td>9852.0</td>\n      <td>11210.0</td>\n      <td>...</td>\n      <td>11210.0</td>\n      <td>11210.0</td>\n      <td>9852.0</td>\n      <td>8.316260</td>\n      <td>8.781152</td>\n      <td>2.0</td>\n      <td>3.27</td>\n      <td>5.45</td>\n      <td>9.6225</td>\n      <td>110.44</td>\n    </tr>\n    <tr>\n      <th>597</th>\n      <td>17011.0</td>\n      <td>11250.0</td>\n      <td>0.0</td>\n      <td>11250.0</td>\n      <td>11250.0</td>\n      <td>11250.0</td>\n      <td>11250.0</td>\n      <td>11250.0</td>\n      <td>17011.0</td>\n      <td>11220.0</td>\n      <td>...</td>\n      <td>11220.0</td>\n      <td>11220.0</td>\n      <td>17011.0</td>\n      <td>20.972111</td>\n      <td>50.079031</td>\n      <td>2.0</td>\n      <td>4.37</td>\n      <td>9.28</td>\n      <td>19.6000</td>\n      <td>811.62</td>\n    </tr>\n    <tr>\n      <th>598</th>\n      <td>23983.0</td>\n      <td>11250.0</td>\n      <td>0.0</td>\n      <td>11250.0</td>\n      <td>11250.0</td>\n      <td>11250.0</td>\n      <td>11250.0</td>\n      <td>11250.0</td>\n      <td>23983.0</td>\n      <td>11230.0</td>\n      <td>...</td>\n      <td>11230.0</td>\n      <td>11230.0</td>\n      <td>23983.0</td>\n      <td>37.577850</td>\n      <td>106.897797</td>\n      <td>2.0</td>\n      <td>5.97</td>\n      <td>13.97</td>\n      <td>35.1850</td>\n      <td>2149.68</td>\n    </tr>\n    <tr>\n      <th>599</th>\n      <td>35766.0</td>\n      <td>11250.0</td>\n      <td>0.0</td>\n      <td>11250.0</td>\n      <td>11250.0</td>\n      <td>11250.0</td>\n      <td>11250.0</td>\n      <td>11250.0</td>\n      <td>35766.0</td>\n      <td>11240.0</td>\n      <td>...</td>\n      <td>11240.0</td>\n      <td>11240.0</td>\n      <td>35766.0</td>\n      <td>73.830280</td>\n      <td>133.649448</td>\n      <td>2.0</td>\n      <td>9.47</td>\n      <td>27.88</td>\n      <td>86.1975</td>\n      <td>2952.78</td>\n    </tr>\n  </tbody>\n</table>\n<p>600 rows × 24 columns</p>\n</div>"
     },
     "execution_count": 22,
     "metadata": {},
     "output_type": "execute_result"
    }
   ],
   "source": [
    "_# 아래에 실습코드를 작성하고 결과를 확인합니다.\n",
    "\n",
    "local_fluid = circle_of_seoul.groupby(by=['출발 시군구 코드', '도착 시군구 코드'], as_index=False)\n",
    "local_income = circle_of_seoul.loc[(circle_of_seoul['출발 시군구 코드']) != (circle_of_seoul['도착 시군구 코드']), ['출발 시군구 코드', '도착 시군구 코드', '이동인구(합)']].groupby(by=['도착 시군구 코드'], as_index=False)\n",
    "local_outcome = circle_of_seoul.loc[(circle_of_seoul['출발 시군구 코드']) != (circle_of_seoul['도착 시군구 코드']), ['출발 시군구 코드', '도착 시군구 코드', '이동인구(합)']].groupby(by=['출발 시군구 코드'], as_index=False)\n",
    "\n",
    "local_total = circle_of_seoul.loc[(circle_of_seoul['출발 시군구 코드']) != (circle_of_seoul['도착 시군구 코드']), ['출발 시군구 코드', '도착 시군구 코드', '이동인구(합)']].groupby(by=['출발 시군구 코드', '도착 시군구 코드'], as_index=False)\n",
    "local_total.describe()"
   ]
  },
  {
   "cell_type": "code",
   "execution_count": 33,
   "id": "5b74bb6d",
   "metadata": {},
   "outputs": [
    {
     "data": {
      "text/plain": "                   sum       mean\n도착 시군구 코드                        \n11010      12481658.68  28.627132\n11020      13069654.11  29.419791\n11030       8587605.99  21.571696\n11040       9632932.75  23.498053\n11050       8575269.77  22.310283\n11060       8938327.46  21.759615\n11070       6367613.64  18.886085\n11080       9714969.00  23.462312\n11090       6543956.53  20.586442\n11100       5723555.43  20.550407\n11110       8375885.40  22.433565\n11120       6363218.73  19.712757\n11130       9514521.15  24.988959\n11140      11998263.72  27.521163\n11150       7298022.15  22.878673\n11160       8470189.23  22.645264\n11170       7335882.11  21.437536\n11180       4159161.02  16.495509\n11190      13163527.33  29.247148\n11200       8973385.75  23.382136\n11210       9250597.38  24.407200\n11220      15349204.44  33.776011\n11230      21524632.14  42.427782\n11240      12865891.32  30.553272\n11250       7011531.01  21.871597",
      "text/html": "<div>\n<style scoped>\n    .dataframe tbody tr th:only-of-type {\n        vertical-align: middle;\n    }\n\n    .dataframe tbody tr th {\n        vertical-align: top;\n    }\n\n    .dataframe thead th {\n        text-align: right;\n    }\n</style>\n<table border=\"1\" class=\"dataframe\">\n  <thead>\n    <tr style=\"text-align: right;\">\n      <th></th>\n      <th>sum</th>\n      <th>mean</th>\n    </tr>\n    <tr>\n      <th>도착 시군구 코드</th>\n      <th></th>\n      <th></th>\n    </tr>\n  </thead>\n  <tbody>\n    <tr>\n      <th>11010</th>\n      <td>12481658.68</td>\n      <td>28.627132</td>\n    </tr>\n    <tr>\n      <th>11020</th>\n      <td>13069654.11</td>\n      <td>29.419791</td>\n    </tr>\n    <tr>\n      <th>11030</th>\n      <td>8587605.99</td>\n      <td>21.571696</td>\n    </tr>\n    <tr>\n      <th>11040</th>\n      <td>9632932.75</td>\n      <td>23.498053</td>\n    </tr>\n    <tr>\n      <th>11050</th>\n      <td>8575269.77</td>\n      <td>22.310283</td>\n    </tr>\n    <tr>\n      <th>11060</th>\n      <td>8938327.46</td>\n      <td>21.759615</td>\n    </tr>\n    <tr>\n      <th>11070</th>\n      <td>6367613.64</td>\n      <td>18.886085</td>\n    </tr>\n    <tr>\n      <th>11080</th>\n      <td>9714969.00</td>\n      <td>23.462312</td>\n    </tr>\n    <tr>\n      <th>11090</th>\n      <td>6543956.53</td>\n      <td>20.586442</td>\n    </tr>\n    <tr>\n      <th>11100</th>\n      <td>5723555.43</td>\n      <td>20.550407</td>\n    </tr>\n    <tr>\n      <th>11110</th>\n      <td>8375885.40</td>\n      <td>22.433565</td>\n    </tr>\n    <tr>\n      <th>11120</th>\n      <td>6363218.73</td>\n      <td>19.712757</td>\n    </tr>\n    <tr>\n      <th>11130</th>\n      <td>9514521.15</td>\n      <td>24.988959</td>\n    </tr>\n    <tr>\n      <th>11140</th>\n      <td>11998263.72</td>\n      <td>27.521163</td>\n    </tr>\n    <tr>\n      <th>11150</th>\n      <td>7298022.15</td>\n      <td>22.878673</td>\n    </tr>\n    <tr>\n      <th>11160</th>\n      <td>8470189.23</td>\n      <td>22.645264</td>\n    </tr>\n    <tr>\n      <th>11170</th>\n      <td>7335882.11</td>\n      <td>21.437536</td>\n    </tr>\n    <tr>\n      <th>11180</th>\n      <td>4159161.02</td>\n      <td>16.495509</td>\n    </tr>\n    <tr>\n      <th>11190</th>\n      <td>13163527.33</td>\n      <td>29.247148</td>\n    </tr>\n    <tr>\n      <th>11200</th>\n      <td>8973385.75</td>\n      <td>23.382136</td>\n    </tr>\n    <tr>\n      <th>11210</th>\n      <td>9250597.38</td>\n      <td>24.407200</td>\n    </tr>\n    <tr>\n      <th>11220</th>\n      <td>15349204.44</td>\n      <td>33.776011</td>\n    </tr>\n    <tr>\n      <th>11230</th>\n      <td>21524632.14</td>\n      <td>42.427782</td>\n    </tr>\n    <tr>\n      <th>11240</th>\n      <td>12865891.32</td>\n      <td>30.553272</td>\n    </tr>\n    <tr>\n      <th>11250</th>\n      <td>7011531.01</td>\n      <td>21.871597</td>\n    </tr>\n  </tbody>\n</table>\n</div>"
     },
     "execution_count": 33,
     "metadata": {},
     "output_type": "execute_result"
    }
   ],
   "source": [
    "# 아래에 실습코드를 작성하고 결과를 확인합니다.\n",
    "local_income['이동인구(합)'].agg(['sum', 'mean'])"
   ]
  },
  {
   "cell_type": "markdown",
   "id": "1ace49d0",
   "metadata": {},
   "source": [
    "#### [실습문제8] 낮시간만 볼게요 심야버스 제외하겠습니다\n",
    "\n",
    "* 도착시간 0부터 4까지(0:00 ~ 4:59) 제거"
   ]
  },
  {
   "cell_type": "code",
   "execution_count": 24,
   "id": "d54050e1",
   "metadata": {},
   "outputs": [
    {
     "data": {
      "text/plain": "          대상연월 요일  도착시간  출발 시군구 코드  도착 시군구 코드 성별  나이 이동유형  평균 이동 시간(분)  \\\n0       202204  일     5      11010      11010  F  10   HE           10   \n1       202204  일     5      11010      11010  F  10   WH           10   \n2       202204  일     5      11010      11010  F  15   HE           10   \n3       202204  일     5      11010      11010  F  15   EW           10   \n4       202204  일     5      11010      11010  F  15   EH           10   \n...        ... ..   ...        ...        ... ..  ..  ...          ...   \n968458  202204  토    23      39000      11250  M  45   EH           50   \n968459  202204  토    23      39000      11250  M  50   EH           70   \n968460  202204  토    23      39000      11250  M  55   EE           50   \n968461  202204  토    23      39000      11250  M  55   EH           50   \n968462  202204  토    23      39000      11250  M  75   EH           30   \n\n        이동인구(합)  \n0          5.96  \n1          5.88  \n2          4.06  \n3          4.06  \n4         10.08  \n...         ...  \n968458     3.16  \n968459     3.27  \n968460     3.31  \n968461     3.28  \n968462     5.94  \n\n[26630799 rows x 10 columns]",
      "text/html": "<div>\n<style scoped>\n    .dataframe tbody tr th:only-of-type {\n        vertical-align: middle;\n    }\n\n    .dataframe tbody tr th {\n        vertical-align: top;\n    }\n\n    .dataframe thead th {\n        text-align: right;\n    }\n</style>\n<table border=\"1\" class=\"dataframe\">\n  <thead>\n    <tr style=\"text-align: right;\">\n      <th></th>\n      <th>대상연월</th>\n      <th>요일</th>\n      <th>도착시간</th>\n      <th>출발 시군구 코드</th>\n      <th>도착 시군구 코드</th>\n      <th>성별</th>\n      <th>나이</th>\n      <th>이동유형</th>\n      <th>평균 이동 시간(분)</th>\n      <th>이동인구(합)</th>\n    </tr>\n  </thead>\n  <tbody>\n    <tr>\n      <th>0</th>\n      <td>202204</td>\n      <td>일</td>\n      <td>5</td>\n      <td>11010</td>\n      <td>11010</td>\n      <td>F</td>\n      <td>10</td>\n      <td>HE</td>\n      <td>10</td>\n      <td>5.96</td>\n    </tr>\n    <tr>\n      <th>1</th>\n      <td>202204</td>\n      <td>일</td>\n      <td>5</td>\n      <td>11010</td>\n      <td>11010</td>\n      <td>F</td>\n      <td>10</td>\n      <td>WH</td>\n      <td>10</td>\n      <td>5.88</td>\n    </tr>\n    <tr>\n      <th>2</th>\n      <td>202204</td>\n      <td>일</td>\n      <td>5</td>\n      <td>11010</td>\n      <td>11010</td>\n      <td>F</td>\n      <td>15</td>\n      <td>HE</td>\n      <td>10</td>\n      <td>4.06</td>\n    </tr>\n    <tr>\n      <th>3</th>\n      <td>202204</td>\n      <td>일</td>\n      <td>5</td>\n      <td>11010</td>\n      <td>11010</td>\n      <td>F</td>\n      <td>15</td>\n      <td>EW</td>\n      <td>10</td>\n      <td>4.06</td>\n    </tr>\n    <tr>\n      <th>4</th>\n      <td>202204</td>\n      <td>일</td>\n      <td>5</td>\n      <td>11010</td>\n      <td>11010</td>\n      <td>F</td>\n      <td>15</td>\n      <td>EH</td>\n      <td>10</td>\n      <td>10.08</td>\n    </tr>\n    <tr>\n      <th>...</th>\n      <td>...</td>\n      <td>...</td>\n      <td>...</td>\n      <td>...</td>\n      <td>...</td>\n      <td>...</td>\n      <td>...</td>\n      <td>...</td>\n      <td>...</td>\n      <td>...</td>\n    </tr>\n    <tr>\n      <th>968458</th>\n      <td>202204</td>\n      <td>토</td>\n      <td>23</td>\n      <td>39000</td>\n      <td>11250</td>\n      <td>M</td>\n      <td>45</td>\n      <td>EH</td>\n      <td>50</td>\n      <td>3.16</td>\n    </tr>\n    <tr>\n      <th>968459</th>\n      <td>202204</td>\n      <td>토</td>\n      <td>23</td>\n      <td>39000</td>\n      <td>11250</td>\n      <td>M</td>\n      <td>50</td>\n      <td>EH</td>\n      <td>70</td>\n      <td>3.27</td>\n    </tr>\n    <tr>\n      <th>968460</th>\n      <td>202204</td>\n      <td>토</td>\n      <td>23</td>\n      <td>39000</td>\n      <td>11250</td>\n      <td>M</td>\n      <td>55</td>\n      <td>EE</td>\n      <td>50</td>\n      <td>3.31</td>\n    </tr>\n    <tr>\n      <th>968461</th>\n      <td>202204</td>\n      <td>토</td>\n      <td>23</td>\n      <td>39000</td>\n      <td>11250</td>\n      <td>M</td>\n      <td>55</td>\n      <td>EH</td>\n      <td>50</td>\n      <td>3.28</td>\n    </tr>\n    <tr>\n      <th>968462</th>\n      <td>202204</td>\n      <td>토</td>\n      <td>23</td>\n      <td>39000</td>\n      <td>11250</td>\n      <td>M</td>\n      <td>75</td>\n      <td>EH</td>\n      <td>30</td>\n      <td>5.94</td>\n    </tr>\n  </tbody>\n</table>\n<p>26630799 rows × 10 columns</p>\n</div>"
     },
     "execution_count": 24,
     "metadata": {},
     "output_type": "execute_result"
    }
   ],
   "source": [
    "# 아래에 실습코드를 작성하고 결과를 확인합니다.\n",
    "day_moving = seoul_moving[~seoul_moving['도착시간'].isin(range(5))]\n",
    "day_moving"
   ]
  },
  {
   "cell_type": "markdown",
   "id": "bff8a6d6",
   "metadata": {},
   "source": [
    "#### [실습문제9] '도착 시군구 코드' 를 기준으로 각 구별로 '평균 이동 시간(분)' , '이동인구(합)' 의 평균 과 합을 구해보겠습니다\n",
    "\n",
    "* groupby 사용, as_index=False로 설정해주세요"
   ]
  },
  {
   "cell_type": "code",
   "execution_count": 25,
   "id": "7783e416",
   "metadata": {},
   "outputs": [
    {
     "data": {
      "text/plain": "    도착 시군구 코드  평균 이동 시간(분)   이동인구(평균)\n0       11010    21.443330  41.523063\n1       11020    21.166269  41.760859\n2       11030    21.553622  34.676168\n3       11040    21.950757  39.907793\n4       11050    22.779081  43.712430\n5       11060    21.985940  37.394532\n6       11070    23.849072  38.086766\n7       11080    22.508757  42.648641\n8       11090    24.282441  36.281421\n9       11100    25.102882  35.099543\n10      11110    24.497542  51.091182\n11      11120    25.066142  46.712972\n12      11130    22.328288  39.908331\n13      11140    22.322323  51.123170\n14      11150    23.233772  43.124416\n15      11160    25.496986  54.208682\n16      11170    23.480408  38.895596\n17      11180    24.394485  28.730583\n18      11190    21.877909  52.142928\n19      11200    22.215130  38.417589\n20      11210    23.842468  46.586809\n21      11220    22.959344  59.509766\n22      11230    23.284573  83.309306\n23      11240    25.605607  77.326264\n24      11250    26.108477  59.889404",
      "text/html": "<div>\n<style scoped>\n    .dataframe tbody tr th:only-of-type {\n        vertical-align: middle;\n    }\n\n    .dataframe tbody tr th {\n        vertical-align: top;\n    }\n\n    .dataframe thead th {\n        text-align: right;\n    }\n</style>\n<table border=\"1\" class=\"dataframe\">\n  <thead>\n    <tr style=\"text-align: right;\">\n      <th></th>\n      <th>도착 시군구 코드</th>\n      <th>평균 이동 시간(분)</th>\n      <th>이동인구(평균)</th>\n    </tr>\n  </thead>\n  <tbody>\n    <tr>\n      <th>0</th>\n      <td>11010</td>\n      <td>21.443330</td>\n      <td>41.523063</td>\n    </tr>\n    <tr>\n      <th>1</th>\n      <td>11020</td>\n      <td>21.166269</td>\n      <td>41.760859</td>\n    </tr>\n    <tr>\n      <th>2</th>\n      <td>11030</td>\n      <td>21.553622</td>\n      <td>34.676168</td>\n    </tr>\n    <tr>\n      <th>3</th>\n      <td>11040</td>\n      <td>21.950757</td>\n      <td>39.907793</td>\n    </tr>\n    <tr>\n      <th>4</th>\n      <td>11050</td>\n      <td>22.779081</td>\n      <td>43.712430</td>\n    </tr>\n    <tr>\n      <th>5</th>\n      <td>11060</td>\n      <td>21.985940</td>\n      <td>37.394532</td>\n    </tr>\n    <tr>\n      <th>6</th>\n      <td>11070</td>\n      <td>23.849072</td>\n      <td>38.086766</td>\n    </tr>\n    <tr>\n      <th>7</th>\n      <td>11080</td>\n      <td>22.508757</td>\n      <td>42.648641</td>\n    </tr>\n    <tr>\n      <th>8</th>\n      <td>11090</td>\n      <td>24.282441</td>\n      <td>36.281421</td>\n    </tr>\n    <tr>\n      <th>9</th>\n      <td>11100</td>\n      <td>25.102882</td>\n      <td>35.099543</td>\n    </tr>\n    <tr>\n      <th>10</th>\n      <td>11110</td>\n      <td>24.497542</td>\n      <td>51.091182</td>\n    </tr>\n    <tr>\n      <th>11</th>\n      <td>11120</td>\n      <td>25.066142</td>\n      <td>46.712972</td>\n    </tr>\n    <tr>\n      <th>12</th>\n      <td>11130</td>\n      <td>22.328288</td>\n      <td>39.908331</td>\n    </tr>\n    <tr>\n      <th>13</th>\n      <td>11140</td>\n      <td>22.322323</td>\n      <td>51.123170</td>\n    </tr>\n    <tr>\n      <th>14</th>\n      <td>11150</td>\n      <td>23.233772</td>\n      <td>43.124416</td>\n    </tr>\n    <tr>\n      <th>15</th>\n      <td>11160</td>\n      <td>25.496986</td>\n      <td>54.208682</td>\n    </tr>\n    <tr>\n      <th>16</th>\n      <td>11170</td>\n      <td>23.480408</td>\n      <td>38.895596</td>\n    </tr>\n    <tr>\n      <th>17</th>\n      <td>11180</td>\n      <td>24.394485</td>\n      <td>28.730583</td>\n    </tr>\n    <tr>\n      <th>18</th>\n      <td>11190</td>\n      <td>21.877909</td>\n      <td>52.142928</td>\n    </tr>\n    <tr>\n      <th>19</th>\n      <td>11200</td>\n      <td>22.215130</td>\n      <td>38.417589</td>\n    </tr>\n    <tr>\n      <th>20</th>\n      <td>11210</td>\n      <td>23.842468</td>\n      <td>46.586809</td>\n    </tr>\n    <tr>\n      <th>21</th>\n      <td>11220</td>\n      <td>22.959344</td>\n      <td>59.509766</td>\n    </tr>\n    <tr>\n      <th>22</th>\n      <td>11230</td>\n      <td>23.284573</td>\n      <td>83.309306</td>\n    </tr>\n    <tr>\n      <th>23</th>\n      <td>11240</td>\n      <td>25.605607</td>\n      <td>77.326264</td>\n    </tr>\n    <tr>\n      <th>24</th>\n      <td>11250</td>\n      <td>26.108477</td>\n      <td>59.889404</td>\n    </tr>\n  </tbody>\n</table>\n</div>"
     },
     "execution_count": 25,
     "metadata": {},
     "output_type": "execute_result"
    }
   ],
   "source": [
    "# 아래에 실습코드를 작성하고 결과를 확인합니다.\n",
    "a = circle_of_seoul.groupby(by='도착 시군구 코드', as_index=False)[['평균 이동 시간(분)', '이동인구(합)']].mean()\n",
    "a.rename(columns={'이동인구(합)':'이동인구(평균)'}, inplace=True)\n",
    "a"
   ]
  },
  {
   "cell_type": "code",
   "execution_count": 27,
   "id": "86bd27f5",
   "metadata": {},
   "outputs": [
    {
     "data": {
      "text/plain": "    도착 시군구 코드  총 이동 시간(분)      이동인구(합)\n0       11010    10239340  19827553.13\n1       11020    10285410  20293021.43\n2       11030     9488120  15264795.74\n3       11040     9952210  18093714.50\n4       11050     9761770  18732568.44\n5       11060     9998260  17005424.97\n6       11070     9102380  14536423.71\n7       11080    10314120  19542758.96\n8       11090     8765160  13096395.71\n9       11100     8053130  11260109.02\n10      11110    10256190  21389936.36\n11      11120     9222310  17186589.93\n12      11130     9470030  16926200.89\n13      11140    10722260  24556401.25\n14      11150     8445360  15675509.46\n15      11160    10718780  22789004.72\n16      11170     9072360  15028480.32\n17      11180     7190250   8468310.47\n18      11190    10842320  25841148.91\n19      11200     9528980  16478879.02\n20      11210    10091730  19718658.80\n21      11220    11489820  29781186.30\n22      11230    12904380  46170267.40\n23      11240    11978610  36174154.00\n24      11250     9596980  22014206.89",
      "text/html": "<div>\n<style scoped>\n    .dataframe tbody tr th:only-of-type {\n        vertical-align: middle;\n    }\n\n    .dataframe tbody tr th {\n        vertical-align: top;\n    }\n\n    .dataframe thead th {\n        text-align: right;\n    }\n</style>\n<table border=\"1\" class=\"dataframe\">\n  <thead>\n    <tr style=\"text-align: right;\">\n      <th></th>\n      <th>도착 시군구 코드</th>\n      <th>총 이동 시간(분)</th>\n      <th>이동인구(합)</th>\n    </tr>\n  </thead>\n  <tbody>\n    <tr>\n      <th>0</th>\n      <td>11010</td>\n      <td>10239340</td>\n      <td>19827553.13</td>\n    </tr>\n    <tr>\n      <th>1</th>\n      <td>11020</td>\n      <td>10285410</td>\n      <td>20293021.43</td>\n    </tr>\n    <tr>\n      <th>2</th>\n      <td>11030</td>\n      <td>9488120</td>\n      <td>15264795.74</td>\n    </tr>\n    <tr>\n      <th>3</th>\n      <td>11040</td>\n      <td>9952210</td>\n      <td>18093714.50</td>\n    </tr>\n    <tr>\n      <th>4</th>\n      <td>11050</td>\n      <td>9761770</td>\n      <td>18732568.44</td>\n    </tr>\n    <tr>\n      <th>5</th>\n      <td>11060</td>\n      <td>9998260</td>\n      <td>17005424.97</td>\n    </tr>\n    <tr>\n      <th>6</th>\n      <td>11070</td>\n      <td>9102380</td>\n      <td>14536423.71</td>\n    </tr>\n    <tr>\n      <th>7</th>\n      <td>11080</td>\n      <td>10314120</td>\n      <td>19542758.96</td>\n    </tr>\n    <tr>\n      <th>8</th>\n      <td>11090</td>\n      <td>8765160</td>\n      <td>13096395.71</td>\n    </tr>\n    <tr>\n      <th>9</th>\n      <td>11100</td>\n      <td>8053130</td>\n      <td>11260109.02</td>\n    </tr>\n    <tr>\n      <th>10</th>\n      <td>11110</td>\n      <td>10256190</td>\n      <td>21389936.36</td>\n    </tr>\n    <tr>\n      <th>11</th>\n      <td>11120</td>\n      <td>9222310</td>\n      <td>17186589.93</td>\n    </tr>\n    <tr>\n      <th>12</th>\n      <td>11130</td>\n      <td>9470030</td>\n      <td>16926200.89</td>\n    </tr>\n    <tr>\n      <th>13</th>\n      <td>11140</td>\n      <td>10722260</td>\n      <td>24556401.25</td>\n    </tr>\n    <tr>\n      <th>14</th>\n      <td>11150</td>\n      <td>8445360</td>\n      <td>15675509.46</td>\n    </tr>\n    <tr>\n      <th>15</th>\n      <td>11160</td>\n      <td>10718780</td>\n      <td>22789004.72</td>\n    </tr>\n    <tr>\n      <th>16</th>\n      <td>11170</td>\n      <td>9072360</td>\n      <td>15028480.32</td>\n    </tr>\n    <tr>\n      <th>17</th>\n      <td>11180</td>\n      <td>7190250</td>\n      <td>8468310.47</td>\n    </tr>\n    <tr>\n      <th>18</th>\n      <td>11190</td>\n      <td>10842320</td>\n      <td>25841148.91</td>\n    </tr>\n    <tr>\n      <th>19</th>\n      <td>11200</td>\n      <td>9528980</td>\n      <td>16478879.02</td>\n    </tr>\n    <tr>\n      <th>20</th>\n      <td>11210</td>\n      <td>10091730</td>\n      <td>19718658.80</td>\n    </tr>\n    <tr>\n      <th>21</th>\n      <td>11220</td>\n      <td>11489820</td>\n      <td>29781186.30</td>\n    </tr>\n    <tr>\n      <th>22</th>\n      <td>11230</td>\n      <td>12904380</td>\n      <td>46170267.40</td>\n    </tr>\n    <tr>\n      <th>23</th>\n      <td>11240</td>\n      <td>11978610</td>\n      <td>36174154.00</td>\n    </tr>\n    <tr>\n      <th>24</th>\n      <td>11250</td>\n      <td>9596980</td>\n      <td>22014206.89</td>\n    </tr>\n  </tbody>\n</table>\n</div>"
     },
     "execution_count": 27,
     "metadata": {},
     "output_type": "execute_result"
    }
   ],
   "source": [
    "# 아래에 실습코드를 작성하고 결과를 확인합니다.\n",
    "b = circle_of_seoul.groupby(by='도착 시군구 코드', as_index=False)[['평균 이동 시간(분)', '이동인구(합)']].sum()\n",
    "b.rename(columns={'평균 이동 시간(분)':'총 이동 시간(분)'}, inplace=True)\n",
    "b"
   ]
  },
  {
   "cell_type": "code",
   "execution_count": 28,
   "id": "cb213b3a",
   "metadata": {},
   "outputs": [
    {
     "data": {
      "text/plain": "    도착 시군구 코드  평균 이동 시간(분)   이동인구(평균)  총 이동 시간(분)      이동인구(합)\n0       11010    21.443330  41.523063    10239340  19827553.13\n1       11020    21.166269  41.760859    10285410  20293021.43\n2       11030    21.553622  34.676168     9488120  15264795.74\n3       11040    21.950757  39.907793     9952210  18093714.50\n4       11050    22.779081  43.712430     9761770  18732568.44\n5       11060    21.985940  37.394532     9998260  17005424.97\n6       11070    23.849072  38.086766     9102380  14536423.71\n7       11080    22.508757  42.648641    10314120  19542758.96\n8       11090    24.282441  36.281421     8765160  13096395.71\n9       11100    25.102882  35.099543     8053130  11260109.02\n10      11110    24.497542  51.091182    10256190  21389936.36\n11      11120    25.066142  46.712972     9222310  17186589.93\n12      11130    22.328288  39.908331     9470030  16926200.89\n13      11140    22.322323  51.123170    10722260  24556401.25\n14      11150    23.233772  43.124416     8445360  15675509.46\n15      11160    25.496986  54.208682    10718780  22789004.72\n16      11170    23.480408  38.895596     9072360  15028480.32\n17      11180    24.394485  28.730583     7190250   8468310.47\n18      11190    21.877909  52.142928    10842320  25841148.91\n19      11200    22.215130  38.417589     9528980  16478879.02\n20      11210    23.842468  46.586809    10091730  19718658.80\n21      11220    22.959344  59.509766    11489820  29781186.30\n22      11230    23.284573  83.309306    12904380  46170267.40\n23      11240    25.605607  77.326264    11978610  36174154.00\n24      11250    26.108477  59.889404     9596980  22014206.89",
      "text/html": "<div>\n<style scoped>\n    .dataframe tbody tr th:only-of-type {\n        vertical-align: middle;\n    }\n\n    .dataframe tbody tr th {\n        vertical-align: top;\n    }\n\n    .dataframe thead th {\n        text-align: right;\n    }\n</style>\n<table border=\"1\" class=\"dataframe\">\n  <thead>\n    <tr style=\"text-align: right;\">\n      <th></th>\n      <th>도착 시군구 코드</th>\n      <th>평균 이동 시간(분)</th>\n      <th>이동인구(평균)</th>\n      <th>총 이동 시간(분)</th>\n      <th>이동인구(합)</th>\n    </tr>\n  </thead>\n  <tbody>\n    <tr>\n      <th>0</th>\n      <td>11010</td>\n      <td>21.443330</td>\n      <td>41.523063</td>\n      <td>10239340</td>\n      <td>19827553.13</td>\n    </tr>\n    <tr>\n      <th>1</th>\n      <td>11020</td>\n      <td>21.166269</td>\n      <td>41.760859</td>\n      <td>10285410</td>\n      <td>20293021.43</td>\n    </tr>\n    <tr>\n      <th>2</th>\n      <td>11030</td>\n      <td>21.553622</td>\n      <td>34.676168</td>\n      <td>9488120</td>\n      <td>15264795.74</td>\n    </tr>\n    <tr>\n      <th>3</th>\n      <td>11040</td>\n      <td>21.950757</td>\n      <td>39.907793</td>\n      <td>9952210</td>\n      <td>18093714.50</td>\n    </tr>\n    <tr>\n      <th>4</th>\n      <td>11050</td>\n      <td>22.779081</td>\n      <td>43.712430</td>\n      <td>9761770</td>\n      <td>18732568.44</td>\n    </tr>\n    <tr>\n      <th>5</th>\n      <td>11060</td>\n      <td>21.985940</td>\n      <td>37.394532</td>\n      <td>9998260</td>\n      <td>17005424.97</td>\n    </tr>\n    <tr>\n      <th>6</th>\n      <td>11070</td>\n      <td>23.849072</td>\n      <td>38.086766</td>\n      <td>9102380</td>\n      <td>14536423.71</td>\n    </tr>\n    <tr>\n      <th>7</th>\n      <td>11080</td>\n      <td>22.508757</td>\n      <td>42.648641</td>\n      <td>10314120</td>\n      <td>19542758.96</td>\n    </tr>\n    <tr>\n      <th>8</th>\n      <td>11090</td>\n      <td>24.282441</td>\n      <td>36.281421</td>\n      <td>8765160</td>\n      <td>13096395.71</td>\n    </tr>\n    <tr>\n      <th>9</th>\n      <td>11100</td>\n      <td>25.102882</td>\n      <td>35.099543</td>\n      <td>8053130</td>\n      <td>11260109.02</td>\n    </tr>\n    <tr>\n      <th>10</th>\n      <td>11110</td>\n      <td>24.497542</td>\n      <td>51.091182</td>\n      <td>10256190</td>\n      <td>21389936.36</td>\n    </tr>\n    <tr>\n      <th>11</th>\n      <td>11120</td>\n      <td>25.066142</td>\n      <td>46.712972</td>\n      <td>9222310</td>\n      <td>17186589.93</td>\n    </tr>\n    <tr>\n      <th>12</th>\n      <td>11130</td>\n      <td>22.328288</td>\n      <td>39.908331</td>\n      <td>9470030</td>\n      <td>16926200.89</td>\n    </tr>\n    <tr>\n      <th>13</th>\n      <td>11140</td>\n      <td>22.322323</td>\n      <td>51.123170</td>\n      <td>10722260</td>\n      <td>24556401.25</td>\n    </tr>\n    <tr>\n      <th>14</th>\n      <td>11150</td>\n      <td>23.233772</td>\n      <td>43.124416</td>\n      <td>8445360</td>\n      <td>15675509.46</td>\n    </tr>\n    <tr>\n      <th>15</th>\n      <td>11160</td>\n      <td>25.496986</td>\n      <td>54.208682</td>\n      <td>10718780</td>\n      <td>22789004.72</td>\n    </tr>\n    <tr>\n      <th>16</th>\n      <td>11170</td>\n      <td>23.480408</td>\n      <td>38.895596</td>\n      <td>9072360</td>\n      <td>15028480.32</td>\n    </tr>\n    <tr>\n      <th>17</th>\n      <td>11180</td>\n      <td>24.394485</td>\n      <td>28.730583</td>\n      <td>7190250</td>\n      <td>8468310.47</td>\n    </tr>\n    <tr>\n      <th>18</th>\n      <td>11190</td>\n      <td>21.877909</td>\n      <td>52.142928</td>\n      <td>10842320</td>\n      <td>25841148.91</td>\n    </tr>\n    <tr>\n      <th>19</th>\n      <td>11200</td>\n      <td>22.215130</td>\n      <td>38.417589</td>\n      <td>9528980</td>\n      <td>16478879.02</td>\n    </tr>\n    <tr>\n      <th>20</th>\n      <td>11210</td>\n      <td>23.842468</td>\n      <td>46.586809</td>\n      <td>10091730</td>\n      <td>19718658.80</td>\n    </tr>\n    <tr>\n      <th>21</th>\n      <td>11220</td>\n      <td>22.959344</td>\n      <td>59.509766</td>\n      <td>11489820</td>\n      <td>29781186.30</td>\n    </tr>\n    <tr>\n      <th>22</th>\n      <td>11230</td>\n      <td>23.284573</td>\n      <td>83.309306</td>\n      <td>12904380</td>\n      <td>46170267.40</td>\n    </tr>\n    <tr>\n      <th>23</th>\n      <td>11240</td>\n      <td>25.605607</td>\n      <td>77.326264</td>\n      <td>11978610</td>\n      <td>36174154.00</td>\n    </tr>\n    <tr>\n      <th>24</th>\n      <td>11250</td>\n      <td>26.108477</td>\n      <td>59.889404</td>\n      <td>9596980</td>\n      <td>22014206.89</td>\n    </tr>\n  </tbody>\n</table>\n</div>"
     },
     "execution_count": 28,
     "metadata": {},
     "output_type": "execute_result"
    }
   ],
   "source": [
    "# 파일을 합쳐볼까요\n",
    "df_seoul_moving = pd.merge(a, b, how = 'inner', on = '도착 시군구 코드')\n",
    "df_seoul_moving"
   ]
  },
  {
   "cell_type": "code",
   "execution_count": 29,
   "id": "b7389d07",
   "metadata": {},
   "outputs": [],
   "source": [
    "# 해당 데이터프레임을 'df_seoul_moving.csv' 파일로 저장하세요\n",
    "df_seoul_moving.to_csv('df_seoul_moving.csv', encoding='UTF-8', index=False)"
   ]
  },
  {
   "cell_type": "markdown",
   "id": "602b8bae",
   "metadata": {},
   "source": [
    "---"
   ]
  },
  {
   "cell_type": "markdown",
   "id": "southeast-integration",
   "metadata": {},
   "source": [
    "# 3.데이터 분석하기\n",
    "+ KeyPoint : 데이터의 형태를 살펴보고 다양한 분석기법을 통해 모델링에 적합하도록 정제요소를 선별할 수 있다.\n",
    "  * 데이터들의 패턴 탐색\n",
    "  * 변수들간의 관계 파악"
   ]
  },
  {
   "cell_type": "code",
   "execution_count": null,
   "id": "194ae01d",
   "metadata": {},
   "outputs": [],
   "source": [
    "# 시각화 한글폰트 설정\n",
    "import seaborn as sns\n",
    "import matplotlib.pyplot as plt\n",
    "\n",
    "plt.rc('font', family='nanum')\n",
    "sns.set(font=\"NanumGothicCoding\",#\"NanumGothicCoding\", \n",
    "        rc={\"axes.unicode_minus\":False}, # 마이너스 부호 깨짐 현상 해결\n",
    "        style='darkgrid')"
   ]
  },
  {
   "cell_type": "markdown",
   "id": "material-complex",
   "metadata": {},
   "source": [
    "#### [실습문제10] 데이터 분포 알아보기\n",
    "* 다양한 변수를 기준으로 그래프를 그려보고 인사이트를 도출해보세요."
   ]
  },
  {
   "cell_type": "code",
   "execution_count": null,
   "id": "2a610ade",
   "metadata": {
    "scrolled": false
   },
   "outputs": [],
   "source": [
    "# 아래에 실습코드를 작성하고 결과를 확인합니다.\n"
   ]
  },
  {
   "cell_type": "code",
   "execution_count": null,
   "id": "ce0af14b",
   "metadata": {},
   "outputs": [],
   "source": [
    "# 아래에 실습코드를 작성하고 결과를 확인합니다."
   ]
  },
  {
   "cell_type": "code",
   "execution_count": null,
   "id": "8cc4598f",
   "metadata": {},
   "outputs": [],
   "source": [
    "# 아래에 실습코드를 작성하고 결과를 확인합니다."
   ]
  },
  {
   "cell_type": "code",
   "execution_count": null,
   "id": "a360d86c",
   "metadata": {},
   "outputs": [],
   "source": [
    "# 위 차트를 통해 알게된 사실을 정리해봅시다.\n",
    "# 1. \n",
    "# 2.\n",
    "# 3."
   ]
  },
  {
   "cell_type": "markdown",
   "id": "ca567b34",
   "metadata": {},
   "source": [
    "---"
   ]
  },
  {
   "cell_type": "code",
   "execution_count": 16,
   "outputs": [
    {
     "name": "stdout",
     "output_type": "stream",
     "text": [
      "938161.2\n",
      "928376.2\n",
      "1002822.75\n",
      "988911.5\n",
      "981719.0\n",
      "976568.0\n",
      "947570.5\n"
     ]
    }
   ],
   "source": [
    "print(4690806/5)\n",
    "print(4641881/5)\n",
    "print(4011291/4)\n",
    "print(3955646/4)\n",
    "print(3926876/4)\n",
    "print(3906272/4)\n",
    "print(3790282/4)"
   ],
   "metadata": {
    "collapsed": false,
    "pycharm": {
     "name": "#%%\n"
    }
   }
  },
  {
   "cell_type": "code",
   "execution_count": null,
   "outputs": [],
   "source": [],
   "metadata": {
    "collapsed": false,
    "pycharm": {
     "name": "#%%\n"
    }
   }
  }
 ],
 "metadata": {
  "kernelspec": {
   "display_name": "Python 3.8.8 ('base')",
   "language": "python",
   "name": "python3"
  },
  "language_info": {
   "codemirror_mode": {
    "name": "ipython",
    "version": 3
   },
   "file_extension": ".py",
   "mimetype": "text/x-python",
   "name": "python",
   "nbconvert_exporter": "python",
   "pygments_lexer": "ipython3",
   "version": "3.8.8"
  },
  "vscode": {
   "interpreter": {
    "hash": "f08154012ddadd8e950e6e9e035c7a7b32c136e7647e9b7c77e02eb723a8bedb"
   }
  }
 },
 "nbformat": 4,
 "nbformat_minor": 5
}