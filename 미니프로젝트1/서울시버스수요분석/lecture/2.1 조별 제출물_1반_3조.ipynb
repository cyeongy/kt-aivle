{
 "cells": [
  {
   "cell_type": "markdown",
   "id": "boxed-jamaica",
   "metadata": {
    "id": "boxed-jamaica"
   },
   "source": [
    "# 안녕하세요:)\n",
    "\n",
    "## AIVLE 1차 미니프로젝트 '서울시 생활정보 기반 대중교통 수요 분석 ' 과정에 오신 여러분을 환영합니다.\n",
    "* 본 과정에서는 서울시 생활정보 데이터를 기반으로 데이터 분석을 시도하고 주어진 문제를 해결할 것입니다.\n",
    "\n",
    "\n",
    "* 우리는 공공 데이터를 활용해 버스노선 관련 인사이트를 도출하여 유용한 정책을 세우는데 도움을 주고자 합니다"
   ]
  },
  {
   "cell_type": "markdown",
   "id": "46fa690c",
   "metadata": {
    "id": "46fa690c"
   },
   "source": [
    "## ▣ 우리가 풀어야 하는 문제는 무엇인가요?\n",
    "\n",
    "* 제공 데이터\n",
    "    - 구 별 유동인구 데이터\n",
    "    - 구 별 주민 등록 데이터\n",
    "    - 구 별 업종 등록 정보\n",
    "    - 버스 승하차 및 운행 노선 데이터 \n",
    "\n",
    "### 위 제공 데이터를 분석하여 버스 노선 추가 필요 대상 지역(구 단위)을 선정합니다"
   ]
  },
  {
   "cell_type": "markdown",
   "id": "22a4bba9",
   "metadata": {},
   "source": [
    "# 이 4개의 데이터들을 어떻게 합칠까요?"
   ]
  },
  {
   "cell_type": "code",
<<<<<<< HEAD
   "execution_count": null,
=======
   "execution_count": 1,
>>>>>>> b29a051e1f8f823543dcfa2673d6dccc3b9dc18a
   "id": "ce78669f",
   "metadata": {},
   "outputs": [
    {
     "name": "stderr",
     "output_type": "stream",
     "text": [
      "/Users/cyeongy/opt/anaconda3/envs/kt-aivle/lib/python3.8/site-packages/scipy/__init__.py:146: UserWarning: A NumPy version >=1.16.5 and <1.23.0 is required for this version of SciPy (detected version 1.23.1\n",
      "  warnings.warn(f\"A NumPy version >={np_minversion} and <{np_maxversion}\"\n"
     ]
    }
   ],
   "source": [
    "import pandas as pd\n",
    "import scipy.stats as spst\n",
    "import seaborn as sns\n",
    "import matplotlib.pyplot as plt"
   ]
  },
  {
   "cell_type": "code",
   "execution_count": 2,
   "id": "d91f797e",
   "metadata": {},
   "outputs": [],
   "source": [
    "standard = pd.DataFrame({'도착 시군구 코드': [11010, 11020, 11030, 11040, 11050, 11060, 11070, 11080, 11090, 11100, 11110, 11120, 11130, 11140, 11150, 11160, 11170, 11180, 11190, 11200, 11210, 11220, 11230, 11240, 11250],\n",
    "                         '자치구' :['종로구','중구','용산구','성동구','광진구','동대문구','중랑구','성북구','강북구','도봉구','노원구','은평구','서대문구','마포구','양천구','강서구','구로구','금천구','영등포구','동작구','관악구','서초구','강남구','송파구','강동구']})"
   ]
  },
  {
   "cell_type": "code",
   "execution_count": 3,
   "id": "823d3b41",
   "metadata": {},
   "outputs": [
    {
     "data": {
      "text/html": [
       "<div>\n",
       "<style scoped>\n",
       "    .dataframe tbody tr th:only-of-type {\n",
       "        vertical-align: middle;\n",
       "    }\n",
       "\n",
       "    .dataframe tbody tr th {\n",
       "        vertical-align: top;\n",
       "    }\n",
       "\n",
       "    .dataframe thead th {\n",
       "        text-align: right;\n",
       "    }\n",
       "</style>\n",
       "<table border=\"1\" class=\"dataframe\">\n",
       "  <thead>\n",
       "    <tr style=\"text-align: right;\">\n",
       "      <th></th>\n",
       "      <th>도착 시군구 코드</th>\n",
       "      <th>자치구</th>\n",
       "    </tr>\n",
       "  </thead>\n",
       "  <tbody>\n",
       "    <tr>\n",
       "      <th>0</th>\n",
       "      <td>11010</td>\n",
       "      <td>종로구</td>\n",
       "    </tr>\n",
       "    <tr>\n",
       "      <th>1</th>\n",
       "      <td>11020</td>\n",
       "      <td>중구</td>\n",
       "    </tr>\n",
       "    <tr>\n",
       "      <th>2</th>\n",
       "      <td>11030</td>\n",
       "      <td>용산구</td>\n",
       "    </tr>\n",
       "    <tr>\n",
       "      <th>3</th>\n",
       "      <td>11040</td>\n",
       "      <td>성동구</td>\n",
       "    </tr>\n",
       "    <tr>\n",
       "      <th>4</th>\n",
       "      <td>11050</td>\n",
       "      <td>광진구</td>\n",
       "    </tr>\n",
       "    <tr>\n",
       "      <th>5</th>\n",
       "      <td>11060</td>\n",
       "      <td>동대문구</td>\n",
       "    </tr>\n",
       "    <tr>\n",
       "      <th>6</th>\n",
       "      <td>11070</td>\n",
       "      <td>중랑구</td>\n",
       "    </tr>\n",
       "    <tr>\n",
       "      <th>7</th>\n",
       "      <td>11080</td>\n",
       "      <td>성북구</td>\n",
       "    </tr>\n",
       "    <tr>\n",
       "      <th>8</th>\n",
       "      <td>11090</td>\n",
       "      <td>강북구</td>\n",
       "    </tr>\n",
       "    <tr>\n",
       "      <th>9</th>\n",
       "      <td>11100</td>\n",
       "      <td>도봉구</td>\n",
       "    </tr>\n",
       "    <tr>\n",
       "      <th>10</th>\n",
       "      <td>11110</td>\n",
       "      <td>노원구</td>\n",
       "    </tr>\n",
       "    <tr>\n",
       "      <th>11</th>\n",
       "      <td>11120</td>\n",
       "      <td>은평구</td>\n",
       "    </tr>\n",
       "    <tr>\n",
       "      <th>12</th>\n",
       "      <td>11130</td>\n",
       "      <td>서대문구</td>\n",
       "    </tr>\n",
       "    <tr>\n",
       "      <th>13</th>\n",
       "      <td>11140</td>\n",
       "      <td>마포구</td>\n",
       "    </tr>\n",
       "    <tr>\n",
       "      <th>14</th>\n",
       "      <td>11150</td>\n",
       "      <td>양천구</td>\n",
       "    </tr>\n",
       "    <tr>\n",
       "      <th>15</th>\n",
       "      <td>11160</td>\n",
       "      <td>강서구</td>\n",
       "    </tr>\n",
       "    <tr>\n",
       "      <th>16</th>\n",
       "      <td>11170</td>\n",
       "      <td>구로구</td>\n",
       "    </tr>\n",
       "    <tr>\n",
       "      <th>17</th>\n",
       "      <td>11180</td>\n",
       "      <td>금천구</td>\n",
       "    </tr>\n",
       "    <tr>\n",
       "      <th>18</th>\n",
       "      <td>11190</td>\n",
       "      <td>영등포구</td>\n",
       "    </tr>\n",
       "    <tr>\n",
       "      <th>19</th>\n",
       "      <td>11200</td>\n",
       "      <td>동작구</td>\n",
       "    </tr>\n",
       "    <tr>\n",
       "      <th>20</th>\n",
       "      <td>11210</td>\n",
       "      <td>관악구</td>\n",
       "    </tr>\n",
       "    <tr>\n",
       "      <th>21</th>\n",
       "      <td>11220</td>\n",
       "      <td>서초구</td>\n",
       "    </tr>\n",
       "    <tr>\n",
       "      <th>22</th>\n",
       "      <td>11230</td>\n",
       "      <td>강남구</td>\n",
       "    </tr>\n",
       "    <tr>\n",
       "      <th>23</th>\n",
       "      <td>11240</td>\n",
       "      <td>송파구</td>\n",
       "    </tr>\n",
       "    <tr>\n",
       "      <th>24</th>\n",
       "      <td>11250</td>\n",
       "      <td>강동구</td>\n",
       "    </tr>\n",
       "  </tbody>\n",
       "</table>\n",
       "</div>"
      ],
      "text/plain": [
       "    도착 시군구 코드   자치구\n",
       "0       11010   종로구\n",
       "1       11020    중구\n",
       "2       11030   용산구\n",
       "3       11040   성동구\n",
       "4       11050   광진구\n",
       "5       11060  동대문구\n",
       "6       11070   중랑구\n",
       "7       11080   성북구\n",
       "8       11090   강북구\n",
       "9       11100   도봉구\n",
       "10      11110   노원구\n",
       "11      11120   은평구\n",
       "12      11130  서대문구\n",
       "13      11140   마포구\n",
       "14      11150   양천구\n",
       "15      11160   강서구\n",
       "16      11170   구로구\n",
       "17      11180   금천구\n",
       "18      11190  영등포구\n",
       "19      11200   동작구\n",
       "20      11210   관악구\n",
       "21      11220   서초구\n",
       "22      11230   강남구\n",
       "23      11240   송파구\n",
       "24      11250   강동구"
      ]
     },
     "execution_count": 3,
     "metadata": {},
     "output_type": "execute_result"
    }
   ],
   "source": [
    "standard"
   ]
  },
  {
   "cell_type": "code",
<<<<<<< HEAD
   "execution_count": 5,
   "metadata": {
    "collapsed": false,
    "pycharm": {
     "name": "#%%\n"
    }
   },
=======
   "execution_count": 4,
>>>>>>> b29a051e1f8f823543dcfa2673d6dccc3b9dc18a
   "outputs": [],
   "source": [
    "#데이터 전처리\n",
    "\n",
    "bus_station = pd.read_csv('1.1 BUS_STATION_BOARDING_MONTH_202204.csv', sep=\",\", encoding = \"cp949\")\n",
    "seoul_moving = pd.read_csv('1.2 seoul_moving_month_4.csv', sep=\",\", index_col=0, encoding='UTF-8')"
   ]
  },
  {
   "cell_type": "code",
<<<<<<< HEAD
   "execution_count": 6,
=======
   "execution_count": 5,
   "outputs": [],
   "source": [
    "# 서울 내 이동만 포함\n",
    "seoul_moving = seoul_moving[(seoul_moving[\"출발 시군구 코드\"] < 20000) & (seoul_moving[\"도착 시군구 코드\"] < 20000)]"
   ],
>>>>>>> b29a051e1f8f823543dcfa2673d6dccc3b9dc18a
   "metadata": {
    "collapsed": false,
    "pycharm": {
     "name": "#%%\n"
    }
   },
   "outputs": [],
   "source": [
    "# 서울 내 이동만 포함\n",
    "seoul_moving = seoul_moving[(seoul_moving[\"출발 시군구 코드\"] < 20000) & (seoul_moving[\"도착 시군구 코드\"] < 20000)]"
   ]
  },
  {
   "cell_type": "code",
<<<<<<< HEAD
   "execution_count": 7,
   "metadata": {
    "collapsed": false,
    "pycharm": {
     "name": "#%%\n"
    }
   },
=======
   "execution_count": 6,
>>>>>>> b29a051e1f8f823543dcfa2673d6dccc3b9dc18a
   "outputs": [
    {
     "data": {
      "text/plain": [
       "0          06\n",
       "1          06\n",
       "2          06\n",
       "3          06\n",
       "4          11\n",
       "           ..\n",
       "1169873    12\n",
       "1169874    06\n",
       "1169875    16\n",
       "1169876    25\n",
       "1169877    06\n",
       "Name: 자치구, Length: 1169878, dtype: object"
      ]
     },
     "execution_count": 6,
     "metadata": {},
     "output_type": "execute_result"
    }
   ],
   "source": [
    "# 자치구 추가\n",
    "bus_station['자치구'] = bus_station[\"버스정류장ARS번호\"].str.slice(start=0, stop=2)\n",
    "bus_station['자치구']\n",
    "\n",
    "# 가상 지점, NaN제거"
   ]
  },
  {
   "cell_type": "code",
<<<<<<< HEAD
   "execution_count": 8,
   "metadata": {
    "collapsed": false,
    "pycharm": {
     "name": "#%%\n"
    }
   },
=======
   "execution_count": 7,
>>>>>>> b29a051e1f8f823543dcfa2673d6dccc3b9dc18a
   "outputs": [],
   "source": [
    "# bus_station = bus_station.dropna()\n",
    "# bus_station = bus_station.astype({\"버스정류장ARS번호\":'int'})"
   ]
  },
  {
   "cell_type": "code",
<<<<<<< HEAD
   "execution_count": 9,
=======
   "execution_count": 8,
   "outputs": [],
   "source": [
    "seoul_moving['이동인구(합)'].replace(\"*\", \"1.5\", inplace=True)\n",
    "seoul_moving = seoul_moving.astype({'이동인구(합)': float})\n"
   ],
>>>>>>> b29a051e1f8f823543dcfa2673d6dccc3b9dc18a
   "metadata": {
    "collapsed": false,
    "pycharm": {
     "name": "#%%\n"
    }
   },
   "outputs": [],
   "source": [
    "seoul_moving['이동인구(합)'].replace(\"*\", \"1.5\", inplace=True)\n",
    "seoul_moving = seoul_moving.astype({'이동인구(합)': float})\n"
   ]
  },
  {
   "cell_type": "code",
   "execution_count": 9,
   "id": "5ee007e0",
   "metadata": {},
   "outputs": [],
   "source": [
    "# 버스 정류장 데이터 - df_seoul_bus_station\n",
    "# 유동인구 데이터 - df_seoul_moving\n",
    "# 구별 상권 데이터 - df_seoul_business\n",
    "# 구별 등록 인구 데이터 - df_seoul_people"
   ]
  },
  {
   "cell_type": "code",
   "execution_count": 10,
   "id": "d8f6cfe8",
   "metadata": {},
   "outputs": [
    {
     "data": {
      "text/html": [
       "<div>\n",
       "<style scoped>\n",
       "    .dataframe tbody tr th:only-of-type {\n",
       "        vertical-align: middle;\n",
       "    }\n",
       "\n",
       "    .dataframe tbody tr th {\n",
       "        vertical-align: top;\n",
       "    }\n",
       "\n",
       "    .dataframe thead th {\n",
       "        text-align: right;\n",
       "    }\n",
       "</style>\n",
       "<table border=\"1\" class=\"dataframe\">\n",
       "  <thead>\n",
       "    <tr style=\"text-align: right;\">\n",
       "      <th></th>\n",
       "      <th>자치구</th>\n",
       "      <th>정류장수</th>\n",
       "      <th>노선수</th>\n",
       "      <th>승차총승객수</th>\n",
       "      <th>하차총승객수</th>\n",
       "      <th>승차평균승객수</th>\n",
       "      <th>하차평균승객수</th>\n",
       "    </tr>\n",
       "  </thead>\n",
       "  <tbody>\n",
       "    <tr>\n",
       "      <th>0</th>\n",
       "      <td>강남구</td>\n",
       "      <td>499</td>\n",
       "      <td>91</td>\n",
       "      <td>8030483</td>\n",
       "      <td>7569213</td>\n",
       "      <td>128.767927</td>\n",
       "      <td>121.371512</td>\n",
       "    </tr>\n",
       "    <tr>\n",
       "      <th>1</th>\n",
       "      <td>강동구</td>\n",
       "      <td>369</td>\n",
       "      <td>21</td>\n",
       "      <td>2890053</td>\n",
       "      <td>2830506</td>\n",
       "      <td>99.161194</td>\n",
       "      <td>97.118065</td>\n",
       "    </tr>\n",
       "    <tr>\n",
       "      <th>2</th>\n",
       "      <td>강북구</td>\n",
       "      <td>413</td>\n",
       "      <td>67</td>\n",
       "      <td>4825181</td>\n",
       "      <td>4671783</td>\n",
       "      <td>133.020373</td>\n",
       "      <td>128.791504</td>\n",
       "    </tr>\n",
       "    <tr>\n",
       "      <th>3</th>\n",
       "      <td>강서구</td>\n",
       "      <td>566</td>\n",
       "      <td>49</td>\n",
       "      <td>4681083</td>\n",
       "      <td>4652828</td>\n",
       "      <td>88.119480</td>\n",
       "      <td>87.587591</td>\n",
       "    </tr>\n",
       "    <tr>\n",
       "      <th>4</th>\n",
       "      <td>관악구</td>\n",
       "      <td>466</td>\n",
       "      <td>86</td>\n",
       "      <td>7655819</td>\n",
       "      <td>7792476</td>\n",
       "      <td>154.753674</td>\n",
       "      <td>157.516040</td>\n",
       "    </tr>\n",
       "  </tbody>\n",
       "</table>\n",
       "</div>"
      ],
      "text/plain": [
       "   자치구  정류장수  노선수   승차총승객수   하차총승객수     승차평균승객수     하차평균승객수\n",
       "0  강남구   499   91  8030483  7569213  128.767927  121.371512\n",
       "1  강동구   369   21  2890053  2830506   99.161194   97.118065\n",
       "2  강북구   413   67  4825181  4671783  133.020373  128.791504\n",
       "3  강서구   566   49  4681083  4652828   88.119480   87.587591\n",
       "4  관악구   466   86  7655819  7792476  154.753674  157.516040"
      ]
     },
     "execution_count": 10,
     "metadata": {},
     "output_type": "execute_result"
    }
   ],
   "source": [
    "df_seoul_bus_station = pd.read_csv('df_seoul_bus_station.csv', sep=\",\", encoding = 'UTF-8')\n",
    "df_seoul_bus_station.head()"
   ]
  },
  {
   "cell_type": "code",
   "execution_count": 11,
   "id": "7770cc4c",
   "metadata": {},
   "outputs": [
    {
     "data": {
      "text/html": [
       "<div>\n",
       "<style scoped>\n",
       "    .dataframe tbody tr th:only-of-type {\n",
       "        vertical-align: middle;\n",
       "    }\n",
       "\n",
       "    .dataframe tbody tr th {\n",
       "        vertical-align: top;\n",
       "    }\n",
       "\n",
       "    .dataframe thead th {\n",
       "        text-align: right;\n",
       "    }\n",
       "</style>\n",
       "<table border=\"1\" class=\"dataframe\">\n",
       "  <thead>\n",
       "    <tr style=\"text-align: right;\">\n",
       "      <th></th>\n",
       "      <th>도착 시군구 코드</th>\n",
       "      <th>평균 이동 시간(분)</th>\n",
       "      <th>이동인구(합)</th>\n",
       "      <th>총 이동 시간</th>\n",
       "      <th>총 이동인구</th>\n",
       "    </tr>\n",
       "  </thead>\n",
       "  <tbody>\n",
       "    <tr>\n",
       "      <th>0</th>\n",
       "      <td>11010</td>\n",
       "      <td>21.867754</td>\n",
       "      <td>46.046219</td>\n",
       "      <td>5471640</td>\n",
       "      <td>11521454.69</td>\n",
       "    </tr>\n",
       "    <tr>\n",
       "      <th>1</th>\n",
       "      <td>11020</td>\n",
       "      <td>21.524817</td>\n",
       "      <td>46.214336</td>\n",
       "      <td>5368440</td>\n",
       "      <td>11526178.91</td>\n",
       "    </tr>\n",
       "    <tr>\n",
       "      <th>2</th>\n",
       "      <td>11030</td>\n",
       "      <td>21.820458</td>\n",
       "      <td>38.412082</td>\n",
       "      <td>4959790</td>\n",
       "      <td>8731066.25</td>\n",
       "    </tr>\n",
       "    <tr>\n",
       "      <th>3</th>\n",
       "      <td>11040</td>\n",
       "      <td>22.150334</td>\n",
       "      <td>44.717847</td>\n",
       "      <td>5139830</td>\n",
       "      <td>10376463.41</td>\n",
       "    </tr>\n",
       "    <tr>\n",
       "      <th>4</th>\n",
       "      <td>11050</td>\n",
       "      <td>22.810568</td>\n",
       "      <td>50.043326</td>\n",
       "      <td>5020720</td>\n",
       "      <td>11014786.16</td>\n",
       "    </tr>\n",
       "  </tbody>\n",
       "</table>\n",
       "</div>"
      ],
      "text/plain": [
       "   도착 시군구 코드  평균 이동 시간(분)    이동인구(합)  총 이동 시간       총 이동인구\n",
       "0      11010    21.867754  46.046219  5471640  11521454.69\n",
       "1      11020    21.524817  46.214336  5368440  11526178.91\n",
       "2      11030    21.820458  38.412082  4959790   8731066.25\n",
       "3      11040    22.150334  44.717847  5139830  10376463.41\n",
       "4      11050    22.810568  50.043326  5020720  11014786.16"
      ]
     },
     "execution_count": 11,
     "metadata": {},
     "output_type": "execute_result"
    }
   ],
   "source": [
    "df_seoul_moving = pd.read_csv('df_seoul_moving.csv', sep=\",\", encoding = 'UTF-8')\n",
    "df_seoul_moving.head()"
   ]
  },
  {
   "cell_type": "code",
   "execution_count": 12,
   "id": "22e16caa",
   "metadata": {},
   "outputs": [],
   "source": [
    "# df_seoul_business = pd.read_csv('df_seoul_business.csv', sep=\",\", encoding = 'UTF-8')\n",
    "# df_seoul_business.head()"
   ]
  },
  {
   "cell_type": "code",
   "execution_count": 13,
   "id": "b144c7e9",
   "metadata": {},
   "outputs": [],
   "source": [
    "# df_seoul_people = pd.read_csv('df_seoul_people.csv', sep=\",\", encoding = 'UTF-8')\n",
    "# df_seoul_people.head()"
   ]
  },
  {
   "cell_type": "code",
   "execution_count": 14,
   "id": "24951c98",
   "metadata": {},
   "outputs": [],
   "source": [
    "df = pd.merge(standard,df_seoul_bus_station,how='inner', on='자치구')"
   ]
  },
  {
   "cell_type": "code",
   "execution_count": 15,
   "id": "6a6559c8",
   "metadata": {},
   "outputs": [],
   "source": [
    "df = pd.merge(df,df_seoul_moving,how='inner', on='도착 시군구 코드')"
   ]
  },
  {
   "cell_type": "code",
   "execution_count": 16,
   "id": "8b831c84",
   "metadata": {},
   "outputs": [],
   "source": [
    "# df = pd.merge(df,df_seoul_business,how='inner', on='자치구')"
   ]
  },
  {
   "cell_type": "code",
   "execution_count": 17,
   "id": "10144b50",
   "metadata": {},
   "outputs": [],
   "source": [
    "# df = pd.merge(df,df_seoul_people,how='inner', on='자치구')"
   ]
  },
  {
   "cell_type": "code",
   "execution_count": 18,
   "id": "2aab60fa",
   "metadata": {},
   "outputs": [
    {
     "data": {
      "text/html": [
       "<div>\n",
       "<style scoped>\n",
       "    .dataframe tbody tr th:only-of-type {\n",
       "        vertical-align: middle;\n",
       "    }\n",
       "\n",
       "    .dataframe tbody tr th {\n",
       "        vertical-align: top;\n",
       "    }\n",
       "\n",
       "    .dataframe thead th {\n",
       "        text-align: right;\n",
       "    }\n",
       "</style>\n",
       "<table border=\"1\" class=\"dataframe\">\n",
       "  <thead>\n",
       "    <tr style=\"text-align: right;\">\n",
       "      <th></th>\n",
       "      <th>도착 시군구 코드</th>\n",
       "      <th>자치구</th>\n",
       "      <th>정류장수</th>\n",
       "      <th>노선수</th>\n",
       "      <th>승차총승객수</th>\n",
       "      <th>하차총승객수</th>\n",
       "      <th>승차평균승객수</th>\n",
       "      <th>하차평균승객수</th>\n",
       "      <th>평균 이동 시간(분)</th>\n",
       "      <th>이동인구(합)</th>\n",
       "      <th>총 이동 시간</th>\n",
       "      <th>총 이동인구</th>\n",
       "    </tr>\n",
       "  </thead>\n",
       "  <tbody>\n",
       "    <tr>\n",
       "      <th>0</th>\n",
       "      <td>11010</td>\n",
       "      <td>종로구</td>\n",
       "      <td>349</td>\n",
       "      <td>106</td>\n",
       "      <td>5468935</td>\n",
       "      <td>5205394</td>\n",
       "      <td>131.889620</td>\n",
       "      <td>125.534028</td>\n",
       "      <td>21.867754</td>\n",
       "      <td>46.046219</td>\n",
       "      <td>5471640</td>\n",
       "      <td>11521454.69</td>\n",
       "    </tr>\n",
       "    <tr>\n",
       "      <th>1</th>\n",
       "      <td>11020</td>\n",
       "      <td>중구</td>\n",
       "      <td>178</td>\n",
       "      <td>103</td>\n",
       "      <td>3776675</td>\n",
       "      <td>3598932</td>\n",
       "      <td>121.020124</td>\n",
       "      <td>115.324511</td>\n",
       "      <td>21.524817</td>\n",
       "      <td>46.214336</td>\n",
       "      <td>5368440</td>\n",
       "      <td>11526178.91</td>\n",
       "    </tr>\n",
       "    <tr>\n",
       "      <th>2</th>\n",
       "      <td>11030</td>\n",
       "      <td>용산구</td>\n",
       "      <td>323</td>\n",
       "      <td>67</td>\n",
       "      <td>4189977</td>\n",
       "      <td>4086474</td>\n",
       "      <td>137.891694</td>\n",
       "      <td>134.485421</td>\n",
       "      <td>21.820458</td>\n",
       "      <td>38.412082</td>\n",
       "      <td>4959790</td>\n",
       "      <td>8731066.25</td>\n",
       "    </tr>\n",
       "    <tr>\n",
       "      <th>3</th>\n",
       "      <td>11040</td>\n",
       "      <td>성동구</td>\n",
       "      <td>435</td>\n",
       "      <td>58</td>\n",
       "      <td>2807280</td>\n",
       "      <td>2746738</td>\n",
       "      <td>96.377369</td>\n",
       "      <td>94.298888</td>\n",
       "      <td>22.150334</td>\n",
       "      <td>44.717847</td>\n",
       "      <td>5139830</td>\n",
       "      <td>10376463.41</td>\n",
       "    </tr>\n",
       "    <tr>\n",
       "      <th>4</th>\n",
       "      <td>11050</td>\n",
       "      <td>광진구</td>\n",
       "      <td>269</td>\n",
       "      <td>41</td>\n",
       "      <td>2749448</td>\n",
       "      <td>2753411</td>\n",
       "      <td>118.352546</td>\n",
       "      <td>118.523137</td>\n",
       "      <td>22.810568</td>\n",
       "      <td>50.043326</td>\n",
       "      <td>5020720</td>\n",
       "      <td>11014786.16</td>\n",
       "    </tr>\n",
       "  </tbody>\n",
       "</table>\n",
       "</div>"
      ],
      "text/plain": [
       "   도착 시군구 코드  자치구  정류장수  노선수   승차총승객수   하차총승객수     승차평균승객수     하차평균승객수  \\\n",
       "0      11010  종로구   349  106  5468935  5205394  131.889620  125.534028   \n",
       "1      11020   중구   178  103  3776675  3598932  121.020124  115.324511   \n",
       "2      11030  용산구   323   67  4189977  4086474  137.891694  134.485421   \n",
       "3      11040  성동구   435   58  2807280  2746738   96.377369   94.298888   \n",
       "4      11050  광진구   269   41  2749448  2753411  118.352546  118.523137   \n",
       "\n",
       "   평균 이동 시간(분)    이동인구(합)  총 이동 시간       총 이동인구  \n",
       "0    21.867754  46.046219  5471640  11521454.69  \n",
       "1    21.524817  46.214336  5368440  11526178.91  \n",
       "2    21.820458  38.412082  4959790   8731066.25  \n",
       "3    22.150334  44.717847  5139830  10376463.41  \n",
       "4    22.810568  50.043326  5020720  11014786.16  "
      ]
     },
     "execution_count": 18,
     "metadata": {},
     "output_type": "execute_result"
    }
   ],
   "source": [
    "df.head()"
   ]
  },
  {
   "cell_type": "code",
   "execution_count": 19,
   "id": "f30d1f52",
   "metadata": {},
   "outputs": [
    {
     "data": {
      "text/html": [
       "<div>\n",
       "<style scoped>\n",
       "    .dataframe tbody tr th:only-of-type {\n",
       "        vertical-align: middle;\n",
       "    }\n",
       "\n",
       "    .dataframe tbody tr th {\n",
       "        vertical-align: top;\n",
       "    }\n",
       "\n",
       "    .dataframe thead th {\n",
       "        text-align: right;\n",
       "    }\n",
       "</style>\n",
       "<table border=\"1\" class=\"dataframe\">\n",
       "  <thead>\n",
       "    <tr style=\"text-align: right;\">\n",
       "      <th></th>\n",
       "      <th>도착 시군구 코드</th>\n",
       "      <th>정류장수</th>\n",
       "      <th>노선수</th>\n",
       "      <th>승차총승객수</th>\n",
       "      <th>하차총승객수</th>\n",
       "      <th>승차평균승객수</th>\n",
       "      <th>하차평균승객수</th>\n",
       "      <th>평균 이동 시간(분)</th>\n",
       "      <th>이동인구(합)</th>\n",
       "      <th>총 이동 시간</th>\n",
       "      <th>총 이동인구</th>\n",
       "    </tr>\n",
       "  </thead>\n",
       "  <tbody>\n",
       "    <tr>\n",
       "      <th>도착 시군구 코드</th>\n",
       "      <td>1.000000</td>\n",
       "      <td>0.447511</td>\n",
       "      <td>-0.069435</td>\n",
       "      <td>0.440756</td>\n",
       "      <td>0.441705</td>\n",
       "      <td>0.017980</td>\n",
       "      <td>0.029956</td>\n",
       "      <td>0.457965</td>\n",
       "      <td>0.639658</td>\n",
       "      <td>0.276925</td>\n",
       "      <td>0.531874</td>\n",
       "    </tr>\n",
       "    <tr>\n",
       "      <th>정류장수</th>\n",
       "      <td>0.447511</td>\n",
       "      <td>1.000000</td>\n",
       "      <td>0.258798</td>\n",
       "      <td>0.566681</td>\n",
       "      <td>0.578479</td>\n",
       "      <td>-0.135318</td>\n",
       "      <td>-0.099146</td>\n",
       "      <td>0.199466</td>\n",
       "      <td>0.387141</td>\n",
       "      <td>0.359348</td>\n",
       "      <td>0.370605</td>\n",
       "    </tr>\n",
       "    <tr>\n",
       "      <th>노선수</th>\n",
       "      <td>-0.069435</td>\n",
       "      <td>0.258798</td>\n",
       "      <td>1.000000</td>\n",
       "      <td>0.665488</td>\n",
       "      <td>0.652642</td>\n",
       "      <td>0.493541</td>\n",
       "      <td>0.470440</td>\n",
       "      <td>-0.693565</td>\n",
       "      <td>-0.013633</td>\n",
       "      <td>0.360500</td>\n",
       "      <td>0.188197</td>\n",
       "    </tr>\n",
       "    <tr>\n",
       "      <th>승차총승객수</th>\n",
       "      <td>0.440756</td>\n",
       "      <td>0.566681</td>\n",
       "      <td>0.665488</td>\n",
       "      <td>1.000000</td>\n",
       "      <td>0.996610</td>\n",
       "      <td>0.538720</td>\n",
       "      <td>0.547384</td>\n",
       "      <td>-0.146534</td>\n",
       "      <td>0.472734</td>\n",
       "      <td>0.572455</td>\n",
       "      <td>0.568742</td>\n",
       "    </tr>\n",
       "    <tr>\n",
       "      <th>하차총승객수</th>\n",
       "      <td>0.441705</td>\n",
       "      <td>0.578479</td>\n",
       "      <td>0.652642</td>\n",
       "      <td>0.996610</td>\n",
       "      <td>1.000000</td>\n",
       "      <td>0.534826</td>\n",
       "      <td>0.555137</td>\n",
       "      <td>-0.135064</td>\n",
       "      <td>0.460952</td>\n",
       "      <td>0.564608</td>\n",
       "      <td>0.550686</td>\n",
       "    </tr>\n",
       "    <tr>\n",
       "      <th>승차평균승객수</th>\n",
       "      <td>0.017980</td>\n",
       "      <td>-0.135318</td>\n",
       "      <td>0.493541</td>\n",
       "      <td>0.538720</td>\n",
       "      <td>0.534826</td>\n",
       "      <td>1.000000</td>\n",
       "      <td>0.989288</td>\n",
       "      <td>-0.410118</td>\n",
       "      <td>-0.080959</td>\n",
       "      <td>0.124998</td>\n",
       "      <td>0.051692</td>\n",
       "    </tr>\n",
       "    <tr>\n",
       "      <th>하차평균승객수</th>\n",
       "      <td>0.029956</td>\n",
       "      <td>-0.099146</td>\n",
       "      <td>0.470440</td>\n",
       "      <td>0.547384</td>\n",
       "      <td>0.555137</td>\n",
       "      <td>0.989288</td>\n",
       "      <td>1.000000</td>\n",
       "      <td>-0.387490</td>\n",
       "      <td>-0.076575</td>\n",
       "      <td>0.133859</td>\n",
       "      <td>0.045831</td>\n",
       "    </tr>\n",
       "    <tr>\n",
       "      <th>평균 이동 시간(분)</th>\n",
       "      <td>0.457965</td>\n",
       "      <td>0.199466</td>\n",
       "      <td>-0.693565</td>\n",
       "      <td>-0.146534</td>\n",
       "      <td>-0.135064</td>\n",
       "      <td>-0.410118</td>\n",
       "      <td>-0.387490</td>\n",
       "      <td>1.000000</td>\n",
       "      <td>0.360419</td>\n",
       "      <td>-0.125621</td>\n",
       "      <td>0.120281</td>\n",
       "    </tr>\n",
       "    <tr>\n",
       "      <th>이동인구(합)</th>\n",
       "      <td>0.639658</td>\n",
       "      <td>0.387141</td>\n",
       "      <td>-0.013633</td>\n",
       "      <td>0.472734</td>\n",
       "      <td>0.460952</td>\n",
       "      <td>-0.080959</td>\n",
       "      <td>-0.076575</td>\n",
       "      <td>0.360419</td>\n",
       "      <td>1.000000</td>\n",
       "      <td>0.812646</td>\n",
       "      <td>0.963787</td>\n",
       "    </tr>\n",
       "    <tr>\n",
       "      <th>총 이동 시간</th>\n",
       "      <td>0.276925</td>\n",
       "      <td>0.359348</td>\n",
       "      <td>0.360500</td>\n",
       "      <td>0.572455</td>\n",
       "      <td>0.564608</td>\n",
       "      <td>0.124998</td>\n",
       "      <td>0.133859</td>\n",
       "      <td>-0.125621</td>\n",
       "      <td>0.812646</td>\n",
       "      <td>1.000000</td>\n",
       "      <td>0.908128</td>\n",
       "    </tr>\n",
       "    <tr>\n",
       "      <th>총 이동인구</th>\n",
       "      <td>0.531874</td>\n",
       "      <td>0.370605</td>\n",
       "      <td>0.188197</td>\n",
       "      <td>0.568742</td>\n",
       "      <td>0.550686</td>\n",
       "      <td>0.051692</td>\n",
       "      <td>0.045831</td>\n",
       "      <td>0.120281</td>\n",
       "      <td>0.963787</td>\n",
       "      <td>0.908128</td>\n",
       "      <td>1.000000</td>\n",
       "    </tr>\n",
       "  </tbody>\n",
       "</table>\n",
       "</div>"
      ],
      "text/plain": [
       "             도착 시군구 코드      정류장수       노선수    승차총승객수    하차총승객수   승차평균승객수  \\\n",
       "도착 시군구 코드     1.000000  0.447511 -0.069435  0.440756  0.441705  0.017980   \n",
       "정류장수          0.447511  1.000000  0.258798  0.566681  0.578479 -0.135318   \n",
       "노선수          -0.069435  0.258798  1.000000  0.665488  0.652642  0.493541   \n",
       "승차총승객수        0.440756  0.566681  0.665488  1.000000  0.996610  0.538720   \n",
       "하차총승객수        0.441705  0.578479  0.652642  0.996610  1.000000  0.534826   \n",
       "승차평균승객수       0.017980 -0.135318  0.493541  0.538720  0.534826  1.000000   \n",
       "하차평균승객수       0.029956 -0.099146  0.470440  0.547384  0.555137  0.989288   \n",
       "평균 이동 시간(분)   0.457965  0.199466 -0.693565 -0.146534 -0.135064 -0.410118   \n",
       "이동인구(합)       0.639658  0.387141 -0.013633  0.472734  0.460952 -0.080959   \n",
       "총 이동 시간       0.276925  0.359348  0.360500  0.572455  0.564608  0.124998   \n",
       "총 이동인구        0.531874  0.370605  0.188197  0.568742  0.550686  0.051692   \n",
       "\n",
       "              하차평균승객수  평균 이동 시간(분)   이동인구(합)   총 이동 시간    총 이동인구  \n",
       "도착 시군구 코드    0.029956     0.457965  0.639658  0.276925  0.531874  \n",
       "정류장수        -0.099146     0.199466  0.387141  0.359348  0.370605  \n",
       "노선수          0.470440    -0.693565 -0.013633  0.360500  0.188197  \n",
       "승차총승객수       0.547384    -0.146534  0.472734  0.572455  0.568742  \n",
       "하차총승객수       0.555137    -0.135064  0.460952  0.564608  0.550686  \n",
       "승차평균승객수      0.989288    -0.410118 -0.080959  0.124998  0.051692  \n",
       "하차평균승객수      1.000000    -0.387490 -0.076575  0.133859  0.045831  \n",
       "평균 이동 시간(분) -0.387490     1.000000  0.360419 -0.125621  0.120281  \n",
       "이동인구(합)     -0.076575     0.360419  1.000000  0.812646  0.963787  \n",
       "총 이동 시간      0.133859    -0.125621  0.812646  1.000000  0.908128  \n",
       "총 이동인구       0.045831     0.120281  0.963787  0.908128  1.000000  "
      ]
     },
     "execution_count": 19,
     "metadata": {},
     "output_type": "execute_result"
    }
   ],
   "source": [
    "df.corr()"
   ]
  },
  {
   "cell_type": "code",
   "execution_count": 20,
   "id": "9acdfa2e",
   "metadata": {},
   "outputs": [
    {
     "data": {
      "text/plain": [
       "(0.5666813370974586, 0.003141977397117319)"
      ]
     },
     "execution_count": 20,
     "metadata": {},
     "output_type": "execute_result"
    }
   ],
   "source": [
    "# (예시1) 정류장 수와 승차 총 승객수는 관계가 있다.\n",
    "\n",
    "# H0 : 정류장 수와 승차 총 승객수는 연관이 없다.\n",
    "\n",
    "# H1 : 정류장 수와 승차 총 승객수는 연관이 있다.\n",
    "\n",
    "spst.pearsonr(df['정류장수'],df['승차총승객수'])\n",
    "\n",
    "# 강한 양의 상관관계\n",
    "# p-value 0.05 기준  작으면 -> 귀무가설 기각,  크면 -> 대립가설 기각 \n",
    "# 정류장수와 승차총승객수는 상관관계가 있다?\n"
   ]
  },
  {
   "cell_type": "code",
   "execution_count": 21,
   "id": "9956d836",
   "metadata": {},
   "outputs": [
    {
     "data": {
      "text/html": [
       "<div>\n",
       "<style scoped>\n",
       "    .dataframe tbody tr th:only-of-type {\n",
       "        vertical-align: middle;\n",
       "    }\n",
       "\n",
       "    .dataframe tbody tr th {\n",
       "        vertical-align: top;\n",
       "    }\n",
       "\n",
       "    .dataframe thead th {\n",
       "        text-align: right;\n",
       "    }\n",
       "</style>\n",
       "<table border=\"1\" class=\"dataframe\">\n",
       "  <thead>\n",
       "    <tr style=\"text-align: right;\">\n",
       "      <th></th>\n",
       "      <th>도착 시군구 코드</th>\n",
       "      <th>자치구</th>\n",
       "      <th>정류장수</th>\n",
       "      <th>노선수</th>\n",
       "      <th>승차총승객수</th>\n",
       "      <th>하차총승객수</th>\n",
       "      <th>승차평균승객수</th>\n",
       "      <th>하차평균승객수</th>\n",
       "      <th>평균 이동 시간(분)</th>\n",
       "      <th>이동인구(합)</th>\n",
       "      <th>총 이동 시간</th>\n",
       "      <th>총 이동인구</th>\n",
       "      <th>비율1</th>\n",
       "    </tr>\n",
       "  </thead>\n",
       "  <tbody>\n",
       "    <tr>\n",
       "      <th>1</th>\n",
       "      <td>11020</td>\n",
       "      <td>중구</td>\n",
       "      <td>178</td>\n",
       "      <td>103</td>\n",
       "      <td>3776675</td>\n",
       "      <td>3598932</td>\n",
       "      <td>121.020124</td>\n",
       "      <td>115.324511</td>\n",
       "      <td>21.524817</td>\n",
       "      <td>46.214336</td>\n",
       "      <td>5368440</td>\n",
       "      <td>11526178.91</td>\n",
       "      <td>0.471314</td>\n",
       "    </tr>\n",
       "    <tr>\n",
       "      <th>5</th>\n",
       "      <td>11060</td>\n",
       "      <td>동대문구</td>\n",
       "      <td>306</td>\n",
       "      <td>73</td>\n",
       "      <td>5240565</td>\n",
       "      <td>5115379</td>\n",
       "      <td>131.841430</td>\n",
       "      <td>128.692017</td>\n",
       "      <td>22.149241</td>\n",
       "      <td>41.037280</td>\n",
       "      <td>5132710</td>\n",
       "      <td>9509691.96</td>\n",
       "      <td>0.583907</td>\n",
       "    </tr>\n",
       "    <tr>\n",
       "      <th>20</th>\n",
       "      <td>11210</td>\n",
       "      <td>관악구</td>\n",
       "      <td>466</td>\n",
       "      <td>86</td>\n",
       "      <td>7655819</td>\n",
       "      <td>7792476</td>\n",
       "      <td>154.753674</td>\n",
       "      <td>157.516040</td>\n",
       "      <td>23.480725</td>\n",
       "      <td>53.024888</td>\n",
       "      <td>5150450</td>\n",
       "      <td>11630903.18</td>\n",
       "      <td>0.608687</td>\n",
       "    </tr>\n",
       "    <tr>\n",
       "      <th>22</th>\n",
       "      <td>11230</td>\n",
       "      <td>강남구</td>\n",
       "      <td>499</td>\n",
       "      <td>91</td>\n",
       "      <td>8030483</td>\n",
       "      <td>7569213</td>\n",
       "      <td>128.767927</td>\n",
       "      <td>121.371512</td>\n",
       "      <td>23.418794</td>\n",
       "      <td>104.437297</td>\n",
       "      <td>6543820</td>\n",
       "      <td>29182496.02</td>\n",
       "      <td>0.621382</td>\n",
       "    </tr>\n",
       "    <tr>\n",
       "      <th>0</th>\n",
       "      <td>11010</td>\n",
       "      <td>종로구</td>\n",
       "      <td>349</td>\n",
       "      <td>106</td>\n",
       "      <td>5468935</td>\n",
       "      <td>5205394</td>\n",
       "      <td>131.889620</td>\n",
       "      <td>125.534028</td>\n",
       "      <td>21.867754</td>\n",
       "      <td>46.046219</td>\n",
       "      <td>5471640</td>\n",
       "      <td>11521454.69</td>\n",
       "      <td>0.638150</td>\n",
       "    </tr>\n",
       "    <tr>\n",
       "      <th>23</th>\n",
       "      <td>11240</td>\n",
       "      <td>송파구</td>\n",
       "      <td>415</td>\n",
       "      <td>55</td>\n",
       "      <td>5641742</td>\n",
       "      <td>5603488</td>\n",
       "      <td>114.270072</td>\n",
       "      <td>113.495260</td>\n",
       "      <td>25.735699</td>\n",
       "      <td>94.938240</td>\n",
       "      <td>6234190</td>\n",
       "      <td>22997744.29</td>\n",
       "      <td>0.735588</td>\n",
       "    </tr>\n",
       "    <tr>\n",
       "      <th>2</th>\n",
       "      <td>11030</td>\n",
       "      <td>용산구</td>\n",
       "      <td>323</td>\n",
       "      <td>67</td>\n",
       "      <td>4189977</td>\n",
       "      <td>4086474</td>\n",
       "      <td>137.891694</td>\n",
       "      <td>134.485421</td>\n",
       "      <td>21.820458</td>\n",
       "      <td>38.412082</td>\n",
       "      <td>4959790</td>\n",
       "      <td>8731066.25</td>\n",
       "      <td>0.770887</td>\n",
       "    </tr>\n",
       "    <tr>\n",
       "      <th>12</th>\n",
       "      <td>11130</td>\n",
       "      <td>서대문구</td>\n",
       "      <td>456</td>\n",
       "      <td>107</td>\n",
       "      <td>5863499</td>\n",
       "      <td>5796960</td>\n",
       "      <td>109.914502</td>\n",
       "      <td>108.667192</td>\n",
       "      <td>22.411314</td>\n",
       "      <td>46.134844</td>\n",
       "      <td>4952990</td>\n",
       "      <td>10195984.99</td>\n",
       "      <td>0.777693</td>\n",
       "    </tr>\n",
       "    <tr>\n",
       "      <th>14</th>\n",
       "      <td>11150</td>\n",
       "      <td>양천구</td>\n",
       "      <td>319</td>\n",
       "      <td>56</td>\n",
       "      <td>4009172</td>\n",
       "      <td>3851173</td>\n",
       "      <td>97.627526</td>\n",
       "      <td>93.780086</td>\n",
       "      <td>23.209394</td>\n",
       "      <td>49.140477</td>\n",
       "      <td>4383860</td>\n",
       "      <td>9281800.65</td>\n",
       "      <td>0.795676</td>\n",
       "    </tr>\n",
       "    <tr>\n",
       "      <th>18</th>\n",
       "      <td>11190</td>\n",
       "      <td>영등포구</td>\n",
       "      <td>465</td>\n",
       "      <td>101</td>\n",
       "      <td>5739875</td>\n",
       "      <td>5783211</td>\n",
       "      <td>120.337855</td>\n",
       "      <td>121.246404</td>\n",
       "      <td>21.745571</td>\n",
       "      <td>61.736901</td>\n",
       "      <td>5525180</td>\n",
       "      <td>15686297.00</td>\n",
       "      <td>0.810122</td>\n",
       "    </tr>\n",
       "    <tr>\n",
       "      <th>19</th>\n",
       "      <td>11200</td>\n",
       "      <td>동작구</td>\n",
       "      <td>438</td>\n",
       "      <td>94</td>\n",
       "      <td>5314274</td>\n",
       "      <td>5112276</td>\n",
       "      <td>124.295965</td>\n",
       "      <td>119.571419</td>\n",
       "      <td>22.059056</td>\n",
       "      <td>45.116262</td>\n",
       "      <td>4944030</td>\n",
       "      <td>10111772.37</td>\n",
       "      <td>0.824195</td>\n",
       "    </tr>\n",
       "    <tr>\n",
       "      <th>21</th>\n",
       "      <td>11220</td>\n",
       "      <td>서초구</td>\n",
       "      <td>600</td>\n",
       "      <td>93</td>\n",
       "      <td>7221330</td>\n",
       "      <td>6977950</td>\n",
       "      <td>126.687777</td>\n",
       "      <td>122.418028</td>\n",
       "      <td>23.119681</td>\n",
       "      <td>72.512790</td>\n",
       "      <td>5944440</td>\n",
       "      <td>18644198.64</td>\n",
       "      <td>0.830872</td>\n",
       "    </tr>\n",
       "    <tr>\n",
       "      <th>8</th>\n",
       "      <td>11090</td>\n",
       "      <td>강북구</td>\n",
       "      <td>413</td>\n",
       "      <td>67</td>\n",
       "      <td>4825181</td>\n",
       "      <td>4671783</td>\n",
       "      <td>133.020373</td>\n",
       "      <td>128.791504</td>\n",
       "      <td>24.355289</td>\n",
       "      <td>42.216319</td>\n",
       "      <td>4458260</td>\n",
       "      <td>7727739.40</td>\n",
       "      <td>0.855926</td>\n",
       "    </tr>\n",
       "    <tr>\n",
       "      <th>17</th>\n",
       "      <td>11180</td>\n",
       "      <td>금천구</td>\n",
       "      <td>345</td>\n",
       "      <td>58</td>\n",
       "      <td>3776658</td>\n",
       "      <td>3581930</td>\n",
       "      <td>123.098370</td>\n",
       "      <td>116.751304</td>\n",
       "      <td>24.283819</td>\n",
       "      <td>32.821422</td>\n",
       "      <td>3789660</td>\n",
       "      <td>5122012.58</td>\n",
       "      <td>0.913506</td>\n",
       "    </tr>\n",
       "    <tr>\n",
       "      <th>11</th>\n",
       "      <td>11120</td>\n",
       "      <td>은평구</td>\n",
       "      <td>501</td>\n",
       "      <td>71</td>\n",
       "      <td>5201660</td>\n",
       "      <td>5122499</td>\n",
       "      <td>106.395173</td>\n",
       "      <td>104.776007</td>\n",
       "      <td>24.993078</td>\n",
       "      <td>55.018153</td>\n",
       "      <td>4748160</td>\n",
       "      <td>10452293.76</td>\n",
       "      <td>0.963154</td>\n",
       "    </tr>\n",
       "    <tr>\n",
       "      <th>7</th>\n",
       "      <td>11080</td>\n",
       "      <td>성북구</td>\n",
       "      <td>602</td>\n",
       "      <td>99</td>\n",
       "      <td>6236424</td>\n",
       "      <td>6231238</td>\n",
       "      <td>123.251922</td>\n",
       "      <td>123.149430</td>\n",
       "      <td>22.716321</td>\n",
       "      <td>48.931749</td>\n",
       "      <td>5232500</td>\n",
       "      <td>11270988.10</td>\n",
       "      <td>0.965297</td>\n",
       "    </tr>\n",
       "    <tr>\n",
       "      <th>4</th>\n",
       "      <td>11050</td>\n",
       "      <td>광진구</td>\n",
       "      <td>269</td>\n",
       "      <td>41</td>\n",
       "      <td>2749448</td>\n",
       "      <td>2753411</td>\n",
       "      <td>118.352546</td>\n",
       "      <td>118.523137</td>\n",
       "      <td>22.810568</td>\n",
       "      <td>50.043326</td>\n",
       "      <td>5020720</td>\n",
       "      <td>11014786.16</td>\n",
       "      <td>0.978378</td>\n",
       "    </tr>\n",
       "    <tr>\n",
       "      <th>16</th>\n",
       "      <td>11170</td>\n",
       "      <td>구로구</td>\n",
       "      <td>486</td>\n",
       "      <td>79</td>\n",
       "      <td>4942197</td>\n",
       "      <td>4730992</td>\n",
       "      <td>119.235615</td>\n",
       "      <td>114.140076</td>\n",
       "      <td>23.162536</td>\n",
       "      <td>45.008292</td>\n",
       "      <td>4717560</td>\n",
       "      <td>9166928.80</td>\n",
       "      <td>0.983368</td>\n",
       "    </tr>\n",
       "    <tr>\n",
       "      <th>6</th>\n",
       "      <td>11070</td>\n",
       "      <td>중랑구</td>\n",
       "      <td>380</td>\n",
       "      <td>48</td>\n",
       "      <td>3792541</td>\n",
       "      <td>3740923</td>\n",
       "      <td>87.403863</td>\n",
       "      <td>86.214261</td>\n",
       "      <td>23.887741</td>\n",
       "      <td>43.639157</td>\n",
       "      <td>4635870</td>\n",
       "      <td>8469007.57</td>\n",
       "      <td>1.001967</td>\n",
       "    </tr>\n",
       "    <tr>\n",
       "      <th>9</th>\n",
       "      <td>11100</td>\n",
       "      <td>도봉구</td>\n",
       "      <td>359</td>\n",
       "      <td>46</td>\n",
       "      <td>3304305</td>\n",
       "      <td>3211421</td>\n",
       "      <td>106.859356</td>\n",
       "      <td>103.855540</td>\n",
       "      <td>25.138206</td>\n",
       "      <td>40.194257</td>\n",
       "      <td>4086140</td>\n",
       "      <td>6533455.94</td>\n",
       "      <td>1.086461</td>\n",
       "    </tr>\n",
       "    <tr>\n",
       "      <th>13</th>\n",
       "      <td>11140</td>\n",
       "      <td>마포구</td>\n",
       "      <td>562</td>\n",
       "      <td>97</td>\n",
       "      <td>5088461</td>\n",
       "      <td>4957596</td>\n",
       "      <td>103.907639</td>\n",
       "      <td>101.235343</td>\n",
       "      <td>22.307964</td>\n",
       "      <td>60.518839</td>\n",
       "      <td>5557360</td>\n",
       "      <td>15076453.22</td>\n",
       "      <td>1.104460</td>\n",
       "    </tr>\n",
       "    <tr>\n",
       "      <th>10</th>\n",
       "      <td>11110</td>\n",
       "      <td>노원구</td>\n",
       "      <td>514</td>\n",
       "      <td>57</td>\n",
       "      <td>4353295</td>\n",
       "      <td>4292724</td>\n",
       "      <td>88.476211</td>\n",
       "      <td>87.245168</td>\n",
       "      <td>24.662041</td>\n",
       "      <td>59.026631</td>\n",
       "      <td>5235480</td>\n",
       "      <td>12530704.48</td>\n",
       "      <td>1.180715</td>\n",
       "    </tr>\n",
       "    <tr>\n",
       "      <th>15</th>\n",
       "      <td>11160</td>\n",
       "      <td>강서구</td>\n",
       "      <td>566</td>\n",
       "      <td>49</td>\n",
       "      <td>4681083</td>\n",
       "      <td>4652828</td>\n",
       "      <td>88.119480</td>\n",
       "      <td>87.587591</td>\n",
       "      <td>25.520396</td>\n",
       "      <td>65.157973</td>\n",
       "      <td>5486630</td>\n",
       "      <td>14008312.51</td>\n",
       "      <td>1.209122</td>\n",
       "    </tr>\n",
       "    <tr>\n",
       "      <th>24</th>\n",
       "      <td>11250</td>\n",
       "      <td>강동구</td>\n",
       "      <td>369</td>\n",
       "      <td>21</td>\n",
       "      <td>2890053</td>\n",
       "      <td>2830506</td>\n",
       "      <td>99.161194</td>\n",
       "      <td>97.118065</td>\n",
       "      <td>25.931701</td>\n",
       "      <td>73.450836</td>\n",
       "      <td>5082380</td>\n",
       "      <td>14395702.78</td>\n",
       "      <td>1.276793</td>\n",
       "    </tr>\n",
       "    <tr>\n",
       "      <th>3</th>\n",
       "      <td>11040</td>\n",
       "      <td>성동구</td>\n",
       "      <td>435</td>\n",
       "      <td>58</td>\n",
       "      <td>2807280</td>\n",
       "      <td>2746738</td>\n",
       "      <td>96.377369</td>\n",
       "      <td>94.298888</td>\n",
       "      <td>22.150334</td>\n",
       "      <td>44.717847</td>\n",
       "      <td>5139830</td>\n",
       "      <td>10376463.41</td>\n",
       "      <td>1.549543</td>\n",
       "    </tr>\n",
       "  </tbody>\n",
       "</table>\n",
       "</div>"
      ],
      "text/plain": [
       "    도착 시군구 코드   자치구  정류장수  노선수   승차총승객수   하차총승객수     승차평균승객수     하차평균승객수  \\\n",
       "1       11020    중구   178  103  3776675  3598932  121.020124  115.324511   \n",
       "5       11060  동대문구   306   73  5240565  5115379  131.841430  128.692017   \n",
       "20      11210   관악구   466   86  7655819  7792476  154.753674  157.516040   \n",
       "22      11230   강남구   499   91  8030483  7569213  128.767927  121.371512   \n",
       "0       11010   종로구   349  106  5468935  5205394  131.889620  125.534028   \n",
       "23      11240   송파구   415   55  5641742  5603488  114.270072  113.495260   \n",
       "2       11030   용산구   323   67  4189977  4086474  137.891694  134.485421   \n",
       "12      11130  서대문구   456  107  5863499  5796960  109.914502  108.667192   \n",
       "14      11150   양천구   319   56  4009172  3851173   97.627526   93.780086   \n",
       "18      11190  영등포구   465  101  5739875  5783211  120.337855  121.246404   \n",
       "19      11200   동작구   438   94  5314274  5112276  124.295965  119.571419   \n",
       "21      11220   서초구   600   93  7221330  6977950  126.687777  122.418028   \n",
       "8       11090   강북구   413   67  4825181  4671783  133.020373  128.791504   \n",
       "17      11180   금천구   345   58  3776658  3581930  123.098370  116.751304   \n",
       "11      11120   은평구   501   71  5201660  5122499  106.395173  104.776007   \n",
       "7       11080   성북구   602   99  6236424  6231238  123.251922  123.149430   \n",
       "4       11050   광진구   269   41  2749448  2753411  118.352546  118.523137   \n",
       "16      11170   구로구   486   79  4942197  4730992  119.235615  114.140076   \n",
       "6       11070   중랑구   380   48  3792541  3740923   87.403863   86.214261   \n",
       "9       11100   도봉구   359   46  3304305  3211421  106.859356  103.855540   \n",
       "13      11140   마포구   562   97  5088461  4957596  103.907639  101.235343   \n",
       "10      11110   노원구   514   57  4353295  4292724   88.476211   87.245168   \n",
       "15      11160   강서구   566   49  4681083  4652828   88.119480   87.587591   \n",
       "24      11250   강동구   369   21  2890053  2830506   99.161194   97.118065   \n",
       "3       11040   성동구   435   58  2807280  2746738   96.377369   94.298888   \n",
       "\n",
       "    평균 이동 시간(분)     이동인구(합)  총 이동 시간       총 이동인구       비율1  \n",
       "1     21.524817   46.214336  5368440  11526178.91  0.471314  \n",
       "5     22.149241   41.037280  5132710   9509691.96  0.583907  \n",
       "20    23.480725   53.024888  5150450  11630903.18  0.608687  \n",
       "22    23.418794  104.437297  6543820  29182496.02  0.621382  \n",
       "0     21.867754   46.046219  5471640  11521454.69  0.638150  \n",
       "23    25.735699   94.938240  6234190  22997744.29  0.735588  \n",
       "2     21.820458   38.412082  4959790   8731066.25  0.770887  \n",
       "12    22.411314   46.134844  4952990  10195984.99  0.777693  \n",
       "14    23.209394   49.140477  4383860   9281800.65  0.795676  \n",
       "18    21.745571   61.736901  5525180  15686297.00  0.810122  \n",
       "19    22.059056   45.116262  4944030  10111772.37  0.824195  \n",
       "21    23.119681   72.512790  5944440  18644198.64  0.830872  \n",
       "8     24.355289   42.216319  4458260   7727739.40  0.855926  \n",
       "17    24.283819   32.821422  3789660   5122012.58  0.913506  \n",
       "11    24.993078   55.018153  4748160  10452293.76  0.963154  \n",
       "7     22.716321   48.931749  5232500  11270988.10  0.965297  \n",
       "4     22.810568   50.043326  5020720  11014786.16  0.978378  \n",
       "16    23.162536   45.008292  4717560   9166928.80  0.983368  \n",
       "6     23.887741   43.639157  4635870   8469007.57  1.001967  \n",
       "9     25.138206   40.194257  4086140   6533455.94  1.086461  \n",
       "13    22.307964   60.518839  5557360  15076453.22  1.104460  \n",
       "10    24.662041   59.026631  5235480  12530704.48  1.180715  \n",
       "15    25.520396   65.157973  5486630  14008312.51  1.209122  \n",
       "24    25.931701   73.450836  5082380  14395702.78  1.276793  \n",
       "3     22.150334   44.717847  5139830  10376463.41  1.549543  "
      ]
     },
     "execution_count": 21,
     "metadata": {},
     "output_type": "execute_result"
    }
   ],
   "source": [
    "df['비율1'] = df['정류장수'] / df['승차총승객수'] * 10000\n",
    "df.sort_values(by=['비율1'])"
   ]
  },
  {
   "cell_type": "code",
   "execution_count": 22,
   "id": "3c3634ff",
   "metadata": {},
   "outputs": [
    {
     "data": {
      "text/plain": [
       "(0.36050005327355333, 0.07667781622760951)"
      ]
     },
     "execution_count": 22,
     "metadata": {},
     "output_type": "execute_result"
    }
   ],
   "source": [
    "# (예시2) 노선 수와 총 이동시간은 관계가 있다.\n",
    "\n",
    "# H0 : 노선 수와 총 이동시간은 연관이 없다.\n",
    "\n",
    "# H1 : 노선 수와 총 이동시간은 연관이 있다.\n",
    "\n",
    "spst.pearsonr(df['노선수'],df['총 이동 시간'])\n",
    "\n",
    "# 중간 양의 상관관계\n",
    "# p-value 0.05 기준  작으면 -> 귀무가설 기각,  크면 -> 대립가설 기각 \n",
    "# 노선수와 총 이동 시간은 상관관계가 있다?"
   ]
  },
  {
   "cell_type": "markdown",
   "id": "b2edf769",
   "metadata": {},
   "source": [
    "## 1.가설 수립 \n",
    "+ 어떤 데이터를 label 데이터로 하실 건가요?\n",
    "\n",
    "    ? 정해진게 없나요? - 네 라벨을 조별로 고민하셔서 라벨데이터를 설정하시면 되겠습니다\n",
    "\n",
    "\n",
    "    ? 가설마다 라벨데이터가 달라도 상관없나요? 네 그렇습니다\n",
    "\n",
    "\n",
    "    ? 가설은 3개만 해야하나요? 그 이상 하셔도 무방합니다\n",
    "\n",
    "## 가설을 설정해 봅시다 (조당 최소 3개) \n",
    "- 미니프로젝트 진행의 편의상 가설은 이변량 분석을 염두에 두고 설정해 주세요"
   ]
  },
  {
   "cell_type": "markdown",
   "id": "b3d42e07",
   "metadata": {},
   "source": [
    "* 가설 1\n",
    "\n",
    "노선 수가 적을 수록 평균 이동 시간(분)이 길 것이다."
   ]
  },
  {
   "cell_type": "markdown",
   "id": "4fd1db81",
   "metadata": {},
   "source": [
    "* 가설 2\n",
    "\n",
    "step1. 총 이동인구와 총하차인원을 통해 이동수단으로서의 버스 수요를 알 수 있지 않을까.\n",
    "\n",
    "step2. 버스 수요가 충분하다면(하차인원이 많다면) 그 만큼 버스 인프라(정류장, 노선(버스종류))가 갖춰져 있지 않을까.\n",
    "\n",
    "수요는 많은데 그만한 인프라가 안 갖춰져있는 자치구 찾기\n"
   ]
  },
  {
   "cell_type": "markdown",
   "id": "e527bc75",
   "metadata": {},
   "source": [
    "* 가설 3\n",
    "\n",
    "출근(HW), 퇴근(WH) 시간대에는 승, 하차 평균 수 증가할 것이다."
   ]
  },
  {
   "cell_type": "markdown",
   "id": "6aa7b930",
   "metadata": {},
   "source": [
    "## 2.단변량 분석 \n",
    "(조별로 3개 정도의 변수만 진행해주세요)\n",
    "\n",
    "+ 변수의 의미  \n",
    "\n",
    "+ 숫자? 범주?\n",
    "\n",
    "+ 전처리 사항\n",
    "   - NaN 존재 여부 및 조치 방안  \n",
    "   - 가변수화 대상여부  \n",
    "   \n",
    "+ 기초통계량\n",
    "\n",
    "+ 분포  \n",
    "\n",
    "+ 위 정보로부터 파악한 내용 정리  \n",
    "\n",
    "+ 추가 분석해볼 사항 도출"
   ]
  },
  {
   "cell_type": "code",
   "execution_count": 23,
   "id": "b62009a9",
   "metadata": {},
   "outputs": [],
   "source": [
    "# 시각화 한글폰트 설정\n",
    "import seaborn as sns\n",
    "import matplotlib.pyplot as plt\n",
    "\n",
    "# 로컬에서 사용하신다면 맑은 고딕\n",
    "\n",
    "plt.rc('font', family='Malgun Gothic')\n",
    "sns.set(font=\"Malgun Gothic\",#\"NanumGothicCoding\",\n",
    "        rc={\"axes.unicode_minus\":False}, # 마이너스 부호 깨짐 현상 해결\n",
    "        style='darkgrid')\n",
    "\n",
    "# AIDU에서 사용하신다면 나눔 고딕\n",
    "\n",
    "# plt.rc('font', family='nanum')\n",
    "# sns.set(font=\"NanumGothicCoding\",#\"NanumGothicCoding\",\n",
    "#         rc={\"axes.unicode_minus\":False}, # 마이너스 부호 깨짐 현상 해결\n",
    "#         style='darkgrid')\n",
    "\n",
    "# scipy\n",
    "import scipy.stats as spst"
   ]
  },
  {
   "cell_type": "code",
   "execution_count": 24,
   "id": "39ef5d0f",
   "metadata": {
    "pycharm": {
     "name": "#%%\n"
    }
   },
   "outputs": [
    {
     "data": {
<<<<<<< HEAD
      "text/plain": [
       "<matplotlib.collections.PathCollection at 0x169ba0a30>"
      ]
=======
      "text/plain": "<matplotlib.collections.PathCollection at 0x2a1a0bfd0>"
>>>>>>> b29a051e1f8f823543dcfa2673d6dccc3b9dc18a
     },
     "execution_count": 24,
     "metadata": {},
     "output_type": "execute_result"
    },
    {
     "data": {
<<<<<<< HEAD
      "image/png": "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",
      "text/plain": [
       "<Figure size 432x288 with 1 Axes>"
      ]
=======
      "text/plain": "<Figure size 432x288 with 1 Axes>",
      "image/png": "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\n"
>>>>>>> b29a051e1f8f823543dcfa2673d6dccc3b9dc18a
     },
     "metadata": {},
     "output_type": "display_data"
    }
   ],
   "source": [
    "# plt.figure(figsize=(20,16))\n",
    "plt.scatter('평균 이동 시간(분)', '노선수', data = df)"
   ]
  },
  {
   "cell_type": "markdown",
   "id": "a4e3ec6e",
   "metadata": {},
   "source": [
    "### 1)\n",
    "대립가설 : 평균이동시간이 늘어날 수록 노선 수가 줄어든다\n",
    "귀무가설 : 평균 이동시간이 길어질수록 노선 수는 증가한다"
   ]
  },
  {
   "cell_type": "code",
   "execution_count": 25,
   "metadata": {
    "collapsed": false,
    "pycharm": {
     "name": "#%%\n"
    }
   },
   "outputs": [
    {
     "data": {
      "text/plain": [
       "(-0.6935652960828838, 0.00012083974762338667)"
      ]
     },
     "execution_count": 25,
     "metadata": {},
     "output_type": "execute_result"
    }
   ],
   "source": [
    "spst.pearsonr(df['노선수'],df['평균 이동 시간(분)'])"
   ]
  },
  {
   "cell_type": "markdown",
   "metadata": {
    "collapsed": false
   },
   "source": [
    "### 2)\n",
    "노선수와 평균 이동시간(분)은 피어슨 상관계수값이 -0.69로 절댒갑이 0.5 이상임으로 두 변수는 강한 상관관계를 가짐을 알 수 있다\n",
    "p-value 가 0.00012으로 0에 가까워 귀무 가설이 맞다고 받아질 확률이 적음으로 대립가설이 맞을 확률이 높다\n",
    "\n",
    ">> 평균 이동시간이 길어질수록 노선 수는 줄어든다\n",
    ">> 즉 평균 이동시간이 가장 긴 강동구의 노선수를 증가시켜야한다"
   ]
  },
  {
   "cell_type": "code",
   "execution_count": 26,
   "metadata": {
    "collapsed": false,
    "pycharm": {
     "name": "#%%\n"
    }
   },
   "outputs": [
    {
     "name": "stderr",
     "output_type": "stream",
     "text": [
      "/Users/cyeongy/opt/anaconda3/envs/kt-aivle/lib/python3.8/site-packages/seaborn/_decorators.py:36: FutureWarning: Pass the following variables as keyword args: x, y. From version 0.12, the only valid positional argument will be `data`, and passing other arguments without an explicit keyword will result in an error or misinterpretation.\n",
      "  warnings.warn(\n"
     ]
    },
    {
     "data": {
      "text/plain": [
       "<AxesSubplot:xlabel='자치구', ylabel='평균 이동 시간(분)'>"
      ]
     },
     "execution_count": 26,
     "metadata": {},
     "output_type": "execute_result"
    },
    {
     "data": {
<<<<<<< HEAD
      "image/png": "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",
      "text/plain": [
       "<Figure size 1440x288 with 1 Axes>"
      ]
=======
      "text/plain": "<Figure size 1440x288 with 1 Axes>",
      "image/png": "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\n"
>>>>>>> b29a051e1f8f823543dcfa2673d6dccc3b9dc18a
     },
     "metadata": {},
     "output_type": "display_data"
    }
   ],
   "source": [
    "plt.figure(figsize=(20,4))\n",
    "\n",
    "sns.barplot('자치구', '평균 이동 시간(분)', data = df)"
   ]
  },
  {
   "cell_type": "code",
   "execution_count": 27,
   "metadata": {
    "collapsed": false,
    "pycharm": {
     "name": "#%%\n"
    }
   },
   "outputs": [
    {
     "data": {
      "text/html": [
       "<div>\n",
       "<style scoped>\n",
       "    .dataframe tbody tr th:only-of-type {\n",
       "        vertical-align: middle;\n",
       "    }\n",
       "\n",
       "    .dataframe tbody tr th {\n",
       "        vertical-align: top;\n",
       "    }\n",
       "\n",
       "    .dataframe thead th {\n",
       "        text-align: right;\n",
       "    }\n",
       "</style>\n",
       "<table border=\"1\" class=\"dataframe\">\n",
       "  <thead>\n",
       "    <tr style=\"text-align: right;\">\n",
       "      <th></th>\n",
       "      <th>평균 이동 시간(분)</th>\n",
       "      <th>자치구</th>\n",
       "    </tr>\n",
       "  </thead>\n",
       "  <tbody>\n",
       "    <tr>\n",
       "      <th>24</th>\n",
       "      <td>25.931701</td>\n",
       "      <td>강동구</td>\n",
       "    </tr>\n",
       "  </tbody>\n",
       "</table>\n",
       "</div>"
      ],
      "text/plain": [
       "    평균 이동 시간(분)  자치구\n",
       "24    25.931701  강동구"
      ]
     },
     "execution_count": 27,
     "metadata": {},
     "output_type": "execute_result"
    }
   ],
   "source": [
    "df[['평균 이동 시간(분)','자치구']].sort_values(by='평균 이동 시간(분)', ascending=False).head(1)"
   ]
  },
  {
   "cell_type": "markdown",
   "id": "a7193abc",
   "metadata": {},
   "source": [
    "\n",
    "### 3)"
   ]
  },
  {
   "cell_type": "markdown",
   "id": "ac81d719",
   "metadata": {},
   "source": [
    "## 3.이변량 분석\n",
    "\n",
    "* 자료의 종류에 맞게 X --> Y 에 대해서 그래프(시각화)와 가설검정(수치화)를 수행하고 결과를 평가합니다.\n",
    "\n",
    "* 가설검정시 다음의 항목을 참조하여 수행합니다.\n",
    "    * 유의수준 : 5%\n",
    "    * 숫자 --> 숫자 : 상관분석\n",
    "    * 범주 --> 범주 : 카이제곱검정\n",
    "    * 범주 --> 숫자 : t검정, 분산분석\n",
    "    * 숫자 --> 범주 : 로지스틱 회귀모형을 통해, 회귀계수의 P.value로 검정을 수행합니다.\n"
   ]
  },
  {
   "cell_type": "markdown",
   "id": "a1ef2391",
   "metadata": {},
   "source": [
    "### 1)"
   ]
  },
  {
   "cell_type": "markdown",
   "id": "9a7f6c08",
   "metadata": {},
   "source": [
    "### 2)"
   ]
  },
  {
   "cell_type": "markdown",
   "id": "3e09f869",
   "metadata": {},
   "source": [
    "\n",
    "## Seoul_Moving"
   ]
  },
  {
   "cell_type": "code",
   "execution_count": 28,
   "metadata": {
    "collapsed": false,
    "pycharm": {
     "name": "#%%\n"
    }
   },
   "outputs": [],
   "source": [
    "seoul_moving = pd.read_csv('1.2 seoul_moving_month_4.csv',sep=\",\", index_col = 0, encoding = 'UTF-8')\n",
    "seoul_moving.replace(\"*\",\"1.5\", inplace= True)\n",
    "seoul_moving = seoul_moving.astype({'이동인구(합)':'float'})\n",
    "seoul_moving = seoul_moving[(seoul_moving[\"출발 시군구 코드\"] < 20000) & (seoul_moving[\"도착 시군구 코드\"] < 20000)]\n",
    "\n",
    "index = seoul_moving[seoul_moving['도착시간'] <=4].index\n",
    "seoul_moving.drop(index, inplace=True)\n",
    "seoul_moving.reset_index(drop=True, inplace=True)\n",
    "\n",
    "df_time_mean = seoul_moving.groupby(by=['도착 시군구 코드', '요일'], as_index=False)['평균 이동 시간(분)'].mean()\n",
    "df_pop_sum = seoul_moving.groupby(by=['도착 시군구 코드', '요일'], as_index=False)['이동인구(합)'].sum()\n",
    "df_pop_sum.rename(columns={'이동인구(합)':'총 이동인구'},inplace=True)\n",
    "\n",
    "df_seoul_moving = pd.merge(df_time_mean,df_pop_sum,how='inner', on=['도착 시군구 코드', '요일'])\n",
    "df_seoul_moving.to_csv(\"df_seoul_moving_jong.csv\", index = False)"
   ]
  },
  {
   "cell_type": "markdown",
   "metadata": {
    "collapsed": false
   },
   "source": [
    "## Seoul_Bus_Station"
   ]
  },
  {
   "cell_type": "code",
   "execution_count": 29,
   "metadata": {
    "collapsed": false,
    "pycharm": {
     "name": "#%%\n"
    }
   },
   "outputs": [],
   "source": [
    "bus_station = pd.read_csv('1.1 BUS_STATION_BOARDING_MONTH_202204.csv', sep=\",\", encoding = \"cp949\")\n",
    "bus_station['자치구'] = bus_station[\"버스정류장ARS번호\"].str.slice(start=0, stop=2)\n",
    "bus_station['자치구'] = bus_station['자치구'].map({'01': '종로구',\n",
    "    '02': '중구',\n",
    "    '03': '용산구',\n",
    "    '04': '성동구',\n",
    "    '05': '광진구',\n",
    "    '06': '동대문구',\n",
    "    '07': '중랑구',\n",
    "    '08': '성북구',\n",
    "    '09': '강북구',\n",
    "    '10': '도봉구',\n",
    "    '11': '노원구',\n",
    "    '12': '은평구',\n",
    "    '13': '서대문구',\n",
    "    '14': '마포구',\n",
    "    '15': '양천구',\n",
    "    '16': '강서구',\n",
    "    '17': '구로구',\n",
    "    '18': '금천구',\n",
    "    '19': '영등포구',\n",
    "    '20': '동작구',\n",
    "    '21': '관악구',\n",
    "    '22': '서초구',\n",
    "    '23': '강남구',\n",
    "    '24': '송파구',\n",
    "    '25': '강동구'})\n",
    "\n",
    "bus_station = bus_station.dropna()\n",
    "bus_station = bus_station.astype({\"버스정류장ARS번호\":'int'})\n",
    "bus_station_count = bus_station.groupby(\"자치구\")[\"버스정류장ARS번호\"].nunique()\n",
    "only_seoul = pd.read_csv('1.1 bus_station.csv', sep=\",\", encoding = \"UTF-8\")\n",
    "only_seoul.rename(columns={'ARS-ID':'버스정류장ARS번호'}, inplace=True)\n",
    "df = pd.merge(only_seoul,bus_station,how='inner', on='버스정류장ARS번호')\n",
    "\n",
    "seoul_bus_station_ARS = df.groupby(by=[\"자치구\"], as_index=False)[\"버스정류장ARS번호\"].nunique()\n",
    "seoul_bus_station_line = df.groupby(by=[\"자치구\"], as_index=False)[\"노선번호\"].nunique()\n",
    "seoul_bus_station_sum = df.groupby(by=[\"자치구\", \"사용일자\"], as_index=False)[\"하차총승객수\"].sum()\n",
    "a = pd.merge(seoul_bus_station_ARS,seoul_bus_station_line,how='inner', on='자치구')\n",
    "seoul_bus_station = pd.merge(a,seoul_bus_station_sum,how='inner', on='자치구')\n",
    "seoul_bus_station.rename(columns={'버스정류장ARS번호':'정류장수','노선번호':'노선수'}, inplace=True)\n",
    "\n",
    "seoul_bus_station['요일'] = ''\n",
    "\n",
    "for i in range(20220401, 20220431):\n",
    "    if (i - 20220401)%7==0:\n",
    "        seoul_bus_station.loc[seoul_bus_station['사용일자']==i, '요일'] = '금'\n",
    "    if (i - 20220401)%7==1:\n",
    "        seoul_bus_station.loc[seoul_bus_station['사용일자']==i, '요일'] = '토'\n",
    "    if (i - 20220401)%7==2:\n",
    "        seoul_bus_station.loc[seoul_bus_station['사용일자']==i, '요일'] = '일'\n",
    "    if (i - 20220401)%7==3:\n",
    "        seoul_bus_station.loc[seoul_bus_station['사용일자']==i, '요일'] = '월'\n",
    "    if (i - 20220401)%7==4:\n",
    "        seoul_bus_station.loc[seoul_bus_station['사용일자']==i, '요일'] = '화'\n",
    "    if (i - 20220401)%7==5:\n",
    "        seoul_bus_station.loc[seoul_bus_station['사용일자']==i, '요일'] = '수'\n",
    "    if (i - 20220401)%7==6:\n",
    "        seoul_bus_station.loc[seoul_bus_station['사용일자']==i, '요일'] = '목'\n",
    "\n",
    "seoul_bus_station.to_csv(\"df_seoul_bus_station_jong.csv\", index = False)"
   ]
  },
  {
   "cell_type": "markdown",
   "metadata": {
    "collapsed": false
   },
   "source": [
    "## STEP 1 : 구에 유입하는 인구 와 버스에서 내리는 인구\n",
    "총 이동인구와 하차총승객수는 관계가 있을 것이다. 관계가 있다면, 자치구 유입 시 이동수단으로서 버스의 수요를 알 수 있다."
   ]
  },
  {
   "cell_type": "code",
   "execution_count": 30,
   "metadata": {
    "collapsed": false,
    "pycharm": {
     "name": "#%%\n"
    }
   },
   "outputs": [
    {
     "data": {
<<<<<<< HEAD
      "image/png": "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",
      "text/plain": [
       "<Figure size 432x432 with 3 Axes>"
      ]
=======
      "text/plain": "<Figure size 432x432 with 3 Axes>",
      "image/png": "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\n"
>>>>>>> b29a051e1f8f823543dcfa2673d6dccc3b9dc18a
     },
     "metadata": {},
     "output_type": "display_data"
    }
   ],
   "source": [
    "import pandas as pd\n",
    "import numpy as np\n",
    "\n",
    "import matplotlib.pyplot as plt\n",
    "import seaborn as sns\n",
    "import scipy.stats as spst\n",
    "\n",
    "standard = pd.DataFrame({'도착 시군구 코드': [11010, 11020, 11030, 11040, 11050, 11060, 11070, 11080, 11090, 11100, 11110, 11120, 11130, 11140, 11150, 11160, 11170, 11180, 11190, 11200, 11210, 11220, 11230, 11240, 11250],\n",
    "                         '자치구' :['종로구','중구','용산구','성동구','광진구','동대문구','중랑구','성북구','강북구','도봉구','노원구','은평구','서대문구','마포구','양천구','강서구','구로구','금천구','영등포구','동작구','관악구','서초구','강남구','송파구','강동구']})\n",
    "\n",
    "df_seoul_bus_station = pd.read_csv('df_seoul_bus_station_jong.csv', sep=\",\", encoding = 'UTF-8')\n",
    "df_seoul_moving = pd.read_csv('df_seoul_moving_jong.csv', sep=\",\", encoding = 'UTF-8')\n",
    "df = pd.merge(standard,df_seoul_bus_station,how='inner', on='자치구')\n",
    "df = pd.merge(df,df_seoul_moving,how='inner', on=['도착 시군구 코드', '요일'])\n",
    "\n",
    "# 시각화 한글폰트 설정\n",
    "import seaborn as sns\n",
    "import matplotlib.pyplot as plt\n",
    "\n",
    "plt.rc('font', family='NanumGothicCoding')\n",
    "plt.rcParams['axes.unicode_minus'] = False\n",
    "\n",
    "target = '하차총승객수'\n",
    "var = '총 이동인구'\n",
    "sns.jointplot(x = var, y = target, data = df, hue = '자치구')\n",
    "\n",
    "plt.show()"
   ]
  },
  {
   "cell_type": "code",
   "execution_count": 31,
   "metadata": {
    "collapsed": false,
    "pycharm": {
     "name": "#%%\n"
    }
   },
   "outputs": [
    {
     "name": "stdout",
     "output_type": "stream",
     "text": [
      "(0.28937117589726613, 0.12090165050566178)\n",
      "(0.4484315685919594, 0.01294150362185279)\n",
      "(0.3847691870231389, 0.03577150013333687)\n",
      "(0.35632323196396776, 0.05327208196310395)\n",
      "(0.34204689721830517, 0.06429739877473162)\n",
      "(0.30323481231197136, 0.10332855853993292)\n",
      "(0.2661425579329155, 0.1551510949539482)\n",
      "(0.28804892422369244, 0.12268641944515185)\n",
      "(0.3562158198468747, 0.053349056397850994)\n",
      "(0.2884430279365101, 0.12215243780483925)\n",
      "(0.2564507549208726, 0.17132511019192778)\n",
      "(0.34137859677591437, 0.06485405801732189)\n",
      "(0.34975726980750327, 0.05814108859146259)\n",
      "(0.31669920825787323, 0.08816964032310733)\n",
      "(0.2685589577384678, 0.1512952309587894)\n",
      "(0.3739522796190044, 0.041778572403748576)\n",
      "(0.3324298721840859, 0.07267549750550868)\n",
      "(0.39984251080850025, 0.028581442246007897)\n",
      "(0.3406723647708569, 0.06544638799582334)\n",
      "(0.3200695721933646, 0.0846549281666337)\n",
      "(0.3481865227480208, 0.05935611552581268)\n",
      "(0.40375593104560753, 0.02692125865143313)\n",
      "(0.419742760167043, 0.020935365247533467)\n",
      "(0.39425979410433687, 0.031093066936618386)\n",
      "(0.4231880185396707, 0.019801018738510083)\n"
     ]
    }
   ],
   "source": [
    "# 상관분석(가설검정) ~ 자치구별\n",
    "\n",
    "for i in standard['도착 시군구 코드']:\n",
    "    df_i = df[df['도착 시군구 코드'] == i]\n",
    "    print(spst.pearsonr(df_i['하차총승객수'], df_i['총 이동인구']))\n",
    "\n"
   ]
  },
  {
   "cell_type": "markdown",
   "metadata": {
    "collapsed": false
   },
   "source": [
    "# STEP 2 : 버스에서 내리는 유입인구 -- 버스 현황 (상관관계 없..)"
   ]
  },
  {
   "cell_type": "code",
   "execution_count": 32,
   "metadata": {
    "collapsed": false,
    "pycharm": {
     "name": "#%%\n"
    }
   },
   "outputs": [
    {
     "data": {
<<<<<<< HEAD
      "image/png": "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",
      "text/plain": [
       "<Figure size 432x432 with 3 Axes>"
      ]
=======
      "text/plain": "<Figure size 432x432 with 3 Axes>",
      "image/png": "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\n"
>>>>>>> b29a051e1f8f823543dcfa2673d6dccc3b9dc18a
     },
     "metadata": {},
     "output_type": "display_data"
    }
   ],
   "source": [
    "var = '정류장수'\n",
    "sns.jointplot(x = var, y = target, data = df)\n",
    "\n",
    "plt.show()"
   ]
  },
  {
   "cell_type": "code",
   "execution_count": 33,
   "metadata": {
    "collapsed": false,
    "pycharm": {
     "name": "#%%\n"
    }
   },
   "outputs": [
    {
     "name": "stdout",
     "output_type": "stream",
     "text": [
      "(0.4762917437910819, 9.882393094089221e-44)\n",
      "(0.1821246398022417, 5.128987890559672e-07)\n",
      "(0.5373541957233878, 2.4524946139520846e-57)\n",
      "(0.094047218545142, 0.009965994820502661)\n"
     ]
    }
   ],
   "source": [
    "print(spst.pearsonr(df['정류장수'], df['하차총승객수']))\n",
    "print(spst.pearsonr(df['정류장수'], df['총 이동인구']))\n",
    "print(spst.pearsonr(df['노선수'], df['하차총승객수']))\n",
    "print(spst.pearsonr(df['노선수'], df['총 이동인구']))"
   ]
  },
  {
   "cell_type": "code",
   "execution_count": 34,
   "metadata": {
    "collapsed": false,
    "pycharm": {
     "name": "#%%\n"
    }
   },
   "outputs": [
    {
     "data": {
      "text/html": [
       "<div>\n",
       "<style scoped>\n",
       "    .dataframe tbody tr th:only-of-type {\n",
       "        vertical-align: middle;\n",
       "    }\n",
       "\n",
       "    .dataframe tbody tr th {\n",
       "        vertical-align: top;\n",
       "    }\n",
       "\n",
       "    .dataframe thead th {\n",
       "        text-align: right;\n",
       "    }\n",
       "</style>\n",
       "<table border=\"1\" class=\"dataframe\">\n",
       "  <thead>\n",
       "    <tr style=\"text-align: right;\">\n",
       "      <th></th>\n",
       "      <th>도착 시군구 코드</th>\n",
       "      <th>자치구</th>\n",
       "      <th>하차총승객수</th>\n",
       "      <th>정류장수</th>\n",
       "      <th>노선수</th>\n",
       "      <th>0</th>\n",
       "      <th>1</th>\n",
       "    </tr>\n",
       "  </thead>\n",
       "  <tbody>\n",
       "    <tr>\n",
       "      <th>1</th>\n",
       "      <td>11020</td>\n",
       "      <td>중구</td>\n",
       "      <td>119964.400000</td>\n",
       "      <td>178.0</td>\n",
       "      <td>103.0</td>\n",
       "      <td>0.448432</td>\n",
       "      <td>0.012942</td>\n",
       "    </tr>\n",
       "    <tr>\n",
       "      <th>2</th>\n",
       "      <td>11030</td>\n",
       "      <td>용산구</td>\n",
       "      <td>136215.800000</td>\n",
       "      <td>323.0</td>\n",
       "      <td>67.0</td>\n",
       "      <td>0.384769</td>\n",
       "      <td>0.035772</td>\n",
       "    </tr>\n",
       "    <tr>\n",
       "      <th>15</th>\n",
       "      <td>11160</td>\n",
       "      <td>강서구</td>\n",
       "      <td>155094.266667</td>\n",
       "      <td>566.0</td>\n",
       "      <td>49.0</td>\n",
       "      <td>0.373952</td>\n",
       "      <td>0.041779</td>\n",
       "    </tr>\n",
       "    <tr>\n",
       "      <th>17</th>\n",
       "      <td>11180</td>\n",
       "      <td>금천구</td>\n",
       "      <td>119397.666667</td>\n",
       "      <td>345.0</td>\n",
       "      <td>58.0</td>\n",
       "      <td>0.399843</td>\n",
       "      <td>0.028581</td>\n",
       "    </tr>\n",
       "    <tr>\n",
       "      <th>21</th>\n",
       "      <td>11220</td>\n",
       "      <td>서초구</td>\n",
       "      <td>232598.333333</td>\n",
       "      <td>600.0</td>\n",
       "      <td>93.0</td>\n",
       "      <td>0.403756</td>\n",
       "      <td>0.026921</td>\n",
       "    </tr>\n",
       "    <tr>\n",
       "      <th>22</th>\n",
       "      <td>11230</td>\n",
       "      <td>강남구</td>\n",
       "      <td>252307.100000</td>\n",
       "      <td>499.0</td>\n",
       "      <td>91.0</td>\n",
       "      <td>0.419743</td>\n",
       "      <td>0.020935</td>\n",
       "    </tr>\n",
       "    <tr>\n",
       "      <th>23</th>\n",
       "      <td>11240</td>\n",
       "      <td>송파구</td>\n",
       "      <td>186782.933333</td>\n",
       "      <td>415.0</td>\n",
       "      <td>55.0</td>\n",
       "      <td>0.394260</td>\n",
       "      <td>0.031093</td>\n",
       "    </tr>\n",
       "    <tr>\n",
       "      <th>24</th>\n",
       "      <td>11250</td>\n",
       "      <td>강동구</td>\n",
       "      <td>94350.200000</td>\n",
       "      <td>369.0</td>\n",
       "      <td>21.0</td>\n",
       "      <td>0.423188</td>\n",
       "      <td>0.019801</td>\n",
       "    </tr>\n",
       "  </tbody>\n",
       "</table>\n",
       "</div>"
      ],
      "text/plain": [
       "    도착 시군구 코드  자치구         하차총승객수   정류장수    노선수         0         1\n",
       "1       11020   중구  119964.400000  178.0  103.0  0.448432  0.012942\n",
       "2       11030  용산구  136215.800000  323.0   67.0  0.384769  0.035772\n",
       "15      11160  강서구  155094.266667  566.0   49.0  0.373952  0.041779\n",
       "17      11180  금천구  119397.666667  345.0   58.0  0.399843  0.028581\n",
       "21      11220  서초구  232598.333333  600.0   93.0  0.403756  0.026921\n",
       "22      11230  강남구  252307.100000  499.0   91.0  0.419743  0.020935\n",
       "23      11240  송파구  186782.933333  415.0   55.0  0.394260  0.031093\n",
       "24      11250  강동구   94350.200000  369.0   21.0  0.423188  0.019801"
      ]
     },
     "execution_count": 34,
     "metadata": {},
     "output_type": "execute_result"
    }
   ],
   "source": [
    "df_off = df.groupby(by=['도착 시군구 코드', '자치구'], as_index=False)[['하차총승객수', '정류장수', '노선수']].mean()\n",
    "\n",
    "a = []\n",
    "for i in standard['도착 시군구 코드']:\n",
    "    df_i = df[df['도착 시군구 코드'] == i]\n",
    "    a.append(spst.pearsonr(df_i['하차총승객수'], df_i['총 이동인구']))\n",
    "\n",
    "df_a = pd.DataFrame(a)\n",
    "b = pd.concat([df_off, df_a], axis = 1)\n",
    "\n",
    "#상관관계 중간이상 + p-value 0.05이하\n",
    "candidate = b[(b[0]>0.3)&(b[1]<0.05)]\n",
    "candidate"
   ]
  },
  {
   "cell_type": "code",
   "execution_count": 35,
   "metadata": {
    "collapsed": false,
    "pycharm": {
     "name": "#%%\n"
    }
   },
   "outputs": [
    {
     "name": "stderr",
     "output_type": "stream",
     "text": [
      "/var/folders/r2/n1xdjd4n1s71yv30fr4vn6th0000gn/T/ipykernel_11910/1250036471.py:1: SettingWithCopyWarning: \n",
      "A value is trying to be set on a copy of a slice from a DataFrame.\n",
      "Try using .loc[row_indexer,col_indexer] = value instead\n",
      "\n",
      "See the caveats in the documentation: https://pandas.pydata.org/pandas-docs/stable/user_guide/indexing.html#returning-a-view-versus-a-copy\n",
      "  candidate['지표'] =( candidate['정류장수']*candidate['노선수'])/candidate['하차총승객수']\n"
     ]
    },
    {
     "data": {
      "text/html": [
       "<div>\n",
       "<style scoped>\n",
       "    .dataframe tbody tr th:only-of-type {\n",
       "        vertical-align: middle;\n",
       "    }\n",
       "\n",
       "    .dataframe tbody tr th {\n",
       "        vertical-align: top;\n",
       "    }\n",
       "\n",
       "    .dataframe thead th {\n",
       "        text-align: right;\n",
       "    }\n",
       "</style>\n",
       "<table border=\"1\" class=\"dataframe\">\n",
       "  <thead>\n",
       "    <tr style=\"text-align: right;\">\n",
       "      <th></th>\n",
       "      <th>도착 시군구 코드</th>\n",
       "      <th>자치구</th>\n",
       "      <th>하차총승객수</th>\n",
       "      <th>정류장수</th>\n",
       "      <th>노선수</th>\n",
       "      <th>0</th>\n",
       "      <th>1</th>\n",
       "      <th>지표</th>\n",
       "    </tr>\n",
       "  </thead>\n",
       "  <tbody>\n",
       "    <tr>\n",
       "      <th>21</th>\n",
       "      <td>11220</td>\n",
       "      <td>서초구</td>\n",
       "      <td>232598.333333</td>\n",
       "      <td>600.0</td>\n",
       "      <td>93.0</td>\n",
       "      <td>0.403756</td>\n",
       "      <td>0.026921</td>\n",
       "      <td>0.239899</td>\n",
       "    </tr>\n",
       "    <tr>\n",
       "      <th>22</th>\n",
       "      <td>11230</td>\n",
       "      <td>강남구</td>\n",
       "      <td>252307.100000</td>\n",
       "      <td>499.0</td>\n",
       "      <td>91.0</td>\n",
       "      <td>0.419743</td>\n",
       "      <td>0.020935</td>\n",
       "      <td>0.179975</td>\n",
       "    </tr>\n",
       "    <tr>\n",
       "      <th>15</th>\n",
       "      <td>11160</td>\n",
       "      <td>강서구</td>\n",
       "      <td>155094.266667</td>\n",
       "      <td>566.0</td>\n",
       "      <td>49.0</td>\n",
       "      <td>0.373952</td>\n",
       "      <td>0.041779</td>\n",
       "      <td>0.178820</td>\n",
       "    </tr>\n",
       "    <tr>\n",
       "      <th>17</th>\n",
       "      <td>11180</td>\n",
       "      <td>금천구</td>\n",
       "      <td>119397.666667</td>\n",
       "      <td>345.0</td>\n",
       "      <td>58.0</td>\n",
       "      <td>0.399843</td>\n",
       "      <td>0.028581</td>\n",
       "      <td>0.167591</td>\n",
       "    </tr>\n",
       "    <tr>\n",
       "      <th>2</th>\n",
       "      <td>11030</td>\n",
       "      <td>용산구</td>\n",
       "      <td>136215.800000</td>\n",
       "      <td>323.0</td>\n",
       "      <td>67.0</td>\n",
       "      <td>0.384769</td>\n",
       "      <td>0.035772</td>\n",
       "      <td>0.158873</td>\n",
       "    </tr>\n",
       "    <tr>\n",
       "      <th>1</th>\n",
       "      <td>11020</td>\n",
       "      <td>중구</td>\n",
       "      <td>119964.400000</td>\n",
       "      <td>178.0</td>\n",
       "      <td>103.0</td>\n",
       "      <td>0.448432</td>\n",
       "      <td>0.012942</td>\n",
       "      <td>0.152829</td>\n",
       "    </tr>\n",
       "    <tr>\n",
       "      <th>23</th>\n",
       "      <td>11240</td>\n",
       "      <td>송파구</td>\n",
       "      <td>186782.933333</td>\n",
       "      <td>415.0</td>\n",
       "      <td>55.0</td>\n",
       "      <td>0.394260</td>\n",
       "      <td>0.031093</td>\n",
       "      <td>0.122201</td>\n",
       "    </tr>\n",
       "    <tr>\n",
       "      <th>24</th>\n",
       "      <td>11250</td>\n",
       "      <td>강동구</td>\n",
       "      <td>94350.200000</td>\n",
       "      <td>369.0</td>\n",
       "      <td>21.0</td>\n",
       "      <td>0.423188</td>\n",
       "      <td>0.019801</td>\n",
       "      <td>0.082130</td>\n",
       "    </tr>\n",
       "  </tbody>\n",
       "</table>\n",
       "</div>"
      ],
      "text/plain": [
       "    도착 시군구 코드  자치구         하차총승객수   정류장수    노선수         0         1        지표\n",
       "21      11220  서초구  232598.333333  600.0   93.0  0.403756  0.026921  0.239899\n",
       "22      11230  강남구  252307.100000  499.0   91.0  0.419743  0.020935  0.179975\n",
       "15      11160  강서구  155094.266667  566.0   49.0  0.373952  0.041779  0.178820\n",
       "17      11180  금천구  119397.666667  345.0   58.0  0.399843  0.028581  0.167591\n",
       "2       11030  용산구  136215.800000  323.0   67.0  0.384769  0.035772  0.158873\n",
       "1       11020   중구  119964.400000  178.0  103.0  0.448432  0.012942  0.152829\n",
       "23      11240  송파구  186782.933333  415.0   55.0  0.394260  0.031093  0.122201\n",
       "24      11250  강동구   94350.200000  369.0   21.0  0.423188  0.019801  0.082130"
      ]
     },
     "execution_count": 35,
     "metadata": {},
     "output_type": "execute_result"
    }
   ],
   "source": [
    "candidate['지표'] =( candidate['정류장수']*candidate['노선수'])/candidate['하차총승객수']\n",
    "candidate.sort_values(['지표'], ascending=[False])"
   ]
  },
  {
   "cell_type": "code",
   "execution_count": 36,
   "metadata": {
    "collapsed": false,
    "pycharm": {
     "name": "#%%\n"
    }
   },
   "outputs": [],
   "source": [
    "# (상관관계 중간이상 + p-value 0.05이하)으로 버스수요가 있는 자치구 중 지표를 통해 강동구가 가장 정류장 추가설치가 필요함을 알 수 있다."
   ]
  },
  {
   "cell_type": "markdown",
   "metadata": {
    "collapsed": false,
    "pycharm": {
     "name": "#%% md\n"
    }
   },
   "source": [
    "### 3)"
   ]
  },
  {
   "cell_type": "code",
<<<<<<< HEAD
   "execution_count": 15,
   "metadata": {
    "collapsed": false,
    "pycharm": {
     "name": "#%%\n"
    }
   },
   "outputs": [
    {
     "data": {
      "text/html": [
       "<div>\n",
       "<style scoped>\n",
       "    .dataframe tbody tr th:only-of-type {\n",
       "        vertical-align: middle;\n",
       "    }\n",
       "\n",
       "    .dataframe tbody tr th {\n",
       "        vertical-align: top;\n",
       "    }\n",
       "\n",
       "    .dataframe thead th {\n",
       "        text-align: right;\n",
       "    }\n",
       "</style>\n",
       "<table border=\"1\" class=\"dataframe\">\n",
       "  <thead>\n",
       "    <tr style=\"text-align: right;\">\n",
       "      <th></th>\n",
       "      <th>대상연월</th>\n",
       "      <th>요일</th>\n",
       "      <th>도착시간</th>\n",
       "      <th>출발 시군구 코드</th>\n",
       "      <th>도착 시군구 코드</th>\n",
       "      <th>성별</th>\n",
       "      <th>나이</th>\n",
       "      <th>이동유형</th>\n",
       "      <th>평균 이동 시간(분)</th>\n",
       "      <th>이동인구(합)</th>\n",
       "      <th>rush_hour</th>\n",
       "    </tr>\n",
       "  </thead>\n",
       "  <tbody>\n",
       "    <tr>\n",
       "      <th>0</th>\n",
       "      <td>202204</td>\n",
       "      <td>일</td>\n",
       "      <td>0</td>\n",
       "      <td>11010</td>\n",
       "      <td>11010</td>\n",
       "      <td>F</td>\n",
       "      <td>0</td>\n",
       "      <td>EE</td>\n",
       "      <td>10</td>\n",
       "      <td>28.02</td>\n",
       "      <td>False</td>\n",
       "    </tr>\n",
       "    <tr>\n",
       "      <th>1</th>\n",
       "      <td>202204</td>\n",
       "      <td>일</td>\n",
       "      <td>0</td>\n",
       "      <td>11010</td>\n",
       "      <td>11010</td>\n",
       "      <td>F</td>\n",
       "      <td>0</td>\n",
       "      <td>EH</td>\n",
       "      <td>10</td>\n",
       "      <td>27.52</td>\n",
       "      <td>False</td>\n",
       "    </tr>\n",
       "    <tr>\n",
       "      <th>2</th>\n",
       "      <td>202204</td>\n",
       "      <td>일</td>\n",
       "      <td>0</td>\n",
       "      <td>11010</td>\n",
       "      <td>11010</td>\n",
       "      <td>F</td>\n",
       "      <td>0</td>\n",
       "      <td>HE</td>\n",
       "      <td>10</td>\n",
       "      <td>27.83</td>\n",
       "      <td>False</td>\n",
       "    </tr>\n",
       "    <tr>\n",
       "      <th>3</th>\n",
       "      <td>202204</td>\n",
       "      <td>일</td>\n",
       "      <td>0</td>\n",
       "      <td>11010</td>\n",
       "      <td>11010</td>\n",
       "      <td>F</td>\n",
       "      <td>10</td>\n",
       "      <td>HW</td>\n",
       "      <td>10</td>\n",
       "      <td>6.05</td>\n",
       "      <td>False</td>\n",
       "    </tr>\n",
       "    <tr>\n",
       "      <th>4</th>\n",
       "      <td>202204</td>\n",
       "      <td>일</td>\n",
       "      <td>0</td>\n",
       "      <td>11010</td>\n",
       "      <td>11010</td>\n",
       "      <td>F</td>\n",
       "      <td>10</td>\n",
       "      <td>EH</td>\n",
       "      <td>90</td>\n",
       "      <td>5.95</td>\n",
       "      <td>False</td>\n",
       "    </tr>\n",
       "    <tr>\n",
       "      <th>...</th>\n",
       "      <td>...</td>\n",
       "      <td>...</td>\n",
       "      <td>...</td>\n",
       "      <td>...</td>\n",
       "      <td>...</td>\n",
       "      <td>...</td>\n",
       "      <td>...</td>\n",
       "      <td>...</td>\n",
       "      <td>...</td>\n",
       "      <td>...</td>\n",
       "      <td>...</td>\n",
       "    </tr>\n",
       "    <tr>\n",
       "      <th>920410</th>\n",
       "      <td>202204</td>\n",
       "      <td>토</td>\n",
       "      <td>23</td>\n",
       "      <td>11250</td>\n",
       "      <td>11250</td>\n",
       "      <td>M</td>\n",
       "      <td>80</td>\n",
       "      <td>WH</td>\n",
       "      <td>10</td>\n",
       "      <td>85.10</td>\n",
       "      <td>False</td>\n",
       "    </tr>\n",
       "    <tr>\n",
       "      <th>920411</th>\n",
       "      <td>202204</td>\n",
       "      <td>토</td>\n",
       "      <td>23</td>\n",
       "      <td>11250</td>\n",
       "      <td>11250</td>\n",
       "      <td>M</td>\n",
       "      <td>80</td>\n",
       "      <td>EH</td>\n",
       "      <td>10</td>\n",
       "      <td>28.36</td>\n",
       "      <td>False</td>\n",
       "    </tr>\n",
       "    <tr>\n",
       "      <th>920412</th>\n",
       "      <td>202204</td>\n",
       "      <td>토</td>\n",
       "      <td>23</td>\n",
       "      <td>11250</td>\n",
       "      <td>11250</td>\n",
       "      <td>M</td>\n",
       "      <td>80</td>\n",
       "      <td>EE</td>\n",
       "      <td>20</td>\n",
       "      <td>37.99</td>\n",
       "      <td>False</td>\n",
       "    </tr>\n",
       "    <tr>\n",
       "      <th>920413</th>\n",
       "      <td>202204</td>\n",
       "      <td>토</td>\n",
       "      <td>23</td>\n",
       "      <td>11250</td>\n",
       "      <td>11250</td>\n",
       "      <td>M</td>\n",
       "      <td>80</td>\n",
       "      <td>HE</td>\n",
       "      <td>10</td>\n",
       "      <td>9.42</td>\n",
       "      <td>False</td>\n",
       "    </tr>\n",
       "    <tr>\n",
       "      <th>920414</th>\n",
       "      <td>202204</td>\n",
       "      <td>토</td>\n",
       "      <td>23</td>\n",
       "      <td>11250</td>\n",
       "      <td>11250</td>\n",
       "      <td>M</td>\n",
       "      <td>80</td>\n",
       "      <td>WE</td>\n",
       "      <td>10</td>\n",
       "      <td>9.51</td>\n",
       "      <td>False</td>\n",
       "    </tr>\n",
       "  </tbody>\n",
       "</table>\n",
       "<p>10655895 rows × 11 columns</p>\n",
       "</div>"
      ],
      "text/plain": [
       "          대상연월 요일  도착시간  출발 시군구 코드  도착 시군구 코드 성별  나이 이동유형  평균 이동 시간(분)  \\\n",
       "0       202204  일     0      11010      11010  F   0   EE           10   \n",
       "1       202204  일     0      11010      11010  F   0   EH           10   \n",
       "2       202204  일     0      11010      11010  F   0   HE           10   \n",
       "3       202204  일     0      11010      11010  F  10   HW           10   \n",
       "4       202204  일     0      11010      11010  F  10   EH           90   \n",
       "...        ... ..   ...        ...        ... ..  ..  ...          ...   \n",
       "920410  202204  토    23      11250      11250  M  80   WH           10   \n",
       "920411  202204  토    23      11250      11250  M  80   EH           10   \n",
       "920412  202204  토    23      11250      11250  M  80   EE           20   \n",
       "920413  202204  토    23      11250      11250  M  80   HE           10   \n",
       "920414  202204  토    23      11250      11250  M  80   WE           10   \n",
       "\n",
       "        이동인구(합)  rush_hour  \n",
       "0         28.02      False  \n",
       "1         27.52      False  \n",
       "2         27.83      False  \n",
       "3          6.05      False  \n",
       "4          5.95      False  \n",
       "...         ...        ...  \n",
       "920410    85.10      False  \n",
       "920411    28.36      False  \n",
       "920412    37.99      False  \n",
       "920413     9.42      False  \n",
       "920414     9.51      False  \n",
       "\n",
       "[10655895 rows x 11 columns]"
      ]
=======
   "execution_count": 37,
   "outputs": [
    {
     "data": {
      "text/plain": "           대상연월 요일  도착시간  출발 시군구 코드  도착 시군구 코드 성별  나이 이동유형  평균 이동 시간(분)  \\\n0        202204  일     5      11110      11080  F  65   EW           10   \n1        202204  일     5      11110      11080  F  65   WH           10   \n2        202204  일     5      11110      11080  F  70   HW           10   \n3        202204  일     5      11110      11080  F  70   HE           10   \n4        202204  일     5      11110      11080  F  70   EH           20   \n...         ... ..   ...        ...        ... ..  ..  ...          ...   \n5489130  202204  토    23      11250      11250  M  80   WH           10   \n5489131  202204  토    23      11250      11250  M  80   EH           10   \n5489132  202204  토    23      11250      11250  M  80   EE           20   \n5489133  202204  토    23      11250      11250  M  80   HE           10   \n5489134  202204  토    23      11250      11250  M  80   WE           10   \n\n         이동인구(합)  rush_hour  \n0           4.68      False  \n1           9.44      False  \n2           5.69      False  \n3           5.68      False  \n4           5.73      False  \n...          ...        ...  \n5489130    85.10      False  \n5489131    28.36      False  \n5489132    37.99      False  \n5489133     9.42      False  \n5489134     9.51      False  \n\n[5489135 rows x 11 columns]",
      "text/html": "<div>\n<style scoped>\n    .dataframe tbody tr th:only-of-type {\n        vertical-align: middle;\n    }\n\n    .dataframe tbody tr th {\n        vertical-align: top;\n    }\n\n    .dataframe thead th {\n        text-align: right;\n    }\n</style>\n<table border=\"1\" class=\"dataframe\">\n  <thead>\n    <tr style=\"text-align: right;\">\n      <th></th>\n      <th>대상연월</th>\n      <th>요일</th>\n      <th>도착시간</th>\n      <th>출발 시군구 코드</th>\n      <th>도착 시군구 코드</th>\n      <th>성별</th>\n      <th>나이</th>\n      <th>이동유형</th>\n      <th>평균 이동 시간(분)</th>\n      <th>이동인구(합)</th>\n      <th>rush_hour</th>\n    </tr>\n  </thead>\n  <tbody>\n    <tr>\n      <th>0</th>\n      <td>202204</td>\n      <td>일</td>\n      <td>5</td>\n      <td>11110</td>\n      <td>11080</td>\n      <td>F</td>\n      <td>65</td>\n      <td>EW</td>\n      <td>10</td>\n      <td>4.68</td>\n      <td>False</td>\n    </tr>\n    <tr>\n      <th>1</th>\n      <td>202204</td>\n      <td>일</td>\n      <td>5</td>\n      <td>11110</td>\n      <td>11080</td>\n      <td>F</td>\n      <td>65</td>\n      <td>WH</td>\n      <td>10</td>\n      <td>9.44</td>\n      <td>False</td>\n    </tr>\n    <tr>\n      <th>2</th>\n      <td>202204</td>\n      <td>일</td>\n      <td>5</td>\n      <td>11110</td>\n      <td>11080</td>\n      <td>F</td>\n      <td>70</td>\n      <td>HW</td>\n      <td>10</td>\n      <td>5.69</td>\n      <td>False</td>\n    </tr>\n    <tr>\n      <th>3</th>\n      <td>202204</td>\n      <td>일</td>\n      <td>5</td>\n      <td>11110</td>\n      <td>11080</td>\n      <td>F</td>\n      <td>70</td>\n      <td>HE</td>\n      <td>10</td>\n      <td>5.68</td>\n      <td>False</td>\n    </tr>\n    <tr>\n      <th>4</th>\n      <td>202204</td>\n      <td>일</td>\n      <td>5</td>\n      <td>11110</td>\n      <td>11080</td>\n      <td>F</td>\n      <td>70</td>\n      <td>EH</td>\n      <td>20</td>\n      <td>5.73</td>\n      <td>False</td>\n    </tr>\n    <tr>\n      <th>...</th>\n      <td>...</td>\n      <td>...</td>\n      <td>...</td>\n      <td>...</td>\n      <td>...</td>\n      <td>...</td>\n      <td>...</td>\n      <td>...</td>\n      <td>...</td>\n      <td>...</td>\n      <td>...</td>\n    </tr>\n    <tr>\n      <th>5489130</th>\n      <td>202204</td>\n      <td>토</td>\n      <td>23</td>\n      <td>11250</td>\n      <td>11250</td>\n      <td>M</td>\n      <td>80</td>\n      <td>WH</td>\n      <td>10</td>\n      <td>85.10</td>\n      <td>False</td>\n    </tr>\n    <tr>\n      <th>5489131</th>\n      <td>202204</td>\n      <td>토</td>\n      <td>23</td>\n      <td>11250</td>\n      <td>11250</td>\n      <td>M</td>\n      <td>80</td>\n      <td>EH</td>\n      <td>10</td>\n      <td>28.36</td>\n      <td>False</td>\n    </tr>\n    <tr>\n      <th>5489132</th>\n      <td>202204</td>\n      <td>토</td>\n      <td>23</td>\n      <td>11250</td>\n      <td>11250</td>\n      <td>M</td>\n      <td>80</td>\n      <td>EE</td>\n      <td>20</td>\n      <td>37.99</td>\n      <td>False</td>\n    </tr>\n    <tr>\n      <th>5489133</th>\n      <td>202204</td>\n      <td>토</td>\n      <td>23</td>\n      <td>11250</td>\n      <td>11250</td>\n      <td>M</td>\n      <td>80</td>\n      <td>HE</td>\n      <td>10</td>\n      <td>9.42</td>\n      <td>False</td>\n    </tr>\n    <tr>\n      <th>5489134</th>\n      <td>202204</td>\n      <td>토</td>\n      <td>23</td>\n      <td>11250</td>\n      <td>11250</td>\n      <td>M</td>\n      <td>80</td>\n      <td>WE</td>\n      <td>10</td>\n      <td>9.51</td>\n      <td>False</td>\n    </tr>\n  </tbody>\n</table>\n<p>5489135 rows × 11 columns</p>\n</div>"
>>>>>>> b29a051e1f8f823543dcfa2673d6dccc3b9dc18a
     },
     "execution_count": 37,
     "metadata": {},
     "output_type": "execute_result"
    }
   ],
   "source": [
    "seoul_moving['rush_hour'] = seoul_moving['도착시간'].isin([7, 8, 9, 10, 17, 18, 19, 20])\n",
    "seoul_moving"
   ]
  },
  {
   "cell_type": "code",
   "execution_count": 16,
   "metadata": {
    "collapsed": false,
    "pycharm": {
     "name": "#%%\n"
    }
<<<<<<< HEAD
   },
   "outputs": [
    {
     "data": {
      "text/html": [
       "<div>\n",
       "<style scoped>\n",
       "    .dataframe tbody tr th:only-of-type {\n",
       "        vertical-align: middle;\n",
       "    }\n",
       "\n",
       "    .dataframe tbody tr th {\n",
       "        vertical-align: top;\n",
       "    }\n",
       "\n",
       "    .dataframe thead th {\n",
       "        text-align: right;\n",
       "    }\n",
       "</style>\n",
       "<table border=\"1\" class=\"dataframe\">\n",
       "  <thead>\n",
       "    <tr style=\"text-align: right;\">\n",
       "      <th></th>\n",
       "      <th>sum</th>\n",
       "      <th>mean</th>\n",
       "    </tr>\n",
       "    <tr>\n",
       "      <th>rush_hour</th>\n",
       "      <th></th>\n",
       "      <th></th>\n",
       "    </tr>\n",
       "  </thead>\n",
       "  <tbody>\n",
       "    <tr>\n",
       "      <th>False</th>\n",
       "      <td>2.722383e+08</td>\n",
       "      <td>42.165907</td>\n",
       "    </tr>\n",
       "    <tr>\n",
       "      <th>True</th>\n",
       "      <td>2.331761e+08</td>\n",
       "      <td>55.524277</td>\n",
       "    </tr>\n",
       "  </tbody>\n",
       "</table>\n",
       "</div>"
      ],
      "text/plain": [
       "                    sum       mean\n",
       "rush_hour                         \n",
       "False      2.722383e+08  42.165907\n",
       "True       2.331761e+08  55.524277"
      ]
=======
   }
  },
  {
   "cell_type": "code",
   "execution_count": 38,
   "outputs": [
    {
     "data": {
      "text/plain": "                    sum       mean\nrush_hour                         \nFalse      1.582742e+08  53.328672\nTrue       1.468902e+08  58.261240",
      "text/html": "<div>\n<style scoped>\n    .dataframe tbody tr th:only-of-type {\n        vertical-align: middle;\n    }\n\n    .dataframe tbody tr th {\n        vertical-align: top;\n    }\n\n    .dataframe thead th {\n        text-align: right;\n    }\n</style>\n<table border=\"1\" class=\"dataframe\">\n  <thead>\n    <tr style=\"text-align: right;\">\n      <th></th>\n      <th>sum</th>\n      <th>mean</th>\n    </tr>\n    <tr>\n      <th>rush_hour</th>\n      <th></th>\n      <th></th>\n    </tr>\n  </thead>\n  <tbody>\n    <tr>\n      <th>False</th>\n      <td>1.582742e+08</td>\n      <td>53.328672</td>\n    </tr>\n    <tr>\n      <th>True</th>\n      <td>1.468902e+08</td>\n      <td>58.261240</td>\n    </tr>\n  </tbody>\n</table>\n</div>"
>>>>>>> b29a051e1f8f823543dcfa2673d6dccc3b9dc18a
     },
     "execution_count": 38,
     "metadata": {},
     "output_type": "execute_result"
    }
   ],
   "source": [
    "temp = seoul_moving.groupby('rush_hour', as_index=False)\n",
    "temp['이동인구(합)'].agg(['sum', 'mean'])"
   ]
  },
  {
   "cell_type": "code",
   "execution_count": 17,
   "metadata": {
    "collapsed": false,
    "pycharm": {
     "name": "#%%\n"
    }
<<<<<<< HEAD
   },
=======
   }
  },
  {
   "cell_type": "code",
   "execution_count": 39,
>>>>>>> b29a051e1f8f823543dcfa2673d6dccc3b9dc18a
   "outputs": [
    {
     "name": "stderr",
     "output_type": "stream",
     "text": [
      "/Users/cyeongy/opt/anaconda3/envs/kt-aivle/lib/python3.8/site-packages/seaborn/_decorators.py:36: FutureWarning: Pass the following variables as keyword args: x, y. From version 0.12, the only valid positional argument will be `data`, and passing other arguments without an explicit keyword will result in an error or misinterpretation.\n",
      "  warnings.warn(\n"
     ]
    },
    {
     "data": {
<<<<<<< HEAD
      "image/png": "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",
      "text/plain": [
       "<Figure size 432x288 with 1 Axes>"
      ]
     },
     "metadata": {
      "needs_background": "light"
=======
      "text/plain": "<Figure size 432x288 with 1 Axes>",
      "image/png": "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\n"
>>>>>>> b29a051e1f8f823543dcfa2673d6dccc3b9dc18a
     },
     "metadata": {},
     "output_type": "display_data"
    }
   ],
   "source": [
    "sns.barplot('rush_hour', '이동인구(합)', data=seoul_moving)\n",
    "plt.show()"
   ]
  },
  {
   "cell_type": "code",
   "execution_count": 18,
   "metadata": {
    "collapsed": false,
    "pycharm": {
     "name": "#%%\n"
    }
<<<<<<< HEAD
   },
   "outputs": [
    {
     "data": {
      "text/plain": [
       "Ttest_indResult(statistic=130.65616134632833, pvalue=0.0)"
      ]
=======
   }
  },
  {
   "cell_type": "code",
   "execution_count": 40,
   "outputs": [
    {
     "data": {
      "text/plain": "Ttest_indResult(statistic=31.14763125863835, pvalue=5.7004904923718925e-213)"
>>>>>>> b29a051e1f8f823543dcfa2673d6dccc3b9dc18a
     },
     "execution_count": 40,
     "metadata": {},
     "output_type": "execute_result"
    }
   ],
   "source": [
    "rush_t = seoul_moving.loc[seoul_moving['rush_hour'] == True, '이동인구(합)']\n",
    "not_rush_t = seoul_moving.loc[seoul_moving['rush_hour'] == False, '이동인구(합)']\n",
    "\n",
    "spst.ttest_ind(rush_t, not_rush_t)"
   ]
  },
  {
   "cell_type": "markdown",
   "id": "20e08293",
   "metadata": {},
   "source": [
    "## 4.관계 정리"
   ]
  },
  {
   "cell_type": "markdown",
   "id": "b11433ac",
   "metadata": {},
   "source": [
    "### 1) 강한 관계의 변수"
   ]
  },
  {
   "cell_type": "markdown",
   "id": "ae622498",
   "metadata": {},
   "source": [
    "* "
   ]
  },
  {
   "cell_type": "markdown",
   "id": "3101b64b",
   "metadata": {},
   "source": [
    "### 2) 약한 관계의 변수"
   ]
  },
  {
   "cell_type": "markdown",
   "id": "7a7f579d",
   "metadata": {},
   "source": [
    "*"
   ]
  },
  {
   "cell_type": "markdown",
   "id": "644198b7",
   "metadata": {},
   "source": [
    "## 5.솔루션 도출\n",
    "\n",
    "### 어느 구에 버스 노선 또는 정류장이 제일 필요한가요? 그 이유는?"
   ]
  },
  {
   "cell_type": "markdown",
   "id": "783e8346",
   "metadata": {},
   "source": [
    "강동구\n",
    "\n",
    ">> 평균 이동시간이 길어질수록 노선 수는 줄어든다.\n",
    ">> 즉 평균 이동시간이 가장 긴 강동구의 노선수를 증가시켜야한다"
   ]
  }
 ],
 "metadata": {
  "colab": {
   "collapsed_sections": [],
   "name": "서울버스수요분석 데이터 분석(EDA)_ver0.1.ipynb",
   "provenance": [],
   "toc_visible": true
  },
  "kernelspec": {
   "display_name": "Python 3.9.12 ('base')",
   "language": "python",
   "name": "python3"
  },
  "language_info": {
   "codemirror_mode": {
    "name": "ipython",
    "version": 3
   },
   "file_extension": ".py",
   "mimetype": "text/x-python",
   "name": "python",
   "nbconvert_exporter": "python",
   "pygments_lexer": "ipython3",
   "version": "3.9.12"
  },
  "vscode": {
   "interpreter": {
    "hash": "c1a5d491894dc282fec25dd5af2406c29d3c555ab4aaa9a102946485975ed006"
   }
  }
 },
 "nbformat": 4,
 "nbformat_minor": 5
}
