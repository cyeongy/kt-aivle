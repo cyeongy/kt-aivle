{
 "cells": [
  {
   "cell_type": "markdown",
   "id": "ef575059",
   "metadata": {
    "id": "ef575059"
   },
   "source": [
    "---"
   ]
  },
  {
   "cell_type": "markdown",
   "id": "46fa690c",
   "metadata": {
    "id": "46fa690c"
   },
   "source": [
    "## [미니프로젝트] 서울시 공유자전거 '따릉이'의 수요 예측\n",
    "\n",
    "### 여러분은 서울시 정책 연구원으로써 서울시 공유자전거인 '따릉이'의 수요와 날씨간 연관성을 분석하라는 미션을 부여받았습니다.\n",
    "\n",
    "#### <font color=\"blue\"> 데이터 분석의 주 목적은 가치있는 정보를 찾아내는것!! </font>\n",
    "\n",
    "### ▣ 우리가 풀어야 하는 문제는 무엇인가요?\n",
    "\n",
    " - 기상상황이 따릉이 수요에 주는 영향을 분석해봅시다."
   ]
  },
  {
   "cell_type": "markdown",
   "id": "a30cd0cd",
   "metadata": {
    "id": "a30cd0cd"
   },
   "source": [
    "---"
   ]
  },
  {
   "cell_type": "markdown",
   "id": "revolutionary-farmer",
   "metadata": {
    "id": "revolutionary-farmer"
   },
   "source": [
    "## ▣ 데이터 소개\n",
    "[기본 데이터]\n",
    "* 학습데이터 : traindata.csv\n",
    "\n",
    "## ▣ 데이터셋의 변수 소개\n",
    "* date : 날짜\n",
    "* hour : 시간\n",
    "* temperature : 온도\n",
    "* precipitation : 강우 여부, 비가 오지 않았으면 0, 비가 오면 1\n",
    "* windspeed : 풍속(평균)\n",
    "* humidity : 습도\n",
    "* visibility : 시정(視程), 시계(視界)(특정 기상 상태에 따른 가시성을 의미)\n",
    "* ozone : 오존 수치\n",
    "* PM10 : 미세먼지 수치(머리카락 굵기의 1/5에서 1/7 크기의 미세먼지)\n",
    "* PM2.5 : 초미세먼지 수치(머리카락 굵기의 1/20에서 1/30 크기의 미세먼지)\n",
    "* count : 시간에 따른 따릉이 대여 수"
   ]
  },
  {
   "cell_type": "markdown",
   "id": "matched-broad",
   "metadata": {
    "id": "matched-broad"
   },
   "source": [
    "---"
   ]
  },
  {
   "cell_type": "markdown",
   "id": "warming-gentleman",
   "metadata": {
    "id": "warming-gentleman"
   },
   "source": [
    "### [과제1] 환경 설정\n",
    "#### <span style=\"color: green\"> 1) 라이브러리 불러오기 </span>"
   ]
  },
  {
   "cell_type": "code",
   "execution_count": 1,
   "id": "442dc4e3",
   "metadata": {},
   "outputs": [],
   "source": [
    "#EDA에 사용할 라이브러리를 import 하세요\n",
    "\n",
    "import pandas as pd\n",
    "import numpy as np\n",
    "import scipy.stats as spst\n",
    "import seaborn as sns\n",
    "import matplotlib.pyplot as plt"
   ]
  },
  {
   "cell_type": "markdown",
   "id": "vocational-animal",
   "metadata": {
    "id": "vocational-animal"
   },
   "source": [
    "#### <span style=\"color: green\"> 2) 활용할 데이터 불러오기 </span>"
   ]
  },
  {
   "cell_type": "code",
   "execution_count": 3,
   "id": "saving-slope",
   "metadata": {
    "executionInfo": {
     "elapsed": 305,
     "status": "ok",
     "timestamp": 1655797696108,
     "user": {
      "displayName": "Seonil Kwon",
      "userId": "10539738350691841262"
     },
     "user_tz": -540
    },
    "id": "saving-slope"
   },
   "outputs": [],
   "source": [
    "#이번 프로젝트에서 분석할 데이터를 불러오세요\n",
    "\n",
    "data = pd.read_csv('./traindata.csv', delimiter=',')"
   ]
  },
  {
   "cell_type": "code",
   "execution_count": 4,
   "id": "e24522f3-fbfc-40a4-bc8d-f3b8543a5026",
   "metadata": {},
   "outputs": [
    {
     "data": {
      "text/html": [
       "<div>\n",
       "<style scoped>\n",
       "    .dataframe tbody tr th:only-of-type {\n",
       "        vertical-align: middle;\n",
       "    }\n",
       "\n",
       "    .dataframe tbody tr th {\n",
       "        vertical-align: top;\n",
       "    }\n",
       "\n",
       "    .dataframe thead th {\n",
       "        text-align: right;\n",
       "    }\n",
       "</style>\n",
       "<table border=\"1\" class=\"dataframe\">\n",
       "  <thead>\n",
       "    <tr style=\"text-align: right;\">\n",
       "      <th></th>\n",
       "      <th>date</th>\n",
       "      <th>hour</th>\n",
       "      <th>PM10</th>\n",
       "      <th>PM2.5</th>\n",
       "      <th>ozone</th>\n",
       "      <th>temperature</th>\n",
       "      <th>precipitation</th>\n",
       "      <th>windspeed</th>\n",
       "      <th>humidity</th>\n",
       "      <th>visibility</th>\n",
       "      <th>count</th>\n",
       "    </tr>\n",
       "  </thead>\n",
       "  <tbody>\n",
       "    <tr>\n",
       "      <th>0</th>\n",
       "      <td>2021-04-01</td>\n",
       "      <td>1</td>\n",
       "      <td>42.0</td>\n",
       "      <td>21.0</td>\n",
       "      <td>0.002</td>\n",
       "      <td>13.1</td>\n",
       "      <td>0</td>\n",
       "      <td>1.4</td>\n",
       "      <td>49</td>\n",
       "      <td>2000</td>\n",
       "      <td>46</td>\n",
       "    </tr>\n",
       "    <tr>\n",
       "      <th>1</th>\n",
       "      <td>2021-04-01</td>\n",
       "      <td>2</td>\n",
       "      <td>41.0</td>\n",
       "      <td>21.0</td>\n",
       "      <td>0.003</td>\n",
       "      <td>12.4</td>\n",
       "      <td>0</td>\n",
       "      <td>2.1</td>\n",
       "      <td>53</td>\n",
       "      <td>2000</td>\n",
       "      <td>40</td>\n",
       "    </tr>\n",
       "    <tr>\n",
       "      <th>2</th>\n",
       "      <td>2021-04-01</td>\n",
       "      <td>3</td>\n",
       "      <td>30.0</td>\n",
       "      <td>13.0</td>\n",
       "      <td>0.023</td>\n",
       "      <td>13.1</td>\n",
       "      <td>0</td>\n",
       "      <td>3.4</td>\n",
       "      <td>43</td>\n",
       "      <td>2000</td>\n",
       "      <td>31</td>\n",
       "    </tr>\n",
       "    <tr>\n",
       "      <th>3</th>\n",
       "      <td>2021-04-01</td>\n",
       "      <td>4</td>\n",
       "      <td>27.0</td>\n",
       "      <td>12.0</td>\n",
       "      <td>0.028</td>\n",
       "      <td>13.0</td>\n",
       "      <td>0</td>\n",
       "      <td>3.1</td>\n",
       "      <td>44</td>\n",
       "      <td>2000</td>\n",
       "      <td>12</td>\n",
       "    </tr>\n",
       "    <tr>\n",
       "      <th>4</th>\n",
       "      <td>2021-04-01</td>\n",
       "      <td>5</td>\n",
       "      <td>29.0</td>\n",
       "      <td>14.0</td>\n",
       "      <td>0.008</td>\n",
       "      <td>13.0</td>\n",
       "      <td>0</td>\n",
       "      <td>2.9</td>\n",
       "      <td>44</td>\n",
       "      <td>2000</td>\n",
       "      <td>30</td>\n",
       "    </tr>\n",
       "  </tbody>\n",
       "</table>\n",
       "</div>"
      ],
      "text/plain": [
       "         date  hour  PM10  PM2.5  ozone  temperature  precipitation  \\\n",
       "0  2021-04-01     1  42.0   21.0  0.002         13.1              0   \n",
       "1  2021-04-01     2  41.0   21.0  0.003         12.4              0   \n",
       "2  2021-04-01     3  30.0   13.0  0.023         13.1              0   \n",
       "3  2021-04-01     4  27.0   12.0  0.028         13.0              0   \n",
       "4  2021-04-01     5  29.0   14.0  0.008         13.0              0   \n",
       "\n",
       "   windspeed  humidity  visibility  count  \n",
       "0        1.4        49        2000     46  \n",
       "1        2.1        53        2000     40  \n",
       "2        3.4        43        2000     31  \n",
       "3        3.1        44        2000     12  \n",
       "4        2.9        44        2000     30  "
      ]
     },
     "execution_count": 4,
     "metadata": {},
     "output_type": "execute_result"
    }
   ],
   "source": [
    "data.head()"
   ]
  },
  {
   "cell_type": "code",
   "execution_count": 5,
   "id": "ec719abc-fc9a-4e67-8fa8-4754cd247e90",
   "metadata": {},
   "outputs": [
    {
     "name": "stdout",
     "output_type": "stream",
     "text": [
      "<class 'pandas.core.frame.DataFrame'>\n",
      "RangeIndex: 5827 entries, 0 to 5826\n",
      "Data columns (total 11 columns):\n",
      " #   Column         Non-Null Count  Dtype  \n",
      "---  ------         --------------  -----  \n",
      " 0   date           5827 non-null   object \n",
      " 1   hour           5827 non-null   int64  \n",
      " 2   PM10           5725 non-null   float64\n",
      " 3   PM2.5          5732 non-null   float64\n",
      " 4   ozone          5699 non-null   float64\n",
      " 5   temperature    5827 non-null   float64\n",
      " 6   precipitation  5827 non-null   int64  \n",
      " 7   windspeed      5827 non-null   float64\n",
      " 8   humidity       5827 non-null   int64  \n",
      " 9   visibility     5827 non-null   int64  \n",
      " 10  count          5827 non-null   int64  \n",
      "dtypes: float64(5), int64(5), object(1)\n",
      "memory usage: 500.9+ KB\n"
     ]
    }
   ],
   "source": [
    "data.info()"
   ]
  },
  {
   "cell_type": "code",
   "execution_count": 6,
   "id": "592c0a85-8c4e-4559-9ac5-6e3a1a823f94",
   "metadata": {},
   "outputs": [
    {
     "data": {
      "text/plain": [
       "date               0\n",
       "hour               0\n",
       "PM10             102\n",
       "PM2.5             95\n",
       "ozone            128\n",
       "temperature        0\n",
       "precipitation      0\n",
       "windspeed          0\n",
       "humidity           0\n",
       "visibility         0\n",
       "count              0\n",
       "dtype: int64"
      ]
     },
     "execution_count": 6,
     "metadata": {},
     "output_type": "execute_result"
    }
   ],
   "source": [
    "data.isna().sum()"
   ]
  },
  {
   "cell_type": "code",
   "execution_count": 7,
   "id": "0a8ecbc5-3905-448f-831b-29a0a138e8a5",
   "metadata": {},
   "outputs": [],
   "source": [
    "# to datetime\n",
    "data['date'] = pd.to_datetime(data['date'])"
   ]
  },
  {
   "cell_type": "code",
   "execution_count": null,
   "id": "cd670c1e-0b50-4ac5-b47d-190b8cf6faff",
   "metadata": {},
   "outputs": [],
   "source": []
  },
  {
   "cell_type": "markdown",
   "id": "575b2637",
   "metadata": {},
   "source": [
    "### [과제2] 가설설정\n",
    "#### '가설' 이란 단어를 생각해보면, 우리가 직접 가설을 만들어야 할것 같지만 통계에서 분석기법별 귀무가설/대립가설은 정해져있습니다.\n",
    "- 귀무가설은 차이가 없다, 연관성이 없다, 효과가 없다.\n",
    "- 대립가설은 차이가 있다, 연관성이 있다, 효과가 있다. 라고 간단하게 이해하시면 좋습니다.\n",
    "\n",
    "#### 간단한 예로, 온도와 따릉이 대여량간 가설을 수립 해본다면\n",
    "\n",
    "    - 귀무가설 : 온도와 따릉이 간에는 연관성이 없다.\n",
    "    - 대립가설 : 온도와 따릉이 간에는 연관성이 있다.\n",
    "\n",
    "로 가설이 자연스레 수립 됩니다.\n",
    "\n",
    "\n",
    "\n",
    "---\n",
    "\n",
    "\n",
    "#### <span style=\"color: green\"> 'precipitation' 변수를 포함하여, 최소 5개 이상의 Feature와 따릉이 대여량 간 가설을 수립해주세요. </span>\n",
    "\n",
    "##### Guide : Target은 따릉이 대여량 입니다."
   ]
  },
  {
   "cell_type": "markdown",
   "id": "3d1b7293",
   "metadata": {},
   "source": [
    "- 가설 1 : 1시간전 강우 여부와 따릉이간에는 연관성이 없다.\n",
    "\n",
    "    \n",
    "    ㅇ 대립가설 : 1시간전 강우 여부와 따릉이 대여량 간에는 연관성이 있다.\n",
    "\n",
    "\n",
    "- 가설 2 : 미세먼지 농도와 따릉이 대여량에는 연관성이 없다.\n",
    "\n",
    "    \n",
    "    ㅇ 대립가설 : 미세먼지 농도와 따릉이 대여량에는 연관성이 있다.\n",
    "\n",
    "\n",
    "- 가설 3 : 없다.\n",
    "\n",
    "    \n",
    "    ㅇ 대립가설 : \n",
    "\n",
    "\n",
    "- 가설 4 : 없다.\n",
    "\n",
    "    \n",
    "    ㅇ 대립가설 : 1시간전 강우 여부와 따릉이 대여량 간에는 연관성이 있다.\n",
    "\n",
    "\n",
    "- 가설 5 : 없다.\n",
    "\n",
    "    \n",
    "    ㅇ 대립가설 : 1시간전 강우 여부와 따릉이 대여량 간에는 연관성이 있다.\n",
    "\n",
    "\n",
    "- 가설 6 : 없다.\n",
    "\n",
    "    \n",
    "    ㅇ 대립가설 : 1시간전 강우 여부와 따릉이 대여량 간에는 연관성이 있다.\n",
    "\n"
   ]
  },
  {
   "cell_type": "markdown",
   "id": "68202f34",
   "metadata": {},
   "source": [
    "### [과제3] 단변량 분석\n",
    "\n",
    "단변량 분석은 데이터분석의 매우 기초적인 분석기법으로, 독립적인 개별 변수가 가지고있는 특성들을 이해하는 과정입니다.\n",
    "\n",
    "<span style=\"color: green\"> 개별 변수에 대해 아래 사항들을 분석해보세요. </span>\n",
    "\n",
    "1. 변수가 내포하고 있는 의미\n",
    "2. 변수가 수치형인지, 범주형인지\n",
    "3. 결측치 존재 여부 및 조치 방안\n",
    "4. 기초 통계량 확인\n",
    "5. 데이터 분포 확인\n",
    "6. 위 정보로부터 파악한 내용 정리\n",
    "7. 추가 분석사항 도출"
   ]
  },
  {
   "cell_type": "markdown",
   "id": "e3fe59cc",
   "metadata": {},
   "source": [
    "### Feature1 : hour"
   ]
  },
  {
   "cell_type": "markdown",
   "id": "74305cdf",
   "metadata": {},
   "source": [
    "1. 변수가 내포하고 있는 의미"
   ]
  },
  {
   "cell_type": "markdown",
   "id": "7808070b",
   "metadata": {},
   "source": [
    "- 변수의 의미를 한번 짚고 넘어갑시다.\n",
    "hour 변수는 어떤 의미를 가지고 있나요?"
   ]
  },
  {
   "cell_type": "markdown",
   "id": "f5598656",
   "metadata": {},
   "source": [
    "2. 변수가 수치형인지 범주형인지\n"
   ]
  },
  {
   "cell_type": "code",
   "execution_count": null,
   "id": "e32a046b",
   "metadata": {},
   "outputs": [],
   "source": [
    "#변수의 자료형을 확인해보세요."
   ]
  },
  {
   "cell_type": "markdown",
   "id": "4812a02e",
   "metadata": {},
   "source": []
  },
  {
   "cell_type": "markdown",
   "id": "52aeba21",
   "metadata": {},
   "source": [
    "3. 변수의 결측치 존재 여부 및 조치방안"
   ]
  },
  {
   "cell_type": "code",
   "execution_count": 3,
   "id": "526c0c27",
   "metadata": {},
   "outputs": [],
   "source": [
    "#변수의 결측치 존재 여부를 확인하고, 만약 결측치가 존재하면 어떻게 처리할지 고민해보세요. "
   ]
  },
  {
   "cell_type": "markdown",
   "id": "4b220fa2",
   "metadata": {},
   "source": []
  },
  {
   "cell_type": "markdown",
   "id": "2d9760fd",
   "metadata": {},
   "source": [
    "4. 변수의 기초 통계량 확인"
   ]
  },
  {
   "cell_type": "code",
   "execution_count": null,
   "id": "3ba272ed",
   "metadata": {},
   "outputs": [],
   "source": [
    "#변수의 기초 통계량을 확인해보세요"
   ]
  },
  {
   "cell_type": "markdown",
   "id": "41b9c5e4",
   "metadata": {},
   "source": []
  },
  {
   "cell_type": "markdown",
   "id": "4eb1b708",
   "metadata": {},
   "source": [
    "5. 변수의 분포 확인"
   ]
  },
  {
   "cell_type": "code",
   "execution_count": 4,
   "id": "8449daa6",
   "metadata": {},
   "outputs": [],
   "source": [
    "#변수의 분포를 시각화 라이브러리를 활용해 확인해보세요."
   ]
  },
  {
   "cell_type": "markdown",
   "id": "6efa8ae0",
   "metadata": {},
   "source": []
  },
  {
   "cell_type": "markdown",
   "id": "314284e2",
   "metadata": {},
   "source": [
    "6. 위 정보로 부터 파악한 내용 정리"
   ]
  },
  {
   "cell_type": "code",
   "execution_count": 5,
   "id": "55bb2a25",
   "metadata": {},
   "outputs": [],
   "source": [
    "#위 정보로부터 파악하신 내용을 정리해보세요."
   ]
  },
  {
   "cell_type": "markdown",
   "id": "a1cf88f9",
   "metadata": {},
   "source": []
  },
  {
   "cell_type": "markdown",
   "id": "5341f7c2",
   "metadata": {},
   "source": [
    "7. 추가 분석사항 도출"
   ]
  },
  {
   "cell_type": "code",
   "execution_count": 7,
   "id": "ebd1fd48",
   "metadata": {},
   "outputs": [],
   "source": [
    "#추가로 분석을 원하는 부분이 있다면 분석후 정리해보세요."
   ]
  },
  {
   "cell_type": "markdown",
   "id": "36924858",
   "metadata": {},
   "source": []
  },
  {
   "cell_type": "markdown",
   "id": "a3ce1e2a",
   "metadata": {},
   "source": [
    "### Feature2 : temperature"
   ]
  },
  {
   "cell_type": "markdown",
   "id": "9d9549c3",
   "metadata": {},
   "source": [
    "1. 변수가 내포하고 있는 의미\n",
    "- 변수의 의미를 한번 짚고 넘어갑시다. 여러분이 생각하는 이 변수의 의미를 작성해보세요."
   ]
  },
  {
   "cell_type": "markdown",
   "id": "ff7aff80",
   "metadata": {},
   "source": []
  },
  {
   "cell_type": "markdown",
   "id": "80fb7110",
   "metadata": {},
   "source": [
    "2. 변수가 수치형인지 범주형인지\n"
   ]
  },
  {
   "cell_type": "code",
   "execution_count": 1,
   "id": "3a67b2cd",
   "metadata": {},
   "outputs": [],
   "source": [
    "#변수의 자료형을 확인해보세요."
   ]
  },
  {
   "cell_type": "markdown",
   "id": "5cd3d5e1",
   "metadata": {},
   "source": []
  },
  {
   "cell_type": "markdown",
   "id": "fd304472",
   "metadata": {},
   "source": [
    "3. 변수의 결측치 존재 여부 및 조치방안"
   ]
  },
  {
   "cell_type": "code",
   "execution_count": 2,
   "id": "f58b4dd9",
   "metadata": {},
   "outputs": [],
   "source": [
    "#변수의 결측치 존재 여부를 확인하고, 만약 결측치가 존재하면 어떻게 처리할지 고민해보세요. "
   ]
  },
  {
   "cell_type": "markdown",
   "id": "f6277084",
   "metadata": {},
   "source": []
  },
  {
   "cell_type": "markdown",
   "id": "e3dd8ac9",
   "metadata": {},
   "source": [
    "4. 변수의 기초 통계량 확인"
   ]
  },
  {
   "cell_type": "code",
   "execution_count": null,
   "id": "0bf6cb4d",
   "metadata": {},
   "outputs": [],
   "source": [
    "#변수의 기초 통계량을 확인해보세요"
   ]
  },
  {
   "cell_type": "markdown",
   "id": "47c1bb97",
   "metadata": {},
   "source": []
  },
  {
   "cell_type": "markdown",
   "id": "98bf76d3",
   "metadata": {},
   "source": [
    "5. 변수의 분포 확인"
   ]
  },
  {
   "cell_type": "code",
   "execution_count": null,
   "id": "9262cdce",
   "metadata": {},
   "outputs": [],
   "source": [
    "#변수의 분포를 시각화 라이브러리를 활용해 확인해보세요."
   ]
  },
  {
   "cell_type": "markdown",
   "id": "d3cffa1c",
   "metadata": {},
   "source": []
  },
  {
   "cell_type": "markdown",
   "id": "237237ea",
   "metadata": {},
   "source": [
    "6. 위 정보로 부터 파악한 내용 정리"
   ]
  },
  {
   "cell_type": "code",
   "execution_count": null,
   "id": "b7aa7a7d",
   "metadata": {},
   "outputs": [],
   "source": [
    "#위 정보로부터 파악하신 내용을 정리해보세요."
   ]
  },
  {
   "cell_type": "markdown",
   "id": "81c4c234",
   "metadata": {},
   "source": []
  },
  {
   "cell_type": "markdown",
   "id": "53b42279",
   "metadata": {},
   "source": [
    "7. 추가 분석사항 도출"
   ]
  },
  {
   "cell_type": "code",
   "execution_count": null,
   "id": "ac3c9543",
   "metadata": {},
   "outputs": [],
   "source": [
    "#추가로 분석을 원하는 부분이 있다면 분석후 정리해보세요."
   ]
  },
  {
   "cell_type": "markdown",
   "id": "401f5827",
   "metadata": {},
   "source": []
  },
  {
   "cell_type": "markdown",
   "id": "d28e0cb7",
   "metadata": {},
   "source": [
    "### Feature3 : precipitation"
   ]
  },
  {
   "cell_type": "markdown",
   "id": "db87af28",
   "metadata": {},
   "source": [
    "1. 변수가 내포하고 있는 의미\n",
    "- 변수의 의미를 한번 짚고 넘어갑시다. 여러분이 생각하는 이 변수의 의미를 작성해보세요."
   ]
  },
  {
   "cell_type": "markdown",
   "id": "4d9c3992",
   "metadata": {},
   "source": []
  },
  {
   "cell_type": "markdown",
   "id": "e846d148",
   "metadata": {},
   "source": [
    "2. 변수가 수치형인지 범주형인지\n"
   ]
  },
  {
   "cell_type": "code",
   "execution_count": null,
   "id": "c5cb9413",
   "metadata": {},
   "outputs": [],
   "source": [
    "#변수의 자료형을 확인해보세요."
   ]
  },
  {
   "cell_type": "markdown",
   "id": "84751527",
   "metadata": {},
   "source": []
  },
  {
   "cell_type": "markdown",
   "id": "c3608528",
   "metadata": {},
   "source": [
    "3. 변수의 결측치 존재 여부 및 조치방안"
   ]
  },
  {
   "cell_type": "code",
   "execution_count": null,
   "id": "21b3f244",
   "metadata": {},
   "outputs": [],
   "source": [
    "#변수의 결측치 존재 여부를 확인하고, 만약 결측치가 존재하면 어떻게 처리할지 고민해보세요. "
   ]
  },
  {
   "cell_type": "markdown",
   "id": "91d60fd2",
   "metadata": {},
   "source": []
  },
  {
   "cell_type": "markdown",
   "id": "d063e262",
   "metadata": {},
   "source": [
    "4. 변수의 기초 통계량 확인"
   ]
  },
  {
   "cell_type": "code",
   "execution_count": null,
   "id": "b23ce6d9",
   "metadata": {},
   "outputs": [],
   "source": [
    "#변수의 기초 통계량을 확인해보세요"
   ]
  },
  {
   "cell_type": "markdown",
   "id": "bf6eeffe",
   "metadata": {},
   "source": []
  },
  {
   "cell_type": "markdown",
   "id": "69e61d5f",
   "metadata": {},
   "source": [
    "5. 변수의 분포 확인"
   ]
  },
  {
   "cell_type": "code",
   "execution_count": null,
   "id": "afd1a1ab",
   "metadata": {},
   "outputs": [],
   "source": [
    "#변수의 분포를 시각화 라이브러리를 활용해 확인해보세요."
   ]
  },
  {
   "cell_type": "markdown",
   "id": "39648152",
   "metadata": {},
   "source": []
  },
  {
   "cell_type": "markdown",
   "id": "b5588afa",
   "metadata": {},
   "source": [
    "6. 위 정보로 부터 파악한 내용 정리"
   ]
  },
  {
   "cell_type": "code",
   "execution_count": null,
   "id": "8f0b56cc",
   "metadata": {},
   "outputs": [],
   "source": [
    "#위 정보로부터 파악하신 내용을 정리해보세요."
   ]
  },
  {
   "cell_type": "markdown",
   "id": "144c75e3",
   "metadata": {},
   "source": []
  },
  {
   "cell_type": "markdown",
   "id": "a26321f4",
   "metadata": {},
   "source": [
    "7. 추가 분석사항 도출"
   ]
  },
  {
   "cell_type": "code",
   "execution_count": null,
   "id": "9edfbb66",
   "metadata": {},
   "outputs": [],
   "source": [
    "#추가로 분석을 원하는 부분이 있다면 분석후 정리해보세요."
   ]
  },
  {
   "cell_type": "markdown",
   "id": "573ef087",
   "metadata": {},
   "source": []
  },
  {
   "cell_type": "markdown",
   "id": "c559e931",
   "metadata": {},
   "source": [
    "### Feature4 : windspeed"
   ]
  },
  {
   "cell_type": "markdown",
   "id": "8dd26492",
   "metadata": {},
   "source": [
    "1. 변수가 내포하고 있는 의미\n",
    "- 변수의 의미를 한번 짚고 넘어갑시다. 여러분이 생각하는 이 변수의 의미를 작성해보세요."
   ]
  },
  {
   "cell_type": "markdown",
   "id": "92d84b4e",
   "metadata": {},
   "source": []
  },
  {
   "cell_type": "markdown",
   "id": "4addf322",
   "metadata": {},
   "source": [
    "2. 변수가 수치형인지 범주형인지\n"
   ]
  },
  {
   "cell_type": "code",
   "execution_count": null,
   "id": "0bbfe1e8",
   "metadata": {},
   "outputs": [],
   "source": [
    "#변수의 자료형을 확인해보세요."
   ]
  },
  {
   "cell_type": "markdown",
   "id": "b01c1c4b",
   "metadata": {},
   "source": []
  },
  {
   "cell_type": "markdown",
   "id": "80736199",
   "metadata": {},
   "source": [
    "3. 변수의 결측치 존재 여부 및 조치방안"
   ]
  },
  {
   "cell_type": "code",
   "execution_count": null,
   "id": "c82ca509",
   "metadata": {},
   "outputs": [],
   "source": [
    "#변수의 결측치 존재 여부를 확인하고, 만약 결측치가 존재하면 어떻게 처리할지 고민해보세요. "
   ]
  },
  {
   "cell_type": "markdown",
   "id": "7f56f664",
   "metadata": {},
   "source": []
  },
  {
   "cell_type": "markdown",
   "id": "b5b3cf7b",
   "metadata": {},
   "source": [
    "4. 변수의 기초 통계량 확인"
   ]
  },
  {
   "cell_type": "code",
   "execution_count": null,
   "id": "4fd21403",
   "metadata": {},
   "outputs": [],
   "source": [
    "#변수의 기초 통계량을 확인해보세요"
   ]
  },
  {
   "cell_type": "markdown",
   "id": "1a8b4113",
   "metadata": {},
   "source": []
  },
  {
   "cell_type": "markdown",
   "id": "f3f21179",
   "metadata": {},
   "source": [
    "5. 변수의 분포 확인"
   ]
  },
  {
   "cell_type": "code",
   "execution_count": null,
   "id": "13c0c19b",
   "metadata": {},
   "outputs": [],
   "source": [
    "#변수의 분포를 시각화 라이브러리를 활용해 확인해보세요."
   ]
  },
  {
   "cell_type": "markdown",
   "id": "f96fdfec",
   "metadata": {},
   "source": []
  },
  {
   "cell_type": "markdown",
   "id": "294da580",
   "metadata": {},
   "source": [
    "6. 위 정보로 부터 파악한 내용 정리"
   ]
  },
  {
   "cell_type": "code",
   "execution_count": null,
   "id": "9ac309cb",
   "metadata": {},
   "outputs": [],
   "source": [
    "#위 정보로부터 파악하신 내용을 정리해보세요."
   ]
  },
  {
   "cell_type": "markdown",
   "id": "bfdd66fe",
   "metadata": {},
   "source": []
  },
  {
   "cell_type": "markdown",
   "id": "ebd3d9ce",
   "metadata": {},
   "source": [
    "7. 추가 분석사항 도출"
   ]
  },
  {
   "cell_type": "code",
   "execution_count": null,
   "id": "a0853705",
   "metadata": {},
   "outputs": [],
   "source": [
    "#추가로 분석을 원하는 부분이 있다면 분석후 정리해보세요."
   ]
  },
  {
   "cell_type": "markdown",
   "id": "75562929",
   "metadata": {},
   "source": []
  },
  {
   "cell_type": "markdown",
   "id": "5288ed83",
   "metadata": {},
   "source": [
    "### Feature5 : humidity"
   ]
  },
  {
   "cell_type": "markdown",
   "id": "84a1c1af",
   "metadata": {},
   "source": [
    "1. 변수가 내포하고 있는 의미\n",
    "- 변수의 의미를 한번 짚고 넘어갑시다. 여러분이 생각하는 이 변수의 의미를 작성해보세요."
   ]
  },
  {
   "cell_type": "markdown",
   "id": "b15d5fd8",
   "metadata": {},
   "source": []
  },
  {
   "cell_type": "markdown",
   "id": "818c5424",
   "metadata": {},
   "source": [
    "2. 변수가 수치형인지 범주형인지\n"
   ]
  },
  {
   "cell_type": "code",
   "execution_count": null,
   "id": "940194d4",
   "metadata": {},
   "outputs": [],
   "source": [
    "#변수의 자료형을 확인해보세요."
   ]
  },
  {
   "cell_type": "markdown",
   "id": "a3323588",
   "metadata": {},
   "source": []
  },
  {
   "cell_type": "markdown",
   "id": "b646b645",
   "metadata": {},
   "source": [
    "3. 변수의 결측치 존재 여부 및 조치방안"
   ]
  },
  {
   "cell_type": "code",
   "execution_count": null,
   "id": "139309ef",
   "metadata": {},
   "outputs": [],
   "source": [
    "#변수의 결측치 존재 여부를 확인하고, 만약 결측치가 존재하면 어떻게 처리할지 고민해보세요. "
   ]
  },
  {
   "cell_type": "markdown",
   "id": "5f5771ab",
   "metadata": {},
   "source": []
  },
  {
   "cell_type": "markdown",
   "id": "8b275011",
   "metadata": {},
   "source": [
    "4. 변수의 기초 통계량 확인"
   ]
  },
  {
   "cell_type": "code",
   "execution_count": null,
   "id": "f99ff947",
   "metadata": {},
   "outputs": [],
   "source": [
    "#변수의 기초 통계량을 확인해보세요"
   ]
  },
  {
   "cell_type": "markdown",
   "id": "19e84e1c",
   "metadata": {},
   "source": []
  },
  {
   "cell_type": "markdown",
   "id": "da714570",
   "metadata": {},
   "source": [
    "5. 변수의 분포 확인"
   ]
  },
  {
   "cell_type": "code",
   "execution_count": null,
   "id": "fde579b3",
   "metadata": {},
   "outputs": [],
   "source": [
    "#변수의 분포를 시각화 라이브러리를 활용해 확인해보세요."
   ]
  },
  {
   "cell_type": "markdown",
   "id": "48632be2",
   "metadata": {},
   "source": []
  },
  {
   "cell_type": "markdown",
   "id": "aa6d18ca",
   "metadata": {},
   "source": [
    "6. 위 정보로 부터 파악한 내용 정리"
   ]
  },
  {
   "cell_type": "code",
   "execution_count": null,
   "id": "e724f679",
   "metadata": {},
   "outputs": [],
   "source": [
    "#위 정보로부터 파악하신 내용을 정리해보세요."
   ]
  },
  {
   "cell_type": "markdown",
   "id": "076a33de",
   "metadata": {},
   "source": []
  },
  {
   "cell_type": "markdown",
   "id": "7b1e76c6",
   "metadata": {},
   "source": [
    "7. 추가 분석사항 도출"
   ]
  },
  {
   "cell_type": "code",
   "execution_count": null,
   "id": "c630657e",
   "metadata": {},
   "outputs": [],
   "source": [
    "#추가로 분석을 원하는 부분이 있다면 분석후 정리해보세요."
   ]
  },
  {
   "cell_type": "markdown",
   "id": "f0bd91a9",
   "metadata": {},
   "source": []
  },
  {
   "cell_type": "markdown",
   "id": "b452ec9d",
   "metadata": {},
   "source": [
    "### Feature6 : visibility"
   ]
  },
  {
   "cell_type": "markdown",
   "id": "e3525dd8",
   "metadata": {},
   "source": [
    "1. 변수가 내포하고 있는 의미\n",
    "- 변수의 의미를 한번 짚고 넘어갑시다. 여러분이 생각하는 이 변수의 의미를 작성해보세요."
   ]
  },
  {
   "cell_type": "markdown",
   "id": "e83795e7",
   "metadata": {},
   "source": []
  },
  {
   "cell_type": "markdown",
   "id": "abdf0d10",
   "metadata": {},
   "source": [
    "2. 변수가 수치형인지 범주형인지\n"
   ]
  },
  {
   "cell_type": "code",
   "execution_count": null,
   "id": "9421677b",
   "metadata": {},
   "outputs": [],
   "source": [
    "#변수의 자료형을 확인해보세요."
   ]
  },
  {
   "cell_type": "markdown",
   "id": "bd1fc0a9",
   "metadata": {},
   "source": []
  },
  {
   "cell_type": "markdown",
   "id": "33ee63d0",
   "metadata": {},
   "source": [
    "3. 변수의 결측치 존재 여부 및 조치방안"
   ]
  },
  {
   "cell_type": "code",
   "execution_count": null,
   "id": "8cd19d6b",
   "metadata": {},
   "outputs": [],
   "source": [
    "#변수의 결측치 존재 여부를 확인하고, 만약 결측치가 존재하면 어떻게 처리할지 고민해보세요. "
   ]
  },
  {
   "cell_type": "markdown",
   "id": "c97abd5b",
   "metadata": {},
   "source": []
  },
  {
   "cell_type": "markdown",
   "id": "e4377d31",
   "metadata": {},
   "source": [
    "4. 변수의 기초 통계량 확인"
   ]
  },
  {
   "cell_type": "code",
   "execution_count": null,
   "id": "c48652d9",
   "metadata": {},
   "outputs": [],
   "source": [
    "#변수의 기초 통계량을 확인해보세요"
   ]
  },
  {
   "cell_type": "markdown",
   "id": "0744e20f",
   "metadata": {},
   "source": []
  },
  {
   "cell_type": "markdown",
   "id": "369ca3b3",
   "metadata": {},
   "source": [
    "5. 변수의 분포 확인"
   ]
  },
  {
   "cell_type": "code",
   "execution_count": null,
   "id": "38600817",
   "metadata": {},
   "outputs": [],
   "source": [
    "#변수의 분포를 시각화 라이브러리를 활용해 확인해보세요."
   ]
  },
  {
   "cell_type": "markdown",
   "id": "9bb4fa47",
   "metadata": {},
   "source": []
  },
  {
   "cell_type": "markdown",
   "id": "8587b95e",
   "metadata": {},
   "source": [
    "6. 위 정보로 부터 파악한 내용 정리"
   ]
  },
  {
   "cell_type": "code",
   "execution_count": null,
   "id": "a8b42a8d",
   "metadata": {},
   "outputs": [],
   "source": [
    "#위 정보로부터 파악하신 내용을 정리해보세요."
   ]
  },
  {
   "cell_type": "markdown",
   "id": "10d0ad44",
   "metadata": {},
   "source": []
  },
  {
   "cell_type": "markdown",
   "id": "c08d6411",
   "metadata": {},
   "source": [
    "7. 추가 분석사항 도출"
   ]
  },
  {
   "cell_type": "code",
   "execution_count": null,
   "id": "0d628b55",
   "metadata": {},
   "outputs": [],
   "source": [
    "#추가로 분석을 원하는 부분이 있다면 분석후 정리해보세요."
   ]
  },
  {
   "cell_type": "markdown",
   "id": "897579c4",
   "metadata": {},
   "source": []
  },
  {
   "cell_type": "markdown",
   "id": "eb5462b2",
   "metadata": {},
   "source": [
    "### Feature7 : ozone"
   ]
  },
  {
   "cell_type": "markdown",
   "id": "b1404e85",
   "metadata": {},
   "source": [
    "1. 변수가 내포하고 있는 의미\n",
    "- 변수의 의미를 한번 짚고 넘어갑시다. 여러분이 생각하는 이 변수의 의미를 작성해보세요."
   ]
  },
  {
   "cell_type": "markdown",
   "id": "208eaccb",
   "metadata": {},
   "source": []
  },
  {
   "cell_type": "markdown",
   "id": "5685fdc2",
   "metadata": {},
   "source": [
    "2. 변수가 수치형인지 범주형인지\n"
   ]
  },
  {
   "cell_type": "code",
   "execution_count": null,
   "id": "179f70ad",
   "metadata": {},
   "outputs": [],
   "source": [
    "#변수의 자료형을 확인해보세요."
   ]
  },
  {
   "cell_type": "markdown",
   "id": "f1dee473",
   "metadata": {},
   "source": []
  },
  {
   "cell_type": "markdown",
   "id": "c2bf19cf",
   "metadata": {},
   "source": [
    "3. 변수의 결측치 존재 여부 및 조치방안"
   ]
  },
  {
   "cell_type": "code",
   "execution_count": null,
   "id": "01127506",
   "metadata": {},
   "outputs": [],
   "source": [
    "#변수의 결측치 존재 여부를 확인하고, 만약 결측치가 존재하면 어떻게 처리할지 고민해보세요. "
   ]
  },
  {
   "cell_type": "markdown",
   "id": "f9d7529a",
   "metadata": {},
   "source": []
  },
  {
   "cell_type": "markdown",
   "id": "97613af8",
   "metadata": {},
   "source": [
    "4. 변수의 기초 통계량 확인"
   ]
  },
  {
   "cell_type": "code",
   "execution_count": null,
   "id": "274e7e22",
   "metadata": {},
   "outputs": [],
   "source": [
    "#변수의 기초 통계량을 확인해보세요"
   ]
  },
  {
   "cell_type": "markdown",
   "id": "aaabce87",
   "metadata": {},
   "source": []
  },
  {
   "cell_type": "markdown",
   "id": "34e4a231",
   "metadata": {},
   "source": [
    "5. 변수의 분포 확인"
   ]
  },
  {
   "cell_type": "code",
   "execution_count": null,
   "id": "c1e78765",
   "metadata": {},
   "outputs": [],
   "source": [
    "#변수의 분포를 시각화 라이브러리를 활용해 확인해보세요."
   ]
  },
  {
   "cell_type": "markdown",
   "id": "4979fa69",
   "metadata": {},
   "source": []
  },
  {
   "cell_type": "markdown",
   "id": "9221dc2f",
   "metadata": {},
   "source": [
    "6. 위 정보로 부터 파악한 내용 정리"
   ]
  },
  {
   "cell_type": "code",
   "execution_count": null,
   "id": "ccf069f4",
   "metadata": {},
   "outputs": [],
   "source": [
    "#위 정보로부터 파악하신 내용을 정리해보세요."
   ]
  },
  {
   "cell_type": "markdown",
   "id": "20dd7939",
   "metadata": {},
   "source": []
  },
  {
   "cell_type": "markdown",
   "id": "a116dfd1",
   "metadata": {},
   "source": [
    "7. 추가 분석사항 도출"
   ]
  },
  {
   "cell_type": "code",
   "execution_count": null,
   "id": "6c78ab5e",
   "metadata": {},
   "outputs": [],
   "source": [
    "#추가로 분석을 원하는 부분이 있다면 분석후 정리해보세요."
   ]
  },
  {
   "cell_type": "markdown",
   "id": "955439df",
   "metadata": {},
   "source": []
  },
  {
   "cell_type": "markdown",
   "id": "d84965f9",
   "metadata": {},
   "source": [
    "### Feature8 : PM10"
   ]
  },
  {
   "cell_type": "markdown",
   "id": "410f414d",
   "metadata": {},
   "source": [
    "1. 변수가 내포하고 있는 의미\n",
    "- 변수의 의미를 한번 짚고 넘어갑시다. 여러분이 생각하는 이 변수의 의미를 작성해보세요."
   ]
  },
  {
   "cell_type": "markdown",
   "id": "35652bcd",
   "metadata": {},
   "source": []
  },
  {
   "cell_type": "markdown",
   "id": "e4f4fa44",
   "metadata": {},
   "source": [
    "2. 변수가 수치형인지 범주형인지\n"
   ]
  },
  {
   "cell_type": "code",
   "execution_count": null,
   "id": "7e6bce03",
   "metadata": {},
   "outputs": [],
   "source": [
    "#변수의 자료형을 확인해보세요."
   ]
  },
  {
   "cell_type": "markdown",
   "id": "bb669856",
   "metadata": {},
   "source": []
  },
  {
   "cell_type": "markdown",
   "id": "444ac178",
   "metadata": {},
   "source": [
    "3. 변수의 결측치 존재 여부 및 조치방안"
   ]
  },
  {
   "cell_type": "code",
   "execution_count": null,
   "id": "5251ad4e",
   "metadata": {},
   "outputs": [],
   "source": [
    "#변수의 결측치 존재 여부를 확인하고, 만약 결측치가 존재하면 어떻게 처리할지 고민해보세요. "
   ]
  },
  {
   "cell_type": "markdown",
   "id": "af80cf3f",
   "metadata": {},
   "source": []
  },
  {
   "cell_type": "markdown",
   "id": "0591ba7d",
   "metadata": {},
   "source": [
    "4. 변수의 기초 통계량 확인"
   ]
  },
  {
   "cell_type": "code",
   "execution_count": null,
   "id": "3c722c88",
   "metadata": {},
   "outputs": [],
   "source": [
    "#변수의 기초 통계량을 확인해보세요"
   ]
  },
  {
   "cell_type": "markdown",
   "id": "7f72354b",
   "metadata": {},
   "source": []
  },
  {
   "cell_type": "markdown",
   "id": "958b960f",
   "metadata": {},
   "source": [
    "5. 변수의 분포 확인"
   ]
  },
  {
   "cell_type": "code",
   "execution_count": null,
   "id": "91879d5e",
   "metadata": {},
   "outputs": [],
   "source": [
    "#변수의 분포를 시각화 라이브러리를 활용해 확인해보세요."
   ]
  },
  {
   "cell_type": "markdown",
   "id": "5f83c53c",
   "metadata": {},
   "source": []
  },
  {
   "cell_type": "markdown",
   "id": "d0eb645a",
   "metadata": {},
   "source": [
    "6. 위 정보로 부터 파악한 내용 정리"
   ]
  },
  {
   "cell_type": "code",
   "execution_count": null,
   "id": "1b125107",
   "metadata": {},
   "outputs": [],
   "source": [
    "#위 정보로부터 파악하신 내용을 정리해보세요."
   ]
  },
  {
   "cell_type": "markdown",
   "id": "124c4344",
   "metadata": {},
   "source": []
  },
  {
   "cell_type": "markdown",
   "id": "43bf540e",
   "metadata": {},
   "source": [
    "7. 추가 분석사항 도출"
   ]
  },
  {
   "cell_type": "code",
   "execution_count": null,
   "id": "4687602e",
   "metadata": {},
   "outputs": [],
   "source": [
    "#추가로 분석을 원하는 부분이 있다면 분석후 정리해보세요."
   ]
  },
  {
   "cell_type": "markdown",
   "id": "f88439a9",
   "metadata": {},
   "source": []
  },
  {
   "cell_type": "markdown",
   "id": "ac39b647",
   "metadata": {},
   "source": [
    "### Feature9 : PM2.5"
   ]
  },
  {
   "cell_type": "markdown",
   "id": "af3e05ab",
   "metadata": {},
   "source": [
    "1. 변수가 내포하고 있는 의미\n",
    "- 변수의 의미를 한번 짚고 넘어갑시다. 여러분이 생각하는 이 변수의 의미를 작성해보세요."
   ]
  },
  {
   "cell_type": "markdown",
   "id": "1863ed69",
   "metadata": {},
   "source": []
  },
  {
   "cell_type": "markdown",
   "id": "5e3a487d",
   "metadata": {},
   "source": [
    "2. 변수가 수치형인지 범주형인지\n"
   ]
  },
  {
   "cell_type": "code",
   "execution_count": null,
   "id": "aca47642",
   "metadata": {},
   "outputs": [],
   "source": [
    "#변수의 자료형을 확인해보세요."
   ]
  },
  {
   "cell_type": "markdown",
   "id": "378b419a",
   "metadata": {},
   "source": []
  },
  {
   "cell_type": "markdown",
   "id": "2f9c6208",
   "metadata": {},
   "source": [
    "3. 변수의 결측치 존재 여부 및 조치방안"
   ]
  },
  {
   "cell_type": "code",
   "execution_count": null,
   "id": "8c4713ce",
   "metadata": {},
   "outputs": [],
   "source": [
    "#변수의 결측치 존재 여부를 확인하고, 만약 결측치가 존재하면 어떻게 처리할지 고민해보세요. "
   ]
  },
  {
   "cell_type": "markdown",
   "id": "1254dd35",
   "metadata": {},
   "source": []
  },
  {
   "cell_type": "markdown",
   "id": "67d6dfd0",
   "metadata": {},
   "source": [
    "4. 변수의 기초 통계량 확인"
   ]
  },
  {
   "cell_type": "code",
   "execution_count": null,
   "id": "86b52320",
   "metadata": {},
   "outputs": [],
   "source": [
    "#변수의 기초 통계량을 확인해보세요"
   ]
  },
  {
   "cell_type": "markdown",
   "id": "6e1ac713",
   "metadata": {},
   "source": []
  },
  {
   "cell_type": "markdown",
   "id": "b3b4b6d8",
   "metadata": {},
   "source": [
    "5. 변수의 분포 확인"
   ]
  },
  {
   "cell_type": "code",
   "execution_count": null,
   "id": "9c351fcc",
   "metadata": {},
   "outputs": [],
   "source": [
    "#변수의 분포를 시각화 라이브러리를 활용해 확인해보세요."
   ]
  },
  {
   "cell_type": "markdown",
   "id": "c33553f5",
   "metadata": {},
   "source": []
  },
  {
   "cell_type": "markdown",
   "id": "8cb3f8b7",
   "metadata": {},
   "source": [
    "6. 위 정보로 부터 파악한 내용 정리"
   ]
  },
  {
   "cell_type": "code",
   "execution_count": null,
   "id": "3d71b321",
   "metadata": {},
   "outputs": [],
   "source": [
    "#위 정보로부터 파악하신 내용을 정리해보세요."
   ]
  },
  {
   "cell_type": "markdown",
   "id": "4d4be686",
   "metadata": {},
   "source": []
  },
  {
   "cell_type": "markdown",
   "id": "a9e05e9d",
   "metadata": {},
   "source": [
    "7. 추가 분석사항 도출"
   ]
  },
  {
   "cell_type": "code",
   "execution_count": null,
   "id": "0c695a90",
   "metadata": {},
   "outputs": [],
   "source": [
    "#추가로 분석을 원하는 부분이 있다면 분석후 정리해보세요."
   ]
  },
  {
   "cell_type": "markdown",
   "id": "634db6a4",
   "metadata": {},
   "source": []
  },
  {
   "cell_type": "markdown",
   "id": "13cf9192",
   "metadata": {},
   "source": [
    "### Count (Target)"
   ]
  },
  {
   "cell_type": "markdown",
   "id": "f17f7896",
   "metadata": {},
   "source": [
    "1. 변수가 내포하고 있는 의미\n",
    "- 변수의 의미를 한번 짚고 넘어갑시다. 여러분이 생각하는 이 변수의 의미를 작성해보세요."
   ]
  },
  {
   "cell_type": "markdown",
   "id": "2d3a680f",
   "metadata": {},
   "source": []
  },
  {
   "cell_type": "markdown",
   "id": "d07c905a",
   "metadata": {},
   "source": [
    "2. 변수가 수치형인지 범주형인지\n"
   ]
  },
  {
   "cell_type": "code",
   "execution_count": null,
   "id": "3857893f",
   "metadata": {},
   "outputs": [],
   "source": [
    "#변수의 자료형을 확인해보세요."
   ]
  },
  {
   "cell_type": "markdown",
   "id": "d7318dbe",
   "metadata": {},
   "source": []
  },
  {
   "cell_type": "markdown",
   "id": "c445d3b4",
   "metadata": {},
   "source": [
    "3. 변수의 결측치 존재 여부 및 조치방안"
   ]
  },
  {
   "cell_type": "code",
   "execution_count": null,
   "id": "da2b08dd",
   "metadata": {},
   "outputs": [],
   "source": [
    "#변수의 결측치 존재 여부를 확인하고, 만약 결측치가 존재하면 어떻게 처리할지 고민해보세요. "
   ]
  },
  {
   "cell_type": "markdown",
   "id": "2032e32a",
   "metadata": {},
   "source": []
  },
  {
   "cell_type": "markdown",
   "id": "241967d1",
   "metadata": {},
   "source": [
    "4. 변수의 기초 통계량 확인"
   ]
  },
  {
   "cell_type": "code",
   "execution_count": null,
   "id": "ddf1e08d",
   "metadata": {},
   "outputs": [],
   "source": [
    "#변수의 기초 통계량을 확인해보세요"
   ]
  },
  {
   "cell_type": "markdown",
   "id": "e15976bb",
   "metadata": {},
   "source": []
  },
  {
   "cell_type": "markdown",
   "id": "1f722db3",
   "metadata": {},
   "source": [
    "5. 변수의 분포 확인"
   ]
  },
  {
   "cell_type": "code",
   "execution_count": null,
   "id": "dbce6114",
   "metadata": {},
   "outputs": [],
   "source": [
    "#변수의 분포를 시각화 라이브러리를 활용해 확인해보세요."
   ]
  },
  {
   "cell_type": "markdown",
   "id": "4626ef1a",
   "metadata": {},
   "source": []
  },
  {
   "cell_type": "markdown",
   "id": "aa682ddf",
   "metadata": {},
   "source": [
    "6. 위 정보로 부터 파악한 내용 정리"
   ]
  },
  {
   "cell_type": "code",
   "execution_count": null,
   "id": "89c54902",
   "metadata": {},
   "outputs": [],
   "source": [
    "#위 정보로부터 파악하신 내용을 정리해보세요."
   ]
  },
  {
   "cell_type": "markdown",
   "id": "84bc6b7b",
   "metadata": {},
   "source": []
  },
  {
   "cell_type": "markdown",
   "id": "83e4f02d",
   "metadata": {},
   "source": [
    "7. 추가 분석사항 도출"
   ]
  },
  {
   "cell_type": "code",
   "execution_count": null,
   "id": "2f74fe51",
   "metadata": {},
   "outputs": [],
   "source": [
    "#추가로 분석을 원하는 부분이 있다면 분석후 정리해보세요."
   ]
  },
  {
   "cell_type": "markdown",
   "id": "4d248150",
   "metadata": {},
   "source": []
  },
  {
   "cell_type": "markdown",
   "id": "daa6458d",
   "metadata": {},
   "source": [
    "### 4.이변량 분석 \n",
    "* 자료의 종류에 맞게 X --> Y 에 대해서 그래프(시각화)와 가설검정(수치화)를 수행하고 결과를 평가합니다.\n",
    "* 가설검정시 다음의 항목을 참조하여 수행합니다.\n",
    "    * 적절한 유의수준\n",
    "    * 숫자 --> 숫자 : 상관분석\n",
    "    * 범주 --> 범주 : 카이제곱검정\n",
    "    * 범주 --> 숫자 : t검정, 분산분석\n",
    "    * 숫자 --> 범주 : 로지스틱 회귀모형을 통해, 회귀계수의 P.value로 검정을 수행합니다."
   ]
  },
  {
   "cell_type": "markdown",
   "id": "88936c1d",
   "metadata": {},
   "source": [
    "#### (1) 범주형 Feature --> 숫자형 Y (따릉이 대여 Count)\n",
    "\n",
    "<font color=\"green\">* 모든 범주형 Feature에 대해서 Y와 비교하여 차트를 그리고 수치화 하시오.</font>\n",
    "\n",
    "\n",
    "        1. 시각화 : 그래프를 활용한 데이터 분석\n",
    "        2. 수치화 : t-test, anova\n",
    "        3. 관계 평가 (가설 검정)"
   ]
  },
  {
   "cell_type": "markdown",
   "id": "47716272",
   "metadata": {},
   "source": [
    "1. 강수 여부와 따릉이 대여량간 이변량 분석"
   ]
  },
  {
   "cell_type": "code",
   "execution_count": 9,
   "id": "8083dd04",
   "metadata": {},
   "outputs": [],
   "source": [
    "#데이터 타입에 주의하여 이변량 분석을 해보세요"
   ]
  },
  {
   "cell_type": "markdown",
   "id": "6163f710",
   "metadata": {},
   "source": []
  },
  {
   "cell_type": "markdown",
   "id": "9c44a546",
   "metadata": {},
   "source": [
    "#### (2) 숫자형 Feature --> 숫자형 Y (따릉이 대여 Count)\n",
    "\n",
    "<font color=\"green\">* 모든 숫자형 Feature에 대해서 Y와 비교하여 차트를 그리고 수치화 하시오.  </font>\n",
    "\n",
    "\n",
    "        1. 시각화 : 그래프를 활용한 데이터 분석\n",
    "        2. 수치화 : 상관분석\n",
    "        3. 관계 평가 (가설 검정)"
   ]
  },
  {
   "cell_type": "markdown",
   "id": "1c216b73",
   "metadata": {},
   "source": [
    "2. 시간대별 데이터와 따릉이 대여량간 분석"
   ]
  },
  {
   "cell_type": "code",
   "execution_count": 10,
   "id": "a1f26005",
   "metadata": {},
   "outputs": [],
   "source": [
    "#데이터 타입에 주의하여 이변량 분석을 해보세요"
   ]
  },
  {
   "cell_type": "markdown",
   "id": "0bd93a0e",
   "metadata": {},
   "source": []
  },
  {
   "cell_type": "markdown",
   "id": "b1d1461d",
   "metadata": {},
   "source": [
    "3. 온도 데이터와 따릉이 대여량간 분석"
   ]
  },
  {
   "cell_type": "code",
   "execution_count": 11,
   "id": "2fcef2cb",
   "metadata": {},
   "outputs": [],
   "source": [
    "#데이터 타입에 주의하여 이변량 분석을 해보세요"
   ]
  },
  {
   "cell_type": "markdown",
   "id": "7b32f45e",
   "metadata": {},
   "source": []
  },
  {
   "cell_type": "markdown",
   "id": "2af73f1b",
   "metadata": {},
   "source": [
    "4. 풍속 데이터와 따릉이 대여량간 분석"
   ]
  },
  {
   "cell_type": "code",
   "execution_count": 12,
   "id": "c0075623",
   "metadata": {},
   "outputs": [],
   "source": [
    "#데이터 타입에 주의하여 이변량 분석을 해보세요"
   ]
  },
  {
   "cell_type": "markdown",
   "id": "3573ed0e",
   "metadata": {},
   "source": []
  },
  {
   "cell_type": "markdown",
   "id": "7f65d800",
   "metadata": {},
   "source": [
    "5. 습도 데이터와 따릉이 대여량간 분석"
   ]
  },
  {
   "cell_type": "code",
   "execution_count": 13,
   "id": "77bd6696",
   "metadata": {},
   "outputs": [],
   "source": [
    "#데이터 타입에 주의하여 이변량 분석을 해보세요"
   ]
  },
  {
   "cell_type": "markdown",
   "id": "bba4e9c6",
   "metadata": {},
   "source": []
  },
  {
   "cell_type": "markdown",
   "id": "c46fccb5",
   "metadata": {},
   "source": [
    "6. 시정 데이터와 따릉이 대여량간 분석"
   ]
  },
  {
   "cell_type": "code",
   "execution_count": 14,
   "id": "4deb3345",
   "metadata": {},
   "outputs": [],
   "source": [
    "#데이터 타입에 주의하여 이변량 분석을 해보세요"
   ]
  },
  {
   "cell_type": "markdown",
   "id": "dfa0ed85",
   "metadata": {},
   "source": []
  },
  {
   "cell_type": "markdown",
   "id": "3859ef18",
   "metadata": {},
   "source": [
    "7. 오존 데이터와 따릉이 대여량간 분석"
   ]
  },
  {
   "cell_type": "code",
   "execution_count": 15,
   "id": "33f2a061",
   "metadata": {},
   "outputs": [],
   "source": [
    "#데이터 타입에 주의하여 이변량 분석을 해보세요"
   ]
  },
  {
   "cell_type": "markdown",
   "id": "7feca2c1",
   "metadata": {},
   "source": []
  },
  {
   "cell_type": "markdown",
   "id": "486db6db",
   "metadata": {},
   "source": [
    "8. 미세먼지 농도 데이터와 따릉이 대여량간 분석"
   ]
  },
  {
   "cell_type": "code",
   "execution_count": 16,
   "id": "d69657aa",
   "metadata": {},
   "outputs": [],
   "source": [
    "#데이터 타입에 주의하여 이변량 분석을 해보세요"
   ]
  },
  {
   "cell_type": "markdown",
   "id": "c22fd35d",
   "metadata": {},
   "source": []
  },
  {
   "cell_type": "markdown",
   "id": "72c0cb40",
   "metadata": {},
   "source": [
    "9. 초미세먼지 농도 데이터와 따릉이 대여량간 분석"
   ]
  },
  {
   "cell_type": "code",
   "execution_count": 17,
   "id": "6751a594",
   "metadata": {},
   "outputs": [],
   "source": [
    "#데이터 타입에 주의하여 이변량 분석을 해보세요"
   ]
  },
  {
   "cell_type": "markdown",
   "id": "f2aac6f1",
   "metadata": {},
   "source": []
  },
  {
   "cell_type": "markdown",
   "id": "98aeed75",
   "metadata": {},
   "source": [
    "### 5. 가설 검정"
   ]
  },
  {
   "cell_type": "markdown",
   "id": "8b1f5479",
   "metadata": {},
   "source": [
    "#### <font color='green'>1. 강한 관계의 변수 (대립가설 채택)</font>"
   ]
  },
  {
   "cell_type": "markdown",
   "id": "ebfea2a3",
   "metadata": {},
   "source": []
  },
  {
   "cell_type": "markdown",
   "id": "656b4439",
   "metadata": {},
   "source": [
    "#### <font color='green'>2. 약한 관계의 변수</font>\n"
   ]
  },
  {
   "cell_type": "markdown",
   "id": "8af19768",
   "metadata": {},
   "source": []
  },
  {
   "cell_type": "markdown",
   "id": "38b18e41",
   "metadata": {},
   "source": [
    "#### <font color='green'>3. 관계 없는 변수 (귀무가설 채택)</font>\n"
   ]
  },
  {
   "cell_type": "markdown",
   "id": "6afd4247",
   "metadata": {},
   "source": []
  },
  {
   "cell_type": "markdown",
   "id": "51c63e70",
   "metadata": {},
   "source": [
    "### 6. Insight 도출"
   ]
  },
  {
   "cell_type": "markdown",
   "id": "463d041a",
   "metadata": {},
   "source": []
  }
 ],
 "metadata": {
  "colab": {
   "name": "1. 데이터 불러오기 및 분석(EDA).ipynb",
   "provenance": []
  },
  "kernelspec": {
   "display_name": "Python 3 (ipykernel)",
   "language": "python",
   "name": "python3"
  },
  "language_info": {
   "codemirror_mode": {
    "name": "ipython",
    "version": 3
   },
   "file_extension": ".py",
   "mimetype": "text/x-python",
   "name": "python",
   "nbconvert_exporter": "python",
   "pygments_lexer": "ipython3",
   "version": "3.9.12"
  },
  "vscode": {
   "interpreter": {
    "hash": "e42634819b8c191a5d07eaf23810ff32516dd8d3875f28ec3e488928fbd3c187"
   }
  }
 },
 "nbformat": 4,
 "nbformat_minor": 5
}
