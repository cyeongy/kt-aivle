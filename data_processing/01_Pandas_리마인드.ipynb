{
 "nbformat": 4,
 "nbformat_minor": 0,
 "metadata": {
  "colab": {
   "name": "01_Pandas_리마인드.ipynb",
   "provenance": [],
   "collapsed_sections": [],
   "toc_visible": true
  },
  "kernelspec": {
   "display_name": "Python 3",
   "language": "python",
   "name": "python3"
  },
  "language_info": {
   "codemirror_mode": {
    "name": "ipython",
    "version": 3
   },
   "file_extension": ".py",
   "mimetype": "text/x-python",
   "name": "python",
   "nbconvert_exporter": "python",
   "pygments_lexer": "ipython3",
   "version": "3.7.0"
  }
 },
 "cells": [
  {
   "cell_type": "markdown",
   "metadata": {
    "id": "w8C_iSSpYnVO"
   },
   "source": [
    "# Pandas 리마인드\n",
    "\n",
    "\n"
   ]
  },
  {
   "cell_type": "markdown",
   "metadata": {
    "id": "hUWXEi1KYnV4"
   },
   "source": [
    "### 실습 1 : 데이터 살펴보기"
   ]
  },
  {
   "cell_type": "markdown",
   "source": [
    "* Q0. 라이브러리 불러오기"
   ],
   "metadata": {
    "id": "Tgg9HgBlzcMh"
   }
  },
  {
   "cell_type": "code",
   "metadata": {
    "id": "ewDJEDDIwxlJ"
   },
   "source": [
    "import pandas as pd\n",
    "import numpy as np"
   ],
   "execution_count": 3,
   "outputs": []
  },
  {
   "cell_type": "markdown",
   "source": [
    "* Q1. pandas read_csv 함수를 이용하여 파일을 읽고, titanic 변수에 담습니다. \n",
    "    * 링크 : https://raw.githubusercontent.com/DA4BAM/dataset/master/titanic.0.csv\n",
    "\n"
   ],
   "metadata": {
    "id": "LwmkcoAezhDF"
   }
  },
  {
   "cell_type": "code",
   "metadata": {
    "id": "LanCge2QYnV4"
   },
   "source": [
    "titanic = pd.read_csv('https://raw.githubusercontent.com/DA4BAM/dataset/master/titanic.0.csv')"
   ],
   "execution_count": 4,
   "outputs": []
  },
  {
   "cell_type": "markdown",
   "source": [
    "* Q2. titanic의 shape를 확인합니다."
   ],
   "metadata": {
    "id": "hL1WUkR3z0tg"
   }
  },
  {
   "cell_type": "code",
   "source": [
    "titanic.shape"
   ],
   "metadata": {
    "id": "vZf3EEjfzzrm"
   },
   "execution_count": 5,
   "outputs": [
    {
     "data": {
      "text/plain": "(891, 12)"
     },
     "execution_count": 5,
     "metadata": {},
     "output_type": "execute_result"
    }
   ]
  },
  {
   "cell_type": "markdown",
   "source": [
    "* Q3. titanic의 칼럼명과 각 칼럼의 데이터 타입을 확인합니다."
   ],
   "metadata": {
    "id": "fbVwvY0jz8qz"
   }
  },
  {
   "cell_type": "code",
   "metadata": {
    "id": "Sq8-2Z43gK97"
   },
   "source": [
    "(titanic.columns, titanic.dtypes)"
   ],
   "execution_count": 6,
   "outputs": [
    {
     "data": {
      "text/plain": "(Index(['PassengerId', 'Survived', 'Pclass', 'Name', 'Sex', 'Age', 'SibSp',\n        'Parch', 'Ticket', 'Fare', 'Cabin', 'Embarked'],\n       dtype='object'),\n PassengerId      int64\n Survived         int64\n Pclass           int64\n Name            object\n Sex             object\n Age            float64\n SibSp            int64\n Parch            int64\n Ticket          object\n Fare           float64\n Cabin           object\n Embarked        object\n dtype: object)"
     },
     "execution_count": 6,
     "metadata": {},
     "output_type": "execute_result"
    }
   ]
  },
  {
   "cell_type": "code",
   "execution_count": 7,
   "outputs": [
    {
     "name": "stdout",
     "output_type": "stream",
     "text": [
      "<class 'pandas.core.frame.DataFrame'>\n",
      "RangeIndex: 891 entries, 0 to 890\n",
      "Data columns (total 12 columns):\n",
      " #   Column       Non-Null Count  Dtype  \n",
      "---  ------       --------------  -----  \n",
      " 0   PassengerId  891 non-null    int64  \n",
      " 1   Survived     891 non-null    int64  \n",
      " 2   Pclass       891 non-null    int64  \n",
      " 3   Name         891 non-null    object \n",
      " 4   Sex          891 non-null    object \n",
      " 5   Age          714 non-null    float64\n",
      " 6   SibSp        891 non-null    int64  \n",
      " 7   Parch        891 non-null    int64  \n",
      " 8   Ticket       891 non-null    object \n",
      " 9   Fare         891 non-null    float64\n",
      " 10  Cabin        204 non-null    object \n",
      " 11  Embarked     889 non-null    object \n",
      "dtypes: float64(2), int64(5), object(5)\n",
      "memory usage: 83.7+ KB\n"
     ]
    }
   ],
   "source": [
    "titanic.info()"
   ],
   "metadata": {
    "collapsed": false,
    "pycharm": {
     "name": "#%%\n"
    }
   }
  },
  {
   "cell_type": "markdown",
   "source": [
    "* Q4. titanic의 데이터의 첫 3행의 데이터와 마지막 3행의 데이터를 출력합니다."
   ],
   "metadata": {
    "id": "9E3nB3Xw0G1R"
   }
  },
  {
   "cell_type": "code",
   "metadata": {
    "id": "9kU-h_T5gMsD"
   },
   "source": [
    "titanic.head(3)"
   ],
   "execution_count": 8,
   "outputs": [
    {
     "data": {
      "text/plain": "   PassengerId  Survived  Pclass  \\\n0            1         0       3   \n1            2         1       1   \n2            3         1       3   \n\n                                                Name     Sex   Age  SibSp  \\\n0                            Braund, Mr. Owen Harris    male  22.0      1   \n1  Cumings, Mrs. John Bradley (Florence Briggs Th...  female  38.0      1   \n2                             Heikkinen, Miss. Laina  female  26.0      0   \n\n   Parch            Ticket     Fare Cabin Embarked  \n0      0         A/5 21171   7.2500   NaN        S  \n1      0          PC 17599  71.2833   C85        C  \n2      0  STON/O2. 3101282   7.9250   NaN        S  ",
      "text/html": "<div>\n<style scoped>\n    .dataframe tbody tr th:only-of-type {\n        vertical-align: middle;\n    }\n\n    .dataframe tbody tr th {\n        vertical-align: top;\n    }\n\n    .dataframe thead th {\n        text-align: right;\n    }\n</style>\n<table border=\"1\" class=\"dataframe\">\n  <thead>\n    <tr style=\"text-align: right;\">\n      <th></th>\n      <th>PassengerId</th>\n      <th>Survived</th>\n      <th>Pclass</th>\n      <th>Name</th>\n      <th>Sex</th>\n      <th>Age</th>\n      <th>SibSp</th>\n      <th>Parch</th>\n      <th>Ticket</th>\n      <th>Fare</th>\n      <th>Cabin</th>\n      <th>Embarked</th>\n    </tr>\n  </thead>\n  <tbody>\n    <tr>\n      <th>0</th>\n      <td>1</td>\n      <td>0</td>\n      <td>3</td>\n      <td>Braund, Mr. Owen Harris</td>\n      <td>male</td>\n      <td>22.0</td>\n      <td>1</td>\n      <td>0</td>\n      <td>A/5 21171</td>\n      <td>7.2500</td>\n      <td>NaN</td>\n      <td>S</td>\n    </tr>\n    <tr>\n      <th>1</th>\n      <td>2</td>\n      <td>1</td>\n      <td>1</td>\n      <td>Cumings, Mrs. John Bradley (Florence Briggs Th...</td>\n      <td>female</td>\n      <td>38.0</td>\n      <td>1</td>\n      <td>0</td>\n      <td>PC 17599</td>\n      <td>71.2833</td>\n      <td>C85</td>\n      <td>C</td>\n    </tr>\n    <tr>\n      <th>2</th>\n      <td>3</td>\n      <td>1</td>\n      <td>3</td>\n      <td>Heikkinen, Miss. Laina</td>\n      <td>female</td>\n      <td>26.0</td>\n      <td>0</td>\n      <td>0</td>\n      <td>STON/O2. 3101282</td>\n      <td>7.9250</td>\n      <td>NaN</td>\n      <td>S</td>\n    </tr>\n  </tbody>\n</table>\n</div>"
     },
     "execution_count": 8,
     "metadata": {},
     "output_type": "execute_result"
    }
   ]
  },
  {
   "cell_type": "code",
   "source": [
    "titanic.tail(3)"
   ],
   "metadata": {
    "id": "fRCawankVgz6"
   },
   "execution_count": 9,
   "outputs": [
    {
     "data": {
      "text/plain": "     PassengerId  Survived  Pclass                                      Name  \\\n888          889         0       3  Johnston, Miss. Catherine Helen \"Carrie\"   \n889          890         1       1                     Behr, Mr. Karl Howell   \n890          891         0       3                       Dooley, Mr. Patrick   \n\n        Sex   Age  SibSp  Parch      Ticket   Fare Cabin Embarked  \n888  female   NaN      1      2  W./C. 6607  23.45   NaN        S  \n889    male  26.0      0      0      111369  30.00  C148        C  \n890    male  32.0      0      0      370376   7.75   NaN        Q  ",
      "text/html": "<div>\n<style scoped>\n    .dataframe tbody tr th:only-of-type {\n        vertical-align: middle;\n    }\n\n    .dataframe tbody tr th {\n        vertical-align: top;\n    }\n\n    .dataframe thead th {\n        text-align: right;\n    }\n</style>\n<table border=\"1\" class=\"dataframe\">\n  <thead>\n    <tr style=\"text-align: right;\">\n      <th></th>\n      <th>PassengerId</th>\n      <th>Survived</th>\n      <th>Pclass</th>\n      <th>Name</th>\n      <th>Sex</th>\n      <th>Age</th>\n      <th>SibSp</th>\n      <th>Parch</th>\n      <th>Ticket</th>\n      <th>Fare</th>\n      <th>Cabin</th>\n      <th>Embarked</th>\n    </tr>\n  </thead>\n  <tbody>\n    <tr>\n      <th>888</th>\n      <td>889</td>\n      <td>0</td>\n      <td>3</td>\n      <td>Johnston, Miss. Catherine Helen \"Carrie\"</td>\n      <td>female</td>\n      <td>NaN</td>\n      <td>1</td>\n      <td>2</td>\n      <td>W./C. 6607</td>\n      <td>23.45</td>\n      <td>NaN</td>\n      <td>S</td>\n    </tr>\n    <tr>\n      <th>889</th>\n      <td>890</td>\n      <td>1</td>\n      <td>1</td>\n      <td>Behr, Mr. Karl Howell</td>\n      <td>male</td>\n      <td>26.0</td>\n      <td>0</td>\n      <td>0</td>\n      <td>111369</td>\n      <td>30.00</td>\n      <td>C148</td>\n      <td>C</td>\n    </tr>\n    <tr>\n      <th>890</th>\n      <td>891</td>\n      <td>0</td>\n      <td>3</td>\n      <td>Dooley, Mr. Patrick</td>\n      <td>male</td>\n      <td>32.0</td>\n      <td>0</td>\n      <td>0</td>\n      <td>370376</td>\n      <td>7.75</td>\n      <td>NaN</td>\n      <td>Q</td>\n    </tr>\n  </tbody>\n</table>\n</div>"
     },
     "execution_count": 9,
     "metadata": {},
     "output_type": "execute_result"
    }
   ]
  },
  {
   "cell_type": "markdown",
   "source": [
    "* Q5. 기초 통계량을 조회합시다."
   ],
   "metadata": {
    "id": "uOy3linD0Mst"
   }
  },
  {
   "cell_type": "code",
   "metadata": {
    "id": "c-oTe6uPZW15"
   },
   "source": [
    "titanic.corr()"
   ],
   "execution_count": 10,
   "outputs": [
    {
     "data": {
      "text/plain": "             PassengerId  Survived    Pclass       Age     SibSp     Parch  \\\nPassengerId     1.000000 -0.005007 -0.035144  0.036847 -0.057527 -0.001652   \nSurvived       -0.005007  1.000000 -0.338481 -0.077221 -0.035322  0.081629   \nPclass         -0.035144 -0.338481  1.000000 -0.369226  0.083081  0.018443   \nAge             0.036847 -0.077221 -0.369226  1.000000 -0.308247 -0.189119   \nSibSp          -0.057527 -0.035322  0.083081 -0.308247  1.000000  0.414838   \nParch          -0.001652  0.081629  0.018443 -0.189119  0.414838  1.000000   \nFare            0.012658  0.257307 -0.549500  0.096067  0.159651  0.216225   \n\n                 Fare  \nPassengerId  0.012658  \nSurvived     0.257307  \nPclass      -0.549500  \nAge          0.096067  \nSibSp        0.159651  \nParch        0.216225  \nFare         1.000000  ",
      "text/html": "<div>\n<style scoped>\n    .dataframe tbody tr th:only-of-type {\n        vertical-align: middle;\n    }\n\n    .dataframe tbody tr th {\n        vertical-align: top;\n    }\n\n    .dataframe thead th {\n        text-align: right;\n    }\n</style>\n<table border=\"1\" class=\"dataframe\">\n  <thead>\n    <tr style=\"text-align: right;\">\n      <th></th>\n      <th>PassengerId</th>\n      <th>Survived</th>\n      <th>Pclass</th>\n      <th>Age</th>\n      <th>SibSp</th>\n      <th>Parch</th>\n      <th>Fare</th>\n    </tr>\n  </thead>\n  <tbody>\n    <tr>\n      <th>PassengerId</th>\n      <td>1.000000</td>\n      <td>-0.005007</td>\n      <td>-0.035144</td>\n      <td>0.036847</td>\n      <td>-0.057527</td>\n      <td>-0.001652</td>\n      <td>0.012658</td>\n    </tr>\n    <tr>\n      <th>Survived</th>\n      <td>-0.005007</td>\n      <td>1.000000</td>\n      <td>-0.338481</td>\n      <td>-0.077221</td>\n      <td>-0.035322</td>\n      <td>0.081629</td>\n      <td>0.257307</td>\n    </tr>\n    <tr>\n      <th>Pclass</th>\n      <td>-0.035144</td>\n      <td>-0.338481</td>\n      <td>1.000000</td>\n      <td>-0.369226</td>\n      <td>0.083081</td>\n      <td>0.018443</td>\n      <td>-0.549500</td>\n    </tr>\n    <tr>\n      <th>Age</th>\n      <td>0.036847</td>\n      <td>-0.077221</td>\n      <td>-0.369226</td>\n      <td>1.000000</td>\n      <td>-0.308247</td>\n      <td>-0.189119</td>\n      <td>0.096067</td>\n    </tr>\n    <tr>\n      <th>SibSp</th>\n      <td>-0.057527</td>\n      <td>-0.035322</td>\n      <td>0.083081</td>\n      <td>-0.308247</td>\n      <td>1.000000</td>\n      <td>0.414838</td>\n      <td>0.159651</td>\n    </tr>\n    <tr>\n      <th>Parch</th>\n      <td>-0.001652</td>\n      <td>0.081629</td>\n      <td>0.018443</td>\n      <td>-0.189119</td>\n      <td>0.414838</td>\n      <td>1.000000</td>\n      <td>0.216225</td>\n    </tr>\n    <tr>\n      <th>Fare</th>\n      <td>0.012658</td>\n      <td>0.257307</td>\n      <td>-0.549500</td>\n      <td>0.096067</td>\n      <td>0.159651</td>\n      <td>0.216225</td>\n      <td>1.000000</td>\n    </tr>\n  </tbody>\n</table>\n</div>"
     },
     "execution_count": 10,
     "metadata": {},
     "output_type": "execute_result"
    }
   ]
  },
  {
   "cell_type": "code",
   "execution_count": 11,
   "outputs": [
    {
     "data": {
      "text/plain": "       PassengerId    Survived      Pclass         Age       SibSp  \\\ncount   891.000000  891.000000  891.000000  714.000000  891.000000   \nmean    446.000000    0.383838    2.308642   29.699118    0.523008   \nstd     257.353842    0.486592    0.836071   14.526497    1.102743   \nmin       1.000000    0.000000    1.000000    0.420000    0.000000   \n25%     223.500000    0.000000    2.000000   20.125000    0.000000   \n50%     446.000000    0.000000    3.000000   28.000000    0.000000   \n75%     668.500000    1.000000    3.000000   38.000000    1.000000   \nmax     891.000000    1.000000    3.000000   80.000000    8.000000   \n\n            Parch        Fare  \ncount  891.000000  891.000000  \nmean     0.381594   32.204208  \nstd      0.806057   49.693429  \nmin      0.000000    0.000000  \n25%      0.000000    7.910400  \n50%      0.000000   14.454200  \n75%      0.000000   31.000000  \nmax      6.000000  512.329200  ",
      "text/html": "<div>\n<style scoped>\n    .dataframe tbody tr th:only-of-type {\n        vertical-align: middle;\n    }\n\n    .dataframe tbody tr th {\n        vertical-align: top;\n    }\n\n    .dataframe thead th {\n        text-align: right;\n    }\n</style>\n<table border=\"1\" class=\"dataframe\">\n  <thead>\n    <tr style=\"text-align: right;\">\n      <th></th>\n      <th>PassengerId</th>\n      <th>Survived</th>\n      <th>Pclass</th>\n      <th>Age</th>\n      <th>SibSp</th>\n      <th>Parch</th>\n      <th>Fare</th>\n    </tr>\n  </thead>\n  <tbody>\n    <tr>\n      <th>count</th>\n      <td>891.000000</td>\n      <td>891.000000</td>\n      <td>891.000000</td>\n      <td>714.000000</td>\n      <td>891.000000</td>\n      <td>891.000000</td>\n      <td>891.000000</td>\n    </tr>\n    <tr>\n      <th>mean</th>\n      <td>446.000000</td>\n      <td>0.383838</td>\n      <td>2.308642</td>\n      <td>29.699118</td>\n      <td>0.523008</td>\n      <td>0.381594</td>\n      <td>32.204208</td>\n    </tr>\n    <tr>\n      <th>std</th>\n      <td>257.353842</td>\n      <td>0.486592</td>\n      <td>0.836071</td>\n      <td>14.526497</td>\n      <td>1.102743</td>\n      <td>0.806057</td>\n      <td>49.693429</td>\n    </tr>\n    <tr>\n      <th>min</th>\n      <td>1.000000</td>\n      <td>0.000000</td>\n      <td>1.000000</td>\n      <td>0.420000</td>\n      <td>0.000000</td>\n      <td>0.000000</td>\n      <td>0.000000</td>\n    </tr>\n    <tr>\n      <th>25%</th>\n      <td>223.500000</td>\n      <td>0.000000</td>\n      <td>2.000000</td>\n      <td>20.125000</td>\n      <td>0.000000</td>\n      <td>0.000000</td>\n      <td>7.910400</td>\n    </tr>\n    <tr>\n      <th>50%</th>\n      <td>446.000000</td>\n      <td>0.000000</td>\n      <td>3.000000</td>\n      <td>28.000000</td>\n      <td>0.000000</td>\n      <td>0.000000</td>\n      <td>14.454200</td>\n    </tr>\n    <tr>\n      <th>75%</th>\n      <td>668.500000</td>\n      <td>1.000000</td>\n      <td>3.000000</td>\n      <td>38.000000</td>\n      <td>1.000000</td>\n      <td>0.000000</td>\n      <td>31.000000</td>\n    </tr>\n    <tr>\n      <th>max</th>\n      <td>891.000000</td>\n      <td>1.000000</td>\n      <td>3.000000</td>\n      <td>80.000000</td>\n      <td>8.000000</td>\n      <td>6.000000</td>\n      <td>512.329200</td>\n    </tr>\n  </tbody>\n</table>\n</div>"
     },
     "execution_count": 11,
     "metadata": {},
     "output_type": "execute_result"
    }
   ],
   "source": [
    "titanic.describe()"
   ],
   "metadata": {
    "collapsed": false,
    "pycharm": {
     "name": "#%%\n"
    }
   }
  },
  {
   "cell_type": "markdown",
   "source": [
    "* Q6. titanic의 데이터를 'Fare' 칼럼을 기준으로 내림차순으로 정렬합니다. "
   ],
   "metadata": {
    "id": "lRgVp7iV1Bpu"
   }
  },
  {
   "cell_type": "code",
   "metadata": {
    "id": "wPp2fo_WgPMD"
   },
   "source": [
    "titanic.sort_values(by=['Fare'], ascending=False)"
   ],
   "execution_count": 12,
   "outputs": [
    {
     "data": {
      "text/plain": "     PassengerId  Survived  Pclass                                Name  \\\n258          259         1       1                    Ward, Miss. Anna   \n737          738         1       1              Lesurer, Mr. Gustave J   \n679          680         1       1  Cardeza, Mr. Thomas Drake Martinez   \n88            89         1       1          Fortune, Miss. Mabel Helen   \n27            28         0       1      Fortune, Mr. Charles Alexander   \n..           ...       ...     ...                                 ...   \n633          634         0       1       Parr, Mr. William Henry Marsh   \n413          414         0       2      Cunningham, Mr. Alfred Fleming   \n822          823         0       1     Reuchlin, Jonkheer. John George   \n732          733         0       2                Knight, Mr. Robert J   \n674          675         0       2          Watson, Mr. Ennis Hastings   \n\n        Sex   Age  SibSp  Parch    Ticket      Fare        Cabin Embarked  \n258  female  35.0      0      0  PC 17755  512.3292          NaN        C  \n737    male  35.0      0      0  PC 17755  512.3292         B101        C  \n679    male  36.0      0      1  PC 17755  512.3292  B51 B53 B55        C  \n88   female  23.0      3      2     19950  263.0000  C23 C25 C27        S  \n27     male  19.0      3      2     19950  263.0000  C23 C25 C27        S  \n..      ...   ...    ...    ...       ...       ...          ...      ...  \n633    male   NaN      0      0    112052    0.0000          NaN        S  \n413    male   NaN      0      0    239853    0.0000          NaN        S  \n822    male  38.0      0      0     19972    0.0000          NaN        S  \n732    male   NaN      0      0    239855    0.0000          NaN        S  \n674    male   NaN      0      0    239856    0.0000          NaN        S  \n\n[891 rows x 12 columns]",
      "text/html": "<div>\n<style scoped>\n    .dataframe tbody tr th:only-of-type {\n        vertical-align: middle;\n    }\n\n    .dataframe tbody tr th {\n        vertical-align: top;\n    }\n\n    .dataframe thead th {\n        text-align: right;\n    }\n</style>\n<table border=\"1\" class=\"dataframe\">\n  <thead>\n    <tr style=\"text-align: right;\">\n      <th></th>\n      <th>PassengerId</th>\n      <th>Survived</th>\n      <th>Pclass</th>\n      <th>Name</th>\n      <th>Sex</th>\n      <th>Age</th>\n      <th>SibSp</th>\n      <th>Parch</th>\n      <th>Ticket</th>\n      <th>Fare</th>\n      <th>Cabin</th>\n      <th>Embarked</th>\n    </tr>\n  </thead>\n  <tbody>\n    <tr>\n      <th>258</th>\n      <td>259</td>\n      <td>1</td>\n      <td>1</td>\n      <td>Ward, Miss. Anna</td>\n      <td>female</td>\n      <td>35.0</td>\n      <td>0</td>\n      <td>0</td>\n      <td>PC 17755</td>\n      <td>512.3292</td>\n      <td>NaN</td>\n      <td>C</td>\n    </tr>\n    <tr>\n      <th>737</th>\n      <td>738</td>\n      <td>1</td>\n      <td>1</td>\n      <td>Lesurer, Mr. Gustave J</td>\n      <td>male</td>\n      <td>35.0</td>\n      <td>0</td>\n      <td>0</td>\n      <td>PC 17755</td>\n      <td>512.3292</td>\n      <td>B101</td>\n      <td>C</td>\n    </tr>\n    <tr>\n      <th>679</th>\n      <td>680</td>\n      <td>1</td>\n      <td>1</td>\n      <td>Cardeza, Mr. Thomas Drake Martinez</td>\n      <td>male</td>\n      <td>36.0</td>\n      <td>0</td>\n      <td>1</td>\n      <td>PC 17755</td>\n      <td>512.3292</td>\n      <td>B51 B53 B55</td>\n      <td>C</td>\n    </tr>\n    <tr>\n      <th>88</th>\n      <td>89</td>\n      <td>1</td>\n      <td>1</td>\n      <td>Fortune, Miss. Mabel Helen</td>\n      <td>female</td>\n      <td>23.0</td>\n      <td>3</td>\n      <td>2</td>\n      <td>19950</td>\n      <td>263.0000</td>\n      <td>C23 C25 C27</td>\n      <td>S</td>\n    </tr>\n    <tr>\n      <th>27</th>\n      <td>28</td>\n      <td>0</td>\n      <td>1</td>\n      <td>Fortune, Mr. Charles Alexander</td>\n      <td>male</td>\n      <td>19.0</td>\n      <td>3</td>\n      <td>2</td>\n      <td>19950</td>\n      <td>263.0000</td>\n      <td>C23 C25 C27</td>\n      <td>S</td>\n    </tr>\n    <tr>\n      <th>...</th>\n      <td>...</td>\n      <td>...</td>\n      <td>...</td>\n      <td>...</td>\n      <td>...</td>\n      <td>...</td>\n      <td>...</td>\n      <td>...</td>\n      <td>...</td>\n      <td>...</td>\n      <td>...</td>\n      <td>...</td>\n    </tr>\n    <tr>\n      <th>633</th>\n      <td>634</td>\n      <td>0</td>\n      <td>1</td>\n      <td>Parr, Mr. William Henry Marsh</td>\n      <td>male</td>\n      <td>NaN</td>\n      <td>0</td>\n      <td>0</td>\n      <td>112052</td>\n      <td>0.0000</td>\n      <td>NaN</td>\n      <td>S</td>\n    </tr>\n    <tr>\n      <th>413</th>\n      <td>414</td>\n      <td>0</td>\n      <td>2</td>\n      <td>Cunningham, Mr. Alfred Fleming</td>\n      <td>male</td>\n      <td>NaN</td>\n      <td>0</td>\n      <td>0</td>\n      <td>239853</td>\n      <td>0.0000</td>\n      <td>NaN</td>\n      <td>S</td>\n    </tr>\n    <tr>\n      <th>822</th>\n      <td>823</td>\n      <td>0</td>\n      <td>1</td>\n      <td>Reuchlin, Jonkheer. John George</td>\n      <td>male</td>\n      <td>38.0</td>\n      <td>0</td>\n      <td>0</td>\n      <td>19972</td>\n      <td>0.0000</td>\n      <td>NaN</td>\n      <td>S</td>\n    </tr>\n    <tr>\n      <th>732</th>\n      <td>733</td>\n      <td>0</td>\n      <td>2</td>\n      <td>Knight, Mr. Robert J</td>\n      <td>male</td>\n      <td>NaN</td>\n      <td>0</td>\n      <td>0</td>\n      <td>239855</td>\n      <td>0.0000</td>\n      <td>NaN</td>\n      <td>S</td>\n    </tr>\n    <tr>\n      <th>674</th>\n      <td>675</td>\n      <td>0</td>\n      <td>2</td>\n      <td>Watson, Mr. Ennis Hastings</td>\n      <td>male</td>\n      <td>NaN</td>\n      <td>0</td>\n      <td>0</td>\n      <td>239856</td>\n      <td>0.0000</td>\n      <td>NaN</td>\n      <td>S</td>\n    </tr>\n  </tbody>\n</table>\n<p>891 rows × 12 columns</p>\n</div>"
     },
     "execution_count": 12,
     "metadata": {},
     "output_type": "execute_result"
    }
   ]
  },
  {
   "cell_type": "markdown",
   "source": [
    "* Q7. 운임('Fare')을 가장 많이 내고 탄 사람 10명을 조회하시오."
   ],
   "metadata": {
    "id": "zO2ARxjr1HXE"
   }
  },
  {
   "cell_type": "code",
   "metadata": {
    "id": "3RPh3nyUZV5g"
   },
   "source": [
    "titanic.sort_values(by='Fare', ascending=False).head(3)"
   ],
   "execution_count": 13,
   "outputs": [
    {
     "data": {
      "text/plain": "     PassengerId  Survived  Pclass                                Name  \\\n258          259         1       1                    Ward, Miss. Anna   \n737          738         1       1              Lesurer, Mr. Gustave J   \n679          680         1       1  Cardeza, Mr. Thomas Drake Martinez   \n\n        Sex   Age  SibSp  Parch    Ticket      Fare        Cabin Embarked  \n258  female  35.0      0      0  PC 17755  512.3292          NaN        C  \n737    male  35.0      0      0  PC 17755  512.3292         B101        C  \n679    male  36.0      0      1  PC 17755  512.3292  B51 B53 B55        C  ",
      "text/html": "<div>\n<style scoped>\n    .dataframe tbody tr th:only-of-type {\n        vertical-align: middle;\n    }\n\n    .dataframe tbody tr th {\n        vertical-align: top;\n    }\n\n    .dataframe thead th {\n        text-align: right;\n    }\n</style>\n<table border=\"1\" class=\"dataframe\">\n  <thead>\n    <tr style=\"text-align: right;\">\n      <th></th>\n      <th>PassengerId</th>\n      <th>Survived</th>\n      <th>Pclass</th>\n      <th>Name</th>\n      <th>Sex</th>\n      <th>Age</th>\n      <th>SibSp</th>\n      <th>Parch</th>\n      <th>Ticket</th>\n      <th>Fare</th>\n      <th>Cabin</th>\n      <th>Embarked</th>\n    </tr>\n  </thead>\n  <tbody>\n    <tr>\n      <th>258</th>\n      <td>259</td>\n      <td>1</td>\n      <td>1</td>\n      <td>Ward, Miss. Anna</td>\n      <td>female</td>\n      <td>35.0</td>\n      <td>0</td>\n      <td>0</td>\n      <td>PC 17755</td>\n      <td>512.3292</td>\n      <td>NaN</td>\n      <td>C</td>\n    </tr>\n    <tr>\n      <th>737</th>\n      <td>738</td>\n      <td>1</td>\n      <td>1</td>\n      <td>Lesurer, Mr. Gustave J</td>\n      <td>male</td>\n      <td>35.0</td>\n      <td>0</td>\n      <td>0</td>\n      <td>PC 17755</td>\n      <td>512.3292</td>\n      <td>B101</td>\n      <td>C</td>\n    </tr>\n    <tr>\n      <th>679</th>\n      <td>680</td>\n      <td>1</td>\n      <td>1</td>\n      <td>Cardeza, Mr. Thomas Drake Martinez</td>\n      <td>male</td>\n      <td>36.0</td>\n      <td>0</td>\n      <td>1</td>\n      <td>PC 17755</td>\n      <td>512.3292</td>\n      <td>B51 B53 B55</td>\n      <td>C</td>\n    </tr>\n  </tbody>\n</table>\n</div>"
     },
     "execution_count": 13,
     "metadata": {},
     "output_type": "execute_result"
    }
   ]
  },
  {
   "cell_type": "markdown",
   "metadata": {
    "id": "U_RTlPFsXq7g"
   },
   "source": [
    "### 실습 2 : 데이터 조회하기"
   ]
  },
  {
   "cell_type": "markdown",
   "source": [
    "* Q0. 라이브러리 불러오기"
   ],
   "metadata": {
    "id": "J5cRf12a3nig"
   }
  },
  {
   "cell_type": "code",
   "source": [
    "import pandas as pd"
   ],
   "metadata": {
    "id": "5ZP6wArU3tRZ"
   },
   "execution_count": 14,
   "outputs": []
  },
  {
   "cell_type": "markdown",
   "source": [
    "* Q1. pandas read_csv 함수를 이용하여 파일을 읽고 boston 변수에 담습니다.\n",
    "\n",
    "    * 링크 : https://raw.githubusercontent.com/DA4BAM/dataset/master/boston2.csv"
   ],
   "metadata": {
    "id": "A1Vo2mXn3tka"
   }
  },
  {
   "cell_type": "code",
   "metadata": {
    "id": "mfN-bzi2Xuqu"
   },
   "source": [
    "boston = pd.read_csv('https://raw.githubusercontent.com/DA4BAM/dataset/master/boston2.csv')"
   ],
   "execution_count": 15,
   "outputs": []
  },
  {
   "cell_type": "markdown",
   "source": [
    "* Q2. boston의 shape를 확인합니다."
   ],
   "metadata": {
    "id": "br_SitLd3-hF"
   }
  },
  {
   "cell_type": "code",
   "source": [
    "boston.shape"
   ],
   "metadata": {
    "id": "eNy8pjtV3_Bw"
   },
   "execution_count": 16,
   "outputs": [
    {
     "data": {
      "text/plain": "(506, 14)"
     },
     "execution_count": 16,
     "metadata": {},
     "output_type": "execute_result"
    }
   ]
  },
  {
   "cell_type": "markdown",
   "source": [
    "* Q3. boston의 crim 변수를 Series 형태로 조회하시오."
   ],
   "metadata": {
    "id": "uKqAm9oA4GVT"
   }
  },
  {
   "cell_type": "code",
   "metadata": {
    "id": "OhpZficEXpTn"
   },
   "source": [
    "boston['crim']"
   ],
   "execution_count": 17,
   "outputs": [
    {
     "data": {
      "text/plain": "0      0.00632\n1      0.02731\n2      0.02729\n3      0.03237\n4      0.06905\n        ...   \n501    0.06263\n502    0.04527\n503    0.06076\n504    0.10959\n505    0.04741\nName: crim, Length: 506, dtype: float64"
     },
     "execution_count": 17,
     "metadata": {},
     "output_type": "execute_result"
    }
   ]
  },
  {
   "cell_type": "markdown",
   "source": [
    "* Q4. boston의 crim 변수를 DataFrame 형태로 조회하시오."
   ],
   "metadata": {
    "id": "jSUXNixQ4S2_"
   }
  },
  {
   "cell_type": "code",
   "metadata": {
    "id": "su2-4v_4jG65"
   },
   "source": [
    "boston[['crim']]"
   ],
   "execution_count": 18,
   "outputs": [
    {
     "data": {
      "text/plain": "        crim\n0    0.00632\n1    0.02731\n2    0.02729\n3    0.03237\n4    0.06905\n..       ...\n501  0.06263\n502  0.04527\n503  0.06076\n504  0.10959\n505  0.04741\n\n[506 rows x 1 columns]",
      "text/html": "<div>\n<style scoped>\n    .dataframe tbody tr th:only-of-type {\n        vertical-align: middle;\n    }\n\n    .dataframe tbody tr th {\n        vertical-align: top;\n    }\n\n    .dataframe thead th {\n        text-align: right;\n    }\n</style>\n<table border=\"1\" class=\"dataframe\">\n  <thead>\n    <tr style=\"text-align: right;\">\n      <th></th>\n      <th>crim</th>\n    </tr>\n  </thead>\n  <tbody>\n    <tr>\n      <th>0</th>\n      <td>0.00632</td>\n    </tr>\n    <tr>\n      <th>1</th>\n      <td>0.02731</td>\n    </tr>\n    <tr>\n      <th>2</th>\n      <td>0.02729</td>\n    </tr>\n    <tr>\n      <th>3</th>\n      <td>0.03237</td>\n    </tr>\n    <tr>\n      <th>4</th>\n      <td>0.06905</td>\n    </tr>\n    <tr>\n      <th>...</th>\n      <td>...</td>\n    </tr>\n    <tr>\n      <th>501</th>\n      <td>0.06263</td>\n    </tr>\n    <tr>\n      <th>502</th>\n      <td>0.04527</td>\n    </tr>\n    <tr>\n      <th>503</th>\n      <td>0.06076</td>\n    </tr>\n    <tr>\n      <th>504</th>\n      <td>0.10959</td>\n    </tr>\n    <tr>\n      <th>505</th>\n      <td>0.04741</td>\n    </tr>\n  </tbody>\n</table>\n<p>506 rows × 1 columns</p>\n</div>"
     },
     "execution_count": 18,
     "metadata": {},
     "output_type": "execute_result"
    }
   ]
  },
  {
   "cell_type": "markdown",
   "source": [
    "* Q5. .loc을 이용하여 10행까지, 열은 crim, lstat, medv를 조회하시오."
   ],
   "metadata": {
    "id": "1VvyiXFe4YGt"
   }
  },
  {
   "cell_type": "code",
   "metadata": {
    "id": "Aliq3A-6YEBG"
   },
   "source": [
    "boston[['crim', 'lstat', 'medv']].loc[:9]"
   ],
   "execution_count": 19,
   "outputs": [
    {
     "data": {
      "text/plain": "      crim  lstat  medv\n0  0.00632   4.98  24.0\n1  0.02731   9.14  21.6\n2  0.02729   4.03  34.7\n3  0.03237   2.94  33.4\n4  0.06905   5.33  36.2\n5  0.02985   5.21  28.7\n6  0.08829  12.43  22.9\n7  0.14455  19.15  27.1\n8  0.21124  29.93  16.5\n9  0.17004  17.10  18.9",
      "text/html": "<div>\n<style scoped>\n    .dataframe tbody tr th:only-of-type {\n        vertical-align: middle;\n    }\n\n    .dataframe tbody tr th {\n        vertical-align: top;\n    }\n\n    .dataframe thead th {\n        text-align: right;\n    }\n</style>\n<table border=\"1\" class=\"dataframe\">\n  <thead>\n    <tr style=\"text-align: right;\">\n      <th></th>\n      <th>crim</th>\n      <th>lstat</th>\n      <th>medv</th>\n    </tr>\n  </thead>\n  <tbody>\n    <tr>\n      <th>0</th>\n      <td>0.00632</td>\n      <td>4.98</td>\n      <td>24.0</td>\n    </tr>\n    <tr>\n      <th>1</th>\n      <td>0.02731</td>\n      <td>9.14</td>\n      <td>21.6</td>\n    </tr>\n    <tr>\n      <th>2</th>\n      <td>0.02729</td>\n      <td>4.03</td>\n      <td>34.7</td>\n    </tr>\n    <tr>\n      <th>3</th>\n      <td>0.03237</td>\n      <td>2.94</td>\n      <td>33.4</td>\n    </tr>\n    <tr>\n      <th>4</th>\n      <td>0.06905</td>\n      <td>5.33</td>\n      <td>36.2</td>\n    </tr>\n    <tr>\n      <th>5</th>\n      <td>0.02985</td>\n      <td>5.21</td>\n      <td>28.7</td>\n    </tr>\n    <tr>\n      <th>6</th>\n      <td>0.08829</td>\n      <td>12.43</td>\n      <td>22.9</td>\n    </tr>\n    <tr>\n      <th>7</th>\n      <td>0.14455</td>\n      <td>19.15</td>\n      <td>27.1</td>\n    </tr>\n    <tr>\n      <th>8</th>\n      <td>0.21124</td>\n      <td>29.93</td>\n      <td>16.5</td>\n    </tr>\n    <tr>\n      <th>9</th>\n      <td>0.17004</td>\n      <td>17.10</td>\n      <td>18.9</td>\n    </tr>\n  </tbody>\n</table>\n</div>"
     },
     "execution_count": 19,
     "metadata": {},
     "output_type": "execute_result"
    }
   ]
  },
  {
   "cell_type": "code",
   "execution_count": 20,
   "outputs": [
    {
     "data": {
      "text/plain": "      crim  lstat  medv\n0  0.00632   4.98  24.0\n1  0.02731   9.14  21.6\n2  0.02729   4.03  34.7\n3  0.03237   2.94  33.4\n4  0.06905   5.33  36.2\n5  0.02985   5.21  28.7\n6  0.08829  12.43  22.9\n7  0.14455  19.15  27.1\n8  0.21124  29.93  16.5\n9  0.17004  17.10  18.9",
      "text/html": "<div>\n<style scoped>\n    .dataframe tbody tr th:only-of-type {\n        vertical-align: middle;\n    }\n\n    .dataframe tbody tr th {\n        vertical-align: top;\n    }\n\n    .dataframe thead th {\n        text-align: right;\n    }\n</style>\n<table border=\"1\" class=\"dataframe\">\n  <thead>\n    <tr style=\"text-align: right;\">\n      <th></th>\n      <th>crim</th>\n      <th>lstat</th>\n      <th>medv</th>\n    </tr>\n  </thead>\n  <tbody>\n    <tr>\n      <th>0</th>\n      <td>0.00632</td>\n      <td>4.98</td>\n      <td>24.0</td>\n    </tr>\n    <tr>\n      <th>1</th>\n      <td>0.02731</td>\n      <td>9.14</td>\n      <td>21.6</td>\n    </tr>\n    <tr>\n      <th>2</th>\n      <td>0.02729</td>\n      <td>4.03</td>\n      <td>34.7</td>\n    </tr>\n    <tr>\n      <th>3</th>\n      <td>0.03237</td>\n      <td>2.94</td>\n      <td>33.4</td>\n    </tr>\n    <tr>\n      <th>4</th>\n      <td>0.06905</td>\n      <td>5.33</td>\n      <td>36.2</td>\n    </tr>\n    <tr>\n      <th>5</th>\n      <td>0.02985</td>\n      <td>5.21</td>\n      <td>28.7</td>\n    </tr>\n    <tr>\n      <th>6</th>\n      <td>0.08829</td>\n      <td>12.43</td>\n      <td>22.9</td>\n    </tr>\n    <tr>\n      <th>7</th>\n      <td>0.14455</td>\n      <td>19.15</td>\n      <td>27.1</td>\n    </tr>\n    <tr>\n      <th>8</th>\n      <td>0.21124</td>\n      <td>29.93</td>\n      <td>16.5</td>\n    </tr>\n    <tr>\n      <th>9</th>\n      <td>0.17004</td>\n      <td>17.10</td>\n      <td>18.9</td>\n    </tr>\n  </tbody>\n</table>\n</div>"
     },
     "execution_count": 20,
     "metadata": {},
     "output_type": "execute_result"
    }
   ],
   "source": [
    "boston.loc[:9, ['crim', 'lstat', 'medv']]"
   ],
   "metadata": {
    "collapsed": false,
    "pycharm": {
     "name": "#%%\n"
    }
   }
  },
  {
   "cell_type": "markdown",
   "source": [
    "* Q6. .iloc을 이용하여 Q5와 동일한 결과를 내시오."
   ],
   "metadata": {
    "id": "WLx8tDZZ4hbh"
   }
  },
  {
   "cell_type": "code",
   "metadata": {
    "id": "vw9eTbJ0Y-33"
   },
   "source": [
    "boston.iloc[:10, [0, -3, -2]]\n"
   ],
   "execution_count": 21,
   "outputs": [
    {
     "data": {
      "text/plain": "      crim  lstat  medv\n0  0.00632   4.98  24.0\n1  0.02731   9.14  21.6\n2  0.02729   4.03  34.7\n3  0.03237   2.94  33.4\n4  0.06905   5.33  36.2\n5  0.02985   5.21  28.7\n6  0.08829  12.43  22.9\n7  0.14455  19.15  27.1\n8  0.21124  29.93  16.5\n9  0.17004  17.10  18.9",
      "text/html": "<div>\n<style scoped>\n    .dataframe tbody tr th:only-of-type {\n        vertical-align: middle;\n    }\n\n    .dataframe tbody tr th {\n        vertical-align: top;\n    }\n\n    .dataframe thead th {\n        text-align: right;\n    }\n</style>\n<table border=\"1\" class=\"dataframe\">\n  <thead>\n    <tr style=\"text-align: right;\">\n      <th></th>\n      <th>crim</th>\n      <th>lstat</th>\n      <th>medv</th>\n    </tr>\n  </thead>\n  <tbody>\n    <tr>\n      <th>0</th>\n      <td>0.00632</td>\n      <td>4.98</td>\n      <td>24.0</td>\n    </tr>\n    <tr>\n      <th>1</th>\n      <td>0.02731</td>\n      <td>9.14</td>\n      <td>21.6</td>\n    </tr>\n    <tr>\n      <th>2</th>\n      <td>0.02729</td>\n      <td>4.03</td>\n      <td>34.7</td>\n    </tr>\n    <tr>\n      <th>3</th>\n      <td>0.03237</td>\n      <td>2.94</td>\n      <td>33.4</td>\n    </tr>\n    <tr>\n      <th>4</th>\n      <td>0.06905</td>\n      <td>5.33</td>\n      <td>36.2</td>\n    </tr>\n    <tr>\n      <th>5</th>\n      <td>0.02985</td>\n      <td>5.21</td>\n      <td>28.7</td>\n    </tr>\n    <tr>\n      <th>6</th>\n      <td>0.08829</td>\n      <td>12.43</td>\n      <td>22.9</td>\n    </tr>\n    <tr>\n      <th>7</th>\n      <td>0.14455</td>\n      <td>19.15</td>\n      <td>27.1</td>\n    </tr>\n    <tr>\n      <th>8</th>\n      <td>0.21124</td>\n      <td>29.93</td>\n      <td>16.5</td>\n    </tr>\n    <tr>\n      <th>9</th>\n      <td>0.17004</td>\n      <td>17.10</td>\n      <td>18.9</td>\n    </tr>\n  </tbody>\n</table>\n</div>"
     },
     "execution_count": 21,
     "metadata": {},
     "output_type": "execute_result"
    }
   ]
  },
  {
   "cell_type": "code",
   "execution_count": 22,
   "outputs": [
    {
     "data": {
      "text/plain": "      crim  lstat  medv\n0  0.00632   4.98  24.0\n1  0.02731   9.14  21.6\n2  0.02729   4.03  34.7\n3  0.03237   2.94  33.4\n4  0.06905   5.33  36.2\n5  0.02985   5.21  28.7\n6  0.08829  12.43  22.9\n7  0.14455  19.15  27.1\n8  0.21124  29.93  16.5\n9  0.17004  17.10  18.9",
      "text/html": "<div>\n<style scoped>\n    .dataframe tbody tr th:only-of-type {\n        vertical-align: middle;\n    }\n\n    .dataframe tbody tr th {\n        vertical-align: top;\n    }\n\n    .dataframe thead th {\n        text-align: right;\n    }\n</style>\n<table border=\"1\" class=\"dataframe\">\n  <thead>\n    <tr style=\"text-align: right;\">\n      <th></th>\n      <th>crim</th>\n      <th>lstat</th>\n      <th>medv</th>\n    </tr>\n  </thead>\n  <tbody>\n    <tr>\n      <th>0</th>\n      <td>0.00632</td>\n      <td>4.98</td>\n      <td>24.0</td>\n    </tr>\n    <tr>\n      <th>1</th>\n      <td>0.02731</td>\n      <td>9.14</td>\n      <td>21.6</td>\n    </tr>\n    <tr>\n      <th>2</th>\n      <td>0.02729</td>\n      <td>4.03</td>\n      <td>34.7</td>\n    </tr>\n    <tr>\n      <th>3</th>\n      <td>0.03237</td>\n      <td>2.94</td>\n      <td>33.4</td>\n    </tr>\n    <tr>\n      <th>4</th>\n      <td>0.06905</td>\n      <td>5.33</td>\n      <td>36.2</td>\n    </tr>\n    <tr>\n      <th>5</th>\n      <td>0.02985</td>\n      <td>5.21</td>\n      <td>28.7</td>\n    </tr>\n    <tr>\n      <th>6</th>\n      <td>0.08829</td>\n      <td>12.43</td>\n      <td>22.9</td>\n    </tr>\n    <tr>\n      <th>7</th>\n      <td>0.14455</td>\n      <td>19.15</td>\n      <td>27.1</td>\n    </tr>\n    <tr>\n      <th>8</th>\n      <td>0.21124</td>\n      <td>29.93</td>\n      <td>16.5</td>\n    </tr>\n    <tr>\n      <th>9</th>\n      <td>0.17004</td>\n      <td>17.10</td>\n      <td>18.9</td>\n    </tr>\n  </tbody>\n</table>\n</div>"
     },
     "execution_count": 22,
     "metadata": {},
     "output_type": "execute_result"
    }
   ],
   "source": [
    "boston.iloc[:10, [0, 11, 12]]"
   ],
   "metadata": {
    "collapsed": false,
    "pycharm": {
     "name": "#%%\n"
    }
   }
  },
  {
   "cell_type": "markdown",
   "metadata": {
    "id": "jCKFM4VHYnWS"
   },
   "source": [
    "### 실습 3 : 원하는 데이터 조회하기"
   ]
  },
  {
   "cell_type": "markdown",
   "source": [
    "* Q0. 라이브러리 불러오기"
   ],
   "metadata": {
    "id": "KveDEDjj8hh6"
   }
  },
  {
   "cell_type": "code",
   "source": [],
   "metadata": {
    "id": "kIg9_a2z8hH6"
   },
   "execution_count": 22,
   "outputs": []
  },
  {
   "cell_type": "markdown",
   "source": [
    "* Q1. 아래 링크에서 데이터를 읽어 boston으로 저장합니다.\n",
    "\n",
    "    * https://raw.githubusercontent.com/DA4BAM/dataset/master/boston2.csv"
   ],
   "metadata": {
    "id": "mYjUJnuo8sY8"
   }
  },
  {
   "cell_type": "code",
   "source": [
    "boston = pd.read_csv('https://raw.githubusercontent.com/DA4BAM/dataset/master/boston2.csv')"
   ],
   "metadata": {
    "id": "9XtRLFrA8lT-"
   },
   "execution_count": 22,
   "outputs": []
  },
  {
   "cell_type": "markdown",
   "source": [
    "Q2. boston의 shape를 확인합니다."
   ],
   "metadata": {
    "id": "xq3DAzm283rS"
   }
  },
  {
   "cell_type": "code",
   "metadata": {
    "id": "5q6cYIfpYnWS"
   },
   "source": [
    "boston.shape"
   ],
   "execution_count": 23,
   "outputs": [
    {
     "data": {
      "text/plain": "(506, 14)"
     },
     "execution_count": 23,
     "metadata": {},
     "output_type": "execute_result"
    }
   ]
  },
  {
   "cell_type": "markdown",
   "source": [
    "* Q3. boston의 칼럼명과 각 칼럼의 데이터 타입을 확인합니다."
   ],
   "metadata": {
    "id": "WsjAm7qB9CYk"
   }
  },
  {
   "cell_type": "code",
   "source": [
    "boston.columns"
   ],
   "metadata": {
    "id": "zT3ga8bq9BsS"
   },
   "execution_count": 24,
   "outputs": [
    {
     "data": {
      "text/plain": "Index(['crim', 'indus', 'chas', 'nox', 'rm', 'age', 'dis', 'rad', 'tax',\n       'ptratio', 'black', 'lstat', 'medv', 'zn2'],\n      dtype='object')"
     },
     "execution_count": 24,
     "metadata": {},
     "output_type": "execute_result"
    }
   ]
  },
  {
   "cell_type": "code",
   "source": [
    "boston.dtypes"
   ],
   "metadata": {
    "id": "kDIbmChFV1VC"
   },
   "execution_count": 25,
   "outputs": [
    {
     "data": {
      "text/plain": "crim       float64\nindus      float64\nchas         int64\nnox        float64\nrm         float64\nage        float64\ndis        float64\nrad          int64\ntax          int64\nptratio    float64\nblack      float64\nlstat      float64\nmedv       float64\nzn2          int64\ndtype: object"
     },
     "execution_count": 25,
     "metadata": {},
     "output_type": "execute_result"
    }
   ]
  },
  {
   "cell_type": "code",
   "source": [
    "boston.info()"
   ],
   "metadata": {
    "id": "qEMgnkDkV1Xo"
   },
   "execution_count": 26,
   "outputs": [
    {
     "name": "stdout",
     "output_type": "stream",
     "text": [
      "<class 'pandas.core.frame.DataFrame'>\n",
      "RangeIndex: 506 entries, 0 to 505\n",
      "Data columns (total 14 columns):\n",
      " #   Column   Non-Null Count  Dtype  \n",
      "---  ------   --------------  -----  \n",
      " 0   crim     506 non-null    float64\n",
      " 1   indus    506 non-null    float64\n",
      " 2   chas     506 non-null    int64  \n",
      " 3   nox      506 non-null    float64\n",
      " 4   rm       506 non-null    float64\n",
      " 5   age      506 non-null    float64\n",
      " 6   dis      506 non-null    float64\n",
      " 7   rad      506 non-null    int64  \n",
      " 8   tax      506 non-null    int64  \n",
      " 9   ptratio  506 non-null    float64\n",
      " 10  black    506 non-null    float64\n",
      " 11  lstat    506 non-null    float64\n",
      " 12  medv     506 non-null    float64\n",
      " 13  zn2      506 non-null    int64  \n",
      "dtypes: float64(10), int64(4)\n",
      "memory usage: 55.5 KB\n"
     ]
    }
   ]
  },
  {
   "cell_type": "markdown",
   "source": [
    "* Q4. unique 함수를 가지고 'zn2'의 칼럼에 들어있는 값의 종류를 확인합니다."
   ],
   "metadata": {
    "id": "XcZOLLf_tBie"
   }
  },
  {
   "cell_type": "code",
   "metadata": {
    "id": "wo7NCADBwxne"
   },
   "source": [
    "boston['zn2'].unique()"
   ],
   "execution_count": 27,
   "outputs": [
    {
     "data": {
      "text/plain": "array([1, 0, 2])"
     },
     "execution_count": 27,
     "metadata": {},
     "output_type": "execute_result"
    }
   ]
  },
  {
   "cell_type": "markdown",
   "source": [
    "* Q5. 타운들에 대해서 전체 평균 집값(medv)을 구하시오.\n",
    "\n",
    "    * 평균 : .mean( )"
   ],
   "metadata": {
    "id": "Hb4V4pB09hQC"
   }
  },
  {
   "cell_type": "code",
   "metadata": {
    "id": "21Oh6PWPwxni"
   },
   "source": [
    "boston['medv'].mean()"
   ],
   "execution_count": 28,
   "outputs": [
    {
     "data": {
      "text/plain": "22.532806324110698"
     },
     "execution_count": 28,
     "metadata": {},
     "output_type": "execute_result"
    }
   ]
  },
  {
   "cell_type": "markdown",
   "source": [
    "* Q6. 찰스강변(chas == 1)이면서 집값(medv)이 전체 평균보다 낮은 데이터를 조회하시오."
   ],
   "metadata": {
    "id": "3A7Hn0IF9qe_"
   }
  },
  {
   "cell_type": "code",
   "metadata": {
    "id": "U22tWnCrwxnp"
   },
   "source": [
    "boston.loc[(boston['chas'] == 1) & (boston['medv'] < boston['medv'].mean())]\n"
   ],
   "execution_count": 33,
   "outputs": [
    {
     "data": {
      "text/plain": "        crim  indus  chas    nox     rm    age     dis  rad  tax  ptratio  \\\n142  3.32105  19.58     1  0.871  5.403  100.0  1.3216    5  403     14.7   \n152  1.12658  19.58     1  0.871  5.012   88.0  1.6102    5  403     14.7   \n154  1.41385  19.58     1  0.871  6.129   96.0  1.7494    5  403     14.7   \n155  3.53501  19.58     1  0.871  6.152   82.6  1.7455    5  403     14.7   \n209  0.43571  10.59     1  0.489  5.344  100.0  3.8750    4  277     18.6   \n210  0.17446  10.59     1  0.489  5.960   92.1  3.8771    4  277     18.6   \n211  0.37578  10.59     1  0.489  5.404   88.6  3.6650    4  277     18.6   \n212  0.21719  10.59     1  0.489  5.807   53.8  3.6526    4  277     18.6   \n218  0.11069  13.89     1  0.550  5.951   93.8  2.8893    5  276     16.4   \n221  0.40771   6.20     1  0.507  6.164   91.3  3.0480    8  307     17.4   \n269  0.09065   6.96     1  0.464  5.920   61.5  3.9175    3  223     18.6   \n356  8.98296  18.10     1  0.770  6.212   97.4  2.1222   24  666     20.2   \n357  3.84970  18.10     1  0.770  6.395   91.0  2.5052   24  666     20.2   \n363  4.22239  18.10     1  0.770  5.803   89.0  1.9047   24  666     20.2   \n364  3.47428  18.10     1  0.718  8.780   82.9  1.9047   24  666     20.2   \n\n      black  lstat  medv  zn2  \n142  396.90  26.82  13.4    0  \n152  343.28  12.12  15.3    0  \n154  321.02  15.12  17.0    0  \n155   88.01  15.02  15.6    0  \n209  396.90  23.09  20.0    0  \n210  393.25  17.27  21.7    0  \n211  395.24  23.98  19.3    0  \n212  390.94  16.03  22.4    0  \n218  396.90  17.92  21.5    0  \n221  395.24  21.46  21.7    0  \n269  391.34  13.65  20.7    1  \n356  377.73  17.60  17.8    0  \n357  391.34  13.27  21.7    0  \n363  353.04  14.64  16.8    0  \n364  354.55   5.29  21.9    0  ",
      "text/html": "<div>\n<style scoped>\n    .dataframe tbody tr th:only-of-type {\n        vertical-align: middle;\n    }\n\n    .dataframe tbody tr th {\n        vertical-align: top;\n    }\n\n    .dataframe thead th {\n        text-align: right;\n    }\n</style>\n<table border=\"1\" class=\"dataframe\">\n  <thead>\n    <tr style=\"text-align: right;\">\n      <th></th>\n      <th>crim</th>\n      <th>indus</th>\n      <th>chas</th>\n      <th>nox</th>\n      <th>rm</th>\n      <th>age</th>\n      <th>dis</th>\n      <th>rad</th>\n      <th>tax</th>\n      <th>ptratio</th>\n      <th>black</th>\n      <th>lstat</th>\n      <th>medv</th>\n      <th>zn2</th>\n    </tr>\n  </thead>\n  <tbody>\n    <tr>\n      <th>142</th>\n      <td>3.32105</td>\n      <td>19.58</td>\n      <td>1</td>\n      <td>0.871</td>\n      <td>5.403</td>\n      <td>100.0</td>\n      <td>1.3216</td>\n      <td>5</td>\n      <td>403</td>\n      <td>14.7</td>\n      <td>396.90</td>\n      <td>26.82</td>\n      <td>13.4</td>\n      <td>0</td>\n    </tr>\n    <tr>\n      <th>152</th>\n      <td>1.12658</td>\n      <td>19.58</td>\n      <td>1</td>\n      <td>0.871</td>\n      <td>5.012</td>\n      <td>88.0</td>\n      <td>1.6102</td>\n      <td>5</td>\n      <td>403</td>\n      <td>14.7</td>\n      <td>343.28</td>\n      <td>12.12</td>\n      <td>15.3</td>\n      <td>0</td>\n    </tr>\n    <tr>\n      <th>154</th>\n      <td>1.41385</td>\n      <td>19.58</td>\n      <td>1</td>\n      <td>0.871</td>\n      <td>6.129</td>\n      <td>96.0</td>\n      <td>1.7494</td>\n      <td>5</td>\n      <td>403</td>\n      <td>14.7</td>\n      <td>321.02</td>\n      <td>15.12</td>\n      <td>17.0</td>\n      <td>0</td>\n    </tr>\n    <tr>\n      <th>155</th>\n      <td>3.53501</td>\n      <td>19.58</td>\n      <td>1</td>\n      <td>0.871</td>\n      <td>6.152</td>\n      <td>82.6</td>\n      <td>1.7455</td>\n      <td>5</td>\n      <td>403</td>\n      <td>14.7</td>\n      <td>88.01</td>\n      <td>15.02</td>\n      <td>15.6</td>\n      <td>0</td>\n    </tr>\n    <tr>\n      <th>209</th>\n      <td>0.43571</td>\n      <td>10.59</td>\n      <td>1</td>\n      <td>0.489</td>\n      <td>5.344</td>\n      <td>100.0</td>\n      <td>3.8750</td>\n      <td>4</td>\n      <td>277</td>\n      <td>18.6</td>\n      <td>396.90</td>\n      <td>23.09</td>\n      <td>20.0</td>\n      <td>0</td>\n    </tr>\n    <tr>\n      <th>210</th>\n      <td>0.17446</td>\n      <td>10.59</td>\n      <td>1</td>\n      <td>0.489</td>\n      <td>5.960</td>\n      <td>92.1</td>\n      <td>3.8771</td>\n      <td>4</td>\n      <td>277</td>\n      <td>18.6</td>\n      <td>393.25</td>\n      <td>17.27</td>\n      <td>21.7</td>\n      <td>0</td>\n    </tr>\n    <tr>\n      <th>211</th>\n      <td>0.37578</td>\n      <td>10.59</td>\n      <td>1</td>\n      <td>0.489</td>\n      <td>5.404</td>\n      <td>88.6</td>\n      <td>3.6650</td>\n      <td>4</td>\n      <td>277</td>\n      <td>18.6</td>\n      <td>395.24</td>\n      <td>23.98</td>\n      <td>19.3</td>\n      <td>0</td>\n    </tr>\n    <tr>\n      <th>212</th>\n      <td>0.21719</td>\n      <td>10.59</td>\n      <td>1</td>\n      <td>0.489</td>\n      <td>5.807</td>\n      <td>53.8</td>\n      <td>3.6526</td>\n      <td>4</td>\n      <td>277</td>\n      <td>18.6</td>\n      <td>390.94</td>\n      <td>16.03</td>\n      <td>22.4</td>\n      <td>0</td>\n    </tr>\n    <tr>\n      <th>218</th>\n      <td>0.11069</td>\n      <td>13.89</td>\n      <td>1</td>\n      <td>0.550</td>\n      <td>5.951</td>\n      <td>93.8</td>\n      <td>2.8893</td>\n      <td>5</td>\n      <td>276</td>\n      <td>16.4</td>\n      <td>396.90</td>\n      <td>17.92</td>\n      <td>21.5</td>\n      <td>0</td>\n    </tr>\n    <tr>\n      <th>221</th>\n      <td>0.40771</td>\n      <td>6.20</td>\n      <td>1</td>\n      <td>0.507</td>\n      <td>6.164</td>\n      <td>91.3</td>\n      <td>3.0480</td>\n      <td>8</td>\n      <td>307</td>\n      <td>17.4</td>\n      <td>395.24</td>\n      <td>21.46</td>\n      <td>21.7</td>\n      <td>0</td>\n    </tr>\n    <tr>\n      <th>269</th>\n      <td>0.09065</td>\n      <td>6.96</td>\n      <td>1</td>\n      <td>0.464</td>\n      <td>5.920</td>\n      <td>61.5</td>\n      <td>3.9175</td>\n      <td>3</td>\n      <td>223</td>\n      <td>18.6</td>\n      <td>391.34</td>\n      <td>13.65</td>\n      <td>20.7</td>\n      <td>1</td>\n    </tr>\n    <tr>\n      <th>356</th>\n      <td>8.98296</td>\n      <td>18.10</td>\n      <td>1</td>\n      <td>0.770</td>\n      <td>6.212</td>\n      <td>97.4</td>\n      <td>2.1222</td>\n      <td>24</td>\n      <td>666</td>\n      <td>20.2</td>\n      <td>377.73</td>\n      <td>17.60</td>\n      <td>17.8</td>\n      <td>0</td>\n    </tr>\n    <tr>\n      <th>357</th>\n      <td>3.84970</td>\n      <td>18.10</td>\n      <td>1</td>\n      <td>0.770</td>\n      <td>6.395</td>\n      <td>91.0</td>\n      <td>2.5052</td>\n      <td>24</td>\n      <td>666</td>\n      <td>20.2</td>\n      <td>391.34</td>\n      <td>13.27</td>\n      <td>21.7</td>\n      <td>0</td>\n    </tr>\n    <tr>\n      <th>363</th>\n      <td>4.22239</td>\n      <td>18.10</td>\n      <td>1</td>\n      <td>0.770</td>\n      <td>5.803</td>\n      <td>89.0</td>\n      <td>1.9047</td>\n      <td>24</td>\n      <td>666</td>\n      <td>20.2</td>\n      <td>353.04</td>\n      <td>14.64</td>\n      <td>16.8</td>\n      <td>0</td>\n    </tr>\n    <tr>\n      <th>364</th>\n      <td>3.47428</td>\n      <td>18.10</td>\n      <td>1</td>\n      <td>0.718</td>\n      <td>8.780</td>\n      <td>82.9</td>\n      <td>1.9047</td>\n      <td>24</td>\n      <td>666</td>\n      <td>20.2</td>\n      <td>354.55</td>\n      <td>5.29</td>\n      <td>21.9</td>\n      <td>0</td>\n    </tr>\n  </tbody>\n</table>\n</div>"
     },
     "execution_count": 33,
     "metadata": {},
     "output_type": "execute_result"
    }
   ]
  },
  {
   "cell_type": "markdown",
   "source": [
    "* Q7. 범죄율이 5% ~ 10% 사이의 데이터를 조회하시오."
   ],
   "metadata": {
    "id": "Yz9jAKw2-B7l"
   }
  },
  {
   "cell_type": "code",
   "metadata": {
    "scrolled": true,
    "id": "SzziqOVDwxns"
   },
   "source": [
    "boston.loc[boston['crim'].between(5, 10, inclusive='both'), :]"
   ],
   "execution_count": 51,
   "outputs": [
    {
     "data": {
      "text/plain": "        crim  indus  chas    nox     rm    age     dis  rad  tax  ptratio  \\\n356  8.98296   18.1     1  0.770  6.212   97.4  2.1222   24  666     20.2   \n358  5.20177   18.1     1  0.770  6.127   83.4  2.7227   24  666     20.2   \n369  5.66998   18.1     1  0.631  6.683   96.8  1.3567   24  666     20.2   \n370  6.53876   18.1     1  0.631  7.016   97.5  1.2024   24  666     20.2   \n371  9.23230   18.1     0  0.631  6.216  100.0  1.1691   24  666     20.2   \n372  8.26725   18.1     1  0.668  5.875   89.6  1.1296   24  666     20.2   \n377  9.82349   18.1     0  0.671  6.794   98.8  1.3580   24  666     20.2   \n382  9.18702   18.1     0  0.700  5.536  100.0  1.5804   24  666     20.2   \n383  7.99248   18.1     0  0.700  5.520  100.0  1.5331   24  666     20.2   \n389  8.15174   18.1     0  0.700  5.390   98.9  1.7281   24  666     20.2   \n390  6.96215   18.1     0  0.700  5.713   97.0  1.9265   24  666     20.2   \n391  5.29305   18.1     0  0.700  6.051   82.5  2.1678   24  666     20.2   \n393  8.64476   18.1     0  0.693  6.193   92.6  1.7912   24  666     20.2   \n395  8.71675   18.1     0  0.693  6.471   98.8  1.7257   24  666     20.2   \n396  5.87205   18.1     0  0.693  6.405   96.0  1.6768   24  666     20.2   \n397  7.67202   18.1     0  0.693  5.747   98.9  1.6334   24  666     20.2   \n399  9.91655   18.1     0  0.693  5.852   77.8  1.5004   24  666     20.2   \n402  9.59571   18.1     0  0.693  6.404  100.0  1.6390   24  666     20.2   \n408  7.40389   18.1     0  0.597  5.617   97.9  1.4547   24  666     20.2   \n421  7.02259   18.1     0  0.718  6.006   95.3  1.8746   24  666     20.2   \n423  7.05042   18.1     0  0.614  6.103   85.1  2.0218   24  666     20.2   \n424  8.79212   18.1     0  0.584  5.565   70.6  2.0635   24  666     20.2   \n428  7.36711   18.1     0  0.679  6.193   78.1  1.9356   24  666     20.2   \n429  9.33889   18.1     0  0.679  6.380   95.6  1.9682   24  666     20.2   \n430  8.49213   18.1     0  0.584  6.348   86.1  2.0527   24  666     20.2   \n432  6.44405   18.1     0  0.584  6.425   74.8  2.2004   24  666     20.2   \n433  5.58107   18.1     0  0.713  6.436   87.9  2.3158   24  666     20.2   \n439  9.39063   18.1     0  0.740  5.627   93.9  1.8172   24  666     20.2   \n441  9.72418   18.1     0  0.740  6.406   97.2  2.0651   24  666     20.2   \n442  5.66637   18.1     0  0.740  6.219  100.0  2.0048   24  666     20.2   \n443  9.96654   18.1     0  0.740  6.485  100.0  1.9784   24  666     20.2   \n446  6.28807   18.1     0  0.740  6.341   96.4  2.0720   24  666     20.2   \n447  9.92485   18.1     0  0.740  6.251   96.6  2.1980   24  666     20.2   \n448  9.32909   18.1     0  0.713  6.185   98.7  2.2616   24  666     20.2   \n449  7.52601   18.1     0  0.713  6.417   98.3  2.1850   24  666     20.2   \n450  6.71772   18.1     0  0.713  6.749   92.6  2.3236   24  666     20.2   \n451  5.44114   18.1     0  0.713  6.655   98.2  2.3552   24  666     20.2   \n452  5.09017   18.1     0  0.713  6.297   91.8  2.3682   24  666     20.2   \n453  8.24809   18.1     0  0.713  7.393   99.3  2.4527   24  666     20.2   \n454  9.51363   18.1     0  0.713  6.728   94.1  2.4961   24  666     20.2   \n457  8.20058   18.1     0  0.713  5.936   80.3  2.7792   24  666     20.2   \n458  7.75223   18.1     0  0.713  6.301   83.7  2.7831   24  666     20.2   \n459  6.80117   18.1     0  0.713  6.081   84.4  2.7175   24  666     20.2   \n462  6.65492   18.1     0  0.713  6.317   83.0  2.7344   24  666     20.2   \n463  5.82115   18.1     0  0.713  6.513   89.9  2.8016   24  666     20.2   \n464  7.83932   18.1     0  0.655  6.209   65.4  2.9634   24  666     20.2   \n474  8.05579   18.1     0  0.584  5.427   95.4  2.4298   24  666     20.2   \n475  6.39312   18.1     0  0.584  6.162   97.4  2.2060   24  666     20.2   \n480  5.82401   18.1     0  0.532  6.242   64.7  3.4242   24  666     20.2   \n481  5.70818   18.1     0  0.532  6.750   74.9  3.3317   24  666     20.2   \n482  5.73116   18.1     0  0.532  7.061   77.0  3.4106   24  666     20.2   \n486  5.69175   18.1     0  0.583  6.114   79.8  3.5459   24  666     20.2   \n\n      black  lstat  medv  zn2  \n356  377.73  17.60  17.8    0  \n358  395.43  11.48  22.7    0  \n369  375.33   3.73  50.0    0  \n370  392.05   2.96  50.0    0  \n371  366.15   9.53  50.0    0  \n372  347.88   8.88  50.0    0  \n377  396.90  21.24  13.3    0  \n382  396.90  23.60  11.3    0  \n383  396.90  24.56  12.3    0  \n389  396.90  20.85  11.5    0  \n390  394.43  17.11  15.1    0  \n391  378.38  18.76  23.2    0  \n393  396.90  15.17  13.8    0  \n395  391.98  17.12  13.1    0  \n396  396.90  19.37  12.5    0  \n397  393.10  19.92   8.5    0  \n399  338.16  29.97   6.3    0  \n402  376.11  20.31  12.1    0  \n408  314.64  26.40  17.2    0  \n421  319.98  15.70  14.2    0  \n423    2.52  23.29  13.4    0  \n424    3.65  17.16  11.7    0  \n428   96.73  21.52  11.0    0  \n429   60.72  24.08   9.5    0  \n430   83.45  17.64  14.5    0  \n432   97.95  12.03  16.1    0  \n433  100.19  16.22  14.3    0  \n439  396.90  22.88  12.8    0  \n441  385.96  19.52  17.1    0  \n442  395.69  16.59  18.4    0  \n443  386.73  18.85  15.4    0  \n446  318.01  17.79  14.9    0  \n447  388.52  16.44  12.6    0  \n448  396.90  18.13  14.1    0  \n449  304.21  19.31  13.0    0  \n450    0.32  17.44  13.4    0  \n451  355.29  17.73  15.2    0  \n452  385.09  17.27  16.1    0  \n453  375.87  16.74  17.8    0  \n454    6.68  18.71  14.9    0  \n457    3.50  16.94  13.5    0  \n458  272.21  16.23  14.9    0  \n459  396.90  14.70  20.0    0  \n462  396.90  13.99  19.5    0  \n463  393.82  10.29  20.2    0  \n464  396.90  13.22  21.4    0  \n474  352.58  18.14  13.8    0  \n475  302.76  24.10  13.3    0  \n480  396.90  10.74  23.0    0  \n481  393.07   7.74  23.7    0  \n482  395.28   7.01  25.0    0  \n486  392.68  14.98  19.1    0  ",
      "text/html": "<div>\n<style scoped>\n    .dataframe tbody tr th:only-of-type {\n        vertical-align: middle;\n    }\n\n    .dataframe tbody tr th {\n        vertical-align: top;\n    }\n\n    .dataframe thead th {\n        text-align: right;\n    }\n</style>\n<table border=\"1\" class=\"dataframe\">\n  <thead>\n    <tr style=\"text-align: right;\">\n      <th></th>\n      <th>crim</th>\n      <th>indus</th>\n      <th>chas</th>\n      <th>nox</th>\n      <th>rm</th>\n      <th>age</th>\n      <th>dis</th>\n      <th>rad</th>\n      <th>tax</th>\n      <th>ptratio</th>\n      <th>black</th>\n      <th>lstat</th>\n      <th>medv</th>\n      <th>zn2</th>\n    </tr>\n  </thead>\n  <tbody>\n    <tr>\n      <th>356</th>\n      <td>8.98296</td>\n      <td>18.1</td>\n      <td>1</td>\n      <td>0.770</td>\n      <td>6.212</td>\n      <td>97.4</td>\n      <td>2.1222</td>\n      <td>24</td>\n      <td>666</td>\n      <td>20.2</td>\n      <td>377.73</td>\n      <td>17.60</td>\n      <td>17.8</td>\n      <td>0</td>\n    </tr>\n    <tr>\n      <th>358</th>\n      <td>5.20177</td>\n      <td>18.1</td>\n      <td>1</td>\n      <td>0.770</td>\n      <td>6.127</td>\n      <td>83.4</td>\n      <td>2.7227</td>\n      <td>24</td>\n      <td>666</td>\n      <td>20.2</td>\n      <td>395.43</td>\n      <td>11.48</td>\n      <td>22.7</td>\n      <td>0</td>\n    </tr>\n    <tr>\n      <th>369</th>\n      <td>5.66998</td>\n      <td>18.1</td>\n      <td>1</td>\n      <td>0.631</td>\n      <td>6.683</td>\n      <td>96.8</td>\n      <td>1.3567</td>\n      <td>24</td>\n      <td>666</td>\n      <td>20.2</td>\n      <td>375.33</td>\n      <td>3.73</td>\n      <td>50.0</td>\n      <td>0</td>\n    </tr>\n    <tr>\n      <th>370</th>\n      <td>6.53876</td>\n      <td>18.1</td>\n      <td>1</td>\n      <td>0.631</td>\n      <td>7.016</td>\n      <td>97.5</td>\n      <td>1.2024</td>\n      <td>24</td>\n      <td>666</td>\n      <td>20.2</td>\n      <td>392.05</td>\n      <td>2.96</td>\n      <td>50.0</td>\n      <td>0</td>\n    </tr>\n    <tr>\n      <th>371</th>\n      <td>9.23230</td>\n      <td>18.1</td>\n      <td>0</td>\n      <td>0.631</td>\n      <td>6.216</td>\n      <td>100.0</td>\n      <td>1.1691</td>\n      <td>24</td>\n      <td>666</td>\n      <td>20.2</td>\n      <td>366.15</td>\n      <td>9.53</td>\n      <td>50.0</td>\n      <td>0</td>\n    </tr>\n    <tr>\n      <th>372</th>\n      <td>8.26725</td>\n      <td>18.1</td>\n      <td>1</td>\n      <td>0.668</td>\n      <td>5.875</td>\n      <td>89.6</td>\n      <td>1.1296</td>\n      <td>24</td>\n      <td>666</td>\n      <td>20.2</td>\n      <td>347.88</td>\n      <td>8.88</td>\n      <td>50.0</td>\n      <td>0</td>\n    </tr>\n    <tr>\n      <th>377</th>\n      <td>9.82349</td>\n      <td>18.1</td>\n      <td>0</td>\n      <td>0.671</td>\n      <td>6.794</td>\n      <td>98.8</td>\n      <td>1.3580</td>\n      <td>24</td>\n      <td>666</td>\n      <td>20.2</td>\n      <td>396.90</td>\n      <td>21.24</td>\n      <td>13.3</td>\n      <td>0</td>\n    </tr>\n    <tr>\n      <th>382</th>\n      <td>9.18702</td>\n      <td>18.1</td>\n      <td>0</td>\n      <td>0.700</td>\n      <td>5.536</td>\n      <td>100.0</td>\n      <td>1.5804</td>\n      <td>24</td>\n      <td>666</td>\n      <td>20.2</td>\n      <td>396.90</td>\n      <td>23.60</td>\n      <td>11.3</td>\n      <td>0</td>\n    </tr>\n    <tr>\n      <th>383</th>\n      <td>7.99248</td>\n      <td>18.1</td>\n      <td>0</td>\n      <td>0.700</td>\n      <td>5.520</td>\n      <td>100.0</td>\n      <td>1.5331</td>\n      <td>24</td>\n      <td>666</td>\n      <td>20.2</td>\n      <td>396.90</td>\n      <td>24.56</td>\n      <td>12.3</td>\n      <td>0</td>\n    </tr>\n    <tr>\n      <th>389</th>\n      <td>8.15174</td>\n      <td>18.1</td>\n      <td>0</td>\n      <td>0.700</td>\n      <td>5.390</td>\n      <td>98.9</td>\n      <td>1.7281</td>\n      <td>24</td>\n      <td>666</td>\n      <td>20.2</td>\n      <td>396.90</td>\n      <td>20.85</td>\n      <td>11.5</td>\n      <td>0</td>\n    </tr>\n    <tr>\n      <th>390</th>\n      <td>6.96215</td>\n      <td>18.1</td>\n      <td>0</td>\n      <td>0.700</td>\n      <td>5.713</td>\n      <td>97.0</td>\n      <td>1.9265</td>\n      <td>24</td>\n      <td>666</td>\n      <td>20.2</td>\n      <td>394.43</td>\n      <td>17.11</td>\n      <td>15.1</td>\n      <td>0</td>\n    </tr>\n    <tr>\n      <th>391</th>\n      <td>5.29305</td>\n      <td>18.1</td>\n      <td>0</td>\n      <td>0.700</td>\n      <td>6.051</td>\n      <td>82.5</td>\n      <td>2.1678</td>\n      <td>24</td>\n      <td>666</td>\n      <td>20.2</td>\n      <td>378.38</td>\n      <td>18.76</td>\n      <td>23.2</td>\n      <td>0</td>\n    </tr>\n    <tr>\n      <th>393</th>\n      <td>8.64476</td>\n      <td>18.1</td>\n      <td>0</td>\n      <td>0.693</td>\n      <td>6.193</td>\n      <td>92.6</td>\n      <td>1.7912</td>\n      <td>24</td>\n      <td>666</td>\n      <td>20.2</td>\n      <td>396.90</td>\n      <td>15.17</td>\n      <td>13.8</td>\n      <td>0</td>\n    </tr>\n    <tr>\n      <th>395</th>\n      <td>8.71675</td>\n      <td>18.1</td>\n      <td>0</td>\n      <td>0.693</td>\n      <td>6.471</td>\n      <td>98.8</td>\n      <td>1.7257</td>\n      <td>24</td>\n      <td>666</td>\n      <td>20.2</td>\n      <td>391.98</td>\n      <td>17.12</td>\n      <td>13.1</td>\n      <td>0</td>\n    </tr>\n    <tr>\n      <th>396</th>\n      <td>5.87205</td>\n      <td>18.1</td>\n      <td>0</td>\n      <td>0.693</td>\n      <td>6.405</td>\n      <td>96.0</td>\n      <td>1.6768</td>\n      <td>24</td>\n      <td>666</td>\n      <td>20.2</td>\n      <td>396.90</td>\n      <td>19.37</td>\n      <td>12.5</td>\n      <td>0</td>\n    </tr>\n    <tr>\n      <th>397</th>\n      <td>7.67202</td>\n      <td>18.1</td>\n      <td>0</td>\n      <td>0.693</td>\n      <td>5.747</td>\n      <td>98.9</td>\n      <td>1.6334</td>\n      <td>24</td>\n      <td>666</td>\n      <td>20.2</td>\n      <td>393.10</td>\n      <td>19.92</td>\n      <td>8.5</td>\n      <td>0</td>\n    </tr>\n    <tr>\n      <th>399</th>\n      <td>9.91655</td>\n      <td>18.1</td>\n      <td>0</td>\n      <td>0.693</td>\n      <td>5.852</td>\n      <td>77.8</td>\n      <td>1.5004</td>\n      <td>24</td>\n      <td>666</td>\n      <td>20.2</td>\n      <td>338.16</td>\n      <td>29.97</td>\n      <td>6.3</td>\n      <td>0</td>\n    </tr>\n    <tr>\n      <th>402</th>\n      <td>9.59571</td>\n      <td>18.1</td>\n      <td>0</td>\n      <td>0.693</td>\n      <td>6.404</td>\n      <td>100.0</td>\n      <td>1.6390</td>\n      <td>24</td>\n      <td>666</td>\n      <td>20.2</td>\n      <td>376.11</td>\n      <td>20.31</td>\n      <td>12.1</td>\n      <td>0</td>\n    </tr>\n    <tr>\n      <th>408</th>\n      <td>7.40389</td>\n      <td>18.1</td>\n      <td>0</td>\n      <td>0.597</td>\n      <td>5.617</td>\n      <td>97.9</td>\n      <td>1.4547</td>\n      <td>24</td>\n      <td>666</td>\n      <td>20.2</td>\n      <td>314.64</td>\n      <td>26.40</td>\n      <td>17.2</td>\n      <td>0</td>\n    </tr>\n    <tr>\n      <th>421</th>\n      <td>7.02259</td>\n      <td>18.1</td>\n      <td>0</td>\n      <td>0.718</td>\n      <td>6.006</td>\n      <td>95.3</td>\n      <td>1.8746</td>\n      <td>24</td>\n      <td>666</td>\n      <td>20.2</td>\n      <td>319.98</td>\n      <td>15.70</td>\n      <td>14.2</td>\n      <td>0</td>\n    </tr>\n    <tr>\n      <th>423</th>\n      <td>7.05042</td>\n      <td>18.1</td>\n      <td>0</td>\n      <td>0.614</td>\n      <td>6.103</td>\n      <td>85.1</td>\n      <td>2.0218</td>\n      <td>24</td>\n      <td>666</td>\n      <td>20.2</td>\n      <td>2.52</td>\n      <td>23.29</td>\n      <td>13.4</td>\n      <td>0</td>\n    </tr>\n    <tr>\n      <th>424</th>\n      <td>8.79212</td>\n      <td>18.1</td>\n      <td>0</td>\n      <td>0.584</td>\n      <td>5.565</td>\n      <td>70.6</td>\n      <td>2.0635</td>\n      <td>24</td>\n      <td>666</td>\n      <td>20.2</td>\n      <td>3.65</td>\n      <td>17.16</td>\n      <td>11.7</td>\n      <td>0</td>\n    </tr>\n    <tr>\n      <th>428</th>\n      <td>7.36711</td>\n      <td>18.1</td>\n      <td>0</td>\n      <td>0.679</td>\n      <td>6.193</td>\n      <td>78.1</td>\n      <td>1.9356</td>\n      <td>24</td>\n      <td>666</td>\n      <td>20.2</td>\n      <td>96.73</td>\n      <td>21.52</td>\n      <td>11.0</td>\n      <td>0</td>\n    </tr>\n    <tr>\n      <th>429</th>\n      <td>9.33889</td>\n      <td>18.1</td>\n      <td>0</td>\n      <td>0.679</td>\n      <td>6.380</td>\n      <td>95.6</td>\n      <td>1.9682</td>\n      <td>24</td>\n      <td>666</td>\n      <td>20.2</td>\n      <td>60.72</td>\n      <td>24.08</td>\n      <td>9.5</td>\n      <td>0</td>\n    </tr>\n    <tr>\n      <th>430</th>\n      <td>8.49213</td>\n      <td>18.1</td>\n      <td>0</td>\n      <td>0.584</td>\n      <td>6.348</td>\n      <td>86.1</td>\n      <td>2.0527</td>\n      <td>24</td>\n      <td>666</td>\n      <td>20.2</td>\n      <td>83.45</td>\n      <td>17.64</td>\n      <td>14.5</td>\n      <td>0</td>\n    </tr>\n    <tr>\n      <th>432</th>\n      <td>6.44405</td>\n      <td>18.1</td>\n      <td>0</td>\n      <td>0.584</td>\n      <td>6.425</td>\n      <td>74.8</td>\n      <td>2.2004</td>\n      <td>24</td>\n      <td>666</td>\n      <td>20.2</td>\n      <td>97.95</td>\n      <td>12.03</td>\n      <td>16.1</td>\n      <td>0</td>\n    </tr>\n    <tr>\n      <th>433</th>\n      <td>5.58107</td>\n      <td>18.1</td>\n      <td>0</td>\n      <td>0.713</td>\n      <td>6.436</td>\n      <td>87.9</td>\n      <td>2.3158</td>\n      <td>24</td>\n      <td>666</td>\n      <td>20.2</td>\n      <td>100.19</td>\n      <td>16.22</td>\n      <td>14.3</td>\n      <td>0</td>\n    </tr>\n    <tr>\n      <th>439</th>\n      <td>9.39063</td>\n      <td>18.1</td>\n      <td>0</td>\n      <td>0.740</td>\n      <td>5.627</td>\n      <td>93.9</td>\n      <td>1.8172</td>\n      <td>24</td>\n      <td>666</td>\n      <td>20.2</td>\n      <td>396.90</td>\n      <td>22.88</td>\n      <td>12.8</td>\n      <td>0</td>\n    </tr>\n    <tr>\n      <th>441</th>\n      <td>9.72418</td>\n      <td>18.1</td>\n      <td>0</td>\n      <td>0.740</td>\n      <td>6.406</td>\n      <td>97.2</td>\n      <td>2.0651</td>\n      <td>24</td>\n      <td>666</td>\n      <td>20.2</td>\n      <td>385.96</td>\n      <td>19.52</td>\n      <td>17.1</td>\n      <td>0</td>\n    </tr>\n    <tr>\n      <th>442</th>\n      <td>5.66637</td>\n      <td>18.1</td>\n      <td>0</td>\n      <td>0.740</td>\n      <td>6.219</td>\n      <td>100.0</td>\n      <td>2.0048</td>\n      <td>24</td>\n      <td>666</td>\n      <td>20.2</td>\n      <td>395.69</td>\n      <td>16.59</td>\n      <td>18.4</td>\n      <td>0</td>\n    </tr>\n    <tr>\n      <th>443</th>\n      <td>9.96654</td>\n      <td>18.1</td>\n      <td>0</td>\n      <td>0.740</td>\n      <td>6.485</td>\n      <td>100.0</td>\n      <td>1.9784</td>\n      <td>24</td>\n      <td>666</td>\n      <td>20.2</td>\n      <td>386.73</td>\n      <td>18.85</td>\n      <td>15.4</td>\n      <td>0</td>\n    </tr>\n    <tr>\n      <th>446</th>\n      <td>6.28807</td>\n      <td>18.1</td>\n      <td>0</td>\n      <td>0.740</td>\n      <td>6.341</td>\n      <td>96.4</td>\n      <td>2.0720</td>\n      <td>24</td>\n      <td>666</td>\n      <td>20.2</td>\n      <td>318.01</td>\n      <td>17.79</td>\n      <td>14.9</td>\n      <td>0</td>\n    </tr>\n    <tr>\n      <th>447</th>\n      <td>9.92485</td>\n      <td>18.1</td>\n      <td>0</td>\n      <td>0.740</td>\n      <td>6.251</td>\n      <td>96.6</td>\n      <td>2.1980</td>\n      <td>24</td>\n      <td>666</td>\n      <td>20.2</td>\n      <td>388.52</td>\n      <td>16.44</td>\n      <td>12.6</td>\n      <td>0</td>\n    </tr>\n    <tr>\n      <th>448</th>\n      <td>9.32909</td>\n      <td>18.1</td>\n      <td>0</td>\n      <td>0.713</td>\n      <td>6.185</td>\n      <td>98.7</td>\n      <td>2.2616</td>\n      <td>24</td>\n      <td>666</td>\n      <td>20.2</td>\n      <td>396.90</td>\n      <td>18.13</td>\n      <td>14.1</td>\n      <td>0</td>\n    </tr>\n    <tr>\n      <th>449</th>\n      <td>7.52601</td>\n      <td>18.1</td>\n      <td>0</td>\n      <td>0.713</td>\n      <td>6.417</td>\n      <td>98.3</td>\n      <td>2.1850</td>\n      <td>24</td>\n      <td>666</td>\n      <td>20.2</td>\n      <td>304.21</td>\n      <td>19.31</td>\n      <td>13.0</td>\n      <td>0</td>\n    </tr>\n    <tr>\n      <th>450</th>\n      <td>6.71772</td>\n      <td>18.1</td>\n      <td>0</td>\n      <td>0.713</td>\n      <td>6.749</td>\n      <td>92.6</td>\n      <td>2.3236</td>\n      <td>24</td>\n      <td>666</td>\n      <td>20.2</td>\n      <td>0.32</td>\n      <td>17.44</td>\n      <td>13.4</td>\n      <td>0</td>\n    </tr>\n    <tr>\n      <th>451</th>\n      <td>5.44114</td>\n      <td>18.1</td>\n      <td>0</td>\n      <td>0.713</td>\n      <td>6.655</td>\n      <td>98.2</td>\n      <td>2.3552</td>\n      <td>24</td>\n      <td>666</td>\n      <td>20.2</td>\n      <td>355.29</td>\n      <td>17.73</td>\n      <td>15.2</td>\n      <td>0</td>\n    </tr>\n    <tr>\n      <th>452</th>\n      <td>5.09017</td>\n      <td>18.1</td>\n      <td>0</td>\n      <td>0.713</td>\n      <td>6.297</td>\n      <td>91.8</td>\n      <td>2.3682</td>\n      <td>24</td>\n      <td>666</td>\n      <td>20.2</td>\n      <td>385.09</td>\n      <td>17.27</td>\n      <td>16.1</td>\n      <td>0</td>\n    </tr>\n    <tr>\n      <th>453</th>\n      <td>8.24809</td>\n      <td>18.1</td>\n      <td>0</td>\n      <td>0.713</td>\n      <td>7.393</td>\n      <td>99.3</td>\n      <td>2.4527</td>\n      <td>24</td>\n      <td>666</td>\n      <td>20.2</td>\n      <td>375.87</td>\n      <td>16.74</td>\n      <td>17.8</td>\n      <td>0</td>\n    </tr>\n    <tr>\n      <th>454</th>\n      <td>9.51363</td>\n      <td>18.1</td>\n      <td>0</td>\n      <td>0.713</td>\n      <td>6.728</td>\n      <td>94.1</td>\n      <td>2.4961</td>\n      <td>24</td>\n      <td>666</td>\n      <td>20.2</td>\n      <td>6.68</td>\n      <td>18.71</td>\n      <td>14.9</td>\n      <td>0</td>\n    </tr>\n    <tr>\n      <th>457</th>\n      <td>8.20058</td>\n      <td>18.1</td>\n      <td>0</td>\n      <td>0.713</td>\n      <td>5.936</td>\n      <td>80.3</td>\n      <td>2.7792</td>\n      <td>24</td>\n      <td>666</td>\n      <td>20.2</td>\n      <td>3.50</td>\n      <td>16.94</td>\n      <td>13.5</td>\n      <td>0</td>\n    </tr>\n    <tr>\n      <th>458</th>\n      <td>7.75223</td>\n      <td>18.1</td>\n      <td>0</td>\n      <td>0.713</td>\n      <td>6.301</td>\n      <td>83.7</td>\n      <td>2.7831</td>\n      <td>24</td>\n      <td>666</td>\n      <td>20.2</td>\n      <td>272.21</td>\n      <td>16.23</td>\n      <td>14.9</td>\n      <td>0</td>\n    </tr>\n    <tr>\n      <th>459</th>\n      <td>6.80117</td>\n      <td>18.1</td>\n      <td>0</td>\n      <td>0.713</td>\n      <td>6.081</td>\n      <td>84.4</td>\n      <td>2.7175</td>\n      <td>24</td>\n      <td>666</td>\n      <td>20.2</td>\n      <td>396.90</td>\n      <td>14.70</td>\n      <td>20.0</td>\n      <td>0</td>\n    </tr>\n    <tr>\n      <th>462</th>\n      <td>6.65492</td>\n      <td>18.1</td>\n      <td>0</td>\n      <td>0.713</td>\n      <td>6.317</td>\n      <td>83.0</td>\n      <td>2.7344</td>\n      <td>24</td>\n      <td>666</td>\n      <td>20.2</td>\n      <td>396.90</td>\n      <td>13.99</td>\n      <td>19.5</td>\n      <td>0</td>\n    </tr>\n    <tr>\n      <th>463</th>\n      <td>5.82115</td>\n      <td>18.1</td>\n      <td>0</td>\n      <td>0.713</td>\n      <td>6.513</td>\n      <td>89.9</td>\n      <td>2.8016</td>\n      <td>24</td>\n      <td>666</td>\n      <td>20.2</td>\n      <td>393.82</td>\n      <td>10.29</td>\n      <td>20.2</td>\n      <td>0</td>\n    </tr>\n    <tr>\n      <th>464</th>\n      <td>7.83932</td>\n      <td>18.1</td>\n      <td>0</td>\n      <td>0.655</td>\n      <td>6.209</td>\n      <td>65.4</td>\n      <td>2.9634</td>\n      <td>24</td>\n      <td>666</td>\n      <td>20.2</td>\n      <td>396.90</td>\n      <td>13.22</td>\n      <td>21.4</td>\n      <td>0</td>\n    </tr>\n    <tr>\n      <th>474</th>\n      <td>8.05579</td>\n      <td>18.1</td>\n      <td>0</td>\n      <td>0.584</td>\n      <td>5.427</td>\n      <td>95.4</td>\n      <td>2.4298</td>\n      <td>24</td>\n      <td>666</td>\n      <td>20.2</td>\n      <td>352.58</td>\n      <td>18.14</td>\n      <td>13.8</td>\n      <td>0</td>\n    </tr>\n    <tr>\n      <th>475</th>\n      <td>6.39312</td>\n      <td>18.1</td>\n      <td>0</td>\n      <td>0.584</td>\n      <td>6.162</td>\n      <td>97.4</td>\n      <td>2.2060</td>\n      <td>24</td>\n      <td>666</td>\n      <td>20.2</td>\n      <td>302.76</td>\n      <td>24.10</td>\n      <td>13.3</td>\n      <td>0</td>\n    </tr>\n    <tr>\n      <th>480</th>\n      <td>5.82401</td>\n      <td>18.1</td>\n      <td>0</td>\n      <td>0.532</td>\n      <td>6.242</td>\n      <td>64.7</td>\n      <td>3.4242</td>\n      <td>24</td>\n      <td>666</td>\n      <td>20.2</td>\n      <td>396.90</td>\n      <td>10.74</td>\n      <td>23.0</td>\n      <td>0</td>\n    </tr>\n    <tr>\n      <th>481</th>\n      <td>5.70818</td>\n      <td>18.1</td>\n      <td>0</td>\n      <td>0.532</td>\n      <td>6.750</td>\n      <td>74.9</td>\n      <td>3.3317</td>\n      <td>24</td>\n      <td>666</td>\n      <td>20.2</td>\n      <td>393.07</td>\n      <td>7.74</td>\n      <td>23.7</td>\n      <td>0</td>\n    </tr>\n    <tr>\n      <th>482</th>\n      <td>5.73116</td>\n      <td>18.1</td>\n      <td>0</td>\n      <td>0.532</td>\n      <td>7.061</td>\n      <td>77.0</td>\n      <td>3.4106</td>\n      <td>24</td>\n      <td>666</td>\n      <td>20.2</td>\n      <td>395.28</td>\n      <td>7.01</td>\n      <td>25.0</td>\n      <td>0</td>\n    </tr>\n    <tr>\n      <th>486</th>\n      <td>5.69175</td>\n      <td>18.1</td>\n      <td>0</td>\n      <td>0.583</td>\n      <td>6.114</td>\n      <td>79.8</td>\n      <td>3.5459</td>\n      <td>24</td>\n      <td>666</td>\n      <td>20.2</td>\n      <td>392.68</td>\n      <td>14.98</td>\n      <td>19.1</td>\n      <td>0</td>\n    </tr>\n  </tbody>\n</table>\n</div>"
     },
     "execution_count": 51,
     "metadata": {},
     "output_type": "execute_result"
    }
   ]
  },
  {
   "cell_type": "markdown",
   "source": [
    "* Q8. titanic 데이터를 이용하여, 가장 비싼 운임을 내고 탄 사람을 조회하시오."
   ],
   "metadata": {
    "id": "bXO-yP7M-JBL"
   }
  },
  {
   "cell_type": "code",
   "metadata": {
    "id": "O-RdQGwKZ3ir"
   },
   "source": [
    "titanic.sort_values(by=['Fare'], ascending=False).head(1)"
   ],
   "execution_count": 44,
   "outputs": [
    {
     "data": {
      "text/plain": "     PassengerId  Survived  Pclass              Name     Sex   Age  SibSp  \\\n258          259         1       1  Ward, Miss. Anna  female  35.0      0   \n\n     Parch    Ticket      Fare Cabin Embarked  \n258      0  PC 17755  512.3292   NaN        C  ",
      "text/html": "<div>\n<style scoped>\n    .dataframe tbody tr th:only-of-type {\n        vertical-align: middle;\n    }\n\n    .dataframe tbody tr th {\n        vertical-align: top;\n    }\n\n    .dataframe thead th {\n        text-align: right;\n    }\n</style>\n<table border=\"1\" class=\"dataframe\">\n  <thead>\n    <tr style=\"text-align: right;\">\n      <th></th>\n      <th>PassengerId</th>\n      <th>Survived</th>\n      <th>Pclass</th>\n      <th>Name</th>\n      <th>Sex</th>\n      <th>Age</th>\n      <th>SibSp</th>\n      <th>Parch</th>\n      <th>Ticket</th>\n      <th>Fare</th>\n      <th>Cabin</th>\n      <th>Embarked</th>\n    </tr>\n  </thead>\n  <tbody>\n    <tr>\n      <th>258</th>\n      <td>259</td>\n      <td>1</td>\n      <td>1</td>\n      <td>Ward, Miss. Anna</td>\n      <td>female</td>\n      <td>35.0</td>\n      <td>0</td>\n      <td>0</td>\n      <td>PC 17755</td>\n      <td>512.3292</td>\n      <td>NaN</td>\n      <td>C</td>\n    </tr>\n  </tbody>\n</table>\n</div>"
     },
     "execution_count": 44,
     "metadata": {},
     "output_type": "execute_result"
    }
   ]
  },
  {
   "cell_type": "markdown",
   "source": [
    "* Q9. titanic 데이터에서 객실등급 1등급이면서 20대인 남자 탑승객의 평균 운임을 구하시오"
   ],
   "metadata": {
    "id": "rDcX1hHQ-a5l"
   }
  },
  {
   "cell_type": "code",
   "metadata": {
    "id": "h9h7eFUVZ_Qr"
   },
   "source": [
    "titanic.loc[(titanic['Pclass'] == 1) & (titanic['Age'] // 10 == 2)]['Fare'].mean()"
   ],
   "execution_count": 49,
   "outputs": [
    {
     "data": {
      "text/plain": "101.60379705882355"
     },
     "execution_count": 49,
     "metadata": {},
     "output_type": "execute_result"
    }
   ]
  },
  {
   "cell_type": "markdown",
   "metadata": {
    "id": "PcLUjkq0wxpF"
   },
   "source": [
    "### 실습 4 : 데이터프레임 수정하기"
   ]
  },
  {
   "cell_type": "markdown",
   "source": [
    "* Q0. 라이브러리 불러오기"
   ],
   "metadata": {
    "id": "FxBvXd2t_N8C"
   }
  },
  {
   "cell_type": "code",
   "source": [],
   "metadata": {
    "id": "k6uP6Eoo_Pio"
   },
   "execution_count": 22,
   "outputs": []
  },
  {
   "cell_type": "markdown",
   "source": [
    "* Q1. 아래 링크를 titanic 변수에 저장하시오.\n",
    "\n",
    "    * https://raw.githubusercontent.com/DA4BAM/dataset/master/titanic.0.csv"
   ],
   "metadata": {
    "id": "xTz3Swn5_Q5S"
   }
  },
  {
   "cell_type": "code",
   "metadata": {
    "scrolled": true,
    "id": "uQL8uIyJwxpG"
   },
   "source": [
    "titanic = pd.read_csv('https://raw.githubusercontent.com/DA4BAM/dataset/master/titanic.0.csv')\n",
    "titanic.head()"
   ],
   "execution_count": 53,
   "outputs": [
    {
     "data": {
      "text/plain": "   PassengerId  Survived  Pclass  \\\n0            1         0       3   \n1            2         1       1   \n2            3         1       3   \n3            4         1       1   \n4            5         0       3   \n\n                                                Name     Sex   Age  SibSp  \\\n0                            Braund, Mr. Owen Harris    male  22.0      1   \n1  Cumings, Mrs. John Bradley (Florence Briggs Th...  female  38.0      1   \n2                             Heikkinen, Miss. Laina  female  26.0      0   \n3       Futrelle, Mrs. Jacques Heath (Lily May Peel)  female  35.0      1   \n4                           Allen, Mr. William Henry    male  35.0      0   \n\n   Parch            Ticket     Fare Cabin Embarked  \n0      0         A/5 21171   7.2500   NaN        S  \n1      0          PC 17599  71.2833   C85        C  \n2      0  STON/O2. 3101282   7.9250   NaN        S  \n3      0            113803  53.1000  C123        S  \n4      0            373450   8.0500   NaN        S  ",
      "text/html": "<div>\n<style scoped>\n    .dataframe tbody tr th:only-of-type {\n        vertical-align: middle;\n    }\n\n    .dataframe tbody tr th {\n        vertical-align: top;\n    }\n\n    .dataframe thead th {\n        text-align: right;\n    }\n</style>\n<table border=\"1\" class=\"dataframe\">\n  <thead>\n    <tr style=\"text-align: right;\">\n      <th></th>\n      <th>PassengerId</th>\n      <th>Survived</th>\n      <th>Pclass</th>\n      <th>Name</th>\n      <th>Sex</th>\n      <th>Age</th>\n      <th>SibSp</th>\n      <th>Parch</th>\n      <th>Ticket</th>\n      <th>Fare</th>\n      <th>Cabin</th>\n      <th>Embarked</th>\n    </tr>\n  </thead>\n  <tbody>\n    <tr>\n      <th>0</th>\n      <td>1</td>\n      <td>0</td>\n      <td>3</td>\n      <td>Braund, Mr. Owen Harris</td>\n      <td>male</td>\n      <td>22.0</td>\n      <td>1</td>\n      <td>0</td>\n      <td>A/5 21171</td>\n      <td>7.2500</td>\n      <td>NaN</td>\n      <td>S</td>\n    </tr>\n    <tr>\n      <th>1</th>\n      <td>2</td>\n      <td>1</td>\n      <td>1</td>\n      <td>Cumings, Mrs. John Bradley (Florence Briggs Th...</td>\n      <td>female</td>\n      <td>38.0</td>\n      <td>1</td>\n      <td>0</td>\n      <td>PC 17599</td>\n      <td>71.2833</td>\n      <td>C85</td>\n      <td>C</td>\n    </tr>\n    <tr>\n      <th>2</th>\n      <td>3</td>\n      <td>1</td>\n      <td>3</td>\n      <td>Heikkinen, Miss. Laina</td>\n      <td>female</td>\n      <td>26.0</td>\n      <td>0</td>\n      <td>0</td>\n      <td>STON/O2. 3101282</td>\n      <td>7.9250</td>\n      <td>NaN</td>\n      <td>S</td>\n    </tr>\n    <tr>\n      <th>3</th>\n      <td>4</td>\n      <td>1</td>\n      <td>1</td>\n      <td>Futrelle, Mrs. Jacques Heath (Lily May Peel)</td>\n      <td>female</td>\n      <td>35.0</td>\n      <td>1</td>\n      <td>0</td>\n      <td>113803</td>\n      <td>53.1000</td>\n      <td>C123</td>\n      <td>S</td>\n    </tr>\n    <tr>\n      <th>4</th>\n      <td>5</td>\n      <td>0</td>\n      <td>3</td>\n      <td>Allen, Mr. William Henry</td>\n      <td>male</td>\n      <td>35.0</td>\n      <td>0</td>\n      <td>0</td>\n      <td>373450</td>\n      <td>8.0500</td>\n      <td>NaN</td>\n      <td>S</td>\n    </tr>\n  </tbody>\n</table>\n</div>"
     },
     "execution_count": 53,
     "metadata": {},
     "output_type": "execute_result"
    }
   ]
  },
  {
   "cell_type": "markdown",
   "source": [
    "* Q2. 연령대( (0,10], (10,20], (20,30], (30,40], (40,50], (50,100]) ) 칼럼을 추가하시오.\n",
    "\n",
    "    * (0,10] : 0보다 크고, 10보다 작거나 같다."
   ],
   "metadata": {
    "id": "ljwNF7sz_djc"
   }
  },
  {
   "cell_type": "code",
   "metadata": {
    "id": "L-IFtOKJxAnE"
   },
   "source": [
    "gens = [0, 10, 20, 30, 40, 50, 100]\n",
    "labels = ['(0,10]', '(10,20]', '(20,30]', '(30,40]', '(40,50]', '(50,100])']\n",
    "\n",
    "titanic['Generation'] = pd.cut(titanic['Age'], labels=labels, bins=gens)\n",
    "titanic[['Age', 'Generation']]"
   ],
   "execution_count": 55,
   "outputs": [
    {
     "data": {
      "text/plain": "      Age Generation\n0    22.0    (20,30]\n1    38.0    (30,40]\n2    26.0    (20,30]\n3    35.0    (30,40]\n4    35.0    (30,40]\n..    ...        ...\n886  27.0    (20,30]\n887  19.0    (10,20]\n888   NaN        NaN\n889  26.0    (20,30]\n890  32.0    (30,40]\n\n[891 rows x 2 columns]",
      "text/html": "<div>\n<style scoped>\n    .dataframe tbody tr th:only-of-type {\n        vertical-align: middle;\n    }\n\n    .dataframe tbody tr th {\n        vertical-align: top;\n    }\n\n    .dataframe thead th {\n        text-align: right;\n    }\n</style>\n<table border=\"1\" class=\"dataframe\">\n  <thead>\n    <tr style=\"text-align: right;\">\n      <th></th>\n      <th>Age</th>\n      <th>Generation</th>\n    </tr>\n  </thead>\n  <tbody>\n    <tr>\n      <th>0</th>\n      <td>22.0</td>\n      <td>(20,30]</td>\n    </tr>\n    <tr>\n      <th>1</th>\n      <td>38.0</td>\n      <td>(30,40]</td>\n    </tr>\n    <tr>\n      <th>2</th>\n      <td>26.0</td>\n      <td>(20,30]</td>\n    </tr>\n    <tr>\n      <th>3</th>\n      <td>35.0</td>\n      <td>(30,40]</td>\n    </tr>\n    <tr>\n      <th>4</th>\n      <td>35.0</td>\n      <td>(30,40]</td>\n    </tr>\n    <tr>\n      <th>...</th>\n      <td>...</td>\n      <td>...</td>\n    </tr>\n    <tr>\n      <th>886</th>\n      <td>27.0</td>\n      <td>(20,30]</td>\n    </tr>\n    <tr>\n      <th>887</th>\n      <td>19.0</td>\n      <td>(10,20]</td>\n    </tr>\n    <tr>\n      <th>888</th>\n      <td>NaN</td>\n      <td>NaN</td>\n    </tr>\n    <tr>\n      <th>889</th>\n      <td>26.0</td>\n      <td>(20,30]</td>\n    </tr>\n    <tr>\n      <th>890</th>\n      <td>32.0</td>\n      <td>(30,40]</td>\n    </tr>\n  </tbody>\n</table>\n<p>891 rows × 2 columns</p>\n</div>"
     },
     "execution_count": 55,
     "metadata": {},
     "output_type": "execute_result"
    }
   ]
  },
  {
   "cell_type": "markdown",
   "source": [
    "* Q3. PassengerId, Name, SibSp, Parch, Ticket, Cabin 열을 삭제하시오."
   ],
   "metadata": {
    "id": "l81W4pUN_uhK"
   }
  },
  {
   "cell_type": "code",
   "metadata": {
    "id": "UW5_URVi78DH"
   },
   "source": [
    "titanic.head()\n",
    "titanic.drop(['PassengerId', 'Name', 'SibSp', 'Parch', 'Ticket', 'Cabin'], axis=1, inplace=True)\n",
    "titanic.head()"
   ],
   "execution_count": 56,
   "outputs": [
    {
     "data": {
      "text/plain": "   Survived  Pclass     Sex   Age     Fare Embarked Generation\n0         0       3    male  22.0   7.2500        S    (20,30]\n1         1       1  female  38.0  71.2833        C    (30,40]\n2         1       3  female  26.0   7.9250        S    (20,30]\n3         1       1  female  35.0  53.1000        S    (30,40]\n4         0       3    male  35.0   8.0500        S    (30,40]",
      "text/html": "<div>\n<style scoped>\n    .dataframe tbody tr th:only-of-type {\n        vertical-align: middle;\n    }\n\n    .dataframe tbody tr th {\n        vertical-align: top;\n    }\n\n    .dataframe thead th {\n        text-align: right;\n    }\n</style>\n<table border=\"1\" class=\"dataframe\">\n  <thead>\n    <tr style=\"text-align: right;\">\n      <th></th>\n      <th>Survived</th>\n      <th>Pclass</th>\n      <th>Sex</th>\n      <th>Age</th>\n      <th>Fare</th>\n      <th>Embarked</th>\n      <th>Generation</th>\n    </tr>\n  </thead>\n  <tbody>\n    <tr>\n      <th>0</th>\n      <td>0</td>\n      <td>3</td>\n      <td>male</td>\n      <td>22.0</td>\n      <td>7.2500</td>\n      <td>S</td>\n      <td>(20,30]</td>\n    </tr>\n    <tr>\n      <th>1</th>\n      <td>1</td>\n      <td>1</td>\n      <td>female</td>\n      <td>38.0</td>\n      <td>71.2833</td>\n      <td>C</td>\n      <td>(30,40]</td>\n    </tr>\n    <tr>\n      <th>2</th>\n      <td>1</td>\n      <td>3</td>\n      <td>female</td>\n      <td>26.0</td>\n      <td>7.9250</td>\n      <td>S</td>\n      <td>(20,30]</td>\n    </tr>\n    <tr>\n      <th>3</th>\n      <td>1</td>\n      <td>1</td>\n      <td>female</td>\n      <td>35.0</td>\n      <td>53.1000</td>\n      <td>S</td>\n      <td>(30,40]</td>\n    </tr>\n    <tr>\n      <th>4</th>\n      <td>0</td>\n      <td>3</td>\n      <td>male</td>\n      <td>35.0</td>\n      <td>8.0500</td>\n      <td>S</td>\n      <td>(30,40]</td>\n    </tr>\n  </tbody>\n</table>\n</div>"
     },
     "execution_count": 56,
     "metadata": {},
     "output_type": "execute_result"
    }
   ]
  },
  {
   "cell_type": "markdown",
   "source": [
    "* Q4. 성별(Sex) - male, female의 값을 m, f로 변경하시오."
   ],
   "metadata": {
    "id": "K_QRXr6T_05I"
   }
  },
  {
   "cell_type": "code",
   "metadata": {
    "id": "-8cvfv7ds5FK"
   },
   "source": [
    "titanic['Sex'] = titanic['Sex'].map({'male': 'm', 'female': 'f'})"
   ],
   "execution_count": 61,
   "outputs": []
  },
  {
   "cell_type": "code",
   "execution_count": 62,
   "outputs": [
    {
     "data": {
      "text/plain": "   Survived  Pclass Sex   Age     Fare Embarked Generation\n0         0       3   m  22.0   7.2500        S    (20,30]\n1         1       1   f  38.0  71.2833        C    (30,40]\n2         1       3   f  26.0   7.9250        S    (20,30]\n3         1       1   f  35.0  53.1000        S    (30,40]\n4         0       3   m  35.0   8.0500        S    (30,40]",
      "text/html": "<div>\n<style scoped>\n    .dataframe tbody tr th:only-of-type {\n        vertical-align: middle;\n    }\n\n    .dataframe tbody tr th {\n        vertical-align: top;\n    }\n\n    .dataframe thead th {\n        text-align: right;\n    }\n</style>\n<table border=\"1\" class=\"dataframe\">\n  <thead>\n    <tr style=\"text-align: right;\">\n      <th></th>\n      <th>Survived</th>\n      <th>Pclass</th>\n      <th>Sex</th>\n      <th>Age</th>\n      <th>Fare</th>\n      <th>Embarked</th>\n      <th>Generation</th>\n    </tr>\n  </thead>\n  <tbody>\n    <tr>\n      <th>0</th>\n      <td>0</td>\n      <td>3</td>\n      <td>m</td>\n      <td>22.0</td>\n      <td>7.2500</td>\n      <td>S</td>\n      <td>(20,30]</td>\n    </tr>\n    <tr>\n      <th>1</th>\n      <td>1</td>\n      <td>1</td>\n      <td>f</td>\n      <td>38.0</td>\n      <td>71.2833</td>\n      <td>C</td>\n      <td>(30,40]</td>\n    </tr>\n    <tr>\n      <th>2</th>\n      <td>1</td>\n      <td>3</td>\n      <td>f</td>\n      <td>26.0</td>\n      <td>7.9250</td>\n      <td>S</td>\n      <td>(20,30]</td>\n    </tr>\n    <tr>\n      <th>3</th>\n      <td>1</td>\n      <td>1</td>\n      <td>f</td>\n      <td>35.0</td>\n      <td>53.1000</td>\n      <td>S</td>\n      <td>(30,40]</td>\n    </tr>\n    <tr>\n      <th>4</th>\n      <td>0</td>\n      <td>3</td>\n      <td>m</td>\n      <td>35.0</td>\n      <td>8.0500</td>\n      <td>S</td>\n      <td>(30,40]</td>\n    </tr>\n  </tbody>\n</table>\n</div>"
     },
     "execution_count": 62,
     "metadata": {},
     "output_type": "execute_result"
    }
   ],
   "source": [
    "titanic.head()"
   ],
   "metadata": {
    "collapsed": false,
    "pycharm": {
     "name": "#%%\n"
    }
   }
  },
  {
   "cell_type": "markdown",
   "metadata": {
    "id": "66oW1jgUMp_O"
   },
   "source": [
    "### 실습 5 : Group by\n",
    "\n",
    "* 타이타닉 데이터를 이용하시오"
   ]
  },
  {
   "cell_type": "markdown",
   "metadata": {
    "id": "NaC3xmHy06uI"
   },
   "source": [
    "* Q1. 객실 등급별 평균 나이"
   ]
  },
  {
   "cell_type": "code",
   "metadata": {
    "id": "yUXi_61ozR7Q"
   },
   "source": [
    "titanic.groupby(by=['Pclass'], as_index=False)['Age'].mean()"
   ],
   "execution_count": 71,
   "outputs": [
    {
     "data": {
      "text/plain": "   Pclass        Age\n0       1  38.233441\n1       2  29.877630\n2       3  25.140620",
      "text/html": "<div>\n<style scoped>\n    .dataframe tbody tr th:only-of-type {\n        vertical-align: middle;\n    }\n\n    .dataframe tbody tr th {\n        vertical-align: top;\n    }\n\n    .dataframe thead th {\n        text-align: right;\n    }\n</style>\n<table border=\"1\" class=\"dataframe\">\n  <thead>\n    <tr style=\"text-align: right;\">\n      <th></th>\n      <th>Pclass</th>\n      <th>Age</th>\n    </tr>\n  </thead>\n  <tbody>\n    <tr>\n      <th>0</th>\n      <td>1</td>\n      <td>38.233441</td>\n    </tr>\n    <tr>\n      <th>1</th>\n      <td>2</td>\n      <td>29.877630</td>\n    </tr>\n    <tr>\n      <th>2</th>\n      <td>3</td>\n      <td>25.140620</td>\n    </tr>\n  </tbody>\n</table>\n</div>"
     },
     "execution_count": 71,
     "metadata": {},
     "output_type": "execute_result"
    }
   ]
  },
  {
   "cell_type": "markdown",
   "source": [
    "* Q2. 승선 지역별 평균 운임"
   ],
   "metadata": {
    "id": "zu4JjIfHmBJC"
   }
  },
  {
   "cell_type": "code",
   "metadata": {
    "id": "6sgndXiPzY9d"
   },
   "source": [
    "titanic.groupby(by=['Embarked'], as_index=False)['Fare'].mean()"
   ],
   "execution_count": 72,
   "outputs": [
    {
     "data": {
      "text/plain": "  Embarked       Fare\n0        C  59.954144\n1        Q  13.276030\n2        S  27.079812",
      "text/html": "<div>\n<style scoped>\n    .dataframe tbody tr th:only-of-type {\n        vertical-align: middle;\n    }\n\n    .dataframe tbody tr th {\n        vertical-align: top;\n    }\n\n    .dataframe thead th {\n        text-align: right;\n    }\n</style>\n<table border=\"1\" class=\"dataframe\">\n  <thead>\n    <tr style=\"text-align: right;\">\n      <th></th>\n      <th>Embarked</th>\n      <th>Fare</th>\n    </tr>\n  </thead>\n  <tbody>\n    <tr>\n      <th>0</th>\n      <td>C</td>\n      <td>59.954144</td>\n    </tr>\n    <tr>\n      <th>1</th>\n      <td>Q</td>\n      <td>13.276030</td>\n    </tr>\n    <tr>\n      <th>2</th>\n      <td>S</td>\n      <td>27.079812</td>\n    </tr>\n  </tbody>\n</table>\n</div>"
     },
     "execution_count": 72,
     "metadata": {},
     "output_type": "execute_result"
    }
   ]
  },
  {
   "cell_type": "markdown",
   "source": [
    "* Q3. 승선 지역별 생존 여부별 탑승객 수"
   ],
   "metadata": {
    "id": "eDLqwifNmJoS"
   }
  },
  {
   "cell_type": "code",
   "metadata": {
    "id": "nU_BGmzszcTl"
   },
   "source": [
    "titanic.groupby(by='Embarked', as_index=False)['Survived'].sum()"
   ],
   "execution_count": 73,
   "outputs": [
    {
     "data": {
      "text/plain": "  Embarked  Survived\n0        C        93\n1        Q        30\n2        S       217",
      "text/html": "<div>\n<style scoped>\n    .dataframe tbody tr th:only-of-type {\n        vertical-align: middle;\n    }\n\n    .dataframe tbody tr th {\n        vertical-align: top;\n    }\n\n    .dataframe thead th {\n        text-align: right;\n    }\n</style>\n<table border=\"1\" class=\"dataframe\">\n  <thead>\n    <tr style=\"text-align: right;\">\n      <th></th>\n      <th>Embarked</th>\n      <th>Survived</th>\n    </tr>\n  </thead>\n  <tbody>\n    <tr>\n      <th>0</th>\n      <td>C</td>\n      <td>93</td>\n    </tr>\n    <tr>\n      <th>1</th>\n      <td>Q</td>\n      <td>30</td>\n    </tr>\n    <tr>\n      <th>2</th>\n      <td>S</td>\n      <td>217</td>\n    </tr>\n  </tbody>\n</table>\n</div>"
     },
     "execution_count": 73,
     "metadata": {},
     "output_type": "execute_result"
    }
   ]
  },
  {
   "cell_type": "markdown",
   "source": [
    "* Q4. 객실 등급별, 생존 여부별, 평균 운임, 최대 운임, 최소 운임"
   ],
   "metadata": {
    "id": "D0l1biSNmJ94"
   }
  },
  {
   "cell_type": "code",
   "metadata": {
    "id": "_1K9sc9i09Fq"
   },
   "source": [
    "titanic.groupby(by=['Pclass', 'Survived'], as_index=False)[['Fare']].agg(['mean', 'max', 'min'])"
   ],
   "execution_count": 80,
   "outputs": [
    {
     "data": {
      "text/plain": "                      Fare                   \n                      mean       max      min\nPclass Survived                              \n1      0         64.684007  263.0000   0.0000\n       1         95.608029  512.3292  25.9292\n2      0         19.412328   73.5000   0.0000\n       1         22.055700   65.0000  10.5000\n3      0         13.669364   69.5500   0.0000\n       1         13.694887   56.4958   0.0000",
      "text/html": "<div>\n<style scoped>\n    .dataframe tbody tr th:only-of-type {\n        vertical-align: middle;\n    }\n\n    .dataframe tbody tr th {\n        vertical-align: top;\n    }\n\n    .dataframe thead tr th {\n        text-align: left;\n    }\n\n    .dataframe thead tr:last-of-type th {\n        text-align: right;\n    }\n</style>\n<table border=\"1\" class=\"dataframe\">\n  <thead>\n    <tr>\n      <th></th>\n      <th></th>\n      <th colspan=\"3\" halign=\"left\">Fare</th>\n    </tr>\n    <tr>\n      <th></th>\n      <th></th>\n      <th>mean</th>\n      <th>max</th>\n      <th>min</th>\n    </tr>\n    <tr>\n      <th>Pclass</th>\n      <th>Survived</th>\n      <th></th>\n      <th></th>\n      <th></th>\n    </tr>\n  </thead>\n  <tbody>\n    <tr>\n      <th rowspan=\"2\" valign=\"top\">1</th>\n      <th>0</th>\n      <td>64.684007</td>\n      <td>263.0000</td>\n      <td>0.0000</td>\n    </tr>\n    <tr>\n      <th>1</th>\n      <td>95.608029</td>\n      <td>512.3292</td>\n      <td>25.9292</td>\n    </tr>\n    <tr>\n      <th rowspan=\"2\" valign=\"top\">2</th>\n      <th>0</th>\n      <td>19.412328</td>\n      <td>73.5000</td>\n      <td>0.0000</td>\n    </tr>\n    <tr>\n      <th>1</th>\n      <td>22.055700</td>\n      <td>65.0000</td>\n      <td>10.5000</td>\n    </tr>\n    <tr>\n      <th rowspan=\"2\" valign=\"top\">3</th>\n      <th>0</th>\n      <td>13.669364</td>\n      <td>69.5500</td>\n      <td>0.0000</td>\n    </tr>\n    <tr>\n      <th>1</th>\n      <td>13.694887</td>\n      <td>56.4958</td>\n      <td>0.0000</td>\n    </tr>\n  </tbody>\n</table>\n</div>"
     },
     "execution_count": 80,
     "metadata": {},
     "output_type": "execute_result"
    }
   ]
  },
  {
   "cell_type": "code",
   "execution_count": 81,
   "outputs": [
    {
     "data": {
      "text/plain": "     Survived  Pclass Sex   Age     Fare Embarked Generation\n0           0       3   m  22.0   7.2500        S    (20,30]\n1           1       1   f  38.0  71.2833        C    (30,40]\n2           1       3   f  26.0   7.9250        S    (20,30]\n3           1       1   f  35.0  53.1000        S    (30,40]\n4           0       3   m  35.0   8.0500        S    (30,40]\n..        ...     ...  ..   ...      ...      ...        ...\n886         0       2   m  27.0  13.0000        S    (20,30]\n887         1       1   f  19.0  30.0000        S    (10,20]\n888         0       3   f   NaN  23.4500        S        NaN\n889         1       1   m  26.0  30.0000        C    (20,30]\n890         0       3   m  32.0   7.7500        Q    (30,40]\n\n[891 rows x 7 columns]",
      "text/html": "<div>\n<style scoped>\n    .dataframe tbody tr th:only-of-type {\n        vertical-align: middle;\n    }\n\n    .dataframe tbody tr th {\n        vertical-align: top;\n    }\n\n    .dataframe thead th {\n        text-align: right;\n    }\n</style>\n<table border=\"1\" class=\"dataframe\">\n  <thead>\n    <tr style=\"text-align: right;\">\n      <th></th>\n      <th>Survived</th>\n      <th>Pclass</th>\n      <th>Sex</th>\n      <th>Age</th>\n      <th>Fare</th>\n      <th>Embarked</th>\n      <th>Generation</th>\n    </tr>\n  </thead>\n  <tbody>\n    <tr>\n      <th>0</th>\n      <td>0</td>\n      <td>3</td>\n      <td>m</td>\n      <td>22.0</td>\n      <td>7.2500</td>\n      <td>S</td>\n      <td>(20,30]</td>\n    </tr>\n    <tr>\n      <th>1</th>\n      <td>1</td>\n      <td>1</td>\n      <td>f</td>\n      <td>38.0</td>\n      <td>71.2833</td>\n      <td>C</td>\n      <td>(30,40]</td>\n    </tr>\n    <tr>\n      <th>2</th>\n      <td>1</td>\n      <td>3</td>\n      <td>f</td>\n      <td>26.0</td>\n      <td>7.9250</td>\n      <td>S</td>\n      <td>(20,30]</td>\n    </tr>\n    <tr>\n      <th>3</th>\n      <td>1</td>\n      <td>1</td>\n      <td>f</td>\n      <td>35.0</td>\n      <td>53.1000</td>\n      <td>S</td>\n      <td>(30,40]</td>\n    </tr>\n    <tr>\n      <th>4</th>\n      <td>0</td>\n      <td>3</td>\n      <td>m</td>\n      <td>35.0</td>\n      <td>8.0500</td>\n      <td>S</td>\n      <td>(30,40]</td>\n    </tr>\n    <tr>\n      <th>...</th>\n      <td>...</td>\n      <td>...</td>\n      <td>...</td>\n      <td>...</td>\n      <td>...</td>\n      <td>...</td>\n      <td>...</td>\n    </tr>\n    <tr>\n      <th>886</th>\n      <td>0</td>\n      <td>2</td>\n      <td>m</td>\n      <td>27.0</td>\n      <td>13.0000</td>\n      <td>S</td>\n      <td>(20,30]</td>\n    </tr>\n    <tr>\n      <th>887</th>\n      <td>1</td>\n      <td>1</td>\n      <td>f</td>\n      <td>19.0</td>\n      <td>30.0000</td>\n      <td>S</td>\n      <td>(10,20]</td>\n    </tr>\n    <tr>\n      <th>888</th>\n      <td>0</td>\n      <td>3</td>\n      <td>f</td>\n      <td>NaN</td>\n      <td>23.4500</td>\n      <td>S</td>\n      <td>NaN</td>\n    </tr>\n    <tr>\n      <th>889</th>\n      <td>1</td>\n      <td>1</td>\n      <td>m</td>\n      <td>26.0</td>\n      <td>30.0000</td>\n      <td>C</td>\n      <td>(20,30]</td>\n    </tr>\n    <tr>\n      <th>890</th>\n      <td>0</td>\n      <td>3</td>\n      <td>m</td>\n      <td>32.0</td>\n      <td>7.7500</td>\n      <td>Q</td>\n      <td>(30,40]</td>\n    </tr>\n  </tbody>\n</table>\n<p>891 rows × 7 columns</p>\n</div>"
     },
     "execution_count": 81,
     "metadata": {},
     "output_type": "execute_result"
    }
   ],
   "source": [
    "titanic"
   ],
   "metadata": {
    "collapsed": false,
    "pycharm": {
     "name": "#%%\n"
    }
   }
  },
  {
   "cell_type": "code",
   "execution_count": 83,
   "outputs": [
    {
     "ename": "TypeError",
     "evalue": "'<' not supported between instances of 'str' and 'int'",
     "output_type": "error",
     "traceback": [
      "\u001B[0;31m---------------------------------------------------------------------------\u001B[0m",
      "\u001B[0;31mTypeError\u001B[0m                                 Traceback (most recent call last)",
      "Input \u001B[0;32mIn [83]\u001B[0m, in \u001B[0;36m<cell line: 1>\u001B[0;34m()\u001B[0m\n\u001B[0;32m----> 1\u001B[0m titanic\u001B[38;5;241m.\u001B[39mloc[\u001B[43mtitanic\u001B[49m\u001B[43m[\u001B[49m\u001B[38;5;124;43m'\u001B[39;49m\u001B[38;5;124;43mAge\u001B[39;49m\u001B[38;5;124;43m'\u001B[39;49m\u001B[43m]\u001B[49m\u001B[43m \u001B[49m\u001B[38;5;241;43m<\u001B[39;49m\u001B[43m \u001B[49m\u001B[38;5;241;43m20\u001B[39;49m, \u001B[38;5;124m'\u001B[39m\u001B[38;5;124mAge\u001B[39m\u001B[38;5;124m'\u001B[39m] \u001B[38;5;241m=\u001B[39m \u001B[38;5;124m'\u001B[39m\u001B[38;5;124misBaby\u001B[39m\u001B[38;5;124m'\u001B[39m\n",
      "File \u001B[0;32m~/opt/anaconda3/envs/kt-aivle/lib/python3.8/site-packages/pandas/core/ops/common.py:70\u001B[0m, in \u001B[0;36m_unpack_zerodim_and_defer.<locals>.new_method\u001B[0;34m(self, other)\u001B[0m\n\u001B[1;32m     66\u001B[0m             \u001B[38;5;28;01mreturn\u001B[39;00m \u001B[38;5;28mNotImplemented\u001B[39m\n\u001B[1;32m     68\u001B[0m other \u001B[38;5;241m=\u001B[39m item_from_zerodim(other)\n\u001B[0;32m---> 70\u001B[0m \u001B[38;5;28;01mreturn\u001B[39;00m \u001B[43mmethod\u001B[49m\u001B[43m(\u001B[49m\u001B[38;5;28;43mself\u001B[39;49m\u001B[43m,\u001B[49m\u001B[43m \u001B[49m\u001B[43mother\u001B[49m\u001B[43m)\u001B[49m\n",
      "File \u001B[0;32m~/opt/anaconda3/envs/kt-aivle/lib/python3.8/site-packages/pandas/core/arraylike.py:48\u001B[0m, in \u001B[0;36mOpsMixin.__lt__\u001B[0;34m(self, other)\u001B[0m\n\u001B[1;32m     46\u001B[0m \u001B[38;5;129m@unpack_zerodim_and_defer\u001B[39m(\u001B[38;5;124m\"\u001B[39m\u001B[38;5;124m__lt__\u001B[39m\u001B[38;5;124m\"\u001B[39m)\n\u001B[1;32m     47\u001B[0m \u001B[38;5;28;01mdef\u001B[39;00m \u001B[38;5;21m__lt__\u001B[39m(\u001B[38;5;28mself\u001B[39m, other):\n\u001B[0;32m---> 48\u001B[0m     \u001B[38;5;28;01mreturn\u001B[39;00m \u001B[38;5;28;43mself\u001B[39;49m\u001B[38;5;241;43m.\u001B[39;49m\u001B[43m_cmp_method\u001B[49m\u001B[43m(\u001B[49m\u001B[43mother\u001B[49m\u001B[43m,\u001B[49m\u001B[43m \u001B[49m\u001B[43moperator\u001B[49m\u001B[38;5;241;43m.\u001B[39;49m\u001B[43mlt\u001B[49m\u001B[43m)\u001B[49m\n",
      "File \u001B[0;32m~/opt/anaconda3/envs/kt-aivle/lib/python3.8/site-packages/pandas/core/series.py:5623\u001B[0m, in \u001B[0;36mSeries._cmp_method\u001B[0;34m(self, other, op)\u001B[0m\n\u001B[1;32m   5620\u001B[0m rvalues \u001B[38;5;241m=\u001B[39m extract_array(other, extract_numpy\u001B[38;5;241m=\u001B[39m\u001B[38;5;28;01mTrue\u001B[39;00m, extract_range\u001B[38;5;241m=\u001B[39m\u001B[38;5;28;01mTrue\u001B[39;00m)\n\u001B[1;32m   5622\u001B[0m \u001B[38;5;28;01mwith\u001B[39;00m np\u001B[38;5;241m.\u001B[39merrstate(\u001B[38;5;28mall\u001B[39m\u001B[38;5;241m=\u001B[39m\u001B[38;5;124m\"\u001B[39m\u001B[38;5;124mignore\u001B[39m\u001B[38;5;124m\"\u001B[39m):\n\u001B[0;32m-> 5623\u001B[0m     res_values \u001B[38;5;241m=\u001B[39m \u001B[43mops\u001B[49m\u001B[38;5;241;43m.\u001B[39;49m\u001B[43mcomparison_op\u001B[49m\u001B[43m(\u001B[49m\u001B[43mlvalues\u001B[49m\u001B[43m,\u001B[49m\u001B[43m \u001B[49m\u001B[43mrvalues\u001B[49m\u001B[43m,\u001B[49m\u001B[43m \u001B[49m\u001B[43mop\u001B[49m\u001B[43m)\u001B[49m\n\u001B[1;32m   5625\u001B[0m \u001B[38;5;28;01mreturn\u001B[39;00m \u001B[38;5;28mself\u001B[39m\u001B[38;5;241m.\u001B[39m_construct_result(res_values, name\u001B[38;5;241m=\u001B[39mres_name)\n",
      "File \u001B[0;32m~/opt/anaconda3/envs/kt-aivle/lib/python3.8/site-packages/pandas/core/ops/array_ops.py:283\u001B[0m, in \u001B[0;36mcomparison_op\u001B[0;34m(left, right, op)\u001B[0m\n\u001B[1;32m    280\u001B[0m     \u001B[38;5;28;01mreturn\u001B[39;00m invalid_comparison(lvalues, rvalues, op)\n\u001B[1;32m    282\u001B[0m \u001B[38;5;28;01melif\u001B[39;00m is_object_dtype(lvalues\u001B[38;5;241m.\u001B[39mdtype) \u001B[38;5;129;01mor\u001B[39;00m \u001B[38;5;28misinstance\u001B[39m(rvalues, \u001B[38;5;28mstr\u001B[39m):\n\u001B[0;32m--> 283\u001B[0m     res_values \u001B[38;5;241m=\u001B[39m \u001B[43mcomp_method_OBJECT_ARRAY\u001B[49m\u001B[43m(\u001B[49m\u001B[43mop\u001B[49m\u001B[43m,\u001B[49m\u001B[43m \u001B[49m\u001B[43mlvalues\u001B[49m\u001B[43m,\u001B[49m\u001B[43m \u001B[49m\u001B[43mrvalues\u001B[49m\u001B[43m)\u001B[49m\n\u001B[1;32m    285\u001B[0m \u001B[38;5;28;01melse\u001B[39;00m:\n\u001B[1;32m    286\u001B[0m     res_values \u001B[38;5;241m=\u001B[39m _na_arithmetic_op(lvalues, rvalues, op, is_cmp\u001B[38;5;241m=\u001B[39m\u001B[38;5;28;01mTrue\u001B[39;00m)\n",
      "File \u001B[0;32m~/opt/anaconda3/envs/kt-aivle/lib/python3.8/site-packages/pandas/core/ops/array_ops.py:73\u001B[0m, in \u001B[0;36mcomp_method_OBJECT_ARRAY\u001B[0;34m(op, x, y)\u001B[0m\n\u001B[1;32m     71\u001B[0m     result \u001B[38;5;241m=\u001B[39m libops\u001B[38;5;241m.\u001B[39mvec_compare(x\u001B[38;5;241m.\u001B[39mravel(), y\u001B[38;5;241m.\u001B[39mravel(), op)\n\u001B[1;32m     72\u001B[0m \u001B[38;5;28;01melse\u001B[39;00m:\n\u001B[0;32m---> 73\u001B[0m     result \u001B[38;5;241m=\u001B[39m \u001B[43mlibops\u001B[49m\u001B[38;5;241;43m.\u001B[39;49m\u001B[43mscalar_compare\u001B[49m\u001B[43m(\u001B[49m\u001B[43mx\u001B[49m\u001B[38;5;241;43m.\u001B[39;49m\u001B[43mravel\u001B[49m\u001B[43m(\u001B[49m\u001B[43m)\u001B[49m\u001B[43m,\u001B[49m\u001B[43m \u001B[49m\u001B[43my\u001B[49m\u001B[43m,\u001B[49m\u001B[43m \u001B[49m\u001B[43mop\u001B[49m\u001B[43m)\u001B[49m\n\u001B[1;32m     74\u001B[0m \u001B[38;5;28;01mreturn\u001B[39;00m result\u001B[38;5;241m.\u001B[39mreshape(x\u001B[38;5;241m.\u001B[39mshape)\n",
      "File \u001B[0;32m~/opt/anaconda3/envs/kt-aivle/lib/python3.8/site-packages/pandas/_libs/ops.pyx:107\u001B[0m, in \u001B[0;36mpandas._libs.ops.scalar_compare\u001B[0;34m()\u001B[0m\n",
      "\u001B[0;31mTypeError\u001B[0m: '<' not supported between instances of 'str' and 'int'"
     ]
    }
   ],
   "source": [
    "titanic.loc[titanic['Age'] < 20, 'Age'] = ' isBaby'"
   ],
   "metadata": {
    "collapsed": false,
    "pycharm": {
     "name": "#%%\n"
    }
   }
  },
  {
   "cell_type": "code",
   "execution_count": null,
   "outputs": [],
   "source": [
    "ti"
   ],
   "metadata": {
    "collapsed": false,
    "pycharm": {
     "name": "#%%\n"
    }
   }
  }
 ]
}