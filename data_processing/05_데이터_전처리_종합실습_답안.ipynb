{
 "nbformat": 4,
 "nbformat_minor": 0,
 "metadata": {
  "colab": {
   "name": "05_데이터_전처리_종합실습_답안.ipynb",
   "provenance": [],
   "collapsed_sections": []
  },
  "kernelspec": {
   "name": "python3",
   "display_name": "Python 3"
  },
  "language_info": {
   "name": "python"
  }
 },
 "cells": [
  {
   "cell_type": "markdown",
   "metadata": {
    "id": "mTt7qGUTCcFs"
   },
   "source": [
    "# 데이터 전처리"
   ]
  },
  {
   "cell_type": "markdown",
   "metadata": {
    "id": "SvYHGMwKUGWA"
   },
   "source": [
    "## 0.환경준비"
   ]
  },
  {
   "cell_type": "markdown",
   "metadata": {
    "id": "BHx_ZdUyUGWA"
   },
   "source": [
    "### 0.1 Import"
   ]
  },
  {
   "cell_type": "code",
   "metadata": {
    "id": "0CKXfg8cUGWB"
   },
   "source": [
    "# 기본 라이브러리 가져오기\n",
    "import pandas as pd\n",
    "import numpy as np\n",
    "\n",
    "import matplotlib.pyplot as plt\n",
    "import seaborn as sns"
   ],
   "execution_count": 1,
   "outputs": [
    {
     "name": "stderr",
     "output_type": "stream",
     "text": [
      "/Users/cyeongy/opt/anaconda3/envs/kt-aivle/lib/python3.8/site-packages/scipy/__init__.py:146: UserWarning: A NumPy version >=1.16.5 and <1.23.0 is required for this version of SciPy (detected version 1.23.1\n",
      "  warnings.warn(f\"A NumPy version >={np_minversion} and <{np_maxversion}\"\n"
     ]
    }
   ]
  },
  {
   "cell_type": "markdown",
   "metadata": {
    "id": "Z7bR5d9HUGWB"
   },
   "source": [
    "### 0.2 Data Loading"
   ]
  },
  {
   "cell_type": "code",
   "source": [
    "# titanic\n",
    "path = 'https://raw.githubusercontent.com/DA4BAM/dataset/master/titanic.0.csv'\n",
    "titanic = pd.read_csv(path, usecols = ['Survived','Pclass','Sex','Age','SibSp','Parch','Fare','Cabin','Embarked'])\n",
    "titanic.head()"
   ],
   "metadata": {
    "id": "rCzJVmxuUGWC"
   },
   "execution_count": 2,
   "outputs": [
    {
     "data": {
      "text/plain": "   Survived  Pclass     Sex   Age  SibSp  Parch     Fare Cabin Embarked\n0         0       3    male  22.0      1      0   7.2500   NaN        S\n1         1       1  female  38.0      1      0  71.2833   C85        C\n2         1       3  female  26.0      0      0   7.9250   NaN        S\n3         1       1  female  35.0      1      0  53.1000  C123        S\n4         0       3    male  35.0      0      0   8.0500   NaN        S",
      "text/html": "<div>\n<style scoped>\n    .dataframe tbody tr th:only-of-type {\n        vertical-align: middle;\n    }\n\n    .dataframe tbody tr th {\n        vertical-align: top;\n    }\n\n    .dataframe thead th {\n        text-align: right;\n    }\n</style>\n<table border=\"1\" class=\"dataframe\">\n  <thead>\n    <tr style=\"text-align: right;\">\n      <th></th>\n      <th>Survived</th>\n      <th>Pclass</th>\n      <th>Sex</th>\n      <th>Age</th>\n      <th>SibSp</th>\n      <th>Parch</th>\n      <th>Fare</th>\n      <th>Cabin</th>\n      <th>Embarked</th>\n    </tr>\n  </thead>\n  <tbody>\n    <tr>\n      <th>0</th>\n      <td>0</td>\n      <td>3</td>\n      <td>male</td>\n      <td>22.0</td>\n      <td>1</td>\n      <td>0</td>\n      <td>7.2500</td>\n      <td>NaN</td>\n      <td>S</td>\n    </tr>\n    <tr>\n      <th>1</th>\n      <td>1</td>\n      <td>1</td>\n      <td>female</td>\n      <td>38.0</td>\n      <td>1</td>\n      <td>0</td>\n      <td>71.2833</td>\n      <td>C85</td>\n      <td>C</td>\n    </tr>\n    <tr>\n      <th>2</th>\n      <td>1</td>\n      <td>3</td>\n      <td>female</td>\n      <td>26.0</td>\n      <td>0</td>\n      <td>0</td>\n      <td>7.9250</td>\n      <td>NaN</td>\n      <td>S</td>\n    </tr>\n    <tr>\n      <th>3</th>\n      <td>1</td>\n      <td>1</td>\n      <td>female</td>\n      <td>35.0</td>\n      <td>1</td>\n      <td>0</td>\n      <td>53.1000</td>\n      <td>C123</td>\n      <td>S</td>\n    </tr>\n    <tr>\n      <th>4</th>\n      <td>0</td>\n      <td>3</td>\n      <td>male</td>\n      <td>35.0</td>\n      <td>0</td>\n      <td>0</td>\n      <td>8.0500</td>\n      <td>NaN</td>\n      <td>S</td>\n    </tr>\n  </tbody>\n</table>\n</div>"
     },
     "execution_count": 2,
     "metadata": {},
     "output_type": "execute_result"
    }
   ]
  },
  {
   "cell_type": "code",
   "source": [
    "# airquality\n",
    "path = 'https://raw.githubusercontent.com/DA4BAM/dataset/master/air2.csv'\n",
    "air = pd.read_csv(path)\n",
    "air.head()"
   ],
   "metadata": {
    "id": "YCjsqENyfwtp"
   },
   "execution_count": 3,
   "outputs": [
    {
     "data": {
      "text/plain": "   Ozone  Solar.R  Wind  Temp        Date\n0     41    190.0   7.4    67  1973-05-01\n1     36    118.0   8.0    72  1973-05-02\n2     12    149.0  12.6    74  1973-05-03\n3     18    313.0  11.5    62  1973-05-04\n4     19      NaN  14.3    56  1973-05-05",
      "text/html": "<div>\n<style scoped>\n    .dataframe tbody tr th:only-of-type {\n        vertical-align: middle;\n    }\n\n    .dataframe tbody tr th {\n        vertical-align: top;\n    }\n\n    .dataframe thead th {\n        text-align: right;\n    }\n</style>\n<table border=\"1\" class=\"dataframe\">\n  <thead>\n    <tr style=\"text-align: right;\">\n      <th></th>\n      <th>Ozone</th>\n      <th>Solar.R</th>\n      <th>Wind</th>\n      <th>Temp</th>\n      <th>Date</th>\n    </tr>\n  </thead>\n  <tbody>\n    <tr>\n      <th>0</th>\n      <td>41</td>\n      <td>190.0</td>\n      <td>7.4</td>\n      <td>67</td>\n      <td>1973-05-01</td>\n    </tr>\n    <tr>\n      <th>1</th>\n      <td>36</td>\n      <td>118.0</td>\n      <td>8.0</td>\n      <td>72</td>\n      <td>1973-05-02</td>\n    </tr>\n    <tr>\n      <th>2</th>\n      <td>12</td>\n      <td>149.0</td>\n      <td>12.6</td>\n      <td>74</td>\n      <td>1973-05-03</td>\n    </tr>\n    <tr>\n      <th>3</th>\n      <td>18</td>\n      <td>313.0</td>\n      <td>11.5</td>\n      <td>62</td>\n      <td>1973-05-04</td>\n    </tr>\n    <tr>\n      <th>4</th>\n      <td>19</td>\n      <td>NaN</td>\n      <td>14.3</td>\n      <td>56</td>\n      <td>1973-05-05</td>\n    </tr>\n  </tbody>\n</table>\n</div>"
     },
     "execution_count": 3,
     "metadata": {},
     "output_type": "execute_result"
    }
   ]
  },
  {
   "cell_type": "markdown",
   "source": [
    "## 1.전처리"
   ],
   "metadata": {
    "id": "YIRiMPMmXI4R"
   }
  },
  {
   "cell_type": "markdown",
   "source": [
    "### 1) 데이터 분할\n",
    "\n",
    "* x, y 분할하기"
   ],
   "metadata": {
    "id": "Xwsf4-xVgCam"
   }
  },
  {
   "cell_type": "code",
   "source": [
    "target = 'Survived'\n",
    "x = titanic.drop(target, axis = 1)\n",
    "y = titanic.loc[:, target]"
   ],
   "metadata": {
    "id": "IsRwV82-UPhx"
   },
   "execution_count": 4,
   "outputs": []
  },
  {
   "cell_type": "markdown",
   "source": [
    "* train, validation, test 분할은 머신러닝 과정에서 다룹니다."
   ],
   "metadata": {
    "id": "XEa4uvZphL_y"
   }
  },
  {
   "cell_type": "markdown",
   "source": [
    "### 2) NaN 조치"
   ],
   "metadata": {
    "id": "P9KfDgtzhR-E"
   }
  },
  {
   "cell_type": "markdown",
   "source": [
    "#### ① 결측치 확인"
   ],
   "metadata": {
    "id": "WNlXZdOHhmFP"
   }
  },
  {
   "cell_type": "code",
   "source": [
    "x.isna().sum()"
   ],
   "metadata": {
    "id": "SzaaYjgEhRvZ"
   },
   "execution_count": 5,
   "outputs": [
    {
     "data": {
      "text/plain": "Pclass        0\nSex           0\nAge         177\nSibSp         0\nParch         0\nFare          0\nCabin       687\nEmbarked      2\ndtype: int64"
     },
     "execution_count": 5,
     "metadata": {},
     "output_type": "execute_result"
    }
   ]
  },
  {
   "cell_type": "code",
   "source": [
    "plt.figure(figsize = (12,6))\n",
    "sns.heatmap(x.isna())\n",
    "plt.show()"
   ],
   "metadata": {
    "id": "DSMKHrCjhuX-"
   },
   "execution_count": 6,
   "outputs": [
    {
     "data": {
      "text/plain": "<Figure size 864x432 with 2 Axes>",
      "image/png": "[encoded data removed]"
     },
     "metadata": {
      "needs_background": "light"
     },
     "output_type": "display_data"
    }
   ]
  },
  {
   "cell_type": "markdown",
   "source": [
    "#### ② 결측치 제거"
   ],
   "metadata": {
    "id": "pyYZ_ZM9ioDq"
   }
  },
  {
   "cell_type": "code",
   "source": [
    "temp = x.copy()"
   ],
   "metadata": {
    "id": "JYmkou7mip0O"
   },
   "execution_count": null,
   "outputs": []
  },
  {
   "cell_type": "code",
   "source": [
    "temp.shape"
   ],
   "metadata": {
    "id": "uUGk4sbljFGr"
   },
   "execution_count": null,
   "outputs": []
  },
  {
   "cell_type": "markdown",
   "source": [
    "* 행 제거"
   ],
   "metadata": {
    "id": "ChHaY-fAi7T7"
   }
  },
  {
   "cell_type": "code",
   "source": [
    "temp.dropna(axis = 0, inplace = True)\n",
    "temp.isna().sum()"
   ],
   "metadata": {
    "id": "uUyZqVT8iy3J"
   },
   "execution_count": null,
   "outputs": []
  },
  {
   "cell_type": "code",
   "source": [
    "temp.shape"
   ],
   "metadata": {
    "id": "YwiFKKzDiyzx"
   },
   "execution_count": null,
   "outputs": []
  },
  {
   "cell_type": "markdown",
   "source": [
    "* 열 제거"
   ],
   "metadata": {
    "id": "DFmBsX4QjMF3"
   }
  },
  {
   "cell_type": "code",
   "source": [
    "# x에서 Cabin 열을 삭제합시다.\n",
    "\n",
    "print(x.shape)\n",
    "x = x.drop(['Cabin'], axis=1)\n",
    "\n",
    "# 행,열의 수를 확인하시오.\n",
    "print(x.shape)"
   ],
   "metadata": {
    "id": "MVJJGVNuiywH"
   },
   "execution_count": null,
   "outputs": []
  },
  {
   "cell_type": "markdown",
   "source": [
    "#### ③ 결측치 채우기"
   ],
   "metadata": {
    "id": "aULru8J_jvOC"
   }
  },
  {
   "cell_type": "markdown",
   "source": [
    "* .fillna\n",
    "    * 단일값 : .fillna(0)\n",
    "    * 이전 값, 이후 값 : .fillna(method = 'ffill'),  method = 'bfill'"
   ],
   "metadata": {
    "id": "2zkTt54rkwAx"
   }
  },
  {
   "cell_type": "code",
   "source": [
    "air"
   ],
   "metadata": {
    "id": "D20KhfjhmA0a"
   },
   "execution_count": null,
   "outputs": []
  },
  {
   "cell_type": "code",
   "source": [
    "temp = air.copy()\n",
    "temp.head(7)"
   ],
   "metadata": {
    "id": "yaHiQ1OelO6R"
   },
   "execution_count": null,
   "outputs": []
  },
  {
   "cell_type": "markdown",
   "source": [
    "* 단일값으로 채우기"
   ],
   "metadata": {
    "id": "Q2rCN7HNlZp7"
   }
  },
  {
   "cell_type": "code",
   "source": [
    "# 단일값으로 채우는 것처럼 조회\n",
    "temp.fillna(0).head(7)"
   ],
   "metadata": {
    "id": "uzD9AXWrlZD-"
   },
   "execution_count": null,
   "outputs": []
  },
  {
   "cell_type": "code",
   "source": [
    "temp.head(7)"
   ],
   "metadata": {
    "id": "x_zSXWyTmMHI"
   },
   "execution_count": null,
   "outputs": []
  },
  {
   "cell_type": "code",
   "source": [
    "# 단일값으로 진짜 채우기\n",
    "temp.fillna(0, inplace = True)\n",
    "temp.head(7)"
   ],
   "metadata": {
    "id": "MGLyuiFjlkUO"
   },
   "execution_count": null,
   "outputs": []
  },
  {
   "cell_type": "markdown",
   "source": [
    "* 이전값, 이후값으로 채우기"
   ],
   "metadata": {
    "id": "oRE0HO9GluBd"
   }
  },
  {
   "cell_type": "code",
   "source": [
    "temp = air.copy()"
   ],
   "metadata": {
    "id": "vYVHp-YKl2pS"
   },
   "execution_count": null,
   "outputs": []
  },
  {
   "cell_type": "code",
   "source": [
    "# 이전 값으로 채우기\n",
    "temp.fillna(method = 'ffill').head(7)"
   ],
   "metadata": {
    "id": "y_SjByDClyHj"
   },
   "execution_count": null,
   "outputs": []
  },
  {
   "cell_type": "code",
   "source": [
    "# 이후 값으로 채우기\n",
    "\n",
    "temp.fillna(method='bfill').head(7)"
   ],
   "metadata": {
    "id": "OSnmfWOjmYLh"
   },
   "execution_count": null,
   "outputs": []
  },
  {
   "cell_type": "markdown",
   "source": [
    "* 전,후 사이값으로 채우기 \n",
    "    * .interpolate(method = 'linear')"
   ],
   "metadata": {
    "id": "7k6CHvulmd2W"
   }
  },
  {
   "cell_type": "code",
   "source": [
    "temp.interpolate(method='linear').head(7)"
   ],
   "metadata": {
    "id": "uxyqtBdDmmmD"
   },
   "execution_count": null,
   "outputs": []
  },
  {
   "cell_type": "markdown",
   "source": [
    "* x 에서 값 채우기\n",
    "    * Age에 대해 평균값으로, x['Age'].mean()\n",
    "    * Embarked에 대해 최빈값으로 채워 봅시다. x['Embarked'].mode()"
   ],
   "metadata": {
    "id": "JSgGKU3tskxp"
   }
  },
  {
   "cell_type": "code",
   "source": [
    "x.head()"
   ],
   "metadata": {
    "id": "Oc_weFdjtKo2"
   },
   "execution_count": null,
   "outputs": []
  },
  {
   "cell_type": "code",
   "source": [
    "x.isna().sum()"
   ],
   "metadata": {
    "id": "10TgUL2AtK8v"
   },
   "execution_count": null,
   "outputs": []
  },
  {
   "cell_type": "code",
   "source": [
    "mean_age = x['Age'].mean()\n",
    "mode_embarked = x['Embarked'].mode()"
   ],
   "metadata": {
    "id": "NnFu44qEj46y"
   },
   "execution_count": null,
   "outputs": []
  },
  {
   "cell_type": "code",
   "source": [
    "x['Age'].fillna(mean_age, inplace=True)\n",
    "x.isna().sum()"
   ],
   "metadata": {
    "id": "0Q3g0eqhtLBA"
   },
   "execution_count": null,
   "outputs": []
  },
  {
   "cell_type": "code",
   "source": [
    "x['Embarked'].fillna(mode_embarked[0], inplace=True)\n",
    "x.isna().sum()"
   ],
   "metadata": {
    "id": "C1VO9RQ_n6l0"
   },
   "execution_count": null,
   "outputs": []
  },
  {
   "cell_type": "markdown",
   "source": [
    "### 3) 가변수화"
   ],
   "metadata": {
    "id": "FNWJ2nffmsyv"
   }
  },
  {
   "cell_type": "markdown",
   "source": [
    "* 모델링을 위해서 모든 데이터 값은 숫자 여야 합니다.\n",
    "* 숫자 형식이 아니라 의미상 숫자\n",
    "    * 타이타닉 데이터의 pclass(객실등급)가 1,2,3 입니다. 이는 숫자 형식이지만 숫자의 의미는 아닙니다. (3등급 객실의 3이 1등급 객실의 1에 3배의 의미는 아니라는 말입니다.)\n",
    "* 그러므로 모든 범주형 변수는 모두 (이미 0,1로 되어 있는 변수를 빼고) 가변수화를 수행해야 합니다."
   ],
   "metadata": {
    "id": "MYUDcLmMpKjC"
   }
  },
  {
   "cell_type": "code",
   "source": [
    "x.head()"
   ],
   "metadata": {
    "id": "X19zdyZqp0Bd"
   },
   "execution_count": null,
   "outputs": []
  },
  {
   "cell_type": "code",
   "source": [
    "col_dumm = ['Pclass', 'Sex', 'Embarked']\n",
    "x = pd.get_dummies(x, columns = col_dumm, drop_first = True)\n",
    "x.head()"
   ],
   "metadata": {
    "id": "adCg5Of0mubD"
   },
   "execution_count": null,
   "outputs": []
  },
  {
   "cell_type": "markdown",
   "source": [
    "* drop_first = True : 가변수화 시, 첫번째 범주 열은 삭제. ==> 하나를 빼도 모든 범주 표현 가능."
   ],
   "metadata": {
    "id": "a0eLIQl4qgdo"
   }
  },
  {
   "cell_type": "markdown",
   "source": [
    "### 4) 스케일링"
   ],
   "metadata": {
    "id": "Rvc_oO8jqtwP"
   }
  },
  {
   "cell_type": "code",
   "source": [
    "from sklearn.preprocessing import MinMaxScaler, StandardScaler"
   ],
   "metadata": {
    "id": "0nXYyqWSqyBV"
   },
   "execution_count": null,
   "outputs": []
  },
  {
   "cell_type": "markdown",
   "source": [
    "* 정규화(Normalization, MinMax 방식)\n",
    "    * 모든 값을 0 ~ 1 로."
   ],
   "metadata": {
    "id": "Pi9qH_4Dr0OI"
   }
  },
  {
   "cell_type": "code",
   "source": [
    "# 선언하기\n",
    "scaler = MinMaxScaler()\n",
    "\n",
    "# 만들고 적용 .fit_transform()   : .fit() + .transform()\n",
    "x1 = scaler.fit_transform(x)\n",
    "# 적용하고 나면 넘파이 어레이가 된다.\n",
    "\n",
    "# 모델링할 때에는 넘파이 어레이여도 상관 없지만, 우리가 편하게 살펴보기 위해 데이터프레임으로 변환합니다.\n",
    "x1 = pd.DataFrame(x1, columns = list(x))\n",
    "x1.head()"
   ],
   "metadata": {
    "id": "u9XT2AsLq609"
   },
   "execution_count": null,
   "outputs": []
  },
  {
   "cell_type": "markdown",
   "source": [
    "* 표준화(Standardization)\n",
    "    * 평균은 0, 표준편차 1 로"
   ],
   "metadata": {
    "id": "W6Dx9cPwr4zF"
   }
  },
  {
   "cell_type": "code",
   "source": [
    "# 선언하기\n",
    "scaler = StandardScaler()\n",
    "\n",
    "# 만들고 적용 .fit_transform()   : .fit() + .transform()\n",
    "x2 = scaler.fit_transform(x)\n",
    "# 적용하고 나면 넘파이 어레이가 된다.\n",
    "\n",
    "# 모델링할 때에는 넘파이 어레이여도 상관 없지만, 우리가 편하게 살펴보기 위해 데이터프레임으로 변환합니다.\n",
    "x2 = pd.DataFrame(x2, columns = list(x))\n",
    "x2.head()"
   ],
   "metadata": {
    "id": "8-Rusuzkr4jJ"
   },
   "execution_count": null,
   "outputs": []
  },
  {
   "cell_type": "markdown",
   "source": [
    "* 값들을 살펴봅시다."
   ],
   "metadata": {
    "id": "2l3SraAUsML6"
   }
  },
  {
   "cell_type": "code",
   "source": [
    "x.describe()"
   ],
   "metadata": {
    "id": "a6iMvy_qsOgv"
   },
   "execution_count": null,
   "outputs": []
  },
  {
   "cell_type": "code",
   "source": [
    "x1.describe()"
   ],
   "metadata": {
    "id": "gkJiF7eosQSL"
   },
   "execution_count": null,
   "outputs": []
  },
  {
   "cell_type": "code",
   "source": [
    "x2.describe()"
   ],
   "metadata": {
    "id": "1wAx99scsRnw"
   },
   "execution_count": null,
   "outputs": []
  },
  {
   "cell_type": "markdown",
   "source": [
    "-----"
   ],
   "metadata": {
    "id": "xtQPrnohti_W"
   }
  },
  {
   "cell_type": "markdown",
   "metadata": {
    "id": "Lhhz2xOqUGVt"
   },
   "source": [
    "# 카시트 판매량 데이터"
   ]
  },
  {
   "cell_type": "markdown",
   "source": [
    "![](https://cdn.images.express.co.uk/img/dynamic/24/590x/child-car-seat-986556.jpg?r=1532946857754)"
   ],
   "metadata": {
    "id": "7usNzsAVsGbi"
   }
  },
  {
   "cell_type": "markdown",
   "source": [
    "* 비즈니스 상황\n",
    "    * 고객사는 국내(미국)와 국외에서 카시트를 판매하는 회사입니다.\n",
    "    * 최근 경쟁사의 공격적인 마케팅으로 매출이 감소하고 있습니다.\n",
    "    * 데이터 분석을 위한 전처리를 수행해 봅시다.\n",
    "\n"
   ],
   "metadata": {
    "id": "nKwWO4QmTzvp"
   }
  },
  {
   "cell_type": "markdown",
   "source": [
    "|\t변수명\t|\t설명\t|\t구분\t|\n",
    "|\t----\t|\t----\t|\t----\t|\n",
    "|\tSales \t|\t 각 지역 판매량(단위 : 1000개)\t|\tTarget\t|\n",
    "|\tCompPrice \t|\t지역별 경쟁사 판매가격(달러)\t|\tfeature\t|\n",
    "|\tAdvertising \t|\t 각 지역, 회사의 광고 예산(단위 : 1000달러)\t|\tfeature|\n",
    "|\tIncome \t|\t 지역 주민 평균소득(단위 : 1000달러)\t|\tfeature\t|\n",
    "|\tPopulation \t|\t 지역 인구수(단위 : 1000명)\t|\tfeature\t|\n",
    "|\tPrice \t|\t 자사 지역별 판매가격(달러)\t|\tfeature\t|\n",
    "|\tShelveLoc \t|\t 진열상태\t|\tfeature\t|\n",
    "|\tAge \t|\t 지역 인구의 평균 연령\t|\tfeature\t|\n",
    "|\tUS \t|\t 매장이 미국에 있는지 여부\t|\tfeature\t|\n",
    "|\tUrban \t|\t 매장이 도시에 있는지 여부\t|\tfeature\t|\n",
    "|\tEducation \t|\t 평균학력수준(범주 : 11~17)\t|\tfeature\t|\n"
   ],
   "metadata": {
    "id": "zYKHwYHatC4k"
   }
  },
  {
   "cell_type": "markdown",
   "metadata": {
    "id": "3cKmWSTZ8uwC"
   },
   "source": [
    "## 0.환경준비"
   ]
  },
  {
   "cell_type": "markdown",
   "metadata": {
    "id": "ryA0ffqNS44P"
   },
   "source": [
    "### 0.1 Import"
   ]
  },
  {
   "cell_type": "code",
   "metadata": {
    "id": "GVvCef6A8uv6"
   },
   "source": [
    "# 기본 라이브러리 가져오기\n",
    "import pandas as pd\n",
    "import numpy as np\n",
    "\n",
    "import matplotlib.pyplot as plt\n",
    "import seaborn as sns"
   ],
   "execution_count": null,
   "outputs": []
  },
  {
   "cell_type": "markdown",
   "metadata": {
    "id": "4uZziFNcsUmw"
   },
   "source": [
    "### 0.2 Data Loading"
   ]
  },
  {
   "cell_type": "code",
   "source": [
    "path = 'https://raw.githubusercontent.com/DA4BAM/dataset/master/Carseat_train.csv'\n",
    "data = pd.read_csv(path)\n",
    "data.head()"
   ],
   "metadata": {
    "id": "QG28HshT8SfH"
   },
   "execution_count": null,
   "outputs": []
  },
  {
   "cell_type": "markdown",
   "source": [
    "## 1.데이터 탐색"
   ],
   "metadata": {
    "id": "Ge5eTWab_921"
   }
  },
  {
   "cell_type": "markdown",
   "source": [
    "* 기초 통계량\n",
    "    * .describe()\n",
    "    * 시리즈 혹은 데이터프레임에 붙여서 사용하는 메서드.\n",
    "    * .T : transpose. 행/열 위치를 바꿈."
   ],
   "metadata": {
    "id": "jnkJjvBIYMI9"
   }
  },
  {
   "cell_type": "code",
   "source": [
    "data.describe().T"
   ],
   "metadata": {
    "id": "CuitDYU9YL2u"
   },
   "execution_count": null,
   "outputs": []
  },
  {
   "cell_type": "markdown",
   "source": [
    "* 진열상태 별 판매량 조회"
   ],
   "metadata": {
    "id": "V-8SbwAZY2r2"
   }
  },
  {
   "cell_type": "code",
   "source": [
    "data.groupby('ShelveLoc', as_index = False)['Sales'].mean()"
   ],
   "metadata": {
    "id": "Jdi88E2PYInU"
   },
   "execution_count": null,
   "outputs": []
  },
  {
   "cell_type": "markdown",
   "metadata": {
    "id": "PRXJWyibZTJN"
   },
   "source": [
    "## 2.데이터 전처리 "
   ]
  },
  {
   "cell_type": "code",
   "source": [
    "target = 'Sales'"
   ],
   "metadata": {
    "id": "vtn0hI98urCt"
   },
   "execution_count": null,
   "outputs": []
  },
  {
   "cell_type": "markdown",
   "metadata": {
    "id": "BHWYbtBdZTJN"
   },
   "source": [
    "### 2.1 데이터를 feature와 , target으로 분할"
   ]
  },
  {
   "cell_type": "code",
   "metadata": {
    "id": "WvyeHRNWEMBF"
   },
   "source": [
    "x = data.drop(target, axis = 1)\n",
    "y = data.loc[:, target]"
   ],
   "execution_count": null,
   "outputs": []
  },
  {
   "cell_type": "markdown",
   "metadata": {
    "id": "umpv1ug6ZTJO"
   },
   "source": [
    "### 2.2 NaN에 대한 조치"
   ]
  },
  {
   "cell_type": "code",
   "source": [
    "x.isna().sum()"
   ],
   "metadata": {
    "id": "8epD0jT6vL51"
   },
   "execution_count": null,
   "outputs": []
  },
  {
   "cell_type": "code",
   "source": [
    "from sklearn.impute import SimpleImputer"
   ],
   "metadata": {
    "id": "TqMJmnq2_aSO"
   },
   "execution_count": null,
   "outputs": []
  },
  {
   "cell_type": "code",
   "source": [
    "# 선언\n",
    "imputer = SimpleImputer(strategy='mean')\n",
    "\n",
    "# 대상 리스트\n",
    "impute_list = ['CompPrice', 'Income']\n",
    "\n",
    "# 피팅하고 적용하기\n",
    "x[impute_list] = imputer.fit_transform(x[impute_list])\n",
    "x.isna().sum()"
   ],
   "metadata": {
    "id": "cc7rj6nn_iaL"
   },
   "execution_count": null,
   "outputs": []
  },
  {
   "cell_type": "markdown",
   "metadata": {
    "id": "zFJ23LikV8A_"
   },
   "source": [
    "### 2.3 가변수화\n",
    "* 범주형 데이터이면서 값이 0,1 로 되어 있는 것이 아니라면, 가변수화를 수행해야 합니다.\n",
    "* 대상이 되는 변수에 대해서 가변수화를 수행해주세요."
   ]
  },
  {
   "cell_type": "code",
   "metadata": {
    "id": "ETUeL5XmV8A_"
   },
   "source": [
    "dum_cols = ['ShelveLoc','US','Urban','Education']\n",
    "\n",
    "x = pd.get_dummies(x, columns = dum_cols ,drop_first = True)\n",
    "x.head()\n"
   ],
   "execution_count": null,
   "outputs": []
  },
  {
   "cell_type": "markdown",
   "metadata": {
    "id": "2Lwk03PSZTJP"
   },
   "source": [
    "### 2.4 스케일링 \n",
    "* 스케일링을 필요로 하는 알고리즘이 있습니다. \n",
    "* 필요하다고 판단될때 수행합니다."
   ]
  },
  {
   "cell_type": "markdown",
   "source": [
    "* MinMaxScaler"
   ],
   "metadata": {
    "id": "4nWho24-C_Te"
   }
  },
  {
   "cell_type": "code",
   "metadata": {
    "id": "oAVSU7XucCvn"
   },
   "source": [
    "from sklearn.preprocessing import MinMaxScaler\n",
    "col_x = list(x)\n",
    "scaler = MinMaxScaler()\n",
    "x_s = scaler.fit_transform(x)\n",
    "\n",
    "# 데이터프레임으로 다시 만듭시다.\n",
    "x_s = pd.DataFrame(x_s, columns=col_x)\n",
    "x_s.head()\n"
   ],
   "execution_count": null,
   "outputs": []
  },
  {
   "cell_type": "code",
   "source": [
    "x.describe()"
   ],
   "metadata": {
    "id": "Al9IYzKuAVrl"
   },
   "execution_count": null,
   "outputs": []
  },
  {
   "cell_type": "code",
   "source": [
    "x_s.describe()"
   ],
   "metadata": {
    "id": "IEMec6RTAXvX"
   },
   "execution_count": null,
   "outputs": []
  },
  {
   "cell_type": "markdown",
   "source": [
    "* StandardScaler"
   ],
   "metadata": {
    "id": "j6mLP1UXDDv-"
   }
  },
  {
   "cell_type": "code",
   "metadata": {
    "id": "IyEV3WqjDDv_"
   },
   "source": [
    "from sklearn.preprocessing import StandardScaler\n",
    "col_x = list(x)\n",
    "scaler = StandardScaler()\n",
    "x_s = scaler.fit_transform(x)\n",
    "\n",
    "# 데이터프레임으로 다시 만듭시다.\n",
    "x_s = pd.DataFrame(x_s, columns=col_x)\n",
    "x_s.head()\n"
   ],
   "execution_count": null,
   "outputs": []
  },
  {
   "cell_type": "code",
   "source": [
    "x.describe()"
   ],
   "metadata": {
    "id": "5t83_8wJDDv_"
   },
   "execution_count": null,
   "outputs": []
  },
  {
   "cell_type": "code",
   "source": [
    "x_s.describe()"
   ],
   "metadata": {
    "id": "7_SVqAcODDv_"
   },
   "execution_count": null,
   "outputs": []
  },
  {
   "cell_type": "markdown",
   "source": [
    "-----"
   ],
   "metadata": {
    "id": "3fnsCU3gtllp"
   }
  },
  {
   "cell_type": "markdown",
   "metadata": {
    "id": "id-Z14tADQ3Y"
   },
   "source": [
    "# 이동통신 고객 이탈 예측"
   ]
  },
  {
   "cell_type": "markdown",
   "metadata": {
    "id": "cdQaCT5I0IL_"
   },
   "source": [
    "* 여러분은 OO 통신회사 데이터분석가 입니다.\n",
    "* 회사는 약정기간이 끝난 고객이 번호이동(이탈)해 가는 문제를 해결하고자 합니다.\n",
    "* 어떤 고객이 번호이동(이탈)해 가는지 데이터분석을 의뢰하였습니다.\n",
    "* 분석을 위한 데이터 전처리를 수행해 봅시다."
   ]
  },
  {
   "cell_type": "markdown",
   "metadata": {
    "id": "ExPzmVxJGvxq"
   },
   "source": [
    "![](https://d18lkz4dllo6v2.cloudfront.net/cumulus_uploads/entry/23964/mobile%20phones.png)"
   ]
  },
  {
   "cell_type": "markdown",
   "metadata": {
    "id": "AHmt88Q5EVsj"
   },
   "source": [
    "## 0.환경설정"
   ]
  },
  {
   "cell_type": "markdown",
   "source": [
    "### 1) 라이브러리 로딩"
   ],
   "metadata": {
    "id": "KnzVh2LmkLDU"
   }
  },
  {
   "cell_type": "code",
   "execution_count": null,
   "metadata": {
    "id": "3tWsgb_wG3EU"
   },
   "outputs": [],
   "source": [
    "import pandas as pd\n",
    "import numpy as np\n",
    "import matplotlib.pyplot as plt\n",
    "import seaborn as sns"
   ]
  },
  {
   "cell_type": "markdown",
   "metadata": {
    "id": "kcMdP5WtG3EV"
   },
   "source": [
    "### 2) 데이터 로딩"
   ]
  },
  {
   "cell_type": "code",
   "execution_count": null,
   "metadata": {
    "id": "AC_65VsoG3EV"
   },
   "outputs": [],
   "source": [
    "# mobile data\n",
    "data_path = \"https://raw.githubusercontent.com/DA4BAM/dataset/master/mobile_NA2.csv\"\n",
    "data = pd.read_csv(data_path)\n",
    "data.head()"
   ]
  },
  {
   "cell_type": "markdown",
   "metadata": {
    "id": "2VGIfdrXAvw_"
   },
   "source": [
    "|변수 명|내용|구분|\n",
    "|\t----\t|\t----\t|\t----\t|\n",
    "|\tCOLLEGE\t|\t대학졸업 여부(1,0) - 범주\t|\t\t|\n",
    "|\tINCOME\t|\t연 수입액(달러)\t|\t\t|\n",
    "|\tOVERAGE\t|\t월 초과사용 시간(분)\t|\t\t|\n",
    "|\tLEFTOVER\t|\t월 사용 잔여시간비율(%)\t|\t\t|\n",
    "|\tHOUSE\t|\t집 가격(달러)\t|\t\t|\n",
    "|\tHANDSET_PRICE\t|\t핸드폰 가격(달러)\t|\t\t|\n",
    "|\tOVER_15MINS_CALLS_PER_MONTH\t|\t 평균 장기통화(15분 이상) 횟수\t|\t\t|\n",
    "|\tAVERAGE_CALL_DURATION\t|\t평균 통화시간(분)\t|\t\t|\n",
    "|\tREPORTED_SATISFACTION\t|\t만족도 설문('very_unsat', 'unsat', 'avg', 'sat', 'very_sat' ) - 범주\t|\t\t|\n",
    "|\tREPORTED_USAGE_LEVEL\t|\t사용 수준 설문('very_little', 'little', 'avg', 'high', 'very_high') - 범주\t|\t\t|\n",
    "|\tCONSIDERING_CHANGE_OF_PLAN\t|\t변경 계획 설문('never_thought', 'no', 'perhaps', 'considering',   'actively_looking_into_it') - 범주\t|\t\t|\n",
    "|\t**CHURN**\t|\t이탈여부(1 : 이탈, 0 : 잔류)\t|\t**Target**\t|\n"
   ]
  },
  {
   "cell_type": "markdown",
   "source": [
    "----"
   ],
   "metadata": {
    "id": "bKimk8qVm8oC"
   }
  },
  {
   "cell_type": "markdown",
   "source": [
    "## 1.데이터 탐색"
   ],
   "metadata": {
    "id": "0bouXLxGkSSd"
   }
  },
  {
   "cell_type": "markdown",
   "metadata": {
    "id": "XlTw652vDQ3e"
   },
   "source": [
    "## 2.데이터 전처리 "
   ]
  },
  {
   "cell_type": "markdown",
   "metadata": {
    "id": "Ky7y_ff1FZbM"
   },
   "source": [
    "### 2.1 데이터 feature와 , target으로 분할"
   ]
  },
  {
   "cell_type": "code",
   "metadata": {
    "id": "aLNWGuSdFZbN"
   },
   "source": [
    "y = data['CHURN']\n",
    "x = data.drop(['id', 'CHURN'], axis=1)"
   ],
   "execution_count": null,
   "outputs": []
  },
  {
   "cell_type": "code",
   "source": [
    "x.head()"
   ],
   "metadata": {
    "id": "M9MFuYbWpBDO"
   },
   "execution_count": null,
   "outputs": []
  },
  {
   "cell_type": "code",
   "source": [
    "y.head()"
   ],
   "metadata": {
    "id": "TotkyMecpCXq"
   },
   "execution_count": null,
   "outputs": []
  },
  {
   "cell_type": "markdown",
   "metadata": {
    "id": "w-6vZ0ljDQ3f"
   },
   "source": [
    "### 2.2 NaN에 대한 조치\n",
    "* 데이터에 포함된 NaN에 대해서 조치 방법을 결정하고 적용합니다.\n",
    "* **조치방법을 결정한 이유**를 주석으로 기술합니다."
   ]
  },
  {
   "cell_type": "code",
   "source": [
    "x.isna().sum()"
   ],
   "metadata": {
    "id": "AgkVE62CFq4B"
   },
   "execution_count": null,
   "outputs": []
  },
  {
   "cell_type": "code",
   "source": [
    "x.info()"
   ],
   "metadata": {
    "id": "Un7YfU_2pKMj"
   },
   "execution_count": null,
   "outputs": []
  },
  {
   "cell_type": "code",
   "source": [
    "# HOUSE 컬럼의 평균값으로 NaN 값을 처리!\n",
    "\n",
    "x['HOUSE'].fillna(x['HOUSE'].mean(), inplace=True)\n",
    "x.isna().sum()"
   ],
   "metadata": {
    "id": "hVvqwyiCpM_e"
   },
   "execution_count": null,
   "outputs": []
  },
  {
   "cell_type": "code",
   "source": [
    "# REPORTED_SATISFACTION 컬럼은 최빈값으로 NaN 값을 처리!\n",
    "\n",
    "x['REPORTED_SATISFACTION'].fillna(x['REPORTED_SATISFACTION'].mode()[0], inplace=True)\n",
    "\n",
    "x.isna().sum()"
   ],
   "metadata": {
    "id": "-zlWO4_WpzPC"
   },
   "execution_count": null,
   "outputs": []
  },
  {
   "cell_type": "markdown",
   "metadata": {
    "id": "AECD8gaNDQ3f"
   },
   "source": [
    "### 2.3 가변수화\n",
    "* 범주형 데이터이면서 값이 0,1 로 되어 있는 것이 아니라면, 가변수화를 수행해야 합니다.\n",
    "* 대상이 되는 변수에 대해서 가변수화를 수행해주세요."
   ]
  },
  {
   "cell_type": "code",
   "metadata": {
    "id": "NP4lFr_NDQ3f"
   },
   "source": [
    "x.head()"
   ],
   "execution_count": null,
   "outputs": []
  },
  {
   "cell_type": "code",
   "source": [
    "dummies = ['REPORTED_SATISFACTION', 'REPORTED_USAGE_LEVEL', 'CONSIDERING_CHANGE_OF_PLAN']\n",
    "\n",
    "x = pd.get_dummies(x, columns=dummies, drop_first=True)"
   ],
   "metadata": {
    "id": "TixnVJXUrEbi"
   },
   "execution_count": null,
   "outputs": []
  },
  {
   "cell_type": "code",
   "source": [
    "x.head()"
   ],
   "metadata": {
    "id": "O9eEvtg3riTQ"
   },
   "execution_count": null,
   "outputs": []
  },
  {
   "cell_type": "code",
   "source": [
    "x.columns"
   ],
   "metadata": {
    "id": "Y_qbnrpar7DC"
   },
   "execution_count": null,
   "outputs": []
  },
  {
   "cell_type": "markdown",
   "metadata": {
    "id": "yAZl-9jBDQ3g"
   },
   "source": [
    "### 2.4 스케일링 \n",
    "* 스케일링을 필요로 하는 알고리즘이 있습니다. \n",
    "* 필요하다고 판단될때 수행합니다."
   ]
  },
  {
   "cell_type": "code",
   "source": [
    "## INCOME, HOUSE 컬럼에 대하여 min-max scale 적용\n",
    "\n",
    "x.describe()"
   ],
   "metadata": {
    "id": "ruDV-Z8btOW7"
   },
   "execution_count": null,
   "outputs": []
  },
  {
   "cell_type": "code",
   "source": [
    "scale_list = ['INCOME', 'HOUSE']"
   ],
   "metadata": {
    "id": "skm9a5pAtY3Z"
   },
   "execution_count": null,
   "outputs": []
  },
  {
   "cell_type": "code",
   "metadata": {
    "id": "PJ2it4HXDQ3g"
   },
   "source": [
    "from sklearn.preprocessing import MinMaxScaler"
   ],
   "execution_count": null,
   "outputs": []
  },
  {
   "cell_type": "code",
   "source": [
    "mm_scaler = MinMaxScaler()"
   ],
   "metadata": {
    "id": "Z1Br0daFsLsc"
   },
   "execution_count": null,
   "outputs": []
  },
  {
   "cell_type": "code",
   "source": [
    "x[scale_list] = mm_scaler.fit_transform(x[scale_list])"
   ],
   "metadata": {
    "id": "xxt1CkwPsTGG"
   },
   "execution_count": null,
   "outputs": []
  },
  {
   "cell_type": "code",
   "source": [
    "x.describe()"
   ],
   "metadata": {
    "id": "Ot7mOEAqs1LO"
   },
   "execution_count": null,
   "outputs": []
  }
 ]
}