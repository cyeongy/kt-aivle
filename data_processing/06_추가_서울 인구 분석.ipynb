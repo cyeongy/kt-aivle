{
 "cells": [
  {
   "cell_type": "markdown",
   "metadata": {
    "id": "Xi_yurwiORB7"
   },
   "source": [
    "# 서울시 인구 분석"
   ]
  },
  {
   "cell_type": "markdown",
   "metadata": {
    "id": "4wk8yXgF1FYk"
   },
   "source": [
    "<img src='https://raw.githubusercontent.com/Jangrae/img/master/people2.png' width=\"650\" align=\"left\">"
   ]
  },
  {
   "cell_type": "markdown",
   "metadata": {
    "id": "0uNXxebRGrd8"
   },
   "source": [
    "## 1. 라이브러리 불러오기\n",
    "\n",
    "- 사용할 라이브러리를 불러옵니다."
   ]
  },
  {
   "cell_type": "code",
   "execution_count": 1,
   "metadata": {
    "id": "p3lUS_fyqvnh"
   },
   "outputs": [
    {
     "name": "stderr",
     "output_type": "stream",
     "text": [
      "/Users/cyeongy/opt/anaconda3/envs/kt-aivle/lib/python3.8/site-packages/scipy/__init__.py:146: UserWarning: A NumPy version >=1.16.5 and <1.23.0 is required for this version of SciPy (detected version 1.23.1\n",
      "  warnings.warn(f\"A NumPy version >={np_minversion} and <{np_maxversion}\"\n"
     ]
    }
   ],
   "source": [
    "import pandas as pd\n",
    "import numpy as np\n",
    "\n",
    "from sklearn.preprocessing import MinMaxScaler, StandardScaler"
   ]
  },
  {
   "cell_type": "markdown",
   "metadata": {
    "id": "ul8zKgxCqvnh"
   },
   "source": [
    "* 데이터 불러오기\n",
    "\n",
    "    - 다음 경로의 파일을 읽어와 pop01, pop02, pop03 데이터프레임을 만듭니다.\n",
    "    - 파일 경로1: https://raw.githubusercontent.com/Jangrae/csv/master/seoul_pop_h01.csv\n",
    "    - 파일 경로2: https://raw.githubusercontent.com/Jangrae/csv/master/seoul_pop_h02.csv\n",
    "    - 파일 경로3: https://raw.githubusercontent.com/Jangrae/csv/master/seoul_pop_h03.csv"
   ]
  },
  {
   "cell_type": "code",
   "execution_count": 3,
   "metadata": {
    "id": "91c9vKQ0E1A4"
   },
   "outputs": [],
   "source": [
    "urls = ['https://raw.githubusercontent.com/Jangrae/csv/master/seoul_pop_h01.csv',\n",
    "       'https://raw.githubusercontent.com/Jangrae/csv/master/seoul_pop_h02.csv',\n",
    "       'https://raw.githubusercontent.com/Jangrae/csv/master/seoul_pop_h03.csv']"
   ]
  },
  {
   "cell_type": "code",
   "execution_count": 5,
   "outputs": [],
   "source": [
    "pops = []\n",
    "\n",
    "for url in urls:\n",
    "       pops.append(pd.read_csv(url))"
   ],
   "metadata": {
    "collapsed": false,
    "pycharm": {
     "name": "#%%\n"
    }
   }
  },
  {
   "cell_type": "code",
   "execution_count": null,
   "metadata": {
    "id": "QSedynVWEp3W"
   },
   "outputs": [],
   "source": []
  },
  {
   "cell_type": "code",
   "execution_count": 9,
   "metadata": {
    "id": "OPfgGedaEqnw"
   },
   "outputs": [
    {
     "name": "stdout",
     "output_type": "stream",
     "text": [
      "   year  k_male  k_female\n",
      "0  1981    4160      4191\n",
      "1  1982    4160      4191\n",
      "2  1983    4160      4191\n",
      "3  1984    4160      4191\n",
      "4  1985    4160      4191\n",
      "   year  f_male  f_female\n",
      "0  1985       7         6\n",
      "1  1986       7         5\n",
      "2  1987       6         5\n",
      "3  1988       5         5\n",
      "4  1989       6         5\n",
      "   year  household  older_65\n",
      "0  1981       1915       246\n",
      "1  1982       2001       260\n",
      "2  1983       2116       260\n",
      "3  1984       2246       275\n",
      "4  1985       2338       211\n"
     ]
    }
   ],
   "source": [
    "for pop in pops:\n",
    "       print(pop.head(5))"
   ]
  },
  {
   "cell_type": "markdown",
   "metadata": {
    "id": "YskAXv8avBKD"
   },
   "source": [
    "## 2. 데이터 탐색\n",
    "\n",
    "다음과 같은 정보 확인을 통해 처리할 대상 데이터를 이해합니다.\n",
    "- 상/하위 데이터 확인\n",
    "- 데이터프레임 크기 확인\n",
    "- 열 이름, 데이터 형식, 값 개수 등 확인\n",
    "- 기초 통계정보 확인\n",
    "- 결측치 확인\n",
    "- 범주형 데이터 확인\n",
    "- 개별 열 값 상세 확인 등"
   ]
  },
  {
   "cell_type": "markdown",
   "metadata": {
    "id": "DGGFZli-V9pv"
   },
   "source": [
    "**1) 데이터프레임 크기 확인**\n",
    "\n",
    "- 세 개의 데이터프레임 크기(행 수, 열 수)를 확인합니다."
   ]
  },
  {
   "cell_type": "code",
   "execution_count": 6,
   "metadata": {
    "id": "rLzk_ydnvQzs"
   },
   "outputs": [
    {
     "name": "stdout",
     "output_type": "stream",
     "text": [
      "(40, 3)\n",
      "(36, 3)\n",
      "(40, 3)\n"
     ]
    }
   ],
   "source": [
    "for pop in pops:\n",
    "       print(pop.shape)"
   ]
  },
  {
   "cell_type": "markdown",
   "metadata": {
    "id": "PvfJBoYFWD7d"
   },
   "source": [
    "**2) year 최솟값, 최댓값 확인**\n",
    "\n",
    "- 세 개의 데이터프레임 year열 최솟값, 최댓값 크기를 비교해 차이가 있는 지 각각 확인합니다."
   ]
  },
  {
   "cell_type": "code",
   "execution_count": 13,
   "metadata": {
    "id": "HLYDQZLSwlic"
   },
   "outputs": [
    {
     "name": "stdout",
     "output_type": "stream",
     "text": [
      "              year       k_male     k_female\n",
      "count    40.000000    40.000000    40.000000\n",
      "mean   2000.500000  4982.550000  5025.525000\n",
      "std      11.690452   365.083408   339.917485\n",
      "min    1981.000000  4160.000000  4191.000000\n",
      "25%    1990.750000  4893.500000  5018.250000\n",
      "50%    2000.500000  5062.500000  5122.500000\n",
      "75%    2010.250000  5158.750000  5159.500000\n",
      "max    2020.000000  5500.000000  5435.000000\n",
      "              year      f_male    f_female\n",
      "count    36.000000   36.000000   36.000000\n",
      "mean   2002.500000   65.472222   69.472222\n",
      "std      10.535654   51.371747   57.121168\n",
      "min    1985.000000    5.000000    4.000000\n",
      "25%    1993.750000   20.500000   18.500000\n",
      "50%    2002.500000   42.500000   45.500000\n",
      "75%    2011.250000  122.250000  132.500000\n",
      "max    2020.000000  137.000000  148.000000\n",
      "              year    household     older_65\n",
      "count    40.000000    40.000000    40.000000\n",
      "mean   2000.500000  3493.300000   711.150000\n",
      "std      11.690452   732.856624   398.925644\n",
      "min    1981.000000  1915.000000   211.000000\n",
      "25%    1990.750000  3202.500000   408.750000\n",
      "50%    2000.500000  3555.000000   573.000000\n",
      "75%    2010.250000  4179.000000  1018.250000\n",
      "max    2020.000000  4418.000000  1568.000000\n"
     ]
    }
   ],
   "source": [
    "for pop in pops:\n",
    "       print(pop.describe())"
   ]
  },
  {
   "cell_type": "markdown",
   "metadata": {
    "id": "ia5a8bYdWRRY"
   },
   "source": [
    "**3) 결측치 확인**\n",
    "\n",
    "- 세 개의 데이터프레임에 결측치가 있는 지 각각 확인합니다."
   ]
  },
  {
   "cell_type": "code",
   "execution_count": 15,
   "metadata": {
    "id": "eGIIvQrPx1aj"
   },
   "outputs": [
    {
     "data": {
      "text/plain": "year        0\nk_male      0\nk_female    0\ndtype: int64"
     },
     "execution_count": 15,
     "metadata": {},
     "output_type": "execute_result"
    }
   ],
   "source": [
    "pops[0].isna().sum()"
   ]
  },
  {
   "cell_type": "code",
   "execution_count": 16,
   "outputs": [
    {
     "data": {
      "text/plain": "year        0\nf_male      0\nf_female    0\ndtype: int64"
     },
     "execution_count": 16,
     "metadata": {},
     "output_type": "execute_result"
    }
   ],
   "source": [
    "pops[1].isna().sum()"
   ],
   "metadata": {
    "collapsed": false,
    "pycharm": {
     "name": "#%%\n"
    }
   }
  },
  {
   "cell_type": "code",
   "execution_count": 17,
   "outputs": [
    {
     "data": {
      "text/plain": "year         0\nhousehold    0\nolder_65     0\ndtype: int64"
     },
     "execution_count": 17,
     "metadata": {},
     "output_type": "execute_result"
    }
   ],
   "source": [
    "pops[2].isna().sum()"
   ],
   "metadata": {
    "collapsed": false,
    "pycharm": {
     "name": "#%%\n"
    }
   }
  },
  {
   "cell_type": "markdown",
   "metadata": {
    "id": "1OSzZhf-7oqD"
   },
   "source": [
    "**4) 열 정보 확인**\n",
    "\n",
    "- 세 개의 데이터프레임의 열 정보를 확인합니다."
   ]
  },
  {
   "cell_type": "code",
   "execution_count": 18,
   "metadata": {
    "scrolled": true,
    "id": "HXq3am7Q7oqD"
   },
   "outputs": [
    {
     "name": "stdout",
     "output_type": "stream",
     "text": [
      "<class 'pandas.core.frame.DataFrame'>\n",
      "RangeIndex: 40 entries, 0 to 39\n",
      "Data columns (total 3 columns):\n",
      " #   Column    Non-Null Count  Dtype\n",
      "---  ------    --------------  -----\n",
      " 0   year      40 non-null     int64\n",
      " 1   k_male    40 non-null     int64\n",
      " 2   k_female  40 non-null     int64\n",
      "dtypes: int64(3)\n",
      "memory usage: 1.1 KB\n",
      "None\n",
      "<class 'pandas.core.frame.DataFrame'>\n",
      "RangeIndex: 36 entries, 0 to 35\n",
      "Data columns (total 3 columns):\n",
      " #   Column    Non-Null Count  Dtype\n",
      "---  ------    --------------  -----\n",
      " 0   year      36 non-null     int64\n",
      " 1   f_male    36 non-null     int64\n",
      " 2   f_female  36 non-null     int64\n",
      "dtypes: int64(3)\n",
      "memory usage: 992.0 bytes\n",
      "None\n",
      "<class 'pandas.core.frame.DataFrame'>\n",
      "RangeIndex: 40 entries, 0 to 39\n",
      "Data columns (total 3 columns):\n",
      " #   Column     Non-Null Count  Dtype\n",
      "---  ------     --------------  -----\n",
      " 0   year       40 non-null     int64\n",
      " 1   household  40 non-null     int64\n",
      " 2   older_65   40 non-null     int64\n",
      "dtypes: int64(3)\n",
      "memory usage: 1.1 KB\n",
      "None\n"
     ]
    }
   ],
   "source": [
    "for pop in pops:\n",
    "       print(pop.info())"
   ]
  },
  {
   "cell_type": "markdown",
   "metadata": {
    "id": "90Xyn_eRsjM1"
   },
   "source": [
    "## 3. 데이터 전처리\n",
    "\n",
    "전처리 과정에서 다음과 같은 처리를 할 수 있습니다.\n",
    "\n",
    "- 결측치 처리\n",
    "- 값 변경\n",
    "- 열 추가\n",
    "- 불필요한 열 제거\n",
    "- 열 이름 변경\n",
    "- 데이터 통합(연결 또는 조인)\n",
    "- 가변수화 등"
   ]
  },
  {
   "cell_type": "markdown",
   "metadata": {
    "id": "RVYiMiblt05b"
   },
   "source": [
    "**1) 데이터 통합**\n",
    "\n",
    "- concat을 사용해 연결하면 인덱스 값을 기준으로 연결되어 데이터가 어긋납니다.\n",
    "- **year** 열을 기준으로 **outer** 방식으로 조인(병합)합니다.\n",
    "- 외국인 정보가 1981 ~ 1984년이 누락되어 결측치가 발생할 것입니다.\n",
    "- 세 개의 데이터프레임을 병합(조인)하여 pop 데이터프레임을 선언합니다.\n",
    "- 이후의 모든 작업은 pop 데이터프레임을 대상으로 진행합니다."
   ]
  },
  {
   "cell_type": "code",
   "execution_count": 23,
   "metadata": {
    "id": "oQVSJrJishiQ",
    "scrolled": true
   },
   "outputs": [],
   "source": [
    "pop = pd.merge(pops[0], pops[1], how='outer')\n",
    "pop = pd.merge(pop, pops[2], how='outer')"
   ]
  },
  {
   "cell_type": "code",
   "execution_count": 24,
   "outputs": [
    {
     "data": {
      "text/plain": "   year  k_male  k_female  f_male  f_female  household  older_65\n0  1981    4160      4191     NaN       NaN       1915       246\n1  1982    4160      4191     NaN       NaN       2001       260\n2  1983    4160      4191     NaN       NaN       2116       260\n3  1984    4160      4191     NaN       NaN       2246       275\n4  1985    4160      4191     7.0       6.0       2338       211",
      "text/html": "<div>\n<style scoped>\n    .dataframe tbody tr th:only-of-type {\n        vertical-align: middle;\n    }\n\n    .dataframe tbody tr th {\n        vertical-align: top;\n    }\n\n    .dataframe thead th {\n        text-align: right;\n    }\n</style>\n<table border=\"1\" class=\"dataframe\">\n  <thead>\n    <tr style=\"text-align: right;\">\n      <th></th>\n      <th>year</th>\n      <th>k_male</th>\n      <th>k_female</th>\n      <th>f_male</th>\n      <th>f_female</th>\n      <th>household</th>\n      <th>older_65</th>\n    </tr>\n  </thead>\n  <tbody>\n    <tr>\n      <th>0</th>\n      <td>1981</td>\n      <td>4160</td>\n      <td>4191</td>\n      <td>NaN</td>\n      <td>NaN</td>\n      <td>1915</td>\n      <td>246</td>\n    </tr>\n    <tr>\n      <th>1</th>\n      <td>1982</td>\n      <td>4160</td>\n      <td>4191</td>\n      <td>NaN</td>\n      <td>NaN</td>\n      <td>2001</td>\n      <td>260</td>\n    </tr>\n    <tr>\n      <th>2</th>\n      <td>1983</td>\n      <td>4160</td>\n      <td>4191</td>\n      <td>NaN</td>\n      <td>NaN</td>\n      <td>2116</td>\n      <td>260</td>\n    </tr>\n    <tr>\n      <th>3</th>\n      <td>1984</td>\n      <td>4160</td>\n      <td>4191</td>\n      <td>NaN</td>\n      <td>NaN</td>\n      <td>2246</td>\n      <td>275</td>\n    </tr>\n    <tr>\n      <th>4</th>\n      <td>1985</td>\n      <td>4160</td>\n      <td>4191</td>\n      <td>7.0</td>\n      <td>6.0</td>\n      <td>2338</td>\n      <td>211</td>\n    </tr>\n  </tbody>\n</table>\n</div>"
     },
     "execution_count": 24,
     "metadata": {},
     "output_type": "execute_result"
    }
   ],
   "source": [
    "pop.head(5)"
   ],
   "metadata": {
    "collapsed": false,
    "pycharm": {
     "name": "#%%\n"
    }
   }
  },
  {
   "cell_type": "code",
   "execution_count": 25,
   "outputs": [
    {
     "name": "stdout",
     "output_type": "stream",
     "text": [
      "<class 'pandas.core.frame.DataFrame'>\n",
      "Int64Index: 40 entries, 0 to 39\n",
      "Data columns (total 7 columns):\n",
      " #   Column     Non-Null Count  Dtype  \n",
      "---  ------     --------------  -----  \n",
      " 0   year       40 non-null     int64  \n",
      " 1   k_male     40 non-null     int64  \n",
      " 2   k_female   40 non-null     int64  \n",
      " 3   f_male     36 non-null     float64\n",
      " 4   f_female   36 non-null     float64\n",
      " 5   household  40 non-null     int64  \n",
      " 6   older_65   40 non-null     int64  \n",
      "dtypes: float64(2), int64(5)\n",
      "memory usage: 2.5 KB\n"
     ]
    }
   ],
   "source": [
    "pop.info()"
   ],
   "metadata": {
    "collapsed": false,
    "pycharm": {
     "name": "#%%\n"
    }
   }
  },
  {
   "cell_type": "markdown",
   "metadata": {
    "id": "hdjxpxxFzxCT"
   },
   "source": [
    "**2) 결측치 확인**\n",
    "\n",
    "- 결측치가 있는지 확인합니다."
   ]
  },
  {
   "cell_type": "code",
   "execution_count": 26,
   "metadata": {
    "id": "NyjTg23zz5XS"
   },
   "outputs": [
    {
     "data": {
      "text/plain": "year         0\nk_male       0\nk_female     0\nf_male       4\nf_female     4\nhousehold    0\nolder_65     0\ndtype: int64"
     },
     "execution_count": 26,
     "metadata": {},
     "output_type": "execute_result"
    }
   ],
   "source": [
    "pop.isna().sum()"
   ]
  },
  {
   "cell_type": "markdown",
   "metadata": {
    "id": "E6MZV3nW0QUv"
   },
   "source": [
    "**3) 결측치 처리**\n",
    "\n",
    "- 연도별 인구 현황이므로 임의의 값을 채우는 것이 바람직하지 않아 보입니다.\n",
    "- 이후 값, 즉 1985년 값으로 채우는 것도 정확한 분석을 방해할 것 같습니다.\n",
    "- 이에 결측치가 있는 1981년~1984년 행을 제거할 것입니다."
   ]
  },
  {
   "cell_type": "code",
   "execution_count": 28,
   "metadata": {
    "id": "TZ38gSP31CYM"
   },
   "outputs": [
    {
     "data": {
      "text/plain": "    year  k_male  k_female  f_male  f_female  household  older_65\n4   1985    4160      4191     7.0       6.0       2338       211\n5   1986    4899      4888     7.0       5.0       2428       305\n6   1987    5000      4979     6.0       5.0       2518       329\n7   1988    5156      5120     5.0       5.0       2658       349\n8   1989    5305      5261     6.0       5.0       2817       363\n9   1990    5321      5282     5.0       4.0       2820       363\n10  1991    5468      5405    18.0      14.0       3330       424\n11  1992    5500      5435    19.0      16.0       3383       434\n12  1993    5478      5412    19.0      17.0       3431       445\n13  1994    5409      5351    21.0      19.0       3456       454",
      "text/html": "<div>\n<style scoped>\n    .dataframe tbody tr th:only-of-type {\n        vertical-align: middle;\n    }\n\n    .dataframe tbody tr th {\n        vertical-align: top;\n    }\n\n    .dataframe thead th {\n        text-align: right;\n    }\n</style>\n<table border=\"1\" class=\"dataframe\">\n  <thead>\n    <tr style=\"text-align: right;\">\n      <th></th>\n      <th>year</th>\n      <th>k_male</th>\n      <th>k_female</th>\n      <th>f_male</th>\n      <th>f_female</th>\n      <th>household</th>\n      <th>older_65</th>\n    </tr>\n  </thead>\n  <tbody>\n    <tr>\n      <th>4</th>\n      <td>1985</td>\n      <td>4160</td>\n      <td>4191</td>\n      <td>7.0</td>\n      <td>6.0</td>\n      <td>2338</td>\n      <td>211</td>\n    </tr>\n    <tr>\n      <th>5</th>\n      <td>1986</td>\n      <td>4899</td>\n      <td>4888</td>\n      <td>7.0</td>\n      <td>5.0</td>\n      <td>2428</td>\n      <td>305</td>\n    </tr>\n    <tr>\n      <th>6</th>\n      <td>1987</td>\n      <td>5000</td>\n      <td>4979</td>\n      <td>6.0</td>\n      <td>5.0</td>\n      <td>2518</td>\n      <td>329</td>\n    </tr>\n    <tr>\n      <th>7</th>\n      <td>1988</td>\n      <td>5156</td>\n      <td>5120</td>\n      <td>5.0</td>\n      <td>5.0</td>\n      <td>2658</td>\n      <td>349</td>\n    </tr>\n    <tr>\n      <th>8</th>\n      <td>1989</td>\n      <td>5305</td>\n      <td>5261</td>\n      <td>6.0</td>\n      <td>5.0</td>\n      <td>2817</td>\n      <td>363</td>\n    </tr>\n    <tr>\n      <th>9</th>\n      <td>1990</td>\n      <td>5321</td>\n      <td>5282</td>\n      <td>5.0</td>\n      <td>4.0</td>\n      <td>2820</td>\n      <td>363</td>\n    </tr>\n    <tr>\n      <th>10</th>\n      <td>1991</td>\n      <td>5468</td>\n      <td>5405</td>\n      <td>18.0</td>\n      <td>14.0</td>\n      <td>3330</td>\n      <td>424</td>\n    </tr>\n    <tr>\n      <th>11</th>\n      <td>1992</td>\n      <td>5500</td>\n      <td>5435</td>\n      <td>19.0</td>\n      <td>16.0</td>\n      <td>3383</td>\n      <td>434</td>\n    </tr>\n    <tr>\n      <th>12</th>\n      <td>1993</td>\n      <td>5478</td>\n      <td>5412</td>\n      <td>19.0</td>\n      <td>17.0</td>\n      <td>3431</td>\n      <td>445</td>\n    </tr>\n    <tr>\n      <th>13</th>\n      <td>1994</td>\n      <td>5409</td>\n      <td>5351</td>\n      <td>21.0</td>\n      <td>19.0</td>\n      <td>3456</td>\n      <td>454</td>\n    </tr>\n  </tbody>\n</table>\n</div>"
     },
     "execution_count": 28,
     "metadata": {},
     "output_type": "execute_result"
    }
   ],
   "source": [
    "pop.dropna(axis=0, inplace=True)\n",
    "pop.head(10)"
   ]
  },
  {
   "cell_type": "markdown",
   "metadata": {
    "id": "WAGgvzDv2klV"
   },
   "source": [
    "**3) 열 추가**\n",
    "\n",
    "- 이후 분석의 편의를 위해 다음과 같은 의미를 갖는 열을 추가하고자 합니다.\n",
    "    - k_total = 전체 한국인 인구수\n",
    "    - f_total = 전체 외국인 인구수\n",
    "    - male = 전체 남자 인구수\n",
    "    - female = 전체 여자 인구수\n",
    "    - total = 전체 인구수\n",
    "- 추가할 열에 대한 공식은 다음과 같습니다.\n",
    "    - k_total = k_male + k_female\n",
    "    - f_total = f_male + f_female\n",
    "    - male = k_male + f_male\n",
    "    - female = k_female + f_female\n",
    "    - total = k_total + f_total\n",
    "- 정리한 공식에 따라 데이터프레임에 열을 추가합니다."
   ]
  },
  {
   "cell_type": "code",
   "execution_count": 29,
   "metadata": {
    "id": "_2UJfoL4Deyq"
   },
   "outputs": [],
   "source": [
    "pop['k_total'] = pop['k_male'] + pop['k_female']\n",
    "pop['f_total'] = pop['f_male'] + pop['f_female']\n",
    "pop['male'] = pop['k_male'] + pop['f_male']\n",
    "pop['female'] = pop['k_female'] + pop['f_female']\n",
    "pop['total'] = pop['k_total'] + pop['f_total']"
   ]
  },
  {
   "cell_type": "markdown",
   "metadata": {
    "id": "BUlYrjII22qA"
   },
   "source": [
    "**4) 열 순서 변경**\n",
    "\n",
    "- 데이터 이해를 돕기 위해 다음과 같은 순서로 데이터프레임 열 순서를 변경합니다.\n",
    "- year, household, total, male, female, k_total, k_male, k_female, f_total, f_male, f_female, older_65"
   ]
  },
  {
   "cell_type": "code",
   "execution_count": 30,
   "outputs": [
    {
     "name": "stdout",
     "output_type": "stream",
     "text": [
      "<class 'pandas.core.frame.DataFrame'>\n",
      "Int64Index: 36 entries, 4 to 39\n",
      "Data columns (total 12 columns):\n",
      " #   Column     Non-Null Count  Dtype  \n",
      "---  ------     --------------  -----  \n",
      " 0   year       36 non-null     int64  \n",
      " 1   k_male     36 non-null     int64  \n",
      " 2   k_female   36 non-null     int64  \n",
      " 3   f_male     36 non-null     float64\n",
      " 4   f_female   36 non-null     float64\n",
      " 5   household  36 non-null     int64  \n",
      " 6   older_65   36 non-null     int64  \n",
      " 7   k_total    36 non-null     int64  \n",
      " 8   f_total    36 non-null     float64\n",
      " 9   male       36 non-null     float64\n",
      " 10  female     36 non-null     float64\n",
      " 11  total      36 non-null     float64\n",
      "dtypes: float64(6), int64(6)\n",
      "memory usage: 3.7 KB\n"
     ]
    }
   ],
   "source": [
    "pop.info()"
   ],
   "metadata": {
    "collapsed": false,
    "pycharm": {
     "name": "#%%\n"
    }
   }
  },
  {
   "cell_type": "code",
   "execution_count": 33,
   "metadata": {
    "id": "w_e2NR6W3Sw0"
   },
   "outputs": [
    {
     "name": "stdout",
     "output_type": "stream",
     "text": [
      "<class 'pandas.core.frame.DataFrame'>\n",
      "Int64Index: 36 entries, 4 to 39\n",
      "Data columns (total 12 columns):\n",
      " #   Column     Non-Null Count  Dtype  \n",
      "---  ------     --------------  -----  \n",
      " 0   year       36 non-null     int64  \n",
      " 1   household  36 non-null     int64  \n",
      " 2   total      36 non-null     float64\n",
      " 3   male       36 non-null     float64\n",
      " 4   female     36 non-null     float64\n",
      " 5   k_total    36 non-null     int64  \n",
      " 6   k_male     36 non-null     int64  \n",
      " 7   k_female   36 non-null     int64  \n",
      " 8   f_total    36 non-null     float64\n",
      " 9   f_male     36 non-null     float64\n",
      " 10  f_female   36 non-null     float64\n",
      " 11  older_65   36 non-null     int64  \n",
      "dtypes: float64(6), int64(6)\n",
      "memory usage: 3.7 KB\n"
     ]
    }
   ],
   "source": [
    "pop = pop[['year', 'household', 'total', 'male', 'female', 'k_total', 'k_male', 'k_female', 'f_total', 'f_male', 'f_female', 'older_65']]\n",
    "pop.info()"
   ]
  },
  {
   "cell_type": "markdown",
   "metadata": {
    "id": "YqROKu_R3t03"
   },
   "source": [
    "**5) 인덱스 초기화**\n",
    "\n",
    "- 인덱스가 0부터 시작하는 일련 변호를 갖지 않는다면 인덱스를 초기화합니다."
   ]
  },
  {
   "cell_type": "code",
   "execution_count": 37,
   "metadata": {
    "id": "E6hQeKB533r9"
   },
   "outputs": [
    {
     "data": {
      "text/plain": "   year  household    total    male  female  k_total  k_male  k_female  \\\n0  1985       2338   8364.0  4167.0  4197.0     8351    4160      4191   \n1  1986       2428   9799.0  4906.0  4893.0     9787    4899      4888   \n2  1987       2518   9990.0  5006.0  4984.0     9979    5000      4979   \n3  1988       2658  10286.0  5161.0  5125.0    10276    5156      5120   \n4  1989       2817  10577.0  5311.0  5266.0    10566    5305      5261   \n\n   f_total  f_male  f_female  older_65  \n0     13.0     7.0       6.0       211  \n1     12.0     7.0       5.0       305  \n2     11.0     6.0       5.0       329  \n3     10.0     5.0       5.0       349  \n4     11.0     6.0       5.0       363  ",
      "text/html": "<div>\n<style scoped>\n    .dataframe tbody tr th:only-of-type {\n        vertical-align: middle;\n    }\n\n    .dataframe tbody tr th {\n        vertical-align: top;\n    }\n\n    .dataframe thead th {\n        text-align: right;\n    }\n</style>\n<table border=\"1\" class=\"dataframe\">\n  <thead>\n    <tr style=\"text-align: right;\">\n      <th></th>\n      <th>year</th>\n      <th>household</th>\n      <th>total</th>\n      <th>male</th>\n      <th>female</th>\n      <th>k_total</th>\n      <th>k_male</th>\n      <th>k_female</th>\n      <th>f_total</th>\n      <th>f_male</th>\n      <th>f_female</th>\n      <th>older_65</th>\n    </tr>\n  </thead>\n  <tbody>\n    <tr>\n      <th>0</th>\n      <td>1985</td>\n      <td>2338</td>\n      <td>8364.0</td>\n      <td>4167.0</td>\n      <td>4197.0</td>\n      <td>8351</td>\n      <td>4160</td>\n      <td>4191</td>\n      <td>13.0</td>\n      <td>7.0</td>\n      <td>6.0</td>\n      <td>211</td>\n    </tr>\n    <tr>\n      <th>1</th>\n      <td>1986</td>\n      <td>2428</td>\n      <td>9799.0</td>\n      <td>4906.0</td>\n      <td>4893.0</td>\n      <td>9787</td>\n      <td>4899</td>\n      <td>4888</td>\n      <td>12.0</td>\n      <td>7.0</td>\n      <td>5.0</td>\n      <td>305</td>\n    </tr>\n    <tr>\n      <th>2</th>\n      <td>1987</td>\n      <td>2518</td>\n      <td>9990.0</td>\n      <td>5006.0</td>\n      <td>4984.0</td>\n      <td>9979</td>\n      <td>5000</td>\n      <td>4979</td>\n      <td>11.0</td>\n      <td>6.0</td>\n      <td>5.0</td>\n      <td>329</td>\n    </tr>\n    <tr>\n      <th>3</th>\n      <td>1988</td>\n      <td>2658</td>\n      <td>10286.0</td>\n      <td>5161.0</td>\n      <td>5125.0</td>\n      <td>10276</td>\n      <td>5156</td>\n      <td>5120</td>\n      <td>10.0</td>\n      <td>5.0</td>\n      <td>5.0</td>\n      <td>349</td>\n    </tr>\n    <tr>\n      <th>4</th>\n      <td>1989</td>\n      <td>2817</td>\n      <td>10577.0</td>\n      <td>5311.0</td>\n      <td>5266.0</td>\n      <td>10566</td>\n      <td>5305</td>\n      <td>5261</td>\n      <td>11.0</td>\n      <td>6.0</td>\n      <td>5.0</td>\n      <td>363</td>\n    </tr>\n  </tbody>\n</table>\n</div>"
     },
     "execution_count": 37,
     "metadata": {},
     "output_type": "execute_result"
    }
   ],
   "source": [
    "pop.reset_index(drop=True, inplace=True)\n",
    "pop.head()"
   ]
  },
  {
   "cell_type": "markdown",
   "metadata": {
    "id": "gVFIrpZmrsjq"
   },
   "source": [
    "## 4. 추가 전처리"
   ]
  },
  {
   "cell_type": "markdown",
   "source": [
    "* x, y 구분\n",
    "\n",
    "    - x : feature\n",
    "    - y : target <- total"
   ],
   "metadata": {
    "id": "kdnCJKxP-GiC"
   }
  },
  {
   "cell_type": "code",
   "source": [
    "x = pop.drop('total', axis=1)\n",
    "y = pop.loc[:, 'total']\n",
    "\n",
    "x.head()"
   ],
   "metadata": {
    "id": "eg2YEK6-8k9c"
   },
   "execution_count": 39,
   "outputs": [
    {
     "data": {
      "text/plain": "   year  household    male  female  k_total  k_male  k_female  f_total  \\\n0  1985       2338  4167.0  4197.0     8351    4160      4191     13.0   \n1  1986       2428  4906.0  4893.0     9787    4899      4888     12.0   \n2  1987       2518  5006.0  4984.0     9979    5000      4979     11.0   \n3  1988       2658  5161.0  5125.0    10276    5156      5120     10.0   \n4  1989       2817  5311.0  5266.0    10566    5305      5261     11.0   \n\n   f_male  f_female  older_65  \n0     7.0       6.0       211  \n1     7.0       5.0       305  \n2     6.0       5.0       329  \n3     5.0       5.0       349  \n4     6.0       5.0       363  ",
      "text/html": "<div>\n<style scoped>\n    .dataframe tbody tr th:only-of-type {\n        vertical-align: middle;\n    }\n\n    .dataframe tbody tr th {\n        vertical-align: top;\n    }\n\n    .dataframe thead th {\n        text-align: right;\n    }\n</style>\n<table border=\"1\" class=\"dataframe\">\n  <thead>\n    <tr style=\"text-align: right;\">\n      <th></th>\n      <th>year</th>\n      <th>household</th>\n      <th>male</th>\n      <th>female</th>\n      <th>k_total</th>\n      <th>k_male</th>\n      <th>k_female</th>\n      <th>f_total</th>\n      <th>f_male</th>\n      <th>f_female</th>\n      <th>older_65</th>\n    </tr>\n  </thead>\n  <tbody>\n    <tr>\n      <th>0</th>\n      <td>1985</td>\n      <td>2338</td>\n      <td>4167.0</td>\n      <td>4197.0</td>\n      <td>8351</td>\n      <td>4160</td>\n      <td>4191</td>\n      <td>13.0</td>\n      <td>7.0</td>\n      <td>6.0</td>\n      <td>211</td>\n    </tr>\n    <tr>\n      <th>1</th>\n      <td>1986</td>\n      <td>2428</td>\n      <td>4906.0</td>\n      <td>4893.0</td>\n      <td>9787</td>\n      <td>4899</td>\n      <td>4888</td>\n      <td>12.0</td>\n      <td>7.0</td>\n      <td>5.0</td>\n      <td>305</td>\n    </tr>\n    <tr>\n      <th>2</th>\n      <td>1987</td>\n      <td>2518</td>\n      <td>5006.0</td>\n      <td>4984.0</td>\n      <td>9979</td>\n      <td>5000</td>\n      <td>4979</td>\n      <td>11.0</td>\n      <td>6.0</td>\n      <td>5.0</td>\n      <td>329</td>\n    </tr>\n    <tr>\n      <th>3</th>\n      <td>1988</td>\n      <td>2658</td>\n      <td>5161.0</td>\n      <td>5125.0</td>\n      <td>10276</td>\n      <td>5156</td>\n      <td>5120</td>\n      <td>10.0</td>\n      <td>5.0</td>\n      <td>5.0</td>\n      <td>349</td>\n    </tr>\n    <tr>\n      <th>4</th>\n      <td>1989</td>\n      <td>2817</td>\n      <td>5311.0</td>\n      <td>5266.0</td>\n      <td>10566</td>\n      <td>5305</td>\n      <td>5261</td>\n      <td>11.0</td>\n      <td>6.0</td>\n      <td>5.0</td>\n      <td>363</td>\n    </tr>\n  </tbody>\n</table>\n</div>"
     },
     "execution_count": 39,
     "metadata": {},
     "output_type": "execute_result"
    }
   ]
  },
  {
   "cell_type": "code",
   "source": [
    "y.head()"
   ],
   "metadata": {
    "id": "bqB7UDBj8k96"
   },
   "execution_count": 40,
   "outputs": [
    {
     "data": {
      "text/plain": "0     8364.0\n1     9799.0\n2     9990.0\n3    10286.0\n4    10577.0\nName: total, dtype: float64"
     },
     "execution_count": 40,
     "metadata": {},
     "output_type": "execute_result"
    }
   ]
  },
  {
   "cell_type": "markdown",
   "source": [
    "* train test split"
   ],
   "metadata": {
    "id": "w6LVMNBb-EYK"
   }
  },
  {
   "cell_type": "code",
   "source": [],
   "metadata": {
    "id": "ldUH83Zh9gdE"
   },
   "execution_count": null,
   "outputs": []
  },
  {
   "cell_type": "code",
   "source": [],
   "metadata": {
    "id": "ePTa2bih9JRU"
   },
   "execution_count": null,
   "outputs": []
  },
  {
   "cell_type": "code",
   "source": [],
   "metadata": {
    "id": "CuSR6VJ89X4J"
   },
   "execution_count": null,
   "outputs": []
  },
  {
   "cell_type": "markdown",
   "source": [
    "* Scaling\n",
    "\n",
    "    - min-max scaling"
   ],
   "metadata": {
    "id": "Q898Fe_Y9b4B"
   }
  },
  {
   "cell_type": "code",
   "source": [
    "scaler = MinMaxScaler()\n",
    "\n",
    "x_s = scaler.fit_transform(x)\n",
    "\n",
    "df = pd.DataFrame(x_s, columns=list(x))\n",
    "df.describe()"
   ],
   "metadata": {
    "id": "Z6xdipwP9ZTq"
   },
   "execution_count": 46,
   "outputs": [
    {
     "data": {
      "text/plain": "            year  household       male     female    k_total     k_male  \\\ncount  36.000000  36.000000  36.000000  36.000000  36.000000  36.000000   \nmean    0.500000   0.631490   0.719243   0.790050   0.712537   0.682048   \nstd     0.301019   0.280032   0.173338   0.162770   0.171590   0.186720   \nmin     0.000000   0.000000   0.000000   0.000000   0.000000   0.000000   \n25%     0.250000   0.531611   0.688425   0.757376   0.670182   0.623134   \n50%     0.500000   0.640144   0.738905   0.803030   0.717105   0.682463   \n75%     0.750000   0.887500   0.779031   0.858852   0.761320   0.755224   \nmax     1.000000   1.000000   1.000000   1.000000   1.000000   1.000000   \n\n        k_female    f_total     f_male   f_female   older_65  \ncount  36.000000  36.000000  36.000000  36.000000  36.000000  \nmean    0.745378   0.457980   0.458123   0.454668   0.405490  \nstd     0.161400   0.394446   0.389180   0.396675   0.286831  \nmin     0.000000   0.000000   0.000000   0.000000   0.000000  \n25%     0.723071   0.109091   0.117424   0.100694   0.177413  \n50%     0.749598   0.287273   0.284091   0.288194   0.309875  \n75%     0.794011   0.895455   0.888258   0.892361   0.628961  \nmax     1.000000   1.000000   1.000000   1.000000   1.000000  ",
      "text/html": "<div>\n<style scoped>\n    .dataframe tbody tr th:only-of-type {\n        vertical-align: middle;\n    }\n\n    .dataframe tbody tr th {\n        vertical-align: top;\n    }\n\n    .dataframe thead th {\n        text-align: right;\n    }\n</style>\n<table border=\"1\" class=\"dataframe\">\n  <thead>\n    <tr style=\"text-align: right;\">\n      <th></th>\n      <th>year</th>\n      <th>household</th>\n      <th>male</th>\n      <th>female</th>\n      <th>k_total</th>\n      <th>k_male</th>\n      <th>k_female</th>\n      <th>f_total</th>\n      <th>f_male</th>\n      <th>f_female</th>\n      <th>older_65</th>\n    </tr>\n  </thead>\n  <tbody>\n    <tr>\n      <th>count</th>\n      <td>36.000000</td>\n      <td>36.000000</td>\n      <td>36.000000</td>\n      <td>36.000000</td>\n      <td>36.000000</td>\n      <td>36.000000</td>\n      <td>36.000000</td>\n      <td>36.000000</td>\n      <td>36.000000</td>\n      <td>36.000000</td>\n      <td>36.000000</td>\n    </tr>\n    <tr>\n      <th>mean</th>\n      <td>0.500000</td>\n      <td>0.631490</td>\n      <td>0.719243</td>\n      <td>0.790050</td>\n      <td>0.712537</td>\n      <td>0.682048</td>\n      <td>0.745378</td>\n      <td>0.457980</td>\n      <td>0.458123</td>\n      <td>0.454668</td>\n      <td>0.405490</td>\n    </tr>\n    <tr>\n      <th>std</th>\n      <td>0.301019</td>\n      <td>0.280032</td>\n      <td>0.173338</td>\n      <td>0.162770</td>\n      <td>0.171590</td>\n      <td>0.186720</td>\n      <td>0.161400</td>\n      <td>0.394446</td>\n      <td>0.389180</td>\n      <td>0.396675</td>\n      <td>0.286831</td>\n    </tr>\n    <tr>\n      <th>min</th>\n      <td>0.000000</td>\n      <td>0.000000</td>\n      <td>0.000000</td>\n      <td>0.000000</td>\n      <td>0.000000</td>\n      <td>0.000000</td>\n      <td>0.000000</td>\n      <td>0.000000</td>\n      <td>0.000000</td>\n      <td>0.000000</td>\n      <td>0.000000</td>\n    </tr>\n    <tr>\n      <th>25%</th>\n      <td>0.250000</td>\n      <td>0.531611</td>\n      <td>0.688425</td>\n      <td>0.757376</td>\n      <td>0.670182</td>\n      <td>0.623134</td>\n      <td>0.723071</td>\n      <td>0.109091</td>\n      <td>0.117424</td>\n      <td>0.100694</td>\n      <td>0.177413</td>\n    </tr>\n    <tr>\n      <th>50%</th>\n      <td>0.500000</td>\n      <td>0.640144</td>\n      <td>0.738905</td>\n      <td>0.803030</td>\n      <td>0.717105</td>\n      <td>0.682463</td>\n      <td>0.749598</td>\n      <td>0.287273</td>\n      <td>0.284091</td>\n      <td>0.288194</td>\n      <td>0.309875</td>\n    </tr>\n    <tr>\n      <th>75%</th>\n      <td>0.750000</td>\n      <td>0.887500</td>\n      <td>0.779031</td>\n      <td>0.858852</td>\n      <td>0.761320</td>\n      <td>0.755224</td>\n      <td>0.794011</td>\n      <td>0.895455</td>\n      <td>0.888258</td>\n      <td>0.892361</td>\n      <td>0.628961</td>\n    </tr>\n    <tr>\n      <th>max</th>\n      <td>1.000000</td>\n      <td>1.000000</td>\n      <td>1.000000</td>\n      <td>1.000000</td>\n      <td>1.000000</td>\n      <td>1.000000</td>\n      <td>1.000000</td>\n      <td>1.000000</td>\n      <td>1.000000</td>\n      <td>1.000000</td>\n      <td>1.000000</td>\n    </tr>\n  </tbody>\n</table>\n</div>"
     },
     "execution_count": 46,
     "metadata": {},
     "output_type": "execute_result"
    }
   ]
  },
  {
   "cell_type": "code",
   "source": [
    ""
   ],
   "metadata": {
    "id": "NBXz7AVZ9npr"
   },
   "execution_count": null,
   "outputs": []
  },
  {
   "cell_type": "code",
   "source": [
    ""
   ],
   "metadata": {
    "id": "0MsrmONV96Cd"
   },
   "execution_count": null,
   "outputs": []
  },
  {
   "cell_type": "code",
   "source": [
    ""
   ],
   "metadata": {
    "id": "jaAGAJ9S97uK"
   },
   "execution_count": null,
   "outputs": []
  },
  {
   "cell_type": "code",
   "source": [
    ""
   ],
   "metadata": {
    "id": "3kG4eVvD_NJi"
   },
   "execution_count": null,
   "outputs": []
  },
  {
   "cell_type": "markdown",
   "source": [
    "## 5. 모델링"
   ],
   "metadata": {
    "id": "RunXx5ob-L9j"
   }
  },
  {
   "cell_type": "markdown",
   "source": [
    "* 모델 선언"
   ],
   "metadata": {
    "id": "KpBgwLU5-b7m"
   }
  },
  {
   "cell_type": "code",
   "source": [
    ""
   ],
   "metadata": {
    "id": "xJivOe31-DMG"
   },
   "execution_count": null,
   "outputs": []
  },
  {
   "cell_type": "code",
   "source": [
    ""
   ],
   "metadata": {
    "id": "A1a9ZTWi-Tah"
   },
   "execution_count": null,
   "outputs": []
  },
  {
   "cell_type": "markdown",
   "source": [
    "* 모델 학습"
   ],
   "metadata": {
    "id": "ByOJ40rx-aBU"
   }
  },
  {
   "cell_type": "code",
   "source": [
    ""
   ],
   "metadata": {
    "id": "7BZYUjNt-WRT"
   },
   "execution_count": null,
   "outputs": []
  },
  {
   "cell_type": "markdown",
   "source": [
    "* 학습한 모델 기반으로 예측값 생성"
   ],
   "metadata": {
    "id": "NaGKHZJS-ktc"
   }
  },
  {
   "cell_type": "code",
   "source": [
    ""
   ],
   "metadata": {
    "id": "AtqR6q1u-pYA"
   },
   "execution_count": null,
   "outputs": []
  },
  {
   "cell_type": "code",
   "source": [
    ""
   ],
   "metadata": {
    "id": "AyJLAYoN-s3r"
   },
   "execution_count": null,
   "outputs": []
  },
  {
   "cell_type": "code",
   "source": [
    ""
   ],
   "metadata": {
    "id": "DMlL2Z-N-wRq"
   },
   "execution_count": null,
   "outputs": []
  },
  {
   "cell_type": "markdown",
   "source": [
    "## 6. 평가"
   ],
   "metadata": {
    "id": "_rDg0DGJ-2vp"
   }
  },
  {
   "cell_type": "code",
   "source": [
    ""
   ],
   "metadata": {
    "id": "7PmPZpse-2D2"
   },
   "execution_count": null,
   "outputs": []
  },
  {
   "cell_type": "code",
   "source": [
    ""
   ],
   "metadata": {
    "id": "jBiVt9Uv_WXG"
   },
   "execution_count": null,
   "outputs": []
  },
  {
   "cell_type": "code",
   "source": [
    ""
   ],
   "metadata": {
    "id": "d0TSKy87_gCL"
   },
   "execution_count": null,
   "outputs": []
  }
 ],
 "metadata": {
  "colab": {
   "collapsed_sections": [],
   "name": "추가_서울 인구 분석.ipynb",
   "provenance": []
  },
  "kernelspec": {
   "display_name": "Python 3 (ipykernel)",
   "language": "python",
   "name": "python3"
  },
  "language_info": {
   "codemirror_mode": {
    "name": "ipython",
    "version": 3
   },
   "file_extension": ".py",
   "mimetype": "text/x-python",
   "name": "python",
   "nbconvert_exporter": "python",
   "pygments_lexer": "ipython3",
   "version": "3.9.7"
  }
 },
 "nbformat": 4,
 "nbformat_minor": 0
}