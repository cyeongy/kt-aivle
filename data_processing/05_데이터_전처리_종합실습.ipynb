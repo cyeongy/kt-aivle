{
 "nbformat": 4,
 "nbformat_minor": 0,
 "metadata": {
  "colab": {
   "name": "05_데이터_전처리_종합실습.ipynb",
   "provenance": [],
   "collapsed_sections": []
  },
  "kernelspec": {
   "name": "python3",
   "language": "python",
   "display_name": "Python 3 (ipykernel)"
  },
  "language_info": {
   "name": "python"
  }
 },
 "cells": [
  {
   "cell_type": "markdown",
   "metadata": {
    "id": "mTt7qGUTCcFs",
    "pycharm": {
     "name": "#%% md\n"
    }
   },
   "source": [
    "# 데이터 전처리"
   ]
  },
  {
   "cell_type": "markdown",
   "metadata": {
    "id": "SvYHGMwKUGWA",
    "pycharm": {
     "name": "#%% md\n"
    }
   },
   "source": [
    "## 0.환경준비"
   ]
  },
  {
   "cell_type": "markdown",
   "metadata": {
    "id": "BHx_ZdUyUGWA",
    "pycharm": {
     "name": "#%% md\n"
    }
   },
   "source": [
    "### 0.1 Import"
   ]
  },
  {
   "cell_type": "code",
   "metadata": {
    "id": "0CKXfg8cUGWB",
    "pycharm": {
     "name": "#%%\n"
    }
   },
   "source": [
    "# 기본 라이브러리 가져오기\n",
    "import pandas as pd\n",
    "import numpy as np\n",
    "\n",
    "import matplotlib.pyplot as plt\n",
    "import seaborn as sns"
   ],
   "execution_count": 53,
   "outputs": []
  },
  {
   "cell_type": "markdown",
   "metadata": {
    "id": "Z7bR5d9HUGWB",
    "pycharm": {
     "name": "#%% md\n"
    }
   },
   "source": [
    "### 0.2 Data Loading"
   ]
  },
  {
   "cell_type": "code",
   "source": [
    "# titanic\n",
    "path = 'https://raw.githubusercontent.com/DA4BAM/dataset/master/titanic.0.csv'\n",
    "titanic = pd.read_csv(path, usecols = ['Survived','Pclass','Sex','Age','SibSp','Parch','Fare','Cabin','Embarked'])\n",
    "titanic.head()"
   ],
   "metadata": {
    "id": "rCzJVmxuUGWC",
    "pycharm": {
     "name": "#%%\n"
    }
   },
   "execution_count": 61,
   "outputs": [
    {
     "data": {
      "text/plain": "   Survived  Pclass     Sex   Age  SibSp  Parch     Fare Cabin Embarked\n0         0       3    male  22.0      1      0   7.2500   NaN        S\n1         1       1  female  38.0      1      0  71.2833   C85        C\n2         1       3  female  26.0      0      0   7.9250   NaN        S\n3         1       1  female  35.0      1      0  53.1000  C123        S\n4         0       3    male  35.0      0      0   8.0500   NaN        S",
      "text/html": "<div>\n<style scoped>\n    .dataframe tbody tr th:only-of-type {\n        vertical-align: middle;\n    }\n\n    .dataframe tbody tr th {\n        vertical-align: top;\n    }\n\n    .dataframe thead th {\n        text-align: right;\n    }\n</style>\n<table border=\"1\" class=\"dataframe\">\n  <thead>\n    <tr style=\"text-align: right;\">\n      <th></th>\n      <th>Survived</th>\n      <th>Pclass</th>\n      <th>Sex</th>\n      <th>Age</th>\n      <th>SibSp</th>\n      <th>Parch</th>\n      <th>Fare</th>\n      <th>Cabin</th>\n      <th>Embarked</th>\n    </tr>\n  </thead>\n  <tbody>\n    <tr>\n      <th>0</th>\n      <td>0</td>\n      <td>3</td>\n      <td>male</td>\n      <td>22.0</td>\n      <td>1</td>\n      <td>0</td>\n      <td>7.2500</td>\n      <td>NaN</td>\n      <td>S</td>\n    </tr>\n    <tr>\n      <th>1</th>\n      <td>1</td>\n      <td>1</td>\n      <td>female</td>\n      <td>38.0</td>\n      <td>1</td>\n      <td>0</td>\n      <td>71.2833</td>\n      <td>C85</td>\n      <td>C</td>\n    </tr>\n    <tr>\n      <th>2</th>\n      <td>1</td>\n      <td>3</td>\n      <td>female</td>\n      <td>26.0</td>\n      <td>0</td>\n      <td>0</td>\n      <td>7.9250</td>\n      <td>NaN</td>\n      <td>S</td>\n    </tr>\n    <tr>\n      <th>3</th>\n      <td>1</td>\n      <td>1</td>\n      <td>female</td>\n      <td>35.0</td>\n      <td>1</td>\n      <td>0</td>\n      <td>53.1000</td>\n      <td>C123</td>\n      <td>S</td>\n    </tr>\n    <tr>\n      <th>4</th>\n      <td>0</td>\n      <td>3</td>\n      <td>male</td>\n      <td>35.0</td>\n      <td>0</td>\n      <td>0</td>\n      <td>8.0500</td>\n      <td>NaN</td>\n      <td>S</td>\n    </tr>\n  </tbody>\n</table>\n</div>"
     },
     "execution_count": 61,
     "metadata": {},
     "output_type": "execute_result"
    }
   ]
  },
  {
   "cell_type": "code",
   "source": [
    "# airquality\n",
    "path = 'https://raw.githubusercontent.com/DA4BAM/dataset/master/air2.csv'\n",
    "air = pd.read_csv(path)\n",
    "air.head()"
   ],
   "metadata": {
    "id": "YCjsqENyfwtp",
    "pycharm": {
     "name": "#%%\n"
    }
   },
   "execution_count": 62,
   "outputs": [
    {
     "data": {
      "text/plain": "   Ozone  Solar.R  Wind  Temp        Date\n0     41    190.0   7.4    67  1973-05-01\n1     36    118.0   8.0    72  1973-05-02\n2     12    149.0  12.6    74  1973-05-03\n3     18    313.0  11.5    62  1973-05-04\n4     19      NaN  14.3    56  1973-05-05",
      "text/html": "<div>\n<style scoped>\n    .dataframe tbody tr th:only-of-type {\n        vertical-align: middle;\n    }\n\n    .dataframe tbody tr th {\n        vertical-align: top;\n    }\n\n    .dataframe thead th {\n        text-align: right;\n    }\n</style>\n<table border=\"1\" class=\"dataframe\">\n  <thead>\n    <tr style=\"text-align: right;\">\n      <th></th>\n      <th>Ozone</th>\n      <th>Solar.R</th>\n      <th>Wind</th>\n      <th>Temp</th>\n      <th>Date</th>\n    </tr>\n  </thead>\n  <tbody>\n    <tr>\n      <th>0</th>\n      <td>41</td>\n      <td>190.0</td>\n      <td>7.4</td>\n      <td>67</td>\n      <td>1973-05-01</td>\n    </tr>\n    <tr>\n      <th>1</th>\n      <td>36</td>\n      <td>118.0</td>\n      <td>8.0</td>\n      <td>72</td>\n      <td>1973-05-02</td>\n    </tr>\n    <tr>\n      <th>2</th>\n      <td>12</td>\n      <td>149.0</td>\n      <td>12.6</td>\n      <td>74</td>\n      <td>1973-05-03</td>\n    </tr>\n    <tr>\n      <th>3</th>\n      <td>18</td>\n      <td>313.0</td>\n      <td>11.5</td>\n      <td>62</td>\n      <td>1973-05-04</td>\n    </tr>\n    <tr>\n      <th>4</th>\n      <td>19</td>\n      <td>NaN</td>\n      <td>14.3</td>\n      <td>56</td>\n      <td>1973-05-05</td>\n    </tr>\n  </tbody>\n</table>\n</div>"
     },
     "execution_count": 62,
     "metadata": {},
     "output_type": "execute_result"
    }
   ]
  },
  {
   "cell_type": "markdown",
   "source": [
    "## 1.전처리"
   ],
   "metadata": {
    "id": "YIRiMPMmXI4R",
    "pycharm": {
     "name": "#%% md\n"
    }
   }
  },
  {
   "cell_type": "markdown",
   "source": [
    "### 1) 데이터 분할\n",
    "\n",
    "* x, y 분할하기"
   ],
   "metadata": {
    "id": "Xwsf4-xVgCam",
    "pycharm": {
     "name": "#%% md\n"
    }
   }
  },
  {
   "cell_type": "code",
   "source": [
    "target = 'Survived'\n",
    "x = titanic.drop(target, axis = 1)\n",
    "y = titanic.loc[:, target]"
   ],
   "metadata": {
    "id": "IsRwV82-UPhx",
    "pycharm": {
     "name": "#%%\n"
    }
   },
   "execution_count": 63,
   "outputs": []
  },
  {
   "cell_type": "markdown",
   "source": [
    "* train, validation, test 분할은 머신러닝 과정에서 다룹니다."
   ],
   "metadata": {
    "id": "XEa4uvZphL_y",
    "pycharm": {
     "name": "#%% md\n"
    }
   }
  },
  {
   "cell_type": "markdown",
   "source": [
    "### 2) NaN 조치"
   ],
   "metadata": {
    "id": "P9KfDgtzhR-E",
    "pycharm": {
     "name": "#%% md\n"
    }
   }
  },
  {
   "cell_type": "markdown",
   "source": [
    "#### ① 결측치 확인"
   ],
   "metadata": {
    "id": "WNlXZdOHhmFP",
    "pycharm": {
     "name": "#%% md\n"
    }
   }
  },
  {
   "cell_type": "code",
   "source": [
    "x.isna().sum()"
   ],
   "metadata": {
    "id": "SzaaYjgEhRvZ",
    "pycharm": {
     "name": "#%%\n"
    }
   },
   "execution_count": 64,
   "outputs": [
    {
     "data": {
      "text/plain": "Pclass        0\nSex           0\nAge         177\nSibSp         0\nParch         0\nFare          0\nCabin       687\nEmbarked      2\ndtype: int64"
     },
     "execution_count": 64,
     "metadata": {},
     "output_type": "execute_result"
    }
   ]
  },
  {
   "cell_type": "code",
   "source": [
    "plt.figure(figsize = (12,6))\n",
    "sns.heatmap(x.isna())\n",
    "plt.show()"
   ],
   "metadata": {
    "id": "DSMKHrCjhuX-",
    "pycharm": {
     "name": "#%%\n"
    }
   },
   "execution_count": 6,
   "outputs": [
    {
     "data": {
      "text/plain": "<Figure size 864x432 with 2 Axes>",
      "image/png": "[encoded data removed]"
     },
     "metadata": {
      "needs_background": "light"
     },
     "output_type": "display_data"
    }
   ]
  },
  {
   "cell_type": "markdown",
   "source": [
    "#### ② 결측치 제거"
   ],
   "metadata": {
    "id": "pyYZ_ZM9ioDq",
    "pycharm": {
     "name": "#%% md\n"
    }
   }
  },
  {
   "cell_type": "code",
   "source": [
    "temp = x.copy()"
   ],
   "metadata": {
    "id": "JYmkou7mip0O",
    "pycharm": {
     "name": "#%%\n"
    }
   },
   "execution_count": 7,
   "outputs": []
  },
  {
   "cell_type": "code",
   "source": [
    "temp.shape"
   ],
   "metadata": {
    "id": "uUGk4sbljFGr",
    "pycharm": {
     "name": "#%%\n"
    }
   },
   "execution_count": 42,
   "outputs": [
    {
     "data": {
      "text/plain": "(891, 8)"
     },
     "execution_count": 42,
     "metadata": {},
     "output_type": "execute_result"
    }
   ]
  },
  {
   "cell_type": "markdown",
   "source": [
    "* 행 제거"
   ],
   "metadata": {
    "id": "ChHaY-fAi7T7",
    "pycharm": {
     "name": "#%% md\n"
    }
   }
  },
  {
   "cell_type": "code",
   "source": [
    "temp.dropna(axis = 0, inplace = True)\n",
    "temp.isna().sum()"
   ],
   "metadata": {
    "id": "uUyZqVT8iy3J",
    "pycharm": {
     "name": "#%%\n"
    }
   },
   "execution_count": 43,
   "outputs": [
    {
     "data": {
      "text/plain": "Pclass      0\nSex         0\nAge         0\nSibSp       0\nParch       0\nFare        0\nCabin       0\nEmbarked    0\ndtype: int64"
     },
     "execution_count": 43,
     "metadata": {},
     "output_type": "execute_result"
    }
   ]
  },
  {
   "cell_type": "code",
   "source": [
    "temp.shape"
   ],
   "metadata": {
    "id": "YwiFKKzDiyzx",
    "pycharm": {
     "name": "#%%\n"
    }
   },
   "execution_count": 44,
   "outputs": [
    {
     "data": {
      "text/plain": "(183, 8)"
     },
     "execution_count": 44,
     "metadata": {},
     "output_type": "execute_result"
    }
   ]
  },
  {
   "cell_type": "markdown",
   "source": [
    "* 열 제거"
   ],
   "metadata": {
    "id": "DFmBsX4QjMF3",
    "pycharm": {
     "name": "#%% md\n"
    }
   }
  },
  {
   "cell_type": "code",
   "source": [
    "# x에서 Cabin 열을 삭제합시다.\n",
    "\n",
    "# 행,열의 수를 확인하시오.\n"
   ],
   "metadata": {
    "id": "MVJJGVNuiywH",
    "pycharm": {
     "name": "#%%\n"
    }
   },
   "execution_count": 45,
   "outputs": []
  },
  {
   "cell_type": "markdown",
   "source": [
    "#### ③ 결측치 채우기"
   ],
   "metadata": {
    "id": "aULru8J_jvOC",
    "pycharm": {
     "name": "#%% md\n"
    }
   }
  },
  {
   "cell_type": "markdown",
   "source": [
    "* .fillna\n",
    "    * 단일값 : .fillna(0)\n",
    "    * 이전 값, 이후 값 : .fillna(method = 'ffill'),  method = 'bfill'"
   ],
   "metadata": {
    "id": "2zkTt54rkwAx",
    "pycharm": {
     "name": "#%% md\n"
    }
   }
  },
  {
   "cell_type": "code",
   "source": [
    "air"
   ],
   "metadata": {
    "id": "D20KhfjhmA0a",
    "pycharm": {
     "name": "#%%\n"
    }
   },
   "execution_count": 12,
   "outputs": [
    {
     "data": {
      "text/plain": "     Ozone  Solar.R  Wind  Temp        Date\n0       41    190.0   7.4    67  1973-05-01\n1       36    118.0   8.0    72  1973-05-02\n2       12    149.0  12.6    74  1973-05-03\n3       18    313.0  11.5    62  1973-05-04\n4       19      NaN  14.3    56  1973-05-05\n..     ...      ...   ...   ...         ...\n148     30    193.0   6.9    70  1973-09-26\n149     23    145.0  13.2    77  1973-09-27\n150     14    191.0  14.3    75  1973-09-28\n151     18    131.0   8.0    76  1973-09-29\n152     20    223.0  11.5    68  1973-09-30\n\n[153 rows x 5 columns]",
      "text/html": "<div>\n<style scoped>\n    .dataframe tbody tr th:only-of-type {\n        vertical-align: middle;\n    }\n\n    .dataframe tbody tr th {\n        vertical-align: top;\n    }\n\n    .dataframe thead th {\n        text-align: right;\n    }\n</style>\n<table border=\"1\" class=\"dataframe\">\n  <thead>\n    <tr style=\"text-align: right;\">\n      <th></th>\n      <th>Ozone</th>\n      <th>Solar.R</th>\n      <th>Wind</th>\n      <th>Temp</th>\n      <th>Date</th>\n    </tr>\n  </thead>\n  <tbody>\n    <tr>\n      <th>0</th>\n      <td>41</td>\n      <td>190.0</td>\n      <td>7.4</td>\n      <td>67</td>\n      <td>1973-05-01</td>\n    </tr>\n    <tr>\n      <th>1</th>\n      <td>36</td>\n      <td>118.0</td>\n      <td>8.0</td>\n      <td>72</td>\n      <td>1973-05-02</td>\n    </tr>\n    <tr>\n      <th>2</th>\n      <td>12</td>\n      <td>149.0</td>\n      <td>12.6</td>\n      <td>74</td>\n      <td>1973-05-03</td>\n    </tr>\n    <tr>\n      <th>3</th>\n      <td>18</td>\n      <td>313.0</td>\n      <td>11.5</td>\n      <td>62</td>\n      <td>1973-05-04</td>\n    </tr>\n    <tr>\n      <th>4</th>\n      <td>19</td>\n      <td>NaN</td>\n      <td>14.3</td>\n      <td>56</td>\n      <td>1973-05-05</td>\n    </tr>\n    <tr>\n      <th>...</th>\n      <td>...</td>\n      <td>...</td>\n      <td>...</td>\n      <td>...</td>\n      <td>...</td>\n    </tr>\n    <tr>\n      <th>148</th>\n      <td>30</td>\n      <td>193.0</td>\n      <td>6.9</td>\n      <td>70</td>\n      <td>1973-09-26</td>\n    </tr>\n    <tr>\n      <th>149</th>\n      <td>23</td>\n      <td>145.0</td>\n      <td>13.2</td>\n      <td>77</td>\n      <td>1973-09-27</td>\n    </tr>\n    <tr>\n      <th>150</th>\n      <td>14</td>\n      <td>191.0</td>\n      <td>14.3</td>\n      <td>75</td>\n      <td>1973-09-28</td>\n    </tr>\n    <tr>\n      <th>151</th>\n      <td>18</td>\n      <td>131.0</td>\n      <td>8.0</td>\n      <td>76</td>\n      <td>1973-09-29</td>\n    </tr>\n    <tr>\n      <th>152</th>\n      <td>20</td>\n      <td>223.0</td>\n      <td>11.5</td>\n      <td>68</td>\n      <td>1973-09-30</td>\n    </tr>\n  </tbody>\n</table>\n<p>153 rows × 5 columns</p>\n</div>"
     },
     "execution_count": 12,
     "metadata": {},
     "output_type": "execute_result"
    }
   ]
  },
  {
   "cell_type": "code",
   "source": [
    "temp = air.copy()\n",
    "temp.head(7)"
   ],
   "metadata": {
    "id": "yaHiQ1OelO6R",
    "pycharm": {
     "name": "#%%\n"
    }
   },
   "execution_count": 13,
   "outputs": [
    {
     "data": {
      "text/plain": "   Ozone  Solar.R  Wind  Temp        Date\n0     41    190.0   7.4    67  1973-05-01\n1     36    118.0   8.0    72  1973-05-02\n2     12    149.0  12.6    74  1973-05-03\n3     18    313.0  11.5    62  1973-05-04\n4     19      NaN  14.3    56  1973-05-05\n5     28      NaN  14.9    66  1973-05-06\n6     23    299.0   8.6    65  1973-05-07",
      "text/html": "<div>\n<style scoped>\n    .dataframe tbody tr th:only-of-type {\n        vertical-align: middle;\n    }\n\n    .dataframe tbody tr th {\n        vertical-align: top;\n    }\n\n    .dataframe thead th {\n        text-align: right;\n    }\n</style>\n<table border=\"1\" class=\"dataframe\">\n  <thead>\n    <tr style=\"text-align: right;\">\n      <th></th>\n      <th>Ozone</th>\n      <th>Solar.R</th>\n      <th>Wind</th>\n      <th>Temp</th>\n      <th>Date</th>\n    </tr>\n  </thead>\n  <tbody>\n    <tr>\n      <th>0</th>\n      <td>41</td>\n      <td>190.0</td>\n      <td>7.4</td>\n      <td>67</td>\n      <td>1973-05-01</td>\n    </tr>\n    <tr>\n      <th>1</th>\n      <td>36</td>\n      <td>118.0</td>\n      <td>8.0</td>\n      <td>72</td>\n      <td>1973-05-02</td>\n    </tr>\n    <tr>\n      <th>2</th>\n      <td>12</td>\n      <td>149.0</td>\n      <td>12.6</td>\n      <td>74</td>\n      <td>1973-05-03</td>\n    </tr>\n    <tr>\n      <th>3</th>\n      <td>18</td>\n      <td>313.0</td>\n      <td>11.5</td>\n      <td>62</td>\n      <td>1973-05-04</td>\n    </tr>\n    <tr>\n      <th>4</th>\n      <td>19</td>\n      <td>NaN</td>\n      <td>14.3</td>\n      <td>56</td>\n      <td>1973-05-05</td>\n    </tr>\n    <tr>\n      <th>5</th>\n      <td>28</td>\n      <td>NaN</td>\n      <td>14.9</td>\n      <td>66</td>\n      <td>1973-05-06</td>\n    </tr>\n    <tr>\n      <th>6</th>\n      <td>23</td>\n      <td>299.0</td>\n      <td>8.6</td>\n      <td>65</td>\n      <td>1973-05-07</td>\n    </tr>\n  </tbody>\n</table>\n</div>"
     },
     "execution_count": 13,
     "metadata": {},
     "output_type": "execute_result"
    }
   ]
  },
  {
   "cell_type": "markdown",
   "source": [
    "* 단일값으로 채우기"
   ],
   "metadata": {
    "id": "Q2rCN7HNlZp7",
    "pycharm": {
     "name": "#%% md\n"
    }
   }
  },
  {
   "cell_type": "code",
   "source": [
    "# 단일값으로 채우는 것처럼 조회\n",
    "temp.fillna(0).head(7)"
   ],
   "metadata": {
    "id": "uzD9AXWrlZD-",
    "pycharm": {
     "name": "#%%\n"
    }
   },
   "execution_count": 48,
   "outputs": [
    {
     "data": {
      "text/plain": "   Ozone  Solar.R  Wind  Temp        Date\n0     41    190.0   7.4    67  1973-05-01\n1     36    118.0   8.0    72  1973-05-02\n2     12    149.0  12.6    74  1973-05-03\n3     18    313.0  11.5    62  1973-05-04\n4     19      0.0  14.3    56  1973-05-05\n5     28      0.0  14.9    66  1973-05-06\n6     23    299.0   8.6    65  1973-05-07",
      "text/html": "<div>\n<style scoped>\n    .dataframe tbody tr th:only-of-type {\n        vertical-align: middle;\n    }\n\n    .dataframe tbody tr th {\n        vertical-align: top;\n    }\n\n    .dataframe thead th {\n        text-align: right;\n    }\n</style>\n<table border=\"1\" class=\"dataframe\">\n  <thead>\n    <tr style=\"text-align: right;\">\n      <th></th>\n      <th>Ozone</th>\n      <th>Solar.R</th>\n      <th>Wind</th>\n      <th>Temp</th>\n      <th>Date</th>\n    </tr>\n  </thead>\n  <tbody>\n    <tr>\n      <th>0</th>\n      <td>41</td>\n      <td>190.0</td>\n      <td>7.4</td>\n      <td>67</td>\n      <td>1973-05-01</td>\n    </tr>\n    <tr>\n      <th>1</th>\n      <td>36</td>\n      <td>118.0</td>\n      <td>8.0</td>\n      <td>72</td>\n      <td>1973-05-02</td>\n    </tr>\n    <tr>\n      <th>2</th>\n      <td>12</td>\n      <td>149.0</td>\n      <td>12.6</td>\n      <td>74</td>\n      <td>1973-05-03</td>\n    </tr>\n    <tr>\n      <th>3</th>\n      <td>18</td>\n      <td>313.0</td>\n      <td>11.5</td>\n      <td>62</td>\n      <td>1973-05-04</td>\n    </tr>\n    <tr>\n      <th>4</th>\n      <td>19</td>\n      <td>0.0</td>\n      <td>14.3</td>\n      <td>56</td>\n      <td>1973-05-05</td>\n    </tr>\n    <tr>\n      <th>5</th>\n      <td>28</td>\n      <td>0.0</td>\n      <td>14.9</td>\n      <td>66</td>\n      <td>1973-05-06</td>\n    </tr>\n    <tr>\n      <th>6</th>\n      <td>23</td>\n      <td>299.0</td>\n      <td>8.6</td>\n      <td>65</td>\n      <td>1973-05-07</td>\n    </tr>\n  </tbody>\n</table>\n</div>"
     },
     "execution_count": 48,
     "metadata": {},
     "output_type": "execute_result"
    }
   ]
  },
  {
   "cell_type": "code",
   "source": [
    "temp.head(7)"
   ],
   "metadata": {
    "id": "x_zSXWyTmMHI",
    "pycharm": {
     "name": "#%%\n"
    }
   },
   "execution_count": 49,
   "outputs": [
    {
     "data": {
      "text/plain": "   Ozone  Solar.R  Wind  Temp        Date\n0     41    190.0   7.4    67  1973-05-01\n1     36    118.0   8.0    72  1973-05-02\n2     12    149.0  12.6    74  1973-05-03\n3     18    313.0  11.5    62  1973-05-04\n4     19      NaN  14.3    56  1973-05-05\n5     28      NaN  14.9    66  1973-05-06\n6     23    299.0   8.6    65  1973-05-07",
      "text/html": "<div>\n<style scoped>\n    .dataframe tbody tr th:only-of-type {\n        vertical-align: middle;\n    }\n\n    .dataframe tbody tr th {\n        vertical-align: top;\n    }\n\n    .dataframe thead th {\n        text-align: right;\n    }\n</style>\n<table border=\"1\" class=\"dataframe\">\n  <thead>\n    <tr style=\"text-align: right;\">\n      <th></th>\n      <th>Ozone</th>\n      <th>Solar.R</th>\n      <th>Wind</th>\n      <th>Temp</th>\n      <th>Date</th>\n    </tr>\n  </thead>\n  <tbody>\n    <tr>\n      <th>0</th>\n      <td>41</td>\n      <td>190.0</td>\n      <td>7.4</td>\n      <td>67</td>\n      <td>1973-05-01</td>\n    </tr>\n    <tr>\n      <th>1</th>\n      <td>36</td>\n      <td>118.0</td>\n      <td>8.0</td>\n      <td>72</td>\n      <td>1973-05-02</td>\n    </tr>\n    <tr>\n      <th>2</th>\n      <td>12</td>\n      <td>149.0</td>\n      <td>12.6</td>\n      <td>74</td>\n      <td>1973-05-03</td>\n    </tr>\n    <tr>\n      <th>3</th>\n      <td>18</td>\n      <td>313.0</td>\n      <td>11.5</td>\n      <td>62</td>\n      <td>1973-05-04</td>\n    </tr>\n    <tr>\n      <th>4</th>\n      <td>19</td>\n      <td>NaN</td>\n      <td>14.3</td>\n      <td>56</td>\n      <td>1973-05-05</td>\n    </tr>\n    <tr>\n      <th>5</th>\n      <td>28</td>\n      <td>NaN</td>\n      <td>14.9</td>\n      <td>66</td>\n      <td>1973-05-06</td>\n    </tr>\n    <tr>\n      <th>6</th>\n      <td>23</td>\n      <td>299.0</td>\n      <td>8.6</td>\n      <td>65</td>\n      <td>1973-05-07</td>\n    </tr>\n  </tbody>\n</table>\n</div>"
     },
     "execution_count": 49,
     "metadata": {},
     "output_type": "execute_result"
    }
   ]
  },
  {
   "cell_type": "code",
   "source": [
    "# 단일값으로 진짜 채우기\n",
    "temp.fillna(0, inplace = True)\n",
    "temp.head(7)"
   ],
   "metadata": {
    "id": "MGLyuiFjlkUO",
    "pycharm": {
     "name": "#%%\n"
    }
   },
   "execution_count": 50,
   "outputs": [
    {
     "data": {
      "text/plain": "   Ozone  Solar.R  Wind  Temp        Date\n0     41    190.0   7.4    67  1973-05-01\n1     36    118.0   8.0    72  1973-05-02\n2     12    149.0  12.6    74  1973-05-03\n3     18    313.0  11.5    62  1973-05-04\n4     19      0.0  14.3    56  1973-05-05\n5     28      0.0  14.9    66  1973-05-06\n6     23    299.0   8.6    65  1973-05-07",
      "text/html": "<div>\n<style scoped>\n    .dataframe tbody tr th:only-of-type {\n        vertical-align: middle;\n    }\n\n    .dataframe tbody tr th {\n        vertical-align: top;\n    }\n\n    .dataframe thead th {\n        text-align: right;\n    }\n</style>\n<table border=\"1\" class=\"dataframe\">\n  <thead>\n    <tr style=\"text-align: right;\">\n      <th></th>\n      <th>Ozone</th>\n      <th>Solar.R</th>\n      <th>Wind</th>\n      <th>Temp</th>\n      <th>Date</th>\n    </tr>\n  </thead>\n  <tbody>\n    <tr>\n      <th>0</th>\n      <td>41</td>\n      <td>190.0</td>\n      <td>7.4</td>\n      <td>67</td>\n      <td>1973-05-01</td>\n    </tr>\n    <tr>\n      <th>1</th>\n      <td>36</td>\n      <td>118.0</td>\n      <td>8.0</td>\n      <td>72</td>\n      <td>1973-05-02</td>\n    </tr>\n    <tr>\n      <th>2</th>\n      <td>12</td>\n      <td>149.0</td>\n      <td>12.6</td>\n      <td>74</td>\n      <td>1973-05-03</td>\n    </tr>\n    <tr>\n      <th>3</th>\n      <td>18</td>\n      <td>313.0</td>\n      <td>11.5</td>\n      <td>62</td>\n      <td>1973-05-04</td>\n    </tr>\n    <tr>\n      <th>4</th>\n      <td>19</td>\n      <td>0.0</td>\n      <td>14.3</td>\n      <td>56</td>\n      <td>1973-05-05</td>\n    </tr>\n    <tr>\n      <th>5</th>\n      <td>28</td>\n      <td>0.0</td>\n      <td>14.9</td>\n      <td>66</td>\n      <td>1973-05-06</td>\n    </tr>\n    <tr>\n      <th>6</th>\n      <td>23</td>\n      <td>299.0</td>\n      <td>8.6</td>\n      <td>65</td>\n      <td>1973-05-07</td>\n    </tr>\n  </tbody>\n</table>\n</div>"
     },
     "execution_count": 50,
     "metadata": {},
     "output_type": "execute_result"
    }
   ]
  },
  {
   "cell_type": "markdown",
   "source": [
    "* 이전값, 이후값으로 채우기"
   ],
   "metadata": {
    "id": "oRE0HO9GluBd",
    "pycharm": {
     "name": "#%% md\n"
    }
   }
  },
  {
   "cell_type": "code",
   "source": [
    "temp = air.copy()\n",
    "temp[temp['Solar.R'].isna()]"
   ],
   "metadata": {
    "id": "vYVHp-YKl2pS",
    "pycharm": {
     "name": "#%%\n"
    }
   },
   "execution_count": 25,
   "outputs": [
    {
     "data": {
      "text/plain": "    Ozone  Solar.R  Wind  Temp        Date\n4      19      NaN  14.3    56  1973-05-05\n5      28      NaN  14.9    66  1973-05-06\n10      7      NaN   6.9    74  1973-05-11\n26     15      NaN   8.0    57  1973-05-27\n95     78      NaN   6.9    86  1973-08-04\n96     35      NaN   7.4    85  1973-08-05\n97     66      NaN   4.6    87  1973-08-06",
      "text/html": "<div>\n<style scoped>\n    .dataframe tbody tr th:only-of-type {\n        vertical-align: middle;\n    }\n\n    .dataframe tbody tr th {\n        vertical-align: top;\n    }\n\n    .dataframe thead th {\n        text-align: right;\n    }\n</style>\n<table border=\"1\" class=\"dataframe\">\n  <thead>\n    <tr style=\"text-align: right;\">\n      <th></th>\n      <th>Ozone</th>\n      <th>Solar.R</th>\n      <th>Wind</th>\n      <th>Temp</th>\n      <th>Date</th>\n    </tr>\n  </thead>\n  <tbody>\n    <tr>\n      <th>4</th>\n      <td>19</td>\n      <td>NaN</td>\n      <td>14.3</td>\n      <td>56</td>\n      <td>1973-05-05</td>\n    </tr>\n    <tr>\n      <th>5</th>\n      <td>28</td>\n      <td>NaN</td>\n      <td>14.9</td>\n      <td>66</td>\n      <td>1973-05-06</td>\n    </tr>\n    <tr>\n      <th>10</th>\n      <td>7</td>\n      <td>NaN</td>\n      <td>6.9</td>\n      <td>74</td>\n      <td>1973-05-11</td>\n    </tr>\n    <tr>\n      <th>26</th>\n      <td>15</td>\n      <td>NaN</td>\n      <td>8.0</td>\n      <td>57</td>\n      <td>1973-05-27</td>\n    </tr>\n    <tr>\n      <th>95</th>\n      <td>78</td>\n      <td>NaN</td>\n      <td>6.9</td>\n      <td>86</td>\n      <td>1973-08-04</td>\n    </tr>\n    <tr>\n      <th>96</th>\n      <td>35</td>\n      <td>NaN</td>\n      <td>7.4</td>\n      <td>85</td>\n      <td>1973-08-05</td>\n    </tr>\n    <tr>\n      <th>97</th>\n      <td>66</td>\n      <td>NaN</td>\n      <td>4.6</td>\n      <td>87</td>\n      <td>1973-08-06</td>\n    </tr>\n  </tbody>\n</table>\n</div>"
     },
     "execution_count": 25,
     "metadata": {},
     "output_type": "execute_result"
    }
   ]
  },
  {
   "cell_type": "code",
   "source": [
    "# 이전 값으로 채우기\n",
    "temp.fillna(method = 'ffill')[temp['Solar.R'].isna()]"
   ],
   "metadata": {
    "id": "y_SjByDClyHj",
    "pycharm": {
     "name": "#%%\n"
    }
   },
   "execution_count": 29,
   "outputs": [
    {
     "data": {
      "text/plain": "    Ozone  Solar.R  Wind  Temp        Date\n4      19    313.0  14.3    56  1973-05-05\n5      28    313.0  14.9    66  1973-05-06\n10      7    194.0   6.9    74  1973-05-11\n26     15    266.0   8.0    57  1973-05-27\n95     78     77.0   6.9    86  1973-08-04\n96     35     77.0   7.4    85  1973-08-05\n97     66     77.0   4.6    87  1973-08-06",
      "text/html": "<div>\n<style scoped>\n    .dataframe tbody tr th:only-of-type {\n        vertical-align: middle;\n    }\n\n    .dataframe tbody tr th {\n        vertical-align: top;\n    }\n\n    .dataframe thead th {\n        text-align: right;\n    }\n</style>\n<table border=\"1\" class=\"dataframe\">\n  <thead>\n    <tr style=\"text-align: right;\">\n      <th></th>\n      <th>Ozone</th>\n      <th>Solar.R</th>\n      <th>Wind</th>\n      <th>Temp</th>\n      <th>Date</th>\n    </tr>\n  </thead>\n  <tbody>\n    <tr>\n      <th>4</th>\n      <td>19</td>\n      <td>313.0</td>\n      <td>14.3</td>\n      <td>56</td>\n      <td>1973-05-05</td>\n    </tr>\n    <tr>\n      <th>5</th>\n      <td>28</td>\n      <td>313.0</td>\n      <td>14.9</td>\n      <td>66</td>\n      <td>1973-05-06</td>\n    </tr>\n    <tr>\n      <th>10</th>\n      <td>7</td>\n      <td>194.0</td>\n      <td>6.9</td>\n      <td>74</td>\n      <td>1973-05-11</td>\n    </tr>\n    <tr>\n      <th>26</th>\n      <td>15</td>\n      <td>266.0</td>\n      <td>8.0</td>\n      <td>57</td>\n      <td>1973-05-27</td>\n    </tr>\n    <tr>\n      <th>95</th>\n      <td>78</td>\n      <td>77.0</td>\n      <td>6.9</td>\n      <td>86</td>\n      <td>1973-08-04</td>\n    </tr>\n    <tr>\n      <th>96</th>\n      <td>35</td>\n      <td>77.0</td>\n      <td>7.4</td>\n      <td>85</td>\n      <td>1973-08-05</td>\n    </tr>\n    <tr>\n      <th>97</th>\n      <td>66</td>\n      <td>77.0</td>\n      <td>4.6</td>\n      <td>87</td>\n      <td>1973-08-06</td>\n    </tr>\n  </tbody>\n</table>\n</div>"
     },
     "execution_count": 29,
     "metadata": {},
     "output_type": "execute_result"
    }
   ]
  },
  {
   "cell_type": "code",
   "source": [
    "# 이후 값으로 채우기\n",
    "\n",
    "temp.fillna(method = 'bfill')[temp['Solar.R'].isna()]"
   ],
   "metadata": {
    "id": "OSnmfWOjmYLh",
    "pycharm": {
     "name": "#%%\n"
    }
   },
   "execution_count": 30,
   "outputs": [
    {
     "data": {
      "text/plain": "    Ozone  Solar.R  Wind  Temp        Date\n4      19    299.0  14.3    56  1973-05-05\n5      28    299.0  14.9    66  1973-05-06\n10      7    256.0   6.9    74  1973-05-11\n26     15     13.0   8.0    57  1973-05-27\n95     78    255.0   6.9    86  1973-08-04\n96     35    255.0   7.4    85  1973-08-05\n97     66    255.0   4.6    87  1973-08-06",
      "text/html": "<div>\n<style scoped>\n    .dataframe tbody tr th:only-of-type {\n        vertical-align: middle;\n    }\n\n    .dataframe tbody tr th {\n        vertical-align: top;\n    }\n\n    .dataframe thead th {\n        text-align: right;\n    }\n</style>\n<table border=\"1\" class=\"dataframe\">\n  <thead>\n    <tr style=\"text-align: right;\">\n      <th></th>\n      <th>Ozone</th>\n      <th>Solar.R</th>\n      <th>Wind</th>\n      <th>Temp</th>\n      <th>Date</th>\n    </tr>\n  </thead>\n  <tbody>\n    <tr>\n      <th>4</th>\n      <td>19</td>\n      <td>299.0</td>\n      <td>14.3</td>\n      <td>56</td>\n      <td>1973-05-05</td>\n    </tr>\n    <tr>\n      <th>5</th>\n      <td>28</td>\n      <td>299.0</td>\n      <td>14.9</td>\n      <td>66</td>\n      <td>1973-05-06</td>\n    </tr>\n    <tr>\n      <th>10</th>\n      <td>7</td>\n      <td>256.0</td>\n      <td>6.9</td>\n      <td>74</td>\n      <td>1973-05-11</td>\n    </tr>\n    <tr>\n      <th>26</th>\n      <td>15</td>\n      <td>13.0</td>\n      <td>8.0</td>\n      <td>57</td>\n      <td>1973-05-27</td>\n    </tr>\n    <tr>\n      <th>95</th>\n      <td>78</td>\n      <td>255.0</td>\n      <td>6.9</td>\n      <td>86</td>\n      <td>1973-08-04</td>\n    </tr>\n    <tr>\n      <th>96</th>\n      <td>35</td>\n      <td>255.0</td>\n      <td>7.4</td>\n      <td>85</td>\n      <td>1973-08-05</td>\n    </tr>\n    <tr>\n      <th>97</th>\n      <td>66</td>\n      <td>255.0</td>\n      <td>4.6</td>\n      <td>87</td>\n      <td>1973-08-06</td>\n    </tr>\n  </tbody>\n</table>\n</div>"
     },
     "execution_count": 30,
     "metadata": {},
     "output_type": "execute_result"
    }
   ]
  },
  {
   "cell_type": "markdown",
   "source": [
    "* 전,후 사이값으로 채우기 \n",
    "    * .interpolate(method = 'linear')"
   ],
   "metadata": {
    "id": "7k6CHvulmd2W",
    "pycharm": {
     "name": "#%% md\n"
    }
   }
  },
  {
   "cell_type": "code",
   "source": [
    "temp.interpolate(method='linear')[temp['Solar.R'].isna()]"
   ],
   "metadata": {
    "id": "uxyqtBdDmmmD",
    "pycharm": {
     "name": "#%%\n"
    }
   },
   "execution_count": 31,
   "outputs": [
    {
     "data": {
      "text/plain": "    Ozone     Solar.R  Wind  Temp        Date\n4      19  308.333333  14.3    56  1973-05-05\n5      28  303.666667  14.9    66  1973-05-06\n10      7  225.000000   6.9    74  1973-05-11\n26     15  139.500000   8.0    57  1973-05-27\n95     78  121.500000   6.9    86  1973-08-04\n96     35  166.000000   7.4    85  1973-08-05\n97     66  210.500000   4.6    87  1973-08-06",
      "text/html": "<div>\n<style scoped>\n    .dataframe tbody tr th:only-of-type {\n        vertical-align: middle;\n    }\n\n    .dataframe tbody tr th {\n        vertical-align: top;\n    }\n\n    .dataframe thead th {\n        text-align: right;\n    }\n</style>\n<table border=\"1\" class=\"dataframe\">\n  <thead>\n    <tr style=\"text-align: right;\">\n      <th></th>\n      <th>Ozone</th>\n      <th>Solar.R</th>\n      <th>Wind</th>\n      <th>Temp</th>\n      <th>Date</th>\n    </tr>\n  </thead>\n  <tbody>\n    <tr>\n      <th>4</th>\n      <td>19</td>\n      <td>308.333333</td>\n      <td>14.3</td>\n      <td>56</td>\n      <td>1973-05-05</td>\n    </tr>\n    <tr>\n      <th>5</th>\n      <td>28</td>\n      <td>303.666667</td>\n      <td>14.9</td>\n      <td>66</td>\n      <td>1973-05-06</td>\n    </tr>\n    <tr>\n      <th>10</th>\n      <td>7</td>\n      <td>225.000000</td>\n      <td>6.9</td>\n      <td>74</td>\n      <td>1973-05-11</td>\n    </tr>\n    <tr>\n      <th>26</th>\n      <td>15</td>\n      <td>139.500000</td>\n      <td>8.0</td>\n      <td>57</td>\n      <td>1973-05-27</td>\n    </tr>\n    <tr>\n      <th>95</th>\n      <td>78</td>\n      <td>121.500000</td>\n      <td>6.9</td>\n      <td>86</td>\n      <td>1973-08-04</td>\n    </tr>\n    <tr>\n      <th>96</th>\n      <td>35</td>\n      <td>166.000000</td>\n      <td>7.4</td>\n      <td>85</td>\n      <td>1973-08-05</td>\n    </tr>\n    <tr>\n      <th>97</th>\n      <td>66</td>\n      <td>210.500000</td>\n      <td>4.6</td>\n      <td>87</td>\n      <td>1973-08-06</td>\n    </tr>\n  </tbody>\n</table>\n</div>"
     },
     "execution_count": 31,
     "metadata": {},
     "output_type": "execute_result"
    }
   ]
  },
  {
   "cell_type": "markdown",
   "source": [
    "* x 에서 값 채우기\n",
    "    * Age에 대해 평균값으로, x['Age'].mean()\n",
    "    * Embarked에 대해 최빈값으로 채워 봅시다. x['Embarked'].mode()"
   ],
   "metadata": {
    "id": "JSgGKU3tskxp",
    "pycharm": {
     "name": "#%% md\n"
    }
   }
  },
  {
   "cell_type": "code",
   "execution_count": 65,
   "outputs": [
    {
     "data": {
      "text/plain": "Pclass        0\nSex           0\nAge         177\nSibSp         0\nParch         0\nFare          0\nCabin       687\nEmbarked      2\ndtype: int64"
     },
     "execution_count": 65,
     "metadata": {},
     "output_type": "execute_result"
    }
   ],
   "source": [
    "x.isnull().sum()"
   ],
   "metadata": {
    "collapsed": false,
    "pycharm": {
     "name": "#%%\n"
    }
   }
  },
  {
   "cell_type": "code",
   "source": [
    "x['Age'].fillna(x['Age'].mean(), inplace=True)"
   ],
   "metadata": {
    "id": "Oc_weFdjtKo2",
    "pycharm": {
     "name": "#%%\n"
    }
   },
   "execution_count": 66,
   "outputs": []
  },
  {
   "cell_type": "code",
   "source": [
    "x['Embarked'].mode()[0]"
   ],
   "metadata": {
    "id": "10TgUL2AtK8v",
    "pycharm": {
     "name": "#%%\n"
    }
   },
   "execution_count": 67,
   "outputs": [
    {
     "data": {
      "text/plain": "'S'"
     },
     "execution_count": 67,
     "metadata": {},
     "output_type": "execute_result"
    }
   ]
  },
  {
   "cell_type": "code",
   "source": [
    "x['Embarked'].fillna(x['Embarked'].mode()[0], inplace=True)"
   ],
   "metadata": {
    "id": "0Q3g0eqhtLBA",
    "pycharm": {
     "name": "#%%\n"
    }
   },
   "execution_count": 68,
   "outputs": []
  },
  {
   "cell_type": "markdown",
   "source": [
    "### 3) 가변수화"
   ],
   "metadata": {
    "id": "FNWJ2nffmsyv",
    "pycharm": {
     "name": "#%% md\n"
    }
   }
  },
  {
   "cell_type": "markdown",
   "source": [
    "* 모델링을 위해서 모든 데이터 값은 숫자 여야 합니다.\n",
    "* 숫자 형식이 아니라 의미상 숫자\n",
    "    * 타이타닉 데이터의 pclass(객실등급)가 1,2,3 입니다. 이는 숫자 형식이지만 숫자의 의미는 아닙니다. (3등급 객실의 3이 1등급 객실의 1에 3배의 의미는 아니라는 말입니다.)\n",
    "* 그러므로 모든 범주형 변수는 모두 (이미 0,1로 되어 있는 변수를 빼고) 가변수화를 수행해야 합니다."
   ],
   "metadata": {
    "id": "MYUDcLmMpKjC",
    "pycharm": {
     "name": "#%% md\n"
    }
   }
  },
  {
   "cell_type": "code",
   "source": [
    "x.head()"
   ],
   "metadata": {
    "id": "X19zdyZqp0Bd",
    "pycharm": {
     "name": "#%%\n"
    }
   },
   "execution_count": 69,
   "outputs": [
    {
     "data": {
      "text/plain": "   Pclass     Sex   Age  SibSp  Parch     Fare Cabin Embarked\n0       3    male  22.0      1      0   7.2500   NaN        S\n1       1  female  38.0      1      0  71.2833   C85        C\n2       3  female  26.0      0      0   7.9250   NaN        S\n3       1  female  35.0      1      0  53.1000  C123        S\n4       3    male  35.0      0      0   8.0500   NaN        S",
      "text/html": "<div>\n<style scoped>\n    .dataframe tbody tr th:only-of-type {\n        vertical-align: middle;\n    }\n\n    .dataframe tbody tr th {\n        vertical-align: top;\n    }\n\n    .dataframe thead th {\n        text-align: right;\n    }\n</style>\n<table border=\"1\" class=\"dataframe\">\n  <thead>\n    <tr style=\"text-align: right;\">\n      <th></th>\n      <th>Pclass</th>\n      <th>Sex</th>\n      <th>Age</th>\n      <th>SibSp</th>\n      <th>Parch</th>\n      <th>Fare</th>\n      <th>Cabin</th>\n      <th>Embarked</th>\n    </tr>\n  </thead>\n  <tbody>\n    <tr>\n      <th>0</th>\n      <td>3</td>\n      <td>male</td>\n      <td>22.0</td>\n      <td>1</td>\n      <td>0</td>\n      <td>7.2500</td>\n      <td>NaN</td>\n      <td>S</td>\n    </tr>\n    <tr>\n      <th>1</th>\n      <td>1</td>\n      <td>female</td>\n      <td>38.0</td>\n      <td>1</td>\n      <td>0</td>\n      <td>71.2833</td>\n      <td>C85</td>\n      <td>C</td>\n    </tr>\n    <tr>\n      <th>2</th>\n      <td>3</td>\n      <td>female</td>\n      <td>26.0</td>\n      <td>0</td>\n      <td>0</td>\n      <td>7.9250</td>\n      <td>NaN</td>\n      <td>S</td>\n    </tr>\n    <tr>\n      <th>3</th>\n      <td>1</td>\n      <td>female</td>\n      <td>35.0</td>\n      <td>1</td>\n      <td>0</td>\n      <td>53.1000</td>\n      <td>C123</td>\n      <td>S</td>\n    </tr>\n    <tr>\n      <th>4</th>\n      <td>3</td>\n      <td>male</td>\n      <td>35.0</td>\n      <td>0</td>\n      <td>0</td>\n      <td>8.0500</td>\n      <td>NaN</td>\n      <td>S</td>\n    </tr>\n  </tbody>\n</table>\n</div>"
     },
     "execution_count": 69,
     "metadata": {},
     "output_type": "execute_result"
    }
   ]
  },
  {
   "cell_type": "code",
   "source": [
    "col_dumm = ['Pclass', 'Sex', 'Embarked']\n",
    "x = pd.get_dummies(x, columns = col_dumm, drop_first = True)\n",
    "x.head()"
   ],
   "metadata": {
    "id": "adCg5Of0mubD",
    "pycharm": {
     "name": "#%%\n"
    }
   },
   "execution_count": 70,
   "outputs": [
    {
     "data": {
      "text/plain": "    Age  SibSp  Parch     Fare Cabin  Pclass_2  Pclass_3  Sex_male  \\\n0  22.0      1      0   7.2500   NaN         0         1         1   \n1  38.0      1      0  71.2833   C85         0         0         0   \n2  26.0      0      0   7.9250   NaN         0         1         0   \n3  35.0      1      0  53.1000  C123         0         0         0   \n4  35.0      0      0   8.0500   NaN         0         1         1   \n\n   Embarked_Q  Embarked_S  \n0           0           1  \n1           0           0  \n2           0           1  \n3           0           1  \n4           0           1  ",
      "text/html": "<div>\n<style scoped>\n    .dataframe tbody tr th:only-of-type {\n        vertical-align: middle;\n    }\n\n    .dataframe tbody tr th {\n        vertical-align: top;\n    }\n\n    .dataframe thead th {\n        text-align: right;\n    }\n</style>\n<table border=\"1\" class=\"dataframe\">\n  <thead>\n    <tr style=\"text-align: right;\">\n      <th></th>\n      <th>Age</th>\n      <th>SibSp</th>\n      <th>Parch</th>\n      <th>Fare</th>\n      <th>Cabin</th>\n      <th>Pclass_2</th>\n      <th>Pclass_3</th>\n      <th>Sex_male</th>\n      <th>Embarked_Q</th>\n      <th>Embarked_S</th>\n    </tr>\n  </thead>\n  <tbody>\n    <tr>\n      <th>0</th>\n      <td>22.0</td>\n      <td>1</td>\n      <td>0</td>\n      <td>7.2500</td>\n      <td>NaN</td>\n      <td>0</td>\n      <td>1</td>\n      <td>1</td>\n      <td>0</td>\n      <td>1</td>\n    </tr>\n    <tr>\n      <th>1</th>\n      <td>38.0</td>\n      <td>1</td>\n      <td>0</td>\n      <td>71.2833</td>\n      <td>C85</td>\n      <td>0</td>\n      <td>0</td>\n      <td>0</td>\n      <td>0</td>\n      <td>0</td>\n    </tr>\n    <tr>\n      <th>2</th>\n      <td>26.0</td>\n      <td>0</td>\n      <td>0</td>\n      <td>7.9250</td>\n      <td>NaN</td>\n      <td>0</td>\n      <td>1</td>\n      <td>0</td>\n      <td>0</td>\n      <td>1</td>\n    </tr>\n    <tr>\n      <th>3</th>\n      <td>35.0</td>\n      <td>1</td>\n      <td>0</td>\n      <td>53.1000</td>\n      <td>C123</td>\n      <td>0</td>\n      <td>0</td>\n      <td>0</td>\n      <td>0</td>\n      <td>1</td>\n    </tr>\n    <tr>\n      <th>4</th>\n      <td>35.0</td>\n      <td>0</td>\n      <td>0</td>\n      <td>8.0500</td>\n      <td>NaN</td>\n      <td>0</td>\n      <td>1</td>\n      <td>1</td>\n      <td>0</td>\n      <td>1</td>\n    </tr>\n  </tbody>\n</table>\n</div>"
     },
     "execution_count": 70,
     "metadata": {},
     "output_type": "execute_result"
    }
   ]
  },
  {
   "cell_type": "markdown",
   "source": [
    "* drop_first = True : 가변수화 시, 첫번째 범주 열은 삭제. ==> 하나를 빼도 모든 범주 표현 가능."
   ],
   "metadata": {
    "id": "a0eLIQl4qgdo",
    "pycharm": {
     "name": "#%% md\n"
    }
   }
  },
  {
   "cell_type": "markdown",
   "source": [
    "### 4) 스케일링\n"
   ],
   "metadata": {
    "id": "Rvc_oO8jqtwP",
    "pycharm": {
     "name": "#%% md\n"
    }
   }
  },
  {
   "cell_type": "code",
   "source": [
    "from sklearn.preprocessing import MinMaxScaler, StandardScaler"
   ],
   "metadata": {
    "id": "0nXYyqWSqyBV",
    "pycharm": {
     "name": "#%%\n"
    }
   },
   "execution_count": 71,
   "outputs": []
  },
  {
   "cell_type": "markdown",
   "source": [
    "* 정규화(Normalization, MinMax 방식)\n",
    "    * 모든 값을 0 ~ 1 로."
   ],
   "metadata": {
    "id": "Pi9qH_4Dr0OI",
    "pycharm": {
     "name": "#%% md\n"
    }
   }
  },
  {
   "cell_type": "code",
   "execution_count": 74,
   "outputs": [],
   "source": [
    "x.drop('Cabin', axis = 1, inplace=True)"
   ],
   "metadata": {
    "collapsed": false,
    "pycharm": {
     "name": "#%%\n"
    }
   }
  },
  {
   "cell_type": "code",
   "source": [
    "\n",
    "\n",
    "# 선언하기\n",
    "scaler = MinMaxScaler()\n",
    "\n",
    "# 만들고 적용 .fit_transform()   : .fit() + .transform()\n",
    "x1 = scaler.fit_transform(x)\n",
    "# 적용하고 나면 넘파이 어레이가 된다.\n",
    "\n",
    "# 모델링할 때에는 넘파이 어레이여도 상관 없지만, 우리가 편하게 살펴보기 위해 데이터프레임으로 변환합니다.\n",
    "x1 = pd.DataFrame(x1, columns = list(x))\n",
    "x1.head()"
   ],
   "metadata": {
    "id": "u9XT2AsLq609",
    "pycharm": {
     "name": "#%%\n"
    }
   },
   "execution_count": 75,
   "outputs": [
    {
     "data": {
      "text/plain": "        Age  SibSp  Parch      Fare  Pclass_2  Pclass_3  Sex_male  Embarked_Q  \\\n0  0.271174  0.125    0.0  0.014151       0.0       1.0       1.0         0.0   \n1  0.472229  0.125    0.0  0.139136       0.0       0.0       0.0         0.0   \n2  0.321438  0.000    0.0  0.015469       0.0       1.0       0.0         0.0   \n3  0.434531  0.125    0.0  0.103644       0.0       0.0       0.0         0.0   \n4  0.434531  0.000    0.0  0.015713       0.0       1.0       1.0         0.0   \n\n   Embarked_S  \n0         1.0  \n1         0.0  \n2         1.0  \n3         1.0  \n4         1.0  ",
      "text/html": "<div>\n<style scoped>\n    .dataframe tbody tr th:only-of-type {\n        vertical-align: middle;\n    }\n\n    .dataframe tbody tr th {\n        vertical-align: top;\n    }\n\n    .dataframe thead th {\n        text-align: right;\n    }\n</style>\n<table border=\"1\" class=\"dataframe\">\n  <thead>\n    <tr style=\"text-align: right;\">\n      <th></th>\n      <th>Age</th>\n      <th>SibSp</th>\n      <th>Parch</th>\n      <th>Fare</th>\n      <th>Pclass_2</th>\n      <th>Pclass_3</th>\n      <th>Sex_male</th>\n      <th>Embarked_Q</th>\n      <th>Embarked_S</th>\n    </tr>\n  </thead>\n  <tbody>\n    <tr>\n      <th>0</th>\n      <td>0.271174</td>\n      <td>0.125</td>\n      <td>0.0</td>\n      <td>0.014151</td>\n      <td>0.0</td>\n      <td>1.0</td>\n      <td>1.0</td>\n      <td>0.0</td>\n      <td>1.0</td>\n    </tr>\n    <tr>\n      <th>1</th>\n      <td>0.472229</td>\n      <td>0.125</td>\n      <td>0.0</td>\n      <td>0.139136</td>\n      <td>0.0</td>\n      <td>0.0</td>\n      <td>0.0</td>\n      <td>0.0</td>\n      <td>0.0</td>\n    </tr>\n    <tr>\n      <th>2</th>\n      <td>0.321438</td>\n      <td>0.000</td>\n      <td>0.0</td>\n      <td>0.015469</td>\n      <td>0.0</td>\n      <td>1.0</td>\n      <td>0.0</td>\n      <td>0.0</td>\n      <td>1.0</td>\n    </tr>\n    <tr>\n      <th>3</th>\n      <td>0.434531</td>\n      <td>0.125</td>\n      <td>0.0</td>\n      <td>0.103644</td>\n      <td>0.0</td>\n      <td>0.0</td>\n      <td>0.0</td>\n      <td>0.0</td>\n      <td>1.0</td>\n    </tr>\n    <tr>\n      <th>4</th>\n      <td>0.434531</td>\n      <td>0.000</td>\n      <td>0.0</td>\n      <td>0.015713</td>\n      <td>0.0</td>\n      <td>1.0</td>\n      <td>1.0</td>\n      <td>0.0</td>\n      <td>1.0</td>\n    </tr>\n  </tbody>\n</table>\n</div>"
     },
     "execution_count": 75,
     "metadata": {},
     "output_type": "execute_result"
    }
   ]
  },
  {
   "cell_type": "markdown",
   "source": [
    "* 표준화(Standardization)\n",
    "    * 평균은 0, 표준편차 1 로"
   ],
   "metadata": {
    "id": "W6Dx9cPwr4zF",
    "pycharm": {
     "name": "#%% md\n"
    }
   }
  },
  {
   "cell_type": "code",
   "source": [
    "# 선언하기\n",
    "scaler = StandardScaler()\n",
    "\n",
    "# 만들고 적용 .fit_transform()   : .fit() + .transform()\n",
    "x2 = scaler.fit_transform(x)\n",
    "# 적용하고 나면 넘파이 어레이가 된다.\n",
    "\n",
    "# 모델링할 때에는 넘파이 어레이여도 상관 없지만, 우리가 편하게 살펴보기 위해 데이터프레임으로 변환합니다.\n",
    "x2 = pd.DataFrame(x2, columns = list(x.columns))\n",
    "x2.head()"
   ],
   "metadata": {
    "id": "8-Rusuzkr4jJ",
    "pycharm": {
     "name": "#%%\n"
    }
   },
   "execution_count": 82,
   "outputs": [
    {
     "data": {
      "text/plain": "        Age     SibSp     Parch      Fare  Pclass_2  Pclass_3  Sex_male  \\\n0 -0.592481  0.432793 -0.473674 -0.502445 -0.510152  0.902587  0.737695   \n1  0.638789  0.432793 -0.473674  0.786845 -0.510152 -1.107926 -1.355574   \n2 -0.284663 -0.474545 -0.473674 -0.488854 -0.510152  0.902587 -1.355574   \n3  0.407926  0.432793 -0.473674  0.420730 -0.510152 -1.107926 -1.355574   \n4  0.407926 -0.474545 -0.473674 -0.486337 -0.510152  0.902587  0.737695   \n\n   Embarked_Q  Embarked_S  \n0   -0.307562    0.615838  \n1   -0.307562   -1.623803  \n2   -0.307562    0.615838  \n3   -0.307562    0.615838  \n4   -0.307562    0.615838  ",
      "text/html": "<div>\n<style scoped>\n    .dataframe tbody tr th:only-of-type {\n        vertical-align: middle;\n    }\n\n    .dataframe tbody tr th {\n        vertical-align: top;\n    }\n\n    .dataframe thead th {\n        text-align: right;\n    }\n</style>\n<table border=\"1\" class=\"dataframe\">\n  <thead>\n    <tr style=\"text-align: right;\">\n      <th></th>\n      <th>Age</th>\n      <th>SibSp</th>\n      <th>Parch</th>\n      <th>Fare</th>\n      <th>Pclass_2</th>\n      <th>Pclass_3</th>\n      <th>Sex_male</th>\n      <th>Embarked_Q</th>\n      <th>Embarked_S</th>\n    </tr>\n  </thead>\n  <tbody>\n    <tr>\n      <th>0</th>\n      <td>-0.592481</td>\n      <td>0.432793</td>\n      <td>-0.473674</td>\n      <td>-0.502445</td>\n      <td>-0.510152</td>\n      <td>0.902587</td>\n      <td>0.737695</td>\n      <td>-0.307562</td>\n      <td>0.615838</td>\n    </tr>\n    <tr>\n      <th>1</th>\n      <td>0.638789</td>\n      <td>0.432793</td>\n      <td>-0.473674</td>\n      <td>0.786845</td>\n      <td>-0.510152</td>\n      <td>-1.107926</td>\n      <td>-1.355574</td>\n      <td>-0.307562</td>\n      <td>-1.623803</td>\n    </tr>\n    <tr>\n      <th>2</th>\n      <td>-0.284663</td>\n      <td>-0.474545</td>\n      <td>-0.473674</td>\n      <td>-0.488854</td>\n      <td>-0.510152</td>\n      <td>0.902587</td>\n      <td>-1.355574</td>\n      <td>-0.307562</td>\n      <td>0.615838</td>\n    </tr>\n    <tr>\n      <th>3</th>\n      <td>0.407926</td>\n      <td>0.432793</td>\n      <td>-0.473674</td>\n      <td>0.420730</td>\n      <td>-0.510152</td>\n      <td>-1.107926</td>\n      <td>-1.355574</td>\n      <td>-0.307562</td>\n      <td>0.615838</td>\n    </tr>\n    <tr>\n      <th>4</th>\n      <td>0.407926</td>\n      <td>-0.474545</td>\n      <td>-0.473674</td>\n      <td>-0.486337</td>\n      <td>-0.510152</td>\n      <td>0.902587</td>\n      <td>0.737695</td>\n      <td>-0.307562</td>\n      <td>0.615838</td>\n    </tr>\n  </tbody>\n</table>\n</div>"
     },
     "execution_count": 82,
     "metadata": {},
     "output_type": "execute_result"
    }
   ]
  },
  {
   "cell_type": "markdown",
   "source": [
    "* 값들을 살펴봅시다."
   ],
   "metadata": {
    "id": "2l3SraAUsML6",
    "pycharm": {
     "name": "#%% md\n"
    }
   }
  },
  {
   "cell_type": "code",
   "source": [
    "x.describe()"
   ],
   "metadata": {
    "id": "a6iMvy_qsOgv",
    "pycharm": {
     "name": "#%%\n"
    }
   },
   "execution_count": 77,
   "outputs": [
    {
     "data": {
      "text/plain": "              Age       SibSp       Parch        Fare    Pclass_2    Pclass_3  \\\ncount  891.000000  891.000000  891.000000  891.000000  891.000000  891.000000   \nmean    29.699118    0.523008    0.381594   32.204208    0.206510    0.551066   \nstd     13.002015    1.102743    0.806057   49.693429    0.405028    0.497665   \nmin      0.420000    0.000000    0.000000    0.000000    0.000000    0.000000   \n25%     22.000000    0.000000    0.000000    7.910400    0.000000    0.000000   \n50%     29.699118    0.000000    0.000000   14.454200    0.000000    1.000000   \n75%     35.000000    1.000000    0.000000   31.000000    0.000000    1.000000   \nmax     80.000000    8.000000    6.000000  512.329200    1.000000    1.000000   \n\n         Sex_male  Embarked_Q  Embarked_S  \ncount  891.000000  891.000000  891.000000  \nmean     0.647587    0.086420    0.725028  \nstd      0.477990    0.281141    0.446751  \nmin      0.000000    0.000000    0.000000  \n25%      0.000000    0.000000    0.000000  \n50%      1.000000    0.000000    1.000000  \n75%      1.000000    0.000000    1.000000  \nmax      1.000000    1.000000    1.000000  ",
      "text/html": "<div>\n<style scoped>\n    .dataframe tbody tr th:only-of-type {\n        vertical-align: middle;\n    }\n\n    .dataframe tbody tr th {\n        vertical-align: top;\n    }\n\n    .dataframe thead th {\n        text-align: right;\n    }\n</style>\n<table border=\"1\" class=\"dataframe\">\n  <thead>\n    <tr style=\"text-align: right;\">\n      <th></th>\n      <th>Age</th>\n      <th>SibSp</th>\n      <th>Parch</th>\n      <th>Fare</th>\n      <th>Pclass_2</th>\n      <th>Pclass_3</th>\n      <th>Sex_male</th>\n      <th>Embarked_Q</th>\n      <th>Embarked_S</th>\n    </tr>\n  </thead>\n  <tbody>\n    <tr>\n      <th>count</th>\n      <td>891.000000</td>\n      <td>891.000000</td>\n      <td>891.000000</td>\n      <td>891.000000</td>\n      <td>891.000000</td>\n      <td>891.000000</td>\n      <td>891.000000</td>\n      <td>891.000000</td>\n      <td>891.000000</td>\n    </tr>\n    <tr>\n      <th>mean</th>\n      <td>29.699118</td>\n      <td>0.523008</td>\n      <td>0.381594</td>\n      <td>32.204208</td>\n      <td>0.206510</td>\n      <td>0.551066</td>\n      <td>0.647587</td>\n      <td>0.086420</td>\n      <td>0.725028</td>\n    </tr>\n    <tr>\n      <th>std</th>\n      <td>13.002015</td>\n      <td>1.102743</td>\n      <td>0.806057</td>\n      <td>49.693429</td>\n      <td>0.405028</td>\n      <td>0.497665</td>\n      <td>0.477990</td>\n      <td>0.281141</td>\n      <td>0.446751</td>\n    </tr>\n    <tr>\n      <th>min</th>\n      <td>0.420000</td>\n      <td>0.000000</td>\n      <td>0.000000</td>\n      <td>0.000000</td>\n      <td>0.000000</td>\n      <td>0.000000</td>\n      <td>0.000000</td>\n      <td>0.000000</td>\n      <td>0.000000</td>\n    </tr>\n    <tr>\n      <th>25%</th>\n      <td>22.000000</td>\n      <td>0.000000</td>\n      <td>0.000000</td>\n      <td>7.910400</td>\n      <td>0.000000</td>\n      <td>0.000000</td>\n      <td>0.000000</td>\n      <td>0.000000</td>\n      <td>0.000000</td>\n    </tr>\n    <tr>\n      <th>50%</th>\n      <td>29.699118</td>\n      <td>0.000000</td>\n      <td>0.000000</td>\n      <td>14.454200</td>\n      <td>0.000000</td>\n      <td>1.000000</td>\n      <td>1.000000</td>\n      <td>0.000000</td>\n      <td>1.000000</td>\n    </tr>\n    <tr>\n      <th>75%</th>\n      <td>35.000000</td>\n      <td>1.000000</td>\n      <td>0.000000</td>\n      <td>31.000000</td>\n      <td>0.000000</td>\n      <td>1.000000</td>\n      <td>1.000000</td>\n      <td>0.000000</td>\n      <td>1.000000</td>\n    </tr>\n    <tr>\n      <th>max</th>\n      <td>80.000000</td>\n      <td>8.000000</td>\n      <td>6.000000</td>\n      <td>512.329200</td>\n      <td>1.000000</td>\n      <td>1.000000</td>\n      <td>1.000000</td>\n      <td>1.000000</td>\n      <td>1.000000</td>\n    </tr>\n  </tbody>\n</table>\n</div>"
     },
     "execution_count": 77,
     "metadata": {},
     "output_type": "execute_result"
    }
   ]
  },
  {
   "cell_type": "code",
   "source": [
    "x1.describe()"
   ],
   "metadata": {
    "id": "gkJiF7eosQSL",
    "pycharm": {
     "name": "#%%\n"
    }
   },
   "execution_count": 78,
   "outputs": [
    {
     "data": {
      "text/plain": "              Age       SibSp       Parch        Fare    Pclass_2    Pclass_3  \\\ncount  891.000000  891.000000  891.000000  891.000000  891.000000  891.000000   \nmean     0.367921    0.065376    0.063599    0.062858    0.206510    0.551066   \nstd      0.163383    0.137843    0.134343    0.096995    0.405028    0.497665   \nmin      0.000000    0.000000    0.000000    0.000000    0.000000    0.000000   \n25%      0.271174    0.000000    0.000000    0.015440    0.000000    0.000000   \n50%      0.367921    0.000000    0.000000    0.028213    0.000000    1.000000   \n75%      0.434531    0.125000    0.000000    0.060508    0.000000    1.000000   \nmax      1.000000    1.000000    1.000000    1.000000    1.000000    1.000000   \n\n         Sex_male  Embarked_Q  Embarked_S  \ncount  891.000000  891.000000  891.000000  \nmean     0.647587    0.086420    0.725028  \nstd      0.477990    0.281141    0.446751  \nmin      0.000000    0.000000    0.000000  \n25%      0.000000    0.000000    0.000000  \n50%      1.000000    0.000000    1.000000  \n75%      1.000000    0.000000    1.000000  \nmax      1.000000    1.000000    1.000000  ",
      "text/html": "<div>\n<style scoped>\n    .dataframe tbody tr th:only-of-type {\n        vertical-align: middle;\n    }\n\n    .dataframe tbody tr th {\n        vertical-align: top;\n    }\n\n    .dataframe thead th {\n        text-align: right;\n    }\n</style>\n<table border=\"1\" class=\"dataframe\">\n  <thead>\n    <tr style=\"text-align: right;\">\n      <th></th>\n      <th>Age</th>\n      <th>SibSp</th>\n      <th>Parch</th>\n      <th>Fare</th>\n      <th>Pclass_2</th>\n      <th>Pclass_3</th>\n      <th>Sex_male</th>\n      <th>Embarked_Q</th>\n      <th>Embarked_S</th>\n    </tr>\n  </thead>\n  <tbody>\n    <tr>\n      <th>count</th>\n      <td>891.000000</td>\n      <td>891.000000</td>\n      <td>891.000000</td>\n      <td>891.000000</td>\n      <td>891.000000</td>\n      <td>891.000000</td>\n      <td>891.000000</td>\n      <td>891.000000</td>\n      <td>891.000000</td>\n    </tr>\n    <tr>\n      <th>mean</th>\n      <td>0.367921</td>\n      <td>0.065376</td>\n      <td>0.063599</td>\n      <td>0.062858</td>\n      <td>0.206510</td>\n      <td>0.551066</td>\n      <td>0.647587</td>\n      <td>0.086420</td>\n      <td>0.725028</td>\n    </tr>\n    <tr>\n      <th>std</th>\n      <td>0.163383</td>\n      <td>0.137843</td>\n      <td>0.134343</td>\n      <td>0.096995</td>\n      <td>0.405028</td>\n      <td>0.497665</td>\n      <td>0.477990</td>\n      <td>0.281141</td>\n      <td>0.446751</td>\n    </tr>\n    <tr>\n      <th>min</th>\n      <td>0.000000</td>\n      <td>0.000000</td>\n      <td>0.000000</td>\n      <td>0.000000</td>\n      <td>0.000000</td>\n      <td>0.000000</td>\n      <td>0.000000</td>\n      <td>0.000000</td>\n      <td>0.000000</td>\n    </tr>\n    <tr>\n      <th>25%</th>\n      <td>0.271174</td>\n      <td>0.000000</td>\n      <td>0.000000</td>\n      <td>0.015440</td>\n      <td>0.000000</td>\n      <td>0.000000</td>\n      <td>0.000000</td>\n      <td>0.000000</td>\n      <td>0.000000</td>\n    </tr>\n    <tr>\n      <th>50%</th>\n      <td>0.367921</td>\n      <td>0.000000</td>\n      <td>0.000000</td>\n      <td>0.028213</td>\n      <td>0.000000</td>\n      <td>1.000000</td>\n      <td>1.000000</td>\n      <td>0.000000</td>\n      <td>1.000000</td>\n    </tr>\n    <tr>\n      <th>75%</th>\n      <td>0.434531</td>\n      <td>0.125000</td>\n      <td>0.000000</td>\n      <td>0.060508</td>\n      <td>0.000000</td>\n      <td>1.000000</td>\n      <td>1.000000</td>\n      <td>0.000000</td>\n      <td>1.000000</td>\n    </tr>\n    <tr>\n      <th>max</th>\n      <td>1.000000</td>\n      <td>1.000000</td>\n      <td>1.000000</td>\n      <td>1.000000</td>\n      <td>1.000000</td>\n      <td>1.000000</td>\n      <td>1.000000</td>\n      <td>1.000000</td>\n      <td>1.000000</td>\n    </tr>\n  </tbody>\n</table>\n</div>"
     },
     "execution_count": 78,
     "metadata": {},
     "output_type": "execute_result"
    }
   ]
  },
  {
   "cell_type": "code",
   "source": [
    "x2.describe()"
   ],
   "metadata": {
    "id": "1wAx99scsRnw",
    "pycharm": {
     "name": "#%%\n"
    }
   },
   "execution_count": 79,
   "outputs": [
    {
     "data": {
      "text/plain": "                Age         SibSp         Parch          Fare      Pclass_2  \\\ncount  8.910000e+02  8.910000e+02  8.910000e+02  8.910000e+02  8.910000e+02   \nmean   2.562796e-16  3.456519e-16  6.716164e-17 -4.373606e-17  1.413011e-16   \nstd    1.000562e+00  1.000562e+00  1.000562e+00  1.000562e+00  1.000562e+00   \nmin   -2.253155e+00 -4.745452e-01 -4.736736e-01 -6.484217e-01 -5.101515e-01   \n25%   -5.924806e-01 -4.745452e-01 -4.736736e-01 -4.891482e-01 -5.101515e-01   \n50%    0.000000e+00 -4.745452e-01 -4.736736e-01 -3.573909e-01 -5.101515e-01   \n75%    4.079260e-01  4.327934e-01 -4.736736e-01 -2.424635e-02 -5.101515e-01   \nmax    3.870872e+00  6.784163e+00  6.974147e+00  9.667167e+00  1.960202e+00   \n\n           Pclass_3      Sex_male    Embarked_Q    Embarked_S  \ncount  8.910000e+02  8.910000e+02  8.910000e+02  8.910000e+02  \nmean  -2.925706e-16 -4.059603e-16 -4.017238e-16 -2.093350e-16  \nstd    1.000562e+00  1.000562e+00  1.000562e+00  1.000562e+00  \nmin   -1.107926e+00 -1.355574e+00 -3.075623e-01 -1.623803e+00  \n25%   -1.107926e+00 -1.355574e+00 -3.075623e-01 -1.623803e+00  \n50%    9.025874e-01  7.376951e-01 -3.075623e-01  6.158384e-01  \n75%    9.025874e-01  7.376951e-01 -3.075623e-01  6.158384e-01  \nmax    9.025874e-01  7.376951e-01  3.251373e+00  6.158384e-01  ",
      "text/html": "<div>\n<style scoped>\n    .dataframe tbody tr th:only-of-type {\n        vertical-align: middle;\n    }\n\n    .dataframe tbody tr th {\n        vertical-align: top;\n    }\n\n    .dataframe thead th {\n        text-align: right;\n    }\n</style>\n<table border=\"1\" class=\"dataframe\">\n  <thead>\n    <tr style=\"text-align: right;\">\n      <th></th>\n      <th>Age</th>\n      <th>SibSp</th>\n      <th>Parch</th>\n      <th>Fare</th>\n      <th>Pclass_2</th>\n      <th>Pclass_3</th>\n      <th>Sex_male</th>\n      <th>Embarked_Q</th>\n      <th>Embarked_S</th>\n    </tr>\n  </thead>\n  <tbody>\n    <tr>\n      <th>count</th>\n      <td>8.910000e+02</td>\n      <td>8.910000e+02</td>\n      <td>8.910000e+02</td>\n      <td>8.910000e+02</td>\n      <td>8.910000e+02</td>\n      <td>8.910000e+02</td>\n      <td>8.910000e+02</td>\n      <td>8.910000e+02</td>\n      <td>8.910000e+02</td>\n    </tr>\n    <tr>\n      <th>mean</th>\n      <td>2.562796e-16</td>\n      <td>3.456519e-16</td>\n      <td>6.716164e-17</td>\n      <td>-4.373606e-17</td>\n      <td>1.413011e-16</td>\n      <td>-2.925706e-16</td>\n      <td>-4.059603e-16</td>\n      <td>-4.017238e-16</td>\n      <td>-2.093350e-16</td>\n    </tr>\n    <tr>\n      <th>std</th>\n      <td>1.000562e+00</td>\n      <td>1.000562e+00</td>\n      <td>1.000562e+00</td>\n      <td>1.000562e+00</td>\n      <td>1.000562e+00</td>\n      <td>1.000562e+00</td>\n      <td>1.000562e+00</td>\n      <td>1.000562e+00</td>\n      <td>1.000562e+00</td>\n    </tr>\n    <tr>\n      <th>min</th>\n      <td>-2.253155e+00</td>\n      <td>-4.745452e-01</td>\n      <td>-4.736736e-01</td>\n      <td>-6.484217e-01</td>\n      <td>-5.101515e-01</td>\n      <td>-1.107926e+00</td>\n      <td>-1.355574e+00</td>\n      <td>-3.075623e-01</td>\n      <td>-1.623803e+00</td>\n    </tr>\n    <tr>\n      <th>25%</th>\n      <td>-5.924806e-01</td>\n      <td>-4.745452e-01</td>\n      <td>-4.736736e-01</td>\n      <td>-4.891482e-01</td>\n      <td>-5.101515e-01</td>\n      <td>-1.107926e+00</td>\n      <td>-1.355574e+00</td>\n      <td>-3.075623e-01</td>\n      <td>-1.623803e+00</td>\n    </tr>\n    <tr>\n      <th>50%</th>\n      <td>0.000000e+00</td>\n      <td>-4.745452e-01</td>\n      <td>-4.736736e-01</td>\n      <td>-3.573909e-01</td>\n      <td>-5.101515e-01</td>\n      <td>9.025874e-01</td>\n      <td>7.376951e-01</td>\n      <td>-3.075623e-01</td>\n      <td>6.158384e-01</td>\n    </tr>\n    <tr>\n      <th>75%</th>\n      <td>4.079260e-01</td>\n      <td>4.327934e-01</td>\n      <td>-4.736736e-01</td>\n      <td>-2.424635e-02</td>\n      <td>-5.101515e-01</td>\n      <td>9.025874e-01</td>\n      <td>7.376951e-01</td>\n      <td>-3.075623e-01</td>\n      <td>6.158384e-01</td>\n    </tr>\n    <tr>\n      <th>max</th>\n      <td>3.870872e+00</td>\n      <td>6.784163e+00</td>\n      <td>6.974147e+00</td>\n      <td>9.667167e+00</td>\n      <td>1.960202e+00</td>\n      <td>9.025874e-01</td>\n      <td>7.376951e-01</td>\n      <td>3.251373e+00</td>\n      <td>6.158384e-01</td>\n    </tr>\n  </tbody>\n</table>\n</div>"
     },
     "execution_count": 79,
     "metadata": {},
     "output_type": "execute_result"
    }
   ]
  },
  {
   "cell_type": "markdown",
   "source": [
    "-----"
   ],
   "metadata": {
    "id": "xtQPrnohti_W",
    "pycharm": {
     "name": "#%% md\n"
    }
   }
  },
  {
   "cell_type": "markdown",
   "metadata": {
    "id": "Lhhz2xOqUGVt",
    "pycharm": {
     "name": "#%% md\n"
    }
   },
   "source": [
    "# 카시트 판매량 데이터"
   ]
  },
  {
   "cell_type": "markdown",
   "source": [
    "![](https://cdn.images.express.co.uk/img/dynamic/24/590x/child-car-seat-986556.jpg?r=1532946857754)"
   ],
   "metadata": {
    "id": "7usNzsAVsGbi",
    "pycharm": {
     "name": "#%% md\n"
    }
   }
  },
  {
   "cell_type": "markdown",
   "source": [
    "* 비즈니스 상황\n",
    "    * 고객사는 국내(미국)와 국외에서 카시트를 판매하는 회사입니다.\n",
    "    * 최근 경쟁사의 공격적인 마케팅으로 매출이 감소하고 있습니다.\n",
    "    * 데이터 분석을 위한 전처리를 수행해 봅시다.\n",
    "\n"
   ],
   "metadata": {
    "id": "nKwWO4QmTzvp",
    "pycharm": {
     "name": "#%% md\n"
    }
   }
  },
  {
   "cell_type": "markdown",
   "source": [
    "|\t변수명\t|\t설명\t|\t구분\t|\n",
    "|\t----\t|\t----\t|\t----\t|\n",
    "|\tSales \t|\t 각 지역 판매량(단위 : 1000개)\t|\tTarget\t|\n",
    "|\tCompPrice \t|\t지역별 경쟁사 판매가격(달러)\t|\tfeature\t|\n",
    "|\tAdvertising \t|\t 각 지역, 회사의 광고 예산(단위 : 1000달러)\t|\tfeature|\n",
    "|\tIncome \t|\t 지역 주민 평균소득(단위 : 1000달러)\t|\tfeature\t|\n",
    "|\tPopulation \t|\t 지역 인구수(단위 : 1000명)\t|\tfeature\t|\n",
    "|\tPrice \t|\t 자사 지역별 판매가격(달러)\t|\tfeature\t|\n",
    "|\tShelveLoc \t|\t 진열상태\t|\tfeature\t|\n",
    "|\tAge \t|\t 지역 인구의 평균 연령\t|\tfeature\t|\n",
    "|\tUS \t|\t 매장이 미국에 있는지 여부\t|\tfeature\t|\n",
    "|\tUrban \t|\t 매장이 도시에 있는지 여부\t|\tfeature\t|\n",
    "|\tEducation \t|\t 평균학력수준(범주 : 11~17)\t|\tfeature\t|\n"
   ],
   "metadata": {
    "id": "zYKHwYHatC4k",
    "pycharm": {
     "name": "#%% md\n"
    }
   }
  },
  {
   "cell_type": "markdown",
   "metadata": {
    "id": "3cKmWSTZ8uwC",
    "pycharm": {
     "name": "#%% md\n"
    }
   },
   "source": [
    "## 0.환경준비"
   ]
  },
  {
   "cell_type": "markdown",
   "metadata": {
    "id": "ryA0ffqNS44P",
    "pycharm": {
     "name": "#%% md\n"
    }
   },
   "source": [
    "### 0.1 Import"
   ]
  },
  {
   "cell_type": "code",
   "metadata": {
    "id": "GVvCef6A8uv6",
    "pycharm": {
     "name": "#%%\n"
    }
   },
   "source": [
    "# 기본 라이브러리 가져오기\n",
    "import pandas as pd\n",
    "import numpy as np\n",
    "\n",
    "import matplotlib.pyplot as plt\n",
    "import seaborn as sns"
   ],
   "execution_count": 83,
   "outputs": []
  },
  {
   "cell_type": "markdown",
   "metadata": {
    "id": "4uZziFNcsUmw",
    "pycharm": {
     "name": "#%% md\n"
    }
   },
   "source": [
    "### 0.2 Data Loading"
   ]
  },
  {
   "cell_type": "code",
   "source": [
    "path = 'https://raw.githubusercontent.com/DA4BAM/dataset/master/Carseat_train.csv'\n",
    "data = pd.read_csv(path)\n",
    "data.head()"
   ],
   "metadata": {
    "id": "QG28HshT8SfH",
    "pycharm": {
     "name": "#%%\n"
    }
   },
   "execution_count": 84,
   "outputs": [
    {
     "data": {
      "text/plain": "   Sales  CompPrice  Income  Advertising  Population  Price ShelveLoc  Age  \\\n0   3.72      139.0   111.0            5         310    132       Bad   62   \n1   2.93      143.0    21.0            5          81    160    Medium   67   \n2   4.53      114.0     NaN            0          97    125    Medium   29   \n3   8.47      119.0    88.0           10         170    101    Medium   61   \n4  11.85      136.0    81.0           15         425    120      Good   67   \n\n   Education Urban   US  \n0         13   Yes  Yes  \n1         12    No  Yes  \n2         12   Yes   No  \n3         13   Yes  Yes  \n4         10   Yes  Yes  ",
      "text/html": "<div>\n<style scoped>\n    .dataframe tbody tr th:only-of-type {\n        vertical-align: middle;\n    }\n\n    .dataframe tbody tr th {\n        vertical-align: top;\n    }\n\n    .dataframe thead th {\n        text-align: right;\n    }\n</style>\n<table border=\"1\" class=\"dataframe\">\n  <thead>\n    <tr style=\"text-align: right;\">\n      <th></th>\n      <th>Sales</th>\n      <th>CompPrice</th>\n      <th>Income</th>\n      <th>Advertising</th>\n      <th>Population</th>\n      <th>Price</th>\n      <th>ShelveLoc</th>\n      <th>Age</th>\n      <th>Education</th>\n      <th>Urban</th>\n      <th>US</th>\n    </tr>\n  </thead>\n  <tbody>\n    <tr>\n      <th>0</th>\n      <td>3.72</td>\n      <td>139.0</td>\n      <td>111.0</td>\n      <td>5</td>\n      <td>310</td>\n      <td>132</td>\n      <td>Bad</td>\n      <td>62</td>\n      <td>13</td>\n      <td>Yes</td>\n      <td>Yes</td>\n    </tr>\n    <tr>\n      <th>1</th>\n      <td>2.93</td>\n      <td>143.0</td>\n      <td>21.0</td>\n      <td>5</td>\n      <td>81</td>\n      <td>160</td>\n      <td>Medium</td>\n      <td>67</td>\n      <td>12</td>\n      <td>No</td>\n      <td>Yes</td>\n    </tr>\n    <tr>\n      <th>2</th>\n      <td>4.53</td>\n      <td>114.0</td>\n      <td>NaN</td>\n      <td>0</td>\n      <td>97</td>\n      <td>125</td>\n      <td>Medium</td>\n      <td>29</td>\n      <td>12</td>\n      <td>Yes</td>\n      <td>No</td>\n    </tr>\n    <tr>\n      <th>3</th>\n      <td>8.47</td>\n      <td>119.0</td>\n      <td>88.0</td>\n      <td>10</td>\n      <td>170</td>\n      <td>101</td>\n      <td>Medium</td>\n      <td>61</td>\n      <td>13</td>\n      <td>Yes</td>\n      <td>Yes</td>\n    </tr>\n    <tr>\n      <th>4</th>\n      <td>11.85</td>\n      <td>136.0</td>\n      <td>81.0</td>\n      <td>15</td>\n      <td>425</td>\n      <td>120</td>\n      <td>Good</td>\n      <td>67</td>\n      <td>10</td>\n      <td>Yes</td>\n      <td>Yes</td>\n    </tr>\n  </tbody>\n</table>\n</div>"
     },
     "execution_count": 84,
     "metadata": {},
     "output_type": "execute_result"
    }
   ]
  },
  {
   "cell_type": "markdown",
   "source": [
    "## 1.데이터 탐색"
   ],
   "metadata": {
    "id": "Ge5eTWab_921",
    "pycharm": {
     "name": "#%% md\n"
    }
   }
  },
  {
   "cell_type": "markdown",
   "source": [
    "* 기초 통계량\n",
    "    * .describe()\n",
    "    * 시리즈 혹은 데이터프레임에 붙여서 사용하는 메서드.\n",
    "    * .T : transpose. 행/열 위치를 바꿈."
   ],
   "metadata": {
    "id": "jnkJjvBIYMI9",
    "pycharm": {
     "name": "#%% md\n"
    }
   }
  },
  {
   "cell_type": "code",
   "source": [
    "data.describe().T"
   ],
   "metadata": {
    "id": "CuitDYU9YL2u",
    "pycharm": {
     "name": "#%%\n"
    }
   },
   "execution_count": 85,
   "outputs": [
    {
     "data": {
      "text/plain": "             count        mean         std   min       25%     50%       75%  \\\nSales        300.0    7.441867    2.928141   0.0    5.3575    7.26    9.3525   \nCompPrice    287.0  125.344948   14.551674  86.0  116.0000  125.00  135.0000   \nIncome       288.0   68.673611   28.558597  21.0   42.0000   69.00   93.0000   \nAdvertising  300.0    6.600000    6.569413   0.0    0.0000    5.00   11.0000   \nPopulation   300.0  266.950000  148.112339  12.0  136.2500  278.00  400.0000   \nPrice        300.0  115.930000   22.149653  49.0  101.0000  117.00  131.0000   \nAge          300.0   52.963333   16.377098  25.0   39.0000   54.00   65.0000   \nEducation    300.0   13.906667    2.601380  10.0   12.0000   14.00   16.0000   \n\n                max  \nSales         16.27  \nCompPrice    175.00  \nIncome       120.00  \nAdvertising   29.00  \nPopulation   509.00  \nPrice        191.00  \nAge           80.00  \nEducation     18.00  ",
      "text/html": "<div>\n<style scoped>\n    .dataframe tbody tr th:only-of-type {\n        vertical-align: middle;\n    }\n\n    .dataframe tbody tr th {\n        vertical-align: top;\n    }\n\n    .dataframe thead th {\n        text-align: right;\n    }\n</style>\n<table border=\"1\" class=\"dataframe\">\n  <thead>\n    <tr style=\"text-align: right;\">\n      <th></th>\n      <th>count</th>\n      <th>mean</th>\n      <th>std</th>\n      <th>min</th>\n      <th>25%</th>\n      <th>50%</th>\n      <th>75%</th>\n      <th>max</th>\n    </tr>\n  </thead>\n  <tbody>\n    <tr>\n      <th>Sales</th>\n      <td>300.0</td>\n      <td>7.441867</td>\n      <td>2.928141</td>\n      <td>0.0</td>\n      <td>5.3575</td>\n      <td>7.26</td>\n      <td>9.3525</td>\n      <td>16.27</td>\n    </tr>\n    <tr>\n      <th>CompPrice</th>\n      <td>287.0</td>\n      <td>125.344948</td>\n      <td>14.551674</td>\n      <td>86.0</td>\n      <td>116.0000</td>\n      <td>125.00</td>\n      <td>135.0000</td>\n      <td>175.00</td>\n    </tr>\n    <tr>\n      <th>Income</th>\n      <td>288.0</td>\n      <td>68.673611</td>\n      <td>28.558597</td>\n      <td>21.0</td>\n      <td>42.0000</td>\n      <td>69.00</td>\n      <td>93.0000</td>\n      <td>120.00</td>\n    </tr>\n    <tr>\n      <th>Advertising</th>\n      <td>300.0</td>\n      <td>6.600000</td>\n      <td>6.569413</td>\n      <td>0.0</td>\n      <td>0.0000</td>\n      <td>5.00</td>\n      <td>11.0000</td>\n      <td>29.00</td>\n    </tr>\n    <tr>\n      <th>Population</th>\n      <td>300.0</td>\n      <td>266.950000</td>\n      <td>148.112339</td>\n      <td>12.0</td>\n      <td>136.2500</td>\n      <td>278.00</td>\n      <td>400.0000</td>\n      <td>509.00</td>\n    </tr>\n    <tr>\n      <th>Price</th>\n      <td>300.0</td>\n      <td>115.930000</td>\n      <td>22.149653</td>\n      <td>49.0</td>\n      <td>101.0000</td>\n      <td>117.00</td>\n      <td>131.0000</td>\n      <td>191.00</td>\n    </tr>\n    <tr>\n      <th>Age</th>\n      <td>300.0</td>\n      <td>52.963333</td>\n      <td>16.377098</td>\n      <td>25.0</td>\n      <td>39.0000</td>\n      <td>54.00</td>\n      <td>65.0000</td>\n      <td>80.00</td>\n    </tr>\n    <tr>\n      <th>Education</th>\n      <td>300.0</td>\n      <td>13.906667</td>\n      <td>2.601380</td>\n      <td>10.0</td>\n      <td>12.0000</td>\n      <td>14.00</td>\n      <td>16.0000</td>\n      <td>18.00</td>\n    </tr>\n  </tbody>\n</table>\n</div>"
     },
     "execution_count": 85,
     "metadata": {},
     "output_type": "execute_result"
    }
   ]
  },
  {
   "cell_type": "markdown",
   "source": [
    "* 진열상태 별 판매량 조회"
   ],
   "metadata": {
    "id": "V-8SbwAZY2r2",
    "pycharm": {
     "name": "#%% md\n"
    }
   }
  },
  {
   "cell_type": "code",
   "source": [
    "data.groupby('ShelveLoc', as_index = False)['Sales'].mean()"
   ],
   "metadata": {
    "id": "Jdi88E2PYInU",
    "pycharm": {
     "name": "#%%\n"
    }
   },
   "execution_count": 86,
   "outputs": [
    {
     "data": {
      "text/plain": "  ShelveLoc      Sales\n0       Bad   5.407432\n1      Good  10.439194\n2    Medium   7.226707",
      "text/html": "<div>\n<style scoped>\n    .dataframe tbody tr th:only-of-type {\n        vertical-align: middle;\n    }\n\n    .dataframe tbody tr th {\n        vertical-align: top;\n    }\n\n    .dataframe thead th {\n        text-align: right;\n    }\n</style>\n<table border=\"1\" class=\"dataframe\">\n  <thead>\n    <tr style=\"text-align: right;\">\n      <th></th>\n      <th>ShelveLoc</th>\n      <th>Sales</th>\n    </tr>\n  </thead>\n  <tbody>\n    <tr>\n      <th>0</th>\n      <td>Bad</td>\n      <td>5.407432</td>\n    </tr>\n    <tr>\n      <th>1</th>\n      <td>Good</td>\n      <td>10.439194</td>\n    </tr>\n    <tr>\n      <th>2</th>\n      <td>Medium</td>\n      <td>7.226707</td>\n    </tr>\n  </tbody>\n</table>\n</div>"
     },
     "execution_count": 86,
     "metadata": {},
     "output_type": "execute_result"
    }
   ]
  },
  {
   "cell_type": "markdown",
   "metadata": {
    "id": "PRXJWyibZTJN",
    "pycharm": {
     "name": "#%% md\n"
    }
   },
   "source": [
    "## 2.데이터 전처리 "
   ]
  },
  {
   "cell_type": "code",
   "source": [
    "target = 'Sales'"
   ],
   "metadata": {
    "id": "vtn0hI98urCt",
    "pycharm": {
     "name": "#%%\n"
    }
   },
   "execution_count": 87,
   "outputs": []
  },
  {
   "cell_type": "markdown",
   "metadata": {
    "id": "BHWYbtBdZTJN",
    "pycharm": {
     "name": "#%% md\n"
    }
   },
   "source": [
    "### 2.1 데이터를 feature와 , target으로 분할"
   ]
  },
  {
   "cell_type": "code",
   "metadata": {
    "id": "WvyeHRNWEMBF",
    "pycharm": {
     "name": "#%%\n"
    }
   },
   "source": [
    "x = data.drop(target, axis = 1)\n",
    "y = data.loc[:, target]"
   ],
   "execution_count": 88,
   "outputs": []
  },
  {
   "cell_type": "markdown",
   "metadata": {
    "id": "umpv1ug6ZTJO",
    "pycharm": {
     "name": "#%% md\n"
    }
   },
   "source": [
    "### 2.2 NaN에 대한 조치"
   ]
  },
  {
   "cell_type": "code",
   "source": [
    "x.isna().sum()"
   ],
   "metadata": {
    "id": "8epD0jT6vL51",
    "pycharm": {
     "name": "#%%\n"
    }
   },
   "execution_count": 148,
   "outputs": [
    {
     "data": {
      "text/plain": "id                               0\nCOLLEGE                          0\nINCOME                           0\nOVERAGE                          0\nLEFTOVER                         0\nHOUSE                          215\nHANDSET_PRICE                    0\nOVER_15MINS_CALLS_PER_MONTH      0\nAVERAGE_CALL_DURATION            0\nREPORTED_SATISFACTION           38\nREPORTED_USAGE_LEVEL             0\nCONSIDERING_CHANGE_OF_PLAN       0\ndtype: int64"
     },
     "execution_count": 148,
     "metadata": {},
     "output_type": "execute_result"
    }
   ]
  },
  {
   "cell_type": "code",
   "source": [
    "from sklearn.impute import SimpleImputer"
   ],
   "metadata": {
    "id": "TqMJmnq2_aSO",
    "pycharm": {
     "name": "#%%\n"
    }
   },
   "execution_count": 149,
   "outputs": []
  },
  {
   "cell_type": "code",
   "source": [
    "# 선언\n",
    "imputer = SimpleImputer(strategy='mean')\n",
    "\n",
    "# 대상 리스트\n",
    "impute_list = ['CompPrice', 'Income']\n",
    "\n",
    "# 피팅하고 적용하기\n",
    "x[impute_list] = imputer.fit_transform(x[impute_list])\n",
    "x.isna().sum()"
   ],
   "metadata": {
    "id": "cc7rj6nn_iaL",
    "pycharm": {
     "name": "#%%\n"
    }
   },
   "execution_count": 91,
   "outputs": [
    {
     "data": {
      "text/plain": "CompPrice      0\nIncome         0\nAdvertising    0\nPopulation     0\nPrice          0\nShelveLoc      0\nAge            0\nEducation      0\nUrban          0\nUS             0\ndtype: int64"
     },
     "execution_count": 91,
     "metadata": {},
     "output_type": "execute_result"
    }
   ]
  },
  {
   "cell_type": "markdown",
   "metadata": {
    "id": "zFJ23LikV8A_",
    "pycharm": {
     "name": "#%% md\n"
    }
   },
   "source": [
    "### 2.3 가변수화\n",
    "* 범주형 데이터이면서 값이 0,1 로 되어 있는 것이 아니라면, 가변수화를 수행해야 합니다.\n",
    "* 대상이 되는 변수에 대해서 가변수화를 수행해주세요."
   ]
  },
  {
   "cell_type": "code",
   "execution_count": 92,
   "outputs": [
    {
     "data": {
      "text/plain": "array([13, 12, 10, 16, 11, 18, 17, 14, 15])"
     },
     "execution_count": 92,
     "metadata": {},
     "output_type": "execute_result"
    }
   ],
   "source": [
    "x['Education'].unique()"
   ],
   "metadata": {
    "collapsed": false,
    "pycharm": {
     "name": "#%%\n"
    }
   }
  },
  {
   "cell_type": "code",
   "metadata": {
    "id": "ETUeL5XmV8A_",
    "pycharm": {
     "name": "#%%\n"
    }
   },
   "source": [
    "dum_cols = ['ShelveLoc','US','Urban','Education']\n",
    "\n",
    "x = pd.get_dummies(x, columns = dum_cols ,drop_first = True)\n",
    "x.head()\n"
   ],
   "execution_count": 93,
   "outputs": [
    {
     "data": {
      "text/plain": "   CompPrice      Income  Advertising  Population  Price  Age  ShelveLoc_Good  \\\n0      139.0  111.000000            5         310    132   62               0   \n1      143.0   21.000000            5          81    160   67               0   \n2      114.0   68.673611            0          97    125   29               0   \n3      119.0   88.000000           10         170    101   61               0   \n4      136.0   81.000000           15         425    120   67               1   \n\n   ShelveLoc_Medium  US_Yes  Urban_Yes  Education_11  Education_12  \\\n0                 0       1          1             0             0   \n1                 1       1          0             0             1   \n2                 1       0          1             0             1   \n3                 1       1          1             0             0   \n4                 0       1          1             0             0   \n\n   Education_13  Education_14  Education_15  Education_16  Education_17  \\\n0             1             0             0             0             0   \n1             0             0             0             0             0   \n2             0             0             0             0             0   \n3             1             0             0             0             0   \n4             0             0             0             0             0   \n\n   Education_18  \n0             0  \n1             0  \n2             0  \n3             0  \n4             0  ",
      "text/html": "<div>\n<style scoped>\n    .dataframe tbody tr th:only-of-type {\n        vertical-align: middle;\n    }\n\n    .dataframe tbody tr th {\n        vertical-align: top;\n    }\n\n    .dataframe thead th {\n        text-align: right;\n    }\n</style>\n<table border=\"1\" class=\"dataframe\">\n  <thead>\n    <tr style=\"text-align: right;\">\n      <th></th>\n      <th>CompPrice</th>\n      <th>Income</th>\n      <th>Advertising</th>\n      <th>Population</th>\n      <th>Price</th>\n      <th>Age</th>\n      <th>ShelveLoc_Good</th>\n      <th>ShelveLoc_Medium</th>\n      <th>US_Yes</th>\n      <th>Urban_Yes</th>\n      <th>Education_11</th>\n      <th>Education_12</th>\n      <th>Education_13</th>\n      <th>Education_14</th>\n      <th>Education_15</th>\n      <th>Education_16</th>\n      <th>Education_17</th>\n      <th>Education_18</th>\n    </tr>\n  </thead>\n  <tbody>\n    <tr>\n      <th>0</th>\n      <td>139.0</td>\n      <td>111.000000</td>\n      <td>5</td>\n      <td>310</td>\n      <td>132</td>\n      <td>62</td>\n      <td>0</td>\n      <td>0</td>\n      <td>1</td>\n      <td>1</td>\n      <td>0</td>\n      <td>0</td>\n      <td>1</td>\n      <td>0</td>\n      <td>0</td>\n      <td>0</td>\n      <td>0</td>\n      <td>0</td>\n    </tr>\n    <tr>\n      <th>1</th>\n      <td>143.0</td>\n      <td>21.000000</td>\n      <td>5</td>\n      <td>81</td>\n      <td>160</td>\n      <td>67</td>\n      <td>0</td>\n      <td>1</td>\n      <td>1</td>\n      <td>0</td>\n      <td>0</td>\n      <td>1</td>\n      <td>0</td>\n      <td>0</td>\n      <td>0</td>\n      <td>0</td>\n      <td>0</td>\n      <td>0</td>\n    </tr>\n    <tr>\n      <th>2</th>\n      <td>114.0</td>\n      <td>68.673611</td>\n      <td>0</td>\n      <td>97</td>\n      <td>125</td>\n      <td>29</td>\n      <td>0</td>\n      <td>1</td>\n      <td>0</td>\n      <td>1</td>\n      <td>0</td>\n      <td>1</td>\n      <td>0</td>\n      <td>0</td>\n      <td>0</td>\n      <td>0</td>\n      <td>0</td>\n      <td>0</td>\n    </tr>\n    <tr>\n      <th>3</th>\n      <td>119.0</td>\n      <td>88.000000</td>\n      <td>10</td>\n      <td>170</td>\n      <td>101</td>\n      <td>61</td>\n      <td>0</td>\n      <td>1</td>\n      <td>1</td>\n      <td>1</td>\n      <td>0</td>\n      <td>0</td>\n      <td>1</td>\n      <td>0</td>\n      <td>0</td>\n      <td>0</td>\n      <td>0</td>\n      <td>0</td>\n    </tr>\n    <tr>\n      <th>4</th>\n      <td>136.0</td>\n      <td>81.000000</td>\n      <td>15</td>\n      <td>425</td>\n      <td>120</td>\n      <td>67</td>\n      <td>1</td>\n      <td>0</td>\n      <td>1</td>\n      <td>1</td>\n      <td>0</td>\n      <td>0</td>\n      <td>0</td>\n      <td>0</td>\n      <td>0</td>\n      <td>0</td>\n      <td>0</td>\n      <td>0</td>\n    </tr>\n  </tbody>\n</table>\n</div>"
     },
     "execution_count": 93,
     "metadata": {},
     "output_type": "execute_result"
    }
   ]
  },
  {
   "cell_type": "markdown",
   "metadata": {
    "id": "2Lwk03PSZTJP",
    "pycharm": {
     "name": "#%% md\n"
    }
   },
   "source": [
    "### 2.4 스케일링 \n",
    "* 스케일링을 필요로 하는 알고리즘이 있습니다. \n",
    "* 필요하다고 판단될때 수행합니다."
   ]
  },
  {
   "cell_type": "markdown",
   "source": [
    "* MinMaxScaler"
   ],
   "metadata": {
    "id": "4nWho24-C_Te",
    "pycharm": {
     "name": "#%% md\n"
    }
   }
  },
  {
   "cell_type": "code",
   "metadata": {
    "id": "oAVSU7XucCvn",
    "pycharm": {
     "name": "#%%\n"
    }
   },
   "source": [
    "from sklearn.preprocessing import MinMaxScaler\n",
    "col_x = list(x)\n",
    "scaler = MinMaxScaler()\n",
    "x_s = scaler.fit_transform(x)\n",
    "\n",
    "# 데이터프레임으로 다시 만듭시다.\n",
    "x_s = pd.DataFrame(x_s, columns=col_x)\n",
    "x_s.head()\n"
   ],
   "execution_count": 94,
   "outputs": [
    {
     "data": {
      "text/plain": "   CompPrice    Income  Advertising  Population     Price       Age  \\\n0   0.595506  0.909091     0.172414    0.599598  0.584507  0.672727   \n1   0.640449  0.000000     0.172414    0.138833  0.781690  0.763636   \n2   0.314607  0.481552     0.000000    0.171026  0.535211  0.072727   \n3   0.370787  0.676768     0.344828    0.317907  0.366197  0.654545   \n4   0.561798  0.606061     0.517241    0.830986  0.500000  0.763636   \n\n   ShelveLoc_Good  ShelveLoc_Medium  US_Yes  Urban_Yes  Education_11  \\\n0             0.0               0.0     1.0        1.0           0.0   \n1             0.0               1.0     1.0        0.0           0.0   \n2             0.0               1.0     0.0        1.0           0.0   \n3             0.0               1.0     1.0        1.0           0.0   \n4             1.0               0.0     1.0        1.0           0.0   \n\n   Education_12  Education_13  Education_14  Education_15  Education_16  \\\n0           0.0           1.0           0.0           0.0           0.0   \n1           1.0           0.0           0.0           0.0           0.0   \n2           1.0           0.0           0.0           0.0           0.0   \n3           0.0           1.0           0.0           0.0           0.0   \n4           0.0           0.0           0.0           0.0           0.0   \n\n   Education_17  Education_18  \n0           0.0           0.0  \n1           0.0           0.0  \n2           0.0           0.0  \n3           0.0           0.0  \n4           0.0           0.0  ",
      "text/html": "<div>\n<style scoped>\n    .dataframe tbody tr th:only-of-type {\n        vertical-align: middle;\n    }\n\n    .dataframe tbody tr th {\n        vertical-align: top;\n    }\n\n    .dataframe thead th {\n        text-align: right;\n    }\n</style>\n<table border=\"1\" class=\"dataframe\">\n  <thead>\n    <tr style=\"text-align: right;\">\n      <th></th>\n      <th>CompPrice</th>\n      <th>Income</th>\n      <th>Advertising</th>\n      <th>Population</th>\n      <th>Price</th>\n      <th>Age</th>\n      <th>ShelveLoc_Good</th>\n      <th>ShelveLoc_Medium</th>\n      <th>US_Yes</th>\n      <th>Urban_Yes</th>\n      <th>Education_11</th>\n      <th>Education_12</th>\n      <th>Education_13</th>\n      <th>Education_14</th>\n      <th>Education_15</th>\n      <th>Education_16</th>\n      <th>Education_17</th>\n      <th>Education_18</th>\n    </tr>\n  </thead>\n  <tbody>\n    <tr>\n      <th>0</th>\n      <td>0.595506</td>\n      <td>0.909091</td>\n      <td>0.172414</td>\n      <td>0.599598</td>\n      <td>0.584507</td>\n      <td>0.672727</td>\n      <td>0.0</td>\n      <td>0.0</td>\n      <td>1.0</td>\n      <td>1.0</td>\n      <td>0.0</td>\n      <td>0.0</td>\n      <td>1.0</td>\n      <td>0.0</td>\n      <td>0.0</td>\n      <td>0.0</td>\n      <td>0.0</td>\n      <td>0.0</td>\n    </tr>\n    <tr>\n      <th>1</th>\n      <td>0.640449</td>\n      <td>0.000000</td>\n      <td>0.172414</td>\n      <td>0.138833</td>\n      <td>0.781690</td>\n      <td>0.763636</td>\n      <td>0.0</td>\n      <td>1.0</td>\n      <td>1.0</td>\n      <td>0.0</td>\n      <td>0.0</td>\n      <td>1.0</td>\n      <td>0.0</td>\n      <td>0.0</td>\n      <td>0.0</td>\n      <td>0.0</td>\n      <td>0.0</td>\n      <td>0.0</td>\n    </tr>\n    <tr>\n      <th>2</th>\n      <td>0.314607</td>\n      <td>0.481552</td>\n      <td>0.000000</td>\n      <td>0.171026</td>\n      <td>0.535211</td>\n      <td>0.072727</td>\n      <td>0.0</td>\n      <td>1.0</td>\n      <td>0.0</td>\n      <td>1.0</td>\n      <td>0.0</td>\n      <td>1.0</td>\n      <td>0.0</td>\n      <td>0.0</td>\n      <td>0.0</td>\n      <td>0.0</td>\n      <td>0.0</td>\n      <td>0.0</td>\n    </tr>\n    <tr>\n      <th>3</th>\n      <td>0.370787</td>\n      <td>0.676768</td>\n      <td>0.344828</td>\n      <td>0.317907</td>\n      <td>0.366197</td>\n      <td>0.654545</td>\n      <td>0.0</td>\n      <td>1.0</td>\n      <td>1.0</td>\n      <td>1.0</td>\n      <td>0.0</td>\n      <td>0.0</td>\n      <td>1.0</td>\n      <td>0.0</td>\n      <td>0.0</td>\n      <td>0.0</td>\n      <td>0.0</td>\n      <td>0.0</td>\n    </tr>\n    <tr>\n      <th>4</th>\n      <td>0.561798</td>\n      <td>0.606061</td>\n      <td>0.517241</td>\n      <td>0.830986</td>\n      <td>0.500000</td>\n      <td>0.763636</td>\n      <td>1.0</td>\n      <td>0.0</td>\n      <td>1.0</td>\n      <td>1.0</td>\n      <td>0.0</td>\n      <td>0.0</td>\n      <td>0.0</td>\n      <td>0.0</td>\n      <td>0.0</td>\n      <td>0.0</td>\n      <td>0.0</td>\n      <td>0.0</td>\n    </tr>\n  </tbody>\n</table>\n</div>"
     },
     "execution_count": 94,
     "metadata": {},
     "output_type": "execute_result"
    }
   ]
  },
  {
   "cell_type": "code",
   "source": [
    "x.describe()"
   ],
   "metadata": {
    "id": "Al9IYzKuAVrl",
    "pycharm": {
     "name": "#%%\n"
    }
   },
   "execution_count": 95,
   "outputs": [
    {
     "data": {
      "text/plain": "        CompPrice      Income  Advertising  Population       Price  \\\ncount  300.000000  300.000000   300.000000  300.000000  300.000000   \nmean   125.344948   68.673611     6.600000  266.950000  115.930000   \nstd     14.231818   27.979646     6.569413  148.112339   22.149653   \nmin     86.000000   21.000000     0.000000   12.000000   49.000000   \n25%    116.750000   42.000000     0.000000  136.250000  101.000000   \n50%    125.344948   68.673611     5.000000  278.000000  117.000000   \n75%    134.000000   92.000000    11.000000  400.000000  131.000000   \nmax    175.000000  120.000000    29.000000  509.000000  191.000000   \n\n              Age  ShelveLoc_Good  ShelveLoc_Medium      US_Yes   Urban_Yes  \\\ncount  300.000000      300.000000        300.000000  300.000000  300.000000   \nmean    52.963333        0.206667          0.546667    0.650000    0.696667   \nstd     16.377098        0.405591          0.498649    0.477767    0.460466   \nmin     25.000000        0.000000          0.000000    0.000000    0.000000   \n25%     39.000000        0.000000          0.000000    0.000000    0.000000   \n50%     54.000000        0.000000          1.000000    1.000000    1.000000   \n75%     65.000000        0.000000          1.000000    1.000000    1.000000   \nmax     80.000000        1.000000          1.000000    1.000000    1.000000   \n\n       Education_11  Education_12  Education_13  Education_14  Education_15  \\\ncount    300.000000    300.000000    300.000000    300.000000    300.000000   \nmean       0.120000      0.143333      0.093333      0.110000      0.080000   \nstd        0.325504      0.350998      0.291385      0.313413      0.271746   \nmin        0.000000      0.000000      0.000000      0.000000      0.000000   \n25%        0.000000      0.000000      0.000000      0.000000      0.000000   \n50%        0.000000      0.000000      0.000000      0.000000      0.000000   \n75%        0.000000      0.000000      0.000000      0.000000      0.000000   \nmax        1.000000      1.000000      1.000000      1.000000      1.000000   \n\n       Education_16  Education_17  Education_18  \ncount    300.000000    300.000000    300.000000  \nmean       0.120000      0.126667      0.096667  \nstd        0.325504      0.333155      0.295997  \nmin        0.000000      0.000000      0.000000  \n25%        0.000000      0.000000      0.000000  \n50%        0.000000      0.000000      0.000000  \n75%        0.000000      0.000000      0.000000  \nmax        1.000000      1.000000      1.000000  ",
      "text/html": "<div>\n<style scoped>\n    .dataframe tbody tr th:only-of-type {\n        vertical-align: middle;\n    }\n\n    .dataframe tbody tr th {\n        vertical-align: top;\n    }\n\n    .dataframe thead th {\n        text-align: right;\n    }\n</style>\n<table border=\"1\" class=\"dataframe\">\n  <thead>\n    <tr style=\"text-align: right;\">\n      <th></th>\n      <th>CompPrice</th>\n      <th>Income</th>\n      <th>Advertising</th>\n      <th>Population</th>\n      <th>Price</th>\n      <th>Age</th>\n      <th>ShelveLoc_Good</th>\n      <th>ShelveLoc_Medium</th>\n      <th>US_Yes</th>\n      <th>Urban_Yes</th>\n      <th>Education_11</th>\n      <th>Education_12</th>\n      <th>Education_13</th>\n      <th>Education_14</th>\n      <th>Education_15</th>\n      <th>Education_16</th>\n      <th>Education_17</th>\n      <th>Education_18</th>\n    </tr>\n  </thead>\n  <tbody>\n    <tr>\n      <th>count</th>\n      <td>300.000000</td>\n      <td>300.000000</td>\n      <td>300.000000</td>\n      <td>300.000000</td>\n      <td>300.000000</td>\n      <td>300.000000</td>\n      <td>300.000000</td>\n      <td>300.000000</td>\n      <td>300.000000</td>\n      <td>300.000000</td>\n      <td>300.000000</td>\n      <td>300.000000</td>\n      <td>300.000000</td>\n      <td>300.000000</td>\n      <td>300.000000</td>\n      <td>300.000000</td>\n      <td>300.000000</td>\n      <td>300.000000</td>\n    </tr>\n    <tr>\n      <th>mean</th>\n      <td>125.344948</td>\n      <td>68.673611</td>\n      <td>6.600000</td>\n      <td>266.950000</td>\n      <td>115.930000</td>\n      <td>52.963333</td>\n      <td>0.206667</td>\n      <td>0.546667</td>\n      <td>0.650000</td>\n      <td>0.696667</td>\n      <td>0.120000</td>\n      <td>0.143333</td>\n      <td>0.093333</td>\n      <td>0.110000</td>\n      <td>0.080000</td>\n      <td>0.120000</td>\n      <td>0.126667</td>\n      <td>0.096667</td>\n    </tr>\n    <tr>\n      <th>std</th>\n      <td>14.231818</td>\n      <td>27.979646</td>\n      <td>6.569413</td>\n      <td>148.112339</td>\n      <td>22.149653</td>\n      <td>16.377098</td>\n      <td>0.405591</td>\n      <td>0.498649</td>\n      <td>0.477767</td>\n      <td>0.460466</td>\n      <td>0.325504</td>\n      <td>0.350998</td>\n      <td>0.291385</td>\n      <td>0.313413</td>\n      <td>0.271746</td>\n      <td>0.325504</td>\n      <td>0.333155</td>\n      <td>0.295997</td>\n    </tr>\n    <tr>\n      <th>min</th>\n      <td>86.000000</td>\n      <td>21.000000</td>\n      <td>0.000000</td>\n      <td>12.000000</td>\n      <td>49.000000</td>\n      <td>25.000000</td>\n      <td>0.000000</td>\n      <td>0.000000</td>\n      <td>0.000000</td>\n      <td>0.000000</td>\n      <td>0.000000</td>\n      <td>0.000000</td>\n      <td>0.000000</td>\n      <td>0.000000</td>\n      <td>0.000000</td>\n      <td>0.000000</td>\n      <td>0.000000</td>\n      <td>0.000000</td>\n    </tr>\n    <tr>\n      <th>25%</th>\n      <td>116.750000</td>\n      <td>42.000000</td>\n      <td>0.000000</td>\n      <td>136.250000</td>\n      <td>101.000000</td>\n      <td>39.000000</td>\n      <td>0.000000</td>\n      <td>0.000000</td>\n      <td>0.000000</td>\n      <td>0.000000</td>\n      <td>0.000000</td>\n      <td>0.000000</td>\n      <td>0.000000</td>\n      <td>0.000000</td>\n      <td>0.000000</td>\n      <td>0.000000</td>\n      <td>0.000000</td>\n      <td>0.000000</td>\n    </tr>\n    <tr>\n      <th>50%</th>\n      <td>125.344948</td>\n      <td>68.673611</td>\n      <td>5.000000</td>\n      <td>278.000000</td>\n      <td>117.000000</td>\n      <td>54.000000</td>\n      <td>0.000000</td>\n      <td>1.000000</td>\n      <td>1.000000</td>\n      <td>1.000000</td>\n      <td>0.000000</td>\n      <td>0.000000</td>\n      <td>0.000000</td>\n      <td>0.000000</td>\n      <td>0.000000</td>\n      <td>0.000000</td>\n      <td>0.000000</td>\n      <td>0.000000</td>\n    </tr>\n    <tr>\n      <th>75%</th>\n      <td>134.000000</td>\n      <td>92.000000</td>\n      <td>11.000000</td>\n      <td>400.000000</td>\n      <td>131.000000</td>\n      <td>65.000000</td>\n      <td>0.000000</td>\n      <td>1.000000</td>\n      <td>1.000000</td>\n      <td>1.000000</td>\n      <td>0.000000</td>\n      <td>0.000000</td>\n      <td>0.000000</td>\n      <td>0.000000</td>\n      <td>0.000000</td>\n      <td>0.000000</td>\n      <td>0.000000</td>\n      <td>0.000000</td>\n    </tr>\n    <tr>\n      <th>max</th>\n      <td>175.000000</td>\n      <td>120.000000</td>\n      <td>29.000000</td>\n      <td>509.000000</td>\n      <td>191.000000</td>\n      <td>80.000000</td>\n      <td>1.000000</td>\n      <td>1.000000</td>\n      <td>1.000000</td>\n      <td>1.000000</td>\n      <td>1.000000</td>\n      <td>1.000000</td>\n      <td>1.000000</td>\n      <td>1.000000</td>\n      <td>1.000000</td>\n      <td>1.000000</td>\n      <td>1.000000</td>\n      <td>1.000000</td>\n    </tr>\n  </tbody>\n</table>\n</div>"
     },
     "execution_count": 95,
     "metadata": {},
     "output_type": "execute_result"
    }
   ]
  },
  {
   "cell_type": "code",
   "source": [
    "x_s.describe()"
   ],
   "metadata": {
    "id": "IEMec6RTAXvX",
    "pycharm": {
     "name": "#%%\n"
    }
   },
   "execution_count": 96,
   "outputs": [
    {
     "data": {
      "text/plain": "        CompPrice      Income  Advertising  Population       Price  \\\ncount  300.000000  300.000000   300.000000  300.000000  300.000000   \nmean     0.442078    0.481552     0.227586    0.512978    0.471338   \nstd      0.159908    0.282623     0.226531    0.298013    0.155983   \nmin      0.000000    0.000000     0.000000    0.000000    0.000000   \n25%      0.345506    0.212121     0.000000    0.250000    0.366197   \n50%      0.442078    0.481552     0.172414    0.535211    0.478873   \n75%      0.539326    0.717172     0.379310    0.780684    0.577465   \nmax      1.000000    1.000000     1.000000    1.000000    1.000000   \n\n              Age  ShelveLoc_Good  ShelveLoc_Medium      US_Yes   Urban_Yes  \\\ncount  300.000000      300.000000        300.000000  300.000000  300.000000   \nmean     0.508424        0.206667          0.546667    0.650000    0.696667   \nstd      0.297765        0.405591          0.498649    0.477767    0.460466   \nmin      0.000000        0.000000          0.000000    0.000000    0.000000   \n25%      0.254545        0.000000          0.000000    0.000000    0.000000   \n50%      0.527273        0.000000          1.000000    1.000000    1.000000   \n75%      0.727273        0.000000          1.000000    1.000000    1.000000   \nmax      1.000000        1.000000          1.000000    1.000000    1.000000   \n\n       Education_11  Education_12  Education_13  Education_14  Education_15  \\\ncount    300.000000    300.000000    300.000000    300.000000    300.000000   \nmean       0.120000      0.143333      0.093333      0.110000      0.080000   \nstd        0.325504      0.350998      0.291385      0.313413      0.271746   \nmin        0.000000      0.000000      0.000000      0.000000      0.000000   \n25%        0.000000      0.000000      0.000000      0.000000      0.000000   \n50%        0.000000      0.000000      0.000000      0.000000      0.000000   \n75%        0.000000      0.000000      0.000000      0.000000      0.000000   \nmax        1.000000      1.000000      1.000000      1.000000      1.000000   \n\n       Education_16  Education_17  Education_18  \ncount    300.000000    300.000000    300.000000  \nmean       0.120000      0.126667      0.096667  \nstd        0.325504      0.333155      0.295997  \nmin        0.000000      0.000000      0.000000  \n25%        0.000000      0.000000      0.000000  \n50%        0.000000      0.000000      0.000000  \n75%        0.000000      0.000000      0.000000  \nmax        1.000000      1.000000      1.000000  ",
      "text/html": "<div>\n<style scoped>\n    .dataframe tbody tr th:only-of-type {\n        vertical-align: middle;\n    }\n\n    .dataframe tbody tr th {\n        vertical-align: top;\n    }\n\n    .dataframe thead th {\n        text-align: right;\n    }\n</style>\n<table border=\"1\" class=\"dataframe\">\n  <thead>\n    <tr style=\"text-align: right;\">\n      <th></th>\n      <th>CompPrice</th>\n      <th>Income</th>\n      <th>Advertising</th>\n      <th>Population</th>\n      <th>Price</th>\n      <th>Age</th>\n      <th>ShelveLoc_Good</th>\n      <th>ShelveLoc_Medium</th>\n      <th>US_Yes</th>\n      <th>Urban_Yes</th>\n      <th>Education_11</th>\n      <th>Education_12</th>\n      <th>Education_13</th>\n      <th>Education_14</th>\n      <th>Education_15</th>\n      <th>Education_16</th>\n      <th>Education_17</th>\n      <th>Education_18</th>\n    </tr>\n  </thead>\n  <tbody>\n    <tr>\n      <th>count</th>\n      <td>300.000000</td>\n      <td>300.000000</td>\n      <td>300.000000</td>\n      <td>300.000000</td>\n      <td>300.000000</td>\n      <td>300.000000</td>\n      <td>300.000000</td>\n      <td>300.000000</td>\n      <td>300.000000</td>\n      <td>300.000000</td>\n      <td>300.000000</td>\n      <td>300.000000</td>\n      <td>300.000000</td>\n      <td>300.000000</td>\n      <td>300.000000</td>\n      <td>300.000000</td>\n      <td>300.000000</td>\n      <td>300.000000</td>\n    </tr>\n    <tr>\n      <th>mean</th>\n      <td>0.442078</td>\n      <td>0.481552</td>\n      <td>0.227586</td>\n      <td>0.512978</td>\n      <td>0.471338</td>\n      <td>0.508424</td>\n      <td>0.206667</td>\n      <td>0.546667</td>\n      <td>0.650000</td>\n      <td>0.696667</td>\n      <td>0.120000</td>\n      <td>0.143333</td>\n      <td>0.093333</td>\n      <td>0.110000</td>\n      <td>0.080000</td>\n      <td>0.120000</td>\n      <td>0.126667</td>\n      <td>0.096667</td>\n    </tr>\n    <tr>\n      <th>std</th>\n      <td>0.159908</td>\n      <td>0.282623</td>\n      <td>0.226531</td>\n      <td>0.298013</td>\n      <td>0.155983</td>\n      <td>0.297765</td>\n      <td>0.405591</td>\n      <td>0.498649</td>\n      <td>0.477767</td>\n      <td>0.460466</td>\n      <td>0.325504</td>\n      <td>0.350998</td>\n      <td>0.291385</td>\n      <td>0.313413</td>\n      <td>0.271746</td>\n      <td>0.325504</td>\n      <td>0.333155</td>\n      <td>0.295997</td>\n    </tr>\n    <tr>\n      <th>min</th>\n      <td>0.000000</td>\n      <td>0.000000</td>\n      <td>0.000000</td>\n      <td>0.000000</td>\n      <td>0.000000</td>\n      <td>0.000000</td>\n      <td>0.000000</td>\n      <td>0.000000</td>\n      <td>0.000000</td>\n      <td>0.000000</td>\n      <td>0.000000</td>\n      <td>0.000000</td>\n      <td>0.000000</td>\n      <td>0.000000</td>\n      <td>0.000000</td>\n      <td>0.000000</td>\n      <td>0.000000</td>\n      <td>0.000000</td>\n    </tr>\n    <tr>\n      <th>25%</th>\n      <td>0.345506</td>\n      <td>0.212121</td>\n      <td>0.000000</td>\n      <td>0.250000</td>\n      <td>0.366197</td>\n      <td>0.254545</td>\n      <td>0.000000</td>\n      <td>0.000000</td>\n      <td>0.000000</td>\n      <td>0.000000</td>\n      <td>0.000000</td>\n      <td>0.000000</td>\n      <td>0.000000</td>\n      <td>0.000000</td>\n      <td>0.000000</td>\n      <td>0.000000</td>\n      <td>0.000000</td>\n      <td>0.000000</td>\n    </tr>\n    <tr>\n      <th>50%</th>\n      <td>0.442078</td>\n      <td>0.481552</td>\n      <td>0.172414</td>\n      <td>0.535211</td>\n      <td>0.478873</td>\n      <td>0.527273</td>\n      <td>0.000000</td>\n      <td>1.000000</td>\n      <td>1.000000</td>\n      <td>1.000000</td>\n      <td>0.000000</td>\n      <td>0.000000</td>\n      <td>0.000000</td>\n      <td>0.000000</td>\n      <td>0.000000</td>\n      <td>0.000000</td>\n      <td>0.000000</td>\n      <td>0.000000</td>\n    </tr>\n    <tr>\n      <th>75%</th>\n      <td>0.539326</td>\n      <td>0.717172</td>\n      <td>0.379310</td>\n      <td>0.780684</td>\n      <td>0.577465</td>\n      <td>0.727273</td>\n      <td>0.000000</td>\n      <td>1.000000</td>\n      <td>1.000000</td>\n      <td>1.000000</td>\n      <td>0.000000</td>\n      <td>0.000000</td>\n      <td>0.000000</td>\n      <td>0.000000</td>\n      <td>0.000000</td>\n      <td>0.000000</td>\n      <td>0.000000</td>\n      <td>0.000000</td>\n    </tr>\n    <tr>\n      <th>max</th>\n      <td>1.000000</td>\n      <td>1.000000</td>\n      <td>1.000000</td>\n      <td>1.000000</td>\n      <td>1.000000</td>\n      <td>1.000000</td>\n      <td>1.000000</td>\n      <td>1.000000</td>\n      <td>1.000000</td>\n      <td>1.000000</td>\n      <td>1.000000</td>\n      <td>1.000000</td>\n      <td>1.000000</td>\n      <td>1.000000</td>\n      <td>1.000000</td>\n      <td>1.000000</td>\n      <td>1.000000</td>\n      <td>1.000000</td>\n    </tr>\n  </tbody>\n</table>\n</div>"
     },
     "execution_count": 96,
     "metadata": {},
     "output_type": "execute_result"
    }
   ]
  },
  {
   "cell_type": "markdown",
   "source": [
    "* StandardScaler"
   ],
   "metadata": {
    "id": "j6mLP1UXDDv-",
    "pycharm": {
     "name": "#%% md\n"
    }
   }
  },
  {
   "cell_type": "code",
   "metadata": {
    "id": "IyEV3WqjDDv_",
    "pycharm": {
     "name": "#%%\n"
    }
   },
   "source": [
    "from sklearn.preprocessing import StandardScaler\n",
    "col_x = list(x)\n",
    "scaler = StandardScaler()\n",
    "x_s = scaler.fit_transform(x)\n",
    "\n",
    "# 데이터프레임으로 다시 만듭시다.\n",
    "x_s = pd.DataFrame(x_s, columns=col_x)\n",
    "x_s.head()\n"
   ],
   "execution_count": 97,
   "outputs": [
    {
     "data": {
      "text/plain": "   CompPrice    Income  Advertising  Population     Price       Age  \\\n0   0.961077  1.515284    -0.243960    0.291143  0.726731  0.552709   \n1   1.242607 -1.706714    -0.243960   -1.257564  1.992972  0.858523   \n2  -0.798486  0.000000    -1.006335   -1.149357  0.410171 -1.465667   \n3  -0.446573  0.691884     0.518415   -0.655664 -0.675177  0.491546   \n4   0.749929  0.441285     1.280789    1.068878  0.184057  0.858523   \n\n   ShelveLoc_Good  ShelveLoc_Medium    US_Yes  Urban_Yes  Education_11  \\\n0       -0.510396         -1.098127  0.733799   0.659854     -0.369274   \n1       -0.510396          0.910642  0.733799  -1.515488     -0.369274   \n2       -0.510396          0.910642 -1.362770   0.659854     -0.369274   \n3       -0.510396          0.910642  0.733799   0.659854     -0.369274   \n4        1.959263         -1.098127  0.733799   0.659854     -0.369274   \n\n   Education_12  Education_13  Education_14  Education_15  Education_16  \\\n0     -0.409042      3.116775     -0.351562     -0.294884     -0.369274   \n1      2.444738     -0.320844     -0.351562     -0.294884     -0.369274   \n2      2.444738     -0.320844     -0.351562     -0.294884     -0.369274   \n3     -0.409042      3.116775     -0.351562     -0.294884     -0.369274   \n4     -0.409042     -0.320844     -0.351562     -0.294884     -0.369274   \n\n   Education_17  Education_18  \n0     -0.380839     -0.327125  \n1     -0.380839     -0.327125  \n2     -0.380839     -0.327125  \n3     -0.380839     -0.327125  \n4     -0.380839     -0.327125  ",
      "text/html": "<div>\n<style scoped>\n    .dataframe tbody tr th:only-of-type {\n        vertical-align: middle;\n    }\n\n    .dataframe tbody tr th {\n        vertical-align: top;\n    }\n\n    .dataframe thead th {\n        text-align: right;\n    }\n</style>\n<table border=\"1\" class=\"dataframe\">\n  <thead>\n    <tr style=\"text-align: right;\">\n      <th></th>\n      <th>CompPrice</th>\n      <th>Income</th>\n      <th>Advertising</th>\n      <th>Population</th>\n      <th>Price</th>\n      <th>Age</th>\n      <th>ShelveLoc_Good</th>\n      <th>ShelveLoc_Medium</th>\n      <th>US_Yes</th>\n      <th>Urban_Yes</th>\n      <th>Education_11</th>\n      <th>Education_12</th>\n      <th>Education_13</th>\n      <th>Education_14</th>\n      <th>Education_15</th>\n      <th>Education_16</th>\n      <th>Education_17</th>\n      <th>Education_18</th>\n    </tr>\n  </thead>\n  <tbody>\n    <tr>\n      <th>0</th>\n      <td>0.961077</td>\n      <td>1.515284</td>\n      <td>-0.243960</td>\n      <td>0.291143</td>\n      <td>0.726731</td>\n      <td>0.552709</td>\n      <td>-0.510396</td>\n      <td>-1.098127</td>\n      <td>0.733799</td>\n      <td>0.659854</td>\n      <td>-0.369274</td>\n      <td>-0.409042</td>\n      <td>3.116775</td>\n      <td>-0.351562</td>\n      <td>-0.294884</td>\n      <td>-0.369274</td>\n      <td>-0.380839</td>\n      <td>-0.327125</td>\n    </tr>\n    <tr>\n      <th>1</th>\n      <td>1.242607</td>\n      <td>-1.706714</td>\n      <td>-0.243960</td>\n      <td>-1.257564</td>\n      <td>1.992972</td>\n      <td>0.858523</td>\n      <td>-0.510396</td>\n      <td>0.910642</td>\n      <td>0.733799</td>\n      <td>-1.515488</td>\n      <td>-0.369274</td>\n      <td>2.444738</td>\n      <td>-0.320844</td>\n      <td>-0.351562</td>\n      <td>-0.294884</td>\n      <td>-0.369274</td>\n      <td>-0.380839</td>\n      <td>-0.327125</td>\n    </tr>\n    <tr>\n      <th>2</th>\n      <td>-0.798486</td>\n      <td>0.000000</td>\n      <td>-1.006335</td>\n      <td>-1.149357</td>\n      <td>0.410171</td>\n      <td>-1.465667</td>\n      <td>-0.510396</td>\n      <td>0.910642</td>\n      <td>-1.362770</td>\n      <td>0.659854</td>\n      <td>-0.369274</td>\n      <td>2.444738</td>\n      <td>-0.320844</td>\n      <td>-0.351562</td>\n      <td>-0.294884</td>\n      <td>-0.369274</td>\n      <td>-0.380839</td>\n      <td>-0.327125</td>\n    </tr>\n    <tr>\n      <th>3</th>\n      <td>-0.446573</td>\n      <td>0.691884</td>\n      <td>0.518415</td>\n      <td>-0.655664</td>\n      <td>-0.675177</td>\n      <td>0.491546</td>\n      <td>-0.510396</td>\n      <td>0.910642</td>\n      <td>0.733799</td>\n      <td>0.659854</td>\n      <td>-0.369274</td>\n      <td>-0.409042</td>\n      <td>3.116775</td>\n      <td>-0.351562</td>\n      <td>-0.294884</td>\n      <td>-0.369274</td>\n      <td>-0.380839</td>\n      <td>-0.327125</td>\n    </tr>\n    <tr>\n      <th>4</th>\n      <td>0.749929</td>\n      <td>0.441285</td>\n      <td>1.280789</td>\n      <td>1.068878</td>\n      <td>0.184057</td>\n      <td>0.858523</td>\n      <td>1.959263</td>\n      <td>-1.098127</td>\n      <td>0.733799</td>\n      <td>0.659854</td>\n      <td>-0.369274</td>\n      <td>-0.409042</td>\n      <td>-0.320844</td>\n      <td>-0.351562</td>\n      <td>-0.294884</td>\n      <td>-0.369274</td>\n      <td>-0.380839</td>\n      <td>-0.327125</td>\n    </tr>\n  </tbody>\n</table>\n</div>"
     },
     "execution_count": 97,
     "metadata": {},
     "output_type": "execute_result"
    }
   ]
  },
  {
   "cell_type": "code",
   "source": [
    "x.describe()"
   ],
   "metadata": {
    "id": "5t83_8wJDDv_",
    "pycharm": {
     "name": "#%%\n"
    }
   },
   "execution_count": 98,
   "outputs": [
    {
     "data": {
      "text/plain": "        CompPrice      Income  Advertising  Population       Price  \\\ncount  300.000000  300.000000   300.000000  300.000000  300.000000   \nmean   125.344948   68.673611     6.600000  266.950000  115.930000   \nstd     14.231818   27.979646     6.569413  148.112339   22.149653   \nmin     86.000000   21.000000     0.000000   12.000000   49.000000   \n25%    116.750000   42.000000     0.000000  136.250000  101.000000   \n50%    125.344948   68.673611     5.000000  278.000000  117.000000   \n75%    134.000000   92.000000    11.000000  400.000000  131.000000   \nmax    175.000000  120.000000    29.000000  509.000000  191.000000   \n\n              Age  ShelveLoc_Good  ShelveLoc_Medium      US_Yes   Urban_Yes  \\\ncount  300.000000      300.000000        300.000000  300.000000  300.000000   \nmean    52.963333        0.206667          0.546667    0.650000    0.696667   \nstd     16.377098        0.405591          0.498649    0.477767    0.460466   \nmin     25.000000        0.000000          0.000000    0.000000    0.000000   \n25%     39.000000        0.000000          0.000000    0.000000    0.000000   \n50%     54.000000        0.000000          1.000000    1.000000    1.000000   \n75%     65.000000        0.000000          1.000000    1.000000    1.000000   \nmax     80.000000        1.000000          1.000000    1.000000    1.000000   \n\n       Education_11  Education_12  Education_13  Education_14  Education_15  \\\ncount    300.000000    300.000000    300.000000    300.000000    300.000000   \nmean       0.120000      0.143333      0.093333      0.110000      0.080000   \nstd        0.325504      0.350998      0.291385      0.313413      0.271746   \nmin        0.000000      0.000000      0.000000      0.000000      0.000000   \n25%        0.000000      0.000000      0.000000      0.000000      0.000000   \n50%        0.000000      0.000000      0.000000      0.000000      0.000000   \n75%        0.000000      0.000000      0.000000      0.000000      0.000000   \nmax        1.000000      1.000000      1.000000      1.000000      1.000000   \n\n       Education_16  Education_17  Education_18  \ncount    300.000000    300.000000    300.000000  \nmean       0.120000      0.126667      0.096667  \nstd        0.325504      0.333155      0.295997  \nmin        0.000000      0.000000      0.000000  \n25%        0.000000      0.000000      0.000000  \n50%        0.000000      0.000000      0.000000  \n75%        0.000000      0.000000      0.000000  \nmax        1.000000      1.000000      1.000000  ",
      "text/html": "<div>\n<style scoped>\n    .dataframe tbody tr th:only-of-type {\n        vertical-align: middle;\n    }\n\n    .dataframe tbody tr th {\n        vertical-align: top;\n    }\n\n    .dataframe thead th {\n        text-align: right;\n    }\n</style>\n<table border=\"1\" class=\"dataframe\">\n  <thead>\n    <tr style=\"text-align: right;\">\n      <th></th>\n      <th>CompPrice</th>\n      <th>Income</th>\n      <th>Advertising</th>\n      <th>Population</th>\n      <th>Price</th>\n      <th>Age</th>\n      <th>ShelveLoc_Good</th>\n      <th>ShelveLoc_Medium</th>\n      <th>US_Yes</th>\n      <th>Urban_Yes</th>\n      <th>Education_11</th>\n      <th>Education_12</th>\n      <th>Education_13</th>\n      <th>Education_14</th>\n      <th>Education_15</th>\n      <th>Education_16</th>\n      <th>Education_17</th>\n      <th>Education_18</th>\n    </tr>\n  </thead>\n  <tbody>\n    <tr>\n      <th>count</th>\n      <td>300.000000</td>\n      <td>300.000000</td>\n      <td>300.000000</td>\n      <td>300.000000</td>\n      <td>300.000000</td>\n      <td>300.000000</td>\n      <td>300.000000</td>\n      <td>300.000000</td>\n      <td>300.000000</td>\n      <td>300.000000</td>\n      <td>300.000000</td>\n      <td>300.000000</td>\n      <td>300.000000</td>\n      <td>300.000000</td>\n      <td>300.000000</td>\n      <td>300.000000</td>\n      <td>300.000000</td>\n      <td>300.000000</td>\n    </tr>\n    <tr>\n      <th>mean</th>\n      <td>125.344948</td>\n      <td>68.673611</td>\n      <td>6.600000</td>\n      <td>266.950000</td>\n      <td>115.930000</td>\n      <td>52.963333</td>\n      <td>0.206667</td>\n      <td>0.546667</td>\n      <td>0.650000</td>\n      <td>0.696667</td>\n      <td>0.120000</td>\n      <td>0.143333</td>\n      <td>0.093333</td>\n      <td>0.110000</td>\n      <td>0.080000</td>\n      <td>0.120000</td>\n      <td>0.126667</td>\n      <td>0.096667</td>\n    </tr>\n    <tr>\n      <th>std</th>\n      <td>14.231818</td>\n      <td>27.979646</td>\n      <td>6.569413</td>\n      <td>148.112339</td>\n      <td>22.149653</td>\n      <td>16.377098</td>\n      <td>0.405591</td>\n      <td>0.498649</td>\n      <td>0.477767</td>\n      <td>0.460466</td>\n      <td>0.325504</td>\n      <td>0.350998</td>\n      <td>0.291385</td>\n      <td>0.313413</td>\n      <td>0.271746</td>\n      <td>0.325504</td>\n      <td>0.333155</td>\n      <td>0.295997</td>\n    </tr>\n    <tr>\n      <th>min</th>\n      <td>86.000000</td>\n      <td>21.000000</td>\n      <td>0.000000</td>\n      <td>12.000000</td>\n      <td>49.000000</td>\n      <td>25.000000</td>\n      <td>0.000000</td>\n      <td>0.000000</td>\n      <td>0.000000</td>\n      <td>0.000000</td>\n      <td>0.000000</td>\n      <td>0.000000</td>\n      <td>0.000000</td>\n      <td>0.000000</td>\n      <td>0.000000</td>\n      <td>0.000000</td>\n      <td>0.000000</td>\n      <td>0.000000</td>\n    </tr>\n    <tr>\n      <th>25%</th>\n      <td>116.750000</td>\n      <td>42.000000</td>\n      <td>0.000000</td>\n      <td>136.250000</td>\n      <td>101.000000</td>\n      <td>39.000000</td>\n      <td>0.000000</td>\n      <td>0.000000</td>\n      <td>0.000000</td>\n      <td>0.000000</td>\n      <td>0.000000</td>\n      <td>0.000000</td>\n      <td>0.000000</td>\n      <td>0.000000</td>\n      <td>0.000000</td>\n      <td>0.000000</td>\n      <td>0.000000</td>\n      <td>0.000000</td>\n    </tr>\n    <tr>\n      <th>50%</th>\n      <td>125.344948</td>\n      <td>68.673611</td>\n      <td>5.000000</td>\n      <td>278.000000</td>\n      <td>117.000000</td>\n      <td>54.000000</td>\n      <td>0.000000</td>\n      <td>1.000000</td>\n      <td>1.000000</td>\n      <td>1.000000</td>\n      <td>0.000000</td>\n      <td>0.000000</td>\n      <td>0.000000</td>\n      <td>0.000000</td>\n      <td>0.000000</td>\n      <td>0.000000</td>\n      <td>0.000000</td>\n      <td>0.000000</td>\n    </tr>\n    <tr>\n      <th>75%</th>\n      <td>134.000000</td>\n      <td>92.000000</td>\n      <td>11.000000</td>\n      <td>400.000000</td>\n      <td>131.000000</td>\n      <td>65.000000</td>\n      <td>0.000000</td>\n      <td>1.000000</td>\n      <td>1.000000</td>\n      <td>1.000000</td>\n      <td>0.000000</td>\n      <td>0.000000</td>\n      <td>0.000000</td>\n      <td>0.000000</td>\n      <td>0.000000</td>\n      <td>0.000000</td>\n      <td>0.000000</td>\n      <td>0.000000</td>\n    </tr>\n    <tr>\n      <th>max</th>\n      <td>175.000000</td>\n      <td>120.000000</td>\n      <td>29.000000</td>\n      <td>509.000000</td>\n      <td>191.000000</td>\n      <td>80.000000</td>\n      <td>1.000000</td>\n      <td>1.000000</td>\n      <td>1.000000</td>\n      <td>1.000000</td>\n      <td>1.000000</td>\n      <td>1.000000</td>\n      <td>1.000000</td>\n      <td>1.000000</td>\n      <td>1.000000</td>\n      <td>1.000000</td>\n      <td>1.000000</td>\n      <td>1.000000</td>\n    </tr>\n  </tbody>\n</table>\n</div>"
     },
     "execution_count": 98,
     "metadata": {},
     "output_type": "execute_result"
    }
   ]
  },
  {
   "cell_type": "code",
   "source": [
    "x_s.describe()"
   ],
   "metadata": {
    "id": "7_SVqAcODDv_",
    "pycharm": {
     "name": "#%%\n"
    }
   },
   "execution_count": 99,
   "outputs": [
    {
     "data": {
      "text/plain": "          CompPrice        Income   Advertising    Population         Price  \\\ncount  3.000000e+02  3.000000e+02  3.000000e+02  3.000000e+02  3.000000e+02   \nmean   9.747758e-16 -8.798517e-17  8.067621e-17  6.254256e-17 -3.160435e-16   \nstd    1.001671e+00  1.001671e+00  1.001671e+00  1.001671e+00  1.001671e+00   \nmin   -2.769196e+00 -1.706714e+00 -1.006335e+00 -1.724205e+00 -3.026767e+00   \n25%   -6.049338e-01 -9.549148e-01 -1.006335e+00 -8.839127e-01 -6.751774e-01   \n50%    1.000195e-15  0.000000e+00 -2.439599e-01  7.473019e-02  4.838847e-02   \n75%    6.091642e-01  8.350843e-01  6.708897e-01  8.998056e-01  6.815086e-01   \nmax    3.494846e+00  1.837484e+00  3.415438e+00  1.636963e+00  3.394881e+00   \n\n                Age  ShelveLoc_Good  ShelveLoc_Medium        US_Yes  \\\ncount  3.000000e+02    3.000000e+02      3.000000e+02  3.000000e+02   \nmean   1.465494e-16    2.486900e-16      4.181840e-16 -7.031412e-17   \nstd    1.001671e+00    1.001671e+00      1.001671e+00  1.001671e+00   \nmin   -1.710319e+00   -5.103961e-01     -1.098127e+00 -1.362770e+00   \n25%   -8.540380e-01   -5.103961e-01     -1.098127e+00 -1.362770e+00   \n50%    6.340554e-02   -5.103961e-01      9.106417e-01  7.337994e-01   \n75%    7.361974e-01   -5.103961e-01      9.106417e-01  7.337994e-01   \nmax    1.653641e+00    1.959263e+00      9.106417e-01  7.337994e-01   \n\n          Urban_Yes  Education_11  Education_12  Education_13  Education_14  \\\ncount  3.000000e+02  3.000000e+02  3.000000e+02  3.000000e+02  3.000000e+02   \nmean  -1.842970e-16 -9.584925e-17  7.697546e-17  1.084318e-16 -2.775558e-17   \nstd    1.001671e+00  1.001671e+00  1.001671e+00  1.001671e+00  1.001671e+00   \nmin   -1.515488e+00 -3.692745e-01 -4.090418e-01 -3.208445e-01 -3.515615e-01   \n25%   -1.515488e+00 -3.692745e-01 -4.090418e-01 -3.208445e-01 -3.515615e-01   \n50%    6.598535e-01 -3.692745e-01 -4.090418e-01 -3.208445e-01 -3.515615e-01   \n75%    6.598535e-01 -3.692745e-01 -4.090418e-01 -3.208445e-01 -3.515615e-01   \nmax    6.598535e-01  2.708013e+00  2.444738e+00  3.116775e+00  2.844452e+00   \n\n       Education_15  Education_16  Education_17  Education_18  \ncount  3.000000e+02  3.000000e+02  3.000000e+02  3.000000e+02  \nmean  -6.069219e-17  8.104628e-17  2.127927e-17  6.217249e-17  \nstd    1.001671e+00  1.001671e+00  1.001671e+00  1.001671e+00  \nmin   -2.948839e-01 -3.692745e-01 -3.808388e-01 -3.271255e-01  \n25%   -2.948839e-01 -3.692745e-01 -3.808388e-01 -3.271255e-01  \n50%   -2.948839e-01 -3.692745e-01 -3.808388e-01 -3.271255e-01  \n75%   -2.948839e-01 -3.692745e-01 -3.808388e-01 -3.271255e-01  \nmax    3.391165e+00  2.708013e+00  2.625783e+00  3.056931e+00  ",
      "text/html": "<div>\n<style scoped>\n    .dataframe tbody tr th:only-of-type {\n        vertical-align: middle;\n    }\n\n    .dataframe tbody tr th {\n        vertical-align: top;\n    }\n\n    .dataframe thead th {\n        text-align: right;\n    }\n</style>\n<table border=\"1\" class=\"dataframe\">\n  <thead>\n    <tr style=\"text-align: right;\">\n      <th></th>\n      <th>CompPrice</th>\n      <th>Income</th>\n      <th>Advertising</th>\n      <th>Population</th>\n      <th>Price</th>\n      <th>Age</th>\n      <th>ShelveLoc_Good</th>\n      <th>ShelveLoc_Medium</th>\n      <th>US_Yes</th>\n      <th>Urban_Yes</th>\n      <th>Education_11</th>\n      <th>Education_12</th>\n      <th>Education_13</th>\n      <th>Education_14</th>\n      <th>Education_15</th>\n      <th>Education_16</th>\n      <th>Education_17</th>\n      <th>Education_18</th>\n    </tr>\n  </thead>\n  <tbody>\n    <tr>\n      <th>count</th>\n      <td>3.000000e+02</td>\n      <td>3.000000e+02</td>\n      <td>3.000000e+02</td>\n      <td>3.000000e+02</td>\n      <td>3.000000e+02</td>\n      <td>3.000000e+02</td>\n      <td>3.000000e+02</td>\n      <td>3.000000e+02</td>\n      <td>3.000000e+02</td>\n      <td>3.000000e+02</td>\n      <td>3.000000e+02</td>\n      <td>3.000000e+02</td>\n      <td>3.000000e+02</td>\n      <td>3.000000e+02</td>\n      <td>3.000000e+02</td>\n      <td>3.000000e+02</td>\n      <td>3.000000e+02</td>\n      <td>3.000000e+02</td>\n    </tr>\n    <tr>\n      <th>mean</th>\n      <td>9.747758e-16</td>\n      <td>-8.798517e-17</td>\n      <td>8.067621e-17</td>\n      <td>6.254256e-17</td>\n      <td>-3.160435e-16</td>\n      <td>1.465494e-16</td>\n      <td>2.486900e-16</td>\n      <td>4.181840e-16</td>\n      <td>-7.031412e-17</td>\n      <td>-1.842970e-16</td>\n      <td>-9.584925e-17</td>\n      <td>7.697546e-17</td>\n      <td>1.084318e-16</td>\n      <td>-2.775558e-17</td>\n      <td>-6.069219e-17</td>\n      <td>8.104628e-17</td>\n      <td>2.127927e-17</td>\n      <td>6.217249e-17</td>\n    </tr>\n    <tr>\n      <th>std</th>\n      <td>1.001671e+00</td>\n      <td>1.001671e+00</td>\n      <td>1.001671e+00</td>\n      <td>1.001671e+00</td>\n      <td>1.001671e+00</td>\n      <td>1.001671e+00</td>\n      <td>1.001671e+00</td>\n      <td>1.001671e+00</td>\n      <td>1.001671e+00</td>\n      <td>1.001671e+00</td>\n      <td>1.001671e+00</td>\n      <td>1.001671e+00</td>\n      <td>1.001671e+00</td>\n      <td>1.001671e+00</td>\n      <td>1.001671e+00</td>\n      <td>1.001671e+00</td>\n      <td>1.001671e+00</td>\n      <td>1.001671e+00</td>\n    </tr>\n    <tr>\n      <th>min</th>\n      <td>-2.769196e+00</td>\n      <td>-1.706714e+00</td>\n      <td>-1.006335e+00</td>\n      <td>-1.724205e+00</td>\n      <td>-3.026767e+00</td>\n      <td>-1.710319e+00</td>\n      <td>-5.103961e-01</td>\n      <td>-1.098127e+00</td>\n      <td>-1.362770e+00</td>\n      <td>-1.515488e+00</td>\n      <td>-3.692745e-01</td>\n      <td>-4.090418e-01</td>\n      <td>-3.208445e-01</td>\n      <td>-3.515615e-01</td>\n      <td>-2.948839e-01</td>\n      <td>-3.692745e-01</td>\n      <td>-3.808388e-01</td>\n      <td>-3.271255e-01</td>\n    </tr>\n    <tr>\n      <th>25%</th>\n      <td>-6.049338e-01</td>\n      <td>-9.549148e-01</td>\n      <td>-1.006335e+00</td>\n      <td>-8.839127e-01</td>\n      <td>-6.751774e-01</td>\n      <td>-8.540380e-01</td>\n      <td>-5.103961e-01</td>\n      <td>-1.098127e+00</td>\n      <td>-1.362770e+00</td>\n      <td>-1.515488e+00</td>\n      <td>-3.692745e-01</td>\n      <td>-4.090418e-01</td>\n      <td>-3.208445e-01</td>\n      <td>-3.515615e-01</td>\n      <td>-2.948839e-01</td>\n      <td>-3.692745e-01</td>\n      <td>-3.808388e-01</td>\n      <td>-3.271255e-01</td>\n    </tr>\n    <tr>\n      <th>50%</th>\n      <td>1.000195e-15</td>\n      <td>0.000000e+00</td>\n      <td>-2.439599e-01</td>\n      <td>7.473019e-02</td>\n      <td>4.838847e-02</td>\n      <td>6.340554e-02</td>\n      <td>-5.103961e-01</td>\n      <td>9.106417e-01</td>\n      <td>7.337994e-01</td>\n      <td>6.598535e-01</td>\n      <td>-3.692745e-01</td>\n      <td>-4.090418e-01</td>\n      <td>-3.208445e-01</td>\n      <td>-3.515615e-01</td>\n      <td>-2.948839e-01</td>\n      <td>-3.692745e-01</td>\n      <td>-3.808388e-01</td>\n      <td>-3.271255e-01</td>\n    </tr>\n    <tr>\n      <th>75%</th>\n      <td>6.091642e-01</td>\n      <td>8.350843e-01</td>\n      <td>6.708897e-01</td>\n      <td>8.998056e-01</td>\n      <td>6.815086e-01</td>\n      <td>7.361974e-01</td>\n      <td>-5.103961e-01</td>\n      <td>9.106417e-01</td>\n      <td>7.337994e-01</td>\n      <td>6.598535e-01</td>\n      <td>-3.692745e-01</td>\n      <td>-4.090418e-01</td>\n      <td>-3.208445e-01</td>\n      <td>-3.515615e-01</td>\n      <td>-2.948839e-01</td>\n      <td>-3.692745e-01</td>\n      <td>-3.808388e-01</td>\n      <td>-3.271255e-01</td>\n    </tr>\n    <tr>\n      <th>max</th>\n      <td>3.494846e+00</td>\n      <td>1.837484e+00</td>\n      <td>3.415438e+00</td>\n      <td>1.636963e+00</td>\n      <td>3.394881e+00</td>\n      <td>1.653641e+00</td>\n      <td>1.959263e+00</td>\n      <td>9.106417e-01</td>\n      <td>7.337994e-01</td>\n      <td>6.598535e-01</td>\n      <td>2.708013e+00</td>\n      <td>2.444738e+00</td>\n      <td>3.116775e+00</td>\n      <td>2.844452e+00</td>\n      <td>3.391165e+00</td>\n      <td>2.708013e+00</td>\n      <td>2.625783e+00</td>\n      <td>3.056931e+00</td>\n    </tr>\n  </tbody>\n</table>\n</div>"
     },
     "execution_count": 99,
     "metadata": {},
     "output_type": "execute_result"
    }
   ]
  },
  {
   "cell_type": "code",
   "source": [],
   "metadata": {
    "id": "M7L2k2EdDDv_",
    "pycharm": {
     "name": "#%%\n"
    }
   },
   "execution_count": null,
   "outputs": []
  },
  {
   "cell_type": "markdown",
   "source": [
    "-----"
   ],
   "metadata": {
    "id": "3fnsCU3gtllp",
    "pycharm": {
     "name": "#%% md\n"
    }
   }
  },
  {
   "cell_type": "markdown",
   "metadata": {
    "id": "id-Z14tADQ3Y",
    "pycharm": {
     "name": "#%% md\n"
    }
   },
   "source": [
    "# 이동통신 고객 이탈 예측"
   ]
  },
  {
   "cell_type": "markdown",
   "metadata": {
    "id": "cdQaCT5I0IL_",
    "pycharm": {
     "name": "#%% md\n"
    }
   },
   "source": [
    "* 여러분은 OO 통신회사 데이터분석가 입니다.\n",
    "* 회사는 약정기간이 끝난 고객이 번호이동(이탈)해 가는 문제를 해결하고자 합니다.\n",
    "* 어떤 고객이 번호이동(이탈)해 가는지 데이터분석을 의뢰하였습니다.\n",
    "* 분석을 위한 데이터 전처리를 수행해 봅시다."
   ]
  },
  {
   "cell_type": "markdown",
   "metadata": {
    "id": "ExPzmVxJGvxq",
    "pycharm": {
     "name": "#%% md\n"
    }
   },
   "source": [
    "![](https://d18lkz4dllo6v2.cloudfront.net/cumulus_uploads/entry/23964/mobile%20phones.png)"
   ]
  },
  {
   "cell_type": "markdown",
   "metadata": {
    "id": "AHmt88Q5EVsj",
    "pycharm": {
     "name": "#%% md\n"
    }
   },
   "source": [
    "## 0.환경설정"
   ]
  },
  {
   "cell_type": "markdown",
   "source": [
    "### 1) 라이브러리 로딩"
   ],
   "metadata": {
    "id": "KnzVh2LmkLDU",
    "pycharm": {
     "name": "#%% md\n"
    }
   }
  },
  {
   "cell_type": "code",
   "execution_count": 100,
   "metadata": {
    "id": "3tWsgb_wG3EU",
    "pycharm": {
     "name": "#%%\n"
    }
   },
   "outputs": [],
   "source": [
    "import pandas as pd\n",
    "import numpy as np\n",
    "import matplotlib.pyplot as plt\n",
    "import seaborn as sns"
   ]
  },
  {
   "cell_type": "markdown",
   "metadata": {
    "id": "kcMdP5WtG3EV",
    "pycharm": {
     "name": "#%% md\n"
    }
   },
   "source": [
    "### 2) 데이터 로딩"
   ]
  },
  {
   "cell_type": "code",
   "execution_count": 156,
   "metadata": {
    "id": "AC_65VsoG3EV",
    "pycharm": {
     "name": "#%%\n"
    }
   },
   "outputs": [
    {
     "data": {
      "text/plain": "      id  COLLEGE  INCOME  OVERAGE  LEFTOVER     HOUSE  HANDSET_PRICE  \\\n0    544        1   47711      183        17  730589.0            192   \n1    689        0   74132      191        43  535092.0            349   \n2   3134        1  150419        0        14  204004.0            682   \n3  12523        0  159567        0        58  281969.0            634   \n4   2374        1   23392        0         0  216707.0            233   \n\n   OVER_15MINS_CALLS_PER_MONTH  AVERAGE_CALL_DURATION REPORTED_SATISFACTION  \\\n0                           19                      5                 unsat   \n1                           15                      2                 unsat   \n2                            0                      6                 unsat   \n3                            1                      1            very_unsat   \n4                            0                     15                 unsat   \n\n  REPORTED_USAGE_LEVEL CONSIDERING_CHANGE_OF_PLAN  CHURN  \n0               little                considering      0  \n1          very_little                         no      1  \n2            very_high                considering      0  \n3            very_high              never_thought      0  \n4          very_little                         no      1  ",
      "text/html": "<div>\n<style scoped>\n    .dataframe tbody tr th:only-of-type {\n        vertical-align: middle;\n    }\n\n    .dataframe tbody tr th {\n        vertical-align: top;\n    }\n\n    .dataframe thead th {\n        text-align: right;\n    }\n</style>\n<table border=\"1\" class=\"dataframe\">\n  <thead>\n    <tr style=\"text-align: right;\">\n      <th></th>\n      <th>id</th>\n      <th>COLLEGE</th>\n      <th>INCOME</th>\n      <th>OVERAGE</th>\n      <th>LEFTOVER</th>\n      <th>HOUSE</th>\n      <th>HANDSET_PRICE</th>\n      <th>OVER_15MINS_CALLS_PER_MONTH</th>\n      <th>AVERAGE_CALL_DURATION</th>\n      <th>REPORTED_SATISFACTION</th>\n      <th>REPORTED_USAGE_LEVEL</th>\n      <th>CONSIDERING_CHANGE_OF_PLAN</th>\n      <th>CHURN</th>\n    </tr>\n  </thead>\n  <tbody>\n    <tr>\n      <th>0</th>\n      <td>544</td>\n      <td>1</td>\n      <td>47711</td>\n      <td>183</td>\n      <td>17</td>\n      <td>730589.0</td>\n      <td>192</td>\n      <td>19</td>\n      <td>5</td>\n      <td>unsat</td>\n      <td>little</td>\n      <td>considering</td>\n      <td>0</td>\n    </tr>\n    <tr>\n      <th>1</th>\n      <td>689</td>\n      <td>0</td>\n      <td>74132</td>\n      <td>191</td>\n      <td>43</td>\n      <td>535092.0</td>\n      <td>349</td>\n      <td>15</td>\n      <td>2</td>\n      <td>unsat</td>\n      <td>very_little</td>\n      <td>no</td>\n      <td>1</td>\n    </tr>\n    <tr>\n      <th>2</th>\n      <td>3134</td>\n      <td>1</td>\n      <td>150419</td>\n      <td>0</td>\n      <td>14</td>\n      <td>204004.0</td>\n      <td>682</td>\n      <td>0</td>\n      <td>6</td>\n      <td>unsat</td>\n      <td>very_high</td>\n      <td>considering</td>\n      <td>0</td>\n    </tr>\n    <tr>\n      <th>3</th>\n      <td>12523</td>\n      <td>0</td>\n      <td>159567</td>\n      <td>0</td>\n      <td>58</td>\n      <td>281969.0</td>\n      <td>634</td>\n      <td>1</td>\n      <td>1</td>\n      <td>very_unsat</td>\n      <td>very_high</td>\n      <td>never_thought</td>\n      <td>0</td>\n    </tr>\n    <tr>\n      <th>4</th>\n      <td>2374</td>\n      <td>1</td>\n      <td>23392</td>\n      <td>0</td>\n      <td>0</td>\n      <td>216707.0</td>\n      <td>233</td>\n      <td>0</td>\n      <td>15</td>\n      <td>unsat</td>\n      <td>very_little</td>\n      <td>no</td>\n      <td>1</td>\n    </tr>\n  </tbody>\n</table>\n</div>"
     },
     "execution_count": 156,
     "metadata": {},
     "output_type": "execute_result"
    }
   ],
   "source": [
    "# mobile data\n",
    "data_path = \"https://raw.githubusercontent.com/DA4BAM/dataset/master/mobile_NA2.csv\"\n",
    "data = pd.read_csv(data_path)\n",
    "data.head()"
   ]
  },
  {
   "cell_type": "markdown",
   "metadata": {
    "id": "2VGIfdrXAvw_",
    "pycharm": {
     "name": "#%% md\n"
    }
   },
   "source": [
    "|변수 명|내용|구분|\n",
    "|\t----\t|\t----\t|\t----\t|\n",
    "|\tCOLLEGE\t|\t대학졸업 여부(1,0) - 범주\t|\t\t|\n",
    "|\tINCOME\t|\t연 수입액(달러)\t|\t\t|\n",
    "|\tOVERAGE\t|\t월 초과사용 시간(분)\t|\t\t|\n",
    "|\tLEFTOVER\t|\t월 사용 잔여시간비율(%)\t|\t\t|\n",
    "|\tHOUSE\t|\t집 가격(달러)\t|\t\t|\n",
    "|\tHANDSET_PRICE\t|\t핸드폰 가격(달러)\t|\t\t|\n",
    "|\tOVER_15MINS_CALLS_PER_MONTH\t|\t 평균 장기통화(15분 이상) 횟수\t|\t\t|\n",
    "|\tAVERAGE_CALL_DURATION\t|\t평균 통화시간(분)\t|\t\t|\n",
    "|\tREPORTED_SATISFACTION\t|\t만족도 설문('very_unsat', 'unsat', 'avg', 'sat', 'very_sat' ) - 범주\t|\t\t|\n",
    "|\tREPORTED_USAGE_LEVEL\t|\t사용 수준 설문('very_little', 'little', 'avg', 'high', 'very_high') - 범주\t|\t\t|\n",
    "|\tCONSIDERING_CHANGE_OF_PLAN\t|\t변경 계획 설문('never_thought', 'no', 'perhaps', 'considering',   'actively_looking_into_it') - 범주\t|\t\t|\n",
    "|\t**CHURN**\t|\t이탈여부(1 : 이탈, 0 : 잔류)\t|\t**Target**\t|\n"
   ]
  },
  {
   "cell_type": "markdown",
   "source": [
    "----"
   ],
   "metadata": {
    "id": "bKimk8qVm8oC",
    "pycharm": {
     "name": "#%% md\n"
    }
   }
  },
  {
   "cell_type": "markdown",
   "source": [
    "## 1.데이터 탐색"
   ],
   "metadata": {
    "id": "0bouXLxGkSSd",
    "pycharm": {
     "name": "#%% md\n"
    }
   }
  },
  {
   "cell_type": "markdown",
   "metadata": {
    "id": "XlTw652vDQ3e",
    "pycharm": {
     "name": "#%% md\n"
    }
   },
   "source": [
    "## 2.데이터 전처리 "
   ]
  },
  {
   "cell_type": "code",
   "source": [
    "list(data)"
   ],
   "metadata": {
    "id": "CPHmOaOqDQ3e",
    "pycharm": {
     "name": "#%%\n"
    }
   },
   "execution_count": 157,
   "outputs": [
    {
     "data": {
      "text/plain": "['id',\n 'COLLEGE',\n 'INCOME',\n 'OVERAGE',\n 'LEFTOVER',\n 'HOUSE',\n 'HANDSET_PRICE',\n 'OVER_15MINS_CALLS_PER_MONTH',\n 'AVERAGE_CALL_DURATION',\n 'REPORTED_SATISFACTION',\n 'REPORTED_USAGE_LEVEL',\n 'CONSIDERING_CHANGE_OF_PLAN',\n 'CHURN']"
     },
     "execution_count": 157,
     "metadata": {},
     "output_type": "execute_result"
    }
   ]
  },
  {
   "cell_type": "markdown",
   "metadata": {
    "id": "Ky7y_ff1FZbM",
    "pycharm": {
     "name": "#%% md\n"
    }
   },
   "source": [
    "### 2.1 데이터 feature와 , target으로 분할"
   ]
  },
  {
   "cell_type": "code",
   "metadata": {
    "id": "aLNWGuSdFZbN",
    "pycharm": {
     "name": "#%%\n"
    }
   },
   "source": [
    "x = data.drop(['id', 'CHURN'], axis=1)\n",
    "y = data.loc[ : , 'CHURN']"
   ],
   "execution_count": 170,
   "outputs": []
  },
  {
   "cell_type": "markdown",
   "metadata": {
    "id": "w-6vZ0ljDQ3f",
    "pycharm": {
     "name": "#%% md\n"
    }
   },
   "source": [
    "### 2.2 NaN에 대한 조치\n",
    "* 데이터에 포함된 NaN에 대해서 조치 방법을 결정하고 적용합니다.\n",
    "* **조치방법을 결정한 이유**를 주석으로 기술합니다."
   ]
  },
  {
   "cell_type": "code",
   "source": [
    "sns.heatmap(x.isna())\n",
    "plt.show()"
   ],
   "metadata": {
    "id": "AgkVE62CFq4B",
    "pycharm": {
     "name": "#%%\n"
    }
   },
   "execution_count": 171,
   "outputs": [
    {
     "data": {
      "text/plain": "<Figure size 432x288 with 2 Axes>",
      "image/png": "[encoded data removed]"
     },
     "metadata": {
      "needs_background": "light"
     },
     "output_type": "display_data"
    }
   ]
  },
  {
   "cell_type": "code",
   "execution_count": 172,
   "outputs": [
    {
     "data": {
      "text/plain": "COLLEGE                          0\nINCOME                           0\nOVERAGE                          0\nLEFTOVER                         0\nHOUSE                          215\nHANDSET_PRICE                    0\nOVER_15MINS_CALLS_PER_MONTH      0\nAVERAGE_CALL_DURATION            0\nREPORTED_SATISFACTION           38\nREPORTED_USAGE_LEVEL             0\nCONSIDERING_CHANGE_OF_PLAN       0\ndtype: int64"
     },
     "execution_count": 172,
     "metadata": {},
     "output_type": "execute_result"
    }
   ],
   "source": [
    "my_data = x.copy()\n",
    "my_data.isna().sum()"
   ],
   "metadata": {
    "collapsed": false,
    "pycharm": {
     "name": "#%%\n"
    }
   }
  },
  {
   "cell_type": "code",
   "execution_count": 173,
   "outputs": [
    {
     "data": {
      "text/plain": "COLLEGE                         0\nINCOME                          0\nOVERAGE                         0\nLEFTOVER                        0\nHOUSE                           0\nHANDSET_PRICE                   0\nOVER_15MINS_CALLS_PER_MONTH     0\nAVERAGE_CALL_DURATION           0\nREPORTED_SATISFACTION          38\nREPORTED_USAGE_LEVEL            0\nCONSIDERING_CHANGE_OF_PLAN      0\ndtype: int64"
     },
     "execution_count": 173,
     "metadata": {},
     "output_type": "execute_result"
    }
   ],
   "source": [
    "my_data['HOUSE'] = my_data['HOUSE'].fillna(my_data['HOUSE'].mode()[0])\n",
    "my_data.isna().sum()"
   ],
   "metadata": {
    "collapsed": false,
    "pycharm": {
     "name": "#%%\n"
    }
   }
  },
  {
   "cell_type": "code",
   "execution_count": 174,
   "outputs": [
    {
     "data": {
      "text/plain": "       COLLEGE  INCOME  OVERAGE  LEFTOVER     HOUSE  HANDSET_PRICE  \\\n0            1   47711      183        17  730589.0            192   \n1            0   74132      191        43  535092.0            349   \n2            1  150419        0        14  204004.0            682   \n3            0  159567        0        58  281969.0            634   \n4            1   23392        0         0  216707.0            233   \n...        ...     ...      ...       ...       ...            ...   \n17995        0   31079      200        40  169357.0            181   \n17996        0  137194       63         0  169357.0            787   \n17997        0   82931        0        77  169357.0            232   \n17998        0  124391        0        19  169357.0            862   \n17999        0  104849      223         5  169357.0            463   \n\n       OVER_15MINS_CALLS_PER_MONTH  AVERAGE_CALL_DURATION  \\\n0                               19                      5   \n1                               15                      2   \n2                                0                      6   \n3                                1                      1   \n4                                0                     15   \n...                            ...                    ...   \n17995                           20                     11   \n17996                            3                     11   \n17997                            0                      2   \n17998                            0                      2   \n17999                           21                      5   \n\n      REPORTED_SATISFACTION REPORTED_USAGE_LEVEL CONSIDERING_CHANGE_OF_PLAN  \n0                     unsat               little                considering  \n1                     unsat          very_little                         no  \n2                     unsat            very_high                considering  \n3                very_unsat            very_high              never_thought  \n4                     unsat          very_little                         no  \n...                     ...                  ...                        ...  \n17995                 unsat               little   actively_looking_into_it  \n17996            very_unsat               little                         no  \n17997            very_unsat          very_little              never_thought  \n17998                 unsat            very_high                         no  \n17999            very_unsat               little                considering  \n\n[17962 rows x 11 columns]",
      "text/html": "<div>\n<style scoped>\n    .dataframe tbody tr th:only-of-type {\n        vertical-align: middle;\n    }\n\n    .dataframe tbody tr th {\n        vertical-align: top;\n    }\n\n    .dataframe thead th {\n        text-align: right;\n    }\n</style>\n<table border=\"1\" class=\"dataframe\">\n  <thead>\n    <tr style=\"text-align: right;\">\n      <th></th>\n      <th>COLLEGE</th>\n      <th>INCOME</th>\n      <th>OVERAGE</th>\n      <th>LEFTOVER</th>\n      <th>HOUSE</th>\n      <th>HANDSET_PRICE</th>\n      <th>OVER_15MINS_CALLS_PER_MONTH</th>\n      <th>AVERAGE_CALL_DURATION</th>\n      <th>REPORTED_SATISFACTION</th>\n      <th>REPORTED_USAGE_LEVEL</th>\n      <th>CONSIDERING_CHANGE_OF_PLAN</th>\n    </tr>\n  </thead>\n  <tbody>\n    <tr>\n      <th>0</th>\n      <td>1</td>\n      <td>47711</td>\n      <td>183</td>\n      <td>17</td>\n      <td>730589.0</td>\n      <td>192</td>\n      <td>19</td>\n      <td>5</td>\n      <td>unsat</td>\n      <td>little</td>\n      <td>considering</td>\n    </tr>\n    <tr>\n      <th>1</th>\n      <td>0</td>\n      <td>74132</td>\n      <td>191</td>\n      <td>43</td>\n      <td>535092.0</td>\n      <td>349</td>\n      <td>15</td>\n      <td>2</td>\n      <td>unsat</td>\n      <td>very_little</td>\n      <td>no</td>\n    </tr>\n    <tr>\n      <th>2</th>\n      <td>1</td>\n      <td>150419</td>\n      <td>0</td>\n      <td>14</td>\n      <td>204004.0</td>\n      <td>682</td>\n      <td>0</td>\n      <td>6</td>\n      <td>unsat</td>\n      <td>very_high</td>\n      <td>considering</td>\n    </tr>\n    <tr>\n      <th>3</th>\n      <td>0</td>\n      <td>159567</td>\n      <td>0</td>\n      <td>58</td>\n      <td>281969.0</td>\n      <td>634</td>\n      <td>1</td>\n      <td>1</td>\n      <td>very_unsat</td>\n      <td>very_high</td>\n      <td>never_thought</td>\n    </tr>\n    <tr>\n      <th>4</th>\n      <td>1</td>\n      <td>23392</td>\n      <td>0</td>\n      <td>0</td>\n      <td>216707.0</td>\n      <td>233</td>\n      <td>0</td>\n      <td>15</td>\n      <td>unsat</td>\n      <td>very_little</td>\n      <td>no</td>\n    </tr>\n    <tr>\n      <th>...</th>\n      <td>...</td>\n      <td>...</td>\n      <td>...</td>\n      <td>...</td>\n      <td>...</td>\n      <td>...</td>\n      <td>...</td>\n      <td>...</td>\n      <td>...</td>\n      <td>...</td>\n      <td>...</td>\n    </tr>\n    <tr>\n      <th>17995</th>\n      <td>0</td>\n      <td>31079</td>\n      <td>200</td>\n      <td>40</td>\n      <td>169357.0</td>\n      <td>181</td>\n      <td>20</td>\n      <td>11</td>\n      <td>unsat</td>\n      <td>little</td>\n      <td>actively_looking_into_it</td>\n    </tr>\n    <tr>\n      <th>17996</th>\n      <td>0</td>\n      <td>137194</td>\n      <td>63</td>\n      <td>0</td>\n      <td>169357.0</td>\n      <td>787</td>\n      <td>3</td>\n      <td>11</td>\n      <td>very_unsat</td>\n      <td>little</td>\n      <td>no</td>\n    </tr>\n    <tr>\n      <th>17997</th>\n      <td>0</td>\n      <td>82931</td>\n      <td>0</td>\n      <td>77</td>\n      <td>169357.0</td>\n      <td>232</td>\n      <td>0</td>\n      <td>2</td>\n      <td>very_unsat</td>\n      <td>very_little</td>\n      <td>never_thought</td>\n    </tr>\n    <tr>\n      <th>17998</th>\n      <td>0</td>\n      <td>124391</td>\n      <td>0</td>\n      <td>19</td>\n      <td>169357.0</td>\n      <td>862</td>\n      <td>0</td>\n      <td>2</td>\n      <td>unsat</td>\n      <td>very_high</td>\n      <td>no</td>\n    </tr>\n    <tr>\n      <th>17999</th>\n      <td>0</td>\n      <td>104849</td>\n      <td>223</td>\n      <td>5</td>\n      <td>169357.0</td>\n      <td>463</td>\n      <td>21</td>\n      <td>5</td>\n      <td>very_unsat</td>\n      <td>little</td>\n      <td>considering</td>\n    </tr>\n  </tbody>\n</table>\n<p>17962 rows × 11 columns</p>\n</div>"
     },
     "execution_count": 174,
     "metadata": {},
     "output_type": "execute_result"
    }
   ],
   "source": [
    "my_data.dropna(axis=0)"
   ],
   "metadata": {
    "collapsed": false,
    "pycharm": {
     "name": "#%%\n"
    }
   }
  },
  {
   "cell_type": "markdown",
   "metadata": {
    "id": "AECD8gaNDQ3f",
    "pycharm": {
     "name": "#%% md\n"
    }
   },
   "source": [
    "### 2.3 가변수화\n",
    "* 범주형 데이터이면서 값이 0,1 로 되어 있는 것이 아니라면, 가변수화를 수행해야 합니다.\n",
    "* 대상이 되는 변수에 대해서 가변수화를 수행해주세요."
   ]
  },
  {
   "cell_type": "code",
   "metadata": {
    "id": "NP4lFr_NDQ3f",
    "pycharm": {
     "name": "#%%\n"
    }
   },
   "source": [
    "my_data = pd.get_dummies(my_data, columns=['REPORTED_SATISFACTION', 'REPORTED_USAGE_LEVEL', 'CONSIDERING_CHANGE_OF_PLAN'], drop_first=True)"
   ],
   "execution_count": 187,
   "outputs": []
  },
  {
   "cell_type": "code",
   "execution_count": 188,
   "outputs": [
    {
     "name": "stdout",
     "output_type": "stream",
     "text": [
      "<class 'pandas.core.frame.DataFrame'>\n",
      "RangeIndex: 18000 entries, 0 to 17999\n",
      "Data columns (total 20 columns):\n",
      " #   Column                                    Non-Null Count  Dtype  \n",
      "---  ------                                    --------------  -----  \n",
      " 0   COLLEGE                                   18000 non-null  int64  \n",
      " 1   INCOME                                    18000 non-null  int64  \n",
      " 2   OVERAGE                                   18000 non-null  int64  \n",
      " 3   LEFTOVER                                  18000 non-null  int64  \n",
      " 4   HOUSE                                     18000 non-null  float64\n",
      " 5   HANDSET_PRICE                             18000 non-null  int64  \n",
      " 6   OVER_15MINS_CALLS_PER_MONTH               18000 non-null  int64  \n",
      " 7   AVERAGE_CALL_DURATION                     18000 non-null  int64  \n",
      " 8   REPORTED_SATISFACTION_sat                 18000 non-null  uint8  \n",
      " 9   REPORTED_SATISFACTION_unsat               18000 non-null  uint8  \n",
      " 10  REPORTED_SATISFACTION_very_sat            18000 non-null  uint8  \n",
      " 11  REPORTED_SATISFACTION_very_unsat          18000 non-null  uint8  \n",
      " 12  REPORTED_USAGE_LEVEL_high                 18000 non-null  uint8  \n",
      " 13  REPORTED_USAGE_LEVEL_little               18000 non-null  uint8  \n",
      " 14  REPORTED_USAGE_LEVEL_very_high            18000 non-null  uint8  \n",
      " 15  REPORTED_USAGE_LEVEL_very_little          18000 non-null  uint8  \n",
      " 16  CONSIDERING_CHANGE_OF_PLAN_considering    18000 non-null  uint8  \n",
      " 17  CONSIDERING_CHANGE_OF_PLAN_never_thought  18000 non-null  uint8  \n",
      " 18  CONSIDERING_CHANGE_OF_PLAN_no             18000 non-null  uint8  \n",
      " 19  CONSIDERING_CHANGE_OF_PLAN_perhaps        18000 non-null  uint8  \n",
      "dtypes: float64(1), int64(7), uint8(12)\n",
      "memory usage: 1.3 MB\n"
     ]
    }
   ],
   "source": [
    "my_data.info()"
   ],
   "metadata": {
    "collapsed": false,
    "pycharm": {
     "name": "#%%\n"
    }
   }
  },
  {
   "cell_type": "markdown",
   "metadata": {
    "id": "yAZl-9jBDQ3g",
    "pycharm": {
     "name": "#%% md\n"
    }
   },
   "source": [
    "### 2.4 스케일링 \n",
    "* 스케일링을 필요로 하는 알고리즘이 있습니다. \n",
    "* 필요하다고 판단될때 수행합니다."
   ]
  },
  {
   "cell_type": "code",
   "metadata": {
    "id": "PJ2it4HXDQ3g",
    "pycharm": {
     "name": "#%%\n"
    }
   },
   "source": [
    "my_data.describe()\n"
   ],
   "execution_count": 193,
   "outputs": [
    {
     "data": {
      "text/plain": "            COLLEGE         INCOME       OVERAGE      LEFTOVER          HOUSE  \\\ncount  18000.000000   18000.000000  18000.000000  18000.000000   18000.000000   \nmean       0.502722   80314.400278     86.014833     23.995500  489085.387722   \nstd        0.500006   41703.420130     85.963981     26.860363  253117.692489   \nmin        0.000000   20007.000000     -2.000000      0.000000  150015.000000   \n25%        0.000000   42151.500000      0.000000      0.000000  259092.500000   \n50%        1.000000   75501.500000     59.000000     14.500000  446412.000000   \n75%        1.000000  116082.250000    179.000000     42.000000  698473.500000   \nmax        1.000000  159983.000000    335.000000     89.000000  999970.000000   \n\n       HANDSET_PRICE  OVER_15MINS_CALLS_PER_MONTH  AVERAGE_CALL_DURATION  \\\ncount   18000.000000                 18000.000000           18000.000000   \nmean      390.096667                     8.012778               5.990944   \nstd       214.239639                     8.932820               4.398894   \nmin       130.000000                     0.000000               1.000000   \n25%       219.000000                     1.000000               2.000000   \n50%       326.000000                     4.000000               5.000000   \n75%       536.000000                    15.000000              10.000000   \nmax       899.000000                    29.000000              15.000000   \n\n       REPORTED_SATISFACTION_sat  REPORTED_SATISFACTION_unsat  \\\ncount               18000.000000                 18000.000000   \nmean                    0.051778                     0.199444   \nstd                     0.221584                     0.399594   \nmin                     0.000000                     0.000000   \n25%                     0.000000                     0.000000   \n50%                     0.000000                     0.000000   \n75%                     0.000000                     0.000000   \nmax                     1.000000                     1.000000   \n\n       REPORTED_SATISFACTION_very_sat  REPORTED_SATISFACTION_very_unsat  \\\ncount                    18000.000000                      18000.000000   \nmean                         0.253444                          0.392889   \nstd                          0.434995                          0.488406   \nmin                          0.000000                          0.000000   \n25%                          0.000000                          0.000000   \n50%                          0.000000                          0.000000   \n75%                          1.000000                          1.000000   \nmax                          1.000000                          1.000000   \n\n       REPORTED_USAGE_LEVEL_high  REPORTED_USAGE_LEVEL_little  \\\ncount               18000.000000                 18000.000000   \nmean                    0.100667                     0.393111   \nstd                     0.300895                     0.488455   \nmin                     0.000000                     0.000000   \n25%                     0.000000                     0.000000   \n50%                     0.000000                     0.000000   \n75%                     0.000000                     1.000000   \nmax                     1.000000                     1.000000   \n\n       REPORTED_USAGE_LEVEL_very_high  REPORTED_USAGE_LEVEL_very_little  \\\ncount                    18000.000000                      18000.000000   \nmean                         0.257556                          0.199667   \nstd                          0.437300                          0.399761   \nmin                          0.000000                          0.000000   \n25%                          0.000000                          0.000000   \n50%                          0.000000                          0.000000   \n75%                          1.000000                          0.000000   \nmax                          1.000000                          1.000000   \n\n       CONSIDERING_CHANGE_OF_PLAN_considering  \\\ncount                            18000.000000   \nmean                                 0.396722   \nstd                                  0.489231   \nmin                                  0.000000   \n25%                                  0.000000   \n50%                                  0.000000   \n75%                                  1.000000   \nmax                                  1.000000   \n\n       CONSIDERING_CHANGE_OF_PLAN_never_thought  \\\ncount                              18000.000000   \nmean                                   0.100222   \nstd                                    0.300304   \nmin                                    0.000000   \n25%                                    0.000000   \n50%                                    0.000000   \n75%                                    0.000000   \nmax                                    1.000000   \n\n       CONSIDERING_CHANGE_OF_PLAN_no  CONSIDERING_CHANGE_OF_PLAN_perhaps  \ncount                   18000.000000                        18000.000000  \nmean                        0.202444                            0.053222  \nstd                         0.401833                            0.224483  \nmin                         0.000000                            0.000000  \n25%                         0.000000                            0.000000  \n50%                         0.000000                            0.000000  \n75%                         0.000000                            0.000000  \nmax                         1.000000                            1.000000  ",
      "text/html": "<div>\n<style scoped>\n    .dataframe tbody tr th:only-of-type {\n        vertical-align: middle;\n    }\n\n    .dataframe tbody tr th {\n        vertical-align: top;\n    }\n\n    .dataframe thead th {\n        text-align: right;\n    }\n</style>\n<table border=\"1\" class=\"dataframe\">\n  <thead>\n    <tr style=\"text-align: right;\">\n      <th></th>\n      <th>COLLEGE</th>\n      <th>INCOME</th>\n      <th>OVERAGE</th>\n      <th>LEFTOVER</th>\n      <th>HOUSE</th>\n      <th>HANDSET_PRICE</th>\n      <th>OVER_15MINS_CALLS_PER_MONTH</th>\n      <th>AVERAGE_CALL_DURATION</th>\n      <th>REPORTED_SATISFACTION_sat</th>\n      <th>REPORTED_SATISFACTION_unsat</th>\n      <th>REPORTED_SATISFACTION_very_sat</th>\n      <th>REPORTED_SATISFACTION_very_unsat</th>\n      <th>REPORTED_USAGE_LEVEL_high</th>\n      <th>REPORTED_USAGE_LEVEL_little</th>\n      <th>REPORTED_USAGE_LEVEL_very_high</th>\n      <th>REPORTED_USAGE_LEVEL_very_little</th>\n      <th>CONSIDERING_CHANGE_OF_PLAN_considering</th>\n      <th>CONSIDERING_CHANGE_OF_PLAN_never_thought</th>\n      <th>CONSIDERING_CHANGE_OF_PLAN_no</th>\n      <th>CONSIDERING_CHANGE_OF_PLAN_perhaps</th>\n    </tr>\n  </thead>\n  <tbody>\n    <tr>\n      <th>count</th>\n      <td>18000.000000</td>\n      <td>18000.000000</td>\n      <td>18000.000000</td>\n      <td>18000.000000</td>\n      <td>18000.000000</td>\n      <td>18000.000000</td>\n      <td>18000.000000</td>\n      <td>18000.000000</td>\n      <td>18000.000000</td>\n      <td>18000.000000</td>\n      <td>18000.000000</td>\n      <td>18000.000000</td>\n      <td>18000.000000</td>\n      <td>18000.000000</td>\n      <td>18000.000000</td>\n      <td>18000.000000</td>\n      <td>18000.000000</td>\n      <td>18000.000000</td>\n      <td>18000.000000</td>\n      <td>18000.000000</td>\n    </tr>\n    <tr>\n      <th>mean</th>\n      <td>0.502722</td>\n      <td>80314.400278</td>\n      <td>86.014833</td>\n      <td>23.995500</td>\n      <td>489085.387722</td>\n      <td>390.096667</td>\n      <td>8.012778</td>\n      <td>5.990944</td>\n      <td>0.051778</td>\n      <td>0.199444</td>\n      <td>0.253444</td>\n      <td>0.392889</td>\n      <td>0.100667</td>\n      <td>0.393111</td>\n      <td>0.257556</td>\n      <td>0.199667</td>\n      <td>0.396722</td>\n      <td>0.100222</td>\n      <td>0.202444</td>\n      <td>0.053222</td>\n    </tr>\n    <tr>\n      <th>std</th>\n      <td>0.500006</td>\n      <td>41703.420130</td>\n      <td>85.963981</td>\n      <td>26.860363</td>\n      <td>253117.692489</td>\n      <td>214.239639</td>\n      <td>8.932820</td>\n      <td>4.398894</td>\n      <td>0.221584</td>\n      <td>0.399594</td>\n      <td>0.434995</td>\n      <td>0.488406</td>\n      <td>0.300895</td>\n      <td>0.488455</td>\n      <td>0.437300</td>\n      <td>0.399761</td>\n      <td>0.489231</td>\n      <td>0.300304</td>\n      <td>0.401833</td>\n      <td>0.224483</td>\n    </tr>\n    <tr>\n      <th>min</th>\n      <td>0.000000</td>\n      <td>20007.000000</td>\n      <td>-2.000000</td>\n      <td>0.000000</td>\n      <td>150015.000000</td>\n      <td>130.000000</td>\n      <td>0.000000</td>\n      <td>1.000000</td>\n      <td>0.000000</td>\n      <td>0.000000</td>\n      <td>0.000000</td>\n      <td>0.000000</td>\n      <td>0.000000</td>\n      <td>0.000000</td>\n      <td>0.000000</td>\n      <td>0.000000</td>\n      <td>0.000000</td>\n      <td>0.000000</td>\n      <td>0.000000</td>\n      <td>0.000000</td>\n    </tr>\n    <tr>\n      <th>25%</th>\n      <td>0.000000</td>\n      <td>42151.500000</td>\n      <td>0.000000</td>\n      <td>0.000000</td>\n      <td>259092.500000</td>\n      <td>219.000000</td>\n      <td>1.000000</td>\n      <td>2.000000</td>\n      <td>0.000000</td>\n      <td>0.000000</td>\n      <td>0.000000</td>\n      <td>0.000000</td>\n      <td>0.000000</td>\n      <td>0.000000</td>\n      <td>0.000000</td>\n      <td>0.000000</td>\n      <td>0.000000</td>\n      <td>0.000000</td>\n      <td>0.000000</td>\n      <td>0.000000</td>\n    </tr>\n    <tr>\n      <th>50%</th>\n      <td>1.000000</td>\n      <td>75501.500000</td>\n      <td>59.000000</td>\n      <td>14.500000</td>\n      <td>446412.000000</td>\n      <td>326.000000</td>\n      <td>4.000000</td>\n      <td>5.000000</td>\n      <td>0.000000</td>\n      <td>0.000000</td>\n      <td>0.000000</td>\n      <td>0.000000</td>\n      <td>0.000000</td>\n      <td>0.000000</td>\n      <td>0.000000</td>\n      <td>0.000000</td>\n      <td>0.000000</td>\n      <td>0.000000</td>\n      <td>0.000000</td>\n      <td>0.000000</td>\n    </tr>\n    <tr>\n      <th>75%</th>\n      <td>1.000000</td>\n      <td>116082.250000</td>\n      <td>179.000000</td>\n      <td>42.000000</td>\n      <td>698473.500000</td>\n      <td>536.000000</td>\n      <td>15.000000</td>\n      <td>10.000000</td>\n      <td>0.000000</td>\n      <td>0.000000</td>\n      <td>1.000000</td>\n      <td>1.000000</td>\n      <td>0.000000</td>\n      <td>1.000000</td>\n      <td>1.000000</td>\n      <td>0.000000</td>\n      <td>1.000000</td>\n      <td>0.000000</td>\n      <td>0.000000</td>\n      <td>0.000000</td>\n    </tr>\n    <tr>\n      <th>max</th>\n      <td>1.000000</td>\n      <td>159983.000000</td>\n      <td>335.000000</td>\n      <td>89.000000</td>\n      <td>999970.000000</td>\n      <td>899.000000</td>\n      <td>29.000000</td>\n      <td>15.000000</td>\n      <td>1.000000</td>\n      <td>1.000000</td>\n      <td>1.000000</td>\n      <td>1.000000</td>\n      <td>1.000000</td>\n      <td>1.000000</td>\n      <td>1.000000</td>\n      <td>1.000000</td>\n      <td>1.000000</td>\n      <td>1.000000</td>\n      <td>1.000000</td>\n      <td>1.000000</td>\n    </tr>\n  </tbody>\n</table>\n</div>"
     },
     "execution_count": 193,
     "metadata": {},
     "output_type": "execute_result"
    }
   ]
  },
  {
   "cell_type": "code",
   "execution_count": 197,
   "outputs": [
    {
     "data": {
      "text/plain": "   INCOME  OVERAGE  LEFTOVER     HOUSE  HANDSET_PRICE  \\\n0   47711      183        17  730589.0            192   \n\n   OVER_15MINS_CALLS_PER_MONTH  AVERAGE_CALL_DURATION  \n0                           19                      5  ",
      "text/html": "<div>\n<style scoped>\n    .dataframe tbody tr th:only-of-type {\n        vertical-align: middle;\n    }\n\n    .dataframe tbody tr th {\n        vertical-align: top;\n    }\n\n    .dataframe thead th {\n        text-align: right;\n    }\n</style>\n<table border=\"1\" class=\"dataframe\">\n  <thead>\n    <tr style=\"text-align: right;\">\n      <th></th>\n      <th>INCOME</th>\n      <th>OVERAGE</th>\n      <th>LEFTOVER</th>\n      <th>HOUSE</th>\n      <th>HANDSET_PRICE</th>\n      <th>OVER_15MINS_CALLS_PER_MONTH</th>\n      <th>AVERAGE_CALL_DURATION</th>\n    </tr>\n  </thead>\n  <tbody>\n    <tr>\n      <th>0</th>\n      <td>47711</td>\n      <td>183</td>\n      <td>17</td>\n      <td>730589.0</td>\n      <td>192</td>\n      <td>19</td>\n      <td>5</td>\n    </tr>\n  </tbody>\n</table>\n</div>"
     },
     "execution_count": 197,
     "metadata": {},
     "output_type": "execute_result"
    }
   ],
   "source": [
    "my_numerical = my_data.iloc[:, 1:8]\n",
    "my_numerical.head(1)"
   ],
   "metadata": {
    "collapsed": false,
    "pycharm": {
     "name": "#%%\n"
    }
   }
  },
  {
   "cell_type": "code",
   "execution_count": 198,
   "outputs": [
    {
     "data": {
      "text/plain": "['INCOME',\n 'OVERAGE',\n 'LEFTOVER',\n 'HOUSE',\n 'HANDSET_PRICE',\n 'OVER_15MINS_CALLS_PER_MONTH',\n 'AVERAGE_CALL_DURATION']"
     },
     "execution_count": 198,
     "metadata": {},
     "output_type": "execute_result"
    }
   ],
   "source": [
    "my_list = list(my_numerical)\n",
    "my_list"
   ],
   "metadata": {
    "collapsed": false,
    "pycharm": {
     "name": "#%%\n"
    }
   }
  },
  {
   "cell_type": "code",
   "execution_count": 201,
   "outputs": [
    {
     "data": {
      "text/plain": "   COLLEGE  REPORTED_SATISFACTION_sat  REPORTED_SATISFACTION_unsat  \\\n0        1                          0                            1   \n1        0                          0                            1   \n2        1                          0                            1   \n3        0                          0                            0   \n4        1                          0                            1   \n\n   REPORTED_SATISFACTION_very_sat  REPORTED_SATISFACTION_very_unsat  \\\n0                               0                                 0   \n1                               0                                 0   \n2                               0                                 0   \n3                               0                                 1   \n4                               0                                 0   \n\n   REPORTED_USAGE_LEVEL_high  REPORTED_USAGE_LEVEL_little  \\\n0                          0                            1   \n1                          0                            0   \n2                          0                            0   \n3                          0                            0   \n4                          0                            0   \n\n   REPORTED_USAGE_LEVEL_very_high  REPORTED_USAGE_LEVEL_very_little  \\\n0                               0                                 0   \n1                               0                                 1   \n2                               1                                 0   \n3                               1                                 0   \n4                               0                                 1   \n\n   CONSIDERING_CHANGE_OF_PLAN_considering  \\\n0                                       1   \n1                                       0   \n2                                       1   \n3                                       0   \n4                                       0   \n\n   CONSIDERING_CHANGE_OF_PLAN_never_thought  CONSIDERING_CHANGE_OF_PLAN_no  \\\n0                                         0                              0   \n1                                         0                              1   \n2                                         0                              0   \n3                                         1                              0   \n4                                         0                              1   \n\n   CONSIDERING_CHANGE_OF_PLAN_perhaps  \n0                                   0  \n1                                   0  \n2                                   0  \n3                                   0  \n4                                   0  ",
      "text/html": "<div>\n<style scoped>\n    .dataframe tbody tr th:only-of-type {\n        vertical-align: middle;\n    }\n\n    .dataframe tbody tr th {\n        vertical-align: top;\n    }\n\n    .dataframe thead th {\n        text-align: right;\n    }\n</style>\n<table border=\"1\" class=\"dataframe\">\n  <thead>\n    <tr style=\"text-align: right;\">\n      <th></th>\n      <th>COLLEGE</th>\n      <th>REPORTED_SATISFACTION_sat</th>\n      <th>REPORTED_SATISFACTION_unsat</th>\n      <th>REPORTED_SATISFACTION_very_sat</th>\n      <th>REPORTED_SATISFACTION_very_unsat</th>\n      <th>REPORTED_USAGE_LEVEL_high</th>\n      <th>REPORTED_USAGE_LEVEL_little</th>\n      <th>REPORTED_USAGE_LEVEL_very_high</th>\n      <th>REPORTED_USAGE_LEVEL_very_little</th>\n      <th>CONSIDERING_CHANGE_OF_PLAN_considering</th>\n      <th>CONSIDERING_CHANGE_OF_PLAN_never_thought</th>\n      <th>CONSIDERING_CHANGE_OF_PLAN_no</th>\n      <th>CONSIDERING_CHANGE_OF_PLAN_perhaps</th>\n    </tr>\n  </thead>\n  <tbody>\n    <tr>\n      <th>0</th>\n      <td>1</td>\n      <td>0</td>\n      <td>1</td>\n      <td>0</td>\n      <td>0</td>\n      <td>0</td>\n      <td>1</td>\n      <td>0</td>\n      <td>0</td>\n      <td>1</td>\n      <td>0</td>\n      <td>0</td>\n      <td>0</td>\n    </tr>\n    <tr>\n      <th>1</th>\n      <td>0</td>\n      <td>0</td>\n      <td>1</td>\n      <td>0</td>\n      <td>0</td>\n      <td>0</td>\n      <td>0</td>\n      <td>0</td>\n      <td>1</td>\n      <td>0</td>\n      <td>0</td>\n      <td>1</td>\n      <td>0</td>\n    </tr>\n    <tr>\n      <th>2</th>\n      <td>1</td>\n      <td>0</td>\n      <td>1</td>\n      <td>0</td>\n      <td>0</td>\n      <td>0</td>\n      <td>0</td>\n      <td>1</td>\n      <td>0</td>\n      <td>1</td>\n      <td>0</td>\n      <td>0</td>\n      <td>0</td>\n    </tr>\n    <tr>\n      <th>3</th>\n      <td>0</td>\n      <td>0</td>\n      <td>0</td>\n      <td>0</td>\n      <td>1</td>\n      <td>0</td>\n      <td>0</td>\n      <td>1</td>\n      <td>0</td>\n      <td>0</td>\n      <td>1</td>\n      <td>0</td>\n      <td>0</td>\n    </tr>\n    <tr>\n      <th>4</th>\n      <td>1</td>\n      <td>0</td>\n      <td>1</td>\n      <td>0</td>\n      <td>0</td>\n      <td>0</td>\n      <td>0</td>\n      <td>0</td>\n      <td>1</td>\n      <td>0</td>\n      <td>0</td>\n      <td>1</td>\n      <td>0</td>\n    </tr>\n  </tbody>\n</table>\n</div>"
     },
     "execution_count": 201,
     "metadata": {},
     "output_type": "execute_result"
    }
   ],
   "source": [
    "mm_scaler = MinMaxScaler()\n",
    "\n",
    "my_category = my_data.drop(my_list, axis=1)\n",
    "my_category.head()"
   ],
   "metadata": {
    "collapsed": false,
    "pycharm": {
     "name": "#%%\n"
    }
   }
  },
  {
   "cell_type": "code",
   "execution_count": 202,
   "outputs": [],
   "source": [
    "my_numerical = mm_scaler.fit_transform(my_numerical)"
   ],
   "metadata": {
    "collapsed": false,
    "pycharm": {
     "name": "#%%\n"
    }
   }
  },
  {
   "cell_type": "code",
   "execution_count": 206,
   "outputs": [],
   "source": [
    "df_numerical = pd.DataFrame(my_numerical, columns=my_list)"
   ],
   "metadata": {
    "collapsed": false,
    "pycharm": {
     "name": "#%%\n"
    }
   }
  },
  {
   "cell_type": "code",
   "execution_count": 210,
   "outputs": [
    {
     "data": {
      "text/plain": "             INCOME       OVERAGE      LEFTOVER         HOUSE  HANDSET_PRICE  \\\ncount  18000.000000  18000.000000  18000.000000  18000.000000   18000.000000   \nmean       0.430841      0.261172      0.269612      0.398927       0.338227   \nstd        0.297933      0.255086      0.301802      0.297801       0.278595   \nmin        0.000000      0.000000      0.000000      0.000000       0.000000   \n25%        0.158202      0.005935      0.000000      0.128333       0.115735   \n50%        0.396457      0.181009      0.162921      0.348721       0.254876   \n75%        0.686369      0.537092      0.471910      0.645279       0.527958   \nmax        1.000000      1.000000      1.000000      1.000000       1.000000   \n\n       OVER_15MINS_CALLS_PER_MONTH  AVERAGE_CALL_DURATION       COLLEGE  \\\ncount                 18000.000000           18000.000000  18000.000000   \nmean                      0.276303               0.356496      0.502722   \nstd                       0.308028               0.314207      0.500006   \nmin                       0.000000               0.000000      0.000000   \n25%                       0.034483               0.071429      0.000000   \n50%                       0.137931               0.285714      1.000000   \n75%                       0.517241               0.642857      1.000000   \nmax                       1.000000               1.000000      1.000000   \n\n       REPORTED_SATISFACTION_sat  REPORTED_SATISFACTION_unsat  \\\ncount               18000.000000                 18000.000000   \nmean                    0.051778                     0.199444   \nstd                     0.221584                     0.399594   \nmin                     0.000000                     0.000000   \n25%                     0.000000                     0.000000   \n50%                     0.000000                     0.000000   \n75%                     0.000000                     0.000000   \nmax                     1.000000                     1.000000   \n\n       REPORTED_SATISFACTION_very_sat  REPORTED_SATISFACTION_very_unsat  \\\ncount                    18000.000000                      18000.000000   \nmean                         0.253444                          0.392889   \nstd                          0.434995                          0.488406   \nmin                          0.000000                          0.000000   \n25%                          0.000000                          0.000000   \n50%                          0.000000                          0.000000   \n75%                          1.000000                          1.000000   \nmax                          1.000000                          1.000000   \n\n       REPORTED_USAGE_LEVEL_high  REPORTED_USAGE_LEVEL_little  \\\ncount               18000.000000                 18000.000000   \nmean                    0.100667                     0.393111   \nstd                     0.300895                     0.488455   \nmin                     0.000000                     0.000000   \n25%                     0.000000                     0.000000   \n50%                     0.000000                     0.000000   \n75%                     0.000000                     1.000000   \nmax                     1.000000                     1.000000   \n\n       REPORTED_USAGE_LEVEL_very_high  REPORTED_USAGE_LEVEL_very_little  \\\ncount                    18000.000000                      18000.000000   \nmean                         0.257556                          0.199667   \nstd                          0.437300                          0.399761   \nmin                          0.000000                          0.000000   \n25%                          0.000000                          0.000000   \n50%                          0.000000                          0.000000   \n75%                          1.000000                          0.000000   \nmax                          1.000000                          1.000000   \n\n       CONSIDERING_CHANGE_OF_PLAN_considering  \\\ncount                            18000.000000   \nmean                                 0.396722   \nstd                                  0.489231   \nmin                                  0.000000   \n25%                                  0.000000   \n50%                                  0.000000   \n75%                                  1.000000   \nmax                                  1.000000   \n\n       CONSIDERING_CHANGE_OF_PLAN_never_thought  \\\ncount                              18000.000000   \nmean                                   0.100222   \nstd                                    0.300304   \nmin                                    0.000000   \n25%                                    0.000000   \n50%                                    0.000000   \n75%                                    0.000000   \nmax                                    1.000000   \n\n       CONSIDERING_CHANGE_OF_PLAN_no  CONSIDERING_CHANGE_OF_PLAN_perhaps  \ncount                   18000.000000                        18000.000000  \nmean                        0.202444                            0.053222  \nstd                         0.401833                            0.224483  \nmin                         0.000000                            0.000000  \n25%                         0.000000                            0.000000  \n50%                         0.000000                            0.000000  \n75%                         0.000000                            0.000000  \nmax                         1.000000                            1.000000  ",
      "text/html": "<div>\n<style scoped>\n    .dataframe tbody tr th:only-of-type {\n        vertical-align: middle;\n    }\n\n    .dataframe tbody tr th {\n        vertical-align: top;\n    }\n\n    .dataframe thead th {\n        text-align: right;\n    }\n</style>\n<table border=\"1\" class=\"dataframe\">\n  <thead>\n    <tr style=\"text-align: right;\">\n      <th></th>\n      <th>INCOME</th>\n      <th>OVERAGE</th>\n      <th>LEFTOVER</th>\n      <th>HOUSE</th>\n      <th>HANDSET_PRICE</th>\n      <th>OVER_15MINS_CALLS_PER_MONTH</th>\n      <th>AVERAGE_CALL_DURATION</th>\n      <th>COLLEGE</th>\n      <th>REPORTED_SATISFACTION_sat</th>\n      <th>REPORTED_SATISFACTION_unsat</th>\n      <th>REPORTED_SATISFACTION_very_sat</th>\n      <th>REPORTED_SATISFACTION_very_unsat</th>\n      <th>REPORTED_USAGE_LEVEL_high</th>\n      <th>REPORTED_USAGE_LEVEL_little</th>\n      <th>REPORTED_USAGE_LEVEL_very_high</th>\n      <th>REPORTED_USAGE_LEVEL_very_little</th>\n      <th>CONSIDERING_CHANGE_OF_PLAN_considering</th>\n      <th>CONSIDERING_CHANGE_OF_PLAN_never_thought</th>\n      <th>CONSIDERING_CHANGE_OF_PLAN_no</th>\n      <th>CONSIDERING_CHANGE_OF_PLAN_perhaps</th>\n    </tr>\n  </thead>\n  <tbody>\n    <tr>\n      <th>count</th>\n      <td>18000.000000</td>\n      <td>18000.000000</td>\n      <td>18000.000000</td>\n      <td>18000.000000</td>\n      <td>18000.000000</td>\n      <td>18000.000000</td>\n      <td>18000.000000</td>\n      <td>18000.000000</td>\n      <td>18000.000000</td>\n      <td>18000.000000</td>\n      <td>18000.000000</td>\n      <td>18000.000000</td>\n      <td>18000.000000</td>\n      <td>18000.000000</td>\n      <td>18000.000000</td>\n      <td>18000.000000</td>\n      <td>18000.000000</td>\n      <td>18000.000000</td>\n      <td>18000.000000</td>\n      <td>18000.000000</td>\n    </tr>\n    <tr>\n      <th>mean</th>\n      <td>0.430841</td>\n      <td>0.261172</td>\n      <td>0.269612</td>\n      <td>0.398927</td>\n      <td>0.338227</td>\n      <td>0.276303</td>\n      <td>0.356496</td>\n      <td>0.502722</td>\n      <td>0.051778</td>\n      <td>0.199444</td>\n      <td>0.253444</td>\n      <td>0.392889</td>\n      <td>0.100667</td>\n      <td>0.393111</td>\n      <td>0.257556</td>\n      <td>0.199667</td>\n      <td>0.396722</td>\n      <td>0.100222</td>\n      <td>0.202444</td>\n      <td>0.053222</td>\n    </tr>\n    <tr>\n      <th>std</th>\n      <td>0.297933</td>\n      <td>0.255086</td>\n      <td>0.301802</td>\n      <td>0.297801</td>\n      <td>0.278595</td>\n      <td>0.308028</td>\n      <td>0.314207</td>\n      <td>0.500006</td>\n      <td>0.221584</td>\n      <td>0.399594</td>\n      <td>0.434995</td>\n      <td>0.488406</td>\n      <td>0.300895</td>\n      <td>0.488455</td>\n      <td>0.437300</td>\n      <td>0.399761</td>\n      <td>0.489231</td>\n      <td>0.300304</td>\n      <td>0.401833</td>\n      <td>0.224483</td>\n    </tr>\n    <tr>\n      <th>min</th>\n      <td>0.000000</td>\n      <td>0.000000</td>\n      <td>0.000000</td>\n      <td>0.000000</td>\n      <td>0.000000</td>\n      <td>0.000000</td>\n      <td>0.000000</td>\n      <td>0.000000</td>\n      <td>0.000000</td>\n      <td>0.000000</td>\n      <td>0.000000</td>\n      <td>0.000000</td>\n      <td>0.000000</td>\n      <td>0.000000</td>\n      <td>0.000000</td>\n      <td>0.000000</td>\n      <td>0.000000</td>\n      <td>0.000000</td>\n      <td>0.000000</td>\n      <td>0.000000</td>\n    </tr>\n    <tr>\n      <th>25%</th>\n      <td>0.158202</td>\n      <td>0.005935</td>\n      <td>0.000000</td>\n      <td>0.128333</td>\n      <td>0.115735</td>\n      <td>0.034483</td>\n      <td>0.071429</td>\n      <td>0.000000</td>\n      <td>0.000000</td>\n      <td>0.000000</td>\n      <td>0.000000</td>\n      <td>0.000000</td>\n      <td>0.000000</td>\n      <td>0.000000</td>\n      <td>0.000000</td>\n      <td>0.000000</td>\n      <td>0.000000</td>\n      <td>0.000000</td>\n      <td>0.000000</td>\n      <td>0.000000</td>\n    </tr>\n    <tr>\n      <th>50%</th>\n      <td>0.396457</td>\n      <td>0.181009</td>\n      <td>0.162921</td>\n      <td>0.348721</td>\n      <td>0.254876</td>\n      <td>0.137931</td>\n      <td>0.285714</td>\n      <td>1.000000</td>\n      <td>0.000000</td>\n      <td>0.000000</td>\n      <td>0.000000</td>\n      <td>0.000000</td>\n      <td>0.000000</td>\n      <td>0.000000</td>\n      <td>0.000000</td>\n      <td>0.000000</td>\n      <td>0.000000</td>\n      <td>0.000000</td>\n      <td>0.000000</td>\n      <td>0.000000</td>\n    </tr>\n    <tr>\n      <th>75%</th>\n      <td>0.686369</td>\n      <td>0.537092</td>\n      <td>0.471910</td>\n      <td>0.645279</td>\n      <td>0.527958</td>\n      <td>0.517241</td>\n      <td>0.642857</td>\n      <td>1.000000</td>\n      <td>0.000000</td>\n      <td>0.000000</td>\n      <td>1.000000</td>\n      <td>1.000000</td>\n      <td>0.000000</td>\n      <td>1.000000</td>\n      <td>1.000000</td>\n      <td>0.000000</td>\n      <td>1.000000</td>\n      <td>0.000000</td>\n      <td>0.000000</td>\n      <td>0.000000</td>\n    </tr>\n    <tr>\n      <th>max</th>\n      <td>1.000000</td>\n      <td>1.000000</td>\n      <td>1.000000</td>\n      <td>1.000000</td>\n      <td>1.000000</td>\n      <td>1.000000</td>\n      <td>1.000000</td>\n      <td>1.000000</td>\n      <td>1.000000</td>\n      <td>1.000000</td>\n      <td>1.000000</td>\n      <td>1.000000</td>\n      <td>1.000000</td>\n      <td>1.000000</td>\n      <td>1.000000</td>\n      <td>1.000000</td>\n      <td>1.000000</td>\n      <td>1.000000</td>\n      <td>1.000000</td>\n      <td>1.000000</td>\n    </tr>\n  </tbody>\n</table>\n</div>"
     },
     "execution_count": 210,
     "metadata": {},
     "output_type": "execute_result"
    }
   ],
   "source": [
    "result = pd.concat([df_numerical, my_category], axis=1)\n",
    "result.describe()"
   ],
   "metadata": {
    "collapsed": false,
    "pycharm": {
     "name": "#%%\n"
    }
   }
  },
  {
   "cell_type": "code",
   "execution_count": null,
   "outputs": [],
   "source": [],
   "metadata": {
    "collapsed": false,
    "pycharm": {
     "name": "#%%\n"
    }
   }
  }
 ]
}