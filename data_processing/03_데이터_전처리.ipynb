{
 "nbformat": 4,
 "nbformat_minor": 0,
 "metadata": {
  "colab": {
   "name": "03_데이터_전처리.ipynb",
   "provenance": [],
   "collapsed_sections": [
    "NXwMq9aP0tEp"
   ]
  },
  "kernelspec": {
   "name": "python3",
   "language": "python",
   "display_name": "Python 3 (ipykernel)"
  }
 },
 "cells": [
  {
   "cell_type": "markdown",
   "metadata": {
    "id": "cVB9pY-v8uv5"
   },
   "source": [
    "# 데이터 전처리\n",
    "\n",
    "#### 머신러닝 코드 구조 <br>\n",
    "\n",
    "![이미지](https://github.com/DA4BAM/dataset/blob/master/new_code.png?raw=true \"code step1\")\n",
    "\n"
   ]
  },
  {
   "cell_type": "markdown",
   "metadata": {
    "id": "jnCv9u_Wy9e1"
   },
   "source": [
    "## 00.환경준비"
   ]
  },
  {
   "cell_type": "markdown",
   "metadata": {
    "id": "O1uL0UIEzBPw"
   },
   "source": [
    "### 01.Import"
   ]
  },
  {
   "cell_type": "code",
   "metadata": {
    "id": "GVvCef6A8uv6"
   },
   "source": [
    "# 라이브러리들을 불러오자.\n",
    "import numpy as np\n",
    "import pandas as pd\n",
    "import matplotlib.pyplot as plt"
   ],
   "execution_count": 1,
   "outputs": []
  },
  {
   "cell_type": "markdown",
   "metadata": {
    "id": "VHy5s1OOzItm"
   },
   "source": [
    "### 02.data loading\n"
   ]
  },
  {
   "cell_type": "markdown",
   "metadata": {
    "id": "GXZ_7LzWWjvN"
   },
   "source": [
    "* 주가 데이터 가져오기"
   ]
  },
  {
   "cell_type": "code",
   "metadata": {
    "id": "3GgFpOB4zQ7h"
   },
   "source": [
    "stock = pd.read_csv('https://raw.githubusercontent.com/DA4BAM/dataset/master/SK.csv') \n",
    "stock.drop('AdjClose', axis=1, inplace=True)\n",
    "\n",
    "exch_rate = pd.read_csv('https://raw.githubusercontent.com/DA4BAM/dataset/master/USD_KRW.csv')\n",
    "exch_rate.drop(['open', 'high', 'low'], axis=1, inplace=True)\n",
    "exch_rate.rename(columns={'date':'Date', 'close':'exch_Close', 'diff':'exch_Diff'},inplace=True)"
   ],
   "execution_count": 2,
   "outputs": []
  },
  {
   "cell_type": "code",
   "metadata": {
    "id": "ktuNMfCvMody"
   },
   "source": [
    "stock.head()"
   ],
   "execution_count": 3,
   "outputs": [
    {
     "data": {
      "text/plain": "         Date      Open      High       Low     Close    Volume\n0  2016-01-04  243000.0  245000.0  234500.0  234500.0  173905.0\n1  2016-01-05  236000.0  244000.0  234000.0  241000.0  182985.0\n2  2016-01-06  241000.0  243000.0  237500.0  239000.0  108574.0\n3  2016-01-07  237000.0  243000.0  236000.0  240500.0  113376.0\n4  2016-01-08  240500.0  242500.0  235000.0  241500.0   81557.0",
      "text/html": "<div>\n<style scoped>\n    .dataframe tbody tr th:only-of-type {\n        vertical-align: middle;\n    }\n\n    .dataframe tbody tr th {\n        vertical-align: top;\n    }\n\n    .dataframe thead th {\n        text-align: right;\n    }\n</style>\n<table border=\"1\" class=\"dataframe\">\n  <thead>\n    <tr style=\"text-align: right;\">\n      <th></th>\n      <th>Date</th>\n      <th>Open</th>\n      <th>High</th>\n      <th>Low</th>\n      <th>Close</th>\n      <th>Volume</th>\n    </tr>\n  </thead>\n  <tbody>\n    <tr>\n      <th>0</th>\n      <td>2016-01-04</td>\n      <td>243000.0</td>\n      <td>245000.0</td>\n      <td>234500.0</td>\n      <td>234500.0</td>\n      <td>173905.0</td>\n    </tr>\n    <tr>\n      <th>1</th>\n      <td>2016-01-05</td>\n      <td>236000.0</td>\n      <td>244000.0</td>\n      <td>234000.0</td>\n      <td>241000.0</td>\n      <td>182985.0</td>\n    </tr>\n    <tr>\n      <th>2</th>\n      <td>2016-01-06</td>\n      <td>241000.0</td>\n      <td>243000.0</td>\n      <td>237500.0</td>\n      <td>239000.0</td>\n      <td>108574.0</td>\n    </tr>\n    <tr>\n      <th>3</th>\n      <td>2016-01-07</td>\n      <td>237000.0</td>\n      <td>243000.0</td>\n      <td>236000.0</td>\n      <td>240500.0</td>\n      <td>113376.0</td>\n    </tr>\n    <tr>\n      <th>4</th>\n      <td>2016-01-08</td>\n      <td>240500.0</td>\n      <td>242500.0</td>\n      <td>235000.0</td>\n      <td>241500.0</td>\n      <td>81557.0</td>\n    </tr>\n  </tbody>\n</table>\n</div>"
     },
     "execution_count": 3,
     "metadata": {},
     "output_type": "execute_result"
    }
   ]
  },
  {
   "cell_type": "code",
   "metadata": {
    "id": "CLZeo5UcMpq6"
   },
   "source": [
    "exch_rate.head()"
   ],
   "execution_count": 4,
   "outputs": [
    {
     "data": {
      "text/plain": "         Date  exch_Close  exch_Diff\n0  2019-12-31      1155.1    -0.0025\n1  2019-12-30      1158.0    -0.0015\n2  2019-12-27      1159.7    -0.0023\n3  2019-12-26      1162.3     0.0013\n4  2019-12-25      1160.8    -0.0024",
      "text/html": "<div>\n<style scoped>\n    .dataframe tbody tr th:only-of-type {\n        vertical-align: middle;\n    }\n\n    .dataframe tbody tr th {\n        vertical-align: top;\n    }\n\n    .dataframe thead th {\n        text-align: right;\n    }\n</style>\n<table border=\"1\" class=\"dataframe\">\n  <thead>\n    <tr style=\"text-align: right;\">\n      <th></th>\n      <th>Date</th>\n      <th>exch_Close</th>\n      <th>exch_Diff</th>\n    </tr>\n  </thead>\n  <tbody>\n    <tr>\n      <th>0</th>\n      <td>2019-12-31</td>\n      <td>1155.1</td>\n      <td>-0.0025</td>\n    </tr>\n    <tr>\n      <th>1</th>\n      <td>2019-12-30</td>\n      <td>1158.0</td>\n      <td>-0.0015</td>\n    </tr>\n    <tr>\n      <th>2</th>\n      <td>2019-12-27</td>\n      <td>1159.7</td>\n      <td>-0.0023</td>\n    </tr>\n    <tr>\n      <th>3</th>\n      <td>2019-12-26</td>\n      <td>1162.3</td>\n      <td>0.0013</td>\n    </tr>\n    <tr>\n      <th>4</th>\n      <td>2019-12-25</td>\n      <td>1160.8</td>\n      <td>-0.0024</td>\n    </tr>\n  </tbody>\n</table>\n</div>"
     },
     "execution_count": 4,
     "metadata": {},
     "output_type": "execute_result"
    }
   ]
  },
  {
   "cell_type": "markdown",
   "metadata": {
    "id": "HvjUgKI16zcl"
   },
   "source": [
    "* 하나의 데이터로 결합"
   ]
  },
  {
   "cell_type": "code",
   "metadata": {
    "id": "qmYaWr9ka_Gv"
   },
   "source": [
    "data = pd.merge(stock, exch_rate, how='left', on='Date')\n",
    "\n",
    "data.head()"
   ],
   "execution_count": 5,
   "outputs": [
    {
     "data": {
      "text/plain": "         Date      Open      High       Low     Close    Volume  exch_Close  \\\n0  2016-01-04  243000.0  245000.0  234500.0  234500.0  173905.0      1190.4   \n1  2016-01-05  236000.0  244000.0  234000.0  241000.0  182985.0      1190.8   \n2  2016-01-06  241000.0  243000.0  237500.0  239000.0  108574.0      1200.5   \n3  2016-01-07  237000.0  243000.0  236000.0  240500.0  113376.0      1197.3   \n4  2016-01-08  240500.0  242500.0  235000.0  241500.0   81557.0      1207.9   \n\n   exch_Diff  \n0     0.0127  \n1     0.0004  \n2     0.0082  \n3    -0.0027  \n4     0.0089  ",
      "text/html": "<div>\n<style scoped>\n    .dataframe tbody tr th:only-of-type {\n        vertical-align: middle;\n    }\n\n    .dataframe tbody tr th {\n        vertical-align: top;\n    }\n\n    .dataframe thead th {\n        text-align: right;\n    }\n</style>\n<table border=\"1\" class=\"dataframe\">\n  <thead>\n    <tr style=\"text-align: right;\">\n      <th></th>\n      <th>Date</th>\n      <th>Open</th>\n      <th>High</th>\n      <th>Low</th>\n      <th>Close</th>\n      <th>Volume</th>\n      <th>exch_Close</th>\n      <th>exch_Diff</th>\n    </tr>\n  </thead>\n  <tbody>\n    <tr>\n      <th>0</th>\n      <td>2016-01-04</td>\n      <td>243000.0</td>\n      <td>245000.0</td>\n      <td>234500.0</td>\n      <td>234500.0</td>\n      <td>173905.0</td>\n      <td>1190.4</td>\n      <td>0.0127</td>\n    </tr>\n    <tr>\n      <th>1</th>\n      <td>2016-01-05</td>\n      <td>236000.0</td>\n      <td>244000.0</td>\n      <td>234000.0</td>\n      <td>241000.0</td>\n      <td>182985.0</td>\n      <td>1190.8</td>\n      <td>0.0004</td>\n    </tr>\n    <tr>\n      <th>2</th>\n      <td>2016-01-06</td>\n      <td>241000.0</td>\n      <td>243000.0</td>\n      <td>237500.0</td>\n      <td>239000.0</td>\n      <td>108574.0</td>\n      <td>1200.5</td>\n      <td>0.0082</td>\n    </tr>\n    <tr>\n      <th>3</th>\n      <td>2016-01-07</td>\n      <td>237000.0</td>\n      <td>243000.0</td>\n      <td>236000.0</td>\n      <td>240500.0</td>\n      <td>113376.0</td>\n      <td>1197.3</td>\n      <td>-0.0027</td>\n    </tr>\n    <tr>\n      <th>4</th>\n      <td>2016-01-08</td>\n      <td>240500.0</td>\n      <td>242500.0</td>\n      <td>235000.0</td>\n      <td>241500.0</td>\n      <td>81557.0</td>\n      <td>1207.9</td>\n      <td>0.0089</td>\n    </tr>\n  </tbody>\n</table>\n</div>"
     },
     "execution_count": 5,
     "metadata": {},
     "output_type": "execute_result"
    }
   ]
  },
  {
   "cell_type": "markdown",
   "metadata": {
    "id": "ZJOddHq2zfcU"
   },
   "source": [
    "## 10.데이터 이해"
   ]
  },
  {
   "cell_type": "markdown",
   "metadata": {
    "id": "Vqr7zY5r8uwC"
   },
   "source": [
    "### 11.둘러보기"
   ]
  },
  {
   "cell_type": "code",
   "metadata": {
    "id": "Wzs1nS348uwE"
   },
   "source": [
    "# 상/하위 몇개 행을 살펴 봅시다.\n",
    "\n",
    "data.head()"
   ],
   "execution_count": 6,
   "outputs": [
    {
     "data": {
      "text/plain": "         Date      Open      High       Low     Close    Volume  exch_Close  \\\n0  2016-01-04  243000.0  245000.0  234500.0  234500.0  173905.0      1190.4   \n1  2016-01-05  236000.0  244000.0  234000.0  241000.0  182985.0      1190.8   \n2  2016-01-06  241000.0  243000.0  237500.0  239000.0  108574.0      1200.5   \n3  2016-01-07  237000.0  243000.0  236000.0  240500.0  113376.0      1197.3   \n4  2016-01-08  240500.0  242500.0  235000.0  241500.0   81557.0      1207.9   \n\n   exch_Diff  \n0     0.0127  \n1     0.0004  \n2     0.0082  \n3    -0.0027  \n4     0.0089  ",
      "text/html": "<div>\n<style scoped>\n    .dataframe tbody tr th:only-of-type {\n        vertical-align: middle;\n    }\n\n    .dataframe tbody tr th {\n        vertical-align: top;\n    }\n\n    .dataframe thead th {\n        text-align: right;\n    }\n</style>\n<table border=\"1\" class=\"dataframe\">\n  <thead>\n    <tr style=\"text-align: right;\">\n      <th></th>\n      <th>Date</th>\n      <th>Open</th>\n      <th>High</th>\n      <th>Low</th>\n      <th>Close</th>\n      <th>Volume</th>\n      <th>exch_Close</th>\n      <th>exch_Diff</th>\n    </tr>\n  </thead>\n  <tbody>\n    <tr>\n      <th>0</th>\n      <td>2016-01-04</td>\n      <td>243000.0</td>\n      <td>245000.0</td>\n      <td>234500.0</td>\n      <td>234500.0</td>\n      <td>173905.0</td>\n      <td>1190.4</td>\n      <td>0.0127</td>\n    </tr>\n    <tr>\n      <th>1</th>\n      <td>2016-01-05</td>\n      <td>236000.0</td>\n      <td>244000.0</td>\n      <td>234000.0</td>\n      <td>241000.0</td>\n      <td>182985.0</td>\n      <td>1190.8</td>\n      <td>0.0004</td>\n    </tr>\n    <tr>\n      <th>2</th>\n      <td>2016-01-06</td>\n      <td>241000.0</td>\n      <td>243000.0</td>\n      <td>237500.0</td>\n      <td>239000.0</td>\n      <td>108574.0</td>\n      <td>1200.5</td>\n      <td>0.0082</td>\n    </tr>\n    <tr>\n      <th>3</th>\n      <td>2016-01-07</td>\n      <td>237000.0</td>\n      <td>243000.0</td>\n      <td>236000.0</td>\n      <td>240500.0</td>\n      <td>113376.0</td>\n      <td>1197.3</td>\n      <td>-0.0027</td>\n    </tr>\n    <tr>\n      <th>4</th>\n      <td>2016-01-08</td>\n      <td>240500.0</td>\n      <td>242500.0</td>\n      <td>235000.0</td>\n      <td>241500.0</td>\n      <td>81557.0</td>\n      <td>1207.9</td>\n      <td>0.0089</td>\n    </tr>\n  </tbody>\n</table>\n</div>"
     },
     "execution_count": 6,
     "metadata": {},
     "output_type": "execute_result"
    }
   ]
  },
  {
   "cell_type": "code",
   "metadata": {
    "id": "1ZsXdcfp8uwI"
   },
   "source": [
    "# 각 칼럼의 타입을 살펴 봅시다.\n",
    "\n",
    "data.dtypes"
   ],
   "execution_count": 7,
   "outputs": [
    {
     "data": {
      "text/plain": "Date           object\nOpen          float64\nHigh          float64\nLow           float64\nClose         float64\nVolume        float64\nexch_Close    float64\nexch_Diff     float64\ndtype: object"
     },
     "execution_count": 7,
     "metadata": {},
     "output_type": "execute_result"
    }
   ]
  },
  {
   "cell_type": "code",
   "metadata": {
    "id": "4bD117Q3bVuf"
   },
   "source": [
    "# 행, 열의 개수를 살펴 봅시다.\n",
    "\n",
    "data.shape"
   ],
   "execution_count": 8,
   "outputs": [
    {
     "data": {
      "text/plain": "(977, 8)"
     },
     "execution_count": 8,
     "metadata": {},
     "output_type": "execute_result"
    }
   ]
  },
  {
   "cell_type": "markdown",
   "metadata": {
    "id": "EEMtr74j0N41"
   },
   "source": [
    "### 12.기초통계량"
   ]
  },
  {
   "cell_type": "code",
   "metadata": {
    "id": "LhAk04Uy4Occ"
   },
   "source": [
    "# 숫자형 변수들의 통계량을 살펴 봅니다.\n",
    "\n",
    "data.describe()"
   ],
   "execution_count": 9,
   "outputs": [
    {
     "data": {
      "text/plain": "                Open           High            Low          Close  \\\ncount     972.000000     972.000000     972.000000     972.000000   \nmean   252080.761317  255116.255144  248993.312757  252241.769547   \nstd     29305.098277   29550.396185   28885.988224   29268.540457   \nmin    193000.000000  194500.000000  189000.000000  192500.000000   \n25%    227500.000000  230375.000000  224875.000000  227875.000000   \n50%    256250.000000  259500.000000  253500.000000  256750.000000   \n75%    274500.000000  277125.000000  270625.000000  274000.000000   \nmax    331000.000000  331000.000000  321500.000000  328500.000000   \n\n             Volume   exch_Close   exch_Diff  \ncount  9.720000e+02   977.000000  977.000000  \nmean   1.171311e+05  1139.488025    0.000030  \nstd    8.500866e+04    39.095668    0.005343  \nmin    0.000000e+00  1054.900000   -0.020400  \n25%    7.668725e+04  1117.900000   -0.003200  \n50%    9.696600e+04  1133.900000    0.000100  \n75%    1.348950e+05  1169.100000    0.003400  \nmax    1.473645e+06  1243.100000    0.026500  ",
      "text/html": "<div>\n<style scoped>\n    .dataframe tbody tr th:only-of-type {\n        vertical-align: middle;\n    }\n\n    .dataframe tbody tr th {\n        vertical-align: top;\n    }\n\n    .dataframe thead th {\n        text-align: right;\n    }\n</style>\n<table border=\"1\" class=\"dataframe\">\n  <thead>\n    <tr style=\"text-align: right;\">\n      <th></th>\n      <th>Open</th>\n      <th>High</th>\n      <th>Low</th>\n      <th>Close</th>\n      <th>Volume</th>\n      <th>exch_Close</th>\n      <th>exch_Diff</th>\n    </tr>\n  </thead>\n  <tbody>\n    <tr>\n      <th>count</th>\n      <td>972.000000</td>\n      <td>972.000000</td>\n      <td>972.000000</td>\n      <td>972.000000</td>\n      <td>9.720000e+02</td>\n      <td>977.000000</td>\n      <td>977.000000</td>\n    </tr>\n    <tr>\n      <th>mean</th>\n      <td>252080.761317</td>\n      <td>255116.255144</td>\n      <td>248993.312757</td>\n      <td>252241.769547</td>\n      <td>1.171311e+05</td>\n      <td>1139.488025</td>\n      <td>0.000030</td>\n    </tr>\n    <tr>\n      <th>std</th>\n      <td>29305.098277</td>\n      <td>29550.396185</td>\n      <td>28885.988224</td>\n      <td>29268.540457</td>\n      <td>8.500866e+04</td>\n      <td>39.095668</td>\n      <td>0.005343</td>\n    </tr>\n    <tr>\n      <th>min</th>\n      <td>193000.000000</td>\n      <td>194500.000000</td>\n      <td>189000.000000</td>\n      <td>192500.000000</td>\n      <td>0.000000e+00</td>\n      <td>1054.900000</td>\n      <td>-0.020400</td>\n    </tr>\n    <tr>\n      <th>25%</th>\n      <td>227500.000000</td>\n      <td>230375.000000</td>\n      <td>224875.000000</td>\n      <td>227875.000000</td>\n      <td>7.668725e+04</td>\n      <td>1117.900000</td>\n      <td>-0.003200</td>\n    </tr>\n    <tr>\n      <th>50%</th>\n      <td>256250.000000</td>\n      <td>259500.000000</td>\n      <td>253500.000000</td>\n      <td>256750.000000</td>\n      <td>9.696600e+04</td>\n      <td>1133.900000</td>\n      <td>0.000100</td>\n    </tr>\n    <tr>\n      <th>75%</th>\n      <td>274500.000000</td>\n      <td>277125.000000</td>\n      <td>270625.000000</td>\n      <td>274000.000000</td>\n      <td>1.348950e+05</td>\n      <td>1169.100000</td>\n      <td>0.003400</td>\n    </tr>\n    <tr>\n      <th>max</th>\n      <td>331000.000000</td>\n      <td>331000.000000</td>\n      <td>321500.000000</td>\n      <td>328500.000000</td>\n      <td>1.473645e+06</td>\n      <td>1243.100000</td>\n      <td>0.026500</td>\n    </tr>\n  </tbody>\n</table>\n</div>"
     },
     "execution_count": 9,
     "metadata": {},
     "output_type": "execute_result"
    }
   ]
  },
  {
   "cell_type": "markdown",
   "metadata": {
    "id": "BsF_cjfK0Y5P"
   },
   "source": [
    "### 13.탐색하기"
   ]
  },
  {
   "cell_type": "markdown",
   "metadata": {
    "id": "wW0d0eGmCYJM"
   },
   "source": [
    "## 20.데이터 준비\n"
   ]
  },
  {
   "cell_type": "markdown",
   "metadata": {
    "id": "TfOiIj7lCfiG"
   },
   "source": [
    "### 21.변수 정리"
   ]
  },
  {
   "cell_type": "markdown",
   "metadata": {
    "id": "mIxcFuf0CoxF"
   },
   "source": [
    "### 22.NaN 처리"
   ]
  },
  {
   "cell_type": "code",
   "metadata": {
    "id": "ncZXe0SaXbzc"
   },
   "source": [
    "# NaN 확인\n",
    "data.isnull().sum()"
   ],
   "execution_count": 10,
   "outputs": [
    {
     "data": {
      "text/plain": "Date          0\nOpen          5\nHigh          5\nLow           5\nClose         5\nVolume        5\nexch_Close    0\nexch_Diff     0\ndtype: int64"
     },
     "execution_count": 10,
     "metadata": {},
     "output_type": "execute_result"
    }
   ]
  },
  {
   "cell_type": "code",
   "metadata": {
    "id": "VP_IIeLbJ9Nj"
   },
   "source": [
    "data['Open'].isnull()"
   ],
   "execution_count": 11,
   "outputs": [
    {
     "data": {
      "text/plain": "0      False\n1      False\n2      False\n3      False\n4      False\n       ...  \n972    False\n973    False\n974    False\n975    False\n976    False\nName: Open, Length: 977, dtype: bool"
     },
     "execution_count": 11,
     "metadata": {},
     "output_type": "execute_result"
    }
   ]
  },
  {
   "cell_type": "code",
   "metadata": {
    "id": "6wS5Zn0eX0EE"
   },
   "source": [
    "# NaN 행들을 확인해 봅시다.\n",
    "data.loc[data['Open'].isnull()]"
   ],
   "execution_count": 12,
   "outputs": [
    {
     "data": {
      "text/plain": "           Date  Open  High  Low  Close  Volume  exch_Close  exch_Diff\n458  2017-11-16   NaN   NaN  NaN    NaN     NaN      1097.2    -0.0077\n463  2017-11-23   NaN   NaN  NaN    NaN     NaN      1084.0    -0.0019\n487  2018-01-02   NaN   NaN  NaN    NaN     NaN      1063.2    -0.0032\n700  2018-11-15   NaN   NaN  NaN    NaN     NaN      1127.9    -0.0042\n945  2019-11-14   NaN   NaN  NaN    NaN     NaN      1169.1    -0.0021",
      "text/html": "<div>\n<style scoped>\n    .dataframe tbody tr th:only-of-type {\n        vertical-align: middle;\n    }\n\n    .dataframe tbody tr th {\n        vertical-align: top;\n    }\n\n    .dataframe thead th {\n        text-align: right;\n    }\n</style>\n<table border=\"1\" class=\"dataframe\">\n  <thead>\n    <tr style=\"text-align: right;\">\n      <th></th>\n      <th>Date</th>\n      <th>Open</th>\n      <th>High</th>\n      <th>Low</th>\n      <th>Close</th>\n      <th>Volume</th>\n      <th>exch_Close</th>\n      <th>exch_Diff</th>\n    </tr>\n  </thead>\n  <tbody>\n    <tr>\n      <th>458</th>\n      <td>2017-11-16</td>\n      <td>NaN</td>\n      <td>NaN</td>\n      <td>NaN</td>\n      <td>NaN</td>\n      <td>NaN</td>\n      <td>1097.2</td>\n      <td>-0.0077</td>\n    </tr>\n    <tr>\n      <th>463</th>\n      <td>2017-11-23</td>\n      <td>NaN</td>\n      <td>NaN</td>\n      <td>NaN</td>\n      <td>NaN</td>\n      <td>NaN</td>\n      <td>1084.0</td>\n      <td>-0.0019</td>\n    </tr>\n    <tr>\n      <th>487</th>\n      <td>2018-01-02</td>\n      <td>NaN</td>\n      <td>NaN</td>\n      <td>NaN</td>\n      <td>NaN</td>\n      <td>NaN</td>\n      <td>1063.2</td>\n      <td>-0.0032</td>\n    </tr>\n    <tr>\n      <th>700</th>\n      <td>2018-11-15</td>\n      <td>NaN</td>\n      <td>NaN</td>\n      <td>NaN</td>\n      <td>NaN</td>\n      <td>NaN</td>\n      <td>1127.9</td>\n      <td>-0.0042</td>\n    </tr>\n    <tr>\n      <th>945</th>\n      <td>2019-11-14</td>\n      <td>NaN</td>\n      <td>NaN</td>\n      <td>NaN</td>\n      <td>NaN</td>\n      <td>NaN</td>\n      <td>1169.1</td>\n      <td>-0.0021</td>\n    </tr>\n  </tbody>\n</table>\n</div>"
     },
     "execution_count": 12,
     "metadata": {},
     "output_type": "execute_result"
    }
   ]
  },
  {
   "cell_type": "code",
   "metadata": {
    "id": "W46idBj6Oyiq"
   },
   "source": [
    "data.loc[(data['Date']>='2019-11-12')&(data['Date']<='2019-11-20')]\n",
    "# 2019-11-14 는 목요일. 원인은 모르나 NaN으로 채워져 있음."
   ],
   "execution_count": 13,
   "outputs": [
    {
     "data": {
      "text/plain": "           Date      Open      High       Low     Close    Volume  exch_Close  \\\n943  2019-11-12  271000.0  271000.0  268500.0  269000.0  168608.0      1166.5   \n944  2019-11-13  268000.0  269500.0  261500.0  263000.0  257602.0      1171.5   \n945  2019-11-14       NaN       NaN       NaN       NaN       NaN      1169.1   \n946  2019-11-15  265000.0  270000.0  265000.0  270000.0  198430.0      1163.7   \n947  2019-11-18  270000.0  275000.0  269500.0  275000.0  185370.0      1167.2   \n948  2019-11-19  274500.0  276500.0  272500.0  272500.0  222226.0      1168.4   \n949  2019-11-20  271500.0  274500.0  268500.0  272000.0  210122.0      1170.8   \n\n     exch_Diff  \n943     0.0009  \n944     0.0043  \n945    -0.0021  \n946    -0.0046  \n947     0.0031  \n948     0.0010  \n949     0.0021  ",
      "text/html": "<div>\n<style scoped>\n    .dataframe tbody tr th:only-of-type {\n        vertical-align: middle;\n    }\n\n    .dataframe tbody tr th {\n        vertical-align: top;\n    }\n\n    .dataframe thead th {\n        text-align: right;\n    }\n</style>\n<table border=\"1\" class=\"dataframe\">\n  <thead>\n    <tr style=\"text-align: right;\">\n      <th></th>\n      <th>Date</th>\n      <th>Open</th>\n      <th>High</th>\n      <th>Low</th>\n      <th>Close</th>\n      <th>Volume</th>\n      <th>exch_Close</th>\n      <th>exch_Diff</th>\n    </tr>\n  </thead>\n  <tbody>\n    <tr>\n      <th>943</th>\n      <td>2019-11-12</td>\n      <td>271000.0</td>\n      <td>271000.0</td>\n      <td>268500.0</td>\n      <td>269000.0</td>\n      <td>168608.0</td>\n      <td>1166.5</td>\n      <td>0.0009</td>\n    </tr>\n    <tr>\n      <th>944</th>\n      <td>2019-11-13</td>\n      <td>268000.0</td>\n      <td>269500.0</td>\n      <td>261500.0</td>\n      <td>263000.0</td>\n      <td>257602.0</td>\n      <td>1171.5</td>\n      <td>0.0043</td>\n    </tr>\n    <tr>\n      <th>945</th>\n      <td>2019-11-14</td>\n      <td>NaN</td>\n      <td>NaN</td>\n      <td>NaN</td>\n      <td>NaN</td>\n      <td>NaN</td>\n      <td>1169.1</td>\n      <td>-0.0021</td>\n    </tr>\n    <tr>\n      <th>946</th>\n      <td>2019-11-15</td>\n      <td>265000.0</td>\n      <td>270000.0</td>\n      <td>265000.0</td>\n      <td>270000.0</td>\n      <td>198430.0</td>\n      <td>1163.7</td>\n      <td>-0.0046</td>\n    </tr>\n    <tr>\n      <th>947</th>\n      <td>2019-11-18</td>\n      <td>270000.0</td>\n      <td>275000.0</td>\n      <td>269500.0</td>\n      <td>275000.0</td>\n      <td>185370.0</td>\n      <td>1167.2</td>\n      <td>0.0031</td>\n    </tr>\n    <tr>\n      <th>948</th>\n      <td>2019-11-19</td>\n      <td>274500.0</td>\n      <td>276500.0</td>\n      <td>272500.0</td>\n      <td>272500.0</td>\n      <td>222226.0</td>\n      <td>1168.4</td>\n      <td>0.0010</td>\n    </tr>\n    <tr>\n      <th>949</th>\n      <td>2019-11-20</td>\n      <td>271500.0</td>\n      <td>274500.0</td>\n      <td>268500.0</td>\n      <td>272000.0</td>\n      <td>210122.0</td>\n      <td>1170.8</td>\n      <td>0.0021</td>\n    </tr>\n  </tbody>\n</table>\n</div>"
     },
     "execution_count": 13,
     "metadata": {},
     "output_type": "execute_result"
    }
   ]
  },
  {
   "cell_type": "code",
   "metadata": {
    "id": "G7qWKGSeX60J"
   },
   "source": [
    "# 어떻게 조치하는게 좋을까요?\n",
    "# 방법1 : 행을 제거한다.\n",
    "\n",
    "data1 = data.dropna(axis=0)\n",
    "data1.isnull().sum()"
   ],
   "execution_count": 14,
   "outputs": [
    {
     "data": {
      "text/plain": "Date          0\nOpen          0\nHigh          0\nLow           0\nClose         0\nVolume        0\nexch_Close    0\nexch_Diff     0\ndtype: int64"
     },
     "execution_count": 14,
     "metadata": {},
     "output_type": "execute_result"
    }
   ]
  },
  {
   "cell_type": "code",
   "metadata": {
    "id": "lDyI7qr7RTxB"
   },
   "source": [
    "data1.loc[(data1['Date']>='2019-11-12')&(data1['Date']<='2019-11-20')]"
   ],
   "execution_count": 15,
   "outputs": [
    {
     "data": {
      "text/plain": "           Date      Open      High       Low     Close    Volume  exch_Close  \\\n943  2019-11-12  271000.0  271000.0  268500.0  269000.0  168608.0      1166.5   \n944  2019-11-13  268000.0  269500.0  261500.0  263000.0  257602.0      1171.5   \n946  2019-11-15  265000.0  270000.0  265000.0  270000.0  198430.0      1163.7   \n947  2019-11-18  270000.0  275000.0  269500.0  275000.0  185370.0      1167.2   \n948  2019-11-19  274500.0  276500.0  272500.0  272500.0  222226.0      1168.4   \n949  2019-11-20  271500.0  274500.0  268500.0  272000.0  210122.0      1170.8   \n\n     exch_Diff  \n943     0.0009  \n944     0.0043  \n946    -0.0046  \n947     0.0031  \n948     0.0010  \n949     0.0021  ",
      "text/html": "<div>\n<style scoped>\n    .dataframe tbody tr th:only-of-type {\n        vertical-align: middle;\n    }\n\n    .dataframe tbody tr th {\n        vertical-align: top;\n    }\n\n    .dataframe thead th {\n        text-align: right;\n    }\n</style>\n<table border=\"1\" class=\"dataframe\">\n  <thead>\n    <tr style=\"text-align: right;\">\n      <th></th>\n      <th>Date</th>\n      <th>Open</th>\n      <th>High</th>\n      <th>Low</th>\n      <th>Close</th>\n      <th>Volume</th>\n      <th>exch_Close</th>\n      <th>exch_Diff</th>\n    </tr>\n  </thead>\n  <tbody>\n    <tr>\n      <th>943</th>\n      <td>2019-11-12</td>\n      <td>271000.0</td>\n      <td>271000.0</td>\n      <td>268500.0</td>\n      <td>269000.0</td>\n      <td>168608.0</td>\n      <td>1166.5</td>\n      <td>0.0009</td>\n    </tr>\n    <tr>\n      <th>944</th>\n      <td>2019-11-13</td>\n      <td>268000.0</td>\n      <td>269500.0</td>\n      <td>261500.0</td>\n      <td>263000.0</td>\n      <td>257602.0</td>\n      <td>1171.5</td>\n      <td>0.0043</td>\n    </tr>\n    <tr>\n      <th>946</th>\n      <td>2019-11-15</td>\n      <td>265000.0</td>\n      <td>270000.0</td>\n      <td>265000.0</td>\n      <td>270000.0</td>\n      <td>198430.0</td>\n      <td>1163.7</td>\n      <td>-0.0046</td>\n    </tr>\n    <tr>\n      <th>947</th>\n      <td>2019-11-18</td>\n      <td>270000.0</td>\n      <td>275000.0</td>\n      <td>269500.0</td>\n      <td>275000.0</td>\n      <td>185370.0</td>\n      <td>1167.2</td>\n      <td>0.0031</td>\n    </tr>\n    <tr>\n      <th>948</th>\n      <td>2019-11-19</td>\n      <td>274500.0</td>\n      <td>276500.0</td>\n      <td>272500.0</td>\n      <td>272500.0</td>\n      <td>222226.0</td>\n      <td>1168.4</td>\n      <td>0.0010</td>\n    </tr>\n    <tr>\n      <th>949</th>\n      <td>2019-11-20</td>\n      <td>271500.0</td>\n      <td>274500.0</td>\n      <td>268500.0</td>\n      <td>272000.0</td>\n      <td>210122.0</td>\n      <td>1170.8</td>\n      <td>0.0021</td>\n    </tr>\n  </tbody>\n</table>\n</div>"
     },
     "execution_count": 15,
     "metadata": {},
     "output_type": "execute_result"
    }
   ]
  },
  {
   "cell_type": "code",
   "metadata": {
    "id": "kZtYH0v5YAnT"
   },
   "source": [
    "# 방법2 : 이전 값으로 채운다. \n",
    "\n",
    "data2 = data.fillna(method='ffill')\n",
    "data2.isnull().sum()"
   ],
   "execution_count": 16,
   "outputs": [
    {
     "data": {
      "text/plain": "Date          0\nOpen          0\nHigh          0\nLow           0\nClose         0\nVolume        0\nexch_Close    0\nexch_Diff     0\ndtype: int64"
     },
     "execution_count": 16,
     "metadata": {},
     "output_type": "execute_result"
    }
   ]
  },
  {
   "cell_type": "code",
   "metadata": {
    "id": "6aC1J35rRjTZ"
   },
   "source": [
    "data2.loc[(data2['Date']>='2019-11-12')&(data2['Date']<='2019-11-20')]"
   ],
   "execution_count": 17,
   "outputs": [
    {
     "data": {
      "text/plain": "           Date      Open      High       Low     Close    Volume  exch_Close  \\\n943  2019-11-12  271000.0  271000.0  268500.0  269000.0  168608.0      1166.5   \n944  2019-11-13  268000.0  269500.0  261500.0  263000.0  257602.0      1171.5   \n945  2019-11-14  268000.0  269500.0  261500.0  263000.0  257602.0      1169.1   \n946  2019-11-15  265000.0  270000.0  265000.0  270000.0  198430.0      1163.7   \n947  2019-11-18  270000.0  275000.0  269500.0  275000.0  185370.0      1167.2   \n948  2019-11-19  274500.0  276500.0  272500.0  272500.0  222226.0      1168.4   \n949  2019-11-20  271500.0  274500.0  268500.0  272000.0  210122.0      1170.8   \n\n     exch_Diff  \n943     0.0009  \n944     0.0043  \n945    -0.0021  \n946    -0.0046  \n947     0.0031  \n948     0.0010  \n949     0.0021  ",
      "text/html": "<div>\n<style scoped>\n    .dataframe tbody tr th:only-of-type {\n        vertical-align: middle;\n    }\n\n    .dataframe tbody tr th {\n        vertical-align: top;\n    }\n\n    .dataframe thead th {\n        text-align: right;\n    }\n</style>\n<table border=\"1\" class=\"dataframe\">\n  <thead>\n    <tr style=\"text-align: right;\">\n      <th></th>\n      <th>Date</th>\n      <th>Open</th>\n      <th>High</th>\n      <th>Low</th>\n      <th>Close</th>\n      <th>Volume</th>\n      <th>exch_Close</th>\n      <th>exch_Diff</th>\n    </tr>\n  </thead>\n  <tbody>\n    <tr>\n      <th>943</th>\n      <td>2019-11-12</td>\n      <td>271000.0</td>\n      <td>271000.0</td>\n      <td>268500.0</td>\n      <td>269000.0</td>\n      <td>168608.0</td>\n      <td>1166.5</td>\n      <td>0.0009</td>\n    </tr>\n    <tr>\n      <th>944</th>\n      <td>2019-11-13</td>\n      <td>268000.0</td>\n      <td>269500.0</td>\n      <td>261500.0</td>\n      <td>263000.0</td>\n      <td>257602.0</td>\n      <td>1171.5</td>\n      <td>0.0043</td>\n    </tr>\n    <tr>\n      <th>945</th>\n      <td>2019-11-14</td>\n      <td>268000.0</td>\n      <td>269500.0</td>\n      <td>261500.0</td>\n      <td>263000.0</td>\n      <td>257602.0</td>\n      <td>1169.1</td>\n      <td>-0.0021</td>\n    </tr>\n    <tr>\n      <th>946</th>\n      <td>2019-11-15</td>\n      <td>265000.0</td>\n      <td>270000.0</td>\n      <td>265000.0</td>\n      <td>270000.0</td>\n      <td>198430.0</td>\n      <td>1163.7</td>\n      <td>-0.0046</td>\n    </tr>\n    <tr>\n      <th>947</th>\n      <td>2019-11-18</td>\n      <td>270000.0</td>\n      <td>275000.0</td>\n      <td>269500.0</td>\n      <td>275000.0</td>\n      <td>185370.0</td>\n      <td>1167.2</td>\n      <td>0.0031</td>\n    </tr>\n    <tr>\n      <th>948</th>\n      <td>2019-11-19</td>\n      <td>274500.0</td>\n      <td>276500.0</td>\n      <td>272500.0</td>\n      <td>272500.0</td>\n      <td>222226.0</td>\n      <td>1168.4</td>\n      <td>0.0010</td>\n    </tr>\n    <tr>\n      <th>949</th>\n      <td>2019-11-20</td>\n      <td>271500.0</td>\n      <td>274500.0</td>\n      <td>268500.0</td>\n      <td>272000.0</td>\n      <td>210122.0</td>\n      <td>1170.8</td>\n      <td>0.0021</td>\n    </tr>\n  </tbody>\n</table>\n</div>"
     },
     "execution_count": 17,
     "metadata": {},
     "output_type": "execute_result"
    }
   ]
  },
  {
   "cell_type": "code",
   "metadata": {
    "id": "DfS1MC0ASupR"
   },
   "source": [
    "# 방법3 : 앞뒤값의 중간값으로 채우기\n",
    "\n",
    "data3 = data.interpolate(method='linear')\n",
    "data3.isnull().sum()"
   ],
   "execution_count": 18,
   "outputs": [
    {
     "data": {
      "text/plain": "Date          0\nOpen          0\nHigh          0\nLow           0\nClose         0\nVolume        0\nexch_Close    0\nexch_Diff     0\ndtype: int64"
     },
     "execution_count": 18,
     "metadata": {},
     "output_type": "execute_result"
    }
   ]
  },
  {
   "cell_type": "code",
   "metadata": {
    "id": "yNsnYTyIS-1a"
   },
   "source": [
    "data3.loc[(data3['Date']>='2019-11-12')&(data3['Date']<='2019-11-20')]"
   ],
   "execution_count": 19,
   "outputs": [
    {
     "data": {
      "text/plain": "           Date      Open      High       Low     Close    Volume  exch_Close  \\\n943  2019-11-12  271000.0  271000.0  268500.0  269000.0  168608.0      1166.5   \n944  2019-11-13  268000.0  269500.0  261500.0  263000.0  257602.0      1171.5   \n945  2019-11-14  266500.0  269750.0  263250.0  266500.0  228016.0      1169.1   \n946  2019-11-15  265000.0  270000.0  265000.0  270000.0  198430.0      1163.7   \n947  2019-11-18  270000.0  275000.0  269500.0  275000.0  185370.0      1167.2   \n948  2019-11-19  274500.0  276500.0  272500.0  272500.0  222226.0      1168.4   \n949  2019-11-20  271500.0  274500.0  268500.0  272000.0  210122.0      1170.8   \n\n     exch_Diff  \n943     0.0009  \n944     0.0043  \n945    -0.0021  \n946    -0.0046  \n947     0.0031  \n948     0.0010  \n949     0.0021  ",
      "text/html": "<div>\n<style scoped>\n    .dataframe tbody tr th:only-of-type {\n        vertical-align: middle;\n    }\n\n    .dataframe tbody tr th {\n        vertical-align: top;\n    }\n\n    .dataframe thead th {\n        text-align: right;\n    }\n</style>\n<table border=\"1\" class=\"dataframe\">\n  <thead>\n    <tr style=\"text-align: right;\">\n      <th></th>\n      <th>Date</th>\n      <th>Open</th>\n      <th>High</th>\n      <th>Low</th>\n      <th>Close</th>\n      <th>Volume</th>\n      <th>exch_Close</th>\n      <th>exch_Diff</th>\n    </tr>\n  </thead>\n  <tbody>\n    <tr>\n      <th>943</th>\n      <td>2019-11-12</td>\n      <td>271000.0</td>\n      <td>271000.0</td>\n      <td>268500.0</td>\n      <td>269000.0</td>\n      <td>168608.0</td>\n      <td>1166.5</td>\n      <td>0.0009</td>\n    </tr>\n    <tr>\n      <th>944</th>\n      <td>2019-11-13</td>\n      <td>268000.0</td>\n      <td>269500.0</td>\n      <td>261500.0</td>\n      <td>263000.0</td>\n      <td>257602.0</td>\n      <td>1171.5</td>\n      <td>0.0043</td>\n    </tr>\n    <tr>\n      <th>945</th>\n      <td>2019-11-14</td>\n      <td>266500.0</td>\n      <td>269750.0</td>\n      <td>263250.0</td>\n      <td>266500.0</td>\n      <td>228016.0</td>\n      <td>1169.1</td>\n      <td>-0.0021</td>\n    </tr>\n    <tr>\n      <th>946</th>\n      <td>2019-11-15</td>\n      <td>265000.0</td>\n      <td>270000.0</td>\n      <td>265000.0</td>\n      <td>270000.0</td>\n      <td>198430.0</td>\n      <td>1163.7</td>\n      <td>-0.0046</td>\n    </tr>\n    <tr>\n      <th>947</th>\n      <td>2019-11-18</td>\n      <td>270000.0</td>\n      <td>275000.0</td>\n      <td>269500.0</td>\n      <td>275000.0</td>\n      <td>185370.0</td>\n      <td>1167.2</td>\n      <td>0.0031</td>\n    </tr>\n    <tr>\n      <th>948</th>\n      <td>2019-11-19</td>\n      <td>274500.0</td>\n      <td>276500.0</td>\n      <td>272500.0</td>\n      <td>272500.0</td>\n      <td>222226.0</td>\n      <td>1168.4</td>\n      <td>0.0010</td>\n    </tr>\n    <tr>\n      <th>949</th>\n      <td>2019-11-20</td>\n      <td>271500.0</td>\n      <td>274500.0</td>\n      <td>268500.0</td>\n      <td>272000.0</td>\n      <td>210122.0</td>\n      <td>1170.8</td>\n      <td>0.0021</td>\n    </tr>\n  </tbody>\n</table>\n</div>"
     },
     "execution_count": 19,
     "metadata": {},
     "output_type": "execute_result"
    }
   ]
  },
  {
   "cell_type": "markdown",
   "metadata": {
    "id": "Bsr0xQauY2Wm"
   },
   "source": [
    "#### 실습 9 : NaN 조치"
   ]
  },
  {
   "cell_type": "markdown",
   "source": [
    "* Q1. 주가 데이터에서 NaN이 변수별로 몇 건씩 있는지 조사하시오."
   ],
   "metadata": {
    "id": "BvCu9l2AvBBt"
   }
  },
  {
   "cell_type": "code",
   "metadata": {
    "id": "jj7ZAhHhXaWk"
   },
   "source": [
    "for column in data.columns:\n",
    "    print(f'{column}: {data[column].isnull().sum()}')"
   ],
   "execution_count": 24,
   "outputs": [
    {
     "name": "stdout",
     "output_type": "stream",
     "text": [
      "Date: 0\n",
      "Open: 5\n",
      "High: 5\n",
      "Low: 5\n",
      "Close: 5\n",
      "Volume: 5\n",
      "exch_Close: 0\n",
      "exch_Diff: 0\n"
     ]
    }
   ]
  },
  {
   "cell_type": "markdown",
   "source": [
    "* Q2. NaN 행을 제거합니다. 제거해서 별도 데이터프레임으로 저장."
   ],
   "metadata": {
    "id": "Gg3Ry0FfvHph"
   }
  },
  {
   "cell_type": "code",
   "source": [
    "non_NaN = data.dropna(axis=0)\n",
    "non_NaN.isna().sum()"
   ],
   "metadata": {
    "id": "tRBOaSPvycNd"
   },
   "execution_count": 27,
   "outputs": [
    {
     "data": {
      "text/plain": "Date          0\nOpen          0\nHigh          0\nLow           0\nClose         0\nVolume        0\nexch_Close    0\nexch_Diff     0\ndtype: int64"
     },
     "execution_count": 27,
     "metadata": {},
     "output_type": "execute_result"
    }
   ]
  },
  {
   "cell_type": "markdown",
   "source": [
    "* Q3. NaN 행에 이후 행의 값으로 채우고, 별도 데이터프레임으로 저장.\n",
    "    * method='bfill'"
   ],
   "metadata": {
    "id": "VRKYGEFVvaid"
   }
  },
  {
   "cell_type": "code",
   "metadata": {
    "id": "2qvsNJIWCo9k"
   },
   "source": [
    "bfill_NaN = data.fillna(method='bfill')\n",
    "bfill_NaN[data['Open'].isnull()]"
   ],
   "execution_count": 36,
   "outputs": [
    {
     "data": {
      "text/plain": "           Date      Open      High       Low     Close    Volume  exch_Close  \\\n458  2017-11-16  296000.0  301000.0  295500.0  300000.0  132905.0      1097.2   \n463  2017-11-23  298000.0  299500.0  296500.0  298500.0   49445.0      1084.0   \n487  2018-01-02  277000.0  282000.0  277000.0  280000.0   85200.0      1063.2   \n700  2018-11-15  273000.0  276000.0  269500.0  273500.0   64050.0      1127.9   \n945  2019-11-14  265000.0  270000.0  265000.0  270000.0  198430.0      1169.1   \n\n     exch_Diff  \n458    -0.0077  \n463    -0.0019  \n487    -0.0032  \n700    -0.0042  \n945    -0.0021  ",
      "text/html": "<div>\n<style scoped>\n    .dataframe tbody tr th:only-of-type {\n        vertical-align: middle;\n    }\n\n    .dataframe tbody tr th {\n        vertical-align: top;\n    }\n\n    .dataframe thead th {\n        text-align: right;\n    }\n</style>\n<table border=\"1\" class=\"dataframe\">\n  <thead>\n    <tr style=\"text-align: right;\">\n      <th></th>\n      <th>Date</th>\n      <th>Open</th>\n      <th>High</th>\n      <th>Low</th>\n      <th>Close</th>\n      <th>Volume</th>\n      <th>exch_Close</th>\n      <th>exch_Diff</th>\n    </tr>\n  </thead>\n  <tbody>\n    <tr>\n      <th>458</th>\n      <td>2017-11-16</td>\n      <td>296000.0</td>\n      <td>301000.0</td>\n      <td>295500.0</td>\n      <td>300000.0</td>\n      <td>132905.0</td>\n      <td>1097.2</td>\n      <td>-0.0077</td>\n    </tr>\n    <tr>\n      <th>463</th>\n      <td>2017-11-23</td>\n      <td>298000.0</td>\n      <td>299500.0</td>\n      <td>296500.0</td>\n      <td>298500.0</td>\n      <td>49445.0</td>\n      <td>1084.0</td>\n      <td>-0.0019</td>\n    </tr>\n    <tr>\n      <th>487</th>\n      <td>2018-01-02</td>\n      <td>277000.0</td>\n      <td>282000.0</td>\n      <td>277000.0</td>\n      <td>280000.0</td>\n      <td>85200.0</td>\n      <td>1063.2</td>\n      <td>-0.0032</td>\n    </tr>\n    <tr>\n      <th>700</th>\n      <td>2018-11-15</td>\n      <td>273000.0</td>\n      <td>276000.0</td>\n      <td>269500.0</td>\n      <td>273500.0</td>\n      <td>64050.0</td>\n      <td>1127.9</td>\n      <td>-0.0042</td>\n    </tr>\n    <tr>\n      <th>945</th>\n      <td>2019-11-14</td>\n      <td>265000.0</td>\n      <td>270000.0</td>\n      <td>265000.0</td>\n      <td>270000.0</td>\n      <td>198430.0</td>\n      <td>1169.1</td>\n      <td>-0.0021</td>\n    </tr>\n  </tbody>\n</table>\n</div>"
     },
     "execution_count": 36,
     "metadata": {},
     "output_type": "execute_result"
    }
   ]
  },
  {
   "cell_type": "markdown",
   "source": [
    "* Q4. NaN 행에 값을 0으로 채우고, 별도 데이터프레임으로 저장.\n",
    "    * .fillna(0)"
   ],
   "metadata": {
    "id": "Ur1Oht8Bvn2A"
   }
  },
  {
   "cell_type": "code",
   "source": [
    "zero_NaN = data.fillna(0)"
   ],
   "metadata": {
    "id": "gpsHE674zBKB"
   },
   "execution_count": 37,
   "outputs": []
  },
  {
   "cell_type": "markdown",
   "source": [
    "* Q5. interpolate를 사용해보시오.\n",
    "    * .interpolate(method='linear')"
   ],
   "metadata": {
    "id": "4AxoSgBMwAkY"
   }
  },
  {
   "cell_type": "code",
   "metadata": {
    "id": "MG4JvtHINLur"
   },
   "source": [
    "linear_NaN = data.interpolate(method='linear')\n",
    "linear_NaN[data['Open'].isnull()]"
   ],
   "execution_count": 39,
   "outputs": [
    {
     "data": {
      "text/plain": "           Date      Open      High       Low     Close    Volume  exch_Close  \\\n458  2017-11-16  292250.0  300750.0  289500.0  297500.0  165752.0      1097.2   \n463  2017-11-23  296500.0  300000.0  294750.0  297000.0   66075.0      1084.0   \n487  2018-01-02  279000.0  283000.0  276500.0  281500.0   89114.0      1063.2   \n700  2018-11-15  272000.0  273750.0  267500.0  271500.0   68286.5      1127.9   \n945  2019-11-14  266500.0  269750.0  263250.0  266500.0  228016.0      1169.1   \n\n     exch_Diff  \n458    -0.0077  \n463    -0.0019  \n487    -0.0032  \n700    -0.0042  \n945    -0.0021  ",
      "text/html": "<div>\n<style scoped>\n    .dataframe tbody tr th:only-of-type {\n        vertical-align: middle;\n    }\n\n    .dataframe tbody tr th {\n        vertical-align: top;\n    }\n\n    .dataframe thead th {\n        text-align: right;\n    }\n</style>\n<table border=\"1\" class=\"dataframe\">\n  <thead>\n    <tr style=\"text-align: right;\">\n      <th></th>\n      <th>Date</th>\n      <th>Open</th>\n      <th>High</th>\n      <th>Low</th>\n      <th>Close</th>\n      <th>Volume</th>\n      <th>exch_Close</th>\n      <th>exch_Diff</th>\n    </tr>\n  </thead>\n  <tbody>\n    <tr>\n      <th>458</th>\n      <td>2017-11-16</td>\n      <td>292250.0</td>\n      <td>300750.0</td>\n      <td>289500.0</td>\n      <td>297500.0</td>\n      <td>165752.0</td>\n      <td>1097.2</td>\n      <td>-0.0077</td>\n    </tr>\n    <tr>\n      <th>463</th>\n      <td>2017-11-23</td>\n      <td>296500.0</td>\n      <td>300000.0</td>\n      <td>294750.0</td>\n      <td>297000.0</td>\n      <td>66075.0</td>\n      <td>1084.0</td>\n      <td>-0.0019</td>\n    </tr>\n    <tr>\n      <th>487</th>\n      <td>2018-01-02</td>\n      <td>279000.0</td>\n      <td>283000.0</td>\n      <td>276500.0</td>\n      <td>281500.0</td>\n      <td>89114.0</td>\n      <td>1063.2</td>\n      <td>-0.0032</td>\n    </tr>\n    <tr>\n      <th>700</th>\n      <td>2018-11-15</td>\n      <td>272000.0</td>\n      <td>273750.0</td>\n      <td>267500.0</td>\n      <td>271500.0</td>\n      <td>68286.5</td>\n      <td>1127.9</td>\n      <td>-0.0042</td>\n    </tr>\n    <tr>\n      <th>945</th>\n      <td>2019-11-14</td>\n      <td>266500.0</td>\n      <td>269750.0</td>\n      <td>263250.0</td>\n      <td>266500.0</td>\n      <td>228016.0</td>\n      <td>1169.1</td>\n      <td>-0.0021</td>\n    </tr>\n  </tbody>\n</table>\n</div>"
     },
     "execution_count": 39,
     "metadata": {},
     "output_type": "execute_result"
    }
   ]
  },
  {
   "cell_type": "markdown",
   "metadata": {
    "id": "kHHqhLQIQATf"
   },
   "source": [
    "### 23.Feature Engineering"
   ]
  },
  {
   "cell_type": "markdown",
   "metadata": {
    "id": "3r2XbG71XwNZ"
   },
   "source": [
    "* 내일의 주가에 영향을 주는 요인은 무엇을까요?"
   ]
  },
  {
   "cell_type": "code",
   "metadata": {
    "id": "xNOy5sLhnGrH"
   },
   "source": [
    "data2.head()"
   ],
   "execution_count": 40,
   "outputs": [
    {
     "data": {
      "text/plain": "         Date      Open      High       Low     Close    Volume  exch_Close  \\\n0  2016-01-04  243000.0  245000.0  234500.0  234500.0  173905.0      1190.4   \n1  2016-01-05  236000.0  244000.0  234000.0  241000.0  182985.0      1190.8   \n2  2016-01-06  241000.0  243000.0  237500.0  239000.0  108574.0      1200.5   \n3  2016-01-07  237000.0  243000.0  236000.0  240500.0  113376.0      1197.3   \n4  2016-01-08  240500.0  242500.0  235000.0  241500.0   81557.0      1207.9   \n\n   exch_Diff  \n0     0.0127  \n1     0.0004  \n2     0.0082  \n3    -0.0027  \n4     0.0089  ",
      "text/html": "<div>\n<style scoped>\n    .dataframe tbody tr th:only-of-type {\n        vertical-align: middle;\n    }\n\n    .dataframe tbody tr th {\n        vertical-align: top;\n    }\n\n    .dataframe thead th {\n        text-align: right;\n    }\n</style>\n<table border=\"1\" class=\"dataframe\">\n  <thead>\n    <tr style=\"text-align: right;\">\n      <th></th>\n      <th>Date</th>\n      <th>Open</th>\n      <th>High</th>\n      <th>Low</th>\n      <th>Close</th>\n      <th>Volume</th>\n      <th>exch_Close</th>\n      <th>exch_Diff</th>\n    </tr>\n  </thead>\n  <tbody>\n    <tr>\n      <th>0</th>\n      <td>2016-01-04</td>\n      <td>243000.0</td>\n      <td>245000.0</td>\n      <td>234500.0</td>\n      <td>234500.0</td>\n      <td>173905.0</td>\n      <td>1190.4</td>\n      <td>0.0127</td>\n    </tr>\n    <tr>\n      <th>1</th>\n      <td>2016-01-05</td>\n      <td>236000.0</td>\n      <td>244000.0</td>\n      <td>234000.0</td>\n      <td>241000.0</td>\n      <td>182985.0</td>\n      <td>1190.8</td>\n      <td>0.0004</td>\n    </tr>\n    <tr>\n      <th>2</th>\n      <td>2016-01-06</td>\n      <td>241000.0</td>\n      <td>243000.0</td>\n      <td>237500.0</td>\n      <td>239000.0</td>\n      <td>108574.0</td>\n      <td>1200.5</td>\n      <td>0.0082</td>\n    </tr>\n    <tr>\n      <th>3</th>\n      <td>2016-01-07</td>\n      <td>237000.0</td>\n      <td>243000.0</td>\n      <td>236000.0</td>\n      <td>240500.0</td>\n      <td>113376.0</td>\n      <td>1197.3</td>\n      <td>-0.0027</td>\n    </tr>\n    <tr>\n      <th>4</th>\n      <td>2016-01-08</td>\n      <td>240500.0</td>\n      <td>242500.0</td>\n      <td>235000.0</td>\n      <td>241500.0</td>\n      <td>81557.0</td>\n      <td>1207.9</td>\n      <td>0.0089</td>\n    </tr>\n  </tbody>\n</table>\n</div>"
     },
     "execution_count": 40,
     "metadata": {},
     "output_type": "execute_result"
    }
   ]
  },
  {
   "cell_type": "markdown",
   "metadata": {
    "id": "WbkohCg7aoGZ"
   },
   "source": [
    "#### 1)날짜 데이터 다루기"
   ]
  },
  {
   "cell_type": "markdown",
   "metadata": {
    "id": "Uz3Lu2wzQATm"
   },
   "source": [
    "* 날짜 변수 만들기  \n",
    "    - 날짜변수를 만드는 이유!  \n",
    "        - 날짜로부터 추가 변수를 도출해내기 위해서 날짜 변수를 만듭니다.  \n",
    "        - 만약 추가변수 도출이 끝나면, 날짜변수는 제거합니다."
   ]
  },
  {
   "cell_type": "code",
   "metadata": {
    "id": "8TmovIJVnr1P"
   },
   "source": [
    "data2.dtypes"
   ],
   "execution_count": 41,
   "outputs": [
    {
     "data": {
      "text/plain": "Date           object\nOpen          float64\nHigh          float64\nLow           float64\nClose         float64\nVolume        float64\nexch_Close    float64\nexch_Diff     float64\ndtype: object"
     },
     "execution_count": 41,
     "metadata": {},
     "output_type": "execute_result"
    }
   ]
  },
  {
   "cell_type": "code",
   "metadata": {
    "id": "7JpfeiyiQATm"
   },
   "source": [
    "# 문자열 형식을 날짜 형식으로 변환\n",
    "data2['Date'] = pd.to_datetime(data2['Date'])\n",
    "print(data2.dtypes)"
   ],
   "execution_count": 42,
   "outputs": [
    {
     "name": "stdout",
     "output_type": "stream",
     "text": [
      "Date          datetime64[ns]\n",
      "Open                 float64\n",
      "High                 float64\n",
      "Low                  float64\n",
      "Close                float64\n",
      "Volume               float64\n",
      "exch_Close           float64\n",
      "exch_Diff            float64\n",
      "dtype: object\n"
     ]
    }
   ]
  },
  {
   "cell_type": "markdown",
   "metadata": {
    "id": "PO6XDUrnZJKQ"
   },
   "source": [
    "* data2.Date.dt.dayofweek  : The day of the week with Monday=0, Sunday=6.\n",
    "* data2.Date.dt.day_name() : 요일 이름\n",
    "* data2.Date.dt.week : 1~53주\n",
    "* data2.Date.dt.year\n",
    "* data2.Date.dt.month"
   ]
  },
  {
   "cell_type": "markdown",
   "metadata": {
    "id": "rk6y4PXdQATo"
   },
   "source": [
    "* 날짜로 부터 날짜요소 추출하기"
   ]
  },
  {
   "cell_type": "code",
   "metadata": {
    "id": "EYYC5GRrQATo"
   },
   "source": [
    "# 요일을 추가해 봅시다. \n",
    "data2['WeekDay'] = data2.Date.dt.dayofweek\n",
    "data2.head()"
   ],
   "execution_count": 43,
   "outputs": [
    {
     "data": {
      "text/plain": "        Date      Open      High       Low     Close    Volume  exch_Close  \\\n0 2016-01-04  243000.0  245000.0  234500.0  234500.0  173905.0      1190.4   \n1 2016-01-05  236000.0  244000.0  234000.0  241000.0  182985.0      1190.8   \n2 2016-01-06  241000.0  243000.0  237500.0  239000.0  108574.0      1200.5   \n3 2016-01-07  237000.0  243000.0  236000.0  240500.0  113376.0      1197.3   \n4 2016-01-08  240500.0  242500.0  235000.0  241500.0   81557.0      1207.9   \n\n   exch_Diff  WeekDay  \n0     0.0127        0  \n1     0.0004        1  \n2     0.0082        2  \n3    -0.0027        3  \n4     0.0089        4  ",
      "text/html": "<div>\n<style scoped>\n    .dataframe tbody tr th:only-of-type {\n        vertical-align: middle;\n    }\n\n    .dataframe tbody tr th {\n        vertical-align: top;\n    }\n\n    .dataframe thead th {\n        text-align: right;\n    }\n</style>\n<table border=\"1\" class=\"dataframe\">\n  <thead>\n    <tr style=\"text-align: right;\">\n      <th></th>\n      <th>Date</th>\n      <th>Open</th>\n      <th>High</th>\n      <th>Low</th>\n      <th>Close</th>\n      <th>Volume</th>\n      <th>exch_Close</th>\n      <th>exch_Diff</th>\n      <th>WeekDay</th>\n    </tr>\n  </thead>\n  <tbody>\n    <tr>\n      <th>0</th>\n      <td>2016-01-04</td>\n      <td>243000.0</td>\n      <td>245000.0</td>\n      <td>234500.0</td>\n      <td>234500.0</td>\n      <td>173905.0</td>\n      <td>1190.4</td>\n      <td>0.0127</td>\n      <td>0</td>\n    </tr>\n    <tr>\n      <th>1</th>\n      <td>2016-01-05</td>\n      <td>236000.0</td>\n      <td>244000.0</td>\n      <td>234000.0</td>\n      <td>241000.0</td>\n      <td>182985.0</td>\n      <td>1190.8</td>\n      <td>0.0004</td>\n      <td>1</td>\n    </tr>\n    <tr>\n      <th>2</th>\n      <td>2016-01-06</td>\n      <td>241000.0</td>\n      <td>243000.0</td>\n      <td>237500.0</td>\n      <td>239000.0</td>\n      <td>108574.0</td>\n      <td>1200.5</td>\n      <td>0.0082</td>\n      <td>2</td>\n    </tr>\n    <tr>\n      <th>3</th>\n      <td>2016-01-07</td>\n      <td>237000.0</td>\n      <td>243000.0</td>\n      <td>236000.0</td>\n      <td>240500.0</td>\n      <td>113376.0</td>\n      <td>1197.3</td>\n      <td>-0.0027</td>\n      <td>3</td>\n    </tr>\n    <tr>\n      <th>4</th>\n      <td>2016-01-08</td>\n      <td>240500.0</td>\n      <td>242500.0</td>\n      <td>235000.0</td>\n      <td>241500.0</td>\n      <td>81557.0</td>\n      <td>1207.9</td>\n      <td>0.0089</td>\n      <td>4</td>\n    </tr>\n  </tbody>\n</table>\n</div>"
     },
     "execution_count": 43,
     "metadata": {},
     "output_type": "execute_result"
    }
   ]
  },
  {
   "cell_type": "code",
   "metadata": {
    "id": "tDjQbrzifWFU"
   },
   "source": [
    "# 요일 이름으로 다시 추가.\n",
    "data2['WeekDay'] = data2.Date.dt.day_name()\n",
    "data2.head()"
   ],
   "execution_count": 44,
   "outputs": [
    {
     "data": {
      "text/plain": "        Date      Open      High       Low     Close    Volume  exch_Close  \\\n0 2016-01-04  243000.0  245000.0  234500.0  234500.0  173905.0      1190.4   \n1 2016-01-05  236000.0  244000.0  234000.0  241000.0  182985.0      1190.8   \n2 2016-01-06  241000.0  243000.0  237500.0  239000.0  108574.0      1200.5   \n3 2016-01-07  237000.0  243000.0  236000.0  240500.0  113376.0      1197.3   \n4 2016-01-08  240500.0  242500.0  235000.0  241500.0   81557.0      1207.9   \n\n   exch_Diff    WeekDay  \n0     0.0127     Monday  \n1     0.0004    Tuesday  \n2     0.0082  Wednesday  \n3    -0.0027   Thursday  \n4     0.0089     Friday  ",
      "text/html": "<div>\n<style scoped>\n    .dataframe tbody tr th:only-of-type {\n        vertical-align: middle;\n    }\n\n    .dataframe tbody tr th {\n        vertical-align: top;\n    }\n\n    .dataframe thead th {\n        text-align: right;\n    }\n</style>\n<table border=\"1\" class=\"dataframe\">\n  <thead>\n    <tr style=\"text-align: right;\">\n      <th></th>\n      <th>Date</th>\n      <th>Open</th>\n      <th>High</th>\n      <th>Low</th>\n      <th>Close</th>\n      <th>Volume</th>\n      <th>exch_Close</th>\n      <th>exch_Diff</th>\n      <th>WeekDay</th>\n    </tr>\n  </thead>\n  <tbody>\n    <tr>\n      <th>0</th>\n      <td>2016-01-04</td>\n      <td>243000.0</td>\n      <td>245000.0</td>\n      <td>234500.0</td>\n      <td>234500.0</td>\n      <td>173905.0</td>\n      <td>1190.4</td>\n      <td>0.0127</td>\n      <td>Monday</td>\n    </tr>\n    <tr>\n      <th>1</th>\n      <td>2016-01-05</td>\n      <td>236000.0</td>\n      <td>244000.0</td>\n      <td>234000.0</td>\n      <td>241000.0</td>\n      <td>182985.0</td>\n      <td>1190.8</td>\n      <td>0.0004</td>\n      <td>Tuesday</td>\n    </tr>\n    <tr>\n      <th>2</th>\n      <td>2016-01-06</td>\n      <td>241000.0</td>\n      <td>243000.0</td>\n      <td>237500.0</td>\n      <td>239000.0</td>\n      <td>108574.0</td>\n      <td>1200.5</td>\n      <td>0.0082</td>\n      <td>Wednesday</td>\n    </tr>\n    <tr>\n      <th>3</th>\n      <td>2016-01-07</td>\n      <td>237000.0</td>\n      <td>243000.0</td>\n      <td>236000.0</td>\n      <td>240500.0</td>\n      <td>113376.0</td>\n      <td>1197.3</td>\n      <td>-0.0027</td>\n      <td>Thursday</td>\n    </tr>\n    <tr>\n      <th>4</th>\n      <td>2016-01-08</td>\n      <td>240500.0</td>\n      <td>242500.0</td>\n      <td>235000.0</td>\n      <td>241500.0</td>\n      <td>81557.0</td>\n      <td>1207.9</td>\n      <td>0.0089</td>\n      <td>Friday</td>\n    </tr>\n  </tbody>\n</table>\n</div>"
     },
     "execution_count": 44,
     "metadata": {},
     "output_type": "execute_result"
    }
   ]
  },
  {
   "cell_type": "markdown",
   "metadata": {
    "id": "ZlCELT-_QATq"
   },
   "source": [
    "#### 2)이전 데이터 붙이기.  \n",
    "- .shift( )   : 예) 전날 주가, 전날 환율\n",
    "- .rolling( ) : 예)7일이동평균 주가"
   ]
  },
  {
   "cell_type": "code",
   "metadata": {
    "id": "BCQyy79LQATq"
   },
   "source": [
    "# 전날 주가를 추가합니다.\n",
    "data2['Close_lag1'] = data2['Close'].shift() # default = 1\n",
    "data2.head()"
   ],
   "execution_count": null,
   "outputs": []
  },
  {
   "cell_type": "code",
   "metadata": {
    "id": "pvciFKNmcf3X"
   },
   "source": [
    "# 7일 이동평균 주가\n",
    "data2['Close_MA7_lag1'] = data2['Close'].rolling(7, min_periods=1).mean().shift()\n",
    "data2.head()"
   ],
   "execution_count": null,
   "outputs": []
  },
  {
   "cell_type": "markdown",
   "metadata": {
    "id": "QVvQ2NYTd5wI"
   },
   "source": [
    "#### 실습 10 : feature engineering\n",
    "\n",
    "* data2 변수를 이용하여 문제를 푸시오"
   ]
  },
  {
   "cell_type": "markdown",
   "source": [
    "* Q1. 월 데이터를 추가해보시오"
   ],
   "metadata": {
    "id": "T4yctRF1wxvv"
   }
  },
  {
   "cell_type": "code",
   "metadata": {
    "id": "pZh4fNZFd5o8"
   },
   "source": [
    "data2['Month'] = data2.Date.dt.month\n",
    "data2.head()"
   ],
   "execution_count": 70,
   "outputs": [
    {
     "data": {
      "text/plain": "        Date      Open      High       Low     Close    Volume  exch_Close  \\\n0 2016-01-04  243000.0  245000.0  234500.0  234500.0  173905.0      1190.4   \n1 2016-01-05  236000.0  244000.0  234000.0  241000.0  182985.0      1190.8   \n2 2016-01-06  241000.0  243000.0  237500.0  239000.0  108574.0      1200.5   \n3 2016-01-07  237000.0  243000.0  236000.0  240500.0  113376.0      1197.3   \n4 2016-01-08  240500.0  242500.0  235000.0  241500.0   81557.0      1207.9   \n\n   exch_Diff    WeekDay  Month  Volume_lag1  전날 주가 - 전전날 주가  전날 종가 - 전날 시가  \\\n0        NaN     Monday      1          NaN             NaN            NaN   \n1        0.4    Tuesday      1     173905.0             NaN        -8500.0   \n2        9.7  Wednesday      1     182985.0          6500.0         5000.0   \n3       -3.2   Thursday      1     108574.0         -2000.0        -2000.0   \n4       10.6     Friday      1     113376.0          1500.0         3500.0   \n\n      변동 폭  \n0  10500.0  \n1  10000.0  \n2   5500.0  \n3   7000.0  \n4   7500.0  ",
      "text/html": "<div>\n<style scoped>\n    .dataframe tbody tr th:only-of-type {\n        vertical-align: middle;\n    }\n\n    .dataframe tbody tr th {\n        vertical-align: top;\n    }\n\n    .dataframe thead th {\n        text-align: right;\n    }\n</style>\n<table border=\"1\" class=\"dataframe\">\n  <thead>\n    <tr style=\"text-align: right;\">\n      <th></th>\n      <th>Date</th>\n      <th>Open</th>\n      <th>High</th>\n      <th>Low</th>\n      <th>Close</th>\n      <th>Volume</th>\n      <th>exch_Close</th>\n      <th>exch_Diff</th>\n      <th>WeekDay</th>\n      <th>Month</th>\n      <th>Volume_lag1</th>\n      <th>전날 주가 - 전전날 주가</th>\n      <th>전날 종가 - 전날 시가</th>\n      <th>변동 폭</th>\n    </tr>\n  </thead>\n  <tbody>\n    <tr>\n      <th>0</th>\n      <td>2016-01-04</td>\n      <td>243000.0</td>\n      <td>245000.0</td>\n      <td>234500.0</td>\n      <td>234500.0</td>\n      <td>173905.0</td>\n      <td>1190.4</td>\n      <td>NaN</td>\n      <td>Monday</td>\n      <td>1</td>\n      <td>NaN</td>\n      <td>NaN</td>\n      <td>NaN</td>\n      <td>10500.0</td>\n    </tr>\n    <tr>\n      <th>1</th>\n      <td>2016-01-05</td>\n      <td>236000.0</td>\n      <td>244000.0</td>\n      <td>234000.0</td>\n      <td>241000.0</td>\n      <td>182985.0</td>\n      <td>1190.8</td>\n      <td>0.4</td>\n      <td>Tuesday</td>\n      <td>1</td>\n      <td>173905.0</td>\n      <td>NaN</td>\n      <td>-8500.0</td>\n      <td>10000.0</td>\n    </tr>\n    <tr>\n      <th>2</th>\n      <td>2016-01-06</td>\n      <td>241000.0</td>\n      <td>243000.0</td>\n      <td>237500.0</td>\n      <td>239000.0</td>\n      <td>108574.0</td>\n      <td>1200.5</td>\n      <td>9.7</td>\n      <td>Wednesday</td>\n      <td>1</td>\n      <td>182985.0</td>\n      <td>6500.0</td>\n      <td>5000.0</td>\n      <td>5500.0</td>\n    </tr>\n    <tr>\n      <th>3</th>\n      <td>2016-01-07</td>\n      <td>237000.0</td>\n      <td>243000.0</td>\n      <td>236000.0</td>\n      <td>240500.0</td>\n      <td>113376.0</td>\n      <td>1197.3</td>\n      <td>-3.2</td>\n      <td>Thursday</td>\n      <td>1</td>\n      <td>108574.0</td>\n      <td>-2000.0</td>\n      <td>-2000.0</td>\n      <td>7000.0</td>\n    </tr>\n    <tr>\n      <th>4</th>\n      <td>2016-01-08</td>\n      <td>240500.0</td>\n      <td>242500.0</td>\n      <td>235000.0</td>\n      <td>241500.0</td>\n      <td>81557.0</td>\n      <td>1207.9</td>\n      <td>10.6</td>\n      <td>Friday</td>\n      <td>1</td>\n      <td>113376.0</td>\n      <td>1500.0</td>\n      <td>3500.0</td>\n      <td>7500.0</td>\n    </tr>\n  </tbody>\n</table>\n</div>"
     },
     "execution_count": 70,
     "metadata": {},
     "output_type": "execute_result"
    }
   ]
  },
  {
   "cell_type": "markdown",
   "source": [
    "* Q2. 전날 거래량 컬럼, 전날 환율 증감 컬럼을 만드시오."
   ],
   "metadata": {
    "id": "QFImXjz9xBp-"
   }
  },
  {
   "cell_type": "code",
   "metadata": {
    "id": "m9IyvNhyd5gU"
   },
   "source": [
    "data2['Volume_lag1'] = data2['Volume'].shift()\n",
    "data2['exch_Diff'] = data2['exch_Close'].diff()\n",
    "data2.head()"
   ],
   "execution_count": 71,
   "outputs": [
    {
     "data": {
      "text/plain": "        Date      Open      High       Low     Close    Volume  exch_Close  \\\n0 2016-01-04  243000.0  245000.0  234500.0  234500.0  173905.0      1190.4   \n1 2016-01-05  236000.0  244000.0  234000.0  241000.0  182985.0      1190.8   \n2 2016-01-06  241000.0  243000.0  237500.0  239000.0  108574.0      1200.5   \n3 2016-01-07  237000.0  243000.0  236000.0  240500.0  113376.0      1197.3   \n4 2016-01-08  240500.0  242500.0  235000.0  241500.0   81557.0      1207.9   \n\n   exch_Diff    WeekDay  Month  Volume_lag1  전날 주가 - 전전날 주가  전날 종가 - 전날 시가  \\\n0        NaN     Monday      1          NaN             NaN            NaN   \n1        0.4    Tuesday      1     173905.0             NaN        -8500.0   \n2        9.7  Wednesday      1     182985.0          6500.0         5000.0   \n3       -3.2   Thursday      1     108574.0         -2000.0        -2000.0   \n4       10.6     Friday      1     113376.0          1500.0         3500.0   \n\n      변동 폭  \n0  10500.0  \n1  10000.0  \n2   5500.0  \n3   7000.0  \n4   7500.0  ",
      "text/html": "<div>\n<style scoped>\n    .dataframe tbody tr th:only-of-type {\n        vertical-align: middle;\n    }\n\n    .dataframe tbody tr th {\n        vertical-align: top;\n    }\n\n    .dataframe thead th {\n        text-align: right;\n    }\n</style>\n<table border=\"1\" class=\"dataframe\">\n  <thead>\n    <tr style=\"text-align: right;\">\n      <th></th>\n      <th>Date</th>\n      <th>Open</th>\n      <th>High</th>\n      <th>Low</th>\n      <th>Close</th>\n      <th>Volume</th>\n      <th>exch_Close</th>\n      <th>exch_Diff</th>\n      <th>WeekDay</th>\n      <th>Month</th>\n      <th>Volume_lag1</th>\n      <th>전날 주가 - 전전날 주가</th>\n      <th>전날 종가 - 전날 시가</th>\n      <th>변동 폭</th>\n    </tr>\n  </thead>\n  <tbody>\n    <tr>\n      <th>0</th>\n      <td>2016-01-04</td>\n      <td>243000.0</td>\n      <td>245000.0</td>\n      <td>234500.0</td>\n      <td>234500.0</td>\n      <td>173905.0</td>\n      <td>1190.4</td>\n      <td>NaN</td>\n      <td>Monday</td>\n      <td>1</td>\n      <td>NaN</td>\n      <td>NaN</td>\n      <td>NaN</td>\n      <td>10500.0</td>\n    </tr>\n    <tr>\n      <th>1</th>\n      <td>2016-01-05</td>\n      <td>236000.0</td>\n      <td>244000.0</td>\n      <td>234000.0</td>\n      <td>241000.0</td>\n      <td>182985.0</td>\n      <td>1190.8</td>\n      <td>0.4</td>\n      <td>Tuesday</td>\n      <td>1</td>\n      <td>173905.0</td>\n      <td>NaN</td>\n      <td>-8500.0</td>\n      <td>10000.0</td>\n    </tr>\n    <tr>\n      <th>2</th>\n      <td>2016-01-06</td>\n      <td>241000.0</td>\n      <td>243000.0</td>\n      <td>237500.0</td>\n      <td>239000.0</td>\n      <td>108574.0</td>\n      <td>1200.5</td>\n      <td>9.7</td>\n      <td>Wednesday</td>\n      <td>1</td>\n      <td>182985.0</td>\n      <td>6500.0</td>\n      <td>5000.0</td>\n      <td>5500.0</td>\n    </tr>\n    <tr>\n      <th>3</th>\n      <td>2016-01-07</td>\n      <td>237000.0</td>\n      <td>243000.0</td>\n      <td>236000.0</td>\n      <td>240500.0</td>\n      <td>113376.0</td>\n      <td>1197.3</td>\n      <td>-3.2</td>\n      <td>Thursday</td>\n      <td>1</td>\n      <td>108574.0</td>\n      <td>-2000.0</td>\n      <td>-2000.0</td>\n      <td>7000.0</td>\n    </tr>\n    <tr>\n      <th>4</th>\n      <td>2016-01-08</td>\n      <td>240500.0</td>\n      <td>242500.0</td>\n      <td>235000.0</td>\n      <td>241500.0</td>\n      <td>81557.0</td>\n      <td>1207.9</td>\n      <td>10.6</td>\n      <td>Friday</td>\n      <td>1</td>\n      <td>113376.0</td>\n      <td>1500.0</td>\n      <td>3500.0</td>\n      <td>7500.0</td>\n    </tr>\n  </tbody>\n</table>\n</div>"
     },
     "execution_count": 71,
     "metadata": {},
     "output_type": "execute_result"
    }
   ]
  },
  {
   "cell_type": "markdown",
   "source": [
    "* Q3. \"전날 주가 - 전전날 주가\" 컬럼을 만드시오."
   ],
   "metadata": {
    "id": "Ms3wYE5txZvE"
   }
  },
  {
   "cell_type": "code",
   "metadata": {
    "id": "9xWqgSK_d5XH"
   },
   "source": [
    "data2[\"전날 주가 - 전전날 주가\"] = data2['Close'].shift().diff()\n",
    "data2.head()"
   ],
   "execution_count": 72,
   "outputs": [
    {
     "data": {
      "text/plain": "        Date      Open      High       Low     Close    Volume  exch_Close  \\\n0 2016-01-04  243000.0  245000.0  234500.0  234500.0  173905.0      1190.4   \n1 2016-01-05  236000.0  244000.0  234000.0  241000.0  182985.0      1190.8   \n2 2016-01-06  241000.0  243000.0  237500.0  239000.0  108574.0      1200.5   \n3 2016-01-07  237000.0  243000.0  236000.0  240500.0  113376.0      1197.3   \n4 2016-01-08  240500.0  242500.0  235000.0  241500.0   81557.0      1207.9   \n\n   exch_Diff    WeekDay  Month  Volume_lag1  전날 주가 - 전전날 주가  전날 종가 - 전날 시가  \\\n0        NaN     Monday      1          NaN             NaN            NaN   \n1        0.4    Tuesday      1     173905.0             NaN        -8500.0   \n2        9.7  Wednesday      1     182985.0          6500.0         5000.0   \n3       -3.2   Thursday      1     108574.0         -2000.0        -2000.0   \n4       10.6     Friday      1     113376.0          1500.0         3500.0   \n\n      변동 폭  \n0  10500.0  \n1  10000.0  \n2   5500.0  \n3   7000.0  \n4   7500.0  ",
      "text/html": "<div>\n<style scoped>\n    .dataframe tbody tr th:only-of-type {\n        vertical-align: middle;\n    }\n\n    .dataframe tbody tr th {\n        vertical-align: top;\n    }\n\n    .dataframe thead th {\n        text-align: right;\n    }\n</style>\n<table border=\"1\" class=\"dataframe\">\n  <thead>\n    <tr style=\"text-align: right;\">\n      <th></th>\n      <th>Date</th>\n      <th>Open</th>\n      <th>High</th>\n      <th>Low</th>\n      <th>Close</th>\n      <th>Volume</th>\n      <th>exch_Close</th>\n      <th>exch_Diff</th>\n      <th>WeekDay</th>\n      <th>Month</th>\n      <th>Volume_lag1</th>\n      <th>전날 주가 - 전전날 주가</th>\n      <th>전날 종가 - 전날 시가</th>\n      <th>변동 폭</th>\n    </tr>\n  </thead>\n  <tbody>\n    <tr>\n      <th>0</th>\n      <td>2016-01-04</td>\n      <td>243000.0</td>\n      <td>245000.0</td>\n      <td>234500.0</td>\n      <td>234500.0</td>\n      <td>173905.0</td>\n      <td>1190.4</td>\n      <td>NaN</td>\n      <td>Monday</td>\n      <td>1</td>\n      <td>NaN</td>\n      <td>NaN</td>\n      <td>NaN</td>\n      <td>10500.0</td>\n    </tr>\n    <tr>\n      <th>1</th>\n      <td>2016-01-05</td>\n      <td>236000.0</td>\n      <td>244000.0</td>\n      <td>234000.0</td>\n      <td>241000.0</td>\n      <td>182985.0</td>\n      <td>1190.8</td>\n      <td>0.4</td>\n      <td>Tuesday</td>\n      <td>1</td>\n      <td>173905.0</td>\n      <td>NaN</td>\n      <td>-8500.0</td>\n      <td>10000.0</td>\n    </tr>\n    <tr>\n      <th>2</th>\n      <td>2016-01-06</td>\n      <td>241000.0</td>\n      <td>243000.0</td>\n      <td>237500.0</td>\n      <td>239000.0</td>\n      <td>108574.0</td>\n      <td>1200.5</td>\n      <td>9.7</td>\n      <td>Wednesday</td>\n      <td>1</td>\n      <td>182985.0</td>\n      <td>6500.0</td>\n      <td>5000.0</td>\n      <td>5500.0</td>\n    </tr>\n    <tr>\n      <th>3</th>\n      <td>2016-01-07</td>\n      <td>237000.0</td>\n      <td>243000.0</td>\n      <td>236000.0</td>\n      <td>240500.0</td>\n      <td>113376.0</td>\n      <td>1197.3</td>\n      <td>-3.2</td>\n      <td>Thursday</td>\n      <td>1</td>\n      <td>108574.0</td>\n      <td>-2000.0</td>\n      <td>-2000.0</td>\n      <td>7000.0</td>\n    </tr>\n    <tr>\n      <th>4</th>\n      <td>2016-01-08</td>\n      <td>240500.0</td>\n      <td>242500.0</td>\n      <td>235000.0</td>\n      <td>241500.0</td>\n      <td>81557.0</td>\n      <td>1207.9</td>\n      <td>10.6</td>\n      <td>Friday</td>\n      <td>1</td>\n      <td>113376.0</td>\n      <td>1500.0</td>\n      <td>3500.0</td>\n      <td>7500.0</td>\n    </tr>\n  </tbody>\n</table>\n</div>"
     },
     "execution_count": 72,
     "metadata": {},
     "output_type": "execute_result"
    }
   ]
  },
  {
   "cell_type": "markdown",
   "source": [
    "* Q4. \"전날 종가 - 전날 시가\" 컬럼을 만드시오."
   ],
   "metadata": {
    "id": "yG4KpCHux9G2"
   }
  },
  {
   "cell_type": "code",
   "metadata": {
    "id": "Aqh3r97UeLJ3"
   },
   "source": [
    "data2[\"전날 종가 - 전날 시가\"] = data2['Close'].shift() - data2['Open'].shift()\n",
    "data2.head()"
   ],
   "execution_count": 73,
   "outputs": [
    {
     "data": {
      "text/plain": "        Date      Open      High       Low     Close    Volume  exch_Close  \\\n0 2016-01-04  243000.0  245000.0  234500.0  234500.0  173905.0      1190.4   \n1 2016-01-05  236000.0  244000.0  234000.0  241000.0  182985.0      1190.8   \n2 2016-01-06  241000.0  243000.0  237500.0  239000.0  108574.0      1200.5   \n3 2016-01-07  237000.0  243000.0  236000.0  240500.0  113376.0      1197.3   \n4 2016-01-08  240500.0  242500.0  235000.0  241500.0   81557.0      1207.9   \n\n   exch_Diff    WeekDay  Month  Volume_lag1  전날 주가 - 전전날 주가  전날 종가 - 전날 시가  \\\n0        NaN     Monday      1          NaN             NaN            NaN   \n1        0.4    Tuesday      1     173905.0             NaN        -8500.0   \n2        9.7  Wednesday      1     182985.0          6500.0         5000.0   \n3       -3.2   Thursday      1     108574.0         -2000.0        -2000.0   \n4       10.6     Friday      1     113376.0          1500.0         3500.0   \n\n      변동 폭  \n0  10500.0  \n1  10000.0  \n2   5500.0  \n3   7000.0  \n4   7500.0  ",
      "text/html": "<div>\n<style scoped>\n    .dataframe tbody tr th:only-of-type {\n        vertical-align: middle;\n    }\n\n    .dataframe tbody tr th {\n        vertical-align: top;\n    }\n\n    .dataframe thead th {\n        text-align: right;\n    }\n</style>\n<table border=\"1\" class=\"dataframe\">\n  <thead>\n    <tr style=\"text-align: right;\">\n      <th></th>\n      <th>Date</th>\n      <th>Open</th>\n      <th>High</th>\n      <th>Low</th>\n      <th>Close</th>\n      <th>Volume</th>\n      <th>exch_Close</th>\n      <th>exch_Diff</th>\n      <th>WeekDay</th>\n      <th>Month</th>\n      <th>Volume_lag1</th>\n      <th>전날 주가 - 전전날 주가</th>\n      <th>전날 종가 - 전날 시가</th>\n      <th>변동 폭</th>\n    </tr>\n  </thead>\n  <tbody>\n    <tr>\n      <th>0</th>\n      <td>2016-01-04</td>\n      <td>243000.0</td>\n      <td>245000.0</td>\n      <td>234500.0</td>\n      <td>234500.0</td>\n      <td>173905.0</td>\n      <td>1190.4</td>\n      <td>NaN</td>\n      <td>Monday</td>\n      <td>1</td>\n      <td>NaN</td>\n      <td>NaN</td>\n      <td>NaN</td>\n      <td>10500.0</td>\n    </tr>\n    <tr>\n      <th>1</th>\n      <td>2016-01-05</td>\n      <td>236000.0</td>\n      <td>244000.0</td>\n      <td>234000.0</td>\n      <td>241000.0</td>\n      <td>182985.0</td>\n      <td>1190.8</td>\n      <td>0.4</td>\n      <td>Tuesday</td>\n      <td>1</td>\n      <td>173905.0</td>\n      <td>NaN</td>\n      <td>-8500.0</td>\n      <td>10000.0</td>\n    </tr>\n    <tr>\n      <th>2</th>\n      <td>2016-01-06</td>\n      <td>241000.0</td>\n      <td>243000.0</td>\n      <td>237500.0</td>\n      <td>239000.0</td>\n      <td>108574.0</td>\n      <td>1200.5</td>\n      <td>9.7</td>\n      <td>Wednesday</td>\n      <td>1</td>\n      <td>182985.0</td>\n      <td>6500.0</td>\n      <td>5000.0</td>\n      <td>5500.0</td>\n    </tr>\n    <tr>\n      <th>3</th>\n      <td>2016-01-07</td>\n      <td>237000.0</td>\n      <td>243000.0</td>\n      <td>236000.0</td>\n      <td>240500.0</td>\n      <td>113376.0</td>\n      <td>1197.3</td>\n      <td>-3.2</td>\n      <td>Thursday</td>\n      <td>1</td>\n      <td>108574.0</td>\n      <td>-2000.0</td>\n      <td>-2000.0</td>\n      <td>7000.0</td>\n    </tr>\n    <tr>\n      <th>4</th>\n      <td>2016-01-08</td>\n      <td>240500.0</td>\n      <td>242500.0</td>\n      <td>235000.0</td>\n      <td>241500.0</td>\n      <td>81557.0</td>\n      <td>1207.9</td>\n      <td>10.6</td>\n      <td>Friday</td>\n      <td>1</td>\n      <td>113376.0</td>\n      <td>1500.0</td>\n      <td>3500.0</td>\n      <td>7500.0</td>\n    </tr>\n  </tbody>\n</table>\n</div>"
     },
     "execution_count": 73,
     "metadata": {},
     "output_type": "execute_result"
    }
   ]
  },
  {
   "cell_type": "markdown",
   "source": [
    "* Q5. 그 외 추가하고 싶은 변수를 1 ~ 3개 정도 더 추가해보세요."
   ],
   "metadata": {
    "id": "qGo_mpoUyIgc"
   }
  },
  {
   "cell_type": "code",
   "metadata": {
    "id": "1GrLxNDBdRex"
   },
   "source": [
    "data2['변동 폭'] = data2['High'] - data2['Low']\n",
    "data2.head()"
   ],
   "execution_count": 74,
   "outputs": [
    {
     "data": {
      "text/plain": "        Date      Open      High       Low     Close    Volume  exch_Close  \\\n0 2016-01-04  243000.0  245000.0  234500.0  234500.0  173905.0      1190.4   \n1 2016-01-05  236000.0  244000.0  234000.0  241000.0  182985.0      1190.8   \n2 2016-01-06  241000.0  243000.0  237500.0  239000.0  108574.0      1200.5   \n3 2016-01-07  237000.0  243000.0  236000.0  240500.0  113376.0      1197.3   \n4 2016-01-08  240500.0  242500.0  235000.0  241500.0   81557.0      1207.9   \n\n   exch_Diff    WeekDay  Month  Volume_lag1  전날 주가 - 전전날 주가  전날 종가 - 전날 시가  \\\n0        NaN     Monday      1          NaN             NaN            NaN   \n1        0.4    Tuesday      1     173905.0             NaN        -8500.0   \n2        9.7  Wednesday      1     182985.0          6500.0         5000.0   \n3       -3.2   Thursday      1     108574.0         -2000.0        -2000.0   \n4       10.6     Friday      1     113376.0          1500.0         3500.0   \n\n      변동 폭  \n0  10500.0  \n1  10000.0  \n2   5500.0  \n3   7000.0  \n4   7500.0  ",
      "text/html": "<div>\n<style scoped>\n    .dataframe tbody tr th:only-of-type {\n        vertical-align: middle;\n    }\n\n    .dataframe tbody tr th {\n        vertical-align: top;\n    }\n\n    .dataframe thead th {\n        text-align: right;\n    }\n</style>\n<table border=\"1\" class=\"dataframe\">\n  <thead>\n    <tr style=\"text-align: right;\">\n      <th></th>\n      <th>Date</th>\n      <th>Open</th>\n      <th>High</th>\n      <th>Low</th>\n      <th>Close</th>\n      <th>Volume</th>\n      <th>exch_Close</th>\n      <th>exch_Diff</th>\n      <th>WeekDay</th>\n      <th>Month</th>\n      <th>Volume_lag1</th>\n      <th>전날 주가 - 전전날 주가</th>\n      <th>전날 종가 - 전날 시가</th>\n      <th>변동 폭</th>\n    </tr>\n  </thead>\n  <tbody>\n    <tr>\n      <th>0</th>\n      <td>2016-01-04</td>\n      <td>243000.0</td>\n      <td>245000.0</td>\n      <td>234500.0</td>\n      <td>234500.0</td>\n      <td>173905.0</td>\n      <td>1190.4</td>\n      <td>NaN</td>\n      <td>Monday</td>\n      <td>1</td>\n      <td>NaN</td>\n      <td>NaN</td>\n      <td>NaN</td>\n      <td>10500.0</td>\n    </tr>\n    <tr>\n      <th>1</th>\n      <td>2016-01-05</td>\n      <td>236000.0</td>\n      <td>244000.0</td>\n      <td>234000.0</td>\n      <td>241000.0</td>\n      <td>182985.0</td>\n      <td>1190.8</td>\n      <td>0.4</td>\n      <td>Tuesday</td>\n      <td>1</td>\n      <td>173905.0</td>\n      <td>NaN</td>\n      <td>-8500.0</td>\n      <td>10000.0</td>\n    </tr>\n    <tr>\n      <th>2</th>\n      <td>2016-01-06</td>\n      <td>241000.0</td>\n      <td>243000.0</td>\n      <td>237500.0</td>\n      <td>239000.0</td>\n      <td>108574.0</td>\n      <td>1200.5</td>\n      <td>9.7</td>\n      <td>Wednesday</td>\n      <td>1</td>\n      <td>182985.0</td>\n      <td>6500.0</td>\n      <td>5000.0</td>\n      <td>5500.0</td>\n    </tr>\n    <tr>\n      <th>3</th>\n      <td>2016-01-07</td>\n      <td>237000.0</td>\n      <td>243000.0</td>\n      <td>236000.0</td>\n      <td>240500.0</td>\n      <td>113376.0</td>\n      <td>1197.3</td>\n      <td>-3.2</td>\n      <td>Thursday</td>\n      <td>1</td>\n      <td>108574.0</td>\n      <td>-2000.0</td>\n      <td>-2000.0</td>\n      <td>7000.0</td>\n    </tr>\n    <tr>\n      <th>4</th>\n      <td>2016-01-08</td>\n      <td>240500.0</td>\n      <td>242500.0</td>\n      <td>235000.0</td>\n      <td>241500.0</td>\n      <td>81557.0</td>\n      <td>1207.9</td>\n      <td>10.6</td>\n      <td>Friday</td>\n      <td>1</td>\n      <td>113376.0</td>\n      <td>1500.0</td>\n      <td>3500.0</td>\n      <td>7500.0</td>\n    </tr>\n  </tbody>\n</table>\n</div>"
     },
     "execution_count": 74,
     "metadata": {},
     "output_type": "execute_result"
    }
   ]
  },
  {
   "cell_type": "code",
   "execution_count": 75,
   "outputs": [
    {
     "data": {
      "text/plain": "        Date      Open      High       Low     Close    Volume  exch_Close  \\\n0 2016-01-04  243000.0  245000.0  234500.0  234500.0  173905.0      1190.4   \n1 2016-01-05  236000.0  244000.0  234000.0  241000.0  182985.0      1190.8   \n2 2016-01-06  241000.0  243000.0  237500.0  239000.0  108574.0      1200.5   \n3 2016-01-07  237000.0  243000.0  236000.0  240500.0  113376.0      1197.3   \n4 2016-01-08  240500.0  242500.0  235000.0  241500.0   81557.0      1207.9   \n\n   exch_Diff    WeekDay  Month  Volume_lag1  전날 주가 - 전전날 주가  전날 종가 - 전날 시가  \\\n0        NaN     Monday      1          NaN             NaN            NaN   \n1        0.4    Tuesday      1     173905.0             NaN        -8500.0   \n2        9.7  Wednesday      1     182985.0          6500.0         5000.0   \n3       -3.2   Thursday      1     108574.0         -2000.0        -2000.0   \n4       10.6     Friday      1     113376.0          1500.0         3500.0   \n\n      변동 폭  \n0  10500.0  \n1  10000.0  \n2   5500.0  \n3   7000.0  \n4   7500.0  ",
      "text/html": "<div>\n<style scoped>\n    .dataframe tbody tr th:only-of-type {\n        vertical-align: middle;\n    }\n\n    .dataframe tbody tr th {\n        vertical-align: top;\n    }\n\n    .dataframe thead th {\n        text-align: right;\n    }\n</style>\n<table border=\"1\" class=\"dataframe\">\n  <thead>\n    <tr style=\"text-align: right;\">\n      <th></th>\n      <th>Date</th>\n      <th>Open</th>\n      <th>High</th>\n      <th>Low</th>\n      <th>Close</th>\n      <th>Volume</th>\n      <th>exch_Close</th>\n      <th>exch_Diff</th>\n      <th>WeekDay</th>\n      <th>Month</th>\n      <th>Volume_lag1</th>\n      <th>전날 주가 - 전전날 주가</th>\n      <th>전날 종가 - 전날 시가</th>\n      <th>변동 폭</th>\n    </tr>\n  </thead>\n  <tbody>\n    <tr>\n      <th>0</th>\n      <td>2016-01-04</td>\n      <td>243000.0</td>\n      <td>245000.0</td>\n      <td>234500.0</td>\n      <td>234500.0</td>\n      <td>173905.0</td>\n      <td>1190.4</td>\n      <td>NaN</td>\n      <td>Monday</td>\n      <td>1</td>\n      <td>NaN</td>\n      <td>NaN</td>\n      <td>NaN</td>\n      <td>10500.0</td>\n    </tr>\n    <tr>\n      <th>1</th>\n      <td>2016-01-05</td>\n      <td>236000.0</td>\n      <td>244000.0</td>\n      <td>234000.0</td>\n      <td>241000.0</td>\n      <td>182985.0</td>\n      <td>1190.8</td>\n      <td>0.4</td>\n      <td>Tuesday</td>\n      <td>1</td>\n      <td>173905.0</td>\n      <td>NaN</td>\n      <td>-8500.0</td>\n      <td>10000.0</td>\n    </tr>\n    <tr>\n      <th>2</th>\n      <td>2016-01-06</td>\n      <td>241000.0</td>\n      <td>243000.0</td>\n      <td>237500.0</td>\n      <td>239000.0</td>\n      <td>108574.0</td>\n      <td>1200.5</td>\n      <td>9.7</td>\n      <td>Wednesday</td>\n      <td>1</td>\n      <td>182985.0</td>\n      <td>6500.0</td>\n      <td>5000.0</td>\n      <td>5500.0</td>\n    </tr>\n    <tr>\n      <th>3</th>\n      <td>2016-01-07</td>\n      <td>237000.0</td>\n      <td>243000.0</td>\n      <td>236000.0</td>\n      <td>240500.0</td>\n      <td>113376.0</td>\n      <td>1197.3</td>\n      <td>-3.2</td>\n      <td>Thursday</td>\n      <td>1</td>\n      <td>108574.0</td>\n      <td>-2000.0</td>\n      <td>-2000.0</td>\n      <td>7000.0</td>\n    </tr>\n    <tr>\n      <th>4</th>\n      <td>2016-01-08</td>\n      <td>240500.0</td>\n      <td>242500.0</td>\n      <td>235000.0</td>\n      <td>241500.0</td>\n      <td>81557.0</td>\n      <td>1207.9</td>\n      <td>10.6</td>\n      <td>Friday</td>\n      <td>1</td>\n      <td>113376.0</td>\n      <td>1500.0</td>\n      <td>3500.0</td>\n      <td>7500.0</td>\n    </tr>\n  </tbody>\n</table>\n</div>"
     },
     "execution_count": 75,
     "metadata": {},
     "output_type": "execute_result"
    }
   ],
   "source": [
    "\n",
    "data2.head()"
   ],
   "metadata": {
    "collapsed": false,
    "pycharm": {
     "name": "#%%\n"
    }
   }
  },
  {
   "cell_type": "markdown",
   "metadata": {
    "id": "Foh3ZYTdQq7_"
   },
   "source": [
    "### 24.Dummy Variable\n",
    "* 범주형 변수를 숫자로 만드는 방법\n",
    "* pd.get_dummies, pd.concat, (Pandas Dataframe).drop\n",
    "* 불필요한 칼럼들 제거\n"
   ]
  },
  {
   "cell_type": "code",
   "metadata": {
    "id": "OnopbC3qQq8A"
   },
   "source": [
    "# dummy variable\n",
    "\n",
    "dumm_weekday = pd.get_dummies(data2['WeekDay'], drop_first=True)"
   ],
   "execution_count": 76,
   "outputs": []
  },
  {
   "cell_type": "code",
   "metadata": {
    "id": "x0wMJttyQq8A"
   },
   "source": [
    "dumm_weekday.head()"
   ],
   "execution_count": 77,
   "outputs": [
    {
     "data": {
      "text/plain": "   Monday  Thursday  Tuesday  Wednesday\n0       1         0        0          0\n1       0         0        1          0\n2       0         0        0          1\n3       0         1        0          0\n4       0         0        0          0",
      "text/html": "<div>\n<style scoped>\n    .dataframe tbody tr th:only-of-type {\n        vertical-align: middle;\n    }\n\n    .dataframe tbody tr th {\n        vertical-align: top;\n    }\n\n    .dataframe thead th {\n        text-align: right;\n    }\n</style>\n<table border=\"1\" class=\"dataframe\">\n  <thead>\n    <tr style=\"text-align: right;\">\n      <th></th>\n      <th>Monday</th>\n      <th>Thursday</th>\n      <th>Tuesday</th>\n      <th>Wednesday</th>\n    </tr>\n  </thead>\n  <tbody>\n    <tr>\n      <th>0</th>\n      <td>1</td>\n      <td>0</td>\n      <td>0</td>\n      <td>0</td>\n    </tr>\n    <tr>\n      <th>1</th>\n      <td>0</td>\n      <td>0</td>\n      <td>1</td>\n      <td>0</td>\n    </tr>\n    <tr>\n      <th>2</th>\n      <td>0</td>\n      <td>0</td>\n      <td>0</td>\n      <td>1</td>\n    </tr>\n    <tr>\n      <th>3</th>\n      <td>0</td>\n      <td>1</td>\n      <td>0</td>\n      <td>0</td>\n    </tr>\n    <tr>\n      <th>4</th>\n      <td>0</td>\n      <td>0</td>\n      <td>0</td>\n      <td>0</td>\n    </tr>\n  </tbody>\n</table>\n</div>"
     },
     "execution_count": 77,
     "metadata": {},
     "output_type": "execute_result"
    }
   ]
  },
  {
   "cell_type": "code",
   "metadata": {
    "id": "qJCSFa-eQq8A"
   },
   "source": [
    "data3 = pd.concat([data2, dumm_weekday], axis=1)\n",
    "data3.head()"
   ],
   "execution_count": 108,
   "outputs": [
    {
     "data": {
      "text/plain": "        Date      Open      High       Low     Close    Volume  exch_Close  \\\n0 2016-01-04  243000.0  245000.0  234500.0  234500.0  173905.0      1190.4   \n1 2016-01-05  236000.0  244000.0  234000.0  241000.0  182985.0      1190.8   \n2 2016-01-06  241000.0  243000.0  237500.0  239000.0  108574.0      1200.5   \n3 2016-01-07  237000.0  243000.0  236000.0  240500.0  113376.0      1197.3   \n4 2016-01-08  240500.0  242500.0  235000.0  241500.0   81557.0      1207.9   \n\n   exch_Diff    WeekDay  Month  Volume_lag1  전날 주가 - 전전날 주가  전날 종가 - 전날 시가  \\\n0        NaN     Monday      1          NaN             NaN            NaN   \n1        0.4    Tuesday      1     173905.0             NaN        -8500.0   \n2        9.7  Wednesday      1     182985.0          6500.0         5000.0   \n3       -3.2   Thursday      1     108574.0         -2000.0        -2000.0   \n4       10.6     Friday      1     113376.0          1500.0         3500.0   \n\n      변동 폭  Monday  Thursday  Tuesday  Wednesday  \n0  10500.0       1         0        0          0  \n1  10000.0       0         0        1          0  \n2   5500.0       0         0        0          1  \n3   7000.0       0         1        0          0  \n4   7500.0       0         0        0          0  ",
      "text/html": "<div>\n<style scoped>\n    .dataframe tbody tr th:only-of-type {\n        vertical-align: middle;\n    }\n\n    .dataframe tbody tr th {\n        vertical-align: top;\n    }\n\n    .dataframe thead th {\n        text-align: right;\n    }\n</style>\n<table border=\"1\" class=\"dataframe\">\n  <thead>\n    <tr style=\"text-align: right;\">\n      <th></th>\n      <th>Date</th>\n      <th>Open</th>\n      <th>High</th>\n      <th>Low</th>\n      <th>Close</th>\n      <th>Volume</th>\n      <th>exch_Close</th>\n      <th>exch_Diff</th>\n      <th>WeekDay</th>\n      <th>Month</th>\n      <th>Volume_lag1</th>\n      <th>전날 주가 - 전전날 주가</th>\n      <th>전날 종가 - 전날 시가</th>\n      <th>변동 폭</th>\n      <th>Monday</th>\n      <th>Thursday</th>\n      <th>Tuesday</th>\n      <th>Wednesday</th>\n    </tr>\n  </thead>\n  <tbody>\n    <tr>\n      <th>0</th>\n      <td>2016-01-04</td>\n      <td>243000.0</td>\n      <td>245000.0</td>\n      <td>234500.0</td>\n      <td>234500.0</td>\n      <td>173905.0</td>\n      <td>1190.4</td>\n      <td>NaN</td>\n      <td>Monday</td>\n      <td>1</td>\n      <td>NaN</td>\n      <td>NaN</td>\n      <td>NaN</td>\n      <td>10500.0</td>\n      <td>1</td>\n      <td>0</td>\n      <td>0</td>\n      <td>0</td>\n    </tr>\n    <tr>\n      <th>1</th>\n      <td>2016-01-05</td>\n      <td>236000.0</td>\n      <td>244000.0</td>\n      <td>234000.0</td>\n      <td>241000.0</td>\n      <td>182985.0</td>\n      <td>1190.8</td>\n      <td>0.4</td>\n      <td>Tuesday</td>\n      <td>1</td>\n      <td>173905.0</td>\n      <td>NaN</td>\n      <td>-8500.0</td>\n      <td>10000.0</td>\n      <td>0</td>\n      <td>0</td>\n      <td>1</td>\n      <td>0</td>\n    </tr>\n    <tr>\n      <th>2</th>\n      <td>2016-01-06</td>\n      <td>241000.0</td>\n      <td>243000.0</td>\n      <td>237500.0</td>\n      <td>239000.0</td>\n      <td>108574.0</td>\n      <td>1200.5</td>\n      <td>9.7</td>\n      <td>Wednesday</td>\n      <td>1</td>\n      <td>182985.0</td>\n      <td>6500.0</td>\n      <td>5000.0</td>\n      <td>5500.0</td>\n      <td>0</td>\n      <td>0</td>\n      <td>0</td>\n      <td>1</td>\n    </tr>\n    <tr>\n      <th>3</th>\n      <td>2016-01-07</td>\n      <td>237000.0</td>\n      <td>243000.0</td>\n      <td>236000.0</td>\n      <td>240500.0</td>\n      <td>113376.0</td>\n      <td>1197.3</td>\n      <td>-3.2</td>\n      <td>Thursday</td>\n      <td>1</td>\n      <td>108574.0</td>\n      <td>-2000.0</td>\n      <td>-2000.0</td>\n      <td>7000.0</td>\n      <td>0</td>\n      <td>1</td>\n      <td>0</td>\n      <td>0</td>\n    </tr>\n    <tr>\n      <th>4</th>\n      <td>2016-01-08</td>\n      <td>240500.0</td>\n      <td>242500.0</td>\n      <td>235000.0</td>\n      <td>241500.0</td>\n      <td>81557.0</td>\n      <td>1207.9</td>\n      <td>10.6</td>\n      <td>Friday</td>\n      <td>1</td>\n      <td>113376.0</td>\n      <td>1500.0</td>\n      <td>3500.0</td>\n      <td>7500.0</td>\n      <td>0</td>\n      <td>0</td>\n      <td>0</td>\n      <td>0</td>\n    </tr>\n  </tbody>\n</table>\n</div>"
     },
     "execution_count": 108,
     "metadata": {},
     "output_type": "execute_result"
    }
   ]
  },
  {
   "cell_type": "markdown",
   "metadata": {
    "id": "rbPghHamQq8B"
   },
   "source": [
    "* 불필요한 변수를 제거합시다."
   ]
  },
  {
   "cell_type": "markdown",
   "metadata": {
    "id": "Rtlrx6P-grft"
   },
   "source": [
    "* 어떤 변수가 불필요한가요?  \n",
    "    - 날짜\n",
    "    - 전날로 뺀 변수의 원본\n",
    "    - 가변수화 한 변수의 원본\n",
    "    - 의미 없는 변수"
   ]
  },
  {
   "cell_type": "code",
   "metadata": {
    "id": "CyhktxgNQq8B"
   },
   "source": [
    "# 칼럼삭제\n",
    "drop_x = ['Date','Open','High','Low','Volume','exch_Close','exch_Diff','WeekDay']\n",
    "data3.drop(drop_x, axis = 1, inplace = True)\n",
    "data3.head()"
   ],
   "execution_count": 109,
   "outputs": [
    {
     "data": {
      "text/plain": "      Close  Month  Volume_lag1  전날 주가 - 전전날 주가  전날 종가 - 전날 시가     변동 폭  \\\n0  234500.0      1          NaN             NaN            NaN  10500.0   \n1  241000.0      1     173905.0             NaN        -8500.0  10000.0   \n2  239000.0      1     182985.0          6500.0         5000.0   5500.0   \n3  240500.0      1     108574.0         -2000.0        -2000.0   7000.0   \n4  241500.0      1     113376.0          1500.0         3500.0   7500.0   \n\n   Monday  Thursday  Tuesday  Wednesday  \n0       1         0        0          0  \n1       0         0        1          0  \n2       0         0        0          1  \n3       0         1        0          0  \n4       0         0        0          0  ",
      "text/html": "<div>\n<style scoped>\n    .dataframe tbody tr th:only-of-type {\n        vertical-align: middle;\n    }\n\n    .dataframe tbody tr th {\n        vertical-align: top;\n    }\n\n    .dataframe thead th {\n        text-align: right;\n    }\n</style>\n<table border=\"1\" class=\"dataframe\">\n  <thead>\n    <tr style=\"text-align: right;\">\n      <th></th>\n      <th>Close</th>\n      <th>Month</th>\n      <th>Volume_lag1</th>\n      <th>전날 주가 - 전전날 주가</th>\n      <th>전날 종가 - 전날 시가</th>\n      <th>변동 폭</th>\n      <th>Monday</th>\n      <th>Thursday</th>\n      <th>Tuesday</th>\n      <th>Wednesday</th>\n    </tr>\n  </thead>\n  <tbody>\n    <tr>\n      <th>0</th>\n      <td>234500.0</td>\n      <td>1</td>\n      <td>NaN</td>\n      <td>NaN</td>\n      <td>NaN</td>\n      <td>10500.0</td>\n      <td>1</td>\n      <td>0</td>\n      <td>0</td>\n      <td>0</td>\n    </tr>\n    <tr>\n      <th>1</th>\n      <td>241000.0</td>\n      <td>1</td>\n      <td>173905.0</td>\n      <td>NaN</td>\n      <td>-8500.0</td>\n      <td>10000.0</td>\n      <td>0</td>\n      <td>0</td>\n      <td>1</td>\n      <td>0</td>\n    </tr>\n    <tr>\n      <th>2</th>\n      <td>239000.0</td>\n      <td>1</td>\n      <td>182985.0</td>\n      <td>6500.0</td>\n      <td>5000.0</td>\n      <td>5500.0</td>\n      <td>0</td>\n      <td>0</td>\n      <td>0</td>\n      <td>1</td>\n    </tr>\n    <tr>\n      <th>3</th>\n      <td>240500.0</td>\n      <td>1</td>\n      <td>108574.0</td>\n      <td>-2000.0</td>\n      <td>-2000.0</td>\n      <td>7000.0</td>\n      <td>0</td>\n      <td>1</td>\n      <td>0</td>\n      <td>0</td>\n    </tr>\n    <tr>\n      <th>4</th>\n      <td>241500.0</td>\n      <td>1</td>\n      <td>113376.0</td>\n      <td>1500.0</td>\n      <td>3500.0</td>\n      <td>7500.0</td>\n      <td>0</td>\n      <td>0</td>\n      <td>0</td>\n      <td>0</td>\n    </tr>\n  </tbody>\n</table>\n</div>"
     },
     "execution_count": 109,
     "metadata": {},
     "output_type": "execute_result"
    }
   ]
  },
  {
   "cell_type": "code",
   "execution_count": 110,
   "outputs": [
    {
     "data": {
      "text/plain": "      Close  Month  Volume_lag1  Monday  Thursday  Tuesday  Wednesday\n0  234500.0      1          NaN       1         0        0          0\n1  241000.0      1     173905.0       0         0        1          0\n2  239000.0      1     182985.0       0         0        0          1\n3  240500.0      1     108574.0       0         1        0          0\n4  241500.0      1     113376.0       0         0        0          0",
      "text/html": "<div>\n<style scoped>\n    .dataframe tbody tr th:only-of-type {\n        vertical-align: middle;\n    }\n\n    .dataframe tbody tr th {\n        vertical-align: top;\n    }\n\n    .dataframe thead th {\n        text-align: right;\n    }\n</style>\n<table border=\"1\" class=\"dataframe\">\n  <thead>\n    <tr style=\"text-align: right;\">\n      <th></th>\n      <th>Close</th>\n      <th>Month</th>\n      <th>Volume_lag1</th>\n      <th>Monday</th>\n      <th>Thursday</th>\n      <th>Tuesday</th>\n      <th>Wednesday</th>\n    </tr>\n  </thead>\n  <tbody>\n    <tr>\n      <th>0</th>\n      <td>234500.0</td>\n      <td>1</td>\n      <td>NaN</td>\n      <td>1</td>\n      <td>0</td>\n      <td>0</td>\n      <td>0</td>\n    </tr>\n    <tr>\n      <th>1</th>\n      <td>241000.0</td>\n      <td>1</td>\n      <td>173905.0</td>\n      <td>0</td>\n      <td>0</td>\n      <td>1</td>\n      <td>0</td>\n    </tr>\n    <tr>\n      <th>2</th>\n      <td>239000.0</td>\n      <td>1</td>\n      <td>182985.0</td>\n      <td>0</td>\n      <td>0</td>\n      <td>0</td>\n      <td>1</td>\n    </tr>\n    <tr>\n      <th>3</th>\n      <td>240500.0</td>\n      <td>1</td>\n      <td>108574.0</td>\n      <td>0</td>\n      <td>1</td>\n      <td>0</td>\n      <td>0</td>\n    </tr>\n    <tr>\n      <th>4</th>\n      <td>241500.0</td>\n      <td>1</td>\n      <td>113376.0</td>\n      <td>0</td>\n      <td>0</td>\n      <td>0</td>\n      <td>0</td>\n    </tr>\n  </tbody>\n</table>\n</div>"
     },
     "execution_count": 110,
     "metadata": {},
     "output_type": "execute_result"
    }
   ],
   "source": [
    "drop_x = ['전날 주가 - 전전날 주가', '전날 종가 - 전날 시가', '변동 폭']\n",
    "data3.drop(drop_x, axis=1, inplace=True)\n",
    "data3.head()"
   ],
   "metadata": {
    "collapsed": false,
    "pycharm": {
     "name": "#%%\n"
    }
   }
  },
  {
   "cell_type": "code",
   "metadata": {
    "id": "N-ZH8imqe4hR"
   },
   "source": [
    "# shift를 하다보내 행에 NaN이 다시 들어갔습니다. dropna로 제거합시다.\n",
    "data3 = data3.dropna(axis = 0)\n",
    "data3.head()"
   ],
   "execution_count": 111,
   "outputs": [
    {
     "data": {
      "text/plain": "      Close  Month  Volume_lag1  Monday  Thursday  Tuesday  Wednesday\n1  241000.0      1     173905.0       0         0        1          0\n2  239000.0      1     182985.0       0         0        0          1\n3  240500.0      1     108574.0       0         1        0          0\n4  241500.0      1     113376.0       0         0        0          0\n5  239000.0      1      81557.0       1         0        0          0",
      "text/html": "<div>\n<style scoped>\n    .dataframe tbody tr th:only-of-type {\n        vertical-align: middle;\n    }\n\n    .dataframe tbody tr th {\n        vertical-align: top;\n    }\n\n    .dataframe thead th {\n        text-align: right;\n    }\n</style>\n<table border=\"1\" class=\"dataframe\">\n  <thead>\n    <tr style=\"text-align: right;\">\n      <th></th>\n      <th>Close</th>\n      <th>Month</th>\n      <th>Volume_lag1</th>\n      <th>Monday</th>\n      <th>Thursday</th>\n      <th>Tuesday</th>\n      <th>Wednesday</th>\n    </tr>\n  </thead>\n  <tbody>\n    <tr>\n      <th>1</th>\n      <td>241000.0</td>\n      <td>1</td>\n      <td>173905.0</td>\n      <td>0</td>\n      <td>0</td>\n      <td>1</td>\n      <td>0</td>\n    </tr>\n    <tr>\n      <th>2</th>\n      <td>239000.0</td>\n      <td>1</td>\n      <td>182985.0</td>\n      <td>0</td>\n      <td>0</td>\n      <td>0</td>\n      <td>1</td>\n    </tr>\n    <tr>\n      <th>3</th>\n      <td>240500.0</td>\n      <td>1</td>\n      <td>108574.0</td>\n      <td>0</td>\n      <td>1</td>\n      <td>0</td>\n      <td>0</td>\n    </tr>\n    <tr>\n      <th>4</th>\n      <td>241500.0</td>\n      <td>1</td>\n      <td>113376.0</td>\n      <td>0</td>\n      <td>0</td>\n      <td>0</td>\n      <td>0</td>\n    </tr>\n    <tr>\n      <th>5</th>\n      <td>239000.0</td>\n      <td>1</td>\n      <td>81557.0</td>\n      <td>1</td>\n      <td>0</td>\n      <td>0</td>\n      <td>0</td>\n    </tr>\n  </tbody>\n</table>\n</div>"
     },
     "execution_count": 111,
     "metadata": {},
     "output_type": "execute_result"
    }
   ]
  },
  {
   "cell_type": "markdown",
   "metadata": {
    "id": "9yerPxXufTDq"
   },
   "source": [
    "#### 실습 11 : dummy variable"
   ]
  },
  {
   "cell_type": "markdown",
   "source": [
    "* Q1. 주가 데이터에서 월에 대하여 가변수화 합니다."
   ],
   "metadata": {
    "id": "gVOdxY72yXSl"
   }
  },
  {
   "cell_type": "code",
   "metadata": {
    "id": "blCX1qTND6wl"
   },
   "source": [
    "dumm_month = pd.get_dummies(data3['Month'], prefix='M', drop_first=True)\n",
    "dumm_month"
   ],
   "execution_count": 112,
   "outputs": [
    {
     "data": {
      "text/plain": "     M_2  M_3  M_4  M_5  M_6  M_7  M_8  M_9  M_10  M_11  M_12\n1      0    0    0    0    0    0    0    0     0     0     0\n2      0    0    0    0    0    0    0    0     0     0     0\n3      0    0    0    0    0    0    0    0     0     0     0\n4      0    0    0    0    0    0    0    0     0     0     0\n5      0    0    0    0    0    0    0    0     0     0     0\n..   ...  ...  ...  ...  ...  ...  ...  ...   ...   ...   ...\n972    0    0    0    0    0    0    0    0     0     0     1\n973    0    0    0    0    0    0    0    0     0     0     1\n974    0    0    0    0    0    0    0    0     0     0     1\n975    0    0    0    0    0    0    0    0     0     0     1\n976    0    0    0    0    0    0    0    0     0     0     1\n\n[976 rows x 11 columns]",
      "text/html": "<div>\n<style scoped>\n    .dataframe tbody tr th:only-of-type {\n        vertical-align: middle;\n    }\n\n    .dataframe tbody tr th {\n        vertical-align: top;\n    }\n\n    .dataframe thead th {\n        text-align: right;\n    }\n</style>\n<table border=\"1\" class=\"dataframe\">\n  <thead>\n    <tr style=\"text-align: right;\">\n      <th></th>\n      <th>M_2</th>\n      <th>M_3</th>\n      <th>M_4</th>\n      <th>M_5</th>\n      <th>M_6</th>\n      <th>M_7</th>\n      <th>M_8</th>\n      <th>M_9</th>\n      <th>M_10</th>\n      <th>M_11</th>\n      <th>M_12</th>\n    </tr>\n  </thead>\n  <tbody>\n    <tr>\n      <th>1</th>\n      <td>0</td>\n      <td>0</td>\n      <td>0</td>\n      <td>0</td>\n      <td>0</td>\n      <td>0</td>\n      <td>0</td>\n      <td>0</td>\n      <td>0</td>\n      <td>0</td>\n      <td>0</td>\n    </tr>\n    <tr>\n      <th>2</th>\n      <td>0</td>\n      <td>0</td>\n      <td>0</td>\n      <td>0</td>\n      <td>0</td>\n      <td>0</td>\n      <td>0</td>\n      <td>0</td>\n      <td>0</td>\n      <td>0</td>\n      <td>0</td>\n    </tr>\n    <tr>\n      <th>3</th>\n      <td>0</td>\n      <td>0</td>\n      <td>0</td>\n      <td>0</td>\n      <td>0</td>\n      <td>0</td>\n      <td>0</td>\n      <td>0</td>\n      <td>0</td>\n      <td>0</td>\n      <td>0</td>\n    </tr>\n    <tr>\n      <th>4</th>\n      <td>0</td>\n      <td>0</td>\n      <td>0</td>\n      <td>0</td>\n      <td>0</td>\n      <td>0</td>\n      <td>0</td>\n      <td>0</td>\n      <td>0</td>\n      <td>0</td>\n      <td>0</td>\n    </tr>\n    <tr>\n      <th>5</th>\n      <td>0</td>\n      <td>0</td>\n      <td>0</td>\n      <td>0</td>\n      <td>0</td>\n      <td>0</td>\n      <td>0</td>\n      <td>0</td>\n      <td>0</td>\n      <td>0</td>\n      <td>0</td>\n    </tr>\n    <tr>\n      <th>...</th>\n      <td>...</td>\n      <td>...</td>\n      <td>...</td>\n      <td>...</td>\n      <td>...</td>\n      <td>...</td>\n      <td>...</td>\n      <td>...</td>\n      <td>...</td>\n      <td>...</td>\n      <td>...</td>\n    </tr>\n    <tr>\n      <th>972</th>\n      <td>0</td>\n      <td>0</td>\n      <td>0</td>\n      <td>0</td>\n      <td>0</td>\n      <td>0</td>\n      <td>0</td>\n      <td>0</td>\n      <td>0</td>\n      <td>0</td>\n      <td>1</td>\n    </tr>\n    <tr>\n      <th>973</th>\n      <td>0</td>\n      <td>0</td>\n      <td>0</td>\n      <td>0</td>\n      <td>0</td>\n      <td>0</td>\n      <td>0</td>\n      <td>0</td>\n      <td>0</td>\n      <td>0</td>\n      <td>1</td>\n    </tr>\n    <tr>\n      <th>974</th>\n      <td>0</td>\n      <td>0</td>\n      <td>0</td>\n      <td>0</td>\n      <td>0</td>\n      <td>0</td>\n      <td>0</td>\n      <td>0</td>\n      <td>0</td>\n      <td>0</td>\n      <td>1</td>\n    </tr>\n    <tr>\n      <th>975</th>\n      <td>0</td>\n      <td>0</td>\n      <td>0</td>\n      <td>0</td>\n      <td>0</td>\n      <td>0</td>\n      <td>0</td>\n      <td>0</td>\n      <td>0</td>\n      <td>0</td>\n      <td>1</td>\n    </tr>\n    <tr>\n      <th>976</th>\n      <td>0</td>\n      <td>0</td>\n      <td>0</td>\n      <td>0</td>\n      <td>0</td>\n      <td>0</td>\n      <td>0</td>\n      <td>0</td>\n      <td>0</td>\n      <td>0</td>\n      <td>1</td>\n    </tr>\n  </tbody>\n</table>\n<p>976 rows × 11 columns</p>\n</div>"
     },
     "execution_count": 112,
     "metadata": {},
     "output_type": "execute_result"
    }
   ]
  },
  {
   "cell_type": "markdown",
   "source": [
    "* Q2. 가변수한 데이터를 기존 데이터와 결합합니다. ( concat )"
   ],
   "metadata": {
    "id": "kwbimW0Dyn8l"
   }
  },
  {
   "cell_type": "code",
   "source": [
    "data4 = pd.concat([data3, dumm_month], axis=1)\n",
    "data4.head()"
   ],
   "metadata": {
    "id": "bRVfdATRAFlK"
   },
   "execution_count": 98,
   "outputs": [
    {
     "data": {
      "text/plain": "      Close  Month  Volume_lag1  Monday  Thursday  Tuesday  Wednesday  M_2  \\\n1  241000.0      1     173905.0       0         0        1          0    0   \n2  239000.0      1     182985.0       0         0        0          1    0   \n3  240500.0      1     108574.0       0         1        0          0    0   \n4  241500.0      1     113376.0       0         0        0          0    0   \n5  239000.0      1      81557.0       1         0        0          0    0   \n\n   M_3  M_4  M_5  M_6  M_7  M_8  M_9  M_10  M_11  M_12  \n1    0    0    0    0    0    0    0     0     0     0  \n2    0    0    0    0    0    0    0     0     0     0  \n3    0    0    0    0    0    0    0     0     0     0  \n4    0    0    0    0    0    0    0     0     0     0  \n5    0    0    0    0    0    0    0     0     0     0  ",
      "text/html": "<div>\n<style scoped>\n    .dataframe tbody tr th:only-of-type {\n        vertical-align: middle;\n    }\n\n    .dataframe tbody tr th {\n        vertical-align: top;\n    }\n\n    .dataframe thead th {\n        text-align: right;\n    }\n</style>\n<table border=\"1\" class=\"dataframe\">\n  <thead>\n    <tr style=\"text-align: right;\">\n      <th></th>\n      <th>Close</th>\n      <th>Month</th>\n      <th>Volume_lag1</th>\n      <th>Monday</th>\n      <th>Thursday</th>\n      <th>Tuesday</th>\n      <th>Wednesday</th>\n      <th>M_2</th>\n      <th>M_3</th>\n      <th>M_4</th>\n      <th>M_5</th>\n      <th>M_6</th>\n      <th>M_7</th>\n      <th>M_8</th>\n      <th>M_9</th>\n      <th>M_10</th>\n      <th>M_11</th>\n      <th>M_12</th>\n    </tr>\n  </thead>\n  <tbody>\n    <tr>\n      <th>1</th>\n      <td>241000.0</td>\n      <td>1</td>\n      <td>173905.0</td>\n      <td>0</td>\n      <td>0</td>\n      <td>1</td>\n      <td>0</td>\n      <td>0</td>\n      <td>0</td>\n      <td>0</td>\n      <td>0</td>\n      <td>0</td>\n      <td>0</td>\n      <td>0</td>\n      <td>0</td>\n      <td>0</td>\n      <td>0</td>\n      <td>0</td>\n    </tr>\n    <tr>\n      <th>2</th>\n      <td>239000.0</td>\n      <td>1</td>\n      <td>182985.0</td>\n      <td>0</td>\n      <td>0</td>\n      <td>0</td>\n      <td>1</td>\n      <td>0</td>\n      <td>0</td>\n      <td>0</td>\n      <td>0</td>\n      <td>0</td>\n      <td>0</td>\n      <td>0</td>\n      <td>0</td>\n      <td>0</td>\n      <td>0</td>\n      <td>0</td>\n    </tr>\n    <tr>\n      <th>3</th>\n      <td>240500.0</td>\n      <td>1</td>\n      <td>108574.0</td>\n      <td>0</td>\n      <td>1</td>\n      <td>0</td>\n      <td>0</td>\n      <td>0</td>\n      <td>0</td>\n      <td>0</td>\n      <td>0</td>\n      <td>0</td>\n      <td>0</td>\n      <td>0</td>\n      <td>0</td>\n      <td>0</td>\n      <td>0</td>\n      <td>0</td>\n    </tr>\n    <tr>\n      <th>4</th>\n      <td>241500.0</td>\n      <td>1</td>\n      <td>113376.0</td>\n      <td>0</td>\n      <td>0</td>\n      <td>0</td>\n      <td>0</td>\n      <td>0</td>\n      <td>0</td>\n      <td>0</td>\n      <td>0</td>\n      <td>0</td>\n      <td>0</td>\n      <td>0</td>\n      <td>0</td>\n      <td>0</td>\n      <td>0</td>\n      <td>0</td>\n    </tr>\n    <tr>\n      <th>5</th>\n      <td>239000.0</td>\n      <td>1</td>\n      <td>81557.0</td>\n      <td>1</td>\n      <td>0</td>\n      <td>0</td>\n      <td>0</td>\n      <td>0</td>\n      <td>0</td>\n      <td>0</td>\n      <td>0</td>\n      <td>0</td>\n      <td>0</td>\n      <td>0</td>\n      <td>0</td>\n      <td>0</td>\n      <td>0</td>\n      <td>0</td>\n    </tr>\n  </tbody>\n</table>\n</div>"
     },
     "execution_count": 98,
     "metadata": {},
     "output_type": "execute_result"
    }
   ]
  },
  {
   "cell_type": "markdown",
   "source": [
    "* Q3. 가변수화 하기 이전의 월 컬럼을 제거하세요."
   ],
   "metadata": {
    "id": "RJO0iUVSzFeT"
   }
  },
  {
   "cell_type": "code",
   "source": [
    "data4.drop('Month', axis=1, inplace=True)\n",
    "data4.head()"
   ],
   "metadata": {
    "id": "Dq7YKS94AGgc"
   },
   "execution_count": 99,
   "outputs": [
    {
     "data": {
      "text/plain": "      Close  Volume_lag1  Monday  Thursday  Tuesday  Wednesday  M_2  M_3  M_4  \\\n1  241000.0     173905.0       0         0        1          0    0    0    0   \n2  239000.0     182985.0       0         0        0          1    0    0    0   \n3  240500.0     108574.0       0         1        0          0    0    0    0   \n4  241500.0     113376.0       0         0        0          0    0    0    0   \n5  239000.0      81557.0       1         0        0          0    0    0    0   \n\n   M_5  M_6  M_7  M_8  M_9  M_10  M_11  M_12  \n1    0    0    0    0    0     0     0     0  \n2    0    0    0    0    0     0     0     0  \n3    0    0    0    0    0     0     0     0  \n4    0    0    0    0    0     0     0     0  \n5    0    0    0    0    0     0     0     0  ",
      "text/html": "<div>\n<style scoped>\n    .dataframe tbody tr th:only-of-type {\n        vertical-align: middle;\n    }\n\n    .dataframe tbody tr th {\n        vertical-align: top;\n    }\n\n    .dataframe thead th {\n        text-align: right;\n    }\n</style>\n<table border=\"1\" class=\"dataframe\">\n  <thead>\n    <tr style=\"text-align: right;\">\n      <th></th>\n      <th>Close</th>\n      <th>Volume_lag1</th>\n      <th>Monday</th>\n      <th>Thursday</th>\n      <th>Tuesday</th>\n      <th>Wednesday</th>\n      <th>M_2</th>\n      <th>M_3</th>\n      <th>M_4</th>\n      <th>M_5</th>\n      <th>M_6</th>\n      <th>M_7</th>\n      <th>M_8</th>\n      <th>M_9</th>\n      <th>M_10</th>\n      <th>M_11</th>\n      <th>M_12</th>\n    </tr>\n  </thead>\n  <tbody>\n    <tr>\n      <th>1</th>\n      <td>241000.0</td>\n      <td>173905.0</td>\n      <td>0</td>\n      <td>0</td>\n      <td>1</td>\n      <td>0</td>\n      <td>0</td>\n      <td>0</td>\n      <td>0</td>\n      <td>0</td>\n      <td>0</td>\n      <td>0</td>\n      <td>0</td>\n      <td>0</td>\n      <td>0</td>\n      <td>0</td>\n      <td>0</td>\n    </tr>\n    <tr>\n      <th>2</th>\n      <td>239000.0</td>\n      <td>182985.0</td>\n      <td>0</td>\n      <td>0</td>\n      <td>0</td>\n      <td>1</td>\n      <td>0</td>\n      <td>0</td>\n      <td>0</td>\n      <td>0</td>\n      <td>0</td>\n      <td>0</td>\n      <td>0</td>\n      <td>0</td>\n      <td>0</td>\n      <td>0</td>\n      <td>0</td>\n    </tr>\n    <tr>\n      <th>3</th>\n      <td>240500.0</td>\n      <td>108574.0</td>\n      <td>0</td>\n      <td>1</td>\n      <td>0</td>\n      <td>0</td>\n      <td>0</td>\n      <td>0</td>\n      <td>0</td>\n      <td>0</td>\n      <td>0</td>\n      <td>0</td>\n      <td>0</td>\n      <td>0</td>\n      <td>0</td>\n      <td>0</td>\n      <td>0</td>\n    </tr>\n    <tr>\n      <th>4</th>\n      <td>241500.0</td>\n      <td>113376.0</td>\n      <td>0</td>\n      <td>0</td>\n      <td>0</td>\n      <td>0</td>\n      <td>0</td>\n      <td>0</td>\n      <td>0</td>\n      <td>0</td>\n      <td>0</td>\n      <td>0</td>\n      <td>0</td>\n      <td>0</td>\n      <td>0</td>\n      <td>0</td>\n      <td>0</td>\n    </tr>\n    <tr>\n      <th>5</th>\n      <td>239000.0</td>\n      <td>81557.0</td>\n      <td>1</td>\n      <td>0</td>\n      <td>0</td>\n      <td>0</td>\n      <td>0</td>\n      <td>0</td>\n      <td>0</td>\n      <td>0</td>\n      <td>0</td>\n      <td>0</td>\n      <td>0</td>\n      <td>0</td>\n      <td>0</td>\n      <td>0</td>\n      <td>0</td>\n    </tr>\n  </tbody>\n</table>\n</div>"
     },
     "execution_count": 99,
     "metadata": {},
     "output_type": "execute_result"
    }
   ]
  },
  {
   "cell_type": "markdown",
   "source": [
    "##### 간결한 방식"
   ],
   "metadata": {
    "id": "NXwMq9aP0tEp"
   }
  },
  {
   "cell_type": "code",
   "source": [
    "data3 = pd.get_dummies(data3, columns=['Month'], drop_first=True)"
   ],
   "metadata": {
    "id": "jfwDe7sJ0z6A"
   },
   "execution_count": 113,
   "outputs": []
  },
  {
   "cell_type": "code",
   "source": [
    "data3.columns"
   ],
   "metadata": {
    "id": "f1rP94Kr1GfA"
   },
   "execution_count": 114,
   "outputs": [
    {
     "data": {
      "text/plain": "Index(['Close', 'Volume_lag1', 'Monday', 'Thursday', 'Tuesday', 'Wednesday',\n       'Month_2', 'Month_3', 'Month_4', 'Month_5', 'Month_6', 'Month_7',\n       'Month_8', 'Month_9', 'Month_10', 'Month_11', 'Month_12'],\n      dtype='object')"
     },
     "execution_count": 114,
     "metadata": {},
     "output_type": "execute_result"
    }
   ]
  },
  {
   "cell_type": "code",
   "source": [
    "data3.head()"
   ],
   "metadata": {
    "id": "rd_RuRD14v6W"
   },
   "execution_count": 103,
   "outputs": [
    {
     "data": {
      "text/plain": "      Close  Volume_lag1  Monday  Thursday  Tuesday  Wednesday  Month_2  \\\n1  241000.0     173905.0       0         0        1          0        0   \n2  239000.0     182985.0       0         0        0          1        0   \n3  240500.0     108574.0       0         1        0          0        0   \n4  241500.0     113376.0       0         0        0          0        0   \n5  239000.0      81557.0       1         0        0          0        0   \n\n   Month_3  Month_4  Month_5  Month_6  Month_7  Month_8  Month_9  Month_10  \\\n1        0        0        0        0        0        0        0         0   \n2        0        0        0        0        0        0        0         0   \n3        0        0        0        0        0        0        0         0   \n4        0        0        0        0        0        0        0         0   \n5        0        0        0        0        0        0        0         0   \n\n   Month_11  Month_12  \n1         0         0  \n2         0         0  \n3         0         0  \n4         0         0  \n5         0         0  ",
      "text/html": "<div>\n<style scoped>\n    .dataframe tbody tr th:only-of-type {\n        vertical-align: middle;\n    }\n\n    .dataframe tbody tr th {\n        vertical-align: top;\n    }\n\n    .dataframe thead th {\n        text-align: right;\n    }\n</style>\n<table border=\"1\" class=\"dataframe\">\n  <thead>\n    <tr style=\"text-align: right;\">\n      <th></th>\n      <th>Close</th>\n      <th>Volume_lag1</th>\n      <th>Monday</th>\n      <th>Thursday</th>\n      <th>Tuesday</th>\n      <th>Wednesday</th>\n      <th>Month_2</th>\n      <th>Month_3</th>\n      <th>Month_4</th>\n      <th>Month_5</th>\n      <th>Month_6</th>\n      <th>Month_7</th>\n      <th>Month_8</th>\n      <th>Month_9</th>\n      <th>Month_10</th>\n      <th>Month_11</th>\n      <th>Month_12</th>\n    </tr>\n  </thead>\n  <tbody>\n    <tr>\n      <th>1</th>\n      <td>241000.0</td>\n      <td>173905.0</td>\n      <td>0</td>\n      <td>0</td>\n      <td>1</td>\n      <td>0</td>\n      <td>0</td>\n      <td>0</td>\n      <td>0</td>\n      <td>0</td>\n      <td>0</td>\n      <td>0</td>\n      <td>0</td>\n      <td>0</td>\n      <td>0</td>\n      <td>0</td>\n      <td>0</td>\n    </tr>\n    <tr>\n      <th>2</th>\n      <td>239000.0</td>\n      <td>182985.0</td>\n      <td>0</td>\n      <td>0</td>\n      <td>0</td>\n      <td>1</td>\n      <td>0</td>\n      <td>0</td>\n      <td>0</td>\n      <td>0</td>\n      <td>0</td>\n      <td>0</td>\n      <td>0</td>\n      <td>0</td>\n      <td>0</td>\n      <td>0</td>\n      <td>0</td>\n    </tr>\n    <tr>\n      <th>3</th>\n      <td>240500.0</td>\n      <td>108574.0</td>\n      <td>0</td>\n      <td>1</td>\n      <td>0</td>\n      <td>0</td>\n      <td>0</td>\n      <td>0</td>\n      <td>0</td>\n      <td>0</td>\n      <td>0</td>\n      <td>0</td>\n      <td>0</td>\n      <td>0</td>\n      <td>0</td>\n      <td>0</td>\n      <td>0</td>\n    </tr>\n    <tr>\n      <th>4</th>\n      <td>241500.0</td>\n      <td>113376.0</td>\n      <td>0</td>\n      <td>0</td>\n      <td>0</td>\n      <td>0</td>\n      <td>0</td>\n      <td>0</td>\n      <td>0</td>\n      <td>0</td>\n      <td>0</td>\n      <td>0</td>\n      <td>0</td>\n      <td>0</td>\n      <td>0</td>\n      <td>0</td>\n      <td>0</td>\n    </tr>\n    <tr>\n      <th>5</th>\n      <td>239000.0</td>\n      <td>81557.0</td>\n      <td>1</td>\n      <td>0</td>\n      <td>0</td>\n      <td>0</td>\n      <td>0</td>\n      <td>0</td>\n      <td>0</td>\n      <td>0</td>\n      <td>0</td>\n      <td>0</td>\n      <td>0</td>\n      <td>0</td>\n      <td>0</td>\n      <td>0</td>\n      <td>0</td>\n    </tr>\n  </tbody>\n</table>\n</div>"
     },
     "execution_count": 103,
     "metadata": {},
     "output_type": "execute_result"
    }
   ]
  },
  {
   "cell_type": "markdown",
   "metadata": {
    "id": "RB76YRCZh4TH"
   },
   "source": [
    "--------------------------------\n",
    "여기서 부터는 그냥 실행 해 볼 겁니다.  \n",
    "데이터를 얼추(!) 준비했으니, 모델링까지 수행해 봅니다."
   ]
  },
  {
   "cell_type": "markdown",
   "metadata": {
    "id": "RSOF5WWn8uwy"
   },
   "source": [
    "### 25.Data Split"
   ]
  },
  {
   "cell_type": "markdown",
   "metadata": {
    "id": "PMFw2PMMOsOO"
   },
   "source": [
    "sklearn의 데이터 분할 함수를 사용해 봅시다.\n",
    "\n",
    "* 요인, x, feature, 조작변수, 통제변수, 리스크백터, Input, (독립변수)\n",
    "* 결과, y, target, label, Output, (종속변수)"
   ]
  },
  {
   "cell_type": "code",
   "metadata": {
    "id": "uHnuBUJu8uwz"
   },
   "source": [
    "from sklearn.model_selection import train_test_split"
   ],
   "execution_count": 101,
   "outputs": [
    {
     "name": "stderr",
     "output_type": "stream",
     "text": [
      "/Users/cyeongy/opt/anaconda3/envs/kt-aivle/lib/python3.8/site-packages/scipy/__init__.py:146: UserWarning: A NumPy version >=1.16.5 and <1.23.0 is required for this version of SciPy (detected version 1.23.1\n",
      "  warnings.warn(f\"A NumPy version >={np_minversion} and <{np_maxversion}\"\n"
     ]
    }
   ]
  },
  {
   "cell_type": "code",
   "metadata": {
    "id": "4oYSYEtmKXZY"
   },
   "source": [
    "# features와 target 분리\n",
    "X = data3.drop('Close', axis=1)\n",
    "y = data3.iloc[:, 0]"
   ],
   "execution_count": 115,
   "outputs": []
  },
  {
   "cell_type": "code",
   "metadata": {
    "id": "TJZcPWrPO0_J"
   },
   "source": [
    "# 전체에서 train : test = 7 : 3\n",
    "train_x, test_x, train_y, test_y = train_test_split(X, y, test_size=0.3, random_state=1)"
   ],
   "execution_count": 116,
   "outputs": []
  },
  {
   "cell_type": "code",
   "source": [
    "train_x.shape, train_y.shape"
   ],
   "metadata": {
    "id": "8GJ_-htx45EZ"
   },
   "execution_count": 117,
   "outputs": [
    {
     "data": {
      "text/plain": "((683, 16), (683,))"
     },
     "execution_count": 117,
     "metadata": {},
     "output_type": "execute_result"
    }
   ]
  },
  {
   "cell_type": "markdown",
   "metadata": {
    "id": "xpmnf-v6RF0k"
   },
   "source": [
    "### 26.Scaling features\n"
   ]
  },
  {
   "cell_type": "code",
   "execution_count": 127,
   "outputs": [],
   "source": [
    "max_n, min_n = train_x.max, train_y.min"
   ],
   "metadata": {
    "collapsed": false,
    "pycharm": {
     "name": "#%%\n"
    }
   }
  },
  {
   "cell_type": "code",
   "execution_count": 133,
   "outputs": [
    {
     "data": {
      "text/plain": "           0    1    2    3    4    5    6    7    8    9    10   11   12  \\\n0    0.057283  1.0  0.0  0.0  0.0  0.0  1.0  0.0  0.0  0.0  0.0  0.0  0.0   \n1    0.041175  0.0  0.0  1.0  0.0  0.0  1.0  0.0  0.0  0.0  0.0  0.0  0.0   \n2    0.031205  0.0  0.0  1.0  0.0  0.0  0.0  1.0  0.0  0.0  0.0  0.0  0.0   \n3    0.088194  0.0  1.0  0.0  0.0  0.0  0.0  0.0  1.0  0.0  0.0  0.0  0.0   \n4    0.038422  0.0  1.0  0.0  0.0  0.0  0.0  0.0  0.0  0.0  1.0  0.0  0.0   \n..        ...  ...  ...  ...  ...  ...  ...  ...  ...  ...  ...  ...  ...   \n678  0.040556  0.0  0.0  0.0  1.0  1.0  0.0  0.0  0.0  0.0  0.0  0.0  0.0   \n679  0.055421  0.0  1.0  0.0  0.0  0.0  0.0  1.0  0.0  0.0  0.0  0.0  0.0   \n680  0.081438  1.0  0.0  0.0  0.0  0.0  0.0  0.0  0.0  0.0  0.0  0.0  1.0   \n681  0.061117  0.0  0.0  0.0  0.0  0.0  0.0  0.0  0.0  0.0  0.0  0.0  0.0   \n682  0.127559  0.0  0.0  0.0  1.0  0.0  1.0  0.0  0.0  0.0  0.0  0.0  0.0   \n\n      13   14   15  \n0    0.0  0.0  0.0  \n1    0.0  0.0  0.0  \n2    0.0  0.0  0.0  \n3    0.0  0.0  0.0  \n4    0.0  0.0  0.0  \n..   ...  ...  ...  \n678  0.0  0.0  0.0  \n679  0.0  0.0  0.0  \n680  0.0  0.0  0.0  \n681  0.0  0.0  1.0  \n682  0.0  0.0  0.0  \n\n[683 rows x 16 columns]",
      "text/html": "<div>\n<style scoped>\n    .dataframe tbody tr th:only-of-type {\n        vertical-align: middle;\n    }\n\n    .dataframe tbody tr th {\n        vertical-align: top;\n    }\n\n    .dataframe thead th {\n        text-align: right;\n    }\n</style>\n<table border=\"1\" class=\"dataframe\">\n  <thead>\n    <tr style=\"text-align: right;\">\n      <th></th>\n      <th>0</th>\n      <th>1</th>\n      <th>2</th>\n      <th>3</th>\n      <th>4</th>\n      <th>5</th>\n      <th>6</th>\n      <th>7</th>\n      <th>8</th>\n      <th>9</th>\n      <th>10</th>\n      <th>11</th>\n      <th>12</th>\n      <th>13</th>\n      <th>14</th>\n      <th>15</th>\n    </tr>\n  </thead>\n  <tbody>\n    <tr>\n      <th>0</th>\n      <td>0.057283</td>\n      <td>1.0</td>\n      <td>0.0</td>\n      <td>0.0</td>\n      <td>0.0</td>\n      <td>0.0</td>\n      <td>1.0</td>\n      <td>0.0</td>\n      <td>0.0</td>\n      <td>0.0</td>\n      <td>0.0</td>\n      <td>0.0</td>\n      <td>0.0</td>\n      <td>0.0</td>\n      <td>0.0</td>\n      <td>0.0</td>\n    </tr>\n    <tr>\n      <th>1</th>\n      <td>0.041175</td>\n      <td>0.0</td>\n      <td>0.0</td>\n      <td>1.0</td>\n      <td>0.0</td>\n      <td>0.0</td>\n      <td>1.0</td>\n      <td>0.0</td>\n      <td>0.0</td>\n      <td>0.0</td>\n      <td>0.0</td>\n      <td>0.0</td>\n      <td>0.0</td>\n      <td>0.0</td>\n      <td>0.0</td>\n      <td>0.0</td>\n    </tr>\n    <tr>\n      <th>2</th>\n      <td>0.031205</td>\n      <td>0.0</td>\n      <td>0.0</td>\n      <td>1.0</td>\n      <td>0.0</td>\n      <td>0.0</td>\n      <td>0.0</td>\n      <td>1.0</td>\n      <td>0.0</td>\n      <td>0.0</td>\n      <td>0.0</td>\n      <td>0.0</td>\n      <td>0.0</td>\n      <td>0.0</td>\n      <td>0.0</td>\n      <td>0.0</td>\n    </tr>\n    <tr>\n      <th>3</th>\n      <td>0.088194</td>\n      <td>0.0</td>\n      <td>1.0</td>\n      <td>0.0</td>\n      <td>0.0</td>\n      <td>0.0</td>\n      <td>0.0</td>\n      <td>0.0</td>\n      <td>1.0</td>\n      <td>0.0</td>\n      <td>0.0</td>\n      <td>0.0</td>\n      <td>0.0</td>\n      <td>0.0</td>\n      <td>0.0</td>\n      <td>0.0</td>\n    </tr>\n    <tr>\n      <th>4</th>\n      <td>0.038422</td>\n      <td>0.0</td>\n      <td>1.0</td>\n      <td>0.0</td>\n      <td>0.0</td>\n      <td>0.0</td>\n      <td>0.0</td>\n      <td>0.0</td>\n      <td>0.0</td>\n      <td>0.0</td>\n      <td>1.0</td>\n      <td>0.0</td>\n      <td>0.0</td>\n      <td>0.0</td>\n      <td>0.0</td>\n      <td>0.0</td>\n    </tr>\n    <tr>\n      <th>...</th>\n      <td>...</td>\n      <td>...</td>\n      <td>...</td>\n      <td>...</td>\n      <td>...</td>\n      <td>...</td>\n      <td>...</td>\n      <td>...</td>\n      <td>...</td>\n      <td>...</td>\n      <td>...</td>\n      <td>...</td>\n      <td>...</td>\n      <td>...</td>\n      <td>...</td>\n      <td>...</td>\n    </tr>\n    <tr>\n      <th>678</th>\n      <td>0.040556</td>\n      <td>0.0</td>\n      <td>0.0</td>\n      <td>0.0</td>\n      <td>1.0</td>\n      <td>1.0</td>\n      <td>0.0</td>\n      <td>0.0</td>\n      <td>0.0</td>\n      <td>0.0</td>\n      <td>0.0</td>\n      <td>0.0</td>\n      <td>0.0</td>\n      <td>0.0</td>\n      <td>0.0</td>\n      <td>0.0</td>\n    </tr>\n    <tr>\n      <th>679</th>\n      <td>0.055421</td>\n      <td>0.0</td>\n      <td>1.0</td>\n      <td>0.0</td>\n      <td>0.0</td>\n      <td>0.0</td>\n      <td>0.0</td>\n      <td>1.0</td>\n      <td>0.0</td>\n      <td>0.0</td>\n      <td>0.0</td>\n      <td>0.0</td>\n      <td>0.0</td>\n      <td>0.0</td>\n      <td>0.0</td>\n      <td>0.0</td>\n    </tr>\n    <tr>\n      <th>680</th>\n      <td>0.081438</td>\n      <td>1.0</td>\n      <td>0.0</td>\n      <td>0.0</td>\n      <td>0.0</td>\n      <td>0.0</td>\n      <td>0.0</td>\n      <td>0.0</td>\n      <td>0.0</td>\n      <td>0.0</td>\n      <td>0.0</td>\n      <td>0.0</td>\n      <td>1.0</td>\n      <td>0.0</td>\n      <td>0.0</td>\n      <td>0.0</td>\n    </tr>\n    <tr>\n      <th>681</th>\n      <td>0.061117</td>\n      <td>0.0</td>\n      <td>0.0</td>\n      <td>0.0</td>\n      <td>0.0</td>\n      <td>0.0</td>\n      <td>0.0</td>\n      <td>0.0</td>\n      <td>0.0</td>\n      <td>0.0</td>\n      <td>0.0</td>\n      <td>0.0</td>\n      <td>0.0</td>\n      <td>0.0</td>\n      <td>0.0</td>\n      <td>1.0</td>\n    </tr>\n    <tr>\n      <th>682</th>\n      <td>0.127559</td>\n      <td>0.0</td>\n      <td>0.0</td>\n      <td>0.0</td>\n      <td>1.0</td>\n      <td>0.0</td>\n      <td>1.0</td>\n      <td>0.0</td>\n      <td>0.0</td>\n      <td>0.0</td>\n      <td>0.0</td>\n      <td>0.0</td>\n      <td>0.0</td>\n      <td>0.0</td>\n      <td>0.0</td>\n      <td>0.0</td>\n    </tr>\n  </tbody>\n</table>\n<p>683 rows × 16 columns</p>\n</div>"
     },
     "execution_count": 133,
     "metadata": {},
     "output_type": "execute_result"
    }
   ],
   "source": [
    "pd.DataFrame(train_x)"
   ],
   "metadata": {
    "collapsed": false,
    "pycharm": {
     "name": "#%%\n"
    }
   }
  },
  {
   "cell_type": "code",
   "metadata": {
    "id": "gdwW7_F2hvRh"
   },
   "source": [
    "from sklearn.preprocessing import MinMaxScaler"
   ],
   "execution_count": 118,
   "outputs": []
  },
  {
   "cell_type": "code",
   "metadata": {
    "id": "aCrew3p2qhLz"
   },
   "source": [
    "# 사용할 함수 선언\n",
    "scaler = MinMaxScaler()"
   ],
   "execution_count": 119,
   "outputs": []
  },
  {
   "cell_type": "code",
   "metadata": {
    "id": "TPhCNZ0aqkUr"
   },
   "source": [
    "# 함수 만들고\n",
    "scaler.fit(train_x)\n",
    "\n",
    "# 변환시키기\n",
    "train_x = scaler.transform(train_x)\n",
    "test_x = scaler.transform(test_x)"
   ],
   "execution_count": 120,
   "outputs": []
  },
  {
   "cell_type": "code",
   "execution_count": 121,
   "outputs": [],
   "source": [
    "# 동시에\n",
    "\n",
    "train_x = scaler.fit_transform(train_x)\n",
    "test_x = scaler.fit_transform(test_x)"
   ],
   "metadata": {
    "collapsed": false,
    "pycharm": {
     "name": "#%%\n"
    }
   }
  },
  {
   "cell_type": "code",
   "execution_count": 124,
   "outputs": [
    {
     "data": {
      "text/plain": "               0           1           2           3           4           5   \\\ncount  683.000000  683.000000  683.000000  683.000000  683.000000  683.000000   \nmean     0.078349    0.191801    0.199122    0.210835    0.196193    0.076135   \nstd      0.053783    0.394006    0.399632    0.408200    0.397407    0.265408   \nmin      0.000000    0.000000    0.000000    0.000000    0.000000    0.000000   \n25%      0.052306    0.000000    0.000000    0.000000    0.000000    0.000000   \n50%      0.065457    0.000000    0.000000    0.000000    0.000000    0.000000   \n75%      0.090351    0.000000    0.000000    0.000000    0.000000    0.000000   \nmax      1.000000    1.000000    1.000000    1.000000    1.000000    1.000000   \n\n               6           7           8           9           10          11  \\\ncount  683.000000  683.000000  683.000000  683.000000  683.000000  683.000000   \nmean     0.098097    0.080527    0.083455    0.080527    0.092240    0.087848   \nstd      0.297663    0.272307    0.276772    0.272307    0.289577    0.283281   \nmin      0.000000    0.000000    0.000000    0.000000    0.000000    0.000000   \n25%      0.000000    0.000000    0.000000    0.000000    0.000000    0.000000   \n50%      0.000000    0.000000    0.000000    0.000000    0.000000    0.000000   \n75%      0.000000    0.000000    0.000000    0.000000    0.000000    0.000000   \nmax      1.000000    1.000000    1.000000    1.000000    1.000000    1.000000   \n\n               12          13          14          15  \ncount  683.000000  683.000000  683.000000  683.000000  \nmean     0.084919    0.065886    0.086384    0.079063  \nstd      0.278966    0.248264    0.281136    0.270035  \nmin      0.000000    0.000000    0.000000    0.000000  \n25%      0.000000    0.000000    0.000000    0.000000  \n50%      0.000000    0.000000    0.000000    0.000000  \n75%      0.000000    0.000000    0.000000    0.000000  \nmax      1.000000    1.000000    1.000000    1.000000  ",
      "text/html": "<div>\n<style scoped>\n    .dataframe tbody tr th:only-of-type {\n        vertical-align: middle;\n    }\n\n    .dataframe tbody tr th {\n        vertical-align: top;\n    }\n\n    .dataframe thead th {\n        text-align: right;\n    }\n</style>\n<table border=\"1\" class=\"dataframe\">\n  <thead>\n    <tr style=\"text-align: right;\">\n      <th></th>\n      <th>0</th>\n      <th>1</th>\n      <th>2</th>\n      <th>3</th>\n      <th>4</th>\n      <th>5</th>\n      <th>6</th>\n      <th>7</th>\n      <th>8</th>\n      <th>9</th>\n      <th>10</th>\n      <th>11</th>\n      <th>12</th>\n      <th>13</th>\n      <th>14</th>\n      <th>15</th>\n    </tr>\n  </thead>\n  <tbody>\n    <tr>\n      <th>count</th>\n      <td>683.000000</td>\n      <td>683.000000</td>\n      <td>683.000000</td>\n      <td>683.000000</td>\n      <td>683.000000</td>\n      <td>683.000000</td>\n      <td>683.000000</td>\n      <td>683.000000</td>\n      <td>683.000000</td>\n      <td>683.000000</td>\n      <td>683.000000</td>\n      <td>683.000000</td>\n      <td>683.000000</td>\n      <td>683.000000</td>\n      <td>683.000000</td>\n      <td>683.000000</td>\n    </tr>\n    <tr>\n      <th>mean</th>\n      <td>0.078349</td>\n      <td>0.191801</td>\n      <td>0.199122</td>\n      <td>0.210835</td>\n      <td>0.196193</td>\n      <td>0.076135</td>\n      <td>0.098097</td>\n      <td>0.080527</td>\n      <td>0.083455</td>\n      <td>0.080527</td>\n      <td>0.092240</td>\n      <td>0.087848</td>\n      <td>0.084919</td>\n      <td>0.065886</td>\n      <td>0.086384</td>\n      <td>0.079063</td>\n    </tr>\n    <tr>\n      <th>std</th>\n      <td>0.053783</td>\n      <td>0.394006</td>\n      <td>0.399632</td>\n      <td>0.408200</td>\n      <td>0.397407</td>\n      <td>0.265408</td>\n      <td>0.297663</td>\n      <td>0.272307</td>\n      <td>0.276772</td>\n      <td>0.272307</td>\n      <td>0.289577</td>\n      <td>0.283281</td>\n      <td>0.278966</td>\n      <td>0.248264</td>\n      <td>0.281136</td>\n      <td>0.270035</td>\n    </tr>\n    <tr>\n      <th>min</th>\n      <td>0.000000</td>\n      <td>0.000000</td>\n      <td>0.000000</td>\n      <td>0.000000</td>\n      <td>0.000000</td>\n      <td>0.000000</td>\n      <td>0.000000</td>\n      <td>0.000000</td>\n      <td>0.000000</td>\n      <td>0.000000</td>\n      <td>0.000000</td>\n      <td>0.000000</td>\n      <td>0.000000</td>\n      <td>0.000000</td>\n      <td>0.000000</td>\n      <td>0.000000</td>\n    </tr>\n    <tr>\n      <th>25%</th>\n      <td>0.052306</td>\n      <td>0.000000</td>\n      <td>0.000000</td>\n      <td>0.000000</td>\n      <td>0.000000</td>\n      <td>0.000000</td>\n      <td>0.000000</td>\n      <td>0.000000</td>\n      <td>0.000000</td>\n      <td>0.000000</td>\n      <td>0.000000</td>\n      <td>0.000000</td>\n      <td>0.000000</td>\n      <td>0.000000</td>\n      <td>0.000000</td>\n      <td>0.000000</td>\n    </tr>\n    <tr>\n      <th>50%</th>\n      <td>0.065457</td>\n      <td>0.000000</td>\n      <td>0.000000</td>\n      <td>0.000000</td>\n      <td>0.000000</td>\n      <td>0.000000</td>\n      <td>0.000000</td>\n      <td>0.000000</td>\n      <td>0.000000</td>\n      <td>0.000000</td>\n      <td>0.000000</td>\n      <td>0.000000</td>\n      <td>0.000000</td>\n      <td>0.000000</td>\n      <td>0.000000</td>\n      <td>0.000000</td>\n    </tr>\n    <tr>\n      <th>75%</th>\n      <td>0.090351</td>\n      <td>0.000000</td>\n      <td>0.000000</td>\n      <td>0.000000</td>\n      <td>0.000000</td>\n      <td>0.000000</td>\n      <td>0.000000</td>\n      <td>0.000000</td>\n      <td>0.000000</td>\n      <td>0.000000</td>\n      <td>0.000000</td>\n      <td>0.000000</td>\n      <td>0.000000</td>\n      <td>0.000000</td>\n      <td>0.000000</td>\n      <td>0.000000</td>\n    </tr>\n    <tr>\n      <th>max</th>\n      <td>1.000000</td>\n      <td>1.000000</td>\n      <td>1.000000</td>\n      <td>1.000000</td>\n      <td>1.000000</td>\n      <td>1.000000</td>\n      <td>1.000000</td>\n      <td>1.000000</td>\n      <td>1.000000</td>\n      <td>1.000000</td>\n      <td>1.000000</td>\n      <td>1.000000</td>\n      <td>1.000000</td>\n      <td>1.000000</td>\n      <td>1.000000</td>\n      <td>1.000000</td>\n    </tr>\n  </tbody>\n</table>\n</div>"
     },
     "execution_count": 124,
     "metadata": {},
     "output_type": "execute_result"
    }
   ],
   "source": [
    "pd.DataFrame(train_x).describe()"
   ],
   "metadata": {
    "collapsed": false,
    "pycharm": {
     "name": "#%%\n"
    }
   }
  },
  {
   "cell_type": "markdown",
   "metadata": {
    "id": "zbwpz0ek8uw2"
   },
   "source": [
    "### 27.Dataframe to Numpy array"
   ]
  },
  {
   "cell_type": "markdown",
   "metadata": {
    "id": "BYr1vtpd8uw4"
   },
   "source": [
    "## 30.모델링"
   ]
  },
  {
   "cell_type": "markdown",
   "metadata": {
    "id": "Z31_h2AHGsjB"
   },
   "source": [
    "### 31.import"
   ]
  },
  {
   "cell_type": "code",
   "metadata": {
    "id": "oRB84_HE8uw5"
   },
   "source": [
    "# Linear Regression\n",
    "from sklearn.linear_model import LinearRegression        # Linear Model\n",
    "from sklearn.metrics   import mean_squared_error         # Metric  MSE"
   ],
   "execution_count": 134,
   "outputs": []
  },
  {
   "cell_type": "markdown",
   "metadata": {
    "id": "AvxoQdSTG1aV"
   },
   "source": [
    "### 32.모델선언"
   ]
  },
  {
   "cell_type": "code",
   "metadata": {
    "id": "UCEKvUAu8uw7"
   },
   "source": [
    "# 모델 선언\n",
    "model = LinearRegression()"
   ],
   "execution_count": 135,
   "outputs": []
  },
  {
   "cell_type": "markdown",
   "metadata": {
    "id": "muxufxrDG6k0"
   },
   "source": [
    "### 33.모델링(학습)"
   ]
  },
  {
   "cell_type": "code",
   "metadata": {
    "id": "HtRz5Gw6G7IH"
   },
   "source": [
    "model.fit( train_x , train_y )"
   ],
   "execution_count": 136,
   "outputs": [
    {
     "data": {
      "text/plain": "LinearRegression()",
      "text/html": "<style>#sk-container-id-1 {color: black;background-color: white;}#sk-container-id-1 pre{padding: 0;}#sk-container-id-1 div.sk-toggleable {background-color: white;}#sk-container-id-1 label.sk-toggleable__label {cursor: pointer;display: block;width: 100%;margin-bottom: 0;padding: 0.3em;box-sizing: border-box;text-align: center;}#sk-container-id-1 label.sk-toggleable__label-arrow:before {content: \"▸\";float: left;margin-right: 0.25em;color: #696969;}#sk-container-id-1 label.sk-toggleable__label-arrow:hover:before {color: black;}#sk-container-id-1 div.sk-estimator:hover label.sk-toggleable__label-arrow:before {color: black;}#sk-container-id-1 div.sk-toggleable__content {max-height: 0;max-width: 0;overflow: hidden;text-align: left;background-color: #f0f8ff;}#sk-container-id-1 div.sk-toggleable__content pre {margin: 0.2em;color: black;border-radius: 0.25em;background-color: #f0f8ff;}#sk-container-id-1 input.sk-toggleable__control:checked~div.sk-toggleable__content {max-height: 200px;max-width: 100%;overflow: auto;}#sk-container-id-1 input.sk-toggleable__control:checked~label.sk-toggleable__label-arrow:before {content: \"▾\";}#sk-container-id-1 div.sk-estimator input.sk-toggleable__control:checked~label.sk-toggleable__label {background-color: #d4ebff;}#sk-container-id-1 div.sk-label input.sk-toggleable__control:checked~label.sk-toggleable__label {background-color: #d4ebff;}#sk-container-id-1 input.sk-hidden--visually {border: 0;clip: rect(1px 1px 1px 1px);clip: rect(1px, 1px, 1px, 1px);height: 1px;margin: -1px;overflow: hidden;padding: 0;position: absolute;width: 1px;}#sk-container-id-1 div.sk-estimator {font-family: monospace;background-color: #f0f8ff;border: 1px dotted black;border-radius: 0.25em;box-sizing: border-box;margin-bottom: 0.5em;}#sk-container-id-1 div.sk-estimator:hover {background-color: #d4ebff;}#sk-container-id-1 div.sk-parallel-item::after {content: \"\";width: 100%;border-bottom: 1px solid gray;flex-grow: 1;}#sk-container-id-1 div.sk-label:hover label.sk-toggleable__label {background-color: #d4ebff;}#sk-container-id-1 div.sk-serial::before {content: \"\";position: absolute;border-left: 1px solid gray;box-sizing: border-box;top: 0;bottom: 0;left: 50%;z-index: 0;}#sk-container-id-1 div.sk-serial {display: flex;flex-direction: column;align-items: center;background-color: white;padding-right: 0.2em;padding-left: 0.2em;position: relative;}#sk-container-id-1 div.sk-item {position: relative;z-index: 1;}#sk-container-id-1 div.sk-parallel {display: flex;align-items: stretch;justify-content: center;background-color: white;position: relative;}#sk-container-id-1 div.sk-item::before, #sk-container-id-1 div.sk-parallel-item::before {content: \"\";position: absolute;border-left: 1px solid gray;box-sizing: border-box;top: 0;bottom: 0;left: 50%;z-index: -1;}#sk-container-id-1 div.sk-parallel-item {display: flex;flex-direction: column;z-index: 1;position: relative;background-color: white;}#sk-container-id-1 div.sk-parallel-item:first-child::after {align-self: flex-end;width: 50%;}#sk-container-id-1 div.sk-parallel-item:last-child::after {align-self: flex-start;width: 50%;}#sk-container-id-1 div.sk-parallel-item:only-child::after {width: 0;}#sk-container-id-1 div.sk-dashed-wrapped {border: 1px dashed gray;margin: 0 0.4em 0.5em 0.4em;box-sizing: border-box;padding-bottom: 0.4em;background-color: white;}#sk-container-id-1 div.sk-label label {font-family: monospace;font-weight: bold;display: inline-block;line-height: 1.2em;}#sk-container-id-1 div.sk-label-container {text-align: center;}#sk-container-id-1 div.sk-container {/* jupyter's `normalize.less` sets `[hidden] { display: none; }` but bootstrap.min.css set `[hidden] { display: none !important; }` so we also need the `!important` here to be able to override the default hidden behavior on the sphinx rendered scikit-learn.org. See: https://github.com/scikit-learn/scikit-learn/issues/21755 */display: inline-block !important;position: relative;}#sk-container-id-1 div.sk-text-repr-fallback {display: none;}</style><div id=\"sk-container-id-1\" class=\"sk-top-container\"><div class=\"sk-text-repr-fallback\"><pre>LinearRegression()</pre><b>In a Jupyter environment, please rerun this cell to show the HTML representation or trust the notebook. <br />On GitHub, the HTML representation is unable to render, please try loading this page with nbviewer.org.</b></div><div class=\"sk-container\" hidden><div class=\"sk-item\"><div class=\"sk-estimator sk-toggleable\"><input class=\"sk-toggleable__control sk-hidden--visually\" id=\"sk-estimator-id-1\" type=\"checkbox\" checked><label for=\"sk-estimator-id-1\" class=\"sk-toggleable__label sk-toggleable__label-arrow\">LinearRegression</label><div class=\"sk-toggleable__content\"><pre>LinearRegression()</pre></div></div></div></div></div>"
     },
     "execution_count": 136,
     "metadata": {},
     "output_type": "execute_result"
    }
   ]
  },
  {
   "cell_type": "markdown",
   "metadata": {
    "id": "p1wxcuSHHC9N"
   },
   "source": [
    "### 34.예측"
   ]
  },
  {
   "cell_type": "code",
   "metadata": {
    "id": "UgX-l3rgHDI7"
   },
   "source": [
    "# 예측값을 뽑자.\n",
    "test_pred = model.predict(test_x)\n",
    "test_pred.shape"
   ],
   "execution_count": 139,
   "outputs": [
    {
     "data": {
      "text/plain": "(293,)"
     },
     "execution_count": 139,
     "metadata": {},
     "output_type": "execute_result"
    }
   ]
  },
  {
   "cell_type": "markdown",
   "metadata": {
    "id": "iiGs0Vn1HJdj"
   },
   "source": [
    "### 35.평가"
   ]
  },
  {
   "cell_type": "code",
   "metadata": {
    "id": "0ZRwQJXY8uw9"
   },
   "source": [
    "# test set에서의 성능 확인\n",
    "mean_squared_error( test_y, test_pred, squared=False )"
   ],
   "execution_count": 138,
   "outputs": [
    {
     "data": {
      "text/plain": "28718.760488255648"
     },
     "execution_count": 138,
     "metadata": {},
     "output_type": "execute_result"
    }
   ]
  },
  {
   "cell_type": "markdown",
   "metadata": {
    "id": "023WrmgWilwf"
   },
   "source": [
    "나온 결과의 의미는?"
   ]
  },
  {
   "cell_type": "code",
   "execution_count": null,
   "outputs": [],
   "source": [],
   "metadata": {
    "collapsed": false,
    "pycharm": {
     "name": "#%%\n"
    }
   }
  }
 ]
}