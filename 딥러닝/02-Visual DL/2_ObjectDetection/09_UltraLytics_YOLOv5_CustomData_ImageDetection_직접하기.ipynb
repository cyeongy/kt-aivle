{
 "nbformat": 4,
 "nbformat_minor": 0,
 "metadata": {
  "colab": {
   "name": "09_UltraLytics_YOLOv5_CustomData_ImageDetection_직접하기.ipynb",
   "provenance": [],
   "collapsed_sections": [],
   "authorship_tag": "ABX9TyPEliw3c6gHWRVlCwywL/Lo"
  },
  "kernelspec": {
   "name": "python3",
   "display_name": "Python 3"
  },
  "language_info": {
   "name": "python"
  },
  "gpuClass": "standard"
 },
 "cells": [
  {
   "cell_type": "markdown",
   "source": [
    "# UltraLytics YOLO v5 Custom Data Image Detection 직접하기"
   ],
   "metadata": {
    "id": "mSpYwfyhmHtn",
    "pycharm": {
     "name": "#%% md\n"
    }
   }
  },
  {
   "cell_type": "markdown",
   "source": [
    "## UltraLytics YOLO v5 설치\n",
    "\n",
    "![install](https://github.com/DrKAI/CV/raw/main/UltraLytics_manual/yolov5_install.png)\n",
    "\n",
    "[Install Page](https://github.com/ultralytics/yolov5)"
   ],
   "metadata": {
    "id": "YB6S7Ad-km8I",
    "pycharm": {
     "name": "#%% md\n"
    }
   }
  },
  {
   "cell_type": "code",
   "source": [],
   "metadata": {
    "id": "0BgUAeV0l4kL",
    "pycharm": {
     "name": "#%%\n"
    }
   },
   "execution_count": null,
   "outputs": []
  },
  {
   "cell_type": "markdown",
   "source": [
    "## Image Detection\n",
    "\n",
    "1. **본인이 사전 작업한 CustomData yaml 다운로드**\n",
    "\n",
    "2. pretrained 된 weights 다운로드\n",
    "    - weights가 없으면 자동 다운로드\n",
    "\n",
    "3. train.py 실행\n",
    "\n",
    "4. **테스트용 이미지 다운로드**\n",
    "\n",
    "4. detect.py 실행"
   ],
   "metadata": {
    "id": "x49tFhjSmbOA",
    "pycharm": {
     "name": "#%% md\n"
    }
   }
  },
  {
   "cell_type": "markdown",
   "source": [
    "### 1) **본인의 CustomData yaml 다운로드**\n",
    "\n",
    "- CustomData yaml 사전 작업 필요"
   ],
   "metadata": {
    "id": "oG0KBwlqnR4A",
    "pycharm": {
     "name": "#%% md\n"
    }
   }
  },
  {
   "cell_type": "code",
   "source": [],
   "metadata": {
    "id": "xY3_24IImbLV",
    "pycharm": {
     "name": "#%%\n"
    }
   },
   "execution_count": null,
   "outputs": []
  },
  {
   "cell_type": "markdown",
   "source": [
    "### 2) Pretrained weights 다운로드\n",
    "\n",
    "![Pretrained weights](https://github.com/DrKAI/CV/raw/main/UltraLytics_manual/yolov5_pretrained.png)\n",
    "\n",
    "[Pretrained weights Page](https://github.com/ultralytics/yolov5)"
   ],
   "metadata": {
    "id": "1beFaHRDoAT5",
    "pycharm": {
     "name": "#%% md\n"
    }
   }
  },
  {
   "cell_type": "code",
   "source": [],
   "metadata": {
    "id": "4T8CcI0jmbCa",
    "pycharm": {
     "name": "#%%\n"
    }
   },
   "execution_count": null,
   "outputs": []
  },
  {
   "cell_type": "markdown",
   "source": [
    "### 3) train.py 실행\n",
    "\n",
    "- 명령어 도움말 : python train.py -h"
   ],
   "metadata": {
    "id": "54_FsNfxJK3R",
    "pycharm": {
     "name": "#%% md\n"
    }
   }
  },
  {
   "cell_type": "code",
   "source": [
    "!python ./yolov5/train.py -h"
   ],
   "metadata": {
    "id": "0pyVOfrXJW2L",
    "pycharm": {
     "name": "#%%\n"
    }
   },
   "execution_count": 3,
   "outputs": [
    {
     "name": "stdout",
     "output_type": "stream",
     "text": [
      "usage: train.py [-h] [--weights WEIGHTS] [--cfg CFG] [--data DATA] [--hyp HYP]\n",
      "                [--epochs EPOCHS] [--batch-size BATCH_SIZE] [--imgsz IMGSZ]\n",
      "                [--rect] [--resume [RESUME]] [--nosave] [--noval]\n",
      "                [--noautoanchor] [--noplots] [--evolve [EVOLVE]]\n",
      "                [--bucket BUCKET] [--cache [CACHE]] [--image-weights]\n",
      "                [--device DEVICE] [--multi-scale] [--single-cls]\n",
      "                [--optimizer {SGD,Adam,AdamW}] [--sync-bn] [--workers WORKERS]\n",
      "                [--project PROJECT] [--name NAME] [--exist-ok] [--quad]\n",
      "                [--cos-lr] [--label-smoothing LABEL_SMOOTHING]\n",
      "                [--patience PATIENCE] [--freeze FREEZE [FREEZE ...]]\n",
      "                [--save-period SAVE_PERIOD] [--seed SEED]\n",
      "                [--local_rank LOCAL_RANK] [--entity ENTITY]\n",
      "                [--upload_dataset [UPLOAD_DATASET]]\n",
      "                [--bbox_interval BBOX_INTERVAL]\n",
      "                [--artifact_alias ARTIFACT_ALIAS]\n",
      "\n",
      "optional arguments:\n",
      "  -h, --help            show this help message and exit\n",
      "  --weights WEIGHTS     initial weights path\n",
      "  --cfg CFG             model.yaml path\n",
      "  --data DATA           dataset.yaml path\n",
      "  --hyp HYP             hyperparameters path\n",
      "  --epochs EPOCHS       total training epochs\n",
      "  --batch-size BATCH_SIZE\n",
      "                        total batch size for all GPUs, -1 for autobatch\n",
      "  --imgsz IMGSZ, --img IMGSZ, --img-size IMGSZ\n",
      "                        train, val image size (pixels)\n",
      "  --rect                rectangular training\n",
      "  --resume [RESUME]     resume most recent training\n",
      "  --nosave              only save final checkpoint\n",
      "  --noval               only validate final epoch\n",
      "  --noautoanchor        disable AutoAnchor\n",
      "  --noplots             save no plot files\n",
      "  --evolve [EVOLVE]     evolve hyperparameters for x generations\n",
      "  --bucket BUCKET       gsutil bucket\n",
      "  --cache [CACHE]       --cache images in \"ram\" (default) or \"disk\"\n",
      "  --image-weights       use weighted image selection for training\n",
      "  --device DEVICE       cuda device, i.e. 0 or 0,1,2,3 or cpu\n",
      "  --multi-scale         vary img-size +/- 50%\n",
      "  --single-cls          train multi-class data as single-class\n",
      "  --optimizer {SGD,Adam,AdamW}\n",
      "                        optimizer\n",
      "  --sync-bn             use SyncBatchNorm, only available in DDP mode\n",
      "  --workers WORKERS     max dataloader workers (per RANK in DDP mode)\n",
      "  --project PROJECT     save to project/name\n",
      "  --name NAME           save to project/name\n",
      "  --exist-ok            existing project/name ok, do not increment\n",
      "  --quad                quad dataloader\n",
      "  --cos-lr              cosine LR scheduler\n",
      "  --label-smoothing LABEL_SMOOTHING\n",
      "                        Label smoothing epsilon\n",
      "  --patience PATIENCE   EarlyStopping patience (epochs without improvement)\n",
      "  --freeze FREEZE [FREEZE ...]\n",
      "                        Freeze layers: backbone=10, first3=0 1 2\n",
      "  --save-period SAVE_PERIOD\n",
      "                        Save checkpoint every x epochs (disabled if < 1)\n",
      "  --seed SEED           Global training seed\n",
      "  --local_rank LOCAL_RANK\n",
      "                        Automatic DDP Multi-GPU argument, do not modify\n",
      "  --entity ENTITY       Entity\n",
      "  --upload_dataset [UPLOAD_DATASET]\n",
      "                        Upload data, \"val\" option\n",
      "  --bbox_interval BBOX_INTERVAL\n",
      "                        Set bounding-box image logging interval\n",
      "  --artifact_alias ARTIFACT_ALIAS\n",
      "                        Version of dataset artifact to use\n"
     ]
    }
   ]
  },
  {
   "cell_type": "code",
   "execution_count": 64,
   "outputs": [
    {
     "name": "stdout",
     "output_type": "stream",
     "text": [
      "C:\\Users\\allsa\\kt-aivle\\딥러닝\\02-Visual DL\\2_ObjectDetection\\yolov5\n"
     ]
    }
   ],
   "source": [
    "%cd C:\\Users\\allsa\\kt-aivle\\딥러닝\\02-Visual DL\\2_ObjectDetection\\yolov5"
   ],
   "metadata": {
    "collapsed": false,
    "pycharm": {
     "name": "#%%\n"
    }
   }
  },
  {
   "cell_type": "code",
   "execution_count": 66,
   "outputs": [
    {
     "data": {
      "text/plain": "'C:\\\\Users\\\\allsa\\\\kt-aivle\\\\딥러닝\\\\02-Visual DL\\\\2_ObjectDetection\\\\yolov5'"
     },
     "execution_count": 66,
     "metadata": {},
     "output_type": "execute_result"
    }
   ],
   "source": [
    "%pwd"
   ],
   "metadata": {
    "collapsed": false,
    "pycharm": {
     "name": "#%%\n"
    }
   }
  },
  {
   "cell_type": "code",
   "execution_count": 67,
   "outputs": [
    {
     "name": "stderr",
     "output_type": "stream",
     "text": [
      "\u001B[34m\u001B[1mtrain: \u001B[0mweights='./pretrained/yolov5s.pt', cfg='./models/yolov5s.yaml', data=.\\data\\nong.yaml, hyp=data\\hyps\\hyp.scratch-low.yaml, epochs=1000, batch_size=16, imgsz=640, rect=False, resume=False, nosave=False, noval=False, noautoanchor=False, noplots=False, evolve=None, bucket=, cache=None, image_weights=False, device=, multi_scale=False, single_cls=False, optimizer=SGD, sync_bn=False, workers=8, project='detected', name='nong', exist_ok=True, quad=False, cos_lr=False, label_smoothing=0.0, patience=7, freeze=[0], save_period=-1, seed=0, local_rank=-1, entity=None, upload_dataset=False, bbox_interval=-1, artifact_alias=latest\n",
      "\u001B[34m\u001B[1mgithub: \u001B[0mup to date with https://github.com/ultralytics/yolov5 \n",
      "Traceback (most recent call last):\n",
      "  File \"./train.py\", line 630, in <module>\n",
      "    main(opt)\n",
      "  File \"./train.py\", line 501, in main\n",
      "    check_file(opt.data), check_yaml(opt.cfg), check_yaml(opt.hyp), str(opt.weights), str(opt.project)  # checks\n",
      "  File \"C:\\Users\\allsa\\kt-aivle\\딥러닝\\02-Visual DL\\2_ObjectDetection\\yolov5\\utils\\general.py\", line 414, in check_yaml\n",
      "    return check_file(file, suffix)\n",
      "  File \"C:\\Users\\allsa\\kt-aivle\\딥러닝\\02-Visual DL\\2_ObjectDetection\\yolov5\\utils\\general.py\", line 419, in check_file\n",
      "    check_suffix(file, suffix)  # optional\n",
      "  File \"C:\\Users\\allsa\\kt-aivle\\딥러닝\\02-Visual DL\\2_ObjectDetection\\yolov5\\utils\\general.py\", line 409, in check_suffix\n",
      "    assert s in suffix, f\"{msg}{f} acceptable suffix is {suffix}\"\n",
      "AssertionError: './models/yolov5s.yaml' acceptable suffix is ('.yaml', '.yml')\n"
     ]
    }
   ],
   "source": [
    "!python ./train.py \\\n",
    "    --data \".\\data\\nong.yaml\" \\\n",
    "    --cfg './models/yolov5s.yaml' \\\n",
    "    --weights './pretrained/yolov5s.pt' \\\n",
    "    --epochs 1000 \\\n",
    "    --patience 7 \\\n",
    "    --img 640 \\\n",
    "    --project 'detected' \\\n",
    "    --name 'nong' \\\n",
    "    --exist-ok"
   ],
   "metadata": {
    "collapsed": false,
    "pycharm": {
     "name": "#%%\n"
    }
   }
  },
  {
   "cell_type": "markdown",
   "source": [
    "### 4) **테스트용 이미지 다운로드**"
   ],
   "metadata": {
    "id": "_pO6Pn3JhSuP",
    "pycharm": {
     "name": "#%% md\n"
    }
   }
  },
  {
   "cell_type": "code",
   "source": [
    "import os\n",
    "%ls"
   ],
   "metadata": {
    "id": "g4mt9MBihSV9",
    "pycharm": {
     "name": "#%%\n"
    }
   },
   "execution_count": 58,
   "outputs": [
    {
     "name": "stdout",
     "output_type": "stream",
     "text": [
      " C 드라이브의 볼륨에는 이름이 없습니다.\n",
      " 볼륨 일련 번호: 74F5-1BB5\n",
      "\n",
      " C:\\Users\\allsa\\kt-aivle\\딥러닝\\02-Visual DL\\2_ObjectDetection\\yolov5 디렉터리\n",
      "\n",
      "2022-09-23  오후 04:05    <DIR>          .\n",
      "2022-09-23  오후 04:21    <DIR>          ..\n",
      "2022-09-23  오후 04:01             3,923 .dockerignore\n",
      "2022-09-23  오후 04:01                77 .gitattributes\n",
      "2022-09-23  오후 04:01    <DIR>          .github\n",
      "2022-09-23  오후 04:01             4,238 .gitignore\n",
      "2022-09-23  오후 04:01             1,619 .pre-commit-config.yaml\n",
      "2022-09-23  오후 04:05    <DIR>          __pycache__\n",
      "2022-09-23  오후 04:01             8,013 benchmarks.py\n",
      "2022-09-23  오후 04:01    <DIR>          classify\n",
      "2022-09-23  오후 04:01             5,087 CONTRIBUTING.md\n",
      "2022-09-23  오후 04:11    <DIR>          data\n",
      "2022-09-23  오후 04:01            14,179 detect.py\n",
      "2022-09-23  오후 04:01            30,177 export.py\n",
      "2022-09-23  오후 04:01             7,415 hubconf.py\n",
      "2022-09-23  오후 04:01            35,801 LICENSE\n",
      "2022-09-23  오후 04:05    <DIR>          models\n",
      "2022-09-23  오후 04:04    <DIR>          pretrained\n",
      "2022-09-23  오후 04:01            31,158 README.md\n",
      "2022-09-23  오후 04:01             1,186 requirements.txt\n",
      "2022-09-23  오후 04:01    <DIR>          segment\n",
      "2022-09-23  오후 04:01             1,744 setup.cfg\n",
      "2022-09-23  오후 04:01            34,037 train.py\n",
      "2022-09-23  오후 04:01            61,367 tutorial.ipynb\n",
      "2022-09-23  오후 04:05    <DIR>          utils\n",
      "2022-09-23  오후 04:01            20,695 val.py\n",
      "              16개 파일             260,716 바이트\n",
      "              10개 디렉터리  312,536,559,616 바이트 남음\n"
     ]
    }
   ]
  },
  {
   "cell_type": "markdown",
   "source": [
    "### 5) detect.py 실행\n",
    "\n",
    "- 명령어 도움말 : python detect.py -h"
   ],
   "metadata": {
    "id": "8oPYiciurwMa",
    "pycharm": {
     "name": "#%% md\n"
    }
   }
  },
  {
   "cell_type": "code",
   "source": [],
   "metadata": {
    "id": "2oQICMMmma_X",
    "pycharm": {
     "name": "#%%\n"
    }
   },
   "execution_count": null,
   "outputs": []
  },
  {
   "cell_type": "markdown",
   "source": [
    "## Detect Image 살펴보기"
   ],
   "metadata": {
    "id": "Js3aCClPu4mE",
    "pycharm": {
     "name": "#%% md\n"
    }
   }
  },
  {
   "cell_type": "code",
   "source": [],
   "metadata": {
    "id": "3mnQXY3xwfkt",
    "pycharm": {
     "name": "#%%\n"
    }
   },
   "execution_count": null,
   "outputs": []
  }
 ]
}