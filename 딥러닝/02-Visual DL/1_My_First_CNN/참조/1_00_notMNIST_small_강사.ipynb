{
  "nbformat": 4,
  "nbformat_minor": 0,
  "metadata": {
    "colab": {
      "provenance": [],
      "collapsed_sections": []
    },
    "kernelspec": {
      "name": "python3",
      "display_name": "Python 3"
    },
    "gpuClass": "standard"
  },
  "cells": [
    {
      "cell_type": "markdown",
      "metadata": {
        "id": "B_iAjwPm_mYg"
      },
      "source": [
        "# Letter recognition (small size)\n",
        "\n",
        "> Indeed, I once even proposed that the toughest challenge facing AI workers is to answer the question: “What are the letters ‘A’ and ‘I’? - [Douglas R. Hofstadter](https://web.stanford.edu/group/SHR/4-2/text/hofstadter.html) (1995)\n",
        "\n",
        "\n",
        "## notMNIST\n",
        "\n",
        "\n",
        "Data source: [notMNIST](http://yaroslavvb.blogspot.com/2011/09/notmnist-dataset.html) (you need to download `notMNIST_small.mat` file):\n",
        "\n",
        "![](http://yaroslavvb.com/upload/notMNIST/nmn.png)\n",
        "\n",
        "> some publicly available fonts and extracted glyphs from them to make a dataset similar to MNIST. There are 10 classes, with letters A-J taken from different fonts.\n",
        "\n",
        "> Approaching 0.5% error rate on notMNIST_small would be very impressive. If you run your algorithm on this dataset, please let me know your results.\n",
        "\n",
        "\n",
        "## So, why not MNIST?\n",
        "\n",
        "Many introductions to image classification with deep learning start with MNIST, a standard dataset of handwritten digits. This is unfortunate. Not only does it not produce a “Wow!” effect or show where deep learning shines, but it also can be solved with shallow machine learning techniques. In this case, plain k-Nearest Neighbors produces more than 97% accuracy (or even 99.5% with some data preprocessing!). Moreover, MNIST is not a typical image dataset – and mastering it is unlikely to teach you transferable skills that would be useful for other classification problems\n",
        "\n",
        "> Many good ideas will not work well on MNIST (e.g. batch norm). Inversely many bad ideas may work on MNIST and no[t] transfer to real [computer vision]. - [François Chollet’s tweet](https://twitter.com/fchollet/status/852594987527045120)"
      ]
    },
    {
      "cell_type": "code",
      "metadata": {
        "id": "jcAAphar__K6",
        "colab": {
          "base_uri": "https://localhost:8080/"
        },
        "outputId": "fd81f571-4e33-4d27-87b9-156f0900f91e"
      },
      "source": [
        "!wget http://yaroslavvb.com/upload/notMNIST/notMNIST_small.mat"
      ],
      "execution_count": 1,
      "outputs": [
        {
          "output_type": "stream",
          "name": "stdout",
          "text": [
            "--2022-09-19 00:56:12--  http://yaroslavvb.com/upload/notMNIST/notMNIST_small.mat\n",
            "Resolving yaroslavvb.com (yaroslavvb.com)... 129.121.4.193\n",
            "Connecting to yaroslavvb.com (yaroslavvb.com)|129.121.4.193|:80... connected.\n",
            "HTTP request sent, awaiting response... 200 OK\n",
            "Length: 117586976 (112M)\n",
            "Saving to: ‘notMNIST_small.mat’\n",
            "\n",
            "notMNIST_small.mat  100%[===================>] 112.14M   781KB/s    in 30s     \n",
            "\n",
            "2022-09-19 00:56:43 (3.68 MB/s) - ‘notMNIST_small.mat’ saved [117586976/117586976]\n",
            "\n"
          ]
        }
      ]
    },
    {
      "cell_type": "code",
      "metadata": {
        "id": "5bJ8z5dnANsf"
      },
      "source": [
        "import matplotlib.pyplot as plt\n",
        "from scipy import io\n",
        "import numpy as np\n",
        "from sklearn.model_selection import train_test_split"
      ],
      "execution_count": 3,
      "outputs": []
    },
    {
      "cell_type": "markdown",
      "metadata": {
        "id": "rsvxhuP0_mYt"
      },
      "source": [
        "## Data Loading"
      ]
    },
    {
      "cell_type": "code",
      "metadata": {
        "id": "wb9UaA_P_mYu"
      },
      "source": [
        "data = io.loadmat(\"notMNIST_small.mat\")\n",
        "\n",
        "# transform data\n",
        "X = data['images']\n",
        "y = data['labels']\n",
        "resolution = 28\n",
        "classes = 10\n",
        "\n",
        "X = np.transpose(X, (2, 0, 1))\n",
        "\n",
        "y = y.astype('int32')\n",
        "X = X.astype('float32') / 255.\n",
        "\n",
        "# shape: (sample, x, y, channel)\n",
        "X = X.reshape((-1, resolution, resolution, 1))"
      ],
      "execution_count": 4,
      "outputs": []
    },
    {
      "cell_type": "code",
      "metadata": {
        "id": "IHYFpZ0L_mYw",
        "colab": {
          "base_uri": "https://localhost:8080/",
          "height": 281
        },
        "outputId": "d1f0821a-4cd8-4f6d-bf0d-8c7ecd3237a5"
      },
      "source": [
        "# looking at data; some fonts are strange\n",
        "i = np.random.randint(0, 18724)\n",
        "\n",
        "plt.imshow(X[i,:,:,0], cmap='gray')\n",
        "plt.title(\"ABCDEFGHIJ\"[y[i]]);"
      ],
      "execution_count": 16,
      "outputs": [
        {
          "output_type": "display_data",
          "data": {
            "text/plain": [
              "<Figure size 432x288 with 1 Axes>"
            ],
            "image/png": "[encoded data removed]"
          },
          "metadata": {
            "needs_background": "light"
          }
        }
      ]
    },
    {
      "cell_type": "code",
      "metadata": {
        "id": "CeeDSEJv_mYz",
        "colab": {
          "base_uri": "https://localhost:8080/",
          "height": 357
        },
        "outputId": "1719534c-2f7b-4fc3-fa19-141339038640"
      },
      "source": [
        "# random letters\n",
        "rows = 6\n",
        "fig, axs = plt.subplots(rows, classes, figsize=(classes, rows))\n",
        "\n",
        "for letter_id in range(10):\n",
        "    letters = X[y == letter_id]\n",
        "    for i in range(rows):\n",
        "        ax = axs[i, letter_id]\n",
        "        ax.imshow(letters[np.random.randint(len(letters)),:,:,0],\n",
        "                  cmap='Greys', interpolation='none')\n",
        "        ax.axis('off')"
      ],
      "execution_count": 17,
      "outputs": [
        {
          "output_type": "display_data",
          "data": {
            "text/plain": [
              "<Figure size 720x432 with 60 Axes>"
            ],
            "image/png": "[encoded data removed]"
          },
          "metadata": {
            "needs_background": "light"
          }
        }
      ]
    },
    {
      "cell_type": "code",
      "metadata": {
        "id": "8xmR99PK_mY2"
      },
      "source": [
        "# splitting data into training and test sets\n",
        "x_train, x_test, y_train, y_test = train_test_split(X, y, test_size=0.2, random_state=2022)"
      ],
      "execution_count": 18,
      "outputs": []
    },
    {
      "cell_type": "code",
      "metadata": {
        "id": "CzL95VmTBHxx",
        "colab": {
          "base_uri": "https://localhost:8080/"
        },
        "outputId": "22042ed8-eb3c-4353-a09b-323456200d6e"
      },
      "source": [
        "x_train.shape, y_train.shape"
      ],
      "execution_count": 19,
      "outputs": [
        {
          "output_type": "execute_result",
          "data": {
            "text/plain": [
              "((14979, 28, 28, 1), (14979,))"
            ]
          },
          "metadata": {},
          "execution_count": 19
        }
      ]
    },
    {
      "cell_type": "code",
      "source": [
        "from tensorflow.keras.utils import to_categorical"
      ],
      "metadata": {
        "id": "F7vdcxBvWk1R"
      },
      "execution_count": 20,
      "outputs": []
    },
    {
      "cell_type": "code",
      "source": [
        "class_n = len(np.unique(y_train))"
      ],
      "metadata": {
        "id": "K_xdEzC-Wtth"
      },
      "execution_count": 24,
      "outputs": []
    },
    {
      "cell_type": "code",
      "source": [
        "y_train = to_categorical(y_train, class_n)\n",
        "y_test = to_categorical(y_test, class_n)"
      ],
      "metadata": {
        "id": "WKFpry6uW2p5"
      },
      "execution_count": 25,
      "outputs": []
    },
    {
      "cell_type": "code",
      "source": [
        "x_train.shape, y_train.shape"
      ],
      "metadata": {
        "colab": {
          "base_uri": "https://localhost:8080/"
        },
        "id": "J4ZBxiMBXCy2",
        "outputId": "2614d303-a905-4fe2-c7bc-83e2a462bcb8"
      },
      "execution_count": 26,
      "outputs": [
        {
          "output_type": "execute_result",
          "data": {
            "text/plain": [
              "((14979, 28, 28, 1), (14979, 10))"
            ]
          },
          "metadata": {},
          "execution_count": 26
        }
      ]
    },
    {
      "cell_type": "markdown",
      "metadata": {
        "id": "GnZHnb1uBJWj"
      },
      "source": [
        "# Keras를 이용한 모델링 훈련!\n",
        "\n",
        "1. Flatten layer 활용\n",
        "2. Hidden Layer 3개까지!\n",
        "3. activation이 주어진 Dense layer뒤에 BatchNormalization둬볼 것\n",
        "4. Dropout을 0.2 정도로 활용해볼 것\n",
        "5. Early stopping도 활용해볼 것"
      ]
    },
    {
      "cell_type": "code",
      "source": [
        "import tensorflow as tf\n",
        "from tensorflow import keras\n",
        "\n",
        "from tensorflow.keras.backend import clear_session\n",
        "from tensorflow.keras.models import Sequential, Model\n",
        "from tensorflow.keras.layers import Input, Dense, Flatten, BatchNormalization, Dropout"
      ],
      "metadata": {
        "id": "tplsj_KCdwtg"
      },
      "execution_count": 28,
      "outputs": []
    },
    {
      "cell_type": "code",
      "source": [
        "## Sequential API\n",
        "\n",
        "# 1. 세션 클리어\n",
        "clear_session()\n",
        "\n",
        "# 2. 레이어 블록 쌓을 발판 생성\n",
        "model = Sequential()\n",
        "\n",
        "# 3. 레이어 블록 조립\n",
        "model.add( Input(shape=(28,28,1)) )\n",
        "model.add( Flatten() )\n",
        "model.add( Dense(64, activation='relu') )\n",
        "model.add( BatchNormalization() )\n",
        "model.add( Dense(64, activation='relu') )\n",
        "model.add( BatchNormalization() )\n",
        "model.add( Dense(64, activation='relu') )\n",
        "model.add( BatchNormalization() )\n",
        "model.add( Dropout(0.2) )\n",
        "model.add( Dense(10, activation='softmax') )\n",
        "\n",
        "# 4. 컴파일\n",
        "model.compile(loss='categorical_crossentropy', metrics=['accuracy'],\n",
        "              optimizer='adam')\n",
        "\n",
        "# 요약\n",
        "model.summary()"
      ],
      "metadata": {
        "id": "wF_-Qy9x6qva",
        "colab": {
          "base_uri": "https://localhost:8080/"
        },
        "outputId": "6a584b91-efc9-40df-a874-007294eca2bc"
      },
      "execution_count": 29,
      "outputs": [
        {
          "output_type": "stream",
          "name": "stdout",
          "text": [
            "Model: \"sequential\"\n",
            "_________________________________________________________________\n",
            " Layer (type)                Output Shape              Param #   \n",
            "=================================================================\n",
            " flatten (Flatten)           (None, 784)               0         \n",
            "                                                                 \n",
            " dense (Dense)               (None, 64)                50240     \n",
            "                                                                 \n",
            " batch_normalization (BatchN  (None, 64)               256       \n",
            " ormalization)                                                   \n",
            "                                                                 \n",
            " dense_1 (Dense)             (None, 64)                4160      \n",
            "                                                                 \n",
            " batch_normalization_1 (Batc  (None, 64)               256       \n",
            " hNormalization)                                                 \n",
            "                                                                 \n",
            " dense_2 (Dense)             (None, 64)                4160      \n",
            "                                                                 \n",
            " batch_normalization_2 (Batc  (None, 64)               256       \n",
            " hNormalization)                                                 \n",
            "                                                                 \n",
            " dropout (Dropout)           (None, 64)                0         \n",
            "                                                                 \n",
            " dense_3 (Dense)             (None, 10)                650       \n",
            "                                                                 \n",
            "=================================================================\n",
            "Total params: 59,978\n",
            "Trainable params: 59,594\n",
            "Non-trainable params: 384\n",
            "_________________________________________________________________\n"
          ]
        }
      ]
    },
    {
      "cell_type": "code",
      "source": [
        "## Functional API\n",
        "\n",
        "# 1. 세션 클리어\n",
        "clear_session()\n",
        "\n",
        "# 2. 레이어 사슬처럼 엮기\n",
        "il = Input(shape=(28,28,1))\n",
        "fl = Flatten()(il)\n",
        "hl = Dense(64, activation='relu')(fl)\n",
        "bl = BatchNormalization()(hl)\n",
        "hl = Dense(64, activation='relu')(bl)\n",
        "bl = BatchNormalization()(hl)\n",
        "hl = Dense(64, activation='relu')(bl)\n",
        "bl = BatchNormalization()(hl)\n",
        "dl = Dropout(0.2)(bl)\n",
        "ol = Dense(10, activation='softmax')(dl)\n",
        "\n",
        "# 3. 모델의 시작과 끝 레이어 지정\n",
        "model = Model(il, ol)\n",
        "\n",
        "# 4. 컴파일\n",
        "model.compile(loss=keras.losses.categorical_crossentropy, metrics=['accuracy'],\n",
        "              optimizer='adam')\n",
        "\n",
        "# 요약\n",
        "model.summary()"
      ],
      "metadata": {
        "colab": {
          "base_uri": "https://localhost:8080/"
        },
        "id": "NfNEzrKEXBsA",
        "outputId": "37aad0eb-5c49-42ac-b9b7-a4839c893beb"
      },
      "execution_count": 37,
      "outputs": [
        {
          "output_type": "stream",
          "name": "stdout",
          "text": [
            "Model: \"model\"\n",
            "_________________________________________________________________\n",
            " Layer (type)                Output Shape              Param #   \n",
            "=================================================================\n",
            " input_1 (InputLayer)        [(None, 28, 28, 1)]       0         \n",
            "                                                                 \n",
            " flatten (Flatten)           (None, 784)               0         \n",
            "                                                                 \n",
            " dense (Dense)               (None, 64)                50240     \n",
            "                                                                 \n",
            " batch_normalization (BatchN  (None, 64)               256       \n",
            " ormalization)                                                   \n",
            "                                                                 \n",
            " dense_1 (Dense)             (None, 64)                4160      \n",
            "                                                                 \n",
            " batch_normalization_1 (Batc  (None, 64)               256       \n",
            " hNormalization)                                                 \n",
            "                                                                 \n",
            " dense_2 (Dense)             (None, 64)                4160      \n",
            "                                                                 \n",
            " batch_normalization_2 (Batc  (None, 64)               256       \n",
            " hNormalization)                                                 \n",
            "                                                                 \n",
            " dropout (Dropout)           (None, 64)                0         \n",
            "                                                                 \n",
            " dense_3 (Dense)             (None, 10)                650       \n",
            "                                                                 \n",
            "=================================================================\n",
            "Total params: 59,978\n",
            "Trainable params: 59,594\n",
            "Non-trainable params: 384\n",
            "_________________________________________________________________\n"
          ]
        }
      ]
    },
    {
      "cell_type": "code",
      "source": [
        "## Early Stopping\n",
        "from tensorflow.keras.callbacks import EarlyStopping, ModelCheckpoint"
      ],
      "metadata": {
        "id": "eczHwt6Ff-A7"
      },
      "execution_count": 31,
      "outputs": []
    },
    {
      "cell_type": "code",
      "source": [
        "es = EarlyStopping(monitor='val_loss',       # 관측 대상\n",
        "                   patience=5,               # 개선되지 않을 때, 몇 번 참을래\n",
        "                   min_delta=0,              # 설정값 이상으로 개선되어야 개선 된 것으로 인정\n",
        "                   verbose=1,                \n",
        "                   restore_best_weights=True)# 학습 이후, 최적의 가중치를 모델에 전달"
      ],
      "metadata": {
        "id": "4qfCeNFbgULx"
      },
      "execution_count": 38,
      "outputs": []
    },
    {
      "cell_type": "code",
      "source": [
        "mcp = ModelCheckpoint(filepath='/content/model.ckpt',\n",
        "                      monitor='val_loss',\n",
        "                      verbose=1,\n",
        "                      save_best_only=True,\n",
        "                      save_weights_only=False)"
      ],
      "metadata": {
        "id": "dBu2k-xkgt6o"
      },
      "execution_count": 39,
      "outputs": []
    },
    {
      "cell_type": "code",
      "source": [
        "model.fit(x_train, y_train, validation_split=0.2, verbose=1, epochs=10000,\n",
        "          callbacks=[es, mcp])"
      ],
      "metadata": {
        "colab": {
          "base_uri": "https://localhost:8080/"
        },
        "id": "CaYVUrdKhFbd",
        "outputId": "1e7a834e-e007-4bee-8e95-575346009700"
      },
      "execution_count": 40,
      "outputs": [
        {
          "output_type": "stream",
          "name": "stdout",
          "text": [
            "Epoch 1/10000\n",
            "369/375 [============================>.] - ETA: 0s - loss: 0.7046 - accuracy: 0.7956\n",
            "Epoch 1: val_loss improved from inf to 0.46851, saving model to /content/model.ckpt\n",
            "375/375 [==============================] - 6s 12ms/step - loss: 0.7017 - accuracy: 0.7966 - val_loss: 0.4685 - val_accuracy: 0.8692\n",
            "Epoch 2/10000\n",
            "369/375 [============================>.] - ETA: 0s - loss: 0.4260 - accuracy: 0.8782\n",
            "Epoch 2: val_loss improved from 0.46851 to 0.41599, saving model to /content/model.ckpt\n",
            "375/375 [==============================] - 4s 11ms/step - loss: 0.4266 - accuracy: 0.8780 - val_loss: 0.4160 - val_accuracy: 0.8802\n",
            "Epoch 3/10000\n",
            "370/375 [============================>.] - ETA: 0s - loss: 0.3603 - accuracy: 0.8938\n",
            "Epoch 3: val_loss improved from 0.41599 to 0.40429, saving model to /content/model.ckpt\n",
            "375/375 [==============================] - 4s 9ms/step - loss: 0.3592 - accuracy: 0.8941 - val_loss: 0.4043 - val_accuracy: 0.8808\n",
            "Epoch 4/10000\n",
            "367/375 [============================>.] - ETA: 0s - loss: 0.3174 - accuracy: 0.9057\n",
            "Epoch 4: val_loss did not improve from 0.40429\n",
            "375/375 [==============================] - 2s 5ms/step - loss: 0.3182 - accuracy: 0.9055 - val_loss: 0.4111 - val_accuracy: 0.8868\n",
            "Epoch 5/10000\n",
            "370/375 [============================>.] - ETA: 0s - loss: 0.2959 - accuracy: 0.9113\n",
            "Epoch 5: val_loss did not improve from 0.40429\n",
            "375/375 [==============================] - 2s 5ms/step - loss: 0.2957 - accuracy: 0.9115 - val_loss: 0.4156 - val_accuracy: 0.8778\n",
            "Epoch 6/10000\n",
            "372/375 [============================>.] - ETA: 0s - loss: 0.2811 - accuracy: 0.9172\n",
            "Epoch 6: val_loss did not improve from 0.40429\n",
            "375/375 [==============================] - 2s 4ms/step - loss: 0.2805 - accuracy: 0.9174 - val_loss: 0.4072 - val_accuracy: 0.8825\n",
            "Epoch 7/10000\n",
            "375/375 [==============================] - ETA: 0s - loss: 0.2597 - accuracy: 0.9206\n",
            "Epoch 7: val_loss improved from 0.40429 to 0.39693, saving model to /content/model.ckpt\n",
            "375/375 [==============================] - 4s 10ms/step - loss: 0.2597 - accuracy: 0.9206 - val_loss: 0.3969 - val_accuracy: 0.8905\n",
            "Epoch 8/10000\n",
            "366/375 [============================>.] - ETA: 0s - loss: 0.2412 - accuracy: 0.9267\n",
            "Epoch 8: val_loss did not improve from 0.39693\n",
            "375/375 [==============================] - 2s 5ms/step - loss: 0.2401 - accuracy: 0.9271 - val_loss: 0.4222 - val_accuracy: 0.8845\n",
            "Epoch 9/10000\n",
            "361/375 [===========================>..] - ETA: 0s - loss: 0.2218 - accuracy: 0.9323\n",
            "Epoch 9: val_loss did not improve from 0.39693\n",
            "375/375 [==============================] - 2s 4ms/step - loss: 0.2220 - accuracy: 0.9322 - val_loss: 0.4279 - val_accuracy: 0.8919\n",
            "Epoch 10/10000\n",
            "361/375 [===========================>..] - ETA: 0s - loss: 0.2039 - accuracy: 0.9371\n",
            "Epoch 10: val_loss did not improve from 0.39693\n",
            "375/375 [==============================] - 2s 4ms/step - loss: 0.2059 - accuracy: 0.9362 - val_loss: 0.4240 - val_accuracy: 0.8925\n",
            "Epoch 11/10000\n",
            "365/375 [============================>.] - ETA: 0s - loss: 0.2012 - accuracy: 0.9391\n",
            "Epoch 11: val_loss did not improve from 0.39693\n",
            "375/375 [==============================] - 2s 5ms/step - loss: 0.2013 - accuracy: 0.9387 - val_loss: 0.4572 - val_accuracy: 0.8855\n",
            "Epoch 12/10000\n",
            "359/375 [===========================>..] - ETA: 0s - loss: 0.1929 - accuracy: 0.9376Restoring model weights from the end of the best epoch: 7.\n",
            "\n",
            "Epoch 12: val_loss did not improve from 0.39693\n",
            "375/375 [==============================] - 2s 4ms/step - loss: 0.1932 - accuracy: 0.9380 - val_loss: 0.4015 - val_accuracy: 0.8975\n",
            "Epoch 12: early stopping\n"
          ]
        },
        {
          "output_type": "execute_result",
          "data": {
            "text/plain": [
              "<keras.callbacks.History at 0x7f2ade888310>"
            ]
          },
          "metadata": {},
          "execution_count": 40
        }
      ]
    },
    {
      "cell_type": "code",
      "source": [],
      "metadata": {
        "id": "Srrop022hPca"
      },
      "execution_count": null,
      "outputs": []
    }
  ]
}