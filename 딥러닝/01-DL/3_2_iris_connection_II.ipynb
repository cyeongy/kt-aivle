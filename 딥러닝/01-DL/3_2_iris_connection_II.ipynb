{
 "nbformat": 4,
 "nbformat_minor": 0,
 "metadata": {
  "colab": {
   "name": "3_2_iris_connection_II.ipynb",
   "provenance": [],
   "collapsed_sections": []
  },
  "kernelspec": {
   "name": "python3",
   "display_name": "Python 3"
  },
  "language_info": {
   "name": "python"
  }
 },
 "cells": [
  {
   "cell_type": "markdown",
   "metadata": {
    "id": "JR8jlMMPdIn8",
    "pycharm": {
     "name": "#%% md\n"
    }
   },
   "source": [
    "# IRIS - Connection II\n",
    "\n",
    "![Add layer](https://github.com/DrKAI/image/blob/main/Add%20Layer.png?raw=true)"
   ]
  },
  {
   "cell_type": "code",
   "metadata": {
    "id": "5Ryk5eNOb4-w",
    "pycharm": {
     "name": "#%%\n"
    }
   },
   "source": [
    "import numpy as np\n",
    "import pandas as pd\n",
    "\n",
    "import tensorflow as tf\n",
    "from tensorflow import keras\n",
    "\n",
    "from sklearn.datasets import load_iris"
   ],
   "execution_count": null,
   "outputs": []
  },
  {
   "cell_type": "markdown",
   "metadata": {
    "id": "Y0a0ns5LXhDt",
    "pycharm": {
     "name": "#%% md\n"
    }
   },
   "source": [
    "## 데이터 불러오기\n",
    "* iris.feature_names를 이용하여 판다스 데이터 프레임 만들기!"
   ]
  },
  {
   "cell_type": "code",
   "metadata": {
    "id": "ZwstpfJnJj_M",
    "pycharm": {
     "name": "#%%\n"
    }
   },
   "source": [],
   "execution_count": null,
   "outputs": []
  },
  {
   "cell_type": "markdown",
   "metadata": {
    "id": "JQb8AGsxgX9D",
    "pycharm": {
     "name": "#%% md\n"
    }
   },
   "source": [
    "## train set, test set 구분하기"
   ]
  },
  {
   "cell_type": "code",
   "metadata": {
    "id": "CwSPTbtVJiyi",
    "pycharm": {
     "name": "#%%\n"
    }
   },
   "source": [],
   "execution_count": null,
   "outputs": []
  },
  {
   "cell_type": "markdown",
   "metadata": {
    "id": "vk5ON1iNgHZv",
    "pycharm": {
     "name": "#%% md\n"
    }
   },
   "source": [
    "## **sepal끼리, petal끼리**"
   ]
  },
  {
   "cell_type": "code",
   "metadata": {
    "id": "sjhmJMjLJhqq",
    "pycharm": {
     "name": "#%%\n"
    }
   },
   "source": [],
   "execution_count": null,
   "outputs": []
  },
  {
   "cell_type": "markdown",
   "metadata": {
    "id": "BubbIvpJmZhX",
    "pycharm": {
     "name": "#%% md\n"
    }
   },
   "source": [
    "## One-hot Encoding"
   ]
  },
  {
   "cell_type": "code",
   "metadata": {
    "id": "qTUl-T5Hmc8F",
    "pycharm": {
     "name": "#%%\n"
    }
   },
   "source": [],
   "execution_count": null,
   "outputs": []
  },
  {
   "cell_type": "markdown",
   "metadata": {
    "id": "KJYhtxM3mc_R",
    "pycharm": {
     "name": "#%% md\n"
    }
   },
   "source": [
    "## Modeling : multi-input & Add layer"
   ]
  },
  {
   "cell_type": "code",
   "metadata": {
    "id": "5celtavonw75",
    "pycharm": {
     "name": "#%%\n"
    }
   },
   "source": [],
   "execution_count": null,
   "outputs": []
  },
  {
   "cell_type": "markdown",
   "metadata": {
    "id": "qIg-W5eSWhyc",
    "pycharm": {
     "name": "#%% md\n"
    }
   },
   "source": [
    "## 모델 시각화"
   ]
  },
  {
   "cell_type": "code",
   "metadata": {
    "id": "22HFw8xavgGI",
    "pycharm": {
     "name": "#%%\n"
    }
   },
   "source": [],
   "execution_count": null,
   "outputs": []
  },
  {
   "cell_type": "markdown",
   "metadata": {
    "id": "vuJ7eKLkWnm2",
    "pycharm": {
     "name": "#%% md\n"
    }
   },
   "source": [
    "## 학습 시켜보기!"
   ]
  },
  {
   "cell_type": "code",
   "metadata": {
    "id": "6g05eHJAJdwg",
    "pycharm": {
     "name": "#%%\n"
    }
   },
   "source": [],
   "execution_count": null,
   "outputs": []
  }
 ]
}