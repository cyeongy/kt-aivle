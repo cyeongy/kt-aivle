{
 "nbformat": 4,
 "nbformat_minor": 0,
 "metadata": {
  "colab": {
   "name": "2_3_ANN_Fashion_MNIST.ipynb",
   "provenance": [],
   "collapsed_sections": []
  },
  "kernelspec": {
   "name": "python3",
   "display_name": "Python 3"
  },
  "accelerator": "GPU"
 },
 "cells": [
  {
   "cell_type": "markdown",
   "metadata": {
    "id": "UdrP_vI3QcNd",
    "pycharm": {
     "name": "#%% md\n"
    }
   },
   "source": [
    "# ANN & Fashion MNIST\n",
    "\n",
    "<br> By Margaret Maynard-Reid, 4/24/2018\n",
    "\n",
    "![alt text](https://github.com/margaretmz/deep-learning/blob/master/images/modern%20dl_fash-mnist_keras.png?raw=1)"
   ]
  },
  {
   "cell_type": "markdown",
   "metadata": {
    "id": "XLMRPLVCFwEc",
    "pycharm": {
     "name": "#%% md\n"
    }
   },
   "source": [
    "## Why Fashion-MNIST?\n",
    "\n",
    "\n",
    "*   MNIST is too easy\n",
    "*   MNIST is overused\n",
    "*   MNIST can not represent modern Computer Vision tasks\n",
    "\n",
    "Read more about the Fashion-MINST dataset in this paper [here](https://arxiv.org/abs/1708.07747) (**Fashion-MNIST: a Novel Image Dataset for Benchmarking Machine Learning Algorithms**)\n",
    "\n"
   ]
  },
  {
   "cell_type": "code",
   "metadata": {
    "id": "d44TznbgZZgm",
    "pycharm": {
     "name": "#%%\n"
    }
   },
   "source": [
    "import tensorflow as tf\n",
    "from tensorflow import keras\n",
    "\n",
    "import numpy as np\n",
    "import matplotlib.pyplot as plt\n",
    "\n",
    "# Load the fashion-mnist pre-shuffled train data and test data\n",
    "(x_train, y_train), (x_test, y_test) = keras.datasets.fashion_mnist.load_data()\n",
    "\n",
    "print(\"x_train shape:\", x_train.shape, \"y_train shape:\", y_train.shape)"
   ],
   "execution_count": 1,
   "outputs": [
    {
     "name": "stdout",
     "output_type": "stream",
     "text": [
      "x_train shape: (60000, 28, 28) y_train shape: (60000,)\n"
     ]
    }
   ]
  },
  {
   "cell_type": "markdown",
   "metadata": {
    "id": "tWORMSC8FDR4",
    "pycharm": {
     "name": "#%% md\n"
    }
   },
   "source": [
    "## Visualize the data 반복실행 해보자"
   ]
  },
  {
   "cell_type": "code",
   "metadata": {
    "id": "aFe4wHGRFKle",
    "pycharm": {
     "name": "#%%\n"
    }
   },
   "source": [
    "# Print training set shape - note there are 60,000 training data of image size of 28x28, 60,000 train labels)\n",
    "print(\"x_train shape:\", x_train.shape, \"y_train shape:\", y_train.shape)\n",
    "\n",
    "# Print the number of training and test datasets\n",
    "print(x_train.shape[0], 'train set')\n",
    "print(x_test.shape[0], 'test set')\n",
    "\n",
    "# Define the text labels\n",
    "fashion_mnist_labels = [\"T-shirt/top\",  # index 0\n",
    "                        \"Trouser\",  # index 1\n",
    "                        \"Pullover\",  # index 2\n",
    "                        \"Dress\",  # index 3\n",
    "                        \"Coat\",  # index 4\n",
    "                        \"Sandal\",  # index 5\n",
    "                        \"Shirt\",  # index 6\n",
    "                        \"Sneaker\",  # index 7\n",
    "                        \"Bag\",  # index 8\n",
    "                        \"Ankle boot\"]  # index 9\n",
    "\n",
    "# Image index, you can pick any number between 0 and 59,999\n",
    "img_index = np.random.randint(0, 59999)\n",
    "# y_train contains the lables, ranging from 0 to 9\n",
    "label_index = y_train[img_index]\n",
    "# Print the label, for example 2 Pullover\n",
    "print(\"y = \" + str(label_index) + \" \" + (fashion_mnist_labels[label_index]))\n",
    "# # Show one of the images from the training dataset\n",
    "plt.imshow(x_train[img_index])"
   ],
   "execution_count": 2,
   "outputs": [
    {
     "name": "stdout",
     "output_type": "stream",
     "text": [
      "x_train shape: (60000, 28, 28) y_train shape: (60000,)\n",
      "60000 train set\n",
      "10000 test set\n",
      "y = 8 Bag\n"
     ]
    },
    {
     "data": {
      "text/plain": "<matplotlib.image.AxesImage at 0x1d775274ca0>"
     },
     "execution_count": 2,
     "metadata": {},
     "output_type": "execute_result"
    },
    {
     "data": {
      "text/plain": "<Figure size 432x288 with 1 Axes>",
      "image/png": "[encoded data removed]"
     },
     "metadata": {
      "needs_background": "light"
     },
     "output_type": "display_data"
    }
   ]
  },
  {
   "cell_type": "code",
   "metadata": {
    "id": "XqUyZdcCe6Ja",
    "pycharm": {
     "name": "#%%\n"
    }
   },
   "source": [
    "print(x_train.shape, x_test.shape, y_train.shape, y_test.shape)"
   ],
   "execution_count": 3,
   "outputs": [
    {
     "name": "stdout",
     "output_type": "stream",
     "text": [
      "(60000, 28, 28) (10000, 28, 28) (60000,) (10000,)\n"
     ]
    }
   ]
  },
  {
   "cell_type": "markdown",
   "metadata": {
    "id": "Zx-Ee6LHZZgt",
    "pycharm": {
     "name": "#%% md\n"
    }
   },
   "source": [
    "##  코딩 task!\n",
    "\n",
    "1. 전처리\n",
    "    * x : sc_____\n",
    "    * y : _______ encoding\n",
    "\n",
    "2. 모델링\n",
    "    * model에 모델 선언\n",
    "    * Input layer에 어떻게 전달할 것인지 고민 필요\n",
    "    * 쭈우우우욱 늘려주는 레이어를 사용할 것 (F______)\n",
    "    * 히든레이어는 최소 3개를 쓸 것!\n",
    "    * 노드 수는 512개를 기본으로 시작\n",
    "    * 자유롭게 바꿔가며 성능을 볼 것\n",
    "\n",
    "3. 학습\n",
    "    * epochs=50, validation_split=0.2\n",
    "    * early stopping"
   ]
  },
  {
   "cell_type": "code",
   "execution_count": 4,
   "outputs": [],
   "source": [
    "x_train_s = x_train / 255\n",
    "x_test_s = x_test / 255\n",
    "\n",
    "y_train_o = keras.utils.to_categorical(y_train, 10)\n",
    "y_test_o = keras.utils.to_categorical(y_test, 10)"
   ],
   "metadata": {
    "collapsed": false,
    "pycharm": {
     "name": "#%%\n"
    }
   }
  },
  {
   "cell_type": "code",
   "metadata": {
    "id": "oRTnVHB7uiHz",
    "pycharm": {
     "name": "#%%\n"
    }
   },
   "source": [
    "#############\n",
    "# Your Code #\n",
    "#############\n",
    "keras.backend.clear_session()\n",
    "\n",
    "layers = [  ]\n",
    "il = keras.layers.Input(shape=(28, 28), name='Input')\n",
    "layers.append(il)\n",
    "layers.append(keras.layers.Flatten()(layers[-1]))\n",
    "for i in range(3):\n",
    "    layers.append(keras.layers.Dense(512, activation='relu', name=f'Hidden_{i + 1}')(layers[-1]))\n",
    "layers.append(keras.layers.Dense(10, activation='softmax', name='Output')(layers[-1]))\n",
    "\n",
    "model = keras.models.Model(layers[0], layers[-1])\n",
    "model_o = keras.models.Model(layers[0], layers[-1])\n",
    "\n",
    "model.compile(loss=keras.losses.sparse_categorical_crossentropy, optimizer='adam', metrics=['accuracy'])\n",
    "model_o.compile(loss=keras.losses.categorical_crossentropy, optimizer='adam', metrics=['accuracy'])\n",
    "\n",
    "es = keras.callbacks.EarlyStopping(monitor='val_loss',\n",
    "                                   min_delta=0,\n",
    "                                   patience=5,\n",
    "                                   verbose=1,\n",
    "                                   restore_best_weights=True)\n",
    "\n",
    "print(model.summary())\n",
    "print('-' * 100)\n",
    "print(model_o.summary())"
   ],
   "execution_count": 5,
   "outputs": [
    {
     "name": "stdout",
     "output_type": "stream",
     "text": [
      "Model: \"functional_1\"\n",
      "_________________________________________________________________\n",
      "Layer (type)                 Output Shape              Param #   \n",
      "=================================================================\n",
      "Input (InputLayer)           [(None, 28, 28)]          0         \n",
      "_________________________________________________________________\n",
      "flatten (Flatten)            (None, 784)               0         \n",
      "_________________________________________________________________\n",
      "Hidden_1 (Dense)             (None, 512)               401920    \n",
      "_________________________________________________________________\n",
      "Hidden_2 (Dense)             (None, 512)               262656    \n",
      "_________________________________________________________________\n",
      "Hidden_3 (Dense)             (None, 512)               262656    \n",
      "_________________________________________________________________\n",
      "Output (Dense)               (None, 10)                5130      \n",
      "=================================================================\n",
      "Total params: 932,362\n",
      "Trainable params: 932,362\n",
      "Non-trainable params: 0\n",
      "_________________________________________________________________\n",
      "None\n",
      "----------------------------------------------------------------------------------------------------\n",
      "Model: \"functional_3\"\n",
      "_________________________________________________________________\n",
      "Layer (type)                 Output Shape              Param #   \n",
      "=================================================================\n",
      "Input (InputLayer)           [(None, 28, 28)]          0         \n",
      "_________________________________________________________________\n",
      "flatten (Flatten)            (None, 784)               0         \n",
      "_________________________________________________________________\n",
      "Hidden_1 (Dense)             (None, 512)               401920    \n",
      "_________________________________________________________________\n",
      "Hidden_2 (Dense)             (None, 512)               262656    \n",
      "_________________________________________________________________\n",
      "Hidden_3 (Dense)             (None, 512)               262656    \n",
      "_________________________________________________________________\n",
      "Output (Dense)               (None, 10)                5130      \n",
      "=================================================================\n",
      "Total params: 932,362\n",
      "Trainable params: 932,362\n",
      "Non-trainable params: 0\n",
      "_________________________________________________________________\n",
      "None\n"
     ]
    }
   ]
  },
  {
   "cell_type": "code",
   "execution_count": 6,
   "outputs": [
    {
     "name": "stdout",
     "output_type": "stream",
     "text": [
      "Epoch 1/50\n",
      "   1/1500 [..............................] - ETA: 0s - loss: 2.3231 - accuracy: 0.1875WARNING:tensorflow:Callbacks method `on_train_batch_end` is slow compared to the batch time (batch time: 0.0010s vs `on_train_batch_end` time: 0.0020s). Check your callbacks.\n",
      "1500/1500 [==============================] - 2s 1ms/step - loss: 0.4919 - accuracy: 0.8200 - val_loss: 0.4087 - val_accuracy: 0.8494\n",
      "Epoch 2/50\n",
      "1500/1500 [==============================] - 2s 1ms/step - loss: 0.3755 - accuracy: 0.8611 - val_loss: 0.3783 - val_accuracy: 0.8656\n",
      "Epoch 3/50\n",
      "1500/1500 [==============================] - 2s 1ms/step - loss: 0.3330 - accuracy: 0.8771 - val_loss: 0.3696 - val_accuracy: 0.8695\n",
      "Epoch 4/50\n",
      "1500/1500 [==============================] - 2s 1ms/step - loss: 0.3114 - accuracy: 0.8859 - val_loss: 0.3499 - val_accuracy: 0.8748\n",
      "Epoch 5/50\n",
      "1500/1500 [==============================] - 2s 1ms/step - loss: 0.2933 - accuracy: 0.8909 - val_loss: 0.3383 - val_accuracy: 0.8778\n",
      "Epoch 6/50\n",
      "1500/1500 [==============================] - 2s 1ms/step - loss: 0.2783 - accuracy: 0.8964 - val_loss: 0.3239 - val_accuracy: 0.8832\n",
      "Epoch 7/50\n",
      "1500/1500 [==============================] - 2s 1ms/step - loss: 0.2648 - accuracy: 0.9009 - val_loss: 0.3288 - val_accuracy: 0.8836\n",
      "Epoch 8/50\n",
      "1500/1500 [==============================] - 2s 1ms/step - loss: 0.2556 - accuracy: 0.9040 - val_loss: 0.3181 - val_accuracy: 0.8857\n",
      "Epoch 9/50\n",
      "1500/1500 [==============================] - 2s 1ms/step - loss: 0.2397 - accuracy: 0.9090 - val_loss: 0.3179 - val_accuracy: 0.8884\n",
      "Epoch 10/50\n",
      "1500/1500 [==============================] - 2s 1ms/step - loss: 0.2362 - accuracy: 0.9105 - val_loss: 0.3525 - val_accuracy: 0.8848\n",
      "Epoch 11/50\n",
      "1500/1500 [==============================] - 2s 1ms/step - loss: 0.2255 - accuracy: 0.9133 - val_loss: 0.3495 - val_accuracy: 0.8843\n",
      "Epoch 12/50\n",
      "1500/1500 [==============================] - 2s 1ms/step - loss: 0.2192 - accuracy: 0.9171 - val_loss: 0.3741 - val_accuracy: 0.8842\n",
      "Epoch 13/50\n",
      "1500/1500 [==============================] - 2s 1ms/step - loss: 0.2113 - accuracy: 0.9196 - val_loss: 0.3541 - val_accuracy: 0.8905\n",
      "Epoch 14/50\n",
      "1487/1500 [============================>.] - ETA: 0s - loss: 0.2053 - accuracy: 0.9203Restoring model weights from the end of the best epoch.\n",
      "1500/1500 [==============================] - 2s 1ms/step - loss: 0.2048 - accuracy: 0.9205 - val_loss: 0.3546 - val_accuracy: 0.8946\n",
      "Epoch 00014: early stopping\n"
     ]
    },
    {
     "data": {
      "text/plain": "<tensorflow.python.keras.callbacks.History at 0x1d735d24d00>"
     },
     "execution_count": 6,
     "metadata": {},
     "output_type": "execute_result"
    }
   ],
   "source": [
    "model_o.fit(x_train_s, y_train_o, verbose=1, epochs=50,\n",
    "          callbacks=[es],\n",
    "          validation_split=.2)"
   ],
   "metadata": {
    "collapsed": false,
    "pycharm": {
     "name": "#%%\n"
    }
   }
  },
  {
   "cell_type": "code",
   "execution_count": 7,
   "outputs": [],
   "source": [
    "pred_o = model_o.predict(x_test_s)\n",
    "pred_to = model_o.predict(x_train_s)"
   ],
   "metadata": {
    "collapsed": false,
    "pycharm": {
     "name": "#%%\n"
    }
   }
  },
  {
   "cell_type": "code",
   "execution_count": 8,
   "outputs": [],
   "source": [
    "from sklearn.metrics import accuracy_score"
   ],
   "metadata": {
    "collapsed": false,
    "pycharm": {
     "name": "#%%\n"
    }
   }
  },
  {
   "cell_type": "code",
   "execution_count": 9,
   "outputs": [
    {
     "name": "stdout",
     "output_type": "stream",
     "text": [
      "학습 정확도:  91.15%\n",
      "테스트 정확도:  87.95%\n",
      "313/313 [==============================] - 0s 932us/step - loss: 0.3423 - accuracy: 0.8795\n",
      "[0.342330664396286, 0.8794999718666077]\n"
     ]
    }
   ],
   "source": [
    "print(f'학습 정확도: {accuracy_score(y_train, pred_to.argmax(axis=1)) * 100: .2f}%')\n",
    "print(f'테스트 정확도: {accuracy_score(y_test, pred_o.argmax(axis=1))*100: .2f}%')\n",
    "\n",
    "print(f'{model_o.evaluate(x_test_s, y_test_o)}')"
   ],
   "metadata": {
    "collapsed": false,
    "pycharm": {
     "name": "#%%\n"
    }
   }
  },
  {
   "cell_type": "code",
   "metadata": {
    "id": "uVSPMrDEe4im",
    "pycharm": {
     "name": "#%%\n"
    }
   },
   "source": [
    "#############\n",
    "# Your Code #\n",
    "#############\n"
   ],
   "execution_count": null,
   "outputs": []
  },
  {
   "cell_type": "code",
   "metadata": {
    "id": "gQ1GIsfafE07",
    "pycharm": {
     "name": "#%%\n"
    }
   },
   "source": [
    "#############\n",
    "# Your Code #\n",
    "#############\n"
   ],
   "execution_count": null,
   "outputs": []
  },
  {
   "cell_type": "code",
   "metadata": {
    "id": "ytuvtzg1urGb",
    "pycharm": {
     "name": "#%%\n"
    }
   },
   "source": [
    "#############\n",
    "# Your Code #\n",
    "#############\n",
    "\n",
    "\n",
    "#### 모델 요약\n",
    "model.summary()"
   ],
   "execution_count": null,
   "outputs": []
  },
  {
   "cell_type": "code",
   "metadata": {
    "id": "SbCR_wsLvx0c",
    "pycharm": {
     "name": "#%%\n"
    }
   },
   "source": [
    "#############\n",
    "# Your Code #\n",
    "#############\n"
   ],
   "execution_count": null,
   "outputs": []
  },
  {
   "cell_type": "markdown",
   "metadata": {
    "id": "oJv7XEk10bOv",
    "pycharm": {
     "name": "#%% md\n"
    }
   },
   "source": [
    "## Visualize prediction\n",
    "\n",
    "위에서 지키라고 한 사항들 안지키면 동작을 안할껄...?"
   ]
  },
  {
   "cell_type": "code",
   "metadata": {
    "id": "L_B3UemLh6ON",
    "pycharm": {
     "name": "#%%\n"
    }
   },
   "source": [
    "score = model_o.evaluate(x_test_s, y_test_o, verbose=0)\n",
    "\n",
    "# Print test accuracy\n",
    "print('\\n', 'Test accuracy:', score[1])\n",
    "y_hat = model_o.predict(x_test_s).argmax(axis=1)"
   ],
   "execution_count": null,
   "outputs": []
  },
  {
   "cell_type": "code",
   "metadata": {
    "id": "QwNmlfIC0YxM",
    "pycharm": {
     "name": "#%%\n"
    }
   },
   "source": [
    "####### 반복실행해보자\n",
    "\n",
    "# Plot a random sample of 10 test images, their predicted labels and ground truth\n",
    "figure = plt.figure(figsize=(20, 8))\n",
    "for i, index in enumerate(np.random.choice(x_test_s.shape[0], size=15, replace=False)):\n",
    "    ax = figure.add_subplot(3, 5, i + 1, xticks=[], yticks=[])\n",
    "    # Display each image\n",
    "    ax.imshow(np.squeeze(x_test_s[index].reshape([28, -1])))\n",
    "    predict_index = y_hat[index]\n",
    "    true_index = y_test_o[index].argmax(axis=0)\n",
    "    # Set the title for each image\n",
    "    ax.set_title(\"{} ({})\".format(fashion_mnist_labels[predict_index],\n",
    "                                  fashion_mnist_labels[true_index]),\n",
    "                 color=(\"green\" if predict_index == true_index else \"red\"))"
   ],
   "execution_count": null,
   "outputs": []
  }
 ]
}