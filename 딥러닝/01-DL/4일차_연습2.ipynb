{
  "nbformat": 4,
  "nbformat_minor": 0,
  "metadata": {
    "colab": {
      "provenance": []
    },
    "kernelspec": {
      "name": "python3",
      "display_name": "Python 3"
    },
    "language_info": {
      "name": "python"
    }
  },
  "cells": [
    {
      "cell_type": "code",
      "execution_count": 1,
      "metadata": {
        "id": "StjdnMRQLa2d"
      },
      "outputs": [],
      "source": [
        "from sklearn.datasets import load_wine"
      ]
    },
    {
      "cell_type": "code",
      "source": [
        "wine = load_wine()"
      ],
      "metadata": {
        "id": "6L4aIsbALld9"
      },
      "execution_count": 2,
      "outputs": []
    },
    {
      "cell_type": "code",
      "source": [
        "print(wine.DESCR)"
      ],
      "metadata": {
        "id": "qhaSOxUwL8lg"
      },
      "execution_count": null,
      "outputs": []
    },
    {
      "cell_type": "code",
      "source": [
        "x = wine.data\n",
        "y = wine.target"
      ],
      "metadata": {
        "id": "A1Lq-4NnMQxn"
      },
      "execution_count": 4,
      "outputs": []
    },
    {
      "cell_type": "markdown",
      "source": [
        "## 문제\n",
        "\n",
        "1. 전처리 : 필수) training set / test set 구분\n",
        "2. 모델링 : Functional API\n",
        "    - 1) 히든 레이어 없이 성능 보기\n",
        "    - 2) 히든 레이어 추가하고 성능 보기 (자율)\n",
        "3. 학습 : epochs=100, validation set 10%, 5번까지만 참을래!"
      ],
      "metadata": {
        "id": "WZIto3DUMZL_"
      }
    },
    {
      "cell_type": "code",
      "source": [],
      "metadata": {
        "id": "mPP3nVhaMYtI"
      },
      "execution_count": null,
      "outputs": []
    }
  ]
}