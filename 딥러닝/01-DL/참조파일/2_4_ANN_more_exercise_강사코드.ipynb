{
 "nbformat": 4,
 "nbformat_minor": 0,
 "metadata": {
  "colab": {
   "provenance": [],
   "collapsed_sections": []
  },
  "kernelspec": {
   "name": "python3",
   "display_name": "Python 3"
  },
  "accelerator": "GPU"
 },
 "cells": [
  {
   "cell_type": "markdown",
   "metadata": {
    "id": "HZc219MFFibh",
    "pycharm": {
     "name": "#%% md\n"
    }
   },
   "source": [
    "# Before Convolutional Neural Network"
   ]
  },
  {
   "cell_type": "markdown",
   "metadata": {
    "id": "iLYle-HPFNgx",
    "pycharm": {
     "name": "#%% md\n"
    }
   },
   "source": [
    "## Real Game : CIFAR-10\n",
    "\n",
    "여기에서는 여러분이 직접 코드를 완성해야 하는 문제가 곳곳에 있습니다!"
   ]
  },
  {
   "cell_type": "code",
   "metadata": {
    "id": "SpxQtfTUUI5r",
    "executionInfo": {
     "status": "ok",
     "timestamp": 1663225568765,
     "user_tz": -540,
     "elapsed": 3147,
     "user": {
      "displayName": "김건영",
      "userId": "04338252548733078915"
     }
    },
    "pycharm": {
     "name": "#%%\n"
    }
   },
   "source": [
    "'''\n",
    "matplolib inline 명령어를 통해서\n",
    "matplot으로 그리는 플롯들을 주피터 노트북 내에서 볼 수 있게 해준다.\n",
    "포맷을 retina로 바꾸면 그래프의 화질이 훨씬 좋아진다.\n",
    "'''\n",
    "%matplotlib inline\n",
    "%config InlineBackend.figure_format = 'retina'\n",
    "\n",
    "'''\n",
    "라이브러리들을 불러오자.\n",
    "'''\n",
    "import numpy as np\n",
    "import pandas as pd\n",
    "import matplotlib.pyplot as plt\n",
    "\n",
    "import tensorflow as tf\n",
    "from tensorflow import keras\n",
    "\n",
    "import random as rd\n",
    "\n",
    "from sklearn.metrics import accuracy_score"
   ],
   "execution_count": 1,
   "outputs": []
  },
  {
   "cell_type": "markdown",
   "metadata": {
    "id": "dxB_-9itUhFy",
    "pycharm": {
     "name": "#%% md\n"
    }
   },
   "source": [
    "### 데이터를 불러옵시다."
   ]
  },
  {
   "cell_type": "code",
   "metadata": {
    "id": "4uNApF4YVdf7",
    "colab": {
     "base_uri": "https://localhost:8080/"
    },
    "executionInfo": {
     "status": "ok",
     "timestamp": 1663225628317,
     "user_tz": -540,
     "elapsed": 43260,
     "user": {
      "displayName": "김건영",
      "userId": "04338252548733078915"
     }
    },
    "outputId": "795e0164-107a-43d2-ce4d-a77131f7c1f2",
    "pycharm": {
     "name": "#%%\n"
    }
   },
   "source": [
    "(train_x, train_y), (test_x, test_y) = tf.keras.datasets.cifar10.load_data()"
   ],
   "execution_count": 2,
   "outputs": [
    {
     "output_type": "stream",
     "name": "stdout",
     "text": [
      "Downloading data from https://www.cs.toronto.edu/~kriz/cifar-10-python.tar.gz\n",
      "170500096/170498071 [==============================] - 40s 0us/step\n",
      "170508288/170498071 [==============================] - 40s 0us/step\n"
     ]
    }
   ]
  },
  {
   "cell_type": "code",
   "metadata": {
    "id": "0EcfUETOUhIy",
    "colab": {
     "base_uri": "https://localhost:8080/"
    },
    "executionInfo": {
     "status": "ok",
     "timestamp": 1663225635328,
     "user_tz": -540,
     "elapsed": 488,
     "user": {
      "displayName": "김건영",
      "userId": "04338252548733078915"
     }
    },
    "outputId": "8534e3a3-6a2e-4d62-e77f-121754025642",
    "pycharm": {
     "name": "#%%\n"
    }
   },
   "source": [
    "print(train_x.shape, train_y.shape, test_x.shape, test_y.shape)"
   ],
   "execution_count": 3,
   "outputs": [
    {
     "output_type": "stream",
     "name": "stdout",
     "text": [
      "(50000, 32, 32, 3) (50000, 1) (10000, 32, 32, 3) (10000, 1)\n"
     ]
    }
   ]
  },
  {
   "cell_type": "code",
   "metadata": {
    "id": "D7-ICNlAVhIM",
    "colab": {
     "base_uri": "https://localhost:8080/"
    },
    "executionInfo": {
     "status": "ok",
     "timestamp": 1663225710145,
     "user_tz": -540,
     "elapsed": 651,
     "user": {
      "displayName": "김건영",
      "userId": "04338252548733078915"
     }
    },
    "outputId": "02051011-71ac-4ad8-c90c-191e33b7eab8",
    "pycharm": {
     "name": "#%%\n"
    }
   },
   "source": [
    "labels = { 0 : 'Airplane',\n",
    "          1 : 'Automobile',\n",
    "          2 : 'Bird',\n",
    "          3 : 'Cat',\n",
    "          4 : 'Deer',\n",
    "          5 : 'Dog',\n",
    "          6 : 'Frog',\n",
    "          7 : 'Horse',\n",
    "          8 : 'Ship',\n",
    "          9 : 'Truck' }\n",
    "\n",
    "print(labels)"
   ],
   "execution_count": 4,
   "outputs": [
    {
     "output_type": "stream",
     "name": "stdout",
     "text": [
      "{0: 'Airplane', 1: 'Automobile', 2: 'Bird', 3: 'Cat', 4: 'Deer', 5: 'Dog', 6: 'Frog', 7: 'Horse', 8: 'Ship', 9: 'Truck'}\n"
     ]
    }
   ]
  },
  {
   "cell_type": "code",
   "metadata": {
    "id": "06UwAC3JV7uj",
    "colab": {
     "base_uri": "https://localhost:8080/",
     "height": 302
    },
    "executionInfo": {
     "status": "ok",
     "timestamp": 1663225761040,
     "user_tz": -540,
     "elapsed": 646,
     "user": {
      "displayName": "김건영",
      "userId": "04338252548733078915"
     }
    },
    "outputId": "8d4266a2-9f61-4dba-e405-d91022499095",
    "pycharm": {
     "name": "#%%\n"
    }
   },
   "source": [
    "'''\n",
    "Ctrl+Enter를 이용하여\n",
    "반복 실행 해보자!\n",
    "'''\n",
    "\n",
    "id = rd.randrange(0,10000)\n",
    "\n",
    "print('id = {}'.format(id))\n",
    "print('다음 그림은 {} 입니다.'.format( labels[test_y[id][0]] ))\n",
    "plt.imshow(test_x[id])\n",
    "plt.show()"
   ],
   "execution_count": 7,
   "outputs": [
    {
     "output_type": "stream",
     "name": "stdout",
     "text": [
      "id = 9325\n",
      "다음 그림은 Frog 입니다.\n"
     ]
    },
    {
     "output_type": "display_data",
     "data": {
      "text/plain": [
       "<Figure size 432x288 with 1 Axes>"
      ],
      "image/png": "[encoded data removed]"
     },
     "metadata": {
      "image/png": {
       "width": 251,
       "height": 248
      },
      "needs_background": "light"
     }
    }
   ]
  },
  {
   "cell_type": "code",
   "metadata": {
    "id": "cWL_no_LR3U8",
    "colab": {
     "base_uri": "https://localhost:8080/"
    },
    "executionInfo": {
     "status": "ok",
     "timestamp": 1663225829948,
     "user_tz": -540,
     "elapsed": 3,
     "user": {
      "displayName": "김건영",
      "userId": "04338252548733078915"
     }
    },
    "outputId": "ffa8df7d-bb8c-4a35-bdce-77da03d32163",
    "pycharm": {
     "name": "#%%\n"
    }
   },
   "source": [
    "print('max :', train_x.max(),'  min :', train_x.min())"
   ],
   "execution_count": 8,
   "outputs": [
    {
     "output_type": "stream",
     "name": "stdout",
     "text": [
      "max : 255   min : 0\n"
     ]
    }
   ]
  },
  {
   "cell_type": "markdown",
   "metadata": {
    "id": "mQ_FTTj7XAtC",
    "pycharm": {
     "name": "#%% md\n"
    }
   },
   "source": [
    "### 코드를 완성해주세요!\n",
    "\n",
    "해야 할 일\n",
    "\n",
    "1. 전처리\n",
    "    * x, y에 대하여 모두! 단, x에 대하여 reshape를 의도한 것은 아닙니다!\n",
    "\n",
    "2. 모델링\n",
    "    * 이미지 데이터를 펼쳐주는 레이어를 사용하세요.\n",
    "    * 히든 레이어 4개 사용, 각 노드는 512, 512, 256, 128\n",
    "    * 이 문제는 회귀? 분류?\n",
    "\n",
    "3. 학습\n",
    "    * epochs=50, validation_split=0.2, early stopping\n",
    "    * epoch별 accuracy, loss가 보고 싶다면 history라는 변수에 담아내자!"
   ]
  },
  {
   "cell_type": "code",
   "source": [
    "train_x.shape, train_y.shape"
   ],
   "metadata": {
    "colab": {
     "base_uri": "https://localhost:8080/"
    },
    "id": "ixn1LKftIPZZ",
    "executionInfo": {
     "status": "ok",
     "timestamp": 1663228252286,
     "user_tz": -540,
     "elapsed": 545,
     "user": {
      "displayName": "김건영",
      "userId": "04338252548733078915"
     }
    },
    "outputId": "93a8e866-2d13-4041-a44b-665345e512a6",
    "pycharm": {
     "name": "#%%\n"
    }
   },
   "execution_count": 13,
   "outputs": [
    {
     "output_type": "execute_result",
     "data": {
      "text/plain": [
       "((50000, 32, 32, 3), (50000, 1))"
      ]
     },
     "metadata": {},
     "execution_count": 13
    }
   ]
  },
  {
   "cell_type": "markdown",
   "source": [
    "* scaling"
   ],
   "metadata": {
    "id": "8fagCUQAJc2I",
    "pycharm": {
     "name": "#%% md\n"
    }
   }
  },
  {
   "cell_type": "code",
   "source": [
    "max_n, min_n = train_x.max(), train_x.min()\n",
    "\n",
    "max_n, min_n"
   ],
   "metadata": {
    "colab": {
     "base_uri": "https://localhost:8080/"
    },
    "id": "pcLKwYrRJcyi",
    "executionInfo": {
     "status": "ok",
     "timestamp": 1663228596283,
     "user_tz": -540,
     "elapsed": 368,
     "user": {
      "displayName": "김건영",
      "userId": "04338252548733078915"
     }
    },
    "outputId": "dd8a051c-3345-4fc3-bb04-c8c02e4cd16c",
    "pycharm": {
     "name": "#%%\n"
    }
   },
   "execution_count": 15,
   "outputs": [
    {
     "output_type": "execute_result",
     "data": {
      "text/plain": [
       "(255, 0)"
      ]
     },
     "metadata": {},
     "execution_count": 15
    }
   ]
  },
  {
   "cell_type": "code",
   "source": [
    "train_x = (train_x - min_n) / (max_n - min_n)\n",
    "test_x = (test_x - min_n) / (max_n - min_n)"
   ],
   "metadata": {
    "id": "PRFKcUoaJcu3",
    "executionInfo": {
     "status": "ok",
     "timestamp": 1663228623092,
     "user_tz": -540,
     "elapsed": 787,
     "user": {
      "displayName": "김건영",
      "userId": "04338252548733078915"
     }
    },
    "pycharm": {
     "name": "#%%\n"
    }
   },
   "execution_count": 16,
   "outputs": []
  },
  {
   "cell_type": "code",
   "source": [
    "train_x.max(), train_x.min()"
   ],
   "metadata": {
    "colab": {
     "base_uri": "https://localhost:8080/"
    },
    "id": "h95pxTRRJrPa",
    "executionInfo": {
     "status": "ok",
     "timestamp": 1663228630267,
     "user_tz": -540,
     "elapsed": 542,
     "user": {
      "displayName": "김건영",
      "userId": "04338252548733078915"
     }
    },
    "outputId": "d9d0efac-37a5-4eeb-bc24-0ff5b2e544fb",
    "pycharm": {
     "name": "#%%\n"
    }
   },
   "execution_count": 17,
   "outputs": [
    {
     "output_type": "execute_result",
     "data": {
      "text/plain": [
       "(1.0, 0.0)"
      ]
     },
     "metadata": {},
     "execution_count": 17
    }
   ]
  },
  {
   "cell_type": "markdown",
   "source": [
    "* One-Hot Encoding"
   ],
   "metadata": {
    "id": "z4PLib6GJupo",
    "pycharm": {
     "name": "#%% md\n"
    }
   }
  },
  {
   "cell_type": "code",
   "source": [
    "from tensorflow.keras.utils import to_categorical"
   ],
   "metadata": {
    "id": "e3z7ydU8JbDf",
    "executionInfo": {
     "status": "ok",
     "timestamp": 1663228653299,
     "user_tz": -540,
     "elapsed": 2,
     "user": {
      "displayName": "김건영",
      "userId": "04338252548733078915"
     }
    },
    "pycharm": {
     "name": "#%%\n"
    }
   },
   "execution_count": 18,
   "outputs": []
  },
  {
   "cell_type": "code",
   "source": [
    "class_n = len(np.unique(train_y))\n",
    "class_n"
   ],
   "metadata": {
    "colab": {
     "base_uri": "https://localhost:8080/"
    },
    "id": "eGreegGuJypW",
    "executionInfo": {
     "status": "ok",
     "timestamp": 1663228718589,
     "user_tz": -540,
     "elapsed": 406,
     "user": {
      "displayName": "김건영",
      "userId": "04338252548733078915"
     }
    },
    "outputId": "e78a22e5-1888-49a9-eb02-829c7fe42a7b",
    "pycharm": {
     "name": "#%%\n"
    }
   },
   "execution_count": 22,
   "outputs": [
    {
     "output_type": "execute_result",
     "data": {
      "text/plain": [
       "10"
      ]
     },
     "metadata": {},
     "execution_count": 22
    }
   ]
  },
  {
   "cell_type": "code",
   "source": [
    "train_y = to_categorical(train_y, class_n)\n",
    "test_y = to_categorical(test_y, class_n)"
   ],
   "metadata": {
    "id": "3EyVnhtOKCkd",
    "executionInfo": {
     "status": "ok",
     "timestamp": 1663228742610,
     "user_tz": -540,
     "elapsed": 378,
     "user": {
      "displayName": "김건영",
      "userId": "04338252548733078915"
     }
    },
    "pycharm": {
     "name": "#%%\n"
    }
   },
   "execution_count": 23,
   "outputs": []
  },
  {
   "cell_type": "code",
   "source": [
    "train_x.shape, train_y.shape"
   ],
   "metadata": {
    "colab": {
     "base_uri": "https://localhost:8080/"
    },
    "id": "xmp09pcVKIhd",
    "executionInfo": {
     "status": "ok",
     "timestamp": 1663228758518,
     "user_tz": -540,
     "elapsed": 588,
     "user": {
      "displayName": "김건영",
      "userId": "04338252548733078915"
     }
    },
    "outputId": "6434b4fe-bdfe-4c11-b4cb-622b513d7a51",
    "pycharm": {
     "name": "#%%\n"
    }
   },
   "execution_count": 25,
   "outputs": [
    {
     "output_type": "execute_result",
     "data": {
      "text/plain": [
       "((50000, 32, 32, 3), (50000, 10))"
      ]
     },
     "metadata": {},
     "execution_count": 25
    }
   ]
  },
  {
   "cell_type": "code",
   "source": [
    "import tensorflow as tf\n",
    "from tensorflow import keras\n",
    "\n",
    "from tensorflow.keras.backend import clear_session\n",
    "from tensorflow.keras.models import Model\n",
    "from tensorflow.keras.layers import Input, Dense, Flatten"
   ],
   "metadata": {
    "id": "Rwejv_eTHMmI",
    "executionInfo": {
     "status": "ok",
     "timestamp": 1663228780544,
     "user_tz": -540,
     "elapsed": 398,
     "user": {
      "displayName": "김건영",
      "userId": "04338252548733078915"
     }
    },
    "pycharm": {
     "name": "#%%\n"
    }
   },
   "execution_count": 26,
   "outputs": []
  },
  {
   "cell_type": "code",
   "metadata": {
    "id": "3An_EZn0R4wM",
    "colab": {
     "base_uri": "https://localhost:8080/"
    },
    "executionInfo": {
     "status": "ok",
     "timestamp": 1663228814646,
     "user_tz": -540,
     "elapsed": 3341,
     "user": {
      "displayName": "김건영",
      "userId": "04338252548733078915"
     }
    },
    "outputId": "caa31bad-b370-4348-89c7-b60672b65cfa",
    "pycharm": {
     "name": "#%%\n"
    }
   },
   "source": [
    "#############\n",
    "# Your Code # : Functional API\n",
    "#############\n",
    "# 1 세션 클리어 \n",
    "clear_session()\n",
    "\n",
    "# 2 레이어 엮기\n",
    "il = Input(shape=(32,32,3))\n",
    "fl = Flatten()(il)\n",
    "hl = Dense(512, activation='relu')(fl)\n",
    "hl = Dense(512, activation='relu')(hl)\n",
    "hl = Dense(256, activation='relu')(hl)\n",
    "hl = Dense(128, activation='relu')(hl)\n",
    "ol = Dense(10, activation='softmax')(hl)\n",
    "\n",
    "# 3 모델 시작 끝 지정\n",
    "model = Model(il, ol)\n",
    "\n",
    "# 4 컴파일\n",
    "model.compile(loss=keras.losses.categorical_crossentropy, metrics=['accuracy'],\n",
    "              optimizer='adam')\n",
    "\n",
    "# 요약\n",
    "model.summary()"
   ],
   "execution_count": 27,
   "outputs": [
    {
     "output_type": "stream",
     "name": "stdout",
     "text": [
      "Model: \"model\"\n",
      "_________________________________________________________________\n",
      " Layer (type)                Output Shape              Param #   \n",
      "=================================================================\n",
      " input_1 (InputLayer)        [(None, 32, 32, 3)]       0         \n",
      "                                                                 \n",
      " flatten (Flatten)           (None, 3072)              0         \n",
      "                                                                 \n",
      " dense (Dense)               (None, 512)               1573376   \n",
      "                                                                 \n",
      " dense_1 (Dense)             (None, 512)               262656    \n",
      "                                                                 \n",
      " dense_2 (Dense)             (None, 256)               131328    \n",
      "                                                                 \n",
      " dense_3 (Dense)             (None, 128)               32896     \n",
      "                                                                 \n",
      " dense_4 (Dense)             (None, 10)                1290      \n",
      "                                                                 \n",
      "=================================================================\n",
      "Total params: 2,001,546\n",
      "Trainable params: 2,001,546\n",
      "Non-trainable params: 0\n",
      "_________________________________________________________________\n"
     ]
    }
   ]
  },
  {
   "cell_type": "code",
   "metadata": {
    "id": "94brYg2lXPwO",
    "executionInfo": {
     "status": "ok",
     "timestamp": 1663228868579,
     "user_tz": -540,
     "elapsed": 545,
     "user": {
      "displayName": "김건영",
      "userId": "04338252548733078915"
     }
    },
    "pycharm": {
     "name": "#%%\n"
    }
   },
   "source": [
    "#############\n",
    "# Your Code # Early Stopping\n",
    "#############\n",
    "from tensorflow.keras.callbacks import EarlyStopping"
   ],
   "execution_count": 28,
   "outputs": []
  },
  {
   "cell_type": "code",
   "source": [
    "es = EarlyStopping(monitor='val_loss',\n",
    "                   min_delta=0,\n",
    "                   patience=5,\n",
    "                   verbose=1,\n",
    "                   restore_best_weights=True)"
   ],
   "metadata": {
    "id": "SNmVh_kmKnCQ",
    "executionInfo": {
     "status": "ok",
     "timestamp": 1663228904828,
     "user_tz": -540,
     "elapsed": 561,
     "user": {
      "displayName": "김건영",
      "userId": "04338252548733078915"
     }
    },
    "pycharm": {
     "name": "#%%\n"
    }
   },
   "execution_count": 29,
   "outputs": []
  },
  {
   "cell_type": "code",
   "metadata": {
    "id": "CBr9O24_JGPT",
    "colab": {
     "base_uri": "https://localhost:8080/"
    },
    "executionInfo": {
     "status": "ok",
     "timestamp": 1663229031498,
     "user_tz": -540,
     "elapsed": 94207,
     "user": {
      "displayName": "김건영",
      "userId": "04338252548733078915"
     }
    },
    "outputId": "97cda26a-4739-4211-d401-5bb972a60a4e",
    "pycharm": {
     "name": "#%%\n"
    }
   },
   "source": [
    "#############\n",
    "# Your Code #\n",
    "#############\n",
    "history = model.fit(train_x, train_y, validation_split=0.2, callbacks=[es],\n",
    "                    epochs=50, verbose=1)"
   ],
   "execution_count": 30,
   "outputs": [
    {
     "output_type": "stream",
     "name": "stdout",
     "text": [
      "Epoch 1/50\n",
      "1250/1250 [==============================] - 8s 4ms/step - loss: 1.8954 - accuracy: 0.3068 - val_loss: 1.7791 - val_accuracy: 0.3689\n",
      "Epoch 2/50\n",
      "1250/1250 [==============================] - 5s 4ms/step - loss: 1.7122 - accuracy: 0.3835 - val_loss: 1.6731 - val_accuracy: 0.3990\n",
      "Epoch 3/50\n",
      "1250/1250 [==============================] - 4s 4ms/step - loss: 1.6294 - accuracy: 0.4150 - val_loss: 1.6289 - val_accuracy: 0.4230\n",
      "Epoch 4/50\n",
      "1250/1250 [==============================] - 4s 4ms/step - loss: 1.5781 - accuracy: 0.4341 - val_loss: 1.6042 - val_accuracy: 0.4247\n",
      "Epoch 5/50\n",
      "1250/1250 [==============================] - 4s 4ms/step - loss: 1.5358 - accuracy: 0.4514 - val_loss: 1.5767 - val_accuracy: 0.4357\n",
      "Epoch 6/50\n",
      "1250/1250 [==============================] - 4s 3ms/step - loss: 1.5003 - accuracy: 0.4578 - val_loss: 1.5834 - val_accuracy: 0.4375\n",
      "Epoch 7/50\n",
      "1250/1250 [==============================] - 5s 4ms/step - loss: 1.4730 - accuracy: 0.4729 - val_loss: 1.5741 - val_accuracy: 0.4444\n",
      "Epoch 8/50\n",
      "1250/1250 [==============================] - 5s 4ms/step - loss: 1.4443 - accuracy: 0.4800 - val_loss: 1.5227 - val_accuracy: 0.4614\n",
      "Epoch 9/50\n",
      "1250/1250 [==============================] - 4s 3ms/step - loss: 1.4114 - accuracy: 0.4917 - val_loss: 1.5329 - val_accuracy: 0.4549\n",
      "Epoch 10/50\n",
      "1250/1250 [==============================] - 4s 4ms/step - loss: 1.3891 - accuracy: 0.4990 - val_loss: 1.5137 - val_accuracy: 0.4632\n",
      "Epoch 11/50\n",
      "1250/1250 [==============================] - 5s 4ms/step - loss: 1.3604 - accuracy: 0.5104 - val_loss: 1.5236 - val_accuracy: 0.4672\n",
      "Epoch 12/50\n",
      "1250/1250 [==============================] - 5s 4ms/step - loss: 1.3391 - accuracy: 0.5159 - val_loss: 1.5379 - val_accuracy: 0.4608\n",
      "Epoch 13/50\n",
      "1250/1250 [==============================] - 4s 4ms/step - loss: 1.3141 - accuracy: 0.5271 - val_loss: 1.5150 - val_accuracy: 0.4692\n",
      "Epoch 14/50\n",
      "1250/1250 [==============================] - 5s 4ms/step - loss: 1.2920 - accuracy: 0.5346 - val_loss: 1.5088 - val_accuracy: 0.4811\n",
      "Epoch 15/50\n",
      "1250/1250 [==============================] - 5s 4ms/step - loss: 1.2613 - accuracy: 0.5447 - val_loss: 1.5612 - val_accuracy: 0.4607\n",
      "Epoch 16/50\n",
      "1250/1250 [==============================] - 4s 4ms/step - loss: 1.2401 - accuracy: 0.5490 - val_loss: 1.5123 - val_accuracy: 0.4793\n",
      "Epoch 17/50\n",
      "1250/1250 [==============================] - 5s 4ms/step - loss: 1.2172 - accuracy: 0.5614 - val_loss: 1.5148 - val_accuracy: 0.4852\n",
      "Epoch 18/50\n",
      "1250/1250 [==============================] - 4s 4ms/step - loss: 1.1857 - accuracy: 0.5686 - val_loss: 1.5452 - val_accuracy: 0.4771\n",
      "Epoch 19/50\n",
      "1248/1250 [============================>.] - ETA: 0s - loss: 1.1698 - accuracy: 0.5735Restoring model weights from the end of the best epoch: 14.\n",
      "1250/1250 [==============================] - 5s 4ms/step - loss: 1.1695 - accuracy: 0.5736 - val_loss: 1.6445 - val_accuracy: 0.4632\n",
      "Epoch 19: early stopping\n"
     ]
    }
   ]
  },
  {
   "cell_type": "markdown",
   "metadata": {
    "id": "AakFAYG8XlCh",
    "pycharm": {
     "name": "#%% md\n"
    }
   },
   "source": [
    "\n",
    "\n",
    "---\n",
    "\n"
   ]
  },
  {
   "cell_type": "code",
   "metadata": {
    "id": "HEFalxVhJrvu",
    "colab": {
     "base_uri": "https://localhost:8080/"
    },
    "executionInfo": {
     "status": "ok",
     "timestamp": 1663229084481,
     "user_tz": -540,
     "elapsed": 1461,
     "user": {
      "displayName": "김건영",
      "userId": "04338252548733078915"
     }
    },
    "outputId": "5dec5a38-2903-4b8e-90ac-1e06eb52ad5e",
    "pycharm": {
     "name": "#%%\n"
    }
   },
   "source": [
    "performance_test = model.evaluate(test_x, test_y)\n",
    "\n",
    "print('Test Loss : {:.6f},  Test Accuracy : {:.3f}%'.format(performance_test[0], performance_test[1]*100))"
   ],
   "execution_count": 32,
   "outputs": [
    {
     "output_type": "stream",
     "name": "stdout",
     "text": [
      "313/313 [==============================] - 1s 3ms/step - loss: 1.4881 - accuracy: 0.4862\n",
      "Test Loss : 1.488087,  Test Accuracy : 48.620%\n"
     ]
    }
   ]
  },
  {
   "cell_type": "code",
   "metadata": {
    "id": "E3pexEleJryC",
    "colab": {
     "base_uri": "https://localhost:8080/",
     "height": 294
    },
    "executionInfo": {
     "status": "ok",
     "timestamp": 1663229096117,
     "user_tz": -540,
     "elapsed": 859,
     "user": {
      "displayName": "김건영",
      "userId": "04338252548733078915"
     }
    },
    "outputId": "31276c89-74f8-4492-c21b-18afa17e493d",
    "pycharm": {
     "name": "#%%\n"
    }
   },
   "source": [
    "if not isinstance(history, dict):\n",
    "    history = history.history\n",
    "\n",
    "plt.plot(history['accuracy'])\n",
    "plt.plot(history['val_accuracy'])\n",
    "plt.title('Accuracy : Training vs Validation')\n",
    "plt.ylabel('Accuracy')\n",
    "plt.xlabel('Epoch')\n",
    "plt.legend(['Training', 'Validation'], loc=0)\n",
    "plt.show()"
   ],
   "execution_count": 33,
   "outputs": [
    {
     "output_type": "display_data",
     "data": {
      "text/plain": [
       "<Figure size 432x288 with 1 Axes>"
      ],
      "image/png": "[encoded data removed]"
     },
     "metadata": {
      "image/png": {
       "width": 392,
       "height": 277
      },
      "needs_background": "light"
     }
    }
   ]
  },
  {
   "cell_type": "code",
   "metadata": {
    "id": "btFU0ZYtNkvf",
    "colab": {
     "base_uri": "https://localhost:8080/",
     "height": 294
    },
    "executionInfo": {
     "status": "ok",
     "timestamp": 1663229097039,
     "user_tz": -540,
     "elapsed": 4,
     "user": {
      "displayName": "김건영",
      "userId": "04338252548733078915"
     }
    },
    "outputId": "cc0ea592-368e-46bc-a19b-c1f538d774c3",
    "pycharm": {
     "name": "#%%\n"
    }
   },
   "source": [
    "if not isinstance(history, dict):\n",
    "    history = history.history\n",
    "\n",
    "plt.plot(history['loss'])\n",
    "plt.plot(history['val_loss'])\n",
    "plt.title('Loss : Training vs Validation')\n",
    "plt.ylabel('Loss')\n",
    "plt.xlabel('Epoch')\n",
    "plt.legend(['Training', 'Validation'], loc=0)\n",
    "plt.show()"
   ],
   "execution_count": 34,
   "outputs": [
    {
     "output_type": "display_data",
     "data": {
      "text/plain": [
       "<Figure size 432x288 with 1 Axes>"
      ],
      "image/png": "[encoded data removed]"
     },
     "metadata": {
      "image/png": {
       "width": 385,
       "height": 277
      },
      "needs_background": "light"
     }
    }
   ]
  },
  {
   "cell_type": "code",
   "metadata": {
    "id": "qc3Ap5q_bNgN",
    "colab": {
     "base_uri": "https://localhost:8080/"
    },
    "executionInfo": {
     "status": "ok",
     "timestamp": 1663229148857,
     "user_tz": -540,
     "elapsed": 5009,
     "user": {
      "displayName": "김건영",
      "userId": "04338252548733078915"
     }
    },
    "outputId": "dfbbfee8-4bca-409b-c163-63de4fd71b51",
    "pycharm": {
     "name": "#%%\n"
    }
   },
   "source": [
    "pred_train = model.predict(train_x)\n",
    "pred_test = model.predict(test_x)\n",
    "\n",
    "single_pred_train = pred_train.argmax(axis=1)\n",
    "single_pred_test = pred_test.argmax(axis=1)\n",
    "\n",
    "logi_train_accuracy = accuracy_score(train_y.argmax(axis=1), single_pred_train)\n",
    "logi_test_accuracy = accuracy_score(test_y.argmax(axis=1), single_pred_test)\n",
    "\n",
    "\n",
    "print('트레이닝 정확도 : {:.2f}%'.format(logi_train_accuracy*100))\n",
    "print('테스트 정확도 : {:.2f}%'.format(logi_test_accuracy*100))"
   ],
   "execution_count": 35,
   "outputs": [
    {
     "output_type": "stream",
     "name": "stdout",
     "text": [
      "트레이닝 정확도 : 54.70%\n",
      "테스트 정확도 : 48.62%\n"
     ]
    }
   ]
  },
  {
   "cell_type": "code",
   "metadata": {
    "id": "4D5LN9iNR3aW",
    "colab": {
     "base_uri": "https://localhost:8080/",
     "height": 375
    },
    "executionInfo": {
     "status": "ok",
     "timestamp": 1663229237346,
     "user_tz": -540,
     "elapsed": 746,
     "user": {
      "displayName": "김건영",
      "userId": "04338252548733078915"
     }
    },
    "outputId": "5b593b72-04ce-4a19-83d1-ee7e9bf2254c",
    "pycharm": {
     "name": "#%%\n"
    }
   },
   "source": [
    "'''\n",
    "성능 확인을 위해\n",
    "Ctrl+Enter를 이용하여\n",
    "반복 실행 해보자!\n",
    "'''\n",
    "\n",
    "id = rd.randrange(0,10000)\n",
    "\n",
    "print('id = {}'.format(id))\n",
    "print('다음 그림은 {} 입니다.'.format(labels[test_y.argmax(axis=1)[id]] ))\n",
    "print('모델의 예측 : {}'.format(labels[single_pred_test[id]] ))\n",
    "\n",
    "prob = np.floor(pred_test[id]*100).tolist()\n",
    "prob_dict = {}\n",
    "\n",
    "for idx, prob in enumerate(prob) :\n",
    "    prob_dict[ labels[idx] ] = prob\n",
    "\n",
    "print('모델의 카테고리별 확률 : ')\n",
    "print(prob_dict)\n",
    "\n",
    "if test_y.argmax(axis=1)[id] == single_pred_test[id] :\n",
    "    print('정답입니다')\n",
    "else : \n",
    "    print('틀렸어요')\n",
    "    \n",
    "plt.imshow(test_x[id].reshape([32,32,-1]))\n",
    "plt.show()"
   ],
   "execution_count": 41,
   "outputs": [
    {
     "output_type": "stream",
     "name": "stdout",
     "text": [
      "id = 9505\n",
      "다음 그림은 Cat 입니다.\n",
      "모델의 예측 : Horse\n",
      "모델의 카테고리별 확률 : \n",
      "{'Airplane': 1.0, 'Automobile': 0.0, 'Bird': 11.0, 'Cat': 6.0, 'Deer': 19.0, 'Dog': 14.0, 'Frog': 4.0, 'Horse': 38.0, 'Ship': 0.0, 'Truck': 2.0}\n",
      "틀렸어요\n"
     ]
    },
    {
     "output_type": "display_data",
     "data": {
      "text/plain": [
       "<Figure size 432x288 with 1 Axes>"
      ],
      "image/png": "[encoded data removed]"
     },
     "metadata": {
      "image/png": {
       "width": 251,
       "height": 248
      },
      "needs_background": "light"
     }
    }
   ]
  },
  {
   "cell_type": "code",
   "metadata": {
    "id": "moXMYdwatMvp",
    "pycharm": {
     "name": "#%%\n"
    }
   },
   "source": [],
   "execution_count": null,
   "outputs": []
  }
 ]
}