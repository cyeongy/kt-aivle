{
 "nbformat": 4,
 "nbformat_minor": 0,
 "metadata": {
  "colab": {
   "provenance": [],
   "collapsed_sections": []
  },
  "kernelspec": {
   "name": "python3",
   "display_name": "Python 3"
  }
 },
 "cells": [
  {
   "cell_type": "markdown",
   "metadata": {
    "id": "UdrP_vI3QcNd",
    "pycharm": {
     "name": "#%% md\n"
    }
   },
   "source": [
    "# ANN & MNIST"
   ]
  },
  {
   "cell_type": "markdown",
   "source": [
    "## 라이브러리 불러오기"
   ],
   "metadata": {
    "id": "QEyK7WODzFZA",
    "pycharm": {
     "name": "#%% md\n"
    }
   }
  },
  {
   "cell_type": "code",
   "metadata": {
    "id": "2At3z2IdQew-",
    "executionInfo": {
     "status": "ok",
     "timestamp": 1663140811409,
     "user_tz": -540,
     "elapsed": 3620,
     "user": {
      "displayName": "김건영",
      "userId": "04338252548733078915"
     }
    },
    "pycharm": {
     "name": "#%%\n"
    }
   },
   "source": [
    "import tensorflow as tf\n",
    "from tensorflow import keras\n",
    "\n",
    "import numpy as np\n",
    "import pandas as pd\n",
    "import matplotlib.pyplot as plt\n",
    "\n",
    "import random as rd\n",
    "\n",
    "from sklearn.metrics import accuracy_score"
   ],
   "execution_count": 1,
   "outputs": []
  },
  {
   "cell_type": "markdown",
   "metadata": {
    "id": "F7A8vUrQRpPd",
    "pycharm": {
     "name": "#%% md\n"
    }
   },
   "source": [
    "## 데이터 불러오기"
   ]
  },
  {
   "cell_type": "code",
   "metadata": {
    "id": "gBQdcFgkRiv-",
    "colab": {
     "base_uri": "https://localhost:8080/"
    },
    "executionInfo": {
     "status": "ok",
     "timestamp": 1663140883796,
     "user_tz": -540,
     "elapsed": 827,
     "user": {
      "displayName": "김건영",
      "userId": "04338252548733078915"
     }
    },
    "outputId": "7cc10975-7e77-415b-bd74-093a2d8f7fe7",
    "pycharm": {
     "name": "#%%\n"
    }
   },
   "source": [
    "(train_x, train_y), (test_x, test_y) = tf.keras.datasets.mnist.load_data()"
   ],
   "execution_count": 2,
   "outputs": [
    {
     "output_type": "stream",
     "name": "stdout",
     "text": [
      "Downloading data from https://storage.googleapis.com/tensorflow/tf-keras-datasets/mnist.npz\n",
      "11493376/11490434 [==============================] - 0s 0us/step\n",
      "11501568/11490434 [==============================] - 0s 0us/step\n"
     ]
    }
   ]
  },
  {
   "cell_type": "code",
   "metadata": {
    "id": "_GKNGA5qRnf-",
    "colab": {
     "base_uri": "https://localhost:8080/"
    },
    "executionInfo": {
     "status": "ok",
     "timestamp": 1663140887954,
     "user_tz": -540,
     "elapsed": 344,
     "user": {
      "displayName": "김건영",
      "userId": "04338252548733078915"
     }
    },
    "outputId": "c84c6638-eb31-47f6-e3fe-60fb2f7ccf80",
    "pycharm": {
     "name": "#%%\n"
    }
   },
   "source": [
    "train_x.shape, train_y.shape, test_x.shape, test_y.shape"
   ],
   "execution_count": 3,
   "outputs": [
    {
     "output_type": "execute_result",
     "data": {
      "text/plain": [
       "((60000, 28, 28), (60000,), (10000, 28, 28), (10000,))"
      ]
     },
     "metadata": {},
     "execution_count": 3
    }
   ]
  },
  {
   "cell_type": "code",
   "metadata": {
    "id": "-rOBjv_HMZT9",
    "colab": {
     "base_uri": "https://localhost:8080/"
    },
    "executionInfo": {
     "status": "ok",
     "timestamp": 1663141077152,
     "user_tz": -540,
     "elapsed": 343,
     "user": {
      "displayName": "김건영",
      "userId": "04338252548733078915"
     }
    },
    "outputId": "83864412-3c10-4659-d76b-6713f3c51936",
    "pycharm": {
     "name": "#%%\n"
    }
   },
   "source": [
    "train_x[0]"
   ],
   "execution_count": 6,
   "outputs": [
    {
     "output_type": "execute_result",
     "data": {
      "text/plain": [
       "(28, 28)"
      ]
     },
     "metadata": {},
     "execution_count": 6
    }
   ]
  },
  {
   "cell_type": "code",
   "metadata": {
    "id": "qW4ZeZcNRouf",
    "colab": {
     "base_uri": "https://localhost:8080/",
     "height": 302
    },
    "executionInfo": {
     "status": "ok",
     "timestamp": 1663141155675,
     "user_tz": -540,
     "elapsed": 4,
     "user": {
      "displayName": "김건영",
      "userId": "04338252548733078915"
     }
    },
    "outputId": "6e92dcdf-1433-4053-ed82-d11e2b9ac4ab",
    "pycharm": {
     "name": "#%%\n"
    }
   },
   "source": [
    "'''\n",
    "Ctrl+Enter를 이용하여\n",
    "반복 실행 해보자!\n",
    "'''\n",
    "\n",
    "id = rd.randrange(0,10000)\n",
    "# id = 0\n",
    "\n",
    "print(f'id = {id}')\n",
    "print(f'다음 그림은 숫자 {train_y[id]} 입니다.')\n",
    "\n",
    "plt.imshow(train_x[id], cmap='gray')\n",
    "plt.show()"
   ],
   "execution_count": 23,
   "outputs": [
    {
     "output_type": "stream",
     "name": "stdout",
     "text": [
      "id = 4955\n",
      "다음 그림은 숫자 2 입니다.\n"
     ]
    },
    {
     "output_type": "display_data",
     "data": {
      "text/plain": [
       "<Figure size 432x288 with 1 Axes>"
      ],
      "image/png": "[encoded data removed]"
     },
     "metadata": {
      "needs_background": "light"
     }
    }
   ]
  },
  {
   "cell_type": "markdown",
   "source": [
    "## 데이터 전처리"
   ],
   "metadata": {
    "id": "UcckuQyK2Hj9",
    "pycharm": {
     "name": "#%% md\n"
    }
   }
  },
  {
   "cell_type": "markdown",
   "source": [
    "* reshape"
   ],
   "metadata": {
    "id": "IrZCdbKY3UKp",
    "pycharm": {
     "name": "#%% md\n"
    }
   }
  },
  {
   "cell_type": "code",
   "source": [
    "train_x.shape"
   ],
   "metadata": {
    "id": "4sJup7hP3GPA",
    "colab": {
     "base_uri": "https://localhost:8080/"
    },
    "executionInfo": {
     "status": "ok",
     "timestamp": 1663141202426,
     "user_tz": -540,
     "elapsed": 483,
     "user": {
      "displayName": "김건영",
      "userId": "04338252548733078915"
     }
    },
    "outputId": "c35eb7da-36ab-462e-feb6-d784723a9056",
    "pycharm": {
     "name": "#%%\n"
    }
   },
   "execution_count": 24,
   "outputs": [
    {
     "output_type": "execute_result",
     "data": {
      "text/plain": [
       "(60000, 28, 28)"
      ]
     },
     "metadata": {},
     "execution_count": 24
    }
   ]
  },
  {
   "cell_type": "code",
   "metadata": {
    "id": "m3itgyE_RxbO",
    "executionInfo": {
     "status": "ok",
     "timestamp": 1663141250329,
     "user_tz": -540,
     "elapsed": 532,
     "user": {
      "displayName": "김건영",
      "userId": "04338252548733078915"
     }
    },
    "pycharm": {
     "name": "#%%\n"
    }
   },
   "source": [
    "train_x = train_x.reshape([train_x.shape[0],-1])\n",
    "test_x = test_x.reshape([test_x.shape[0],-1])"
   ],
   "execution_count": 25,
   "outputs": []
  },
  {
   "cell_type": "code",
   "source": [
    "train_x.shape"
   ],
   "metadata": {
    "id": "2Vuxttua3RHh",
    "colab": {
     "base_uri": "https://localhost:8080/"
    },
    "executionInfo": {
     "status": "ok",
     "timestamp": 1663141252088,
     "user_tz": -540,
     "elapsed": 2,
     "user": {
      "displayName": "김건영",
      "userId": "04338252548733078915"
     }
    },
    "outputId": "74ee6fa2-9098-434c-94f6-95ed9820d50f",
    "pycharm": {
     "name": "#%%\n"
    }
   },
   "execution_count": 26,
   "outputs": [
    {
     "output_type": "execute_result",
     "data": {
      "text/plain": [
       "(60000, 784)"
      ]
     },
     "metadata": {},
     "execution_count": 26
    }
   ]
  },
  {
   "cell_type": "markdown",
   "source": [
    "* min-max scaling"
   ],
   "metadata": {
    "id": "EWhadGmn3dWI",
    "pycharm": {
     "name": "#%% md\n"
    }
   }
  },
  {
   "cell_type": "code",
   "metadata": {
    "id": "cWL_no_LR3U8",
    "colab": {
     "base_uri": "https://localhost:8080/"
    },
    "executionInfo": {
     "status": "ok",
     "timestamp": 1663141339889,
     "user_tz": -540,
     "elapsed": 442,
     "user": {
      "displayName": "김건영",
      "userId": "04338252548733078915"
     }
    },
    "outputId": "55ffaed6-2bba-43b6-acb9-a86e76ab0f09",
    "pycharm": {
     "name": "#%%\n"
    }
   },
   "source": [
    "print(f'max : {train_x.max()} / min : {train_x.min()}')"
   ],
   "execution_count": 27,
   "outputs": [
    {
     "output_type": "stream",
     "name": "stdout",
     "text": [
      "max : 255 / min : 0\n"
     ]
    }
   ]
  },
  {
   "cell_type": "code",
   "metadata": {
    "id": "3An_EZn0R4wM",
    "pycharm": {
     "name": "#%%\n"
    }
   },
   "source": [
    "# max_num = train_x.max()\n",
    "\n",
    "# train_x = train_x/max_num\n",
    "# test_x = test_x/max_num"
   ],
   "execution_count": null,
   "outputs": []
  },
  {
   "cell_type": "code",
   "source": [
    "max_n, min_n = train_x.max(), train_x.min()\n",
    "\n",
    "max_n, min_n"
   ],
   "metadata": {
    "colab": {
     "base_uri": "https://localhost:8080/"
    },
    "id": "Q81i3fcx8tI2",
    "executionInfo": {
     "status": "ok",
     "timestamp": 1663141394725,
     "user_tz": -540,
     "elapsed": 309,
     "user": {
      "displayName": "김건영",
      "userId": "04338252548733078915"
     }
    },
    "outputId": "1b5b2227-29fb-493d-91c6-c1b790753c99",
    "pycharm": {
     "name": "#%%\n"
    }
   },
   "execution_count": 29,
   "outputs": [
    {
     "output_type": "execute_result",
     "data": {
      "text/plain": [
       "(255, 0)"
      ]
     },
     "metadata": {},
     "execution_count": 29
    }
   ]
  },
  {
   "cell_type": "code",
   "source": [
    "train_x = (train_x - min_n) / (max_n - min_n)\n",
    "test_x = (test_x - min_n) / (max_n - min_n)"
   ],
   "metadata": {
    "id": "epD7MG0D87Yv",
    "executionInfo": {
     "status": "ok",
     "timestamp": 1663141463228,
     "user_tz": -540,
     "elapsed": 282,
     "user": {
      "displayName": "김건영",
      "userId": "04338252548733078915"
     }
    },
    "pycharm": {
     "name": "#%%\n"
    }
   },
   "execution_count": 30,
   "outputs": []
  },
  {
   "cell_type": "code",
   "source": [
    "print(f'max : {train_x.max()} / min : {train_x.min()}')"
   ],
   "metadata": {
    "id": "CHkomLIy07Cd",
    "colab": {
     "base_uri": "https://localhost:8080/"
    },
    "executionInfo": {
     "status": "ok",
     "timestamp": 1663141465175,
     "user_tz": -540,
     "elapsed": 762,
     "user": {
      "displayName": "김건영",
      "userId": "04338252548733078915"
     }
    },
    "outputId": "10c1f8b5-631a-4934-f78e-1f57a8d1c21a",
    "pycharm": {
     "name": "#%%\n"
    }
   },
   "execution_count": 31,
   "outputs": [
    {
     "output_type": "stream",
     "name": "stdout",
     "text": [
      "max : 1.0 / min : 0.0\n"
     ]
    }
   ]
  },
  {
   "cell_type": "markdown",
   "source": [
    "* target feature : One-hot Encoding"
   ],
   "metadata": {
    "id": "vAAvHQol3jKy",
    "pycharm": {
     "name": "#%% md\n"
    }
   }
  },
  {
   "cell_type": "code",
   "source": [
    "train_y.shape"
   ],
   "metadata": {
    "colab": {
     "base_uri": "https://localhost:8080/"
    },
    "id": "sF_HFbyc9Qkd",
    "executionInfo": {
     "status": "ok",
     "timestamp": 1663141485590,
     "user_tz": -540,
     "elapsed": 274,
     "user": {
      "displayName": "김건영",
      "userId": "04338252548733078915"
     }
    },
    "outputId": "2187793f-2059-4fbc-8b1a-db0dec636f0f",
    "pycharm": {
     "name": "#%%\n"
    }
   },
   "execution_count": 32,
   "outputs": [
    {
     "output_type": "execute_result",
     "data": {
      "text/plain": [
       "(60000,)"
      ]
     },
     "metadata": {},
     "execution_count": 32
    }
   ]
  },
  {
   "cell_type": "code",
   "metadata": {
    "id": "gNZ25pdaQoVr",
    "executionInfo": {
     "status": "ok",
     "timestamp": 1663141510265,
     "user_tz": -540,
     "elapsed": 862,
     "user": {
      "displayName": "김건영",
      "userId": "04338252548733078915"
     }
    },
    "pycharm": {
     "name": "#%%\n"
    }
   },
   "source": [
    "from tensorflow.keras.utils import to_categorical"
   ],
   "execution_count": 33,
   "outputs": []
  },
  {
   "cell_type": "code",
   "source": [
    "set(train_y)"
   ],
   "metadata": {
    "id": "x9BJuZrEEKs7",
    "colab": {
     "base_uri": "https://localhost:8080/"
    },
    "executionInfo": {
     "status": "ok",
     "timestamp": 1663141513033,
     "user_tz": -540,
     "elapsed": 281,
     "user": {
      "displayName": "김건영",
      "userId": "04338252548733078915"
     }
    },
    "outputId": "a05c5bdc-6beb-4262-b315-d4dd0238301e",
    "pycharm": {
     "name": "#%%\n"
    }
   },
   "execution_count": 34,
   "outputs": [
    {
     "output_type": "execute_result",
     "data": {
      "text/plain": [
       "{0, 1, 2, 3, 4, 5, 6, 7, 8, 9}"
      ]
     },
     "metadata": {},
     "execution_count": 34
    }
   ]
  },
  {
   "cell_type": "code",
   "source": [
    "len_y = len(set(train_y))\n",
    "\n",
    "len_y"
   ],
   "metadata": {
    "id": "Ng7pbGLMEkQW",
    "colab": {
     "base_uri": "https://localhost:8080/"
    },
    "executionInfo": {
     "status": "ok",
     "timestamp": 1663141528403,
     "user_tz": -540,
     "elapsed": 278,
     "user": {
      "displayName": "김건영",
      "userId": "04338252548733078915"
     }
    },
    "outputId": "db65ca2a-619c-4572-b6ce-58ee7caabe04",
    "pycharm": {
     "name": "#%%\n"
    }
   },
   "execution_count": 35,
   "outputs": [
    {
     "output_type": "execute_result",
     "data": {
      "text/plain": [
       "10"
      ]
     },
     "metadata": {},
     "execution_count": 35
    }
   ]
  },
  {
   "cell_type": "code",
   "metadata": {
    "id": "gNs8-ZziR50H",
    "executionInfo": {
     "status": "ok",
     "timestamp": 1663141540959,
     "user_tz": -540,
     "elapsed": 727,
     "user": {
      "displayName": "김건영",
      "userId": "04338252548733078915"
     }
    },
    "pycharm": {
     "name": "#%%\n"
    }
   },
   "source": [
    "train_y = to_categorical(train_y, len_y)\n",
    "test_y = to_categorical(test_y, len_y)"
   ],
   "execution_count": 36,
   "outputs": []
  },
  {
   "cell_type": "code",
   "metadata": {
    "id": "R0wVmwf-SGDE",
    "colab": {
     "base_uri": "https://localhost:8080/"
    },
    "executionInfo": {
     "status": "ok",
     "timestamp": 1663141541699,
     "user_tz": -540,
     "elapsed": 418,
     "user": {
      "displayName": "김건영",
      "userId": "04338252548733078915"
     }
    },
    "outputId": "9f86825e-51d6-4672-9eac-a631e4ea7ac1",
    "pycharm": {
     "name": "#%%\n"
    }
   },
   "source": [
    "train_y.shape"
   ],
   "execution_count": 37,
   "outputs": [
    {
     "output_type": "execute_result",
     "data": {
      "text/plain": [
       "(60000, 10)"
      ]
     },
     "metadata": {},
     "execution_count": 37
    }
   ]
  },
  {
   "cell_type": "markdown",
   "metadata": {
    "id": "mQ_FTTj7XAtC",
    "pycharm": {
     "name": "#%% md\n"
    }
   },
   "source": [
    "## 모델링 I\n",
    "\n",
    "1. Sequential, Functional 아무 것이나!\n",
    "2. 히든레이어 없이 epochs=50 으로 성능 관찰.\n",
    "3. activation, loss 설정\n",
    "4. Early Stopping"
   ]
  },
  {
   "cell_type": "code",
   "source": [
    "train_x.shape, train_y.shape"
   ],
   "metadata": {
    "id": "myxdMHv1Dgnb",
    "colab": {
     "base_uri": "https://localhost:8080/"
    },
    "executionInfo": {
     "status": "ok",
     "timestamp": 1663141652070,
     "user_tz": -540,
     "elapsed": 264,
     "user": {
      "displayName": "김건영",
      "userId": "04338252548733078915"
     }
    },
    "outputId": "b3e2cc56-af1b-4d50-b446-b6c69854ca8e",
    "pycharm": {
     "name": "#%%\n"
    }
   },
   "execution_count": 38,
   "outputs": [
    {
     "output_type": "execute_result",
     "data": {
      "text/plain": [
       "((60000, 784), (60000, 10))"
      ]
     },
     "metadata": {},
     "execution_count": 38
    }
   ]
  },
  {
   "cell_type": "code",
   "metadata": {
    "id": "rJRWUyZiR8_y",
    "executionInfo": {
     "status": "ok",
     "timestamp": 1663141742740,
     "user_tz": -540,
     "elapsed": 832,
     "user": {
      "displayName": "김건영",
      "userId": "04338252548733078915"
     }
    },
    "pycharm": {
     "name": "#%%\n"
    }
   },
   "source": [
    "### Sequential API\n",
    "# 1. 세션 클리어\n",
    "keras.backend.clear_session()\n",
    "\n",
    "# 2. 모델 선언 : Sequential()\n",
    "model = keras.models.Sequential()\n",
    "\n",
    "# 3. 레이어 조립 : .add()\n",
    "model.add( keras.layers.Input(shape=(784,)) )\n",
    "model.add( keras.layers.Dense(10, activation='softmax') )\n",
    "\n",
    "# 4. 컴파일\n",
    "model.compile(loss=keras.losses.categorical_crossentropy, metrics=['accuracy'],\n",
    "              optimizer=keras.optimizers.Adam(0.01) )"
   ],
   "execution_count": 39,
   "outputs": []
  },
  {
   "cell_type": "code",
   "metadata": {
    "id": "55TMUhUmTJxe",
    "executionInfo": {
     "status": "ok",
     "timestamp": 1663141830072,
     "user_tz": -540,
     "elapsed": 270,
     "user": {
      "displayName": "김건영",
      "userId": "04338252548733078915"
     }
    },
    "pycharm": {
     "name": "#%%\n"
    }
   },
   "source": [
    "### Functional API\n",
    "# 1. 세션 클리어\n",
    "keras.backend.clear_session()\n",
    "\n",
    "# 2. 레이어 사슬처럼 엮기\n",
    "il = keras.layers.Input(shape=(784,))\n",
    "ol = keras.layers.Dense(10, activation='softmax')(il)\n",
    "\n",
    "# 3. 모델의 시작과 끝 지정\n",
    "model = keras.models.Model(il, ol)\n",
    "\n",
    "# 4. 컴파일\n",
    "model.compile(loss=keras.losses.categorical_crossentropy, metrics=['accuracy'],\n",
    "              optimizer=keras.optimizers.Adam(0.01) )"
   ],
   "execution_count": 40,
   "outputs": []
  },
  {
   "cell_type": "markdown",
   "source": [
    "* Early Stopping"
   ],
   "metadata": {
    "id": "WXbb4-f5-of0",
    "pycharm": {
     "name": "#%% md\n"
    }
   }
  },
  {
   "cell_type": "code",
   "source": [
    "from tensorflow.keras.callbacks import EarlyStopping"
   ],
   "metadata": {
    "id": "n5sZxHNTGEh2",
    "executionInfo": {
     "status": "ok",
     "timestamp": 1663141898552,
     "user_tz": -540,
     "elapsed": 262,
     "user": {
      "displayName": "김건영",
      "userId": "04338252548733078915"
     }
    },
    "pycharm": {
     "name": "#%%\n"
    }
   },
   "execution_count": 41,
   "outputs": []
  },
  {
   "cell_type": "code",
   "source": [
    "es = EarlyStopping(monitor='val_loss', # 관측 대상\n",
    "                   min_delta=0,        # 최소한 나빠지지 않으면 괜찮아\n",
    "                   patience=5,         # 성능 개선되지 않는 걸 얼마나 참을래?\n",
    "                   verbose=1,\n",
    "                   restore_best_weights=True # 학습이 멈췄을 때, 최적의 가중치로 전환해줌\n",
    "                   )"
   ],
   "metadata": {
    "id": "B5Wmt1-4-2T8",
    "executionInfo": {
     "status": "ok",
     "timestamp": 1663142175917,
     "user_tz": -540,
     "elapsed": 284,
     "user": {
      "displayName": "김건영",
      "userId": "04338252548733078915"
     }
    },
    "pycharm": {
     "name": "#%%\n"
    }
   },
   "execution_count": 42,
   "outputs": []
  },
  {
   "cell_type": "code",
   "source": [
    "model.fit(train_x, train_y, epochs=50, verbose=1,\n",
    "          validation_split=0.2,    # Train data의 20%를 Validation data로!\n",
    "          callbacks=[es]           # Early Stopping 적용\n",
    "          )"
   ],
   "metadata": {
    "id": "4yTJF59UGQgx",
    "colab": {
     "base_uri": "https://localhost:8080/"
    },
    "executionInfo": {
     "status": "ok",
     "timestamp": 1663142202447,
     "user_tz": -540,
     "elapsed": 22537,
     "user": {
      "displayName": "김건영",
      "userId": "04338252548733078915"
     }
    },
    "outputId": "7d4b07b2-ca63-4b9d-e53c-4ef92e6a3fc1",
    "pycharm": {
     "name": "#%%\n"
    }
   },
   "execution_count": 43,
   "outputs": [
    {
     "output_type": "stream",
     "name": "stdout",
     "text": [
      "Epoch 1/50\n",
      "1500/1500 [==============================] - 4s 2ms/step - loss: 0.3788 - accuracy: 0.8932 - val_loss: 0.3230 - val_accuracy: 0.9134\n",
      "Epoch 2/50\n",
      "1500/1500 [==============================] - 3s 2ms/step - loss: 0.3414 - accuracy: 0.9072 - val_loss: 0.3114 - val_accuracy: 0.9193\n",
      "Epoch 3/50\n",
      "1500/1500 [==============================] - 3s 2ms/step - loss: 0.3352 - accuracy: 0.9123 - val_loss: 0.3490 - val_accuracy: 0.9091\n",
      "Epoch 4/50\n",
      "1500/1500 [==============================] - 3s 2ms/step - loss: 0.3290 - accuracy: 0.9115 - val_loss: 0.3427 - val_accuracy: 0.9098\n",
      "Epoch 5/50\n",
      "1500/1500 [==============================] - 3s 2ms/step - loss: 0.3228 - accuracy: 0.9143 - val_loss: 0.3799 - val_accuracy: 0.9050\n",
      "Epoch 6/50\n",
      "1500/1500 [==============================] - 3s 2ms/step - loss: 0.3210 - accuracy: 0.9150 - val_loss: 0.3571 - val_accuracy: 0.9102\n",
      "Epoch 7/50\n",
      "1472/1500 [============================>.] - ETA: 0s - loss: 0.3172 - accuracy: 0.9167Restoring model weights from the end of the best epoch: 2.\n",
      "1500/1500 [==============================] - 3s 2ms/step - loss: 0.3181 - accuracy: 0.9166 - val_loss: 0.3502 - val_accuracy: 0.9116\n",
      "Epoch 7: early stopping\n"
     ]
    },
    {
     "output_type": "execute_result",
     "data": {
      "text/plain": [
       "<keras.callbacks.History at 0x7f6cb30bb390>"
      ]
     },
     "metadata": {},
     "execution_count": 43
    }
   ]
  },
  {
   "cell_type": "code",
   "metadata": {
    "id": "3LZQpXA01gEE",
    "colab": {
     "base_uri": "https://localhost:8080/"
    },
    "executionInfo": {
     "status": "ok",
     "timestamp": 1663142329554,
     "user_tz": -540,
     "elapsed": 3801,
     "user": {
      "displayName": "김건영",
      "userId": "04338252548733078915"
     }
    },
    "outputId": "17b78cab-7566-4f6f-d225-d5ffa87828d8",
    "pycharm": {
     "name": "#%%\n"
    }
   },
   "source": [
    "pred_train = model.predict(train_x)\n",
    "pred_test = model.predict(test_x)\n",
    "\n",
    "single_pred_train = pred_train.argmax(axis=1)\n",
    "single_pred_test = pred_test.argmax(axis=1)\n",
    "\n",
    "logi_train_accuracy = accuracy_score(train_y.argmax(axis=1), single_pred_train)\n",
    "logi_test_accuracy = accuracy_score(test_y.argmax(axis=1), single_pred_test)\n",
    "\n",
    "print('트레이닝 정확도 : {:.2f}%'.format(logi_train_accuracy*100))\n",
    "print('테스트 정확도 : {:.2f}%'.format(logi_test_accuracy*100))"
   ],
   "execution_count": 45,
   "outputs": [
    {
     "output_type": "stream",
     "name": "stdout",
     "text": [
      "트레이닝 정확도 : 92.03%\n",
      "테스트 정확도 : 91.67%\n"
     ]
    }
   ]
  },
  {
   "cell_type": "code",
   "source": [
    "mnist_labels = ['0', '1', '2', '3', '4', '5', '6', '7', '8', '9']\n",
    "\n",
    "figure = plt.figure(figsize=(20, 10))\n",
    "\n",
    "for i, index in enumerate(np.random.choice(test_x.shape[0], size=15, replace=False)):\n",
    "    ax = figure.add_subplot(3, 5, i + 1, xticks=[], yticks=[])\n",
    "    # Display each image\n",
    "    ax.imshow(np.squeeze(test_x[index].reshape([28,-1])), cmap='gray' )\n",
    "    \n",
    "    predict_index = pred_test[index].argmax(axis=0)\n",
    "    true_index = test_y[index].argmax(axis=0)\n",
    "    # Set the title for each image\n",
    "    ax.set_title(f\"{mnist_labels[predict_index]} ({mnist_labels[true_index]})\",\n",
    "                 color=(\"green\" if predict_index == true_index else \"red\"))"
   ],
   "metadata": {
    "id": "qpc22yPV2ojZ",
    "colab": {
     "base_uri": "https://localhost:8080/",
     "height": 594
    },
    "executionInfo": {
     "status": "ok",
     "timestamp": 1663142385815,
     "user_tz": -540,
     "elapsed": 1481,
     "user": {
      "displayName": "김건영",
      "userId": "04338252548733078915"
     }
    },
    "outputId": "0a932e3d-042d-436b-cee3-c8bd570f14b0",
    "pycharm": {
     "name": "#%%\n"
    }
   },
   "execution_count": 48,
   "outputs": [
    {
     "output_type": "display_data",
     "data": {
      "text/plain": [
       "<Figure size 1440x720 with 15 Axes>"
      ],
      "image/png": "[encoded data removed]"
     },
     "metadata": {}
    }
   ]
  },
  {
   "cell_type": "code",
   "metadata": {
    "id": "LWYzgkHh1gEM",
    "colab": {
     "base_uri": "https://localhost:8080/",
     "height": 396
    },
    "executionInfo": {
     "status": "ok",
     "timestamp": 1663142494465,
     "user_tz": -540,
     "elapsed": 287,
     "user": {
      "displayName": "김건영",
      "userId": "04338252548733078915"
     }
    },
    "outputId": "b5ddcf26-6cd3-4345-b05d-c745e09ec11e",
    "pycharm": {
     "name": "#%%\n"
    }
   },
   "source": [
    "'''\n",
    "틀린 것만 관찰해보자!\n",
    "\n",
    "Ctrl+Enter를 이용하여\n",
    "반복 실행 해보자!\n",
    "'''\n",
    "\n",
    "true_false = (test_y.argmax(axis=1) == single_pred_test)\n",
    "f_id = np.where(true_false == False)[0]\n",
    "f_n = len(f_id)\n",
    "\n",
    "id = f_id[rd.randrange(0,f_n)]\n",
    "\n",
    "print(f'id = {id}' )\n",
    "print(f'다음 그림은 숫자 {test_y.argmax(axis=1)[id]} 입니다.')\n",
    "print(f'모델의 예측 : {single_pred_test[id]}')\n",
    "print(f'모델의 카테고리별 확률 : {np.floor(pred_test[id]*100)}')\n",
    "\n",
    "if test_y.argmax(axis=1)[id] == single_pred_test[id] :\n",
    "    print('===============')\n",
    "    print('정답입니다')\n",
    "    print('===============')\n",
    "else : \n",
    "    print('===============')\n",
    "    print('틀렸어요')\n",
    "    print('===============')\n",
    "\n",
    "plt.imshow(test_x[id].reshape([28,-1]), cmap='gray')\n",
    "plt.show()"
   ],
   "execution_count": 53,
   "outputs": [
    {
     "output_type": "stream",
     "name": "stdout",
     "text": [
      "id = 5495\n",
      "다음 그림은 숫자 8 입니다.\n",
      "모델의 예측 : 3\n",
      "모델의 카테고리별 확률 : [ 0.  0.  1. 51.  0.  2.  0.  3. 41.  0.]\n",
      "===============\n",
      "틀렸어요\n",
      "===============\n"
     ]
    },
    {
     "output_type": "display_data",
     "data": {
      "text/plain": [
       "<Figure size 432x288 with 1 Axes>"
      ],
      "image/png": "[encoded data removed]"
     },
     "metadata": {
      "needs_background": "light"
     }
    }
   ]
  },
  {
   "cell_type": "code",
   "source": [
    "model.evaluate(test_x, test_y)"
   ],
   "metadata": {
    "id": "NFpmX8rrP0T9",
    "colab": {
     "base_uri": "https://localhost:8080/"
    },
    "executionInfo": {
     "status": "ok",
     "timestamp": 1663142515992,
     "user_tz": -540,
     "elapsed": 1347,
     "user": {
      "displayName": "김건영",
      "userId": "04338252548733078915"
     }
    },
    "outputId": "debaabd2-238b-4cfd-e6f8-82212330fcfa",
    "pycharm": {
     "name": "#%%\n"
    }
   },
   "execution_count": 54,
   "outputs": [
    {
     "output_type": "stream",
     "name": "stdout",
     "text": [
      "313/313 [==============================] - 1s 3ms/step - loss: 0.3220 - accuracy: 0.9167\n"
     ]
    },
    {
     "output_type": "execute_result",
     "data": {
      "text/plain": [
       "[0.3219905197620392, 0.916700005531311]"
      ]
     },
     "metadata": {},
     "execution_count": 54
    }
   ]
  },
  {
   "cell_type": "markdown",
   "metadata": {
    "id": "Zf8Kd1vj4J_q",
    "pycharm": {
     "name": "#%% md\n"
    }
   },
   "source": [
    "\n",
    "\n",
    "---\n",
    "\n"
   ]
  },
  {
   "cell_type": "markdown",
   "metadata": {
    "id": "X0oixpzuOken",
    "pycharm": {
     "name": "#%% md\n"
    }
   },
   "source": [
    "## 모델링 II\n",
    "\n",
    "1. Sequential, Functional 아무 것이나!\n",
    "2. 히든레이어 3개 이상 쌓고, epochs=50 으로 성능 관찰.\n",
    "3. activation, loss 설정\n",
    "4. Early Stopping"
   ]
  },
  {
   "cell_type": "code",
   "source": [
    "train_x.shape, train_y.shape"
   ],
   "metadata": {
    "id": "1zsOvsgSOkeo",
    "colab": {
     "base_uri": "https://localhost:8080/"
    },
    "executionInfo": {
     "status": "ok",
     "timestamp": 1663142526890,
     "user_tz": -540,
     "elapsed": 301,
     "user": {
      "displayName": "김건영",
      "userId": "04338252548733078915"
     }
    },
    "outputId": "8e3275f2-aeb5-487f-d6c9-17c72b395cb3",
    "pycharm": {
     "name": "#%%\n"
    }
   },
   "execution_count": 55,
   "outputs": [
    {
     "output_type": "execute_result",
     "data": {
      "text/plain": [
       "((60000, 784), (60000, 10))"
      ]
     },
     "metadata": {},
     "execution_count": 55
    }
   ]
  },
  {
   "cell_type": "code",
   "metadata": {
    "id": "HjKAVo88Okeo",
    "colab": {
     "base_uri": "https://localhost:8080/"
    },
    "executionInfo": {
     "status": "ok",
     "timestamp": 1663142529045,
     "user_tz": -540,
     "elapsed": 386,
     "user": {
      "displayName": "김건영",
      "userId": "04338252548733078915"
     }
    },
    "outputId": "2ee0f8f4-33b2-4392-aa36-15cf101e72b7",
    "pycharm": {
     "name": "#%%\n"
    }
   },
   "source": [
    "keras.backend.clear_session()\n",
    "\n",
    "model = keras.models.Sequential()\n",
    "\n",
    "model.add(keras.layers.Input(shape=(train_x.shape[1])) )\n",
    "model.add(keras.layers.Dense(256, activation='relu') )\n",
    "model.add(keras.layers.Dense(256, activation='relu') )\n",
    "model.add(keras.layers.Dense(256, activation='relu') )\n",
    "model.add(keras.layers.Dense(10, activation='softmax') )\n",
    "\n",
    "model.compile(loss=keras.losses.categorical_crossentropy, metrics=['accuracy'],\n",
    "               optimizer='adam')\n",
    "\n",
    "model.summary()"
   ],
   "execution_count": 56,
   "outputs": [
    {
     "output_type": "stream",
     "name": "stdout",
     "text": [
      "Model: \"sequential\"\n",
      "_________________________________________________________________\n",
      " Layer (type)                Output Shape              Param #   \n",
      "=================================================================\n",
      " dense (Dense)               (None, 256)               200960    \n",
      "                                                                 \n",
      " dense_1 (Dense)             (None, 256)               65792     \n",
      "                                                                 \n",
      " dense_2 (Dense)             (None, 256)               65792     \n",
      "                                                                 \n",
      " dense_3 (Dense)             (None, 10)                2570      \n",
      "                                                                 \n",
      "=================================================================\n",
      "Total params: 335,114\n",
      "Trainable params: 335,114\n",
      "Non-trainable params: 0\n",
      "_________________________________________________________________\n"
     ]
    }
   ]
  },
  {
   "cell_type": "code",
   "metadata": {
    "id": "zRWyC8cfOkeo",
    "executionInfo": {
     "status": "ok",
     "timestamp": 1663142534467,
     "user_tz": -540,
     "elapsed": 272,
     "user": {
      "displayName": "김건영",
      "userId": "04338252548733078915"
     }
    },
    "pycharm": {
     "name": "#%%\n"
    }
   },
   "source": [
    "from tensorflow.keras.callbacks import EarlyStopping"
   ],
   "execution_count": 57,
   "outputs": []
  },
  {
   "cell_type": "code",
   "source": [
    "es = EarlyStopping(monitor='val_loss',\n",
    "                   min_delta=0,\n",
    "                   patience=5,\n",
    "                   verbose=1,\n",
    "                   restore_best_weights=True)"
   ],
   "metadata": {
    "id": "j47xDcCJOkeo",
    "executionInfo": {
     "status": "ok",
     "timestamp": 1663142535401,
     "user_tz": -540,
     "elapsed": 2,
     "user": {
      "displayName": "김건영",
      "userId": "04338252548733078915"
     }
    },
    "pycharm": {
     "name": "#%%\n"
    }
   },
   "execution_count": 58,
   "outputs": []
  },
  {
   "cell_type": "code",
   "source": [
    "model.fit(train_x, train_y, validation_split=0.2, callbacks=[es],\n",
    "          verbose=1, epochs=50)"
   ],
   "metadata": {
    "id": "FBYwoFxSOkep",
    "colab": {
     "base_uri": "https://localhost:8080/"
    },
    "executionInfo": {
     "status": "ok",
     "timestamp": 1663142610330,
     "user_tz": -540,
     "elapsed": 73743,
     "user": {
      "displayName": "김건영",
      "userId": "04338252548733078915"
     }
    },
    "outputId": "2ed2586d-1f80-40a6-b9a4-5578be8e28d7",
    "pycharm": {
     "name": "#%%\n"
    }
   },
   "execution_count": 59,
   "outputs": [
    {
     "output_type": "stream",
     "name": "stdout",
     "text": [
      "Epoch 1/50\n",
      "1500/1500 [==============================] - 12s 8ms/step - loss: 0.2270 - accuracy: 0.9308 - val_loss: 0.1115 - val_accuracy: 0.9679\n",
      "Epoch 2/50\n",
      "1500/1500 [==============================] - 10s 7ms/step - loss: 0.0985 - accuracy: 0.9696 - val_loss: 0.0989 - val_accuracy: 0.9697\n",
      "Epoch 3/50\n",
      "1500/1500 [==============================] - 8s 5ms/step - loss: 0.0706 - accuracy: 0.9779 - val_loss: 0.1247 - val_accuracy: 0.9647\n",
      "Epoch 4/50\n",
      "1500/1500 [==============================] - 8s 6ms/step - loss: 0.0531 - accuracy: 0.9834 - val_loss: 0.0927 - val_accuracy: 0.9738\n",
      "Epoch 5/50\n",
      "1500/1500 [==============================] - 8s 5ms/step - loss: 0.0435 - accuracy: 0.9865 - val_loss: 0.0983 - val_accuracy: 0.9728\n",
      "Epoch 6/50\n",
      "1500/1500 [==============================] - 7s 4ms/step - loss: 0.0389 - accuracy: 0.9877 - val_loss: 0.1086 - val_accuracy: 0.9708\n",
      "Epoch 7/50\n",
      "1500/1500 [==============================] - 7s 5ms/step - loss: 0.0318 - accuracy: 0.9899 - val_loss: 0.0957 - val_accuracy: 0.9768\n",
      "Epoch 8/50\n",
      "1500/1500 [==============================] - 7s 5ms/step - loss: 0.0288 - accuracy: 0.9911 - val_loss: 0.1053 - val_accuracy: 0.9753\n",
      "Epoch 9/50\n",
      "1492/1500 [============================>.] - ETA: 0s - loss: 0.0239 - accuracy: 0.9923Restoring model weights from the end of the best epoch: 4.\n",
      "1500/1500 [==============================] - 7s 5ms/step - loss: 0.0239 - accuracy: 0.9923 - val_loss: 0.1224 - val_accuracy: 0.9746\n",
      "Epoch 9: early stopping\n"
     ]
    },
    {
     "output_type": "execute_result",
     "data": {
      "text/plain": [
       "<keras.callbacks.History at 0x7f6cb2d20410>"
      ]
     },
     "metadata": {},
     "execution_count": 59
    }
   ]
  },
  {
   "cell_type": "code",
   "metadata": {
    "id": "RK1KSAYBOkep",
    "colab": {
     "base_uri": "https://localhost:8080/"
    },
    "executionInfo": {
     "status": "ok",
     "timestamp": 1663142865148,
     "user_tz": -540,
     "elapsed": 3650,
     "user": {
      "displayName": "김건영",
      "userId": "04338252548733078915"
     }
    },
    "outputId": "b2055abd-cafe-4fca-d16f-04bbb4657595",
    "pycharm": {
     "name": "#%%\n"
    }
   },
   "source": [
    "pred_train = model.predict(train_x)\n",
    "pred_test = model.predict(test_x)\n",
    "\n",
    "single_pred_train = pred_train.argmax(axis=1)\n",
    "single_pred_test = pred_test.argmax(axis=1)\n",
    "\n",
    "logi_train_accuracy = accuracy_score(train_y.argmax(axis=1), single_pred_train)\n",
    "logi_test_accuracy = accuracy_score(test_y.argmax(axis=1), single_pred_test)\n",
    "\n",
    "print('트레이닝 정확도 : {:.2f}%'.format(logi_train_accuracy*100))\n",
    "print('테스트 정확도 : {:.2f}%'.format(logi_test_accuracy*100))"
   ],
   "execution_count": 61,
   "outputs": [
    {
     "output_type": "stream",
     "name": "stdout",
     "text": [
      "트레이닝 정확도 : 98.63%\n",
      "테스트 정확도 : 97.50%\n"
     ]
    }
   ]
  },
  {
   "cell_type": "code",
   "source": [
    "mnist_labels = ['0', '1', '2', '3', '4', '5', '6', '7', '8', '9']\n",
    "\n",
    "figure = plt.figure(figsize=(20, 10))\n",
    "\n",
    "for i, index in enumerate(np.random.choice(test_x.shape[0], size=15, replace=False)):\n",
    "    ax = figure.add_subplot(3, 5, i + 1, xticks=[], yticks=[])\n",
    "    # Display each image\n",
    "    ax.imshow(np.squeeze(test_x[index].reshape([28,-1])), cmap='gray' )\n",
    "    \n",
    "    predict_index = pred_test[index].argmax(axis=0)\n",
    "    true_index = test_y[index].argmax(axis=0)\n",
    "    # Set the title for each image\n",
    "    ax.set_title(f\"{mnist_labels[predict_index]} ({mnist_labels[true_index]})\",\n",
    "                 color=(\"green\" if predict_index == true_index else \"red\"))"
   ],
   "metadata": {
    "id": "oaqGP_11Okep",
    "colab": {
     "base_uri": "https://localhost:8080/",
     "height": 594
    },
    "executionInfo": {
     "status": "ok",
     "timestamp": 1663142869323,
     "user_tz": -540,
     "elapsed": 1273,
     "user": {
      "displayName": "김건영",
      "userId": "04338252548733078915"
     }
    },
    "outputId": "d70ca11d-9e3f-4174-e299-24ec4ea92ed0",
    "pycharm": {
     "name": "#%%\n"
    }
   },
   "execution_count": 62,
   "outputs": [
    {
     "output_type": "display_data",
     "data": {
      "text/plain": [
       "<Figure size 1440x720 with 15 Axes>"
      ],
      "image/png": "[encoded data removed]"
     },
     "metadata": {}
    }
   ]
  },
  {
   "cell_type": "code",
   "metadata": {
    "id": "VMYH5ksPOkep",
    "colab": {
     "base_uri": "https://localhost:8080/",
     "height": 396
    },
    "executionInfo": {
     "status": "ok",
     "timestamp": 1663142984901,
     "user_tz": -540,
     "elapsed": 298,
     "user": {
      "displayName": "김건영",
      "userId": "04338252548733078915"
     }
    },
    "outputId": "69a9f275-e5a1-4bc4-e0ea-50740d24680e",
    "pycharm": {
     "name": "#%%\n"
    }
   },
   "source": [
    "'''\n",
    "틀린 것만 관찰해보자!\n",
    "\n",
    "Ctrl+Enter를 이용하여\n",
    "반복 실행 해보자!\n",
    "'''\n",
    "\n",
    "true_false = (test_y.argmax(axis=1) == single_pred_test)\n",
    "f_id = np.where(true_false == False)[0]\n",
    "f_n = len(f_id)\n",
    "\n",
    "id = f_id[rd.randrange(0,f_n)]\n",
    "\n",
    "print(f'id = {id}' )\n",
    "print(f'다음 그림은 숫자 {test_y.argmax(axis=1)[id]} 입니다.')\n",
    "print(f'모델의 예측 : {single_pred_test[id]}')\n",
    "print(f'모델의 카테고리별 확률 : {np.floor(pred_test[id]*100)}')\n",
    "\n",
    "if test_y.argmax(axis=1)[id] == single_pred_test[id] :\n",
    "    print('===============')\n",
    "    print('정답입니다')\n",
    "    print('===============')\n",
    "else : \n",
    "    print('===============')\n",
    "    print('틀렸어요')\n",
    "    print('===============')\n",
    "\n",
    "plt.imshow(test_x[id].reshape([28,-1]), cmap='gray')\n",
    "plt.show()"
   ],
   "execution_count": 68,
   "outputs": [
    {
     "output_type": "stream",
     "name": "stdout",
     "text": [
      "id = 6023\n",
      "다음 그림은 숫자 3 입니다.\n",
      "모델의 예측 : 8\n",
      "모델의 카테고리별 확률 : [ 0.  0.  0.  1.  0.  5.  0.  0. 92.  0.]\n",
      "===============\n",
      "틀렸어요\n",
      "===============\n"
     ]
    },
    {
     "output_type": "display_data",
     "data": {
      "text/plain": [
       "<Figure size 432x288 with 1 Axes>"
      ],
      "image/png": "[encoded data removed]"
     },
     "metadata": {
      "needs_background": "light"
     }
    }
   ]
  },
  {
   "cell_type": "code",
   "source": [
    "model.evaluate(test_x, test_y)"
   ],
   "metadata": {
    "id": "Tdq81PdoO66-",
    "pycharm": {
     "name": "#%%\n"
    }
   },
   "execution_count": null,
   "outputs": []
  },
  {
   "cell_type": "code",
   "source": [],
   "metadata": {
    "id": "KlHddjOPcgf2",
    "pycharm": {
     "name": "#%%\n"
    }
   },
   "execution_count": null,
   "outputs": []
  }
 ]
}