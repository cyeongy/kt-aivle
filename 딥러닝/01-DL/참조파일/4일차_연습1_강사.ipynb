{
  "nbformat": 4,
  "nbformat_minor": 0,
  "metadata": {
    "colab": {
      "provenance": [],
      "collapsed_sections": []
    },
    "kernelspec": {
      "name": "python3",
      "display_name": "Python 3"
    },
    "language_info": {
      "name": "python"
    }
  },
  "cells": [
    {
      "cell_type": "code",
      "execution_count": 1,
      "metadata": {
        "id": "FP6pqAR144HL"
      },
      "outputs": [],
      "source": [
        "from sklearn.datasets import fetch_california_housing"
      ]
    },
    {
      "cell_type": "code",
      "source": [
        "data = fetch_california_housing()"
      ],
      "metadata": {
        "id": "lUakKiDA5SNq"
      },
      "execution_count": 2,
      "outputs": []
    },
    {
      "cell_type": "code",
      "source": [
        "print(data.DESCR)"
      ],
      "metadata": {
        "colab": {
          "base_uri": "https://localhost:8080/"
        },
        "id": "fSgy49KF58r_",
        "outputId": "4af2b62d-4c9c-424e-9b99-2ddee0aec3d8"
      },
      "execution_count": 12,
      "outputs": [
        {
          "output_type": "stream",
          "name": "stdout",
          "text": [
            ".. _california_housing_dataset:\n",
            "\n",
            "California Housing dataset\n",
            "--------------------------\n",
            "\n",
            "**Data Set Characteristics:**\n",
            "\n",
            "    :Number of Instances: 20640\n",
            "\n",
            "    :Number of Attributes: 8 numeric, predictive attributes and the target\n",
            "\n",
            "    :Attribute Information:\n",
            "        - MedInc        median income in block group\n",
            "        - HouseAge      median house age in block group\n",
            "        - AveRooms      average number of rooms per household\n",
            "        - AveBedrms     average number of bedrooms per household\n",
            "        - Population    block group population\n",
            "        - AveOccup      average number of household members\n",
            "        - Latitude      block group latitude\n",
            "        - Longitude     block group longitude\n",
            "\n",
            "    :Missing Attribute Values: None\n",
            "\n",
            "This dataset was obtained from the StatLib repository.\n",
            "https://www.dcc.fc.up.pt/~ltorgo/Regression/cal_housing.html\n",
            "\n",
            "The target variable is the median house value for California districts,\n",
            "expressed in hundreds of thousands of dollars ($100,000).\n",
            "\n",
            "This dataset was derived from the 1990 U.S. census, using one row per census\n",
            "block group. A block group is the smallest geographical unit for which the U.S.\n",
            "Census Bureau publishes sample data (a block group typically has a population\n",
            "of 600 to 3,000 people).\n",
            "\n",
            "An household is a group of people residing within a home. Since the average\n",
            "number of rooms and bedrooms in this dataset are provided per household, these\n",
            "columns may take surpinsingly large values for block groups with few households\n",
            "and many empty houses, such as vacation resorts.\n",
            "\n",
            "It can be downloaded/loaded using the\n",
            ":func:`sklearn.datasets.fetch_california_housing` function.\n",
            "\n",
            ".. topic:: References\n",
            "\n",
            "    - Pace, R. Kelley and Ronald Barry, Sparse Spatial Autoregressions,\n",
            "      Statistics and Probability Letters, 33 (1997) 291-297\n",
            "\n"
          ]
        }
      ]
    },
    {
      "cell_type": "code",
      "source": [
        "x = data.data\n",
        "y = data.target\n",
        "\n",
        "x.shape, y.shape"
      ],
      "metadata": {
        "id": "DZpiIt_e5XBK"
      },
      "execution_count": null,
      "outputs": []
    },
    {
      "cell_type": "code",
      "source": [
        "import pandas as pd"
      ],
      "metadata": {
        "id": "sBCW66Fs5fNi"
      },
      "execution_count": 4,
      "outputs": []
    },
    {
      "cell_type": "code",
      "source": [
        "pd.DataFrame(x, columns=data.feature_names).head(1)"
      ],
      "metadata": {
        "colab": {
          "base_uri": "https://localhost:8080/",
          "height": 81
        },
        "id": "hos1Ddzl5xGC",
        "outputId": "38cc7087-d717-4e4e-8f94-678b7498eb59"
      },
      "execution_count": 10,
      "outputs": [
        {
          "output_type": "execute_result",
          "data": {
            "text/plain": [
              "   MedInc  HouseAge  AveRooms  AveBedrms  Population  AveOccup  Latitude  \\\n",
              "0  8.3252      41.0  6.984127    1.02381       322.0  2.555556     37.88   \n",
              "\n",
              "   Longitude  \n",
              "0    -122.23  "
            ],
            "text/html": [
              "\n",
              "  <div id=\"df-0cc9b7eb-87b0-4a72-a826-f4a47fc175b3\">\n",
              "    <div class=\"colab-df-container\">\n",
              "      <div>\n",
              "<style scoped>\n",
              "    .dataframe tbody tr th:only-of-type {\n",
              "        vertical-align: middle;\n",
              "    }\n",
              "\n",
              "    .dataframe tbody tr th {\n",
              "        vertical-align: top;\n",
              "    }\n",
              "\n",
              "    .dataframe thead th {\n",
              "        text-align: right;\n",
              "    }\n",
              "</style>\n",
              "<table border=\"1\" class=\"dataframe\">\n",
              "  <thead>\n",
              "    <tr style=\"text-align: right;\">\n",
              "      <th></th>\n",
              "      <th>MedInc</th>\n",
              "      <th>HouseAge</th>\n",
              "      <th>AveRooms</th>\n",
              "      <th>AveBedrms</th>\n",
              "      <th>Population</th>\n",
              "      <th>AveOccup</th>\n",
              "      <th>Latitude</th>\n",
              "      <th>Longitude</th>\n",
              "    </tr>\n",
              "  </thead>\n",
              "  <tbody>\n",
              "    <tr>\n",
              "      <th>0</th>\n",
              "      <td>8.3252</td>\n",
              "      <td>41.0</td>\n",
              "      <td>6.984127</td>\n",
              "      <td>1.02381</td>\n",
              "      <td>322.0</td>\n",
              "      <td>2.555556</td>\n",
              "      <td>37.88</td>\n",
              "      <td>-122.23</td>\n",
              "    </tr>\n",
              "  </tbody>\n",
              "</table>\n",
              "</div>\n",
              "      <button class=\"colab-df-convert\" onclick=\"convertToInteractive('df-0cc9b7eb-87b0-4a72-a826-f4a47fc175b3')\"\n",
              "              title=\"Convert this dataframe to an interactive table.\"\n",
              "              style=\"display:none;\">\n",
              "        \n",
              "  <svg xmlns=\"http://www.w3.org/2000/svg\" height=\"24px\"viewBox=\"0 0 24 24\"\n",
              "       width=\"24px\">\n",
              "    <path d=\"M0 0h24v24H0V0z\" fill=\"none\"/>\n",
              "    <path d=\"M18.56 5.44l.94 2.06.94-2.06 2.06-.94-2.06-.94-.94-2.06-.94 2.06-2.06.94zm-11 1L8.5 8.5l.94-2.06 2.06-.94-2.06-.94L8.5 2.5l-.94 2.06-2.06.94zm10 10l.94 2.06.94-2.06 2.06-.94-2.06-.94-.94-2.06-.94 2.06-2.06.94z\"/><path d=\"M17.41 7.96l-1.37-1.37c-.4-.4-.92-.59-1.43-.59-.52 0-1.04.2-1.43.59L10.3 9.45l-7.72 7.72c-.78.78-.78 2.05 0 2.83L4 21.41c.39.39.9.59 1.41.59.51 0 1.02-.2 1.41-.59l7.78-7.78 2.81-2.81c.8-.78.8-2.07 0-2.86zM5.41 20L4 18.59l7.72-7.72 1.47 1.35L5.41 20z\"/>\n",
              "  </svg>\n",
              "      </button>\n",
              "      \n",
              "  <style>\n",
              "    .colab-df-container {\n",
              "      display:flex;\n",
              "      flex-wrap:wrap;\n",
              "      gap: 12px;\n",
              "    }\n",
              "\n",
              "    .colab-df-convert {\n",
              "      background-color: #E8F0FE;\n",
              "      border: none;\n",
              "      border-radius: 50%;\n",
              "      cursor: pointer;\n",
              "      display: none;\n",
              "      fill: #1967D2;\n",
              "      height: 32px;\n",
              "      padding: 0 0 0 0;\n",
              "      width: 32px;\n",
              "    }\n",
              "\n",
              "    .colab-df-convert:hover {\n",
              "      background-color: #E2EBFA;\n",
              "      box-shadow: 0px 1px 2px rgba(60, 64, 67, 0.3), 0px 1px 3px 1px rgba(60, 64, 67, 0.15);\n",
              "      fill: #174EA6;\n",
              "    }\n",
              "\n",
              "    [theme=dark] .colab-df-convert {\n",
              "      background-color: #3B4455;\n",
              "      fill: #D2E3FC;\n",
              "    }\n",
              "\n",
              "    [theme=dark] .colab-df-convert:hover {\n",
              "      background-color: #434B5C;\n",
              "      box-shadow: 0px 1px 3px 1px rgba(0, 0, 0, 0.15);\n",
              "      filter: drop-shadow(0px 1px 2px rgba(0, 0, 0, 0.3));\n",
              "      fill: #FFFFFF;\n",
              "    }\n",
              "  </style>\n",
              "\n",
              "      <script>\n",
              "        const buttonEl =\n",
              "          document.querySelector('#df-0cc9b7eb-87b0-4a72-a826-f4a47fc175b3 button.colab-df-convert');\n",
              "        buttonEl.style.display =\n",
              "          google.colab.kernel.accessAllowed ? 'block' : 'none';\n",
              "\n",
              "        async function convertToInteractive(key) {\n",
              "          const element = document.querySelector('#df-0cc9b7eb-87b0-4a72-a826-f4a47fc175b3');\n",
              "          const dataTable =\n",
              "            await google.colab.kernel.invokeFunction('convertToInteractive',\n",
              "                                                     [key], {});\n",
              "          if (!dataTable) return;\n",
              "\n",
              "          const docLinkHtml = 'Like what you see? Visit the ' +\n",
              "            '<a target=\"_blank\" href=https://colab.research.google.com/notebooks/data_table.ipynb>data table notebook</a>'\n",
              "            + ' to learn more about interactive tables.';\n",
              "          element.innerHTML = '';\n",
              "          dataTable['output_type'] = 'display_data';\n",
              "          await google.colab.output.renderOutput(dataTable, element);\n",
              "          const docLink = document.createElement('div');\n",
              "          docLink.innerHTML = docLinkHtml;\n",
              "          element.appendChild(docLink);\n",
              "        }\n",
              "      </script>\n",
              "    </div>\n",
              "  </div>\n",
              "  "
            ]
          },
          "metadata": {},
          "execution_count": 10
        }
      ]
    },
    {
      "cell_type": "code",
      "source": [
        "pd.DataFrame(y, columns=data.target_names).head(1)"
      ],
      "metadata": {
        "colab": {
          "base_uri": "https://localhost:8080/",
          "height": 81
        },
        "id": "cmiLjZXI6OPl",
        "outputId": "ddf435c4-144d-447a-86c4-824780c3c93a"
      },
      "execution_count": 11,
      "outputs": [
        {
          "output_type": "execute_result",
          "data": {
            "text/plain": [
              "   MedHouseVal\n",
              "0        4.526"
            ],
            "text/html": [
              "\n",
              "  <div id=\"df-e1b98889-86f0-4db0-b3ff-f133333a881b\">\n",
              "    <div class=\"colab-df-container\">\n",
              "      <div>\n",
              "<style scoped>\n",
              "    .dataframe tbody tr th:only-of-type {\n",
              "        vertical-align: middle;\n",
              "    }\n",
              "\n",
              "    .dataframe tbody tr th {\n",
              "        vertical-align: top;\n",
              "    }\n",
              "\n",
              "    .dataframe thead th {\n",
              "        text-align: right;\n",
              "    }\n",
              "</style>\n",
              "<table border=\"1\" class=\"dataframe\">\n",
              "  <thead>\n",
              "    <tr style=\"text-align: right;\">\n",
              "      <th></th>\n",
              "      <th>MedHouseVal</th>\n",
              "    </tr>\n",
              "  </thead>\n",
              "  <tbody>\n",
              "    <tr>\n",
              "      <th>0</th>\n",
              "      <td>4.526</td>\n",
              "    </tr>\n",
              "  </tbody>\n",
              "</table>\n",
              "</div>\n",
              "      <button class=\"colab-df-convert\" onclick=\"convertToInteractive('df-e1b98889-86f0-4db0-b3ff-f133333a881b')\"\n",
              "              title=\"Convert this dataframe to an interactive table.\"\n",
              "              style=\"display:none;\">\n",
              "        \n",
              "  <svg xmlns=\"http://www.w3.org/2000/svg\" height=\"24px\"viewBox=\"0 0 24 24\"\n",
              "       width=\"24px\">\n",
              "    <path d=\"M0 0h24v24H0V0z\" fill=\"none\"/>\n",
              "    <path d=\"M18.56 5.44l.94 2.06.94-2.06 2.06-.94-2.06-.94-.94-2.06-.94 2.06-2.06.94zm-11 1L8.5 8.5l.94-2.06 2.06-.94-2.06-.94L8.5 2.5l-.94 2.06-2.06.94zm10 10l.94 2.06.94-2.06 2.06-.94-2.06-.94-.94-2.06-.94 2.06-2.06.94z\"/><path d=\"M17.41 7.96l-1.37-1.37c-.4-.4-.92-.59-1.43-.59-.52 0-1.04.2-1.43.59L10.3 9.45l-7.72 7.72c-.78.78-.78 2.05 0 2.83L4 21.41c.39.39.9.59 1.41.59.51 0 1.02-.2 1.41-.59l7.78-7.78 2.81-2.81c.8-.78.8-2.07 0-2.86zM5.41 20L4 18.59l7.72-7.72 1.47 1.35L5.41 20z\"/>\n",
              "  </svg>\n",
              "      </button>\n",
              "      \n",
              "  <style>\n",
              "    .colab-df-container {\n",
              "      display:flex;\n",
              "      flex-wrap:wrap;\n",
              "      gap: 12px;\n",
              "    }\n",
              "\n",
              "    .colab-df-convert {\n",
              "      background-color: #E8F0FE;\n",
              "      border: none;\n",
              "      border-radius: 50%;\n",
              "      cursor: pointer;\n",
              "      display: none;\n",
              "      fill: #1967D2;\n",
              "      height: 32px;\n",
              "      padding: 0 0 0 0;\n",
              "      width: 32px;\n",
              "    }\n",
              "\n",
              "    .colab-df-convert:hover {\n",
              "      background-color: #E2EBFA;\n",
              "      box-shadow: 0px 1px 2px rgba(60, 64, 67, 0.3), 0px 1px 3px 1px rgba(60, 64, 67, 0.15);\n",
              "      fill: #174EA6;\n",
              "    }\n",
              "\n",
              "    [theme=dark] .colab-df-convert {\n",
              "      background-color: #3B4455;\n",
              "      fill: #D2E3FC;\n",
              "    }\n",
              "\n",
              "    [theme=dark] .colab-df-convert:hover {\n",
              "      background-color: #434B5C;\n",
              "      box-shadow: 0px 1px 3px 1px rgba(0, 0, 0, 0.15);\n",
              "      filter: drop-shadow(0px 1px 2px rgba(0, 0, 0, 0.3));\n",
              "      fill: #FFFFFF;\n",
              "    }\n",
              "  </style>\n",
              "\n",
              "      <script>\n",
              "        const buttonEl =\n",
              "          document.querySelector('#df-e1b98889-86f0-4db0-b3ff-f133333a881b button.colab-df-convert');\n",
              "        buttonEl.style.display =\n",
              "          google.colab.kernel.accessAllowed ? 'block' : 'none';\n",
              "\n",
              "        async function convertToInteractive(key) {\n",
              "          const element = document.querySelector('#df-e1b98889-86f0-4db0-b3ff-f133333a881b');\n",
              "          const dataTable =\n",
              "            await google.colab.kernel.invokeFunction('convertToInteractive',\n",
              "                                                     [key], {});\n",
              "          if (!dataTable) return;\n",
              "\n",
              "          const docLinkHtml = 'Like what you see? Visit the ' +\n",
              "            '<a target=\"_blank\" href=https://colab.research.google.com/notebooks/data_table.ipynb>data table notebook</a>'\n",
              "            + ' to learn more about interactive tables.';\n",
              "          element.innerHTML = '';\n",
              "          dataTable['output_type'] = 'display_data';\n",
              "          await google.colab.output.renderOutput(dataTable, element);\n",
              "          const docLink = document.createElement('div');\n",
              "          docLink.innerHTML = docLinkHtml;\n",
              "          element.appendChild(docLink);\n",
              "        }\n",
              "      </script>\n",
              "    </div>\n",
              "  </div>\n",
              "  "
            ]
          },
          "metadata": {},
          "execution_count": 11
        }
      ]
    },
    {
      "cell_type": "markdown",
      "source": [
        "## 조건 \n",
        "1. Sequential API로 작성하세요.\n",
        "2. 전처리를 해주세요. 필수) train / test 구분!\n",
        "    - hint : 데이터프레임화 하여 전처리가 필요한지 확인하면 좋습니다.\n",
        "3. 모델링을 하세요\n",
        "    - 1. 인풋 - 아웃풋 구조로 만드세요.\n",
        "    - 2. 히든 레이어를 최소 2개 이상 추가하세요. (자율)\n",
        "    - 3. 컴파일 과정에 어떤 것이 들어가야 하는지 생각해주세요.\n",
        "4. 학습\n",
        "    - 1. Validation set을 만들어주세요. 분할의 정도는 자율.\n",
        "    - 2. 7번 이상 성능이 개선되지 않으면 학습을 멈춰주세요.\n",
        "    - 3. 학습 횟수 지정은 500"
      ],
      "metadata": {
        "id": "il35HUnM73HZ"
      }
    },
    {
      "cell_type": "code",
      "source": [
        "pd.DataFrame(x, columns=data.feature_names).info()"
      ],
      "metadata": {
        "id": "m6Nn-HkS6Z0s"
      },
      "execution_count": null,
      "outputs": []
    },
    {
      "cell_type": "code",
      "source": [
        "from sklearn.model_selection import train_test_split"
      ],
      "metadata": {
        "id": "aYvDQYNSEmzr"
      },
      "execution_count": 16,
      "outputs": []
    },
    {
      "cell_type": "code",
      "source": [
        "train_x, test_x, train_y, test_y = train_test_split(x, y, test_size=0.2, random_state=2022)"
      ],
      "metadata": {
        "id": "3OY4HUQuE1I2"
      },
      "execution_count": 17,
      "outputs": []
    },
    {
      "cell_type": "code",
      "source": [
        "train_x.shape, train_y.shape, test_x.shape, test_y.shape"
      ],
      "metadata": {
        "colab": {
          "base_uri": "https://localhost:8080/"
        },
        "id": "Q1I-lOZwE-b7",
        "outputId": "8b658227-6939-4ee3-85bf-92147461e7f9"
      },
      "execution_count": 18,
      "outputs": [
        {
          "output_type": "execute_result",
          "data": {
            "text/plain": [
              "((16512, 8), (16512,), (4128, 8), (4128,))"
            ]
          },
          "metadata": {},
          "execution_count": 18
        }
      ]
    },
    {
      "cell_type": "code",
      "source": [
        "## Min-Max scaling\n",
        "from sklearn.preprocessing import MinMaxScaler"
      ],
      "metadata": {
        "id": "F3tIsgXgFBsS"
      },
      "execution_count": 20,
      "outputs": []
    },
    {
      "cell_type": "code",
      "source": [
        "mm_scaler = MinMaxScaler()"
      ],
      "metadata": {
        "id": "cc0CzrBWFWd5"
      },
      "execution_count": 21,
      "outputs": []
    },
    {
      "cell_type": "code",
      "source": [
        "train_x = mm_scaler.fit_transform(train_x)\n",
        "test_x = mm_scaler.transform(test_x)"
      ],
      "metadata": {
        "id": "5SkSDRfjFYtF"
      },
      "execution_count": 22,
      "outputs": []
    },
    {
      "cell_type": "code",
      "source": [
        "pd.DataFrame(train_x, columns=data.feature_names).describe()"
      ],
      "metadata": {
        "colab": {
          "base_uri": "https://localhost:8080/",
          "height": 300
        },
        "id": "h5pE9onFFhTB",
        "outputId": "06d0f321-19b7-4d5c-c97e-3a7018d18444"
      },
      "execution_count": 26,
      "outputs": [
        {
          "output_type": "execute_result",
          "data": {
            "text/plain": [
              "             MedInc      HouseAge      AveRooms     AveBedrms    Population  \\\n",
              "count  16512.000000  16512.000000  16512.000000  16512.000000  16512.000000   \n",
              "mean       0.233177      0.542557      0.034783      0.022586      0.039944   \n",
              "std        0.131694      0.247020      0.017689      0.013520      0.032176   \n",
              "min        0.000000      0.000000      0.000000      0.000000      0.000000   \n",
              "25%        0.142655      0.333333      0.027271      0.019922      0.021974   \n",
              "50%        0.209766      0.549020      0.033322      0.021192      0.032582   \n",
              "75%        0.293577      0.705882      0.039569      0.022710      0.048376   \n",
              "max        1.000000      1.000000      1.000000      1.000000      1.000000   \n",
              "\n",
              "           AveOccup      Latitude     Longitude  \n",
              "count  16512.000000  16512.000000  16512.000000  \n",
              "mean       0.003828      0.328671      0.476481  \n",
              "std        0.008026      0.226990      0.199337  \n",
              "min        0.000000      0.000000      0.000000  \n",
              "25%        0.002907      0.148188      0.253984  \n",
              "50%        0.003551      0.182303      0.583665  \n",
              "75%        0.004324      0.551173      0.631474  \n",
              "max        1.000000      1.000000      1.000000  "
            ],
            "text/html": [
              "\n",
              "  <div id=\"df-384dc672-e068-4e23-b950-c8e03b9101d5\">\n",
              "    <div class=\"colab-df-container\">\n",
              "      <div>\n",
              "<style scoped>\n",
              "    .dataframe tbody tr th:only-of-type {\n",
              "        vertical-align: middle;\n",
              "    }\n",
              "\n",
              "    .dataframe tbody tr th {\n",
              "        vertical-align: top;\n",
              "    }\n",
              "\n",
              "    .dataframe thead th {\n",
              "        text-align: right;\n",
              "    }\n",
              "</style>\n",
              "<table border=\"1\" class=\"dataframe\">\n",
              "  <thead>\n",
              "    <tr style=\"text-align: right;\">\n",
              "      <th></th>\n",
              "      <th>MedInc</th>\n",
              "      <th>HouseAge</th>\n",
              "      <th>AveRooms</th>\n",
              "      <th>AveBedrms</th>\n",
              "      <th>Population</th>\n",
              "      <th>AveOccup</th>\n",
              "      <th>Latitude</th>\n",
              "      <th>Longitude</th>\n",
              "    </tr>\n",
              "  </thead>\n",
              "  <tbody>\n",
              "    <tr>\n",
              "      <th>count</th>\n",
              "      <td>16512.000000</td>\n",
              "      <td>16512.000000</td>\n",
              "      <td>16512.000000</td>\n",
              "      <td>16512.000000</td>\n",
              "      <td>16512.000000</td>\n",
              "      <td>16512.000000</td>\n",
              "      <td>16512.000000</td>\n",
              "      <td>16512.000000</td>\n",
              "    </tr>\n",
              "    <tr>\n",
              "      <th>mean</th>\n",
              "      <td>0.233177</td>\n",
              "      <td>0.542557</td>\n",
              "      <td>0.034783</td>\n",
              "      <td>0.022586</td>\n",
              "      <td>0.039944</td>\n",
              "      <td>0.003828</td>\n",
              "      <td>0.328671</td>\n",
              "      <td>0.476481</td>\n",
              "    </tr>\n",
              "    <tr>\n",
              "      <th>std</th>\n",
              "      <td>0.131694</td>\n",
              "      <td>0.247020</td>\n",
              "      <td>0.017689</td>\n",
              "      <td>0.013520</td>\n",
              "      <td>0.032176</td>\n",
              "      <td>0.008026</td>\n",
              "      <td>0.226990</td>\n",
              "      <td>0.199337</td>\n",
              "    </tr>\n",
              "    <tr>\n",
              "      <th>min</th>\n",
              "      <td>0.000000</td>\n",
              "      <td>0.000000</td>\n",
              "      <td>0.000000</td>\n",
              "      <td>0.000000</td>\n",
              "      <td>0.000000</td>\n",
              "      <td>0.000000</td>\n",
              "      <td>0.000000</td>\n",
              "      <td>0.000000</td>\n",
              "    </tr>\n",
              "    <tr>\n",
              "      <th>25%</th>\n",
              "      <td>0.142655</td>\n",
              "      <td>0.333333</td>\n",
              "      <td>0.027271</td>\n",
              "      <td>0.019922</td>\n",
              "      <td>0.021974</td>\n",
              "      <td>0.002907</td>\n",
              "      <td>0.148188</td>\n",
              "      <td>0.253984</td>\n",
              "    </tr>\n",
              "    <tr>\n",
              "      <th>50%</th>\n",
              "      <td>0.209766</td>\n",
              "      <td>0.549020</td>\n",
              "      <td>0.033322</td>\n",
              "      <td>0.021192</td>\n",
              "      <td>0.032582</td>\n",
              "      <td>0.003551</td>\n",
              "      <td>0.182303</td>\n",
              "      <td>0.583665</td>\n",
              "    </tr>\n",
              "    <tr>\n",
              "      <th>75%</th>\n",
              "      <td>0.293577</td>\n",
              "      <td>0.705882</td>\n",
              "      <td>0.039569</td>\n",
              "      <td>0.022710</td>\n",
              "      <td>0.048376</td>\n",
              "      <td>0.004324</td>\n",
              "      <td>0.551173</td>\n",
              "      <td>0.631474</td>\n",
              "    </tr>\n",
              "    <tr>\n",
              "      <th>max</th>\n",
              "      <td>1.000000</td>\n",
              "      <td>1.000000</td>\n",
              "      <td>1.000000</td>\n",
              "      <td>1.000000</td>\n",
              "      <td>1.000000</td>\n",
              "      <td>1.000000</td>\n",
              "      <td>1.000000</td>\n",
              "      <td>1.000000</td>\n",
              "    </tr>\n",
              "  </tbody>\n",
              "</table>\n",
              "</div>\n",
              "      <button class=\"colab-df-convert\" onclick=\"convertToInteractive('df-384dc672-e068-4e23-b950-c8e03b9101d5')\"\n",
              "              title=\"Convert this dataframe to an interactive table.\"\n",
              "              style=\"display:none;\">\n",
              "        \n",
              "  <svg xmlns=\"http://www.w3.org/2000/svg\" height=\"24px\"viewBox=\"0 0 24 24\"\n",
              "       width=\"24px\">\n",
              "    <path d=\"M0 0h24v24H0V0z\" fill=\"none\"/>\n",
              "    <path d=\"M18.56 5.44l.94 2.06.94-2.06 2.06-.94-2.06-.94-.94-2.06-.94 2.06-2.06.94zm-11 1L8.5 8.5l.94-2.06 2.06-.94-2.06-.94L8.5 2.5l-.94 2.06-2.06.94zm10 10l.94 2.06.94-2.06 2.06-.94-2.06-.94-.94-2.06-.94 2.06-2.06.94z\"/><path d=\"M17.41 7.96l-1.37-1.37c-.4-.4-.92-.59-1.43-.59-.52 0-1.04.2-1.43.59L10.3 9.45l-7.72 7.72c-.78.78-.78 2.05 0 2.83L4 21.41c.39.39.9.59 1.41.59.51 0 1.02-.2 1.41-.59l7.78-7.78 2.81-2.81c.8-.78.8-2.07 0-2.86zM5.41 20L4 18.59l7.72-7.72 1.47 1.35L5.41 20z\"/>\n",
              "  </svg>\n",
              "      </button>\n",
              "      \n",
              "  <style>\n",
              "    .colab-df-container {\n",
              "      display:flex;\n",
              "      flex-wrap:wrap;\n",
              "      gap: 12px;\n",
              "    }\n",
              "\n",
              "    .colab-df-convert {\n",
              "      background-color: #E8F0FE;\n",
              "      border: none;\n",
              "      border-radius: 50%;\n",
              "      cursor: pointer;\n",
              "      display: none;\n",
              "      fill: #1967D2;\n",
              "      height: 32px;\n",
              "      padding: 0 0 0 0;\n",
              "      width: 32px;\n",
              "    }\n",
              "\n",
              "    .colab-df-convert:hover {\n",
              "      background-color: #E2EBFA;\n",
              "      box-shadow: 0px 1px 2px rgba(60, 64, 67, 0.3), 0px 1px 3px 1px rgba(60, 64, 67, 0.15);\n",
              "      fill: #174EA6;\n",
              "    }\n",
              "\n",
              "    [theme=dark] .colab-df-convert {\n",
              "      background-color: #3B4455;\n",
              "      fill: #D2E3FC;\n",
              "    }\n",
              "\n",
              "    [theme=dark] .colab-df-convert:hover {\n",
              "      background-color: #434B5C;\n",
              "      box-shadow: 0px 1px 3px 1px rgba(0, 0, 0, 0.15);\n",
              "      filter: drop-shadow(0px 1px 2px rgba(0, 0, 0, 0.3));\n",
              "      fill: #FFFFFF;\n",
              "    }\n",
              "  </style>\n",
              "\n",
              "      <script>\n",
              "        const buttonEl =\n",
              "          document.querySelector('#df-384dc672-e068-4e23-b950-c8e03b9101d5 button.colab-df-convert');\n",
              "        buttonEl.style.display =\n",
              "          google.colab.kernel.accessAllowed ? 'block' : 'none';\n",
              "\n",
              "        async function convertToInteractive(key) {\n",
              "          const element = document.querySelector('#df-384dc672-e068-4e23-b950-c8e03b9101d5');\n",
              "          const dataTable =\n",
              "            await google.colab.kernel.invokeFunction('convertToInteractive',\n",
              "                                                     [key], {});\n",
              "          if (!dataTable) return;\n",
              "\n",
              "          const docLinkHtml = 'Like what you see? Visit the ' +\n",
              "            '<a target=\"_blank\" href=https://colab.research.google.com/notebooks/data_table.ipynb>data table notebook</a>'\n",
              "            + ' to learn more about interactive tables.';\n",
              "          element.innerHTML = '';\n",
              "          dataTable['output_type'] = 'display_data';\n",
              "          await google.colab.output.renderOutput(dataTable, element);\n",
              "          const docLink = document.createElement('div');\n",
              "          docLink.innerHTML = docLinkHtml;\n",
              "          element.appendChild(docLink);\n",
              "        }\n",
              "      </script>\n",
              "    </div>\n",
              "  </div>\n",
              "  "
            ]
          },
          "metadata": {},
          "execution_count": 26
        }
      ]
    },
    {
      "cell_type": "code",
      "source": [
        "# 모델링을 하세요\n",
        "# 인풋 - 아웃풋 구조로 만드세요.\n",
        "# 히든 레이어를 최소 2개 이상 추가하세요. (자율)\n",
        "# 컴파일 과정에 어떤 것이 들어가야 하는지 생각해주세요.\n",
        "import tensorflow as tf\n",
        "from tensorflow import keras"
      ],
      "metadata": {
        "id": "d15YivRAF6d-"
      },
      "execution_count": 27,
      "outputs": []
    },
    {
      "cell_type": "code",
      "source": [
        "train_x.shape, train_y.shape"
      ],
      "metadata": {
        "colab": {
          "base_uri": "https://localhost:8080/"
        },
        "id": "yxgp8otdGPPr",
        "outputId": "b37e4df6-ff2f-4a57-bda1-e1d0e626f6fb"
      },
      "execution_count": 28,
      "outputs": [
        {
          "output_type": "execute_result",
          "data": {
            "text/plain": [
              "((16512, 8), (16512,))"
            ]
          },
          "metadata": {},
          "execution_count": 28
        }
      ]
    },
    {
      "cell_type": "code",
      "source": [
        "## Sequential API\n",
        "# 1. 세션 클리어\n",
        "keras.backend.clear_session()\n",
        "\n",
        "# 2. 모델 발판 생성\n",
        "model = keras.models.Sequential()\n",
        "\n",
        "# 3. 모델 블록 조립\n",
        "model.add( keras.layers.Input(shape=(8,)) )\n",
        "model.add( keras.layers.Dense(64, activation='relu') )\n",
        "model.add( keras.layers.Dense(64, activation='relu') )\n",
        "model.add( keras.layers.Dense(1) )\n",
        "\n",
        "# 4. 컴파일\n",
        "model.compile(loss='mse', optimizer='adam')\n",
        "\n",
        "# 요약\n",
        "model.summary()"
      ],
      "metadata": {
        "colab": {
          "base_uri": "https://localhost:8080/"
        },
        "id": "0iO-DL0VGDXD",
        "outputId": "99425754-325d-4176-face-3e7131f7bff0"
      },
      "execution_count": 33,
      "outputs": [
        {
          "output_type": "stream",
          "name": "stdout",
          "text": [
            "Model: \"sequential\"\n",
            "_________________________________________________________________\n",
            " Layer (type)                Output Shape              Param #   \n",
            "=================================================================\n",
            " dense (Dense)               (None, 64)                576       \n",
            "                                                                 \n",
            " dense_1 (Dense)             (None, 64)                4160      \n",
            "                                                                 \n",
            " dense_2 (Dense)             (None, 1)                 65        \n",
            "                                                                 \n",
            "=================================================================\n",
            "Total params: 4,801\n",
            "Trainable params: 4,801\n",
            "Non-trainable params: 0\n",
            "_________________________________________________________________\n"
          ]
        }
      ]
    },
    {
      "cell_type": "code",
      "source": [
        "from tensorflow.keras.callbacks import EarlyStopping"
      ],
      "metadata": {
        "id": "oKFa9pjbG6_E"
      },
      "execution_count": 30,
      "outputs": []
    },
    {
      "cell_type": "code",
      "source": [
        "es = EarlyStopping(monitor='val_loss',   # 관측 대상\n",
        "                   min_delta=0,          # 모델 성능 개선의 조건 (값 이하면 개선 취급 X)\n",
        "                   patience=7,\n",
        "                   verbose=1,\n",
        "                   restore_best_weights=True) # 학습 결과 최적의 가중치로 반환"
      ],
      "metadata": {
        "id": "jISixCLKHB7z"
      },
      "execution_count": 34,
      "outputs": []
    },
    {
      "cell_type": "code",
      "source": [
        "# 학습\n",
        "# Validation set을 만들어주세요. 분할의 정도는 자율.\n",
        "# 7번 이상 성능이 개선되지 않으면 학습을 멈춰주세요.\n",
        "# 학습 횟수 지정은 500\n",
        "model.fit(train_x, train_y, validation_split=0.15, callbacks=[es],\n",
        "          epochs=500, verbose=1)"
      ],
      "metadata": {
        "colab": {
          "base_uri": "https://localhost:8080/"
        },
        "id": "6KzE34wrGxIl",
        "outputId": "8bdb5580-d6b5-45f8-eb12-7ecdec2b8924"
      },
      "execution_count": 35,
      "outputs": [
        {
          "output_type": "stream",
          "name": "stdout",
          "text": [
            "Epoch 1/500\n",
            "439/439 [==============================] - 1s 1ms/step - loss: 0.9326 - val_loss: 0.6030\n",
            "Epoch 2/500\n",
            "439/439 [==============================] - 1s 1ms/step - loss: 0.5579 - val_loss: 0.6247\n",
            "Epoch 3/500\n",
            "439/439 [==============================] - 0s 1ms/step - loss: 0.5203 - val_loss: 0.5238\n",
            "Epoch 4/500\n",
            "439/439 [==============================] - 1s 1ms/step - loss: 0.4943 - val_loss: 0.5033\n",
            "Epoch 5/500\n",
            "439/439 [==============================] - 0s 1ms/step - loss: 0.4730 - val_loss: 0.4755\n",
            "Epoch 6/500\n",
            "439/439 [==============================] - 0s 1ms/step - loss: 0.4575 - val_loss: 0.4641\n",
            "Epoch 7/500\n",
            "439/439 [==============================] - 0s 1ms/step - loss: 0.4415 - val_loss: 0.4458\n",
            "Epoch 8/500\n",
            "439/439 [==============================] - 0s 1ms/step - loss: 0.4324 - val_loss: 0.4400\n",
            "Epoch 9/500\n",
            "439/439 [==============================] - 0s 1ms/step - loss: 0.4179 - val_loss: 0.4256\n",
            "Epoch 10/500\n",
            "439/439 [==============================] - 0s 1ms/step - loss: 0.4122 - val_loss: 0.4197\n",
            "Epoch 11/500\n",
            "439/439 [==============================] - 0s 1ms/step - loss: 0.4044 - val_loss: 0.4258\n",
            "Epoch 12/500\n",
            "439/439 [==============================] - 1s 1ms/step - loss: 0.3993 - val_loss: 0.4059\n",
            "Epoch 13/500\n",
            "439/439 [==============================] - 0s 1ms/step - loss: 0.3918 - val_loss: 0.4147\n",
            "Epoch 14/500\n",
            "439/439 [==============================] - 0s 1ms/step - loss: 0.3897 - val_loss: 0.3948\n",
            "Epoch 15/500\n",
            "439/439 [==============================] - 0s 1ms/step - loss: 0.3811 - val_loss: 0.3953\n",
            "Epoch 16/500\n",
            "439/439 [==============================] - 1s 1ms/step - loss: 0.3755 - val_loss: 0.3838\n",
            "Epoch 17/500\n",
            "439/439 [==============================] - 0s 1ms/step - loss: 0.3718 - val_loss: 0.3859\n",
            "Epoch 18/500\n",
            "439/439 [==============================] - 0s 1ms/step - loss: 0.3646 - val_loss: 0.3949\n",
            "Epoch 19/500\n",
            "439/439 [==============================] - 0s 1ms/step - loss: 0.3653 - val_loss: 0.3724\n",
            "Epoch 20/500\n",
            "439/439 [==============================] - 1s 1ms/step - loss: 0.3664 - val_loss: 0.3939\n",
            "Epoch 21/500\n",
            "439/439 [==============================] - 0s 1ms/step - loss: 0.3577 - val_loss: 0.3926\n",
            "Epoch 22/500\n",
            "439/439 [==============================] - 0s 1ms/step - loss: 0.3552 - val_loss: 0.3624\n",
            "Epoch 23/500\n",
            "439/439 [==============================] - 0s 1ms/step - loss: 0.3505 - val_loss: 0.3649\n",
            "Epoch 24/500\n",
            "439/439 [==============================] - 0s 1ms/step - loss: 0.3491 - val_loss: 0.3768\n",
            "Epoch 25/500\n",
            "439/439 [==============================] - 1s 1ms/step - loss: 0.3475 - val_loss: 0.3635\n",
            "Epoch 26/500\n",
            "439/439 [==============================] - 1s 1ms/step - loss: 0.3415 - val_loss: 0.3767\n",
            "Epoch 27/500\n",
            "439/439 [==============================] - 0s 1ms/step - loss: 0.3415 - val_loss: 0.3612\n",
            "Epoch 28/500\n",
            "439/439 [==============================] - 0s 1ms/step - loss: 0.3386 - val_loss: 0.3865\n",
            "Epoch 29/500\n",
            "439/439 [==============================] - 0s 1ms/step - loss: 0.3390 - val_loss: 0.3721\n",
            "Epoch 30/500\n",
            "439/439 [==============================] - 0s 1ms/step - loss: 0.3374 - val_loss: 0.3876\n",
            "Epoch 31/500\n",
            "439/439 [==============================] - 0s 1ms/step - loss: 0.3332 - val_loss: 0.3499\n",
            "Epoch 32/500\n",
            "439/439 [==============================] - 1s 1ms/step - loss: 0.3349 - val_loss: 0.3405\n",
            "Epoch 33/500\n",
            "439/439 [==============================] - 0s 1ms/step - loss: 0.3341 - val_loss: 0.3406\n",
            "Epoch 34/500\n",
            "439/439 [==============================] - 0s 1ms/step - loss: 0.3301 - val_loss: 0.3696\n",
            "Epoch 35/500\n",
            "439/439 [==============================] - 0s 1ms/step - loss: 0.3266 - val_loss: 0.3407\n",
            "Epoch 36/500\n",
            "439/439 [==============================] - 0s 1ms/step - loss: 0.3269 - val_loss: 0.3300\n",
            "Epoch 37/500\n",
            "439/439 [==============================] - 1s 1ms/step - loss: 0.3229 - val_loss: 0.3323\n",
            "Epoch 38/500\n",
            "439/439 [==============================] - 0s 1ms/step - loss: 0.3256 - val_loss: 0.3467\n",
            "Epoch 39/500\n",
            "439/439 [==============================] - 0s 1ms/step - loss: 0.3211 - val_loss: 0.3351\n",
            "Epoch 40/500\n",
            "439/439 [==============================] - 0s 1ms/step - loss: 0.3208 - val_loss: 0.3373\n",
            "Epoch 41/500\n",
            "439/439 [==============================] - 1s 1ms/step - loss: 0.3200 - val_loss: 0.3323\n",
            "Epoch 42/500\n",
            "439/439 [==============================] - 0s 1ms/step - loss: 0.3161 - val_loss: 0.3270\n",
            "Epoch 43/500\n",
            "439/439 [==============================] - 0s 1ms/step - loss: 0.3170 - val_loss: 0.3301\n",
            "Epoch 44/500\n",
            "439/439 [==============================] - 0s 1ms/step - loss: 0.3169 - val_loss: 0.3329\n",
            "Epoch 45/500\n",
            "439/439 [==============================] - 0s 1ms/step - loss: 0.3200 - val_loss: 0.3244\n",
            "Epoch 46/500\n",
            "439/439 [==============================] - 0s 1ms/step - loss: 0.3126 - val_loss: 0.3622\n",
            "Epoch 47/500\n",
            "439/439 [==============================] - 1s 1ms/step - loss: 0.3129 - val_loss: 0.3169\n",
            "Epoch 48/500\n",
            "439/439 [==============================] - 0s 1ms/step - loss: 0.3144 - val_loss: 0.3219\n",
            "Epoch 49/500\n",
            "439/439 [==============================] - 1s 1ms/step - loss: 0.3100 - val_loss: 0.3213\n",
            "Epoch 50/500\n",
            "439/439 [==============================] - 0s 1ms/step - loss: 0.3144 - val_loss: 0.3244\n",
            "Epoch 51/500\n",
            "439/439 [==============================] - 0s 1ms/step - loss: 0.3132 - val_loss: 0.3188\n",
            "Epoch 52/500\n",
            "439/439 [==============================] - 0s 1ms/step - loss: 0.3051 - val_loss: 0.3183\n",
            "Epoch 53/500\n",
            "439/439 [==============================] - 0s 1ms/step - loss: 0.3089 - val_loss: 0.4434\n",
            "Epoch 54/500\n",
            "432/439 [============================>.] - ETA: 0s - loss: 0.3081Restoring model weights from the end of the best epoch: 47.\n",
            "439/439 [==============================] - 0s 1ms/step - loss: 0.3073 - val_loss: 0.3179\n",
            "Epoch 54: early stopping\n"
          ]
        },
        {
          "output_type": "execute_result",
          "data": {
            "text/plain": [
              "<keras.callbacks.History at 0x7f2d04c010d0>"
            ]
          },
          "metadata": {},
          "execution_count": 35
        }
      ]
    },
    {
      "cell_type": "code",
      "source": [],
      "metadata": {
        "id": "4w3nChRDIMno"
      },
      "execution_count": null,
      "outputs": []
    }
  ]
}