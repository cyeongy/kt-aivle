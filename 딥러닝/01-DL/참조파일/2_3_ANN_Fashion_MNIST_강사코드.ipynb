{
 "nbformat": 4,
 "nbformat_minor": 0,
 "metadata": {
  "colab": {
   "provenance": [],
   "collapsed_sections": []
  },
  "kernelspec": {
   "name": "python3",
   "display_name": "Python 3"
  },
  "accelerator": "GPU"
 },
 "cells": [
  {
   "cell_type": "markdown",
   "metadata": {
    "id": "UdrP_vI3QcNd",
    "pycharm": {
     "name": "#%% md\n"
    }
   },
   "source": [
    "# ANN & Fashion MNIST\n",
    "\n",
    "<br> By Margaret Maynard-Reid, 4/24/2018\n",
    "\n",
    "![alt text](https://github.com/margaretmz/deep-learning/blob/master/images/modern%20dl_fash-mnist_keras.png?raw=1)"
   ]
  },
  {
   "cell_type": "markdown",
   "metadata": {
    "id": "XLMRPLVCFwEc",
    "pycharm": {
     "name": "#%% md\n"
    }
   },
   "source": [
    "## Why Fashion-MNIST?\n",
    "\n",
    "\n",
    "*   MNIST is too easy\n",
    "*   MNIST is overused\n",
    "*   MNIST can not represent modern Computer Vision tasks\n",
    "\n",
    "Read more about the Fashion-MINST dataset in this paper [here](https://arxiv.org/abs/1708.07747) (**Fashion-MNIST: a Novel Image Dataset for Benchmarking Machine Learning Algorithms**)\n",
    "\n"
   ]
  },
  {
   "cell_type": "code",
   "metadata": {
    "id": "d44TznbgZZgm",
    "colab": {
     "base_uri": "https://localhost:8080/"
    },
    "executionInfo": {
     "status": "ok",
     "timestamp": 1663223770370,
     "user_tz": -540,
     "elapsed": 3620,
     "user": {
      "displayName": "김건영",
      "userId": "04338252548733078915"
     }
    },
    "outputId": "afc7fe49-fb54-4bae-9344-c89f2cf08249",
    "pycharm": {
     "name": "#%%\n"
    }
   },
   "source": [
    "import tensorflow as tf\n",
    "from tensorflow import keras\n",
    "\n",
    "import numpy as np\n",
    "import matplotlib.pyplot as plt\n",
    "\n",
    "# Load the fashion-mnist pre-shuffled train data and test data\n",
    "(x_train, y_train), (x_test, y_test) = keras.datasets.fashion_mnist.load_data()\n",
    "\n",
    "print(\"x_train shape:\", x_train.shape, \"y_train shape:\", y_train.shape)"
   ],
   "execution_count": 1,
   "outputs": [
    {
     "output_type": "stream",
     "name": "stdout",
     "text": [
      "Downloading data from https://storage.googleapis.com/tensorflow/tf-keras-datasets/train-labels-idx1-ubyte.gz\n",
      "32768/29515 [=================================] - 0s 0us/step\n",
      "40960/29515 [=========================================] - 0s 0us/step\n",
      "Downloading data from https://storage.googleapis.com/tensorflow/tf-keras-datasets/train-images-idx3-ubyte.gz\n",
      "26427392/26421880 [==============================] - 0s 0us/step\n",
      "26435584/26421880 [==============================] - 0s 0us/step\n",
      "Downloading data from https://storage.googleapis.com/tensorflow/tf-keras-datasets/t10k-labels-idx1-ubyte.gz\n",
      "16384/5148 [===============================================================================================] - 0s 0us/step\n",
      "Downloading data from https://storage.googleapis.com/tensorflow/tf-keras-datasets/t10k-images-idx3-ubyte.gz\n",
      "4423680/4422102 [==============================] - 0s 0us/step\n",
      "4431872/4422102 [==============================] - 0s 0us/step\n",
      "x_train shape: (60000, 28, 28) y_train shape: (60000,)\n"
     ]
    }
   ]
  },
  {
   "cell_type": "markdown",
   "metadata": {
    "id": "tWORMSC8FDR4",
    "pycharm": {
     "name": "#%% md\n"
    }
   },
   "source": [
    "## Visualize the data 반복실행 해보자"
   ]
  },
  {
   "cell_type": "code",
   "metadata": {
    "id": "aFe4wHGRFKle",
    "colab": {
     "base_uri": "https://localhost:8080/",
     "height": 358
    },
    "executionInfo": {
     "status": "ok",
     "timestamp": 1663223775485,
     "user_tz": -540,
     "elapsed": 588,
     "user": {
      "displayName": "김건영",
      "userId": "04338252548733078915"
     }
    },
    "outputId": "bb5ab323-a8c6-441b-9694-55d82311f038",
    "pycharm": {
     "name": "#%%\n"
    }
   },
   "source": [
    "# Print training set shape - note there are 60,000 training data of image size of 28x28, 60,000 train labels)\n",
    "print(\"x_train shape:\", x_train.shape, \"y_train shape:\", y_train.shape)\n",
    "\n",
    "# Print the number of training and test datasets\n",
    "print(x_train.shape[0], 'train set')\n",
    "print(x_test.shape[0], 'test set')\n",
    "\n",
    "# Define the text labels\n",
    "fashion_mnist_labels = [\"T-shirt/top\",  # index 0\n",
    "                        \"Trouser\",      # index 1\n",
    "                        \"Pullover\",     # index 2 \n",
    "                        \"Dress\",        # index 3 \n",
    "                        \"Coat\",         # index 4\n",
    "                        \"Sandal\",       # index 5\n",
    "                        \"Shirt\",        # index 6 \n",
    "                        \"Sneaker\",      # index 7 \n",
    "                        \"Bag\",          # index 8 \n",
    "                        \"Ankle boot\"]   # index 9\n",
    "\n",
    "# Image index, you can pick any number between 0 and 59,999\n",
    "img_index = np.random.randint(0, 59999)\n",
    "# y_train contains the lables, ranging from 0 to 9\n",
    "label_index = y_train[img_index]\n",
    "# Print the label, for example 2 Pullover\n",
    "print (\"y = \" + str(label_index) + \" \" +(fashion_mnist_labels[label_index]))\n",
    "# # Show one of the images from the training dataset\n",
    "plt.imshow(x_train[img_index], cmap='gray')"
   ],
   "execution_count": 2,
   "outputs": [
    {
     "output_type": "stream",
     "name": "stdout",
     "text": [
      "x_train shape: (60000, 28, 28) y_train shape: (60000,)\n",
      "60000 train set\n",
      "10000 test set\n",
      "y = 4 Coat\n"
     ]
    },
    {
     "output_type": "execute_result",
     "data": {
      "text/plain": [
       "<matplotlib.image.AxesImage at 0x7f0e6cde0450>"
      ]
     },
     "metadata": {},
     "execution_count": 2
    },
    {
     "output_type": "display_data",
     "data": {
      "text/plain": [
       "<Figure size 432x288 with 1 Axes>"
      ],
      "image/png": "[encoded data removed]"
     },
     "metadata": {
      "needs_background": "light"
     }
    }
   ]
  },
  {
   "cell_type": "code",
   "metadata": {
    "id": "XqUyZdcCe6Ja",
    "colab": {
     "base_uri": "https://localhost:8080/"
    },
    "executionInfo": {
     "status": "ok",
     "timestamp": 1663223781459,
     "user_tz": -540,
     "elapsed": 2,
     "user": {
      "displayName": "김건영",
      "userId": "04338252548733078915"
     }
    },
    "outputId": "e64099d2-a9ca-473d-a440-71b1e949b6bd",
    "pycharm": {
     "name": "#%%\n"
    }
   },
   "source": [
    "print(x_train.shape, x_test.shape, y_train.shape, y_test.shape)"
   ],
   "execution_count": 3,
   "outputs": [
    {
     "output_type": "stream",
     "name": "stdout",
     "text": [
      "(60000, 28, 28) (10000, 28, 28) (60000,) (10000,)\n"
     ]
    }
   ]
  },
  {
   "cell_type": "markdown",
   "metadata": {
    "id": "Zx-Ee6LHZZgt",
    "pycharm": {
     "name": "#%% md\n"
    }
   },
   "source": [
    "##  코딩 task!\n",
    "\n",
    "1. 전처리\n",
    "    * x : sc_____\n",
    "    * y : _______ encoding\n",
    "\n",
    "2. 모델링\n",
    "    * model에 모델 선언\n",
    "    * Input layer에 어떻게 전달할 것인지 고민 필요\n",
    "    * 쭈우우우욱 늘려주는 레이어를 사용할 것 (F______)\n",
    "    * 히든레이어는 최소 3개를 쓸 것!\n",
    "    * 노드 수는 512개를 기본으로 시작\n",
    "    * 자유롭게 바꿔가며 성능을 볼 것\n",
    "\n",
    "3. 학습\n",
    "    * epochs=50, validation_split=0.2\n",
    "    * early stopping"
   ]
  },
  {
   "cell_type": "code",
   "metadata": {
    "id": "oRTnVHB7uiHz",
    "colab": {
     "base_uri": "https://localhost:8080/"
    },
    "executionInfo": {
     "status": "ok",
     "timestamp": 1663224103683,
     "user_tz": -540,
     "elapsed": 314,
     "user": {
      "displayName": "김건영",
      "userId": "04338252548733078915"
     }
    },
    "outputId": "58205296-3166-459a-8ea9-69f87ffe9dec",
    "pycharm": {
     "name": "#%%\n"
    }
   },
   "source": [
    "#############\n",
    "# Your Code #\n",
    "#############\n",
    "max_n, min_n = x_train.max(), x_train.min()\n",
    "max_n, min_n"
   ],
   "execution_count": 4,
   "outputs": [
    {
     "output_type": "execute_result",
     "data": {
      "text/plain": [
       "(255, 0)"
      ]
     },
     "metadata": {},
     "execution_count": 4
    }
   ]
  },
  {
   "cell_type": "code",
   "source": [
    "# min-max scaling\n",
    "\n",
    "x_train = (x_train - min_n) / (max_n - min_n)\n",
    "x_test = (x_test - min_n) / (max_n - min_n)"
   ],
   "metadata": {
    "id": "mg9zAL4f4b-L",
    "executionInfo": {
     "status": "ok",
     "timestamp": 1663224181255,
     "user_tz": -540,
     "elapsed": 420,
     "user": {
      "displayName": "김건영",
      "userId": "04338252548733078915"
     }
    },
    "pycharm": {
     "name": "#%%\n"
    }
   },
   "execution_count": 5,
   "outputs": []
  },
  {
   "cell_type": "code",
   "source": [
    "x_train.max(), x_train.min()"
   ],
   "metadata": {
    "colab": {
     "base_uri": "https://localhost:8080/"
    },
    "id": "C6E1HcAP4u6u",
    "executionInfo": {
     "status": "ok",
     "timestamp": 1663224190036,
     "user_tz": -540,
     "elapsed": 279,
     "user": {
      "displayName": "김건영",
      "userId": "04338252548733078915"
     }
    },
    "outputId": "32db9006-689c-4aac-c8f3-e1e1d059ab05",
    "pycharm": {
     "name": "#%%\n"
    }
   },
   "execution_count": 6,
   "outputs": [
    {
     "output_type": "execute_result",
     "data": {
      "text/plain": [
       "(1.0, 0.0)"
      ]
     },
     "metadata": {},
     "execution_count": 6
    }
   ]
  },
  {
   "cell_type": "code",
   "metadata": {
    "id": "uVSPMrDEe4im",
    "executionInfo": {
     "status": "ok",
     "timestamp": 1663224228025,
     "user_tz": -540,
     "elapsed": 281,
     "user": {
      "displayName": "김건영",
      "userId": "04338252548733078915"
     }
    },
    "pycharm": {
     "name": "#%%\n"
    }
   },
   "source": [
    "#############\n",
    "# Your Code # : One-hot encoding\n",
    "#############\n",
    "from tensorflow.keras.utils import to_categorical"
   ],
   "execution_count": 7,
   "outputs": []
  },
  {
   "cell_type": "code",
   "source": [
    "y_train.shape"
   ],
   "metadata": {
    "colab": {
     "base_uri": "https://localhost:8080/"
    },
    "id": "XJh7bLRY46X8",
    "executionInfo": {
     "status": "ok",
     "timestamp": 1663224240987,
     "user_tz": -540,
     "elapsed": 322,
     "user": {
      "displayName": "김건영",
      "userId": "04338252548733078915"
     }
    },
    "outputId": "051ca9ad-16a2-4400-d076-45cba8b07b61",
    "pycharm": {
     "name": "#%%\n"
    }
   },
   "execution_count": 8,
   "outputs": [
    {
     "output_type": "execute_result",
     "data": {
      "text/plain": [
       "(60000,)"
      ]
     },
     "metadata": {},
     "execution_count": 8
    }
   ]
  },
  {
   "cell_type": "code",
   "source": [
    "class_n = len(set(y_train))"
   ],
   "metadata": {
    "id": "ns25KYHP49h9",
    "executionInfo": {
     "status": "ok",
     "timestamp": 1663224264372,
     "user_tz": -540,
     "elapsed": 283,
     "user": {
      "displayName": "김건영",
      "userId": "04338252548733078915"
     }
    },
    "pycharm": {
     "name": "#%%\n"
    }
   },
   "execution_count": 10,
   "outputs": []
  },
  {
   "cell_type": "code",
   "source": [
    "y_train = to_categorical(y_train, class_n)\n",
    "y_test = to_categorical(y_test, class_n)"
   ],
   "metadata": {
    "id": "2zhg2-OA5DP8",
    "executionInfo": {
     "status": "ok",
     "timestamp": 1663224285957,
     "user_tz": -540,
     "elapsed": 534,
     "user": {
      "displayName": "김건영",
      "userId": "04338252548733078915"
     }
    },
    "pycharm": {
     "name": "#%%\n"
    }
   },
   "execution_count": 11,
   "outputs": []
  },
  {
   "cell_type": "code",
   "source": [
    "y_train.shape"
   ],
   "metadata": {
    "colab": {
     "base_uri": "https://localhost:8080/"
    },
    "id": "uJ1g-FyT5IdP",
    "executionInfo": {
     "status": "ok",
     "timestamp": 1663224303575,
     "user_tz": -540,
     "elapsed": 610,
     "user": {
      "displayName": "김건영",
      "userId": "04338252548733078915"
     }
    },
    "outputId": "91cde00c-5452-47a5-eda7-8a59871678d5",
    "pycharm": {
     "name": "#%%\n"
    }
   },
   "execution_count": 12,
   "outputs": [
    {
     "output_type": "execute_result",
     "data": {
      "text/plain": [
       "(60000, 10)"
      ]
     },
     "metadata": {},
     "execution_count": 12
    }
   ]
  },
  {
   "cell_type": "code",
   "source": [
    "from tensorflow.keras.backend import clear_session\n",
    "from tensorflow.keras.models import Sequential, Model\n",
    "from tensorflow.keras.layers import Input, Dense, Flatten\n",
    "\n",
    "from tensorflow.keras.losses import categorical_crossentropy\n",
    "from tensorflow.keras.optimizers import Adam\n",
    "from tensorflow.keras.activations import relu, softmax"
   ],
   "metadata": {
    "id": "Gyb_2y8q5YKa",
    "executionInfo": {
     "status": "ok",
     "timestamp": 1663224472953,
     "user_tz": -540,
     "elapsed": 280,
     "user": {
      "displayName": "김건영",
      "userId": "04338252548733078915"
     }
    },
    "pycharm": {
     "name": "#%%\n"
    }
   },
   "execution_count": 13,
   "outputs": []
  },
  {
   "cell_type": "code",
   "source": [
    "x_train.shape"
   ],
   "metadata": {
    "colab": {
     "base_uri": "https://localhost:8080/"
    },
    "id": "uonMFXHD6FeS",
    "executionInfo": {
     "status": "ok",
     "timestamp": 1663224537798,
     "user_tz": -540,
     "elapsed": 292,
     "user": {
      "displayName": "김건영",
      "userId": "04338252548733078915"
     }
    },
    "outputId": "5dec94e6-d2fd-4d5f-994d-0d8e04718e94",
    "pycharm": {
     "name": "#%%\n"
    }
   },
   "execution_count": 14,
   "outputs": [
    {
     "output_type": "execute_result",
     "data": {
      "text/plain": [
       "(60000, 28, 28)"
      ]
     },
     "metadata": {},
     "execution_count": 14
    }
   ]
  },
  {
   "cell_type": "code",
   "metadata": {
    "id": "ytuvtzg1urGb",
    "colab": {
     "base_uri": "https://localhost:8080/"
    },
    "executionInfo": {
     "status": "ok",
     "timestamp": 1663224722620,
     "user_tz": -540,
     "elapsed": 3689,
     "user": {
      "displayName": "김건영",
      "userId": "04338252548733078915"
     }
    },
    "outputId": "741dae9c-b691-4af3-f34b-f31e3e007b96",
    "pycharm": {
     "name": "#%%\n"
    }
   },
   "source": [
    "#############\n",
    "# Your Code # : Sequential API\n",
    "#############\n",
    "# 1. 세션 클리어\n",
    "clear_session()\n",
    "\n",
    "# 2. 모델 선언 : 시퀀셜하게!\n",
    "model = Sequential()\n",
    "\n",
    "# 3. 모델 조립 : 레이어 블록을 차곡차곡!\n",
    "model.add( Input(shape=(x_train.shape[1], x_train.shape[2])) )\n",
    "model.add( Flatten() )\n",
    "model.add( Dense(512, activation=relu) )\n",
    "model.add( Dense(512, activation=relu) )\n",
    "model.add( Dense(256, activation=relu) )\n",
    "model.add( Dense(256, activation=relu) )\n",
    "model.add( Dense(64, activation=relu) )\n",
    "model.add( Dense(10, activation=softmax) )\n",
    "\n",
    "# 4. 컴파일\n",
    "model.compile(loss=categorical_crossentropy, metrics=['accuracy'],\n",
    "              optimizer=Adam() )\n",
    "\n",
    "# 써머리\n",
    "model.summary()"
   ],
   "execution_count": 15,
   "outputs": [
    {
     "output_type": "stream",
     "name": "stdout",
     "text": [
      "Model: \"sequential\"\n",
      "_________________________________________________________________\n",
      " Layer (type)                Output Shape              Param #   \n",
      "=================================================================\n",
      " flatten (Flatten)           (None, 784)               0         \n",
      "                                                                 \n",
      " dense (Dense)               (None, 512)               401920    \n",
      "                                                                 \n",
      " dense_1 (Dense)             (None, 512)               262656    \n",
      "                                                                 \n",
      " dense_2 (Dense)             (None, 256)               131328    \n",
      "                                                                 \n",
      " dense_3 (Dense)             (None, 256)               65792     \n",
      "                                                                 \n",
      " dense_4 (Dense)             (None, 64)                16448     \n",
      "                                                                 \n",
      " dense_5 (Dense)             (None, 10)                650       \n",
      "                                                                 \n",
      "=================================================================\n",
      "Total params: 878,794\n",
      "Trainable params: 878,794\n",
      "Non-trainable params: 0\n",
      "_________________________________________________________________\n"
     ]
    }
   ]
  },
  {
   "cell_type": "code",
   "source": [
    "#############\n",
    "# Your Code # : Functional API\n",
    "#############\n",
    "# 1. 세션 클리어\n",
    "clear_session()\n",
    "\n",
    "# 2. 레이어 사슬처럼 엮기\n",
    "il = Input(shape=(28,28) )\n",
    "fl = Flatten()(il)\n",
    "hl = Dense(512, activation=relu)(fl)\n",
    "hl = Dense(512, activation=relu)(hl)\n",
    "hl = Dense(256, activation=relu)(hl)\n",
    "hl = Dense(256, activation=relu)(hl)\n",
    "hl = Dense(64, activation=relu)(hl)\n",
    "ol = Dense(10, activation=softmax)(hl)\n",
    "\n",
    "# 3. 모델의 시작과 끝 지정\n",
    "model = Model(il, ol)\n",
    "\n",
    "# 4. 컴파일\n",
    "model.compile(loss=categorical_crossentropy, metrics=['accuracy'],\n",
    "              optimizer=Adam() )\n",
    "\n",
    "# 써머리\n",
    "model.summary()"
   ],
   "metadata": {
    "colab": {
     "base_uri": "https://localhost:8080/"
    },
    "id": "W-_Z6IqU7nrk",
    "executionInfo": {
     "status": "ok",
     "timestamp": 1663225106690,
     "user_tz": -540,
     "elapsed": 500,
     "user": {
      "displayName": "김건영",
      "userId": "04338252548733078915"
     }
    },
    "outputId": "debecccb-908c-48be-ad71-e2abbd5fe1d1",
    "pycharm": {
     "name": "#%%\n"
    }
   },
   "execution_count": 18,
   "outputs": [
    {
     "output_type": "stream",
     "name": "stdout",
     "text": [
      "Model: \"model\"\n",
      "_________________________________________________________________\n",
      " Layer (type)                Output Shape              Param #   \n",
      "=================================================================\n",
      " input_1 (InputLayer)        [(None, 28, 28)]          0         \n",
      "                                                                 \n",
      " flatten (Flatten)           (None, 784)               0         \n",
      "                                                                 \n",
      " dense (Dense)               (None, 512)               401920    \n",
      "                                                                 \n",
      " dense_1 (Dense)             (None, 512)               262656    \n",
      "                                                                 \n",
      " dense_2 (Dense)             (None, 256)               131328    \n",
      "                                                                 \n",
      " dense_3 (Dense)             (None, 256)               65792     \n",
      "                                                                 \n",
      " dense_4 (Dense)             (None, 64)                16448     \n",
      "                                                                 \n",
      " dense_5 (Dense)             (None, 10)                650       \n",
      "                                                                 \n",
      "=================================================================\n",
      "Total params: 878,794\n",
      "Trainable params: 878,794\n",
      "Non-trainable params: 0\n",
      "_________________________________________________________________\n"
     ]
    }
   ]
  },
  {
   "cell_type": "code",
   "metadata": {
    "id": "SbCR_wsLvx0c",
    "executionInfo": {
     "status": "ok",
     "timestamp": 1663224785592,
     "user_tz": -540,
     "elapsed": 307,
     "user": {
      "displayName": "김건영",
      "userId": "04338252548733078915"
     }
    },
    "pycharm": {
     "name": "#%%\n"
    }
   },
   "source": [
    "#############\n",
    "# Your Code # Early Stopping\n",
    "#############\n",
    "# epochs=50, validation_split=0.2\n",
    "# early stopping\n",
    "from tensorflow.keras.callbacks import EarlyStopping"
   ],
   "execution_count": 16,
   "outputs": []
  },
  {
   "cell_type": "code",
   "source": [
    "es = EarlyStopping(monitor='val_loss',         # 관측 대상\n",
    "                   min_delta=0,                # 이 값 이상으로 관측 대상 값이 변해야 개선 인정\n",
    "                   patience=5,                 # 개선되지 않을 때 몇 번까지 참을래\n",
    "                   verbose=1,                 \n",
    "                   restore_best_weights=True)  # 최적의 가중치 값을 모델에 전달"
   ],
   "metadata": {
    "id": "5Qc_neMO7Cfn",
    "executionInfo": {
     "status": "ok",
     "timestamp": 1663224889802,
     "user_tz": -540,
     "elapsed": 386,
     "user": {
      "displayName": "김건영",
      "userId": "04338252548733078915"
     }
    },
    "pycharm": {
     "name": "#%%\n"
    }
   },
   "execution_count": 17,
   "outputs": []
  },
  {
   "cell_type": "code",
   "source": [
    "model.fit(x_train, y_train, epochs=50, verbose=1,\n",
    "          validation_split=0.2, callbacks=[es])"
   ],
   "metadata": {
    "colab": {
     "base_uri": "https://localhost:8080/"
    },
    "id": "j55YZogm7b6q",
    "executionInfo": {
     "status": "ok",
     "timestamp": 1663225234375,
     "user_tz": -540,
     "elapsed": 83316,
     "user": {
      "displayName": "김건영",
      "userId": "04338252548733078915"
     }
    },
    "outputId": "f4d2d3b1-e320-4532-d5a9-b490bf8156e9",
    "pycharm": {
     "name": "#%%\n"
    }
   },
   "execution_count": 19,
   "outputs": [
    {
     "output_type": "stream",
     "name": "stdout",
     "text": [
      "Epoch 1/50\n",
      "1500/1500 [==============================] - 8s 4ms/step - loss: 0.5250 - accuracy: 0.8104 - val_loss: 0.4753 - val_accuracy: 0.8307\n",
      "Epoch 2/50\n",
      "1500/1500 [==============================] - 5s 3ms/step - loss: 0.3951 - accuracy: 0.8564 - val_loss: 0.4167 - val_accuracy: 0.8516\n",
      "Epoch 3/50\n",
      "1500/1500 [==============================] - 5s 3ms/step - loss: 0.3527 - accuracy: 0.8712 - val_loss: 0.4018 - val_accuracy: 0.8615\n",
      "Epoch 4/50\n",
      "1500/1500 [==============================] - 5s 3ms/step - loss: 0.3266 - accuracy: 0.8818 - val_loss: 0.3413 - val_accuracy: 0.8808\n",
      "Epoch 5/50\n",
      "1500/1500 [==============================] - 5s 3ms/step - loss: 0.3056 - accuracy: 0.8889 - val_loss: 0.3607 - val_accuracy: 0.8727\n",
      "Epoch 6/50\n",
      "1500/1500 [==============================] - 5s 3ms/step - loss: 0.2903 - accuracy: 0.8931 - val_loss: 0.3352 - val_accuracy: 0.8767\n",
      "Epoch 7/50\n",
      "1500/1500 [==============================] - 6s 4ms/step - loss: 0.2764 - accuracy: 0.8973 - val_loss: 0.3423 - val_accuracy: 0.8875\n",
      "Epoch 8/50\n",
      "1500/1500 [==============================] - 5s 3ms/step - loss: 0.2647 - accuracy: 0.9023 - val_loss: 0.3438 - val_accuracy: 0.8792\n",
      "Epoch 9/50\n",
      "1500/1500 [==============================] - 6s 4ms/step - loss: 0.2557 - accuracy: 0.9057 - val_loss: 0.3382 - val_accuracy: 0.8832\n",
      "Epoch 10/50\n",
      "1500/1500 [==============================] - 6s 4ms/step - loss: 0.2502 - accuracy: 0.9074 - val_loss: 0.3298 - val_accuracy: 0.8877\n",
      "Epoch 11/50\n",
      "1500/1500 [==============================] - 5s 3ms/step - loss: 0.2385 - accuracy: 0.9099 - val_loss: 0.3339 - val_accuracy: 0.8915\n",
      "Epoch 12/50\n",
      "1500/1500 [==============================] - 6s 4ms/step - loss: 0.2323 - accuracy: 0.9133 - val_loss: 0.3299 - val_accuracy: 0.8908\n",
      "Epoch 13/50\n",
      "1500/1500 [==============================] - 5s 3ms/step - loss: 0.2211 - accuracy: 0.9183 - val_loss: 0.3536 - val_accuracy: 0.8836\n",
      "Epoch 14/50\n",
      "1500/1500 [==============================] - 5s 3ms/step - loss: 0.2174 - accuracy: 0.9185 - val_loss: 0.3397 - val_accuracy: 0.8947\n",
      "Epoch 15/50\n",
      "1494/1500 [============================>.] - ETA: 0s - loss: 0.2077 - accuracy: 0.9217Restoring model weights from the end of the best epoch: 10.\n",
      "1500/1500 [==============================] - 5s 3ms/step - loss: 0.2077 - accuracy: 0.9216 - val_loss: 0.3574 - val_accuracy: 0.8890\n",
      "Epoch 15: early stopping\n"
     ]
    },
    {
     "output_type": "execute_result",
     "data": {
      "text/plain": [
       "<keras.callbacks.History at 0x7f0e60081950>"
      ]
     },
     "metadata": {},
     "execution_count": 19
    }
   ]
  },
  {
   "cell_type": "markdown",
   "metadata": {
    "id": "oJv7XEk10bOv",
    "pycharm": {
     "name": "#%% md\n"
    }
   },
   "source": [
    "## Visualize prediction\n",
    "\n",
    "위에서 지키라고 한 사항들 안지키면 동작을 안할껄...?"
   ]
  },
  {
   "cell_type": "code",
   "metadata": {
    "id": "L_B3UemLh6ON",
    "colab": {
     "base_uri": "https://localhost:8080/"
    },
    "executionInfo": {
     "status": "ok",
     "timestamp": 1663225319234,
     "user_tz": -540,
     "elapsed": 2418,
     "user": {
      "displayName": "김건영",
      "userId": "04338252548733078915"
     }
    },
    "outputId": "5f666cf8-d921-4761-ee88-32b278acc75d",
    "pycharm": {
     "name": "#%%\n"
    }
   },
   "source": [
    "score = model.evaluate(x_test, y_test, verbose=0)\n",
    "\n",
    "# Print test accuracy\n",
    "print('\\n', 'Test accuracy:', score[1])\n",
    "y_hat = model.predict(x_test).argmax(axis=1)"
   ],
   "execution_count": 20,
   "outputs": [
    {
     "output_type": "stream",
     "name": "stdout",
     "text": [
      "\n",
      " Test accuracy: 0.883400022983551\n"
     ]
    }
   ]
  },
  {
   "cell_type": "code",
   "metadata": {
    "id": "QwNmlfIC0YxM",
    "colab": {
     "base_uri": "https://localhost:8080/",
     "height": 485
    },
    "executionInfo": {
     "status": "ok",
     "timestamp": 1663225392680,
     "user_tz": -540,
     "elapsed": 1451,
     "user": {
      "displayName": "김건영",
      "userId": "04338252548733078915"
     }
    },
    "outputId": "a756c369-8b20-44d3-bf0e-2a3ed8959fff",
    "pycharm": {
     "name": "#%%\n"
    }
   },
   "source": [
    "####### 반복실행해보자\n",
    "\n",
    "# Plot a random sample of 10 test images, their predicted labels and ground truth\n",
    "figure = plt.figure(figsize=(20, 8))\n",
    "for i, index in enumerate(np.random.choice(x_test.shape[0], size=15, replace=False)):\n",
    "    ax = figure.add_subplot(3, 5, i + 1, xticks=[], yticks=[])\n",
    "    # Display each image\n",
    "    ax.imshow(np.squeeze(x_test[index].reshape([28,-1]) ) )\n",
    "    predict_index = y_hat[index]\n",
    "    true_index = y_test[index].argmax(axis=0)\n",
    "    # Set the title for each image\n",
    "    ax.set_title(\"{} ({})\".format(fashion_mnist_labels[predict_index], \n",
    "                                  fashion_mnist_labels[true_index]),\n",
    "                                  color=(\"green\" if predict_index == true_index else \"red\"))"
   ],
   "execution_count": 23,
   "outputs": [
    {
     "output_type": "display_data",
     "data": {
      "text/plain": [
       "<Figure size 1440x576 with 15 Axes>"
      ],
      "image/png": "[encoded data removed]"
     },
     "metadata": {}
    }
   ]
  }
 ]
}