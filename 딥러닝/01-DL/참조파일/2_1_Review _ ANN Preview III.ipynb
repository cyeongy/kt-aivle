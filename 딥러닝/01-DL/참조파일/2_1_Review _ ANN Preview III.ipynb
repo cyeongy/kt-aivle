{
 "nbformat": 4,
 "nbformat_minor": 0,
 "metadata": {
  "colab": {
   "provenance": [],
   "collapsed_sections": [
    "0xVNQT9V-Iev"
   ]
  },
  "kernelspec": {
   "name": "python3",
   "display_name": "Python 3"
  },
  "language_info": {
   "name": "python"
  }
 },
 "cells": [
  {
   "cell_type": "markdown",
   "metadata": {
    "id": "T7kdgJptO50L",
    "pycharm": {
     "name": "#%% md\n"
    }
   },
   "source": [
    "# 1일차 Review : 같은 문제 다시 풀어보기\n",
    "\n",
    "    학습은 10번으로!"
   ]
  },
  {
   "cell_type": "code",
   "metadata": {
    "id": "k-kIj84JQdd3",
    "executionInfo": {
     "status": "ok",
     "timestamp": 1663131005009,
     "user_tz": -540,
     "elapsed": 1112,
     "user": {
      "displayName": "김건영",
      "userId": "04338252548733078915"
     }
    },
    "pycharm": {
     "name": "#%%\n"
    }
   },
   "source": [
    "from sklearn.datasets import load_iris"
   ],
   "execution_count": 21,
   "outputs": []
  },
  {
   "cell_type": "code",
   "metadata": {
    "id": "1F1kZLpEQof_",
    "executionInfo": {
     "status": "ok",
     "timestamp": 1663131005934,
     "user_tz": -540,
     "elapsed": 10,
     "user": {
      "displayName": "김건영",
      "userId": "04338252548733078915"
     }
    },
    "pycharm": {
     "name": "#%%\n"
    }
   },
   "source": [
    "iris = load_iris()"
   ],
   "execution_count": 22,
   "outputs": []
  },
  {
   "cell_type": "code",
   "metadata": {
    "id": "4uNPvbD_QyUh",
    "executionInfo": {
     "status": "ok",
     "timestamp": 1663131005934,
     "user_tz": -540,
     "elapsed": 9,
     "user": {
      "displayName": "김건영",
      "userId": "04338252548733078915"
     }
    },
    "pycharm": {
     "name": "#%%\n"
    }
   },
   "source": [
    "x = iris.data\n",
    "y = iris.target"
   ],
   "execution_count": 23,
   "outputs": []
  },
  {
   "cell_type": "code",
   "metadata": {
    "id": "6DfGrWUsQ3WC",
    "colab": {
     "base_uri": "https://localhost:8080/"
    },
    "executionInfo": {
     "status": "ok",
     "timestamp": 1663131005934,
     "user_tz": -540,
     "elapsed": 9,
     "user": {
      "displayName": "김건영",
      "userId": "04338252548733078915"
     }
    },
    "outputId": "bb7d7760-f05e-45fe-b26d-e9569d1bcae9",
    "pycharm": {
     "name": "#%%\n"
    }
   },
   "source": [
    "x.shape, y.shape"
   ],
   "execution_count": 24,
   "outputs": [
    {
     "output_type": "execute_result",
     "data": {
      "text/plain": [
       "((150, 4), (150,))"
      ]
     },
     "metadata": {},
     "execution_count": 24
    }
   ]
  },
  {
   "cell_type": "code",
   "source": [
    "## train set / test set 분리\n",
    "from sklearn.model_selection import train_test_split"
   ],
   "metadata": {
    "id": "vSDTgfTw-UnX",
    "executionInfo": {
     "status": "ok",
     "timestamp": 1663131005934,
     "user_tz": -540,
     "elapsed": 7,
     "user": {
      "displayName": "김건영",
      "userId": "04338252548733078915"
     }
    },
    "pycharm": {
     "name": "#%%\n"
    }
   },
   "execution_count": 25,
   "outputs": []
  },
  {
   "cell_type": "code",
   "source": [
    "x_train, x_test, y_train, y_test = train_test_split(x, y, random_state=2022, test_size=0.2)"
   ],
   "metadata": {
    "id": "1BC9GhTkB4Z7",
    "executionInfo": {
     "status": "ok",
     "timestamp": 1663131005935,
     "user_tz": -540,
     "elapsed": 8,
     "user": {
      "displayName": "김건영",
      "userId": "04338252548733078915"
     }
    },
    "pycharm": {
     "name": "#%%\n"
    }
   },
   "execution_count": 26,
   "outputs": []
  },
  {
   "cell_type": "code",
   "source": [
    "x_train.shape, y_train.shape"
   ],
   "metadata": {
    "colab": {
     "base_uri": "https://localhost:8080/"
    },
    "id": "BAvcg56uCARW",
    "executionInfo": {
     "status": "ok",
     "timestamp": 1663131005935,
     "user_tz": -540,
     "elapsed": 8,
     "user": {
      "displayName": "김건영",
      "userId": "04338252548733078915"
     }
    },
    "outputId": "daf479c4-523b-4d72-9710-dde717882b3e",
    "pycharm": {
     "name": "#%%\n"
    }
   },
   "execution_count": 27,
   "outputs": [
    {
     "output_type": "execute_result",
     "data": {
      "text/plain": [
       "((120, 4), (120,))"
      ]
     },
     "metadata": {},
     "execution_count": 27
    }
   ]
  },
  {
   "cell_type": "code",
   "metadata": {
    "id": "puqIL3FCRBs6",
    "executionInfo": {
     "status": "ok",
     "timestamp": 1663131008069,
     "user_tz": -540,
     "elapsed": 1,
     "user": {
      "displayName": "김건영",
      "userId": "04338252548733078915"
     }
    },
    "pycharm": {
     "name": "#%%\n"
    }
   },
   "source": [
    "#####################\n",
    "# 라이브러리 불러오기\n",
    "#####################\n",
    "import tensorflow as tf\n",
    "from tensorflow import keras\n",
    "\n",
    "import numpy as np"
   ],
   "execution_count": 28,
   "outputs": []
  },
  {
   "cell_type": "code",
   "metadata": {
    "id": "TY0leKum_owG",
    "executionInfo": {
     "status": "ok",
     "timestamp": 1663131009136,
     "user_tz": -540,
     "elapsed": 2,
     "user": {
      "displayName": "김건영",
      "userId": "04338252548733078915"
     }
    },
    "pycharm": {
     "name": "#%%\n"
    }
   },
   "source": [
    "#######################\n",
    "# 어떤 전처리 작업 필요\n",
    "# Hint : y.shape\n",
    "#######################\n",
    "class_n = len(np.unique(y_train))\n",
    "\n",
    "from tensorflow.keras.utils import to_categorical"
   ],
   "execution_count": 29,
   "outputs": []
  },
  {
   "cell_type": "code",
   "source": [
    "y_train = to_categorical(y_train, class_n)\n",
    "y_test = to_categorical(y_test, class_n)"
   ],
   "metadata": {
    "id": "Fw1nvVvdCkHy",
    "executionInfo": {
     "status": "ok",
     "timestamp": 1663131009136,
     "user_tz": -540,
     "elapsed": 1,
     "user": {
      "displayName": "김건영",
      "userId": "04338252548733078915"
     }
    },
    "pycharm": {
     "name": "#%%\n"
    }
   },
   "execution_count": 30,
   "outputs": []
  },
  {
   "cell_type": "code",
   "source": [
    "x_train.shape, y_train.shape"
   ],
   "metadata": {
    "colab": {
     "base_uri": "https://localhost:8080/"
    },
    "id": "_4V8x0JkCtV8",
    "executionInfo": {
     "status": "ok",
     "timestamp": 1663131011180,
     "user_tz": -540,
     "elapsed": 2,
     "user": {
      "displayName": "김건영",
      "userId": "04338252548733078915"
     }
    },
    "outputId": "89f2fda9-207b-49db-c538-1217d54e11ae",
    "pycharm": {
     "name": "#%%\n"
    }
   },
   "execution_count": 31,
   "outputs": [
    {
     "output_type": "execute_result",
     "data": {
      "text/plain": [
       "((120, 4), (120, 3))"
      ]
     },
     "metadata": {},
     "execution_count": 31
    }
   ]
  },
  {
   "cell_type": "code",
   "metadata": {
    "id": "broVdGpGbqrC",
    "colab": {
     "base_uri": "https://localhost:8080/"
    },
    "executionInfo": {
     "status": "ok",
     "timestamp": 1663131182547,
     "user_tz": -540,
     "elapsed": 424,
     "user": {
      "displayName": "김건영",
      "userId": "04338252548733078915"
     }
    },
    "outputId": "7a56d1f5-e81e-42a6-ede1-9cfba814ac35",
    "pycharm": {
     "name": "#%%\n"
    }
   },
   "source": [
    "########\n",
    "# 모델링 : Sequential API\n",
    "########\n",
    "# 1. 세션 클리어\n",
    "keras.backend.clear_session()\n",
    "\n",
    "# 2. 모델 발판 생성 : sequential()\n",
    "model = keras.models.Sequential()\n",
    "\n",
    "# 3. 모델 블록 조립 : .add()\n",
    "model.add( keras.layers.Input(shape=(4,)) )\n",
    "model.add( keras.layers.Dense(3, activation='softmax') )\n",
    "\n",
    "# 4. 컴파일\n",
    "model.compile(loss=keras.losses.categorical_crossentropy, metrics=['accuracy'],\n",
    "              optimizer=keras.optimizers.Adam() )\n",
    "\n",
    "# 양념\n",
    "model.summary()"
   ],
   "execution_count": 32,
   "outputs": [
    {
     "output_type": "stream",
     "name": "stdout",
     "text": [
      "Model: \"sequential\"\n",
      "_________________________________________________________________\n",
      " Layer (type)                Output Shape              Param #   \n",
      "=================================================================\n",
      " dense (Dense)               (None, 3)                 15        \n",
      "                                                                 \n",
      "=================================================================\n",
      "Total params: 15\n",
      "Trainable params: 15\n",
      "Non-trainable params: 0\n",
      "_________________________________________________________________\n"
     ]
    }
   ]
  },
  {
   "cell_type": "code",
   "metadata": {
    "id": "4U3tZ7PvbljS",
    "colab": {
     "base_uri": "https://localhost:8080/"
    },
    "executionInfo": {
     "status": "ok",
     "timestamp": 1663131204633,
     "user_tz": -540,
     "elapsed": 1208,
     "user": {
      "displayName": "김건영",
      "userId": "04338252548733078915"
     }
    },
    "outputId": "e5e6d39e-45fa-40a4-e915-ec7338c384a5",
    "pycharm": {
     "name": "#%%\n"
    }
   },
   "source": [
    "###########\n",
    "# 모델 학습\n",
    "###########\n",
    "\n",
    "model.fit(x_train, y_train, epochs=10, verbose=1)"
   ],
   "execution_count": 33,
   "outputs": [
    {
     "output_type": "stream",
     "name": "stdout",
     "text": [
      "Epoch 1/10\n",
      "4/4 [==============================] - 1s 4ms/step - loss: 3.8805 - accuracy: 0.3083\n",
      "Epoch 2/10\n",
      "4/4 [==============================] - 0s 3ms/step - loss: 3.8092 - accuracy: 0.3083\n",
      "Epoch 3/10\n",
      "4/4 [==============================] - 0s 3ms/step - loss: 3.7400 - accuracy: 0.3083\n",
      "Epoch 4/10\n",
      "4/4 [==============================] - 0s 3ms/step - loss: 3.6686 - accuracy: 0.3083\n",
      "Epoch 5/10\n",
      "4/4 [==============================] - 0s 3ms/step - loss: 3.5978 - accuracy: 0.3083\n",
      "Epoch 6/10\n",
      "4/4 [==============================] - 0s 3ms/step - loss: 3.5275 - accuracy: 0.3083\n",
      "Epoch 7/10\n",
      "4/4 [==============================] - 0s 3ms/step - loss: 3.4586 - accuracy: 0.3083\n",
      "Epoch 8/10\n",
      "4/4 [==============================] - 0s 5ms/step - loss: 3.3902 - accuracy: 0.3083\n",
      "Epoch 9/10\n",
      "4/4 [==============================] - 0s 5ms/step - loss: 3.3229 - accuracy: 0.3083\n",
      "Epoch 10/10\n",
      "4/4 [==============================] - 0s 3ms/step - loss: 3.2568 - accuracy: 0.3083\n"
     ]
    },
    {
     "output_type": "execute_result",
     "data": {
      "text/plain": [
       "<keras.callbacks.History at 0x7f76300bced0>"
      ]
     },
     "metadata": {},
     "execution_count": 33
    }
   ]
  },
  {
   "cell_type": "code",
   "metadata": {
    "id": "prSYRU-_AlYz",
    "pycharm": {
     "name": "#%%\n"
    }
   },
   "source": [
    "###########\n",
    "# 모델 예측\n",
    "###########\n",
    "\n",
    "model.predict(x_test)"
   ],
   "execution_count": null,
   "outputs": []
  },
  {
   "cell_type": "markdown",
   "metadata": {
    "id": "0xVNQT9V-Iev",
    "pycharm": {
     "name": "#%% md\n"
    }
   },
   "source": [
    "# 히든 레이어 추가하여 모델링! (Functional API)\n",
    "\n",
    "    히든 레이어 2개를 추가하여 다시 모델링!\n",
    "    히든 레이어 노드 수 : 32\n",
    "    히든 레이어 activation = 'relu'"
   ]
  },
  {
   "cell_type": "code",
   "source": [
    "x_train.shape, y_train.shape"
   ],
   "metadata": {
    "colab": {
     "base_uri": "https://localhost:8080/"
    },
    "id": "2rW2qMvKXKAU",
    "executionInfo": {
     "status": "ok",
     "timestamp": 1663131498532,
     "user_tz": -540,
     "elapsed": 417,
     "user": {
      "displayName": "김건영",
      "userId": "04338252548733078915"
     }
    },
    "outputId": "2380e87d-dcaa-43c8-95c8-51e7f89f8baf",
    "pycharm": {
     "name": "#%%\n"
    }
   },
   "execution_count": 34,
   "outputs": [
    {
     "output_type": "execute_result",
     "data": {
      "text/plain": [
       "((120, 4), (120, 3))"
      ]
     },
     "metadata": {},
     "execution_count": 34
    }
   ]
  },
  {
   "cell_type": "code",
   "metadata": {
    "id": "y3PTU3m--xMa",
    "colab": {
     "base_uri": "https://localhost:8080/"
    },
    "executionInfo": {
     "status": "ok",
     "timestamp": 1663131751083,
     "user_tz": -540,
     "elapsed": 298,
     "user": {
      "displayName": "김건영",
      "userId": "04338252548733078915"
     }
    },
    "outputId": "128aaa93-49a9-4062-d27c-50c040bcf54e",
    "pycharm": {
     "name": "#%%\n"
    }
   },
   "source": [
    "########\n",
    "# 모델링 : Functional API\n",
    "########\n",
    "# 1. 세션 클리어\n",
    "keras.backend.clear_session()\n",
    "\n",
    "# 2. 레이어 사슬처럼 엮기\n",
    "il = keras.layers.Input(shape=(4,), name='inputLayer')\n",
    "hl = keras.layers.Dense(32, activation='relu', name='hidden1')(il)\n",
    "hl = keras.layers.Dense(32, activation='relu', name='hidden2')(hl)\n",
    "ol = keras.layers.Dense(3, activation='softmax', name='outputLayer')(hl)\n",
    "\n",
    "# 3. 모델의 시작과 끝 지정\n",
    "model = keras.models.Model(il, ol)\n",
    "\n",
    "# 4. 컴파일\n",
    "model.compile(loss='categorical_crossentropy', metrics=['accuracy'],\n",
    "              optimizer='adam')\n",
    "\n",
    "model.summary()"
   ],
   "execution_count": 35,
   "outputs": [
    {
     "output_type": "stream",
     "name": "stdout",
     "text": [
      "Model: \"model\"\n",
      "_________________________________________________________________\n",
      " Layer (type)                Output Shape              Param #   \n",
      "=================================================================\n",
      " inputLayer (InputLayer)     [(None, 4)]               0         \n",
      "                                                                 \n",
      " hidden1 (Dense)             (None, 32)                160       \n",
      "                                                                 \n",
      " hidden2 (Dense)             (None, 32)                1056      \n",
      "                                                                 \n",
      " outputLayer (Dense)         (None, 3)                 99        \n",
      "                                                                 \n",
      "=================================================================\n",
      "Total params: 1,315\n",
      "Trainable params: 1,315\n",
      "Non-trainable params: 0\n",
      "_________________________________________________________________\n"
     ]
    }
   ]
  },
  {
   "cell_type": "code",
   "metadata": {
    "id": "HbvMea71-xMb",
    "colab": {
     "base_uri": "https://localhost:8080/"
    },
    "executionInfo": {
     "status": "ok",
     "timestamp": 1663131831682,
     "user_tz": -540,
     "elapsed": 1205,
     "user": {
      "displayName": "김건영",
      "userId": "04338252548733078915"
     }
    },
    "outputId": "5dbb7e96-ca06-4426-b409-482ef3c49ea5",
    "pycharm": {
     "name": "#%%\n"
    }
   },
   "source": [
    "###########\n",
    "# 모델 학습\n",
    "###########\n",
    "\n",
    "model.fit(x_train, y_train, epochs=10, verbose=1)"
   ],
   "execution_count": 36,
   "outputs": [
    {
     "output_type": "stream",
     "name": "stdout",
     "text": [
      "Epoch 1/10\n",
      "4/4 [==============================] - 1s 4ms/step - loss: 2.3338 - accuracy: 0.3083\n",
      "Epoch 2/10\n",
      "4/4 [==============================] - 0s 4ms/step - loss: 1.9272 - accuracy: 0.3083\n",
      "Epoch 3/10\n",
      "4/4 [==============================] - 0s 4ms/step - loss: 1.6086 - accuracy: 0.3083\n",
      "Epoch 4/10\n",
      "4/4 [==============================] - 0s 4ms/step - loss: 1.3999 - accuracy: 0.3833\n",
      "Epoch 5/10\n",
      "4/4 [==============================] - 0s 5ms/step - loss: 1.2818 - accuracy: 0.3500\n",
      "Epoch 6/10\n",
      "4/4 [==============================] - 0s 4ms/step - loss: 1.1623 - accuracy: 0.3500\n",
      "Epoch 7/10\n",
      "4/4 [==============================] - 0s 4ms/step - loss: 1.0500 - accuracy: 0.3500\n",
      "Epoch 8/10\n",
      "4/4 [==============================] - 0s 5ms/step - loss: 0.9419 - accuracy: 0.3583\n",
      "Epoch 9/10\n",
      "4/4 [==============================] - 0s 4ms/step - loss: 0.8608 - accuracy: 0.7500\n",
      "Epoch 10/10\n",
      "4/4 [==============================] - 0s 4ms/step - loss: 0.8111 - accuracy: 0.8500\n"
     ]
    },
    {
     "output_type": "execute_result",
     "data": {
      "text/plain": [
       "<keras.callbacks.History at 0x7f76300106d0>"
      ]
     },
     "metadata": {},
     "execution_count": 36
    }
   ]
  },
  {
   "cell_type": "code",
   "metadata": {
    "id": "_BZMmR5--xMb",
    "pycharm": {
     "name": "#%%\n"
    }
   },
   "source": [
    "###########\n",
    "# 모델 예측\n",
    "###########\n",
    "\n",
    "model.predict(x_test)"
   ],
   "execution_count": null,
   "outputs": []
  }
 ]
}