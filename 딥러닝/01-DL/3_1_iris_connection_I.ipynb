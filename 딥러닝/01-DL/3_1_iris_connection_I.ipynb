{
 "nbformat": 4,
 "nbformat_minor": 0,
 "metadata": {
  "colab": {
   "name": "3_1_iris_connection_I.ipynb",
   "provenance": [],
   "collapsed_sections": [],
   "toc_visible": true
  },
  "kernelspec": {
   "name": "python3",
   "display_name": "Python 3"
  },
  "language_info": {
   "name": "python"
  }
 },
 "cells": [
  {
   "cell_type": "markdown",
   "metadata": {
    "id": "JR8jlMMPdIn8",
    "pycharm": {
     "name": "#%% md\n"
    }
   },
   "source": [
    "# IRIS - Connection I\n",
    "\n",
    "![Concatenate Layer](https://github.com/DrKAI/image/blob/main/Concatenate%20Layer.png?raw=true)"
   ]
  },
  {
   "cell_type": "code",
   "metadata": {
    "id": "5Ryk5eNOb4-w",
    "pycharm": {
     "name": "#%%\n"
    }
   },
   "source": [
    "import numpy as np\n",
    "import pandas as pd\n",
    "\n",
    "import tensorflow as tf\n",
    "from tensorflow import keras\n",
    "\n",
    "from sklearn.datasets import load_iris"
   ],
   "execution_count": null,
   "outputs": []
  },
  {
   "cell_type": "markdown",
   "metadata": {
    "id": "Gx-TUkNXWFVJ",
    "pycharm": {
     "name": "#%% md\n"
    }
   },
   "source": [
    "## 데이터 불러오기\n",
    "\n",
    "- iris.feature_names를 이용하여 판다스 데이터 프레임 만들기!"
   ]
  },
  {
   "cell_type": "code",
   "metadata": {
    "id": "ytlkOE3hcqO-",
    "pycharm": {
     "name": "#%%\n"
    }
   },
   "source": [
    "iris = load_iris()\n",
    "\n",
    "x = iris.data\n",
    "y = iris.target"
   ],
   "execution_count": null,
   "outputs": []
  },
  {
   "cell_type": "code",
   "metadata": {
    "id": "RFt7daYgdILo",
    "pycharm": {
     "name": "#%%\n"
    }
   },
   "source": [
    "df_x = pd.DataFrame(x, columns=iris.feature_names)\n",
    "df_x.head()"
   ],
   "execution_count": null,
   "outputs": []
  },
  {
   "cell_type": "markdown",
   "metadata": {
    "id": "JQb8AGsxgX9D",
    "pycharm": {
     "name": "#%% md\n"
    }
   },
   "source": [
    "## train set, test set 구분하기"
   ]
  },
  {
   "cell_type": "code",
   "metadata": {
    "id": "kVkvex6AgX_r",
    "pycharm": {
     "name": "#%%\n"
    }
   },
   "source": [
    "from sklearn.model_selection import train_test_split"
   ],
   "execution_count": null,
   "outputs": []
  },
  {
   "cell_type": "code",
   "metadata": {
    "id": "KgnkVNQHlL_N",
    "pycharm": {
     "name": "#%%\n"
    }
   },
   "source": [
    "train_x, test_x, train_y, test_y = train_test_split(df_x, y, test_size=0.2, random_state=2021)"
   ],
   "execution_count": null,
   "outputs": []
  },
  {
   "cell_type": "code",
   "metadata": {
    "id": "D3Lh88KylaEb",
    "pycharm": {
     "name": "#%%\n"
    }
   },
   "source": [
    "train_x.shape, train_y.shape, test_x.shape, test_y.shape"
   ],
   "execution_count": null,
   "outputs": []
  },
  {
   "cell_type": "markdown",
   "metadata": {
    "id": "vk5ON1iNgHZv",
    "pycharm": {
     "name": "#%% md\n"
    }
   },
   "source": [
    "## **length끼리, width끼리**"
   ]
  },
  {
   "cell_type": "code",
   "metadata": {
    "id": "l9oeJmnAgIQV",
    "pycharm": {
     "name": "#%%\n"
    }
   },
   "source": [
    "print(df_x.columns)"
   ],
   "execution_count": null,
   "outputs": []
  },
  {
   "cell_type": "code",
   "metadata": {
    "id": "-SrwO-eulzjm",
    "pycharm": {
     "name": "#%%\n"
    }
   },
   "source": [
    "tr_x_l = train_x.loc[:, ['sepal length (cm)', 'petal length (cm)'] ]\n",
    "tr_x_w = train_x.loc[:, ['sepal width (cm)', 'petal width (cm)'] ]"
   ],
   "execution_count": null,
   "outputs": []
  },
  {
   "cell_type": "code",
   "metadata": {
    "id": "DqLhUZgImIjj",
    "pycharm": {
     "name": "#%%\n"
    }
   },
   "source": [
    "tr_x_l.shape, tr_x_w.shape"
   ],
   "execution_count": null,
   "outputs": []
  },
  {
   "cell_type": "code",
   "metadata": {
    "id": "ui3b92QLmPe9",
    "pycharm": {
     "name": "#%%\n"
    }
   },
   "source": [
    "te_x_l = test_x.loc[:, ['sepal length (cm)', 'petal length (cm)'] ]\n",
    "te_x_w = test_x.loc[:, ['sepal width (cm)', 'petal width (cm)'] ]"
   ],
   "execution_count": null,
   "outputs": []
  },
  {
   "cell_type": "markdown",
   "metadata": {
    "id": "BubbIvpJmZhX",
    "pycharm": {
     "name": "#%% md\n"
    }
   },
   "source": [
    "## One-hot Encoding"
   ]
  },
  {
   "cell_type": "code",
   "metadata": {
    "id": "qTUl-T5Hmc8F",
    "pycharm": {
     "name": "#%%\n"
    }
   },
   "source": [
    "from tensorflow.keras.utils import to_categorical"
   ],
   "execution_count": null,
   "outputs": []
  },
  {
   "cell_type": "code",
   "metadata": {
    "id": "OP0WpWQpmh5C",
    "pycharm": {
     "name": "#%%\n"
    }
   },
   "source": [
    "train_y = to_categorical(train_y, 3)\n",
    "test_y = to_categorical(test_y, 3)\n"
   ],
   "execution_count": null,
   "outputs": []
  },
  {
   "cell_type": "code",
   "metadata": {
    "id": "yGn_39zKnS-H",
    "pycharm": {
     "name": "#%%\n"
    }
   },
   "source": [
    "train_y.shape"
   ],
   "execution_count": null,
   "outputs": []
  },
  {
   "cell_type": "markdown",
   "metadata": {
    "id": "KJYhtxM3mc_R",
    "pycharm": {
     "name": "#%% md\n"
    }
   },
   "source": [
    "## Modeling : multi-input & Concatenate layer"
   ]
  },
  {
   "cell_type": "code",
   "metadata": {
    "id": "wvDQJxUNmdB1",
    "pycharm": {
     "name": "#%%\n"
    }
   },
   "source": [
    "from tensorflow.keras.backend import clear_session\n",
    "from tensorflow.keras.models import Model\n",
    "\n",
    "from tensorflow.keras.layers import Input, Dense, Concatenate\n",
    "from tensorflow.keras.activations import relu, softmax\n",
    "\n",
    "from tensorflow.keras.losses import categorical_crossentropy\n",
    "from tensorflow.keras.optimizers import Adam\n",
    "\n",
    "from tensorflow.keras.callbacks import EarlyStopping\n",
    "from tensorflow.keras.utils import plot_model"
   ],
   "execution_count": null,
   "outputs": []
  },
  {
   "cell_type": "code",
   "metadata": {
    "id": "5celtavonw75",
    "pycharm": {
     "name": "#%%\n"
    }
   },
   "source": [
    "# 1. 세션 클리어\n",
    "clear_session()\n",
    "\n",
    "# 2. 레이어 사슬처럼 엮기 : input 2개!\n",
    "il_l = Input( shape=(2,) )\n",
    "hl_l = Dense(2, activation=relu)(il_l)\n",
    "\n",
    "il_w = Input( shape=(2,) )\n",
    "hl_w = Dense(2, activation=relu)(il_w)\n",
    "\n",
    "cl = Concatenate()([hl_l, hl_w])\n",
    "ol = Dense(3, activation=softmax)(cl)\n",
    "\n",
    "# 3. 모델 시작과 끝 지정\n",
    "model = Model([il_l, il_w], ol)\n",
    "\n",
    "# 4. 모델 컴파일\n",
    "model.compile(loss=categorical_crossentropy, metrics=['accuracy'],\n",
    "              optimizer=Adam())"
   ],
   "execution_count": null,
   "outputs": []
  },
  {
   "cell_type": "markdown",
   "metadata": {
    "id": "qIg-W5eSWhyc",
    "pycharm": {
     "name": "#%% md\n"
    }
   },
   "source": [
    "## 모델 시각화"
   ]
  },
  {
   "cell_type": "code",
   "metadata": {
    "id": "22HFw8xavgGI",
    "pycharm": {
     "name": "#%%\n"
    }
   },
   "source": [
    "plot_model(model, show_shapes=True)"
   ],
   "execution_count": null,
   "outputs": []
  },
  {
   "cell_type": "markdown",
   "metadata": {
    "id": "vuJ7eKLkWnm2",
    "pycharm": {
     "name": "#%% md\n"
    }
   },
   "source": [
    "## 학습 시켜보기!"
   ]
  },
  {
   "cell_type": "code",
   "metadata": {
    "id": "wOMKAhksvyL3",
    "pycharm": {
     "name": "#%%\n"
    }
   },
   "source": [
    "es = EarlyStopping(monitor='val_loss',\n",
    "                   min_delta=0,\n",
    "                   patience=30,\n",
    "                   verbose=1,\n",
    "                   restore_best_weights=True)"
   ],
   "execution_count": null,
   "outputs": []
  },
  {
   "cell_type": "code",
   "metadata": {
    "id": "yn1k5VlLnw-Y",
    "pycharm": {
     "name": "#%%\n"
    }
   },
   "source": [
    "model.fit([tr_x_l, tr_x_w], train_y, validation_split=0.15,\n",
    "          epochs=1000, verbose=1, callbacks=[es])"
   ],
   "execution_count": null,
   "outputs": []
  },
  {
   "cell_type": "markdown",
   "metadata": {
    "id": "DqqYiGLDHHnM",
    "pycharm": {
     "name": "#%% md\n"
    }
   },
   "source": [
    "---\n",
    "---\n",
    "---\n",
    "---\n",
    "---"
   ]
  },
  {
   "cell_type": "markdown",
   "metadata": {
    "id": "eTwCrAd8GzdL",
    "pycharm": {
     "name": "#%% md\n"
    }
   },
   "source": [
    "# IRIS - Connection I practice\n",
    "\n",
    "- 위의 코드를 **그대로** 따라서 코드 작성하기!"
   ]
  },
  {
   "cell_type": "markdown",
   "metadata": {
    "id": "KE65_O0ZHwG1",
    "pycharm": {
     "name": "#%% md\n"
    }
   },
   "source": [
    "## 데이터 불러오기\n",
    "\n",
    "- iris.feature_names를 이용하여 판다스 데이터 프레임 만들기!"
   ]
  },
  {
   "cell_type": "code",
   "metadata": {
    "id": "zUl10QpNIGjN",
    "pycharm": {
     "name": "#%%\n"
    }
   },
   "source": [
    "iris = load_iris()\n",
    "\n",
    "x = iris.data\n",
    "y = iris.target"
   ],
   "execution_count": null,
   "outputs": []
  },
  {
   "cell_type": "code",
   "metadata": {
    "id": "rTkcGIZ1IGjN",
    "pycharm": {
     "name": "#%%\n"
    }
   },
   "source": [
    "df_x = pd.DataFrame(x, columns=iris.feature_names)\n",
    "df_x.head()"
   ],
   "execution_count": null,
   "outputs": []
  },
  {
   "cell_type": "markdown",
   "metadata": {
    "id": "W2CNTHeRHEux",
    "pycharm": {
     "name": "#%% md\n"
    }
   },
   "source": [
    "## train set, test set 구분하기"
   ]
  },
  {
   "cell_type": "code",
   "metadata": {
    "id": "a_ztQxMGIHyD",
    "pycharm": {
     "name": "#%%\n"
    }
   },
   "source": [],
   "execution_count": null,
   "outputs": []
  },
  {
   "cell_type": "markdown",
   "metadata": {
    "id": "1bToCDoGHEuy",
    "pycharm": {
     "name": "#%% md\n"
    }
   },
   "source": [
    "## **length끼리, width끼리**"
   ]
  },
  {
   "cell_type": "code",
   "metadata": {
    "id": "gs-F4H8eIIx_",
    "pycharm": {
     "name": "#%%\n"
    }
   },
   "source": [],
   "execution_count": null,
   "outputs": []
  },
  {
   "cell_type": "markdown",
   "metadata": {
    "id": "AiQWOL3WHEuz",
    "pycharm": {
     "name": "#%% md\n"
    }
   },
   "source": [
    "## One-hot Encoding"
   ]
  },
  {
   "cell_type": "code",
   "metadata": {
    "id": "JtOnCw2xIJzw",
    "pycharm": {
     "name": "#%%\n"
    }
   },
   "source": [],
   "execution_count": null,
   "outputs": []
  },
  {
   "cell_type": "markdown",
   "metadata": {
    "id": "F8hnV3e6HEuz",
    "pycharm": {
     "name": "#%% md\n"
    }
   },
   "source": [
    "## Modeling : multi-input & Concatenate layer"
   ]
  },
  {
   "cell_type": "code",
   "metadata": {
    "id": "kl5pZvDVILC-",
    "pycharm": {
     "name": "#%%\n"
    }
   },
   "source": [],
   "execution_count": null,
   "outputs": []
  },
  {
   "cell_type": "markdown",
   "metadata": {
    "id": "L3iV1k7YHEu0",
    "pycharm": {
     "name": "#%% md\n"
    }
   },
   "source": [
    "## 모델 시각화"
   ]
  },
  {
   "cell_type": "code",
   "metadata": {
    "id": "iILyEbg4HEu0",
    "pycharm": {
     "name": "#%%\n"
    }
   },
   "source": [],
   "execution_count": null,
   "outputs": []
  },
  {
   "cell_type": "markdown",
   "metadata": {
    "id": "C6SzTgc9HEu0",
    "pycharm": {
     "name": "#%% md\n"
    }
   },
   "source": [
    "## 학습 시켜보기!"
   ]
  },
  {
   "cell_type": "code",
   "metadata": {
    "id": "xLa5VYrdG8fY",
    "pycharm": {
     "name": "#%%\n"
    }
   },
   "source": [],
   "execution_count": null,
   "outputs": []
  },
  {
   "cell_type": "code",
   "metadata": {
    "id": "UtLXtrZWG8lC",
    "pycharm": {
     "name": "#%%\n"
    }
   },
   "source": [],
   "execution_count": null,
   "outputs": []
  }
 ]
}