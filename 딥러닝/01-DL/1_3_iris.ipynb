{
 "nbformat": 4,
 "nbformat_minor": 0,
 "metadata": {
  "colab": {
   "name": "1_3_iris.ipynb",
   "provenance": [],
   "collapsed_sections": []
  },
  "kernelspec": {
   "name": "python3",
   "display_name": "Python 3"
  }
 },
 "cells": [
  {
   "cell_type": "markdown",
   "metadata": {
    "id": "P2n_mLirFD6s",
    "pycharm": {
     "name": "#%% md\n"
    }
   },
   "source": [
    "# 멀티클래스 분류 연습 (over 2진분류)\n",
    "\n",
    "![iris_flower](https://www.embedded-robotics.com/wp-content/uploads/2022/01/Iris-Dataset-Classification-1024x367.png)"
   ]
  },
  {
   "cell_type": "code",
   "metadata": {
    "id": "k-kIj84JQdd3",
    "pycharm": {
     "name": "#%%\n"
    }
   },
   "source": [
    "from sklearn.datasets import load_iris"
   ],
   "execution_count": 1,
   "outputs": []
  },
  {
   "cell_type": "code",
   "metadata": {
    "id": "1F1kZLpEQof_",
    "pycharm": {
     "name": "#%%\n"
    }
   },
   "source": [
    "iris = load_iris()"
   ],
   "execution_count": 2,
   "outputs": []
  },
  {
   "cell_type": "code",
   "metadata": {
    "id": "4uNPvbD_QyUh",
    "pycharm": {
     "name": "#%%\n"
    }
   },
   "source": [
    "x = iris.data\n",
    "y = iris.target"
   ],
   "execution_count": 3,
   "outputs": []
  },
  {
   "cell_type": "code",
   "metadata": {
    "id": "6DfGrWUsQ3WC",
    "pycharm": {
     "name": "#%%\n"
    }
   },
   "source": [
    "x.shape, y.shape"
   ],
   "execution_count": 4,
   "outputs": [
    {
     "data": {
      "text/plain": "((150, 4), (150,))"
     },
     "execution_count": 4,
     "metadata": {},
     "output_type": "execute_result"
    }
   ]
  },
  {
   "cell_type": "code",
   "metadata": {
    "id": "TNVycVIzQ4gl",
    "pycharm": {
     "name": "#%%\n"
    }
   },
   "source": [
    "y"
   ],
   "execution_count": 5,
   "outputs": [
    {
     "data": {
      "text/plain": "array([0, 0, 0, 0, 0, 0, 0, 0, 0, 0, 0, 0, 0, 0, 0, 0, 0, 0, 0, 0, 0, 0,\n       0, 0, 0, 0, 0, 0, 0, 0, 0, 0, 0, 0, 0, 0, 0, 0, 0, 0, 0, 0, 0, 0,\n       0, 0, 0, 0, 0, 0, 1, 1, 1, 1, 1, 1, 1, 1, 1, 1, 1, 1, 1, 1, 1, 1,\n       1, 1, 1, 1, 1, 1, 1, 1, 1, 1, 1, 1, 1, 1, 1, 1, 1, 1, 1, 1, 1, 1,\n       1, 1, 1, 1, 1, 1, 1, 1, 1, 1, 1, 1, 2, 2, 2, 2, 2, 2, 2, 2, 2, 2,\n       2, 2, 2, 2, 2, 2, 2, 2, 2, 2, 2, 2, 2, 2, 2, 2, 2, 2, 2, 2, 2, 2,\n       2, 2, 2, 2, 2, 2, 2, 2, 2, 2, 2, 2, 2, 2, 2, 2, 2, 2])"
     },
     "execution_count": 5,
     "metadata": {},
     "output_type": "execute_result"
    }
   ]
  },
  {
   "cell_type": "code",
   "metadata": {
    "id": "98EdXISnGlOB",
    "pycharm": {
     "name": "#%%\n"
    }
   },
   "source": [
    "iris.target_names"
   ],
   "execution_count": 6,
   "outputs": [
    {
     "data": {
      "text/plain": "array(['setosa', 'versicolor', 'virginica'], dtype='<U10')"
     },
     "execution_count": 6,
     "metadata": {},
     "output_type": "execute_result"
    }
   ]
  },
  {
   "cell_type": "code",
   "metadata": {
    "id": "14BEVhH1RLF9",
    "pycharm": {
     "name": "#%%\n"
    }
   },
   "source": [
    "# One-Hot Encoding\n",
    "from tensorflow.keras.utils import to_categorical"
   ],
   "execution_count": 7,
   "outputs": []
  },
  {
   "cell_type": "code",
   "metadata": {
    "id": "8KsxiLIITAsY",
    "pycharm": {
     "name": "#%%\n"
    }
   },
   "source": [
    "y = to_categorical(y, 3)"
   ],
   "execution_count": 8,
   "outputs": []
  },
  {
   "cell_type": "code",
   "metadata": {
    "id": "EnZVKiLRRuA8",
    "pycharm": {
     "name": "#%%\n"
    }
   },
   "source": [
    "x.shape, y.shape"
   ],
   "execution_count": 9,
   "outputs": [
    {
     "data": {
      "text/plain": "((150, 4), (150, 3))"
     },
     "execution_count": 9,
     "metadata": {},
     "output_type": "execute_result"
    }
   ]
  },
  {
   "cell_type": "code",
   "execution_count": 10,
   "outputs": [],
   "source": [
    "from tensorflow import keras\n",
    "import tensorflow as tf\n",
    "\n",
    "import pandas as pd\n",
    "import numpy as np"
   ],
   "metadata": {
    "collapsed": false,
    "pycharm": {
     "name": "#%%\n"
    }
   }
  },
  {
   "cell_type": "markdown",
   "metadata": {
    "id": "MnwReDCpTTMP",
    "pycharm": {
     "name": "#%% md\n"
    }
   },
   "source": [
    "# 1번. Sequential API style로 모델링 하세요\n",
    "\n",
    "    loss = 'categorical_crossentropy' 사용!"
   ]
  },
  {
   "cell_type": "code",
   "metadata": {
    "id": "BS1dDAJITXPT",
    "pycharm": {
     "name": "#%%\n"
    }
   },
   "source": [
    "# clear keras session\n",
    "keras.backend.clear_session()\n",
    "\n",
    "# statement model\n",
    "model = keras.models.Sequential()\n",
    "\n",
    "# add layers\n",
    "model.add(keras.layers.Input(shape=(4,)))\n",
    "model.add(keras.layers.Dense(3, activation='softmax'))\n",
    "\n",
    "# compile model\n",
    "model.compile(loss=keras.losses.categorical_crossentropy, optimizer='adam', metrics=['accuracy'])"
   ],
   "execution_count": 42,
   "outputs": []
  },
  {
   "cell_type": "code",
   "metadata": {
    "id": "K-QZKTZr8HZb",
    "pycharm": {
     "name": "#%%\n"
    }
   },
   "source": [
    "model.fit(x, y, epochs=10, verbose=1)"
   ],
   "execution_count": 43,
   "outputs": [
    {
     "name": "stdout",
     "output_type": "stream",
     "text": [
      "Epoch 1/10\n",
      "5/5 [==============================] - 0s 1ms/step - loss: 4.6993 - accuracy: 0.3333\n",
      "Epoch 2/10\n",
      "5/5 [==============================] - 0s 600us/step - loss: 4.5930 - accuracy: 0.3333\n",
      "Epoch 3/10\n",
      "5/5 [==============================] - 0s 800us/step - loss: 4.4835 - accuracy: 0.3333\n",
      "Epoch 4/10\n",
      "5/5 [==============================] - 0s 800us/step - loss: 4.3729 - accuracy: 0.3333\n",
      "Epoch 5/10\n",
      "5/5 [==============================] - 0s 800us/step - loss: 4.2680 - accuracy: 0.3333\n",
      "Epoch 6/10\n",
      "5/5 [==============================] - 0s 800us/step - loss: 4.1598 - accuracy: 0.3333\n",
      "Epoch 7/10\n",
      "5/5 [==============================] - 0s 800us/step - loss: 4.0508 - accuracy: 0.3333\n",
      "Epoch 8/10\n",
      "5/5 [==============================] - 0s 800us/step - loss: 3.9472 - accuracy: 0.3333\n",
      "Epoch 9/10\n",
      "5/5 [==============================] - 0s 800us/step - loss: 3.8375 - accuracy: 0.3333\n",
      "Epoch 10/10\n",
      "5/5 [==============================] - 0s 800us/step - loss: 3.7293 - accuracy: 0.3333\n"
     ]
    },
    {
     "data": {
      "text/plain": "<tensorflow.python.keras.callbacks.History at 0x23e855d32e0>"
     },
     "execution_count": 43,
     "metadata": {},
     "output_type": "execute_result"
    }
   ]
  },
  {
   "cell_type": "code",
   "execution_count": 44,
   "outputs": [],
   "source": [
    "y_pred = model.predict(x)"
   ],
   "metadata": {
    "collapsed": false,
    "pycharm": {
     "name": "#%%\n"
    }
   }
  },
  {
   "cell_type": "code",
   "execution_count": 46,
   "outputs": [
    {
     "name": "stdout",
     "output_type": "stream",
     "text": [
      "[0 0 0 0 0 0 0 0 0 0 0 0 0 0 0 0 0 0 0 0 0 0 0 0 0 0 0 0 0 0 0 0 0 0 0 0 0\n",
      " 0 0 0 0 0 0 0 0 0 0 0 0 0 0 0 0 0 0 0 0 0 0 0 0 0 0 0 0 0 0 0 0 0 0 0 0 0\n",
      " 0 0 0 0 0 0 0 0 0 0 0 0 0 0 0 0 0 0 0 0 0 0 0 0 0 0 0 0 0 0 0 0 0 0 0 0 0\n",
      " 0 0 0 0 0 0 0 0 0 0 0 0 0 0 0 0 0 0 0 0 0 0 0 0 0 0 0 0 0 0 0 0 0 0 0 0 0\n",
      " 0 0]\n"
     ]
    }
   ],
   "source": [
    "print(y_pred.argmax(axis=1))"
   ],
   "metadata": {
    "collapsed": false,
    "pycharm": {
     "name": "#%%\n"
    }
   }
  },
  {
   "cell_type": "markdown",
   "metadata": {
    "id": "-20qo3crbLy8",
    "pycharm": {
     "name": "#%% md\n"
    }
   },
   "source": [
    "# 2번. Functional API style로 모델링 하세요"
   ]
  },
  {
   "cell_type": "code",
   "metadata": {
    "id": "5aVZkBukdQ8u",
    "pycharm": {
     "name": "#%%\n"
    }
   },
   "source": [
    "x.shape, y.shape"
   ],
   "execution_count": 36,
   "outputs": [
    {
     "data": {
      "text/plain": "((150, 4), (150, 3))"
     },
     "execution_count": 36,
     "metadata": {},
     "output_type": "execute_result"
    }
   ]
  },
  {
   "cell_type": "code",
   "metadata": {
    "id": "YaAA7ytbbOlQ",
    "pycharm": {
     "name": "#%%\n"
    }
   },
   "source": [
    "keras.backend.clear_session()\n",
    "\n",
    "\n",
    "il = keras.layers.Input(shape=(4,))\n",
    "ol = keras.layers.Dense(3, activation='softmax')(il)\n",
    "\n",
    "model = keras.models.Model(il, ol)\n",
    "\n",
    "model.compile(loss=keras.losses.categorical_crossentropy, optimizer='adam', metrics=['accuracy'])"
   ],
   "execution_count": 47,
   "outputs": []
  },
  {
   "cell_type": "code",
   "execution_count": 50,
   "outputs": [
    {
     "name": "stdout",
     "output_type": "stream",
     "text": [
      "Epoch 1/10\n",
      "5/5 [==============================] - 0s 1ms/step - loss: 2.0366 - accuracy: 0.3267\n",
      "Epoch 2/10\n",
      "5/5 [==============================] - 0s 800us/step - loss: 2.0179 - accuracy: 0.3200\n",
      "Epoch 3/10\n",
      "5/5 [==============================] - 0s 600us/step - loss: 2.0006 - accuracy: 0.3133\n",
      "Epoch 4/10\n",
      "5/5 [==============================] - 0s 1000us/step - loss: 1.9842 - accuracy: 0.3067\n",
      "Epoch 5/10\n",
      "5/5 [==============================] - 0s 800us/step - loss: 1.9679 - accuracy: 0.3067\n",
      "Epoch 6/10\n",
      "5/5 [==============================] - 0s 800us/step - loss: 1.9519 - accuracy: 0.3000\n",
      "Epoch 7/10\n",
      "5/5 [==============================] - 0s 600us/step - loss: 1.9375 - accuracy: 0.2933\n",
      "Epoch 8/10\n",
      "5/5 [==============================] - 0s 1000us/step - loss: 1.9228 - accuracy: 0.2867\n",
      "Epoch 9/10\n",
      "5/5 [==============================] - 0s 800us/step - loss: 1.9091 - accuracy: 0.2800\n",
      "Epoch 10/10\n",
      "5/5 [==============================] - 0s 600us/step - loss: 1.8931 - accuracy: 0.2733\n"
     ]
    },
    {
     "data": {
      "text/plain": "<tensorflow.python.keras.callbacks.History at 0x23e855e4fd0>"
     },
     "execution_count": 50,
     "metadata": {},
     "output_type": "execute_result"
    }
   ],
   "source": [
    "model.fit(x, y, epochs=10, verbose=1)"
   ],
   "metadata": {
    "collapsed": false,
    "pycharm": {
     "name": "#%%\n"
    }
   }
  },
  {
   "cell_type": "code",
   "metadata": {
    "id": "NNl2wE-3eJ3u",
    "pycharm": {
     "name": "#%%\n"
    }
   },
   "source": [
    "y_pred = model.predict(x)"
   ],
   "execution_count": 53,
   "outputs": []
  },
  {
   "cell_type": "code",
   "execution_count": 54,
   "outputs": [
    {
     "name": "stdout",
     "output_type": "stream",
     "text": [
      "[1 1 1 1 1 1 1 1 1 1 1 1 1 1 1 1 1 1 1 1 1 1 1 1 1 1 1 1 1 1 1 1 1 1 1 1 1\n",
      " 1 1 1 1 1 1 1 1 1 1 1 1 1 2 2 2 2 2 2 2 2 2 2 2 2 2 2 2 2 2 1 2 2 2 2 2 2\n",
      " 2 2 2 2 2 2 2 2 2 2 2 2 2 2 2 2 2 2 2 2 2 2 2 2 2 2 0 2 2 2 0 2 0 2 2 2 2\n",
      " 2 2 0 0 2 2 2 2 2 2 0 2 2 2 2 2 2 2 2 2 2 0 2 2 2 0 2 2 2 2 2 2 2 0 2 2 2\n",
      " 0 2]\n"
     ]
    }
   ],
   "source": [
    "print(y_pred.argmax(axis=1))"
   ],
   "metadata": {
    "collapsed": false,
    "pycharm": {
     "name": "#%%\n"
    }
   }
  },
  {
   "cell_type": "code",
   "execution_count": 55,
   "outputs": [
    {
     "name": "stdout",
     "output_type": "stream",
     "text": [
      "[0 0 0 0 0 0 0 0 0 0 0 0 0 0 0 0 0 0 0 0 0 0 0 0 0 0 0 0 0 0 0 0 0 0 0 0 0\n",
      " 0 0 0 0 0 0 0 0 0 0 0 0 0 1 1 1 1 1 1 1 1 1 1 1 1 1 1 1 1 1 1 1 1 1 1 1 1\n",
      " 1 1 1 1 1 1 1 1 1 1 1 1 1 1 1 1 1 1 1 1 1 1 1 1 1 1 2 2 2 2 2 2 2 2 2 2 2\n",
      " 2 2 2 2 2 2 2 2 2 2 2 2 2 2 2 2 2 2 2 2 2 2 2 2 2 2 2 2 2 2 2 2 2 2 2 2 2\n",
      " 2 2]\n"
     ]
    }
   ],
   "source": [
    "print(y.argmax(axis=1))"
   ],
   "metadata": {
    "collapsed": false,
    "pycharm": {
     "name": "#%%\n"
    }
   }
  },
  {
   "cell_type": "code",
   "execution_count": null,
   "outputs": [],
   "source": [],
   "metadata": {
    "collapsed": false,
    "pycharm": {
     "name": "#%%\n"
    }
   }
  }
 ]
}