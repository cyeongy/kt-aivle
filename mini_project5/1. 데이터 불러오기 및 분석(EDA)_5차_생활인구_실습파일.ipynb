{
 "cells": [
  {
   "cell_type": "markdown",
   "id": "boxed-jamaica",
   "metadata": {},
   "source": [
    "# 안녕하세요^^ \n",
    "# 미니 프로젝트에 오신 여러분을 환영합니다.\n",
    "\n",
    "* 앞선 교육과정을 정리하는 마음과 지금까지 배운 내용을 바탕으로 문제 해결을 해볼게요!\n",
    "* 미니 프로젝트를 통한 문제 해결 과정 'A에서 Z까지', 지금부터 시작합니다!"
   ]
  },
  {
   "cell_type": "markdown",
   "id": "ef575059",
   "metadata": {},
   "source": [
    "---"
   ]
  },
  {
   "cell_type": "markdown",
   "id": "f2bc4fa5",
   "metadata": {},
   "source": [
    "# 데이터 분석부터 먼저 시작해보겠습니다."
   ]
  },
  {
   "cell_type": "markdown",
   "id": "revolutionary-farmer",
   "metadata": {},
   "source": [
    "## 기본 데이터\n",
    "\n",
    "[기본 데이터]\n",
    "* 서울시 특정구 특정동의 생활인구 데이터입니다.\n",
    "* data2017.csv\n",
    "* data2018.csv\n",
    "* data2019.csv\n",
    "* data2020.csv\n",
    "* data2021.csv\n",
    "* data2022.csv\n",
    "\n",
    "\n",
    "* 2017~2021년은 데이터 전부(train data), 2022년은 1~6월(test data)까지 제공합니다.\n",
    "\n",
    "[변수 소개]\n",
    "* index : 날짜\n",
    "\n",
    "* 시간대 : 0 ~ 23 \n",
    "\n",
    "* 총 생활 인구 수 : 생활 인구 합계\n",
    "\n",
    "* 각 성별, 연령대 별 생활 인구수"
   ]
  },
  {
   "cell_type": "markdown",
   "id": "matched-broad",
   "metadata": {},
   "source": [
    "---"
   ]
  },
  {
   "cell_type": "markdown",
   "id": "warming-gentleman",
   "metadata": {},
   "source": [
    "# 1. 데이터 불러오기\n",
    "## 모든 미니 프로젝트의 시작은 '데이터 불러오기' 부터라고 할 수 있습니다.\n",
    "+ KeyPoint : 불러오고자 하는 데이터에 따라 자유롭게 변수로 지정할 수 있다."
   ]
  },
  {
   "cell_type": "markdown",
   "id": "measured-administration",
   "metadata": {},
   "source": [
    "###  데이터 프레임을 불러오고 변수로 저장(여기서는 CSV 기준으로 진행)"
   ]
  },
  {
   "cell_type": "markdown",
   "id": "vocational-animal",
   "metadata": {},
   "source": [
    "#### [실습문제1] 데이터 로딩\n",
    "* Pandas 라이브러리를 활용해서 'data2017.csv'파일을 'df2017' 변수에 저장하고 그 Shape을 확인하세요.\n",
    "* 아래에 'Pandas'를 Import하고 'data2017.csv'파일을 불러오고 Shape을 확인하는 소스코드를 작성하고 실행해보세요.\n",
    "* 구분자(sep) : ','\n",
    "* index_col = 0"
   ]
  },
  {
   "cell_type": "code",
   "execution_count": null,
   "id": "saving-slope",
   "metadata": {},
   "outputs": [],
   "source": [
    "# 아래에 실습코드를 작성하고 결과를 확인합니다.\n",
    "import numpy as np\n",
    "import pandas as pd"
   ]
  },
  {
   "cell_type": "code",
   "execution_count": null,
   "id": "43c09ee1",
   "metadata": {},
   "outputs": [],
   "source": [
    "# 아래에 실습코드를 작성하고 결과를 확인합니다.\n",
    "\n",
    "\n"
   ]
  },
  {
   "cell_type": "code",
   "execution_count": null,
   "id": "funny-subcommittee",
   "metadata": {},
   "outputs": [],
   "source": [
    "# 데이터 프레임의 Shape을 확인합니다.\n",
    "\n",
    "\n"
   ]
  },
  {
   "cell_type": "markdown",
   "id": "73396b42",
   "metadata": {},
   "source": [
    "---"
   ]
  },
  {
   "cell_type": "markdown",
   "id": "annoying-trout",
   "metadata": {},
   "source": [
    "# 2. 추가 데이터 불러오기"
   ]
  },
  {
   "cell_type": "markdown",
   "id": "romantic-johnson",
   "metadata": {},
   "source": [
    "#### [실습문제2] 추가데이터 불러오기\n",
    "* Pandas 라이브러리를 활용해서 'data2018.csv' ~ 'data2021.csv'를 df18 ~ df21로 각각 불러오고, 이미 불러와 있던 df17을 포함하여 'df_total'로 합쳐보세요. 그리고 Shape을 확인하세요.\n",
    "* 구분자(sep) : ','\n",
    "* index_col = 0"
   ]
  },
  {
   "cell_type": "code",
   "execution_count": null,
   "id": "demographic-battery",
   "metadata": {},
   "outputs": [],
   "source": [
    "# 아래에 실습코드를 작성하고 결과를 확인합니다.\n",
    "\n",
    "\n"
   ]
  },
  {
   "cell_type": "code",
   "execution_count": null,
   "id": "85d71a2f",
   "metadata": {},
   "outputs": [],
   "source": [
    "# 아래에 실습코드를 작성하고 결과를 확인합니다.\n",
    "\n",
    "\n"
   ]
  },
  {
   "cell_type": "code",
   "execution_count": null,
   "id": "940a114a",
   "metadata": {},
   "outputs": [],
   "source": [
    "# 데이터 프레임의 Shape을 확인합니다.\n",
    "\n",
    "\n"
   ]
  },
  {
   "cell_type": "markdown",
   "id": "romantic-johnson",
   "metadata": {},
   "source": [
    "#### [실습문제3] 추가데이터 불러오기\n",
    "* Pandas 라이브러리를 활용해서 'data2022.csv'를 df_test로 불러오고 Shape을 확인하세요.\n",
    "* 구분자(sep) : ','\n",
    "* index_col = 0"
   ]
  },
  {
   "cell_type": "code",
   "execution_count": null,
   "id": "416f8fe8",
   "metadata": {},
   "outputs": [],
   "source": [
    "# 아래에 실습코드를 작성하고 결과를 확인합니다.\n",
    "\n",
    "\n"
   ]
  },
  {
   "cell_type": "code",
   "execution_count": null,
   "id": "f722f37e",
   "metadata": {},
   "outputs": [],
   "source": [
    "# 데이터 프레임의 Shape을 확인합니다.\n",
    "\n",
    "\n"
   ]
  },
  {
   "cell_type": "markdown",
   "id": "sublime-extreme",
   "metadata": {},
   "source": [
    "#### [실습문제4] 데이터 확인\n",
    "* df_total와 df_test 데이터를 head, tail. describe, info 등을 활용하여 확인하세요."
   ]
  },
  {
   "cell_type": "code",
   "execution_count": null,
   "id": "banner-nitrogen",
   "metadata": {},
   "outputs": [],
   "source": [
    "# 아래에 실습코드를 작성하고 결과를 확인합니다.\n",
    "\n",
    "\n",
    "\n"
   ]
  },
  {
   "cell_type": "code",
   "execution_count": null,
   "id": "6e0ad0f5",
   "metadata": {},
   "outputs": [],
   "source": [
    "# 아래에 실습코드를 작성하고 결과를 확인합니다.\n",
    "\n",
    "\n"
   ]
  },
  {
   "cell_type": "code",
   "execution_count": null,
   "id": "5009e7e5",
   "metadata": {},
   "outputs": [],
   "source": [
    "# 아래에 실습코드를 작성하고 결과를 확인합니다.\n",
    "\n",
    "\n"
   ]
  },
  {
   "cell_type": "code",
   "execution_count": null,
   "id": "dc81d31f",
   "metadata": {},
   "outputs": [],
   "source": [
    "# 아래에 실습코드를 작성하고 결과를 확인합니다.\n",
    "\n",
    "\n"
   ]
  },
  {
   "cell_type": "code",
   "execution_count": null,
   "id": "5a4161b5",
   "metadata": {},
   "outputs": [],
   "source": [
    "# 아래에 실습코드를 작성하고 결과를 확인합니다.\n",
    "\n",
    "\n"
   ]
  },
  {
   "cell_type": "code",
   "execution_count": null,
   "id": "6e0ad0f5",
   "metadata": {},
   "outputs": [],
   "source": [
    "# 아래에 실습코드를 작성하고 결과를 확인합니다.\n",
    "\n",
    "\n"
   ]
  },
  {
   "cell_type": "code",
   "execution_count": null,
   "id": "5009e7e5",
   "metadata": {},
   "outputs": [],
   "source": [
    "# 아래에 실습코드를 작성하고 결과를 확인합니다.\n",
    "\n",
    "\n"
   ]
  },
  {
   "cell_type": "code",
   "execution_count": null,
   "id": "dc81d31f",
   "metadata": {},
   "outputs": [],
   "source": [
    "# 아래에 실습코드를 작성하고 결과를 확인합니다.\n",
    "\n",
    "\n"
   ]
  },
  {
   "cell_type": "markdown",
   "id": "602b8bae",
   "metadata": {},
   "source": [
    "---"
   ]
  },
  {
   "cell_type": "markdown",
   "id": "southeast-integration",
   "metadata": {},
   "source": [
    "# 3. 데이터 분석하기\n",
    "## EDA for Feature Engineering\n",
    "\n",
    "* EDA는 명확한 목적하에, 반드시 workflow에 도움이 되는 결과를 도출해야 함.\n",
    "* EDA를 검색해봐도 좋음.\n",
    "\n",
    "+ KeyPoint : 데이터의 형태를 살펴보고 다양한 분석기법을 통해 모델링에 적합하도록 정제요소를 선별할 수 있다.\n",
    "  * 관측치들의 패턴 탐색\n",
    "  * 잘못된 자료들을 탐색\n",
    "  * 변수들간의 관계 파악"
   ]
  },
  {
   "cell_type": "code",
   "execution_count": null,
   "id": "194ae01d",
   "metadata": {},
   "outputs": [],
   "source": [
    "# 시각화 한글폰트 설정\n",
    "import seaborn as sns\n",
    "import matplotlib.pyplot as plt\n",
    "\n",
    "plt.rc('font', family='Malgun Gothic')\n",
    "sns.set(font=\"Malgun Gothic\",#\"NanumGothicCoding\", \n",
    "        rc={\"axes.unicode_minus\":False}, # 마이너스 부호 깨짐 현상 해결\n",
    "        style='darkgrid')"
   ]
  },
  {
   "cell_type": "markdown",
   "id": "material-complex",
   "metadata": {},
   "source": [
    "#### [실습문제5] 데이터 형태 변경하기\n",
    "* df_total, df_test의 index를 리셋 하고, ['기준일ID']에 to_datetime 함수를 사용하여 데이터 형태를 변경하세요."
   ]
  },
  {
   "cell_type": "code",
   "execution_count": null,
   "id": "2a610ade",
   "metadata": {
    "scrolled": false
   },
   "outputs": [],
   "source": [
    "# 아래에 실습코드를 작성하고 결과를 확인합니다.\n",
    "\n",
    "\n"
   ]
  },
  {
   "cell_type": "code",
   "execution_count": null,
   "id": "2a610ade",
   "metadata": {
    "scrolled": false
   },
   "outputs": [],
   "source": [
    "# 아래에 실습코드를 작성하고 결과를 확인합니다.\n",
    "\n",
    "\n"
   ]
  },
  {
   "cell_type": "markdown",
   "id": "bb6af03a",
   "metadata": {},
   "source": [
    "#### [실습문제6] 데이터 분포 알아보기\n",
    "* df_total 및 df_test의 '총생활인구수' 변수를 기준으로 각종 Chart를 그려보고 인사이트를 도출해보세요."
   ]
  },
  {
   "cell_type": "code",
   "execution_count": null,
   "id": "eb26af58",
   "metadata": {},
   "outputs": [],
   "source": [
    "# 아래에 실습코드를 작성하고 결과를 확인합니다.\n",
    "\n",
    "\n",
    "\n"
   ]
  },
  {
   "cell_type": "code",
   "execution_count": null,
   "id": "6fb24fc9",
   "metadata": {},
   "outputs": [],
   "source": [
    "# 아래에 실습코드를 작성하고 결과를 확인합니다.\n",
    "\n"
   ]
  },
  {
   "cell_type": "code",
   "execution_count": null,
   "id": "9d9e196b",
   "metadata": {},
   "outputs": [],
   "source": [
    "# 아래에 실습코드를 작성하고 결과를 확인합니다.\n",
    "\n"
   ]
  },
  {
   "cell_type": "code",
   "execution_count": null,
   "id": "88c96dab",
   "metadata": {},
   "outputs": [],
   "source": [
    "# 위 차트를 통해 알게된 사실을 정리해봅시다.\n",
    "# 1. \n",
    "# 2.\n",
    "# 3."
   ]
  },
  {
   "cell_type": "markdown",
   "id": "bridal-closer",
   "metadata": {},
   "source": [
    "## 다음 단계를 위해서 데이터를 저장하겠습니다."
   ]
  },
  {
   "cell_type": "code",
   "execution_count": null,
   "id": "designed-cartridge",
   "metadata": {},
   "outputs": [],
   "source": [
    "# CSV로 저장\n",
    "df_total.to_csv('df_total.csv', index=False)\n",
    "df_test.to_csv('df_test.csv', index=False)"
   ]
  },
  {
   "cell_type": "markdown",
   "id": "activated-constraint",
   "metadata": {},
   "source": [
    "# 4. (참고) 시계열 분석 기초 (Stationary / Normality)\n",
    "\n",
    "* 아래 주어진 코드를 기반으로 해당 데이터가 정상성과 정규성을 충족 하는지 확인해봅시다"
   ]
  },
  {
   "cell_type": "markdown",
   "id": "square-woman",
   "metadata": {},
   "source": [
    "#### [실습문제7] 정상성 분석\n",
    "* df_total['총생활인구수'] 데이터가 정상성을 띄는지 확인해보도록 하겠습니다\n",
    "\n",
    "* 정상성을 띈다 = 시계열 데이터의 평균과 분산이 일정하다.\n",
    "    - Dickey Fuller test 를 활용합니다\n",
    "    - Stationary (p-value < 0.05)\n",
    "\n",
    "---\n",
    "        \n",
    "* 귀무가설 : H0 : 시계열 데이터에 unit root를 포함한다 : nonstatinary / 정상 시계열이 아니다.\n",
    "* 대립가설 : H1 : 시계열 데이터에 unit root를 포함하지 않는다 : 정상 시계열이다. \n",
    "---"
   ]
  },
  {
   "cell_type": "code",
   "execution_count": null,
   "id": "voluntary-belief",
   "metadata": {},
   "outputs": [],
   "source": [
    "from statsmodels.tsa.stattools import adfuller\n",
    "\n",
    "def adf_test(y):\n",
    "    dftest = adfuller(y, autolag='AIC')\n",
    "    # autolag 'AIC' : 검정 AR 모형의 차수를 자동으로 결정\n",
    "    dfoutput = pd.Series(dftest[0:4], index=['test statistic', 'p-value', '# of lags', '# of observations'])\n",
    "    for key, value in dftest[4].items():\n",
    "        dfoutput['Critical Value ({})'.format(key)] = value\n",
    "    print(dfoutput)"
   ]
  },
  {
   "cell_type": "code",
   "execution_count": null,
   "id": "c2f5f616",
   "metadata": {},
   "outputs": [],
   "source": [
    "\n",
    "adf_test(df_total['총생활인구수'])"
   ]
  },
  {
   "cell_type": "code",
   "execution_count": null,
   "id": "ff33a2ae",
   "metadata": {},
   "outputs": [],
   "source": [
    "# test statistic 검정 통계량 - 회귀 분석의 결과로 나타나는 계수\n",
    "# p-value : p-value 추정치\n",
    "# # of lags : 사용된 시차의 수(used lags)\n",
    "# # of observations : 분석에 사용된 자료의 수\n",
    "\n",
    "# critical values : 1%, 5%, 10%수준에 해당되는 검정 통계량의 값"
   ]
  },
  {
   "cell_type": "markdown",
   "id": "square-woman",
   "metadata": {},
   "source": [
    "#### [실습문제8] 정규성 분석\n",
    "* df_total['총생활인구수'] 데이터가 정규성을 띄는지 확인해보도록 하겠습니다\n",
    "\n",
    "* 정규성을 띈다 = 데이터의 분포가 정규분포를 이룬다. \n",
    "    * Shapiro test 를 활용합니다\n",
    "    * Normality (p-value > 0.05)\n",
    "\n",
    "---\n",
    "* 귀무가설 : H0 : 시계열 데이터가 정규성을 충족한다.\n",
    "* 대립가설 : H1 : 시계열 데이터가 정규성을 충족하지 않는다.\n",
    "---"
   ]
  },
  {
   "cell_type": "code",
   "execution_count": null,
   "id": "e023e827",
   "metadata": {},
   "outputs": [],
   "source": [
    "from scipy import stats\n",
    "from scipy.stats import shapiro\n",
    "shapiro_test = stats.shapiro(df_total['총생활인구수'])\n",
    "shapiro_test"
   ]
  },
  {
   "cell_type": "code",
   "execution_count": null,
   "id": "c0b2c1ea",
   "metadata": {},
   "outputs": [],
   "source": [
    "# shapiro test의 특징 : 데이터 수가 5000을 초과 하는 경우, \n",
    "#                      정규성 검정에 대한 p-value를 담보하지 못한다.(통계적 유의성이 떨어진다.)\n",
    "\n",
    "# 시계열 데이터가 정규성을 충족하지 않습니다."
   ]
  },
  {
   "cell_type": "code",
   "execution_count": null,
   "id": "2cfd2b95",
   "metadata": {},
   "outputs": [],
   "source": [
    "from scipy.stats import anderson\n",
    "anderson(df_total['총생활인구수'])"
   ]
  }
 ],
 "metadata": {
  "kernelspec": {
   "display_name": "Python 3.8.8 ('base')",
   "language": "python",
   "name": "python3"
  },
  "language_info": {
   "codemirror_mode": {
    "name": "ipython",
    "version": 3
   },
   "file_extension": ".py",
   "mimetype": "text/x-python",
   "name": "python",
   "nbconvert_exporter": "python",
   "pygments_lexer": "ipython3",
   "version": "3.8.8"
  },
  "vscode": {
   "interpreter": {
    "hash": "f08154012ddadd8e950e6e9e035c7a7b32c136e7647e9b7c77e02eb723a8bedb"
   }
  }
 },
 "nbformat": 4,
 "nbformat_minor": 5
}
