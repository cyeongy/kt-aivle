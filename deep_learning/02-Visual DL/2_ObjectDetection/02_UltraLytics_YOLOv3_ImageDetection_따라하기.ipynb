{
 "nbformat": 4,
 "nbformat_minor": 0,
 "metadata": {
  "colab": {
   "name": "02_UltraLytics_YOLOv3_ImageDetection_따라하기.ipynb",
   "provenance": [],
   "collapsed_sections": [],
   "toc_visible": true,
   "authorship_tag": "ABX9TyMwbpaUzlNNV0+hBK59sIyV"
  },
  "kernelspec": {
   "name": "python3",
   "display_name": "Python 3"
  },
  "language_info": {
   "name": "python"
  }
 },
 "cells": [
  {
   "cell_type": "markdown",
   "source": [
    "# UltraLytics YOLO v3 Image Detection 따라하기"
   ],
   "metadata": {
    "id": "mSpYwfyhmHtn",
    "pycharm": {
     "name": "#%% md\n"
    }
   }
  },
  {
   "cell_type": "markdown",
   "source": [
    "## UltraLytics YOLO v3 설치\n",
    "\n",
    "![install](https://github.com/DrKAI/CV/raw/main/UltraLytics_manual/yolov3_install.png)\n",
    "\n",
    "[Install Page](https://github.com/ultralytics/yolov3#quick-start-examples)"
   ],
   "metadata": {
    "id": "YB6S7Ad-km8I",
    "pycharm": {
     "name": "#%% md\n"
    }
   }
  },
  {
   "cell_type": "markdown",
   "source": [
    "* UltraLytics git에서 복사하기"
   ],
   "metadata": {
    "id": "IQqOnxMxlwNc",
    "pycharm": {
     "name": "#%% md\n"
    }
   }
  },
  {
   "cell_type": "code",
   "execution_count": 4,
   "metadata": {
    "id": "6y5gDSIWjHOA",
    "pycharm": {
     "name": "#%%\n"
    }
   },
   "outputs": [
    {
     "name": "stderr",
     "output_type": "stream",
     "text": [
      "fatal: destination path 'yolov3' already exists and is not an empty directory.\n"
     ]
    }
   ],
   "source": [
    "!git clone https://github.com/ultralytics/yolov3.git"
   ]
  },
  {
   "cell_type": "markdown",
   "source": [
    "* yolov3 폴더 이동 및 requirements.txt 내부 패키지 설치"
   ],
   "metadata": {
    "id": "l_Brx7kul6Oj",
    "pycharm": {
     "name": "#%% md\n"
    }
   }
  },
  {
   "cell_type": "code",
   "source": [
    "!pip install -r \"./yolov3/requirements.txt\""
   ],
   "metadata": {
    "id": "0BgUAeV0l4kL",
    "pycharm": {
     "name": "#%%\n"
    }
   },
   "execution_count": 17,
   "outputs": [
    {
     "name": "stdout",
     "output_type": "stream",
     "text": [
      "Requirement already satisfied: matplotlib>=3.2.2 in c:\\users\\allsa\\anaconda3\\envs\\kt-aivle\\lib\\site-packages (from -r ./yolov3/requirements.txt (line 4)) (3.5.2)\n",
      "Requirement already satisfied: numpy>=1.18.5 in c:\\users\\allsa\\anaconda3\\envs\\kt-aivle\\lib\\site-packages (from -r ./yolov3/requirements.txt (line 5)) (1.21.5)\n",
      "Requirement already satisfied: opencv-python>=4.1.2 in c:\\users\\allsa\\anaconda3\\envs\\kt-aivle\\lib\\site-packages (from -r ./yolov3/requirements.txt (line 6)) (4.6.0.66)\n",
      "Requirement already satisfied: Pillow>=7.1.2 in c:\\users\\allsa\\anaconda3\\envs\\kt-aivle\\lib\\site-packages (from -r ./yolov3/requirements.txt (line 7)) (9.2.0)\n",
      "Requirement already satisfied: PyYAML>=5.3.1 in c:\\users\\allsa\\anaconda3\\envs\\kt-aivle\\lib\\site-packages (from -r ./yolov3/requirements.txt (line 8)) (6.0)\n",
      "Requirement already satisfied: requests>=2.23.0 in c:\\users\\allsa\\anaconda3\\envs\\kt-aivle\\lib\\site-packages (from -r ./yolov3/requirements.txt (line 9)) (2.28.1)\n",
      "Requirement already satisfied: scipy>=1.4.1 in c:\\users\\allsa\\anaconda3\\envs\\kt-aivle\\lib\\site-packages (from -r ./yolov3/requirements.txt (line 10)) (1.7.3)\n",
      "Requirement already satisfied: torch>=1.7.0 in c:\\users\\allsa\\anaconda3\\envs\\kt-aivle\\lib\\site-packages (from -r ./yolov3/requirements.txt (line 11)) (1.12.1)\n",
      "Requirement already satisfied: torchvision>=0.8.1 in c:\\users\\allsa\\anaconda3\\envs\\kt-aivle\\lib\\site-packages (from -r ./yolov3/requirements.txt (line 12)) (0.13.1)\n",
      "Requirement already satisfied: tqdm>=4.41.0 in c:\\users\\allsa\\anaconda3\\envs\\kt-aivle\\lib\\site-packages (from -r ./yolov3/requirements.txt (line 13)) (4.64.0)\n",
      "Requirement already satisfied: tensorboard>=2.4.1 in c:\\users\\allsa\\anaconda3\\envs\\kt-aivle\\lib\\site-packages (from -r ./yolov3/requirements.txt (line 16)) (2.9.0)\n",
      "Requirement already satisfied: wandb in c:\\users\\allsa\\anaconda3\\envs\\kt-aivle\\lib\\site-packages (from -r ./yolov3/requirements.txt (line 17)) (0.13.3)\n",
      "Requirement already satisfied: pandas>=1.1.4 in c:\\users\\allsa\\anaconda3\\envs\\kt-aivle\\lib\\site-packages (from -r ./yolov3/requirements.txt (line 20)) (1.4.3)\n",
      "Requirement already satisfied: seaborn>=0.11.0 in c:\\users\\allsa\\anaconda3\\envs\\kt-aivle\\lib\\site-packages (from -r ./yolov3/requirements.txt (line 21)) (0.11.2)\n",
      "Requirement already satisfied: thop in c:\\users\\allsa\\anaconda3\\envs\\kt-aivle\\lib\\site-packages (from -r ./yolov3/requirements.txt (line 36)) (0.1.1.post2209072238)\n",
      "Requirement already satisfied: cycler>=0.10 in c:\\users\\allsa\\anaconda3\\envs\\kt-aivle\\lib\\site-packages (from matplotlib>=3.2.2->-r ./yolov3/requirements.txt (line 4)) (0.11.0)\n",
      "Requirement already satisfied: pyparsing>=2.2.1 in c:\\users\\allsa\\anaconda3\\envs\\kt-aivle\\lib\\site-packages (from matplotlib>=3.2.2->-r ./yolov3/requirements.txt (line 4)) (3.0.9)\n",
      "Requirement already satisfied: kiwisolver>=1.0.1 in c:\\users\\allsa\\anaconda3\\envs\\kt-aivle\\lib\\site-packages (from matplotlib>=3.2.2->-r ./yolov3/requirements.txt (line 4)) (1.4.2)\n",
      "Requirement already satisfied: python-dateutil>=2.7 in c:\\users\\allsa\\anaconda3\\envs\\kt-aivle\\lib\\site-packages (from matplotlib>=3.2.2->-r ./yolov3/requirements.txt (line 4)) (2.8.2)\n",
      "Requirement already satisfied: packaging>=20.0 in c:\\users\\allsa\\anaconda3\\envs\\kt-aivle\\lib\\site-packages (from matplotlib>=3.2.2->-r ./yolov3/requirements.txt (line 4)) (21.3)\n",
      "Requirement already satisfied: fonttools>=4.22.0 in c:\\users\\allsa\\anaconda3\\envs\\kt-aivle\\lib\\site-packages (from matplotlib>=3.2.2->-r ./yolov3/requirements.txt (line 4)) (4.25.0)\n",
      "Requirement already satisfied: certifi>=2017.4.17 in c:\\users\\allsa\\anaconda3\\envs\\kt-aivle\\lib\\site-packages (from requests>=2.23.0->-r ./yolov3/requirements.txt (line 9)) (2022.6.15)\n",
      "Requirement already satisfied: urllib3<1.27,>=1.21.1 in c:\\users\\allsa\\anaconda3\\envs\\kt-aivle\\lib\\site-packages (from requests>=2.23.0->-r ./yolov3/requirements.txt (line 9)) (1.26.11)\n",
      "Requirement already satisfied: charset-normalizer<3,>=2 in c:\\users\\allsa\\anaconda3\\envs\\kt-aivle\\lib\\site-packages (from requests>=2.23.0->-r ./yolov3/requirements.txt (line 9)) (2.1.1)\n",
      "Requirement already satisfied: idna<4,>=2.5 in c:\\users\\allsa\\anaconda3\\envs\\kt-aivle\\lib\\site-packages (from requests>=2.23.0->-r ./yolov3/requirements.txt (line 9)) (3.3)\n",
      "Requirement already satisfied: typing-extensions in c:\\users\\allsa\\anaconda3\\envs\\kt-aivle\\lib\\site-packages (from torch>=1.7.0->-r ./yolov3/requirements.txt (line 11)) (4.3.0)\n",
      "Requirement already satisfied: colorama in c:\\users\\allsa\\anaconda3\\envs\\kt-aivle\\lib\\site-packages (from tqdm>=4.41.0->-r ./yolov3/requirements.txt (line 13)) (0.4.5)\n",
      "Requirement already satisfied: protobuf>=3.9.2 in c:\\users\\allsa\\anaconda3\\envs\\kt-aivle\\lib\\site-packages (from tensorboard>=2.4.1->-r ./yolov3/requirements.txt (line 16)) (3.20.1)\n",
      "Requirement already satisfied: werkzeug>=1.0.1 in c:\\users\\allsa\\anaconda3\\envs\\kt-aivle\\lib\\site-packages (from tensorboard>=2.4.1->-r ./yolov3/requirements.txt (line 16)) (2.2.2)\n",
      "Requirement already satisfied: setuptools>=41.0.0 in c:\\users\\allsa\\anaconda3\\envs\\kt-aivle\\lib\\site-packages (from tensorboard>=2.4.1->-r ./yolov3/requirements.txt (line 16)) (63.4.1)\n",
      "Requirement already satisfied: absl-py>=0.4 in c:\\users\\allsa\\anaconda3\\envs\\kt-aivle\\lib\\site-packages (from tensorboard>=2.4.1->-r ./yolov3/requirements.txt (line 16)) (1.2.0)\n",
      "Requirement already satisfied: google-auth<3,>=1.6.3 in c:\\users\\allsa\\anaconda3\\envs\\kt-aivle\\lib\\site-packages (from tensorboard>=2.4.1->-r ./yolov3/requirements.txt (line 16)) (2.11.0)\n",
      "Requirement already satisfied: grpcio>=1.24.3 in c:\\users\\allsa\\anaconda3\\envs\\kt-aivle\\lib\\site-packages (from tensorboard>=2.4.1->-r ./yolov3/requirements.txt (line 16)) (1.48.0)\n",
      "Requirement already satisfied: wheel>=0.26 in c:\\users\\allsa\\anaconda3\\envs\\kt-aivle\\lib\\site-packages (from tensorboard>=2.4.1->-r ./yolov3/requirements.txt (line 16)) (0.37.1)\n",
      "Requirement already satisfied: tensorboard-data-server<0.7.0,>=0.6.0 in c:\\users\\allsa\\anaconda3\\envs\\kt-aivle\\lib\\site-packages (from tensorboard>=2.4.1->-r ./yolov3/requirements.txt (line 16)) (0.6.0)\n",
      "Requirement already satisfied: tensorboard-plugin-wit>=1.6.0 in c:\\users\\allsa\\anaconda3\\envs\\kt-aivle\\lib\\site-packages (from tensorboard>=2.4.1->-r ./yolov3/requirements.txt (line 16)) (1.8.1)\n",
      "Requirement already satisfied: google-auth-oauthlib<0.5,>=0.4.1 in c:\\users\\allsa\\anaconda3\\envs\\kt-aivle\\lib\\site-packages (from tensorboard>=2.4.1->-r ./yolov3/requirements.txt (line 16)) (0.4.6)\n",
      "Requirement already satisfied: markdown>=2.6.8 in c:\\users\\allsa\\anaconda3\\envs\\kt-aivle\\lib\\site-packages (from tensorboard>=2.4.1->-r ./yolov3/requirements.txt (line 16)) (3.4.1)\n",
      "Requirement already satisfied: setproctitle in c:\\users\\allsa\\anaconda3\\envs\\kt-aivle\\lib\\site-packages (from wandb->-r ./yolov3/requirements.txt (line 17)) (1.3.2)\n",
      "Requirement already satisfied: shortuuid>=0.5.0 in c:\\users\\allsa\\anaconda3\\envs\\kt-aivle\\lib\\site-packages (from wandb->-r ./yolov3/requirements.txt (line 17)) (1.0.9)\n",
      "Requirement already satisfied: Click!=8.0.0,>=7.0 in c:\\users\\allsa\\anaconda3\\envs\\kt-aivle\\lib\\site-packages (from wandb->-r ./yolov3/requirements.txt (line 17)) (8.1.3)\n",
      "Requirement already satisfied: docker-pycreds>=0.4.0 in c:\\users\\allsa\\anaconda3\\envs\\kt-aivle\\lib\\site-packages (from wandb->-r ./yolov3/requirements.txt (line 17)) (0.4.0)\n",
      "Requirement already satisfied: sentry-sdk>=1.0.0 in c:\\users\\allsa\\anaconda3\\envs\\kt-aivle\\lib\\site-packages (from wandb->-r ./yolov3/requirements.txt (line 17)) (1.9.8)\n",
      "Requirement already satisfied: GitPython>=1.0.0 in c:\\users\\allsa\\anaconda3\\envs\\kt-aivle\\lib\\site-packages (from wandb->-r ./yolov3/requirements.txt (line 17)) (3.1.27)\n",
      "Requirement already satisfied: psutil>=5.0.0 in c:\\users\\allsa\\anaconda3\\envs\\kt-aivle\\lib\\site-packages (from wandb->-r ./yolov3/requirements.txt (line 17)) (5.9.2)\n",
      "Requirement already satisfied: pathtools in c:\\users\\allsa\\anaconda3\\envs\\kt-aivle\\lib\\site-packages (from wandb->-r ./yolov3/requirements.txt (line 17)) (0.1.2)\n",
      "Requirement already satisfied: promise<3,>=2.0 in c:\\users\\allsa\\anaconda3\\envs\\kt-aivle\\lib\\site-packages (from wandb->-r ./yolov3/requirements.txt (line 17)) (2.3)\n",
      "Requirement already satisfied: six>=1.13.0 in c:\\users\\allsa\\anaconda3\\envs\\kt-aivle\\lib\\site-packages (from wandb->-r ./yolov3/requirements.txt (line 17)) (1.16.0)\n",
      "Requirement already satisfied: pytz>=2020.1 in c:\\users\\allsa\\anaconda3\\envs\\kt-aivle\\lib\\site-packages (from pandas>=1.1.4->-r ./yolov3/requirements.txt (line 20)) (2022.1)\n",
      "Requirement already satisfied: gitdb<5,>=4.0.1 in c:\\users\\allsa\\anaconda3\\envs\\kt-aivle\\lib\\site-packages (from GitPython>=1.0.0->wandb->-r ./yolov3/requirements.txt (line 17)) (4.0.9)\n",
      "Requirement already satisfied: rsa<5,>=3.1.4 in c:\\users\\allsa\\anaconda3\\envs\\kt-aivle\\lib\\site-packages (from google-auth<3,>=1.6.3->tensorboard>=2.4.1->-r ./yolov3/requirements.txt (line 16)) (4.9)\n",
      "Requirement already satisfied: pyasn1-modules>=0.2.1 in c:\\users\\allsa\\anaconda3\\envs\\kt-aivle\\lib\\site-packages (from google-auth<3,>=1.6.3->tensorboard>=2.4.1->-r ./yolov3/requirements.txt (line 16)) (0.2.7)\n",
      "Requirement already satisfied: cachetools<6.0,>=2.0.0 in c:\\users\\allsa\\anaconda3\\envs\\kt-aivle\\lib\\site-packages (from google-auth<3,>=1.6.3->tensorboard>=2.4.1->-r ./yolov3/requirements.txt (line 16)) (5.2.0)\n",
      "Requirement already satisfied: requests-oauthlib>=0.7.0 in c:\\users\\allsa\\anaconda3\\envs\\kt-aivle\\lib\\site-packages (from google-auth-oauthlib<0.5,>=0.4.1->tensorboard>=2.4.1->-r ./yolov3/requirements.txt (line 16)) (1.3.1)\n",
      "Requirement already satisfied: importlib-metadata>=4.4 in c:\\users\\allsa\\anaconda3\\envs\\kt-aivle\\lib\\site-packages (from markdown>=2.6.8->tensorboard>=2.4.1->-r ./yolov3/requirements.txt (line 16)) (4.11.4)\n",
      "Requirement already satisfied: MarkupSafe>=2.1.1 in c:\\users\\allsa\\anaconda3\\envs\\kt-aivle\\lib\\site-packages (from werkzeug>=1.0.1->tensorboard>=2.4.1->-r ./yolov3/requirements.txt (line 16)) (2.1.1)\n",
      "Requirement already satisfied: smmap<6,>=3.0.1 in c:\\users\\allsa\\anaconda3\\envs\\kt-aivle\\lib\\site-packages (from gitdb<5,>=4.0.1->GitPython>=1.0.0->wandb->-r ./yolov3/requirements.txt (line 17)) (5.0.0)\n",
      "Requirement already satisfied: zipp>=0.5 in c:\\users\\allsa\\anaconda3\\envs\\kt-aivle\\lib\\site-packages (from importlib-metadata>=4.4->markdown>=2.6.8->tensorboard>=2.4.1->-r ./yolov3/requirements.txt (line 16)) (3.8.0)\n",
      "Requirement already satisfied: pyasn1<0.5.0,>=0.4.6 in c:\\users\\allsa\\anaconda3\\envs\\kt-aivle\\lib\\site-packages (from pyasn1-modules>=0.2.1->google-auth<3,>=1.6.3->tensorboard>=2.4.1->-r ./yolov3/requirements.txt (line 16)) (0.4.8)\n",
      "Requirement already satisfied: oauthlib>=3.0.0 in c:\\users\\allsa\\anaconda3\\envs\\kt-aivle\\lib\\site-packages (from requests-oauthlib>=0.7.0->google-auth-oauthlib<0.5,>=0.4.1->tensorboard>=2.4.1->-r ./yolov3/requirements.txt (line 16)) (3.2.0)\n"
     ]
    }
   ]
  },
  {
   "cell_type": "markdown",
   "source": [
    "## Image Detection\n",
    "\n",
    "1. 예제 이미지 다운로드\n",
    "\n",
    "2. COCO Dataset으로 pretrained 된 weights 다운로드\n",
    "    - weights가 없으면 자동 다운로드\n",
    "\n",
    "3. detect.py를 python으로 직접 호출하여 수행"
   ],
   "metadata": {
    "id": "x49tFhjSmbOA",
    "pycharm": {
     "name": "#%% md\n"
    }
   }
  },
  {
   "cell_type": "markdown",
   "source": [
    "### 1) 예제 이미지 다운로드\n",
    "\n",
    "    !wget -O [저장할 파일명] [파일 주소]"
   ],
   "metadata": {
    "id": "oG0KBwlqnR4A",
    "pycharm": {
     "name": "#%% md\n"
    }
   }
  },
  {
   "cell_type": "code",
   "source": [
    "!curl https://raw.githubusercontent.com/DrKAI/image/main/14th_Street_2005.jpg > ./yolov3/data/images/14th_street.jpg"
   ],
   "metadata": {
    "id": "xY3_24IImbLV",
    "pycharm": {
     "name": "#%%\n"
    }
   },
   "execution_count": 23,
   "outputs": [
    {
     "name": "stderr",
     "output_type": "stream",
     "text": [
      "  % Total    % Received % Xferd  Average Speed   Time    Time     Time  Current\n",
      "                                 Dload  Upload   Total   Spent    Left  Speed\n",
      "\n",
      "  0     0    0     0    0     0      0      0 --:--:-- --:--:-- --:--:--     0\n",
      "100  534k  100  534k    0     0  13.1M      0 --:--:-- --:--:-- --:--:-- 13.3M\n"
     ]
    }
   ]
  },
  {
   "cell_type": "markdown",
   "source": [
    "### 2) Pretrained weights 다운로드\n",
    "\n",
    "![Pretrained weights](https://github.com/DrKAI/CV/raw/main/UltraLytics_manual/yolov3_pretrained.png)\n",
    "![Pretrained weights2](https://github.com/DrKAI/CV/raw/main/UltraLytics_manual/yolov3_pretrained2.png)\n",
    "\n",
    "[Pretrained weights Page](https://github.com/ultralytics/yolov3/releases)"
   ],
   "metadata": {
    "id": "1beFaHRDoAT5",
    "pycharm": {
     "name": "#%% md\n"
    }
   }
  },
  {
   "cell_type": "markdown",
   "source": [
    "* pretrained weights 저장 폴더 생성\n",
    "\n",
    "      !mkdir [경로/디렉토리 명]"
   ],
   "metadata": {
    "id": "-vLy2ZQ0p-aL",
    "pycharm": {
     "name": "#%% md\n"
    }
   }
  },
  {
   "cell_type": "code",
   "source": [
    "!mkdir \"./yolov3/pretrained\""
   ],
   "metadata": {
    "id": "HL9GOi4imbIW",
    "pycharm": {
     "name": "#%%\n"
    }
   },
   "execution_count": 28,
   "outputs": []
  },
  {
   "cell_type": "markdown",
   "source": [
    "* pretrained weights 다운로드"
   ],
   "metadata": {
    "id": "ZLiJs4K-mbFS",
    "pycharm": {
     "name": "#%% md\n"
    }
   }
  },
  {
   "cell_type": "code",
   "source": [
    "!curl https://github.com/ultralytics/yolov3/releases/download/v9.6.0/yolov3-tiny.pt > ./yolov3/pretrained/yolov3-tiny.pt"
   ],
   "metadata": {
    "id": "4T8CcI0jmbCa",
    "pycharm": {
     "name": "#%%\n"
    }
   },
   "execution_count": 38,
   "outputs": [
    {
     "name": "stderr",
     "output_type": "stream",
     "text": [
      "  % Total    % Received % Xferd  Average Speed   Time    Time     Time  Current\n",
      "                                 Dload  Upload   Total   Spent    Left  Speed\n",
      "\n",
      "  0     0    0     0    0     0      0      0 --:--:-- --:--:-- --:--:--     0\n",
      "  0     0    0     0    0     0      0      0 --:--:-- --:--:-- --:--:--     0\n",
      "  0     0    0     0    0     0      0      0 --:--:-- --:--:-- --:--:--     0\n"
     ]
    }
   ]
  },
  {
   "cell_type": "code",
   "execution_count": 35,
   "outputs": [
    {
     "name": "stderr",
     "output_type": "stream",
     "text": [
      "'wget'은(는) 내부 또는 외부 명령, 실행할 수 있는 프로그램, 또는\n",
      "배치 파일이 아닙니다.\n"
     ]
    }
   ],
   "source": [
    "!wget -O /content/yolov3/pretrained/yolov3-tiny.pt https://github.com/ultralytics/yolov3/releases/download/v9.6.0/yolov3-tiny.pt"
   ],
   "metadata": {
    "collapsed": false,
    "pycharm": {
     "name": "#%%\n"
    }
   }
  },
  {
   "cell_type": "markdown",
   "source": [
    "### 3) detect.py 실행\n",
    "\n",
    "- 명령어 도움말 : python detect.py -h"
   ],
   "metadata": {
    "id": "8oPYiciurwMa",
    "pycharm": {
     "name": "#%% md\n"
    }
   }
  },
  {
   "cell_type": "code",
   "execution_count": 46,
   "outputs": [
    {
     "name": "stdout",
     "output_type": "stream",
     "text": [
      "Downloading https://ultralytics.com/assets/Arial.ttf to C:\\Users\\allsa\\AppData\\Roaming\\Ultralytics\\Arial.ttf...\n",
      "usage: detect.py [-h] [--weights WEIGHTS [WEIGHTS ...]] [--source SOURCE]\n",
      "                 [--imgsz IMGSZ [IMGSZ ...]] [--conf-thres CONF_THRES]\n",
      "                 [--iou-thres IOU_THRES] [--max-det MAX_DET] [--device DEVICE]\n",
      "                 [--view-img] [--save-txt] [--save-conf] [--save-crop]\n",
      "                 [--nosave] [--classes CLASSES [CLASSES ...]] [--agnostic-nms]\n",
      "                 [--augment] [--visualize] [--update] [--project PROJECT]\n",
      "                 [--name NAME] [--exist-ok] [--line-thickness LINE_THICKNESS]\n",
      "                 [--hide-labels] [--hide-conf] [--half] [--dnn]\n",
      "\n",
      "optional arguments:\n",
      "  -h, --help            show this help message and exit\n",
      "  --weights WEIGHTS [WEIGHTS ...]\n",
      "                        model path(s)\n",
      "  --source SOURCE       file/dir/URL/glob, 0 for webcam\n",
      "  --imgsz IMGSZ [IMGSZ ...], --img IMGSZ [IMGSZ ...], --img-size IMGSZ [IMGSZ ...]\n",
      "                        inference size h,w\n",
      "  --conf-thres CONF_THRES\n",
      "                        confidence threshold\n",
      "  --iou-thres IOU_THRES\n",
      "                        NMS IoU threshold\n",
      "  --max-det MAX_DET     maximum detections per image\n",
      "  --device DEVICE       cuda device, i.e. 0 or 0,1,2,3 or cpu\n",
      "  --view-img            show results\n",
      "  --save-txt            save results to *.txt\n",
      "  --save-conf           save confidences in --save-txt labels\n",
      "  --save-crop           save cropped prediction boxes\n",
      "  --nosave              do not save images/videos\n",
      "  --classes CLASSES [CLASSES ...]\n",
      "                        filter by class: --classes 0, or --classes 0 2 3\n",
      "  --agnostic-nms        class-agnostic NMS\n",
      "  --augment             augmented inference\n",
      "  --visualize           visualize features\n",
      "  --update              update all models\n",
      "  --project PROJECT     save results to project/name\n",
      "  --name NAME           save results to project/name\n",
      "  --exist-ok            existing project/name ok, do not increment\n",
      "  --line-thickness LINE_THICKNESS\n",
      "                        bounding box thickness (pixels)\n",
      "  --hide-labels         hide labels\n",
      "  --hide-conf           hide confidences\n",
      "  --half                use FP16 half-precision inference\n",
      "  --dnn                 use OpenCV DNN for ONNX inference\n",
      "usage: detect.py [-h] [--weights WEIGHTS [WEIGHTS ...]] [--source SOURCE]\n",
      "                 [--imgsz IMGSZ [IMGSZ ...]] [--conf-thres CONF_THRES]\n",
      "                 [--iou-thres IOU_THRES] [--max-det MAX_DET] [--device DEVICE]\n",
      "                 [--view-img] [--save-txt] [--save-conf] [--save-crop]\n",
      "                 [--nosave] [--classes CLASSES [CLASSES ...]] [--agnostic-nms]\n",
      "                 [--augment] [--visualize] [--update] [--project PROJECT]\n",
      "                 [--name NAME] [--exist-ok] [--line-thickness LINE_THICKNESS]\n",
      "                 [--hide-labels] [--hide-conf] [--half] [--dnn]\n",
      "\n",
      "optional arguments:\n",
      "  -h, --help            show this help message and exit\n",
      "  --weights WEIGHTS [WEIGHTS ...]\n",
      "                        model path(s)\n",
      "  --source SOURCE       file/dir/URL/glob, 0 for webcam\n",
      "  --imgsz IMGSZ [IMGSZ ...], --img IMGSZ [IMGSZ ...], --img-size IMGSZ [IMGSZ ...]\n",
      "                        inference size h,w\n",
      "  --conf-thres CONF_THRES\n",
      "                        confidence threshold\n",
      "  --iou-thres IOU_THRES\n",
      "                        NMS IoU threshold\n",
      "  --max-det MAX_DET     maximum detections per image\n",
      "  --device DEVICE       cuda device, i.e. 0 or 0,1,2,3 or cpu\n",
      "  --view-img            show results\n",
      "  --save-txt            save results to *.txt\n",
      "  --save-conf           save confidences in --save-txt labels\n",
      "  --save-crop           save cropped prediction boxes\n",
      "  --nosave              do not save images/videos\n",
      "  --classes CLASSES [CLASSES ...]\n",
      "                        filter by class: --classes 0, or --classes 0 2 3\n",
      "  --agnostic-nms        class-agnostic NMS\n",
      "  --augment             augmented inference\n",
      "  --visualize           visualize features\n",
      "  --update              update all models\n",
      "  --project PROJECT     save results to project/name\n",
      "  --name NAME           save results to project/name\n",
      "  --exist-ok            existing project/name ok, do not increment\n",
      "  --line-thickness LINE_THICKNESS\n",
      "                        bounding box thickness (pixels)\n",
      "  --hide-labels         hide labels\n",
      "  --hide-conf           hide confidences\n",
      "  --half                use FP16 half-precision inference\n",
      "  --dnn                 use OpenCV DNN for ONNX inference\n"
     ]
    }
   ],
   "source": [
    "!python ./yolov3/detect.py -h"
   ],
   "metadata": {
    "collapsed": false,
    "pycharm": {
     "name": "#%%\n"
    }
   }
  },
  {
   "cell_type": "code",
   "source": [
    "!python ./yolov3/detect.py \\\n",
    "    --weights ./yolov3/pretrained/yolov3-tiny.pt  \\\n",
    "    --source ./yolov3/data/images/bus.jpg  \\\n",
    "    --project ./yolov3/detected \\\n",
    "    --name images \\\n",
    "    --img 640\\\n",
    "    --conf-thres .5 \\\n",
    "    --iou-thres .4 \\\n",
    "    --line-thickness 2 \\\n",
    "    --exist-ok"
   ],
   "metadata": {
    "id": "Ac_hhT5Ql4sh",
    "pycharm": {
     "name": "#%%\n"
    }
   },
   "execution_count": 94,
   "outputs": [
    {
     "name": "stderr",
     "output_type": "stream",
     "text": [
      "\u001B[34m\u001B[1mdetect: \u001B[0mweights=['./yolov3/pretrained/yolov3-tiny.pt'], source=./yolov3/data/images/bus.jpg, imgsz=[640, 640], conf_thres=0.5, iou_thres=0.4, max_det=1000, device=, view_img=False, save_txt=False, save_conf=False, save_crop=False, nosave=False, classes=None, agnostic_nms=False, augment=False, visualize=False, update=False, project=./yolov3/detected, name=images, exist_ok=True, line_thickness=2, hide_labels=False, hide_conf=False, half=False, dnn=False\n",
      "YOLOv3  2022-9-21 torch 1.12.1+cpu CPU\n",
      "\n",
      "Fusing layers... \n",
      "Model Summary: 48 layers, 8849182 parameters, 0 gradients\n",
      "[ WARN:0@2.245] global D:\\a\\opencv-python\\opencv-python\\opencv\\modules\\imgcodecs\\src\\loadsave.cpp (239) cv::findDecoder imread_('C:\\Users\\allsa\\kt-aivle\\�뵦�윭�떇\\02-Visual DL\\2_ObjectDetection\\yolov3\\data\\images\\bus.jpg'): can't open/read file: check file path/integrity\n",
      "Traceback (most recent call last):\n",
      "  File \"./yolov3/detect.py\", line 244, in <module>\n",
      "    main(opt)\n",
      "  File \"./yolov3/detect.py\", line 239, in main\n",
      "    run(**vars(opt))\n",
      "  File \"C:\\Users\\allsa\\anaconda3\\envs\\kt-aivle\\lib\\site-packages\\torch\\autograd\\grad_mode.py\", line 27, in decorate_context\n",
      "    return func(*args, **kwargs)\n",
      "  File \"./yolov3/detect.py\", line 103, in run\n",
      "    for path, im, im0s, vid_cap, s in dataset:\n",
      "  File \"C:\\Users\\allsa\\kt-aivle\\딥러닝\\02-Visual DL\\2_ObjectDetection\\yolov3\\utils\\datasets.py\", line 220, in __next__\n",
      "    assert img0 is not None, f'Image Not Found {path}'\n",
      "AssertionError: Image Not Found C:\\Users\\allsa\\kt-aivle\\딥러닝\\02-Visual DL\\2_ObjectDetection\\yolov3\\data\\images\\bus.jpg\n"
     ]
    }
   ]
  },
  {
   "cell_type": "markdown",
   "source": [
    "## Detect Image 살펴보기"
   ],
   "metadata": {
    "id": "Js3aCClPu4mE",
    "pycharm": {
     "name": "#%% md\n"
    }
   }
  },
  {
   "cell_type": "markdown",
   "source": [
    "* 라이브러리 설치"
   ],
   "metadata": {
    "id": "C34JLXLNu-8a",
    "pycharm": {
     "name": "#%% md\n"
    }
   }
  },
  {
   "cell_type": "code",
   "source": [
    "# from google.colab import files\n",
    "from IPython.display import Image"
   ],
   "metadata": {
    "id": "o9bfSPLoudJX",
    "pycharm": {
     "name": "#%%\n"
    }
   },
   "execution_count": 49,
   "outputs": []
  },
  {
   "cell_type": "markdown",
   "source": [
    "* Image( ) 사용\n",
    "\n",
    "      Image(filename=[파일 경로])"
   ],
   "metadata": {
    "id": "pYhBXpFRvHdI",
    "pycharm": {
     "name": "#%% md\n"
    }
   }
  },
  {
   "cell_type": "code",
   "source": [
    "Image(filename='./yolov3/detected/images/14th_street.jpg', width=640)"
   ],
   "metadata": {
    "id": "SlBaUWPrvHJq",
    "pycharm": {
     "name": "#%%\n"
    }
   },
   "execution_count": 51,
   "outputs": [
    {
     "ename": "FileNotFoundError",
     "evalue": "[Errno 2] No such file or directory: './yolov3/detected/images/14th_street.jpg'",
     "output_type": "error",
     "traceback": [
      "\u001B[1;31m---------------------------------------------------------------------------\u001B[0m",
      "\u001B[1;31mFileNotFoundError\u001B[0m                         Traceback (most recent call last)",
      "Input \u001B[1;32mIn [51]\u001B[0m, in \u001B[0;36m<cell line: 1>\u001B[1;34m()\u001B[0m\n\u001B[1;32m----> 1\u001B[0m \u001B[43mImage\u001B[49m\u001B[43m(\u001B[49m\u001B[43mfilename\u001B[49m\u001B[38;5;241;43m=\u001B[39;49m\u001B[38;5;124;43m'\u001B[39;49m\u001B[38;5;124;43m./yolov3/detected/images/14th_street.jpg\u001B[39;49m\u001B[38;5;124;43m'\u001B[39;49m\u001B[43m,\u001B[49m\u001B[43m \u001B[49m\u001B[43mwidth\u001B[49m\u001B[38;5;241;43m=\u001B[39;49m\u001B[38;5;241;43m640\u001B[39;49m\u001B[43m)\u001B[49m\n",
      "File \u001B[1;32m~\\anaconda3\\envs\\kt-aivle\\lib\\site-packages\\IPython\\core\\display.py:957\u001B[0m, in \u001B[0;36mImage.__init__\u001B[1;34m(self, data, url, filename, format, embed, width, height, retina, unconfined, metadata, alt)\u001B[0m\n\u001B[0;32m    955\u001B[0m \u001B[38;5;28mself\u001B[39m\u001B[38;5;241m.\u001B[39munconfined \u001B[38;5;241m=\u001B[39m unconfined\n\u001B[0;32m    956\u001B[0m \u001B[38;5;28mself\u001B[39m\u001B[38;5;241m.\u001B[39malt \u001B[38;5;241m=\u001B[39m alt\n\u001B[1;32m--> 957\u001B[0m \u001B[38;5;28;43msuper\u001B[39;49m\u001B[43m(\u001B[49m\u001B[43mImage\u001B[49m\u001B[43m,\u001B[49m\u001B[43m \u001B[49m\u001B[38;5;28;43mself\u001B[39;49m\u001B[43m)\u001B[49m\u001B[38;5;241;43m.\u001B[39;49m\u001B[38;5;21;43m__init__\u001B[39;49m\u001B[43m(\u001B[49m\u001B[43mdata\u001B[49m\u001B[38;5;241;43m=\u001B[39;49m\u001B[43mdata\u001B[49m\u001B[43m,\u001B[49m\u001B[43m \u001B[49m\u001B[43murl\u001B[49m\u001B[38;5;241;43m=\u001B[39;49m\u001B[43murl\u001B[49m\u001B[43m,\u001B[49m\u001B[43m \u001B[49m\u001B[43mfilename\u001B[49m\u001B[38;5;241;43m=\u001B[39;49m\u001B[43mfilename\u001B[49m\u001B[43m,\u001B[49m\n\u001B[0;32m    958\u001B[0m \u001B[43m        \u001B[49m\u001B[43mmetadata\u001B[49m\u001B[38;5;241;43m=\u001B[39;49m\u001B[43mmetadata\u001B[49m\u001B[43m)\u001B[49m\n\u001B[0;32m    960\u001B[0m \u001B[38;5;28;01mif\u001B[39;00m \u001B[38;5;28mself\u001B[39m\u001B[38;5;241m.\u001B[39mwidth \u001B[38;5;129;01mis\u001B[39;00m \u001B[38;5;28;01mNone\u001B[39;00m \u001B[38;5;129;01mand\u001B[39;00m \u001B[38;5;28mself\u001B[39m\u001B[38;5;241m.\u001B[39mmetadata\u001B[38;5;241m.\u001B[39mget(\u001B[38;5;124m'\u001B[39m\u001B[38;5;124mwidth\u001B[39m\u001B[38;5;124m'\u001B[39m, {}):\n\u001B[0;32m    961\u001B[0m     \u001B[38;5;28mself\u001B[39m\u001B[38;5;241m.\u001B[39mwidth \u001B[38;5;241m=\u001B[39m metadata[\u001B[38;5;124m'\u001B[39m\u001B[38;5;124mwidth\u001B[39m\u001B[38;5;124m'\u001B[39m]\n",
      "File \u001B[1;32m~\\anaconda3\\envs\\kt-aivle\\lib\\site-packages\\IPython\\core\\display.py:327\u001B[0m, in \u001B[0;36mDisplayObject.__init__\u001B[1;34m(self, data, url, filename, metadata)\u001B[0m\n\u001B[0;32m    324\u001B[0m \u001B[38;5;28;01melif\u001B[39;00m \u001B[38;5;28mself\u001B[39m\u001B[38;5;241m.\u001B[39mmetadata \u001B[38;5;129;01mis\u001B[39;00m \u001B[38;5;28;01mNone\u001B[39;00m:\n\u001B[0;32m    325\u001B[0m     \u001B[38;5;28mself\u001B[39m\u001B[38;5;241m.\u001B[39mmetadata \u001B[38;5;241m=\u001B[39m {}\n\u001B[1;32m--> 327\u001B[0m \u001B[38;5;28;43mself\u001B[39;49m\u001B[38;5;241;43m.\u001B[39;49m\u001B[43mreload\u001B[49m\u001B[43m(\u001B[49m\u001B[43m)\u001B[49m\n\u001B[0;32m    328\u001B[0m \u001B[38;5;28mself\u001B[39m\u001B[38;5;241m.\u001B[39m_check_data()\n",
      "File \u001B[1;32m~\\anaconda3\\envs\\kt-aivle\\lib\\site-packages\\IPython\\core\\display.py:992\u001B[0m, in \u001B[0;36mImage.reload\u001B[1;34m(self)\u001B[0m\n\u001B[0;32m    990\u001B[0m \u001B[38;5;124;03m\"\"\"Reload the raw data from file or URL.\"\"\"\u001B[39;00m\n\u001B[0;32m    991\u001B[0m \u001B[38;5;28;01mif\u001B[39;00m \u001B[38;5;28mself\u001B[39m\u001B[38;5;241m.\u001B[39membed:\n\u001B[1;32m--> 992\u001B[0m     \u001B[38;5;28;43msuper\u001B[39;49m\u001B[43m(\u001B[49m\u001B[43mImage\u001B[49m\u001B[43m,\u001B[49m\u001B[38;5;28;43mself\u001B[39;49m\u001B[43m)\u001B[49m\u001B[38;5;241;43m.\u001B[39;49m\u001B[43mreload\u001B[49m\u001B[43m(\u001B[49m\u001B[43m)\u001B[49m\n\u001B[0;32m    993\u001B[0m     \u001B[38;5;28;01mif\u001B[39;00m \u001B[38;5;28mself\u001B[39m\u001B[38;5;241m.\u001B[39mretina:\n\u001B[0;32m    994\u001B[0m         \u001B[38;5;28mself\u001B[39m\u001B[38;5;241m.\u001B[39m_retina_shape()\n",
      "File \u001B[1;32m~\\anaconda3\\envs\\kt-aivle\\lib\\site-packages\\IPython\\core\\display.py:353\u001B[0m, in \u001B[0;36mDisplayObject.reload\u001B[1;34m(self)\u001B[0m\n\u001B[0;32m    351\u001B[0m \u001B[38;5;28;01mif\u001B[39;00m \u001B[38;5;28mself\u001B[39m\u001B[38;5;241m.\u001B[39mfilename \u001B[38;5;129;01mis\u001B[39;00m \u001B[38;5;129;01mnot\u001B[39;00m \u001B[38;5;28;01mNone\u001B[39;00m:\n\u001B[0;32m    352\u001B[0m     encoding \u001B[38;5;241m=\u001B[39m \u001B[38;5;28;01mNone\u001B[39;00m \u001B[38;5;28;01mif\u001B[39;00m \u001B[38;5;124m\"\u001B[39m\u001B[38;5;124mb\u001B[39m\u001B[38;5;124m\"\u001B[39m \u001B[38;5;129;01min\u001B[39;00m \u001B[38;5;28mself\u001B[39m\u001B[38;5;241m.\u001B[39m_read_flags \u001B[38;5;28;01melse\u001B[39;00m \u001B[38;5;124m\"\u001B[39m\u001B[38;5;124mutf-8\u001B[39m\u001B[38;5;124m\"\u001B[39m\n\u001B[1;32m--> 353\u001B[0m     \u001B[38;5;28;01mwith\u001B[39;00m \u001B[38;5;28;43mopen\u001B[39;49m\u001B[43m(\u001B[49m\u001B[38;5;28;43mself\u001B[39;49m\u001B[38;5;241;43m.\u001B[39;49m\u001B[43mfilename\u001B[49m\u001B[43m,\u001B[49m\u001B[43m \u001B[49m\u001B[38;5;28;43mself\u001B[39;49m\u001B[38;5;241;43m.\u001B[39;49m\u001B[43m_read_flags\u001B[49m\u001B[43m,\u001B[49m\u001B[43m \u001B[49m\u001B[43mencoding\u001B[49m\u001B[38;5;241;43m=\u001B[39;49m\u001B[43mencoding\u001B[49m\u001B[43m)\u001B[49m \u001B[38;5;28;01mas\u001B[39;00m f:\n\u001B[0;32m    354\u001B[0m         \u001B[38;5;28mself\u001B[39m\u001B[38;5;241m.\u001B[39mdata \u001B[38;5;241m=\u001B[39m f\u001B[38;5;241m.\u001B[39mread()\n\u001B[0;32m    355\u001B[0m \u001B[38;5;28;01melif\u001B[39;00m \u001B[38;5;28mself\u001B[39m\u001B[38;5;241m.\u001B[39murl \u001B[38;5;129;01mis\u001B[39;00m \u001B[38;5;129;01mnot\u001B[39;00m \u001B[38;5;28;01mNone\u001B[39;00m:\n\u001B[0;32m    356\u001B[0m     \u001B[38;5;66;03m# Deferred import\u001B[39;00m\n",
      "\u001B[1;31mFileNotFoundError\u001B[0m: [Errno 2] No such file or directory: './yolov3/detected/images/14th_street.jpg'"
     ]
    }
   ]
  },
  {
   "cell_type": "markdown",
   "source": [
    "* files.download( ) 사용\n",
    "\n",
    "      files.download(filename=[파일 경로])"
   ],
   "metadata": {
    "id": "b0soEq_w-oBm",
    "pycharm": {
     "name": "#%% md\n"
    }
   }
  },
  {
   "cell_type": "code",
   "source": [
    "files.download(filename='./yolov3/detected/images/14th_street.jpg')"
   ],
   "metadata": {
    "id": "4yW1kAUG-pbp",
    "pycharm": {
     "name": "#%%\n"
    }
   },
   "execution_count": null,
   "outputs": []
  }
 ]
}