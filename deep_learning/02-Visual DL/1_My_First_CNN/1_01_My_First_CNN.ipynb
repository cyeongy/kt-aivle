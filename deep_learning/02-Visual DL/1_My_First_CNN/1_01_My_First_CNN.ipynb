{
 "nbformat": 4,
 "nbformat_minor": 0,
 "metadata": {
  "colab": {
   "name": "1_01_My_First_CNN.ipynb",
   "provenance": [
    {
     "file_id": "1AsGEiyaA8e2OVY8UHMHPvBKDwx0Z-iuu",
     "timestamp": 1660284887835
    }
   ],
   "collapsed_sections": []
  },
  "kernelspec": {
   "name": "python3",
   "display_name": "Python 3"
  },
  "gpuClass": "standard",
  "accelerator": "GPU"
 },
 "cells": [
  {
   "cell_type": "markdown",
   "metadata": {
    "id": "x8TZ1FxLB4xJ",
    "pycharm": {
     "name": "#%% md\n"
    }
   },
   "source": [
    "# My First CNN on MNIST\n",
    "\n",
    "## 일단 Quick 하게!!\n",
    "\n",
    "코드는 정말 수루룩 끝난다!\n",
    "\n",
    "그래서 다시 한 번! 다음 그림을 보고 구조를 확실히 추적할 수 있어야 한다.\n",
    "\n",
    "* [Ex1](https://cdn-images-1.medium.com/max/1600/1*O9ulXVmjBustHGLi1zRthA.png)\n",
    "* [Ex2](https://cdn-images-1.medium.com/max/1600/1*jqKHgwZ8alM3K_JRYO_l4w.png)\n",
    "\n"
   ]
  },
  {
   "cell_type": "markdown",
   "metadata": {
    "id": "CcKmYCVBFNSN",
    "pycharm": {
     "name": "#%% md\n"
    }
   },
   "source": [
    "### 라이브러리 로딩"
   ]
  },
  {
   "cell_type": "code",
   "metadata": {
    "id": "wY-LJviYFP1w",
    "pycharm": {
     "name": "#%%\n"
    }
   },
   "source": [
    "'''\n",
    "matplolib inline 명령어를 통해서\n",
    "matplot으로 그리는 플롯들을 주피터 노트북 내에서 볼 수 있게 해준다.\n",
    "포맷을 retina로 바꾸면 그래프의 화질이 훨씬 좋아진다.\n",
    "'''\n",
    "%matplotlib inline\n",
    "%config InlineBackend.figure_format = 'retina'\n",
    "\n",
    "'''\n",
    "라이브러리들을 불러오자.\n",
    "'''\n",
    "import numpy as np\n",
    "import pandas as pd\n",
    "import matplotlib.pyplot as plt\n",
    "import tensorflow as tf\n",
    "from tensorflow import keras\n",
    "\n",
    "from tensorflow.keras.callbacks import EarlyStopping\n",
    "from tensorflow.keras.layers import Dense, BatchNormalization, Dropout\n",
    "from tensorflow.keras import layers, models\n",
    "from tensorflow.keras import backend\n",
    "\n",
    "import random as rd\n",
    "from sklearn.metrics import accuracy_score"
   ],
   "execution_count": 1,
   "outputs": []
  },
  {
   "cell_type": "code",
   "metadata": {
    "id": "N3TWkoiOFRlV",
    "pycharm": {
     "name": "#%%\n"
    }
   },
   "source": [
    "(train_x, train_y), (test_x, test_y) = tf.keras.datasets.mnist.load_data()"
   ],
   "execution_count": 2,
   "outputs": []
  },
  {
   "cell_type": "code",
   "metadata": {
    "id": "8KNvSXY8FNWW",
    "pycharm": {
     "name": "#%%\n"
    }
   },
   "source": [
    "print(train_x.shape, train_y.shape, test_x.shape, test_y.shape)"
   ],
   "execution_count": 3,
   "outputs": [
    {
     "name": "stdout",
     "output_type": "stream",
     "text": [
      "(60000, 28, 28) (60000,) (10000, 28, 28) (10000,)\n"
     ]
    }
   ]
  },
  {
   "cell_type": "code",
   "metadata": {
    "id": "BAd66i9TTRkG",
    "pycharm": {
     "name": "#%%\n"
    }
   },
   "source": [
    "'''\n",
    "Ctrl+Enter를 이용하여\n",
    "반복 실행 해보자!\n",
    "'''\n",
    "\n",
    "id = rd.randrange(0, 10000)\n",
    "\n",
    "print(f'id = {id}')\n",
    "print(f'다음 그림은 숫자 {test_y[id]} 입니다.')\n",
    "plt.imshow(test_x[id])\n",
    "plt.show()"
   ],
   "execution_count": 4,
   "outputs": [
    {
     "name": "stdout",
     "output_type": "stream",
     "text": [
      "id = 5884\n",
      "다음 그림은 숫자 6 입니다.\n"
     ]
    },
    {
     "data": {
      "text/plain": "<Figure size 432x288 with 1 Axes>",
      "image/png": "[encoded data removed]"
     },
     "metadata": {
      "image/png": {
       "width": 251,
       "height": 248
      },
      "needs_background": "light"
     },
     "output_type": "display_data"
    }
   ]
  },
  {
   "cell_type": "markdown",
   "metadata": {
    "id": "nxjV4ytsM0Rq",
    "pycharm": {
     "name": "#%% md\n"
    }
   },
   "source": [
    "### Convolutional Layer를 사용하기 위한 reshape!\n",
    "\n",
    "- **채널이 추가되어야 한다**"
   ]
  },
  {
   "cell_type": "code",
   "metadata": {
    "id": "Yndo0Z3BaCVi",
    "pycharm": {
     "name": "#%%\n"
    }
   },
   "source": [
    "train_x.shape, test_x.shape"
   ],
   "execution_count": 5,
   "outputs": [
    {
     "data": {
      "text/plain": "((60000, 28, 28), (10000, 28, 28))"
     },
     "execution_count": 5,
     "metadata": {},
     "output_type": "execute_result"
    }
   ]
  },
  {
   "cell_type": "code",
   "metadata": {
    "id": "vEJrcLBMaQuj",
    "pycharm": {
     "name": "#%%\n"
    }
   },
   "source": [
    "_, h, w = train_x.shape\n",
    "\n",
    "print(h, w)"
   ],
   "execution_count": 6,
   "outputs": [
    {
     "name": "stdout",
     "output_type": "stream",
     "text": [
      "28 28\n"
     ]
    }
   ]
  },
  {
   "cell_type": "code",
   "metadata": {
    "id": "99f0aagKM5Zl",
    "pycharm": {
     "name": "#%%\n"
    }
   },
   "source": [
    "train_x = train_x.reshape(train_x.shape[0], h, w, 1)\n",
    "test_x = test_x.reshape(test_x.shape[0], h, w, 1)\n",
    "\n",
    "print(train_x.shape, train_y.shape, test_x.shape, test_y.shape)"
   ],
   "execution_count": 7,
   "outputs": [
    {
     "name": "stdout",
     "output_type": "stream",
     "text": [
      "(60000, 28, 28, 1) (60000,) (10000, 28, 28, 1) (10000,)\n"
     ]
    }
   ]
  },
  {
   "cell_type": "markdown",
   "metadata": {
    "id": "viSln5pqGc0G",
    "pycharm": {
     "name": "#%% md\n"
    }
   },
   "source": [
    "* 이미지가 0 ~ 1 사이 값을 갖도록 스케일 조정!"
   ]
  },
  {
   "cell_type": "code",
   "metadata": {
    "id": "wDay4MrZGkNl",
    "pycharm": {
     "name": "#%%\n"
    }
   },
   "source": [
    "print(f'max : {train_x.max()} , min : {train_x.min()}')"
   ],
   "execution_count": 8,
   "outputs": [
    {
     "name": "stdout",
     "output_type": "stream",
     "text": [
      "max : 255 , min : 0\n"
     ]
    }
   ]
  },
  {
   "cell_type": "code",
   "metadata": {
    "id": "DPFeq7FvGkyI",
    "pycharm": {
     "name": "#%%\n"
    }
   },
   "source": [
    "max_num = train_x.max()\n",
    "\n",
    "train_x = train_x/max_num\n",
    "test_x = test_x/max_num\n",
    "\n",
    "print(f'max : {train_x.max()} , min : {train_x.min()}')"
   ],
   "execution_count": 9,
   "outputs": [
    {
     "name": "stdout",
     "output_type": "stream",
     "text": [
      "max : 1.0 , min : 0.0\n"
     ]
    }
   ]
  },
  {
   "cell_type": "markdown",
   "metadata": {
    "id": "SzNYHB8aGmIy",
    "pycharm": {
     "name": "#%% md\n"
    }
   },
   "source": [
    "## Sequential API로 모델링\n",
    "\n",
    "CNN에 관한 것만 추가가 된다.\n",
    "[여기](https://keras.io/layers/convolutional/)를 적극적으로 참고하자"
   ]
  },
  {
   "cell_type": "code",
   "metadata": {
    "id": "nAXfWlC0Oi-L",
    "pycharm": {
     "name": "#%%\n"
    }
   },
   "source": [
    "# backend.image_data_format()"
   ],
   "execution_count": 10,
   "outputs": []
  },
  {
   "cell_type": "code",
   "metadata": {
    "id": "Zt3DEJ6fHDGo",
    "pycharm": {
     "name": "#%%\n"
    }
   },
   "source": [
    "# 혹시 이미 그려둔 그래프가 있다면 날려줘!\n",
    "keras.backend.clear_session()\n",
    "\n",
    "# model에 순차적으로 레이어를 쌓아가겠다는 의도!\n",
    "model = keras.models.Sequential()\n",
    "\n",
    "# 인풋 레이어부터 레이어 블록을 하나하나 쌓는다!\n",
    "model.add( layers.Input(shape=(28, 28, 1)))\n",
    "\n",
    "model.add( layers.Conv2D(filters=16, padding='same',\n",
    "                         kernel_size=(3, 3),\n",
    "                         activation='relu') )\n",
    "\n",
    "model.add( layers.MaxPool2D(pool_size=(2, 2)) )\n",
    "\n",
    "model.add( layers.Conv2D(filters=32,\n",
    "                         kernel_size=(3, 3),\n",
    "                         activation='relu') )\n",
    "\n",
    "model.add( layers.Flatten() )\n",
    "\n",
    "model.add( layers.Dense(64, activation='relu') )\n",
    "\n",
    "model.add( layers.Dense(10, activation='softmax'))\n",
    "\n",
    "# 컴파일!\n",
    "model.compile(loss=keras.losses.sparse_categorical_crossentropy,\n",
    "              optimizer='adam',\n",
    "              metrics=['accuracy'])\n",
    "\n",
    "# 양념!\n",
    "model.summary()"
   ],
   "execution_count": 11,
   "outputs": [
    {
     "name": "stdout",
     "output_type": "stream",
     "text": [
      "Model: \"sequential\"\n",
      "_________________________________________________________________\n",
      "Layer (type)                 Output Shape              Param #   \n",
      "=================================================================\n",
      "conv2d (Conv2D)              (None, 28, 28, 16)        160       \n",
      "_________________________________________________________________\n",
      "max_pooling2d (MaxPooling2D) (None, 14, 14, 16)        0         \n",
      "_________________________________________________________________\n",
      "conv2d_1 (Conv2D)            (None, 12, 12, 32)        4640      \n",
      "_________________________________________________________________\n",
      "flatten (Flatten)            (None, 4608)              0         \n",
      "_________________________________________________________________\n",
      "dense (Dense)                (None, 64)                294976    \n",
      "_________________________________________________________________\n",
      "dense_1 (Dense)              (None, 10)                650       \n",
      "=================================================================\n",
      "Total params: 300,426\n",
      "Trainable params: 300,426\n",
      "Non-trainable params: 0\n",
      "_________________________________________________________________\n"
     ]
    }
   ]
  },
  {
   "cell_type": "code",
   "metadata": {
    "id": "knZfBr3OPjap",
    "pycharm": {
     "name": "#%%\n"
    }
   },
   "source": [
    "# 데이터를 넣어서 학습시키자!\n",
    "history = model.fit(train_x, train_y, epochs=15, batch_size=1024,\n",
    "                    validation_split=0.2, verbose=1)"
   ],
   "execution_count": 12,
   "outputs": [
    {
     "name": "stdout",
     "output_type": "stream",
     "text": [
      "Epoch 1/15\n",
      "47/47 [==============================] - 1s 12ms/step - loss: 2.3024 - accuracy: 0.1111 - val_loss: 2.3021 - val_accuracy: 0.1060\n",
      "Epoch 2/15\n",
      "47/47 [==============================] - 0s 8ms/step - loss: 2.3016 - accuracy: 0.1140 - val_loss: 2.3019 - val_accuracy: 0.1060\n",
      "Epoch 3/15\n",
      "47/47 [==============================] - 0s 7ms/step - loss: 2.3013 - accuracy: 0.1140 - val_loss: 2.3019 - val_accuracy: 0.1060\n",
      "Epoch 4/15\n",
      "47/47 [==============================] - 0s 7ms/step - loss: 2.3011 - accuracy: 0.1140 - val_loss: 2.3019 - val_accuracy: 0.1060\n",
      "Epoch 5/15\n",
      "47/47 [==============================] - 0s 6ms/step - loss: 2.3010 - accuracy: 0.1140 - val_loss: 2.3020 - val_accuracy: 0.1060\n",
      "Epoch 6/15\n",
      "47/47 [==============================] - 0s 7ms/step - loss: 2.3010 - accuracy: 0.1140 - val_loss: 2.3020 - val_accuracy: 0.1060\n",
      "Epoch 7/15\n",
      "47/47 [==============================] - 0s 7ms/step - loss: 2.3010 - accuracy: 0.1140 - val_loss: 2.3021 - val_accuracy: 0.1060\n",
      "Epoch 8/15\n",
      "47/47 [==============================] - 0s 8ms/step - loss: 2.3010 - accuracy: 0.1140 - val_loss: 2.3020 - val_accuracy: 0.1060\n",
      "Epoch 9/15\n",
      "47/47 [==============================] - 0s 7ms/step - loss: 2.3010 - accuracy: 0.1140 - val_loss: 2.3021 - val_accuracy: 0.1060\n",
      "Epoch 10/15\n",
      "47/47 [==============================] - 0s 7ms/step - loss: 2.3010 - accuracy: 0.1140 - val_loss: 2.3021 - val_accuracy: 0.1060\n",
      "Epoch 11/15\n",
      "47/47 [==============================] - 0s 7ms/step - loss: 2.3010 - accuracy: 0.1140 - val_loss: 2.3021 - val_accuracy: 0.1060\n",
      "Epoch 12/15\n",
      "47/47 [==============================] - 0s 7ms/step - loss: 2.3010 - accuracy: 0.1140 - val_loss: 2.3021 - val_accuracy: 0.1060\n",
      "Epoch 13/15\n",
      "47/47 [==============================] - 0s 6ms/step - loss: 2.3010 - accuracy: 0.1140 - val_loss: 2.3021 - val_accuracy: 0.1060\n",
      "Epoch 14/15\n",
      "47/47 [==============================] - 0s 6ms/step - loss: 2.3010 - accuracy: 0.1140 - val_loss: 2.3021 - val_accuracy: 0.1060\n",
      "Epoch 15/15\n",
      "47/47 [==============================] - 0s 7ms/step - loss: 2.3010 - accuracy: 0.1140 - val_loss: 2.3021 - val_accuracy: 0.1060\n"
     ]
    }
   ]
  },
  {
   "cell_type": "code",
   "metadata": {
    "id": "FJMYuSnQPoqt",
    "pycharm": {
     "name": "#%%\n"
    }
   },
   "source": [
    "performance_test = model.evaluate(test_x, test_y, batch_size=100)\n",
    "\n",
    "print(f'Test Loss : {performance_test[0]:.6f},  Test Accuracy : {performance_test[1]*100:.3f}%')"
   ],
   "execution_count": 13,
   "outputs": [
    {
     "name": "stdout",
     "output_type": "stream",
     "text": [
      "100/100 [==============================] - 0s 2ms/step - loss: 2.3010 - accuracy: 0.1135\n",
      "Test Loss : 2.300994,  Test Accuracy : 11.350%\n"
     ]
    }
   ]
  },
  {
   "cell_type": "code",
   "metadata": {
    "id": "H5Ir4b-DQ3VG",
    "pycharm": {
     "name": "#%%\n"
    }
   },
   "source": [
    "if not isinstance(history, dict) :\n",
    "    history = history.history\n",
    "\n",
    "plt.figure(figsize=(10, 5))\n",
    "plt.plot(history['accuracy'])\n",
    "plt.plot(history['val_accuracy'])\n",
    "plt.title('Accuracy : Training vs Validation')\n",
    "plt.ylabel('Accuracy')\n",
    "plt.xlabel('Epoch')\n",
    "plt.legend(['Training', 'Validation'], loc=0)\n",
    "plt.show()"
   ],
   "execution_count": 14,
   "outputs": [
    {
     "data": {
      "text/plain": "<Figure size 720x360 with 1 Axes>",
      "image/png": "[encoded data removed]"
     },
     "metadata": {
      "image/png": {
       "width": 621,
       "height": 331
      },
      "needs_background": "light"
     },
     "output_type": "display_data"
    }
   ]
  },
  {
   "cell_type": "code",
   "metadata": {
    "id": "mfiGA-DvQ42n",
    "pycharm": {
     "name": "#%%\n"
    }
   },
   "source": [
    "if not isinstance(history, dict) :\n",
    "    history = history.history\n",
    "\n",
    "plt.figure(figsize=(10, 5))\n",
    "plt.plot(history['loss'])\n",
    "plt.plot(history['val_loss'])\n",
    "plt.title('Loss : Training vs Validation')\n",
    "plt.ylabel('Loss')\n",
    "plt.xlabel('Epoch')\n",
    "plt.legend(['Training', 'Validation'], loc=0)\n",
    "plt.show()"
   ],
   "execution_count": 15,
   "outputs": [
    {
     "data": {
      "text/plain": "<Figure size 720x360 with 1 Axes>",
      "image/png": "[encoded data removed]"
     },
     "metadata": {
      "image/png": {
       "width": 627,
       "height": 331
      },
      "needs_background": "light"
     },
     "output_type": "display_data"
    }
   ]
  },
  {
   "cell_type": "markdown",
   "source": [
    "* 예측값 생성"
   ],
   "metadata": {
    "id": "IwBEu_E8HFzv",
    "pycharm": {
     "name": "#%% md\n"
    }
   }
  },
  {
   "cell_type": "code",
   "metadata": {
    "id": "ErRidyIDTAXd",
    "pycharm": {
     "name": "#%%\n"
    }
   },
   "source": [
    "pred_train = model.predict(train_x)\n",
    "pred_test = model.predict(test_x)\n",
    "\n",
    "single_pred_train = pred_train.argmax(axis=1)\n",
    "single_pred_test = pred_test.argmax(axis=1)\n",
    "\n",
    "logi_train_accuracy = accuracy_score(train_y, single_pred_train)\n",
    "logi_test_accuracy = accuracy_score(test_y, single_pred_test)\n",
    "\n",
    "print('CNN')\n",
    "print('트레이닝 정확도 : {:.2f}%'.format(logi_train_accuracy*100))\n",
    "print('테스트 정확도 : {:.2f}%'.format(logi_test_accuracy*100))"
   ],
   "execution_count": 16,
   "outputs": [
    {
     "name": "stdout",
     "output_type": "stream",
     "text": [
      "CNN\n",
      "트레이닝 정확도 : 11.24%\n",
      "테스트 정확도 : 11.35%\n"
     ]
    }
   ]
  },
  {
   "cell_type": "markdown",
   "source": [
    "## 숫자 이미지 시각화"
   ],
   "metadata": {
    "id": "5Kgp7c72rsRw",
    "pycharm": {
     "name": "#%% md\n"
    }
   }
  },
  {
   "cell_type": "code",
   "metadata": {
    "id": "L3U38rGQTDx_",
    "pycharm": {
     "name": "#%%\n"
    }
   },
   "source": [
    "'''\n",
    "성능 확인을 위해\n",
    "Ctrl+Enter를 이용하여\n",
    "반복 실행 해보자!\n",
    "'''\n",
    "\n",
    "id = rd.randrange(0,10000)\n",
    "\n",
    "print(f'id = {id}')\n",
    "print(f'다음 그림은 숫자 {test_y[id]} 입니다.')\n",
    "print(f'모델의 예측 : {single_pred_test[id]}')\n",
    "print(f'모델의 카테고리별 확률 : {np.floor(pred_test[id]*100)}')\n",
    "\n",
    "if test_y[id] == single_pred_test[id] :\n",
    "    print('정답입니다')\n",
    "else : \n",
    "    print('틀렸어요')\n",
    "plt.imshow(test_x[id].reshape([28,-1]))\n",
    "plt.show()"
   ],
   "execution_count": 17,
   "outputs": [
    {
     "name": "stdout",
     "output_type": "stream",
     "text": [
      "id = 8347\n",
      "다음 그림은 숫자 4 입니다.\n",
      "모델의 예측 : 1\n",
      "모델의 카테고리별 확률 : [ 9. 11.  9. 10.  9.  9.  9. 10.  9. 10.]\n",
      "틀렸어요\n"
     ]
    },
    {
     "data": {
      "text/plain": "<Figure size 432x288 with 1 Axes>",
      "image/png": "[encoded data removed]"
     },
     "metadata": {
      "image/png": {
       "width": 251,
       "height": 248
      },
      "needs_background": "light"
     },
     "output_type": "display_data"
    }
   ]
  },
  {
   "cell_type": "code",
   "metadata": {
    "id": "3RDJuEcbTAeg",
    "pycharm": {
     "name": "#%%\n"
    }
   },
   "source": [
    "'''\n",
    "틀린 것만 관찰해보자!\n",
    "\n",
    "Ctrl+Enter를 이용하여\n",
    "반복 실행 해보자!\n",
    "'''\n",
    "\n",
    "true_false = (test_y==single_pred_test)\n",
    "f_id = np.where(true_false==False)[0]\n",
    "f_n = len(f_id)\n",
    "\n",
    "id = f_id[rd.randrange(0,f_n)]\n",
    "\n",
    "print(f'id = {id}')\n",
    "print(f'다음 그림은 숫자 {test_y[id]} 입니다.')\n",
    "print(f'모델의 예측 : {single_pred_test[id]}')\n",
    "print(f'모델의 카테고리별 확률 : {np.floor(pred_test[id]*100)}')\n",
    "\n",
    "if test_y[id] == single_pred_test[id] :\n",
    "    print('정답입니다')\n",
    "else : \n",
    "    print('틀렸어요')\n",
    "plt.imshow(test_x[id].reshape([28,-1]))\n",
    "plt.show()"
   ],
   "execution_count": 18,
   "outputs": [
    {
     "name": "stdout",
     "output_type": "stream",
     "text": [
      "id = 6501\n",
      "다음 그림은 숫자 3 입니다.\n",
      "모델의 예측 : 1\n",
      "모델의 카테고리별 확률 : [ 9. 11.  9. 10.  9.  9.  9. 10.  9. 10.]\n",
      "틀렸어요\n"
     ]
    },
    {
     "data": {
      "text/plain": "<Figure size 432x288 with 1 Axes>",
      "image/png": "[encoded data removed]"
     },
     "metadata": {
      "image/png": {
       "width": 251,
       "height": 248
      },
      "needs_background": "light"
     },
     "output_type": "display_data"
    }
   ]
  },
  {
   "cell_type": "code",
   "metadata": {
    "id": "5hjk-EcuTAlE",
    "pycharm": {
     "name": "#%%\n",
     "is_executing": true
    }
   },
   "source": [],
   "execution_count": null,
   "outputs": []
  },
  {
   "cell_type": "code",
   "execution_count": 18,
   "outputs": [],
   "source": [],
   "metadata": {
    "collapsed": false,
    "pycharm": {
     "name": "#%%\n"
    }
   }
  }
 ]
}