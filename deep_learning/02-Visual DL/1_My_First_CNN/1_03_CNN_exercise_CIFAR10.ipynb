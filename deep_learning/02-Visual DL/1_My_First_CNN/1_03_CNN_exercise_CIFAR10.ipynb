{
 "nbformat": 4,
 "nbformat_minor": 0,
 "metadata": {
  "colab": {
   "name": "1_03_CNN_exercise_CIFAR10.ipynb",
   "provenance": [],
   "collapsed_sections": [],
   "toc_visible": true
  },
  "kernelspec": {
   "name": "python3",
   "display_name": "Python 3"
  },
  "gpuClass": "standard",
  "accelerator": "GPU"
 },
 "cells": [
  {
   "cell_type": "markdown",
   "metadata": {
    "id": "HZc219MFFibh",
    "pycharm": {
     "name": "#%% md\n"
    }
   },
   "source": [
    "# My First Convolutional Neural Network\n",
    "\n",
    "## CIFAR-10\n",
    "\n",
    "#### 실습목표<br>\n",
    "1. CNN의 기본 아이디어를 안다.\n",
    "2. CNN의 구조를 그리고, 코드로 옮길 수 있다."
   ]
  },
  {
   "cell_type": "markdown",
   "metadata": {
    "id": "iLYle-HPFNgx",
    "pycharm": {
     "name": "#%% md\n"
    }
   },
   "source": [
    "## Real Game : CNN on CIFAR-10\n",
    "\n",
    "여기에서는 여러분이 직접 코드를 완성해야 하는 문제가 곳곳에 있습니다!"
   ]
  },
  {
   "cell_type": "code",
   "metadata": {
    "id": "SpxQtfTUUI5r",
    "pycharm": {
     "name": "#%%\n"
    }
   },
   "source": [
    "'''\n",
    "matplolib inline 명령어를 통해서\n",
    "matplot으로 그리는 플롯들을 주피터 노트북 내에서 볼 수 있게 해준다.\n",
    "포맷을 retina로 바꾸면 그래프의 화질이 훨씬 좋아진다.\n",
    "'''\n",
    "# % matplotlib inline\n",
    "# % config InlineBackend.figure_format = 'retina'\n",
    "\n",
    "'''\n",
    "라이브러리들을 불러오자.\n",
    "'''\n",
    "import numpy as np\n",
    "import pandas as pd\n",
    "import matplotlib.pyplot as plt\n",
    "import tensorflow as tf\n",
    "import tensorflow.keras as keras\n",
    "\n",
    "from tensorflow.keras.callbacks import EarlyStopping\n",
    "from tensorflow.keras.layers import Dense, BatchNormalization, Activation, Dropout\n",
    "from tensorflow.keras import layers, models\n",
    "from tensorflow.keras import backend\n",
    "\n",
    "import random as rd\n",
    "\n",
    "from sklearn.metrics import accuracy_score"
   ],
   "execution_count": 6,
   "outputs": []
  },
  {
   "cell_type": "markdown",
   "metadata": {
    "id": "dxB_-9itUhFy",
    "pycharm": {
     "name": "#%% md\n"
    }
   },
   "source": [
    "### Data Loading"
   ]
  },
  {
   "cell_type": "code",
   "source": [
    "(train_x, train_y), (test_x, test_y) = tf.keras.datasets.cifar10.load_data()"
   ],
   "metadata": {
    "id": "U0_XheJ32fnX",
    "pycharm": {
     "name": "#%%\n"
    }
   },
   "execution_count": 7,
   "outputs": []
  },
  {
   "cell_type": "code",
   "metadata": {
    "id": "0EcfUETOUhIy",
    "pycharm": {
     "name": "#%%\n"
    }
   },
   "source": [
    "print(train_x.shape, train_y.shape, test_x.shape, test_y.shape)"
   ],
   "execution_count": 8,
   "outputs": [
    {
     "name": "stdout",
     "output_type": "stream",
     "text": [
      "(50000, 32, 32, 3) (50000, 1) (10000, 32, 32, 3) (10000, 1)\n"
     ]
    }
   ]
  },
  {
   "cell_type": "code",
   "metadata": {
    "id": "D7-ICNlAVhIM",
    "pycharm": {
     "name": "#%%\n"
    }
   },
   "source": [
    "labels = {0: 'Airplane',\n",
    "          1: 'Automobile',\n",
    "          2: 'Bird',\n",
    "          3: 'Cat',\n",
    "          4: 'Deer',\n",
    "          5: 'Dog',\n",
    "          6: 'Frog',\n",
    "          7: 'Horse',\n",
    "          8: 'Ship',\n",
    "          9: 'Truck'}\n",
    "\n",
    "print(labels)"
   ],
   "execution_count": 9,
   "outputs": [
    {
     "name": "stdout",
     "output_type": "stream",
     "text": [
      "{0: 'Airplane', 1: 'Automobile', 2: 'Bird', 3: 'Cat', 4: 'Deer', 5: 'Dog', 6: 'Frog', 7: 'Horse', 8: 'Ship', 9: 'Truck'}\n"
     ]
    }
   ]
  },
  {
   "cell_type": "code",
   "metadata": {
    "id": "06UwAC3JV7uj",
    "pycharm": {
     "name": "#%%\n"
    }
   },
   "source": [
    "'''\n",
    "Ctrl+Enter를 이용하여\n",
    "반복 실행 해보자!\n",
    "'''\n",
    "\n",
    "id = rd.randrange(0, 10000)\n",
    "\n",
    "print(f'id = {id}')\n",
    "print(f'다음 그림은 {labels[test_y[id][0]]} 입니다.')\n",
    "plt.imshow(test_x[id])\n",
    "plt.show()"
   ],
   "execution_count": 10,
   "outputs": [
    {
     "name": "stdout",
     "output_type": "stream",
     "text": [
      "id = 6478\n",
      "다음 그림은 Horse 입니다.\n"
     ]
    },
    {
     "data": {
      "text/plain": "<Figure size 432x288 with 1 Axes>",
      "image/png": "[encoded data removed]"
     },
     "metadata": {
      "needs_background": "light"
     },
     "output_type": "display_data"
    }
   ]
  },
  {
   "cell_type": "markdown",
   "metadata": {
    "id": "ghiwVWATe4I8",
    "pycharm": {
     "name": "#%% md\n"
    }
   },
   "source": [
    "### X : 표준화 Scaling (standardization)\n",
    "\n",
    "$$ X_{scaled} = {{x_{original} - mean(x)}\\over{std(x)} } $$"
   ]
  },
  {
   "cell_type": "code",
   "execution_count": 11,
   "outputs": [],
   "source": [
    "from sklearn.preprocessing import StandardScaler\n",
    "\n",
    "scaler = StandardScaler()"
   ],
   "metadata": {
    "collapsed": false,
    "pycharm": {
     "name": "#%%\n"
    }
   }
  },
  {
   "cell_type": "code",
   "execution_count": 12,
   "outputs": [],
   "source": [
    "train_size = train_x.shape\n",
    "test_size = test_x.shape"
   ],
   "metadata": {
    "collapsed": false,
    "pycharm": {
     "name": "#%%\n"
    }
   }
  },
  {
   "cell_type": "code",
   "source": [
    "train_x = train_x.reshape(train_size[0], -1)\n",
    "test_x = test_x.reshape(test_size[0], -1)\n",
    "\n",
    "train_x = scaler.fit_transform(train_x)\n",
    "test_x = scaler.transform(test_x)\n",
    "\n",
    "train_x = train_x.reshape(train_size)\n",
    "test_x = test_x.reshape(test_size)"
   ],
   "metadata": {
    "id": "O6PYJyd1ttXn",
    "pycharm": {
     "name": "#%%\n"
    }
   },
   "execution_count": 13,
   "outputs": []
  },
  {
   "cell_type": "markdown",
   "metadata": {
    "id": "SyVgGB6lfCuj",
    "pycharm": {
     "name": "#%% md\n"
    }
   },
   "source": [
    "### Y : One-Hot Encoding"
   ]
  },
  {
   "cell_type": "code",
   "source": [
    "class_n = len(np.unique(train_y))\n",
    "class_n"
   ],
   "metadata": {
    "id": "p92ZSq1xtwB_",
    "pycharm": {
     "name": "#%%\n"
    }
   },
   "execution_count": 14,
   "outputs": [
    {
     "data": {
      "text/plain": "10"
     },
     "execution_count": 14,
     "metadata": {},
     "output_type": "execute_result"
    }
   ]
  },
  {
   "cell_type": "code",
   "execution_count": 15,
   "outputs": [],
   "source": [
    "train_y = keras.utils.to_categorical(train_y, class_n)\n",
    "test_y = keras.utils.to_categorical(test_y, class_n)"
   ],
   "metadata": {
    "collapsed": false,
    "pycharm": {
     "name": "#%%\n"
    }
   }
  },
  {
   "cell_type": "markdown",
   "metadata": {
    "id": "mQ_FTTj7XAtC",
    "pycharm": {
     "name": "#%% md\n"
    }
   },
   "source": [
    "### 코드를 완성해주세요!\n",
    "\n",
    "#### **model.fit( ) 을 history 에 담아서 학습 과정의 로그를 남길 것.**\n",
    "\n",
    "**자유롭게 먼저 해보는 것을 추천**\n",
    "\n",
    "**구조를 따라서 코딩을 한다면..**\n",
    "\n",
    "0. Functional, Sequential 중 택일\n",
    "1. 인풋레이어\n",
    "1. Convolution : 필터수 32개, 사이즈(3, 3), same padding\n",
    "2. Convolution : 필터수 32개, 사이즈(3, 3), same padding\n",
    "3. BatchNormalization\n",
    "4. MaxPooling : 사이즈(2,2) 스트라이드(2,2)\n",
    "5. DropOut : 25% 비활성화\n",
    "1. Convolution : 필터수 64개, 사이즈(3, 3), same padding\n",
    "2. Convolution : 필터수 64개, 사이즈(3, 3), same padding\n",
    "3. BatchNormalization\n",
    "4. MaxPooling : 사이즈(2,2) 스트라이드(2,2)\n",
    "5. DropOut : 25% 비활성화\n",
    "6. Flatten( )\n",
    "7. Fully Connected Layer : 노드 1024개\n",
    "3. BatchNormalization\n",
    "5. DropOut : 35% 비활성화\n",
    "9. 아웃풋레이어\n",
    "\n",
    "* EarlyStopping 의 옵션도 조절해보자."
   ]
  },
  {
   "cell_type": "code",
   "execution_count": 16,
   "outputs": [],
   "source": [
    "from keras.layers import *\n",
    "from keras.models import *"
   ],
   "metadata": {
    "collapsed": false,
    "pycharm": {
     "name": "#%%\n"
    }
   }
  },
  {
   "cell_type": "code",
   "metadata": {
    "id": "hEgnAtaMiAxh",
    "pycharm": {
     "name": "#%%\n"
    }
   },
   "source": [
    "# clear session\n",
    "keras.backend.clear_session()\n",
    "\n",
    "# 0. Functional, Sequential 중 택일\n",
    "model = Sequential()\n",
    "# 1. 인풋레이어\n",
    "model.add(Input(shape=train_size[1:]))\n",
    "# 1. Convolution : 필터수 32개, 사이즈(3, 3), same padding\n",
    "model.add(Conv2D(filters=32, kernel_size=(3, 3), padding='same', activation='relu', strides=(1, 1)))\n",
    "# 2. Convolution : 필터수 32개, 사이즈(3, 3), same padding\n",
    "model.add(Conv2D(filters=32, kernel_size=(3, 3), padding='same', activation='relu', strides=(1, 1)))\n",
    "# 3. BatchNormalization\n",
    "model.add(BatchNormalization())\n",
    "# 4. MaxPooling : 사이즈(2,2) 스트라이드(2,2)\n",
    "model.add(MaxPooling2D(pool_size=(2, 2), strides=(2, 2)))\n",
    "# 5. DropOut : 25% 비활성화\n",
    "model.add(Dropout(.25))\n",
    "# 1. Convolution : 필터수 64개, 사이즈(3, 3), same padding\n",
    "model.add(Conv2D(filters=64, kernel_size=(3, 3), padding='same', activation='relu', strides=(1, 1)))\n",
    "# 2. Convolution : 필터수 64개, 사이즈(3, 3), same padding\n",
    "model.add(Conv2D(filters=64, kernel_size=(3, 3), padding='same', activation='relu', strides=(1, 1)))\n",
    "# 3. BatchNormalization\n",
    "model.add(BatchNormalization())\n",
    "# 4. MaxPooling : 사이즈(2,2) 스트라이드(2,2)\n",
    "model.add(MaxPooling2D(pool_size=(2, 2), strides=(2, 2)))\n",
    "# 5. DropOut : 25% 비활성화\n",
    "model.add(Dropout(.25))\n",
    "# 6. Flatten( )\n",
    "model.add(Flatten())\n",
    "# 7. Fully Connected Layer : 노드 1024개\n",
    "model.add(Dense(512, activation='relu'))\n",
    "# 3. BatchNormalization\n",
    "model.add(BatchNormalization())\n",
    "# 5. DropOut : 35% 비활성화\n",
    "model.add(Dropout(.35))\n",
    "# 9. 아웃풋레이어\n",
    "model.add(Dense(class_n, activation='softmax', name='Output_Layer'))\n",
    "\n",
    "model.compile(loss=keras.losses.categorical_crossentropy, optimizer='adam', metrics=['accuracy'])\n",
    "\n",
    "model.summary()"
   ],
   "execution_count": 17,
   "outputs": [
    {
     "name": "stdout",
     "output_type": "stream",
     "text": [
      "Model: \"sequential\"\n",
      "_________________________________________________________________\n",
      "Layer (type)                 Output Shape              Param #   \n",
      "=================================================================\n",
      "conv2d (Conv2D)              (None, 32, 32, 32)        896       \n",
      "_________________________________________________________________\n",
      "conv2d_1 (Conv2D)            (None, 32, 32, 32)        9248      \n",
      "_________________________________________________________________\n",
      "batch_normalization (BatchNo (None, 32, 32, 32)        128       \n",
      "_________________________________________________________________\n",
      "max_pooling2d (MaxPooling2D) (None, 16, 16, 32)        0         \n",
      "_________________________________________________________________\n",
      "dropout (Dropout)            (None, 16, 16, 32)        0         \n",
      "_________________________________________________________________\n",
      "conv2d_2 (Conv2D)            (None, 16, 16, 64)        18496     \n",
      "_________________________________________________________________\n",
      "conv2d_3 (Conv2D)            (None, 16, 16, 64)        36928     \n",
      "_________________________________________________________________\n",
      "batch_normalization_1 (Batch (None, 16, 16, 64)        256       \n",
      "_________________________________________________________________\n",
      "max_pooling2d_1 (MaxPooling2 (None, 8, 8, 64)          0         \n",
      "_________________________________________________________________\n",
      "dropout_1 (Dropout)          (None, 8, 8, 64)          0         \n",
      "_________________________________________________________________\n",
      "flatten (Flatten)            (None, 4096)              0         \n",
      "_________________________________________________________________\n",
      "dense (Dense)                (None, 512)               2097664   \n",
      "_________________________________________________________________\n",
      "batch_normalization_2 (Batch (None, 512)               2048      \n",
      "_________________________________________________________________\n",
      "dropout_2 (Dropout)          (None, 512)               0         \n",
      "_________________________________________________________________\n",
      "Output_Layer (Dense)         (None, 10)                5130      \n",
      "=================================================================\n",
      "Total params: 2,170,794\n",
      "Trainable params: 2,169,578\n",
      "Non-trainable params: 1,216\n",
      "_________________________________________________________________\n"
     ]
    }
   ]
  },
  {
   "cell_type": "code",
   "execution_count": 18,
   "outputs": [],
   "source": [
    "es = keras.callbacks.EarlyStopping(monitor='val_loss',\n",
    "                                   min_delta=0,\n",
    "                                   patience=5,\n",
    "                                   verbose=1,\n",
    "                                   restore_best_weights=True)"
   ],
   "metadata": {
    "collapsed": false,
    "pycharm": {
     "name": "#%%\n"
    }
   }
  },
  {
   "cell_type": "markdown",
   "source": [
    "#### 모델 학습"
   ],
   "metadata": {
    "id": "O1M6CwuH5fgn",
    "pycharm": {
     "name": "#%% md\n"
    }
   }
  },
  {
   "cell_type": "code",
   "source": [
    "history = model.fit(train_x, train_y, verbose=1,\n",
    "          validation_split=.2,\n",
    "          callbacks=[es],\n",
    "          epochs=1000,\n",
    "          batch_size=256,)"
   ],
   "metadata": {
    "id": "goTfnIz0tz2G",
    "pycharm": {
     "name": "#%%\n"
    }
   },
   "execution_count": 21,
   "outputs": [
    {
     "name": "stdout",
     "output_type": "stream",
     "text": [
      "Epoch 1/1000\n",
      "  2/157 [..............................] - ETA: 10s - loss: 2.3029 - accuracy: 0.1016WARNING:tensorflow:Callbacks method `on_train_batch_end` is slow compared to the batch time (batch time: 0.0270s vs `on_train_batch_end` time: 0.1111s). Check your callbacks.\n",
      "157/157 [==============================] - 1s 9ms/step - loss: 2.3032 - accuracy: 0.0975 - val_loss: 2.3030 - val_accuracy: 0.0952\n",
      "Epoch 2/1000\n",
      "157/157 [==============================] - 1s 8ms/step - loss: 2.3032 - accuracy: 0.0992 - val_loss: 2.3028 - val_accuracy: 0.0977\n",
      "Epoch 3/1000\n",
      "157/157 [==============================] - 1s 8ms/step - loss: 2.3031 - accuracy: 0.0957 - val_loss: 2.3033 - val_accuracy: 0.0980\n",
      "Epoch 4/1000\n",
      "157/157 [==============================] - 1s 8ms/step - loss: 2.3032 - accuracy: 0.0980 - val_loss: 2.3028 - val_accuracy: 0.0977\n",
      "Epoch 5/1000\n",
      "157/157 [==============================] - 1s 8ms/step - loss: 2.3030 - accuracy: 0.0994 - val_loss: 2.3029 - val_accuracy: 0.1025\n",
      "Epoch 6/1000\n",
      "157/157 [==============================] - 1s 8ms/step - loss: 2.3031 - accuracy: 0.1002 - val_loss: 2.3025 - val_accuracy: 0.1016\n",
      "Epoch 7/1000\n",
      "157/157 [==============================] - 1s 8ms/step - loss: 2.3031 - accuracy: 0.0975 - val_loss: 2.3029 - val_accuracy: 0.1014\n",
      "Epoch 8/1000\n",
      "157/157 [==============================] - 1s 8ms/step - loss: 2.3030 - accuracy: 0.0983 - val_loss: 2.3028 - val_accuracy: 0.1003\n",
      "Epoch 9/1000\n",
      "157/157 [==============================] - 1s 8ms/step - loss: 2.3030 - accuracy: 0.0998 - val_loss: 2.3028 - val_accuracy: 0.0980\n",
      "Epoch 10/1000\n",
      "157/157 [==============================] - 1s 8ms/step - loss: 2.3030 - accuracy: 0.0999 - val_loss: 2.3030 - val_accuracy: 0.1014\n",
      "Epoch 11/1000\n",
      "154/157 [============================>.] - ETA: 0s - loss: 2.3031 - accuracy: 0.0984Restoring model weights from the end of the best epoch.\n",
      "157/157 [==============================] - 1s 8ms/step - loss: 2.3031 - accuracy: 0.0985 - val_loss: 2.3028 - val_accuracy: 0.1022\n",
      "Epoch 00011: early stopping\n"
     ]
    }
   ]
  },
  {
   "cell_type": "markdown",
   "metadata": {
    "id": "aveNny0jl90K",
    "pycharm": {
     "name": "#%% md\n"
    }
   },
   "source": [
    "### 성능 평가"
   ]
  },
  {
   "cell_type": "code",
   "metadata": {
    "id": "HEFalxVhJrvu",
    "pycharm": {
     "name": "#%%\n"
    }
   },
   "source": [
    "performance_test = model.evaluate(test_x, test_y, batch_size=100)\n",
    "\n",
    "print('Test Loss : {:.6f},  Test Accuracy : {:.3f}%'.format(performance_test[0], performance_test[1] * 100))"
   ],
   "execution_count": 20,
   "outputs": [
    {
     "name": "stdout",
     "output_type": "stream",
     "text": [
      "100/100 [==============================] - 0s 2ms/step - loss: 2.3029 - accuracy: 0.1000\n",
      "Test Loss : 2.302948,  Test Accuracy : 10.000%\n"
     ]
    }
   ]
  },
  {
   "cell_type": "code",
   "metadata": {
    "id": "E3pexEleJryC",
    "pycharm": {
     "name": "#%%\n"
    }
   },
   "source": [
    "if not isinstance(history, dict):\n",
    "    history = history.history\n",
    "\n",
    "plt.plot(history['accuracy'])\n",
    "plt.plot(history['val_accuracy'])\n",
    "plt.title('Accuracy : Training vs Validation')\n",
    "plt.ylabel('Accuracy')\n",
    "plt.xlabel('Epoch')\n",
    "plt.legend(['Training', 'Validation'], loc=0)\n",
    "plt.show()"
   ],
   "execution_count": null,
   "outputs": []
  },
  {
   "cell_type": "code",
   "metadata": {
    "id": "btFU0ZYtNkvf",
    "pycharm": {
     "name": "#%%\n"
    }
   },
   "source": [
    "if not isinstance(history, dict):\n",
    "    history = history.history\n",
    "\n",
    "plt.plot(history['loss'])\n",
    "plt.plot(history['val_loss'])\n",
    "plt.title('Loss : Training vs Validation')\n",
    "plt.ylabel('Loss')\n",
    "plt.xlabel('Epoch')\n",
    "plt.legend(['Training', 'Validation'], loc=0)\n",
    "plt.show()"
   ],
   "execution_count": null,
   "outputs": []
  },
  {
   "cell_type": "code",
   "metadata": {
    "id": "cqiymLX7Jr0a",
    "pycharm": {
     "name": "#%%\n"
    }
   },
   "source": [
    "# 원핫인코딩 해제\n",
    "train_y = train_y.argmax(axis=1)\n",
    "test_y = test_y.argmax(axis=1)"
   ],
   "execution_count": null,
   "outputs": []
  },
  {
   "cell_type": "code",
   "metadata": {
    "id": "qc3Ap5q_bNgN",
    "pycharm": {
     "name": "#%%\n"
    }
   },
   "source": [
    "pred_train = model.predict(train_x)\n",
    "pred_test = model.predict(test_x)\n",
    "\n",
    "single_pred_train = pred_train.argmax(axis=1)\n",
    "single_pred_test = pred_test.argmax(axis=1)\n",
    "\n",
    "logi_train_accuracy = accuracy_score(train_y, single_pred_train)\n",
    "logi_test_accuracy = accuracy_score(test_y, single_pred_test)\n",
    "\n",
    "print('CNN')\n",
    "print(f'트레이닝 정확도 : {logi_train_accuracy * 100:.2f}%')\n",
    "print(f'테스트 정확도 : {logi_test_accuracy * 100:.2f}%')"
   ],
   "execution_count": null,
   "outputs": []
  },
  {
   "cell_type": "code",
   "metadata": {
    "id": "4D5LN9iNR3aW",
    "pycharm": {
     "name": "#%%\n"
    }
   },
   "source": [
    "'''\n",
    "성능 확인을 위해\n",
    "Ctrl+Enter를 이용하여\n",
    "반복 실행 해보자!\n",
    "'''\n",
    "\n",
    "id = rd.randrange(0, 10000)\n",
    "\n",
    "print(f'id = {id}')\n",
    "print(f'다음 그림은 {labels[test_y[id]]} 입니다.')\n",
    "print(f'모델의 예측 : {labels[single_pred_test[id]]}')\n",
    "\n",
    "prob = np.floor(pred_test[id] * 100).tolist()\n",
    "prob_dict = {}\n",
    "\n",
    "for idx, prob in enumerate(prob):\n",
    "    prob_dict[labels[idx]] = prob\n",
    "\n",
    "print('모델의 카테고리별 확률 : ')\n",
    "print(prob_dict)\n",
    "\n",
    "if test_y[id] == single_pred_test[id]:\n",
    "    print('정답입니다')\n",
    "else:\n",
    "    print('틀렸어요')\n",
    "\n",
    "plt.imshow(test_x[id].reshape([32, 32, -1]))\n",
    "plt.show()"
   ],
   "execution_count": null,
   "outputs": []
  },
  {
   "cell_type": "code",
   "metadata": {
    "id": "XDm-YCj7VzIB",
    "pycharm": {
     "name": "#%%\n"
    }
   },
   "source": [
    "'''\n",
    "틀린 것만 관찰해보자!\n",
    "\n",
    "Ctrl+Enter를 이용하여\n",
    "반복 실행 해보자!\n",
    "'''\n",
    "\n",
    "true_false = (test_y == single_pred_test)\n",
    "f_id = np.where(true_false == False)[0]\n",
    "f_n = len(f_id)\n",
    "\n",
    "id = f_id[rd.randrange(0, f_n)]\n",
    "\n",
    "print(f'id = {id}')\n",
    "print(f'다음 그림은 {labels[test_y[id]]} 입니다.')\n",
    "print(f'모델의 예측 : {labels[single_pred_test[id]]}')\n",
    "\n",
    "prob = np.floor(pred_test[id] * 100).tolist()\n",
    "prob_dict = {}\n",
    "\n",
    "for idx, prob in enumerate(prob):\n",
    "    prob_dict[labels[idx]] = prob\n",
    "\n",
    "print('모델의 카테고리별 확률 : ')\n",
    "print(prob_dict)\n",
    "\n",
    "if test_y[id] == single_pred_test[id]:\n",
    "    print('정답입니다')\n",
    "else:\n",
    "    print('틀렸어요')\n",
    "\n",
    "plt.imshow(test_x[id].reshape([32, 32, -1]))\n",
    "plt.show()"
   ],
   "execution_count": null,
   "outputs": []
  },
  {
   "cell_type": "code",
   "metadata": {
    "id": "kop1T2j5cgbM",
    "pycharm": {
     "name": "#%%\n"
    }
   },
   "source": [],
   "execution_count": null,
   "outputs": []
  }
 ]
}