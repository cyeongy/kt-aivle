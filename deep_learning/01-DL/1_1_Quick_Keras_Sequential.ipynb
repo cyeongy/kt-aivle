{
 "nbformat": 4,
 "nbformat_minor": 0,
 "metadata": {
  "colab": {
   "name": "1_1_Quick_Keras_Sequential.ipynb",
   "provenance": [],
   "collapsed_sections": []
  },
  "kernelspec": {
   "name": "python3",
   "display_name": "Python 3"
  }
 },
 "cells": [
  {
   "cell_type": "markdown",
   "metadata": {
    "id": "HZc219MFFibh",
    "pycharm": {
     "name": "#%% md\n"
    }
   },
   "source": [
    "# Keras로 Linear&Logistic Regression 맛보기!\n",
    "\n",
    "#### 실습목표<br>\n",
    "1. keras의 모델링 아이디어를 이해한다.\n",
    "2. 모든 코드를 이해한다."
   ]
  },
  {
   "cell_type": "markdown",
   "metadata": {
    "id": "dwEdLgZpFibi",
    "pycharm": {
     "name": "#%% md\n"
    }
   },
   "source": [
    "## Quick Linear Regression!"
   ]
  },
  {
   "cell_type": "code",
   "metadata": {
    "id": "Lbold6iIS8E1",
    "pycharm": {
     "name": "#%%\n"
    }
   },
   "source": [
    "import tensorflow as tf\n",
    "from tensorflow import keras\n",
    "\n",
    "import numpy as np"
   ],
   "execution_count": 1,
   "outputs": []
  },
  {
   "cell_type": "code",
   "metadata": {
    "id": "QvObzQ1MFibj",
    "pycharm": {
     "name": "#%%\n"
    }
   },
   "source": [
    "x = np.array(range(0, 20))\n",
    "y = x * 2 - 1\n",
    "\n",
    "print(x)\n",
    "print(y)"
   ],
   "execution_count": 2,
   "outputs": [
    {
     "name": "stdout",
     "output_type": "stream",
     "text": [
      "[ 0  1  2  3  4  5  6  7  8  9 10 11 12 13 14 15 16 17 18 19]\n",
      "[-1  1  3  5  7  9 11 13 15 17 19 21 23 25 27 29 31 33 35 37]\n"
     ]
    }
   ]
  },
  {
   "cell_type": "code",
   "metadata": {
    "id": "iUqZACd2IRcn",
    "pycharm": {
     "name": "#%%\n"
    }
   },
   "source": [
    "# 1번 청소 : 이미 만들어진 모델이 있다면 그 모델을 없애줘\n",
    "keras.backend.clear_session()\n",
    "\n",
    "# 2번 모델 선언\n",
    "model = keras.models.Sequential()\n",
    "\n",
    "# 3번 모델 블록 조립\n",
    "model.add(keras.layers.Input(shape=(1,)))\n",
    "model.add(keras.layers.Dense(1))\n",
    "\n",
    "## 오리지널 Sequential API\n",
    "# model.add( keras.layers.Dense(1, input_shape=(1,)) )\n",
    "\n",
    "# 4번 컴파일 \n",
    "model.compile(loss='mse',\n",
    "              optimizer='adam')"
   ],
   "execution_count": 3,
   "outputs": []
  },
  {
   "cell_type": "code",
   "metadata": {
    "id": "s1UM3mOzLTeb",
    "pycharm": {
     "name": "#%%\n"
    }
   },
   "source": [
    "model.fit(x, y, epochs=10, verbose=1)"
   ],
   "execution_count": 4,
   "outputs": [
    {
     "name": "stdout",
     "output_type": "stream",
     "text": [
      "Epoch 1/10\n",
      "1/1 [==============================] - 0s 11ms/step - loss: 1314.2976\n",
      "Epoch 2/10\n",
      "1/1 [==============================] - 0s 1ms/step - loss: 1313.4307\n",
      "Epoch 3/10\n",
      "1/1 [==============================] - 0s 1000us/step - loss: 1312.5638\n",
      "Epoch 4/10\n",
      "1/1 [==============================] - 0s 0s/step - loss: 1311.6975\n",
      "Epoch 5/10\n",
      "1/1 [==============================] - 0s 0s/step - loss: 1310.8315\n",
      "Epoch 6/10\n",
      "1/1 [==============================] - 0s 1ms/step - loss: 1309.9658\n",
      "Epoch 7/10\n",
      "1/1 [==============================] - 0s 0s/step - loss: 1309.1003\n",
      "Epoch 8/10\n",
      "1/1 [==============================] - 0s 0s/step - loss: 1308.2351\n",
      "Epoch 9/10\n",
      "1/1 [==============================] - 0s 0s/step - loss: 1307.3704\n",
      "Epoch 10/10\n",
      "1/1 [==============================] - 0s 1000us/step - loss: 1306.5059\n"
     ]
    },
    {
     "data": {
      "text/plain": "<tensorflow.python.keras.callbacks.History at 0x20d001ebee0>"
     },
     "execution_count": 4,
     "metadata": {},
     "output_type": "execute_result"
    }
   ]
  },
  {
   "cell_type": "code",
   "metadata": {
    "id": "BGYwVUWCqNxy",
    "pycharm": {
     "name": "#%%\n"
    }
   },
   "source": [
    "print(y)"
   ],
   "execution_count": 5,
   "outputs": [
    {
     "name": "stdout",
     "output_type": "stream",
     "text": [
      "[-1  1  3  5  7  9 11 13 15 17 19 21 23 25 27 29 31 33 35 37]\n"
     ]
    }
   ]
  },
  {
   "cell_type": "code",
   "metadata": {
    "id": "FFtYxu5aqQFq",
    "pycharm": {
     "name": "#%%\n"
    }
   },
   "source": [
    "model.predict(x).reshape(1, -1)"
   ],
   "execution_count": 15,
   "outputs": [
    {
     "data": {
      "text/plain": "array([[ 9.9989539e-03, -1.3188121e+00, -2.6476231e+00, -3.9764340e+00,\n        -5.3052454e+00, -6.6340566e+00, -7.9628673e+00, -9.2916784e+00,\n        -1.0620489e+01, -1.1949300e+01, -1.3278111e+01, -1.4606922e+01,\n        -1.5935733e+01, -1.7264545e+01, -1.8593357e+01, -1.9922167e+01,\n        -2.1250978e+01, -2.2579790e+01, -2.3908600e+01, -2.5237411e+01]],\n      dtype=float32)"
     },
     "execution_count": 15,
     "metadata": {},
     "output_type": "execute_result"
    }
   ]
  },
  {
   "cell_type": "markdown",
   "metadata": {
    "id": "zvqPQxmgFibo",
    "pycharm": {
     "name": "#%% md\n"
    }
   },
   "source": [
    "## Now, Your turn!"
   ]
  },
  {
   "cell_type": "code",
   "metadata": {
    "id": "vdb8LW335i1q",
    "pycharm": {
     "name": "#%%\n"
    }
   },
   "source": [],
   "execution_count": null,
   "outputs": []
  },
  {
   "cell_type": "code",
   "metadata": {
    "id": "wIFzEwY2PWpX",
    "pycharm": {
     "name": "#%%\n"
    }
   },
   "source": [
    "x = np.array(range(0, 20))\n",
    "y = x * (-3) + 10\n",
    "\n",
    "print(x)\n",
    "print(y)"
   ],
   "execution_count": 16,
   "outputs": [
    {
     "name": "stdout",
     "output_type": "stream",
     "text": [
      "[ 0  1  2  3  4  5  6  7  8  9 10 11 12 13 14 15 16 17 18 19]\n",
      "[ 10   7   4   1  -2  -5  -8 -11 -14 -17 -20 -23 -26 -29 -32 -35 -38 -41\n",
      " -44 -47]\n"
     ]
    }
   ]
  },
  {
   "cell_type": "code",
   "execution_count": 23,
   "outputs": [
    {
     "data": {
      "text/plain": "((20,), (20,))"
     },
     "execution_count": 23,
     "metadata": {},
     "output_type": "execute_result"
    }
   ],
   "source": [
    "x.shape, y.shape"
   ],
   "metadata": {
    "collapsed": false,
    "pycharm": {
     "name": "#%%\n"
    }
   }
  },
  {
   "cell_type": "code",
   "metadata": {
    "id": "ZiOsqLo3Tzqj",
    "pycharm": {
     "name": "#%%\n"
    }
   },
   "source": [
    "# 1번 청소 : 이미 만들어진 모델이 있다면 그 모델을 없애줘\n",
    "keras.backend.clear_session()\n",
    "\n",
    "# 2번 모델 선언\n",
    "model = keras.models.Sequential()\n",
    "\n",
    "# 3번 모델 블록 조립\n",
    "model.add(keras.layers.Input(shape=(1,)))\n",
    "model.add(keras.layers.Dense(1))\n",
    "\n",
    "# 4번 컴파일\n",
    "model.compile(loss='mse', optimizer='adam')"
   ],
   "execution_count": 17,
   "outputs": []
  },
  {
   "cell_type": "code",
   "execution_count": 18,
   "outputs": [
    {
     "name": "stdout",
     "output_type": "stream",
     "text": [
      "Epoch 1/10\n",
      "1/1 [==============================] - 0s 1000us/step - loss: 455.1248\n",
      "Epoch 2/10\n",
      "1/1 [==============================] - 0s 0s/step - loss: 454.6351\n",
      "Epoch 3/10\n",
      "1/1 [==============================] - 0s 0s/step - loss: 454.1456\n",
      "Epoch 4/10\n",
      "1/1 [==============================] - 0s 1000us/step - loss: 453.6564\n",
      "Epoch 5/10\n",
      "1/1 [==============================] - 0s 1ms/step - loss: 453.1675\n",
      "Epoch 6/10\n",
      "1/1 [==============================] - 0s 0s/step - loss: 452.6790\n",
      "Epoch 7/10\n",
      "1/1 [==============================] - 0s 0s/step - loss: 452.1907\n",
      "Epoch 8/10\n",
      "1/1 [==============================] - 0s 0s/step - loss: 451.7028\n",
      "Epoch 9/10\n",
      "1/1 [==============================] - 0s 1000us/step - loss: 451.2151\n",
      "Epoch 10/10\n",
      "1/1 [==============================] - 0s 1ms/step - loss: 450.7279\n"
     ]
    },
    {
     "data": {
      "text/plain": "<tensorflow.python.keras.callbacks.History at 0x20d2bb7fa00>"
     },
     "execution_count": 18,
     "metadata": {},
     "output_type": "execute_result"
    }
   ],
   "source": [
    "model.fit(x, y, epochs=10, verbose=1)"
   ],
   "metadata": {
    "collapsed": false,
    "pycharm": {
     "name": "#%%\n"
    }
   }
  },
  {
   "cell_type": "code",
   "execution_count": 19,
   "outputs": [
    {
     "name": "stdout",
     "output_type": "stream",
     "text": [
      "[ 10   7   4   1  -2  -5  -8 -11 -14 -17 -20 -23 -26 -29 -32 -35 -38 -41\n",
      " -44 -47]\n"
     ]
    }
   ],
   "source": [
    "print(y)"
   ],
   "metadata": {
    "collapsed": false,
    "pycharm": {
     "name": "#%%\n"
    }
   }
  },
  {
   "cell_type": "code",
   "execution_count": 22,
   "outputs": [
    {
     "data": {
      "text/plain": "array([[-0.00999779, -0.38871768, -0.7674376 , -1.1461575 , -1.5248774 ,\n        -1.9035974 , -2.2823172 , -2.6610372 , -3.039757  , -3.4184768 ,\n        -3.7971969 , -4.1759167 , -4.5546365 , -4.9333563 , -5.3120766 ,\n        -5.6907964 , -6.069516  , -6.448236  , -6.826956  , -7.205676  ]],\n      dtype=float32)"
     },
     "execution_count": 22,
     "metadata": {},
     "output_type": "execute_result"
    }
   ],
   "source": [
    "model.predict(x).reshape(1, -1)"
   ],
   "metadata": {
    "collapsed": false,
    "pycharm": {
     "name": "#%%\n"
    }
   }
  },
  {
   "cell_type": "markdown",
   "metadata": {
    "id": "CMfaYMFCTz2d",
    "pycharm": {
     "name": "#%% md\n"
    }
   },
   "source": [
    "## Quick Logistic Regression!"
   ]
  },
  {
   "cell_type": "code",
   "metadata": {
    "id": "OmGKbCiATz2e",
    "pycharm": {
     "name": "#%%\n"
    }
   },
   "source": [
    "import tensorflow as tf\n",
    "import tensorflow.keras as keras\n",
    "\n",
    "import numpy as np"
   ],
   "execution_count": 24,
   "outputs": []
  },
  {
   "cell_type": "code",
   "metadata": {
    "id": "yzweU4sRTz2g",
    "pycharm": {
     "name": "#%%\n"
    }
   },
   "source": [
    "x = np.array(range(0, 20))\n",
    "y = np.array([0] * 10 + [1] * 10)\n",
    "print(x)\n",
    "print(y)"
   ],
   "execution_count": 25,
   "outputs": [
    {
     "name": "stdout",
     "output_type": "stream",
     "text": [
      "[ 0  1  2  3  4  5  6  7  8  9 10 11 12 13 14 15 16 17 18 19]\n",
      "[0 0 0 0 0 0 0 0 0 0 1 1 1 1 1 1 1 1 1 1]\n"
     ]
    }
   ]
  },
  {
   "cell_type": "code",
   "metadata": {
    "id": "wiQzDaBzTz2j",
    "pycharm": {
     "name": "#%%\n"
    }
   },
   "source": [
    "# 혹시 이미 그려둔 그래프가 있다면 날려줘!\n",
    "keras.backend.clear_session()\n",
    "\n",
    "# model에 순차적으로 레이어를 쌓아가겠다는 의도!\n",
    "model = keras.models.Sequential()\n",
    "\n",
    "# model에 인풋 값을 받는 레이어를 넣음\n",
    "model.add(keras.layers.Input(shape=(1,)))\n",
    "# model에 Dense 레이어를 넣을거야 (최초의 레이어) : weight를 곱하고, bias를 더해주는 과정\n",
    "model.add(keras.layers.Dense(1, activation='sigmoid'))\n",
    "\n",
    "# 오리지널 Sequential API\n",
    "# model.add( keras.layers.Dense(1, input_shape=(1,), activation='sigmoid') )\n",
    "\n",
    "# 컴파일 해주렴\n",
    "model.compile(loss='binary_crossentropy',\n",
    "              optimizer='adam',\n",
    "              metrics=['accuracy'])"
   ],
   "execution_count": 26,
   "outputs": []
  },
  {
   "cell_type": "code",
   "metadata": {
    "id": "b_FXYQ7fTz2l",
    "pycharm": {
     "name": "#%%\n"
    }
   },
   "source": [
    "# 데이터를 넣어서 학습시키자!\n",
    "model.fit(x[:15], y[:15], epochs=10, verbose=1)\n",
    "\n",
    "# 결과 출력해줘!\n",
    "print(y[15:])\n",
    "print(model.predict(x[15:]))"
   ],
   "execution_count": 27,
   "outputs": [
    {
     "name": "stdout",
     "output_type": "stream",
     "text": [
      "Epoch 1/10\n",
      "1/1 [==============================] - 0s 3ms/step - loss: 1.4596 - accuracy: 0.6667\n",
      "Epoch 2/10\n",
      "1/1 [==============================] - 0s 1000us/step - loss: 1.4559 - accuracy: 0.6000\n",
      "Epoch 3/10\n",
      "1/1 [==============================] - 0s 1000us/step - loss: 1.4522 - accuracy: 0.6000\n",
      "Epoch 4/10\n",
      "1/1 [==============================] - 0s 1ms/step - loss: 1.4486 - accuracy: 0.6000\n",
      "Epoch 5/10\n",
      "1/1 [==============================] - 0s 0s/step - loss: 1.4449 - accuracy: 0.6000\n",
      "Epoch 6/10\n",
      "1/1 [==============================] - 0s 999us/step - loss: 1.4413 - accuracy: 0.6000\n",
      "Epoch 7/10\n",
      "1/1 [==============================] - 0s 1ms/step - loss: 1.4377 - accuracy: 0.6000\n",
      "Epoch 8/10\n",
      "1/1 [==============================] - 0s 1ms/step - loss: 1.4340 - accuracy: 0.6000\n",
      "Epoch 9/10\n",
      "1/1 [==============================] - 0s 999us/step - loss: 1.4304 - accuracy: 0.6000\n",
      "Epoch 10/10\n",
      "1/1 [==============================] - 0s 0s/step - loss: 1.4268 - accuracy: 0.6000\n",
      "[1 1 1 1 1]\n",
      "[[0.01014109]\n",
      " [0.00748731]\n",
      " [0.00552411]\n",
      " [0.00407355]\n",
      " [0.00300274]]\n"
     ]
    }
   ]
  },
  {
   "cell_type": "markdown",
   "metadata": {
    "id": "bqJtsDjtTz2n",
    "pycharm": {
     "name": "#%% md\n"
    }
   },
   "source": [
    "## Now, Your turn!"
   ]
  },
  {
   "cell_type": "code",
   "metadata": {
    "id": "2asYuMjL5jgc",
    "pycharm": {
     "name": "#%%\n"
    }
   },
   "source": [],
   "execution_count": null,
   "outputs": []
  },
  {
   "cell_type": "code",
   "metadata": {
    "id": "IGSN3QAPTz2o",
    "pycharm": {
     "name": "#%%\n"
    }
   },
   "source": [
    "x = np.array(range(0, 40))\n",
    "y = np.array([0] * 20 + [1] * 20)\n",
    "print(x)\n",
    "print(y)"
   ],
   "execution_count": 33,
   "outputs": [
    {
     "name": "stdout",
     "output_type": "stream",
     "text": [
      "[ 0  1  2  3  4  5  6  7  8  9 10 11 12 13 14 15 16 17 18 19 20 21 22 23\n",
      " 24 25 26 27 28 29 30 31 32 33 34 35 36 37 38 39]\n",
      "[0 0 0 0 0 0 0 0 0 0 0 0 0 0 0 0 0 0 0 0 1 1 1 1 1 1 1 1 1 1 1 1 1 1 1 1 1\n",
      " 1 1 1]\n"
     ]
    }
   ]
  },
  {
   "cell_type": "code",
   "metadata": {
    "id": "Ma61XgWYUMPi",
    "pycharm": {
     "name": "#%%\n"
    }
   },
   "source": [
    "keras.backend.clear_session()\n",
    "\n",
    "model = keras.Sequential()\n",
    "\n",
    "model.add(keras.layers.Input(shape=(1,)))\n",
    "model.add(keras.layers.Dense(1, activation='sigmoid'))\n",
    "\n",
    "model.compile(loss='binary_crossentropy', optimizer='adam', metrics='accuracy')"
   ],
   "execution_count": 34,
   "outputs": []
  },
  {
   "cell_type": "code",
   "execution_count": 37,
   "outputs": [
    {
     "name": "stdout",
     "output_type": "stream",
     "text": [
      "Epoch 1/10\n",
      "2/2 [==============================] - 0s 3ms/step - loss: 4.8687 - accuracy: 0.5250\n",
      "Epoch 2/10\n",
      "2/2 [==============================] - 0s 2ms/step - loss: 4.8591 - accuracy: 0.5250\n",
      "Epoch 3/10\n",
      "2/2 [==============================] - 0s 1ms/step - loss: 4.8492 - accuracy: 0.5250\n",
      "Epoch 4/10\n",
      "2/2 [==============================] - 0s 2ms/step - loss: 4.8400 - accuracy: 0.5250\n",
      "Epoch 5/10\n",
      "2/2 [==============================] - 0s 3ms/step - loss: 4.8306 - accuracy: 0.5250\n",
      "Epoch 6/10\n",
      "2/2 [==============================] - 0s 1ms/step - loss: 4.8212 - accuracy: 0.5250\n",
      "Epoch 7/10\n",
      "2/2 [==============================] - 0s 1ms/step - loss: 4.8134 - accuracy: 0.5250\n",
      "Epoch 8/10\n",
      "2/2 [==============================] - 0s 1ms/step - loss: 4.8035 - accuracy: 0.5250\n",
      "Epoch 9/10\n",
      "2/2 [==============================] - 0s 1000us/step - loss: 4.7941 - accuracy: 0.5250\n",
      "Epoch 10/10\n",
      "2/2 [==============================] - 0s 2ms/step - loss: 4.7845 - accuracy: 0.5250\n"
     ]
    },
    {
     "data": {
      "text/plain": "<tensorflow.python.keras.callbacks.History at 0x20d2bf54430>"
     },
     "execution_count": 37,
     "metadata": {},
     "output_type": "execute_result"
    }
   ],
   "source": [
    "model.fit(x, y, epochs=10, verbose=1)"
   ],
   "metadata": {
    "collapsed": false,
    "pycharm": {
     "name": "#%%\n"
    }
   }
  },
  {
   "cell_type": "code",
   "execution_count": 38,
   "outputs": [
    {
     "name": "stdout",
     "output_type": "stream",
     "text": [
      "[1 1 1 1 1 1 1 1 1 1]\n",
      "[1. 1. 1. 1. 1. 1. 1. 1. 1. 1.]\n"
     ]
    }
   ],
   "source": [
    "print(y[30:])\n",
    "print(model.predict(x[30:]).reshape(-1))"
   ],
   "metadata": {
    "collapsed": false,
    "pycharm": {
     "name": "#%%\n"
    }
   }
  },
  {
   "cell_type": "code",
   "execution_count": 83,
   "outputs": [],
   "source": [
    "from sklearn.datasets import load_boston\n",
    "\n",
    "import pandas as pd\n",
    "import numpy as np"
   ],
   "metadata": {
    "collapsed": false,
    "pycharm": {
     "name": "#%%\n"
    }
   }
  },
  {
   "cell_type": "code",
   "execution_count": 84,
   "outputs": [
    {
     "name": "stderr",
     "output_type": "stream",
     "text": [
      "C:\\Users\\allsa\\anaconda3\\envs\\kt-aivle\\lib\\site-packages\\sklearn\\utils\\deprecation.py:87: FutureWarning: Function load_boston is deprecated; `load_boston` is deprecated in 1.0 and will be removed in 1.2.\n",
      "\n",
      "    The Boston housing prices dataset has an ethical problem. You can refer to\n",
      "    the documentation of this function for further details.\n",
      "\n",
      "    The scikit-learn maintainers therefore strongly discourage the use of this\n",
      "    dataset unless the purpose of the code is to study and educate about\n",
      "    ethical issues in data science and machine learning.\n",
      "\n",
      "    In this special case, you can fetch the dataset from the original\n",
      "    source::\n",
      "\n",
      "        import pandas as pd\n",
      "        import numpy as np\n",
      "\n",
      "        data_url = \"http://lib.stat.cmu.edu/datasets/boston\"\n",
      "        raw_df = pd.read_csv(data_url, sep=\"\\s+\", skiprows=22, header=None)\n",
      "        data = np.hstack([raw_df.values[::2, :], raw_df.values[1::2, :2]])\n",
      "        target = raw_df.values[1::2, 2]\n",
      "\n",
      "    Alternative datasets include the California housing dataset (i.e.\n",
      "    :func:`~sklearn.datasets.fetch_california_housing`) and the Ames housing\n",
      "    dataset. You can load the datasets as follows::\n",
      "\n",
      "        from sklearn.datasets import fetch_california_housing\n",
      "        housing = fetch_california_housing()\n",
      "\n",
      "    for the California housing dataset and::\n",
      "\n",
      "        from sklearn.datasets import fetch_openml\n",
      "        housing = fetch_openml(name=\"house_prices\", as_frame=True)\n",
      "\n",
      "    for the Ames housing dataset.\n",
      "  warnings.warn(msg, category=FutureWarning)\n"
     ]
    }
   ],
   "source": [
    "boston = load_boston()"
   ],
   "metadata": {
    "collapsed": false,
    "pycharm": {
     "name": "#%%\n"
    }
   }
  },
  {
   "cell_type": "code",
   "execution_count": 85,
   "outputs": [],
   "source": [
    "x = boston.data\n",
    "y = boston.target"
   ],
   "metadata": {
    "collapsed": false,
    "pycharm": {
     "name": "#%%\n"
    }
   }
  },
  {
   "cell_type": "code",
   "execution_count": 86,
   "outputs": [
    {
     "data": {
      "text/plain": "((506, 13), (506,))"
     },
     "execution_count": 86,
     "metadata": {},
     "output_type": "execute_result"
    }
   ],
   "source": [
    "x.shape, y.shape"
   ],
   "metadata": {
    "collapsed": false,
    "pycharm": {
     "name": "#%%\n"
    }
   }
  },
  {
   "cell_type": "code",
   "execution_count": 87,
   "outputs": [],
   "source": [
    "keras.backend.clear_session()\n",
    "\n",
    "model = keras.models.Sequential()\n",
    "\n",
    "model.add(keras.layers.Input(shape=(13, )))\n",
    "model.add(keras.layers.Dense(1))\n",
    "\n",
    "model.compile(loss='mse', optimizer='adam')"
   ],
   "metadata": {
    "collapsed": false,
    "pycharm": {
     "name": "#%%\n"
    }
   }
  },
  {
   "cell_type": "code",
   "execution_count": 88,
   "outputs": [
    {
     "name": "stdout",
     "output_type": "stream",
     "text": [
      "Epoch 1/10\n",
      "16/16 [==============================] - 0s 625us/step - loss: 3642.8618\n",
      "Epoch 2/10\n",
      "16/16 [==============================] - 0s 652us/step - loss: 2238.9968\n",
      "Epoch 3/10\n",
      "16/16 [==============================] - 0s 563us/step - loss: 1340.3667\n",
      "Epoch 4/10\n",
      "16/16 [==============================] - 0s 687us/step - loss: 825.4426\n",
      "Epoch 5/10\n",
      "16/16 [==============================] - 0s 688us/step - loss: 577.9503\n",
      "Epoch 6/10\n",
      "16/16 [==============================] - 0s 500us/step - loss: 462.5356\n",
      "Epoch 7/10\n",
      "16/16 [==============================] - 0s 625us/step - loss: 409.4740\n",
      "Epoch 8/10\n",
      "16/16 [==============================] - 0s 625us/step - loss: 378.0310\n",
      "Epoch 9/10\n",
      "16/16 [==============================] - 0s 625us/step - loss: 354.2207\n",
      "Epoch 10/10\n",
      "16/16 [==============================] - 0s 688us/step - loss: 331.3064\n"
     ]
    },
    {
     "data": {
      "text/plain": "<tensorflow.python.keras.callbacks.History at 0x20d3eae0250>"
     },
     "execution_count": 88,
     "metadata": {},
     "output_type": "execute_result"
    }
   ],
   "source": [
    "model.fit(x, y, epochs=10, verbose=1)"
   ],
   "metadata": {
    "collapsed": false,
    "pycharm": {
     "name": "#%%\n"
    }
   }
  },
  {
   "cell_type": "code",
   "execution_count": 89,
   "outputs": [
    {
     "name": "stdout",
     "output_type": "stream",
     "text": [
      "[24.  21.6 34.7 33.4 36.2]\n",
      "[[39.63984 ]\n",
      " [28.109968]\n",
      " [30.524786]\n",
      " [33.823395]\n",
      " [32.750984]]\n"
     ]
    }
   ],
   "source": [
    "print(y[:5])\n",
    "print(model.predict(x[:5]))"
   ],
   "metadata": {
    "collapsed": false,
    "pycharm": {
     "name": "#%%\n"
    }
   }
  },
  {
   "cell_type": "code",
   "execution_count": 90,
   "outputs": [],
   "source": [
    "from sklearn.datasets import load_breast_cancer"
   ],
   "metadata": {
    "collapsed": false,
    "pycharm": {
     "name": "#%%\n"
    }
   }
  },
  {
   "cell_type": "code",
   "execution_count": 91,
   "outputs": [
    {
     "data": {
      "text/plain": "((569, 30), (569,))"
     },
     "execution_count": 91,
     "metadata": {},
     "output_type": "execute_result"
    }
   ],
   "source": [
    "cancer = load_breast_cancer()\n",
    "\n",
    "x = cancer.data\n",
    "y = cancer.target\n",
    "\n",
    "x.shape, y.shape"
   ],
   "metadata": {
    "collapsed": false,
    "pycharm": {
     "name": "#%%\n"
    }
   }
  },
  {
   "cell_type": "code",
   "execution_count": 104,
   "outputs": [],
   "source": [
    "keras.backend.clear_session()\n",
    "\n",
    "model = keras.models.Sequential()\n",
    "\n",
    "model.add(keras.layers.Input(shape=(30, )))\n",
    "model.add(keras.layers.Dense(1, activation='sigmoid'))\n",
    "\n",
    "model.compile(loss=keras.losses.binary_crossentropy, optimizer='adam', metrics=['accuracy'])"
   ],
   "metadata": {
    "collapsed": false,
    "pycharm": {
     "name": "#%%\n"
    }
   }
  },
  {
   "cell_type": "code",
   "execution_count": 108,
   "outputs": [
    {
     "name": "stdout",
     "output_type": "stream",
     "text": [
      "Epoch 1/100\n",
      "18/18 [==============================] - 0s 1ms/step - loss: 0.6652 - accuracy: 0.8822\n",
      "Epoch 2/100\n",
      "18/18 [==============================] - 0s 1ms/step - loss: 0.6647 - accuracy: 0.8787\n",
      "Epoch 3/100\n",
      "18/18 [==============================] - 0s 1ms/step - loss: 0.6673 - accuracy: 0.8840\n",
      "Epoch 4/100\n",
      "18/18 [==============================] - 0s 944us/step - loss: 0.6545 - accuracy: 0.8893\n",
      "Epoch 5/100\n",
      "18/18 [==============================] - 0s 833us/step - loss: 0.6432 - accuracy: 0.8858\n",
      "Epoch 6/100\n",
      "18/18 [==============================] - 0s 889us/step - loss: 0.6424 - accuracy: 0.8840\n",
      "Epoch 7/100\n",
      "18/18 [==============================] - 0s 833us/step - loss: 0.6308 - accuracy: 0.8858\n",
      "Epoch 8/100\n",
      "18/18 [==============================] - 0s 889us/step - loss: 0.6261 - accuracy: 0.8822\n",
      "Epoch 9/100\n",
      "18/18 [==============================] - 0s 889us/step - loss: 0.6298 - accuracy: 0.8875\n",
      "Epoch 10/100\n",
      "18/18 [==============================] - 0s 889us/step - loss: 0.6126 - accuracy: 0.8910\n",
      "Epoch 11/100\n",
      "18/18 [==============================] - 0s 944us/step - loss: 0.6064 - accuracy: 0.8875\n",
      "Epoch 12/100\n",
      "18/18 [==============================] - 0s 944us/step - loss: 0.6001 - accuracy: 0.8928\n",
      "Epoch 13/100\n",
      "18/18 [==============================] - 0s 833us/step - loss: 0.5920 - accuracy: 0.8875\n",
      "Epoch 14/100\n",
      "18/18 [==============================] - 0s 889us/step - loss: 0.5969 - accuracy: 0.8875\n",
      "Epoch 15/100\n",
      "18/18 [==============================] - 0s 1000us/step - loss: 0.5788 - accuracy: 0.8963\n",
      "Epoch 16/100\n",
      "18/18 [==============================] - 0s 944us/step - loss: 0.5827 - accuracy: 0.8946\n",
      "Epoch 17/100\n",
      "18/18 [==============================] - 0s 889us/step - loss: 0.5684 - accuracy: 0.8858\n",
      "Epoch 18/100\n",
      "18/18 [==============================] - 0s 889us/step - loss: 0.5638 - accuracy: 0.8893\n",
      "Epoch 19/100\n",
      "18/18 [==============================] - 0s 889us/step - loss: 0.5537 - accuracy: 0.8910\n",
      "Epoch 20/100\n",
      "18/18 [==============================] - 0s 833us/step - loss: 0.5504 - accuracy: 0.8981\n",
      "Epoch 21/100\n",
      "18/18 [==============================] - 0s 889us/step - loss: 0.5401 - accuracy: 0.8893\n",
      "Epoch 22/100\n",
      "18/18 [==============================] - 0s 889us/step - loss: 0.5341 - accuracy: 0.8946\n",
      "Epoch 23/100\n",
      "18/18 [==============================] - 0s 833us/step - loss: 0.5332 - accuracy: 0.8858\n",
      "Epoch 24/100\n",
      "18/18 [==============================] - 0s 889us/step - loss: 0.5243 - accuracy: 0.8981\n",
      "Epoch 25/100\n",
      "18/18 [==============================] - 0s 889us/step - loss: 0.5138 - accuracy: 0.8893\n",
      "Epoch 26/100\n",
      "18/18 [==============================] - 0s 889us/step - loss: 0.5131 - accuracy: 0.8998\n",
      "Epoch 27/100\n",
      "18/18 [==============================] - 0s 944us/step - loss: 0.5176 - accuracy: 0.8946\n",
      "Epoch 28/100\n",
      "18/18 [==============================] - 0s 833us/step - loss: 0.4936 - accuracy: 0.8981\n",
      "Epoch 29/100\n",
      "18/18 [==============================] - 0s 833us/step - loss: 0.5024 - accuracy: 0.8893\n",
      "Epoch 30/100\n",
      "18/18 [==============================] - 0s 889us/step - loss: 0.4804 - accuracy: 0.8998\n",
      "Epoch 31/100\n",
      "18/18 [==============================] - 0s 889us/step - loss: 0.4741 - accuracy: 0.8981\n",
      "Epoch 32/100\n",
      "18/18 [==============================] - 0s 889us/step - loss: 0.4621 - accuracy: 0.8981\n",
      "Epoch 33/100\n",
      "18/18 [==============================] - 0s 889us/step - loss: 0.4726 - accuracy: 0.8910\n",
      "Epoch 34/100\n",
      "18/18 [==============================] - 0s 944us/step - loss: 0.4610 - accuracy: 0.8998\n",
      "Epoch 35/100\n",
      "18/18 [==============================] - 0s 833us/step - loss: 0.4533 - accuracy: 0.8946\n",
      "Epoch 36/100\n",
      "18/18 [==============================] - 0s 778us/step - loss: 0.4460 - accuracy: 0.9033\n",
      "Epoch 37/100\n",
      "18/18 [==============================] - 0s 778us/step - loss: 0.4352 - accuracy: 0.9016\n",
      "Epoch 38/100\n",
      "18/18 [==============================] - 0s 833us/step - loss: 0.4334 - accuracy: 0.8928\n",
      "Epoch 39/100\n",
      "18/18 [==============================] - 0s 778us/step - loss: 0.4354 - accuracy: 0.9016\n",
      "Epoch 40/100\n",
      "18/18 [==============================] - 0s 833us/step - loss: 0.4166 - accuracy: 0.8998\n",
      "Epoch 41/100\n",
      "18/18 [==============================] - 0s 778us/step - loss: 0.4171 - accuracy: 0.9033\n",
      "Epoch 42/100\n",
      "18/18 [==============================] - 0s 833us/step - loss: 0.4041 - accuracy: 0.9016\n",
      "Epoch 43/100\n",
      "18/18 [==============================] - 0s 889us/step - loss: 0.4008 - accuracy: 0.9051\n",
      "Epoch 44/100\n",
      "18/18 [==============================] - 0s 833us/step - loss: 0.3929 - accuracy: 0.9051\n",
      "Epoch 45/100\n",
      "18/18 [==============================] - 0s 944us/step - loss: 0.3981 - accuracy: 0.8963\n",
      "Epoch 46/100\n",
      "18/18 [==============================] - 0s 1ms/step - loss: 0.3828 - accuracy: 0.9051\n",
      "Epoch 47/100\n",
      "18/18 [==============================] - 0s 778us/step - loss: 0.3765 - accuracy: 0.9051\n",
      "Epoch 48/100\n",
      "18/18 [==============================] - 0s 889us/step - loss: 0.3783 - accuracy: 0.8998\n",
      "Epoch 49/100\n",
      "18/18 [==============================] - 0s 1ms/step - loss: 0.3615 - accuracy: 0.9016\n",
      "Epoch 50/100\n",
      "18/18 [==============================] - 0s 1ms/step - loss: 0.3632 - accuracy: 0.9033\n",
      "Epoch 51/100\n",
      "18/18 [==============================] - 0s 1ms/step - loss: 0.3681 - accuracy: 0.9016\n",
      "Epoch 52/100\n",
      "18/18 [==============================] - 0s 1ms/step - loss: 0.3514 - accuracy: 0.9033\n",
      "Epoch 53/100\n",
      "18/18 [==============================] - 3s 179ms/step - loss: 0.3481 - accuracy: 0.9051\n",
      "Epoch 54/100\n",
      "18/18 [==============================] - 0s 889us/step - loss: 0.3550 - accuracy: 0.9069\n",
      "Epoch 55/100\n",
      "18/18 [==============================] - 0s 889us/step - loss: 0.3359 - accuracy: 0.9086\n",
      "Epoch 56/100\n",
      "18/18 [==============================] - 0s 889us/step - loss: 0.3374 - accuracy: 0.9069\n",
      "Epoch 57/100\n",
      "18/18 [==============================] - 0s 889us/step - loss: 0.3282 - accuracy: 0.9104\n",
      "Epoch 58/100\n",
      "18/18 [==============================] - 0s 889us/step - loss: 0.3210 - accuracy: 0.9069\n",
      "Epoch 59/100\n",
      "18/18 [==============================] - 0s 833us/step - loss: 0.3175 - accuracy: 0.9051\n",
      "Epoch 60/100\n",
      "18/18 [==============================] - 0s 833us/step - loss: 0.3170 - accuracy: 0.9086\n",
      "Epoch 61/100\n",
      "18/18 [==============================] - 0s 1ms/step - loss: 0.3136 - accuracy: 0.9086\n",
      "Epoch 62/100\n",
      "18/18 [==============================] - 0s 1ms/step - loss: 0.3094 - accuracy: 0.9104\n",
      "Epoch 63/100\n",
      "18/18 [==============================] - 0s 1000us/step - loss: 0.3038 - accuracy: 0.9051\n",
      "Epoch 64/100\n",
      "18/18 [==============================] - 0s 1ms/step - loss: 0.3059 - accuracy: 0.9104\n",
      "Epoch 65/100\n",
      "18/18 [==============================] - 0s 1ms/step - loss: 0.3128 - accuracy: 0.9104\n",
      "Epoch 66/100\n",
      "18/18 [==============================] - 0s 1ms/step - loss: 0.3039 - accuracy: 0.9086\n",
      "Epoch 67/100\n",
      "18/18 [==============================] - 0s 1ms/step - loss: 0.3008 - accuracy: 0.9139\n",
      "Epoch 68/100\n",
      "18/18 [==============================] - 0s 889us/step - loss: 0.3011 - accuracy: 0.9086\n",
      "Epoch 69/100\n",
      "18/18 [==============================] - 0s 889us/step - loss: 0.3075 - accuracy: 0.9139\n",
      "Epoch 70/100\n",
      "18/18 [==============================] - 0s 889us/step - loss: 0.2887 - accuracy: 0.9104\n",
      "Epoch 71/100\n",
      "18/18 [==============================] - 0s 889us/step - loss: 0.2923 - accuracy: 0.9104\n",
      "Epoch 72/100\n",
      "18/18 [==============================] - 0s 889us/step - loss: 0.2927 - accuracy: 0.9051\n",
      "Epoch 73/100\n",
      "18/18 [==============================] - 0s 833us/step - loss: 0.2756 - accuracy: 0.9192\n",
      "Epoch 74/100\n",
      "18/18 [==============================] - 0s 944us/step - loss: 0.2818 - accuracy: 0.9121\n",
      "Epoch 75/100\n",
      "18/18 [==============================] - 0s 833us/step - loss: 0.2748 - accuracy: 0.9262\n",
      "Epoch 76/100\n",
      "18/18 [==============================] - 0s 889us/step - loss: 0.2978 - accuracy: 0.9069\n",
      "Epoch 77/100\n",
      "18/18 [==============================] - 0s 833us/step - loss: 0.2787 - accuracy: 0.9192\n",
      "Epoch 78/100\n",
      "18/18 [==============================] - 0s 889us/step - loss: 0.2686 - accuracy: 0.9086\n",
      "Epoch 79/100\n",
      "18/18 [==============================] - 0s 1ms/step - loss: 0.2695 - accuracy: 0.9156\n",
      "Epoch 80/100\n",
      "18/18 [==============================] - 0s 1ms/step - loss: 0.2645 - accuracy: 0.9156\n",
      "Epoch 81/100\n",
      "18/18 [==============================] - 0s 944us/step - loss: 0.2658 - accuracy: 0.9192\n",
      "Epoch 82/100\n",
      "18/18 [==============================] - 0s 944us/step - loss: 0.2671 - accuracy: 0.9174\n",
      "Epoch 83/100\n",
      "18/18 [==============================] - 0s 944us/step - loss: 0.2718 - accuracy: 0.9279\n",
      "Epoch 84/100\n",
      "18/18 [==============================] - 0s 1ms/step - loss: 0.2671 - accuracy: 0.9244\n",
      "Epoch 85/100\n",
      "18/18 [==============================] - 0s 833us/step - loss: 0.2651 - accuracy: 0.9174\n",
      "Epoch 86/100\n",
      "18/18 [==============================] - 0s 889us/step - loss: 0.2670 - accuracy: 0.9227\n",
      "Epoch 87/100\n",
      "18/18 [==============================] - 0s 1ms/step - loss: 0.2544 - accuracy: 0.9192\n",
      "Epoch 88/100\n",
      "18/18 [==============================] - 0s 889us/step - loss: 0.2546 - accuracy: 0.9174\n",
      "Epoch 89/100\n",
      "18/18 [==============================] - 0s 944us/step - loss: 0.2530 - accuracy: 0.9209\n",
      "Epoch 90/100\n",
      "18/18 [==============================] - 0s 1000us/step - loss: 0.2578 - accuracy: 0.9227\n",
      "Epoch 91/100\n",
      "18/18 [==============================] - 0s 944us/step - loss: 0.2624 - accuracy: 0.9192\n",
      "Epoch 92/100\n",
      "18/18 [==============================] - 0s 833us/step - loss: 0.2442 - accuracy: 0.9156\n",
      "Epoch 93/100\n",
      "18/18 [==============================] - 0s 889us/step - loss: 0.2526 - accuracy: 0.9279\n",
      "Epoch 94/100\n",
      "18/18 [==============================] - 0s 944us/step - loss: 0.2519 - accuracy: 0.9244\n",
      "Epoch 95/100\n",
      "18/18 [==============================] - 0s 833us/step - loss: 0.2519 - accuracy: 0.9174\n",
      "Epoch 96/100\n",
      "18/18 [==============================] - 0s 889us/step - loss: 0.2412 - accuracy: 0.9121\n",
      "Epoch 97/100\n",
      "18/18 [==============================] - 0s 889us/step - loss: 0.2472 - accuracy: 0.9262\n",
      "Epoch 98/100\n",
      "18/18 [==============================] - 0s 833us/step - loss: 0.2441 - accuracy: 0.9192\n",
      "Epoch 99/100\n",
      "18/18 [==============================] - 0s 833us/step - loss: 0.2398 - accuracy: 0.9192\n",
      "Epoch 100/100\n",
      "18/18 [==============================] - 0s 944us/step - loss: 0.2399 - accuracy: 0.9209\n"
     ]
    },
    {
     "data": {
      "text/plain": "<tensorflow.python.keras.callbacks.History at 0x20d3eab6790>"
     },
     "execution_count": 108,
     "metadata": {},
     "output_type": "execute_result"
    }
   ],
   "source": [
    "model.fit(x, y, epochs=100, verbose=1)"
   ],
   "metadata": {
    "collapsed": false,
    "pycharm": {
     "name": "#%%\n"
    }
   }
  },
  {
   "cell_type": "code",
   "execution_count": 110,
   "outputs": [
    {
     "name": "stdout",
     "output_type": "stream",
     "text": [
      "[0 0 0 0 0 0 0 0 0 0 0 0 0 0 0 0 0 0 0 1 1 1 0 0 0]\n",
      "[9.2425439e-20 9.4688829e-18 1.0282814e-12 9.8846078e-01 4.8212492e-05\n",
      " 4.0625197e-01 1.0895301e-12 1.2881524e-03 5.4899031e-01 2.7424721e-02\n",
      " 1.5876814e-06 3.1175575e-09 1.1088346e-01 9.6249002e-01 9.9893385e-01\n",
      " 1.8268402e-03 5.1758153e-08 1.1859712e-09 1.0661444e-30 9.9731809e-01\n",
      " 9.9976748e-01 9.9999309e-01 4.8913702e-01 1.4771397e-35 1.0515861e-32]\n"
     ]
    }
   ],
   "source": [
    "print(y[:25])\n",
    "print(model.predict(x[:25]).reshape(-1))"
   ],
   "metadata": {
    "collapsed": false,
    "pycharm": {
     "name": "#%%\n"
    }
   }
  },
  {
   "cell_type": "code",
   "execution_count": null,
   "outputs": [],
   "source": [],
   "metadata": {
    "collapsed": false,
    "pycharm": {
     "name": "#%%\n"
    }
   }
  }
 ]
}