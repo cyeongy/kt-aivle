{
  "nbformat": 4,
  "nbformat_minor": 0,
  "metadata": {
    "colab": {
      "provenance": [],
      "collapsed_sections": []
    },
    "kernelspec": {
      "name": "python3",
      "display_name": "Python 3"
    },
    "language_info": {
      "name": "python"
    }
  },
  "cells": [
    {
      "cell_type": "code",
      "execution_count": 1,
      "metadata": {
        "id": "StjdnMRQLa2d"
      },
      "outputs": [],
      "source": [
        "from sklearn.datasets import load_wine"
      ]
    },
    {
      "cell_type": "code",
      "source": [
        "wine = load_wine()"
      ],
      "metadata": {
        "id": "6L4aIsbALld9"
      },
      "execution_count": 2,
      "outputs": []
    },
    {
      "cell_type": "code",
      "source": [
        "print(wine.DESCR)"
      ],
      "metadata": {
        "id": "qhaSOxUwL8lg"
      },
      "execution_count": null,
      "outputs": []
    },
    {
      "cell_type": "code",
      "source": [
        "x = wine.data\n",
        "y = wine.target\n",
        "\n",
        "x.shape, y.shape"
      ],
      "metadata": {
        "colab": {
          "base_uri": "https://localhost:8080/"
        },
        "id": "A1Lq-4NnMQxn",
        "outputId": "1b940925-8d96-49fa-bae5-42f142254253"
      },
      "execution_count": 15,
      "outputs": [
        {
          "output_type": "execute_result",
          "data": {
            "text/plain": [
              "((178, 13), (178,))"
            ]
          },
          "metadata": {},
          "execution_count": 15
        }
      ]
    },
    {
      "cell_type": "code",
      "source": [
        "import pandas as pd"
      ],
      "metadata": {
        "id": "K3UmWjNXRNpr"
      },
      "execution_count": 16,
      "outputs": []
    },
    {
      "cell_type": "code",
      "source": [
        "pd.DataFrame(y, columns=wine.target_names).head()"
      ],
      "metadata": {
        "id": "sE2fprR_RPT1"
      },
      "execution_count": null,
      "outputs": []
    },
    {
      "cell_type": "code",
      "source": [
        "wine.target_names"
      ],
      "metadata": {
        "colab": {
          "base_uri": "https://localhost:8080/"
        },
        "id": "08CjlV2-Rhou",
        "outputId": "d7d846f3-7e23-4b34-8c5f-0038ea458f4a"
      },
      "execution_count": 20,
      "outputs": [
        {
          "output_type": "execute_result",
          "data": {
            "text/plain": [
              "array(['class_0', 'class_1', 'class_2'], dtype='<U7')"
            ]
          },
          "metadata": {},
          "execution_count": 20
        }
      ]
    },
    {
      "cell_type": "markdown",
      "source": [
        "## 문제\n",
        "\n",
        "1. 전처리 : 필수) training set / test set 구분\n",
        "2. 모델링 : Functional API\n",
        "    - 1) 히든 레이어 없이 성능 보기\n",
        "    - 2) 히든 레이어 추가하고 성능 보기 (자율)\n",
        "3. 학습 : epochs=100, validation set 10%, 5번까지만 참을래!"
      ],
      "metadata": {
        "id": "WZIto3DUMZL_"
      }
    },
    {
      "cell_type": "code",
      "source": [
        "from sklearn.model_selection import train_test_split"
      ],
      "metadata": {
        "id": "Gh8DQRFuR43I"
      },
      "execution_count": 21,
      "outputs": []
    },
    {
      "cell_type": "code",
      "source": [
        "train_x, test_x, train_y, test_y = train_test_split(x, y, test_size=0.1, random_state=2022)"
      ],
      "metadata": {
        "id": "d4IZ04-6R77D"
      },
      "execution_count": 22,
      "outputs": []
    },
    {
      "cell_type": "code",
      "source": [
        "train_x.shape, train_y.shape"
      ],
      "metadata": {
        "colab": {
          "base_uri": "https://localhost:8080/"
        },
        "id": "mYQklO5NSIxh",
        "outputId": "b1c88c3e-85b8-499a-f3c4-e0a74097e23f"
      },
      "execution_count": 23,
      "outputs": [
        {
          "output_type": "execute_result",
          "data": {
            "text/plain": [
              "((160, 13), (160,))"
            ]
          },
          "metadata": {},
          "execution_count": 23
        }
      ]
    },
    {
      "cell_type": "code",
      "source": [
        "# x 전처리 : min-max scaling\n",
        "\n",
        "# max_n , min_n = train_x.max(), train_x.min()\n",
        "# max_n , min_n"
      ],
      "metadata": {
        "id": "9UX03e7oOfLe"
      },
      "execution_count": null,
      "outputs": []
    },
    {
      "cell_type": "code",
      "source": [
        "# train_x_mm = (train_x - min_n) / (max_n - min_n)"
      ],
      "metadata": {
        "id": "2sfK2NsGSUGn"
      },
      "execution_count": 26,
      "outputs": []
    },
    {
      "cell_type": "code",
      "source": [
        "# train_x_mm.max(), train_x_mm.min()"
      ],
      "metadata": {
        "id": "xa8JVhfIScwZ"
      },
      "execution_count": null,
      "outputs": []
    },
    {
      "cell_type": "code",
      "source": [
        "# pd.DataFrame(train_x_mm, columns=wine.feature_names).describe()"
      ],
      "metadata": {
        "id": "TpZfOX2sSgyi"
      },
      "execution_count": null,
      "outputs": []
    },
    {
      "cell_type": "code",
      "source": [
        "from sklearn.preprocessing import MinMaxScaler"
      ],
      "metadata": {
        "id": "CVujqurZS2bo"
      },
      "execution_count": 29,
      "outputs": []
    },
    {
      "cell_type": "code",
      "source": [
        "mm_scaler = MinMaxScaler()"
      ],
      "metadata": {
        "id": "ngg-TofbS7pi"
      },
      "execution_count": 30,
      "outputs": []
    },
    {
      "cell_type": "code",
      "source": [
        "train_x_mm = mm_scaler.fit_transform(train_x)\n",
        "test_x_mm = mm_scaler.transform(test_x)"
      ],
      "metadata": {
        "id": "qnatjOfzS96c"
      },
      "execution_count": 32,
      "outputs": []
    },
    {
      "cell_type": "code",
      "source": [
        "pd.DataFrame(train_x_mm, columns=wine.feature_names).describe()"
      ],
      "metadata": {
        "colab": {
          "base_uri": "https://localhost:8080/",
          "height": 364
        },
        "id": "svzT36ezTI50",
        "outputId": "77886b01-7dd7-4677-9d8f-0faeb508b43a"
      },
      "execution_count": 33,
      "outputs": [
        {
          "output_type": "execute_result",
          "data": {
            "text/plain": [
              "          alcohol  malic_acid         ash  alcalinity_of_ash   magnesium  \\\n",
              "count  160.000000  160.000000  160.000000         160.000000  160.000000   \n",
              "mean     0.521875    0.313303    0.534191           0.495496    0.357485   \n",
              "std      0.218885    0.221658    0.150895           0.182454    0.165266   \n",
              "min      0.000000    0.000000    0.000000           0.000000    0.000000   \n",
              "25%      0.349462    0.171937    0.453209           0.368715    0.222222   \n",
              "50%      0.528226    0.219368    0.529412           0.494413    0.333333   \n",
              "75%      0.699597    0.446640    0.632353           0.608939    0.456790   \n",
              "max      1.000000    1.000000    1.000000           1.000000    1.000000   \n",
              "\n",
              "       total_phenols  flavanoids  nonflavanoid_phenols  proanthocyanins  \\\n",
              "count     160.000000  160.000000            160.000000       160.000000   \n",
              "mean        0.448772    0.354101              0.445637         0.365024   \n",
              "std         0.216551    0.208664              0.231837         0.175543   \n",
              "min         0.000000    0.000000              0.000000         0.000000   \n",
              "25%         0.253448    0.190401              0.264151         0.260252   \n",
              "50%         0.467241    0.371308              0.396226         0.345426   \n",
              "75%         0.627586    0.515295              0.589623         0.471609   \n",
              "max         1.000000    1.000000              1.000000         1.000000   \n",
              "\n",
              "       color_intensity         hue  od280/od315_of_diluted_wines     proline  \n",
              "count       160.000000  160.000000                    160.000000  160.000000  \n",
              "mean          0.317625    0.393831                      0.508585    0.329462  \n",
              "std           0.198660    0.183752                      0.263348    0.226615  \n",
              "min           0.000000    0.000000                      0.000000    0.000000  \n",
              "25%           0.159343    0.260163                      0.257547    0.157454  \n",
              "50%           0.283276    0.406504                      0.575472    0.272468  \n",
              "75%           0.415316    0.520325                      0.717925    0.466833  \n",
              "max           1.000000    1.000000                      1.000000    1.000000  "
            ],
            "text/html": [
              "\n",
              "  <div id=\"df-6173cb37-f385-4492-8b0a-08a0ea4bd57a\">\n",
              "    <div class=\"colab-df-container\">\n",
              "      <div>\n",
              "<style scoped>\n",
              "    .dataframe tbody tr th:only-of-type {\n",
              "        vertical-align: middle;\n",
              "    }\n",
              "\n",
              "    .dataframe tbody tr th {\n",
              "        vertical-align: top;\n",
              "    }\n",
              "\n",
              "    .dataframe thead th {\n",
              "        text-align: right;\n",
              "    }\n",
              "</style>\n",
              "<table border=\"1\" class=\"dataframe\">\n",
              "  <thead>\n",
              "    <tr style=\"text-align: right;\">\n",
              "      <th></th>\n",
              "      <th>alcohol</th>\n",
              "      <th>malic_acid</th>\n",
              "      <th>ash</th>\n",
              "      <th>alcalinity_of_ash</th>\n",
              "      <th>magnesium</th>\n",
              "      <th>total_phenols</th>\n",
              "      <th>flavanoids</th>\n",
              "      <th>nonflavanoid_phenols</th>\n",
              "      <th>proanthocyanins</th>\n",
              "      <th>color_intensity</th>\n",
              "      <th>hue</th>\n",
              "      <th>od280/od315_of_diluted_wines</th>\n",
              "      <th>proline</th>\n",
              "    </tr>\n",
              "  </thead>\n",
              "  <tbody>\n",
              "    <tr>\n",
              "      <th>count</th>\n",
              "      <td>160.000000</td>\n",
              "      <td>160.000000</td>\n",
              "      <td>160.000000</td>\n",
              "      <td>160.000000</td>\n",
              "      <td>160.000000</td>\n",
              "      <td>160.000000</td>\n",
              "      <td>160.000000</td>\n",
              "      <td>160.000000</td>\n",
              "      <td>160.000000</td>\n",
              "      <td>160.000000</td>\n",
              "      <td>160.000000</td>\n",
              "      <td>160.000000</td>\n",
              "      <td>160.000000</td>\n",
              "    </tr>\n",
              "    <tr>\n",
              "      <th>mean</th>\n",
              "      <td>0.521875</td>\n",
              "      <td>0.313303</td>\n",
              "      <td>0.534191</td>\n",
              "      <td>0.495496</td>\n",
              "      <td>0.357485</td>\n",
              "      <td>0.448772</td>\n",
              "      <td>0.354101</td>\n",
              "      <td>0.445637</td>\n",
              "      <td>0.365024</td>\n",
              "      <td>0.317625</td>\n",
              "      <td>0.393831</td>\n",
              "      <td>0.508585</td>\n",
              "      <td>0.329462</td>\n",
              "    </tr>\n",
              "    <tr>\n",
              "      <th>std</th>\n",
              "      <td>0.218885</td>\n",
              "      <td>0.221658</td>\n",
              "      <td>0.150895</td>\n",
              "      <td>0.182454</td>\n",
              "      <td>0.165266</td>\n",
              "      <td>0.216551</td>\n",
              "      <td>0.208664</td>\n",
              "      <td>0.231837</td>\n",
              "      <td>0.175543</td>\n",
              "      <td>0.198660</td>\n",
              "      <td>0.183752</td>\n",
              "      <td>0.263348</td>\n",
              "      <td>0.226615</td>\n",
              "    </tr>\n",
              "    <tr>\n",
              "      <th>min</th>\n",
              "      <td>0.000000</td>\n",
              "      <td>0.000000</td>\n",
              "      <td>0.000000</td>\n",
              "      <td>0.000000</td>\n",
              "      <td>0.000000</td>\n",
              "      <td>0.000000</td>\n",
              "      <td>0.000000</td>\n",
              "      <td>0.000000</td>\n",
              "      <td>0.000000</td>\n",
              "      <td>0.000000</td>\n",
              "      <td>0.000000</td>\n",
              "      <td>0.000000</td>\n",
              "      <td>0.000000</td>\n",
              "    </tr>\n",
              "    <tr>\n",
              "      <th>25%</th>\n",
              "      <td>0.349462</td>\n",
              "      <td>0.171937</td>\n",
              "      <td>0.453209</td>\n",
              "      <td>0.368715</td>\n",
              "      <td>0.222222</td>\n",
              "      <td>0.253448</td>\n",
              "      <td>0.190401</td>\n",
              "      <td>0.264151</td>\n",
              "      <td>0.260252</td>\n",
              "      <td>0.159343</td>\n",
              "      <td>0.260163</td>\n",
              "      <td>0.257547</td>\n",
              "      <td>0.157454</td>\n",
              "    </tr>\n",
              "    <tr>\n",
              "      <th>50%</th>\n",
              "      <td>0.528226</td>\n",
              "      <td>0.219368</td>\n",
              "      <td>0.529412</td>\n",
              "      <td>0.494413</td>\n",
              "      <td>0.333333</td>\n",
              "      <td>0.467241</td>\n",
              "      <td>0.371308</td>\n",
              "      <td>0.396226</td>\n",
              "      <td>0.345426</td>\n",
              "      <td>0.283276</td>\n",
              "      <td>0.406504</td>\n",
              "      <td>0.575472</td>\n",
              "      <td>0.272468</td>\n",
              "    </tr>\n",
              "    <tr>\n",
              "      <th>75%</th>\n",
              "      <td>0.699597</td>\n",
              "      <td>0.446640</td>\n",
              "      <td>0.632353</td>\n",
              "      <td>0.608939</td>\n",
              "      <td>0.456790</td>\n",
              "      <td>0.627586</td>\n",
              "      <td>0.515295</td>\n",
              "      <td>0.589623</td>\n",
              "      <td>0.471609</td>\n",
              "      <td>0.415316</td>\n",
              "      <td>0.520325</td>\n",
              "      <td>0.717925</td>\n",
              "      <td>0.466833</td>\n",
              "    </tr>\n",
              "    <tr>\n",
              "      <th>max</th>\n",
              "      <td>1.000000</td>\n",
              "      <td>1.000000</td>\n",
              "      <td>1.000000</td>\n",
              "      <td>1.000000</td>\n",
              "      <td>1.000000</td>\n",
              "      <td>1.000000</td>\n",
              "      <td>1.000000</td>\n",
              "      <td>1.000000</td>\n",
              "      <td>1.000000</td>\n",
              "      <td>1.000000</td>\n",
              "      <td>1.000000</td>\n",
              "      <td>1.000000</td>\n",
              "      <td>1.000000</td>\n",
              "    </tr>\n",
              "  </tbody>\n",
              "</table>\n",
              "</div>\n",
              "      <button class=\"colab-df-convert\" onclick=\"convertToInteractive('df-6173cb37-f385-4492-8b0a-08a0ea4bd57a')\"\n",
              "              title=\"Convert this dataframe to an interactive table.\"\n",
              "              style=\"display:none;\">\n",
              "        \n",
              "  <svg xmlns=\"http://www.w3.org/2000/svg\" height=\"24px\"viewBox=\"0 0 24 24\"\n",
              "       width=\"24px\">\n",
              "    <path d=\"M0 0h24v24H0V0z\" fill=\"none\"/>\n",
              "    <path d=\"M18.56 5.44l.94 2.06.94-2.06 2.06-.94-2.06-.94-.94-2.06-.94 2.06-2.06.94zm-11 1L8.5 8.5l.94-2.06 2.06-.94-2.06-.94L8.5 2.5l-.94 2.06-2.06.94zm10 10l.94 2.06.94-2.06 2.06-.94-2.06-.94-.94-2.06-.94 2.06-2.06.94z\"/><path d=\"M17.41 7.96l-1.37-1.37c-.4-.4-.92-.59-1.43-.59-.52 0-1.04.2-1.43.59L10.3 9.45l-7.72 7.72c-.78.78-.78 2.05 0 2.83L4 21.41c.39.39.9.59 1.41.59.51 0 1.02-.2 1.41-.59l7.78-7.78 2.81-2.81c.8-.78.8-2.07 0-2.86zM5.41 20L4 18.59l7.72-7.72 1.47 1.35L5.41 20z\"/>\n",
              "  </svg>\n",
              "      </button>\n",
              "      \n",
              "  <style>\n",
              "    .colab-df-container {\n",
              "      display:flex;\n",
              "      flex-wrap:wrap;\n",
              "      gap: 12px;\n",
              "    }\n",
              "\n",
              "    .colab-df-convert {\n",
              "      background-color: #E8F0FE;\n",
              "      border: none;\n",
              "      border-radius: 50%;\n",
              "      cursor: pointer;\n",
              "      display: none;\n",
              "      fill: #1967D2;\n",
              "      height: 32px;\n",
              "      padding: 0 0 0 0;\n",
              "      width: 32px;\n",
              "    }\n",
              "\n",
              "    .colab-df-convert:hover {\n",
              "      background-color: #E2EBFA;\n",
              "      box-shadow: 0px 1px 2px rgba(60, 64, 67, 0.3), 0px 1px 3px 1px rgba(60, 64, 67, 0.15);\n",
              "      fill: #174EA6;\n",
              "    }\n",
              "\n",
              "    [theme=dark] .colab-df-convert {\n",
              "      background-color: #3B4455;\n",
              "      fill: #D2E3FC;\n",
              "    }\n",
              "\n",
              "    [theme=dark] .colab-df-convert:hover {\n",
              "      background-color: #434B5C;\n",
              "      box-shadow: 0px 1px 3px 1px rgba(0, 0, 0, 0.15);\n",
              "      filter: drop-shadow(0px 1px 2px rgba(0, 0, 0, 0.3));\n",
              "      fill: #FFFFFF;\n",
              "    }\n",
              "  </style>\n",
              "\n",
              "      <script>\n",
              "        const buttonEl =\n",
              "          document.querySelector('#df-6173cb37-f385-4492-8b0a-08a0ea4bd57a button.colab-df-convert');\n",
              "        buttonEl.style.display =\n",
              "          google.colab.kernel.accessAllowed ? 'block' : 'none';\n",
              "\n",
              "        async function convertToInteractive(key) {\n",
              "          const element = document.querySelector('#df-6173cb37-f385-4492-8b0a-08a0ea4bd57a');\n",
              "          const dataTable =\n",
              "            await google.colab.kernel.invokeFunction('convertToInteractive',\n",
              "                                                     [key], {});\n",
              "          if (!dataTable) return;\n",
              "\n",
              "          const docLinkHtml = 'Like what you see? Visit the ' +\n",
              "            '<a target=\"_blank\" href=https://colab.research.google.com/notebooks/data_table.ipynb>data table notebook</a>'\n",
              "            + ' to learn more about interactive tables.';\n",
              "          element.innerHTML = '';\n",
              "          dataTable['output_type'] = 'display_data';\n",
              "          await google.colab.output.renderOutput(dataTable, element);\n",
              "          const docLink = document.createElement('div');\n",
              "          docLink.innerHTML = docLinkHtml;\n",
              "          element.appendChild(docLink);\n",
              "        }\n",
              "      </script>\n",
              "    </div>\n",
              "  </div>\n",
              "  "
            ]
          },
          "metadata": {},
          "execution_count": 33
        }
      ]
    },
    {
      "cell_type": "code",
      "source": [
        "# y 전처리 : One-hot Encoding\n",
        "import numpy as np"
      ],
      "metadata": {
        "id": "ILgAEexxThmr"
      },
      "execution_count": 36,
      "outputs": []
    },
    {
      "cell_type": "code",
      "source": [
        "class_n = len(np.unique(train_y))"
      ],
      "metadata": {
        "id": "VapXIreQTlNp"
      },
      "execution_count": 39,
      "outputs": []
    },
    {
      "cell_type": "code",
      "source": [
        "from tensorflow.keras.utils import to_categorical"
      ],
      "metadata": {
        "id": "QHOidRTVTzcd"
      },
      "execution_count": 40,
      "outputs": []
    },
    {
      "cell_type": "code",
      "source": [
        "train_y = to_categorical(train_y, class_n)\n",
        "test_y = to_categorical(test_y, class_n)"
      ],
      "metadata": {
        "id": "6cHaUF-TT2rn"
      },
      "execution_count": 41,
      "outputs": []
    },
    {
      "cell_type": "code",
      "source": [
        "train_x.shape, train_y.shape"
      ],
      "metadata": {
        "colab": {
          "base_uri": "https://localhost:8080/"
        },
        "id": "Yz7WHx5tT9bA",
        "outputId": "5729e75f-6f3b-4c5e-938a-1b28a5ecc432"
      },
      "execution_count": 42,
      "outputs": [
        {
          "output_type": "execute_result",
          "data": {
            "text/plain": [
              "((160, 13), (160, 3))"
            ]
          },
          "metadata": {},
          "execution_count": 42
        }
      ]
    },
    {
      "cell_type": "code",
      "source": [
        "## Functional API\n",
        "import tensorflow as tf\n",
        "from tensorflow import keras\n",
        "\n",
        "from tensorflow.keras.backend import clear_session\n",
        "from tensorflow.keras.models import Model\n",
        "from tensorflow.keras.layers import Input, Dense"
      ],
      "metadata": {
        "id": "_UT3UMNHT-vV"
      },
      "execution_count": 46,
      "outputs": []
    },
    {
      "cell_type": "code",
      "source": [
        "# 클리어 세션\n",
        "clear_session()\n",
        "\n",
        "# 사슬처럼 엮기\n",
        "il = Input(shape=(13,))\n",
        "hl = Dense(64, activation='relu')(il)\n",
        "hl = Dense(64, activation='relu')(hl)\n",
        "ol = Dense(3, activation='softmax')(hl)\n",
        "\n",
        "# 모델의 시작과 끝 지정\n",
        "model = Model(il, ol)\n",
        "\n",
        "# 컴파일\n",
        "model.compile(loss=keras.losses.categorical_crossentropy, metrics=['accuracy'],\n",
        "              optimizer='adam')\n",
        "\n",
        "# 요약\n",
        "model.summary()"
      ],
      "metadata": {
        "colab": {
          "base_uri": "https://localhost:8080/"
        },
        "id": "GPcCRGa8U4Nz",
        "outputId": "28eb7e54-a419-4a07-b7d7-c6fc74179a78"
      },
      "execution_count": 60,
      "outputs": [
        {
          "output_type": "stream",
          "name": "stdout",
          "text": [
            "Model: \"model\"\n",
            "_________________________________________________________________\n",
            " Layer (type)                Output Shape              Param #   \n",
            "=================================================================\n",
            " input_1 (InputLayer)        [(None, 13)]              0         \n",
            "                                                                 \n",
            " dense (Dense)               (None, 64)                896       \n",
            "                                                                 \n",
            " dense_1 (Dense)             (None, 64)                4160      \n",
            "                                                                 \n",
            " dense_2 (Dense)             (None, 3)                 195       \n",
            "                                                                 \n",
            "=================================================================\n",
            "Total params: 5,251\n",
            "Trainable params: 5,251\n",
            "Non-trainable params: 0\n",
            "_________________________________________________________________\n"
          ]
        }
      ]
    },
    {
      "cell_type": "code",
      "source": [
        "# 학습\n",
        "from tensorflow.keras.callbacks import EarlyStopping"
      ],
      "metadata": {
        "id": "SQhxjkRKVjhD"
      },
      "execution_count": 61,
      "outputs": []
    },
    {
      "cell_type": "code",
      "source": [
        "es = EarlyStopping(monitor='val_loss',\n",
        "                   min_delta=0,\n",
        "                   verbose=1,\n",
        "                   patience=5,\n",
        "                   restore_best_weights=True)"
      ],
      "metadata": {
        "id": "GFehZ-6VVsHt"
      },
      "execution_count": 62,
      "outputs": []
    },
    {
      "cell_type": "code",
      "source": [
        "## 히든 레이어 없이 학습\n",
        "\n",
        "model.fit(train_x_mm, train_y, validation_split=0.1, callbacks=[es],\n",
        "          epochs=100, verbose=1)"
      ],
      "metadata": {
        "colab": {
          "base_uri": "https://localhost:8080/"
        },
        "id": "EFN7EXLyV2oY",
        "outputId": "302b976d-809d-436b-c265-7ada011ebcd6"
      },
      "execution_count": 59,
      "outputs": [
        {
          "output_type": "stream",
          "name": "stdout",
          "text": [
            "Epoch 1/100\n",
            "5/5 [==============================] - 1s 43ms/step - loss: 1.1092 - accuracy: 0.3194 - val_loss: 0.9524 - val_accuracy: 0.5000\n",
            "Epoch 2/100\n",
            "5/5 [==============================] - 0s 8ms/step - loss: 1.0982 - accuracy: 0.3194 - val_loss: 0.9498 - val_accuracy: 0.5000\n",
            "Epoch 3/100\n",
            "5/5 [==============================] - 0s 13ms/step - loss: 1.0874 - accuracy: 0.3264 - val_loss: 0.9473 - val_accuracy: 0.5000\n",
            "Epoch 4/100\n",
            "5/5 [==============================] - 0s 8ms/step - loss: 1.0775 - accuracy: 0.3264 - val_loss: 0.9450 - val_accuracy: 0.5000\n",
            "Epoch 5/100\n",
            "5/5 [==============================] - 0s 7ms/step - loss: 1.0684 - accuracy: 0.3264 - val_loss: 0.9429 - val_accuracy: 0.5000\n",
            "Epoch 6/100\n",
            "5/5 [==============================] - 0s 8ms/step - loss: 1.0598 - accuracy: 0.3264 - val_loss: 0.9411 - val_accuracy: 0.5000\n",
            "Epoch 7/100\n",
            "5/5 [==============================] - 0s 11ms/step - loss: 1.0519 - accuracy: 0.3333 - val_loss: 0.9396 - val_accuracy: 0.5000\n",
            "Epoch 8/100\n",
            "5/5 [==============================] - 0s 9ms/step - loss: 1.0435 - accuracy: 0.3403 - val_loss: 0.9379 - val_accuracy: 0.5000\n",
            "Epoch 9/100\n",
            "5/5 [==============================] - 0s 9ms/step - loss: 1.0363 - accuracy: 0.3472 - val_loss: 0.9362 - val_accuracy: 0.5000\n",
            "Epoch 10/100\n",
            "5/5 [==============================] - 0s 13ms/step - loss: 1.0288 - accuracy: 0.3611 - val_loss: 0.9343 - val_accuracy: 0.5000\n",
            "Epoch 11/100\n",
            "5/5 [==============================] - 0s 10ms/step - loss: 1.0223 - accuracy: 0.3611 - val_loss: 0.9326 - val_accuracy: 0.5000\n",
            "Epoch 12/100\n",
            "5/5 [==============================] - 0s 9ms/step - loss: 1.0160 - accuracy: 0.3819 - val_loss: 0.9310 - val_accuracy: 0.5000\n",
            "Epoch 13/100\n",
            "5/5 [==============================] - 0s 8ms/step - loss: 1.0094 - accuracy: 0.3681 - val_loss: 0.9294 - val_accuracy: 0.5000\n",
            "Epoch 14/100\n",
            "5/5 [==============================] - 0s 8ms/step - loss: 1.0038 - accuracy: 0.3750 - val_loss: 0.9280 - val_accuracy: 0.5000\n",
            "Epoch 15/100\n",
            "5/5 [==============================] - 0s 9ms/step - loss: 0.9977 - accuracy: 0.3750 - val_loss: 0.9262 - val_accuracy: 0.5000\n",
            "Epoch 16/100\n",
            "5/5 [==============================] - 0s 8ms/step - loss: 0.9923 - accuracy: 0.3750 - val_loss: 0.9242 - val_accuracy: 0.5000\n",
            "Epoch 17/100\n",
            "5/5 [==============================] - 0s 8ms/step - loss: 0.9868 - accuracy: 0.4028 - val_loss: 0.9222 - val_accuracy: 0.5000\n",
            "Epoch 18/100\n",
            "5/5 [==============================] - 0s 8ms/step - loss: 0.9816 - accuracy: 0.4167 - val_loss: 0.9201 - val_accuracy: 0.5000\n",
            "Epoch 19/100\n",
            "5/5 [==============================] - 0s 8ms/step - loss: 0.9763 - accuracy: 0.4167 - val_loss: 0.9176 - val_accuracy: 0.5000\n",
            "Epoch 20/100\n",
            "5/5 [==============================] - 0s 8ms/step - loss: 0.9711 - accuracy: 0.4375 - val_loss: 0.9150 - val_accuracy: 0.5000\n",
            "Epoch 21/100\n",
            "5/5 [==============================] - 0s 8ms/step - loss: 0.9663 - accuracy: 0.4444 - val_loss: 0.9127 - val_accuracy: 0.5000\n",
            "Epoch 22/100\n",
            "5/5 [==============================] - 0s 8ms/step - loss: 0.9614 - accuracy: 0.4653 - val_loss: 0.9100 - val_accuracy: 0.5625\n",
            "Epoch 23/100\n",
            "5/5 [==============================] - 0s 8ms/step - loss: 0.9561 - accuracy: 0.4653 - val_loss: 0.9067 - val_accuracy: 0.5625\n",
            "Epoch 24/100\n",
            "5/5 [==============================] - 0s 8ms/step - loss: 0.9515 - accuracy: 0.4722 - val_loss: 0.9039 - val_accuracy: 0.5000\n",
            "Epoch 25/100\n",
            "5/5 [==============================] - 0s 8ms/step - loss: 0.9467 - accuracy: 0.4722 - val_loss: 0.9017 - val_accuracy: 0.5000\n",
            "Epoch 26/100\n",
            "5/5 [==============================] - 0s 8ms/step - loss: 0.9419 - accuracy: 0.4792 - val_loss: 0.8992 - val_accuracy: 0.5000\n",
            "Epoch 27/100\n",
            "5/5 [==============================] - 0s 9ms/step - loss: 0.9371 - accuracy: 0.4792 - val_loss: 0.8964 - val_accuracy: 0.5000\n",
            "Epoch 28/100\n",
            "5/5 [==============================] - 0s 9ms/step - loss: 0.9325 - accuracy: 0.4931 - val_loss: 0.8936 - val_accuracy: 0.5625\n",
            "Epoch 29/100\n",
            "5/5 [==============================] - 0s 9ms/step - loss: 0.9281 - accuracy: 0.4931 - val_loss: 0.8902 - val_accuracy: 0.5625\n",
            "Epoch 30/100\n",
            "5/5 [==============================] - 0s 8ms/step - loss: 0.9234 - accuracy: 0.4861 - val_loss: 0.8868 - val_accuracy: 0.5625\n",
            "Epoch 31/100\n",
            "5/5 [==============================] - 0s 8ms/step - loss: 0.9190 - accuracy: 0.5069 - val_loss: 0.8831 - val_accuracy: 0.5625\n",
            "Epoch 32/100\n",
            "5/5 [==============================] - 0s 8ms/step - loss: 0.9145 - accuracy: 0.5208 - val_loss: 0.8796 - val_accuracy: 0.5625\n",
            "Epoch 33/100\n",
            "5/5 [==============================] - 0s 9ms/step - loss: 0.9102 - accuracy: 0.5278 - val_loss: 0.8756 - val_accuracy: 0.5625\n",
            "Epoch 34/100\n",
            "5/5 [==============================] - 0s 8ms/step - loss: 0.9060 - accuracy: 0.5417 - val_loss: 0.8725 - val_accuracy: 0.6250\n",
            "Epoch 35/100\n",
            "5/5 [==============================] - 0s 8ms/step - loss: 0.9016 - accuracy: 0.5625 - val_loss: 0.8691 - val_accuracy: 0.6250\n",
            "Epoch 36/100\n",
            "5/5 [==============================] - 0s 8ms/step - loss: 0.8973 - accuracy: 0.5625 - val_loss: 0.8659 - val_accuracy: 0.6875\n",
            "Epoch 37/100\n",
            "5/5 [==============================] - 0s 8ms/step - loss: 0.8928 - accuracy: 0.5694 - val_loss: 0.8625 - val_accuracy: 0.6875\n",
            "Epoch 38/100\n",
            "5/5 [==============================] - 0s 8ms/step - loss: 0.8886 - accuracy: 0.5833 - val_loss: 0.8598 - val_accuracy: 0.6875\n",
            "Epoch 39/100\n",
            "5/5 [==============================] - 0s 10ms/step - loss: 0.8844 - accuracy: 0.5903 - val_loss: 0.8572 - val_accuracy: 0.6875\n",
            "Epoch 40/100\n",
            "5/5 [==============================] - 0s 8ms/step - loss: 0.8802 - accuracy: 0.6111 - val_loss: 0.8541 - val_accuracy: 0.7500\n",
            "Epoch 41/100\n",
            "5/5 [==============================] - 0s 9ms/step - loss: 0.8761 - accuracy: 0.6250 - val_loss: 0.8510 - val_accuracy: 0.7500\n",
            "Epoch 42/100\n",
            "5/5 [==============================] - 0s 8ms/step - loss: 0.8721 - accuracy: 0.6250 - val_loss: 0.8479 - val_accuracy: 0.7500\n",
            "Epoch 43/100\n",
            "5/5 [==============================] - 0s 9ms/step - loss: 0.8680 - accuracy: 0.6319 - val_loss: 0.8446 - val_accuracy: 0.7500\n",
            "Epoch 44/100\n",
            "5/5 [==============================] - 0s 8ms/step - loss: 0.8638 - accuracy: 0.6458 - val_loss: 0.8411 - val_accuracy: 0.7500\n",
            "Epoch 45/100\n",
            "5/5 [==============================] - 0s 9ms/step - loss: 0.8600 - accuracy: 0.6458 - val_loss: 0.8376 - val_accuracy: 0.7500\n",
            "Epoch 46/100\n",
            "5/5 [==============================] - 0s 8ms/step - loss: 0.8559 - accuracy: 0.6458 - val_loss: 0.8333 - val_accuracy: 0.7500\n",
            "Epoch 47/100\n",
            "5/5 [==============================] - 0s 8ms/step - loss: 0.8522 - accuracy: 0.6528 - val_loss: 0.8291 - val_accuracy: 0.7500\n",
            "Epoch 48/100\n",
            "5/5 [==============================] - 0s 8ms/step - loss: 0.8481 - accuracy: 0.6597 - val_loss: 0.8253 - val_accuracy: 0.7500\n",
            "Epoch 49/100\n",
            "5/5 [==============================] - 0s 8ms/step - loss: 0.8443 - accuracy: 0.6667 - val_loss: 0.8214 - val_accuracy: 0.7500\n",
            "Epoch 50/100\n",
            "5/5 [==============================] - 0s 9ms/step - loss: 0.8405 - accuracy: 0.6667 - val_loss: 0.8179 - val_accuracy: 0.7500\n",
            "Epoch 51/100\n",
            "5/5 [==============================] - 0s 10ms/step - loss: 0.8367 - accuracy: 0.6667 - val_loss: 0.8140 - val_accuracy: 0.7500\n",
            "Epoch 52/100\n",
            "5/5 [==============================] - 0s 9ms/step - loss: 0.8328 - accuracy: 0.6806 - val_loss: 0.8107 - val_accuracy: 0.8125\n",
            "Epoch 53/100\n",
            "5/5 [==============================] - 0s 8ms/step - loss: 0.8291 - accuracy: 0.6944 - val_loss: 0.8072 - val_accuracy: 0.8125\n",
            "Epoch 54/100\n",
            "5/5 [==============================] - 0s 8ms/step - loss: 0.8252 - accuracy: 0.7014 - val_loss: 0.8049 - val_accuracy: 0.8125\n",
            "Epoch 55/100\n",
            "5/5 [==============================] - 0s 8ms/step - loss: 0.8217 - accuracy: 0.7222 - val_loss: 0.8024 - val_accuracy: 0.8125\n",
            "Epoch 56/100\n",
            "5/5 [==============================] - 0s 9ms/step - loss: 0.8181 - accuracy: 0.7292 - val_loss: 0.7996 - val_accuracy: 0.8125\n",
            "Epoch 57/100\n",
            "5/5 [==============================] - 0s 8ms/step - loss: 0.8143 - accuracy: 0.7500 - val_loss: 0.7958 - val_accuracy: 0.8125\n",
            "Epoch 58/100\n",
            "5/5 [==============================] - 0s 8ms/step - loss: 0.8107 - accuracy: 0.7569 - val_loss: 0.7926 - val_accuracy: 0.8125\n",
            "Epoch 59/100\n",
            "5/5 [==============================] - 0s 8ms/step - loss: 0.8072 - accuracy: 0.7778 - val_loss: 0.7897 - val_accuracy: 0.8125\n",
            "Epoch 60/100\n",
            "5/5 [==============================] - 0s 9ms/step - loss: 0.8035 - accuracy: 0.7778 - val_loss: 0.7865 - val_accuracy: 0.8125\n",
            "Epoch 61/100\n",
            "5/5 [==============================] - 0s 10ms/step - loss: 0.8000 - accuracy: 0.7847 - val_loss: 0.7834 - val_accuracy: 0.8125\n",
            "Epoch 62/100\n",
            "5/5 [==============================] - 0s 9ms/step - loss: 0.7964 - accuracy: 0.7917 - val_loss: 0.7803 - val_accuracy: 0.8750\n",
            "Epoch 63/100\n",
            "5/5 [==============================] - 0s 8ms/step - loss: 0.7930 - accuracy: 0.7986 - val_loss: 0.7777 - val_accuracy: 0.8750\n",
            "Epoch 64/100\n",
            "5/5 [==============================] - 0s 8ms/step - loss: 0.7895 - accuracy: 0.7917 - val_loss: 0.7740 - val_accuracy: 0.8750\n",
            "Epoch 65/100\n",
            "5/5 [==============================] - 0s 10ms/step - loss: 0.7859 - accuracy: 0.7986 - val_loss: 0.7711 - val_accuracy: 0.8750\n",
            "Epoch 66/100\n",
            "5/5 [==============================] - 0s 9ms/step - loss: 0.7825 - accuracy: 0.8125 - val_loss: 0.7676 - val_accuracy: 0.8750\n",
            "Epoch 67/100\n",
            "5/5 [==============================] - 0s 8ms/step - loss: 0.7791 - accuracy: 0.8125 - val_loss: 0.7642 - val_accuracy: 0.8750\n",
            "Epoch 68/100\n",
            "5/5 [==============================] - 0s 8ms/step - loss: 0.7756 - accuracy: 0.8194 - val_loss: 0.7603 - val_accuracy: 0.8750\n",
            "Epoch 69/100\n",
            "5/5 [==============================] - 0s 13ms/step - loss: 0.7724 - accuracy: 0.8194 - val_loss: 0.7560 - val_accuracy: 0.8750\n",
            "Epoch 70/100\n",
            "5/5 [==============================] - 0s 8ms/step - loss: 0.7689 - accuracy: 0.8194 - val_loss: 0.7522 - val_accuracy: 0.8750\n",
            "Epoch 71/100\n",
            "5/5 [==============================] - 0s 10ms/step - loss: 0.7657 - accuracy: 0.8194 - val_loss: 0.7480 - val_accuracy: 0.8750\n",
            "Epoch 72/100\n",
            "5/5 [==============================] - 0s 11ms/step - loss: 0.7625 - accuracy: 0.8194 - val_loss: 0.7440 - val_accuracy: 0.8750\n",
            "Epoch 73/100\n",
            "5/5 [==============================] - 0s 9ms/step - loss: 0.7591 - accuracy: 0.8194 - val_loss: 0.7404 - val_accuracy: 0.8750\n",
            "Epoch 74/100\n",
            "5/5 [==============================] - 0s 9ms/step - loss: 0.7560 - accuracy: 0.8264 - val_loss: 0.7378 - val_accuracy: 0.8750\n",
            "Epoch 75/100\n",
            "5/5 [==============================] - 0s 8ms/step - loss: 0.7527 - accuracy: 0.8264 - val_loss: 0.7348 - val_accuracy: 0.8750\n",
            "Epoch 76/100\n",
            "5/5 [==============================] - 0s 8ms/step - loss: 0.7495 - accuracy: 0.8264 - val_loss: 0.7316 - val_accuracy: 0.8750\n",
            "Epoch 77/100\n",
            "5/5 [==============================] - 0s 9ms/step - loss: 0.7463 - accuracy: 0.8333 - val_loss: 0.7291 - val_accuracy: 0.8750\n",
            "Epoch 78/100\n",
            "5/5 [==============================] - 0s 10ms/step - loss: 0.7432 - accuracy: 0.8333 - val_loss: 0.7257 - val_accuracy: 0.8750\n",
            "Epoch 79/100\n",
            "5/5 [==============================] - 0s 10ms/step - loss: 0.7400 - accuracy: 0.8333 - val_loss: 0.7224 - val_accuracy: 0.8750\n",
            "Epoch 80/100\n",
            "5/5 [==============================] - 0s 8ms/step - loss: 0.7369 - accuracy: 0.8333 - val_loss: 0.7187 - val_accuracy: 0.8750\n",
            "Epoch 81/100\n",
            "5/5 [==============================] - 0s 10ms/step - loss: 0.7338 - accuracy: 0.8333 - val_loss: 0.7160 - val_accuracy: 0.8750\n",
            "Epoch 82/100\n",
            "5/5 [==============================] - 0s 9ms/step - loss: 0.7308 - accuracy: 0.8472 - val_loss: 0.7137 - val_accuracy: 0.8750\n",
            "Epoch 83/100\n",
            "5/5 [==============================] - 0s 8ms/step - loss: 0.7278 - accuracy: 0.8542 - val_loss: 0.7104 - val_accuracy: 0.8750\n",
            "Epoch 84/100\n",
            "5/5 [==============================] - 0s 8ms/step - loss: 0.7246 - accuracy: 0.8611 - val_loss: 0.7075 - val_accuracy: 0.8750\n",
            "Epoch 85/100\n",
            "5/5 [==============================] - 0s 9ms/step - loss: 0.7216 - accuracy: 0.8681 - val_loss: 0.7048 - val_accuracy: 0.8750\n",
            "Epoch 86/100\n",
            "5/5 [==============================] - 0s 9ms/step - loss: 0.7188 - accuracy: 0.8681 - val_loss: 0.7030 - val_accuracy: 0.8750\n",
            "Epoch 87/100\n",
            "5/5 [==============================] - 0s 9ms/step - loss: 0.7156 - accuracy: 0.8750 - val_loss: 0.7000 - val_accuracy: 0.8750\n",
            "Epoch 88/100\n",
            "5/5 [==============================] - 0s 9ms/step - loss: 0.7127 - accuracy: 0.8819 - val_loss: 0.6973 - val_accuracy: 0.8750\n",
            "Epoch 89/100\n",
            "5/5 [==============================] - 0s 9ms/step - loss: 0.7097 - accuracy: 0.8889 - val_loss: 0.6945 - val_accuracy: 0.8750\n",
            "Epoch 90/100\n",
            "5/5 [==============================] - 0s 9ms/step - loss: 0.7068 - accuracy: 0.8958 - val_loss: 0.6919 - val_accuracy: 0.8750\n",
            "Epoch 91/100\n",
            "5/5 [==============================] - 0s 9ms/step - loss: 0.7038 - accuracy: 0.8958 - val_loss: 0.6897 - val_accuracy: 0.8750\n",
            "Epoch 92/100\n",
            "5/5 [==============================] - 0s 10ms/step - loss: 0.7010 - accuracy: 0.8958 - val_loss: 0.6870 - val_accuracy: 0.8750\n",
            "Epoch 93/100\n",
            "5/5 [==============================] - 0s 11ms/step - loss: 0.6982 - accuracy: 0.8958 - val_loss: 0.6844 - val_accuracy: 0.8750\n",
            "Epoch 94/100\n",
            "5/5 [==============================] - 0s 9ms/step - loss: 0.6953 - accuracy: 0.8958 - val_loss: 0.6813 - val_accuracy: 0.8750\n",
            "Epoch 95/100\n",
            "5/5 [==============================] - 0s 10ms/step - loss: 0.6925 - accuracy: 0.9028 - val_loss: 0.6783 - val_accuracy: 0.8750\n",
            "Epoch 96/100\n",
            "5/5 [==============================] - 0s 10ms/step - loss: 0.6897 - accuracy: 0.9097 - val_loss: 0.6760 - val_accuracy: 0.8750\n",
            "Epoch 97/100\n",
            "5/5 [==============================] - 0s 8ms/step - loss: 0.6868 - accuracy: 0.9097 - val_loss: 0.6736 - val_accuracy: 0.8750\n",
            "Epoch 98/100\n",
            "5/5 [==============================] - 0s 10ms/step - loss: 0.6841 - accuracy: 0.9097 - val_loss: 0.6708 - val_accuracy: 0.8750\n",
            "Epoch 99/100\n",
            "5/5 [==============================] - 0s 9ms/step - loss: 0.6814 - accuracy: 0.9097 - val_loss: 0.6679 - val_accuracy: 0.8750\n",
            "Epoch 100/100\n",
            "5/5 [==============================] - 0s 8ms/step - loss: 0.6786 - accuracy: 0.9097 - val_loss: 0.6649 - val_accuracy: 0.8750\n"
          ]
        },
        {
          "output_type": "execute_result",
          "data": {
            "text/plain": [
              "<keras.callbacks.History at 0x7fc01d7ecfd0>"
            ]
          },
          "metadata": {},
          "execution_count": 59
        }
      ]
    },
    {
      "cell_type": "code",
      "source": [
        "## 히든 레이어 추가한 학습\n",
        "\n",
        "model.fit(train_x_mm, train_y, validation_split=0.1, callbacks=[es],\n",
        "          epochs=100, verbose=1)"
      ],
      "metadata": {
        "colab": {
          "base_uri": "https://localhost:8080/"
        },
        "id": "EdMAoI8wWe_2",
        "outputId": "a458690b-dcc4-49dd-b188-43e153327915"
      },
      "execution_count": 63,
      "outputs": [
        {
          "output_type": "stream",
          "name": "stdout",
          "text": [
            "Epoch 1/100\n",
            "5/5 [==============================] - 1s 48ms/step - loss: 1.1061 - accuracy: 0.4236 - val_loss: 1.0893 - val_accuracy: 0.3125\n",
            "Epoch 2/100\n",
            "5/5 [==============================] - 0s 10ms/step - loss: 1.0398 - accuracy: 0.4514 - val_loss: 1.0047 - val_accuracy: 0.4375\n",
            "Epoch 3/100\n",
            "5/5 [==============================] - 0s 10ms/step - loss: 0.9805 - accuracy: 0.6667 - val_loss: 0.9304 - val_accuracy: 0.8125\n",
            "Epoch 4/100\n",
            "5/5 [==============================] - 0s 10ms/step - loss: 0.9259 - accuracy: 0.8611 - val_loss: 0.8689 - val_accuracy: 0.8750\n",
            "Epoch 5/100\n",
            "5/5 [==============================] - 0s 10ms/step - loss: 0.8709 - accuracy: 0.9236 - val_loss: 0.8084 - val_accuracy: 1.0000\n",
            "Epoch 6/100\n",
            "5/5 [==============================] - 0s 8ms/step - loss: 0.8142 - accuracy: 0.9514 - val_loss: 0.7509 - val_accuracy: 0.9375\n",
            "Epoch 7/100\n",
            "5/5 [==============================] - 0s 8ms/step - loss: 0.7575 - accuracy: 0.9375 - val_loss: 0.6945 - val_accuracy: 0.9375\n",
            "Epoch 8/100\n",
            "5/5 [==============================] - 0s 10ms/step - loss: 0.6967 - accuracy: 0.9444 - val_loss: 0.6290 - val_accuracy: 1.0000\n",
            "Epoch 9/100\n",
            "5/5 [==============================] - 0s 9ms/step - loss: 0.6357 - accuracy: 0.9514 - val_loss: 0.5691 - val_accuracy: 1.0000\n",
            "Epoch 10/100\n",
            "5/5 [==============================] - 0s 9ms/step - loss: 0.5733 - accuracy: 0.9444 - val_loss: 0.5183 - val_accuracy: 0.9375\n",
            "Epoch 11/100\n",
            "5/5 [==============================] - 0s 8ms/step - loss: 0.5131 - accuracy: 0.9444 - val_loss: 0.4541 - val_accuracy: 0.9375\n",
            "Epoch 12/100\n",
            "5/5 [==============================] - 0s 9ms/step - loss: 0.4556 - accuracy: 0.9514 - val_loss: 0.3986 - val_accuracy: 0.9375\n",
            "Epoch 13/100\n",
            "5/5 [==============================] - 0s 9ms/step - loss: 0.4048 - accuracy: 0.9583 - val_loss: 0.3533 - val_accuracy: 0.9375\n",
            "Epoch 14/100\n",
            "5/5 [==============================] - 0s 9ms/step - loss: 0.3590 - accuracy: 0.9583 - val_loss: 0.3113 - val_accuracy: 0.9375\n",
            "Epoch 15/100\n",
            "5/5 [==============================] - 0s 9ms/step - loss: 0.3192 - accuracy: 0.9514 - val_loss: 0.2798 - val_accuracy: 0.9375\n",
            "Epoch 16/100\n",
            "5/5 [==============================] - 0s 11ms/step - loss: 0.2859 - accuracy: 0.9583 - val_loss: 0.2385 - val_accuracy: 0.9375\n",
            "Epoch 17/100\n",
            "5/5 [==============================] - 0s 9ms/step - loss: 0.2562 - accuracy: 0.9653 - val_loss: 0.2139 - val_accuracy: 0.9375\n",
            "Epoch 18/100\n",
            "5/5 [==============================] - 0s 13ms/step - loss: 0.2319 - accuracy: 0.9722 - val_loss: 0.1848 - val_accuracy: 1.0000\n",
            "Epoch 19/100\n",
            "5/5 [==============================] - 0s 9ms/step - loss: 0.2110 - accuracy: 0.9653 - val_loss: 0.1600 - val_accuracy: 1.0000\n",
            "Epoch 20/100\n",
            "5/5 [==============================] - 0s 9ms/step - loss: 0.1935 - accuracy: 0.9722 - val_loss: 0.1514 - val_accuracy: 1.0000\n",
            "Epoch 21/100\n",
            "5/5 [==============================] - 0s 9ms/step - loss: 0.1833 - accuracy: 0.9722 - val_loss: 0.1518 - val_accuracy: 0.9375\n",
            "Epoch 22/100\n",
            "5/5 [==============================] - 0s 9ms/step - loss: 0.1674 - accuracy: 0.9722 - val_loss: 0.1154 - val_accuracy: 1.0000\n",
            "Epoch 23/100\n",
            "5/5 [==============================] - 0s 10ms/step - loss: 0.1547 - accuracy: 0.9792 - val_loss: 0.1067 - val_accuracy: 1.0000\n",
            "Epoch 24/100\n",
            "5/5 [==============================] - 0s 9ms/step - loss: 0.1426 - accuracy: 0.9861 - val_loss: 0.1113 - val_accuracy: 1.0000\n",
            "Epoch 25/100\n",
            "5/5 [==============================] - 0s 11ms/step - loss: 0.1366 - accuracy: 0.9861 - val_loss: 0.1027 - val_accuracy: 1.0000\n",
            "Epoch 26/100\n",
            "5/5 [==============================] - 0s 10ms/step - loss: 0.1248 - accuracy: 0.9861 - val_loss: 0.0789 - val_accuracy: 1.0000\n",
            "Epoch 27/100\n",
            "5/5 [==============================] - 0s 8ms/step - loss: 0.1215 - accuracy: 0.9861 - val_loss: 0.0711 - val_accuracy: 1.0000\n",
            "Epoch 28/100\n",
            "5/5 [==============================] - 0s 9ms/step - loss: 0.1163 - accuracy: 0.9792 - val_loss: 0.0674 - val_accuracy: 1.0000\n",
            "Epoch 29/100\n",
            "5/5 [==============================] - 0s 9ms/step - loss: 0.1087 - accuracy: 0.9861 - val_loss: 0.0805 - val_accuracy: 1.0000\n",
            "Epoch 30/100\n",
            "5/5 [==============================] - 0s 8ms/step - loss: 0.1030 - accuracy: 0.9861 - val_loss: 0.0799 - val_accuracy: 1.0000\n",
            "Epoch 31/100\n",
            "5/5 [==============================] - 0s 8ms/step - loss: 0.0974 - accuracy: 0.9861 - val_loss: 0.0677 - val_accuracy: 1.0000\n",
            "Epoch 32/100\n",
            "5/5 [==============================] - 0s 8ms/step - loss: 0.0917 - accuracy: 0.9861 - val_loss: 0.0543 - val_accuracy: 1.0000\n",
            "Epoch 33/100\n",
            "5/5 [==============================] - 0s 8ms/step - loss: 0.0906 - accuracy: 0.9861 - val_loss: 0.0590 - val_accuracy: 1.0000\n",
            "Epoch 34/100\n",
            "5/5 [==============================] - 0s 9ms/step - loss: 0.0846 - accuracy: 0.9861 - val_loss: 0.0521 - val_accuracy: 1.0000\n",
            "Epoch 35/100\n",
            "5/5 [==============================] - 0s 8ms/step - loss: 0.0796 - accuracy: 0.9861 - val_loss: 0.0535 - val_accuracy: 1.0000\n",
            "Epoch 36/100\n",
            "5/5 [==============================] - 0s 9ms/step - loss: 0.0752 - accuracy: 0.9861 - val_loss: 0.0577 - val_accuracy: 1.0000\n",
            "Epoch 37/100\n",
            "5/5 [==============================] - 0s 9ms/step - loss: 0.0728 - accuracy: 0.9931 - val_loss: 0.0490 - val_accuracy: 1.0000\n",
            "Epoch 38/100\n",
            "5/5 [==============================] - 0s 10ms/step - loss: 0.0691 - accuracy: 0.9861 - val_loss: 0.0447 - val_accuracy: 1.0000\n",
            "Epoch 39/100\n",
            "5/5 [==============================] - 0s 10ms/step - loss: 0.0666 - accuracy: 0.9861 - val_loss: 0.0461 - val_accuracy: 1.0000\n",
            "Epoch 40/100\n",
            "5/5 [==============================] - 0s 9ms/step - loss: 0.0640 - accuracy: 0.9931 - val_loss: 0.0471 - val_accuracy: 1.0000\n",
            "Epoch 41/100\n",
            "5/5 [==============================] - 0s 9ms/step - loss: 0.0607 - accuracy: 0.9931 - val_loss: 0.0408 - val_accuracy: 1.0000\n",
            "Epoch 42/100\n",
            "5/5 [==============================] - 0s 8ms/step - loss: 0.0588 - accuracy: 0.9931 - val_loss: 0.0344 - val_accuracy: 1.0000\n",
            "Epoch 43/100\n",
            "5/5 [==============================] - 0s 11ms/step - loss: 0.0569 - accuracy: 1.0000 - val_loss: 0.0364 - val_accuracy: 1.0000\n",
            "Epoch 44/100\n",
            "5/5 [==============================] - 0s 10ms/step - loss: 0.0561 - accuracy: 0.9931 - val_loss: 0.0465 - val_accuracy: 1.0000\n",
            "Epoch 45/100\n",
            "5/5 [==============================] - 0s 11ms/step - loss: 0.0523 - accuracy: 0.9931 - val_loss: 0.0347 - val_accuracy: 1.0000\n",
            "Epoch 46/100\n",
            "5/5 [==============================] - 0s 8ms/step - loss: 0.0503 - accuracy: 1.0000 - val_loss: 0.0308 - val_accuracy: 1.0000\n",
            "Epoch 47/100\n",
            "5/5 [==============================] - 0s 9ms/step - loss: 0.0487 - accuracy: 1.0000 - val_loss: 0.0313 - val_accuracy: 1.0000\n",
            "Epoch 48/100\n",
            "5/5 [==============================] - 0s 9ms/step - loss: 0.0465 - accuracy: 1.0000 - val_loss: 0.0347 - val_accuracy: 1.0000\n",
            "Epoch 49/100\n",
            "5/5 [==============================] - 0s 8ms/step - loss: 0.0461 - accuracy: 0.9931 - val_loss: 0.0359 - val_accuracy: 1.0000\n",
            "Epoch 50/100\n",
            "5/5 [==============================] - 0s 11ms/step - loss: 0.0440 - accuracy: 0.9931 - val_loss: 0.0304 - val_accuracy: 1.0000\n",
            "Epoch 51/100\n",
            "5/5 [==============================] - 0s 8ms/step - loss: 0.0425 - accuracy: 1.0000 - val_loss: 0.0262 - val_accuracy: 1.0000\n",
            "Epoch 52/100\n",
            "5/5 [==============================] - 0s 9ms/step - loss: 0.0422 - accuracy: 1.0000 - val_loss: 0.0316 - val_accuracy: 1.0000\n",
            "Epoch 53/100\n",
            "5/5 [==============================] - 0s 8ms/step - loss: 0.0395 - accuracy: 1.0000 - val_loss: 0.0288 - val_accuracy: 1.0000\n",
            "Epoch 54/100\n",
            "5/5 [==============================] - 0s 8ms/step - loss: 0.0390 - accuracy: 1.0000 - val_loss: 0.0225 - val_accuracy: 1.0000\n",
            "Epoch 55/100\n",
            "5/5 [==============================] - 0s 8ms/step - loss: 0.0378 - accuracy: 1.0000 - val_loss: 0.0262 - val_accuracy: 1.0000\n",
            "Epoch 56/100\n",
            "5/5 [==============================] - 0s 8ms/step - loss: 0.0359 - accuracy: 1.0000 - val_loss: 0.0255 - val_accuracy: 1.0000\n",
            "Epoch 57/100\n",
            "5/5 [==============================] - 0s 8ms/step - loss: 0.0352 - accuracy: 1.0000 - val_loss: 0.0279 - val_accuracy: 1.0000\n",
            "Epoch 58/100\n",
            "5/5 [==============================] - 0s 10ms/step - loss: 0.0339 - accuracy: 1.0000 - val_loss: 0.0269 - val_accuracy: 1.0000\n",
            "Epoch 59/100\n",
            "1/5 [=====>........................] - ETA: 0s - loss: 0.0300 - accuracy: 1.0000Restoring model weights from the end of the best epoch: 54.\n",
            "5/5 [==============================] - 0s 10ms/step - loss: 0.0329 - accuracy: 1.0000 - val_loss: 0.0226 - val_accuracy: 1.0000\n",
            "Epoch 59: early stopping\n"
          ]
        },
        {
          "output_type": "execute_result",
          "data": {
            "text/plain": [
              "<keras.callbacks.History at 0x7fc01cf0bed0>"
            ]
          },
          "metadata": {},
          "execution_count": 63
        }
      ]
    },
    {
      "cell_type": "code",
      "source": [],
      "metadata": {
        "id": "HnQiz8cRV-Dy"
      },
      "execution_count": null,
      "outputs": []
    }
  ]
}