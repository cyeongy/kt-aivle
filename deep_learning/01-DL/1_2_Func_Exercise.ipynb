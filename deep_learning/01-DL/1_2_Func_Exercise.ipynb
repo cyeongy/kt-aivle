{
 "nbformat": 4,
 "nbformat_minor": 0,
 "metadata": {
  "colab": {
   "name": "1_2_Func_Exercise.ipynb",
   "provenance": [],
   "collapsed_sections": []
  },
  "kernelspec": {
   "name": "python3",
   "display_name": "Python 3"
  }
 },
 "cells": [
  {
   "cell_type": "markdown",
   "metadata": {
    "id": "keUh6GP3UUZK",
    "pycharm": {
     "name": "#%% md\n"
    }
   },
   "source": [
    "# Keras로 Linear&Logistic Regression 조금 더 맛보기"
   ]
  },
  {
   "cell_type": "code",
   "metadata": {
    "id": "hHMVH_IRUffh",
    "pycharm": {
     "name": "#%%\n"
    }
   },
   "source": [
    "import tensorflow as tf\n",
    "from tensorflow import keras\n",
    "\n",
    "import numpy as np\n",
    "import pandas as pd"
   ],
   "execution_count": null,
   "outputs": []
  },
  {
   "cell_type": "markdown",
   "metadata": {
    "id": "usKNktcHU7Ey",
    "pycharm": {
     "name": "#%% md\n"
    }
   },
   "source": [
    "# Linear Regression on 쬐금 더 어려운 데이터"
   ]
  },
  {
   "cell_type": "code",
   "metadata": {
    "id": "BVEo_dbtWYRw",
    "pycharm": {
     "name": "#%%\n"
    }
   },
   "source": [
    "from sklearn.datasets import load_boston"
   ],
   "execution_count": null,
   "outputs": []
  },
  {
   "cell_type": "code",
   "metadata": {
    "id": "bfEYfAjuWfYV",
    "pycharm": {
     "name": "#%%\n"
    }
   },
   "source": [
    "boston = load_boston()"
   ],
   "execution_count": null,
   "outputs": []
  },
  {
   "cell_type": "code",
   "metadata": {
    "id": "kIYkQ9CmWglQ",
    "pycharm": {
     "name": "#%%\n"
    }
   },
   "source": [
    "x = boston.data\n",
    "y = boston.target\n",
    "\n",
    "x.shape, y.shape"
   ],
   "execution_count": null,
   "outputs": []
  },
  {
   "cell_type": "code",
   "metadata": {
    "id": "wcp6Y_5LWiFz",
    "pycharm": {
     "name": "#%%\n"
    }
   },
   "source": [
    "\n",
    "\n",
    "\n",
    "\n"
   ],
   "execution_count": null,
   "outputs": []
  },
  {
   "cell_type": "code",
   "metadata": {
    "id": "txzwhxFlWoxF",
    "pycharm": {
     "name": "#%%\n"
    }
   },
   "source": [],
   "execution_count": null,
   "outputs": []
  },
  {
   "cell_type": "markdown",
   "metadata": {
    "id": "2WKWxkFcWuIS",
    "pycharm": {
     "name": "#%% md\n"
    }
   },
   "source": [
    "# Logistic Regression 쬐금 더 어려운 데이터"
   ]
  },
  {
   "cell_type": "code",
   "metadata": {
    "id": "tcpM1yMBXPMV",
    "pycharm": {
     "name": "#%%\n"
    }
   },
   "source": [
    "from sklearn.datasets import load_breast_cancer"
   ],
   "execution_count": null,
   "outputs": []
  },
  {
   "cell_type": "code",
   "metadata": {
    "id": "kywnQJlHXZCg",
    "pycharm": {
     "name": "#%%\n"
    }
   },
   "source": [
    "cancer = load_breast_cancer()"
   ],
   "execution_count": null,
   "outputs": []
  },
  {
   "cell_type": "code",
   "metadata": {
    "id": "Fbgs4YZrXcCB",
    "pycharm": {
     "name": "#%%\n"
    }
   },
   "source": [
    "x = cancer.data\n",
    "y = cancer.target\n",
    "\n",
    "# 모양 확인해볼 것"
   ],
   "execution_count": null,
   "outputs": []
  },
  {
   "cell_type": "code",
   "metadata": {
    "id": "8VXrsX4_Xgrl",
    "pycharm": {
     "name": "#%%\n"
    }
   },
   "source": [],
   "execution_count": null,
   "outputs": []
  },
  {
   "cell_type": "code",
   "metadata": {
    "id": "QWWM_b7UXhQT",
    "pycharm": {
     "name": "#%%\n"
    }
   },
   "source": [],
   "execution_count": null,
   "outputs": []
  }
 ]
}