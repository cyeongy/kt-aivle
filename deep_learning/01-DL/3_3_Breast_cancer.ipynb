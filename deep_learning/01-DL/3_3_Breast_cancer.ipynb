{
 "nbformat": 4,
 "nbformat_minor": 0,
 "metadata": {
  "colab": {
   "name": "3_4_Breast_cancer.ipynb",
   "provenance": [],
   "collapsed_sections": [],
   "toc_visible": true,
   "authorship_tag": "ABX9TyNctDA6m3ffhbx/UCRqylkH"
  },
  "kernelspec": {
   "name": "python3",
   "display_name": "Python 3"
  },
  "language_info": {
   "name": "python"
  }
 },
 "cells": [
  {
   "cell_type": "markdown",
   "source": [
    "# 유방암 종양 예측\n",
    "\n",
    "## 악성 종양인지, 양성 종양(정상)인지 예측"
   ],
   "metadata": {
    "id": "XZ7tAmJDypSo",
    "pycharm": {
     "name": "#%% md\n"
    }
   }
  },
  {
   "cell_type": "markdown",
   "source": [
    "## 데이터셋 불러오기\n",
    "\n",
    "* radius : 반경\n",
    "* texture : 질감\n",
    "* perimeter : 둘레\n",
    "* area : 면적\n",
    "* smoothness : 매끄러움\n",
    "* compactness : 조그만 정도\n",
    "* concavity : 윤곽의 오목함\n",
    "* concave points : 윤곽의 오목한 부분의 수\n",
    "* symmetry : 대칭\n",
    "* fractal dimension : 프랙탈 차원\n",
    "* target : Malignant-악성 종양 / Benign-양성 종양(정상)\n",
    "---\n",
    "* mean ~ : 데이터별 평균 값\n",
    "* ~ error : 데이터별 표준편차 값\n",
    "* worst ~ : 데이터별 가장 큰 3개의 평균으로 만든 값"
   ],
   "metadata": {
    "id": "lyYyOsXgy9Vx",
    "pycharm": {
     "name": "#%% md\n"
    }
   }
  },
  {
   "cell_type": "code",
   "source": [
    "import keras.backend\n",
    "import pandas as pd\n",
    "import numpy as np"
   ],
   "metadata": {
    "id": "9qac0OkvzCK3",
    "pycharm": {
     "name": "#%%\n"
    }
   },
   "execution_count": 1,
   "outputs": []
  },
  {
   "cell_type": "code",
   "source": [
    "data = pd.read_csv('https://raw.githubusercontent.com/DrKAI/dataset/main/breast_cancer.csv')\n",
    "\n",
    "data.head()"
   ],
   "metadata": {
    "id": "Lv7VQADpzH_W",
    "pycharm": {
     "name": "#%%\n"
    }
   },
   "execution_count": 2,
   "outputs": [
    {
     "data": {
      "text/plain": "   mean radius  mean texture  mean perimeter  mean area  mean smoothness  \\\n0        17.99         10.38          122.80     1001.0          0.11840   \n1        20.57         17.77          132.90     1326.0          0.08474   \n2        19.69         21.25          130.00     1203.0          0.10960   \n3        11.42         20.38           77.58      386.1          0.14250   \n4        20.29         14.34          135.10     1297.0          0.10030   \n\n   mean compactness  mean concavity  mean concave points  mean symmetry  \\\n0           0.27760          0.3001              0.14710         0.2419   \n1           0.07864          0.0869              0.07017         0.1812   \n2           0.15990          0.1974              0.12790         0.2069   \n3           0.28390          0.2414              0.10520         0.2597   \n4           0.13280          0.1980              0.10430         0.1809   \n\n   mean fractal dimension  ...  worst texture  worst perimeter  worst area  \\\n0                 0.07871  ...          17.33           184.60      2019.0   \n1                 0.05667  ...          23.41           158.80      1956.0   \n2                 0.05999  ...          25.53           152.50      1709.0   \n3                 0.09744  ...          26.50            98.87       567.7   \n4                 0.05883  ...          16.67           152.20      1575.0   \n\n   worst smoothness  worst compactness  worst concavity  worst concave points  \\\n0            0.1622             0.6656           0.7119                0.2654   \n1            0.1238             0.1866           0.2416                0.1860   \n2            0.1444             0.4245           0.4504                0.2430   \n3            0.2098             0.8663           0.6869                0.2575   \n4            0.1374             0.2050           0.4000                0.1625   \n\n   worst symmetry  worst fractal dimension     target  \n0          0.4601                  0.11890  Malignant  \n1          0.2750                  0.08902  Malignant  \n2          0.3613                  0.08758  Malignant  \n3          0.6638                  0.17300  Malignant  \n4          0.2364                  0.07678  Malignant  \n\n[5 rows x 31 columns]",
      "text/html": "<div>\n<style scoped>\n    .dataframe tbody tr th:only-of-type {\n        vertical-align: middle;\n    }\n\n    .dataframe tbody tr th {\n        vertical-align: top;\n    }\n\n    .dataframe thead th {\n        text-align: right;\n    }\n</style>\n<table border=\"1\" class=\"dataframe\">\n  <thead>\n    <tr style=\"text-align: right;\">\n      <th></th>\n      <th>mean radius</th>\n      <th>mean texture</th>\n      <th>mean perimeter</th>\n      <th>mean area</th>\n      <th>mean smoothness</th>\n      <th>mean compactness</th>\n      <th>mean concavity</th>\n      <th>mean concave points</th>\n      <th>mean symmetry</th>\n      <th>mean fractal dimension</th>\n      <th>...</th>\n      <th>worst texture</th>\n      <th>worst perimeter</th>\n      <th>worst area</th>\n      <th>worst smoothness</th>\n      <th>worst compactness</th>\n      <th>worst concavity</th>\n      <th>worst concave points</th>\n      <th>worst symmetry</th>\n      <th>worst fractal dimension</th>\n      <th>target</th>\n    </tr>\n  </thead>\n  <tbody>\n    <tr>\n      <th>0</th>\n      <td>17.99</td>\n      <td>10.38</td>\n      <td>122.80</td>\n      <td>1001.0</td>\n      <td>0.11840</td>\n      <td>0.27760</td>\n      <td>0.3001</td>\n      <td>0.14710</td>\n      <td>0.2419</td>\n      <td>0.07871</td>\n      <td>...</td>\n      <td>17.33</td>\n      <td>184.60</td>\n      <td>2019.0</td>\n      <td>0.1622</td>\n      <td>0.6656</td>\n      <td>0.7119</td>\n      <td>0.2654</td>\n      <td>0.4601</td>\n      <td>0.11890</td>\n      <td>Malignant</td>\n    </tr>\n    <tr>\n      <th>1</th>\n      <td>20.57</td>\n      <td>17.77</td>\n      <td>132.90</td>\n      <td>1326.0</td>\n      <td>0.08474</td>\n      <td>0.07864</td>\n      <td>0.0869</td>\n      <td>0.07017</td>\n      <td>0.1812</td>\n      <td>0.05667</td>\n      <td>...</td>\n      <td>23.41</td>\n      <td>158.80</td>\n      <td>1956.0</td>\n      <td>0.1238</td>\n      <td>0.1866</td>\n      <td>0.2416</td>\n      <td>0.1860</td>\n      <td>0.2750</td>\n      <td>0.08902</td>\n      <td>Malignant</td>\n    </tr>\n    <tr>\n      <th>2</th>\n      <td>19.69</td>\n      <td>21.25</td>\n      <td>130.00</td>\n      <td>1203.0</td>\n      <td>0.10960</td>\n      <td>0.15990</td>\n      <td>0.1974</td>\n      <td>0.12790</td>\n      <td>0.2069</td>\n      <td>0.05999</td>\n      <td>...</td>\n      <td>25.53</td>\n      <td>152.50</td>\n      <td>1709.0</td>\n      <td>0.1444</td>\n      <td>0.4245</td>\n      <td>0.4504</td>\n      <td>0.2430</td>\n      <td>0.3613</td>\n      <td>0.08758</td>\n      <td>Malignant</td>\n    </tr>\n    <tr>\n      <th>3</th>\n      <td>11.42</td>\n      <td>20.38</td>\n      <td>77.58</td>\n      <td>386.1</td>\n      <td>0.14250</td>\n      <td>0.28390</td>\n      <td>0.2414</td>\n      <td>0.10520</td>\n      <td>0.2597</td>\n      <td>0.09744</td>\n      <td>...</td>\n      <td>26.50</td>\n      <td>98.87</td>\n      <td>567.7</td>\n      <td>0.2098</td>\n      <td>0.8663</td>\n      <td>0.6869</td>\n      <td>0.2575</td>\n      <td>0.6638</td>\n      <td>0.17300</td>\n      <td>Malignant</td>\n    </tr>\n    <tr>\n      <th>4</th>\n      <td>20.29</td>\n      <td>14.34</td>\n      <td>135.10</td>\n      <td>1297.0</td>\n      <td>0.10030</td>\n      <td>0.13280</td>\n      <td>0.1980</td>\n      <td>0.10430</td>\n      <td>0.1809</td>\n      <td>0.05883</td>\n      <td>...</td>\n      <td>16.67</td>\n      <td>152.20</td>\n      <td>1575.0</td>\n      <td>0.1374</td>\n      <td>0.2050</td>\n      <td>0.4000</td>\n      <td>0.1625</td>\n      <td>0.2364</td>\n      <td>0.07678</td>\n      <td>Malignant</td>\n    </tr>\n  </tbody>\n</table>\n<p>5 rows × 31 columns</p>\n</div>"
     },
     "execution_count": 2,
     "metadata": {},
     "output_type": "execute_result"
    }
   ]
  },
  {
   "cell_type": "code",
   "source": [
    "data.info()"
   ],
   "metadata": {
    "id": "hF1C2qsSzUk7",
    "pycharm": {
     "name": "#%%\n"
    }
   },
   "execution_count": 3,
   "outputs": [
    {
     "name": "stdout",
     "output_type": "stream",
     "text": [
      "<class 'pandas.core.frame.DataFrame'>\n",
      "RangeIndex: 569 entries, 0 to 568\n",
      "Data columns (total 31 columns):\n",
      " #   Column                   Non-Null Count  Dtype  \n",
      "---  ------                   --------------  -----  \n",
      " 0   mean radius              569 non-null    float64\n",
      " 1   mean texture             569 non-null    float64\n",
      " 2   mean perimeter           569 non-null    float64\n",
      " 3   mean area                569 non-null    float64\n",
      " 4   mean smoothness          569 non-null    float64\n",
      " 5   mean compactness         569 non-null    float64\n",
      " 6   mean concavity           569 non-null    float64\n",
      " 7   mean concave points      569 non-null    float64\n",
      " 8   mean symmetry            569 non-null    float64\n",
      " 9   mean fractal dimension   569 non-null    float64\n",
      " 10  radius error             569 non-null    float64\n",
      " 11  texture error            569 non-null    float64\n",
      " 12  perimeter error          569 non-null    float64\n",
      " 13  area error               569 non-null    float64\n",
      " 14  smoothness error         569 non-null    float64\n",
      " 15  compactness error        569 non-null    float64\n",
      " 16  concavity error          569 non-null    float64\n",
      " 17  concave points error     569 non-null    float64\n",
      " 18  symmetry error           569 non-null    float64\n",
      " 19  fractal dimension error  569 non-null    float64\n",
      " 20  worst radius             569 non-null    float64\n",
      " 21  worst texture            569 non-null    float64\n",
      " 22  worst perimeter          569 non-null    float64\n",
      " 23  worst area               569 non-null    float64\n",
      " 24  worst smoothness         569 non-null    float64\n",
      " 25  worst compactness        569 non-null    float64\n",
      " 26  worst concavity          569 non-null    float64\n",
      " 27  worst concave points     569 non-null    float64\n",
      " 28  worst symmetry           569 non-null    float64\n",
      " 29  worst fractal dimension  569 non-null    float64\n",
      " 30  target                   569 non-null    object \n",
      "dtypes: float64(30), object(1)\n",
      "memory usage: 137.9+ KB\n"
     ]
    }
   ]
  },
  {
   "cell_type": "markdown",
   "source": [
    "## 데이터 전처리\n",
    "\n",
    "<details><summary>Hint</summary>\n",
    "\n",
    "* x, y 구분 필요\n",
    "* y에 대한 전처리 필요\n",
    "* 데이터셋 구분 필요\n",
    "\n",
    "</details>"
   ],
   "metadata": {
    "id": "wvsEjq9CzJy3",
    "pycharm": {
     "name": "#%% md\n"
    }
   }
  },
  {
   "cell_type": "code",
   "source": [
    "X = data.drop(axis=1, columns=['target'])\n",
    "y = data.loc[:, 'target']"
   ],
   "metadata": {
    "id": "sjyEQ8S0MyVp",
    "pycharm": {
     "name": "#%%\n"
    }
   },
   "execution_count": 5,
   "outputs": [
    {
     "data": {
      "text/plain": "0      Malignant\n1      Malignant\n2      Malignant\n3      Malignant\n4      Malignant\n         ...    \n564    Malignant\n565    Malignant\n566    Malignant\n567    Malignant\n568       Benign\nName: target, Length: 569, dtype: object"
     },
     "execution_count": 5,
     "metadata": {},
     "output_type": "execute_result"
    }
   ]
  },
  {
   "cell_type": "markdown",
   "source": [
    "## Locally connected layer를 구성하기 위한 feature 설정\n",
    "\n",
    "* mean, error, worst를 각 feature별로 묶어 새로운 변수를 만든다.\n",
    "        ex) mean radius, radius error, worst radius\n",
    "\n",
    "<details><summary> Hint </summary>\n",
    "\n",
    "* x의 train 구조와 test 구조는 동일해야 한다.\n",
    "\n",
    "</details>"
   ],
   "metadata": {
    "id": "UMxtGX8n7ZO7",
    "pycharm": {
     "name": "#%% md\n"
    }
   }
  },
  {
   "cell_type": "code",
   "source": [
    "[s.replace(' error', '') for s in list(X.filter(like='error').columns)]"
   ],
   "metadata": {
    "id": "ORdTBNODM0JL",
    "pycharm": {
     "name": "#%%\n"
    }
   },
   "execution_count": 10,
   "outputs": [
    {
     "data": {
      "text/plain": "['radius',\n 'texture',\n 'perimeter',\n 'area',\n 'smoothness',\n 'compactness',\n 'concavity',\n 'concave points',\n 'symmetry',\n 'fractal dimension']"
     },
     "execution_count": 10,
     "metadata": {},
     "output_type": "execute_result"
    }
   ]
  },
  {
   "cell_type": "code",
   "source": [
    "feature_list = ['radius',\n",
    "                'texture',\n",
    "                'perimeter',\n",
    "                'area',\n",
    "                'smoothness',\n",
    "                'compactness',\n",
    "                'concavity',\n",
    "                'concave points',\n",
    "                'symmetry',\n",
    "                'fractal dimension']"
   ],
   "metadata": {
    "id": "hmNQKHvHM0D9",
    "pycharm": {
     "name": "#%%\n"
    }
   },
   "execution_count": 11,
   "outputs": []
  },
  {
   "cell_type": "code",
   "execution_count": 14,
   "outputs": [],
   "source": [
    "from sklearn.model_selection import train_test_split\n",
    "from sklearn.preprocessing import MinMaxScaler"
   ],
   "metadata": {
    "collapsed": false,
    "pycharm": {
     "name": "#%%\n"
    }
   }
  },
  {
   "cell_type": "code",
   "execution_count": 15,
   "outputs": [],
   "source": [
    "X_train, X_test, y_train, y_test = train_test_split(X, y, test_size=.2, random_state=2022)"
   ],
   "metadata": {
    "collapsed": false,
    "pycharm": {
     "name": "#%%\n"
    }
   }
  },
  {
   "cell_type": "code",
   "execution_count": 16,
   "outputs": [],
   "source": [
    "scaler = MinMaxScaler()\n",
    "X_train = scaler.fit_transform(X_train)\n",
    "X_test = scaler.transform(X_test)"
   ],
   "metadata": {
    "collapsed": false,
    "pycharm": {
     "name": "#%%\n"
    }
   }
  },
  {
   "cell_type": "code",
   "execution_count": 24,
   "outputs": [],
   "source": [
    "X_train = pd.DataFrame(X_train, columns=X.columns)\n",
    "X_test = pd.DataFrame(X_test, columns=X.columns)"
   ],
   "metadata": {
    "collapsed": false,
    "pycharm": {
     "name": "#%%\n"
    }
   }
  },
  {
   "cell_type": "code",
   "execution_count": 61,
   "outputs": [],
   "source": [
    "columns={'Benign': 0, 'Malignant': 1}\n",
    "y_train.replace(columns, inplace=True)\n",
    "y_test.replace(columns, inplace=True)"
   ],
   "metadata": {
    "collapsed": false,
    "pycharm": {
     "name": "#%%\n"
    }
   }
  },
  {
   "cell_type": "code",
   "execution_count": 62,
   "outputs": [
    {
     "data": {
      "text/plain": "544    0\n226    0\n325    0\n559    0\n141    1\n      ..\n24     1\n18     1\n240    0\n173    0\n220    0\nName: target, Length: 455, dtype: int64"
     },
     "execution_count": 62,
     "metadata": {},
     "output_type": "execute_result"
    }
   ],
   "source": [
    "y_train"
   ],
   "metadata": {
    "collapsed": false,
    "pycharm": {
     "name": "#%%\n"
    }
   }
  },
  {
   "cell_type": "markdown",
   "source": [
    "## 모델링\n",
    "![예시](https://raw.githubusercontent.com/DrKAI/image/main/cancer_locally.png)\n",
    "\n",
    "1. 윗 단계에서 생성한 변수의 **형태**를 이용하여, 각 변수별 input layer를 만든다.\n",
    "2. node가 12개인 hidden layer를 **각각** 생성하여, 각 input layer와 연결한다.\n",
    "3. 생성된 hidden layer를 add 한다.\n",
    "---\n",
    "4. 전체 변수를 이용한 input layer를 만든다.\n",
    "5. 3번 단계로 add 된 레이어와 4번 단계로 만들어진 input layer를 concat한다.\n",
    "---\n",
    "6. node가 128개인 hidden layer를 5번 단계로 concat된 레이어와 연결한다.\n",
    "7. output layer를 생성하고 compile 한다."
   ],
   "metadata": {
    "id": "pN2YChw-9ACb",
    "pycharm": {
     "name": "#%% md\n"
    }
   }
  },
  {
   "cell_type": "code",
   "execution_count": 63,
   "outputs": [],
   "source": [
    "import keras"
   ],
   "metadata": {
    "collapsed": false,
    "pycharm": {
     "name": "#%%\n"
    }
   }
  },
  {
   "cell_type": "code",
   "source": [
    "# clear session\n",
    "keras.backend.clear_session()\n",
    "\n",
    "input_layers = []\n",
    "last_hidden = []\n",
    "for idx, feature in enumerate(feature_list):\n",
    "    il = keras.layers.Input(shape=(3,))\n",
    "    hl = keras.layers.Dense(12, activation='relu')(il)\n",
    "    input_layers.append(il)\n",
    "    last_hidden.append(hl)\n",
    "\n",
    "nl = keras.layers.Input(shape=(30, ))\n",
    "al = keras.layers.Add()(last_hidden)\n",
    "cl = keras.layers.Concatenate()([nl, al])\n",
    "\n",
    "hl = keras.layers.Dense(128, activation='relu')(cl)\n",
    "ol = keras.layers.Dense(1, activation='softmax')(hl)\n",
    "\n",
    "model = keras.models.Model(input_layers+[nl], ol)\n",
    "\n"
   ],
   "metadata": {
    "id": "AJLLVhBXM12J",
    "pycharm": {
     "name": "#%%\n"
    }
   },
   "execution_count": 64,
   "outputs": []
  },
  {
   "cell_type": "code",
   "source": [
    "model.compile(loss=keras.losses.binary_crossentropy, optimizer='adam', metrics=['accuracy'])"
   ],
   "metadata": {
    "id": "FV1wcvmCM21W",
    "pycharm": {
     "name": "#%%\n"
    }
   },
   "execution_count": 65,
   "outputs": []
  },
  {
   "cell_type": "code",
   "execution_count": 66,
   "outputs": [],
   "source": [
    "es = keras.callbacks.EarlyStopping(monitor='val_loss',\n",
    "                                   min_delta=0,\n",
    "                                   patience=5,\n",
    "                                   verbose=1,\n",
    "                                   restore_best_weights=True)"
   ],
   "metadata": {
    "collapsed": false,
    "pycharm": {
     "name": "#%%\n"
    }
   }
  },
  {
   "cell_type": "code",
   "source": [
    "model.fit([X_train.filter(like=feature) for feature in feature_list] + [X_train], y_train, epochs=1000, verbose=1,\n",
    "          validation_split=.15,\n",
    "          callbacks=[es])"
   ],
   "metadata": {
    "id": "1F1VLUE6M25K",
    "pycharm": {
     "name": "#%%\n"
    }
   },
   "execution_count": 67,
   "outputs": [
    {
     "name": "stdout",
     "output_type": "stream",
     "text": [
      "Epoch 1/1000\n",
      "13/13 [==============================] - 0s 19ms/step - loss: 9.4814 - accuracy: 0.3782 - val_loss: 10.8292 - val_accuracy: 0.2899\n",
      "Epoch 2/1000\n",
      "13/13 [==============================] - 0s 7ms/step - loss: 9.4814 - accuracy: 0.3782 - val_loss: 10.8292 - val_accuracy: 0.2899\n",
      "Epoch 3/1000\n",
      "13/13 [==============================] - 0s 6ms/step - loss: 9.4814 - accuracy: 0.3782 - val_loss: 10.8292 - val_accuracy: 0.2899\n",
      "Epoch 4/1000\n",
      "13/13 [==============================] - 0s 6ms/step - loss: 9.4814 - accuracy: 0.3782 - val_loss: 10.8292 - val_accuracy: 0.2899\n",
      "Epoch 5/1000\n",
      "13/13 [==============================] - 0s 5ms/step - loss: 9.4814 - accuracy: 0.3782 - val_loss: 10.8292 - val_accuracy: 0.2899\n",
      "Epoch 6/1000\n",
      " 1/13 [=>............................] - ETA: 0s - loss: 8.5777 - accuracy: 0.4375Restoring model weights from the end of the best epoch.\n",
      "13/13 [==============================] - 0s 5ms/step - loss: 9.4814 - accuracy: 0.3782 - val_loss: 10.8292 - val_accuracy: 0.2899\n",
      "Epoch 00006: early stopping\n"
     ]
    },
    {
     "data": {
      "text/plain": "<tensorflow.python.keras.callbacks.History at 0x27103158f70>"
     },
     "execution_count": 67,
     "metadata": {},
     "output_type": "execute_result"
    }
   ]
  },
  {
   "cell_type": "markdown",
   "source": [
    "## 평가\n",
    "\n",
    "1. 모델의 정확도를 확인하시오.\n",
    "2. 악성이라 예측한 것 중 실제 악성으로 나온 비율을 구하시오.\n",
    "3. 실제 악성 중 모델이 악성이라 예측한 것의 비율을 구하시오.\n",
    "4. 정상이라 예측한 것 중 실제 정상으로 나온 비율을 구하시오."
   ],
   "metadata": {
    "id": "FJfDbKduBnxz",
    "pycharm": {
     "name": "#%% md\n"
    }
   }
  },
  {
   "cell_type": "code",
   "source": [
    "model.evaluate([X_test.filter(like=feature) for feature in feature_list] + [X_test], y_test)"
   ],
   "metadata": {
    "id": "6uOhCHhIM7SO",
    "pycharm": {
     "name": "#%%\n"
    }
   },
   "execution_count": 68,
   "outputs": [
    {
     "name": "stdout",
     "output_type": "stream",
     "text": [
      "4/4 [==============================] - 0s 4ms/step - loss: 9.0960 - accuracy: 0.4035\n"
     ]
    },
    {
     "data": {
      "text/plain": "[9.096036911010742, 0.4035087823867798]"
     },
     "execution_count": 68,
     "metadata": {},
     "output_type": "execute_result"
    }
   ]
  },
  {
   "cell_type": "code",
   "execution_count": null,
   "outputs": [],
   "source": [],
   "metadata": {
    "collapsed": false,
    "pycharm": {
     "name": "#%%\n"
    }
   }
  }
 ]
}