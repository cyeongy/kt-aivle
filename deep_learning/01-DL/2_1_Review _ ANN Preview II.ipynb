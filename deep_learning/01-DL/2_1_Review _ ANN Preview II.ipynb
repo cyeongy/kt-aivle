{
 "nbformat": 4,
 "nbformat_minor": 0,
 "metadata": {
  "colab": {
   "name": "2_1_Review _ ANN Preview II.ipynb",
   "provenance": [],
   "collapsed_sections": [
    "0xVNQT9V-Iev"
   ]
  },
  "kernelspec": {
   "name": "python3",
   "display_name": "Python 3"
  },
  "language_info": {
   "name": "python"
  }
 },
 "cells": [
  {
   "cell_type": "markdown",
   "metadata": {
    "id": "T7kdgJptO50L",
    "pycharm": {
     "name": "#%% md\n"
    }
   },
   "source": [
    "# 1일차 Review : 같은 문제 다시 풀어보기\n",
    "\n",
    "    학습은 10번으로!"
   ]
  },
  {
   "cell_type": "code",
   "metadata": {
    "id": "tcpM1yMBXPMV",
    "pycharm": {
     "name": "#%%\n"
    }
   },
   "source": [
    "from sklearn.datasets import load_breast_cancer"
   ],
   "execution_count": 1,
   "outputs": []
  },
  {
   "cell_type": "code",
   "metadata": {
    "id": "kywnQJlHXZCg",
    "pycharm": {
     "name": "#%%\n"
    }
   },
   "source": [
    "cancer = load_breast_cancer()"
   ],
   "execution_count": 2,
   "outputs": []
  },
  {
   "cell_type": "code",
   "metadata": {
    "id": "Fbgs4YZrXcCB",
    "pycharm": {
     "name": "#%%\n"
    }
   },
   "source": [
    "x = cancer.data\n",
    "y = cancer.target"
   ],
   "execution_count": 3,
   "outputs": []
  },
  {
   "cell_type": "code",
   "metadata": {
    "id": "kVvDsvptQyQ_",
    "pycharm": {
     "name": "#%%\n"
    }
   },
   "source": [
    "x.shape, y.shape"
   ],
   "execution_count": 4,
   "outputs": [
    {
     "data": {
      "text/plain": "((569, 30), (569,))"
     },
     "execution_count": 4,
     "metadata": {},
     "output_type": "execute_result"
    }
   ]
  },
  {
   "cell_type": "code",
   "metadata": {
    "id": "puqIL3FCRBs6",
    "pycharm": {
     "name": "#%%\n"
    }
   },
   "source": [
    "#####################\n",
    "# 라이브러리 불러오기\n",
    "#####################\n",
    "import keras\n",
    "from keras.layers import Input, Dense\n",
    "from keras.models import Model, Sequential\n",
    "from sklearn.model_selection import train_test_split\n",
    "from sklearn.metrics import *\n",
    "\n",
    "import numpy as np"
   ],
   "execution_count": 55,
   "outputs": []
  },
  {
   "cell_type": "code",
   "execution_count": 21,
   "outputs": [],
   "source": [
    "x_train, x_val, y_train, y_val = train_test_split(x, y, test_size=.3)"
   ],
   "metadata": {
    "collapsed": false,
    "pycharm": {
     "name": "#%%\n"
    }
   }
  },
  {
   "cell_type": "code",
   "metadata": {
    "id": "broVdGpGbqrC",
    "pycharm": {
     "name": "#%%\n"
    }
   },
   "source": [
    "########\n",
    "# 모델링\n",
    "########\n",
    "keras.backend.clear_session()\n",
    "\n",
    "model = Sequential()\n",
    "\n",
    "model.add(Input(shape=(30, )))\n",
    "model.add(Dense(1, activation='sigmoid'))\n",
    "\n",
    "model.compile(loss=keras.losses.binary_crossentropy, optimizer='adam', metrics=['accuracy'])\n",
    "\n",
    "model.summary()"
   ],
   "execution_count": 58,
   "outputs": [
    {
     "name": "stdout",
     "output_type": "stream",
     "text": [
      "Model: \"sequential\"\n",
      "_________________________________________________________________\n",
      "Layer (type)                 Output Shape              Param #   \n",
      "=================================================================\n",
      "dense (Dense)                (None, 1)                 31        \n",
      "=================================================================\n",
      "Total params: 31\n",
      "Trainable params: 31\n",
      "Non-trainable params: 0\n",
      "_________________________________________________________________\n"
     ]
    }
   ]
  },
  {
   "cell_type": "code",
   "metadata": {
    "id": "4U3tZ7PvbljS",
    "pycharm": {
     "name": "#%%\n"
    }
   },
   "source": [
    "###########\n",
    "# 모델 학습\n",
    "###########\n",
    "model.fit(x_train, y_train, epochs=10)\n"
   ],
   "execution_count": 59,
   "outputs": [
    {
     "name": "stdout",
     "output_type": "stream",
     "text": [
      "Epoch 1/10\n",
      "13/13 [==============================] - 0s 1ms/step - loss: 18.9279 - accuracy: 0.6382\n",
      "Epoch 2/10\n",
      "13/13 [==============================] - 0s 920us/step - loss: 6.3707 - accuracy: 0.6709\n",
      "Epoch 3/10\n",
      "13/13 [==============================] - 0s 997us/step - loss: 1.2954 - accuracy: 0.5879\n",
      "Epoch 4/10\n",
      "13/13 [==============================] - 0s 997us/step - loss: 1.0163 - accuracy: 0.6307\n",
      "Epoch 5/10\n",
      "13/13 [==============================] - 0s 997us/step - loss: 0.6991 - accuracy: 0.7990\n",
      "Epoch 6/10\n",
      "13/13 [==============================] - 0s 1ms/step - loss: 0.6196 - accuracy: 0.7839\n",
      "Epoch 7/10\n",
      "13/13 [==============================] - 0s 997us/step - loss: 0.5840 - accuracy: 0.7940\n",
      "Epoch 8/10\n",
      "13/13 [==============================] - 0s 1ms/step - loss: 0.5751 - accuracy: 0.8191\n",
      "Epoch 9/10\n",
      "13/13 [==============================] - 0s 1ms/step - loss: 0.5787 - accuracy: 0.7889\n",
      "Epoch 10/10\n",
      "13/13 [==============================] - 0s 1ms/step - loss: 0.5128 - accuracy: 0.8266\n"
     ]
    },
    {
     "data": {
      "text/plain": "<tensorflow.python.keras.callbacks.History at 0x1908289f1f0>"
     },
     "execution_count": 59,
     "metadata": {},
     "output_type": "execute_result"
    }
   ]
  },
  {
   "cell_type": "code",
   "metadata": {
    "id": "prSYRU-_AlYz",
    "pycharm": {
     "name": "#%%\n"
    }
   },
   "source": [
    "###########\n",
    "# 모델 예측\n",
    "###########\n",
    "pred = model.predict(x_val)\n",
    "\n",
    "print(classification_report(y_val, np.round(pred)))\n"
   ],
   "execution_count": 60,
   "outputs": [
    {
     "name": "stdout",
     "output_type": "stream",
     "text": [
      "              precision    recall  f1-score   support\n",
      "\n",
      "           0       0.76      0.81      0.79        68\n",
      "           1       0.87      0.83      0.85       103\n",
      "\n",
      "    accuracy                           0.82       171\n",
      "   macro avg       0.82      0.82      0.82       171\n",
      "weighted avg       0.83      0.82      0.83       171\n",
      "\n"
     ]
    }
   ]
  },
  {
   "cell_type": "markdown",
   "metadata": {
    "id": "0xVNQT9V-Iev",
    "pycharm": {
     "name": "#%% md\n"
    }
   },
   "source": [
    "# 히든 레이어 추가하여 모델링!\n",
    "\n",
    "    히든 레이어 2개를 추가하여 다시 모델링!\n",
    "    히든 레이어 노드 수 : 32\n",
    "    히든 레이어 activation = 'relu'"
   ]
  },
  {
   "cell_type": "code",
   "metadata": {
    "id": "y3PTU3m--xMa",
    "pycharm": {
     "name": "#%%\n"
    }
   },
   "source": [
    "########\n",
    "# 모델링\n",
    "########\n",
    "keras.backend.clear_session()\n",
    "\n",
    "il = Input(shape=(30, ))\n",
    "h1 = Dense(32, activation='relu')(il)\n",
    "h2 = Dense(32, activation='relu')(h1)\n",
    "ol = Dense(1, activation='sigmoid')(h2)\n",
    "\n",
    "model = Model(il, ol)\n",
    "\n",
    "model.compile(loss=keras.losses.binary_crossentropy, optimizer='adam', metrics=['accuracy'])\n",
    "\n",
    "model.summary()"
   ],
   "execution_count": 61,
   "outputs": [
    {
     "name": "stdout",
     "output_type": "stream",
     "text": [
      "Model: \"functional_1\"\n",
      "_________________________________________________________________\n",
      "Layer (type)                 Output Shape              Param #   \n",
      "=================================================================\n",
      "input_1 (InputLayer)         [(None, 30)]              0         \n",
      "_________________________________________________________________\n",
      "dense (Dense)                (None, 32)                992       \n",
      "_________________________________________________________________\n",
      "dense_1 (Dense)              (None, 32)                1056      \n",
      "_________________________________________________________________\n",
      "dense_2 (Dense)              (None, 1)                 33        \n",
      "=================================================================\n",
      "Total params: 2,081\n",
      "Trainable params: 2,081\n",
      "Non-trainable params: 0\n",
      "_________________________________________________________________\n"
     ]
    }
   ]
  },
  {
   "cell_type": "code",
   "metadata": {
    "id": "HbvMea71-xMb",
    "pycharm": {
     "name": "#%%\n"
    }
   },
   "source": [
    "###########\n",
    "# 모델 학습\n",
    "###########\n",
    "model.fit(x_train, y_train, epochs=10)\n"
   ],
   "execution_count": 62,
   "outputs": [
    {
     "name": "stdout",
     "output_type": "stream",
     "text": [
      "Epoch 1/10\n",
      "13/13 [==============================] - 0s 1ms/step - loss: 24.3765 - accuracy: 0.4497\n",
      "Epoch 2/10\n",
      "13/13 [==============================] - 0s 1ms/step - loss: 10.9969 - accuracy: 0.4045\n",
      "Epoch 3/10\n",
      "13/13 [==============================] - 0s 2ms/step - loss: 4.4861 - accuracy: 0.4372\n",
      "Epoch 4/10\n",
      "13/13 [==============================] - 0s 1ms/step - loss: 1.0059 - accuracy: 0.7136\n",
      "Epoch 5/10\n",
      "13/13 [==============================] - 0s 1ms/step - loss: 0.4398 - accuracy: 0.8819\n",
      "Epoch 6/10\n",
      "13/13 [==============================] - 0s 1ms/step - loss: 0.3536 - accuracy: 0.9045\n",
      "Epoch 7/10\n",
      "13/13 [==============================] - 0s 1ms/step - loss: 0.3169 - accuracy: 0.9020\n",
      "Epoch 8/10\n",
      "13/13 [==============================] - 0s 1ms/step - loss: 0.3078 - accuracy: 0.8970\n",
      "Epoch 9/10\n",
      "13/13 [==============================] - 0s 1ms/step - loss: 0.3285 - accuracy: 0.8894\n",
      "Epoch 10/10\n",
      "13/13 [==============================] - 0s 1ms/step - loss: 0.3055 - accuracy: 0.9095\n"
     ]
    },
    {
     "data": {
      "text/plain": "<tensorflow.python.keras.callbacks.History at 0x19082db6790>"
     },
     "execution_count": 62,
     "metadata": {},
     "output_type": "execute_result"
    }
   ]
  },
  {
   "cell_type": "code",
   "metadata": {
    "id": "_BZMmR5--xMb",
    "pycharm": {
     "name": "#%%\n"
    }
   },
   "source": [
    "###########\n",
    "# 모델 예측\n",
    "###########\n",
    "pred = model.predict(x_val)\n",
    "\n",
    "print(classification_report(y_val, np.round(pred)))\n"
   ],
   "execution_count": 63,
   "outputs": [
    {
     "name": "stdout",
     "output_type": "stream",
     "text": [
      "              precision    recall  f1-score   support\n",
      "\n",
      "           0       0.93      0.93      0.93        68\n",
      "           1       0.95      0.95      0.95       103\n",
      "\n",
      "    accuracy                           0.94       171\n",
      "   macro avg       0.94      0.94      0.94       171\n",
      "weighted avg       0.94      0.94      0.94       171\n",
      "\n"
     ]
    }
   ]
  },
  {
   "cell_type": "code",
   "execution_count": 52,
   "outputs": [
    {
     "data": {
      "text/plain": "array([[4.87466723e-01],\n       [1.63953364e-01],\n       [1.87428867e-07],\n       [8.88817132e-01],\n       [4.82405303e-03],\n       [8.14722061e-01],\n       [3.98412913e-01],\n       [5.38616955e-01],\n       [6.15519583e-01],\n       [1.03113065e-02],\n       [6.59144342e-01],\n       [9.50102210e-01],\n       [8.96802604e-01],\n       [8.23129952e-01],\n       [1.59600028e-03],\n       [7.01034427e-01],\n       [5.27398884e-01],\n       [7.40216553e-01],\n       [7.46138752e-01],\n       [9.51649427e-01],\n       [3.59666927e-07],\n       [9.40363348e-01],\n       [1.56169266e-01],\n       [9.42253709e-01],\n       [8.86111617e-01],\n       [9.44623590e-01],\n       [2.06864685e-01],\n       [9.37068403e-01],\n       [9.14432526e-01],\n       [6.75161302e-01],\n       [7.41811454e-01],\n       [5.57716012e-01],\n       [7.65369117e-01],\n       [9.13964152e-01],\n       [3.87241954e-08],\n       [1.92720652e-01],\n       [1.68930084e-01],\n       [2.86049838e-03],\n       [9.25654113e-01],\n       [7.54233003e-01],\n       [3.67914322e-06],\n       [5.92817247e-01],\n       [3.06952501e-07],\n       [1.19175261e-03],\n       [4.64776874e-01],\n       [3.97675058e-06],\n       [4.23342168e-01],\n       [9.56430078e-01],\n       [6.91032946e-01],\n       [8.48580059e-03],\n       [8.23580503e-01],\n       [1.74882676e-04],\n       [6.42715573e-01],\n       [9.10472095e-01],\n       [5.99743009e-01],\n       [4.51070635e-04],\n       [4.40565273e-09],\n       [1.52324582e-03],\n       [9.19090092e-01],\n       [5.51222321e-08],\n       [4.28267628e-01],\n       [4.09631575e-05],\n       [1.77244246e-02],\n       [5.99716544e-01],\n       [6.71987593e-01],\n       [9.17005718e-01],\n       [5.67969918e-01],\n       [1.56042166e-02],\n       [8.86738837e-01],\n       [5.29300570e-01],\n       [6.25397563e-01],\n       [3.54862273e-01],\n       [2.19175935e-01],\n       [9.24585104e-01],\n       [6.83282137e-01],\n       [3.37664488e-07],\n       [2.12801807e-03],\n       [2.47254432e-03],\n       [9.37895656e-01],\n       [1.74225556e-06],\n       [8.97515476e-01],\n       [5.82924783e-01],\n       [8.24456215e-01],\n       [8.27865422e-01],\n       [7.77424395e-01],\n       [7.26476219e-03],\n       [2.04734333e-05],\n       [6.59556448e-01],\n       [7.62649655e-01],\n       [8.59080613e-01],\n       [7.66703281e-12],\n       [2.59507431e-07],\n       [5.51826179e-01],\n       [9.72720444e-01],\n       [7.71949291e-01],\n       [8.59439664e-04],\n       [8.44087541e-01],\n       [1.30644858e-01],\n       [5.62634226e-03],\n       [1.07406173e-02],\n       [2.78985302e-04],\n       [3.01317960e-01],\n       [8.89032543e-01],\n       [9.29707468e-01],\n       [9.62003529e-01],\n       [4.19025491e-05],\n       [1.18468978e-01],\n       [3.02517116e-01],\n       [2.71007954e-03],\n       [1.30941495e-01],\n       [9.57002461e-01],\n       [5.85322976e-01],\n       [1.02128141e-01],\n       [5.30933499e-01],\n       [5.21709117e-05],\n       [9.13007021e-01],\n       [2.41226417e-06],\n       [8.91607404e-01],\n       [8.00704479e-01],\n       [1.46974894e-08],\n       [9.38740551e-01],\n       [6.30462468e-01],\n       [8.60724394e-05],\n       [8.48814189e-01],\n       [8.77796233e-01],\n       [3.63452709e-05],\n       [8.22870612e-01],\n       [7.99632259e-03],\n       [9.01753247e-01],\n       [3.34691630e-09],\n       [3.43399048e-01],\n       [2.51691222e-01],\n       [3.83515537e-01],\n       [3.13805401e-01],\n       [5.33734620e-01],\n       [9.24066365e-01],\n       [3.69920015e-01],\n       [8.15780640e-01],\n       [6.75381944e-02],\n       [9.03172255e-01],\n       [9.03611839e-01],\n       [1.84615619e-05],\n       [3.37193370e-07],\n       [3.44291948e-05],\n       [2.70465421e-07],\n       [1.10613055e-05],\n       [5.34081357e-09],\n       [7.67899096e-01],\n       [4.65109974e-01],\n       [9.73168537e-02],\n       [7.90986061e-01],\n       [9.67647552e-01],\n       [2.31190592e-01],\n       [1.74967631e-08],\n       [9.99350846e-01],\n       [8.47202718e-01],\n       [5.22092819e-01],\n       [3.81312100e-04],\n       [9.13904190e-01],\n       [1.40164956e-01],\n       [3.56559481e-13],\n       [7.02560295e-17],\n       [8.81032180e-03],\n       [9.34608877e-01],\n       [9.60527897e-01],\n       [9.23418999e-03],\n       [6.10586882e-01],\n       [2.30376427e-05],\n       [2.03727999e-13],\n       [9.44286704e-01],\n       [3.22641899e-05]], dtype=float32)"
     },
     "execution_count": 52,
     "metadata": {},
     "output_type": "execute_result"
    }
   ],
   "source": [
    "pred"
   ],
   "metadata": {
    "collapsed": false,
    "pycharm": {
     "name": "#%%\n"
    }
   }
  },
  {
   "cell_type": "code",
   "execution_count": 53,
   "outputs": [],
   "source": [
    "import numpy as np"
   ],
   "metadata": {
    "collapsed": false,
    "pycharm": {
     "name": "#%%\n"
    }
   }
  },
  {
   "cell_type": "code",
   "execution_count": 65,
   "outputs": [
    {
     "data": {
      "text/plain": "array([[1., 0., 0., 1., 0., 1., 1., 1., 1., 0., 1., 1., 1., 1., 0., 1.,\n        1., 1., 1., 1., 0., 1., 1., 1., 1., 1., 1., 1., 1., 1., 1., 1.,\n        1., 1., 0., 1., 1., 0., 1., 1., 0., 1., 0., 0., 1., 0., 1., 1.,\n        1., 0., 1., 0., 1., 1., 1., 0., 0., 0., 1., 0., 1., 0., 0., 1.,\n        1., 1., 1., 0., 1., 1., 1., 1., 1., 1., 1., 0., 0., 0., 1., 0.,\n        1., 1., 1., 1., 1., 0., 0., 1., 1., 1., 0., 0., 1., 1., 1., 0.,\n        1., 0., 0., 0., 0., 1., 1., 1., 1., 0., 0., 1., 0., 0., 1., 0.,\n        1., 1., 0., 1., 0., 1., 1., 0., 1., 1., 0., 1., 1., 0., 1., 0.,\n        1., 0., 1., 0., 0., 1., 1., 1., 1., 1., 0., 1., 1., 0., 0., 0.,\n        0., 0., 0., 1., 1., 0., 1., 1., 0., 0., 0., 1., 1., 0., 1., 0.,\n        0., 0., 0., 1., 1., 0., 1., 0., 0., 1., 0.]], dtype=float32)"
     },
     "execution_count": 65,
     "metadata": {},
     "output_type": "execute_result"
    }
   ],
   "source": [
    "np.round(pred).reshape((1, -1))"
   ],
   "metadata": {
    "collapsed": false,
    "pycharm": {
     "name": "#%%\n"
    }
   }
  },
  {
   "cell_type": "code",
   "execution_count": 56,
   "outputs": [
    {
     "data": {
      "text/plain": "array([[0],\n       [0],\n       [0],\n       [1],\n       [0],\n       [1],\n       [0],\n       [1],\n       [1],\n       [0],\n       [1],\n       [1],\n       [1],\n       [1],\n       [0],\n       [1],\n       [1],\n       [1],\n       [1],\n       [1],\n       [0],\n       [1],\n       [0],\n       [1],\n       [1],\n       [1],\n       [0],\n       [1],\n       [1],\n       [1],\n       [1],\n       [1],\n       [1],\n       [1],\n       [0],\n       [0],\n       [0],\n       [0],\n       [1],\n       [1],\n       [0],\n       [1],\n       [0],\n       [0],\n       [0],\n       [0],\n       [0],\n       [1],\n       [1],\n       [0],\n       [1],\n       [0],\n       [1],\n       [1],\n       [1],\n       [0],\n       [0],\n       [0],\n       [1],\n       [0],\n       [0],\n       [0],\n       [0],\n       [1],\n       [1],\n       [1],\n       [1],\n       [0],\n       [1],\n       [1],\n       [1],\n       [0],\n       [0],\n       [1],\n       [1],\n       [0],\n       [0],\n       [0],\n       [1],\n       [0],\n       [1],\n       [1],\n       [1],\n       [1],\n       [1],\n       [0],\n       [0],\n       [1],\n       [1],\n       [1],\n       [0],\n       [0],\n       [1],\n       [1],\n       [1],\n       [0],\n       [1],\n       [0],\n       [0],\n       [0],\n       [0],\n       [0],\n       [1],\n       [1],\n       [1],\n       [0],\n       [0],\n       [0],\n       [0],\n       [0],\n       [1],\n       [1],\n       [0],\n       [1],\n       [0],\n       [1],\n       [0],\n       [1],\n       [1],\n       [0],\n       [1],\n       [1],\n       [0],\n       [1],\n       [1],\n       [0],\n       [1],\n       [0],\n       [1],\n       [0],\n       [0],\n       [0],\n       [0],\n       [0],\n       [1],\n       [1],\n       [0],\n       [1],\n       [0],\n       [1],\n       [1],\n       [0],\n       [0],\n       [0],\n       [0],\n       [0],\n       [0],\n       [1],\n       [0],\n       [0],\n       [1],\n       [1],\n       [0],\n       [0],\n       [1],\n       [1],\n       [1],\n       [0],\n       [1],\n       [0],\n       [0],\n       [0],\n       [0],\n       [1],\n       [1],\n       [0],\n       [1],\n       [0],\n       [0],\n       [1],\n       [0]])"
     },
     "execution_count": 56,
     "metadata": {},
     "output_type": "execute_result"
    }
   ],
   "source": [
    "np.where(pred>.5, 1, 0)"
   ],
   "metadata": {
    "collapsed": false,
    "pycharm": {
     "name": "#%%\n"
    }
   }
  },
  {
   "cell_type": "code",
   "execution_count": null,
   "outputs": [],
   "source": [],
   "metadata": {
    "collapsed": false,
    "pycharm": {
     "name": "#%%\n"
    }
   }
  }
 ]
}