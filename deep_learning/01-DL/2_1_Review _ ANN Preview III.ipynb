{
 "nbformat": 4,
 "nbformat_minor": 0,
 "metadata": {
  "colab": {
   "name": "2_1_Review _ ANN Preview III.ipynb",
   "provenance": [],
   "collapsed_sections": [
    "0xVNQT9V-Iev"
   ]
  },
  "kernelspec": {
   "name": "python3",
   "display_name": "Python 3"
  },
  "language_info": {
   "name": "python"
  }
 },
 "cells": [
  {
   "cell_type": "markdown",
   "metadata": {
    "id": "T7kdgJptO50L",
    "pycharm": {
     "name": "#%% md\n"
    }
   },
   "source": [
    "# 1일차 Review : 같은 문제 다시 풀어보기\n",
    "\n",
    "    학습은 10번으로!"
   ]
  },
  {
   "cell_type": "code",
   "metadata": {
    "id": "k-kIj84JQdd3",
    "pycharm": {
     "name": "#%%\n"
    }
   },
   "source": [
    "from sklearn.datasets import load_iris"
   ],
   "execution_count": 1,
   "outputs": []
  },
  {
   "cell_type": "code",
   "metadata": {
    "id": "1F1kZLpEQof_",
    "pycharm": {
     "name": "#%%\n"
    }
   },
   "source": [
    "iris = load_iris()"
   ],
   "execution_count": 2,
   "outputs": []
  },
  {
   "cell_type": "code",
   "metadata": {
    "id": "4uNPvbD_QyUh",
    "pycharm": {
     "name": "#%%\n"
    }
   },
   "source": [
    "x = iris.data\n",
    "y = iris.target"
   ],
   "execution_count": 3,
   "outputs": []
  },
  {
   "cell_type": "code",
   "metadata": {
    "id": "6DfGrWUsQ3WC",
    "pycharm": {
     "name": "#%%\n"
    }
   },
   "source": [
    "x.shape, y.shape"
   ],
   "execution_count": 4,
   "outputs": [
    {
     "data": {
      "text/plain": "((150, 4), (150,))"
     },
     "execution_count": 4,
     "metadata": {},
     "output_type": "execute_result"
    }
   ]
  },
  {
   "cell_type": "code",
   "metadata": {
    "id": "puqIL3FCRBs6",
    "pycharm": {
     "name": "#%%\n"
    }
   },
   "source": [
    "#####################\n",
    "# 라이브러리 불러오기\n",
    "#####################\n",
    "from sklearn.model_selection import train_test_split\n",
    "from sklearn.metrics import *\n",
    "\n",
    "import keras\n",
    "from keras.layers import Input, Dense\n",
    "from keras.models import Model, Sequential\n",
    "from keras.utils import to_categorical\n",
    "\n",
    "import numpy as np\n",
    "import pandas as pd\n"
   ],
   "execution_count": 5,
   "outputs": []
  },
  {
   "cell_type": "code",
   "execution_count": 6,
   "outputs": [],
   "source": [
    "x_train, x_val, y_train, y_val = train_test_split(x, y, test_size=.2, random_state=2022)"
   ],
   "metadata": {
    "collapsed": false,
    "pycharm": {
     "name": "#%%\n"
    }
   }
  },
  {
   "cell_type": "code",
   "execution_count": 7,
   "outputs": [
    {
     "data": {
      "text/plain": "3"
     },
     "execution_count": 7,
     "metadata": {},
     "output_type": "execute_result"
    }
   ],
   "source": [
    "len(np.unique(y))"
   ],
   "metadata": {
    "collapsed": false,
    "pycharm": {
     "name": "#%%\n"
    }
   }
  },
  {
   "cell_type": "code",
   "metadata": {
    "id": "TY0leKum_owG",
    "pycharm": {
     "name": "#%%\n"
    }
   },
   "source": [
    "#######################\n",
    "# 어떤 전처리 작업 필요\n",
    "# Hint : y.shape\n",
    "#######################\n",
    "class_n = len(np.unique(y_train))\n",
    "y_train = to_categorical(y_train, class_n)\n",
    "y_val = to_categorical(y_val, class_n)\n",
    "print(class_n)"
   ],
   "execution_count": 8,
   "outputs": [
    {
     "name": "stdout",
     "output_type": "stream",
     "text": [
      "3\n"
     ]
    }
   ]
  },
  {
   "cell_type": "code",
   "metadata": {
    "id": "broVdGpGbqrC",
    "pycharm": {
     "name": "#%%\n"
    }
   },
   "source": [
    "########\n",
    "# 모델링\n",
    "########\n",
    "keras.backend.clear_session()\n",
    "\n",
    "il = Input(shape=(4, ))\n",
    "ol = Dense(3, activation='softmax')(il)\n",
    "\n",
    "model = Model(il, ol)\n",
    "\n",
    "model.compile(optimizer='adam', loss=keras.losses.categorical_crossentropy)\n",
    "\n",
    "model.summary()"
   ],
   "execution_count": 9,
   "outputs": [
    {
     "name": "stdout",
     "output_type": "stream",
     "text": [
      "Model: \"functional_1\"\n",
      "_________________________________________________________________\n",
      "Layer (type)                 Output Shape              Param #   \n",
      "=================================================================\n",
      "input_1 (InputLayer)         [(None, 4)]               0         \n",
      "_________________________________________________________________\n",
      "dense (Dense)                (None, 3)                 15        \n",
      "=================================================================\n",
      "Total params: 15\n",
      "Trainable params: 15\n",
      "Non-trainable params: 0\n",
      "_________________________________________________________________\n"
     ]
    }
   ]
  },
  {
   "cell_type": "code",
   "metadata": {
    "id": "4U3tZ7PvbljS",
    "pycharm": {
     "name": "#%%\n"
    }
   },
   "source": [
    "###########\n",
    "# 모델 학습\n",
    "###########\n",
    "model.fit(x_train, y_train, epochs=10)\n"
   ],
   "execution_count": 10,
   "outputs": [
    {
     "name": "stdout",
     "output_type": "stream",
     "text": [
      "Epoch 1/10\n",
      "4/4 [==============================] - 0s 747us/step - loss: 2.1333\n",
      "Epoch 2/10\n",
      "4/4 [==============================] - 0s 748us/step - loss: 2.0571\n",
      "Epoch 3/10\n",
      "4/4 [==============================] - 0s 748us/step - loss: 1.9814\n",
      "Epoch 4/10\n",
      "4/4 [==============================] - 0s 498us/step - loss: 1.9122\n",
      "Epoch 5/10\n",
      "4/4 [==============================] - 0s 498us/step - loss: 1.8405\n",
      "Epoch 6/10\n",
      "4/4 [==============================] - 0s 747us/step - loss: 1.7704\n",
      "Epoch 7/10\n",
      "4/4 [==============================] - 0s 498us/step - loss: 1.7059\n",
      "Epoch 8/10\n",
      "4/4 [==============================] - 0s 748us/step - loss: 1.6416\n",
      "Epoch 9/10\n",
      "4/4 [==============================] - 0s 498us/step - loss: 1.5809\n",
      "Epoch 10/10\n",
      "4/4 [==============================] - 0s 498us/step - loss: 1.5244\n"
     ]
    },
    {
     "data": {
      "text/plain": "<tensorflow.python.keras.callbacks.History at 0x213032fad00>"
     },
     "execution_count": 10,
     "metadata": {},
     "output_type": "execute_result"
    }
   ]
  },
  {
   "cell_type": "code",
   "metadata": {
    "id": "prSYRU-_AlYz",
    "pycharm": {
     "name": "#%%\n"
    }
   },
   "source": [
    "###########\n",
    "# 모델 예측\n",
    "###########\n",
    "pred = model.predict(x_val)\n",
    "\n",
    "print(classification_report(y_val, np.round(pred)))\n"
   ],
   "execution_count": 11,
   "outputs": [
    {
     "name": "stdout",
     "output_type": "stream",
     "text": [
      "              precision    recall  f1-score   support\n",
      "\n",
      "           0       0.31      1.00      0.47         9\n",
      "           1       0.00      0.00      0.00         8\n",
      "           2       0.00      0.00      0.00        13\n",
      "\n",
      "   micro avg       0.31      0.30      0.31        30\n",
      "   macro avg       0.10      0.33      0.16        30\n",
      "weighted avg       0.09      0.30      0.14        30\n",
      " samples avg       0.30      0.30      0.30        30\n",
      "\n"
     ]
    },
    {
     "name": "stderr",
     "output_type": "stream",
     "text": [
      "C:\\Users\\allsa\\anaconda3\\envs\\kt-aivle\\lib\\site-packages\\sklearn\\metrics\\_classification.py:1327: UndefinedMetricWarning: Precision and F-score are ill-defined and being set to 0.0 in labels with no predicted samples. Use `zero_division` parameter to control this behavior.\n",
      "  _warn_prf(average, modifier, msg_start, len(result))\n",
      "C:\\Users\\allsa\\anaconda3\\envs\\kt-aivle\\lib\\site-packages\\sklearn\\metrics\\_classification.py:1327: UndefinedMetricWarning: Precision and F-score are ill-defined and being set to 0.0 in samples with no predicted labels. Use `zero_division` parameter to control this behavior.\n",
      "  _warn_prf(average, modifier, msg_start, len(result))\n"
     ]
    }
   ]
  },
  {
   "cell_type": "markdown",
   "metadata": {
    "id": "0xVNQT9V-Iev",
    "pycharm": {
     "name": "#%% md\n"
    }
   },
   "source": [
    "# 히든 레이어 추가하여 모델링! (Functional API)\n",
    "\n",
    "    히든 레이어 2개를 추가하여 다시 모델링!\n",
    "    히든 레이어 노드 수 : 32\n",
    "    히든 레이어 activation = 'relu'"
   ]
  },
  {
   "cell_type": "code",
   "execution_count": 12,
   "outputs": [
    {
     "name": "stdout",
     "output_type": "stream",
     "text": [
      "Model: \"functional_1\"\n",
      "_________________________________________________________________\n",
      "Layer (type)                 Output Shape              Param #   \n",
      "=================================================================\n",
      "input_layer (InputLayer)     [(None, 4)]               0         \n",
      "_________________________________________________________________\n",
      "hidden_1 (Dense)             (None, 32)                160       \n",
      "_________________________________________________________________\n",
      "hidden_2 (Dense)             (None, 32)                1056      \n",
      "_________________________________________________________________\n",
      "output_layer (Dense)         (None, 3)                 99        \n",
      "=================================================================\n",
      "Total params: 1,315\n",
      "Trainable params: 1,315\n",
      "Non-trainable params: 0\n",
      "_________________________________________________________________\n"
     ]
    }
   ],
   "source": [
    "########\n",
    "# 모델링\n",
    "########\n",
    "keras.backend.clear_session()\n",
    "\n",
    "il = Input(shape=(4, ), name='input_layer')\n",
    "h1 = Dense(32, activation='relu', name='hidden_1')(il)\n",
    "h2 = Dense(32, activation='relu', name='hidden_2')(h1)\n",
    "ol = Dense(3, activation='softmax', name='output_layer')(h2)\n",
    "\n",
    "model = Model(il, ol)\n",
    "\n",
    "model.compile(optimizer='adam', loss=keras.losses.categorical_crossentropy)\n",
    "\n",
    "model.summary()"
   ],
   "metadata": {
    "collapsed": false,
    "pycharm": {
     "name": "#%%\n"
    }
   }
  },
  {
   "cell_type": "code",
   "execution_count": 13,
   "outputs": [
    {
     "name": "stdout",
     "output_type": "stream",
     "text": [
      "Epoch 1/10\n",
      "4/4 [==============================] - 0s 997us/step - loss: 1.5995\n",
      "Epoch 2/10\n",
      "4/4 [==============================] - 0s 748us/step - loss: 1.3868\n",
      "Epoch 3/10\n",
      "4/4 [==============================] - 0s 748us/step - loss: 1.2553\n",
      "Epoch 4/10\n",
      "4/4 [==============================] - 0s 748us/step - loss: 1.1336\n",
      "Epoch 5/10\n",
      "4/4 [==============================] - 0s 748us/step - loss: 1.0396\n",
      "Epoch 6/10\n",
      "4/4 [==============================] - 0s 748us/step - loss: 0.9617\n",
      "Epoch 7/10\n",
      "4/4 [==============================] - 0s 498us/step - loss: 0.9098\n",
      "Epoch 8/10\n",
      "4/4 [==============================] - 0s 747us/step - loss: 0.8667\n",
      "Epoch 9/10\n",
      "4/4 [==============================] - 0s 748us/step - loss: 0.8306\n",
      "Epoch 10/10\n",
      "4/4 [==============================] - 0s 748us/step - loss: 0.7966\n"
     ]
    },
    {
     "data": {
      "text/plain": "<tensorflow.python.keras.callbacks.History at 0x21306e44eb0>"
     },
     "execution_count": 13,
     "metadata": {},
     "output_type": "execute_result"
    }
   ],
   "source": [
    "###########\n",
    "# 모델 학습\n",
    "###########\n",
    "model.fit(x_train, y_train, epochs=10)\n"
   ],
   "metadata": {
    "collapsed": false,
    "pycharm": {
     "name": "#%%\n"
    }
   }
  },
  {
   "cell_type": "code",
   "execution_count": 14,
   "outputs": [
    {
     "name": "stdout",
     "output_type": "stream",
     "text": [
      "              precision    recall  f1-score   support\n",
      "\n",
      "           0       1.00      0.33      0.50         9\n",
      "           1       0.00      0.00      0.00         8\n",
      "           2       1.00      0.38      0.56        13\n",
      "\n",
      "   micro avg       1.00      0.27      0.42        30\n",
      "   macro avg       0.67      0.24      0.35        30\n",
      "weighted avg       0.73      0.27      0.39        30\n",
      " samples avg       0.27      0.27      0.27        30\n",
      "\n"
     ]
    },
    {
     "name": "stderr",
     "output_type": "stream",
     "text": [
      "C:\\Users\\allsa\\anaconda3\\envs\\kt-aivle\\lib\\site-packages\\sklearn\\metrics\\_classification.py:1327: UndefinedMetricWarning: Precision and F-score are ill-defined and being set to 0.0 in labels with no predicted samples. Use `zero_division` parameter to control this behavior.\n",
      "  _warn_prf(average, modifier, msg_start, len(result))\n",
      "C:\\Users\\allsa\\anaconda3\\envs\\kt-aivle\\lib\\site-packages\\sklearn\\metrics\\_classification.py:1327: UndefinedMetricWarning: Precision and F-score are ill-defined and being set to 0.0 in samples with no predicted labels. Use `zero_division` parameter to control this behavior.\n",
      "  _warn_prf(average, modifier, msg_start, len(result))\n"
     ]
    }
   ],
   "source": [
    "###########\n",
    "# 모델 예측\n",
    "###########\n",
    "pred = model.predict(x_val)\n",
    "\n",
    "print(classification_report(y_val, np.round(pred)))\n"
   ],
   "metadata": {
    "collapsed": false,
    "pycharm": {
     "name": "#%%\n"
    }
   }
  },
  {
   "cell_type": "code",
   "execution_count": 15,
   "outputs": [
    {
     "data": {
      "text/plain": "(30, 3)"
     },
     "execution_count": 15,
     "metadata": {},
     "output_type": "execute_result"
    }
   ],
   "source": [
    "pred.shape"
   ],
   "metadata": {
    "collapsed": false,
    "pycharm": {
     "name": "#%%\n"
    }
   }
  },
  {
   "cell_type": "code",
   "execution_count": 16,
   "outputs": [
    {
     "data": {
      "text/plain": "array([ 9.,  8., 13.], dtype=float32)"
     },
     "execution_count": 16,
     "metadata": {},
     "output_type": "execute_result"
    }
   ],
   "source": [
    "y_val.sum(axis=0)"
   ],
   "metadata": {
    "collapsed": false,
    "pycharm": {
     "name": "#%%\n"
    }
   }
  },
  {
   "cell_type": "code",
   "execution_count": 17,
   "outputs": [
    {
     "data": {
      "text/plain": "array([ 7.604988, 10.598318, 11.796692], dtype=float32)"
     },
     "execution_count": 17,
     "metadata": {},
     "output_type": "execute_result"
    }
   ],
   "source": [
    "pred.sum(axis=0)"
   ],
   "metadata": {
    "collapsed": false,
    "pycharm": {
     "name": "#%%\n"
    }
   }
  },
  {
   "cell_type": "code",
   "execution_count": 18,
   "outputs": [
    {
     "data": {
      "text/plain": "3"
     },
     "execution_count": 18,
     "metadata": {},
     "output_type": "execute_result"
    }
   ],
   "source": [
    "len(np.unique(y))"
   ],
   "metadata": {
    "collapsed": false,
    "pycharm": {
     "name": "#%%\n"
    }
   }
  },
  {
   "cell_type": "code",
   "execution_count": 19,
   "outputs": [
    {
     "ename": "AxisError",
     "evalue": "axis 1 is out of bounds for array of dimension 1",
     "output_type": "error",
     "traceback": [
      "\u001B[1;31m---------------------------------------------------------------------------\u001B[0m",
      "\u001B[1;31mAxisError\u001B[0m                                 Traceback (most recent call last)",
      "Input \u001B[1;32mIn [19]\u001B[0m, in \u001B[0;36m<cell line: 1>\u001B[1;34m()\u001B[0m\n\u001B[1;32m----> 1\u001B[0m (\u001B[43mnp\u001B[49m\u001B[38;5;241;43m.\u001B[39;49m\u001B[43munique\u001B[49m\u001B[43m(\u001B[49m\u001B[43my\u001B[49m\u001B[43m,\u001B[49m\u001B[43m \u001B[49m\u001B[43maxis\u001B[49m\u001B[38;5;241;43m=\u001B[39;49m\u001B[38;5;241;43m1\u001B[39;49m\u001B[43m)\u001B[49m)\n",
      "File \u001B[1;32m<__array_function__ internals>:5\u001B[0m, in \u001B[0;36munique\u001B[1;34m(*args, **kwargs)\u001B[0m\n",
      "File \u001B[1;32m~\\anaconda3\\envs\\kt-aivle\\lib\\site-packages\\numpy\\lib\\arraysetops.py:280\u001B[0m, in \u001B[0;36munique\u001B[1;34m(ar, return_index, return_inverse, return_counts, axis)\u001B[0m\n\u001B[0;32m    277\u001B[0m     ar \u001B[38;5;241m=\u001B[39m np\u001B[38;5;241m.\u001B[39mmoveaxis(ar, axis, \u001B[38;5;241m0\u001B[39m)\n\u001B[0;32m    278\u001B[0m \u001B[38;5;28;01mexcept\u001B[39;00m np\u001B[38;5;241m.\u001B[39mAxisError:\n\u001B[0;32m    279\u001B[0m     \u001B[38;5;66;03m# this removes the \"axis1\" or \"axis2\" prefix from the error message\u001B[39;00m\n\u001B[1;32m--> 280\u001B[0m     \u001B[38;5;28;01mraise\u001B[39;00m np\u001B[38;5;241m.\u001B[39mAxisError(axis, ar\u001B[38;5;241m.\u001B[39mndim) \u001B[38;5;28;01mfrom\u001B[39;00m \u001B[38;5;28mNone\u001B[39m\n\u001B[0;32m    282\u001B[0m \u001B[38;5;66;03m# Must reshape to a contiguous 2D array for this to work...\u001B[39;00m\n\u001B[0;32m    283\u001B[0m orig_shape, orig_dtype \u001B[38;5;241m=\u001B[39m ar\u001B[38;5;241m.\u001B[39mshape, ar\u001B[38;5;241m.\u001B[39mdtype\n",
      "\u001B[1;31mAxisError\u001B[0m: axis 1 is out of bounds for array of dimension 1"
     ]
    }
   ],
   "source": [
    "(np.unique(y, axis=1))"
   ],
   "metadata": {
    "collapsed": false,
    "pycharm": {
     "name": "#%%\n"
    }
   }
  },
  {
   "cell_type": "code",
   "execution_count": null,
   "outputs": [],
   "source": [],
   "metadata": {
    "collapsed": false,
    "pycharm": {
     "name": "#%%\n"
    }
   }
  }
 ]
}