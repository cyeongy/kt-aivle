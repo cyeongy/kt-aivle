{
 "cells": [
  {
   "cell_type": "markdown",
   "metadata": {
    "collapsed": true,
    "pycharm": {
     "name": "#%% md\n"
    }
   },
   "source": [
    "### Data Preparation\n",
    "\n",
    "#### 수행되는 내용\n",
    "\n",
    "- 모델링을 위한 data 조건\n",
    "    1. 모든 셀은 값이 있어야 한다\n",
    "    2. 모든 값은 숫자이어야만 함\n",
    "    3. 필요에 따라 숫자의 범위를 일치시킨다.\n",
    "\n",
    "\n"
   ]
  }
 ],
 "metadata": {
  "kernelspec": {
   "display_name": "Python 3",
   "language": "python",
   "name": "python3"
  },
  "language_info": {
   "codemirror_mode": {
    "name": "ipython",
    "version": 2
   },
   "file_extension": ".py",
   "mimetype": "text/x-python",
   "name": "python",
   "nbconvert_exporter": "python",
   "pygments_lexer": "ipython2",
   "version": "2.7.6"
  }
 },
 "nbformat": 4,
 "nbformat_minor": 0
}