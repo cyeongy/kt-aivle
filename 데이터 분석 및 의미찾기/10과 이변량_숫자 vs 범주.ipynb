{
 "cells": [
  {
   "cell_type": "markdown",
   "metadata": {
    "id": "EnlYouStN0Le",
    "pycharm": {
     "name": "#%% md\n"
    }
   },
   "source": [
    "# 10과 이변량_숫자 vs 범주"
   ]
  },
  {
   "cell_type": "markdown",
   "metadata": {
    "id": "0SJP-uYxN0Lk",
    "pycharm": {
     "name": "#%% md\n"
    }
   },
   "source": [
    "## 1.환경준비"
   ]
  },
  {
   "cell_type": "markdown",
   "metadata": {
    "id": "6dMK5CsEN0Lk",
    "pycharm": {
     "name": "#%% md\n"
    }
   },
   "source": [
    "* 라이브러리 불러오기"
   ]
  },
  {
   "cell_type": "code",
   "execution_count": 1,
   "metadata": {
    "id": "Sma8Fku5N0Ll",
    "pycharm": {
     "name": "#%%\n"
    }
   },
   "outputs": [],
   "source": [
    "import pandas as pd\n",
    "import numpy as np\n",
    "import random as rd\n",
    "\n",
    "import matplotlib.pyplot as plt\n",
    "import seaborn as sns\n",
    "\n",
    "import statsmodels.api as sm"
   ]
  },
  {
   "cell_type": "markdown",
   "metadata": {
    "id": "NCpMWLagN0Ln",
    "pycharm": {
     "name": "#%% md\n"
    }
   },
   "source": [
    "* 데이터 불러오기 : 다음의 예제 데이터를 사용합니다.\n",
    "> ① 타이타닉 생존자  \n",
    "② 직원 이직 분석\n"
   ]
  },
  {
   "cell_type": "code",
   "execution_count": 2,
   "metadata": {
    "id": "si-trqDhN0Lo",
    "pycharm": {
     "name": "#%%\n"
    }
   },
   "outputs": [
    {
     "data": {
      "text/plain": "   Survived  Pclass     Sex   Age  SibSp  Parch     Fare Embarked  AgeGroup  \\\n0         0       3    male  22.0      1      0   7.2500        S  Age21_30   \n1         1       1  female  38.0      1      0  71.2833        C  Age31_40   \n2         1       3  female  26.0      0      0   7.9250        S  Age21_30   \n3         1       1  female  35.0      1      0  53.1000        S  Age31_40   \n4         0       3    male  35.0      0      0   8.0500        S  Age31_40   \n\n   Family  Age_scale1  \n0       2    0.271174  \n1       2    0.472229  \n2       1    0.321438  \n3       2    0.434531  \n4       1    0.434531  ",
      "text/html": "<div>\n<style scoped>\n    .dataframe tbody tr th:only-of-type {\n        vertical-align: middle;\n    }\n\n    .dataframe tbody tr th {\n        vertical-align: top;\n    }\n\n    .dataframe thead th {\n        text-align: right;\n    }\n</style>\n<table border=\"1\" class=\"dataframe\">\n  <thead>\n    <tr style=\"text-align: right;\">\n      <th></th>\n      <th>Survived</th>\n      <th>Pclass</th>\n      <th>Sex</th>\n      <th>Age</th>\n      <th>SibSp</th>\n      <th>Parch</th>\n      <th>Fare</th>\n      <th>Embarked</th>\n      <th>AgeGroup</th>\n      <th>Family</th>\n      <th>Age_scale1</th>\n    </tr>\n  </thead>\n  <tbody>\n    <tr>\n      <th>0</th>\n      <td>0</td>\n      <td>3</td>\n      <td>male</td>\n      <td>22.0</td>\n      <td>1</td>\n      <td>0</td>\n      <td>7.2500</td>\n      <td>S</td>\n      <td>Age21_30</td>\n      <td>2</td>\n      <td>0.271174</td>\n    </tr>\n    <tr>\n      <th>1</th>\n      <td>1</td>\n      <td>1</td>\n      <td>female</td>\n      <td>38.0</td>\n      <td>1</td>\n      <td>0</td>\n      <td>71.2833</td>\n      <td>C</td>\n      <td>Age31_40</td>\n      <td>2</td>\n      <td>0.472229</td>\n    </tr>\n    <tr>\n      <th>2</th>\n      <td>1</td>\n      <td>3</td>\n      <td>female</td>\n      <td>26.0</td>\n      <td>0</td>\n      <td>0</td>\n      <td>7.9250</td>\n      <td>S</td>\n      <td>Age21_30</td>\n      <td>1</td>\n      <td>0.321438</td>\n    </tr>\n    <tr>\n      <th>3</th>\n      <td>1</td>\n      <td>1</td>\n      <td>female</td>\n      <td>35.0</td>\n      <td>1</td>\n      <td>0</td>\n      <td>53.1000</td>\n      <td>S</td>\n      <td>Age31_40</td>\n      <td>2</td>\n      <td>0.434531</td>\n    </tr>\n    <tr>\n      <th>4</th>\n      <td>0</td>\n      <td>3</td>\n      <td>male</td>\n      <td>35.0</td>\n      <td>0</td>\n      <td>0</td>\n      <td>8.0500</td>\n      <td>S</td>\n      <td>Age31_40</td>\n      <td>1</td>\n      <td>0.434531</td>\n    </tr>\n  </tbody>\n</table>\n</div>"
     },
     "execution_count": 2,
     "metadata": {},
     "output_type": "execute_result"
    }
   ],
   "source": [
    "# 타이타닉 데이터\n",
    "titanic = pd.read_csv('https://bit.ly/3HaMAtZ')\n",
    "titanic.head()"
   ]
  },
  {
   "cell_type": "markdown",
   "metadata": {
    "id": "24HAzukSN0Ls",
    "pycharm": {
     "name": "#%% md\n"
    }
   },
   "source": [
    "## 2.시각화"
   ]
  },
  {
   "cell_type": "markdown",
   "metadata": {
    "id": "ngCbCBcN7c_X",
    "pycharm": {
     "name": "#%% md\n"
    }
   },
   "source": [
    "* 히스토그램을 Survived로 나눠서 그려봅시다."
   ]
  },
  {
   "cell_type": "code",
   "execution_count": 3,
   "metadata": {
    "id": "0qgc0U-l5YP3",
    "pycharm": {
     "name": "#%%\n"
    }
   },
   "outputs": [
    {
     "data": {
      "text/plain": "<Figure size 432x288 with 1 Axes>",
      "image/png": "[encoded data removed]"
     },
     "metadata": {
      "needs_background": "light"
     },
     "output_type": "display_data"
    }
   ],
   "source": [
    "sns.histplot(x='Age', data = titanic, hue = 'Survived')\n",
    "plt.show()"
   ]
  },
  {
   "cell_type": "markdown",
   "metadata": {
    "id": "jY7SgTWC7fXE",
    "pycharm": {
     "name": "#%% md\n"
    }
   },
   "source": [
    "* kdeplot을 그려봅시다.  \n",
    "* 두가지 방법이 있습니다.\n",
    "    * ① kdeplot(   , hue = 'Survived') \n",
    "        * 생존여부의 비율이 유지된 채로 그려짐\n",
    "        * 두 그래프의 아래 면적의 합이 1\n",
    "    * ② kdeplot(   , hue = 'Survived', common_norm = False)\n",
    "        * 생존여부 각각 아래 면적의 합이 1인 그래프\n",
    "    * ③ kdeplot(   , hue = 'Survived', multiple = 'fill')\n",
    "        * 나이에 따라 생존여부 **비율**을 비교해볼 수 있음. (양의 비교가 아닌 비율!)\n"
   ]
  },
  {
   "cell_type": "markdown",
   "source": [
    "① kdeplot( , hue = 'Survived)"
   ],
   "metadata": {
    "id": "4h5xv_bSzBCI",
    "pycharm": {
     "name": "#%% md\n"
    }
   }
  },
  {
   "cell_type": "code",
   "execution_count": 4,
   "metadata": {
    "id": "offVzz3k6p1F",
    "pycharm": {
     "name": "#%%\n"
    }
   },
   "outputs": [
    {
     "data": {
      "text/plain": "<Figure size 432x288 with 1 Axes>",
      "image/png": "[encoded data removed]"
     },
     "metadata": {
      "needs_background": "light"
     },
     "output_type": "display_data"
    }
   ],
   "source": [
    "sns.kdeplot(x='Age', data = titanic, hue ='Survived')\n",
    "plt.show()"
   ]
  },
  {
   "cell_type": "markdown",
   "source": [
    "② kdeplot( , hue = 'Survived, common_norm = False)"
   ],
   "metadata": {
    "id": "UNo9bLGizDYl",
    "pycharm": {
     "name": "#%% md\n"
    }
   }
  },
  {
   "cell_type": "code",
   "execution_count": 5,
   "metadata": {
    "id": "v-n4uisv6AvT",
    "pycharm": {
     "name": "#%%\n"
    }
   },
   "outputs": [
    {
     "data": {
      "text/plain": "<Figure size 432x288 with 1 Axes>",
      "image/png": "[encoded data removed]"
     },
     "metadata": {
      "needs_background": "light"
     },
     "output_type": "display_data"
    }
   ],
   "source": [
    "sns.kdeplot(x='Age', data = titanic, hue ='Survived', common_norm = False)\n",
    "plt.show()"
   ]
  },
  {
   "cell_type": "markdown",
   "source": [
    "③ multiple = 'fill' 옵션"
   ],
   "metadata": {
    "id": "kcJ48P8iQ1uG",
    "pycharm": {
     "name": "#%% md\n"
    }
   }
  },
  {
   "cell_type": "code",
   "source": [
    "sns.kdeplot(x='Age', data = titanic, hue ='Survived'\n",
    "            , multiple = 'fill')\n",
    "plt.axhline(titanic['Survived'].mean(), color = 'r')\n",
    "plt.show()"
   ],
   "metadata": {
    "id": "d1O8WLqGQfMu",
    "pycharm": {
     "name": "#%%\n"
    }
   },
   "execution_count": 6,
   "outputs": [
    {
     "data": {
      "text/plain": "<Figure size 432x288 with 1 Axes>",
      "image/png": "[encoded data removed]"
     },
     "metadata": {
      "needs_background": "light"
     },
     "output_type": "display_data"
    }
   ]
  },
  {
   "cell_type": "code",
   "source": [
    "sns.histplot(x='Age', data = titanic, bins = 16\n",
    "             , hue ='Survived', multiple = 'fill')\n",
    "plt.axhline(titanic['Survived'].mean(), color = 'r')\n",
    "plt.show()"
   ],
   "metadata": {
    "id": "eFzX2vHbQ1uH",
    "pycharm": {
     "name": "#%%\n"
    }
   },
   "execution_count": 7,
   "outputs": [
    {
     "data": {
      "text/plain": "<Figure size 432x288 with 1 Axes>",
      "image/png": "[encoded data removed]"
     },
     "metadata": {
      "needs_background": "light"
     },
     "output_type": "display_data"
    }
   ]
  },
  {
   "cell_type": "markdown",
   "metadata": {
    "id": "ETJpzKOj9hy0",
    "pycharm": {
     "name": "#%% md\n"
    }
   },
   "source": [
    "### 연습\n",
    "\n",
    "* Fare --> Survived : 히스토그램과 밀도함수 그래프로 시각화 해 봅시다."
   ]
  },
  {
   "cell_type": "code",
   "execution_count": 9,
   "metadata": {
    "id": "Aho6aUMSOmYg",
    "pycharm": {
     "name": "#%%\n"
    }
   },
   "outputs": [
    {
     "data": {
      "text/plain": "<Figure size 432x288 with 1 Axes>",
      "image/png": "[encoded data removed]"
     },
     "metadata": {
      "needs_background": "light"
     },
     "output_type": "display_data"
    }
   ],
   "source": [
    "sns.histplot(x='Fare', hue='Survived', data=titanic, bins=16)\n",
    "plt.show()"
   ]
  },
  {
   "cell_type": "code",
   "execution_count": 18,
   "metadata": {
    "id": "9JgCLp_i9qNj",
    "pycharm": {
     "name": "#%%\n"
    }
   },
   "outputs": [
    {
     "data": {
      "text/plain": "<Figure size 432x288 with 1 Axes>",
      "image/png": "[encoded data removed]"
     },
     "metadata": {
      "needs_background": "light"
     },
     "output_type": "display_data"
    }
   ],
   "source": [
    "sns.kdeplot(x='Fare', data=titanic, hue = 'Survived')\n",
    "plt.show()"
   ]
  },
  {
   "cell_type": "code",
   "execution_count": 19,
   "metadata": {
    "id": "HQ-O7pZg9qBa",
    "pycharm": {
     "name": "#%%\n"
    }
   },
   "outputs": [
    {
     "data": {
      "text/plain": "<Figure size 432x288 with 1 Axes>",
      "image/png": "[encoded data removed]"
     },
     "metadata": {
      "needs_background": "light"
     },
     "output_type": "display_data"
    }
   ],
   "source": [
    "sns.kdeplot(x='Fare', data=titanic, hue='Survived', common_norm=False)\n",
    "plt.show()"
   ]
  },
  {
   "cell_type": "code",
   "source": [
    "sns.kdeplot(x='Fare', data=titanic, hue = 'Survived', multiple='fill')\n",
    "plt.axhline(1-titanic.Survived.mean(), color='g')\n",
    "plt.show()"
   ],
   "metadata": {
    "id": "PVAr1B75Rdzh",
    "pycharm": {
     "name": "#%%\n"
    }
   },
   "execution_count": 21,
   "outputs": [
    {
     "data": {
      "text/plain": "<Figure size 432x288 with 1 Axes>",
      "image/png": "[encoded data removed]"
     },
     "metadata": {
      "needs_background": "light"
     },
     "output_type": "display_data"
    }
   ]
  },
  {
   "cell_type": "markdown",
   "metadata": {
    "id": "zIJRVvKS9CgC",
    "pycharm": {
     "name": "#%% md\n"
    }
   },
   "source": [
    "## 3.수치화 : 로지스틱 회귀 모델로 부터 p value 구하기"
   ]
  },
  {
   "cell_type": "markdown",
   "metadata": {
    "id": "KcE4BdT5m7zp",
    "pycharm": {
     "name": "#%% md\n"
    }
   },
   "source": [
    "숫자 --> 범주에 대해 딱 맞는 가설검정 도구가 없으므로, 로지스틱 회귀 모델로 부터 p-value를 구해봅시다."
   ]
  },
  {
   "cell_type": "code",
   "execution_count": null,
   "metadata": {
    "id": "RTWC6vEg5Fd3",
    "pycharm": {
     "name": "#%%\n"
    }
   },
   "outputs": [],
   "source": [
    "# 로지스틱 모형을 만들고 통계량을 구해 봅시다.\n",
    "model = sm.Logit(titanic['Survived'], titanic['Age'])\n",
    "result = model.fit()\n",
    "print(result.pvalues)"
   ]
  },
  {
   "cell_type": "markdown",
   "metadata": {
    "id": "lZ9bZC-m9sx0",
    "pycharm": {
     "name": "#%% md\n"
    }
   },
   "source": [
    "### 연습\n",
    "\n",
    "* Fare --> Survived : 로지스틱회귀로 부터 p-value를 구해 봅시다."
   ]
  },
  {
   "cell_type": "code",
   "execution_count": null,
   "metadata": {
    "id": "bt-vgu3j9sx0",
    "pycharm": {
     "name": "#%%\n"
    }
   },
   "outputs": [],
   "source": []
  },
  {
   "cell_type": "code",
   "execution_count": null,
   "metadata": {
    "id": "I6B8aimkOmNu",
    "pycharm": {
     "name": "#%%\n"
    }
   },
   "outputs": [],
   "source": []
  },
  {
   "cell_type": "markdown",
   "metadata": {
    "id": "1oPLOHIsryHj",
    "pycharm": {
     "name": "#%% md\n"
    }
   },
   "source": [
    "# 종합실습"
   ]
  },
  {
   "cell_type": "markdown",
   "metadata": {
    "id": "MS9gHc_7ryHr",
    "pycharm": {
     "name": "#%% md\n"
    }
   },
   "source": [
    "## 1.환경준비"
   ]
  },
  {
   "cell_type": "markdown",
   "metadata": {
    "id": "2Sxw2VXtryHr",
    "pycharm": {
     "name": "#%% md\n"
    }
   },
   "source": [
    "* 라이브러리 불러오기"
   ]
  },
  {
   "cell_type": "code",
   "execution_count": null,
   "metadata": {
    "id": "H6lz8COjryHs",
    "pycharm": {
     "name": "#%%\n"
    }
   },
   "outputs": [],
   "source": [
    "import pandas as pd\n",
    "import numpy as np\n",
    "import random as rd\n",
    "\n",
    "import matplotlib.pyplot as plt\n",
    "import seaborn as sns\n",
    "\n",
    "import statsmodels.api as sm"
   ]
  },
  {
   "cell_type": "markdown",
   "metadata": {
    "id": "gTqw4I8cryHs",
    "pycharm": {
     "name": "#%% md\n"
    }
   },
   "source": [
    "* 데이터 불러오기 : 다음의 예제 데이터를 사용합니다.\n",
    "> ① 타이타닉 생존자  \n",
    "② 직원 이직 분석"
   ]
  },
  {
   "cell_type": "markdown",
   "source": [
    "① 타이타닉 생존자"
   ],
   "metadata": {
    "id": "aBF5RNXkoGTH",
    "pycharm": {
     "name": "#%% md\n"
    }
   }
  },
  {
   "cell_type": "markdown",
   "source": [
    "|\t변수\t|\t설명\t|\t값 설명\t|\n",
    "|\t----\t|\t----\t|\t----\t|\n",
    "|\tsurvived\t|\t생존여부\t|\t0 - 사망, 1- 생존\t|\n",
    "|\tPclass\t|\tTicket class\t|\t1 = 1st, 2 = 2nd, 3 = 3rd\t|\n",
    "|\tSex\t|\t성별\t|\t\t|\n",
    "|\tAge\t|\tAge in years\t|\t\t|\n",
    "|\tSibsp\t|\t# of siblings / spouses aboard the Titanic\t|\t\t|\n",
    "|\tParch\t|\t# of parents / children aboard the Titanic\t|\t\t|\n",
    "|\tTicket\t|\tTicket number\t|\t\t|\n",
    "|\tFare\t|\tPassenger fare\t|\t\t|\n",
    "|\tCabin\t|\tCabin number\t|\t\t|\n",
    "|\tEmbarked\t|\tPort of Embarkation\t|\tC = Cherbourg, Q = Queenstown, S = Southampton\t|\n"
   ],
   "metadata": {
    "id": "huJWcxbBtDD0",
    "pycharm": {
     "name": "#%% md\n"
    }
   }
  },
  {
   "cell_type": "code",
   "execution_count": null,
   "metadata": {
    "id": "t4AZgZRei2Nh",
    "pycharm": {
     "name": "#%%\n"
    }
   },
   "outputs": [],
   "source": [
    "# 타이타닉 데이터\n",
    "titanic = pd.read_csv('https://raw.githubusercontent.com/DA4BAM/dataset/master/titanic.1.csv')\n",
    "titanic.head()"
   ]
  },
  {
   "cell_type": "markdown",
   "metadata": {
    "id": "JjOJiREMY03m",
    "pycharm": {
     "name": "#%% md\n"
    }
   },
   "source": [
    "② 직원 이직 분석\n"
   ]
  },
  {
   "cell_type": "markdown",
   "metadata": {
    "id": "155flcV-LNEC",
    "pycharm": {
     "name": "#%% md\n"
    }
   },
   "source": [
    "|\t구분\t|\t변수 명\t|\t내용\t|\ttype\t|\t비고\t|\n",
    "|\t----\t|\t----\t|\t----\t|\t----\t|\t----\t|\n",
    "|\t**Target**\t|\t**Attrition**\t|\t이직여부, Yes , No\t|\t범주\t| 1- 이직, 0- 잔류\t\t|\n",
    "|\tfeature\t|\tAge\t|\t나이\t|\t숫자\t|\t\t|\n",
    "|\tfeature\t|\tDistanceFromHome\t|\t집-직장 거리\t|\t숫자\t|\t마일\t|\n",
    "|\tfeature\t|\tEmployNumber\t|\t사번\t|\t숫자\t| \t|\n",
    "|\tfeature\t|\tGender\t|\t성별\t|\t범주\t| Male, Female\t\t|\n",
    "|\tfeature\t|\tJobSatisfaction\t|\t직무 만족도\t|\t범주\t|\t1 Low, 2 Medium, 3 High, 4 Very High\t|\n",
    "|\tfeature\t|\tMaritalStatus\t|\t결혼상태\t|\t범주\t| Single, Married, Divorced\t\t|\n",
    "|\tfeature\t|\tMonthlyIncome\t|\t월급\t|\t숫자\t| 달러\t|\n",
    "|\tfeature\t|\tOverTime\t|\t야근여부\t|\t범주\t|\tYes, No\t|\n",
    "|\tfeature\t|\tPercentSalaryHike\t|\t전년대비 급여인상율\t|\t숫자\t|\t%\t|\n",
    "|\tfeature\t|\tTotalWorkingYears\t|\t총 경력 연수\t|\t숫자\t|\t\t|"
   ]
  },
  {
   "cell_type": "code",
   "execution_count": null,
   "metadata": {
    "id": "2voHuCQWY03s",
    "pycharm": {
     "name": "#%%\n"
    }
   },
   "outputs": [],
   "source": [
    "# 직원 이직 데이터\n",
    "path = 'https://raw.githubusercontent.com/DA4BAM/dataset/master/Attrition_simple2.CSV'\n",
    "attrition = pd.read_csv(path)  \n",
    "attrition.head(5)"
   ]
  },
  {
   "cell_type": "markdown",
   "metadata": {
    "id": "jyLho2bqryHt",
    "pycharm": {
     "name": "#%% md\n"
    }
   },
   "source": [
    "## 2.시각화"
   ]
  },
  {
   "cell_type": "markdown",
   "metadata": {
    "id": "mZZ_Vtv9ryHt",
    "pycharm": {
     "name": "#%% md\n"
    }
   },
   "source": [
    "① titanic : Age -- > Survived"
   ]
  },
  {
   "cell_type": "markdown",
   "metadata": {
    "id": "T2aLi7ir5VSD",
    "pycharm": {
     "name": "#%% md\n"
    }
   },
   "source": [
    "* 히스토그램으로 관계를 살펴 봅시다."
   ]
  },
  {
   "cell_type": "code",
   "execution_count": null,
   "metadata": {
    "id": "VceyTEfDryHu",
    "pycharm": {
     "name": "#%%\n"
    }
   },
   "outputs": [],
   "source": []
  },
  {
   "cell_type": "markdown",
   "metadata": {
    "id": "xHH7y-LK5a6h",
    "pycharm": {
     "name": "#%% md\n"
    }
   },
   "source": [
    "* density plot으로 비교해봅시다."
   ]
  },
  {
   "cell_type": "code",
   "execution_count": null,
   "metadata": {
    "id": "Qe7VIxgMMl5I",
    "pycharm": {
     "name": "#%%\n"
    }
   },
   "outputs": [],
   "source": [
    "# sns.kdeplot(  , hue = )\n"
   ]
  },
  {
   "cell_type": "code",
   "execution_count": null,
   "metadata": {
    "id": "_X0-NCzaMl5J",
    "pycharm": {
     "name": "#%%\n"
    }
   },
   "outputs": [],
   "source": [
    "# sns.kdeplot(  , hue = , common_norm = False )\n"
   ]
  },
  {
   "cell_type": "markdown",
   "source": [
    "* multiple = 'fill' 옵션"
   ],
   "metadata": {
    "id": "YUK-ycQ3QXyE",
    "pycharm": {
     "name": "#%% md\n"
    }
   }
  },
  {
   "cell_type": "code",
   "source": [],
   "metadata": {
    "id": "a9hSzZjozQ0x",
    "pycharm": {
     "name": "#%%\n"
    }
   },
   "execution_count": null,
   "outputs": []
  },
  {
   "cell_type": "code",
   "source": [],
   "metadata": {
    "id": "Aol-bV0BPo_J",
    "pycharm": {
     "name": "#%%\n"
    }
   },
   "execution_count": null,
   "outputs": []
  },
  {
   "cell_type": "markdown",
   "metadata": {
    "id": "qnDeQuqh6uQR",
    "pycharm": {
     "name": "#%% md\n"
    }
   },
   "source": [
    "* 차트를 해석해 봅시다."
   ]
  },
  {
   "cell_type": "code",
   "execution_count": null,
   "metadata": {
    "id": "z2YwYMXn60uL",
    "pycharm": {
     "name": "#%%\n"
    }
   },
   "outputs": [],
   "source": []
  },
  {
   "cell_type": "markdown",
   "metadata": {
    "id": "IWr6sMbJ5kHa",
    "pycharm": {
     "name": "#%% md\n"
    }
   },
   "source": [
    "② attrition : Age -- > Attrition"
   ]
  },
  {
   "cell_type": "markdown",
   "metadata": {
    "id": "_DCR1vBs5kHq",
    "pycharm": {
     "name": "#%% md\n"
    }
   },
   "source": [
    "* 히스토그램으로 관계를 살펴 봅시다."
   ]
  },
  {
   "cell_type": "code",
   "execution_count": null,
   "metadata": {
    "id": "-XTw9X4r5kHq",
    "pycharm": {
     "name": "#%%\n"
    }
   },
   "outputs": [],
   "source": []
  },
  {
   "cell_type": "markdown",
   "metadata": {
    "id": "5TzWobcm5kHs",
    "pycharm": {
     "name": "#%% md\n"
    }
   },
   "source": [
    "* density plot으로 비교해봅시다."
   ]
  },
  {
   "cell_type": "code",
   "execution_count": null,
   "metadata": {
    "id": "ExDBEOtl5kHs",
    "pycharm": {
     "name": "#%%\n"
    }
   },
   "outputs": [],
   "source": [
    "# sns.kdeplot(  , hue = )\n"
   ]
  },
  {
   "cell_type": "code",
   "execution_count": null,
   "metadata": {
    "id": "l_kFjdsj5kHt",
    "pycharm": {
     "name": "#%%\n"
    }
   },
   "outputs": [],
   "source": [
    "# sns.kdeplot(  , hue = , common_norm = False )\n"
   ]
  },
  {
   "cell_type": "markdown",
   "metadata": {
    "id": "0nnSSbPJ62rq",
    "pycharm": {
     "name": "#%% md\n"
    }
   },
   "source": [
    "* 차트를 해석해 봅시다."
   ]
  },
  {
   "cell_type": "code",
   "execution_count": null,
   "metadata": {
    "id": "r8YkPpy_62rr",
    "pycharm": {
     "name": "#%%\n"
    }
   },
   "outputs": [],
   "source": []
  },
  {
   "cell_type": "markdown",
   "metadata": {
    "id": "jo75Zd3wz7O6",
    "pycharm": {
     "name": "#%% md\n"
    }
   },
   "source": [
    "③ attrition : MonthlyIncome -- > Attrition"
   ]
  },
  {
   "cell_type": "markdown",
   "metadata": {
    "id": "hXtlFDXxMroW",
    "pycharm": {
     "name": "#%% md\n"
    }
   },
   "source": [
    "* 히스토그램으로 관계를 살펴 봅시다."
   ]
  },
  {
   "cell_type": "code",
   "execution_count": null,
   "metadata": {
    "id": "7QshuW6HMroX",
    "pycharm": {
     "name": "#%%\n"
    }
   },
   "outputs": [],
   "source": []
  },
  {
   "cell_type": "markdown",
   "metadata": {
    "id": "gTQq3J-FMroX",
    "pycharm": {
     "name": "#%% md\n"
    }
   },
   "source": [
    "* density plot으로 비교해봅시다."
   ]
  },
  {
   "cell_type": "code",
   "execution_count": null,
   "metadata": {
    "id": "boBQbjInMroX",
    "pycharm": {
     "name": "#%%\n"
    }
   },
   "outputs": [],
   "source": [
    "# sns.kdeplot(  , hue = )\n"
   ]
  },
  {
   "cell_type": "code",
   "execution_count": null,
   "metadata": {
    "id": "Ii9C9bIPMroX",
    "pycharm": {
     "name": "#%%\n"
    }
   },
   "outputs": [],
   "source": [
    "# sns.kdeplot(  , hue = , common_norm = False )\n"
   ]
  },
  {
   "cell_type": "markdown",
   "metadata": {
    "id": "owgvX7n_MroX",
    "pycharm": {
     "name": "#%% md\n"
    }
   },
   "source": [
    "* 차트를 해석해 봅시다."
   ]
  },
  {
   "cell_type": "code",
   "execution_count": null,
   "metadata": {
    "id": "kjdjaGeEz7O7",
    "pycharm": {
     "name": "#%%\n"
    }
   },
   "outputs": [],
   "source": []
  },
  {
   "cell_type": "markdown",
   "metadata": {
    "id": "7IHYFs-sryH0",
    "pycharm": {
     "name": "#%% md\n"
    }
   },
   "source": [
    "## 3.수치화 : 로지스틱 회귀 모델로 부터 p value 구하기"
   ]
  },
  {
   "cell_type": "markdown",
   "metadata": {
    "id": "XWIwhhlbryH1",
    "pycharm": {
     "name": "#%% md\n"
    }
   },
   "source": [
    "숫자 --> 범주에 대해 딱 맞는 가설검정 도구가 없으므로, 로지스틱 회귀 모델로 부터 p-value를 구해봅시다."
   ]
  },
  {
   "cell_type": "markdown",
   "metadata": {
    "id": "BigLqBRr7NOA",
    "pycharm": {
     "name": "#%% md\n"
    }
   },
   "source": [
    "① titanic : Age -- > Survived"
   ]
  },
  {
   "cell_type": "markdown",
   "metadata": {
    "id": "7W0IixFv7NOO",
    "pycharm": {
     "name": "#%% md\n"
    }
   },
   "source": [
    "* 로지스틱 회귀 모형으로 부터 pvalue를 구해 봅시다."
   ]
  },
  {
   "cell_type": "code",
   "execution_count": null,
   "metadata": {
    "id": "chdEVF4X7U24",
    "pycharm": {
     "name": "#%%\n"
    }
   },
   "outputs": [],
   "source": []
  },
  {
   "cell_type": "markdown",
   "metadata": {
    "id": "DAkSIkLz7NOP",
    "pycharm": {
     "name": "#%% md\n"
    }
   },
   "source": [
    "* 결과를 해석해 봅시다."
   ]
  },
  {
   "cell_type": "code",
   "execution_count": null,
   "metadata": {
    "id": "GHzSuY757NOQ",
    "pycharm": {
     "name": "#%%\n"
    }
   },
   "outputs": [],
   "source": []
  },
  {
   "cell_type": "markdown",
   "metadata": {
    "id": "yoMI1Ied0TC-",
    "pycharm": {
     "name": "#%% md\n"
    }
   },
   "source": [
    "② attrition : Age -- > Attrition"
   ]
  },
  {
   "cell_type": "markdown",
   "metadata": {
    "id": "gvFbEffq7bBf",
    "pycharm": {
     "name": "#%% md\n"
    }
   },
   "source": [
    "* 로지스틱 회귀 모형으로 부터 pvalue를 구해 봅시다."
   ]
  },
  {
   "cell_type": "code",
   "execution_count": null,
   "metadata": {
    "id": "JYw_7hKE7bBh",
    "pycharm": {
     "name": "#%%\n"
    }
   },
   "outputs": [],
   "source": []
  },
  {
   "cell_type": "markdown",
   "metadata": {
    "id": "SPs3tJUC7bBh",
    "pycharm": {
     "name": "#%% md\n"
    }
   },
   "source": [
    "* 결과를 해석해 봅시다."
   ]
  },
  {
   "cell_type": "code",
   "execution_count": null,
   "metadata": {
    "id": "0KNT7aBH7bBi",
    "pycharm": {
     "name": "#%%\n"
    }
   },
   "outputs": [],
   "source": []
  },
  {
   "cell_type": "markdown",
   "metadata": {
    "id": "XFifuMle7NOS",
    "pycharm": {
     "name": "#%% md\n"
    }
   },
   "source": [
    "③ attrition : MonthlyIncome -- > versicolor"
   ]
  },
  {
   "cell_type": "markdown",
   "metadata": {
    "id": "K2IkYTEy7fEs",
    "pycharm": {
     "name": "#%% md\n"
    }
   },
   "source": [
    "* 로지스틱 회귀 모형으로 부터 pvalue를 구해 봅시다."
   ]
  },
  {
   "cell_type": "code",
   "execution_count": null,
   "metadata": {
    "id": "hpmVxpfS7fEt",
    "pycharm": {
     "name": "#%%\n"
    }
   },
   "outputs": [],
   "source": []
  },
  {
   "cell_type": "markdown",
   "metadata": {
    "id": "ZQtpMbJZ7fEt",
    "pycharm": {
     "name": "#%% md\n"
    }
   },
   "source": [
    "* 결과를 해석해 봅시다."
   ]
  },
  {
   "cell_type": "code",
   "execution_count": null,
   "metadata": {
    "id": "i8O2tCuT7fEu",
    "pycharm": {
     "name": "#%%\n"
    }
   },
   "outputs": [],
   "source": []
  }
 ],
 "metadata": {
  "colab": {
   "collapsed_sections": [],
   "name": "10과 이변량_숫자 vs 범주.ipynb",
   "provenance": [],
   "toc_visible": true
  },
  "kernelspec": {
   "display_name": "Python 3",
   "language": "python",
   "name": "python3"
  },
  "language_info": {
   "codemirror_mode": {
    "name": "ipython",
    "version": 3
   },
   "file_extension": ".py",
   "mimetype": "text/x-python",
   "name": "python",
   "nbconvert_exporter": "python",
   "pygments_lexer": "ipython3",
   "version": "3.6.5"
  }
 },
 "nbformat": 4,
 "nbformat_minor": 0
}