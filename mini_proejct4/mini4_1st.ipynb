{
 "cells": [
  {
   "cell_type": "code",
   "execution_count": 146,
   "metadata": {},
   "outputs": [
    {
     "name": "stdout",
     "output_type": "stream",
     "text": [
      "Collecting seaborn\n",
      "  Downloading seaborn-0.11.2-py3-none-any.whl (292 kB)\n",
      "     |████████████████████████████████| 292 kB 30.1 MB/s            01\n",
      "\u001b[?25hRequirement already satisfied: numpy>=1.15 in /usr/local/lib/python3.6/dist-packages (from seaborn) (1.19.5)\n",
      "Requirement already satisfied: pandas>=0.23 in /usr/local/lib/python3.6/dist-packages (from seaborn) (1.1.5)\n",
      "Requirement already satisfied: matplotlib>=2.2 in /usr/local/lib/python3.6/dist-packages (from seaborn) (3.3.3)\n",
      "Requirement already satisfied: scipy>=1.0 in /usr/local/lib/python3.6/dist-packages (from seaborn) (1.5.4)\n",
      "Requirement already satisfied: pillow>=6.2.0 in /usr/local/lib/python3.6/dist-packages (from matplotlib>=2.2->seaborn) (8.1.0)\n",
      "Requirement already satisfied: python-dateutil>=2.1 in /usr/local/lib/python3.6/dist-packages (from matplotlib>=2.2->seaborn) (2.8.1)\n",
      "Requirement already satisfied: kiwisolver>=1.0.1 in /usr/local/lib/python3.6/dist-packages (from matplotlib>=2.2->seaborn) (1.3.1)\n",
      "Requirement already satisfied: pyparsing!=2.0.4,!=2.1.2,!=2.1.6,>=2.0.3 in /usr/local/lib/python3.6/dist-packages (from matplotlib>=2.2->seaborn) (2.4.7)\n",
      "Requirement already satisfied: cycler>=0.10 in /usr/local/lib/python3.6/dist-packages (from matplotlib>=2.2->seaborn) (0.10.0)\n",
      "Requirement already satisfied: pytz>=2017.2 in /usr/local/lib/python3.6/dist-packages (from pandas>=0.23->seaborn) (2022.1)\n",
      "Requirement already satisfied: six in /usr/local/lib/python3.6/dist-packages (from cycler>=0.10->matplotlib>=2.2->seaborn) (1.15.0)\n",
      "Installing collected packages: seaborn\n",
      "Successfully installed seaborn-0.11.2\n",
      "\u001b[33mWARNING: Running pip as the 'root' user can result in broken permissions and conflicting behaviour with the system package manager. It is recommended to use a virtual environment instead: https://pip.pypa.io/warnings/venv\u001b[0m\n"
     ]
    }
   ],
   "source": [
    "!pip install seaborn"
   ]
  },
  {
   "cell_type": "code",
   "execution_count": 1,
   "metadata": {},
   "outputs": [],
   "source": [
    "import pandas as pd\n",
    "import konlpy\n",
    "\n",
    "import matplotlib.pyplot as plt\n",
    "import seaborn"
   ]
  },
  {
   "cell_type": "code",
   "execution_count": 2,
   "metadata": {},
   "outputs": [],
   "source": [
    "import os"
   ]
  },
  {
   "cell_type": "code",
   "execution_count": 3,
   "metadata": {},
   "outputs": [
    {
     "data": {
      "text/plain": [
       "['data', 'workspace']"
      ]
     },
     "execution_count": 3,
     "metadata": {},
     "output_type": "execute_result"
    }
   ],
   "source": [
    "os.path.exists('/aihub/data/')\n",
    "os.listdir('/aihub')"
   ]
  },
  {
   "cell_type": "code",
   "execution_count": 4,
   "metadata": {},
   "outputs": [],
   "source": [
    "mecab = konlpy.tag.Mecab()"
   ]
  },
  {
   "cell_type": "code",
   "execution_count": 87,
   "metadata": {},
   "outputs": [],
   "source": [
    "spam = pd.read_csv('data/spam.csv')"
   ]
  },
  {
   "cell_type": "code",
   "execution_count": 88,
   "metadata": {},
   "outputs": [
    {
     "data": {
      "text/plain": [
       "text    0\n",
       "dtype: int64"
      ]
     },
     "execution_count": 88,
     "metadata": {},
     "output_type": "execute_result"
    }
   ],
   "source": [
    "spam_test = pd.read_csv('data/spam_test_text.csv', index_col=0).reset_index(drop=True)\n",
    "spam_test_label = pd.read_csv('data/spam_test_label.csv', index_col=0).reset_index(drop=True)\n",
    "spam_test.isna().sum()"
   ]
  },
  {
   "cell_type": "code",
   "execution_count": 89,
   "metadata": {},
   "outputs": [],
   "source": [
    "spam_test = pd.concat([spam_test, spam_test_label], axis=1)"
   ]
  },
  {
   "cell_type": "code",
   "execution_count": 90,
   "metadata": {},
   "outputs": [],
   "source": [
    "spam.dropna(inplace=True)\n",
    "spam_test.dropna(inplace=True)"
   ]
  },
  {
   "cell_type": "code",
   "execution_count": 64,
   "metadata": {},
   "outputs": [],
   "source": [
    "spam.text = spam.text.replace(r'[^가-힣]', r' ', regex=True)\n",
    "spam_test.text = spam_test.text.replace(r'[^가-힣]', r'', regex=True)"
   ]
  },
  {
   "cell_type": "code",
   "execution_count": 91,
   "metadata": {},
   "outputs": [],
   "source": [
    "spam.label = spam.label.replace({'spam': 1, 'ham': 0})\n",
    "\n",
    "spam.text = spam.text.apply(mecab.nouns)\n",
    "spam.text = spam.text.apply(lambda x: ' '.join(x))"
   ]
  },
  {
   "cell_type": "code",
   "execution_count": 92,
   "metadata": {},
   "outputs": [],
   "source": [
    "spam_test.label = spam_test.label.replace({'spam': 1, 'ham': 0})\n",
    "\n",
    "spam_test.text = spam_test.text.apply(lambda x: mecab.nouns(x))\n",
    "spam_test.text = spam_test.text.apply(lambda x: ' '.join(x))"
   ]
  },
  {
   "cell_type": "code",
   "execution_count": 93,
   "metadata": {},
   "outputs": [
    {
     "data": {
      "text/html": [
       "<div>\n",
       "<style scoped>\n",
       "    .dataframe tbody tr th:only-of-type {\n",
       "        vertical-align: middle;\n",
       "    }\n",
       "\n",
       "    .dataframe tbody tr th {\n",
       "        vertical-align: top;\n",
       "    }\n",
       "\n",
       "    .dataframe thead th {\n",
       "        text-align: right;\n",
       "    }\n",
       "</style>\n",
       "<table border=\"1\" class=\"dataframe\">\n",
       "  <thead>\n",
       "    <tr style=\"text-align: right;\">\n",
       "      <th></th>\n",
       "      <th>text</th>\n",
       "      <th>label</th>\n",
       "    </tr>\n",
       "  </thead>\n",
       "  <tbody>\n",
       "    <tr>\n",
       "      <th>0</th>\n",
       "      <td>발신 광고 강남 시 셔츠 대륙 쵸 이스 문의 홈 무료 거부</td>\n",
       "      <td>1</td>\n",
       "    </tr>\n",
       "    <tr>\n",
       "      <th>1</th>\n",
       "      <td>발신 광고 님 당 무료 거부</td>\n",
       "      <td>1</td>\n",
       "    </tr>\n",
       "    <tr>\n",
       "      <th>2</th>\n",
       "      <td>발신 이태용 월일 자전 정보 본전</td>\n",
       "      <td>1</td>\n",
       "    </tr>\n",
       "    <tr>\n",
       "      <th>3</th>\n",
       "      <td>발신 달서구 마지막 억대 분양 성당 태왕 너스 평형 순위 접수 중 청약 통장 주택 가능</td>\n",
       "      <td>1</td>\n",
       "    </tr>\n",
       "    <tr>\n",
       "      <th>4</th>\n",
       "      <td>발신 광고 개인 업 오늘 하루 연체 부결 카카오 무료 거부</td>\n",
       "      <td>1</td>\n",
       "    </tr>\n",
       "    <tr>\n",
       "      <th>...</th>\n",
       "      <td>...</td>\n",
       "      <td>...</td>\n",
       "    </tr>\n",
       "    <tr>\n",
       "      <th>9891</th>\n",
       "      <td>발신 냉온 정수기 원비 데원 공기 청정기 평원 제습기 원 전기 렌 지원</td>\n",
       "      <td>0</td>\n",
       "    </tr>\n",
       "    <tr>\n",
       "      <th>9892</th>\n",
       "      <td>광고 스파클 유흥 다이소 선정릉 모바일 앱 무료 거부</td>\n",
       "      <td>1</td>\n",
       "    </tr>\n",
       "    <tr>\n",
       "      <th>9893</th>\n",
       "      <td>광고 주행 배정 무료 수신 거부</td>\n",
       "      <td>1</td>\n",
       "    </tr>\n",
       "    <tr>\n",
       "      <th>9894</th>\n",
       "      <td>광고 수산 문자 쿠폰 행사 킹크 랩 원 원 물량 소진 시 무료 거부</td>\n",
       "      <td>0</td>\n",
       "    </tr>\n",
       "    <tr>\n",
       "      <th>9895</th>\n",
       "      <td>스팸 신고 나이 사람 인생 얼굴 사람 웃음 주름 사람 주름 얼굴 오늘 여름철 자외선 것</td>\n",
       "      <td>0</td>\n",
       "    </tr>\n",
       "  </tbody>\n",
       "</table>\n",
       "<p>9896 rows × 2 columns</p>\n",
       "</div>"
      ],
      "text/plain": [
       "                                                  text  label\n",
       "0                     발신 광고 강남 시 셔츠 대륙 쵸 이스 문의 홈 무료 거부      1\n",
       "1                                      발신 광고 님 당 무료 거부      1\n",
       "2                                   발신 이태용 월일 자전 정보 본전      1\n",
       "3     발신 달서구 마지막 억대 분양 성당 태왕 너스 평형 순위 접수 중 청약 통장 주택 가능      1\n",
       "4                     발신 광고 개인 업 오늘 하루 연체 부결 카카오 무료 거부      1\n",
       "...                                                ...    ...\n",
       "9891           발신 냉온 정수기 원비 데원 공기 청정기 평원 제습기 원 전기 렌 지원      0\n",
       "9892                     광고 스파클 유흥 다이소 선정릉 모바일 앱 무료 거부      1\n",
       "9893                                 광고 주행 배정 무료 수신 거부      1\n",
       "9894             광고 수산 문자 쿠폰 행사 킹크 랩 원 원 물량 소진 시 무료 거부      0\n",
       "9895  스팸 신고 나이 사람 인생 얼굴 사람 웃음 주름 사람 주름 얼굴 오늘 여름철 자외선 것      0\n",
       "\n",
       "[9896 rows x 2 columns]"
      ]
     },
     "execution_count": 93,
     "metadata": {},
     "output_type": "execute_result"
    }
   ],
   "source": [
    "spam_test"
   ]
  },
  {
   "cell_type": "code",
   "execution_count": 94,
   "metadata": {},
   "outputs": [],
   "source": [
    "from sklearn.model_selection import *\n",
    "from sklearn.feature_extraction.text import *\n",
    "from sklearn.pipeline import *\n",
    "from sklearn.naive_bayes import MultinomialNB\n",
    "from sklearn.metrics import *"
   ]
  },
  {
   "cell_type": "code",
   "execution_count": 95,
   "metadata": {},
   "outputs": [],
   "source": [
    "X_train, X_test, y_train, y_test = train_test_split(spam.text, spam.label, test_size=.2, random_state=2022)"
   ]
  },
  {
   "cell_type": "code",
   "execution_count": 202,
   "metadata": {},
   "outputs": [],
   "source": [
    "ngram = make_pipeline(CountVectorizer(ngram_range=(1, 3)), \n",
    "                      TfidfTransformer(), \n",
    "                      MultinomialNB())"
   ]
  },
  {
   "cell_type": "code",
   "execution_count": 203,
   "metadata": {},
   "outputs": [
    {
     "data": {
      "text/plain": [
       "Pipeline(steps=[('countvectorizer', CountVectorizer(ngram_range=(1, 3))),\n",
       "                ('tfidftransformer', TfidfTransformer()),\n",
       "                ('multinomialnb', MultinomialNB())])"
      ]
     },
     "execution_count": 203,
     "metadata": {},
     "output_type": "execute_result"
    }
   ],
   "source": [
    "ngram.fit(spam.text, spam.label)"
   ]
  },
  {
   "cell_type": "code",
   "execution_count": 204,
   "metadata": {},
   "outputs": [
    {
     "data": {
      "text/plain": [
       "0.9661523145843703"
      ]
     },
     "execution_count": 204,
     "metadata": {},
     "output_type": "execute_result"
    }
   ],
   "source": [
    "ngram.score(X_test, y_test)"
   ]
  },
  {
   "cell_type": "code",
   "execution_count": 205,
   "metadata": {},
   "outputs": [
    {
     "data": {
      "text/plain": [
       "0.9742424242424242"
      ]
     },
     "execution_count": 205,
     "metadata": {},
     "output_type": "execute_result"
    }
   ],
   "source": [
    "f1_score(y_test, ngram.predict(X_test))"
   ]
  },
  {
   "cell_type": "code",
   "execution_count": 206,
   "metadata": {},
   "outputs": [],
   "source": [
    "y_pred = ngram.predict(spam_test.text)"
   ]
  },
  {
   "cell_type": "code",
   "execution_count": 184,
   "metadata": {},
   "outputs": [
    {
     "data": {
      "text/plain": [
       "0.9211877651261443"
      ]
     },
     "execution_count": 184,
     "metadata": {},
     "output_type": "execute_result"
    }
   ],
   "source": [
    "# r'[^가-힣]' -> r' '\n",
    "f1_score(spam_test.label, y_pred)"
   ]
  },
  {
   "cell_type": "code",
   "execution_count": 207,
   "metadata": {},
   "outputs": [
    {
     "data": {
      "text/plain": [
       "0.9222180870859695"
      ]
     },
     "execution_count": 207,
     "metadata": {},
     "output_type": "execute_result"
    }
   ],
   "source": [
    "# r'[^가-힣]' -> r''\n",
    "f1_score(spam_test.label, y_pred)"
   ]
  },
  {
   "cell_type": "code",
   "execution_count": 168,
   "metadata": {},
   "outputs": [
    {
     "data": {
      "text/plain": [
       "0.926443133447838"
      ]
     },
     "execution_count": 168,
     "metadata": {},
     "output_type": "execute_result"
    }
   ],
   "source": [
    "# 기본 mecab.nouns\n",
    "f1_score(spam_test.label, y_pred)"
   ]
  },
  {
   "cell_type": "code",
   "execution_count": null,
   "metadata": {},
   "outputs": [],
   "source": []
  },
  {
   "cell_type": "code",
   "execution_count": 47,
   "metadata": {},
   "outputs": [],
   "source": [
    "y_pred_df = pd.DataFrame(y_pred, columns=['label']).replace({1:'spam', 0:'ham'}).reset_index(drop=False).rename(columns={'index': 'id'})"
   ]
  },
  {
   "cell_type": "code",
   "execution_count": 62,
   "metadata": {},
   "outputs": [
    {
     "data": {
      "text/html": [
       "<div>\n",
       "<style scoped>\n",
       "    .dataframe tbody tr th:only-of-type {\n",
       "        vertical-align: middle;\n",
       "    }\n",
       "\n",
       "    .dataframe tbody tr th {\n",
       "        vertical-align: top;\n",
       "    }\n",
       "\n",
       "    .dataframe thead th {\n",
       "        text-align: right;\n",
       "    }\n",
       "</style>\n",
       "<table border=\"1\" class=\"dataframe\">\n",
       "  <thead>\n",
       "    <tr style=\"text-align: right;\">\n",
       "      <th></th>\n",
       "      <th>text</th>\n",
       "      <th>label</th>\n",
       "    </tr>\n",
       "  </thead>\n",
       "  <tbody>\n",
       "    <tr>\n",
       "      <th>0</th>\n",
       "      <td>발신 광고 강남 시 셔츠 대륙 쵸 이스 문의 홈 무료 거부</td>\n",
       "      <td>1</td>\n",
       "    </tr>\n",
       "    <tr>\n",
       "      <th>1</th>\n",
       "      <td>발신 광고 님 당 무료 거부</td>\n",
       "      <td>1</td>\n",
       "    </tr>\n",
       "    <tr>\n",
       "      <th>2</th>\n",
       "      <td>발신 이태용 월일 자전 정보 본전</td>\n",
       "      <td>1</td>\n",
       "    </tr>\n",
       "    <tr>\n",
       "      <th>3</th>\n",
       "      <td>발신 달서구 마지막 억대 분양 성당 태왕 너스 평형 순위 접수 중 청약 통장 주택 가능</td>\n",
       "      <td>1</td>\n",
       "    </tr>\n",
       "    <tr>\n",
       "      <th>4</th>\n",
       "      <td>발신 광고 개인 업 오늘 하루 연체 부결 카카오 무료 거부</td>\n",
       "      <td>1</td>\n",
       "    </tr>\n",
       "    <tr>\n",
       "      <th>...</th>\n",
       "      <td>...</td>\n",
       "      <td>...</td>\n",
       "    </tr>\n",
       "    <tr>\n",
       "      <th>9891</th>\n",
       "      <td>발신 냉온 정수기 원비 데원 공기 청정기 평원 제습기 원 전기 렌 지원</td>\n",
       "      <td>0</td>\n",
       "    </tr>\n",
       "    <tr>\n",
       "      <th>9892</th>\n",
       "      <td>광고 스파클 유흥 다이소 선정릉 모바일 앱 무료 거부</td>\n",
       "      <td>1</td>\n",
       "    </tr>\n",
       "    <tr>\n",
       "      <th>9893</th>\n",
       "      <td>광고 주행 배정 무료 수신 거부</td>\n",
       "      <td>1</td>\n",
       "    </tr>\n",
       "    <tr>\n",
       "      <th>9894</th>\n",
       "      <td>광고 수산 문자 쿠폰 행사 킹크 랩 원 원 물량 소진 시 무료 거부</td>\n",
       "      <td>0</td>\n",
       "    </tr>\n",
       "    <tr>\n",
       "      <th>9895</th>\n",
       "      <td>스팸 신고 나이 사람 인생 얼굴 사람 웃음 주름 사람 주름 얼굴 오늘 여름철 자외선 것</td>\n",
       "      <td>0</td>\n",
       "    </tr>\n",
       "  </tbody>\n",
       "</table>\n",
       "<p>9896 rows × 2 columns</p>\n",
       "</div>"
      ],
      "text/plain": [
       "                                                  text  label\n",
       "0                     발신 광고 강남 시 셔츠 대륙 쵸 이스 문의 홈 무료 거부      1\n",
       "1                                      발신 광고 님 당 무료 거부      1\n",
       "2                                   발신 이태용 월일 자전 정보 본전      1\n",
       "3     발신 달서구 마지막 억대 분양 성당 태왕 너스 평형 순위 접수 중 청약 통장 주택 가능      1\n",
       "4                     발신 광고 개인 업 오늘 하루 연체 부결 카카오 무료 거부      1\n",
       "...                                                ...    ...\n",
       "9891           발신 냉온 정수기 원비 데원 공기 청정기 평원 제습기 원 전기 렌 지원      0\n",
       "9892                     광고 스파클 유흥 다이소 선정릉 모바일 앱 무료 거부      1\n",
       "9893                                 광고 주행 배정 무료 수신 거부      1\n",
       "9894             광고 수산 문자 쿠폰 행사 킹크 랩 원 원 물량 소진 시 무료 거부      0\n",
       "9895  스팸 신고 나이 사람 인생 얼굴 사람 웃음 주름 사람 주름 얼굴 오늘 여름철 자외선 것      0\n",
       "\n",
       "[9896 rows x 2 columns]"
      ]
     },
     "execution_count": 62,
     "metadata": {},
     "output_type": "execute_result"
    }
   ],
   "source": [
    "spam_test"
   ]
  },
  {
   "cell_type": "code",
   "execution_count": null,
   "metadata": {},
   "outputs": [],
   "source": []
  },
  {
   "cell_type": "code",
   "execution_count": 245,
   "metadata": {},
   "outputs": [],
   "source": [
    "y_pred_df.to_csv(\"/aihub/data/submission.csv\",index=False)"
   ]
  },
  {
   "cell_type": "code",
   "execution_count": 69,
   "metadata": {},
   "outputs": [],
   "source": [
    "from tensorflow.python.keras.preprocessing import sequence\n",
    "from tensorflow.python.keras.preprocessing import text\n",
    "\n",
    "# Vectorization parameters\n",
    "# Limit on the number of features. We use the top 20K features.\n",
    "TOP_K = 32000\n",
    "\n",
    "# Limit on the length of text sequences. Sequences longer than this\n",
    "# will be truncated.\n",
    "MAX_SEQUENCE_LENGTH = 500\n",
    "\n",
    "def sequence_vectorize(train_texts, val_texts):\n",
    "    \"\"\"Vectorizes texts as sequence vectors.\n",
    "\n",
    "    1 text = 1 sequence vector with fixed length.\n",
    "\n",
    "    # Arguments\n",
    "        train_texts: list, training text strings.\n",
    "        val_texts: list, validation text strings.\n",
    "\n",
    "    # Returns\n",
    "        x_train, x_val, word_index: vectorized training and validation\n",
    "            texts and word index dictionary.\n",
    "    \"\"\"\n",
    "    # Create vocabulary with training texts.\n",
    "    tokenizer = text.Tokenizer(num_words=TOP_K)\n",
    "    tokenizer.fit_on_texts(train_texts)\n",
    "\n",
    "    # Vectorize training and validation texts.\n",
    "    x_train = tokenizer.texts_to_sequences(train_texts)\n",
    "    x_val = tokenizer.texts_to_sequences(val_texts)\n",
    "\n",
    "    # Get max sequence length.\n",
    "    max_length = len(max(x_train, key=len))\n",
    "    if max_length > MAX_SEQUENCE_LENGTH:\n",
    "        max_length = MAX_SEQUENCE_LENGTH\n",
    "\n",
    "    # Fix sequence length to max value. Sequences shorter than the length are\n",
    "    # padded in the beginning and sequences longer are truncated\n",
    "    # at the beginning.\n",
    "    x_train = sequence.pad_sequences(x_train, maxlen=max_length)\n",
    "    x_val = sequence.pad_sequences(x_val, maxlen=max_length)\n",
    "    return x_train, x_val, tokenizer.word_index\n",
    "\n",
    "X_train_seq, X_test_seq, _ = sequence_vectorize(X_train, X_test)"
   ]
  },
  {
   "cell_type": "code",
   "execution_count": 96,
   "metadata": {},
   "outputs": [],
   "source": [
    "tokenizer = text.Tokenizer(16215)\n",
    "tokenizer.fit_on_texts(X_train)\n",
    "vocab_size = 16215"
   ]
  },
  {
   "cell_type": "code",
   "execution_count": 97,
   "metadata": {},
   "outputs": [
    {
     "data": {
      "text/plain": [
       "16215"
      ]
     },
     "execution_count": 97,
     "metadata": {},
     "output_type": "execute_result"
    }
   ],
   "source": [
    "word_to_index = tokenizer.word_index\n",
    "len(word_to_index)"
   ]
  },
  {
   "cell_type": "code",
   "execution_count": 98,
   "metadata": {},
   "outputs": [
    {
     "name": "stdout",
     "output_type": "stream",
     "text": [
      "등장 빈도가 1번 이하인 희귀 단어의 수: 8237\n",
      "단어 집합(vocabulary)에서 희귀 단어의 비율: 50.7986432315757\n",
      "전체 등장 빈도에서 희귀 단어 등장 빈도 비율: 0.0\n"
     ]
    }
   ],
   "source": [
    "threshold = 2\n",
    "total_cnt = len(word_to_index) # 단어의 수\n",
    "rare_cnt = 0 # 등장 빈도수가 threshold보다 작은 단어의 개수를 카운트\n",
    "total_freq = 0 # 훈련 데이터의 전체 단어 빈도수 총 합\n",
    "rare_freq = 0 # 등장 빈도수가 threshold보다 작은 단어의 등장 빈도수의 총 합\n",
    "\n",
    "# 단어와 빈도수의 쌍(pair)을 key와 value로 받는다.\n",
    "for key, value in tokenizer.word_counts.items():\n",
    "    total_freq = total_freq + value\n",
    "\n",
    "    # 단어의 등장 빈도수가 threshold보다 작으면\n",
    "    if(value < threshold):\n",
    "        rare_cnt = rare_cnt + 1\n",
    "        \n",
    "print('등장 빈도가 %s번 이하인 희귀 단어의 수: %s'%(threshold - 1, rare_cnt))\n",
    "print(\"단어 집합(vocabulary)에서 희귀 단어의 비율:\", (rare_cnt / total_cnt)*100)\n",
    "print(\"전체 등장 빈도에서 희귀 단어 등장 빈도 비율:\", (rare_freq / total_freq)*100)"
   ]
  },
  {
   "cell_type": "code",
   "execution_count": 99,
   "metadata": {},
   "outputs": [],
   "source": [
    "tokenizer = text.Tokenizer(num_words = total_cnt - rare_cnt + 1) #1번 이하로 등장하는 단어는 제외\n",
    "tokenizer.fit_on_texts(X_train)\n",
    "sequences = tokenizer.texts_to_sequences(X_train)# 단어를 숫자값, 인덱스로 변환하여 저장"
   ]
  },
  {
   "cell_type": "code",
   "execution_count": 100,
   "metadata": {},
   "outputs": [],
   "source": [
    "X_train_seq = tokenizer.texts_to_sequences(X_train)"
   ]
  },
  {
   "cell_type": "code",
   "execution_count": 101,
   "metadata": {},
   "outputs": [],
   "source": [
    "X_test_seq = tokenizer.texts_to_sequences(X_test)"
   ]
  },
  {
   "cell_type": "code",
   "execution_count": 102,
   "metadata": {},
   "outputs": [
    {
     "name": "stdout",
     "output_type": "stream",
     "text": [
      "메일의 최대 길이 : 40\n",
      "메일의 평균 길이 : 10.032045\n"
     ]
    },
    {
     "data": {
      "image/png": "[encoded data removed]",
      "text/plain": [
       "<Figure size 432x288 with 1 Axes>"
      ]
     },
     "metadata": {
      "needs_background": "light"
     },
     "output_type": "display_data"
    }
   ],
   "source": [
    "print('메일의 최대 길이 : %d' % max(len(l) for l in X_train_seq))\n",
    "print('메일의 평균 길이 : %f' % (sum(map(len, X_train_seq))/len(X_train_seq)))\n",
    "\n",
    "plt.hist([len(s) for s in X_train_seq], bins=50)\n",
    "plt.xlabel('length of samples')\n",
    "plt.ylabel('number of samples')\n",
    "plt.show()"
   ]
  },
  {
   "cell_type": "code",
   "execution_count": 103,
   "metadata": {},
   "outputs": [],
   "source": [
    "X_train_seq = sequence.pad_sequences(X_train_seq, maxlen=40)\n",
    "X_test_seq = sequence.pad_sequences(X_test_seq, maxlen=40)"
   ]
  },
  {
   "cell_type": "code",
   "execution_count": 104,
   "metadata": {},
   "outputs": [
    {
     "name": "stdout",
     "output_type": "stream",
     "text": [
      "메일의 최대 길이 : 40\n",
      "메일의 평균 길이 : 40.000000\n"
     ]
    },
    {
     "data": {
      "image/png": "[encoded data removed]",
      "text/plain": [
       "<Figure size 432x288 with 1 Axes>"
      ]
     },
     "metadata": {
      "needs_background": "light"
     },
     "output_type": "display_data"
    }
   ],
   "source": [
    "print('메일의 최대 길이 : %d' % max(len(l) for l in X_train_seq))\n",
    "print('메일의 평균 길이 : %f' % (sum(map(len, X_train_seq))/len(X_train_seq)))\n",
    "\n",
    "plt.hist([len(s) for s in X_train_seq], bins=50)\n",
    "plt.xlabel('length of samples')\n",
    "plt.ylabel('number of samples')\n",
    "plt.show()"
   ]
  },
  {
   "cell_type": "code",
   "execution_count": 105,
   "metadata": {},
   "outputs": [
    {
     "data": {
      "text/plain": [
       "7979"
      ]
     },
     "execution_count": 105,
     "metadata": {},
     "output_type": "execute_result"
    }
   ],
   "source": [
    "vocab_size = total_cnt - rare_cnt + 1\n",
    "vocab_size"
   ]
  },
  {
   "cell_type": "code",
   "execution_count": 29,
   "metadata": {},
   "outputs": [],
   "source": [
    "# # Conv1D로 학습하고 모델 성능을 검증합니다.\n",
    "\n",
    "\n",
    "# from tensorflow.python.keras import models\n",
    "# from tensorflow.python.keras import initializers\n",
    "# from tensorflow.python.keras import regularizers\n",
    "\n",
    "# from tensorflow.python.keras.layers import Dense\n",
    "# from tensorflow.python.keras.layers import Dropout\n",
    "# from tensorflow.python.keras.layers import Embedding\n",
    "# from tensorflow.python.keras.layers import SeparableConv1D\n",
    "# from tensorflow.python.keras.layers import MaxPooling1D\n",
    "# from tensorflow.python.keras.layers import GlobalAveragePooling1D\n",
    "\n",
    "# def sepcnn_model(blocks,\n",
    "#                  filters,\n",
    "#                  kernel_size,\n",
    "#                  embedding_dim,\n",
    "#                  dropout_rate,\n",
    "#                  pool_size,\n",
    "#                  input_shape,\n",
    "#                  num_classes,\n",
    "#                  num_features,\n",
    "#                  use_pretrained_embedding=False,\n",
    "#                  is_embedding_trainable=False,\n",
    "#                  embedding_matrix=None):\n",
    "#     \"\"\"Creates an instance of a separable CNN model.\n",
    "\n",
    "#     # Arguments\n",
    "#         blocks: int, number of pairs of sepCNN and pooling blocks in the model.\n",
    "#         filters: int, output dimension of the layers.\n",
    "#         kernel_size: int, length of the convolution window.\n",
    "#         embedding_dim: int, dimension of the embedding vectors.\n",
    "#         dropout_rate: float, percentage of input to drop at Dropout layers.\n",
    "#         pool_size: int, factor by which to downscale input at MaxPooling layer.\n",
    "#         input_shape: tuple, shape of input to the model.\n",
    "#         num_classes: int, number of output classes.\n",
    "#         num_features: int, number of words (embedding input dimension).\n",
    "#         use_pretrained_embedding: bool, true if pre-trained embedding is on.\n",
    "#         is_embedding_trainable: bool, true if embedding layer is trainable.\n",
    "#         embedding_matrix: dict, dictionary with embedding coefficients.\n",
    "\n",
    "#     # Returns\n",
    "#         A sepCNN model instance.\n",
    "#     \"\"\"\n",
    "#     # op_units, op_activation = _get_last_layer_units_and_activation(num_classes)\n",
    "#     model = models.Sequential()\n",
    "\n",
    "#     # Add embedding layer. If pre-trained embedding is used add weights to the\n",
    "#     # embeddings layer and set trainable to input is_embedding_trainable flag.\n",
    "#     if use_pretrained_embedding:\n",
    "#         model.add(Embedding(input_dim=num_features,\n",
    "#                             output_dim=embedding_dim,\n",
    "#                             input_length=input_shape[0],\n",
    "#                             weights=[embedding_matrix],\n",
    "#                             trainable=is_embedding_trainable))\n",
    "#     else:\n",
    "#         model.add(Embedding(input_dim=num_features,\n",
    "#                             output_dim=embedding_dim,\n",
    "#                             input_length=input_shape[0]))\n",
    "\n",
    "#     for _ in range(blocks-1):\n",
    "#         model.add(Dropout(rate=dropout_rate))\n",
    "#         model.add(SeparableConv1D(filters=filters,\n",
    "#                                   kernel_size=kernel_size,\n",
    "#                                   activation='relu',\n",
    "#                                   bias_initializer='random_uniform',\n",
    "#                                   depthwise_initializer='random_uniform',\n",
    "#                                   padding='same'))\n",
    "#         model.add(SeparableConv1D(filters=filters,\n",
    "#                                   kernel_size=kernel_size,\n",
    "#                                   activation='relu',\n",
    "#                                   bias_initializer='random_uniform',\n",
    "#                                   depthwise_initializer='random_uniform',\n",
    "#                                   padding='same'))\n",
    "#         model.add(MaxPooling1D(pool_size=pool_size))\n",
    "\n",
    "#     model.add(SeparableConv1D(filters=filters * 2,\n",
    "#                               kernel_size=kernel_size,\n",
    "#                               activation='relu',\n",
    "#                               bias_initializer='random_uniform',\n",
    "#                               depthwise_initializer='random_uniform',\n",
    "#                               padding='same'))\n",
    "#     model.add(SeparableConv1D(filters=filters * 2,\n",
    "#                               kernel_size=kernel_size,\n",
    "#                               activation='relu',\n",
    "#                               bias_initializer='random_uniform',\n",
    "#                               depthwise_initializer='random_uniform',\n",
    "#                               padding='same'))\n",
    "#     model.add(GlobalAveragePooling1D())\n",
    "#     model.add(Dropout(rate=dropout_rate))\n",
    "#     model.add(Dense(2, activation='softmax'))\n",
    "#     return model"
   ]
  },
  {
   "cell_type": "code",
   "execution_count": 30,
   "metadata": {},
   "outputs": [],
   "source": [
    "# dl_model = sepcnn_model(blocks = 3,\n",
    "#                         filters = 5,\n",
    "#                         kernel_size = 3,\n",
    "#                         embedding_dim = 4,\n",
    "#                         dropout_rate = .2,\n",
    "#                         pool_size = 2,\n",
    "#                         input_shape = (40, ),\n",
    "#                         num_classes = 2,\n",
    "#                         num_features = 5,\n",
    "#                         )"
   ]
  },
  {
   "cell_type": "code",
   "execution_count": 31,
   "metadata": {},
   "outputs": [],
   "source": [
    "from tensorflow import keras"
   ]
  },
  {
   "cell_type": "code",
   "execution_count": 32,
   "metadata": {},
   "outputs": [
    {
     "data": {
      "text/plain": [
       "array([[   0,    0,    0, ...,  626,   79, 1105],\n",
       "       [   0,    0,    0, ...,    0,    0,    0],\n",
       "       [   0,    0,    0, ...,  144,   46,  491],\n",
       "       ...,\n",
       "       [   0,    0,    0, ...,   49,    3,    4],\n",
       "       [   0,    0,    0, ...,   99,  130,  192],\n",
       "       [   0,    0,    0, ...,  188,   77,   29]], dtype=int32)"
      ]
     },
     "execution_count": 32,
     "metadata": {},
     "output_type": "execute_result"
    }
   ],
   "source": [
    "# sequence.pad_sequences(X_train_seq, maxlen=40)"
   ]
  },
  {
   "cell_type": "code",
   "execution_count": 33,
   "metadata": {},
   "outputs": [],
   "source": [
    "# dl_model.compile(optimizer='adam', loss=keras.losses.binary_crossentropy, metrics=['accuracy', 'f1_score'])"
   ]
  },
  {
   "cell_type": "code",
   "execution_count": 36,
   "metadata": {},
   "outputs": [],
   "source": [
    "# es = keras.callbacks.EarlyStopping(monitor='val_loss',\n",
    "#                                    min_delta=0,\n",
    "#                                    patience=3,\n",
    "#                                    restore_best_weights=True,\n",
    "#                                   )"
   ]
  },
  {
   "cell_type": "code",
   "execution_count": null,
   "metadata": {},
   "outputs": [],
   "source": [
    "# dl_model.fit(x = X_train_seq, y = y_train, \n",
    "#              validation_data=(X_test, y_test), \n",
    "#              epochs=100, \n",
    "#              callbacks=[es])"
   ]
  },
  {
   "cell_type": "code",
   "execution_count": 38,
   "metadata": {},
   "outputs": [
    {
     "name": "stdout",
     "output_type": "stream",
     "text": [
      "Epoch 1/100\n",
      "252/252 [==============================] - 8s 25ms/step - loss: 0.6611 - accuracy: 0.6321 - val_loss: 0.6545 - val_accuracy: 0.6404\n",
      "Epoch 2/100\n",
      "252/252 [==============================] - 6s 24ms/step - loss: 0.6547 - accuracy: 0.6386 - val_loss: 0.6543 - val_accuracy: 0.6404\n",
      "Epoch 3/100\n",
      "252/252 [==============================] - 6s 24ms/step - loss: 0.6583 - accuracy: 0.6319 - val_loss: 0.6535 - val_accuracy: 0.6404\n",
      "Epoch 4/100\n",
      "252/252 [==============================] - 6s 23ms/step - loss: 0.6568 - accuracy: 0.6347 - val_loss: 0.6533 - val_accuracy: 0.6404\n",
      "Epoch 5/100\n",
      "252/252 [==============================] - 6s 22ms/step - loss: 0.6555 - accuracy: 0.6377 - val_loss: 0.6533 - val_accuracy: 0.6404\n",
      "Epoch 6/100\n",
      "252/252 [==============================] - 6s 23ms/step - loss: 0.6593 - accuracy: 0.6301 - val_loss: 0.6535 - val_accuracy: 0.6404\n",
      "Epoch 7/100\n",
      "252/252 [==============================] - 6s 23ms/step - loss: 0.6578 - accuracy: 0.6332 - val_loss: 0.6540 - val_accuracy: 0.6404\n",
      "Epoch 8/100\n",
      "252/252 [==============================] - 6s 22ms/step - loss: 0.6548 - accuracy: 0.6382 - val_loss: 0.6541 - val_accuracy: 0.6404\n"
     ]
    }
   ],
   "source": [
    "from tensorflow.keras.layers import SimpleRNN, Embedding, Dense\n",
    "from tensorflow.keras.models import Sequential\n",
    "\n",
    "keras.backend.clear_session()\n",
    "\n",
    "model = Sequential()\n",
    "model.add(Embedding(vocab_size, 32)) # 임베딩 벡터의 차원은 32\n",
    "for _ in range(5):\n",
    "    model.add(Dropout(.2))\n",
    "    model.add(SeparableConv1D(filters=32,\n",
    "                              kernel_size=3,\n",
    "                              activation='relu',\n",
    "                              padding='same'\n",
    "                             ))\n",
    "    model.add(SeparableConv1D(filters=32,\n",
    "                              kernel_size=3,\n",
    "                              activation='relu',\n",
    "                              padding='same'\n",
    "                             ))\n",
    "    model.add(MaxPooling1D(pool_size=2))\n",
    "model.add(GlobalAveragePooling1D())\n",
    "model.add(Dropout(.2))\n",
    "model.add(Dense(1024, activation='relu'))\n",
    "# model.add(SimpleRNN(32)) # RNN 셀의 hidden_size는 32\n",
    "model.add(Dense(1, activation='sigmoid'))\n",
    "\n",
    "model.compile(optimizer='adam', loss='binary_crossentropy', metrics=['accuracy'])\n",
    "history = model.fit(X_train_seq, y_train, \n",
    "                    epochs=100, \n",
    "                    batch_size=64, \n",
    "                    validation_data=(X_test_seq, y_test), \n",
    "                    callbacks=[es])"
   ]
  },
  {
   "cell_type": "code",
   "execution_count": 106,
   "metadata": {},
   "outputs": [
    {
     "name": "stdout",
     "output_type": "stream",
     "text": [
      "Epoch 1/100\n",
      "252/252 [==============================] - 17s 62ms/step - loss: 0.4704 - accuracy: 0.7635 - val_loss: 0.6685 - val_accuracy: 0.6404\n",
      "Epoch 2/100\n",
      "252/252 [==============================] - 15s 61ms/step - loss: 0.1354 - accuracy: 0.9534 - val_loss: 0.6201 - val_accuracy: 0.6404\n",
      "Epoch 3/100\n",
      "252/252 [==============================] - 15s 61ms/step - loss: 0.0812 - accuracy: 0.9740 - val_loss: 1.4224 - val_accuracy: 0.6862\n",
      "Epoch 4/100\n",
      "252/252 [==============================] - 16s 62ms/step - loss: 0.0516 - accuracy: 0.9811 - val_loss: 0.3869 - val_accuracy: 0.8686\n",
      "Epoch 5/100\n",
      "252/252 [==============================] - 16s 63ms/step - loss: 0.0491 - accuracy: 0.9824 - val_loss: 0.7074 - val_accuracy: 0.8280\n",
      "Epoch 6/100\n",
      "252/252 [==============================] - 16s 62ms/step - loss: 0.0443 - accuracy: 0.9860 - val_loss: 0.6946 - val_accuracy: 0.8793\n",
      "Epoch 7/100\n",
      "252/252 [==============================] - 16s 62ms/step - loss: 0.0298 - accuracy: 0.9908 - val_loss: 1.8736 - val_accuracy: 0.5727\n"
     ]
    }
   ],
   "source": [
    "from tensorflow.keras.layers import SimpleRNN, Embedding, Dense, BatchNormalization\n",
    "from tensorflow.keras.models import Sequential\n",
    "\n",
    "keras.backend.clear_session()\n",
    "\n",
    "model = Sequential()\n",
    "model.add(Embedding(vocab_size, 64)) # 임베딩 벡터의 차원은 32\n",
    "for _ in range(2):\n",
    "    model.add(Dropout(.2))\n",
    "    model.add(SeparableConv1D(filters=32 * (_+1),\n",
    "                              kernel_size=5,\n",
    "                              activation='relu',\n",
    "                              padding='same'\n",
    "                             ))\n",
    "    model.add(SeparableConv1D(filters=32 * (_+1),\n",
    "                              kernel_size=5,\n",
    "                              activation='relu',\n",
    "                              padding='same'\n",
    "                             ))\n",
    "    model.add(MaxPooling1D(pool_size=2))\n",
    "    model.add(BatchNormalization())\n",
    "model.add(Dropout(.2))\n",
    "model.add(SeparableConv1D(filters=128,\n",
    "                          kernel_size=5,\n",
    "                          activation='relu',\n",
    "                          padding='same'\n",
    "                         ))\n",
    "model.add(SeparableConv1D(filters=128,\n",
    "                          kernel_size=5,\n",
    "                          activation='relu',\n",
    "                          padding='same'\n",
    "                         ))\n",
    "model.add(MaxPooling1D(pool_size=2))\n",
    "model.add(BatchNormalization())\n",
    "model.add(GlobalAveragePooling1D())\n",
    "model.add(Dropout(.2))\n",
    "model.add(Dense(1024, activation='relu'))\n",
    "model.add(BatchNormalization())\n",
    "model.add(Dense(1024, activation='relu'))\n",
    "# model.add(SimpleRNN(32)) # RNN 셀의 hidden_size는 32\n",
    "model.add(Dense(1, activation='sigmoid'))\n",
    "\n",
    "model.compile(optimizer='adam', loss='binary_crossentropy', metrics=['accuracy'])\n",
    "history = model.fit(X_train_seq, y_train, \n",
    "                    epochs=100, \n",
    "                    batch_size=64, \n",
    "                    validation_data=(X_test_seq, y_test), \n",
    "                    callbacks=[es])"
   ]
  },
  {
   "cell_type": "code",
   "execution_count": 107,
   "metadata": {},
   "outputs": [
    {
     "data": {
      "text/plain": [
       "array([[9.8069239e-01],\n",
       "       [9.5803142e-01],\n",
       "       [9.8034739e-01],\n",
       "       ...,\n",
       "       [8.5434705e-01],\n",
       "       [3.6208868e-02],\n",
       "       [6.1578190e-05]], dtype=float32)"
      ]
     },
     "execution_count": 107,
     "metadata": {},
     "output_type": "execute_result"
    }
   ],
   "source": [
    "X_kaggle = tokenizer.texts_to_sequences(spam_test.text)\n",
    "X_kaggle = sequence.pad_sequences(X_kaggle, maxlen=40)\n",
    "y_pred = model.predict(X_kaggle)\n",
    "y_pred"
   ]
  },
  {
   "cell_type": "code",
   "execution_count": 108,
   "metadata": {},
   "outputs": [],
   "source": [
    "y_pred_df = pd.DataFrame(y_pred, columns=['label']).reset_index(drop=False).rename(columns={'index': 'id'})"
   ]
  },
  {
   "cell_type": "code",
   "execution_count": 109,
   "metadata": {},
   "outputs": [
    {
     "data": {
      "text/plain": [
       "1    5227\n",
       "0    4669\n",
       "Name: label, dtype: int64"
      ]
     },
     "execution_count": 109,
     "metadata": {},
     "output_type": "execute_result"
    }
   ],
   "source": [
    "y_pred_df.label = y_pred_df.label.apply(round)\n",
    "\n",
    "y_pred_df.label.value_counts()"
   ]
  },
  {
   "cell_type": "code",
   "execution_count": 85,
   "metadata": {},
   "outputs": [
    {
     "data": {
      "text/plain": [
       "0.930681818181818"
      ]
     },
     "execution_count": 85,
     "metadata": {},
     "output_type": "execute_result"
    }
   ],
   "source": [
    "f1_score(spam_test.label, y_pred_df.label)"
   ]
  },
  {
   "cell_type": "code",
   "execution_count": 86,
   "metadata": {},
   "outputs": [
    {
     "data": {
      "text/plain": [
       "0.930681818181818"
      ]
     },
     "execution_count": 86,
     "metadata": {},
     "output_type": "execute_result"
    }
   ],
   "source": [
    "# DL: r'[^가-힣]' -> r' '\n",
    "f1_score(spam_test.label, y_pred_df.label)"
   ]
  },
  {
   "cell_type": "code",
   "execution_count": 58,
   "metadata": {},
   "outputs": [
    {
     "data": {
      "text/plain": [
       "0.9415474169294203"
      ]
     },
     "execution_count": 58,
     "metadata": {},
     "output_type": "execute_result"
    }
   ],
   "source": [
    "# DL: r'[^가-힣]' -> r''\n",
    "f1_score(spam_test.label, y_pred_df.label)"
   ]
  },
  {
   "cell_type": "code",
   "execution_count": 110,
   "metadata": {},
   "outputs": [
    {
     "data": {
      "text/plain": [
       "0.8923929994801593"
      ]
     },
     "execution_count": 110,
     "metadata": {},
     "output_type": "execute_result"
    }
   ],
   "source": [
    "# DL: 기본 mecab.nouns\n",
    "f1_score(spam_test.label, y_pred_df.label)"
   ]
  },
  {
   "cell_type": "code",
   "execution_count": 442,
   "metadata": {},
   "outputs": [
    {
     "data": {
      "text/html": [
       "<div>\n",
       "<style scoped>\n",
       "    .dataframe tbody tr th:only-of-type {\n",
       "        vertical-align: middle;\n",
       "    }\n",
       "\n",
       "    .dataframe tbody tr th {\n",
       "        vertical-align: top;\n",
       "    }\n",
       "\n",
       "    .dataframe thead th {\n",
       "        text-align: right;\n",
       "    }\n",
       "</style>\n",
       "<table border=\"1\" class=\"dataframe\">\n",
       "  <thead>\n",
       "    <tr style=\"text-align: right;\">\n",
       "      <th></th>\n",
       "      <th>id</th>\n",
       "      <th>label</th>\n",
       "    </tr>\n",
       "  </thead>\n",
       "  <tbody>\n",
       "    <tr>\n",
       "      <th>0</th>\n",
       "      <td>0</td>\n",
       "      <td>spam</td>\n",
       "    </tr>\n",
       "    <tr>\n",
       "      <th>1</th>\n",
       "      <td>1</td>\n",
       "      <td>spam</td>\n",
       "    </tr>\n",
       "    <tr>\n",
       "      <th>2</th>\n",
       "      <td>2</td>\n",
       "      <td>spam</td>\n",
       "    </tr>\n",
       "    <tr>\n",
       "      <th>3</th>\n",
       "      <td>3</td>\n",
       "      <td>spam</td>\n",
       "    </tr>\n",
       "    <tr>\n",
       "      <th>4</th>\n",
       "      <td>4</td>\n",
       "      <td>spam</td>\n",
       "    </tr>\n",
       "    <tr>\n",
       "      <th>...</th>\n",
       "      <td>...</td>\n",
       "      <td>...</td>\n",
       "    </tr>\n",
       "    <tr>\n",
       "      <th>9891</th>\n",
       "      <td>9891</td>\n",
       "      <td>ham</td>\n",
       "    </tr>\n",
       "    <tr>\n",
       "      <th>9892</th>\n",
       "      <td>9892</td>\n",
       "      <td>spam</td>\n",
       "    </tr>\n",
       "    <tr>\n",
       "      <th>9893</th>\n",
       "      <td>9893</td>\n",
       "      <td>spam</td>\n",
       "    </tr>\n",
       "    <tr>\n",
       "      <th>9894</th>\n",
       "      <td>9894</td>\n",
       "      <td>ham</td>\n",
       "    </tr>\n",
       "    <tr>\n",
       "      <th>9895</th>\n",
       "      <td>9895</td>\n",
       "      <td>ham</td>\n",
       "    </tr>\n",
       "  </tbody>\n",
       "</table>\n",
       "<p>9896 rows × 2 columns</p>\n",
       "</div>"
      ],
      "text/plain": [
       "        id label\n",
       "0        0  spam\n",
       "1        1  spam\n",
       "2        2  spam\n",
       "3        3  spam\n",
       "4        4  spam\n",
       "...    ...   ...\n",
       "9891  9891   ham\n",
       "9892  9892  spam\n",
       "9893  9893  spam\n",
       "9894  9894   ham\n",
       "9895  9895   ham\n",
       "\n",
       "[9896 rows x 2 columns]"
      ]
     },
     "execution_count": 442,
     "metadata": {},
     "output_type": "execute_result"
    }
   ],
   "source": [
    "y_pred_df.label = y_pred_df.label.replace({1:'spam', 0:'ham'})\n",
    "\n",
    "y_pred_df\n"
   ]
  },
  {
   "cell_type": "code",
   "execution_count": null,
   "metadata": {},
   "outputs": [],
   "source": []
  },
  {
   "cell_type": "code",
   "execution_count": null,
   "metadata": {},
   "outputs": [],
   "source": []
  },
  {
   "cell_type": "code",
   "execution_count": null,
   "metadata": {},
   "outputs": [],
   "source": [
    "y_pred_df.to_csv(\"/aihub/data/submission.csv\",index=False)"
   ]
  },
  {
   "cell_type": "code",
   "execution_count": null,
   "metadata": {},
   "outputs": [],
   "source": []
  }
 ],
 "metadata": {
  "kernelspec": {
   "display_name": "Python 3",
   "language": "python",
   "name": "python3"
  },
  "language_info": {
   "codemirror_mode": {
    "name": "ipython",
    "version": 3
   },
   "file_extension": ".py",
   "mimetype": "text/x-python",
   "name": "python",
   "nbconvert_exporter": "python",
   "pygments_lexer": "ipython3",
   "version": "3.6.9"
  }
 },
 "nbformat": 4,
 "nbformat_minor": 4
}
