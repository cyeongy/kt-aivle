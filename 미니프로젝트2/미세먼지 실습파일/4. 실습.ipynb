{
 "cells": [
  {
   "cell_type": "code",
   "execution_count": 1,
   "metadata": {
    "collapsed": true,
    "pycharm": {
     "name": "#%%\n"
    }
   },
   "outputs": [],
   "source": [
    "import tensorflow as tf"
   ]
  },
  {
   "cell_type": "code",
   "execution_count": 2,
   "outputs": [
    {
     "data": {
      "text/plain": "[PhysicalDevice(name='/physical_device:GPU:0', device_type='GPU')]"
     },
     "execution_count": 2,
     "metadata": {},
     "output_type": "execute_result"
    }
   ],
   "source": [
    "tf.config.experimental.list_physical_devices('GPU')"
   ],
   "metadata": {
    "collapsed": false,
    "pycharm": {
     "name": "#%%\n"
    }
   }
  },
  {
   "cell_type": "code",
   "execution_count": 8,
   "outputs": [],
   "source": [
    "from preprocess_mini02 import fill_weather\n",
    "import pandas as pd"
   ],
   "metadata": {
    "collapsed": false,
    "pycharm": {
     "name": "#%%\n"
    }
   }
  },
  {
   "cell_type": "code",
   "execution_count": 12,
   "outputs": [],
   "source": [
    "weather = pd.read_csv('weather_2021.csv', encoding='cp949')\n",
    "\n",
    "fill_weather(weather)"
   ],
   "metadata": {
    "collapsed": false,
    "pycharm": {
     "name": "#%%\n"
    }
   }
  },
  {
   "cell_type": "code",
   "execution_count": 13,
   "outputs": [
    {
     "data": {
      "text/plain": "지점               0\n지점명              0\n일시               0\n기온(°C)           0\n강수량(mm)          0\n풍속(m/s)          0\n풍향(16방위)         0\n습도(%)            0\n증기압(hPa)         0\n이슬점온도(°C)        0\n현지기압(hPa)        0\n해면기압(hPa)        0\n일조(hr)           0\n일사(MJ/m2)        0\n일몰 여부            0\n적설(cm)           0\n3시간신적설(cm)       0\n전운량(10분위)        0\n중하층운량(10분위)      0\n시정(10m)          0\n지면온도(°C)         0\n5cm 지중온도(°C)     0\n10cm 지중온도(°C)    0\n20cm 지중온도(°C)    0\n30cm 지중온도(°C)    0\n현상번호(0)          0\n현상번호(1)          0\n현상번호(2)          0\n현상번호(4)          0\n현상번호(5)          0\n현상번호(6)          0\n현상번호(10)         0\n현상번호(11)         0\n현상번호(16)         0\n현상번호(19)         0\n현상번호(40)         0\n현상번호(42)         0\n운형(Ci)           0\n운형(Cc)           0\n운형(Cs)           0\n운형(Ac)           0\n운형(As)           0\n운형(Ns)           0\n운형(Sc)           0\n운형(St)           0\n운형(Cu)           0\n운형(Cb)           0\ndtype: int64"
     },
     "execution_count": 13,
     "metadata": {},
     "output_type": "execute_result"
    }
   ],
   "source": [],
   "metadata": {
    "collapsed": false,
    "pycharm": {
     "name": "#%%\n"
    }
   }
  },
  {
   "cell_type": "code",
   "execution_count": null,
   "outputs": [],
   "source": [],
   "metadata": {
    "collapsed": false,
    "pycharm": {
     "name": "#%%\n"
    }
   }
  }
 ],
 "metadata": {
  "kernelspec": {
   "display_name": "Python 3",
   "language": "python",
   "name": "python3"
  },
  "language_info": {
   "codemirror_mode": {
    "name": "ipython",
    "version": 2
   },
   "file_extension": ".py",
   "mimetype": "text/x-python",
   "name": "python",
   "nbconvert_exporter": "python",
   "pygments_lexer": "ipython2",
   "version": "2.7.6"
  }
 },
 "nbformat": 4,
 "nbformat_minor": 0
}