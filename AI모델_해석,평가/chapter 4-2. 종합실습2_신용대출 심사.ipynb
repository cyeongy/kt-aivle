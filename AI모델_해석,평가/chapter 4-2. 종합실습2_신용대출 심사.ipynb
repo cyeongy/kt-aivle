{
 "nbformat": 4,
 "nbformat_minor": 0,
 "metadata": {
  "colab": {
   "provenance": [],
   "collapsed_sections": [],
   "toc_visible": true
  },
  "kernelspec": {
   "display_name": "Python 3",
   "language": "python",
   "name": "python3"
  },
  "language_info": {
   "codemirror_mode": {
    "name": "ipython",
    "version": 3
   },
   "file_extension": ".py",
   "mimetype": "text/x-python",
   "name": "python",
   "nbconvert_exporter": "python",
   "pygments_lexer": "ipython3",
   "version": "3.7.10"
  }
 },
 "cells": [
  {
   "cell_type": "markdown",
   "metadata": {
    "id": "H2PiE6pYmBv7",
    "pycharm": {
     "name": "#%% md\n"
    }
   },
   "source": [
    "# 신용대출 심사\n",
    "\n",
    "* 고객사는 ## 은행입니다. 신용평가 업무를 인공지능으로 전환하고자 여러분에게 모델링을 의뢰하였습니다.\n",
    "* 대출업무는\n",
    "    * 은행 창구에서 신청을 받고\n",
    "    * 본사의 심사부서에서는 신용평가를 통해 대출 신청에 대한 승인 여부를 결정해 왔습니다.\n",
    "\n",
    "* 현장의 요구\n",
    "    * 경쟁사의 공격적인 대출상품 판매로, 본사에서는 자사 은행의 대출 실적이 줄어들고 있는 것에 부담을 느끼고 있습니다.\n",
    "    * 그런데, 자사 은행에서는 신용평가 결과의 정확성에 의문을 품고 있으며, 신용평가 기준을 완화하여 가급적 대출승인 범위를 더 확대해 주기를 요구합니다. \n",
    "\n",
    "* 신용평가 업무를 인공지능으로 전환\n",
    "    * 현장의 요구를 감안하여, 과거 사람이 하던 평가방식을 개선하고자 인공지능에 의한 예측 모델을 만들고, 정확도를 높이고자 합니다.\n",
    "-----------------\n"
   ]
  },
  {
   "cell_type": "markdown",
   "source": [
    "* 여러분이 작성한 예측 모델에 대한 중요 요인 보고서로\n",
    "    * 고객은 모델의 성능에 대해 신뢰를 갖게 되었습니다.\n",
    "    * 현장 전문가들이 가지고 있는 직관과 대체로 일치하기도 했지만,\n",
    "    * 생각지 못했던 변수가 중요하게 작용함을 알게 된 것은, 고객에게 신선한 충격이 되었습니다.\n",
    "\n",
    "* 이제 운영 시스템에 배포하고 베타 오픈을 하였습니다.\n",
    "    * 대출창구에서는 대출심사결과를 기다려야 하는 번거로움이 사라져서 환영하는 분위기 입니다.\n",
    "    * 그런데 한가지 문제가 발생했습니다. 신용평가가 낮게 나온 고객 한 명이 강한 불만을 제기하였습니다. 자신의 대출신청이 왜 반려되었는지 이해할수 없다는 것이었습니다.\n",
    "    * 현장 직원은 인공지능이 그렇게 판단했다고 이야기 하는 것이 적절한 답변이 아니라고 판단하여, 제대로 된 답변을 하지 못했습니다.\n",
    "\n",
    "* 고객사는 다시 여러분에게 요청을 해 왔습니다. **개별 신용평가 결과에 대한 근거를 제시**해 달라는 것입니다. \n"
   ],
   "metadata": {
    "id": "TrfcD_H8Aa9x",
    "pycharm": {
     "name": "#%% md\n"
    }
   }
  },
  {
   "cell_type": "markdown",
   "metadata": {
    "id": "Wyg1gRj8ZxMK",
    "pycharm": {
     "name": "#%% md\n"
    }
   },
   "source": [
    "## 1.환경준비"
   ]
  },
  {
   "cell_type": "markdown",
   "metadata": {
    "id": "dSsCFlrNaQQW",
    "pycharm": {
     "name": "#%% md\n"
    }
   },
   "source": [
    "### 1) 라이브러리 로딩"
   ]
  },
  {
   "cell_type": "code",
   "source": [
    "!conda install -y shap"
   ],
   "metadata": {
    "id": "7x0Zeu5TVWVg",
    "pycharm": {
     "name": "#%%\n"
    }
   },
   "execution_count": 3,
   "outputs": [
    {
     "name": "stdout",
     "output_type": "stream",
     "text": [
      "Collecting package metadata (current_repodata.json): ...working... done\n",
      "Solving environment: ...working... done\n",
      "\n",
      "## Package Plan ##\n",
      "\n",
      "  environment location: C:\\Users\\allsa\\anaconda3\\envs\\kt-aivle\n",
      "\n",
      "  added / updated specs:\n",
      "    - shap\n",
      "\n",
      "\n",
      "The following packages will be UPDATED:\n",
      "\n",
      "  ca-certificates    conda-forge::ca-certificates-2022.6.1~ --> pkgs/main::ca-certificates-2022.07.19-haa95532_0\n",
      "\n",
      "The following packages will be SUPERSEDED by a higher-priority channel:\n",
      "\n",
      "  certifi            conda-forge/noarch::certifi-2022.6.15~ --> pkgs/main/win-64::certifi-2022.6.15-py38haa95532_0\n",
      "  openssl            conda-forge::openssl-1.1.1q-h8ffe710_0 --> pkgs/main::openssl-1.1.1q-h2bbff1b_0\n",
      "\n",
      "\n",
      "Preparing transaction: ...working... done\n",
      "Verifying transaction: ...working... done\n",
      "Executing transaction: ...working... done\n",
      "Retrieving notices: ...working... done\n"
     ]
    }
   ]
  },
  {
   "cell_type": "code",
   "metadata": {
    "id": "6g46eHDnW2QX",
    "pycharm": {
     "name": "#%%\n"
    }
   },
   "source": [
    "import pandas as pd\n",
    "import numpy as np\n",
    "import matplotlib.pyplot as plt\n",
    "import seaborn as sns\n",
    "\n",
    "import warnings\n",
    "warnings.simplefilter(action='ignore')\n",
    "\n",
    "from sklearn.preprocessing import MinMaxScaler\n",
    "from sklearn.model_selection import train_test_split\n",
    "from sklearn.tree import DecisionTreeClassifier\n",
    "from sklearn.ensemble import RandomForestClassifier\n",
    "from sklearn.svm import SVC\n",
    "from xgboost import XGBClassifier\n",
    "\n",
    "import tensorflow as tf\n",
    "from keras.models import Sequential\n",
    "from keras.layers import Dense\n",
    "from keras.backend import clear_session\n",
    "\n",
    "import shap"
   ],
   "execution_count": 2,
   "outputs": []
  },
  {
   "cell_type": "code",
   "source": [],
   "metadata": {
    "id": "bnxaqCCg7tok",
    "pycharm": {
     "name": "#%%\n"
    }
   },
   "execution_count": null,
   "outputs": []
  },
  {
   "cell_type": "markdown",
   "metadata": {
    "id": "oivLe5kRaO8V",
    "pycharm": {
     "name": "#%% md\n"
    }
   },
   "source": [
    "### 2) 데이터 로딩"
   ]
  },
  {
   "cell_type": "code",
   "metadata": {
    "id": "FAAhTtVxiIqH",
    "pycharm": {
     "name": "#%%\n"
    }
   },
   "source": [
    "path = 'https://raw.githubusercontent.com/DA4BAM/dataset/master/credit_all.csv'\n",
    "data = pd.read_csv(path)\n",
    "data.loc[data['Payment'] == 4, 'Payment'] = 3\n",
    "data.head()"
   ],
   "execution_count": 4,
   "outputs": [
    {
     "data": {
      "text/plain": "   Creditability  AccountBalance  Duration  Payment  Purpose  CreditAmount  \\\n0              1               3        24        2        0          1249   \n1              1               2         9        2        0           276   \n2              1               1        18        3        2          1049   \n3              1               1        24        3        1          6419   \n4              1               3        12        2        2          1424   \n\n   Employment  SexMarital  CurrentAddress  MostValuableAsset  Age  Apartment  \\\n0           2           4               2                  1   28          2   \n1           3           4               4                  1   22          1   \n2           2           2               4                  2   21          1   \n3           5           2               4                  4   44          3   \n4           5           2               4                  1   55          2   \n\n   CreditCount  Occupation  Dependents  Telephone  ForeignWorker  \n0            1           3           1          1              1  \n1            1           2           1          1              1  \n2            1           3           1          1              1  \n3            2           4           2          2              1  \n4            1           4           1          2              1  ",
      "text/html": "<div>\n<style scoped>\n    .dataframe tbody tr th:only-of-type {\n        vertical-align: middle;\n    }\n\n    .dataframe tbody tr th {\n        vertical-align: top;\n    }\n\n    .dataframe thead th {\n        text-align: right;\n    }\n</style>\n<table border=\"1\" class=\"dataframe\">\n  <thead>\n    <tr style=\"text-align: right;\">\n      <th></th>\n      <th>Creditability</th>\n      <th>AccountBalance</th>\n      <th>Duration</th>\n      <th>Payment</th>\n      <th>Purpose</th>\n      <th>CreditAmount</th>\n      <th>Employment</th>\n      <th>SexMarital</th>\n      <th>CurrentAddress</th>\n      <th>MostValuableAsset</th>\n      <th>Age</th>\n      <th>Apartment</th>\n      <th>CreditCount</th>\n      <th>Occupation</th>\n      <th>Dependents</th>\n      <th>Telephone</th>\n      <th>ForeignWorker</th>\n    </tr>\n  </thead>\n  <tbody>\n    <tr>\n      <th>0</th>\n      <td>1</td>\n      <td>3</td>\n      <td>24</td>\n      <td>2</td>\n      <td>0</td>\n      <td>1249</td>\n      <td>2</td>\n      <td>4</td>\n      <td>2</td>\n      <td>1</td>\n      <td>28</td>\n      <td>2</td>\n      <td>1</td>\n      <td>3</td>\n      <td>1</td>\n      <td>1</td>\n      <td>1</td>\n    </tr>\n    <tr>\n      <th>1</th>\n      <td>1</td>\n      <td>2</td>\n      <td>9</td>\n      <td>2</td>\n      <td>0</td>\n      <td>276</td>\n      <td>3</td>\n      <td>4</td>\n      <td>4</td>\n      <td>1</td>\n      <td>22</td>\n      <td>1</td>\n      <td>1</td>\n      <td>2</td>\n      <td>1</td>\n      <td>1</td>\n      <td>1</td>\n    </tr>\n    <tr>\n      <th>2</th>\n      <td>1</td>\n      <td>1</td>\n      <td>18</td>\n      <td>3</td>\n      <td>2</td>\n      <td>1049</td>\n      <td>2</td>\n      <td>2</td>\n      <td>4</td>\n      <td>2</td>\n      <td>21</td>\n      <td>1</td>\n      <td>1</td>\n      <td>3</td>\n      <td>1</td>\n      <td>1</td>\n      <td>1</td>\n    </tr>\n    <tr>\n      <th>3</th>\n      <td>1</td>\n      <td>1</td>\n      <td>24</td>\n      <td>3</td>\n      <td>1</td>\n      <td>6419</td>\n      <td>5</td>\n      <td>2</td>\n      <td>4</td>\n      <td>4</td>\n      <td>44</td>\n      <td>3</td>\n      <td>2</td>\n      <td>4</td>\n      <td>2</td>\n      <td>2</td>\n      <td>1</td>\n    </tr>\n    <tr>\n      <th>4</th>\n      <td>1</td>\n      <td>3</td>\n      <td>12</td>\n      <td>2</td>\n      <td>2</td>\n      <td>1424</td>\n      <td>5</td>\n      <td>2</td>\n      <td>4</td>\n      <td>1</td>\n      <td>55</td>\n      <td>2</td>\n      <td>1</td>\n      <td>4</td>\n      <td>1</td>\n      <td>2</td>\n      <td>1</td>\n    </tr>\n  </tbody>\n</table>\n</div>"
     },
     "execution_count": 4,
     "metadata": {},
     "output_type": "execute_result"
    }
   ]
  },
  {
   "cell_type": "markdown",
   "metadata": {
    "id": "9Rdsa2RD0qth",
    "pycharm": {
     "name": "#%% md\n"
    }
   },
   "source": [
    "|\t칼럼명\t|\t설명\t|\t \t|\t값 의미\t|\n",
    "|\t-----\t|\t-----\t|\t-----\t|\t-----\t|\n",
    "|\tCreditability\t|\tCreditability(Target)\t|\t향후 신용도\t|\t0 : Bad, 1 : Good\t|\n",
    "|\tAccountBalance\t|\tAccount Balance\t|\t은행잔고\t|\t1: No account, 2 : None (No balance), 3 : Some Balance\t|\n",
    "|\tCreditDuration\t|\tDuration of Credit (month)\t|\t신청한 대출기간(월)\t|\t숫자\t|\n",
    "|\tPayment\t|\tPayment Status of Previous Credit\t|\t과거 대출 납입 상태\t|\t0 : 연체, 1 : 기타신용, 2 : 완납, 3 : 정상 대출상환 중 |\n",
    "|\tPurpose\t|\tPurpose\t|\t신청한 대출목적\t|\t1 : New Car , 2 : Used Car , 3 : Furniture , 4 : TV , 5 : Appliances , 6 : Repair , 8 : Vacation , 9 :Retraining , 10 : Business , 0 : Other\t|\n",
    "|\tCreditAmount\t|\tCredit Amount($)\t|\t신청한 대출금액\t|\t\t|\n",
    "|\tEmployment\t|\tLength of current employment(Month)\t|\t현 직업 근무 기간\t|\t1: Unemployed,  2: <1 Year,  3: [1, 4),  4: [4, 7),  5: Above 7\t|\n",
    "|\tSexMarital\t|\tSex & Marital Status\t|\t성별 & 결혼상태\t|\t1: Male, Divorced, 2: Male, Single , 3: Male, Married/Widowed , 4: Female\t|\n",
    "|\tCurrentAddress\t|\tDuration in Current address\t|\t현 거주지 거주기간\t|\t1: <1 Year , 2: [1, 4) , 3: [4, 7) , 4: Above 7\t|\n",
    "|\tMostValuable\t|\tMost valuable available asset\t|\t가장 가치있는 자산\t|\t1: None , 2: Car , 3: Life Insurance , 4: Real Estate\t|\n",
    "|\tAge\t|\tAge (years)\t|\t나이\t|\t\t|\n",
    "|\tAppartmentType\t|\tType of apartment\t|\t주거환경\t|\t1: free apartment, 2: Rented, 3: Owned\t|\n",
    "|\tNoCredits\t|\tNo of Credits at this Bank\t|\t현재 총 대출 건수\t|\t1 : one, 2 : 2 ~ 3, 3 : 4 ~ 5, 4 : 6 ~\t|\n",
    "|\tOccupation\t|\tOccupation\t|\t직업\t|\t1: Unemployed, unskilled, 2: Unskilled Permanent Resident, 3: Skilled, 4: Executive\t|\n",
    "|\tTelephone\t|\tTelephone\t|\t전화기 소유 여부\t|\t2: Yes , 1: No\t|\n",
    "|\tForeignWorker\t|\tForeign Worker\t|\t외국인 근로자 여부\t|\t2: Yes , 1: No\t|\n"
   ]
  },
  {
   "cell_type": "markdown",
   "source": [
    "\n",
    "* 데이터의 크기를 살펴봅시다."
   ],
   "metadata": {
    "id": "7jFZPpHLjJwB",
    "pycharm": {
     "name": "#%% md\n"
    }
   }
  },
  {
   "cell_type": "code",
   "metadata": {
    "id": "WTmIn3nkZpVx",
    "pycharm": {
     "name": "#%%\n"
    }
   },
   "source": [
    "data.shape"
   ],
   "execution_count": 5,
   "outputs": [
    {
     "data": {
      "text/plain": "(1000, 17)"
     },
     "execution_count": 5,
     "metadata": {},
     "output_type": "execute_result"
    }
   ]
  },
  {
   "cell_type": "markdown",
   "source": [
    "* Target 변수 조회"
   ],
   "metadata": {
    "id": "VdkVWa2sjPWX",
    "pycharm": {
     "name": "#%% md\n"
    }
   }
  },
  {
   "cell_type": "code",
   "metadata": {
    "id": "L5GD5KkKcGjP",
    "pycharm": {
     "name": "#%%\n"
    }
   },
   "source": [
    "print(data['Creditability'].value_counts())\n",
    "print(data['Creditability'].value_counts()/ data.shape[0])\n",
    "\n",
    "data['Creditability'].value_counts().plot(kind = 'barh')\n",
    "plt.show()"
   ],
   "execution_count": 6,
   "outputs": [
    {
     "name": "stdout",
     "output_type": "stream",
     "text": [
      "1    700\n",
      "0    300\n",
      "Name: Creditability, dtype: int64\n",
      "1    0.7\n",
      "0    0.3\n",
      "Name: Creditability, dtype: float64\n"
     ]
    },
    {
     "data": {
      "text/plain": "<Figure size 432x288 with 1 Axes>",
      "image/png": "[encoded data removed]"
     },
     "metadata": {
      "needs_background": "light"
     },
     "output_type": "display_data"
    }
   ]
  },
  {
   "cell_type": "markdown",
   "metadata": {
    "id": "gym6dx7Dppnc",
    "pycharm": {
     "name": "#%% md\n"
    }
   },
   "source": [
    "## 2.데이터 준비\n"
   ]
  },
  {
   "cell_type": "markdown",
   "source": [
    "### 1) x, y로 나누기 "
   ],
   "metadata": {
    "id": "y_pRV_lk0__5",
    "pycharm": {
     "name": "#%% md\n"
    }
   }
  },
  {
   "cell_type": "code",
   "source": [
    "target = 'Creditability'\n",
    "x = data.drop(target, axis = 1)\n",
    "y = data.loc[:,target]"
   ],
   "metadata": {
    "id": "P7JbxUGr1FEi",
    "pycharm": {
     "name": "#%%\n"
    }
   },
   "execution_count": 7,
   "outputs": []
  },
  {
   "cell_type": "markdown",
   "source": [
    "### 2) 가변수화"
   ],
   "metadata": {
    "id": "akoLc7fx1g2t",
    "pycharm": {
     "name": "#%% md\n"
    }
   }
  },
  {
   "cell_type": "code",
   "source": [
    "dummy_vars = ['Employment', 'CurrentAddress', 'CreditCount', 'Dependents', 'Telephone', 'AccountBalance', 'Payment', 'Purpose', 'SexMarital', 'MostValuableAsset', 'Apartment','Occupation','ForeignWorker']\n",
    "\n",
    "\n",
    "x = pd.get_dummies(x, columns = dummy_vars)\n",
    "x.head()"
   ],
   "metadata": {
    "id": "e1LOeJkrj36H",
    "pycharm": {
     "name": "#%%\n"
    }
   },
   "execution_count": 8,
   "outputs": [
    {
     "data": {
      "text/plain": "   Duration  CreditAmount  Age  Employment_1  Employment_2  Employment_3  \\\n0        24          1249   28             0             1             0   \n1         9           276   22             0             0             1   \n2        18          1049   21             0             1             0   \n3        24          6419   44             0             0             0   \n4        12          1424   55             0             0             0   \n\n   Employment_4  Employment_5  CurrentAddress_1  CurrentAddress_2  ...  \\\n0             0             0                 0                 1  ...   \n1             0             0                 0                 0  ...   \n2             0             0                 0                 0  ...   \n3             0             1                 0                 0  ...   \n4             0             1                 0                 0  ...   \n\n   MostValuableAsset_4  Apartment_1  Apartment_2  Apartment_3  Occupation_1  \\\n0                    0            0            1            0             0   \n1                    0            1            0            0             0   \n2                    0            1            0            0             0   \n3                    1            0            0            1             0   \n4                    0            0            1            0             0   \n\n   Occupation_2  Occupation_3  Occupation_4  ForeignWorker_1  ForeignWorker_2  \n0             0             1             0                1                0  \n1             1             0             0                1                0  \n2             0             1             0                1                0  \n3             0             0             1                1                0  \n4             0             0             1                1                0  \n\n[5 rows x 54 columns]",
      "text/html": "<div>\n<style scoped>\n    .dataframe tbody tr th:only-of-type {\n        vertical-align: middle;\n    }\n\n    .dataframe tbody tr th {\n        vertical-align: top;\n    }\n\n    .dataframe thead th {\n        text-align: right;\n    }\n</style>\n<table border=\"1\" class=\"dataframe\">\n  <thead>\n    <tr style=\"text-align: right;\">\n      <th></th>\n      <th>Duration</th>\n      <th>CreditAmount</th>\n      <th>Age</th>\n      <th>Employment_1</th>\n      <th>Employment_2</th>\n      <th>Employment_3</th>\n      <th>Employment_4</th>\n      <th>Employment_5</th>\n      <th>CurrentAddress_1</th>\n      <th>CurrentAddress_2</th>\n      <th>...</th>\n      <th>MostValuableAsset_4</th>\n      <th>Apartment_1</th>\n      <th>Apartment_2</th>\n      <th>Apartment_3</th>\n      <th>Occupation_1</th>\n      <th>Occupation_2</th>\n      <th>Occupation_3</th>\n      <th>Occupation_4</th>\n      <th>ForeignWorker_1</th>\n      <th>ForeignWorker_2</th>\n    </tr>\n  </thead>\n  <tbody>\n    <tr>\n      <th>0</th>\n      <td>24</td>\n      <td>1249</td>\n      <td>28</td>\n      <td>0</td>\n      <td>1</td>\n      <td>0</td>\n      <td>0</td>\n      <td>0</td>\n      <td>0</td>\n      <td>1</td>\n      <td>...</td>\n      <td>0</td>\n      <td>0</td>\n      <td>1</td>\n      <td>0</td>\n      <td>0</td>\n      <td>0</td>\n      <td>1</td>\n      <td>0</td>\n      <td>1</td>\n      <td>0</td>\n    </tr>\n    <tr>\n      <th>1</th>\n      <td>9</td>\n      <td>276</td>\n      <td>22</td>\n      <td>0</td>\n      <td>0</td>\n      <td>1</td>\n      <td>0</td>\n      <td>0</td>\n      <td>0</td>\n      <td>0</td>\n      <td>...</td>\n      <td>0</td>\n      <td>1</td>\n      <td>0</td>\n      <td>0</td>\n      <td>0</td>\n      <td>1</td>\n      <td>0</td>\n      <td>0</td>\n      <td>1</td>\n      <td>0</td>\n    </tr>\n    <tr>\n      <th>2</th>\n      <td>18</td>\n      <td>1049</td>\n      <td>21</td>\n      <td>0</td>\n      <td>1</td>\n      <td>0</td>\n      <td>0</td>\n      <td>0</td>\n      <td>0</td>\n      <td>0</td>\n      <td>...</td>\n      <td>0</td>\n      <td>1</td>\n      <td>0</td>\n      <td>0</td>\n      <td>0</td>\n      <td>0</td>\n      <td>1</td>\n      <td>0</td>\n      <td>1</td>\n      <td>0</td>\n    </tr>\n    <tr>\n      <th>3</th>\n      <td>24</td>\n      <td>6419</td>\n      <td>44</td>\n      <td>0</td>\n      <td>0</td>\n      <td>0</td>\n      <td>0</td>\n      <td>1</td>\n      <td>0</td>\n      <td>0</td>\n      <td>...</td>\n      <td>1</td>\n      <td>0</td>\n      <td>0</td>\n      <td>1</td>\n      <td>0</td>\n      <td>0</td>\n      <td>0</td>\n      <td>1</td>\n      <td>1</td>\n      <td>0</td>\n    </tr>\n    <tr>\n      <th>4</th>\n      <td>12</td>\n      <td>1424</td>\n      <td>55</td>\n      <td>0</td>\n      <td>0</td>\n      <td>0</td>\n      <td>0</td>\n      <td>1</td>\n      <td>0</td>\n      <td>0</td>\n      <td>...</td>\n      <td>0</td>\n      <td>0</td>\n      <td>1</td>\n      <td>0</td>\n      <td>0</td>\n      <td>0</td>\n      <td>0</td>\n      <td>1</td>\n      <td>1</td>\n      <td>0</td>\n    </tr>\n  </tbody>\n</table>\n<p>5 rows × 54 columns</p>\n</div>"
     },
     "execution_count": 8,
     "metadata": {},
     "output_type": "execute_result"
    }
   ]
  },
  {
   "cell_type": "markdown",
   "source": [
    "### 3) train : validation 분할"
   ],
   "metadata": {
    "id": "8v3UyL572Ypi",
    "pycharm": {
     "name": "#%% md\n"
    }
   }
  },
  {
   "cell_type": "code",
   "metadata": {
    "id": "HGhXkvBTmfUO",
    "pycharm": {
     "name": "#%%\n"
    }
   },
   "source": [
    "from sklearn.model_selection import train_test_split"
   ],
   "execution_count": 9,
   "outputs": []
  },
  {
   "cell_type": "code",
   "metadata": {
    "id": "eqAnzAbDikcr",
    "pycharm": {
     "name": "#%%\n"
    }
   },
   "source": [
    "x_train, x_val, y_train, y_val = train_test_split(x, y, test_size = .2, random_state = 2022)"
   ],
   "execution_count": 10,
   "outputs": []
  },
  {
   "cell_type": "code",
   "source": [
    "y_val.value_counts()"
   ],
   "metadata": {
    "id": "PmgwulV7iIgo",
    "pycharm": {
     "name": "#%%\n"
    }
   },
   "execution_count": 11,
   "outputs": [
    {
     "data": {
      "text/plain": "1    140\n0     60\nName: Creditability, dtype: int64"
     },
     "execution_count": 11,
     "metadata": {},
     "output_type": "execute_result"
    }
   ]
  },
  {
   "cell_type": "markdown",
   "metadata": {
    "id": "LAzxx0nkh1LX",
    "pycharm": {
     "name": "#%% md\n"
    }
   },
   "source": [
    "## 3.모델링\n",
    "* 종합실습1에서 성능이 가장 좋았던 모델을 다시 생성합시다.\n",
    "* SVM은 SHAP value를 구하는 시간이 많이 소요되므로 지양해 주세요."
   ]
  },
  {
   "cell_type": "code",
   "source": [
    "model1 = RandomForestClassifier().fit(x_train, y_train)"
   ],
   "metadata": {
    "id": "bwWpU01J99sD",
    "pycharm": {
     "name": "#%%\n"
    }
   },
   "execution_count": 12,
   "outputs": []
  },
  {
   "cell_type": "code",
   "source": [
    "explainer = shap.TreeExplainer(model1)"
   ],
   "metadata": {
    "id": "zCfPuu8sxQ9Q",
    "pycharm": {
     "name": "#%%\n"
    }
   },
   "execution_count": 14,
   "outputs": []
  },
  {
   "cell_type": "code",
   "source": [
    "shap_values1 = explainer.shap_values(x)"
   ],
   "metadata": {
    "id": "VhXmUOomVAnI",
    "pycharm": {
     "name": "#%%\n"
    }
   },
   "execution_count": 81,
   "outputs": []
  },
  {
   "cell_type": "code",
   "execution_count": 82,
   "outputs": [
    {
     "data": {
      "text/plain": "array([0.2998125, 0.7001875])"
     },
     "execution_count": 82,
     "metadata": {},
     "output_type": "execute_result"
    }
   ],
   "source": [
    "explainer.expected_value"
   ],
   "metadata": {
    "collapsed": false,
    "pycharm": {
     "name": "#%%\n"
    }
   }
  },
  {
   "cell_type": "code",
   "execution_count": null,
   "outputs": [],
   "source": [],
   "metadata": {
    "collapsed": false,
    "pycharm": {
     "name": "#%%\n"
    }
   }
  },
  {
   "cell_type": "markdown",
   "metadata": {
    "id": "5InvHfEi7d4q",
    "pycharm": {
     "name": "#%% md\n"
    }
   },
   "source": [
    "## 4.개별 고객의 신용평가 예측 결과에 미치는 영향\n",
    "* 모델을 생성한 후, validation 데이터를 운영에서 발생된 데이터로 간주하고 분석해 봅시다. \n",
    "* 최근 신용 대출 신청자중 인덱스 932, 741, 917, 226, 180 고객을 대상으로, 예측결과에 영향을 준 변수에 대해 설명하시오.\n"
   ]
  },
  {
   "cell_type": "code",
   "source": [
    "indexes = [932, 741, 917, 226, 180]"
   ],
   "metadata": {
    "id": "AbX5WG6_7d4r",
    "pycharm": {
     "name": "#%%\n"
    }
   },
   "execution_count": 17,
   "outputs": []
  },
  {
   "cell_type": "code",
   "source": [
    "def display_shap_plot(idx):\n",
    "    shap.initjs()\n",
    "    shap.force_plot(explainer.expected_value[1], shap_values1[1][[idx], :], x.iloc[[idx], :])\n",
    "    plt.show()"
   ],
   "metadata": {
    "id": "bD8CLpHV611N",
    "pycharm": {
     "name": "#%%\n"
    }
   },
   "execution_count": 58,
   "outputs": []
  },
  {
   "cell_type": "code",
   "execution_count": 83,
   "outputs": [],
   "source": [
    "index = 932"
   ],
   "metadata": {
    "collapsed": false,
    "pycharm": {
     "name": "#%%\n"
    }
   }
  },
  {
   "cell_type": "code",
   "execution_count": 84,
   "outputs": [
    {
     "data": {
      "text/plain": "     Duration  CreditAmount  Age  Employment_1  Employment_2  Employment_3  \\\n932        24          8648   27             0             1             0   \n\n     Employment_4  Employment_5  CurrentAddress_1  CurrentAddress_2  ...  \\\n932             0             0                 0                 1  ...   \n\n     MostValuableAsset_4  Apartment_1  Apartment_2  Apartment_3  Occupation_1  \\\n932                    0            0            1            0             0   \n\n     Occupation_2  Occupation_3  Occupation_4  ForeignWorker_1  \\\n932             0             1             0                1   \n\n     ForeignWorker_2  \n932                0  \n\n[1 rows x 54 columns]",
      "text/html": "<div>\n<style scoped>\n    .dataframe tbody tr th:only-of-type {\n        vertical-align: middle;\n    }\n\n    .dataframe tbody tr th {\n        vertical-align: top;\n    }\n\n    .dataframe thead th {\n        text-align: right;\n    }\n</style>\n<table border=\"1\" class=\"dataframe\">\n  <thead>\n    <tr style=\"text-align: right;\">\n      <th></th>\n      <th>Duration</th>\n      <th>CreditAmount</th>\n      <th>Age</th>\n      <th>Employment_1</th>\n      <th>Employment_2</th>\n      <th>Employment_3</th>\n      <th>Employment_4</th>\n      <th>Employment_5</th>\n      <th>CurrentAddress_1</th>\n      <th>CurrentAddress_2</th>\n      <th>...</th>\n      <th>MostValuableAsset_4</th>\n      <th>Apartment_1</th>\n      <th>Apartment_2</th>\n      <th>Apartment_3</th>\n      <th>Occupation_1</th>\n      <th>Occupation_2</th>\n      <th>Occupation_3</th>\n      <th>Occupation_4</th>\n      <th>ForeignWorker_1</th>\n      <th>ForeignWorker_2</th>\n    </tr>\n  </thead>\n  <tbody>\n    <tr>\n      <th>932</th>\n      <td>24</td>\n      <td>8648</td>\n      <td>27</td>\n      <td>0</td>\n      <td>1</td>\n      <td>0</td>\n      <td>0</td>\n      <td>0</td>\n      <td>0</td>\n      <td>1</td>\n      <td>...</td>\n      <td>0</td>\n      <td>0</td>\n      <td>1</td>\n      <td>0</td>\n      <td>0</td>\n      <td>0</td>\n      <td>1</td>\n      <td>0</td>\n      <td>1</td>\n      <td>0</td>\n    </tr>\n  </tbody>\n</table>\n<p>1 rows × 54 columns</p>\n</div>"
     },
     "metadata": {},
     "output_type": "display_data"
    },
    {
     "data": {
      "text/plain": "   Duration  CreditAmount       Age  Employment_1  Employment_2  Employment_3  \\\n0  0.009669     -0.074391 -0.014962      0.002244     -0.084785     -0.000168   \n\n   Employment_4  Employment_5  CurrentAddress_1  CurrentAddress_2  ...  \\\n0     -0.004662     -0.002612          0.001911         -0.003588  ...   \n\n   MostValuableAsset_4  Apartment_1  Apartment_2  Apartment_3  Occupation_1  \\\n0             0.002891     0.012287     0.012497     0.000743      0.000127   \n\n   Occupation_2  Occupation_3  Occupation_4  ForeignWorker_1  ForeignWorker_2  \n0       0.00254      0.010611      0.007731        -0.001104        -0.000509  \n\n[1 rows x 54 columns]",
      "text/html": "<div>\n<style scoped>\n    .dataframe tbody tr th:only-of-type {\n        vertical-align: middle;\n    }\n\n    .dataframe tbody tr th {\n        vertical-align: top;\n    }\n\n    .dataframe thead th {\n        text-align: right;\n    }\n</style>\n<table border=\"1\" class=\"dataframe\">\n  <thead>\n    <tr style=\"text-align: right;\">\n      <th></th>\n      <th>Duration</th>\n      <th>CreditAmount</th>\n      <th>Age</th>\n      <th>Employment_1</th>\n      <th>Employment_2</th>\n      <th>Employment_3</th>\n      <th>Employment_4</th>\n      <th>Employment_5</th>\n      <th>CurrentAddress_1</th>\n      <th>CurrentAddress_2</th>\n      <th>...</th>\n      <th>MostValuableAsset_4</th>\n      <th>Apartment_1</th>\n      <th>Apartment_2</th>\n      <th>Apartment_3</th>\n      <th>Occupation_1</th>\n      <th>Occupation_2</th>\n      <th>Occupation_3</th>\n      <th>Occupation_4</th>\n      <th>ForeignWorker_1</th>\n      <th>ForeignWorker_2</th>\n    </tr>\n  </thead>\n  <tbody>\n    <tr>\n      <th>0</th>\n      <td>0.009669</td>\n      <td>-0.074391</td>\n      <td>-0.014962</td>\n      <td>0.002244</td>\n      <td>-0.084785</td>\n      <td>-0.000168</td>\n      <td>-0.004662</td>\n      <td>-0.002612</td>\n      <td>0.001911</td>\n      <td>-0.003588</td>\n      <td>...</td>\n      <td>0.002891</td>\n      <td>0.012287</td>\n      <td>0.012497</td>\n      <td>0.000743</td>\n      <td>0.000127</td>\n      <td>0.00254</td>\n      <td>0.010611</td>\n      <td>0.007731</td>\n      <td>-0.001104</td>\n      <td>-0.000509</td>\n    </tr>\n  </tbody>\n</table>\n<p>1 rows × 54 columns</p>\n</div>"
     },
     "metadata": {},
     "output_type": "display_data"
    }
   ],
   "source": [
    "display(x.iloc[[index], :])\n",
    "display(pd.DataFrame(shap_values1[1][[indexes[0]], :], columns=x.columns))"
   ],
   "metadata": {
    "collapsed": false,
    "pycharm": {
     "name": "#%%\n"
    }
   }
  },
  {
   "cell_type": "code",
   "source": [
    "shap.force_plot(explainer.expected_value[1], shap_values1[1][[index], :], x.iloc[[index], :])"
   ],
   "metadata": {
    "id": "e5cFnLqM61yC",
    "pycharm": {
     "name": "#%%\n"
    }
   },
   "execution_count": 85,
   "outputs": [
    {
     "data": {
      "text/plain": "<shap.plots._force.AdditiveForceVisualizer at 0x1f573a941c0>",
      "text/html": "\n<div id='i1RRJEBQK4ZA8EQDX5MEU'>\n<div style='color: #900; text-align: center;'>\n  <b>Visualization omitted, Javascript library not loaded!</b><br>\n  Have you run `initjs()` in this notebook? If this notebook was from another\n  user you must also trust this notebook (File -> Trust notebook). If you are viewing\n  this notebook on github the Javascript has been stripped for security. If you are using\n  JupyterLab this error is because a JupyterLab extension has not yet been written.\n</div></div>\n <script>\n   if (window.SHAP) SHAP.ReactDom.render(\n    SHAP.React.createElement(SHAP.AdditiveForceVisualizer, {\"outNames\": [\"f(x)\"], \"baseValue\": 0.7001874999999999, \"outValue\": 0.6799999999999994, \"link\": \"identity\", \"featureNames\": [\"Duration\", \"CreditAmount\", \"Age\", \"Employment_1\", \"Employment_2\", \"Employment_3\", \"Employment_4\", \"Employment_5\", \"CurrentAddress_1\", \"CurrentAddress_2\", \"CurrentAddress_3\", \"CurrentAddress_4\", \"CreditCount_1\", \"CreditCount_2\", \"CreditCount_3\", \"CreditCount_4\", \"Dependents_1\", \"Dependents_2\", \"Telephone_1\", \"Telephone_2\", \"AccountBalance_1\", \"AccountBalance_2\", \"AccountBalance_3\", \"Payment_0\", \"Payment_1\", \"Payment_2\", \"Payment_3\", \"Purpose_0\", \"Purpose_1\", \"Purpose_2\", \"Purpose_3\", \"Purpose_4\", \"Purpose_5\", \"Purpose_6\", \"Purpose_8\", \"Purpose_9\", \"Purpose_10\", \"SexMarital_1\", \"SexMarital_2\", \"SexMarital_3\", \"SexMarital_4\", \"MostValuableAsset_1\", \"MostValuableAsset_2\", \"MostValuableAsset_3\", \"MostValuableAsset_4\", \"Apartment_1\", \"Apartment_2\", \"Apartment_3\", \"Occupation_1\", \"Occupation_2\", \"Occupation_3\", \"Occupation_4\", \"ForeignWorker_1\", \"ForeignWorker_2\"], \"features\": {\"0\": {\"effect\": 0.009668907503255927, \"value\": 24.0}, \"1\": {\"effect\": -0.07439085275679103, \"value\": 8648.0}, \"2\": {\"effect\": -0.014962361336763149, \"value\": 27.0}, \"3\": {\"effect\": 0.002244081031964397, \"value\": 0.0}, \"4\": {\"effect\": -0.08478501011280089, \"value\": 1.0}, \"5\": {\"effect\": -0.00016779492361985806, \"value\": 0.0}, \"6\": {\"effect\": -0.004662066899716156, \"value\": 0.0}, \"7\": {\"effect\": -0.0026118958533027864, \"value\": 0.0}, \"8\": {\"effect\": 0.0019105203508647628, \"value\": 0.0}, \"9\": {\"effect\": -0.0035879503334448255, \"value\": 1.0}, \"10\": {\"effect\": -0.0023167487780827267, \"value\": 0.0}, \"11\": {\"effect\": 0.00023419562686063992, \"value\": 0.0}, \"12\": {\"effect\": -0.006251837555372611, \"value\": 0.0}, \"13\": {\"effect\": -0.010334606748013654, \"value\": 1.0}, \"14\": {\"effect\": 0.0014444914638146432, \"value\": 0.0}, \"15\": {\"effect\": 0.0002806569301237304, \"value\": 0.0}, \"16\": {\"effect\": 9.14943103347659e-05, \"value\": 1.0}, \"17\": {\"effect\": -0.00012061469259979783, \"value\": 0.0}, \"18\": {\"effect\": -0.0016580191297240095, \"value\": 0.0}, \"19\": {\"effect\": 0.0029908735305570902, \"value\": 1.0}, \"20\": {\"effect\": 0.024979325939217343, \"value\": 0.0}, \"21\": {\"effect\": 0.006119490672404192, \"value\": 0.0}, \"22\": {\"effect\": 0.04890010770379206, \"value\": 1.0}, \"23\": {\"effect\": 0.00546221892897382, \"value\": 0.0}, \"24\": {\"effect\": 0.001725933155958656, \"value\": 0.0}, \"25\": {\"effect\": 0.002862508146066042, \"value\": 0.0}, \"26\": {\"effect\": 0.029514134570458594, \"value\": 1.0}, \"27\": {\"effect\": 0.009852576225835354, \"value\": 0.0}, \"28\": {\"effect\": -0.00708983866386008, \"value\": 0.0}, \"29\": {\"effect\": -0.0017744513630161291, \"value\": 0.0}, \"30\": {\"effect\": -0.001075948393303686, \"value\": 0.0}, \"31\": {\"effect\": 0.0001145448762929801, \"value\": 0.0}, \"32\": {\"effect\": 0.0010296406238517854, \"value\": 0.0}, \"33\": {\"effect\": 0.002412338845611055, \"value\": 0.0}, \"34\": {\"effect\": -9.870467870301064e-05, \"value\": 0.0}, \"35\": {\"effect\": -0.02328439175071972, \"value\": 1.0}, \"36\": {\"effect\": 0.00044448297569212546, \"value\": 0.0}, \"37\": {\"effect\": 0.0033916733140127086, \"value\": 0.0}, \"38\": {\"effect\": 0.004289032214357784, \"value\": 0.0}, \"39\": {\"effect\": 0.017798705432912277, \"value\": 1.0}, \"40\": {\"effect\": -0.00011740677783732438, \"value\": 0.0}, \"41\": {\"effect\": -0.008344985450400338, \"value\": 0.0}, \"42\": {\"effect\": 0.00018098396017276718, \"value\": 0.0}, \"43\": {\"effect\": 0.0016903936115508203, \"value\": 1.0}, \"44\": {\"effect\": 0.002891044672871456, \"value\": 0.0}, \"45\": {\"effect\": 0.012287335014754997, \"value\": 0.0}, \"46\": {\"effect\": 0.012496898170900161, \"value\": 1.0}, \"47\": {\"effect\": 0.000742671124833411, \"value\": 0.0}, \"48\": {\"effect\": 0.00012732567175822684, \"value\": 0.0}, \"49\": {\"effect\": 0.0025399333717268362, \"value\": 0.0}, \"50\": {\"effect\": 0.010610924440164886, \"value\": 1.0}, \"51\": {\"effect\": 0.007730988408828403, \"value\": 0.0}, \"52\": {\"effect\": -0.0011037630774793283, \"value\": 1.0}, \"53\": {\"effect\": -0.0005086835452240523, \"value\": 0.0}}, \"plot_cmap\": \"RdBu\", \"labelMargin\": 20}),\n    document.getElementById('i1RRJEBQK4ZA8EQDX5MEU')\n  );\n</script>"
     },
     "execution_count": 85,
     "metadata": {},
     "output_type": "execute_result"
    }
   ]
  },
  {
   "cell_type": "code",
   "execution_count": 86,
   "outputs": [],
   "source": [
    "index = 741"
   ],
   "metadata": {
    "collapsed": false,
    "pycharm": {
     "name": "#%%\n"
    }
   }
  },
  {
   "cell_type": "code",
   "execution_count": 87,
   "outputs": [
    {
     "data": {
      "text/plain": "     Duration  CreditAmount  Age  Employment_1  Employment_2  Employment_3  \\\n741        12           697   46             0             1             0   \n\n     Employment_4  Employment_5  CurrentAddress_1  CurrentAddress_2  ...  \\\n741             0             0                 0                 1  ...   \n\n     MostValuableAsset_4  Apartment_1  Apartment_2  Apartment_3  Occupation_1  \\\n741                    0            0            1            0             0   \n\n     Occupation_2  Occupation_3  Occupation_4  ForeignWorker_1  \\\n741             0             1             0                1   \n\n     ForeignWorker_2  \n741                0  \n\n[1 rows x 54 columns]",
      "text/html": "<div>\n<style scoped>\n    .dataframe tbody tr th:only-of-type {\n        vertical-align: middle;\n    }\n\n    .dataframe tbody tr th {\n        vertical-align: top;\n    }\n\n    .dataframe thead th {\n        text-align: right;\n    }\n</style>\n<table border=\"1\" class=\"dataframe\">\n  <thead>\n    <tr style=\"text-align: right;\">\n      <th></th>\n      <th>Duration</th>\n      <th>CreditAmount</th>\n      <th>Age</th>\n      <th>Employment_1</th>\n      <th>Employment_2</th>\n      <th>Employment_3</th>\n      <th>Employment_4</th>\n      <th>Employment_5</th>\n      <th>CurrentAddress_1</th>\n      <th>CurrentAddress_2</th>\n      <th>...</th>\n      <th>MostValuableAsset_4</th>\n      <th>Apartment_1</th>\n      <th>Apartment_2</th>\n      <th>Apartment_3</th>\n      <th>Occupation_1</th>\n      <th>Occupation_2</th>\n      <th>Occupation_3</th>\n      <th>Occupation_4</th>\n      <th>ForeignWorker_1</th>\n      <th>ForeignWorker_2</th>\n    </tr>\n  </thead>\n  <tbody>\n    <tr>\n      <th>741</th>\n      <td>12</td>\n      <td>697</td>\n      <td>46</td>\n      <td>0</td>\n      <td>1</td>\n      <td>0</td>\n      <td>0</td>\n      <td>0</td>\n      <td>0</td>\n      <td>1</td>\n      <td>...</td>\n      <td>0</td>\n      <td>0</td>\n      <td>1</td>\n      <td>0</td>\n      <td>0</td>\n      <td>0</td>\n      <td>1</td>\n      <td>0</td>\n      <td>1</td>\n      <td>0</td>\n    </tr>\n  </tbody>\n</table>\n<p>1 rows × 54 columns</p>\n</div>"
     },
     "metadata": {},
     "output_type": "display_data"
    },
    {
     "data": {
      "text/plain": "   Duration  CreditAmount       Age  Employment_1  Employment_2  Employment_3  \\\n0  0.009669     -0.074391 -0.014962      0.002244     -0.084785     -0.000168   \n\n   Employment_4  Employment_5  CurrentAddress_1  CurrentAddress_2  ...  \\\n0     -0.004662     -0.002612          0.001911         -0.003588  ...   \n\n   MostValuableAsset_4  Apartment_1  Apartment_2  Apartment_3  Occupation_1  \\\n0             0.002891     0.012287     0.012497     0.000743      0.000127   \n\n   Occupation_2  Occupation_3  Occupation_4  ForeignWorker_1  ForeignWorker_2  \n0       0.00254      0.010611      0.007731        -0.001104        -0.000509  \n\n[1 rows x 54 columns]",
      "text/html": "<div>\n<style scoped>\n    .dataframe tbody tr th:only-of-type {\n        vertical-align: middle;\n    }\n\n    .dataframe tbody tr th {\n        vertical-align: top;\n    }\n\n    .dataframe thead th {\n        text-align: right;\n    }\n</style>\n<table border=\"1\" class=\"dataframe\">\n  <thead>\n    <tr style=\"text-align: right;\">\n      <th></th>\n      <th>Duration</th>\n      <th>CreditAmount</th>\n      <th>Age</th>\n      <th>Employment_1</th>\n      <th>Employment_2</th>\n      <th>Employment_3</th>\n      <th>Employment_4</th>\n      <th>Employment_5</th>\n      <th>CurrentAddress_1</th>\n      <th>CurrentAddress_2</th>\n      <th>...</th>\n      <th>MostValuableAsset_4</th>\n      <th>Apartment_1</th>\n      <th>Apartment_2</th>\n      <th>Apartment_3</th>\n      <th>Occupation_1</th>\n      <th>Occupation_2</th>\n      <th>Occupation_3</th>\n      <th>Occupation_4</th>\n      <th>ForeignWorker_1</th>\n      <th>ForeignWorker_2</th>\n    </tr>\n  </thead>\n  <tbody>\n    <tr>\n      <th>0</th>\n      <td>0.009669</td>\n      <td>-0.074391</td>\n      <td>-0.014962</td>\n      <td>0.002244</td>\n      <td>-0.084785</td>\n      <td>-0.000168</td>\n      <td>-0.004662</td>\n      <td>-0.002612</td>\n      <td>0.001911</td>\n      <td>-0.003588</td>\n      <td>...</td>\n      <td>0.002891</td>\n      <td>0.012287</td>\n      <td>0.012497</td>\n      <td>0.000743</td>\n      <td>0.000127</td>\n      <td>0.00254</td>\n      <td>0.010611</td>\n      <td>0.007731</td>\n      <td>-0.001104</td>\n      <td>-0.000509</td>\n    </tr>\n  </tbody>\n</table>\n<p>1 rows × 54 columns</p>\n</div>"
     },
     "metadata": {},
     "output_type": "display_data"
    }
   ],
   "source": [
    "display(x.iloc[[index], :])\n",
    "display(pd.DataFrame(shap_values1[1][[indexes[0]], :], columns=x.columns))"
   ],
   "metadata": {
    "collapsed": false,
    "pycharm": {
     "name": "#%%\n"
    }
   }
  },
  {
   "cell_type": "code",
   "execution_count": 88,
   "outputs": [
    {
     "data": {
      "text/plain": "<shap.plots._force.AdditiveForceVisualizer at 0x1f573a94a60>",
      "text/html": "\n<div id='iH4DW86AB0T9JFMZADGLF'>\n<div style='color: #900; text-align: center;'>\n  <b>Visualization omitted, Javascript library not loaded!</b><br>\n  Have you run `initjs()` in this notebook? If this notebook was from another\n  user you must also trust this notebook (File -> Trust notebook). If you are viewing\n  this notebook on github the Javascript has been stripped for security. If you are using\n  JupyterLab this error is because a JupyterLab extension has not yet been written.\n</div></div>\n <script>\n   if (window.SHAP) SHAP.ReactDom.render(\n    SHAP.React.createElement(SHAP.AdditiveForceVisualizer, {\"outNames\": [\"f(x)\"], \"baseValue\": 0.7001874999999999, \"outValue\": 0.45000000000000057, \"link\": \"identity\", \"featureNames\": [\"Duration\", \"CreditAmount\", \"Age\", \"Employment_1\", \"Employment_2\", \"Employment_3\", \"Employment_4\", \"Employment_5\", \"CurrentAddress_1\", \"CurrentAddress_2\", \"CurrentAddress_3\", \"CurrentAddress_4\", \"CreditCount_1\", \"CreditCount_2\", \"CreditCount_3\", \"CreditCount_4\", \"Dependents_1\", \"Dependents_2\", \"Telephone_1\", \"Telephone_2\", \"AccountBalance_1\", \"AccountBalance_2\", \"AccountBalance_3\", \"Payment_0\", \"Payment_1\", \"Payment_2\", \"Payment_3\", \"Purpose_0\", \"Purpose_1\", \"Purpose_2\", \"Purpose_3\", \"Purpose_4\", \"Purpose_5\", \"Purpose_6\", \"Purpose_8\", \"Purpose_9\", \"Purpose_10\", \"SexMarital_1\", \"SexMarital_2\", \"SexMarital_3\", \"SexMarital_4\", \"MostValuableAsset_1\", \"MostValuableAsset_2\", \"MostValuableAsset_3\", \"MostValuableAsset_4\", \"Apartment_1\", \"Apartment_2\", \"Apartment_3\", \"Occupation_1\", \"Occupation_2\", \"Occupation_3\", \"Occupation_4\", \"ForeignWorker_1\", \"ForeignWorker_2\"], \"features\": {\"0\": {\"effect\": 0.017207412248829174, \"value\": 12.0}, \"1\": {\"effect\": -0.016623662531441766, \"value\": 697.0}, \"2\": {\"effect\": 0.03854318312129967, \"value\": 46.0}, \"3\": {\"effect\": 0.0008574656873887095, \"value\": 0.0}, \"4\": {\"effect\": -0.03820355734646682, \"value\": 1.0}, \"5\": {\"effect\": -0.0037498566307292204, \"value\": 0.0}, \"6\": {\"effect\": -0.0023947837098949893, \"value\": 0.0}, \"7\": {\"effect\": -0.011745582787241396, \"value\": 0.0}, \"8\": {\"effect\": -0.004615745430211547, \"value\": 0.0}, \"9\": {\"effect\": -0.010297848445653344, \"value\": 1.0}, \"10\": {\"effect\": 0.0013258318422465969, \"value\": 0.0}, \"11\": {\"effect\": -0.0031026536409360117, \"value\": 0.0}, \"12\": {\"effect\": 0.0025858528118716645, \"value\": 0.0}, \"13\": {\"effect\": -0.0054824297096358774, \"value\": 1.0}, \"14\": {\"effect\": -0.0001678892125574536, \"value\": 0.0}, \"15\": {\"effect\": 7.755304024375416e-05, \"value\": 0.0}, \"16\": {\"effect\": -0.0007165163258684852, \"value\": 1.0}, \"17\": {\"effect\": -0.0010711755881273762, \"value\": 0.0}, \"18\": {\"effect\": 0.02262160403016731, \"value\": 0.0}, \"19\": {\"effect\": 0.015404679776266748, \"value\": 1.0}, \"20\": {\"effect\": -0.07431544032547839, \"value\": 1.0}, \"21\": {\"effect\": -0.0005531580855248351, \"value\": 0.0}, \"22\": {\"effect\": -0.06624661029568915, \"value\": 0.0}, \"23\": {\"effect\": 0.006321472958687866, \"value\": 0.0}, \"24\": {\"effect\": -0.045776909775290815, \"value\": 1.0}, \"25\": {\"effect\": -0.011265869601324427, \"value\": 0.0}, \"26\": {\"effect\": -0.03745476274247053, \"value\": 0.0}, \"27\": {\"effect\": -0.040787368550159, \"value\": 1.0}, \"28\": {\"effect\": -0.00516981927280832, \"value\": 0.0}, \"29\": {\"effect\": -0.0034941156330778275, \"value\": 0.0}, \"30\": {\"effect\": -0.0027794784140487217, \"value\": 0.0}, \"31\": {\"effect\": 0.00032755646993703325, \"value\": 0.0}, \"32\": {\"effect\": 0.000740891821563244, \"value\": 0.0}, \"33\": {\"effect\": 0.0026670601289474354, \"value\": 0.0}, \"34\": {\"effect\": -0.00229928787553535, \"value\": 0.0}, \"35\": {\"effect\": -0.0018125673055736573, \"value\": 0.0}, \"36\": {\"effect\": 0.0001343761992752311, \"value\": 0.0}, \"37\": {\"effect\": 0.0003346122246423471, \"value\": 0.0}, \"38\": {\"effect\": 0.001858690060020469, \"value\": 0.0}, \"39\": {\"effect\": 0.010053564156103681, \"value\": 1.0}, \"40\": {\"effect\": -0.0007294346320834694, \"value\": 0.0}, \"41\": {\"effect\": -0.017442057107739262, \"value\": 0.0}, \"42\": {\"effect\": 0.0006584137836153147, \"value\": 0.0}, \"43\": {\"effect\": 0.002543704385899812, \"value\": 1.0}, \"44\": {\"effect\": 0.007735818650600499, \"value\": 0.0}, \"45\": {\"effect\": 0.01182438836544335, \"value\": 0.0}, \"46\": {\"effect\": 0.011896272260386425, \"value\": 1.0}, \"47\": {\"effect\": 0.0019012615343308996, \"value\": 0.0}, \"48\": {\"effect\": -0.0007864488016001065, \"value\": 0.0}, \"49\": {\"effect\": 0.00023492826768471437, \"value\": 0.0}, \"50\": {\"effect\": 0.002291574451030342, \"value\": 1.0}, \"51\": {\"effect\": 0.002118642222982473, \"value\": 0.0}, \"52\": {\"effect\": -0.0018374300458247057, \"value\": 1.0}, \"53\": {\"effect\": -0.0015318506764711586, \"value\": 0.0}}, \"plot_cmap\": \"RdBu\", \"labelMargin\": 20}),\n    document.getElementById('iH4DW86AB0T9JFMZADGLF')\n  );\n</script>"
     },
     "execution_count": 88,
     "metadata": {},
     "output_type": "execute_result"
    }
   ],
   "source": [
    "shap.force_plot(explainer.expected_value[1], shap_values1[1][[index], :], x.iloc[[index], :])"
   ],
   "metadata": {
    "collapsed": false,
    "pycharm": {
     "name": "#%%\n"
    }
   }
  },
  {
   "cell_type": "code",
   "execution_count": 89,
   "outputs": [],
   "source": [
    "index = 917"
   ],
   "metadata": {
    "collapsed": false,
    "pycharm": {
     "name": "#%%\n"
    }
   }
  },
  {
   "cell_type": "code",
   "execution_count": 90,
   "outputs": [
    {
     "data": {
      "text/plain": "     Duration  CreditAmount  Age  Employment_1  Employment_2  Employment_3  \\\n917        36         10477   42             0             0             0   \n\n     Employment_4  Employment_5  CurrentAddress_1  CurrentAddress_2  ...  \\\n917             0             1                 0                 0  ...   \n\n     MostValuableAsset_4  Apartment_1  Apartment_2  Apartment_3  Occupation_1  \\\n917                    1            0            0            1             0   \n\n     Occupation_2  Occupation_3  Occupation_4  ForeignWorker_1  \\\n917             0             1             0                1   \n\n     ForeignWorker_2  \n917                0  \n\n[1 rows x 54 columns]",
      "text/html": "<div>\n<style scoped>\n    .dataframe tbody tr th:only-of-type {\n        vertical-align: middle;\n    }\n\n    .dataframe tbody tr th {\n        vertical-align: top;\n    }\n\n    .dataframe thead th {\n        text-align: right;\n    }\n</style>\n<table border=\"1\" class=\"dataframe\">\n  <thead>\n    <tr style=\"text-align: right;\">\n      <th></th>\n      <th>Duration</th>\n      <th>CreditAmount</th>\n      <th>Age</th>\n      <th>Employment_1</th>\n      <th>Employment_2</th>\n      <th>Employment_3</th>\n      <th>Employment_4</th>\n      <th>Employment_5</th>\n      <th>CurrentAddress_1</th>\n      <th>CurrentAddress_2</th>\n      <th>...</th>\n      <th>MostValuableAsset_4</th>\n      <th>Apartment_1</th>\n      <th>Apartment_2</th>\n      <th>Apartment_3</th>\n      <th>Occupation_1</th>\n      <th>Occupation_2</th>\n      <th>Occupation_3</th>\n      <th>Occupation_4</th>\n      <th>ForeignWorker_1</th>\n      <th>ForeignWorker_2</th>\n    </tr>\n  </thead>\n  <tbody>\n    <tr>\n      <th>917</th>\n      <td>36</td>\n      <td>10477</td>\n      <td>42</td>\n      <td>0</td>\n      <td>0</td>\n      <td>0</td>\n      <td>0</td>\n      <td>1</td>\n      <td>0</td>\n      <td>0</td>\n      <td>...</td>\n      <td>1</td>\n      <td>0</td>\n      <td>0</td>\n      <td>1</td>\n      <td>0</td>\n      <td>0</td>\n      <td>1</td>\n      <td>0</td>\n      <td>1</td>\n      <td>0</td>\n    </tr>\n  </tbody>\n</table>\n<p>1 rows × 54 columns</p>\n</div>"
     },
     "metadata": {},
     "output_type": "display_data"
    },
    {
     "data": {
      "text/plain": "   Duration  CreditAmount       Age  Employment_1  Employment_2  Employment_3  \\\n0  0.009669     -0.074391 -0.014962      0.002244     -0.084785     -0.000168   \n\n   Employment_4  Employment_5  CurrentAddress_1  CurrentAddress_2  ...  \\\n0     -0.004662     -0.002612          0.001911         -0.003588  ...   \n\n   MostValuableAsset_4  Apartment_1  Apartment_2  Apartment_3  Occupation_1  \\\n0             0.002891     0.012287     0.012497     0.000743      0.000127   \n\n   Occupation_2  Occupation_3  Occupation_4  ForeignWorker_1  ForeignWorker_2  \n0       0.00254      0.010611      0.007731        -0.001104        -0.000509  \n\n[1 rows x 54 columns]",
      "text/html": "<div>\n<style scoped>\n    .dataframe tbody tr th:only-of-type {\n        vertical-align: middle;\n    }\n\n    .dataframe tbody tr th {\n        vertical-align: top;\n    }\n\n    .dataframe thead th {\n        text-align: right;\n    }\n</style>\n<table border=\"1\" class=\"dataframe\">\n  <thead>\n    <tr style=\"text-align: right;\">\n      <th></th>\n      <th>Duration</th>\n      <th>CreditAmount</th>\n      <th>Age</th>\n      <th>Employment_1</th>\n      <th>Employment_2</th>\n      <th>Employment_3</th>\n      <th>Employment_4</th>\n      <th>Employment_5</th>\n      <th>CurrentAddress_1</th>\n      <th>CurrentAddress_2</th>\n      <th>...</th>\n      <th>MostValuableAsset_4</th>\n      <th>Apartment_1</th>\n      <th>Apartment_2</th>\n      <th>Apartment_3</th>\n      <th>Occupation_1</th>\n      <th>Occupation_2</th>\n      <th>Occupation_3</th>\n      <th>Occupation_4</th>\n      <th>ForeignWorker_1</th>\n      <th>ForeignWorker_2</th>\n    </tr>\n  </thead>\n  <tbody>\n    <tr>\n      <th>0</th>\n      <td>0.009669</td>\n      <td>-0.074391</td>\n      <td>-0.014962</td>\n      <td>0.002244</td>\n      <td>-0.084785</td>\n      <td>-0.000168</td>\n      <td>-0.004662</td>\n      <td>-0.002612</td>\n      <td>0.001911</td>\n      <td>-0.003588</td>\n      <td>...</td>\n      <td>0.002891</td>\n      <td>0.012287</td>\n      <td>0.012497</td>\n      <td>0.000743</td>\n      <td>0.000127</td>\n      <td>0.00254</td>\n      <td>0.010611</td>\n      <td>0.007731</td>\n      <td>-0.001104</td>\n      <td>-0.000509</td>\n    </tr>\n  </tbody>\n</table>\n<p>1 rows × 54 columns</p>\n</div>"
     },
     "metadata": {},
     "output_type": "display_data"
    }
   ],
   "source": [
    "display(x.iloc[[index], :])\n",
    "display(pd.DataFrame(shap_values1[1][[indexes[0]], :], columns=x.columns))"
   ],
   "metadata": {
    "collapsed": false,
    "pycharm": {
     "name": "#%%\n"
    }
   }
  },
  {
   "cell_type": "code",
   "execution_count": 91,
   "outputs": [
    {
     "data": {
      "text/plain": "<shap.plots._force.AdditiveForceVisualizer at 0x1f573a94070>",
      "text/html": "\n<div id='iK6KTQWV0RVVG086JCZK7'>\n<div style='color: #900; text-align: center;'>\n  <b>Visualization omitted, Javascript library not loaded!</b><br>\n  Have you run `initjs()` in this notebook? If this notebook was from another\n  user you must also trust this notebook (File -> Trust notebook). If you are viewing\n  this notebook on github the Javascript has been stripped for security. If you are using\n  JupyterLab this error is because a JupyterLab extension has not yet been written.\n</div></div>\n <script>\n   if (window.SHAP) SHAP.ReactDom.render(\n    SHAP.React.createElement(SHAP.AdditiveForceVisualizer, {\"outNames\": [\"f(x)\"], \"baseValue\": 0.7001874999999999, \"outValue\": 0.71, \"link\": \"identity\", \"featureNames\": [\"Duration\", \"CreditAmount\", \"Age\", \"Employment_1\", \"Employment_2\", \"Employment_3\", \"Employment_4\", \"Employment_5\", \"CurrentAddress_1\", \"CurrentAddress_2\", \"CurrentAddress_3\", \"CurrentAddress_4\", \"CreditCount_1\", \"CreditCount_2\", \"CreditCount_3\", \"CreditCount_4\", \"Dependents_1\", \"Dependents_2\", \"Telephone_1\", \"Telephone_2\", \"AccountBalance_1\", \"AccountBalance_2\", \"AccountBalance_3\", \"Payment_0\", \"Payment_1\", \"Payment_2\", \"Payment_3\", \"Purpose_0\", \"Purpose_1\", \"Purpose_2\", \"Purpose_3\", \"Purpose_4\", \"Purpose_5\", \"Purpose_6\", \"Purpose_8\", \"Purpose_9\", \"Purpose_10\", \"SexMarital_1\", \"SexMarital_2\", \"SexMarital_3\", \"SexMarital_4\", \"MostValuableAsset_1\", \"MostValuableAsset_2\", \"MostValuableAsset_3\", \"MostValuableAsset_4\", \"Apartment_1\", \"Apartment_2\", \"Apartment_3\", \"Occupation_1\", \"Occupation_2\", \"Occupation_3\", \"Occupation_4\", \"ForeignWorker_1\", \"ForeignWorker_2\"], \"features\": {\"0\": {\"effect\": -0.04582849596445074, \"value\": 36.0}, \"1\": {\"effect\": -0.08961323988791262, \"value\": 10477.0}, \"2\": {\"effect\": 0.008301855029535954, \"value\": 42.0}, \"3\": {\"effect\": -0.0004763375241189614, \"value\": 0.0}, \"4\": {\"effect\": 0.007097550774353593, \"value\": 0.0}, \"5\": {\"effect\": 0.0005215261952029178, \"value\": 0.0}, \"6\": {\"effect\": -0.0046243191568979035, \"value\": 0.0}, \"7\": {\"effect\": 0.008507850707125857, \"value\": 1.0}, \"8\": {\"effect\": -0.0013272998629497985, \"value\": 0.0}, \"9\": {\"effect\": 0.0032952376602927154, \"value\": 0.0}, \"10\": {\"effect\": 0.001529626065443817, \"value\": 0.0}, \"11\": {\"effect\": -0.004760783365519736, \"value\": 1.0}, \"12\": {\"effect\": -0.008591613817118749, \"value\": 0.0}, \"13\": {\"effect\": -0.007206993243482893, \"value\": 1.0}, \"14\": {\"effect\": 0.00010214572347353471, \"value\": 0.0}, \"15\": {\"effect\": 0.0005885770243681415, \"value\": 0.0}, \"16\": {\"effect\": -0.0011458439227106827, \"value\": 1.0}, \"17\": {\"effect\": 0.0009402925908218681, \"value\": 0.0}, \"18\": {\"effect\": -0.002403307585344866, \"value\": 1.0}, \"19\": {\"effect\": -0.006378903414057133, \"value\": 0.0}, \"20\": {\"effect\": 0.0440382056657562, \"value\": 0.0}, \"21\": {\"effect\": 0.009423088937661453, \"value\": 0.0}, \"22\": {\"effect\": 0.08871202886177372, \"value\": 1.0}, \"23\": {\"effect\": 0.004540125931370889, \"value\": 0.0}, \"24\": {\"effect\": 0.002030488945291238, \"value\": 0.0}, \"25\": {\"effect\": 0.004711437613544027, \"value\": 0.0}, \"26\": {\"effect\": 0.028038308823757293, \"value\": 1.0}, \"27\": {\"effect\": 0.008747160939627704, \"value\": 0.0}, \"28\": {\"effect\": 0.02465276075139679, \"value\": 1.0}, \"29\": {\"effect\": -0.002384657605608029, \"value\": 0.0}, \"30\": {\"effect\": -0.005150710901908851, \"value\": 0.0}, \"31\": {\"effect\": 0.00013036521096168675, \"value\": 0.0}, \"32\": {\"effect\": 0.0029439377630650215, \"value\": 0.0}, \"33\": {\"effect\": 0.0032765224866308806, \"value\": 0.0}, \"34\": {\"effect\": -5.1704073852993137e-05, \"value\": 0.0}, \"35\": {\"effect\": 0.0030943320203594307, \"value\": 0.0}, \"36\": {\"effect\": 0.0001676700160008899, \"value\": 0.0}, \"37\": {\"effect\": 0.0022750088282971347, \"value\": 0.0}, \"38\": {\"effect\": 0.003563813869891634, \"value\": 0.0}, \"39\": {\"effect\": 0.0056724291865065364, \"value\": 1.0}, \"40\": {\"effect\": -0.0005920541583158756, \"value\": 0.0}, \"41\": {\"effect\": -0.00986908595617533, \"value\": 0.0}, \"42\": {\"effect\": -0.0020058343821150243, \"value\": 0.0}, \"43\": {\"effect\": -7.14811189884676e-05, \"value\": 0.0}, \"44\": {\"effect\": -0.03264485749259577, \"value\": 1.0}, \"45\": {\"effect\": 0.008167806669898393, \"value\": 0.0}, \"46\": {\"effect\": -0.03639438754836434, \"value\": 0.0}, \"47\": {\"effect\": -0.012213131953111495, \"value\": 1.0}, \"48\": {\"effect\": -0.0002963373379571938, \"value\": 0.0}, \"49\": {\"effect\": 0.001520937458034897, \"value\": 0.0}, \"50\": {\"effect\": 0.004300728223510473, \"value\": 1.0}, \"51\": {\"effect\": 0.0034767423664316278, \"value\": 0.0}, \"52\": {\"effect\": -0.0005749700310767423, \"value\": 1.0}, \"53\": {\"effect\": 5.0287964248034386e-05, \"value\": 0.0}}, \"plot_cmap\": \"RdBu\", \"labelMargin\": 20}),\n    document.getElementById('iK6KTQWV0RVVG086JCZK7')\n  );\n</script>"
     },
     "execution_count": 91,
     "metadata": {},
     "output_type": "execute_result"
    }
   ],
   "source": [
    "shap.force_plot(explainer.expected_value[1], shap_values1[1][[index], :], x.iloc[[index], :])"
   ],
   "metadata": {
    "collapsed": false,
    "pycharm": {
     "name": "#%%\n"
    }
   }
  },
  {
   "cell_type": "code",
   "execution_count": 92,
   "outputs": [],
   "source": [
    "index = 226"
   ],
   "metadata": {
    "collapsed": false,
    "pycharm": {
     "name": "#%%\n"
    }
   }
  },
  {
   "cell_type": "code",
   "execution_count": 93,
   "outputs": [
    {
     "data": {
      "text/plain": "     Duration  CreditAmount  Age  Employment_1  Employment_2  Employment_3  \\\n226         6           518   29             0             0             1   \n\n     Employment_4  Employment_5  CurrentAddress_1  CurrentAddress_2  ...  \\\n226             0             0                 1                 0  ...   \n\n     MostValuableAsset_4  Apartment_1  Apartment_2  Apartment_3  Occupation_1  \\\n226                    0            0            1            0             0   \n\n     Occupation_2  Occupation_3  Occupation_4  ForeignWorker_1  \\\n226             0             1             0                1   \n\n     ForeignWorker_2  \n226                0  \n\n[1 rows x 54 columns]",
      "text/html": "<div>\n<style scoped>\n    .dataframe tbody tr th:only-of-type {\n        vertical-align: middle;\n    }\n\n    .dataframe tbody tr th {\n        vertical-align: top;\n    }\n\n    .dataframe thead th {\n        text-align: right;\n    }\n</style>\n<table border=\"1\" class=\"dataframe\">\n  <thead>\n    <tr style=\"text-align: right;\">\n      <th></th>\n      <th>Duration</th>\n      <th>CreditAmount</th>\n      <th>Age</th>\n      <th>Employment_1</th>\n      <th>Employment_2</th>\n      <th>Employment_3</th>\n      <th>Employment_4</th>\n      <th>Employment_5</th>\n      <th>CurrentAddress_1</th>\n      <th>CurrentAddress_2</th>\n      <th>...</th>\n      <th>MostValuableAsset_4</th>\n      <th>Apartment_1</th>\n      <th>Apartment_2</th>\n      <th>Apartment_3</th>\n      <th>Occupation_1</th>\n      <th>Occupation_2</th>\n      <th>Occupation_3</th>\n      <th>Occupation_4</th>\n      <th>ForeignWorker_1</th>\n      <th>ForeignWorker_2</th>\n    </tr>\n  </thead>\n  <tbody>\n    <tr>\n      <th>226</th>\n      <td>6</td>\n      <td>518</td>\n      <td>29</td>\n      <td>0</td>\n      <td>0</td>\n      <td>1</td>\n      <td>0</td>\n      <td>0</td>\n      <td>1</td>\n      <td>0</td>\n      <td>...</td>\n      <td>0</td>\n      <td>0</td>\n      <td>1</td>\n      <td>0</td>\n      <td>0</td>\n      <td>0</td>\n      <td>1</td>\n      <td>0</td>\n      <td>1</td>\n      <td>0</td>\n    </tr>\n  </tbody>\n</table>\n<p>1 rows × 54 columns</p>\n</div>"
     },
     "metadata": {},
     "output_type": "display_data"
    },
    {
     "data": {
      "text/plain": "   Duration  CreditAmount       Age  Employment_1  Employment_2  Employment_3  \\\n0  0.009669     -0.074391 -0.014962      0.002244     -0.084785     -0.000168   \n\n   Employment_4  Employment_5  CurrentAddress_1  CurrentAddress_2  ...  \\\n0     -0.004662     -0.002612          0.001911         -0.003588  ...   \n\n   MostValuableAsset_4  Apartment_1  Apartment_2  Apartment_3  Occupation_1  \\\n0             0.002891     0.012287     0.012497     0.000743      0.000127   \n\n   Occupation_2  Occupation_3  Occupation_4  ForeignWorker_1  ForeignWorker_2  \n0       0.00254      0.010611      0.007731        -0.001104        -0.000509  \n\n[1 rows x 54 columns]",
      "text/html": "<div>\n<style scoped>\n    .dataframe tbody tr th:only-of-type {\n        vertical-align: middle;\n    }\n\n    .dataframe tbody tr th {\n        vertical-align: top;\n    }\n\n    .dataframe thead th {\n        text-align: right;\n    }\n</style>\n<table border=\"1\" class=\"dataframe\">\n  <thead>\n    <tr style=\"text-align: right;\">\n      <th></th>\n      <th>Duration</th>\n      <th>CreditAmount</th>\n      <th>Age</th>\n      <th>Employment_1</th>\n      <th>Employment_2</th>\n      <th>Employment_3</th>\n      <th>Employment_4</th>\n      <th>Employment_5</th>\n      <th>CurrentAddress_1</th>\n      <th>CurrentAddress_2</th>\n      <th>...</th>\n      <th>MostValuableAsset_4</th>\n      <th>Apartment_1</th>\n      <th>Apartment_2</th>\n      <th>Apartment_3</th>\n      <th>Occupation_1</th>\n      <th>Occupation_2</th>\n      <th>Occupation_3</th>\n      <th>Occupation_4</th>\n      <th>ForeignWorker_1</th>\n      <th>ForeignWorker_2</th>\n    </tr>\n  </thead>\n  <tbody>\n    <tr>\n      <th>0</th>\n      <td>0.009669</td>\n      <td>-0.074391</td>\n      <td>-0.014962</td>\n      <td>0.002244</td>\n      <td>-0.084785</td>\n      <td>-0.000168</td>\n      <td>-0.004662</td>\n      <td>-0.002612</td>\n      <td>0.001911</td>\n      <td>-0.003588</td>\n      <td>...</td>\n      <td>0.002891</td>\n      <td>0.012287</td>\n      <td>0.012497</td>\n      <td>0.000743</td>\n      <td>0.000127</td>\n      <td>0.00254</td>\n      <td>0.010611</td>\n      <td>0.007731</td>\n      <td>-0.001104</td>\n      <td>-0.000509</td>\n    </tr>\n  </tbody>\n</table>\n<p>1 rows × 54 columns</p>\n</div>"
     },
     "metadata": {},
     "output_type": "display_data"
    }
   ],
   "source": [
    "display(x.iloc[[index], :])\n",
    "display(pd.DataFrame(shap_values1[1][[indexes[0]], :], columns=x.columns))"
   ],
   "metadata": {
    "collapsed": false,
    "pycharm": {
     "name": "#%%\n"
    }
   }
  },
  {
   "cell_type": "code",
   "execution_count": 94,
   "outputs": [
    {
     "data": {
      "text/plain": "<shap.plots._force.AdditiveForceVisualizer at 0x1f573f744c0>",
      "text/html": "\n<div id='i1OIM3DWBJ9U7OAF62KQH'>\n<div style='color: #900; text-align: center;'>\n  <b>Visualization omitted, Javascript library not loaded!</b><br>\n  Have you run `initjs()` in this notebook? If this notebook was from another\n  user you must also trust this notebook (File -> Trust notebook). If you are viewing\n  this notebook on github the Javascript has been stripped for security. If you are using\n  JupyterLab this error is because a JupyterLab extension has not yet been written.\n</div></div>\n <script>\n   if (window.SHAP) SHAP.ReactDom.render(\n    SHAP.React.createElement(SHAP.AdditiveForceVisualizer, {\"outNames\": [\"f(x)\"], \"baseValue\": 0.7001874999999999, \"outValue\": 0.7999999999999993, \"link\": \"identity\", \"featureNames\": [\"Duration\", \"CreditAmount\", \"Age\", \"Employment_1\", \"Employment_2\", \"Employment_3\", \"Employment_4\", \"Employment_5\", \"CurrentAddress_1\", \"CurrentAddress_2\", \"CurrentAddress_3\", \"CurrentAddress_4\", \"CreditCount_1\", \"CreditCount_2\", \"CreditCount_3\", \"CreditCount_4\", \"Dependents_1\", \"Dependents_2\", \"Telephone_1\", \"Telephone_2\", \"AccountBalance_1\", \"AccountBalance_2\", \"AccountBalance_3\", \"Payment_0\", \"Payment_1\", \"Payment_2\", \"Payment_3\", \"Purpose_0\", \"Purpose_1\", \"Purpose_2\", \"Purpose_3\", \"Purpose_4\", \"Purpose_5\", \"Purpose_6\", \"Purpose_8\", \"Purpose_9\", \"Purpose_10\", \"SexMarital_1\", \"SexMarital_2\", \"SexMarital_3\", \"SexMarital_4\", \"MostValuableAsset_1\", \"MostValuableAsset_2\", \"MostValuableAsset_3\", \"MostValuableAsset_4\", \"Apartment_1\", \"Apartment_2\", \"Apartment_3\", \"Occupation_1\", \"Occupation_2\", \"Occupation_3\", \"Occupation_4\", \"ForeignWorker_1\", \"ForeignWorker_2\"], \"features\": {\"0\": {\"effect\": 0.039262252369725935, \"value\": 6.0}, \"1\": {\"effect\": -0.05184459911709909, \"value\": 518.0}, \"2\": {\"effect\": -0.007351135426707053, \"value\": 29.0}, \"3\": {\"effect\": 0.0019144017464725598, \"value\": 0.0}, \"4\": {\"effect\": 0.00882758690774112, \"value\": 0.0}, \"5\": {\"effect\": -0.005511812649421307, \"value\": 1.0}, \"6\": {\"effect\": -0.00416627745161103, \"value\": 0.0}, \"7\": {\"effect\": -0.0032303415515604374, \"value\": 0.0}, \"8\": {\"effect\": 0.004602872769353995, \"value\": 1.0}, \"9\": {\"effect\": 0.006131074097871819, \"value\": 0.0}, \"10\": {\"effect\": 0.005007909726840653, \"value\": 0.0}, \"11\": {\"effect\": 0.0012810210234891607, \"value\": 0.0}, \"12\": {\"effect\": 0.0028225776032590314, \"value\": 1.0}, \"13\": {\"effect\": 0.0021084077916231673, \"value\": 0.0}, \"14\": {\"effect\": 0.0009058069836229574, \"value\": 0.0}, \"15\": {\"effect\": 9.747260402259944e-05, \"value\": 0.0}, \"16\": {\"effect\": -0.001425312178207778, \"value\": 1.0}, \"17\": {\"effect\": 0.0009044249597462759, \"value\": 0.0}, \"18\": {\"effect\": -0.00786128741301892, \"value\": 1.0}, \"19\": {\"effect\": -0.007570234003409265, \"value\": 0.0}, \"20\": {\"effect\": 0.02967888483142173, \"value\": 0.0}, \"21\": {\"effect\": 0.0016322660610828, \"value\": 0.0}, \"22\": {\"effect\": 0.06218378922191704, \"value\": 1.0}, \"23\": {\"effect\": 0.005241204508776049, \"value\": 0.0}, \"24\": {\"effect\": 0.0025279057134483624, \"value\": 0.0}, \"25\": {\"effect\": -0.004636922929672056, \"value\": 1.0}, \"26\": {\"effect\": -0.025267891300973115, \"value\": 0.0}, \"27\": {\"effect\": 0.006626427729970974, \"value\": 0.0}, \"28\": {\"effect\": -0.0029450185233693116, \"value\": 0.0}, \"29\": {\"effect\": 0.0013115360914816188, \"value\": 0.0}, \"30\": {\"effect\": 0.020525956476131813, \"value\": 1.0}, \"31\": {\"effect\": -0.00036989293614301145, \"value\": 0.0}, \"32\": {\"effect\": 0.0012686164431016294, \"value\": 0.0}, \"33\": {\"effect\": 0.0042578726127830285, \"value\": 0.0}, \"34\": {\"effect\": -0.0001489631701918565, \"value\": 0.0}, \"35\": {\"effect\": -4.094395780337683e-05, \"value\": 0.0}, \"36\": {\"effect\": 0.00021968349758884987, \"value\": 0.0}, \"37\": {\"effect\": 0.0014337147447961256, \"value\": 0.0}, \"38\": {\"effect\": -0.02743809521253483, \"value\": 1.0}, \"39\": {\"effect\": -0.011654939938128859, \"value\": 0.0}, \"40\": {\"effect\": -0.0020257839572550575, \"value\": 0.0}, \"41\": {\"effect\": 0.012983251796722991, \"value\": 1.0}, \"42\": {\"effect\": 0.005521295281467884, \"value\": 0.0}, \"43\": {\"effect\": -0.002908946922042104, \"value\": 0.0}, \"44\": {\"effect\": 0.0036306833043797332, \"value\": 0.0}, \"45\": {\"effect\": 0.0038749975372147217, \"value\": 0.0}, \"46\": {\"effect\": 0.0049281627318954165, \"value\": 1.0}, \"47\": {\"effect\": 0.000729367623412985, \"value\": 0.0}, \"48\": {\"effect\": 0.0005996764569405405, \"value\": 0.0}, \"49\": {\"effect\": 0.00924492725954657, \"value\": 0.0}, \"50\": {\"effect\": 0.015540190287821604, \"value\": 1.0}, \"51\": {\"effect\": 0.0012939990614857628, \"value\": 0.0}, \"52\": {\"effect\": -0.0021722221874929, \"value\": 1.0}, \"53\": {\"effect\": -0.0007370970305167463, \"value\": 0.0}}, \"plot_cmap\": \"RdBu\", \"labelMargin\": 20}),\n    document.getElementById('i1OIM3DWBJ9U7OAF62KQH')\n  );\n</script>"
     },
     "execution_count": 94,
     "metadata": {},
     "output_type": "execute_result"
    }
   ],
   "source": [
    "shap.force_plot(explainer.expected_value[1], shap_values1[1][[index], :], x.iloc[[index], :])"
   ],
   "metadata": {
    "collapsed": false,
    "pycharm": {
     "name": "#%%\n"
    }
   }
  },
  {
   "cell_type": "code",
   "execution_count": 95,
   "outputs": [],
   "source": [
    "index = 180"
   ],
   "metadata": {
    "collapsed": false,
    "pycharm": {
     "name": "#%%\n"
    }
   }
  },
  {
   "cell_type": "code",
   "execution_count": 96,
   "outputs": [
    {
     "data": {
      "text/plain": "     Duration  CreditAmount  Age  Employment_1  Employment_2  Employment_3  \\\n180        18          2389   27             0             1             0   \n\n     Employment_4  Employment_5  CurrentAddress_1  CurrentAddress_2  ...  \\\n180             0             0                 1                 0  ...   \n\n     MostValuableAsset_4  Apartment_1  Apartment_2  Apartment_3  Occupation_1  \\\n180                    0            0            1            0             0   \n\n     Occupation_2  Occupation_3  Occupation_4  ForeignWorker_1  \\\n180             0             1             0                1   \n\n     ForeignWorker_2  \n180                0  \n\n[1 rows x 54 columns]",
      "text/html": "<div>\n<style scoped>\n    .dataframe tbody tr th:only-of-type {\n        vertical-align: middle;\n    }\n\n    .dataframe tbody tr th {\n        vertical-align: top;\n    }\n\n    .dataframe thead th {\n        text-align: right;\n    }\n</style>\n<table border=\"1\" class=\"dataframe\">\n  <thead>\n    <tr style=\"text-align: right;\">\n      <th></th>\n      <th>Duration</th>\n      <th>CreditAmount</th>\n      <th>Age</th>\n      <th>Employment_1</th>\n      <th>Employment_2</th>\n      <th>Employment_3</th>\n      <th>Employment_4</th>\n      <th>Employment_5</th>\n      <th>CurrentAddress_1</th>\n      <th>CurrentAddress_2</th>\n      <th>...</th>\n      <th>MostValuableAsset_4</th>\n      <th>Apartment_1</th>\n      <th>Apartment_2</th>\n      <th>Apartment_3</th>\n      <th>Occupation_1</th>\n      <th>Occupation_2</th>\n      <th>Occupation_3</th>\n      <th>Occupation_4</th>\n      <th>ForeignWorker_1</th>\n      <th>ForeignWorker_2</th>\n    </tr>\n  </thead>\n  <tbody>\n    <tr>\n      <th>180</th>\n      <td>18</td>\n      <td>2389</td>\n      <td>27</td>\n      <td>0</td>\n      <td>1</td>\n      <td>0</td>\n      <td>0</td>\n      <td>0</td>\n      <td>1</td>\n      <td>0</td>\n      <td>...</td>\n      <td>0</td>\n      <td>0</td>\n      <td>1</td>\n      <td>0</td>\n      <td>0</td>\n      <td>0</td>\n      <td>1</td>\n      <td>0</td>\n      <td>1</td>\n      <td>0</td>\n    </tr>\n  </tbody>\n</table>\n<p>1 rows × 54 columns</p>\n</div>"
     },
     "metadata": {},
     "output_type": "display_data"
    },
    {
     "data": {
      "text/plain": "   Duration  CreditAmount       Age  Employment_1  Employment_2  Employment_3  \\\n0  0.009669     -0.074391 -0.014962      0.002244     -0.084785     -0.000168   \n\n   Employment_4  Employment_5  CurrentAddress_1  CurrentAddress_2  ...  \\\n0     -0.004662     -0.002612          0.001911         -0.003588  ...   \n\n   MostValuableAsset_4  Apartment_1  Apartment_2  Apartment_3  Occupation_1  \\\n0             0.002891     0.012287     0.012497     0.000743      0.000127   \n\n   Occupation_2  Occupation_3  Occupation_4  ForeignWorker_1  ForeignWorker_2  \n0       0.00254      0.010611      0.007731        -0.001104        -0.000509  \n\n[1 rows x 54 columns]",
      "text/html": "<div>\n<style scoped>\n    .dataframe tbody tr th:only-of-type {\n        vertical-align: middle;\n    }\n\n    .dataframe tbody tr th {\n        vertical-align: top;\n    }\n\n    .dataframe thead th {\n        text-align: right;\n    }\n</style>\n<table border=\"1\" class=\"dataframe\">\n  <thead>\n    <tr style=\"text-align: right;\">\n      <th></th>\n      <th>Duration</th>\n      <th>CreditAmount</th>\n      <th>Age</th>\n      <th>Employment_1</th>\n      <th>Employment_2</th>\n      <th>Employment_3</th>\n      <th>Employment_4</th>\n      <th>Employment_5</th>\n      <th>CurrentAddress_1</th>\n      <th>CurrentAddress_2</th>\n      <th>...</th>\n      <th>MostValuableAsset_4</th>\n      <th>Apartment_1</th>\n      <th>Apartment_2</th>\n      <th>Apartment_3</th>\n      <th>Occupation_1</th>\n      <th>Occupation_2</th>\n      <th>Occupation_3</th>\n      <th>Occupation_4</th>\n      <th>ForeignWorker_1</th>\n      <th>ForeignWorker_2</th>\n    </tr>\n  </thead>\n  <tbody>\n    <tr>\n      <th>0</th>\n      <td>0.009669</td>\n      <td>-0.074391</td>\n      <td>-0.014962</td>\n      <td>0.002244</td>\n      <td>-0.084785</td>\n      <td>-0.000168</td>\n      <td>-0.004662</td>\n      <td>-0.002612</td>\n      <td>0.001911</td>\n      <td>-0.003588</td>\n      <td>...</td>\n      <td>0.002891</td>\n      <td>0.012287</td>\n      <td>0.012497</td>\n      <td>0.000743</td>\n      <td>0.000127</td>\n      <td>0.00254</td>\n      <td>0.010611</td>\n      <td>0.007731</td>\n      <td>-0.001104</td>\n      <td>-0.000509</td>\n    </tr>\n  </tbody>\n</table>\n<p>1 rows × 54 columns</p>\n</div>"
     },
     "metadata": {},
     "output_type": "display_data"
    }
   ],
   "source": [
    "display(x.iloc[[index], :])\n",
    "display(pd.DataFrame(shap_values1[1][[indexes[0]], :], columns=x.columns))"
   ],
   "metadata": {
    "collapsed": false,
    "pycharm": {
     "name": "#%%\n"
    }
   }
  },
  {
   "cell_type": "code",
   "execution_count": 97,
   "outputs": [
    {
     "data": {
      "text/plain": "<shap.plots._force.AdditiveForceVisualizer at 0x1f573a94730>",
      "text/html": "\n<div id='i6XN5IC5J5KU0SJEPHMJS'>\n<div style='color: #900; text-align: center;'>\n  <b>Visualization omitted, Javascript library not loaded!</b><br>\n  Have you run `initjs()` in this notebook? If this notebook was from another\n  user you must also trust this notebook (File -> Trust notebook). If you are viewing\n  this notebook on github the Javascript has been stripped for security. If you are using\n  JupyterLab this error is because a JupyterLab extension has not yet been written.\n</div></div>\n <script>\n   if (window.SHAP) SHAP.ReactDom.render(\n    SHAP.React.createElement(SHAP.AdditiveForceVisualizer, {\"outNames\": [\"f(x)\"], \"baseValue\": 0.7001874999999999, \"outValue\": 0.5599999999999989, \"link\": \"identity\", \"featureNames\": [\"Duration\", \"CreditAmount\", \"Age\", \"Employment_1\", \"Employment_2\", \"Employment_3\", \"Employment_4\", \"Employment_5\", \"CurrentAddress_1\", \"CurrentAddress_2\", \"CurrentAddress_3\", \"CurrentAddress_4\", \"CreditCount_1\", \"CreditCount_2\", \"CreditCount_3\", \"CreditCount_4\", \"Dependents_1\", \"Dependents_2\", \"Telephone_1\", \"Telephone_2\", \"AccountBalance_1\", \"AccountBalance_2\", \"AccountBalance_3\", \"Payment_0\", \"Payment_1\", \"Payment_2\", \"Payment_3\", \"Purpose_0\", \"Purpose_1\", \"Purpose_2\", \"Purpose_3\", \"Purpose_4\", \"Purpose_5\", \"Purpose_6\", \"Purpose_8\", \"Purpose_9\", \"Purpose_10\", \"SexMarital_1\", \"SexMarital_2\", \"SexMarital_3\", \"SexMarital_4\", \"MostValuableAsset_1\", \"MostValuableAsset_2\", \"MostValuableAsset_3\", \"MostValuableAsset_4\", \"Apartment_1\", \"Apartment_2\", \"Apartment_3\", \"Occupation_1\", \"Occupation_2\", \"Occupation_3\", \"Occupation_4\", \"ForeignWorker_1\", \"ForeignWorker_2\"], \"features\": {\"0\": {\"effect\": -0.0038201608564644362, \"value\": 18.0}, \"1\": {\"effect\": 0.02690535285559645, \"value\": 2389.0}, \"2\": {\"effect\": 0.008519833842883245, \"value\": 27.0}, \"3\": {\"effect\": 0.003134491644892285, \"value\": 0.0}, \"4\": {\"effect\": -0.05195817060601178, \"value\": 1.0}, \"5\": {\"effect\": 0.004111661794585192, \"value\": 0.0}, \"6\": {\"effect\": -0.00928568767143246, \"value\": 0.0}, \"7\": {\"effect\": -0.007084702621612473, \"value\": 0.0}, \"8\": {\"effect\": 0.037577768317014086, \"value\": 1.0}, \"9\": {\"effect\": 0.011869222232426509, \"value\": 0.0}, \"10\": {\"effect\": 0.003741015003649277, \"value\": 0.0}, \"11\": {\"effect\": -0.005271875254914243, \"value\": 0.0}, \"12\": {\"effect\": 0.0015392708801250509, \"value\": 1.0}, \"13\": {\"effect\": 0.002209424314947877, \"value\": 0.0}, \"14\": {\"effect\": 0.0001975790753642486, \"value\": 0.0}, \"15\": {\"effect\": 6.0439796751038215e-05, \"value\": 0.0}, \"16\": {\"effect\": 0.00042855948243927805, \"value\": 1.0}, \"17\": {\"effect\": 0.0014093998332226664, \"value\": 0.0}, \"18\": {\"effect\": -0.002896455757604825, \"value\": 1.0}, \"19\": {\"effect\": -0.0036542108151046623, \"value\": 0.0}, \"20\": {\"effect\": -0.09368547886280179, \"value\": 1.0}, \"21\": {\"effect\": -0.012383187279809815, \"value\": 0.0}, \"22\": {\"effect\": -0.08469814019538, \"value\": 0.0}, \"23\": {\"effect\": 0.006147861061783389, \"value\": 0.0}, \"24\": {\"effect\": 0.004217893430323325, \"value\": 0.0}, \"25\": {\"effect\": -0.002077367026575541, \"value\": 1.0}, \"26\": {\"effect\": -0.026613407776425388, \"value\": 0.0}, \"27\": {\"effect\": 0.020028911421480375, \"value\": 0.0}, \"28\": {\"effect\": -0.005590254315695101, \"value\": 0.0}, \"29\": {\"effect\": -0.0005344710380171918, \"value\": 0.0}, \"30\": {\"effect\": 0.021285275792257377, \"value\": 1.0}, \"31\": {\"effect\": 0.00032613322952453565, \"value\": 0.0}, \"32\": {\"effect\": 0.00098534045270721, \"value\": 0.0}, \"33\": {\"effect\": 0.0031189298921130886, \"value\": 0.0}, \"34\": {\"effect\": 2.045626224646482e-05, \"value\": 0.0}, \"35\": {\"effect\": -0.0010239587072598867, \"value\": 0.0}, \"36\": {\"effect\": 9.231311575097735e-05, \"value\": 0.0}, \"37\": {\"effect\": 0.0018800162102965302, \"value\": 0.0}, \"38\": {\"effect\": -0.005970272923345771, \"value\": 1.0}, \"39\": {\"effect\": -0.01511097118616916, \"value\": 0.0}, \"40\": {\"effect\": 0.0016514979944467821, \"value\": 0.0}, \"41\": {\"effect\": 0.00164470696232405, \"value\": 0.0}, \"42\": {\"effect\": 0.006802531583174488, \"value\": 0.0}, \"43\": {\"effect\": 0.0008660615735050957, \"value\": 1.0}, \"44\": {\"effect\": 0.006382678677408571, \"value\": 0.0}, \"45\": {\"effect\": 0.009198088760447873, \"value\": 0.0}, \"46\": {\"effect\": 0.008976529841104024, \"value\": 1.0}, \"47\": {\"effect\": 0.001632692335154367, \"value\": 0.0}, \"48\": {\"effect\": 0.0013621561191098786, \"value\": 0.0}, \"49\": {\"effect\": -0.00104228988657335, \"value\": 0.0}, \"50\": {\"effect\": -0.0012752957407250083, \"value\": 1.0}, \"51\": {\"effect\": -0.00016047887188101512, \"value\": 0.0}, \"52\": {\"effect\": -0.002458036935409219, \"value\": 1.0}, \"53\": {\"effect\": -0.0019167194598434043, \"value\": 0.0}}, \"plot_cmap\": \"RdBu\", \"labelMargin\": 20}),\n    document.getElementById('i6XN5IC5J5KU0SJEPHMJS')\n  );\n</script>"
     },
     "execution_count": 97,
     "metadata": {},
     "output_type": "execute_result"
    }
   ],
   "source": [
    "shap.force_plot(explainer.expected_value[1], shap_values1[1][[index], :], x.iloc[[index], :])"
   ],
   "metadata": {
    "collapsed": false,
    "pycharm": {
     "name": "#%%\n"
    }
   }
  },
  {
   "cell_type": "code",
   "source": [],
   "metadata": {
    "id": "T01wABPl61rv",
    "pycharm": {
     "name": "#%%\n"
    }
   },
   "execution_count": 97,
   "outputs": []
  },
  {
   "cell_type": "code",
   "execution_count": 101,
   "outputs": [],
   "source": [
    "def plot_feature_importance(importance, names, topn='all'):\n",
    "    feature_importance = np.array(importance)\n",
    "    feature_names = np.array(names)\n",
    "\n",
    "    data = {'feature_names': feature_names, 'feature_importance': feature_importance}\n",
    "    fi_temp = pd.DataFrame(data)\n",
    "\n",
    "    fi_temp.sort_values(by=['feature_importance'], ascending=False, inplace=True)\n",
    "    fi_temp.reset_index(drop=True, inplace=True)\n",
    "\n",
    "    if topn == 'all':\n",
    "        fi_df = fi_temp.copy()\n",
    "    else:\n",
    "        fi_df = fi_temp.iloc[:topn]\n",
    "\n",
    "    plt.figure(figsize=(10, 8))\n",
    "    sns.barplot(x='feature_importance', y='feature_names', data=fi_df)\n",
    "\n",
    "    plt.xlabel('importance')\n",
    "    plt.ylabel('feature names')\n",
    "    plt.grid()\n",
    "\n",
    "    return fi_df"
   ],
   "metadata": {
    "collapsed": false,
    "pycharm": {
     "name": "#%%\n"
    }
   }
  },
  {
   "cell_type": "markdown",
   "metadata": {
    "id": "lwKH2GP386tY",
    "pycharm": {
     "name": "#%% md\n"
    }
   },
   "source": [
    "## 5.추가 분석\n",
    "* 모델의 전체 중요도와 유사도로 정렬한 후 force_plot 결과와 비교해 봅시다."
   ]
  },
  {
   "cell_type": "code",
   "execution_count": 111,
   "outputs": [
    {
     "data": {
      "text/plain": "<Figure size 720x576 with 1 Axes>",
      "image/png": "[encoded data removed]"
     },
     "metadata": {
      "needs_background": "light"
     },
     "output_type": "display_data"
    }
   ],
   "source": [
    "result1 = plot_feature_importance(model1.feature_importances_, x.columns)"
   ],
   "metadata": {
    "collapsed": false,
    "pycharm": {
     "name": "#%%\n"
    }
   }
  },
  {
   "cell_type": "code",
   "source": [
    "x_temp = x.sample(200)\n",
    "sv_temp = shap_values1[1][x_temp.index]"
   ],
   "metadata": {
    "id": "v_DTHGIqoFUx",
    "pycharm": {
     "name": "#%%\n"
    }
   },
   "execution_count": 98,
   "outputs": []
  },
  {
   "cell_type": "code",
   "source": [
    "sv_temp[:].sum()"
   ],
   "metadata": {
    "id": "mJqNshSA86tZ",
    "pycharm": {
     "name": "#%%\n"
    }
   },
   "execution_count": 113,
   "outputs": [
    {
     "data": {
      "text/plain": "4.752500000000006"
     },
     "execution_count": 113,
     "metadata": {},
     "output_type": "execute_result"
    }
   ]
  },
  {
   "cell_type": "markdown",
   "source": [
    "* 예측값(Output value)으로 정렬한 그래프를 보며, 신용도 높은 사람과 낮은 사람의 전반적인 특징이 어떻게 달라지는지 확인해 봅시다."
   ],
   "metadata": {
    "id": "XqnXYqMwM1KW",
    "pycharm": {
     "name": "#%% md\n"
    }
   }
  },
  {
   "cell_type": "code",
   "source": [],
   "metadata": {
    "id": "HFotuEal86tZ",
    "pycharm": {
     "name": "#%%\n"
    }
   },
   "execution_count": null,
   "outputs": []
  },
  {
   "cell_type": "markdown",
   "source": [
    "* 두 feature의 조합과 shap value 간의 관계 그래프 dependence_plot을 그려보고 관계를 설명해 봅시다.\n",
    "(최소 조합 2개 이상)"
   ],
   "metadata": {
    "id": "MGt9W_ghNELD",
    "pycharm": {
     "name": "#%% md\n"
    }
   }
  },
  {
   "cell_type": "code",
   "source": [],
   "metadata": {
    "id": "7nf6uEC_7d4r",
    "pycharm": {
     "name": "#%%\n"
    }
   },
   "execution_count": null,
   "outputs": []
  },
  {
   "cell_type": "code",
   "source": [],
   "metadata": {
    "id": "UXPIFDKh7d4r",
    "pycharm": {
     "name": "#%%\n"
    }
   },
   "execution_count": null,
   "outputs": []
  },
  {
   "cell_type": "code",
   "source": [],
   "metadata": {
    "id": "Rsmsr1lB66Zw",
    "pycharm": {
     "name": "#%%\n"
    }
   },
   "execution_count": null,
   "outputs": []
  },
  {
   "cell_type": "code",
   "source": [],
   "metadata": {
    "id": "3qxPFpG366Vs",
    "pycharm": {
     "name": "#%%\n"
    }
   },
   "execution_count": null,
   "outputs": []
  }
 ]
}