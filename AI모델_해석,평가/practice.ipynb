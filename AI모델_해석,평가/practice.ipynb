{
 "cells": [
  {
   "cell_type": "code",
   "execution_count": null,
   "metadata": {
    "collapsed": true,
    "pycharm": {
     "name": "#%%\n"
    }
   },
   "outputs": [],
   "source": []
  },
  {
   "cell_type": "code",
   "execution_count": null,
   "outputs": [],
   "source": [
    "\n",
    "params = {'max_depth': range(1, 7), 'learning_rate': np.linspace(0.01, 0.4, 200), 'n_estimators': range(50, 151, 20)}\n",
    "model = GridSearchCV(XGBClassifier(tree_method='gpu_hist', gpu_id=0), param_grid=params, cv=5).fit(x_train, y_train)\n",
    "\n",
    "df = pd.DataFrame(model.cv_results_)\n",
    "\n",
    "sns.lineplot(x='param_max_depth', y='mean_test_score', data=df)\n",
    "plt.show()"
   ],
   "metadata": {
    "collapsed": false,
    "pycharm": {
     "name": "#%%\n"
    }
   }
  }
 ],
 "metadata": {
  "kernelspec": {
   "display_name": "Python 3",
   "language": "python",
   "name": "python3"
  },
  "language_info": {
   "codemirror_mode": {
    "name": "ipython",
    "version": 2
   },
   "file_extension": ".py",
   "mimetype": "text/x-python",
   "name": "python",
   "nbconvert_exporter": "python",
   "pygments_lexer": "ipython2",
   "version": "2.7.6"
  }
 },
 "nbformat": 4,
 "nbformat_minor": 0
}